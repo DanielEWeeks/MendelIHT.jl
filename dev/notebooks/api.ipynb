{
 "cells": [
  {
   "cell_type": "markdown",
   "metadata": {
    "collapsed": true
   },
   "source": [
    "# API"
   ]
  },
  {
   "cell_type": "markdown",
   "metadata": {},
   "source": [
    "## Wrapper Functions\n",
    "\n",
    "Most users will use the following wrapper functions. The user only has to specify where the PLINK files (and possibly the phenotype/covariate files) are located. These functions will soon be updated to support VCF and BGEN formats.\n",
    "\n",
    "```@docs\n",
    "  iht\n",
    "  cross_validate\n",
    "```"
   ]
  },
  {
   "cell_type": "markdown",
   "metadata": {},
   "source": [
    "## Core Functions\n",
    "\n",
    "For advanced users, one can also run IHT regression or cross-validation directly. \n",
    "\n",
    "```@docs\n",
    "  fit_iht\n",
    "  cv_iht\n",
    "```"
   ]
  },
  {
   "cell_type": "markdown",
   "metadata": {},
   "source": [
    "## Specifying Groups and Weights\n",
    "\n",
    "When you have group and weight information, you input them as optional arguments in `fit_iht` and `cv_iht`. The weight vector is a vector of `Float64`, while the group vector is a vector of `Int`. For instance,\n",
    "\n",
    "```Julia\n",
    "    g = #import group vector\n",
    "    w = #import weight vector\n",
    "    ng = length(unique(g)) # specify number of non-zero groups\n",
    "    result = fit_iht(y, x, z; J=ng, k=10, d=Normal(), l=IdentityLink(), group=g, weight=w)\n",
    "```"
   ]
  },
  {
   "cell_type": "markdown",
   "metadata": {},
   "source": [
    "## Simulation Utilities\n",
    "\n",
    "For complex simulations, please use [TraitSimulation.jl](https://github.com/OpenMendel/TraitSimulation.jl). \n",
    "\n",
    "MendelIHT provides very naive simulation utilities, which were written before [TraitSimulation.jl](https://github.com/OpenMendel/TraitSimulation.jl) was developed.\n",
    "\n",
    "```@docs\n",
    "  simulate_random_snparray\n",
    "  simulate_correlated_snparray\n",
    "```\n",
    "\n",
    "!!! note\n",
    "    Simulating a SnpArray with $n$ subjects and $p$ SNPs requires up to $2np$ bits of RAM. \n",
    "\n",
    "```@docs\n",
    "  simulate_random_response\n",
    "```\n",
    "\n",
    "!!! note\n",
    "    For negative binomial and gamma, the link function must be LogLink. \n",
    "\n",
    "```@docs\n",
    "  make_bim_fam_files\n",
    "```"
   ]
  },
  {
   "cell_type": "markdown",
   "metadata": {},
   "source": [
    "## Other Useful Functions\n",
    "\n",
    "MendelIHT additionally provides useful utilities that may be of interest to a few advanced users. \n",
    "\n",
    "```@docs\n",
    "  iht_run_many_models\n",
    "  pve\n",
    "```"
   ]
  }
 ],
 "metadata": {
  "@webio": {
   "lastCommId": null,
   "lastKernelId": null
  },
  "kernelspec": {
   "display_name": "Julia 1.5.0",
   "language": "julia",
   "name": "julia-1.5"
  },
  "language_info": {
   "file_extension": ".jl",
   "mimetype": "application/julia",
   "name": "julia",
   "version": "1.5.0"
  }
 },
 "nbformat": 4,
 "nbformat_minor": 2
}
