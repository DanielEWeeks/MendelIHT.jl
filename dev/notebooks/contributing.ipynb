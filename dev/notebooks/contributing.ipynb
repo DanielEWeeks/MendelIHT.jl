{
 "cells": [
  {
   "cell_type": "markdown",
   "metadata": {},
   "source": [
    "# Contributing\n",
    "\n",
    "Please star our [github page](https://github.com/OpenMendel/MendelIHT.jl), that would be very helpful.\n",
    "\n",
    "If you would like to contribute to this project, we compiled a list of [desired features for this project](https://github.com/OpenMendel/MendelIHT.jl/issues/6). Developers of any level is welcomed. Do not be shy because it can't hurt to ask. \n",
    "\n",
    "## Bug Fixes & User Support\n",
    "\n",
    "If you encounter a bug or you need some user support, please [open a new issue here](https://github.com/OpenMendel/MendelIHT.jl/issues). If you can, provide the error message and, ideally, a reproducible code that generated the error.\n",
    "\n",
    "## Citation\n",
    "\n",
    "If you use `MendelIHT.jl` in an academic manuscript, please cite:\n",
    "\n",
    "```\n",
    "@article{mendeliht,\n",
    "  title={{Iterative hard thresholding in genome-wide association studies: Generalized linear models, prior weights, and double sparsity}},\n",
    "  author={Chu, Benjamin B and Keys, Kevin L and German, Christopher A and Zhou, Hua and Zhou, Jin J and Sobel, Eric M and Sinsheimer, Janet S and Lange, Kenneth},\n",
    "  journal={GigaScience},\n",
    "  volume={9},\n",
    "  number={6},\n",
    "  pages={giaa044},\n",
    "  year={2020},\n",
    "  publisher={Oxford University Press}\n",
    "}\n",
    "```"
   ]
  }
 ],
 "metadata": {
  "@webio": {
   "lastCommId": null,
   "lastKernelId": null
  },
  "kernelspec": {
   "display_name": "Julia 1.5.0",
   "language": "julia",
   "name": "julia-1.5"
  },
  "language_info": {
   "file_extension": ".jl",
   "mimetype": "application/julia",
   "name": "julia",
   "version": "1.5.0"
  }
 },
 "nbformat": 4,
 "nbformat_minor": 2
}
