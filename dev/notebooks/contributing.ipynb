{
 "cells": [
  {
   "cell_type": "markdown",
   "metadata": {},
   "source": [
    "# Contributing\n",
    "\n",
    "I am one developer. We are a community. \n",
    "\n",
    "If you would like to contribute to this project, we compiled a list of [desired features for this project](https://github.com/biona001/MendelIHT.jl/issues/6). Developers of any level is welcomed. Do not be shy because it can't hurt to ask.\n",
    "\n",
    "## Bug Fixes & User Support\n",
    "\n",
    "If you encounter a bug or you need some user support, please [open a new issue here](https://github.com/biona001/MendelIHT.jl/issues). If you can, provide the error message and, ideally, a reproducible code that generated the error."
   ]
  }
 ],
 "metadata": {
  "kernelspec": {
   "display_name": "Julia 1.0.3",
   "language": "julia",
   "name": "julia-1.0"
  },
  "language_info": {
   "file_extension": ".jl",
   "mimetype": "application/julia",
   "name": "julia",
   "version": "1.0.3"
  }
 },
 "nbformat": 4,
 "nbformat_minor": 2
}
