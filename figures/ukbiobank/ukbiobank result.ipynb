{
 "cells": [
  {
   "cell_type": "code",
   "execution_count": 1,
   "metadata": {
    "collapsed": false
   },
   "outputs": [
    {
     "name": "stdout",
     "output_type": "stream",
     "text": [
      "Julia Version 1.3.1\n",
      "Commit 2d5741174c (2019-12-30 21:36 UTC)\n",
      "Platform Info:\n",
      "  OS: macOS (x86_64-apple-darwin18.6.0)\n",
      "  CPU: Intel(R) Core(TM) i9-9880H CPU @ 2.30GHz\n",
      "  WORD_SIZE: 64\n",
      "  LIBM: libopenlibm\n",
      "  LLVM: libLLVM-6.0.1 (ORCJIT, skylake)\n"
     ]
    }
   ],
   "source": [
    "versioninfo()"
   ]
  },
  {
   "cell_type": "markdown",
   "metadata": {},
   "source": [
    "# Systolic blood pressure as normal model"
   ]
  },
  {
   "cell_type": "code",
   "execution_count": 1,
   "metadata": {
    "collapsed": false
   },
   "outputs": [],
   "source": [
    "using DelimitedFiles\n",
    "using DataFrames\n",
    "using SnpArrays\n",
    "using Statistics\n",
    "using CSV\n",
    "using MendelPlots"
   ]
  },
  {
   "cell_type": "code",
   "execution_count": 12,
   "metadata": {
    "collapsed": false
   },
   "outputs": [],
   "source": [
    "b = readdlm(\"sbp_model_12_beta_100iter\");"
   ]
  },
  {
   "cell_type": "code",
   "execution_count": 8,
   "metadata": {
    "collapsed": false
   },
   "outputs": [
    {
     "data": {
      "text/plain": [
       "6-element Array{CartesianIndex{2},1}:\n",
       " CartesianIndex(2511, 1)  \n",
       " CartesianIndex(118568, 1)\n",
       " CartesianIndex(272187, 1)\n",
       " CartesianIndex(328030, 1)\n",
       " CartesianIndex(407795, 1)\n",
       " CartesianIndex(431724, 1)"
      ]
     },
     "execution_count": 8,
     "metadata": {},
     "output_type": "execute_result"
    }
   ],
   "source": [
    "findall(!iszero, b) # SNP position in .bim file"
   ]
  },
  {
   "cell_type": "code",
   "execution_count": 6,
   "metadata": {
    "collapsed": false
   },
   "outputs": [
    {
     "data": {
      "text/plain": [
       "6-element Array{Float64,1}:\n",
       "  0.430369589178061  \n",
       " -0.3915190862315371 \n",
       "  0.358894859504808  \n",
       "  0.32844523278890914\n",
       " -0.3301761855250657 \n",
       "  0.3252279762883079 "
      ]
     },
     "execution_count": 6,
     "metadata": {},
     "output_type": "execute_result"
    }
   ],
   "source": [
    "b[findall(!iszero, b)] # estimated effect sizes"
   ]
  },
  {
   "cell_type": "code",
   "execution_count": 13,
   "metadata": {
    "collapsed": false
   },
   "outputs": [
    {
     "data": {
      "text/plain": [
       "16×1 Array{Float64,2}:\n",
       " 2751.7440346723583  \n",
       "   70.15711479660848 \n",
       "    0.0              \n",
       "  137.53898733036402 \n",
       "  137.79189955973646 \n",
       "   84.72010433986819 \n",
       "    0.0              \n",
       "    0.0              \n",
       "    0.0              \n",
       "    0.0              \n",
       "    8.458565633074889\n",
       "    0.0              \n",
       "    0.0              \n",
       "    0.0              \n",
       "    0.0              \n",
       "    0.0              "
      ]
     },
     "execution_count": 13,
     "metadata": {},
     "output_type": "execute_result"
    }
   ],
   "source": [
    "c = readdlm(\"sbp_model_12_c_100iter\") #non genetic covariates"
   ]
  },
  {
   "cell_type": "markdown",
   "metadata": {},
   "source": [
    "# Stage 2 hypertension as logistic model"
   ]
  },
  {
   "cell_type": "code",
   "execution_count": 16,
   "metadata": {
    "collapsed": true
   },
   "outputs": [],
   "source": [
    "b = readdlm(\"logistic_model_39_beta_500iter\");"
   ]
  },
  {
   "cell_type": "code",
   "execution_count": 17,
   "metadata": {
    "collapsed": false
   },
   "outputs": [
    {
     "data": {
      "text/plain": [
       "16×1 Array{Float64,2}:\n",
       " -0.27998509744996564 \n",
       "  0.24113489780826114 \n",
       "  0.0                 \n",
       "  0.2763075731842723  \n",
       "  0.24675671677714228 \n",
       "  0.37847286824149645 \n",
       "  0.0                 \n",
       "  0.0                 \n",
       "  0.0                 \n",
       "  0.0                 \n",
       "  0.023322530679080293\n",
       "  0.0                 \n",
       "  0.0                 \n",
       "  0.0                 \n",
       "  0.0                 \n",
       "  0.0                 "
      ]
     },
     "execution_count": 17,
     "metadata": {},
     "output_type": "execute_result"
    }
   ],
   "source": [
    "c = readdlm(\"logistic_model_39_c_500iter\")"
   ]
  },
  {
   "cell_type": "code",
   "execution_count": 21,
   "metadata": {
    "collapsed": false
   },
   "outputs": [
    {
     "data": {
      "text/plain": [
       "15-element Array{CartesianIndex{2},1}:\n",
       " CartesianIndex(2511, 1)  \n",
       " CartesianIndex(61869, 1) \n",
       " CartesianIndex(61875, 1) \n",
       " CartesianIndex(118568, 1)\n",
       " CartesianIndex(121597, 1)\n",
       " CartesianIndex(141359, 1)\n",
       " CartesianIndex(141363, 1)\n",
       " CartesianIndex(154054, 1)\n",
       " CartesianIndex(158835, 1)\n",
       " CartesianIndex(174020, 1)\n",
       " CartesianIndex(213620, 1)\n",
       " CartesianIndex(226036, 1)\n",
       " CartesianIndex(272187, 1)\n",
       " CartesianIndex(278049, 1)\n",
       " CartesianIndex(283495, 1)"
      ]
     },
     "execution_count": 21,
     "metadata": {},
     "output_type": "execute_result"
    }
   ],
   "source": [
    "findall(!iszero, b)[1:15] # SNP position in .bim file"
   ]
  },
  {
   "cell_type": "code",
   "execution_count": 22,
   "metadata": {
    "collapsed": false
   },
   "outputs": [
    {
     "data": {
      "text/plain": [
       "18-element Array{CartesianIndex{2},1}:\n",
       " CartesianIndex(284789, 1)\n",
       " CartesianIndex(293862, 1)\n",
       " CartesianIndex(295170, 1)\n",
       " CartesianIndex(300040, 1)\n",
       " CartesianIndex(300090, 1)\n",
       " CartesianIndex(307452, 1)\n",
       " CartesianIndex(328030, 1)\n",
       " CartesianIndex(331695, 1)\n",
       " CartesianIndex(353730, 1)\n",
       " CartesianIndex(377003, 1)\n",
       " CartesianIndex(379862, 1)\n",
       " CartesianIndex(379863, 1)\n",
       " CartesianIndex(381732, 1)\n",
       " CartesianIndex(407795, 1)\n",
       " CartesianIndex(424575, 1)\n",
       " CartesianIndex(431724, 1)\n",
       " CartesianIndex(432835, 1)\n",
       " CartesianIndex(453563, 1)"
      ]
     },
     "execution_count": 22,
     "metadata": {},
     "output_type": "execute_result"
    }
   ],
   "source": [
    "findall(!iszero, b)[16:end] # SNP position in .bim file"
   ]
  },
  {
   "cell_type": "code",
   "execution_count": 23,
   "metadata": {
    "collapsed": false
   },
   "outputs": [
    {
     "data": {
      "text/plain": [
       "15-element Array{Float64,1}:\n",
       "  0.04645497463264396 \n",
       "  0.019797519063123055\n",
       "  0.021912320581498782\n",
       " -0.04808269947664778 \n",
       "  0.030151444904165388\n",
       "  0.04663568812608648 \n",
       "  0.029442679535946814\n",
       "  0.02769223778580454 \n",
       " -0.027493151488107104\n",
       " -0.02869178258606142 \n",
       " -0.03866882142006946 \n",
       " -0.03056223670827392 \n",
       "  0.03911000623054243 \n",
       "  0.027941833938835824\n",
       "  0.03599772305782185 "
      ]
     },
     "execution_count": 23,
     "metadata": {},
     "output_type": "execute_result"
    }
   ],
   "source": [
    "b[findall(!iszero, b)][1:15] # estimated effect sizes"
   ]
  },
  {
   "cell_type": "code",
   "execution_count": 24,
   "metadata": {
    "collapsed": false
   },
   "outputs": [
    {
     "data": {
      "text/plain": [
       "18-element Array{Float64,1}:\n",
       "  0.03870234586118328 \n",
       " -0.028568969598374336\n",
       " -0.025477506110263438\n",
       "  0.026189643624273617\n",
       " -0.035344298559485274\n",
       "  0.04295342107189346 \n",
       "  0.030100751507338236\n",
       "  0.029525702932560856\n",
       " -0.02683239226642645 \n",
       " -0.026297999283077498\n",
       " -0.02101733033591335 \n",
       "  0.021033828988575327\n",
       " -0.027462024631856714\n",
       " -0.042989544464641816\n",
       " -0.026463805048220695\n",
       "  0.03508373546950311 \n",
       "  0.03600049932412481 \n",
       " -0.02975510797575641 "
      ]
     },
     "execution_count": 24,
     "metadata": {},
     "output_type": "execute_result"
    }
   ],
   "source": [
    "b[findall(!iszero, b)][16:end] # estimated effect sizes"
   ]
  },
  {
   "cell_type": "markdown",
   "metadata": {},
   "source": [
    "## Check correlation between SNPs"
   ]
  },
  {
   "cell_type": "code",
   "execution_count": 4,
   "metadata": {
    "collapsed": false
   },
   "outputs": [
    {
     "data": {
      "text/plain": [
       "185565×470228 SnpArray:\n",
       " 0x02  0x02  0x03  0x03  0x03  0x03  …  0x03  0x03  0x03  0x03  0x03  0x03\n",
       " 0x03  0x03  0x03  0x03  0x03  0x03     0x00  0x03  0x03  0x03  0x03  0x03\n",
       " 0x03  0x03  0x03  0x02  0x03  0x03     0x03  0x03  0x03  0x03  0x03  0x03\n",
       " 0x03  0x03  0x03  0x03  0x03  0x03     0x02  0x03  0x03  0x03  0x03  0x03\n",
       " 0x03  0x03  0x03  0x03  0x03  0x03     0x03  0x03  0x03  0x03  0x03  0x02\n",
       " 0x02  0x02  0x03  0x03  0x03  0x03  …  0x03  0x03  0x03  0x03  0x03  0x03\n",
       " 0x03  0x03  0x03  0x00  0x03  0x03     0x03  0x03  0x03  0x03  0x03  0x03\n",
       " 0x03  0x03  0x03  0x03  0x02  0x03     0x03  0x03  0x03  0x03  0x03  0x03\n",
       " 0x03  0x03  0x03  0x03  0x03  0x03     0x03  0x03  0x03  0x03  0x03  0x03\n",
       " 0x03  0x03  0x03  0x03  0x03  0x03     0x03  0x03  0x03  0x03  0x03  0x03\n",
       " 0x02  0x03  0x02  0x03  0x03  0x02  …  0x03  0x03  0x03  0x03  0x03  0x02\n",
       " 0x03  0x03  0x03  0x02  0x03  0x03     0x03  0x03  0x03  0x03  0x02  0x03\n",
       " 0x03  0x03  0x03  0x03  0x03  0x03     0x03  0x03  0x03  0x03  0x03  0x03\n",
       "    ⋮                             ⋮  ⋱                       ⋮            \n",
       " 0x02  0x03  0x02  0x03  0x03  0x02     0x02  0x03  0x03  0x03  0x02  0x03\n",
       " 0x03  0x03  0x03  0x03  0x03  0x03     0x03  0x03  0x03  0x03  0x03  0x02\n",
       " 0x03  0x02  0x02  0x03  0x03  0x02  …  0x03  0x03  0x03  0x03  0x03  0x03\n",
       " 0x03  0x03  0x03  0x03  0x03  0x03     0x03  0x03  0x03  0x03  0x03  0x03\n",
       " 0x02  0x03  0x02  0x03  0x03  0x02     0x03  0x03  0x03  0x03  0x03  0x03\n",
       " 0x03  0x03  0x03  0x03  0x03  0x03     0x02  0x03  0x03  0x03  0x03  0x02\n",
       " 0x03  0x03  0x03  0x03  0x03  0x03     0x03  0x03  0x03  0x03  0x03  0x02\n",
       " 0x02  0x02  0x03  0x03  0x03  0x03  …  0x03  0x03  0x03  0x03  0x03  0x03\n",
       " 0x03  0x03  0x03  0x03  0x03  0x03     0x03  0x03  0x03  0x03  0x03  0x03\n",
       " 0x02  0x03  0x02  0x03  0x03  0x02     0x03  0x03  0x03  0x03  0x03  0x03\n",
       " 0x02  0x03  0x02  0x02  0x03  0x03     0x03  0x03  0x03  0x03  0x02  0x03\n",
       " 0x03  0x03  0x03  0x03  0x03  0x03     0x03  0x03  0x03  0x03  0x03  0x03"
      ]
     },
     "execution_count": 4,
     "metadata": {},
     "output_type": "execute_result"
    }
   ],
   "source": [
    "x = SnpArray(\"/Users/biona001/Benjamin_Folder/UCLA/research/UKBdatafiles/ukb.plink.filtered.imputed.bed\")"
   ]
  },
  {
   "cell_type": "code",
   "execution_count": 18,
   "metadata": {
    "collapsed": false
   },
   "outputs": [
    {
     "data": {
      "text/plain": [
       "185565-element Array{Float64,1}:\n",
       " 1.0\n",
       " 2.0\n",
       " 0.0\n",
       " 1.0\n",
       " 1.0\n",
       " 1.0\n",
       " 1.0\n",
       " 1.0\n",
       " 1.0\n",
       " 1.0\n",
       " 1.0\n",
       " 1.0\n",
       " 2.0\n",
       " ⋮  \n",
       " 1.0\n",
       " 2.0\n",
       " 2.0\n",
       " 0.0\n",
       " 2.0\n",
       " 2.0\n",
       " 2.0\n",
       " 0.0\n",
       " 2.0\n",
       " 2.0\n",
       " 1.0\n",
       " 1.0"
      ]
     },
     "execution_count": 18,
     "metadata": {},
     "output_type": "execute_result"
    }
   ],
   "source": [
    "snp1 = convert(Vector{Float64}, @view(x[:, 61869]))\n",
    "snp2 = convert(Vector{Float64}, @view(x[:, 61875]))\n",
    "snp3 = convert(Vector{Float64}, @view(x[:, 379862]))\n",
    "snp4 = convert(Vector{Float64}, @view(x[:, 379863]))"
   ]
  },
  {
   "cell_type": "code",
   "execution_count": 19,
   "metadata": {
    "collapsed": false
   },
   "outputs": [
    {
     "name": "stdout",
     "output_type": "stream",
     "text": [
      "cor(snp1, snp2) = 0.5865145979590505\n",
      "cor(snp3, snp4) = -0.48978957537298295\n"
     ]
    },
    {
     "data": {
      "text/plain": [
       "-0.48978957537298295"
      ]
     },
     "execution_count": 19,
     "metadata": {},
     "output_type": "execute_result"
    }
   ],
   "source": [
    "@show cor(snp1, snp2)\n",
    "@show cor(snp3, snp4)"
   ]
  },
  {
   "cell_type": "markdown",
   "metadata": {},
   "source": [
    "## Effect size of recovered SNPs"
   ]
  },
  {
   "cell_type": "code",
   "execution_count": 11,
   "metadata": {
    "collapsed": false
   },
   "outputs": [
    {
     "data": {
      "text/plain": [
       "0.036"
      ]
     },
     "execution_count": 11,
     "metadata": {},
     "output_type": "execute_result"
    }
   ],
   "source": [
    "# 12 known SNPs average effect size\n",
    "(.046+ .048 + .03 + .046 + .039 + .039 + .028 + .039 + .03 + .021 + .036 + .03) / 12"
   ]
  },
  {
   "cell_type": "code",
   "execution_count": 13,
   "metadata": {
    "collapsed": false
   },
   "outputs": [
    {
     "data": {
      "text/plain": [
       "0.029333333333333343"
      ]
     },
     "execution_count": 13,
     "metadata": {},
     "output_type": "execute_result"
    }
   ],
   "source": [
    "# 21 SNPs not known to be associated with elevated SBP/DBP\n",
    "(.02+.022+.029+.028+.027+.029+.031+.036+.029+.025+.026+.035+.043+.03+.027+.027+.021+.027+.043+.026+.035) / 21"
   ]
  },
  {
   "cell_type": "markdown",
   "metadata": {
    "collapsed": true
   },
   "source": [
    "# Manhattan plot for logistic model\n",
    "\n",
    "MUST execute code below in terminal, otherwise it will error. "
   ]
  },
  {
   "cell_type": "code",
   "execution_count": 2,
   "metadata": {
    "collapsed": true
   },
   "outputs": [],
   "source": [
    "df = CSV.read(\"ukb.final.logistic.pval.txt\")\n",
    "b  = readdlm(\"logistic_model_39_beta_500iter\");"
   ]
  },
  {
   "cell_type": "code",
   "execution_count": 3,
   "metadata": {
    "collapsed": false
   },
   "outputs": [],
   "source": [
    "# add new row to df. Entries are true if IHT's estimated beta is not zero\n",
    "insertcols!(df, 7, :IHT => falses(size(df, 1)))\n",
    "for i in eachindex(b)\n",
    "    if b[i] != 0.0\n",
    "        df[i, :IHT] = true\n",
    "    end\n",
    "end"
   ]
  },
  {
   "cell_type": "code",
   "execution_count": 4,
   "metadata": {
    "collapsed": false
   },
   "outputs": [
    {
     "name": "stderr",
     "output_type": "stream",
     "text": [
      "┌ Warning: `getindex(df::DataFrame, col_ind::ColumnIndex)` is deprecated, use `df[!, col_ind]` instead.\n",
      "│   caller = #manhattan#3(::String, ::String, ::Int64, ::String, ::String, ::Int64, ::Int64, ::String, ::Measures.Length{:mm,Float64}, ::String, ::String, ::String, ::Base.Iterators.Pairs{Union{},Union{},Tuple{},NamedTuple{(),Tuple{}}}, ::typeof(manhattan), ::DataFrame) at gwasplots.jl:249\n",
      "└ @ MendelPlots /Users/biona001/.julia/packages/MendelPlots/X3Apb/src/gwasplots.jl:249\n",
      "┌ Warning: `setindex!(df::DataFrame, v::AbstractVector, col_ind::ColumnIndex)` is deprecated, use `begin\n",
      "│     df[!, col_ind] = v\n",
      "│     df\n",
      "│ end` instead.\n",
      "│   caller = #manhattan#3(::String, ::String, ::Int64, ::String, ::String, ::Int64, ::Int64, ::String, ::Measures.Length{:mm,Float64}, ::String, ::String, ::String, ::Base.Iterators.Pairs{Union{},Union{},Tuple{},NamedTuple{(),Tuple{}}}, ::typeof(manhattan), ::DataFrame) at gwasplots.jl:249\n",
      "└ @ MendelPlots /Users/biona001/.julia/packages/MendelPlots/X3Apb/src/gwasplots.jl:249\n",
      "┌ Warning: `getindex(df::DataFrame, col_ind::ColumnIndex)` is deprecated, use `df[!, col_ind]` instead.\n",
      "│   caller = #manhattan#3(::String, ::String, ::Int64, ::String, ::String, ::Int64, ::Int64, ::String, ::Measures.Length{:mm,Float64}, ::String, ::String, ::String, ::Base.Iterators.Pairs{Union{},Union{},Tuple{},NamedTuple{(),Tuple{}}}, ::typeof(manhattan), ::DataFrame) at gwasplots.jl:251\n",
      "└ @ MendelPlots /Users/biona001/.julia/packages/MendelPlots/X3Apb/src/gwasplots.jl:251\n",
      "┌ Warning: `getindex(df::DataFrame, col_ind::ColumnIndex)` is deprecated, use `df[!, col_ind]` instead.\n",
      "│   caller = #manhattan#3(::String, ::String, ::Int64, ::String, ::String, ::Int64, ::Int64, ::String, ::Measures.Length{:mm,Float64}, ::String, ::String, ::String, ::Base.Iterators.Pairs{Union{},Union{},Tuple{},NamedTuple{(),Tuple{}}}, ::typeof(manhattan), ::DataFrame) at gwasplots.jl:255\n",
      "└ @ MendelPlots /Users/biona001/.julia/packages/MendelPlots/X3Apb/src/gwasplots.jl:255\n",
      "┌ Warning: `getindex(df::DataFrame, col_ind::ColumnIndex)` is deprecated, use `df[!, col_ind]` instead.\n",
      "│   caller = #manhattan#3(::String, ::String, ::Int64, ::String, ::String, ::Int64, ::Int64, ::String, ::Measures.Length{:mm,Float64}, ::String, ::String, ::String, ::Base.Iterators.Pairs{Union{},Union{},Tuple{},NamedTuple{(),Tuple{}}}, ::typeof(manhattan), ::DataFrame) at gwasplots.jl:256\n",
      "└ @ MendelPlots /Users/biona001/.julia/packages/MendelPlots/X3Apb/src/gwasplots.jl:256\n",
      "┌ Warning: `setindex!(df::DataFrame, v::AbstractVector, col_ind::ColumnIndex)` is deprecated, use `begin\n",
      "│     df[!, col_ind] = v\n",
      "│     df\n",
      "│ end` instead.\n",
      "│   caller = #manhattan#3(::String, ::String, ::Int64, ::String, ::String, ::Int64, ::Int64, ::String, ::Measures.Length{:mm,Float64}, ::String, ::String, ::String, ::Base.Iterators.Pairs{Union{},Union{},Tuple{},NamedTuple{(),Tuple{}}}, ::typeof(manhattan), ::DataFrame) at gwasplots.jl:256\n",
      "└ @ MendelPlots /Users/biona001/.julia/packages/MendelPlots/X3Apb/src/gwasplots.jl:256\n",
      "┌ Warning: `getindex(df::DataFrame, col_ind::ColumnIndex)` is deprecated, use `df[!, col_ind]` instead.\n",
      "│   caller = #manhattan#3(::String, ::String, ::Int64, ::String, ::String, ::Int64, ::Int64, ::String, ::Measures.Length{:mm,Float64}, ::String, ::String, ::String, ::Base.Iterators.Pairs{Union{},Union{},Tuple{},NamedTuple{(),Tuple{}}}, ::typeof(manhattan), ::DataFrame) at gwasplots.jl:257\n",
      "└ @ MendelPlots /Users/biona001/.julia/packages/MendelPlots/X3Apb/src/gwasplots.jl:257\n",
      "┌ Warning: `getindex(df::DataFrame, col_ind::ColumnIndex)` is deprecated, use `df[!, col_ind]` instead.\n",
      "│   caller = #manhattan#3(::String, ::String, ::Int64, ::String, ::String, ::Int64, ::Int64, ::String, ::Measures.Length{:mm,Float64}, ::String, ::String, ::String, ::Base.Iterators.Pairs{Union{},Union{},Tuple{},NamedTuple{(),Tuple{}}}, ::typeof(manhattan), ::DataFrame) at gwasplots.jl:263\n",
      "└ @ MendelPlots /Users/biona001/.julia/packages/MendelPlots/X3Apb/src/gwasplots.jl:263\n",
      "┌ Warning: `getindex(df::DataFrame, col_ind::ColumnIndex)` is deprecated, use `df[!, col_ind]` instead.\n",
      "│   caller = #manhattan#3(::String, ::String, ::Int64, ::String, ::String, ::Int64, ::Int64, ::String, ::Measures.Length{:mm,Float64}, ::String, ::String, ::String, ::Base.Iterators.Pairs{Union{},Union{},Tuple{},NamedTuple{(),Tuple{}}}, ::typeof(manhattan), ::DataFrame) at gwasplots.jl:268\n",
      "└ @ MendelPlots /Users/biona001/.julia/packages/MendelPlots/X3Apb/src/gwasplots.jl:268\n",
      "┌ Warning: `getindex(df::DataFrame, col_ind::ColumnIndex)` is deprecated, use `df[!, col_ind]` instead.\n",
      "│   caller = #manhattan#3(::String, ::String, ::Int64, ::String, ::String, ::Int64, ::Int64, ::String, ::Measures.Length{:mm,Float64}, ::String, ::String, ::String, ::Base.Iterators.Pairs{Union{},Union{},Tuple{},NamedTuple{(),Tuple{}}}, ::typeof(manhattan), ::DataFrame) at gwasplots.jl:268\n",
      "└ @ MendelPlots /Users/biona001/.julia/packages/MendelPlots/X3Apb/src/gwasplots.jl:268\n",
      "┌ Warning: `setindex!(df::DataFrame, v::AbstractVector, col_ind::ColumnIndex)` is deprecated, use `begin\n",
      "│     df[!, col_ind] = v\n",
      "│     df\n",
      "│ end` instead.\n",
      "│   caller = #manhattan#3(::String, ::String, ::Int64, ::String, ::String, ::Int64, ::Int64, ::String, ::Measures.Length{:mm,Float64}, ::String, ::String, ::String, ::Base.Iterators.Pairs{Union{},Union{},Tuple{},NamedTuple{(),Tuple{}}}, ::typeof(manhattan), ::DataFrame) at gwasplots.jl:268\n",
      "└ @ MendelPlots /Users/biona001/.julia/packages/MendelPlots/X3Apb/src/gwasplots.jl:268\n",
      "┌ Warning: `getindex(df::DataFrame, col_ind::ColumnIndex)` is deprecated, use `df[!, col_ind]` instead.\n",
      "│   caller = #manhattan#3(::String, ::String, ::Int64, ::String, ::String, ::Int64, ::Int64, ::String, ::Measures.Length{:mm,Float64}, ::String, ::String, ::String, ::Base.Iterators.Pairs{Union{},Union{},Tuple{},NamedTuple{(),Tuple{}}}, ::typeof(manhattan), ::DataFrame) at gwasplots.jl:270\n",
      "└ @ MendelPlots /Users/biona001/.julia/packages/MendelPlots/X3Apb/src/gwasplots.jl:270\n",
      "┌ Warning: `getindex(df::DataFrame, col_ind::ColumnIndex)` is deprecated, use `df[!, col_ind]` instead.\n",
      "│   caller = #manhattan#3(::String, ::String, ::Int64, ::String, ::String, ::Int64, ::Int64, ::String, ::Measures.Length{:mm,Float64}, ::String, ::String, ::String, ::Base.Iterators.Pairs{Union{},Union{},Tuple{},NamedTuple{(),Tuple{}}}, ::typeof(manhattan), ::DataFrame) at gwasplots.jl:270\n",
      "└ @ MendelPlots /Users/biona001/.julia/packages/MendelPlots/X3Apb/src/gwasplots.jl:270\n",
      "┌ Warning: `setindex!(df::DataFrame, v::AbstractVector, col_ind::ColumnIndex)` is deprecated, use `begin\n",
      "│     df[!, col_ind] = v\n",
      "│     df\n",
      "│ end` instead.\n",
      "│   caller = #manhattan#3(::String, ::String, ::Int64, ::String, ::String, ::Int64, ::Int64, ::String, ::Measures.Length{:mm,Float64}, ::String, ::String, ::String, ::Base.Iterators.Pairs{Union{},Union{},Tuple{},NamedTuple{(),Tuple{}}}, ::typeof(manhattan), ::DataFrame) at gwasplots.jl:270\n",
      "└ @ MendelPlots /Users/biona001/.julia/packages/MendelPlots/X3Apb/src/gwasplots.jl:270\n",
      "┌ Warning: `getindex(df::DataFrame, col_ind::ColumnIndex)` is deprecated, use `df[!, col_ind]` instead.\n",
      "│   caller = #manhattan#3(::String, ::String, ::Int64, ::String, ::String, ::Int64, ::Int64, ::String, ::Measures.Length{:mm,Float64}, ::String, ::String, ::String, ::Base.Iterators.Pairs{Union{},Union{},Tuple{},NamedTuple{(),Tuple{}}}, ::typeof(manhattan), ::DataFrame) at gwasplots.jl:271\n",
      "└ @ MendelPlots /Users/biona001/.julia/packages/MendelPlots/X3Apb/src/gwasplots.jl:271\n",
      "┌ Warning: `getindex(df::DataFrame, col_ind::ColumnIndex)` is deprecated, use `df[!, col_ind]` instead.\n",
      "│   caller = #manhattan#3(::String, ::String, ::Int64, ::String, ::String, ::Int64, ::Int64, ::String, ::Measures.Length{:mm,Float64}, ::String, ::String, ::String, ::Base.Iterators.Pairs{Union{},Union{},Tuple{},NamedTuple{(),Tuple{}}}, ::typeof(manhattan), ::DataFrame) at gwasplots.jl:293\n",
      "└ @ MendelPlots /Users/biona001/.julia/packages/MendelPlots/X3Apb/src/gwasplots.jl:293\n"
     ]
    },
    {
     "ename": "UndefVarError",
     "evalue": "UndefVarError: libpango not defined",
     "output_type": "error",
     "traceback": [
      "UndefVarError: libpango not defined",
      "",
      "Stacktrace:",
      " [1] apply_property(::Compose.Image{Compose.PNGBackend}, ::Compose.FontPrimitive) at /Users/biona001/.julia/packages/Compose/whI1D/src/cairo_backends.jl:437",
      " [2] push_property_frame(::Compose.Image{Compose.PNGBackend}, ::Array{Compose.Property,1}) at /Users/biona001/.julia/packages/Compose/whI1D/src/cairo_backends.jl:332",
      " [3] drawpart(::Compose.Image{Compose.PNGBackend}, ::Compose.Context, ::Compose.IdentityTransform, ::Compose.UnitBox{Float64,Float64,Float64,Float64}, ::Measures.BoundingBox{Tuple{Measures.Length{:mm,Float64},Measures.Length{:mm,Float64}},Tuple{Measures.Length{:mm,Float64},Measures.Length{:mm,Float64}}}) at /Users/biona001/.julia/packages/Compose/whI1D/src/container.jl:455",
      " [4] drawpart(::Compose.Image{Compose.PNGBackend}, ::Compose.AdhocContainerPromise, ::Compose.IdentityTransform, ::Compose.UnitBox{Float64,Float64,Float64,Float64}, ::Measures.BoundingBox{Tuple{Measures.Length{:mm,Float64},Measures.Length{:mm,Float64}},Tuple{Measures.Length{:mm,Float64},Measures.Length{:mm,Float64}}}) at /Users/biona001/.julia/packages/Compose/whI1D/src/container.jl:390",
      " [5] drawpart(::Compose.Image{Compose.PNGBackend}, ::Compose.Context, ::Compose.IdentityTransform, ::Compose.UnitBox{Float64,Float64,Float64,Float64}, ::Measures.BoundingBox{Tuple{Measures.Length{:mm,Float64},Measures.Length{:mm,Float64}},Tuple{Measures.Length{:mm,Float64},Measures.Length{:mm,Float64}}}) at /Users/biona001/.julia/packages/Compose/whI1D/src/container.jl:509 (repeats 2 times)",
      " [6] drawpart(::Compose.Image{Compose.PNGBackend}, ::Compose.Table, ::Compose.IdentityTransform, ::Compose.UnitBox{Float64,Float64,Float64,Float64}, ::Measures.BoundingBox{Tuple{Measures.Length{:mm,Float64},Measures.Length{:mm,Float64}},Tuple{Measures.Length{:mm,Float64},Measures.Length{:mm,Float64}}}) at /Users/biona001/.julia/packages/Compose/whI1D/src/container.jl:390",
      " [7] drawpart(::Compose.Image{Compose.PNGBackend}, ::Compose.Context, ::Compose.IdentityTransform, ::Compose.UnitBox{Float64,Float64,Float64,Float64}, ::Measures.BoundingBox{Tuple{Measures.Length{:mm,Float64},Measures.Length{:mm,Float64}},Tuple{Measures.Length{:mm,Float64},Measures.Length{:mm,Float64}}}) at /Users/biona001/.julia/packages/Compose/whI1D/src/container.jl:509 (repeats 2 times)",
      " [8] draw(::Compose.Image{Compose.PNGBackend}, ::Compose.Context) at /Users/biona001/.julia/packages/Compose/whI1D/src/container.jl:356",
      " [9] draw at /Users/biona001/.julia/packages/Gadfly/ISHWw/src/Gadfly.jl:864 [inlined]",
      " [10] #manhattan#3(::String, ::String, ::Int64, ::String, ::String, ::Int64, ::Int64, ::String, ::Measures.Length{:mm,Float64}, ::String, ::String, ::String, ::Base.Iterators.Pairs{Union{},Union{},Tuple{},NamedTuple{(),Tuple{}}}, ::typeof(manhattan), ::DataFrame) at /Users/biona001/.julia/packages/MendelPlots/X3Apb/src/gwasplots.jl:342",
      " [11] manhattan(::DataFrame) at /Users/biona001/.julia/packages/MendelPlots/X3Apb/src/gwasplots.jl:220",
      " [12] top-level scope at In[4]:1"
     ]
    }
   ],
   "source": [
    "result = manhattan(df)"
   ]
  },
  {
   "cell_type": "code",
   "execution_count": null,
   "metadata": {
    "collapsed": true
   },
   "outputs": [],
   "source": []
  }
 ],
 "metadata": {
  "@webio": {
   "lastCommId": null,
   "lastKernelId": null
  },
  "kernelspec": {
   "display_name": "Julia 1.3.0-rc4",
   "language": "julia",
   "name": "julia-1.3"
  },
  "language_info": {
   "file_extension": ".jl",
   "mimetype": "application/julia",
   "name": "julia",
   "version": "1.3.1"
  }
 },
 "nbformat": 4,
 "nbformat_minor": 2
}
