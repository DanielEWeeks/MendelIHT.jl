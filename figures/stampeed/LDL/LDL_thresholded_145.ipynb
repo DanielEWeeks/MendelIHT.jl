{
 "cells": [
  {
   "cell_type": "markdown",
   "metadata": {
    "deletable": true,
    "editable": true
   },
   "source": [
    "# Analyze LDL by thresholding at 145mg/dL"
   ]
  },
  {
   "cell_type": "code",
   "execution_count": 1,
   "metadata": {
    "collapsed": false,
    "deletable": true,
    "editable": true
   },
   "outputs": [
    {
     "data": {
      "text/plain": [
       "31"
      ]
     },
     "execution_count": 1,
     "metadata": {},
     "output_type": "execute_result"
    }
   ],
   "source": [
    "using Distributed\n",
    "addprocs(30)\n",
    "nprocs()"
   ]
  },
  {
   "cell_type": "code",
   "execution_count": 2,
   "metadata": {
    "collapsed": true,
    "deletable": true,
    "editable": true
   },
   "outputs": [],
   "source": [
    "using MendelIHT\n",
    "using SnpArrays\n",
    "using DataFrames\n",
    "using Distributions\n",
    "using DelimitedFiles\n",
    "using BenchmarkTools\n",
    "using Random\n",
    "using LinearAlgebra\n",
    "using GLM\n",
    "using CSV\n",
    "using Dates"
   ]
  },
  {
   "cell_type": "markdown",
   "metadata": {
    "deletable": true,
    "editable": true
   },
   "source": [
    "# Import data\n",
    "\n",
    "+ ** For description of what each phenotype column means**, see here:\n",
    "https://www.ncbi.nlm.nih.gov/projects/gap/cgi-bin/dataset.cgi?study_id=phs000276.v2.p1&phv=129612&phd=&pha=2896&pht=2005&phvf=&phdf=&phaf=&phtf=&dssp=1&consent=&temp=1\n",
    "\n",
    "+ **We have already matched up phenotype with genotypes** in the files below"
   ]
  },
  {
   "cell_type": "code",
   "execution_count": 3,
   "metadata": {
    "collapsed": false,
    "deletable": true,
    "editable": true,
    "scrolled": true
   },
   "outputs": [
    {
     "data": {
      "text/html": [
       "<table class=\"data-frame\"><thead><tr><th></th><th>dbGaP_Subject_ID</th><th>SUBJID</th><th>SEX</th><th>a10atc</th><th>crp3dec</th><th>FASTING_STATUS</th><th>FB_GLUK</th><th>FS_INS</th><th>FS_KOL</th><th>FS_KOL_H</th><th>FS_KOL_L</th><th>FS_TRIGL</th><th>HOMA_IR</th><th>PAILAHDE</th><th>Pills31</th><th>PITLAHDE</th><th>ZP4202U</th><th>ZT20</th><th>ZT27</th><th>ZT28</th><th>ZT29</th><th>ZT30</th><th>CASE</th><th>RACE</th><th>BMI</th><th>Systolic Blood Pressure MEAN</th><th>Diastolic Blood Pressure MEAN</th></tr><tr><th></th><th>Int64⍰</th><th>Int64⍰</th><th>Int64⍰</th><th>String⍰</th><th>String⍰</th><th>String⍰</th><th>String⍰</th><th>String⍰</th><th>String⍰</th><th>String⍰</th><th>String⍰</th><th>String⍰</th><th>String⍰</th><th>String⍰</th><th>String⍰</th><th>String⍰</th><th>String⍰</th><th>String⍰</th><th>String⍰</th><th>String⍰</th><th>String⍰</th><th>String⍰</th><th>Int64⍰</th><th>String⍰</th><th>String⍰</th><th>String⍰</th><th>String⍰</th></tr></thead><tbody><p>5,402 rows × 27 columns</p><tr><th>1</th><td>356529</td><td>2864</td><td>2</td><td>0</td><td>0.373</td><td>0</td><td>4.8</td><td>8.8</td><td>6.73</td><td>2.26</td><td>4.2</td><td>0.64</td><td>1.13</td><td>1</td><td>1</td><td>1</td><td>1</td><td>2</td><td>166.8</td><td>55.7</td><td>92.4</td><td>71.8</td><td>2</td><td>Caucasian</td><td>20</td><td>110</td><td>79</td></tr><tr><th>2</th><td>358247</td><td>2374</td><td>1</td><td>0</td><td>0.38</td><td>0</td><td>5.6</td><td>7</td><td>3.95</td><td>1.55</td><td>2.1</td><td>0.67</td><td>0.94</td><td>1</td><td>X</td><td>1</td><td>X</td><td>X</td><td>179.6</td><td>67.2</td><td>92.5</td><td>79</td><td>2</td><td>Caucasian</td><td>20.8</td><td>117</td><td>72</td></tr><tr><th>3</th><td>356035</td><td>2803</td><td>1</td><td>0</td><td>9.214</td><td>0</td><td>5.7</td><td>12.9</td><td>7.44</td><td>1.19</td><td>5.6</td><td>1.52</td><td>1.72</td><td>1</td><td>X</td><td>1</td><td>X</td><td>X</td><td>177</td><td>101.7</td><td>112</td><td>117</td><td>2</td><td>Caucasian</td><td>32.5</td><td>147</td><td>97</td></tr><tr><th>4</th><td>353849</td><td>4709</td><td>1</td><td>0</td><td>0.61</td><td>0</td><td>4.9</td><td>8.7</td><td>3.92</td><td>1.44</td><td>2.3</td><td>0.35</td><td>1.12</td><td>1</td><td>X</td><td>1</td><td>X</td><td>X</td><td>173.4</td><td>89.9</td><td>103</td><td>102</td><td>2</td><td>Caucasian</td><td>29.9</td><td>125</td><td>60</td></tr><tr><th>5</th><td>354502</td><td>4350</td><td>1</td><td>0</td><td>0.593</td><td>0</td><td>4.9</td><td>3.6</td><td>3.53</td><td>1.53</td><td>1.8</td><td>0.39</td><td>0.47</td><td>1</td><td>X</td><td>1</td><td>1</td><td>2</td><td>170.8</td><td>66.5</td><td>90</td><td>75</td><td>2</td><td>Caucasian</td><td>22.8</td><td>X</td><td>X</td></tr><tr><th>6</th><td>356015</td><td>3480</td><td>2</td><td>0</td><td>1.774</td><td>0</td><td>4.7</td><td>8.7</td><td>3.59</td><td>1.48</td><td>1.8</td><td>0.69</td><td>1.11</td><td>1</td><td>0</td><td>1</td><td>0</td><td>2</td><td>170.5</td><td>71.6</td><td>99</td><td>78</td><td>2</td><td>Caucasian</td><td>24.6</td><td>138</td><td>84</td></tr><tr><th>7</th><td>356268</td><td>3729</td><td>1</td><td>0</td><td>2.564</td><td>0</td><td>4.6</td><td>5.7</td><td>5.71</td><td>2.01</td><td>3.4</td><td>0.6</td><td>0.73</td><td>1</td><td>X</td><td>1</td><td>X</td><td>X</td><td>182</td><td>73.5</td><td>91</td><td>84</td><td>2</td><td>Caucasian</td><td>22.2</td><td>132</td><td>76</td></tr><tr><th>8</th><td>358341</td><td>4031</td><td>1</td><td>0</td><td>3.998</td><td>0</td><td>5.9</td><td>7.6</td><td>4.11</td><td>1.31</td><td>2.3</td><td>1.03</td><td>1.03</td><td>1</td><td>X</td><td>1</td><td>X</td><td>X</td><td>182.3</td><td>85.4</td><td>102</td><td>92</td><td>2</td><td>Caucasian</td><td>25.7</td><td>132</td><td>100</td></tr><tr><th>9</th><td>357054</td><td>1104</td><td>1</td><td>0</td><td>3.238</td><td>0</td><td>5.4</td><td>12.2</td><td>5.93</td><td>0.92</td><td>3.5</td><td>3.24</td><td>1.6</td><td>1</td><td>X</td><td>1</td><td>X</td><td>X</td><td>178.4</td><td>91.1</td><td>102</td><td>99</td><td>2</td><td>Caucasian</td><td>28.6</td><td>140</td><td>110</td></tr><tr><th>10</th><td>354105</td><td>395</td><td>1</td><td>0</td><td>0.83</td><td>0</td><td>4.1</td><td>3.4</td><td>3.97</td><td>1.58</td><td>2.1</td><td>0.54</td><td>0.42</td><td>1</td><td>X</td><td>1</td><td>1</td><td>X</td><td>172.5</td><td>68.3</td><td>89.5</td><td>78.5</td><td>2</td><td>Caucasian</td><td>23</td><td>118</td><td>87</td></tr><tr><th>11</th><td>358843</td><td>114</td><td>2</td><td>0</td><td>0.33</td><td>0</td><td>4.9</td><td>6.7</td><td>4.87</td><td>1.74</td><td>2.7</td><td>1.01</td><td>0.87</td><td>1</td><td>0</td><td>1</td><td>0</td><td>2</td><td>172</td><td>69.9</td><td>93.5</td><td>75.5</td><td>2</td><td>Caucasian</td><td>23.6</td><td>120</td><td>71</td></tr><tr><th>12</th><td>357428</td><td>1835</td><td>1</td><td>0</td><td>0.598</td><td>0</td><td>4.4</td><td>5.9</td><td>6.19</td><td>1.4</td><td>4.4</td><td>0.76</td><td>0.74</td><td>1</td><td>X</td><td>1</td><td>1</td><td>X</td><td>186.4</td><td>75.2</td><td>95.6</td><td>84.8</td><td>2</td><td>Caucasian</td><td>21.6</td><td>118</td><td>75</td></tr><tr><th>13</th><td>355334</td><td>4092</td><td>1</td><td>0</td><td>0.365</td><td>0</td><td>4.8</td><td>6.1</td><td>5.05</td><td>1.66</td><td>3.1</td><td>0.68</td><td>0.79</td><td>1</td><td>X</td><td>1</td><td>X</td><td>X</td><td>170.5</td><td>67.8</td><td>91</td><td>80</td><td>2</td><td>Caucasian</td><td>23.3</td><td>121</td><td>88</td></tr><tr><th>14</th><td>354934</td><td>3609</td><td>1</td><td>0</td><td>0.377</td><td>0</td><td>5.3</td><td>10.5</td><td>5.65</td><td>1.29</td><td>3.8</td><td>1.14</td><td>1.38</td><td>1</td><td>X</td><td>1</td><td>X</td><td>X</td><td>182.2</td><td>82.9</td><td>97.5</td><td>86</td><td>2</td><td>Caucasian</td><td>25</td><td>127</td><td>82</td></tr><tr><th>15</th><td>358359</td><td>2688</td><td>1</td><td>0</td><td>0.189</td><td>0</td><td>5</td><td>5.7</td><td>3.78</td><td>1.17</td><td>2.3</td><td>0.67</td><td>0.74</td><td>1</td><td>X</td><td>1</td><td>X</td><td>X</td><td>187.8</td><td>77.9</td><td>96</td><td>82.5</td><td>2</td><td>Caucasian</td><td>22.1</td><td>127</td><td>84</td></tr><tr><th>16</th><td>356646</td><td>3683</td><td>1</td><td>0</td><td>0.137</td><td>0</td><td>5.8</td><td>8.3</td><td>5.51</td><td>1.47</td><td>2.4</td><td>3.62</td><td>1.12</td><td>1</td><td>X</td><td>1</td><td>X</td><td>X</td><td>170.2</td><td>72.3</td><td>90</td><td>81</td><td>2</td><td>Caucasian</td><td>25</td><td>151</td><td>87</td></tr><tr><th>17</th><td>356211</td><td>2771</td><td>2</td><td>0</td><td>0.335</td><td>0</td><td>4.7</td><td>4.7</td><td>4.81</td><td>1.36</td><td>3.2</td><td>0.54</td><td>0.6</td><td>1</td><td>0</td><td>1</td><td>0</td><td>2</td><td>165.4</td><td>60.4</td><td>94</td><td>71</td><td>2</td><td>Caucasian</td><td>22.1</td><td>116</td><td>57</td></tr><tr><th>18</th><td>353922</td><td>3552</td><td>2</td><td>0</td><td>2.616</td><td>0</td><td>4.7</td><td>9</td><td>4.76</td><td>1.93</td><td>2.3</td><td>1.09</td><td>1.15</td><td>1</td><td>1</td><td>1</td><td>1</td><td>2</td><td>160.6</td><td>54.5</td><td>89</td><td>68.7</td><td>2</td><td>Caucasian</td><td>21.1</td><td>118</td><td>78</td></tr><tr><th>19</th><td>354895</td><td>1799</td><td>1</td><td>0</td><td>0.681</td><td>0</td><td>5.4</td><td>10</td><td>5.84</td><td>1.34</td><td>4</td><td>1.04</td><td>1.32</td><td>1</td><td>X</td><td>1</td><td>1</td><td>X</td><td>185.5</td><td>89.3</td><td>105.5</td><td>96</td><td>2</td><td>Caucasian</td><td>26</td><td>128</td><td>69</td></tr><tr><th>20</th><td>354816</td><td>4841</td><td>1</td><td>0</td><td>2.736</td><td>0</td><td>5.8</td><td>10.1</td><td>5.38</td><td>0.95</td><td>3.6</td><td>1.88</td><td>1.36</td><td>1</td><td>X</td><td>1</td><td>1</td><td>2</td><td>182.5</td><td>91.1</td><td>106</td><td>97.5</td><td>2</td><td>Caucasian</td><td>27.4</td><td>138</td><td>75</td></tr><tr><th>21</th><td>356801</td><td>3339</td><td>2</td><td>0</td><td>0.137</td><td>0</td><td>5.2</td><td>9.4</td><td>3.95</td><td>0.82</td><td>2.7</td><td>0.93</td><td>1.23</td><td>1</td><td>0</td><td>1</td><td>0</td><td>1</td><td>165.2</td><td>55</td><td>91.5</td><td>71</td><td>2</td><td>Caucasian</td><td>20.2</td><td>125</td><td>83</td></tr><tr><th>22</th><td>356460</td><td>185</td><td>2</td><td>0</td><td>0.133</td><td>0</td><td>4.1</td><td>4.5</td><td>3.66</td><td>2.2</td><td>1.3</td><td>0.42</td><td>0.56</td><td>1</td><td>0</td><td>1</td><td>0</td><td>2</td><td>167.3</td><td>54.9</td><td>85.5</td><td>67</td><td>2</td><td>Caucasian</td><td>19.6</td><td>95</td><td>58</td></tr><tr><th>23</th><td>355437</td><td>3481</td><td>1</td><td>0</td><td>5.104</td><td>0</td><td>5.3</td><td>17.5</td><td>5.37</td><td>0.98</td><td>3.7</td><td>1.51</td><td>2.27</td><td>1</td><td>X</td><td>1</td><td>X</td><td>X</td><td>185.4</td><td>99.4</td><td>103</td><td>110</td><td>2</td><td>Caucasian</td><td>28.9</td><td>132</td><td>97</td></tr><tr><th>24</th><td>358185</td><td>2619</td><td>2</td><td>0</td><td>1.023</td><td>0</td><td>4.9</td><td>7.1</td><td>4.33</td><td>1.2</td><td>2.7</td><td>0.9</td><td>0.92</td><td>1</td><td>0</td><td>1</td><td>0</td><td>2</td><td>166.1</td><td>62.3</td><td>97</td><td>71</td><td>2</td><td>Caucasian</td><td>22.6</td><td>112</td><td>73</td></tr><tr><th>25</th><td>357840</td><td>5032</td><td>2</td><td>0</td><td>1.172</td><td>0</td><td>4.2</td><td>6.2</td><td>5.14</td><td>2.13</td><td>2.7</td><td>0.62</td><td>0.77</td><td>1</td><td>0</td><td>1</td><td>0</td><td>2</td><td>165</td><td>58.4</td><td>92</td><td>72.5</td><td>2</td><td>Caucasian</td><td>21.5</td><td>121</td><td>86</td></tr><tr><th>26</th><td>357619</td><td>4381</td><td>2</td><td>0</td><td>0.492</td><td>0</td><td>4.6</td><td>6</td><td>4.7</td><td>1.24</td><td>3</td><td>1.02</td><td>0.77</td><td>1</td><td>0</td><td>1</td><td>0</td><td>2</td><td>164.2</td><td>60.8</td><td>93</td><td>69.8</td><td>2</td><td>Caucasian</td><td>22.6</td><td>109</td><td>68</td></tr><tr><th>27</th><td>354115</td><td>5117</td><td>2</td><td>0</td><td>0.14</td><td>0</td><td>4.6</td><td>6.5</td><td>3.45</td><td>1.52</td><td>1.7</td><td>0.45</td><td>0.83</td><td>1</td><td>0</td><td>1</td><td>0</td><td>1</td><td>171.5</td><td>66.8</td><td>96.5</td><td>74.8</td><td>2</td><td>Caucasian</td><td>22.7</td><td>110</td><td>60</td></tr><tr><th>28</th><td>355194</td><td>594</td><td>1</td><td>0</td><td>X</td><td>0</td><td>5.4</td><td>X</td><td>X</td><td>X</td><td>X</td><td>X</td><td>X</td><td>1</td><td>X</td><td>1</td><td>1</td><td>X</td><td>181.7</td><td>91.9</td><td>107</td><td>95.5</td><td>2</td><td>Caucasian</td><td>27.8</td><td>133</td><td>86</td></tr><tr><th>29</th><td>358981</td><td>755</td><td>2</td><td>1</td><td>4.502</td><td>0</td><td>15</td><td>20.9</td><td>4.87</td><td>1.5</td><td>2.8</td><td>1.2</td><td>3.72</td><td>1</td><td>0</td><td>1</td><td>0</td><td>2</td><td>155.2</td><td>70.6</td><td>102</td><td>84</td><td>2</td><td>Caucasian</td><td>29.3</td><td>133</td><td>85</td></tr><tr><th>30</th><td>354811</td><td>2288</td><td>2</td><td>0</td><td>0.114</td><td>0</td><td>4.8</td><td>7.5</td><td>4.9</td><td>1.71</td><td>2.8</td><td>0.75</td><td>0.96</td><td>1</td><td>0</td><td>1</td><td>0</td><td>2</td><td>158.1</td><td>57.1</td><td>95</td><td>65.5</td><td>2</td><td>Caucasian</td><td>22.8</td><td>117</td><td>X</td></tr><tr><th>&vellip;</th><td>&vellip;</td><td>&vellip;</td><td>&vellip;</td><td>&vellip;</td><td>&vellip;</td><td>&vellip;</td><td>&vellip;</td><td>&vellip;</td><td>&vellip;</td><td>&vellip;</td><td>&vellip;</td><td>&vellip;</td><td>&vellip;</td><td>&vellip;</td><td>&vellip;</td><td>&vellip;</td><td>&vellip;</td><td>&vellip;</td><td>&vellip;</td><td>&vellip;</td><td>&vellip;</td><td>&vellip;</td><td>&vellip;</td><td>&vellip;</td><td>&vellip;</td><td>&vellip;</td><td>&vellip;</td></tr></tbody></table>"
      ],
      "text/latex": [
       "\\begin{tabular}{r|ccccccccccccccccccccccccccc}\n",
       "\t& dbGaP\\_Subject\\_ID & SUBJID & SEX & a10atc & crp3dec & FASTING\\_STATUS & FB\\_GLUK & FS\\_INS & FS\\_KOL & FS\\_KOL\\_H & FS\\_KOL\\_L & FS\\_TRIGL & HOMA\\_IR & PAILAHDE & Pills31 & PITLAHDE & ZP4202U & ZT20 & ZT27 & ZT28 & ZT29 & ZT30 & CASE & RACE & BMI & Systolic Blood Pressure MEAN & Diastolic Blood Pressure MEAN\\\\\n",
       "\t\\hline\n",
       "\t& Int64⍰ & Int64⍰ & Int64⍰ & String⍰ & String⍰ & String⍰ & String⍰ & String⍰ & String⍰ & String⍰ & String⍰ & String⍰ & String⍰ & String⍰ & String⍰ & String⍰ & String⍰ & String⍰ & String⍰ & String⍰ & String⍰ & String⍰ & Int64⍰ & String⍰ & String⍰ & String⍰ & String⍰\\\\\n",
       "\t\\hline\n",
       "\t1 & 356529 & 2864 & 2 & 0 & 0.373 & 0 & 4.8 & 8.8 & 6.73 & 2.26 & 4.2 & 0.64 & 1.13 & 1 & 1 & 1 & 1 & 2 & 166.8 & 55.7 & 92.4 & 71.8 & 2 & Caucasian & 20 & 110 & 79 \\\\\n",
       "\t2 & 358247 & 2374 & 1 & 0 & 0.38 & 0 & 5.6 & 7 & 3.95 & 1.55 & 2.1 & 0.67 & 0.94 & 1 & X & 1 & X & X & 179.6 & 67.2 & 92.5 & 79 & 2 & Caucasian & 20.8 & 117 & 72 \\\\\n",
       "\t3 & 356035 & 2803 & 1 & 0 & 9.214 & 0 & 5.7 & 12.9 & 7.44 & 1.19 & 5.6 & 1.52 & 1.72 & 1 & X & 1 & X & X & 177 & 101.7 & 112 & 117 & 2 & Caucasian & 32.5 & 147 & 97 \\\\\n",
       "\t4 & 353849 & 4709 & 1 & 0 & 0.61 & 0 & 4.9 & 8.7 & 3.92 & 1.44 & 2.3 & 0.35 & 1.12 & 1 & X & 1 & X & X & 173.4 & 89.9 & 103 & 102 & 2 & Caucasian & 29.9 & 125 & 60 \\\\\n",
       "\t5 & 354502 & 4350 & 1 & 0 & 0.593 & 0 & 4.9 & 3.6 & 3.53 & 1.53 & 1.8 & 0.39 & 0.47 & 1 & X & 1 & 1 & 2 & 170.8 & 66.5 & 90 & 75 & 2 & Caucasian & 22.8 & X & X \\\\\n",
       "\t6 & 356015 & 3480 & 2 & 0 & 1.774 & 0 & 4.7 & 8.7 & 3.59 & 1.48 & 1.8 & 0.69 & 1.11 & 1 & 0 & 1 & 0 & 2 & 170.5 & 71.6 & 99 & 78 & 2 & Caucasian & 24.6 & 138 & 84 \\\\\n",
       "\t7 & 356268 & 3729 & 1 & 0 & 2.564 & 0 & 4.6 & 5.7 & 5.71 & 2.01 & 3.4 & 0.6 & 0.73 & 1 & X & 1 & X & X & 182 & 73.5 & 91 & 84 & 2 & Caucasian & 22.2 & 132 & 76 \\\\\n",
       "\t8 & 358341 & 4031 & 1 & 0 & 3.998 & 0 & 5.9 & 7.6 & 4.11 & 1.31 & 2.3 & 1.03 & 1.03 & 1 & X & 1 & X & X & 182.3 & 85.4 & 102 & 92 & 2 & Caucasian & 25.7 & 132 & 100 \\\\\n",
       "\t9 & 357054 & 1104 & 1 & 0 & 3.238 & 0 & 5.4 & 12.2 & 5.93 & 0.92 & 3.5 & 3.24 & 1.6 & 1 & X & 1 & X & X & 178.4 & 91.1 & 102 & 99 & 2 & Caucasian & 28.6 & 140 & 110 \\\\\n",
       "\t10 & 354105 & 395 & 1 & 0 & 0.83 & 0 & 4.1 & 3.4 & 3.97 & 1.58 & 2.1 & 0.54 & 0.42 & 1 & X & 1 & 1 & X & 172.5 & 68.3 & 89.5 & 78.5 & 2 & Caucasian & 23 & 118 & 87 \\\\\n",
       "\t11 & 358843 & 114 & 2 & 0 & 0.33 & 0 & 4.9 & 6.7 & 4.87 & 1.74 & 2.7 & 1.01 & 0.87 & 1 & 0 & 1 & 0 & 2 & 172 & 69.9 & 93.5 & 75.5 & 2 & Caucasian & 23.6 & 120 & 71 \\\\\n",
       "\t12 & 357428 & 1835 & 1 & 0 & 0.598 & 0 & 4.4 & 5.9 & 6.19 & 1.4 & 4.4 & 0.76 & 0.74 & 1 & X & 1 & 1 & X & 186.4 & 75.2 & 95.6 & 84.8 & 2 & Caucasian & 21.6 & 118 & 75 \\\\\n",
       "\t13 & 355334 & 4092 & 1 & 0 & 0.365 & 0 & 4.8 & 6.1 & 5.05 & 1.66 & 3.1 & 0.68 & 0.79 & 1 & X & 1 & X & X & 170.5 & 67.8 & 91 & 80 & 2 & Caucasian & 23.3 & 121 & 88 \\\\\n",
       "\t14 & 354934 & 3609 & 1 & 0 & 0.377 & 0 & 5.3 & 10.5 & 5.65 & 1.29 & 3.8 & 1.14 & 1.38 & 1 & X & 1 & X & X & 182.2 & 82.9 & 97.5 & 86 & 2 & Caucasian & 25 & 127 & 82 \\\\\n",
       "\t15 & 358359 & 2688 & 1 & 0 & 0.189 & 0 & 5 & 5.7 & 3.78 & 1.17 & 2.3 & 0.67 & 0.74 & 1 & X & 1 & X & X & 187.8 & 77.9 & 96 & 82.5 & 2 & Caucasian & 22.1 & 127 & 84 \\\\\n",
       "\t16 & 356646 & 3683 & 1 & 0 & 0.137 & 0 & 5.8 & 8.3 & 5.51 & 1.47 & 2.4 & 3.62 & 1.12 & 1 & X & 1 & X & X & 170.2 & 72.3 & 90 & 81 & 2 & Caucasian & 25 & 151 & 87 \\\\\n",
       "\t17 & 356211 & 2771 & 2 & 0 & 0.335 & 0 & 4.7 & 4.7 & 4.81 & 1.36 & 3.2 & 0.54 & 0.6 & 1 & 0 & 1 & 0 & 2 & 165.4 & 60.4 & 94 & 71 & 2 & Caucasian & 22.1 & 116 & 57 \\\\\n",
       "\t18 & 353922 & 3552 & 2 & 0 & 2.616 & 0 & 4.7 & 9 & 4.76 & 1.93 & 2.3 & 1.09 & 1.15 & 1 & 1 & 1 & 1 & 2 & 160.6 & 54.5 & 89 & 68.7 & 2 & Caucasian & 21.1 & 118 & 78 \\\\\n",
       "\t19 & 354895 & 1799 & 1 & 0 & 0.681 & 0 & 5.4 & 10 & 5.84 & 1.34 & 4 & 1.04 & 1.32 & 1 & X & 1 & 1 & X & 185.5 & 89.3 & 105.5 & 96 & 2 & Caucasian & 26 & 128 & 69 \\\\\n",
       "\t20 & 354816 & 4841 & 1 & 0 & 2.736 & 0 & 5.8 & 10.1 & 5.38 & 0.95 & 3.6 & 1.88 & 1.36 & 1 & X & 1 & 1 & 2 & 182.5 & 91.1 & 106 & 97.5 & 2 & Caucasian & 27.4 & 138 & 75 \\\\\n",
       "\t21 & 356801 & 3339 & 2 & 0 & 0.137 & 0 & 5.2 & 9.4 & 3.95 & 0.82 & 2.7 & 0.93 & 1.23 & 1 & 0 & 1 & 0 & 1 & 165.2 & 55 & 91.5 & 71 & 2 & Caucasian & 20.2 & 125 & 83 \\\\\n",
       "\t22 & 356460 & 185 & 2 & 0 & 0.133 & 0 & 4.1 & 4.5 & 3.66 & 2.2 & 1.3 & 0.42 & 0.56 & 1 & 0 & 1 & 0 & 2 & 167.3 & 54.9 & 85.5 & 67 & 2 & Caucasian & 19.6 & 95 & 58 \\\\\n",
       "\t23 & 355437 & 3481 & 1 & 0 & 5.104 & 0 & 5.3 & 17.5 & 5.37 & 0.98 & 3.7 & 1.51 & 2.27 & 1 & X & 1 & X & X & 185.4 & 99.4 & 103 & 110 & 2 & Caucasian & 28.9 & 132 & 97 \\\\\n",
       "\t24 & 358185 & 2619 & 2 & 0 & 1.023 & 0 & 4.9 & 7.1 & 4.33 & 1.2 & 2.7 & 0.9 & 0.92 & 1 & 0 & 1 & 0 & 2 & 166.1 & 62.3 & 97 & 71 & 2 & Caucasian & 22.6 & 112 & 73 \\\\\n",
       "\t25 & 357840 & 5032 & 2 & 0 & 1.172 & 0 & 4.2 & 6.2 & 5.14 & 2.13 & 2.7 & 0.62 & 0.77 & 1 & 0 & 1 & 0 & 2 & 165 & 58.4 & 92 & 72.5 & 2 & Caucasian & 21.5 & 121 & 86 \\\\\n",
       "\t26 & 357619 & 4381 & 2 & 0 & 0.492 & 0 & 4.6 & 6 & 4.7 & 1.24 & 3 & 1.02 & 0.77 & 1 & 0 & 1 & 0 & 2 & 164.2 & 60.8 & 93 & 69.8 & 2 & Caucasian & 22.6 & 109 & 68 \\\\\n",
       "\t27 & 354115 & 5117 & 2 & 0 & 0.14 & 0 & 4.6 & 6.5 & 3.45 & 1.52 & 1.7 & 0.45 & 0.83 & 1 & 0 & 1 & 0 & 1 & 171.5 & 66.8 & 96.5 & 74.8 & 2 & Caucasian & 22.7 & 110 & 60 \\\\\n",
       "\t28 & 355194 & 594 & 1 & 0 & X & 0 & 5.4 & X & X & X & X & X & X & 1 & X & 1 & 1 & X & 181.7 & 91.9 & 107 & 95.5 & 2 & Caucasian & 27.8 & 133 & 86 \\\\\n",
       "\t29 & 358981 & 755 & 2 & 1 & 4.502 & 0 & 15 & 20.9 & 4.87 & 1.5 & 2.8 & 1.2 & 3.72 & 1 & 0 & 1 & 0 & 2 & 155.2 & 70.6 & 102 & 84 & 2 & Caucasian & 29.3 & 133 & 85 \\\\\n",
       "\t30 & 354811 & 2288 & 2 & 0 & 0.114 & 0 & 4.8 & 7.5 & 4.9 & 1.71 & 2.8 & 0.75 & 0.96 & 1 & 0 & 1 & 0 & 2 & 158.1 & 57.1 & 95 & 65.5 & 2 & Caucasian & 22.8 & 117 & X \\\\\n",
       "\t$\\dots$ & $\\dots$ & $\\dots$ & $\\dots$ & $\\dots$ & $\\dots$ & $\\dots$ & $\\dots$ & $\\dots$ & $\\dots$ & $\\dots$ & $\\dots$ & $\\dots$ & $\\dots$ & $\\dots$ & $\\dots$ & $\\dots$ & $\\dots$ & $\\dots$ & $\\dots$ & $\\dots$ & $\\dots$ & $\\dots$ & $\\dots$ & $\\dots$ & $\\dots$ & $\\dots$ & $\\dots$ \\\\\n",
       "\\end{tabular}\n"
      ],
      "text/plain": [
       "5402×27 DataFrame. Omitted printing of 22 columns\n",
       "│ Row  │ dbGaP_Subject_ID │ SUBJID │ SEX    │ a10atc  │ crp3dec │\n",
       "│      │ \u001b[90mInt64⍰\u001b[39m           │ \u001b[90mInt64⍰\u001b[39m │ \u001b[90mInt64⍰\u001b[39m │ \u001b[90mString⍰\u001b[39m │ \u001b[90mString⍰\u001b[39m │\n",
       "├──────┼──────────────────┼────────┼────────┼─────────┼─────────┤\n",
       "│ 1    │ 356529           │ 2864   │ 2      │ 0       │ 0.373   │\n",
       "│ 2    │ 358247           │ 2374   │ 1      │ 0       │ 0.38    │\n",
       "│ 3    │ 356035           │ 2803   │ 1      │ 0       │ 9.214   │\n",
       "│ 4    │ 353849           │ 4709   │ 1      │ 0       │ 0.61    │\n",
       "│ 5    │ 354502           │ 4350   │ 1      │ 0       │ 0.593   │\n",
       "│ 6    │ 356015           │ 3480   │ 2      │ 0       │ 1.774   │\n",
       "│ 7    │ 356268           │ 3729   │ 1      │ 0       │ 2.564   │\n",
       "│ 8    │ 358341           │ 4031   │ 1      │ 0       │ 3.998   │\n",
       "│ 9    │ 357054           │ 1104   │ 1      │ 0       │ 3.238   │\n",
       "│ 10   │ 354105           │ 395    │ 1      │ 0       │ 0.83    │\n",
       "⋮\n",
       "│ 5392 │ 354280           │ 5258   │ 2      │ 0       │ 29      │\n",
       "│ 5393 │ 354190           │ 474    │ 1      │ 0       │ 2.017   │\n",
       "│ 5394 │ 356470           │ 2927   │ 2      │ 0       │ 1.89    │\n",
       "│ 5395 │ 353942           │ 468    │ 1      │ 0       │ 1.283   │\n",
       "│ 5396 │ 356994           │ 987    │ 2      │ 0       │ 2.379   │\n",
       "│ 5397 │ 354878           │ 3902   │ 2      │ 0       │ 0.698   │\n",
       "│ 5398 │ 359149           │ 1985   │ 2      │ 0       │ 1.399   │\n",
       "│ 5399 │ 355275           │ 22     │ 1      │ 0       │ 0.084   │\n",
       "│ 5400 │ 355563           │ 3710   │ 1      │ 0       │ 0.079   │\n",
       "│ 5401 │ 358694           │ 3410   │ 1      │ 0       │ 0.015   │\n",
       "│ 5402 │ 353935           │ 3100   │ 2      │ 0       │ 0.092   │"
      ]
     },
     "execution_count": 3,
     "metadata": {},
     "output_type": "execute_result"
    }
   ],
   "source": [
    "# import full genotype data\n",
    "kevin_stampeed = SnpArray(\"../kevin_imputed.bed\")\n",
    "\n",
    "# import full phenotype data\n",
    "phenotype_data = CSV.read(\"full_phenotype_sorted\", delim=',', header=true)"
   ]
  },
  {
   "cell_type": "markdown",
   "metadata": {
    "deletable": true,
    "editable": true
   },
   "source": [
    "# Filtered phenotype and genotype data for LDL (FS_KOL_L)"
   ]
  },
  {
   "cell_type": "code",
   "execution_count": 4,
   "metadata": {
    "collapsed": false,
    "deletable": true,
    "editable": true
   },
   "outputs": [
    {
     "name": "stdout",
     "output_type": "stream",
     "text": [
      "count(snps_to_keep) = 324789\n",
      "count(samples_to_keep) = 4893\n"
     ]
    },
    {
     "data": {
      "text/plain": [
       "4893"
      ]
     },
     "execution_count": 4,
     "metadata": {},
     "output_type": "execute_result"
    }
   ],
   "source": [
    "# exclude samples without HDL measurements\n",
    "LDL = phenotype_data[:FS_KOL_L]\n",
    "missing_LDL_data = LDL .== \"X\"\n",
    "\n",
    "# exclude people that are fasting\n",
    "fasting_data = phenotype_data[:FASTING_STATUS]\n",
    "contains_nonfasting_blood = (fasting_data .== \"1\") .+ (fasting_data .== \"X\")\n",
    "\n",
    "# exlucde people on diabetes medication\n",
    "diabetes_med = phenotype_data[:a10atc]\n",
    "contains_diabetes_medication = (diabetes_med .== \"1\") .+ (diabetes_med .== \"X\")\n",
    "\n",
    "# exclude SNPs with maf < 0.01 and SNPs with HWE p-value < 0.00001\n",
    "rowmask, snps_to_keep = SnpArrays.filter(kevin_stampeed, min_success_rate_per_row=1.0, \n",
    "    min_success_rate_per_col=1.0, min_maf=0.01, min_hwe_pval=1e-5)\n",
    "\n",
    "# combine\n",
    "samples_to_exclude = missing_LDL_data .+ contains_nonfasting_blood .+ contains_diabetes_medication .+ rowmask\n",
    "samples_to_keep = samples_to_exclude .== 0\n",
    "\n",
    "@show count(snps_to_keep)\n",
    "@show count(samples_to_keep)"
   ]
  },
  {
   "cell_type": "code",
   "execution_count": 5,
   "metadata": {
    "collapsed": false,
    "deletable": true,
    "editable": true
   },
   "outputs": [
    {
     "data": {
      "text/plain": [
       "4893×324789 SnpArray:\n",
       " 0x03  0x03  0x03  0x03  0x03  0x03  …  0x03  0x02  0x03  0x03  0x03  0x03\n",
       " 0x03  0x02  0x02  0x02  0x02  0x03     0x03  0x03  0x02  0x03  0x03  0x03\n",
       " 0x02  0x03  0x03  0x03  0x02  0x03     0x02  0x02  0x03  0x03  0x03  0x03\n",
       " 0x03  0x03  0x03  0x03  0x02  0x03     0x03  0x03  0x03  0x03  0x03  0x03\n",
       " 0x03  0x03  0x03  0x03  0x03  0x03     0x03  0x02  0x03  0x03  0x03  0x03\n",
       " 0x03  0x03  0x03  0x03  0x02  0x03  …  0x03  0x02  0x03  0x03  0x03  0x03\n",
       " 0x03  0x03  0x03  0x03  0x02  0x03     0x02  0x02  0x02  0x02  0x02  0x03\n",
       " 0x03  0x03  0x03  0x03  0x03  0x03     0x02  0x02  0x03  0x03  0x03  0x03\n",
       " 0x03  0x03  0x03  0x03  0x03  0x03     0x03  0x00  0x00  0x00  0x00  0x03\n",
       " 0x02  0x00  0x00  0x00  0x03  0x03     0x03  0x02  0x03  0x03  0x03  0x03\n",
       " 0x03  0x03  0x03  0x03  0x02  0x03  …  0x03  0x00  0x03  0x03  0x03  0x02\n",
       " 0x03  0x03  0x03  0x03  0x02  0x03     0x03  0x00  0x00  0x03  0x03  0x03\n",
       " 0x03  0x02  0x02  0x02  0x03  0x03     0x03  0x03  0x00  0x02  0x02  0x03\n",
       "    ⋮                             ⋮  ⋱                 ⋮                  \n",
       " 0x03  0x03  0x03  0x03  0x03  0x03     0x03  0x02  0x03  0x03  0x03  0x03\n",
       " 0x03  0x03  0x03  0x03  0x03  0x03     0x03  0x03  0x03  0x03  0x03  0x03\n",
       " 0x03  0x03  0x03  0x03  0x02  0x03     0x03  0x02  0x02  0x02  0x02  0x03\n",
       " 0x03  0x02  0x02  0x02  0x03  0x03     0x03  0x02  0x03  0x03  0x03  0x02\n",
       " 0x03  0x02  0x02  0x02  0x03  0x03  …  0x03  0x02  0x03  0x03  0x03  0x03\n",
       " 0x03  0x03  0x03  0x03  0x03  0x03     0x03  0x02  0x03  0x03  0x03  0x03\n",
       " 0x03  0x03  0x03  0x03  0x03  0x03     0x03  0x00  0x03  0x03  0x03  0x03\n",
       " 0x03  0x02  0x02  0x02  0x02  0x03     0x03  0x03  0x00  0x03  0x03  0x03\n",
       " 0x03  0x03  0x03  0x03  0x03  0x03     0x03  0x00  0x03  0x03  0x03  0x03\n",
       " 0x03  0x03  0x03  0x03  0x03  0x03  …  0x03  0x03  0x03  0x03  0x03  0x03\n",
       " 0x03  0x03  0x03  0x03  0x03  0x03     0x03  0x02  0x03  0x03  0x03  0x03\n",
       " 0x03  0x03  0x03  0x03  0x02  0x03     0x02  0x03  0x03  0x03  0x03  0x03"
      ]
     },
     "execution_count": 5,
     "metadata": {},
     "output_type": "execute_result"
    }
   ],
   "source": [
    "SnpArrays.filter(\"../kevin_imputed\", samples_to_keep, snps_to_keep, des=\"kevin_imputed_filtered_LDL\")"
   ]
  },
  {
   "cell_type": "markdown",
   "metadata": {
    "deletable": true,
    "editable": true
   },
   "source": [
    "## Compute top 2 principal components on resulting file using plink2\n",
    "\n",
    "The following command was executed:\n",
    "```\n",
    "./plink2 --bfile kevin_imputed_filtered_LDL --pca 2\n",
    "```"
   ]
  },
  {
   "cell_type": "markdown",
   "metadata": {
    "deletable": true,
    "editable": true
   },
   "source": [
    "# Begin analysis\n",
    "\n",
    "Here we truncate the LDL level at 160 mg/dL, which is the range for [high LDL cholesterol category](https://medlineplus.gov/ldlthebadcholesterol.html). "
   ]
  },
  {
   "cell_type": "code",
   "execution_count": 6,
   "metadata": {
    "collapsed": false,
    "deletable": true,
    "editable": true
   },
   "outputs": [
    {
     "data": {
      "text/plain": [
       "true"
      ]
     },
     "execution_count": 6,
     "metadata": {},
     "output_type": "execute_result"
    }
   ],
   "source": [
    "# first check genotype and phenotype files actually match \n",
    "genotype_order = CSV.read(\"kevin_imputed_filtered_LDL.fam\", delim=' ', header=false)[:, 1]\n",
    "phenotype_order = phenotype_data[samples_to_keep, 2]\n",
    "all(phenotype_order .== genotype_order)"
   ]
  },
  {
   "cell_type": "code",
   "execution_count": 7,
   "metadata": {
    "collapsed": false,
    "deletable": true,
    "editable": true,
    "scrolled": true
   },
   "outputs": [
    {
     "name": "stdout",
     "output_type": "stream",
     "text": [
      "count(!iszero, y) = 932\n"
     ]
    },
    {
     "data": {
      "text/plain": [
       "4893×2 Array{Float64,2}:\n",
       " 1.0  162.395 \n",
       " 0.0   81.1973\n",
       " 1.0  216.526 \n",
       " 0.0   88.9304\n",
       " 0.0   69.5977\n",
       " 0.0   69.5977\n",
       " 0.0  131.462 \n",
       " 0.0   88.9304\n",
       " 0.0  135.329 \n",
       " 0.0   81.1973\n",
       " 0.0  104.397 \n",
       " 1.0  170.128 \n",
       " 0.0  119.863 \n",
       " ⋮            \n",
       " 0.0  139.195 \n",
       " 0.0   88.9304\n",
       " 0.0  131.462 \n",
       " 0.0  123.729 \n",
       " 0.0  123.729 \n",
       " 1.0  173.994 \n",
       " 1.0  158.528 \n",
       " 0.0  123.729 \n",
       " 1.0  158.528 \n",
       " 0.0   85.0639\n",
       " 0.0  143.062 \n",
       " 0.0   61.8646"
      ]
     },
     "execution_count": 7,
     "metadata": {},
     "output_type": "execute_result"
    }
   ],
   "source": [
    "cutoff = 145\n",
    "molecular_weight = 386.654 #g/mol \n",
    "\n",
    "# convert LDL from mmol/L to mg/dL\n",
    "LDL_converted = parse.(Float64, LDL[samples_to_keep]) .* molecular_weight ./ 10\n",
    "\n",
    "# truncate \n",
    "LDL_truncated = LDL_converted .>= cutoff\n",
    "y = convert(Vector{Float64}, LDL_truncated)\n",
    "@show count(!iszero, y)\n",
    "\n",
    "# check truncation\n",
    "[y LDL_converted]"
   ]
  },
  {
   "cell_type": "code",
   "execution_count": 8,
   "metadata": {
    "collapsed": false,
    "deletable": true,
    "editable": true
   },
   "outputs": [
    {
     "data": {
      "text/plain": [
       "4893×324789 SnpArray:\n",
       " 0x03  0x03  0x03  0x03  0x03  0x03  …  0x03  0x02  0x03  0x03  0x03  0x03\n",
       " 0x03  0x02  0x02  0x02  0x02  0x03     0x03  0x03  0x02  0x03  0x03  0x03\n",
       " 0x02  0x03  0x03  0x03  0x02  0x03     0x02  0x02  0x03  0x03  0x03  0x03\n",
       " 0x03  0x03  0x03  0x03  0x02  0x03     0x03  0x03  0x03  0x03  0x03  0x03\n",
       " 0x03  0x03  0x03  0x03  0x03  0x03     0x03  0x02  0x03  0x03  0x03  0x03\n",
       " 0x03  0x03  0x03  0x03  0x02  0x03  …  0x03  0x02  0x03  0x03  0x03  0x03\n",
       " 0x03  0x03  0x03  0x03  0x02  0x03     0x02  0x02  0x02  0x02  0x02  0x03\n",
       " 0x03  0x03  0x03  0x03  0x03  0x03     0x02  0x02  0x03  0x03  0x03  0x03\n",
       " 0x03  0x03  0x03  0x03  0x03  0x03     0x03  0x00  0x00  0x00  0x00  0x03\n",
       " 0x02  0x00  0x00  0x00  0x03  0x03     0x03  0x02  0x03  0x03  0x03  0x03\n",
       " 0x03  0x03  0x03  0x03  0x02  0x03  …  0x03  0x00  0x03  0x03  0x03  0x02\n",
       " 0x03  0x03  0x03  0x03  0x02  0x03     0x03  0x00  0x00  0x03  0x03  0x03\n",
       " 0x03  0x02  0x02  0x02  0x03  0x03     0x03  0x03  0x00  0x02  0x02  0x03\n",
       "    ⋮                             ⋮  ⋱                 ⋮                  \n",
       " 0x03  0x03  0x03  0x03  0x03  0x03     0x03  0x02  0x03  0x03  0x03  0x03\n",
       " 0x03  0x03  0x03  0x03  0x03  0x03     0x03  0x03  0x03  0x03  0x03  0x03\n",
       " 0x03  0x03  0x03  0x03  0x02  0x03     0x03  0x02  0x02  0x02  0x02  0x03\n",
       " 0x03  0x02  0x02  0x02  0x03  0x03     0x03  0x02  0x03  0x03  0x03  0x02\n",
       " 0x03  0x02  0x02  0x02  0x03  0x03  …  0x03  0x02  0x03  0x03  0x03  0x03\n",
       " 0x03  0x03  0x03  0x03  0x03  0x03     0x03  0x02  0x03  0x03  0x03  0x03\n",
       " 0x03  0x03  0x03  0x03  0x03  0x03     0x03  0x00  0x03  0x03  0x03  0x03\n",
       " 0x03  0x02  0x02  0x02  0x02  0x03     0x03  0x03  0x00  0x03  0x03  0x03\n",
       " 0x03  0x03  0x03  0x03  0x03  0x03     0x03  0x00  0x03  0x03  0x03  0x03\n",
       " 0x03  0x03  0x03  0x03  0x03  0x03  …  0x03  0x03  0x03  0x03  0x03  0x03\n",
       " 0x03  0x03  0x03  0x03  0x03  0x03     0x03  0x02  0x03  0x03  0x03  0x03\n",
       " 0x03  0x03  0x03  0x03  0x02  0x03     0x02  0x03  0x03  0x03  0x03  0x03"
      ]
     },
     "execution_count": 8,
     "metadata": {},
     "output_type": "execute_result"
    }
   ],
   "source": [
    "x = SnpArray(\"kevin_imputed_filtered_LDL.bed\")"
   ]
  },
  {
   "cell_type": "markdown",
   "metadata": {
    "deletable": true,
    "editable": true
   },
   "source": [
    "# add non-genetic covariates"
   ]
  },
  {
   "cell_type": "code",
   "execution_count": 9,
   "metadata": {
    "collapsed": false,
    "deletable": true,
    "editable": true
   },
   "outputs": [
    {
     "data": {
      "text/plain": [
       "4893-element view(::Array{Float64,2}, :, 4) with eltype Float64:\n",
       "  0.10918913881138093 \n",
       " -0.7345256818351892  \n",
       " -0.40101026842192733 \n",
       "  0.22617552428135446 \n",
       " -0.4699760018100405  \n",
       " -1.1970016940344952  \n",
       "  0.38950673151161685 \n",
       " -0.17837942757154795 \n",
       " -0.5241565193518678  \n",
       " -0.7190543267796122  \n",
       " -0.7309446086939345  \n",
       " -0.752549950360606   \n",
       " -0.04493052713418643 \n",
       "  ⋮                   \n",
       " -0.10517306011010917 \n",
       " -0.966162362093146   \n",
       " -0.6935398800765202  \n",
       " -0.33943679324278325 \n",
       " -0.23620676451933265 \n",
       " -0.16548196883624772 \n",
       "  0.257249726921914   \n",
       " -0.4297553746639755  \n",
       "  0.023923787318106026\n",
       "  0.07236913229281212 \n",
       " -0.4437726181842657  \n",
       "  0.07376309299017944 "
      ]
     },
     "execution_count": 9,
     "metadata": {},
     "output_type": "execute_result"
    }
   ],
   "source": [
    "n, p = size(x)\n",
    "z = zeros(n, 4) \n",
    "\n",
    "# add intercept\n",
    "z[:, 1] .= ones(n) \n",
    "\n",
    "# add sexOCPG \n",
    "for i in 1:n\n",
    "    if phenotype_data[:SEX][i] == 1 #males\n",
    "        z[i, 2] = 0.0\n",
    "    else\n",
    "        # oral contraceptive: 0 = no, 1 = yes, X = unknown\n",
    "        # pregnancy: 1 = yes, 2 = no, 3 and X = unknown\n",
    "        my_covariates = (phenotype_data[:ZP4202U][i], phenotype_data[:ZT20][i])\n",
    "        \n",
    "        my_covariates == (\"0\", \"1\") && (z[i, 2] = 1)\n",
    "        my_covariates == (\"0\", \"2\") && (z[i, 2] = 2)\n",
    "        my_covariates == (\"0\", \"3\") && (z[i, 2] = 3)\n",
    "        my_covariates == (\"0\", \"X\") && (z[i, 2] = 3)\n",
    "        \n",
    "        my_covariates == (\"1\", \"1\") && (z[i, 2] = 4)\n",
    "        my_covariates == (\"1\", \"2\") && (z[i, 2] = 5)\n",
    "        my_covariates == (\"1\", \"3\") && (z[i, 2] = 6)\n",
    "        my_covariates == (\"1\", \"X\") && (z[i, 2] = 6)\n",
    "        \n",
    "        my_covariates == (\"X\", \"1\") && (z[i, 2] = 7)\n",
    "        my_covariates == (\"X\", \"2\") && (z[i, 2] = 8)\n",
    "        my_covariates == (\"X\", \"3\") && (z[i, 2] = 9)\n",
    "        my_covariates == (\"X\", \"X\") && (z[i, 2] = 9)\n",
    "    end \n",
    "end\n",
    "\n",
    "# add first 2 principal components\n",
    "pc = CSV.read(\"kevin_imputed_filtered_LDL.eigenvec\", delim=\"\\t\", header=true)\n",
    "pc1 = pc[:, 3]\n",
    "pc2 = pc[:, 4]\n",
    "\n",
    "# standardize all covariates\n",
    "mean_sexOCPG = mean(z[:, 2])\n",
    "mean_pc1 = mean(pc1)\n",
    "mean_pc2 = mean(pc2)\n",
    "std_pc1 = std(pc1)\n",
    "std_pc2 = std(pc2)\n",
    "std_sexOCPG = std(z[:, 2])\n",
    "z[:, 2] .= (z[:, 2] .- mean_sexOCPG) ./ std_sexOCPG\n",
    "z[:, 3] .= (pc1 .- mean_pc1) ./ std_pc1\n",
    "z[:, 4] .= (pc2 .- mean_pc2) ./ std_pc2"
   ]
  },
  {
   "cell_type": "markdown",
   "metadata": {
    "deletable": true,
    "editable": true
   },
   "source": [
    "# Run Cross validation"
   ]
  },
  {
   "cell_type": "code",
   "execution_count": 10,
   "metadata": {
    "collapsed": false,
    "deletable": true,
    "editable": true
   },
   "outputs": [
    {
     "data": {
      "text/plain": [
       "4893-element Array{Int64,1}:\n",
       " 5\n",
       " 5\n",
       " 4\n",
       " 3\n",
       " 4\n",
       " 4\n",
       " 4\n",
       " 1\n",
       " 4\n",
       " 5\n",
       " 4\n",
       " 4\n",
       " 4\n",
       " ⋮\n",
       " 1\n",
       " 5\n",
       " 1\n",
       " 2\n",
       " 4\n",
       " 4\n",
       " 3\n",
       " 5\n",
       " 2\n",
       " 2\n",
       " 3\n",
       " 4"
      ]
     },
     "execution_count": 10,
     "metadata": {},
     "output_type": "execute_result"
    }
   ],
   "source": [
    "#set seed\n",
    "Random.seed!(2019)\n",
    "\n",
    "d = Bernoulli\n",
    "l = canonicallink(d())\n",
    "path = collect(1:20)\n",
    "num_folds = 5\n",
    "folds = rand(1:num_folds, size(x, 1))"
   ]
  },
  {
   "cell_type": "code",
   "execution_count": 11,
   "metadata": {
    "collapsed": false,
    "deletable": true,
    "editable": true
   },
   "outputs": [
    {
     "name": "stdout",
     "output_type": "stream",
     "text": [
      "start time = 11:42\n",
      "\n",
      "\n",
      "Crossvalidation Results:\n",
      "\tk\tMSE\n",
      "\t1\t954.0325463026837\n",
      "\t2\t941.357036600655\n",
      "\t3\t938.7044350380628\n",
      "\t4\t939.9824474819263\n",
      "\t5\t942.9919415257091\n",
      "\t6\t946.6448432498211\n",
      "\t7\t946.0341458088332\n",
      "\t8\t954.109030428348\n",
      "\t9\t960.6091985739399\n",
      "\t10\t959.3305785180676\n",
      "\t11\t968.1859464169147\n",
      "\t12\t961.7063457539242\n",
      "\t13\t970.6841587103604\n",
      "\t14\t970.0187888789875\n",
      "\t15\t977.2596277686467\n",
      "\t16\t977.231016599025\n",
      "\t17\t982.1684065356247\n",
      "\t18\t993.8036026006517\n",
      "\t19\t999.4501797610317\n",
      "\t20\t993.1084554757742\n",
      "\n",
      "The lowest MSE is achieved at k = 3 \n",
      "\n",
      "end time = 12:49\n"
     ]
    }
   ],
   "source": [
    "println(\"start time = \" * string(Dates.format(now(), \"HH:MM\")))\n",
    "mses = cv_iht(d(), l, x, z, y, 1, path, folds, num_folds, debias=false, parallel=true)\n",
    "println(\"end time = \" * string(Dates.format(now(), \"HH:MM\")))"
   ]
  },
  {
   "cell_type": "markdown",
   "metadata": {
    "deletable": true,
    "editable": true
   },
   "source": [
    "# Run with full dataset on best $k$"
   ]
  },
  {
   "cell_type": "code",
   "execution_count": 12,
   "metadata": {
    "collapsed": false,
    "deletable": true,
    "editable": true
   },
   "outputs": [
    {
     "name": "stdout",
     "output_type": "stream",
     "text": [
      "k = argmin(mses) = 3\n"
     ]
    },
    {
     "data": {
      "text/plain": [
       "IHT results:\n",
       "\n",
       "Compute time (sec):     45.00387215614319\n",
       "Final loglikelihood:    -2318.800016368827\n",
       "Iterations:             3\n",
       "Max number of groups:   1\n",
       "Max predictors/group:   3\n",
       "IHT estimated 2 nonzero SNP predictors and 1 non-genetic predictors.\n",
       "\n",
       "Genetic predictors:\n",
       "2×2 DataFrame\n",
       "│ Row │ Position │ Estimated_β │\n",
       "│     │ \u001b[90mInt64\u001b[39m    │ \u001b[90mFloat64\u001b[39m     │\n",
       "├─────┼──────────┼─────────────┤\n",
       "│ 1   │ 11780    │ 0.0322938   │\n",
       "│ 2   │ 119293   │ -0.0467026  │\n",
       "\n",
       "Nongenetic predictors:\n",
       "1×2 DataFrame\n",
       "│ Row │ Position │ Estimated_β │\n",
       "│     │ \u001b[90mInt64\u001b[39m    │ \u001b[90mFloat64\u001b[39m     │\n",
       "├─────┼──────────┼─────────────┤\n",
       "│ 1   │ 1        │ 0.19047     │"
      ]
     },
     "execution_count": 12,
     "metadata": {},
     "output_type": "execute_result"
    }
   ],
   "source": [
    "xbm = SnpBitMatrix{Float64}(x, model=ADDITIVE_MODEL, center=true, scale=true); \n",
    "@show k = argmin(mses)\n",
    "d = Normal\n",
    "l = canonicallink(d())\n",
    "result = L0_reg(x, xbm, z, y, 1, k, d(), l, debias=true)"
   ]
  },
  {
   "cell_type": "code",
   "execution_count": 13,
   "metadata": {
    "collapsed": false,
    "deletable": true,
    "editable": true
   },
   "outputs": [
    {
     "data": {
      "text/html": [
       "<table class=\"data-frame\"><thead><tr><th></th><th>Column1</th><th>Column2</th><th>Column3</th><th>Column4</th><th>Column5</th><th>Column6</th></tr><tr><th></th><th>Int64⍰</th><th>String⍰</th><th>Int64⍰</th><th>Int64⍰</th><th>String⍰</th><th>String⍰</th></tr></thead><tbody><p>2 rows × 6 columns</p><tr><th>1</th><td>1</td><td>rs646776</td><td>0</td><td>109620053</td><td>G</td><td>A</td></tr><tr><th>2</th><td>6</td><td>rs6917603</td><td>0</td><td>30125050</td><td>G</td><td>A</td></tr></tbody></table>"
      ],
      "text/latex": [
       "\\begin{tabular}{r|cccccc}\n",
       "\t& Column1 & Column2 & Column3 & Column4 & Column5 & Column6\\\\\n",
       "\t\\hline\n",
       "\t& Int64⍰ & String⍰ & Int64⍰ & Int64⍰ & String⍰ & String⍰\\\\\n",
       "\t\\hline\n",
       "\t1 & 1 & rs646776 & 0 & 109620053 & G & A \\\\\n",
       "\t2 & 6 & rs6917603 & 0 & 30125050 & G & A \\\\\n",
       "\\end{tabular}\n"
      ],
      "text/plain": [
       "2×6 DataFrame\n",
       "│ Row │ Column1 │ Column2   │ Column3 │ Column4   │ Column5 │ Column6 │\n",
       "│     │ \u001b[90mInt64⍰\u001b[39m  │ \u001b[90mString⍰\u001b[39m   │ \u001b[90mInt64⍰\u001b[39m  │ \u001b[90mInt64⍰\u001b[39m    │ \u001b[90mString⍰\u001b[39m │ \u001b[90mString⍰\u001b[39m │\n",
       "├─────┼─────────┼───────────┼─────────┼───────────┼─────────┼─────────┤\n",
       "│ 1   │ 1       │ rs646776  │ 0       │ 109620053 │ G       │ A       │\n",
       "│ 2   │ 6       │ rs6917603 │ 0       │ 30125050  │ G       │ A       │"
      ]
     },
     "execution_count": 13,
     "metadata": {},
     "output_type": "execute_result"
    }
   ],
   "source": [
    "estimated_b = result.beta\n",
    "position = findall(!iszero, estimated_b)\n",
    "found_snps = CSV.read(\"kevin_imputed_filtered_LDL.bim\", delim='\\t', header=false)[position, :]"
   ]
  },
  {
   "cell_type": "code",
   "execution_count": 14,
   "metadata": {
    "collapsed": false,
    "deletable": true,
    "editable": true
   },
   "outputs": [
    {
     "name": "stdout",
     "output_type": "stream",
     "text": [
      "k = argmin(mses) = 3\n"
     ]
    },
    {
     "data": {
      "text/plain": [
       "IHT results:\n",
       "\n",
       "Compute time (sec):     43.26154685020447\n",
       "Final loglikelihood:    -2318.789024629622\n",
       "Iterations:             3\n",
       "Max number of groups:   1\n",
       "Max predictors/group:   3\n",
       "IHT estimated 2 nonzero SNP predictors and 1 non-genetic predictors.\n",
       "\n",
       "Genetic predictors:\n",
       "2×2 DataFrame\n",
       "│ Row │ Position │ Estimated_β │\n",
       "│     │ \u001b[90mInt64\u001b[39m    │ \u001b[90mFloat64\u001b[39m     │\n",
       "├─────┼──────────┼─────────────┤\n",
       "│ 1   │ 11780    │ 0.0322938   │\n",
       "│ 2   │ 119293   │ -0.0467025  │\n",
       "\n",
       "Nongenetic predictors:\n",
       "1×2 DataFrame\n",
       "│ Row │ Position │ Estimated_β │\n",
       "│     │ \u001b[90mInt64\u001b[39m    │ \u001b[90mFloat64\u001b[39m     │\n",
       "├─────┼──────────┼─────────────┤\n",
       "│ 1   │ 1        │ 0.190476    │"
      ]
     },
     "execution_count": 14,
     "metadata": {},
     "output_type": "execute_result"
    }
   ],
   "source": [
    "xbm = SnpBitMatrix{Float64}(x, model=ADDITIVE_MODEL, center=true, scale=true); \n",
    "@show k = argmin(mses)\n",
    "d = Normal\n",
    "l = canonicallink(d())\n",
    "result = L0_reg(x, xbm, z, y, 1, k, d(), l, debias=false)"
   ]
  },
  {
   "cell_type": "code",
   "execution_count": 15,
   "metadata": {
    "collapsed": false,
    "deletable": true,
    "editable": true
   },
   "outputs": [
    {
     "data": {
      "text/html": [
       "<table class=\"data-frame\"><thead><tr><th></th><th>Column1</th><th>Column2</th><th>Column3</th><th>Column4</th><th>Column5</th><th>Column6</th></tr><tr><th></th><th>Int64⍰</th><th>String⍰</th><th>Int64⍰</th><th>Int64⍰</th><th>String⍰</th><th>String⍰</th></tr></thead><tbody><p>2 rows × 6 columns</p><tr><th>1</th><td>1</td><td>rs646776</td><td>0</td><td>109620053</td><td>G</td><td>A</td></tr><tr><th>2</th><td>6</td><td>rs6917603</td><td>0</td><td>30125050</td><td>G</td><td>A</td></tr></tbody></table>"
      ],
      "text/latex": [
       "\\begin{tabular}{r|cccccc}\n",
       "\t& Column1 & Column2 & Column3 & Column4 & Column5 & Column6\\\\\n",
       "\t\\hline\n",
       "\t& Int64⍰ & String⍰ & Int64⍰ & Int64⍰ & String⍰ & String⍰\\\\\n",
       "\t\\hline\n",
       "\t1 & 1 & rs646776 & 0 & 109620053 & G & A \\\\\n",
       "\t2 & 6 & rs6917603 & 0 & 30125050 & G & A \\\\\n",
       "\\end{tabular}\n"
      ],
      "text/plain": [
       "2×6 DataFrame\n",
       "│ Row │ Column1 │ Column2   │ Column3 │ Column4   │ Column5 │ Column6 │\n",
       "│     │ \u001b[90mInt64⍰\u001b[39m  │ \u001b[90mString⍰\u001b[39m   │ \u001b[90mInt64⍰\u001b[39m  │ \u001b[90mInt64⍰\u001b[39m    │ \u001b[90mString⍰\u001b[39m │ \u001b[90mString⍰\u001b[39m │\n",
       "├─────┼─────────┼───────────┼─────────┼───────────┼─────────┼─────────┤\n",
       "│ 1   │ 1       │ rs646776  │ 0       │ 109620053 │ G       │ A       │\n",
       "│ 2   │ 6       │ rs6917603 │ 0       │ 30125050  │ G       │ A       │"
      ]
     },
     "execution_count": 15,
     "metadata": {},
     "output_type": "execute_result"
    }
   ],
   "source": [
    "estimated_b = result.beta\n",
    "position = findall(!iszero, estimated_b)\n",
    "found_snps = CSV.read(\"kevin_imputed_filtered_LDL.bim\", delim='\\t', header=false)[position, :]"
   ]
  },
  {
   "cell_type": "code",
   "execution_count": null,
   "metadata": {
    "collapsed": true,
    "deletable": true,
    "editable": true
   },
   "outputs": [],
   "source": []
  }
 ],
 "metadata": {
  "kernelspec": {
   "display_name": "Julia 1.0.1",
   "language": "julia",
   "name": "julia-1.0"
  },
  "language_info": {
   "file_extension": ".jl",
   "mimetype": "application/julia",
   "name": "julia",
   "version": "1.0.1"
  }
 },
 "nbformat": 4,
 "nbformat_minor": 2
}
