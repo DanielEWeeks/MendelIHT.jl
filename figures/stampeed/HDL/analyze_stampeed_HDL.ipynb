{
 "cells": [
  {
   "cell_type": "markdown",
   "metadata": {
    "deletable": true,
    "editable": true
   },
   "source": [
    "# Analyze HDL using imputed stampeed data\n",
    "\n",
    "Things to check:\n",
    "+ Why did I not get the same number of samples after exclusion criterion for HDL?"
   ]
  },
  {
   "cell_type": "code",
   "execution_count": 1,
   "metadata": {
    "collapsed": false,
    "deletable": true,
    "editable": true
   },
   "outputs": [
    {
     "data": {
      "text/plain": [
       "31"
      ]
     },
     "execution_count": 1,
     "metadata": {},
     "output_type": "execute_result"
    }
   ],
   "source": [
    "using Distributed\n",
    "addprocs(30)\n",
    "nprocs()"
   ]
  },
  {
   "cell_type": "code",
   "execution_count": 2,
   "metadata": {
    "collapsed": false,
    "deletable": true,
    "editable": true
   },
   "outputs": [],
   "source": [
    "using MendelIHT\n",
    "using SnpArrays\n",
    "using DataFrames\n",
    "using Distributions\n",
    "using BenchmarkTools\n",
    "using Random\n",
    "using LinearAlgebra\n",
    "using GLM\n",
    "using CSV\n",
    "using Dates"
   ]
  },
  {
   "cell_type": "markdown",
   "metadata": {
    "deletable": true,
    "editable": true
   },
   "source": [
    "# Import data\n",
    "\n",
    "+ ** For description of what each phenotype column means**, see here:\n",
    "https://www.ncbi.nlm.nih.gov/projects/gap/cgi-bin/dataset.cgi?study_id=phs000276.v2.p1&phv=129612&phd=&pha=2896&pht=2005&phvf=&phdf=&phaf=&phtf=&dssp=1&consent=&temp=1\n",
    "\n",
    "+ **To match up phenotype with genotype**, see `/Volumes/ExternalDrive/stampeed_data/original_dbgap/StudyFiles_decrypted/Release_Notes.phs000276.NFBC66.v2.p1.MULTI.pdf` on page 2. Basically, SUBJID in `phenotype_data` below corresponds to the first column of the `.fam` file (same as `kevin_imputed_filtered_HDL.fam`) at  `/Volumes/ExternalDrive/stampeed_data/original_dbgap/genotypes_decrypted/Mat/NFBC_dbGaP_20091127.fam`."
   ]
  },
  {
   "cell_type": "code",
   "execution_count": 3,
   "metadata": {
    "collapsed": false,
    "deletable": true,
    "editable": true,
    "scrolled": true
   },
   "outputs": [
    {
     "data": {
      "text/html": [
       "<table class=\"data-frame\"><thead><tr><th></th><th>dbGaP_Subject_ID</th><th>SUBJID</th><th>SEX</th><th>a10atc</th><th>crp3dec</th><th>FASTING_STATUS</th><th>FB_GLUK</th><th>FS_INS</th><th>FS_KOL</th><th>FS_KOL_H</th><th>FS_KOL_L</th><th>FS_TRIGL</th><th>HOMA_IR</th><th>PAILAHDE</th><th>Pills31</th><th>PITLAHDE</th><th>ZP4202U</th><th>ZT20</th><th>ZT27</th><th>ZT28</th><th>ZT29</th><th>ZT30</th><th>CASE</th><th>RACE</th><th>BMI</th><th>Systolic Blood Pressure MEAN</th><th>Diastolic Blood Pressure MEAN</th></tr><tr><th></th><th>Int64⍰</th><th>Int64⍰</th><th>Int64⍰</th><th>String⍰</th><th>String⍰</th><th>String⍰</th><th>String⍰</th><th>String⍰</th><th>String⍰</th><th>String⍰</th><th>String⍰</th><th>String⍰</th><th>String⍰</th><th>String⍰</th><th>String⍰</th><th>String⍰</th><th>String⍰</th><th>String⍰</th><th>String⍰</th><th>String⍰</th><th>String⍰</th><th>String⍰</th><th>Int64⍰</th><th>String⍰</th><th>String⍰</th><th>String⍰</th><th>String⍰</th></tr></thead><tbody><p>5,402 rows × 27 columns</p><tr><th>1</th><td>353881</td><td>1</td><td>1</td><td>0</td><td>0.308</td><td>0</td><td>4.8</td><td>6.6</td><td>5.79</td><td>1.22</td><td>4</td><td>1.18</td><td>0.85</td><td>1</td><td>X</td><td>1</td><td>X</td><td>X</td><td>178.5</td><td>70.9</td><td>90</td><td>78.5</td><td>2</td><td>Caucasian</td><td>22.3</td><td>121</td><td>70</td></tr><tr><th>2</th><td>354298</td><td>2</td><td>1</td><td>0</td><td>0.472</td><td>0</td><td>4.8</td><td>14.4</td><td>5.26</td><td>1.21</td><td>2.7</td><td>3.06</td><td>1.83</td><td>1</td><td>X</td><td>1</td><td>X</td><td>X</td><td>182</td><td>86.9</td><td>98</td><td>94</td><td>2</td><td>Caucasian</td><td>26.2</td><td>126</td><td>77</td></tr><tr><th>3</th><td>355106</td><td>3</td><td>2</td><td>X</td><td>0.073</td><td>0</td><td>5</td><td>5.7</td><td>4.44</td><td>1.95</td><td>2.2</td><td>0.65</td><td>0.74</td><td>1</td><td>0</td><td>1</td><td>X</td><td>2</td><td>176.9</td><td>66.5</td><td>95.4</td><td>73.9</td><td>2</td><td>Caucasian</td><td>21.3</td><td>102</td><td>52</td></tr><tr><th>4</th><td>356463</td><td>4</td><td>2</td><td>0</td><td>0.355</td><td>0</td><td>4.4</td><td>5.8</td><td>5.29</td><td>1.6</td><td>3.4</td><td>0.57</td><td>0.73</td><td>1</td><td>0</td><td>1</td><td>X</td><td>2</td><td>170.7</td><td>59.1</td><td>92.5</td><td>71</td><td>2</td><td>Caucasian</td><td>20.3</td><td>100</td><td>66</td></tr><tr><th>5</th><td>356890</td><td>5</td><td>2</td><td>0</td><td>4.335</td><td>0</td><td>4.8</td><td>5.3</td><td>4.16</td><td>1.89</td><td>2</td><td>0.69</td><td>0.68</td><td>1</td><td>0</td><td>1</td><td>X</td><td>2</td><td>168.4</td><td>58.8</td><td>93.5</td><td>71.5</td><td>2</td><td>Caucasian</td><td>20.7</td><td>108</td><td>61</td></tr><tr><th>6</th><td>357608</td><td>6</td><td>2</td><td>0</td><td>0.539</td><td>0</td><td>4.8</td><td>14.4</td><td>5.27</td><td>2.24</td><td>2.6</td><td>0.94</td><td>1.83</td><td>1</td><td>0</td><td>1</td><td>X</td><td>2</td><td>166.6</td><td>64.3</td><td>96</td><td>70.5</td><td>2</td><td>Caucasian</td><td>23.2</td><td>111</td><td>66</td></tr><tr><th>7</th><td>358051</td><td>7</td><td>1</td><td>0</td><td>0.689</td><td>0</td><td>5.8</td><td>12.2</td><td>4.2</td><td>1.32</td><td>2.7</td><td>0.47</td><td>1.63</td><td>1</td><td>X</td><td>1</td><td>X</td><td>X</td><td>179.4</td><td>77.4</td><td>99</td><td>85</td><td>2</td><td>Caucasian</td><td>24</td><td>116</td><td>61</td></tr><tr><th>8</th><td>353837</td><td>8</td><td>1</td><td>0</td><td>2.042</td><td>0</td><td>5.3</td><td>5</td><td>5.36</td><td>1.46</td><td>3.5</td><td>0.84</td><td>0.66</td><td>1</td><td>X</td><td>1</td><td>1</td><td>X</td><td>175</td><td>71.4</td><td>100.5</td><td>80.5</td><td>2</td><td>Caucasian</td><td>23.3</td><td>130</td><td>82</td></tr><tr><th>9</th><td>354785</td><td>9</td><td>2</td><td>0</td><td>0.907</td><td>0</td><td>5.2</td><td>7.2</td><td>4.77</td><td>1.68</td><td>2.3</td><td>1.73</td><td>0.95</td><td>1</td><td>0</td><td>1</td><td>X</td><td>2</td><td>168.1</td><td>71.1</td><td>100.5</td><td>81.5</td><td>2</td><td>Caucasian</td><td>25.2</td><td>131</td><td>70</td></tr><tr><th>10</th><td>358398</td><td>10</td><td>2</td><td>0</td><td>0.599</td><td>0</td><td>4.6</td><td>6.2</td><td>4.27</td><td>1.74</td><td>2.2</td><td>0.77</td><td>0.79</td><td>1</td><td>0</td><td>1</td><td>0</td><td>2</td><td>162.6</td><td>64.1</td><td>98</td><td>77.5</td><td>2</td><td>Caucasian</td><td>24.2</td><td>120</td><td>76</td></tr><tr><th>11</th><td>354813</td><td>11</td><td>2</td><td>0</td><td>0.444</td><td>0</td><td>4.7</td><td>9.7</td><td>5.27</td><td>1.72</td><td>3</td><td>1.3</td><td>1.23</td><td>2</td><td>0</td><td>1</td><td>X</td><td>2</td><td>168.3</td><td>65</td><td>94.5</td><td>78</td><td>2</td><td>Caucasian</td><td>22.9</td><td>113</td><td>77</td></tr><tr><th>12</th><td>356579</td><td>12</td><td>2</td><td>0</td><td>2.426</td><td>0</td><td>4.6</td><td>7.3</td><td>4.23</td><td>1.38</td><td>2.4</td><td>1.02</td><td>0.93</td><td>1</td><td>0</td><td>1</td><td>X</td><td>2</td><td>161.1</td><td>74.7</td><td>108</td><td>82</td><td>2</td><td>Caucasian</td><td>28.8</td><td>119</td><td>82</td></tr><tr><th>13</th><td>357122</td><td>13</td><td>1</td><td>0</td><td>0.481</td><td>0</td><td>5.2</td><td>9.6</td><td>4.4</td><td>0.98</td><td>2.8</td><td>1.46</td><td>1.25</td><td>1</td><td>X</td><td>1</td><td>1</td><td>X</td><td>171.2</td><td>72.2</td><td>93</td><td>87</td><td>2</td><td>Caucasian</td><td>24.6</td><td>123</td><td>82</td></tr><tr><th>14</th><td>355183</td><td>14</td><td>1</td><td>0</td><td>0.549</td><td>0</td><td>4.7</td><td>17.5</td><td>6.27</td><td>1.35</td><td>4.3</td><td>1.37</td><td>2.2</td><td>1</td><td>X</td><td>1</td><td>X</td><td>X</td><td>188.5</td><td>99.8</td><td>105</td><td>100.5</td><td>2</td><td>Caucasian</td><td>28.1</td><td>141</td><td>101</td></tr><tr><th>15</th><td>357171</td><td>15</td><td>2</td><td>0</td><td>0.093</td><td>0</td><td>4.5</td><td>6.1</td><td>5.98</td><td>1.97</td><td>3.4</td><td>1.39</td><td>0.77</td><td>2</td><td>0</td><td>2</td><td>X</td><td>1</td><td>161</td><td>65</td><td>X</td><td>X</td><td>2</td><td>Caucasian</td><td>25.1</td><td>115</td><td>54</td></tr><tr><th>16</th><td>356151</td><td>16</td><td>1</td><td>1</td><td>0.004</td><td>1</td><td>18.5</td><td>10.4</td><td>3.38</td><td>1.26</td><td>1.8</td><td>0.72</td><td>2.66</td><td>1</td><td>X</td><td>1</td><td>1</td><td>X</td><td>167</td><td>58.8</td><td>88</td><td>71.5</td><td>2</td><td>Caucasian</td><td>21.1</td><td>132</td><td>75</td></tr><tr><th>17</th><td>355333</td><td>17</td><td>1</td><td>0</td><td>0.391</td><td>0</td><td>5.5</td><td>5.8</td><td>4.5</td><td>1.57</td><td>2.7</td><td>0.54</td><td>0.77</td><td>1</td><td>X</td><td>1</td><td>X</td><td>X</td><td>176</td><td>76.4</td><td>93</td><td>87.5</td><td>2</td><td>Caucasian</td><td>24.7</td><td>150</td><td>89</td></tr><tr><th>18</th><td>354964</td><td>18</td><td>2</td><td>0</td><td>2.5</td><td>0</td><td>4.6</td><td>7.7</td><td>3.77</td><td>1.08</td><td>2.2</td><td>1.18</td><td>0.98</td><td>1</td><td>1</td><td>1</td><td>1</td><td>2</td><td>172.1</td><td>76.8</td><td>101.6</td><td>88</td><td>2</td><td>Caucasian</td><td>25.9</td><td>124</td><td>80</td></tr><tr><th>19</th><td>354387</td><td>19</td><td>1</td><td>0</td><td>1.022</td><td>0</td><td>5.2</td><td>10.6</td><td>6.86</td><td>1.57</td><td>4.1</td><td>2.64</td><td>1.38</td><td>1</td><td>X</td><td>1</td><td>X</td><td>X</td><td>164.9</td><td>72.1</td><td>89</td><td>86</td><td>2</td><td>Caucasian</td><td>26.5</td><td>140</td><td>88</td></tr><tr><th>20</th><td>353932</td><td>20</td><td>2</td><td>0</td><td>0.454</td><td>0</td><td>4.9</td><td>4</td><td>5.15</td><td>2.35</td><td>2.3</td><td>1.01</td><td>0.52</td><td>1</td><td>0</td><td>1</td><td>0</td><td>2</td><td>182.7</td><td>73.7</td><td>96.1</td><td>74.5</td><td>2</td><td>Caucasian</td><td>22.1</td><td>117</td><td>84</td></tr><tr><th>21</th><td>354515</td><td>21</td><td>1</td><td>0</td><td>0.315</td><td>0</td><td>5.2</td><td>7.5</td><td>4.91</td><td>1.23</td><td>3.2</td><td>1.13</td><td>0.98</td><td>1</td><td>X</td><td>1</td><td>X</td><td>X</td><td>176</td><td>81.2</td><td>103</td><td>88</td><td>2</td><td>Caucasian</td><td>26.2</td><td>108</td><td>66</td></tr><tr><th>22</th><td>355275</td><td>22</td><td>1</td><td>0</td><td>0.084</td><td>0</td><td>5.3</td><td>8.9</td><td>5.84</td><td>1.27</td><td>4.1</td><td>1.12</td><td>1.17</td><td>1</td><td>X</td><td>1</td><td>X</td><td>X</td><td>176.3</td><td>77.8</td><td>93</td><td>92.5</td><td>2</td><td>Caucasian</td><td>25</td><td>144</td><td>88</td></tr><tr><th>23</th><td>355848</td><td>23</td><td>1</td><td>0</td><td>0.907</td><td>0</td><td>5.7</td><td>6.9</td><td>5.16</td><td>2.21</td><td>2.6</td><td>0.69</td><td>0.93</td><td>1</td><td>X</td><td>1</td><td>X</td><td>X</td><td>185.6</td><td>90.2</td><td>104.5</td><td>84.5</td><td>2</td><td>Caucasian</td><td>26.2</td><td>147</td><td>92</td></tr><tr><th>24</th><td>358874</td><td>24</td><td>1</td><td>0</td><td>0.033</td><td>0</td><td>5.1</td><td>7.6</td><td>5.74</td><td>1.55</td><td>3.4</td><td>1.69</td><td>0.99</td><td>1</td><td>X</td><td>1</td><td>X</td><td>X</td><td>175.5</td><td>92.4</td><td>105.5</td><td>101.5</td><td>2</td><td>Caucasian</td><td>30</td><td>116</td><td>83</td></tr><tr><th>25</th><td>356942</td><td>25</td><td>1</td><td>0</td><td>0.103</td><td>0</td><td>4.9</td><td>10.9</td><td>4.81</td><td>1.83</td><td>2.5</td><td>1.03</td><td>1.4</td><td>1</td><td>X</td><td>1</td><td>1</td><td>X</td><td>193.5</td><td>83.6</td><td>99.5</td><td>85</td><td>2</td><td>Caucasian</td><td>22.3</td><td>137</td><td>86</td></tr><tr><th>26</th><td>354006</td><td>26</td><td>2</td><td>0</td><td>6.256</td><td>0</td><td>4.4</td><td>7.9</td><td>6.02</td><td>2.38</td><td>2.9</td><td>1.62</td><td>0.99</td><td>1</td><td>1</td><td>1</td><td>1</td><td>2</td><td>162.5</td><td>61.6</td><td>95.5</td><td>74</td><td>2</td><td>Caucasian</td><td>23.3</td><td>131</td><td>72</td></tr><tr><th>27</th><td>354608</td><td>27</td><td>1</td><td>0</td><td>1.156</td><td>0</td><td>4.8</td><td>7.8</td><td>5.65</td><td>1.7</td><td>3.7</td><td>0.65</td><td>1</td><td>1</td><td>X</td><td>1</td><td>1</td><td>2</td><td>167.2</td><td>62.7</td><td>90.5</td><td>84</td><td>2</td><td>Caucasian</td><td>22.4</td><td>144</td><td>47</td></tr><tr><th>28</th><td>356112</td><td>28</td><td>2</td><td>0</td><td>0.118</td><td>0</td><td>4.7</td><td>7.6</td><td>5.49</td><td>2.64</td><td>2.4</td><td>0.94</td><td>0.97</td><td>1</td><td>0</td><td>1</td><td>X</td><td>2</td><td>168</td><td>56.9</td><td>100</td><td>67.5</td><td>2</td><td>Caucasian</td><td>20.2</td><td>119</td><td>67</td></tr><tr><th>29</th><td>353782</td><td>29</td><td>2</td><td>0</td><td>2.659</td><td>0</td><td>5.8</td><td>4.3</td><td>3.92</td><td>1.26</td><td>2</td><td>1.56</td><td>0.58</td><td>1</td><td>1</td><td>1</td><td>1</td><td>2</td><td>168.9</td><td>69.7</td><td>100.5</td><td>74</td><td>2</td><td>Caucasian</td><td>24.4</td><td>130</td><td>84</td></tr><tr><th>30</th><td>356431</td><td>30</td><td>1</td><td>0</td><td>3.975</td><td>0</td><td>5.7</td><td>13.3</td><td>4.46</td><td>1.09</td><td>2.7</td><td>1.49</td><td>1.77</td><td>1</td><td>X</td><td>1</td><td>X</td><td>X</td><td>176.6</td><td>99</td><td>107</td><td>104.3</td><td>2</td><td>Caucasian</td><td>31.7</td><td>136</td><td>82</td></tr><tr><th>&vellip;</th><td>&vellip;</td><td>&vellip;</td><td>&vellip;</td><td>&vellip;</td><td>&vellip;</td><td>&vellip;</td><td>&vellip;</td><td>&vellip;</td><td>&vellip;</td><td>&vellip;</td><td>&vellip;</td><td>&vellip;</td><td>&vellip;</td><td>&vellip;</td><td>&vellip;</td><td>&vellip;</td><td>&vellip;</td><td>&vellip;</td><td>&vellip;</td><td>&vellip;</td><td>&vellip;</td><td>&vellip;</td><td>&vellip;</td><td>&vellip;</td><td>&vellip;</td><td>&vellip;</td><td>&vellip;</td></tr></tbody></table>"
      ],
      "text/latex": [
       "\\begin{tabular}{r|ccccccccccccccccccccccccccc}\n",
       "\t& dbGaP\\_Subject\\_ID & SUBJID & SEX & a10atc & crp3dec & FASTING\\_STATUS & FB\\_GLUK & FS\\_INS & FS\\_KOL & FS\\_KOL\\_H & FS\\_KOL\\_L & FS\\_TRIGL & HOMA\\_IR & PAILAHDE & Pills31 & PITLAHDE & ZP4202U & ZT20 & ZT27 & ZT28 & ZT29 & ZT30 & CASE & RACE & BMI & Systolic Blood Pressure MEAN & Diastolic Blood Pressure MEAN\\\\\n",
       "\t\\hline\n",
       "\t& Int64⍰ & Int64⍰ & Int64⍰ & String⍰ & String⍰ & String⍰ & String⍰ & String⍰ & String⍰ & String⍰ & String⍰ & String⍰ & String⍰ & String⍰ & String⍰ & String⍰ & String⍰ & String⍰ & String⍰ & String⍰ & String⍰ & String⍰ & Int64⍰ & String⍰ & String⍰ & String⍰ & String⍰\\\\\n",
       "\t\\hline\n",
       "\t1 & 353881 & 1 & 1 & 0 & 0.308 & 0 & 4.8 & 6.6 & 5.79 & 1.22 & 4 & 1.18 & 0.85 & 1 & X & 1 & X & X & 178.5 & 70.9 & 90 & 78.5 & 2 & Caucasian & 22.3 & 121 & 70 \\\\\n",
       "\t2 & 354298 & 2 & 1 & 0 & 0.472 & 0 & 4.8 & 14.4 & 5.26 & 1.21 & 2.7 & 3.06 & 1.83 & 1 & X & 1 & X & X & 182 & 86.9 & 98 & 94 & 2 & Caucasian & 26.2 & 126 & 77 \\\\\n",
       "\t3 & 355106 & 3 & 2 & X & 0.073 & 0 & 5 & 5.7 & 4.44 & 1.95 & 2.2 & 0.65 & 0.74 & 1 & 0 & 1 & X & 2 & 176.9 & 66.5 & 95.4 & 73.9 & 2 & Caucasian & 21.3 & 102 & 52 \\\\\n",
       "\t4 & 356463 & 4 & 2 & 0 & 0.355 & 0 & 4.4 & 5.8 & 5.29 & 1.6 & 3.4 & 0.57 & 0.73 & 1 & 0 & 1 & X & 2 & 170.7 & 59.1 & 92.5 & 71 & 2 & Caucasian & 20.3 & 100 & 66 \\\\\n",
       "\t5 & 356890 & 5 & 2 & 0 & 4.335 & 0 & 4.8 & 5.3 & 4.16 & 1.89 & 2 & 0.69 & 0.68 & 1 & 0 & 1 & X & 2 & 168.4 & 58.8 & 93.5 & 71.5 & 2 & Caucasian & 20.7 & 108 & 61 \\\\\n",
       "\t6 & 357608 & 6 & 2 & 0 & 0.539 & 0 & 4.8 & 14.4 & 5.27 & 2.24 & 2.6 & 0.94 & 1.83 & 1 & 0 & 1 & X & 2 & 166.6 & 64.3 & 96 & 70.5 & 2 & Caucasian & 23.2 & 111 & 66 \\\\\n",
       "\t7 & 358051 & 7 & 1 & 0 & 0.689 & 0 & 5.8 & 12.2 & 4.2 & 1.32 & 2.7 & 0.47 & 1.63 & 1 & X & 1 & X & X & 179.4 & 77.4 & 99 & 85 & 2 & Caucasian & 24 & 116 & 61 \\\\\n",
       "\t8 & 353837 & 8 & 1 & 0 & 2.042 & 0 & 5.3 & 5 & 5.36 & 1.46 & 3.5 & 0.84 & 0.66 & 1 & X & 1 & 1 & X & 175 & 71.4 & 100.5 & 80.5 & 2 & Caucasian & 23.3 & 130 & 82 \\\\\n",
       "\t9 & 354785 & 9 & 2 & 0 & 0.907 & 0 & 5.2 & 7.2 & 4.77 & 1.68 & 2.3 & 1.73 & 0.95 & 1 & 0 & 1 & X & 2 & 168.1 & 71.1 & 100.5 & 81.5 & 2 & Caucasian & 25.2 & 131 & 70 \\\\\n",
       "\t10 & 358398 & 10 & 2 & 0 & 0.599 & 0 & 4.6 & 6.2 & 4.27 & 1.74 & 2.2 & 0.77 & 0.79 & 1 & 0 & 1 & 0 & 2 & 162.6 & 64.1 & 98 & 77.5 & 2 & Caucasian & 24.2 & 120 & 76 \\\\\n",
       "\t11 & 354813 & 11 & 2 & 0 & 0.444 & 0 & 4.7 & 9.7 & 5.27 & 1.72 & 3 & 1.3 & 1.23 & 2 & 0 & 1 & X & 2 & 168.3 & 65 & 94.5 & 78 & 2 & Caucasian & 22.9 & 113 & 77 \\\\\n",
       "\t12 & 356579 & 12 & 2 & 0 & 2.426 & 0 & 4.6 & 7.3 & 4.23 & 1.38 & 2.4 & 1.02 & 0.93 & 1 & 0 & 1 & X & 2 & 161.1 & 74.7 & 108 & 82 & 2 & Caucasian & 28.8 & 119 & 82 \\\\\n",
       "\t13 & 357122 & 13 & 1 & 0 & 0.481 & 0 & 5.2 & 9.6 & 4.4 & 0.98 & 2.8 & 1.46 & 1.25 & 1 & X & 1 & 1 & X & 171.2 & 72.2 & 93 & 87 & 2 & Caucasian & 24.6 & 123 & 82 \\\\\n",
       "\t14 & 355183 & 14 & 1 & 0 & 0.549 & 0 & 4.7 & 17.5 & 6.27 & 1.35 & 4.3 & 1.37 & 2.2 & 1 & X & 1 & X & X & 188.5 & 99.8 & 105 & 100.5 & 2 & Caucasian & 28.1 & 141 & 101 \\\\\n",
       "\t15 & 357171 & 15 & 2 & 0 & 0.093 & 0 & 4.5 & 6.1 & 5.98 & 1.97 & 3.4 & 1.39 & 0.77 & 2 & 0 & 2 & X & 1 & 161 & 65 & X & X & 2 & Caucasian & 25.1 & 115 & 54 \\\\\n",
       "\t16 & 356151 & 16 & 1 & 1 & 0.004 & 1 & 18.5 & 10.4 & 3.38 & 1.26 & 1.8 & 0.72 & 2.66 & 1 & X & 1 & 1 & X & 167 & 58.8 & 88 & 71.5 & 2 & Caucasian & 21.1 & 132 & 75 \\\\\n",
       "\t17 & 355333 & 17 & 1 & 0 & 0.391 & 0 & 5.5 & 5.8 & 4.5 & 1.57 & 2.7 & 0.54 & 0.77 & 1 & X & 1 & X & X & 176 & 76.4 & 93 & 87.5 & 2 & Caucasian & 24.7 & 150 & 89 \\\\\n",
       "\t18 & 354964 & 18 & 2 & 0 & 2.5 & 0 & 4.6 & 7.7 & 3.77 & 1.08 & 2.2 & 1.18 & 0.98 & 1 & 1 & 1 & 1 & 2 & 172.1 & 76.8 & 101.6 & 88 & 2 & Caucasian & 25.9 & 124 & 80 \\\\\n",
       "\t19 & 354387 & 19 & 1 & 0 & 1.022 & 0 & 5.2 & 10.6 & 6.86 & 1.57 & 4.1 & 2.64 & 1.38 & 1 & X & 1 & X & X & 164.9 & 72.1 & 89 & 86 & 2 & Caucasian & 26.5 & 140 & 88 \\\\\n",
       "\t20 & 353932 & 20 & 2 & 0 & 0.454 & 0 & 4.9 & 4 & 5.15 & 2.35 & 2.3 & 1.01 & 0.52 & 1 & 0 & 1 & 0 & 2 & 182.7 & 73.7 & 96.1 & 74.5 & 2 & Caucasian & 22.1 & 117 & 84 \\\\\n",
       "\t21 & 354515 & 21 & 1 & 0 & 0.315 & 0 & 5.2 & 7.5 & 4.91 & 1.23 & 3.2 & 1.13 & 0.98 & 1 & X & 1 & X & X & 176 & 81.2 & 103 & 88 & 2 & Caucasian & 26.2 & 108 & 66 \\\\\n",
       "\t22 & 355275 & 22 & 1 & 0 & 0.084 & 0 & 5.3 & 8.9 & 5.84 & 1.27 & 4.1 & 1.12 & 1.17 & 1 & X & 1 & X & X & 176.3 & 77.8 & 93 & 92.5 & 2 & Caucasian & 25 & 144 & 88 \\\\\n",
       "\t23 & 355848 & 23 & 1 & 0 & 0.907 & 0 & 5.7 & 6.9 & 5.16 & 2.21 & 2.6 & 0.69 & 0.93 & 1 & X & 1 & X & X & 185.6 & 90.2 & 104.5 & 84.5 & 2 & Caucasian & 26.2 & 147 & 92 \\\\\n",
       "\t24 & 358874 & 24 & 1 & 0 & 0.033 & 0 & 5.1 & 7.6 & 5.74 & 1.55 & 3.4 & 1.69 & 0.99 & 1 & X & 1 & X & X & 175.5 & 92.4 & 105.5 & 101.5 & 2 & Caucasian & 30 & 116 & 83 \\\\\n",
       "\t25 & 356942 & 25 & 1 & 0 & 0.103 & 0 & 4.9 & 10.9 & 4.81 & 1.83 & 2.5 & 1.03 & 1.4 & 1 & X & 1 & 1 & X & 193.5 & 83.6 & 99.5 & 85 & 2 & Caucasian & 22.3 & 137 & 86 \\\\\n",
       "\t26 & 354006 & 26 & 2 & 0 & 6.256 & 0 & 4.4 & 7.9 & 6.02 & 2.38 & 2.9 & 1.62 & 0.99 & 1 & 1 & 1 & 1 & 2 & 162.5 & 61.6 & 95.5 & 74 & 2 & Caucasian & 23.3 & 131 & 72 \\\\\n",
       "\t27 & 354608 & 27 & 1 & 0 & 1.156 & 0 & 4.8 & 7.8 & 5.65 & 1.7 & 3.7 & 0.65 & 1 & 1 & X & 1 & 1 & 2 & 167.2 & 62.7 & 90.5 & 84 & 2 & Caucasian & 22.4 & 144 & 47 \\\\\n",
       "\t28 & 356112 & 28 & 2 & 0 & 0.118 & 0 & 4.7 & 7.6 & 5.49 & 2.64 & 2.4 & 0.94 & 0.97 & 1 & 0 & 1 & X & 2 & 168 & 56.9 & 100 & 67.5 & 2 & Caucasian & 20.2 & 119 & 67 \\\\\n",
       "\t29 & 353782 & 29 & 2 & 0 & 2.659 & 0 & 5.8 & 4.3 & 3.92 & 1.26 & 2 & 1.56 & 0.58 & 1 & 1 & 1 & 1 & 2 & 168.9 & 69.7 & 100.5 & 74 & 2 & Caucasian & 24.4 & 130 & 84 \\\\\n",
       "\t30 & 356431 & 30 & 1 & 0 & 3.975 & 0 & 5.7 & 13.3 & 4.46 & 1.09 & 2.7 & 1.49 & 1.77 & 1 & X & 1 & X & X & 176.6 & 99 & 107 & 104.3 & 2 & Caucasian & 31.7 & 136 & 82 \\\\\n",
       "\t$\\dots$ & $\\dots$ & $\\dots$ & $\\dots$ & $\\dots$ & $\\dots$ & $\\dots$ & $\\dots$ & $\\dots$ & $\\dots$ & $\\dots$ & $\\dots$ & $\\dots$ & $\\dots$ & $\\dots$ & $\\dots$ & $\\dots$ & $\\dots$ & $\\dots$ & $\\dots$ & $\\dots$ & $\\dots$ & $\\dots$ & $\\dots$ & $\\dots$ & $\\dots$ & $\\dots$ & $\\dots$ \\\\\n",
       "\\end{tabular}\n"
      ],
      "text/plain": [
       "5402×27 DataFrame. Omitted printing of 22 columns\n",
       "│ Row  │ dbGaP_Subject_ID │ SUBJID │ SEX    │ a10atc  │ crp3dec │\n",
       "│      │ \u001b[90mInt64⍰\u001b[39m           │ \u001b[90mInt64⍰\u001b[39m │ \u001b[90mInt64⍰\u001b[39m │ \u001b[90mString⍰\u001b[39m │ \u001b[90mString⍰\u001b[39m │\n",
       "├──────┼──────────────────┼────────┼────────┼─────────┼─────────┤\n",
       "│ 1    │ 353881           │ 1      │ 1      │ 0       │ 0.308   │\n",
       "│ 2    │ 354298           │ 2      │ 1      │ 0       │ 0.472   │\n",
       "│ 3    │ 355106           │ 3      │ 2      │ X       │ 0.073   │\n",
       "│ 4    │ 356463           │ 4      │ 2      │ 0       │ 0.355   │\n",
       "│ 5    │ 356890           │ 5      │ 2      │ 0       │ 4.335   │\n",
       "│ 6    │ 357608           │ 6      │ 2      │ 0       │ 0.539   │\n",
       "│ 7    │ 358051           │ 7      │ 1      │ 0       │ 0.689   │\n",
       "│ 8    │ 353837           │ 8      │ 1      │ 0       │ 2.042   │\n",
       "│ 9    │ 354785           │ 9      │ 2      │ 0       │ 0.907   │\n",
       "│ 10   │ 358398           │ 10     │ 2      │ 0       │ 0.599   │\n",
       "⋮\n",
       "│ 5392 │ 358210           │ 5393   │ 2      │ 0       │ 1.11    │\n",
       "│ 5393 │ 358985           │ 5394   │ 2      │ 0       │ 2.143   │\n",
       "│ 5394 │ 358386           │ 5395   │ 2      │ 0       │ 0.786   │\n",
       "│ 5395 │ 358922           │ 5396   │ 2      │ X       │ X       │\n",
       "│ 5396 │ 357014           │ 5397   │ 2      │ 0       │ 11.059  │\n",
       "│ 5397 │ 357739           │ 5398   │ 2      │ 0       │ 14.279  │\n",
       "│ 5398 │ 355243           │ 5399   │ 1      │ 0       │ 0.392   │\n",
       "│ 5399 │ 357582           │ 5400   │ 2      │ 0       │ 1.602   │\n",
       "│ 5400 │ 353818           │ 5401   │ 1      │ 0       │ 0.653   │\n",
       "│ 5401 │ 356393           │ 5402   │ 2      │ 0       │ 2.864   │\n",
       "│ 5402 │ 358699           │ 5403   │ 1      │ 0       │ 1.003   │"
      ]
     },
     "execution_count": 3,
     "metadata": {},
     "output_type": "execute_result"
    }
   ],
   "source": [
    "# import full genotype data\n",
    "kevin_stampeed = SnpArray(\"kevin_imputed.bed\")\n",
    "\n",
    "# import full phenotype data\n",
    "phenotype_data = CSV.read(\"phs000276.v2.pht002005.v1.p1.c1.NFBC66_Subject_Phenotypes.GRU.txt\", delim='\\t', header=true)"
   ]
  },
  {
   "cell_type": "markdown",
   "metadata": {},
   "source": [
    "# First sort phenotype data so it matches genotype"
   ]
  },
  {
   "cell_type": "code",
   "execution_count": 4,
   "metadata": {
    "collapsed": false
   },
   "outputs": [
    {
     "data": {
      "text/html": [
       "<table class=\"data-frame\"><thead><tr><th></th><th>dbGaP_Subject_ID</th><th>SUBJID</th><th>SEX</th><th>a10atc</th><th>crp3dec</th><th>FASTING_STATUS</th><th>FB_GLUK</th><th>FS_INS</th><th>FS_KOL</th><th>FS_KOL_H</th><th>FS_KOL_L</th><th>FS_TRIGL</th><th>HOMA_IR</th><th>PAILAHDE</th><th>Pills31</th><th>PITLAHDE</th><th>ZP4202U</th><th>ZT20</th><th>ZT27</th><th>ZT28</th><th>ZT29</th><th>ZT30</th><th>CASE</th><th>RACE</th><th>BMI</th><th>Systolic Blood Pressure MEAN</th><th>Diastolic Blood Pressure MEAN</th></tr><tr><th></th><th>Int64⍰</th><th>Int64⍰</th><th>Int64⍰</th><th>String⍰</th><th>String⍰</th><th>String⍰</th><th>String⍰</th><th>String⍰</th><th>String⍰</th><th>String⍰</th><th>String⍰</th><th>String⍰</th><th>String⍰</th><th>String⍰</th><th>String⍰</th><th>String⍰</th><th>String⍰</th><th>String⍰</th><th>String⍰</th><th>String⍰</th><th>String⍰</th><th>String⍰</th><th>Int64⍰</th><th>String⍰</th><th>String⍰</th><th>String⍰</th><th>String⍰</th></tr></thead><tbody><p>5,402 rows × 27 columns</p><tr><th>1</th><td>356529</td><td>2864</td><td>2</td><td>0</td><td>0.373</td><td>0</td><td>4.8</td><td>8.8</td><td>6.73</td><td>2.26</td><td>4.2</td><td>0.64</td><td>1.13</td><td>1</td><td>1</td><td>1</td><td>1</td><td>2</td><td>166.8</td><td>55.7</td><td>92.4</td><td>71.8</td><td>2</td><td>Caucasian</td><td>20</td><td>110</td><td>79</td></tr><tr><th>2</th><td>358247</td><td>2374</td><td>1</td><td>0</td><td>0.38</td><td>0</td><td>5.6</td><td>7</td><td>3.95</td><td>1.55</td><td>2.1</td><td>0.67</td><td>0.94</td><td>1</td><td>X</td><td>1</td><td>X</td><td>X</td><td>179.6</td><td>67.2</td><td>92.5</td><td>79</td><td>2</td><td>Caucasian</td><td>20.8</td><td>117</td><td>72</td></tr><tr><th>3</th><td>356035</td><td>2803</td><td>1</td><td>0</td><td>9.214</td><td>0</td><td>5.7</td><td>12.9</td><td>7.44</td><td>1.19</td><td>5.6</td><td>1.52</td><td>1.72</td><td>1</td><td>X</td><td>1</td><td>X</td><td>X</td><td>177</td><td>101.7</td><td>112</td><td>117</td><td>2</td><td>Caucasian</td><td>32.5</td><td>147</td><td>97</td></tr><tr><th>4</th><td>353849</td><td>4709</td><td>1</td><td>0</td><td>0.61</td><td>0</td><td>4.9</td><td>8.7</td><td>3.92</td><td>1.44</td><td>2.3</td><td>0.35</td><td>1.12</td><td>1</td><td>X</td><td>1</td><td>X</td><td>X</td><td>173.4</td><td>89.9</td><td>103</td><td>102</td><td>2</td><td>Caucasian</td><td>29.9</td><td>125</td><td>60</td></tr><tr><th>5</th><td>354502</td><td>4350</td><td>1</td><td>0</td><td>0.593</td><td>0</td><td>4.9</td><td>3.6</td><td>3.53</td><td>1.53</td><td>1.8</td><td>0.39</td><td>0.47</td><td>1</td><td>X</td><td>1</td><td>1</td><td>2</td><td>170.8</td><td>66.5</td><td>90</td><td>75</td><td>2</td><td>Caucasian</td><td>22.8</td><td>X</td><td>X</td></tr><tr><th>6</th><td>356015</td><td>3480</td><td>2</td><td>0</td><td>1.774</td><td>0</td><td>4.7</td><td>8.7</td><td>3.59</td><td>1.48</td><td>1.8</td><td>0.69</td><td>1.11</td><td>1</td><td>0</td><td>1</td><td>0</td><td>2</td><td>170.5</td><td>71.6</td><td>99</td><td>78</td><td>2</td><td>Caucasian</td><td>24.6</td><td>138</td><td>84</td></tr><tr><th>7</th><td>356268</td><td>3729</td><td>1</td><td>0</td><td>2.564</td><td>0</td><td>4.6</td><td>5.7</td><td>5.71</td><td>2.01</td><td>3.4</td><td>0.6</td><td>0.73</td><td>1</td><td>X</td><td>1</td><td>X</td><td>X</td><td>182</td><td>73.5</td><td>91</td><td>84</td><td>2</td><td>Caucasian</td><td>22.2</td><td>132</td><td>76</td></tr><tr><th>8</th><td>358341</td><td>4031</td><td>1</td><td>0</td><td>3.998</td><td>0</td><td>5.9</td><td>7.6</td><td>4.11</td><td>1.31</td><td>2.3</td><td>1.03</td><td>1.03</td><td>1</td><td>X</td><td>1</td><td>X</td><td>X</td><td>182.3</td><td>85.4</td><td>102</td><td>92</td><td>2</td><td>Caucasian</td><td>25.7</td><td>132</td><td>100</td></tr><tr><th>9</th><td>357054</td><td>1104</td><td>1</td><td>0</td><td>3.238</td><td>0</td><td>5.4</td><td>12.2</td><td>5.93</td><td>0.92</td><td>3.5</td><td>3.24</td><td>1.6</td><td>1</td><td>X</td><td>1</td><td>X</td><td>X</td><td>178.4</td><td>91.1</td><td>102</td><td>99</td><td>2</td><td>Caucasian</td><td>28.6</td><td>140</td><td>110</td></tr><tr><th>10</th><td>354105</td><td>395</td><td>1</td><td>0</td><td>0.83</td><td>0</td><td>4.1</td><td>3.4</td><td>3.97</td><td>1.58</td><td>2.1</td><td>0.54</td><td>0.42</td><td>1</td><td>X</td><td>1</td><td>1</td><td>X</td><td>172.5</td><td>68.3</td><td>89.5</td><td>78.5</td><td>2</td><td>Caucasian</td><td>23</td><td>118</td><td>87</td></tr><tr><th>11</th><td>358843</td><td>114</td><td>2</td><td>0</td><td>0.33</td><td>0</td><td>4.9</td><td>6.7</td><td>4.87</td><td>1.74</td><td>2.7</td><td>1.01</td><td>0.87</td><td>1</td><td>0</td><td>1</td><td>0</td><td>2</td><td>172</td><td>69.9</td><td>93.5</td><td>75.5</td><td>2</td><td>Caucasian</td><td>23.6</td><td>120</td><td>71</td></tr><tr><th>12</th><td>357428</td><td>1835</td><td>1</td><td>0</td><td>0.598</td><td>0</td><td>4.4</td><td>5.9</td><td>6.19</td><td>1.4</td><td>4.4</td><td>0.76</td><td>0.74</td><td>1</td><td>X</td><td>1</td><td>1</td><td>X</td><td>186.4</td><td>75.2</td><td>95.6</td><td>84.8</td><td>2</td><td>Caucasian</td><td>21.6</td><td>118</td><td>75</td></tr><tr><th>13</th><td>355334</td><td>4092</td><td>1</td><td>0</td><td>0.365</td><td>0</td><td>4.8</td><td>6.1</td><td>5.05</td><td>1.66</td><td>3.1</td><td>0.68</td><td>0.79</td><td>1</td><td>X</td><td>1</td><td>X</td><td>X</td><td>170.5</td><td>67.8</td><td>91</td><td>80</td><td>2</td><td>Caucasian</td><td>23.3</td><td>121</td><td>88</td></tr><tr><th>14</th><td>354934</td><td>3609</td><td>1</td><td>0</td><td>0.377</td><td>0</td><td>5.3</td><td>10.5</td><td>5.65</td><td>1.29</td><td>3.8</td><td>1.14</td><td>1.38</td><td>1</td><td>X</td><td>1</td><td>X</td><td>X</td><td>182.2</td><td>82.9</td><td>97.5</td><td>86</td><td>2</td><td>Caucasian</td><td>25</td><td>127</td><td>82</td></tr><tr><th>15</th><td>358359</td><td>2688</td><td>1</td><td>0</td><td>0.189</td><td>0</td><td>5</td><td>5.7</td><td>3.78</td><td>1.17</td><td>2.3</td><td>0.67</td><td>0.74</td><td>1</td><td>X</td><td>1</td><td>X</td><td>X</td><td>187.8</td><td>77.9</td><td>96</td><td>82.5</td><td>2</td><td>Caucasian</td><td>22.1</td><td>127</td><td>84</td></tr><tr><th>16</th><td>356646</td><td>3683</td><td>1</td><td>0</td><td>0.137</td><td>0</td><td>5.8</td><td>8.3</td><td>5.51</td><td>1.47</td><td>2.4</td><td>3.62</td><td>1.12</td><td>1</td><td>X</td><td>1</td><td>X</td><td>X</td><td>170.2</td><td>72.3</td><td>90</td><td>81</td><td>2</td><td>Caucasian</td><td>25</td><td>151</td><td>87</td></tr><tr><th>17</th><td>356211</td><td>2771</td><td>2</td><td>0</td><td>0.335</td><td>0</td><td>4.7</td><td>4.7</td><td>4.81</td><td>1.36</td><td>3.2</td><td>0.54</td><td>0.6</td><td>1</td><td>0</td><td>1</td><td>0</td><td>2</td><td>165.4</td><td>60.4</td><td>94</td><td>71</td><td>2</td><td>Caucasian</td><td>22.1</td><td>116</td><td>57</td></tr><tr><th>18</th><td>353922</td><td>3552</td><td>2</td><td>0</td><td>2.616</td><td>0</td><td>4.7</td><td>9</td><td>4.76</td><td>1.93</td><td>2.3</td><td>1.09</td><td>1.15</td><td>1</td><td>1</td><td>1</td><td>1</td><td>2</td><td>160.6</td><td>54.5</td><td>89</td><td>68.7</td><td>2</td><td>Caucasian</td><td>21.1</td><td>118</td><td>78</td></tr><tr><th>19</th><td>354895</td><td>1799</td><td>1</td><td>0</td><td>0.681</td><td>0</td><td>5.4</td><td>10</td><td>5.84</td><td>1.34</td><td>4</td><td>1.04</td><td>1.32</td><td>1</td><td>X</td><td>1</td><td>1</td><td>X</td><td>185.5</td><td>89.3</td><td>105.5</td><td>96</td><td>2</td><td>Caucasian</td><td>26</td><td>128</td><td>69</td></tr><tr><th>20</th><td>354816</td><td>4841</td><td>1</td><td>0</td><td>2.736</td><td>0</td><td>5.8</td><td>10.1</td><td>5.38</td><td>0.95</td><td>3.6</td><td>1.88</td><td>1.36</td><td>1</td><td>X</td><td>1</td><td>1</td><td>2</td><td>182.5</td><td>91.1</td><td>106</td><td>97.5</td><td>2</td><td>Caucasian</td><td>27.4</td><td>138</td><td>75</td></tr><tr><th>21</th><td>356801</td><td>3339</td><td>2</td><td>0</td><td>0.137</td><td>0</td><td>5.2</td><td>9.4</td><td>3.95</td><td>0.82</td><td>2.7</td><td>0.93</td><td>1.23</td><td>1</td><td>0</td><td>1</td><td>0</td><td>1</td><td>165.2</td><td>55</td><td>91.5</td><td>71</td><td>2</td><td>Caucasian</td><td>20.2</td><td>125</td><td>83</td></tr><tr><th>22</th><td>356460</td><td>185</td><td>2</td><td>0</td><td>0.133</td><td>0</td><td>4.1</td><td>4.5</td><td>3.66</td><td>2.2</td><td>1.3</td><td>0.42</td><td>0.56</td><td>1</td><td>0</td><td>1</td><td>0</td><td>2</td><td>167.3</td><td>54.9</td><td>85.5</td><td>67</td><td>2</td><td>Caucasian</td><td>19.6</td><td>95</td><td>58</td></tr><tr><th>23</th><td>355437</td><td>3481</td><td>1</td><td>0</td><td>5.104</td><td>0</td><td>5.3</td><td>17.5</td><td>5.37</td><td>0.98</td><td>3.7</td><td>1.51</td><td>2.27</td><td>1</td><td>X</td><td>1</td><td>X</td><td>X</td><td>185.4</td><td>99.4</td><td>103</td><td>110</td><td>2</td><td>Caucasian</td><td>28.9</td><td>132</td><td>97</td></tr><tr><th>24</th><td>358185</td><td>2619</td><td>2</td><td>0</td><td>1.023</td><td>0</td><td>4.9</td><td>7.1</td><td>4.33</td><td>1.2</td><td>2.7</td><td>0.9</td><td>0.92</td><td>1</td><td>0</td><td>1</td><td>0</td><td>2</td><td>166.1</td><td>62.3</td><td>97</td><td>71</td><td>2</td><td>Caucasian</td><td>22.6</td><td>112</td><td>73</td></tr><tr><th>25</th><td>357840</td><td>5032</td><td>2</td><td>0</td><td>1.172</td><td>0</td><td>4.2</td><td>6.2</td><td>5.14</td><td>2.13</td><td>2.7</td><td>0.62</td><td>0.77</td><td>1</td><td>0</td><td>1</td><td>0</td><td>2</td><td>165</td><td>58.4</td><td>92</td><td>72.5</td><td>2</td><td>Caucasian</td><td>21.5</td><td>121</td><td>86</td></tr><tr><th>26</th><td>357619</td><td>4381</td><td>2</td><td>0</td><td>0.492</td><td>0</td><td>4.6</td><td>6</td><td>4.7</td><td>1.24</td><td>3</td><td>1.02</td><td>0.77</td><td>1</td><td>0</td><td>1</td><td>0</td><td>2</td><td>164.2</td><td>60.8</td><td>93</td><td>69.8</td><td>2</td><td>Caucasian</td><td>22.6</td><td>109</td><td>68</td></tr><tr><th>27</th><td>354115</td><td>5117</td><td>2</td><td>0</td><td>0.14</td><td>0</td><td>4.6</td><td>6.5</td><td>3.45</td><td>1.52</td><td>1.7</td><td>0.45</td><td>0.83</td><td>1</td><td>0</td><td>1</td><td>0</td><td>1</td><td>171.5</td><td>66.8</td><td>96.5</td><td>74.8</td><td>2</td><td>Caucasian</td><td>22.7</td><td>110</td><td>60</td></tr><tr><th>28</th><td>355194</td><td>594</td><td>1</td><td>0</td><td>X</td><td>0</td><td>5.4</td><td>X</td><td>X</td><td>X</td><td>X</td><td>X</td><td>X</td><td>1</td><td>X</td><td>1</td><td>1</td><td>X</td><td>181.7</td><td>91.9</td><td>107</td><td>95.5</td><td>2</td><td>Caucasian</td><td>27.8</td><td>133</td><td>86</td></tr><tr><th>29</th><td>358981</td><td>755</td><td>2</td><td>1</td><td>4.502</td><td>0</td><td>15</td><td>20.9</td><td>4.87</td><td>1.5</td><td>2.8</td><td>1.2</td><td>3.72</td><td>1</td><td>0</td><td>1</td><td>0</td><td>2</td><td>155.2</td><td>70.6</td><td>102</td><td>84</td><td>2</td><td>Caucasian</td><td>29.3</td><td>133</td><td>85</td></tr><tr><th>30</th><td>354811</td><td>2288</td><td>2</td><td>0</td><td>0.114</td><td>0</td><td>4.8</td><td>7.5</td><td>4.9</td><td>1.71</td><td>2.8</td><td>0.75</td><td>0.96</td><td>1</td><td>0</td><td>1</td><td>0</td><td>2</td><td>158.1</td><td>57.1</td><td>95</td><td>65.5</td><td>2</td><td>Caucasian</td><td>22.8</td><td>117</td><td>X</td></tr><tr><th>&vellip;</th><td>&vellip;</td><td>&vellip;</td><td>&vellip;</td><td>&vellip;</td><td>&vellip;</td><td>&vellip;</td><td>&vellip;</td><td>&vellip;</td><td>&vellip;</td><td>&vellip;</td><td>&vellip;</td><td>&vellip;</td><td>&vellip;</td><td>&vellip;</td><td>&vellip;</td><td>&vellip;</td><td>&vellip;</td><td>&vellip;</td><td>&vellip;</td><td>&vellip;</td><td>&vellip;</td><td>&vellip;</td><td>&vellip;</td><td>&vellip;</td><td>&vellip;</td><td>&vellip;</td><td>&vellip;</td></tr></tbody></table>"
      ],
      "text/latex": [
       "\\begin{tabular}{r|ccccccccccccccccccccccccccc}\n",
       "\t& dbGaP\\_Subject\\_ID & SUBJID & SEX & a10atc & crp3dec & FASTING\\_STATUS & FB\\_GLUK & FS\\_INS & FS\\_KOL & FS\\_KOL\\_H & FS\\_KOL\\_L & FS\\_TRIGL & HOMA\\_IR & PAILAHDE & Pills31 & PITLAHDE & ZP4202U & ZT20 & ZT27 & ZT28 & ZT29 & ZT30 & CASE & RACE & BMI & Systolic Blood Pressure MEAN & Diastolic Blood Pressure MEAN\\\\\n",
       "\t\\hline\n",
       "\t& Int64⍰ & Int64⍰ & Int64⍰ & String⍰ & String⍰ & String⍰ & String⍰ & String⍰ & String⍰ & String⍰ & String⍰ & String⍰ & String⍰ & String⍰ & String⍰ & String⍰ & String⍰ & String⍰ & String⍰ & String⍰ & String⍰ & String⍰ & Int64⍰ & String⍰ & String⍰ & String⍰ & String⍰\\\\\n",
       "\t\\hline\n",
       "\t1 & 356529 & 2864 & 2 & 0 & 0.373 & 0 & 4.8 & 8.8 & 6.73 & 2.26 & 4.2 & 0.64 & 1.13 & 1 & 1 & 1 & 1 & 2 & 166.8 & 55.7 & 92.4 & 71.8 & 2 & Caucasian & 20 & 110 & 79 \\\\\n",
       "\t2 & 358247 & 2374 & 1 & 0 & 0.38 & 0 & 5.6 & 7 & 3.95 & 1.55 & 2.1 & 0.67 & 0.94 & 1 & X & 1 & X & X & 179.6 & 67.2 & 92.5 & 79 & 2 & Caucasian & 20.8 & 117 & 72 \\\\\n",
       "\t3 & 356035 & 2803 & 1 & 0 & 9.214 & 0 & 5.7 & 12.9 & 7.44 & 1.19 & 5.6 & 1.52 & 1.72 & 1 & X & 1 & X & X & 177 & 101.7 & 112 & 117 & 2 & Caucasian & 32.5 & 147 & 97 \\\\\n",
       "\t4 & 353849 & 4709 & 1 & 0 & 0.61 & 0 & 4.9 & 8.7 & 3.92 & 1.44 & 2.3 & 0.35 & 1.12 & 1 & X & 1 & X & X & 173.4 & 89.9 & 103 & 102 & 2 & Caucasian & 29.9 & 125 & 60 \\\\\n",
       "\t5 & 354502 & 4350 & 1 & 0 & 0.593 & 0 & 4.9 & 3.6 & 3.53 & 1.53 & 1.8 & 0.39 & 0.47 & 1 & X & 1 & 1 & 2 & 170.8 & 66.5 & 90 & 75 & 2 & Caucasian & 22.8 & X & X \\\\\n",
       "\t6 & 356015 & 3480 & 2 & 0 & 1.774 & 0 & 4.7 & 8.7 & 3.59 & 1.48 & 1.8 & 0.69 & 1.11 & 1 & 0 & 1 & 0 & 2 & 170.5 & 71.6 & 99 & 78 & 2 & Caucasian & 24.6 & 138 & 84 \\\\\n",
       "\t7 & 356268 & 3729 & 1 & 0 & 2.564 & 0 & 4.6 & 5.7 & 5.71 & 2.01 & 3.4 & 0.6 & 0.73 & 1 & X & 1 & X & X & 182 & 73.5 & 91 & 84 & 2 & Caucasian & 22.2 & 132 & 76 \\\\\n",
       "\t8 & 358341 & 4031 & 1 & 0 & 3.998 & 0 & 5.9 & 7.6 & 4.11 & 1.31 & 2.3 & 1.03 & 1.03 & 1 & X & 1 & X & X & 182.3 & 85.4 & 102 & 92 & 2 & Caucasian & 25.7 & 132 & 100 \\\\\n",
       "\t9 & 357054 & 1104 & 1 & 0 & 3.238 & 0 & 5.4 & 12.2 & 5.93 & 0.92 & 3.5 & 3.24 & 1.6 & 1 & X & 1 & X & X & 178.4 & 91.1 & 102 & 99 & 2 & Caucasian & 28.6 & 140 & 110 \\\\\n",
       "\t10 & 354105 & 395 & 1 & 0 & 0.83 & 0 & 4.1 & 3.4 & 3.97 & 1.58 & 2.1 & 0.54 & 0.42 & 1 & X & 1 & 1 & X & 172.5 & 68.3 & 89.5 & 78.5 & 2 & Caucasian & 23 & 118 & 87 \\\\\n",
       "\t11 & 358843 & 114 & 2 & 0 & 0.33 & 0 & 4.9 & 6.7 & 4.87 & 1.74 & 2.7 & 1.01 & 0.87 & 1 & 0 & 1 & 0 & 2 & 172 & 69.9 & 93.5 & 75.5 & 2 & Caucasian & 23.6 & 120 & 71 \\\\\n",
       "\t12 & 357428 & 1835 & 1 & 0 & 0.598 & 0 & 4.4 & 5.9 & 6.19 & 1.4 & 4.4 & 0.76 & 0.74 & 1 & X & 1 & 1 & X & 186.4 & 75.2 & 95.6 & 84.8 & 2 & Caucasian & 21.6 & 118 & 75 \\\\\n",
       "\t13 & 355334 & 4092 & 1 & 0 & 0.365 & 0 & 4.8 & 6.1 & 5.05 & 1.66 & 3.1 & 0.68 & 0.79 & 1 & X & 1 & X & X & 170.5 & 67.8 & 91 & 80 & 2 & Caucasian & 23.3 & 121 & 88 \\\\\n",
       "\t14 & 354934 & 3609 & 1 & 0 & 0.377 & 0 & 5.3 & 10.5 & 5.65 & 1.29 & 3.8 & 1.14 & 1.38 & 1 & X & 1 & X & X & 182.2 & 82.9 & 97.5 & 86 & 2 & Caucasian & 25 & 127 & 82 \\\\\n",
       "\t15 & 358359 & 2688 & 1 & 0 & 0.189 & 0 & 5 & 5.7 & 3.78 & 1.17 & 2.3 & 0.67 & 0.74 & 1 & X & 1 & X & X & 187.8 & 77.9 & 96 & 82.5 & 2 & Caucasian & 22.1 & 127 & 84 \\\\\n",
       "\t16 & 356646 & 3683 & 1 & 0 & 0.137 & 0 & 5.8 & 8.3 & 5.51 & 1.47 & 2.4 & 3.62 & 1.12 & 1 & X & 1 & X & X & 170.2 & 72.3 & 90 & 81 & 2 & Caucasian & 25 & 151 & 87 \\\\\n",
       "\t17 & 356211 & 2771 & 2 & 0 & 0.335 & 0 & 4.7 & 4.7 & 4.81 & 1.36 & 3.2 & 0.54 & 0.6 & 1 & 0 & 1 & 0 & 2 & 165.4 & 60.4 & 94 & 71 & 2 & Caucasian & 22.1 & 116 & 57 \\\\\n",
       "\t18 & 353922 & 3552 & 2 & 0 & 2.616 & 0 & 4.7 & 9 & 4.76 & 1.93 & 2.3 & 1.09 & 1.15 & 1 & 1 & 1 & 1 & 2 & 160.6 & 54.5 & 89 & 68.7 & 2 & Caucasian & 21.1 & 118 & 78 \\\\\n",
       "\t19 & 354895 & 1799 & 1 & 0 & 0.681 & 0 & 5.4 & 10 & 5.84 & 1.34 & 4 & 1.04 & 1.32 & 1 & X & 1 & 1 & X & 185.5 & 89.3 & 105.5 & 96 & 2 & Caucasian & 26 & 128 & 69 \\\\\n",
       "\t20 & 354816 & 4841 & 1 & 0 & 2.736 & 0 & 5.8 & 10.1 & 5.38 & 0.95 & 3.6 & 1.88 & 1.36 & 1 & X & 1 & 1 & 2 & 182.5 & 91.1 & 106 & 97.5 & 2 & Caucasian & 27.4 & 138 & 75 \\\\\n",
       "\t21 & 356801 & 3339 & 2 & 0 & 0.137 & 0 & 5.2 & 9.4 & 3.95 & 0.82 & 2.7 & 0.93 & 1.23 & 1 & 0 & 1 & 0 & 1 & 165.2 & 55 & 91.5 & 71 & 2 & Caucasian & 20.2 & 125 & 83 \\\\\n",
       "\t22 & 356460 & 185 & 2 & 0 & 0.133 & 0 & 4.1 & 4.5 & 3.66 & 2.2 & 1.3 & 0.42 & 0.56 & 1 & 0 & 1 & 0 & 2 & 167.3 & 54.9 & 85.5 & 67 & 2 & Caucasian & 19.6 & 95 & 58 \\\\\n",
       "\t23 & 355437 & 3481 & 1 & 0 & 5.104 & 0 & 5.3 & 17.5 & 5.37 & 0.98 & 3.7 & 1.51 & 2.27 & 1 & X & 1 & X & X & 185.4 & 99.4 & 103 & 110 & 2 & Caucasian & 28.9 & 132 & 97 \\\\\n",
       "\t24 & 358185 & 2619 & 2 & 0 & 1.023 & 0 & 4.9 & 7.1 & 4.33 & 1.2 & 2.7 & 0.9 & 0.92 & 1 & 0 & 1 & 0 & 2 & 166.1 & 62.3 & 97 & 71 & 2 & Caucasian & 22.6 & 112 & 73 \\\\\n",
       "\t25 & 357840 & 5032 & 2 & 0 & 1.172 & 0 & 4.2 & 6.2 & 5.14 & 2.13 & 2.7 & 0.62 & 0.77 & 1 & 0 & 1 & 0 & 2 & 165 & 58.4 & 92 & 72.5 & 2 & Caucasian & 21.5 & 121 & 86 \\\\\n",
       "\t26 & 357619 & 4381 & 2 & 0 & 0.492 & 0 & 4.6 & 6 & 4.7 & 1.24 & 3 & 1.02 & 0.77 & 1 & 0 & 1 & 0 & 2 & 164.2 & 60.8 & 93 & 69.8 & 2 & Caucasian & 22.6 & 109 & 68 \\\\\n",
       "\t27 & 354115 & 5117 & 2 & 0 & 0.14 & 0 & 4.6 & 6.5 & 3.45 & 1.52 & 1.7 & 0.45 & 0.83 & 1 & 0 & 1 & 0 & 1 & 171.5 & 66.8 & 96.5 & 74.8 & 2 & Caucasian & 22.7 & 110 & 60 \\\\\n",
       "\t28 & 355194 & 594 & 1 & 0 & X & 0 & 5.4 & X & X & X & X & X & X & 1 & X & 1 & 1 & X & 181.7 & 91.9 & 107 & 95.5 & 2 & Caucasian & 27.8 & 133 & 86 \\\\\n",
       "\t29 & 358981 & 755 & 2 & 1 & 4.502 & 0 & 15 & 20.9 & 4.87 & 1.5 & 2.8 & 1.2 & 3.72 & 1 & 0 & 1 & 0 & 2 & 155.2 & 70.6 & 102 & 84 & 2 & Caucasian & 29.3 & 133 & 85 \\\\\n",
       "\t30 & 354811 & 2288 & 2 & 0 & 0.114 & 0 & 4.8 & 7.5 & 4.9 & 1.71 & 2.8 & 0.75 & 0.96 & 1 & 0 & 1 & 0 & 2 & 158.1 & 57.1 & 95 & 65.5 & 2 & Caucasian & 22.8 & 117 & X \\\\\n",
       "\t$\\dots$ & $\\dots$ & $\\dots$ & $\\dots$ & $\\dots$ & $\\dots$ & $\\dots$ & $\\dots$ & $\\dots$ & $\\dots$ & $\\dots$ & $\\dots$ & $\\dots$ & $\\dots$ & $\\dots$ & $\\dots$ & $\\dots$ & $\\dots$ & $\\dots$ & $\\dots$ & $\\dots$ & $\\dots$ & $\\dots$ & $\\dots$ & $\\dots$ & $\\dots$ & $\\dots$ & $\\dots$ \\\\\n",
       "\\end{tabular}\n"
      ],
      "text/plain": [
       "5402×27 DataFrame. Omitted printing of 22 columns\n",
       "│ Row  │ dbGaP_Subject_ID │ SUBJID │ SEX    │ a10atc  │ crp3dec │\n",
       "│      │ \u001b[90mInt64⍰\u001b[39m           │ \u001b[90mInt64⍰\u001b[39m │ \u001b[90mInt64⍰\u001b[39m │ \u001b[90mString⍰\u001b[39m │ \u001b[90mString⍰\u001b[39m │\n",
       "├──────┼──────────────────┼────────┼────────┼─────────┼─────────┤\n",
       "│ 1    │ 356529           │ 2864   │ 2      │ 0       │ 0.373   │\n",
       "│ 2    │ 358247           │ 2374   │ 1      │ 0       │ 0.38    │\n",
       "│ 3    │ 356035           │ 2803   │ 1      │ 0       │ 9.214   │\n",
       "│ 4    │ 353849           │ 4709   │ 1      │ 0       │ 0.61    │\n",
       "│ 5    │ 354502           │ 4350   │ 1      │ 0       │ 0.593   │\n",
       "│ 6    │ 356015           │ 3480   │ 2      │ 0       │ 1.774   │\n",
       "│ 7    │ 356268           │ 3729   │ 1      │ 0       │ 2.564   │\n",
       "│ 8    │ 358341           │ 4031   │ 1      │ 0       │ 3.998   │\n",
       "│ 9    │ 357054           │ 1104   │ 1      │ 0       │ 3.238   │\n",
       "│ 10   │ 354105           │ 395    │ 1      │ 0       │ 0.83    │\n",
       "⋮\n",
       "│ 5392 │ 354280           │ 5258   │ 2      │ 0       │ 29      │\n",
       "│ 5393 │ 354190           │ 474    │ 1      │ 0       │ 2.017   │\n",
       "│ 5394 │ 356470           │ 2927   │ 2      │ 0       │ 1.89    │\n",
       "│ 5395 │ 353942           │ 468    │ 1      │ 0       │ 1.283   │\n",
       "│ 5396 │ 356994           │ 987    │ 2      │ 0       │ 2.379   │\n",
       "│ 5397 │ 354878           │ 3902   │ 2      │ 0       │ 0.698   │\n",
       "│ 5398 │ 359149           │ 1985   │ 2      │ 0       │ 1.399   │\n",
       "│ 5399 │ 355275           │ 22     │ 1      │ 0       │ 0.084   │\n",
       "│ 5400 │ 355563           │ 3710   │ 1      │ 0       │ 0.079   │\n",
       "│ 5401 │ 358694           │ 3410   │ 1      │ 0       │ 0.015   │\n",
       "│ 5402 │ 353935           │ 3100   │ 2      │ 0       │ 0.092   │"
      ]
     },
     "execution_count": 4,
     "metadata": {},
     "output_type": "execute_result"
    }
   ],
   "source": [
    "genotype_order = CSV.read(\"kevin_imputed.fam\", delim=' ', header=false)[:, 1]\n",
    "phenotype_order = phenotype_data[:, 2]\n",
    "\n",
    "phenotype_data_sorted = similar(phenotype_data, 0) \n",
    "for i in 1:size(phenotype_data, 1)\n",
    "    row_in_phenotype = findall(x -> x == genotype_order[i], phenotype_data[:, 2])\n",
    "    length(row_in_phenotype) == 1 || error(\"should have only 1 element\")\n",
    "    push!(phenotype_data_sorted, phenotype_data[row_in_phenotype[1], :])\n",
    "end\n",
    "phenotype_data_sorted"
   ]
  },
  {
   "cell_type": "code",
   "execution_count": 5,
   "metadata": {
    "collapsed": false,
    "deletable": true,
    "editable": true
   },
   "outputs": [
    {
     "data": {
      "text/plain": [
       "true"
      ]
     },
     "execution_count": 5,
     "metadata": {},
     "output_type": "execute_result"
    }
   ],
   "source": [
    "all(phenotype_data_sorted[:, 2] .== genotype_order)"
   ]
  },
  {
   "cell_type": "code",
   "execution_count": 6,
   "metadata": {
    "collapsed": false
   },
   "outputs": [
    {
     "data": {
      "text/plain": [
       "\"full_phenotype_sorted\""
      ]
     },
     "execution_count": 6,
     "metadata": {},
     "output_type": "execute_result"
    }
   ],
   "source": [
    "#save file\n",
    "CSV.write(\"full_phenotype_sorted\", phenotype_data_sorted)"
   ]
  },
  {
   "cell_type": "markdown",
   "metadata": {},
   "source": [
    "# Filtered phenotype and genotype data for HDL phenotype"
   ]
  },
  {
   "cell_type": "code",
   "execution_count": 7,
   "metadata": {
    "collapsed": false
   },
   "outputs": [
    {
     "name": "stdout",
     "output_type": "stream",
     "text": [
      "count(snps_to_keep) = 324789\n",
      "count(samples_to_keep) = 4907\n"
     ]
    },
    {
     "data": {
      "text/plain": [
       "4907"
      ]
     },
     "execution_count": 7,
     "metadata": {},
     "output_type": "execute_result"
    }
   ],
   "source": [
    "#import phenotype data whose order matches the genotypes\n",
    "phenotype_data_sorted = CSV.read(\"full_phenotype_sorted\")\n",
    "\n",
    "# exclude samples without HDL measurements\n",
    "HDL_chol = phenotype_data_sorted[:FS_KOL_H]\n",
    "missing_HDL_data = HDL_chol .== \"X\"\n",
    "\n",
    "# exclude people that are fasting\n",
    "fasting_data = phenotype_data_sorted[:FASTING_STATUS]\n",
    "contains_nonfasting_blood = (fasting_data .== \"1\") .+ (fasting_data .== \"X\")\n",
    "\n",
    "# exlucde people on diabetes medication\n",
    "diabetes_med = phenotype_data_sorted[:a10atc]\n",
    "contains_diabetes_medication = (diabetes_med .== \"1\") .+ (diabetes_med .== \"X\")\n",
    "\n",
    "# exclude SNPs with maf < 0.01 and SNPs with HWE p-value < 0.00001\n",
    "rowmask, snps_to_keep = SnpArrays.filter(kevin_stampeed, min_success_rate_per_row=1.0, \n",
    "    min_success_rate_per_col=1.0, min_maf=0.01, min_hwe_pval=1e-5)\n",
    "\n",
    "# combine\n",
    "samples_to_exclude = missing_HDL_data .+ contains_nonfasting_blood .+ contains_diabetes_medication .+ rowmask\n",
    "samples_to_keep = samples_to_exclude .== 0\n",
    "\n",
    "@show count(snps_to_keep)\n",
    "@show count(samples_to_keep)"
   ]
  },
  {
   "cell_type": "markdown",
   "metadata": {},
   "source": [
    "## write filtered result to new file"
   ]
  },
  {
   "cell_type": "code",
   "execution_count": 8,
   "metadata": {
    "collapsed": false
   },
   "outputs": [
    {
     "data": {
      "text/plain": [
       "4907×324789 SnpArray:\n",
       " 0x03  0x03  0x03  0x03  0x03  0x03  …  0x03  0x02  0x03  0x03  0x03  0x03\n",
       " 0x03  0x02  0x02  0x02  0x02  0x03     0x03  0x03  0x02  0x03  0x03  0x03\n",
       " 0x02  0x03  0x03  0x03  0x02  0x03     0x02  0x02  0x03  0x03  0x03  0x03\n",
       " 0x03  0x03  0x03  0x03  0x02  0x03     0x03  0x03  0x03  0x03  0x03  0x03\n",
       " 0x03  0x03  0x03  0x03  0x03  0x03     0x03  0x02  0x03  0x03  0x03  0x03\n",
       " 0x03  0x03  0x03  0x03  0x02  0x03  …  0x03  0x02  0x03  0x03  0x03  0x03\n",
       " 0x03  0x03  0x03  0x03  0x02  0x03     0x02  0x02  0x02  0x02  0x02  0x03\n",
       " 0x03  0x03  0x03  0x03  0x03  0x03     0x02  0x02  0x03  0x03  0x03  0x03\n",
       " 0x03  0x03  0x03  0x03  0x03  0x03     0x03  0x00  0x00  0x00  0x00  0x03\n",
       " 0x02  0x00  0x00  0x00  0x03  0x03     0x03  0x02  0x03  0x03  0x03  0x03\n",
       " 0x03  0x03  0x03  0x03  0x02  0x03  …  0x03  0x00  0x03  0x03  0x03  0x02\n",
       " 0x03  0x03  0x03  0x03  0x02  0x03     0x03  0x00  0x00  0x03  0x03  0x03\n",
       " 0x03  0x02  0x02  0x02  0x03  0x03     0x03  0x03  0x00  0x02  0x02  0x03\n",
       "    ⋮                             ⋮  ⋱                 ⋮                  \n",
       " 0x03  0x03  0x03  0x03  0x03  0x03  …  0x03  0x02  0x03  0x03  0x03  0x03\n",
       " 0x03  0x03  0x03  0x03  0x03  0x03     0x03  0x03  0x03  0x03  0x03  0x03\n",
       " 0x03  0x03  0x03  0x03  0x02  0x03     0x03  0x02  0x02  0x02  0x02  0x03\n",
       " 0x03  0x02  0x02  0x02  0x03  0x03     0x03  0x02  0x03  0x03  0x03  0x02\n",
       " 0x03  0x02  0x02  0x02  0x03  0x03     0x03  0x02  0x03  0x03  0x03  0x03\n",
       " 0x03  0x03  0x03  0x03  0x03  0x03  …  0x03  0x02  0x03  0x03  0x03  0x03\n",
       " 0x03  0x03  0x03  0x03  0x03  0x03     0x03  0x00  0x03  0x03  0x03  0x03\n",
       " 0x03  0x02  0x02  0x02  0x02  0x03     0x03  0x03  0x00  0x03  0x03  0x03\n",
       " 0x03  0x03  0x03  0x03  0x03  0x03     0x03  0x00  0x03  0x03  0x03  0x03\n",
       " 0x03  0x03  0x03  0x03  0x03  0x03     0x03  0x03  0x03  0x03  0x03  0x03\n",
       " 0x03  0x03  0x03  0x03  0x03  0x03  …  0x03  0x02  0x03  0x03  0x03  0x03\n",
       " 0x03  0x03  0x03  0x03  0x02  0x03     0x02  0x03  0x03  0x03  0x03  0x03"
      ]
     },
     "execution_count": 8,
     "metadata": {},
     "output_type": "execute_result"
    }
   ],
   "source": [
    "SnpArrays.filter(\"kevin_imputed\", samples_to_keep, snps_to_keep, des=\"kevin_imputed_filtered_HDL\")"
   ]
  },
  {
   "cell_type": "markdown",
   "metadata": {},
   "source": [
    "## Compute top 2 principal components on resulting file using plink2\n",
    "\n",
    "The following command was executed:\n",
    "```\n",
    "./plink2 --bfile kevin_imputed_filtered_HDL --pca 2\n",
    "```"
   ]
  },
  {
   "cell_type": "code",
   "execution_count": 9,
   "metadata": {
    "collapsed": false,
    "deletable": true,
    "editable": true
   },
   "outputs": [
    {
     "data": {
      "text/plain": [
       "true"
      ]
     },
     "execution_count": 9,
     "metadata": {},
     "output_type": "execute_result"
    }
   ],
   "source": [
    "genotype_order = CSV.read(\"kevin_imputed.fam\", delim=' ', header=false)[:, 1]\n",
    "all(phenotype_data_sorted[:, 2] .== genotype_order)"
   ]
  },
  {
   "cell_type": "code",
   "execution_count": 10,
   "metadata": {
    "collapsed": false
   },
   "outputs": [
    {
     "data": {
      "text/plain": [
       "true"
      ]
     },
     "execution_count": 10,
     "metadata": {},
     "output_type": "execute_result"
    }
   ],
   "source": [
    "# first filter out samples not used\n",
    "filtered_phenotypes = phenotype_data_sorted[samples_to_keep, :]\n",
    "\n",
    "# order phenotype data so it's columns matches the genotype data\n",
    "filtered_genotype_order = CSV.read(\"kevin_imputed_filtered_HDL.fam\", delim=' ', header=false)[:, 1]\n",
    "\n",
    "# check if both are the same\n",
    "all(filtered_phenotypes[:, 2] .== filtered_genotype_order)"
   ]
  },
  {
   "cell_type": "markdown",
   "metadata": {},
   "source": [
    "# Begin analysis"
   ]
  },
  {
   "cell_type": "code",
   "execution_count": 11,
   "metadata": {
    "collapsed": false
   },
   "outputs": [
    {
     "data": {
      "text/plain": [
       "4907-element Array{Float64,1}:\n",
       " 2.26\n",
       " 1.55\n",
       " 1.19\n",
       " 1.44\n",
       " 1.53\n",
       " 1.48\n",
       " 2.01\n",
       " 1.31\n",
       " 0.92\n",
       " 1.58\n",
       " 1.74\n",
       " 1.4 \n",
       " 1.66\n",
       " ⋮   \n",
       " 1.67\n",
       " 1.62\n",
       " 0.95\n",
       " 2.2 \n",
       " 1.67\n",
       " 1.05\n",
       " 2.2 \n",
       " 1.25\n",
       " 1.27\n",
       " 1.73\n",
       " 1.43\n",
       " 1.49"
      ]
     },
     "execution_count": 11,
     "metadata": {},
     "output_type": "execute_result"
    }
   ],
   "source": [
    "x = SnpArray(\"kevin_imputed_filtered_HDL.bed\")\n",
    "y = parse.(Float64, HDL_chol[samples_to_keep])"
   ]
  },
  {
   "cell_type": "markdown",
   "metadata": {
    "deletable": true,
    "editable": true
   },
   "source": [
    "# Include nongenetic covariates\n",
    "\n",
    "As per Keys and Sabatti, we include intercept, sexOCPG, and first 2 principal components as nongenetic covariates. Here we standardized all covariates other than the intercept, because we want to ensure equal penalty to all covariates."
   ]
  },
  {
   "cell_type": "code",
   "execution_count": 12,
   "metadata": {
    "collapsed": false,
    "deletable": true,
    "editable": true
   },
   "outputs": [
    {
     "data": {
      "text/plain": [
       "4907-element view(::Array{Float64,2}, :, 4) with eltype Float64:\n",
       "  0.11501383899262699\n",
       " -0.731947701751833  \n",
       " -0.40013164774817345\n",
       "  0.233679720519238  \n",
       " -0.47001409107384234\n",
       " -1.1977466058465738 \n",
       "  0.3955613347813178 \n",
       " -0.18019782607838233\n",
       " -0.5253507375192138 \n",
       " -0.7215813612198158 \n",
       " -0.7305818663438984 \n",
       " -0.7541022524969485 \n",
       " -0.04512293804652651\n",
       "  ⋮                  \n",
       " -0.10299240368094033\n",
       " -0.9690497242851563 \n",
       " -0.7020604213125643 \n",
       " -0.33975191671965843\n",
       " -0.23874243466136452\n",
       " -0.15942592102314546\n",
       "  0.25845317310551646\n",
       " -0.433975648299967  \n",
       "  0.03560718021748424\n",
       "  0.07674803386119655\n",
       " -0.4389416857575347 \n",
       "  0.07464324647614845"
      ]
     },
     "execution_count": 12,
     "metadata": {},
     "output_type": "execute_result"
    }
   ],
   "source": [
    "n, p = size(x)\n",
    "z = zeros(n, 4) \n",
    "\n",
    "# add intercept\n",
    "z[:, 1] .= ones(n) \n",
    "\n",
    "# add sexOCPG \n",
    "for i in 1:n\n",
    "    if phenotype_data[:SEX][i] == 1 #males\n",
    "        z[i, 2] = 0.0\n",
    "    else\n",
    "        # oral contraceptive: 0 = no, 1 = yes, X = unknown\n",
    "        # pregnancy: 1 = yes, 2 = no, 3 and X = unknown\n",
    "        my_covariates = (phenotype_data[:ZP4202U][i], phenotype_data[:ZT20][i])\n",
    "        \n",
    "        my_covariates == (\"0\", \"1\") && (z[i, 2] = 1)\n",
    "        my_covariates == (\"0\", \"2\") && (z[i, 2] = 2)\n",
    "        my_covariates == (\"0\", \"3\") && (z[i, 2] = 3)\n",
    "        my_covariates == (\"0\", \"X\") && (z[i, 2] = 3)\n",
    "        \n",
    "        my_covariates == (\"1\", \"1\") && (z[i, 2] = 4)\n",
    "        my_covariates == (\"1\", \"2\") && (z[i, 2] = 5)\n",
    "        my_covariates == (\"1\", \"3\") && (z[i, 2] = 6)\n",
    "        my_covariates == (\"1\", \"X\") && (z[i, 2] = 6)\n",
    "        \n",
    "        my_covariates == (\"X\", \"1\") && (z[i, 2] = 7)\n",
    "        my_covariates == (\"X\", \"2\") && (z[i, 2] = 8)\n",
    "        my_covariates == (\"X\", \"3\") && (z[i, 2] = 9)\n",
    "        my_covariates == (\"X\", \"X\") && (z[i, 2] = 9)\n",
    "    end \n",
    "end\n",
    "\n",
    "# add first 2 principal components\n",
    "pc = CSV.read(\"kevin_imputed_filtered_HDL.eigenvec\", delim=\"\\t\", header=true)\n",
    "pc1 = pc[:, 3]\n",
    "pc2 = pc[:, 4]\n",
    "\n",
    "# standardize all covariates\n",
    "mean_sexOCPG = mean(z[:, 2])\n",
    "mean_pc1 = mean(pc1)\n",
    "mean_pc2 = mean(pc2)\n",
    "std_pc1 = std(pc1)\n",
    "std_pc2 = std(pc2)\n",
    "std_sexOCPG = std(z[:, 2])\n",
    "z[:, 2] .= (z[:, 2] .- mean_sexOCPG) ./ std_sexOCPG\n",
    "z[:, 3] .= (pc1 .- mean_pc1) ./ std_pc1\n",
    "z[:, 4] .= (pc2 .- mean_pc2) ./ std_pc2"
   ]
  },
  {
   "cell_type": "code",
   "execution_count": 13,
   "metadata": {
    "collapsed": false,
    "deletable": true,
    "editable": true
   },
   "outputs": [
    {
     "name": "stdout",
     "output_type": "stream",
     "text": [
      "(mean(z[:, 2]), var(z[:, 2])) = (9.267319153993562e-17, 1.0000000000000022)\n",
      "(mean(z[:, 3]), var(z[:, 3])) = (-9.267319153993562e-17, 1.0000000000000002)\n",
      "(mean(z[:, 4]), var(z[:, 4])) = (-5.792074471245977e-17, 1.0)\n"
     ]
    },
    {
     "data": {
      "text/plain": [
       "(-5.792074471245977e-17, 1.0)"
      ]
     },
     "execution_count": 13,
     "metadata": {},
     "output_type": "execute_result"
    }
   ],
   "source": [
    "@show mean(z[:, 2]), var(z[:, 2])\n",
    "@show mean(z[:, 3]), var(z[:, 3])\n",
    "@show mean(z[:, 4]), var(z[:, 4])"
   ]
  },
  {
   "cell_type": "markdown",
   "metadata": {
    "deletable": true,
    "editable": true
   },
   "source": [
    "# Run cross validation"
   ]
  },
  {
   "cell_type": "code",
   "execution_count": 23,
   "metadata": {
    "collapsed": false,
    "deletable": true,
    "editable": true,
    "scrolled": true
   },
   "outputs": [
    {
     "data": {
      "text/plain": [
       "4907-element Array{Int64,1}:\n",
       " 5\n",
       " 5\n",
       " 4\n",
       " 3\n",
       " 4\n",
       " 4\n",
       " 4\n",
       " 1\n",
       " 4\n",
       " 5\n",
       " 4\n",
       " 4\n",
       " 4\n",
       " ⋮\n",
       " 1\n",
       " 4\n",
       " 3\n",
       " 3\n",
       " 1\n",
       " 3\n",
       " 5\n",
       " 3\n",
       " 3\n",
       " 2\n",
       " 1\n",
       " 5"
      ]
     },
     "execution_count": 23,
     "metadata": {},
     "output_type": "execute_result"
    }
   ],
   "source": [
    "Random.seed!(2019)\n",
    "d = Normal\n",
    "l = canonicallink(d())\n",
    "path = collect(1:20)\n",
    "num_folds = 5\n",
    "folds = rand(1:num_folds, size(x, 1))"
   ]
  },
  {
   "cell_type": "code",
   "execution_count": 24,
   "metadata": {
    "collapsed": false
   },
   "outputs": [
    {
     "name": "stdout",
     "output_type": "stream",
     "text": [
      "start time = 15:13\n",
      "\n",
      "\n",
      "Crossvalidation Results:\n",
      "\tk\tMSE\n",
      "\t1\t145.12410532503964\n",
      "\t2\t134.36040289022387\n",
      "\t3\t130.72472497157796\n",
      "\t4\t125.4161959385786\n",
      "\t5\t126.2359895716371\n",
      "\t6\t125.78257289367798\n",
      "\t7\t124.2757976109952\n",
      "\t8\t125.25632875344488\n",
      "\t9\t124.02063808893105\n",
      "\t10\t124.350144844104\n",
      "\t11\t124.97068957148014\n",
      "\t12\t125.32195687543482\n",
      "\t13\t125.45767566168111\n",
      "\t14\t125.96429524409824\n",
      "\t15\t125.73779936320864\n",
      "\t16\t126.19412010177521\n",
      "\t17\t126.6648667684983\n",
      "\t18\t126.54742881742231\n",
      "\t19\t127.20724353860666\n",
      "\t20\t127.00630454726273\n",
      "\n",
      "The lowest MSE is achieved at k = 9 \n",
      "\n",
      "end time = 17:17\n"
     ]
    }
   ],
   "source": [
    "println(\"start time = \" * string(Dates.format(now(), \"HH:MM\")))\n",
    "mses = cv_iht(d(), l, x, z, y, 1, path, folds, num_folds, debias=false, parallel=true)\n",
    "println(\"end time = \" * string(Dates.format(now(), \"HH:MM\")))"
   ]
  },
  {
   "cell_type": "markdown",
   "metadata": {},
   "source": [
    "# Compute final model"
   ]
  },
  {
   "cell_type": "code",
   "execution_count": 25,
   "metadata": {
    "collapsed": false,
    "deletable": true,
    "editable": true
   },
   "outputs": [
    {
     "name": "stdout",
     "output_type": "stream",
     "text": [
      "k = argmin(mses) = 9\n"
     ]
    },
    {
     "data": {
      "text/plain": [
       "IHT results:\n",
       "\n",
       "Compute time (sec):     81.92405891418457\n",
       "Final loglikelihood:    -1850.6283699345115\n",
       "Iterations:             6\n",
       "Max number of groups:   1\n",
       "Max predictors/group:   9\n",
       "IHT estimated 8 nonzero SNP predictors and 1 non-genetic predictors.\n",
       "\n",
       "Genetic predictors:\n",
       "8×2 DataFrame\n",
       "│ Row │ Position │ Estimated_β │\n",
       "│     │ \u001b[90mInt64\u001b[39m    │ \u001b[90mFloat64\u001b[39m     │\n",
       "├─────┼──────────┼─────────────┤\n",
       "│ 1   │ 119288   │ -0.0296878  │\n",
       "│ 2   │ 119293   │ 0.172518    │\n",
       "│ 3   │ 119294   │ -0.0721499  │\n",
       "│ 4   │ 213243   │ -0.0269039  │\n",
       "│ 5   │ 265116   │ -0.0351221  │\n",
       "│ 6   │ 275336   │ -0.0514734  │\n",
       "│ 7   │ 275338   │ 0.0252196   │\n",
       "│ 8   │ 276491   │ -0.026729   │\n",
       "\n",
       "Nongenetic predictors:\n",
       "1×2 DataFrame\n",
       "│ Row │ Position │ Estimated_β │\n",
       "│     │ \u001b[90mInt64\u001b[39m    │ \u001b[90mFloat64\u001b[39m     │\n",
       "├─────┼──────────┼─────────────┤\n",
       "│ 1   │ 1        │ 1.56218     │"
      ]
     },
     "execution_count": 25,
     "metadata": {},
     "output_type": "execute_result"
    }
   ],
   "source": [
    "xbm = SnpBitMatrix{Float64}(x, model=ADDITIVE_MODEL, center=true, scale=true); \n",
    "@show k = argmin(mses)\n",
    "d = Normal\n",
    "l = canonicallink(d())\n",
    "result = L0_reg(x, xbm, z, y, 1, k, d(), l, debias=true)"
   ]
  },
  {
   "cell_type": "code",
   "execution_count": 26,
   "metadata": {
    "collapsed": false,
    "scrolled": true
   },
   "outputs": [
    {
     "data": {
      "text/html": [
       "<table class=\"data-frame\"><thead><tr><th></th><th>Column1</th><th>Column2</th><th>Column3</th><th>Column4</th><th>Column5</th><th>Column6</th></tr><tr><th></th><th>Int64⍰</th><th>String⍰</th><th>Int64⍰</th><th>Int64⍰</th><th>String⍰</th><th>String⍰</th></tr></thead><tbody><p>8 rows × 6 columns</p><tr><th>1</th><td>6</td><td>rs9261224</td><td>0</td><td>30121866</td><td>A</td><td>G</td></tr><tr><th>2</th><td>6</td><td>rs6917603</td><td>0</td><td>30125050</td><td>G</td><td>A</td></tr><tr><th>3</th><td>6</td><td>rs9261256</td><td>0</td><td>30129920</td><td>C</td><td>G</td></tr><tr><th>4</th><td>11</td><td>rs7120118</td><td>0</td><td>47242866</td><td>G</td><td>A</td></tr><tr><th>5</th><td>15</td><td>rs1532085</td><td>0</td><td>56470658</td><td>A</td><td>G</td></tr><tr><th>6</th><td>16</td><td>rs3764261</td><td>0</td><td>55550825</td><td>A</td><td>C</td></tr><tr><th>7</th><td>16</td><td>rs7499892</td><td>0</td><td>55564091</td><td>A</td><td>G</td></tr><tr><th>8</th><td>16</td><td>rs3852700</td><td>0</td><td>65829359</td><td>G</td><td>A</td></tr></tbody></table>"
      ],
      "text/latex": [
       "\\begin{tabular}{r|cccccc}\n",
       "\t& Column1 & Column2 & Column3 & Column4 & Column5 & Column6\\\\\n",
       "\t\\hline\n",
       "\t& Int64⍰ & String⍰ & Int64⍰ & Int64⍰ & String⍰ & String⍰\\\\\n",
       "\t\\hline\n",
       "\t1 & 6 & rs9261224 & 0 & 30121866 & A & G \\\\\n",
       "\t2 & 6 & rs6917603 & 0 & 30125050 & G & A \\\\\n",
       "\t3 & 6 & rs9261256 & 0 & 30129920 & C & G \\\\\n",
       "\t4 & 11 & rs7120118 & 0 & 47242866 & G & A \\\\\n",
       "\t5 & 15 & rs1532085 & 0 & 56470658 & A & G \\\\\n",
       "\t6 & 16 & rs3764261 & 0 & 55550825 & A & C \\\\\n",
       "\t7 & 16 & rs7499892 & 0 & 55564091 & A & G \\\\\n",
       "\t8 & 16 & rs3852700 & 0 & 65829359 & G & A \\\\\n",
       "\\end{tabular}\n"
      ],
      "text/plain": [
       "8×6 DataFrame\n",
       "│ Row │ Column1 │ Column2   │ Column3 │ Column4  │ Column5 │ Column6 │\n",
       "│     │ \u001b[90mInt64⍰\u001b[39m  │ \u001b[90mString⍰\u001b[39m   │ \u001b[90mInt64⍰\u001b[39m  │ \u001b[90mInt64⍰\u001b[39m   │ \u001b[90mString⍰\u001b[39m │ \u001b[90mString⍰\u001b[39m │\n",
       "├─────┼─────────┼───────────┼─────────┼──────────┼─────────┼─────────┤\n",
       "│ 1   │ 6       │ rs9261224 │ 0       │ 30121866 │ A       │ G       │\n",
       "│ 2   │ 6       │ rs6917603 │ 0       │ 30125050 │ G       │ A       │\n",
       "│ 3   │ 6       │ rs9261256 │ 0       │ 30129920 │ C       │ G       │\n",
       "│ 4   │ 11      │ rs7120118 │ 0       │ 47242866 │ G       │ A       │\n",
       "│ 5   │ 15      │ rs1532085 │ 0       │ 56470658 │ A       │ G       │\n",
       "│ 6   │ 16      │ rs3764261 │ 0       │ 55550825 │ A       │ C       │\n",
       "│ 7   │ 16      │ rs7499892 │ 0       │ 55564091 │ A       │ G       │\n",
       "│ 8   │ 16      │ rs3852700 │ 0       │ 65829359 │ G       │ A       │"
      ]
     },
     "execution_count": 26,
     "metadata": {},
     "output_type": "execute_result"
    }
   ],
   "source": [
    "estimated_b = result.beta\n",
    "position = findall(!iszero, estimated_b)\n",
    "found_snps = CSV.read(\"kevin_imputed_filtered_HDL.bim\", delim='\\t', header=false)[position, :]"
   ]
  },
  {
   "cell_type": "code",
   "execution_count": 27,
   "metadata": {
    "collapsed": false
   },
   "outputs": [
    {
     "data": {
      "text/plain": [
       "IHT results:\n",
       "\n",
       "Compute time (sec):     859.1547918319702\n",
       "Final loglikelihood:    -1831.2980574010048\n",
       "Iterations:             75\n",
       "Max number of groups:   1\n",
       "Max predictors/group:   9\n",
       "IHT estimated 8 nonzero SNP predictors and 1 non-genetic predictors.\n",
       "\n",
       "Genetic predictors:\n",
       "8×2 DataFrame\n",
       "│ Row │ Position │ Estimated_β │\n",
       "│     │ \u001b[90mInt64\u001b[39m    │ \u001b[90mFloat64\u001b[39m     │\n",
       "├─────┼──────────┼─────────────┤\n",
       "│ 1   │ 119288   │ -0.0415433  │\n",
       "│ 2   │ 119293   │ 0.172384    │\n",
       "│ 3   │ 119294   │ -0.0598533  │\n",
       "│ 4   │ 213243   │ -0.0269279  │\n",
       "│ 5   │ 265116   │ -0.0340865  │\n",
       "│ 6   │ 275336   │ -0.0586943  │\n",
       "│ 7   │ 276491   │ -0.0275546  │\n",
       "│ 8   │ 310746   │ 0.0259204   │\n",
       "\n",
       "Nongenetic predictors:\n",
       "1×2 DataFrame\n",
       "│ Row │ Position │ Estimated_β │\n",
       "│     │ \u001b[90mInt64\u001b[39m    │ \u001b[90mFloat64\u001b[39m     │\n",
       "├─────┼──────────┼─────────────┤\n",
       "│ 1   │ 1        │ 1.56209     │"
      ]
     },
     "execution_count": 27,
     "metadata": {},
     "output_type": "execute_result"
    }
   ],
   "source": [
    "# try no debias\n",
    "result = L0_reg(x, xbm, z, y, 1, k, d(), l, debias=false)"
   ]
  },
  {
   "cell_type": "code",
   "execution_count": 28,
   "metadata": {
    "collapsed": false
   },
   "outputs": [
    {
     "data": {
      "text/html": [
       "<table class=\"data-frame\"><thead><tr><th></th><th>Column1</th><th>Column2</th><th>Column3</th><th>Column4</th><th>Column5</th><th>Column6</th></tr><tr><th></th><th>Int64⍰</th><th>String⍰</th><th>Int64⍰</th><th>Int64⍰</th><th>String⍰</th><th>String⍰</th></tr></thead><tbody><p>8 rows × 6 columns</p><tr><th>1</th><td>6</td><td>rs9261224</td><td>0</td><td>30121866</td><td>A</td><td>G</td></tr><tr><th>2</th><td>6</td><td>rs6917603</td><td>0</td><td>30125050</td><td>G</td><td>A</td></tr><tr><th>3</th><td>6</td><td>rs9261256</td><td>0</td><td>30129920</td><td>C</td><td>G</td></tr><tr><th>4</th><td>11</td><td>rs7120118</td><td>0</td><td>47242866</td><td>G</td><td>A</td></tr><tr><th>5</th><td>15</td><td>rs1532085</td><td>0</td><td>56470658</td><td>A</td><td>G</td></tr><tr><th>6</th><td>16</td><td>rs3764261</td><td>0</td><td>55550825</td><td>A</td><td>C</td></tr><tr><th>7</th><td>16</td><td>rs3852700</td><td>0</td><td>65829359</td><td>G</td><td>A</td></tr><tr><th>8</th><td>20</td><td>rs1800961</td><td>0</td><td>42475778</td><td>A</td><td>G</td></tr></tbody></table>"
      ],
      "text/latex": [
       "\\begin{tabular}{r|cccccc}\n",
       "\t& Column1 & Column2 & Column3 & Column4 & Column5 & Column6\\\\\n",
       "\t\\hline\n",
       "\t& Int64⍰ & String⍰ & Int64⍰ & Int64⍰ & String⍰ & String⍰\\\\\n",
       "\t\\hline\n",
       "\t1 & 6 & rs9261224 & 0 & 30121866 & A & G \\\\\n",
       "\t2 & 6 & rs6917603 & 0 & 30125050 & G & A \\\\\n",
       "\t3 & 6 & rs9261256 & 0 & 30129920 & C & G \\\\\n",
       "\t4 & 11 & rs7120118 & 0 & 47242866 & G & A \\\\\n",
       "\t5 & 15 & rs1532085 & 0 & 56470658 & A & G \\\\\n",
       "\t6 & 16 & rs3764261 & 0 & 55550825 & A & C \\\\\n",
       "\t7 & 16 & rs3852700 & 0 & 65829359 & G & A \\\\\n",
       "\t8 & 20 & rs1800961 & 0 & 42475778 & A & G \\\\\n",
       "\\end{tabular}\n"
      ],
      "text/plain": [
       "8×6 DataFrame\n",
       "│ Row │ Column1 │ Column2   │ Column3 │ Column4  │ Column5 │ Column6 │\n",
       "│     │ \u001b[90mInt64⍰\u001b[39m  │ \u001b[90mString⍰\u001b[39m   │ \u001b[90mInt64⍰\u001b[39m  │ \u001b[90mInt64⍰\u001b[39m   │ \u001b[90mString⍰\u001b[39m │ \u001b[90mString⍰\u001b[39m │\n",
       "├─────┼─────────┼───────────┼─────────┼──────────┼─────────┼─────────┤\n",
       "│ 1   │ 6       │ rs9261224 │ 0       │ 30121866 │ A       │ G       │\n",
       "│ 2   │ 6       │ rs6917603 │ 0       │ 30125050 │ G       │ A       │\n",
       "│ 3   │ 6       │ rs9261256 │ 0       │ 30129920 │ C       │ G       │\n",
       "│ 4   │ 11      │ rs7120118 │ 0       │ 47242866 │ G       │ A       │\n",
       "│ 5   │ 15      │ rs1532085 │ 0       │ 56470658 │ A       │ G       │\n",
       "│ 6   │ 16      │ rs3764261 │ 0       │ 55550825 │ A       │ C       │\n",
       "│ 7   │ 16      │ rs3852700 │ 0       │ 65829359 │ G       │ A       │\n",
       "│ 8   │ 20      │ rs1800961 │ 0       │ 42475778 │ A       │ G       │"
      ]
     },
     "execution_count": 28,
     "metadata": {},
     "output_type": "execute_result"
    }
   ],
   "source": [
    "estimated_b = result.beta\n",
    "position = findall(!iszero, estimated_b)\n",
    "found_snps = CSV.read(\"kevin_imputed_filtered_HDL.bim\", delim='\\t', header=false)[position, :]"
   ]
  },
  {
   "cell_type": "code",
   "execution_count": null,
   "metadata": {
    "collapsed": true
   },
   "outputs": [],
   "source": []
  }
 ],
 "metadata": {
  "kernelspec": {
   "display_name": "Julia 1.0.1",
   "language": "julia",
   "name": "julia-1.0"
  },
  "language_info": {
   "file_extension": ".jl",
   "mimetype": "application/julia",
   "name": "julia",
   "version": "1.0.1"
  }
 },
 "nbformat": 4,
 "nbformat_minor": 2
}
