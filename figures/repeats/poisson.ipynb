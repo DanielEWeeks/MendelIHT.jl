{
 "cells": [
  {
   "cell_type": "markdown",
   "metadata": {
    "deletable": true,
    "editable": true
   },
   "source": [
    "# Poisson - Compare coefficient estimates for IHT and lasso"
   ]
  },
  {
   "cell_type": "code",
   "execution_count": 1,
   "metadata": {
    "collapsed": false,
    "deletable": true,
    "editable": true
   },
   "outputs": [
    {
     "name": "stderr",
     "output_type": "stream",
     "text": [
      "┌ Warning: RCall.jl: Loading required package: Matrix\n",
      "│ Loading required package: foreach\n",
      "│ Loaded glmnet 2.0-16\n",
      "│ \n",
      "└ @ RCall /u/home/b/biona001/.julia/packages/RCall/ffM0W/src/io.jl:113\n"
     ]
    },
    {
     "data": {
      "text/plain": [
       "RObject{StrSxp}\n",
       " [1] \"glmnet\"    \"foreach\"   \"Matrix\"    \"stats\"     \"graphics\"  \"grDevices\"\n",
       " [7] \"utils\"     \"datasets\"  \"methods\"   \"base\"     \n"
      ]
     },
     "execution_count": 1,
     "metadata": {},
     "output_type": "execute_result"
    }
   ],
   "source": [
    "using MendelIHT\n",
    "using SnpArrays\n",
    "using DataFrames\n",
    "using Distributions\n",
    "using BenchmarkTools\n",
    "using Random\n",
    "using LinearAlgebra\n",
    "using DelimitedFiles\n",
    "using GLM\n",
    "using RCall\n",
    "R\"library(glmnet)\""
   ]
  },
  {
   "cell_type": "code",
   "execution_count": 2,
   "metadata": {
    "collapsed": false,
    "deletable": true,
    "editable": true
   },
   "outputs": [
    {
     "data": {
      "text/plain": [
       "run_repeat (generic function with 1 method)"
      ]
     },
     "execution_count": 2,
     "metadata": {},
     "output_type": "execute_result"
    }
   ],
   "source": [
    "#run n repeats of L0_reg using the same X and b, but different y\n",
    "function run_repeat(\n",
    "    n        :: Int,\n",
    "    p        :: Int,\n",
    "    repeats  :: Int, \n",
    "    z        :: AbstractMatrix,\n",
    "    true_b   :: Vector,\n",
    "    cor_pos  :: Vector, #correct position of the true model\n",
    "    d        :: UnionAll,\n",
    "    l        :: GLM.Link\n",
    "    )\n",
    "    \n",
    "    k = size(cor_pos, 1)\n",
    "    IHT_estimated_β = zeros(k, repeats)\n",
    "    lasso_estimated_β = zeros(k, repeats)\n",
    "    \n",
    "    for i in 1:repeats\n",
    "        # simulat SNP data\n",
    "        mafs = rand(Uniform(0.05, 0.5), p)\n",
    "        x = zeros(Float32, n, p)\n",
    "        for j in 1:p\n",
    "            dist = Binomial(2, mafs[j])\n",
    "            for ii in 1:n\n",
    "                x[ii, j] = Float32(rand(dist))\n",
    "            end\n",
    "        end\n",
    "        standardize!(x)\n",
    "\n",
    "        #simulate phenotypes (e.g. vector y)\n",
    "        if d == Normal || d == Poisson || d == Bernoulli\n",
    "            prob = GLM.linkinv.(l, x * true_b)\n",
    "            clamp!(prob, -20, 20)\n",
    "            y = [rand(d(i)) for i in prob]\n",
    "        elseif d == NegativeBinomial\n",
    "            r = 10\n",
    "            μ = GLM.linkinv.(l, x * true_b)\n",
    "            prob = 1 ./ (1 .+ μ ./ r)\n",
    "            y = [rand(d(r, i)) for i in prob] #number of failtures before r success occurs\n",
    "        elseif d == Gamma\n",
    "            μ = GLM.linkinv.(l, x * true_b)\n",
    "            β = 1 ./ μ # here β is the rate parameter for gamma distribution\n",
    "            y = [rand(d(α, i)) for i in β] # α is the shape parameter for gamma\n",
    "        end\n",
    "        y = Float32.(y)\n",
    "\n",
    "        #compute results for data\n",
    "        IHT_result = L0_reg(x, z, y, 1, k, d(), l)\n",
    "\n",
    "        #compute lasso results. choose λ via cross validation\n",
    "        num_folds = 3\n",
    "        folds = rand(1:num_folds, size(x, 1))\n",
    "        @rput x y folds num_folds #make variables visible to R\n",
    "        R\"lasso_cv_result = cv.glmnet(x, y, nfolds = num_folds, foldid = folds, family='poisson')\"\n",
    "        R\"lasso_beta_tmp = glmnet(x, y, lambda=lasso_cv_result$lambda.min, family='poisson')$beta\"\n",
    "        R\"lasso_beta = as.vector(lasso_beta_tmp)\"\n",
    "        @rget lasso_cv_result lasso_beta #pull result from R to Julia\n",
    "\n",
    "        #store the correct position in estimated model\n",
    "        IHT_estimated_β[:, i] .= IHT_result.beta[cor_pos]\n",
    "        lasso_estimated_β[:, i] .= lasso_beta[cor_pos]\n",
    "    end\n",
    "    \n",
    "    return IHT_estimated_β, lasso_estimated_β\n",
    "end"
   ]
  },
  {
   "cell_type": "markdown",
   "metadata": {
    "deletable": true,
    "editable": true
   },
   "source": [
    "## Run 100 models\n",
    "\n",
    "Here $\\beta_{true}$ is the same in all models, but the design matrix and phenotype will be different. To run lasso, we first cross validate for the tuning parameter $\\lambda$ before running the standard lasso. We compute the average and standard error for correctly identified predictors (i.e. estimated $\\beta_i > 0$). Note that here we are not comparing false positives or false negatives. "
   ]
  },
  {
   "cell_type": "code",
   "execution_count": 3,
   "metadata": {
    "collapsed": false,
    "deletable": true,
    "editable": true
   },
   "outputs": [
    {
     "name": "stderr",
     "output_type": "stream",
     "text": [
      "┌ Warning: `lgamma(x::Real)` is deprecated, use `(logabsgamma(x))[1]` instead.\n",
      "│   caller = poislogpdf at pois.jl:18 [inlined]\n",
      "└ @ Core /u/home/b/biona001/.julia/packages/StatsFuns/hg4pG/src/distrs/pois.jl:18\n"
     ]
    },
    {
     "name": "stdout",
     "output_type": "stream",
     "text": [
      "4874.291185 seconds (553.63 M allocations: 75.746 GiB, 0.56% gc time)\n"
     ]
    },
    {
     "data": {
      "text/plain": [
       "([0.0 0.0 … 0.0528748 0.0; 0.0497643 0.0 … 0.0574094 0.0; … ; 0.0 0.0 … 0.0 0.0; 0.509794 0.477069 … 0.512654 0.494566], [0.0 0.0 … 0.00224377 0.0; 0.00662803 0.0 … 0.0112765 0.003919; … ; 0.0 0.0 … 0.0 0.0; 0.470077 0.429881 … 0.487958 0.450758])"
      ]
     },
     "execution_count": 3,
     "metadata": {},
     "output_type": "execute_result"
    }
   ],
   "source": [
    "repeats = 100\n",
    "n = 5000\n",
    "p = 10000\n",
    "d = Poisson\n",
    "l = canonicallink(d())\n",
    "\n",
    "# set random seed for reproducibility\n",
    "Random.seed!(2019)\n",
    "\n",
    "# intercept\n",
    "z = ones(Float32, n, 1)\n",
    "\n",
    "#construct true model b\n",
    "true_b = zeros(p)\n",
    "true_b[1:6] = [0.01; 0.03; 0.05; 0.1; 0.25; 0.5]\n",
    "shuffle!(true_b)\n",
    "correct_position = findall(x -> x != 0, true_b)\n",
    "\n",
    "#run repeats\n",
    "@time iht_result, lasso_result = run_repeat(n, p, repeats, z, true_b, correct_position, d, l)"
   ]
  },
  {
   "cell_type": "code",
   "execution_count": 4,
   "metadata": {
    "collapsed": false,
    "deletable": true,
    "editable": true
   },
   "outputs": [
    {
     "data": {
      "text/plain": [
       "6×100 Array{Float64,2}:\n",
       " 0.0        0.0        0.0       0.0        …  0.0        0.0528748  0.0     \n",
       " 0.0497643  0.0        0.047106  0.0628911     0.0570181  0.0574094  0.0     \n",
       " 0.228839   0.262226   0.262653  0.250997      0.245492   0.250475   0.246462\n",
       " 0.0965199  0.0919223  0.103844  0.0846764     0.0895321  0.0964624  0.130771\n",
       " 0.0        0.0        0.0       0.0           0.0        0.0        0.0     \n",
       " 0.509794   0.477069   0.489537  0.507455   …  0.513434   0.512654   0.494566"
      ]
     },
     "execution_count": 4,
     "metadata": {},
     "output_type": "execute_result"
    }
   ],
   "source": [
    "iht_result"
   ]
  },
  {
   "cell_type": "code",
   "execution_count": 5,
   "metadata": {
    "collapsed": false,
    "deletable": true,
    "editable": true
   },
   "outputs": [
    {
     "data": {
      "text/plain": [
       "6×100 Array{Float64,2}:\n",
       " 0.0         0.0        0.0        …  0.0        0.00224377  0.0      \n",
       " 0.00662803  0.0        0.0           0.011202   0.0112765   0.003919 \n",
       " 0.186557    0.23129    0.212933      0.199296   0.220281    0.213068 \n",
       " 0.0520362   0.0485685  0.0605761     0.0413027  0.0576767   0.0850391\n",
       " 0.0         0.0        0.0           0.0        0.0         0.0      \n",
       " 0.470077    0.429881   0.450512   …  0.470328   0.487958    0.450758 "
      ]
     },
     "execution_count": 5,
     "metadata": {},
     "output_type": "execute_result"
    }
   ],
   "source": [
    "lasso_result"
   ]
  },
  {
   "cell_type": "code",
   "execution_count": 6,
   "metadata": {
    "collapsed": true,
    "deletable": true,
    "editable": true
   },
   "outputs": [],
   "source": [
    "iht_non_zero = [iht_result[i, findall(!iszero, iht_result[i, :])] for i in 1:6]\n",
    "lasso_non_zero = [lasso_result[i, findall(!iszero, lasso_result[i, :])] for i in 1:6];"
   ]
  },
  {
   "cell_type": "code",
   "execution_count": 7,
   "metadata": {
    "collapsed": false,
    "deletable": true,
    "editable": true
   },
   "outputs": [
    {
     "data": {
      "text/plain": [
       "6-element Array{Float64,1}:\n",
       "   0.04967247943083445\n",
       "   0.05674616127244888\n",
       "   0.24937559753656388\n",
       "   0.0993067517131567 \n",
       " NaN                  \n",
       "   0.4980309695005417 "
      ]
     },
     "execution_count": 7,
     "metadata": {},
     "output_type": "execute_result"
    }
   ],
   "source": [
    "iht_non_zero_mean = mean.(iht_non_zero)"
   ]
  },
  {
   "cell_type": "code",
   "execution_count": 8,
   "metadata": {
    "collapsed": false,
    "deletable": true,
    "editable": true
   },
   "outputs": [
    {
     "data": {
      "text/plain": [
       "6-element Array{Float64,1}:\n",
       " 0.004334018501960412 \n",
       " 0.01301941904766544  \n",
       " 0.2114382319224645   \n",
       " 0.05523909447775663  \n",
       " 0.0003998595945450759\n",
       " 0.4629356518901696   "
      ]
     },
     "execution_count": 8,
     "metadata": {},
     "output_type": "execute_result"
    }
   ],
   "source": [
    "lasso_non_zero_mean = mean.(lasso_non_zero)"
   ]
  },
  {
   "cell_type": "code",
   "execution_count": 9,
   "metadata": {
    "collapsed": false,
    "deletable": true,
    "editable": true
   },
   "outputs": [
    {
     "data": {
      "text/plain": [
       "6-element Array{Float64,1}:\n",
       "   0.004515144008110586\n",
       "   0.008123108521738082\n",
       "   0.011414869590965474\n",
       "   0.012735053383877036\n",
       " NaN                   \n",
       "   0.01123355719152502 "
      ]
     },
     "execution_count": 9,
     "metadata": {},
     "output_type": "execute_result"
    }
   ],
   "source": [
    "iht_non_zero_std = std.(iht_non_zero)"
   ]
  },
  {
   "cell_type": "code",
   "execution_count": 10,
   "metadata": {
    "collapsed": false,
    "deletable": true,
    "editable": true
   },
   "outputs": [
    {
     "data": {
      "text/plain": [
       "6-element Array{Float64,1}:\n",
       "   0.0035055165569766503\n",
       "   0.008947507944566835 \n",
       "   0.012848143900630762 \n",
       "   0.013938785318554999 \n",
       " NaN                    \n",
       "   0.016330620387666514 "
      ]
     },
     "execution_count": 10,
     "metadata": {},
     "output_type": "execute_result"
    }
   ],
   "source": [
    "lasso_non_zero_std = std.(lasso_non_zero)"
   ]
  },
  {
   "cell_type": "code",
   "execution_count": 11,
   "metadata": {
    "collapsed": false,
    "deletable": true,
    "editable": true
   },
   "outputs": [
    {
     "data": {
      "text/html": [
       "<table class=\"data-frame\"><thead><tr><th></th><th>true_β</th><th>β_IHT_mean</th><th>β_IHT_std</th><th>β_lasso_mean</th><th>β_lasso_std</th></tr><tr><th></th><th>Float64</th><th>Float64</th><th>Float64</th><th>Float64</th><th>Float64</th></tr></thead><tbody><p>6 rows × 5 columns</p><tr><th>1</th><td>0.03</td><td>0.0496725</td><td>0.00451514</td><td>0.00433402</td><td>0.00350552</td></tr><tr><th>2</th><td>0.05</td><td>0.0567462</td><td>0.00812311</td><td>0.0130194</td><td>0.00894751</td></tr><tr><th>3</th><td>0.25</td><td>0.249376</td><td>0.0114149</td><td>0.211438</td><td>0.0128481</td></tr><tr><th>4</th><td>0.1</td><td>0.0993068</td><td>0.0127351</td><td>0.0552391</td><td>0.0139388</td></tr><tr><th>5</th><td>0.01</td><td>NaN</td><td>NaN</td><td>0.00039986</td><td>NaN</td></tr><tr><th>6</th><td>0.5</td><td>0.498031</td><td>0.0112336</td><td>0.462936</td><td>0.0163306</td></tr></tbody></table>"
      ],
      "text/latex": [
       "\\begin{tabular}{r|ccccc}\n",
       "\t& true\\_β & β\\_IHT\\_mean & β\\_IHT\\_std & β\\_lasso\\_mean & β\\_lasso\\_std\\\\\n",
       "\t\\hline\n",
       "\t& Float64 & Float64 & Float64 & Float64 & Float64\\\\\n",
       "\t\\hline\n",
       "\t1 & 0.03 & 0.0496725 & 0.00451514 & 0.00433402 & 0.00350552 \\\\\n",
       "\t2 & 0.05 & 0.0567462 & 0.00812311 & 0.0130194 & 0.00894751 \\\\\n",
       "\t3 & 0.25 & 0.249376 & 0.0114149 & 0.211438 & 0.0128481 \\\\\n",
       "\t4 & 0.1 & 0.0993068 & 0.0127351 & 0.0552391 & 0.0139388 \\\\\n",
       "\t5 & 0.01 & NaN & NaN & 0.00039986 & NaN \\\\\n",
       "\t6 & 0.5 & 0.498031 & 0.0112336 & 0.462936 & 0.0163306 \\\\\n",
       "\\end{tabular}\n"
      ],
      "text/plain": [
       "6×5 DataFrame\n",
       "│ Row │ true_β  │ β_IHT_mean │ β_IHT_std  │ β_lasso_mean │ β_lasso_std │\n",
       "│     │ \u001b[90mFloat64\u001b[39m │ \u001b[90mFloat64\u001b[39m    │ \u001b[90mFloat64\u001b[39m    │ \u001b[90mFloat64\u001b[39m      │ \u001b[90mFloat64\u001b[39m     │\n",
       "├─────┼─────────┼────────────┼────────────┼──────────────┼─────────────┤\n",
       "│ 1   │ 0.03    │ 0.0496725  │ 0.00451514 │ 0.00433402   │ 0.00350552  │\n",
       "│ 2   │ 0.05    │ 0.0567462  │ 0.00812311 │ 0.0130194    │ 0.00894751  │\n",
       "│ 3   │ 0.25    │ 0.249376   │ 0.0114149  │ 0.211438     │ 0.0128481   │\n",
       "│ 4   │ 0.1     │ 0.0993068  │ 0.0127351  │ 0.0552391    │ 0.0139388   │\n",
       "│ 5   │ 0.01    │ NaN        │ NaN        │ 0.00039986   │ NaN         │\n",
       "│ 6   │ 0.5     │ 0.498031   │ 0.0112336  │ 0.462936     │ 0.0163306   │"
      ]
     },
     "execution_count": 11,
     "metadata": {},
     "output_type": "execute_result"
    }
   ],
   "source": [
    "final = DataFrame(\n",
    "    true_β = true_b[correct_position],\n",
    "    β_IHT_mean = iht_non_zero_mean, \n",
    "    β_IHT_std = iht_non_zero_std, \n",
    "    β_lasso_mean = lasso_non_zero_mean,\n",
    "    β_lasso_std = lasso_non_zero_std)"
   ]
  },
  {
   "cell_type": "code",
   "execution_count": null,
   "metadata": {
    "collapsed": true,
    "deletable": true,
    "editable": true
   },
   "outputs": [],
   "source": []
  }
 ],
 "metadata": {
  "kernelspec": {
   "display_name": "Julia 1.0.1",
   "language": "julia",
   "name": "julia-1.0"
  },
  "language_info": {
   "file_extension": ".jl",
   "mimetype": "application/julia",
   "name": "julia",
   "version": "1.0.1"
  }
 },
 "nbformat": 4,
 "nbformat_minor": 2
}
