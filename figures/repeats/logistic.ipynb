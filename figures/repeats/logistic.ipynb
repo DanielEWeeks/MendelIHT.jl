{
 "cells": [
  {
   "cell_type": "markdown",
   "metadata": {
    "deletable": true,
    "editable": true
   },
   "source": [
    "# Logistic - Compare coefficient estimates for IHT and lasso"
   ]
  },
  {
   "cell_type": "code",
   "execution_count": 1,
   "metadata": {
    "collapsed": false,
    "deletable": true,
    "editable": true
   },
   "outputs": [
    {
     "name": "stderr",
     "output_type": "stream",
     "text": [
      "┌ Warning: RCall.jl: Loading required package: Matrix\n",
      "│ Loading required package: foreach\n",
      "│ Loaded glmnet 2.0-16\n",
      "│ \n",
      "└ @ RCall /u/home/b/biona001/.julia/packages/RCall/ffM0W/src/io.jl:113\n"
     ]
    },
    {
     "data": {
      "text/plain": [
       "RObject{StrSxp}\n",
       " [1] \"glmnet\"    \"foreach\"   \"Matrix\"    \"stats\"     \"graphics\"  \"grDevices\"\n",
       " [7] \"utils\"     \"datasets\"  \"methods\"   \"base\"     \n"
      ]
     },
     "execution_count": 1,
     "metadata": {},
     "output_type": "execute_result"
    }
   ],
   "source": [
    "using MendelIHT\n",
    "using SnpArrays\n",
    "using DataFrames\n",
    "using Distributions\n",
    "using BenchmarkTools\n",
    "using Random\n",
    "using LinearAlgebra\n",
    "using DelimitedFiles\n",
    "using GLM\n",
    "using RCall\n",
    "R\"library(glmnet)\""
   ]
  },
  {
   "cell_type": "code",
   "execution_count": 2,
   "metadata": {
    "collapsed": false,
    "deletable": true,
    "editable": true
   },
   "outputs": [
    {
     "data": {
      "text/plain": [
       "run_repeat (generic function with 1 method)"
      ]
     },
     "execution_count": 2,
     "metadata": {},
     "output_type": "execute_result"
    }
   ],
   "source": [
    "#simulate 5 genes, each with 5 rare variants and 1 non-rare variant\n",
    "function compare(d::UnionAll, l::Link)\n",
    "    \n",
    "    # define problem size\n",
    "    n = 1000\n",
    "    p = 10000\n",
    "    block_size = 20\n",
    "    num_blocks = Int(p / block_size)\n",
    "\n",
    "    # assign group membership\n",
    "    membership = collect(1:num_blocks)\n",
    "    g = zeros(Int64, p + 1)\n",
    "    for i in 1:length(membership)\n",
    "        for j in 1:block_size\n",
    "            cur_row = block_size * (i - 1) + j\n",
    "            g[block_size*(i - 1) + j] = membership[i]\n",
    "        end\n",
    "    end\n",
    "    g[end] = membership[end]\n",
    "    \n",
    "    #simulate correlated snparray\n",
    "    x = simulate_correlated_snparray(n, p, \"tmp.bed\")\n",
    "    z = ones(n, 1) # the intercept\n",
    "    x_float = convert(Matrix{Float64}, x, model=ADDITIVE_MODEL, center=true, scale=true)\n",
    "    \n",
    "    #simulate true model, where 5 groups each with 3 snps contribute\n",
    "    true_b = zeros(p)\n",
    "    true_groups = randperm(num_blocks)[1:5]\n",
    "    within_group = [randperm(block_size)[1:3] randperm(block_size)[1:3] randperm(block_size)[1:3] randperm(block_size)[1:3] randperm(block_size)[1:3]]\n",
    "    correct_position = zeros(Int64, 15)\n",
    "    for i in 1:5\n",
    "        cur_group = block_size * (true_groups[i] - 1)\n",
    "        cur_group_snps = cur_group .+ within_group[:, i]\n",
    "        correct_position[3*(i-1)+1:3i] .= cur_group_snps\n",
    "    end\n",
    "    for i in 1:15\n",
    "        true_b[correct_position[i]] = rand(-1:2:1) * 0.2\n",
    "    end\n",
    "    sort!(correct_position)\n",
    "        \n",
    "    # simulate phenotype\n",
    "    if d == Normal || d == Bernoulli || d == Poisson\n",
    "        prob = linkinv.(l, x_float * true_b)\n",
    "        clamp!(prob, -20, 20)\n",
    "        y = [rand(d(i)) for i in prob]\n",
    "    elseif d == NegativeBinomial\n",
    "        r = 10\n",
    "        μ = linkinv.(l, x_float * true_b)\n",
    "        clamp!(μ, -20, 20)\n",
    "        prob = 1 ./ (1 .+ μ ./ r)\n",
    "        y = [rand(d(r, i)) for i in prob] #number of failtures before nn success occurs\n",
    "    end\n",
    "    y = Float64.(y)\n",
    "    \n",
    "    #run IHT without groups\n",
    "    k = 15\n",
    "    ungrouped = L0_reg(x_float, z, y, 1, k, d(), l, debias=false)\n",
    "        \n",
    "    #run IHT with groups\n",
    "    J = 5\n",
    "    k = 3\n",
    "    grouped = L0_reg(x_float, z, y, J, k, d(), l, debias=false, group=g)\n",
    "\n",
    "    #check result\n",
    "    compare_model = DataFrame(\n",
    "        position   = correct_position,\n",
    "        correct    = true_b[correct_position],\n",
    "        ungrouped  = ungrouped.beta[correct_position], \n",
    "        grouped    = grouped.beta[correct_position])\n",
    "    @show compare_model\n",
    "    println(\"Grouped ran: \", grouped.iter, \" iters and Ungrouped ran: \", ungrouped.iter, \" iters\")\n",
    "    println(\"\\n\")\n",
    "\n",
    "    #clean up\n",
    "    rm(\"tmp.bed\", force=true)\n",
    "    \n",
    "    group = count(!iszero, grouped.beta[correct_position])\n",
    "    ungroup = count(!iszero, ungrouped.beta[correct_position])\n",
    "    return group, ungroup\n",
    "end"
   ]
  },
  {
   "cell_type": "markdown",
   "metadata": {
    "deletable": true,
    "editable": true
   },
   "source": [
    "## Run 100 models\n",
    "\n",
    "Here $\\beta_{true}$ is the same in all models, but the design matrix and phenotype will be different. To run lasso, we first cross validate for the tuning parameter $\\lambda$ before running the standard lasso. We compute the average and standard error for correctly identified predictors (i.e. estimated $\\beta_i > 0$). Note that here we are not comparing false positives or false negatives. "
   ]
  },
  {
   "cell_type": "code",
   "execution_count": 3,
   "metadata": {
    "collapsed": false,
    "deletable": true,
    "editable": true
   },
   "outputs": [
    {
     "name": "stdout",
     "output_type": "stream",
     "text": [
      "7522.213603 seconds (40.62 M allocations: 20.844 GiB, 0.03% gc time)\n"
     ]
    },
    {
     "data": {
      "text/plain": [
       "([0.0 0.0 … 0.0 0.0; 0.0 0.0 … 0.0 0.0; … ; 0.0 0.0 … 0.0 0.0; 0.474713 0.559795 … 0.518652 0.533072], [0.0 0.0 … 0.0 0.0; 0.0 0.0 … 0.0 0.0; … ; 0.0 0.0 … 0.0 0.0; 0.356865 0.425148 … 0.381897 0.414738])"
      ]
     },
     "execution_count": 3,
     "metadata": {},
     "output_type": "execute_result"
    }
   ],
   "source": [
    "repeats = 100\n",
    "n = 5000\n",
    "p = 10000\n",
    "d = Bernoulli\n",
    "l = canonicallink(d())\n",
    "\n",
    "# set random seed for reproducibility\n",
    "Random.seed!(2019)\n",
    "\n",
    "# intercept\n",
    "z = ones(Float32, n, 1)\n",
    "\n",
    "#construct true model b\n",
    "true_b = zeros(p)\n",
    "true_b[1:6] = [0.01; 0.03; 0.05; 0.1; 0.25; 0.5]\n",
    "shuffle!(true_b)\n",
    "correct_position = findall(x -> x != 0, true_b)\n",
    "\n",
    "#run repeats\n",
    "@time iht_result, lasso_result = run_repeat(n, p, repeats, z, true_b, correct_position, d, l)"
   ]
  },
  {
   "cell_type": "code",
   "execution_count": 4,
   "metadata": {
    "collapsed": false,
    "deletable": true,
    "editable": true
   },
   "outputs": [
    {
     "data": {
      "text/plain": [
       "6×100 Array{Float64,2}:\n",
       " 0.0       0.0       0.0       0.0       …  0.0       0.0       0.0     \n",
       " 0.0       0.0       0.0       0.0          0.0       0.0       0.0     \n",
       " 0.299919  0.239312  0.232653  0.222768     0.280829  0.242682  0.279235\n",
       " 0.0       0.13667   0.0       0.14567      0.0       0.0       0.0     \n",
       " 0.0       0.0       0.0       0.0          0.0       0.0       0.0     \n",
       " 0.474713  0.559795  0.474136  0.487957  …  0.510568  0.518652  0.533072"
      ]
     },
     "execution_count": 4,
     "metadata": {},
     "output_type": "execute_result"
    }
   ],
   "source": [
    "iht_result"
   ]
  },
  {
   "cell_type": "code",
   "execution_count": 5,
   "metadata": {
    "collapsed": false,
    "deletable": true,
    "editable": true
   },
   "outputs": [
    {
     "data": {
      "text/plain": [
       "6×100 Array{Float64,2}:\n",
       " 0.0          0.0        0.0       0.0        …  0.0       0.0       0.0     \n",
       " 0.0          0.0        0.0       0.0           0.0       0.0       0.0     \n",
       " 0.188276     0.117103   0.119253  0.110791      0.157104  0.120708  0.168432\n",
       " 0.000621037  0.0158941  0.0       0.0327681     0.0       0.0       0.0     \n",
       " 0.0          0.0        0.0       0.0           0.0       0.0       0.0     \n",
       " 0.356865     0.425148   0.350042  0.366872   …  0.386655  0.381897  0.414738"
      ]
     },
     "execution_count": 5,
     "metadata": {},
     "output_type": "execute_result"
    }
   ],
   "source": [
    "lasso_result"
   ]
  },
  {
   "cell_type": "code",
   "execution_count": 6,
   "metadata": {
    "collapsed": true,
    "deletable": true,
    "editable": true
   },
   "outputs": [],
   "source": [
    "iht_non_zero = [iht_result[i, findall(!iszero, iht_result[i, :])] for i in 1:6]\n",
    "lasso_non_zero = [lasso_result[i, findall(!iszero, lasso_result[i, :])] for i in 1:6];"
   ]
  },
  {
   "cell_type": "code",
   "execution_count": 7,
   "metadata": {
    "collapsed": false,
    "deletable": true,
    "editable": true
   },
   "outputs": [
    {
     "data": {
      "text/plain": [
       "6-element Array{Float64,1}:\n",
       "   0.1335183084011078 \n",
       "   0.11446361243724823\n",
       "   0.25645575910806656\n",
       "   0.12844786211484815\n",
       " NaN                  \n",
       "   0.5040046945214272 "
      ]
     },
     "execution_count": 7,
     "metadata": {},
     "output_type": "execute_result"
    }
   ],
   "source": [
    "iht_non_zero_mean = mean.(iht_non_zero)"
   ]
  },
  {
   "cell_type": "code",
   "execution_count": 8,
   "metadata": {
    "collapsed": false,
    "deletable": true,
    "editable": true
   },
   "outputs": [
    {
     "data": {
      "text/plain": [
       "6-element Array{Float64,1}:\n",
       "   0.026024788555032277\n",
       "   0.010405771468260074\n",
       "   0.14167074811788927 \n",
       "   0.020725702478585614\n",
       " NaN                   \n",
       "   0.37921347950538864 "
      ]
     },
     "execution_count": 8,
     "metadata": {},
     "output_type": "execute_result"
    }
   ],
   "source": [
    "lasso_non_zero_mean = mean.(lasso_non_zero)"
   ]
  },
  {
   "cell_type": "code",
   "execution_count": 9,
   "metadata": {
    "collapsed": false,
    "deletable": true,
    "editable": true
   },
   "outputs": [
    {
     "data": {
      "text/plain": [
       "6-element Array{Float64,1}:\n",
       " NaN                   \n",
       "   0.01092739233999524 \n",
       "   0.028641150297164263\n",
       "   0.0162601857072553  \n",
       " NaN                   \n",
       "   0.028991719145716056"
      ]
     },
     "execution_count": 9,
     "metadata": {},
     "output_type": "execute_result"
    }
   ],
   "source": [
    "iht_non_zero_std = std.(iht_non_zero)"
   ]
  },
  {
   "cell_type": "code",
   "execution_count": 10,
   "metadata": {
    "collapsed": false,
    "deletable": true,
    "editable": true,
    "scrolled": false
   },
   "outputs": [
    {
     "data": {
      "text/plain": [
       "6-element Array{Float64,1}:\n",
       " NaN                   \n",
       "   0.011147662835270798\n",
       "   0.027798884257837206\n",
       "   0.015303219549302327\n",
       " NaN                   \n",
       "   0.029624209719069428"
      ]
     },
     "execution_count": 10,
     "metadata": {},
     "output_type": "execute_result"
    }
   ],
   "source": [
    "lasso_non_zero_std = std.(lasso_non_zero)"
   ]
  },
  {
   "cell_type": "code",
   "execution_count": 11,
   "metadata": {
    "collapsed": false
   },
   "outputs": [
    {
     "data": {
      "text/html": [
       "<table class=\"data-frame\"><thead><tr><th></th><th>true_β</th><th>β_IHT_mean</th><th>β_IHT_std</th><th>β_lasso_mean</th><th>β_lasso_std</th></tr><tr><th></th><th>Float64</th><th>Float64</th><th>Float64</th><th>Float64</th><th>Float64</th></tr></thead><tbody><p>6 rows × 5 columns</p><tr><th>1</th><td>0.03</td><td>0.133518</td><td>NaN</td><td>0.0260248</td><td>NaN</td></tr><tr><th>2</th><td>0.05</td><td>0.114464</td><td>0.0109274</td><td>0.0104058</td><td>0.0111477</td></tr><tr><th>3</th><td>0.25</td><td>0.256456</td><td>0.0286412</td><td>0.141671</td><td>0.0277989</td></tr><tr><th>4</th><td>0.1</td><td>0.128448</td><td>0.0162602</td><td>0.0207257</td><td>0.0153032</td></tr><tr><th>5</th><td>0.01</td><td>NaN</td><td>NaN</td><td>NaN</td><td>NaN</td></tr><tr><th>6</th><td>0.5</td><td>0.504005</td><td>0.0289917</td><td>0.379213</td><td>0.0296242</td></tr></tbody></table>"
      ],
      "text/latex": [
       "\\begin{tabular}{r|ccccc}\n",
       "\t& true\\_β & β\\_IHT\\_mean & β\\_IHT\\_std & β\\_lasso\\_mean & β\\_lasso\\_std\\\\\n",
       "\t\\hline\n",
       "\t& Float64 & Float64 & Float64 & Float64 & Float64\\\\\n",
       "\t\\hline\n",
       "\t1 & 0.03 & 0.133518 & NaN & 0.0260248 & NaN \\\\\n",
       "\t2 & 0.05 & 0.114464 & 0.0109274 & 0.0104058 & 0.0111477 \\\\\n",
       "\t3 & 0.25 & 0.256456 & 0.0286412 & 0.141671 & 0.0277989 \\\\\n",
       "\t4 & 0.1 & 0.128448 & 0.0162602 & 0.0207257 & 0.0153032 \\\\\n",
       "\t5 & 0.01 & NaN & NaN & NaN & NaN \\\\\n",
       "\t6 & 0.5 & 0.504005 & 0.0289917 & 0.379213 & 0.0296242 \\\\\n",
       "\\end{tabular}\n"
      ],
      "text/plain": [
       "6×5 DataFrame\n",
       "│ Row │ true_β  │ β_IHT_mean │ β_IHT_std │ β_lasso_mean │ β_lasso_std │\n",
       "│     │ \u001b[90mFloat64\u001b[39m │ \u001b[90mFloat64\u001b[39m    │ \u001b[90mFloat64\u001b[39m   │ \u001b[90mFloat64\u001b[39m      │ \u001b[90mFloat64\u001b[39m     │\n",
       "├─────┼─────────┼────────────┼───────────┼──────────────┼─────────────┤\n",
       "│ 1   │ 0.03    │ 0.133518   │ NaN       │ 0.0260248    │ NaN         │\n",
       "│ 2   │ 0.05    │ 0.114464   │ 0.0109274 │ 0.0104058    │ 0.0111477   │\n",
       "│ 3   │ 0.25    │ 0.256456   │ 0.0286412 │ 0.141671     │ 0.0277989   │\n",
       "│ 4   │ 0.1     │ 0.128448   │ 0.0162602 │ 0.0207257    │ 0.0153032   │\n",
       "│ 5   │ 0.01    │ NaN        │ NaN       │ NaN          │ NaN         │\n",
       "│ 6   │ 0.5     │ 0.504005   │ 0.0289917 │ 0.379213     │ 0.0296242   │"
      ]
     },
     "execution_count": 11,
     "metadata": {},
     "output_type": "execute_result"
    }
   ],
   "source": [
    "final = DataFrame(\n",
    "    true_β = true_b[correct_position],\n",
    "    β_IHT_mean = iht_non_zero_mean, \n",
    "    β_IHT_std = iht_non_zero_std, \n",
    "    β_lasso_mean = lasso_non_zero_mean,\n",
    "    β_lasso_std = lasso_non_zero_std)"
   ]
  },
  {
   "cell_type": "markdown",
   "metadata": {
    "deletable": true,
    "editable": true
   },
   "source": [
    "# 5000 by 10000 for 100 runs \n",
    "7522.213603 seconds"
   ]
  },
  {
   "cell_type": "code",
   "execution_count": 12,
   "metadata": {
    "collapsed": false,
    "deletable": true,
    "editable": true
   },
   "outputs": [
    {
     "data": {
      "text/html": [
       "<table class=\"data-frame\"><thead><tr><th></th><th>true_β</th><th>β_IHT_mean</th><th>β_IHT_std</th><th>β_lasso_mean</th><th>β_lasso_std</th></tr><tr><th></th><th>Float64</th><th>Float64</th><th>Float64</th><th>Float64</th><th>Float64</th></tr></thead><tbody><p>6 rows × 5 columns</p><tr><th>1</th><td>0.03</td><td>0.133518</td><td>NaN</td><td>0.0260248</td><td>NaN</td></tr><tr><th>2</th><td>0.05</td><td>0.114464</td><td>0.0109274</td><td>0.0104058</td><td>0.0111477</td></tr><tr><th>3</th><td>0.25</td><td>0.256456</td><td>0.0286412</td><td>0.141671</td><td>0.0277989</td></tr><tr><th>4</th><td>0.1</td><td>0.128448</td><td>0.0162602</td><td>0.0207257</td><td>0.0153032</td></tr><tr><th>5</th><td>0.01</td><td>NaN</td><td>NaN</td><td>NaN</td><td>NaN</td></tr><tr><th>6</th><td>0.5</td><td>0.504005</td><td>0.0289917</td><td>0.379213</td><td>0.0296242</td></tr></tbody></table>"
      ],
      "text/latex": [
       "\\begin{tabular}{r|ccccc}\n",
       "\t& true\\_β & β\\_IHT\\_mean & β\\_IHT\\_std & β\\_lasso\\_mean & β\\_lasso\\_std\\\\\n",
       "\t\\hline\n",
       "\t& Float64 & Float64 & Float64 & Float64 & Float64\\\\\n",
       "\t\\hline\n",
       "\t1 & 0.03 & 0.133518 & NaN & 0.0260248 & NaN \\\\\n",
       "\t2 & 0.05 & 0.114464 & 0.0109274 & 0.0104058 & 0.0111477 \\\\\n",
       "\t3 & 0.25 & 0.256456 & 0.0286412 & 0.141671 & 0.0277989 \\\\\n",
       "\t4 & 0.1 & 0.128448 & 0.0162602 & 0.0207257 & 0.0153032 \\\\\n",
       "\t5 & 0.01 & NaN & NaN & NaN & NaN \\\\\n",
       "\t6 & 0.5 & 0.504005 & 0.0289917 & 0.379213 & 0.0296242 \\\\\n",
       "\\end{tabular}\n"
      ],
      "text/plain": [
       "6×5 DataFrame\n",
       "│ Row │ true_β  │ β_IHT_mean │ β_IHT_std │ β_lasso_mean │ β_lasso_std │\n",
       "│     │ \u001b[90mFloat64\u001b[39m │ \u001b[90mFloat64\u001b[39m    │ \u001b[90mFloat64\u001b[39m   │ \u001b[90mFloat64\u001b[39m      │ \u001b[90mFloat64\u001b[39m     │\n",
       "├─────┼─────────┼────────────┼───────────┼──────────────┼─────────────┤\n",
       "│ 1   │ 0.03    │ 0.133518   │ NaN       │ 0.0260248    │ NaN         │\n",
       "│ 2   │ 0.05    │ 0.114464   │ 0.0109274 │ 0.0104058    │ 0.0111477   │\n",
       "│ 3   │ 0.25    │ 0.256456   │ 0.0286412 │ 0.141671     │ 0.0277989   │\n",
       "│ 4   │ 0.1     │ 0.128448   │ 0.0162602 │ 0.0207257    │ 0.0153032   │\n",
       "│ 5   │ 0.01    │ NaN        │ NaN       │ NaN          │ NaN         │\n",
       "│ 6   │ 0.5     │ 0.504005   │ 0.0289917 │ 0.379213     │ 0.0296242   │"
      ]
     },
     "execution_count": 12,
     "metadata": {},
     "output_type": "execute_result"
    }
   ],
   "source": [
    "final = DataFrame(\n",
    "    true_β = true_b[correct_position],\n",
    "    β_IHT_mean = iht_non_zero_mean, \n",
    "    β_IHT_std = iht_non_zero_std, \n",
    "    β_lasso_mean = lasso_non_zero_mean,\n",
    "    β_lasso_std = lasso_non_zero_std)"
   ]
  },
  {
   "cell_type": "markdown",
   "metadata": {
    "deletable": true,
    "editable": true
   },
   "source": [
    "# 10000 by 20000 for 3 runs"
   ]
  },
  {
   "cell_type": "code",
   "execution_count": 29,
   "metadata": {
    "collapsed": false,
    "deletable": true,
    "editable": true
   },
   "outputs": [
    {
     "data": {
      "text/html": [
       "<table class=\"data-frame\"><thead><tr><th></th><th>true_β</th><th>β_IHT_mean</th><th>β_IHT_std</th><th>β_lasso_mean</th><th>β_lasso_std</th></tr><tr><th></th><th>Float64</th><th>Float64</th><th>Float64</th><th>Float64</th><th>Float64</th></tr></thead><tbody><p>6 rows × 5 columns</p><tr><th>1</th><td>0.25</td><td>0.253357</td><td>0.0123672</td><td>0.171736</td><td>0.0132097</td></tr><tr><th>2</th><td>0.05</td><td>0.107912</td><td>NaN</td><td>0.0152292</td><td>0.0109794</td></tr><tr><th>3</th><td>0.03</td><td>NaN</td><td>NaN</td><td>NaN</td><td>NaN</td></tr><tr><th>4</th><td>0.5</td><td>0.508404</td><td>0.0154591</td><td>0.420122</td><td>0.00909588</td></tr><tr><th>5</th><td>0.1</td><td>0.124637</td><td>0.044301</td><td>0.0482534</td><td>0.0372184</td></tr><tr><th>6</th><td>0.01</td><td>NaN</td><td>NaN</td><td>NaN</td><td>NaN</td></tr></tbody></table>"
      ],
      "text/latex": [
       "\\begin{tabular}{r|ccccc}\n",
       "\t& true\\_β & β\\_IHT\\_mean & β\\_IHT\\_std & β\\_lasso\\_mean & β\\_lasso\\_std\\\\\n",
       "\t\\hline\n",
       "\t& Float64 & Float64 & Float64 & Float64 & Float64\\\\\n",
       "\t\\hline\n",
       "\t1 & 0.25 & 0.253357 & 0.0123672 & 0.171736 & 0.0132097 \\\\\n",
       "\t2 & 0.05 & 0.107912 & NaN & 0.0152292 & 0.0109794 \\\\\n",
       "\t3 & 0.03 & NaN & NaN & NaN & NaN \\\\\n",
       "\t4 & 0.5 & 0.508404 & 0.0154591 & 0.420122 & 0.00909588 \\\\\n",
       "\t5 & 0.1 & 0.124637 & 0.044301 & 0.0482534 & 0.0372184 \\\\\n",
       "\t6 & 0.01 & NaN & NaN & NaN & NaN \\\\\n",
       "\\end{tabular}\n"
      ],
      "text/plain": [
       "6×5 DataFrame\n",
       "│ Row │ true_β  │ β_IHT_mean │ β_IHT_std │ β_lasso_mean │ β_lasso_std │\n",
       "│     │ \u001b[90mFloat64\u001b[39m │ \u001b[90mFloat64\u001b[39m    │ \u001b[90mFloat64\u001b[39m   │ \u001b[90mFloat64\u001b[39m      │ \u001b[90mFloat64\u001b[39m     │\n",
       "├─────┼─────────┼────────────┼───────────┼──────────────┼─────────────┤\n",
       "│ 1   │ 0.25    │ 0.253357   │ 0.0123672 │ 0.171736     │ 0.0132097   │\n",
       "│ 2   │ 0.05    │ 0.107912   │ NaN       │ 0.0152292    │ 0.0109794   │\n",
       "│ 3   │ 0.03    │ NaN        │ NaN       │ NaN          │ NaN         │\n",
       "│ 4   │ 0.5     │ 0.508404   │ 0.0154591 │ 0.420122     │ 0.00909588  │\n",
       "│ 5   │ 0.1     │ 0.124637   │ 0.044301  │ 0.0482534    │ 0.0372184   │\n",
       "│ 6   │ 0.01    │ NaN        │ NaN       │ NaN          │ NaN         │"
      ]
     },
     "execution_count": 29,
     "metadata": {},
     "output_type": "execute_result"
    }
   ],
   "source": [
    "final = DataFrame(\n",
    "    true_β = true_b[correct_position],\n",
    "    β_IHT_mean = iht_non_zero_mean, \n",
    "    β_IHT_std = iht_non_zero_std, \n",
    "    β_lasso_mean = lasso_non_zero_mean,\n",
    "    β_lasso_std = lasso_non_zero_std)"
   ]
  },
  {
   "cell_type": "code",
   "execution_count": null,
   "metadata": {
    "collapsed": true,
    "deletable": true,
    "editable": true
   },
   "outputs": [],
   "source": []
  }
 ],
 "metadata": {
  "kernelspec": {
   "display_name": "Julia 1.0.1",
   "language": "julia",
   "name": "julia-1.0"
  },
  "language_info": {
   "file_extension": ".jl",
   "mimetype": "application/julia",
   "name": "julia",
   "version": "1.0.1"
  }
 },
 "nbformat": 4,
 "nbformat_minor": 2
}
