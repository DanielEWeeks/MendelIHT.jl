{
 "cells": [
  {
   "cell_type": "markdown",
   "metadata": {
    "deletable": true,
    "editable": true
   },
   "source": [
    "# Normal - Compare coefficient estimates for IHT and lasso"
   ]
  },
  {
   "cell_type": "code",
   "execution_count": 1,
   "metadata": {
    "collapsed": false,
    "deletable": true,
    "editable": true
   },
   "outputs": [
    {
     "name": "stderr",
     "output_type": "stream",
     "text": [
      "┌ Warning: RCall.jl: Loading required package: Matrix\n",
      "│ Loading required package: foreach\n",
      "│ Loaded glmnet 2.0-16\n",
      "│ \n",
      "└ @ RCall /u/home/b/biona001/.julia/packages/RCall/ffM0W/src/io.jl:113\n"
     ]
    },
    {
     "data": {
      "text/plain": [
       "RObject{StrSxp}\n",
       " [1] \"glmnet\"    \"foreach\"   \"Matrix\"    \"stats\"     \"graphics\"  \"grDevices\"\n",
       " [7] \"utils\"     \"datasets\"  \"methods\"   \"base\"     \n"
      ]
     },
     "execution_count": 1,
     "metadata": {},
     "output_type": "execute_result"
    }
   ],
   "source": [
    "using MendelIHT\n",
    "using SnpArrays\n",
    "using DataFrames\n",
    "using Distributions\n",
    "using BenchmarkTools\n",
    "using Random\n",
    "using LinearAlgebra\n",
    "using DelimitedFiles\n",
    "using GLM\n",
    "using RCall\n",
    "R\"library(glmnet)\""
   ]
  },
  {
   "cell_type": "code",
   "execution_count": 2,
   "metadata": {
    "collapsed": false,
    "deletable": true,
    "editable": true
   },
   "outputs": [
    {
     "data": {
      "text/plain": [
       "run_repeat (generic function with 1 method)"
      ]
     },
     "execution_count": 2,
     "metadata": {},
     "output_type": "execute_result"
    }
   ],
   "source": [
    "#run n repeats of L0_reg using the same X and b, but different y\n",
    "function run_repeat(\n",
    "    n        :: Int,\n",
    "    p        :: Int,\n",
    "    repeats  :: Int, \n",
    "    z        :: AbstractMatrix,\n",
    "    true_b   :: Vector,\n",
    "    cor_pos  :: Vector, #correct position of the true model\n",
    "    d        :: UnionAll,\n",
    "    l        :: GLM.Link\n",
    "    )\n",
    "    \n",
    "    k = size(cor_pos, 1)\n",
    "    IHT_estimated_β = zeros(k, repeats)\n",
    "    lasso_estimated_β = zeros(k, repeats)\n",
    "    \n",
    "    for i in 1:repeats\n",
    "        # simulat SNP data\n",
    "        mafs = rand(Uniform(0.05, 0.5), p)\n",
    "        x = zeros(Float32, n, p)\n",
    "        for j in 1:p\n",
    "            dist = Binomial(2, mafs[j])\n",
    "            for ii in 1:n\n",
    "                x[ii, j] = Float32(rand(dist))\n",
    "            end\n",
    "        end\n",
    "        standardize!(x)\n",
    "\n",
    "        #simulate phenotypes (e.g. vector y)\n",
    "        if d == Normal || d == Poisson || d == Bernoulli\n",
    "            prob = GLM.linkinv.(l, x * true_b)\n",
    "            clamp!(prob, -20, 20)\n",
    "            y = [rand(d(i)) for i in prob]\n",
    "        elseif d == NegativeBinomial\n",
    "            r = 10\n",
    "            μ = GLM.linkinv.(l, x * true_b)\n",
    "            prob = 1 ./ (1 .+ μ ./ r)\n",
    "            y = [rand(d(r, i)) for i in prob] #number of failtures before r success occurs\n",
    "        elseif d == Gamma\n",
    "            μ = GLM.linkinv.(l, x * true_b)\n",
    "            β = 1 ./ μ # here β is the rate parameter for gamma distribution\n",
    "            y = [rand(d(α, i)) for i in β] # α is the shape parameter for gamma\n",
    "        end\n",
    "        y = Float32.(y)\n",
    "\n",
    "        #compute results for data\n",
    "        IHT_result = L0_reg(x, z, y, 1, k, d(), l)\n",
    "\n",
    "        #compute lasso results. choose λ via cross validation\n",
    "        num_folds = 3\n",
    "        folds = rand(1:num_folds, size(x, 1))\n",
    "        @rput x y folds num_folds #make variables visible to R\n",
    "        R\"lasso_cv_result = cv.glmnet(x, y, nfolds = num_folds, foldid = folds, family='gaussian')\"\n",
    "        R\"lasso_beta_tmp = glmnet(x, y, lambda=lasso_cv_result$lambda.min, family='gaussian')$beta\"\n",
    "        R\"lasso_beta = as.vector(lasso_beta_tmp)\"\n",
    "        @rget lasso_cv_result lasso_beta #pull result from R to Julia\n",
    "\n",
    "        #store the correct position in estimated model\n",
    "        IHT_estimated_β[:, i] .= IHT_result.beta[cor_pos]\n",
    "        lasso_estimated_β[:, i] .= lasso_beta[cor_pos]\n",
    "    end\n",
    "    \n",
    "    return IHT_estimated_β, lasso_estimated_β\n",
    "end"
   ]
  },
  {
   "cell_type": "markdown",
   "metadata": {
    "deletable": true,
    "editable": true
   },
   "source": [
    "## Run 100 models\n",
    "\n",
    "Here $\\beta_{true}$ is the same in all models, but the design matrix and phenotype will be different. To run lasso, we first cross validate for the tuning parameter $\\lambda$ before running the standard lasso. We compute the average and standard error for correctly identified predictors (i.e. estimated $\\beta_i > 0$). Note that here we are not comparing false positives or false negatives. "
   ]
  },
  {
   "cell_type": "code",
   "execution_count": 3,
   "metadata": {
    "collapsed": false,
    "deletable": true,
    "editable": true
   },
   "outputs": [
    {
     "name": "stdout",
     "output_type": "stream",
     "text": [
      "4947.355525 seconds (40.81 M allocations: 20.803 GiB, 0.05% gc time)\n"
     ]
    },
    {
     "data": {
      "text/plain": [
       "([0.0618633 0.0503844 … 0.0 0.0; 0.0 0.0 … 0.0 0.0; … ; 0.0 0.0 … 0.0 0.0; 0.516486 0.488924 … 0.517375 0.483652], [0.0103852 0.0 … 0.0 0.0; 0.0 0.0 … 0.0 0.0; … ; 0.0 0.0 … 0.0 0.0; 0.468399 0.439719 … 0.46912 0.432281])"
      ]
     },
     "execution_count": 3,
     "metadata": {},
     "output_type": "execute_result"
    }
   ],
   "source": [
    "repeats = 100\n",
    "n = 5000\n",
    "p = 10000\n",
    "d = Normal\n",
    "l = canonicallink(d())\n",
    "\n",
    "# set random seed for reproducibility\n",
    "Random.seed!(2019)\n",
    "\n",
    "# intercept\n",
    "z = ones(Float32, n, 1)\n",
    "\n",
    "#construct true model b\n",
    "true_b = zeros(p)\n",
    "true_b[1:6] = [0.01; 0.03; 0.05; 0.1; 0.25; 0.5]\n",
    "shuffle!(true_b)\n",
    "correct_position = findall(x -> x != 0, true_b)\n",
    "\n",
    "#run repeats\n",
    "@time iht_result, lasso_result = run_repeat(n, p, repeats, z, true_b, correct_position, d, l)"
   ]
  },
  {
   "cell_type": "code",
   "execution_count": 4,
   "metadata": {
    "collapsed": false,
    "deletable": true,
    "editable": true
   },
   "outputs": [
    {
     "data": {
      "text/plain": [
       "6×100 Array{Float64,2}:\n",
       " 0.0618633  0.0503844  0.0        …  0.0       0.0        0.0      \n",
       " 0.0        0.0        0.0629937     0.0       0.0        0.0      \n",
       " 0.23741    0.257444   0.244949      0.251235  0.246026   0.255436 \n",
       " 0.120814   0.100397   0.103847      0.113403  0.0998012  0.0903106\n",
       " 0.0        0.0        0.0           0.0       0.0        0.0      \n",
       " 0.516486   0.488924   0.478518   …  0.4914    0.517375   0.483652 "
      ]
     },
     "execution_count": 4,
     "metadata": {},
     "output_type": "execute_result"
    }
   ],
   "source": [
    "iht_result"
   ]
  },
  {
   "cell_type": "code",
   "execution_count": 5,
   "metadata": {
    "collapsed": false,
    "deletable": true,
    "editable": true
   },
   "outputs": [
    {
     "data": {
      "text/plain": [
       "6×100 Array{Float64,2}:\n",
       " 0.0103852  0.0        0.00865305  …  0.0        0.0        0.0      \n",
       " 0.0        0.0        0.0136544      0.0        0.0        0.0      \n",
       " 0.188443   0.207823   0.195532       0.200539   0.197764   0.204044 \n",
       " 0.0688395  0.0523231  0.0589289      0.0625958  0.0491319  0.0403328\n",
       " 0.0        0.0        0.0            0.0        0.0        0.0      \n",
       " 0.468399   0.439719   0.43065     …  0.439339   0.46912    0.432281 "
      ]
     },
     "execution_count": 5,
     "metadata": {},
     "output_type": "execute_result"
    }
   ],
   "source": [
    "lasso_result"
   ]
  },
  {
   "cell_type": "code",
   "execution_count": 6,
   "metadata": {
    "collapsed": true,
    "deletable": true,
    "editable": true
   },
   "outputs": [],
   "source": [
    "iht_non_zero = [iht_result[i, findall(!iszero, iht_result[i, :])] for i in 1:6]\n",
    "lasso_non_zero = [lasso_result[i, findall(!iszero, lasso_result[i, :])] for i in 1:6];"
   ]
  },
  {
   "cell_type": "code",
   "execution_count": 7,
   "metadata": {
    "collapsed": false,
    "deletable": true,
    "editable": true
   },
   "outputs": [
    {
     "data": {
      "text/plain": [
       "6-element Array{Float64,1}:\n",
       "   0.05727936699986458 \n",
       "   0.061893903227014976\n",
       "   0.25041748002171516 \n",
       "   0.09566341534256935 \n",
       " NaN                   \n",
       "   0.49891154795885084 "
      ]
     },
     "execution_count": 7,
     "metadata": {},
     "output_type": "execute_result"
    }
   ],
   "source": [
    "iht_non_zero_mean = mean.(iht_non_zero)"
   ]
  },
  {
   "cell_type": "code",
   "execution_count": 8,
   "metadata": {
    "collapsed": false,
    "deletable": true,
    "editable": true
   },
   "outputs": [
    {
     "data": {
      "text/plain": [
       "6-element Array{Float64,1}:\n",
       "   0.008019509256396114\n",
       "   0.010934411580758346\n",
       "   0.1994199443091757  \n",
       "   0.04480031486780809 \n",
       " NaN                   \n",
       "   0.44805405740613075 "
      ]
     },
     "execution_count": 8,
     "metadata": {},
     "output_type": "execute_result"
    }
   ],
   "source": [
    "lasso_non_zero_mean = mean.(lasso_non_zero)"
   ]
  },
  {
   "cell_type": "code",
   "execution_count": 9,
   "metadata": {
    "collapsed": false,
    "deletable": true,
    "editable": true
   },
   "outputs": [
    {
     "data": {
      "text/plain": [
       "6-element Array{Float64,1}:\n",
       "   0.005809003889608191 \n",
       "   0.0072014211418802215\n",
       "   0.011929937836438325 \n",
       "   0.013838700709846294 \n",
       " NaN                    \n",
       "   0.015007375146615595 "
      ]
     },
     "execution_count": 9,
     "metadata": {},
     "output_type": "execute_result"
    }
   ],
   "source": [
    "iht_non_zero_std = std.(iht_non_zero)"
   ]
  },
  {
   "cell_type": "code",
   "execution_count": 10,
   "metadata": {
    "collapsed": false,
    "deletable": true,
    "editable": true
   },
   "outputs": [
    {
     "data": {
      "text/plain": [
       "6-element Array{Float64,1}:\n",
       "   0.004689104307433112\n",
       "   0.008169470313789758\n",
       "   0.012020559335369201\n",
       "   0.014348575994290534\n",
       " NaN                   \n",
       "   0.015624323548375101"
      ]
     },
     "execution_count": 10,
     "metadata": {},
     "output_type": "execute_result"
    }
   ],
   "source": [
    "lasso_non_zero_std = std.(lasso_non_zero)"
   ]
  },
  {
   "cell_type": "code",
   "execution_count": 11,
   "metadata": {
    "collapsed": false,
    "deletable": true,
    "editable": true
   },
   "outputs": [
    {
     "data": {
      "text/html": [
       "<table class=\"data-frame\"><thead><tr><th></th><th>true_β</th><th>β_IHT_mean</th><th>β_IHT_std</th><th>β_lasso_mean</th><th>β_lasso_std</th></tr><tr><th></th><th>Float64</th><th>Float64</th><th>Float64</th><th>Float64</th><th>Float64</th></tr></thead><tbody><p>6 rows × 5 columns</p><tr><th>1</th><td>0.03</td><td>0.0572794</td><td>0.005809</td><td>0.00801951</td><td>0.0046891</td></tr><tr><th>2</th><td>0.05</td><td>0.0618939</td><td>0.00720142</td><td>0.0109344</td><td>0.00816947</td></tr><tr><th>3</th><td>0.25</td><td>0.250417</td><td>0.0119299</td><td>0.19942</td><td>0.0120206</td></tr><tr><th>4</th><td>0.1</td><td>0.0956634</td><td>0.0138387</td><td>0.0448003</td><td>0.0143486</td></tr><tr><th>5</th><td>0.01</td><td>NaN</td><td>NaN</td><td>NaN</td><td>NaN</td></tr><tr><th>6</th><td>0.5</td><td>0.498912</td><td>0.0150074</td><td>0.448054</td><td>0.0156243</td></tr></tbody></table>"
      ],
      "text/latex": [
       "\\begin{tabular}{r|ccccc}\n",
       "\t& true\\_β & β\\_IHT\\_mean & β\\_IHT\\_std & β\\_lasso\\_mean & β\\_lasso\\_std\\\\\n",
       "\t\\hline\n",
       "\t& Float64 & Float64 & Float64 & Float64 & Float64\\\\\n",
       "\t\\hline\n",
       "\t1 & 0.03 & 0.0572794 & 0.005809 & 0.00801951 & 0.0046891 \\\\\n",
       "\t2 & 0.05 & 0.0618939 & 0.00720142 & 0.0109344 & 0.00816947 \\\\\n",
       "\t3 & 0.25 & 0.250417 & 0.0119299 & 0.19942 & 0.0120206 \\\\\n",
       "\t4 & 0.1 & 0.0956634 & 0.0138387 & 0.0448003 & 0.0143486 \\\\\n",
       "\t5 & 0.01 & NaN & NaN & NaN & NaN \\\\\n",
       "\t6 & 0.5 & 0.498912 & 0.0150074 & 0.448054 & 0.0156243 \\\\\n",
       "\\end{tabular}\n"
      ],
      "text/plain": [
       "6×5 DataFrame\n",
       "│ Row │ true_β  │ β_IHT_mean │ β_IHT_std  │ β_lasso_mean │ β_lasso_std │\n",
       "│     │ \u001b[90mFloat64\u001b[39m │ \u001b[90mFloat64\u001b[39m    │ \u001b[90mFloat64\u001b[39m    │ \u001b[90mFloat64\u001b[39m      │ \u001b[90mFloat64\u001b[39m     │\n",
       "├─────┼─────────┼────────────┼────────────┼──────────────┼─────────────┤\n",
       "│ 1   │ 0.03    │ 0.0572794  │ 0.005809   │ 0.00801951   │ 0.0046891   │\n",
       "│ 2   │ 0.05    │ 0.0618939  │ 0.00720142 │ 0.0109344    │ 0.00816947  │\n",
       "│ 3   │ 0.25    │ 0.250417   │ 0.0119299  │ 0.19942      │ 0.0120206   │\n",
       "│ 4   │ 0.1     │ 0.0956634  │ 0.0138387  │ 0.0448003    │ 0.0143486   │\n",
       "│ 5   │ 0.01    │ NaN        │ NaN        │ NaN          │ NaN         │\n",
       "│ 6   │ 0.5     │ 0.498912   │ 0.0150074  │ 0.448054     │ 0.0156243   │"
      ]
     },
     "execution_count": 11,
     "metadata": {},
     "output_type": "execute_result"
    }
   ],
   "source": [
    "final = DataFrame(\n",
    "    true_β = true_b[correct_position],\n",
    "    β_IHT_mean = iht_non_zero_mean, \n",
    "    β_IHT_std = iht_non_zero_std, \n",
    "    β_lasso_mean = lasso_non_zero_mean,\n",
    "    β_lasso_std = lasso_non_zero_std)"
   ]
  },
  {
   "cell_type": "code",
   "execution_count": null,
   "metadata": {
    "collapsed": true,
    "deletable": true,
    "editable": true
   },
   "outputs": [],
   "source": []
  }
 ],
 "metadata": {
  "kernelspec": {
   "display_name": "Julia 1.0.1",
   "language": "julia",
   "name": "julia-1.0"
  },
  "language_info": {
   "file_extension": ".jl",
   "mimetype": "application/julia",
   "name": "julia",
   "version": "1.0.1"
  }
 },
 "nbformat": 4,
 "nbformat_minor": 2
}
