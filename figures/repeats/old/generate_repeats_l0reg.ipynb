{
 "cells": [
  {
   "cell_type": "markdown",
   "metadata": {},
   "source": [
    "# Run normal, logistic, poisson code on the same model but different data many times "
   ]
  },
  {
   "cell_type": "code",
   "execution_count": 18,
   "metadata": {
    "collapsed": false
   },
   "outputs": [],
   "source": [
    "using IHT\n",
    "using SnpArrays\n",
    "using DataFrames\n",
    "using Distributions\n",
    "using BenchmarkTools\n",
    "using Random\n",
    "using LinearAlgebra\n",
    "using StatsFuns: logistic\n",
    "using DelimitedFiles"
   ]
  },
  {
   "cell_type": "markdown",
   "metadata": {},
   "source": [
    "# Wrapper functions for running code a bunch of times "
   ]
  },
  {
   "cell_type": "code",
   "execution_count": 2,
   "metadata": {
    "collapsed": false
   },
   "outputs": [
    {
     "data": {
      "text/plain": [
       "normal_repeat (generic function with 1 method)"
      ]
     },
     "execution_count": 2,
     "metadata": {},
     "output_type": "execute_result"
    }
   ],
   "source": [
    "#run n repeats of L0_reg using the same X and b, but different y\n",
    "function normal_repeat(\n",
    "    repeats  :: Int, \n",
    "    x        :: SnpArray,\n",
    "    xbm      :: SnpBitMatrix,\n",
    "    true_b   :: Vector{Float64},\n",
    "    noise    :: Float64,\n",
    "    position :: Vector{Int} #correct position of the true model\n",
    ")\n",
    "    n = size(xbm, 1)\n",
    "    k = size(position, 1)\n",
    "    estimated_β = zeros(k, repeats)\n",
    "    \n",
    "    for i in 1:repeats\n",
    "        # simulate random noise\n",
    "        ϵ = rand(Normal(0, noise), n)\n",
    "\n",
    "        #simulate phenotypes (e.g. vector y) via: y = Xb + noise\n",
    "        y = xbm * true_b + ϵ\n",
    "\n",
    "        #compute IHT result for less noisy data\n",
    "        z = ones(n, 1) # intercept\n",
    "        result = L0_reg(x, z, y, 1, k, debias=false)\n",
    "        \n",
    "        #store the correct position in estimated model\n",
    "        estimated_β[:, i] .= result.beta[position]\n",
    "    end\n",
    "    \n",
    "    return estimated_β\n",
    "end"
   ]
  },
  {
   "cell_type": "code",
   "execution_count": 3,
   "metadata": {
    "collapsed": false
   },
   "outputs": [
    {
     "data": {
      "text/plain": [
       "logistic_repeat (generic function with 1 method)"
      ]
     },
     "execution_count": 3,
     "metadata": {},
     "output_type": "execute_result"
    }
   ],
   "source": [
    "#run n repeats of L0_reg using the same X and b, but different y\n",
    "function logistic_repeat(\n",
    "    repeats  :: Int, \n",
    "    x        :: SnpArray,\n",
    "    xbm      :: SnpBitMatrix,\n",
    "    true_b   :: Vector{Float64},\n",
    "    noise    :: Float64,\n",
    "    position :: Vector{Int} #correct position of the true model\n",
    ")\n",
    "    n = size(xbm, 1)\n",
    "    k = size(position, 1)\n",
    "    estimated_β = zeros(k, repeats)\n",
    "    \n",
    "    for i in 1:repeats\n",
    "        #simulate phenotypes \n",
    "        y_temp = xbm * true_b\n",
    "        \n",
    "        # Apply inverse logit link and sample from the vector of distributions\n",
    "        prob = logistic.(y_temp) #inverse logit link\n",
    "        y = [rand(Bernoulli(x)) for x in prob]\n",
    "        y = Float64.(y)\n",
    "\n",
    "        #compute IHT result for less noisy data\n",
    "        z = ones(n, 1) # intercept\n",
    "        result = L0_logistic_reg(x, z, y, 1, k, glm = \"logistic\", debias=true, show_info=false)\n",
    "\n",
    "        #store the correct position in estimated model\n",
    "        estimated_β[:, i] .= result.beta[position]\n",
    "    end\n",
    "    \n",
    "    return estimated_β\n",
    "end"
   ]
  },
  {
   "cell_type": "code",
   "execution_count": 14,
   "metadata": {
    "collapsed": false
   },
   "outputs": [
    {
     "data": {
      "text/plain": [
       "poisson_repeat (generic function with 1 method)"
      ]
     },
     "execution_count": 14,
     "metadata": {},
     "output_type": "execute_result"
    }
   ],
   "source": [
    "#run n repeats of L0_reg using the same X and b, but different y\n",
    "function poisson_repeat(\n",
    "    repeats  :: Int, \n",
    "    x        :: SnpArray,\n",
    "    xbm      :: SnpBitMatrix,\n",
    "    true_b   :: Vector{Float64},\n",
    "    noise    :: Float64,\n",
    "    position :: Vector{Int} #correct position of the true model\n",
    ")\n",
    "    n = size(xbm, 1)\n",
    "    k = size(position, 1)\n",
    "    estimated_β = zeros(k, repeats)\n",
    "    \n",
    "    for i in 1:repeats\n",
    "        #simulate phenotypes \n",
    "        y_temp = xbm * true_b\n",
    "        \n",
    "        # Simulate poisson data\n",
    "        λ = exp.(y_temp) #inverse log link\n",
    "        y = [rand(Poisson(x)) for x in λ]\n",
    "        y = Float64.(y)\n",
    "\n",
    "        #compute IHT result for less noisy data\n",
    "        z = ones(n, 1) # intercept\n",
    "        result = L0_poisson_reg(x, z, y, 1, k, glm = \"poisson\", debias=false, convg=false, show_info=false)\n",
    "\n",
    "        #store the correct position in estimated model\n",
    "        estimated_β[:, i] .= result.beta[position]\n",
    "    end\n",
    "    \n",
    "    return estimated_β\n",
    "end"
   ]
  },
  {
   "cell_type": "markdown",
   "metadata": {},
   "source": [
    "# Simulate data"
   ]
  },
  {
   "cell_type": "code",
   "execution_count": 8,
   "metadata": {
    "collapsed": false,
    "scrolled": false
   },
   "outputs": [
    {
     "data": {
      "text/plain": [
       "10-element Array{Float64,1}:\n",
       " -1.032632104380422  \n",
       " -0.2239554516566982 \n",
       "  0.07273374165749658\n",
       " -0.9191484037333554 \n",
       "  0.45122947328314994\n",
       "  0.7111366326563213 \n",
       "  0.2641836722931301 \n",
       " -0.0699173021489764 \n",
       " -0.4464860534793655 \n",
       " -0.6418130951634765 "
      ]
     },
     "execution_count": 8,
     "metadata": {},
     "output_type": "execute_result"
    }
   ],
   "source": [
    "#set random seed\n",
    "Random.seed!(123)\n",
    "\n",
    "#simulat data\n",
    "n = 2000\n",
    "p = 10000\n",
    "bernoulli_rates = 0.5rand(p) #minor allele frequencies are drawn from uniform (0, 0.5)\n",
    "x = simulate_random_snparray(n, p, bernoulli_rates)\n",
    "xbm = SnpBitMatrix{Float64}(x, model=ADDITIVE_MODEL, center=true, scale=true); \n",
    "\n",
    "#specify true model size and noise of data\n",
    "k = 10   # number of true predictors\n",
    "s = 0.1  # noise \n",
    "\n",
    "#construct true model b\n",
    "true_b = zeros(p)       # model vector\n",
    "true_b[1:k] = randn(k)  # Initialize k non-zero entries in the true model\n",
    "shuffle!(true_b)        # Shuffle the entries\n",
    "correct_position = findall(x -> x != 0, true_b) # keep track of what the true entries are\n",
    "true_b[correct_position]"
   ]
  },
  {
   "cell_type": "markdown",
   "metadata": {},
   "source": [
    "# Perform simulation a bunch of times"
   ]
  },
  {
   "cell_type": "code",
   "execution_count": 5,
   "metadata": {
    "collapsed": false
   },
   "outputs": [
    {
     "data": {
      "text/plain": [
       "10×10 Array{Float64,2}:\n",
       " -1.03097    -1.03614    -1.02993    …  -1.0359     -1.03192    -1.03389  \n",
       " -0.224721   -0.223331   -0.22911       -0.223697   -0.22428    -0.221284 \n",
       "  0.0710394   0.0750143   0.0722183      0.0750609   0.0715057   0.0719568\n",
       " -0.918373   -0.920954   -0.918275      -0.921586   -0.919323   -0.92075  \n",
       "  0.452428    0.451672    0.448629       0.455558    0.446528    0.453115 \n",
       "  0.713601    0.710315    0.708198   …   0.710077    0.711536    0.714367 \n",
       "  0.262455    0.264357    0.268168       0.26665     0.261241    0.263857 \n",
       " -0.0659158  -0.0706653  -0.0705811     -0.0713897  -0.0692596  -0.0712174\n",
       " -0.449508   -0.448497   -0.446629      -0.443119   -0.448306   -0.444949 \n",
       " -0.642566   -0.641768   -0.644232      -0.641812   -0.643826   -0.643875 "
      ]
     },
     "execution_count": 5,
     "metadata": {},
     "output_type": "execute_result"
    }
   ],
   "source": [
    "repeats = 10\n",
    "normal_result = normal_repeat(repeats, xbm, true_b, s, correct_position)"
   ]
  },
  {
   "cell_type": "code",
   "execution_count": 16,
   "metadata": {
    "collapsed": false
   },
   "outputs": [
    {
     "data": {
      "text/plain": [
       "10×10 Array{Float64,2}:\n",
       " -1.05325   -0.946425  -1.042     …  -0.951251  -1.09671   -1.05655 \n",
       "  0.0       -0.369396   0.0           0.0       -0.205502   0.0     \n",
       "  0.2336     0.0        0.0           0.0        0.0        0.0     \n",
       " -0.993427  -0.937221  -0.880625     -0.987428  -0.946767  -0.895962\n",
       "  0.540484   0.52665    0.464331      0.463708   0.382106   0.538334\n",
       "  0.731927   0.685709   0.619302  …   0.796292   0.840397   0.69273 \n",
       "  0.272807   0.306217   0.336967      0.300038   0.356199   0.304941\n",
       "  0.0        0.0        0.0           0.0        0.0        0.0     \n",
       " -0.407213  -0.437987  -0.468822     -0.488452  -0.486859  -0.465732\n",
       " -0.560326  -0.581322  -0.681331     -0.728032  -0.713123  -0.631274"
      ]
     },
     "execution_count": 16,
     "metadata": {},
     "output_type": "execute_result"
    }
   ],
   "source": [
    "repeats = 10\n",
    "logistic_result = logistic_repeat(repeats, xbm, true_b, s, correct_position)"
   ]
  },
  {
   "cell_type": "code",
   "execution_count": 15,
   "metadata": {
    "collapsed": false
   },
   "outputs": [
    {
     "data": {
      "text/plain": [
       "10×10 Array{Float64,2}:\n",
       " -1.01311    -1.03886    -1.0194     …  -1.04351    -1.02035    -1.025    \n",
       "  0.0         0.0         0.0            0.0         0.0         0.0      \n",
       "  0.0752493   0.0613097   0.076923       0.0684839   0.0683997   0.0774494\n",
       " -0.921249   -0.928067   -0.941155      -0.927725   -0.90217    -0.916345 \n",
       "  0.43986     0.455245    0.449927       0.447075    0.449652    0.450708 \n",
       "  0.708496    0.715644    0.704064   …   0.725813    0.70221     0.722058 \n",
       "  0.266938    0.269339    0.295152       0.25666     0.266401    0.250103 \n",
       " -0.0557379  -0.0665173  -0.0715434     -0.0786794  -0.081211   -0.0802913\n",
       " -0.433837   -0.443607   -0.460737      -0.441779   -0.463928   -0.464449 \n",
       " -0.617545   -0.642085   -0.635184      -0.648386   -0.650688   -0.640051 "
      ]
     },
     "execution_count": 15,
     "metadata": {},
     "output_type": "execute_result"
    }
   ],
   "source": [
    "repeats = 10\n",
    "poisson_result = poisson_repeat(repeats, xbm, true_b, s, correct_position)"
   ]
  },
  {
   "cell_type": "code",
   "execution_count": 20,
   "metadata": {
    "collapsed": false
   },
   "outputs": [],
   "source": [
    "#writedlm(\"normal_result\", normal_result)\n",
    "#writedlm(\"logistic_result\", logistic_result)\n",
    "#writedlm(\"poisson_result\", poisson_result)"
   ]
  },
  {
   "cell_type": "code",
   "execution_count": null,
   "metadata": {
    "collapsed": true
   },
   "outputs": [],
   "source": []
  }
 ],
 "metadata": {
  "kernelspec": {
   "display_name": "Julia 1.0.3",
   "language": "julia",
   "name": "julia-1.0"
  },
  "language_info": {
   "file_extension": ".jl",
   "mimetype": "application/julia",
   "name": "julia",
   "version": "1.0.3"
  }
 },
 "nbformat": 4,
 "nbformat_minor": 2
}
