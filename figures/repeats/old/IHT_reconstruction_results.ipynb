{
 "cells": [
  {
   "cell_type": "code",
   "execution_count": 1,
   "metadata": {
    "collapsed": false
   },
   "outputs": [],
   "source": [
    "using DelimitedFiles\n",
    "using Random\n",
    "using DataFrames\n",
    "using StatsBase\n",
    "using Statistics"
   ]
  },
  {
   "cell_type": "markdown",
   "metadata": {},
   "source": [
    "# Below are 100 simulations of y where X is 5k by 100k matrix"
   ]
  },
  {
   "cell_type": "code",
   "execution_count": 2,
   "metadata": {
    "collapsed": false,
    "scrolled": false
   },
   "outputs": [
    {
     "data": {
      "text/plain": [
       "10×1 Array{Float64,2}:\n",
       " -0.15383809548156066 \n",
       " -0.8994459470272312  \n",
       " -0.007629197779590085\n",
       " -0.3803702214456629  \n",
       " -1.0528703282949283  \n",
       " -0.164312670254221   \n",
       "  0.9595798578217997  \n",
       " -0.22792996142696456 \n",
       "  1.173293523705761   \n",
       "  0.4534550514505588  "
      ]
     },
     "execution_count": 2,
     "metadata": {},
     "output_type": "execute_result"
    }
   ],
   "source": [
    "#import simulation results\n",
    "normal_5k_by_100k_100   = readdlm(\"normal_5k_by_100k_100\")\n",
    "logistic_5k_by_100k_100 = readdlm(\"logistic_5k_by_100k_100\")\n",
    "poisson_5k_by_100k_100  = readdlm(\"poisson_5k_by_100k_100\")\n",
    "\n",
    "#import true model\n",
    "true_b = readdlm(\"true_b\")"
   ]
  },
  {
   "cell_type": "markdown",
   "metadata": {},
   "source": [
    "### First compute the probability that reach predictor is found"
   ]
  },
  {
   "cell_type": "code",
   "execution_count": 35,
   "metadata": {
    "collapsed": false
   },
   "outputs": [],
   "source": [
    "k = size(true_b, 1)\n",
    "normal_found   = zeros(k)\n",
    "logistic_found = zeros(k)\n",
    "poisson_found  = zeros(k)\n",
    "\n",
    "for i in 1:k\n",
    "    normal_found[i]   = sum(normal_5k_by_100k_100[i, :] .!= 0)\n",
    "    logistic_found[i] = sum(logistic_5k_by_100k_100[i, :] .!= 0)\n",
    "    poisson_found[i]  = sum(poisson_5k_by_100k_100[i, :] .!= 0)\n",
    "end"
   ]
  },
  {
   "cell_type": "code",
   "execution_count": 36,
   "metadata": {
    "collapsed": false
   },
   "outputs": [
    {
     "data": {
      "text/html": [
       "<table class=\"data-frame\"><thead><tr><th></th><th>true_b</th><th>normal_prob_find</th><th>logistic_prob_find</th><th>poisson_prob_find</th></tr><tr><th></th><th>Float64</th><th>Float64</th><th>Float64</th><th>Float64</th></tr></thead><tbody><p>10 rows × 4 columns</p><tr><th>1</th><td>-0.153838</td><td>100.0</td><td>49.0</td><td>100.0</td></tr><tr><th>2</th><td>-0.899446</td><td>100.0</td><td>100.0</td><td>100.0</td></tr><tr><th>3</th><td>-0.0076292</td><td>85.0</td><td>0.0</td><td>0.0</td></tr><tr><th>4</th><td>-0.38037</td><td>100.0</td><td>100.0</td><td>100.0</td></tr><tr><th>5</th><td>-1.05287</td><td>100.0</td><td>100.0</td><td>100.0</td></tr><tr><th>6</th><td>-0.164313</td><td>100.0</td><td>57.0</td><td>100.0</td></tr><tr><th>7</th><td>0.95958</td><td>100.0</td><td>100.0</td><td>100.0</td></tr><tr><th>8</th><td>-0.22793</td><td>100.0</td><td>98.0</td><td>100.0</td></tr><tr><th>9</th><td>1.17329</td><td>100.0</td><td>100.0</td><td>100.0</td></tr><tr><th>10</th><td>0.453455</td><td>100.0</td><td>100.0</td><td>100.0</td></tr></tbody></table>"
      ],
      "text/latex": [
       "\\begin{tabular}{r|cccc}\n",
       "\t& true\\_b & normal\\_prob\\_find & logistic\\_prob\\_find & poisson\\_prob\\_find\\\\\n",
       "\t\\hline\n",
       "\t& Float64 & Float64 & Float64 & Float64\\\\\n",
       "\t\\hline\n",
       "\t1 & -0.153838 & 100.0 & 49.0 & 100.0 \\\\\n",
       "\t2 & -0.899446 & 100.0 & 100.0 & 100.0 \\\\\n",
       "\t3 & -0.0076292 & 85.0 & 0.0 & 0.0 \\\\\n",
       "\t4 & -0.38037 & 100.0 & 100.0 & 100.0 \\\\\n",
       "\t5 & -1.05287 & 100.0 & 100.0 & 100.0 \\\\\n",
       "\t6 & -0.164313 & 100.0 & 57.0 & 100.0 \\\\\n",
       "\t7 & 0.95958 & 100.0 & 100.0 & 100.0 \\\\\n",
       "\t8 & -0.22793 & 100.0 & 98.0 & 100.0 \\\\\n",
       "\t9 & 1.17329 & 100.0 & 100.0 & 100.0 \\\\\n",
       "\t10 & 0.453455 & 100.0 & 100.0 & 100.0 \\\\\n",
       "\\end{tabular}\n"
      ],
      "text/plain": [
       "10×4 DataFrame\n",
       "│ Row │ true_b     │ normal_prob_find │ logistic_prob_find │ poisson_prob_find │\n",
       "│     │ \u001b[90mFloat64\u001b[39m    │ \u001b[90mFloat64\u001b[39m          │ \u001b[90mFloat64\u001b[39m            │ \u001b[90mFloat64\u001b[39m           │\n",
       "├─────┼────────────┼──────────────────┼────────────────────┼───────────────────┤\n",
       "│ 1   │ -0.153838  │ 100.0            │ 49.0               │ 100.0             │\n",
       "│ 2   │ -0.899446  │ 100.0            │ 100.0              │ 100.0             │\n",
       "│ 3   │ -0.0076292 │ 85.0             │ 0.0                │ 0.0               │\n",
       "│ 4   │ -0.38037   │ 100.0            │ 100.0              │ 100.0             │\n",
       "│ 5   │ -1.05287   │ 100.0            │ 100.0              │ 100.0             │\n",
       "│ 6   │ -0.164313  │ 100.0            │ 57.0               │ 100.0             │\n",
       "│ 7   │ 0.95958    │ 100.0            │ 100.0              │ 100.0             │\n",
       "│ 8   │ -0.22793   │ 100.0            │ 98.0               │ 100.0             │\n",
       "│ 9   │ 1.17329    │ 100.0            │ 100.0              │ 100.0             │\n",
       "│ 10  │ 0.453455   │ 100.0            │ 100.0              │ 100.0             │"
      ]
     },
     "execution_count": 36,
     "metadata": {},
     "output_type": "execute_result"
    }
   ],
   "source": [
    "find_probability = DataFrame(\n",
    "    true_b = true_b[:],\n",
    "    normal_prob_find = normal_found, \n",
    "    logistic_prob_find = logistic_found,\n",
    "    poisson_prob_find  = poisson_found)"
   ]
  },
  {
   "cell_type": "markdown",
   "metadata": {},
   "source": [
    "### When found, what's the average and standard deviation "
   ]
  },
  {
   "cell_type": "code",
   "execution_count": 37,
   "metadata": {
    "collapsed": false
   },
   "outputs": [],
   "source": [
    "k = size(true_b, 1)\n",
    "normal_mean   = zeros(k)\n",
    "normal_std    = zeros(k)\n",
    "logistic_mean = zeros(k)\n",
    "logistic_std  = zeros(k)\n",
    "poisson_mean  = zeros(k)\n",
    "poisson_std   = zeros(k)\n",
    "\n",
    "for i in 1:k\n",
    "    #compute mean and std if at least 1 found\n",
    "    if normal_found[i] != 0\n",
    "        normal_cur_row = normal_5k_by_100k_100[i, :] .!= 0\n",
    "        normal_mean[i] = mean(normal_5k_by_100k_100[i, :][normal_cur_row])\n",
    "        normal_std[i]  = std(normal_5k_by_100k_100[i, :][normal_cur_row])\n",
    "    end\n",
    "    \n",
    "    if logistic_found[i] != 0\n",
    "        logistic_cur_row = logistic_5k_by_100k_100[i, :] .!= 0\n",
    "        logistic_mean[i] = mean(logistic_5k_by_100k_100[i, :][logistic_cur_row])\n",
    "        logistic_std[i]  = std(logistic_5k_by_100k_100[i, :][logistic_cur_row])\n",
    "    end\n",
    "    \n",
    "    if poisson_found[i] != 0\n",
    "        poisson_cur_row = poisson_5k_by_100k_100[i, :] .!= 0\n",
    "        poisson_mean[i] = mean(poisson_5k_by_100k_100[i, :][poisson_cur_row])\n",
    "        poisson_std[i]  = std(poisson_5k_by_100k_100[i, :][poisson_cur_row])\n",
    "    end\n",
    "end"
   ]
  },
  {
   "cell_type": "code",
   "execution_count": 38,
   "metadata": {
    "collapsed": false
   },
   "outputs": [
    {
     "data": {
      "text/html": [
       "<table class=\"data-frame\"><thead><tr><th></th><th>true_b</th><th>normal_mean</th><th>normal_std</th><th>logistic_mean</th><th>logistic_std</th><th>poisson_mean</th><th>poisson_std</th></tr><tr><th></th><th>Float64</th><th>Float64</th><th>Float64</th><th>Float64</th><th>Float64</th><th>Float64</th><th>Float64</th></tr></thead><tbody><p>10 rows × 7 columns</p><tr><th>1</th><td>-0.153838</td><td>-0.153996</td><td>0.0013654</td><td>-0.189892</td><td>0.0212166</td><td>-0.153484</td><td>0.00513342</td></tr><tr><th>2</th><td>-0.899446</td><td>-0.899363</td><td>0.00132262</td><td>-0.908014</td><td>0.0363525</td><td>-0.899544</td><td>0.00657099</td></tr><tr><th>3</th><td>-0.0076292</td><td>-0.0082179</td><td>0.00107313</td><td>0.0</td><td>0.0</td><td>0.0</td><td>0.0</td></tr><tr><th>4</th><td>-0.38037</td><td>-0.380463</td><td>0.00161458</td><td>-0.380738</td><td>0.0401432</td><td>-0.379907</td><td>0.00445302</td></tr><tr><th>5</th><td>-1.05287</td><td>-1.0531</td><td>0.00152849</td><td>-1.06732</td><td>0.0440068</td><td>-1.05061</td><td>0.00761162</td></tr><tr><th>6</th><td>-0.164313</td><td>-0.164382</td><td>0.00150407</td><td>-0.189739</td><td>0.0189839</td><td>-0.163746</td><td>0.00457592</td></tr><tr><th>7</th><td>0.95958</td><td>0.95947</td><td>0.00135204</td><td>0.975699</td><td>0.0425978</td><td>0.959261</td><td>0.00436532</td></tr><tr><th>8</th><td>-0.22793</td><td>-0.227895</td><td>0.00146507</td><td>-0.233117</td><td>0.0381534</td><td>-0.227001</td><td>0.00427831</td></tr><tr><th>9</th><td>1.17329</td><td>1.17337</td><td>0.00152257</td><td>1.18229</td><td>0.0488598</td><td>1.17338</td><td>0.00316699</td></tr><tr><th>10</th><td>0.453455</td><td>0.453442</td><td>0.00128862</td><td>0.453688</td><td>0.043737</td><td>0.45331</td><td>0.00238008</td></tr></tbody></table>"
      ],
      "text/latex": [
       "\\begin{tabular}{r|ccccccc}\n",
       "\t& true\\_b & normal\\_mean & normal\\_std & logistic\\_mean & logistic\\_std & poisson\\_mean & poisson\\_std\\\\\n",
       "\t\\hline\n",
       "\t& Float64 & Float64 & Float64 & Float64 & Float64 & Float64 & Float64\\\\\n",
       "\t\\hline\n",
       "\t1 & -0.153838 & -0.153996 & 0.0013654 & -0.189892 & 0.0212166 & -0.153484 & 0.00513342 \\\\\n",
       "\t2 & -0.899446 & -0.899363 & 0.00132262 & -0.908014 & 0.0363525 & -0.899544 & 0.00657099 \\\\\n",
       "\t3 & -0.0076292 & -0.0082179 & 0.00107313 & 0.0 & 0.0 & 0.0 & 0.0 \\\\\n",
       "\t4 & -0.38037 & -0.380463 & 0.00161458 & -0.380738 & 0.0401432 & -0.379907 & 0.00445302 \\\\\n",
       "\t5 & -1.05287 & -1.0531 & 0.00152849 & -1.06732 & 0.0440068 & -1.05061 & 0.00761162 \\\\\n",
       "\t6 & -0.164313 & -0.164382 & 0.00150407 & -0.189739 & 0.0189839 & -0.163746 & 0.00457592 \\\\\n",
       "\t7 & 0.95958 & 0.95947 & 0.00135204 & 0.975699 & 0.0425978 & 0.959261 & 0.00436532 \\\\\n",
       "\t8 & -0.22793 & -0.227895 & 0.00146507 & -0.233117 & 0.0381534 & -0.227001 & 0.00427831 \\\\\n",
       "\t9 & 1.17329 & 1.17337 & 0.00152257 & 1.18229 & 0.0488598 & 1.17338 & 0.00316699 \\\\\n",
       "\t10 & 0.453455 & 0.453442 & 0.00128862 & 0.453688 & 0.043737 & 0.45331 & 0.00238008 \\\\\n",
       "\\end{tabular}\n"
      ],
      "text/plain": [
       "10×7 DataFrame. Omitted printing of 2 columns\n",
       "│ Row │ true_b     │ normal_mean │ normal_std │ logistic_mean │ logistic_std │\n",
       "│     │ \u001b[90mFloat64\u001b[39m    │ \u001b[90mFloat64\u001b[39m     │ \u001b[90mFloat64\u001b[39m    │ \u001b[90mFloat64\u001b[39m       │ \u001b[90mFloat64\u001b[39m      │\n",
       "├─────┼────────────┼─────────────┼────────────┼───────────────┼──────────────┤\n",
       "│ 1   │ -0.153838  │ -0.153996   │ 0.0013654  │ -0.189892     │ 0.0212166    │\n",
       "│ 2   │ -0.899446  │ -0.899363   │ 0.00132262 │ -0.908014     │ 0.0363525    │\n",
       "│ 3   │ -0.0076292 │ -0.0082179  │ 0.00107313 │ 0.0           │ 0.0          │\n",
       "│ 4   │ -0.38037   │ -0.380463   │ 0.00161458 │ -0.380738     │ 0.0401432    │\n",
       "│ 5   │ -1.05287   │ -1.0531     │ 0.00152849 │ -1.06732      │ 0.0440068    │\n",
       "│ 6   │ -0.164313  │ -0.164382   │ 0.00150407 │ -0.189739     │ 0.0189839    │\n",
       "│ 7   │ 0.95958    │ 0.95947     │ 0.00135204 │ 0.975699      │ 0.0425978    │\n",
       "│ 8   │ -0.22793   │ -0.227895   │ 0.00146507 │ -0.233117     │ 0.0381534    │\n",
       "│ 9   │ 1.17329    │ 1.17337     │ 0.00152257 │ 1.18229       │ 0.0488598    │\n",
       "│ 10  │ 0.453455   │ 0.453442    │ 0.00128862 │ 0.453688      │ 0.043737     │"
      ]
     },
     "execution_count": 38,
     "metadata": {},
     "output_type": "execute_result"
    }
   ],
   "source": [
    "found_mean_and_std = DataFrame(\n",
    "    true_b = true_b[:],\n",
    "    normal_mean = normal_mean, \n",
    "    normal_std = normal_std,\n",
    "    logistic_mean = logistic_mean,\n",
    "    logistic_std = logistic_std,\n",
    "    poisson_mean = poisson_mean,\n",
    "    poisson_std = poisson_std)"
   ]
  },
  {
   "cell_type": "markdown",
   "metadata": {},
   "source": [
    "# Sort the 2 DataFrames and round results"
   ]
  },
  {
   "cell_type": "code",
   "execution_count": 42,
   "metadata": {
    "collapsed": false
   },
   "outputs": [
    {
     "data": {
      "text/html": [
       "<table class=\"data-frame\"><thead><tr><th></th><th>true_b</th><th>normal_mean</th><th>normal_std</th><th>logistic_mean</th><th>logistic_std</th><th>poisson_mean</th><th>poisson_std</th></tr><tr><th></th><th>Float64</th><th>Float64</th><th>Float64</th><th>Float64</th><th>Float64</th><th>Float64</th><th>Float64</th></tr></thead><tbody><p>10 rows × 7 columns</p><tr><th>1</th><td>1.1733</td><td>1.1734</td><td>0.0015</td><td>1.1823</td><td>0.0489</td><td>1.1734</td><td>0.0032</td></tr><tr><th>2</th><td>-1.0529</td><td>-1.0531</td><td>0.0015</td><td>-1.0673</td><td>0.044</td><td>-1.0506</td><td>0.0076</td></tr><tr><th>3</th><td>0.9596</td><td>0.9595</td><td>0.0014</td><td>0.9757</td><td>0.0426</td><td>0.9593</td><td>0.0044</td></tr><tr><th>4</th><td>-0.8994</td><td>-0.8994</td><td>0.0013</td><td>-0.908</td><td>0.0364</td><td>-0.8995</td><td>0.0066</td></tr><tr><th>5</th><td>0.4535</td><td>0.4534</td><td>0.0013</td><td>0.4537</td><td>0.0437</td><td>0.4533</td><td>0.0024</td></tr><tr><th>6</th><td>-0.3804</td><td>-0.3805</td><td>0.0016</td><td>-0.3807</td><td>0.0401</td><td>-0.3799</td><td>0.0045</td></tr><tr><th>7</th><td>-0.2279</td><td>-0.2279</td><td>0.0015</td><td>-0.2331</td><td>0.0382</td><td>-0.227</td><td>0.0043</td></tr><tr><th>8</th><td>-0.1643</td><td>-0.1644</td><td>0.0015</td><td>-0.1897</td><td>0.019</td><td>-0.1637</td><td>0.0046</td></tr><tr><th>9</th><td>-0.1538</td><td>-0.154</td><td>0.0014</td><td>-0.1899</td><td>0.0212</td><td>-0.1535</td><td>0.0051</td></tr><tr><th>10</th><td>-0.0076</td><td>-0.0082</td><td>0.0011</td><td>0.0</td><td>0.0</td><td>0.0</td><td>0.0</td></tr></tbody></table>"
      ],
      "text/latex": [
       "\\begin{tabular}{r|ccccccc}\n",
       "\t& true\\_b & normal\\_mean & normal\\_std & logistic\\_mean & logistic\\_std & poisson\\_mean & poisson\\_std\\\\\n",
       "\t\\hline\n",
       "\t& Float64 & Float64 & Float64 & Float64 & Float64 & Float64 & Float64\\\\\n",
       "\t\\hline\n",
       "\t1 & 1.1733 & 1.1734 & 0.0015 & 1.1823 & 0.0489 & 1.1734 & 0.0032 \\\\\n",
       "\t2 & -1.0529 & -1.0531 & 0.0015 & -1.0673 & 0.044 & -1.0506 & 0.0076 \\\\\n",
       "\t3 & 0.9596 & 0.9595 & 0.0014 & 0.9757 & 0.0426 & 0.9593 & 0.0044 \\\\\n",
       "\t4 & -0.8994 & -0.8994 & 0.0013 & -0.908 & 0.0364 & -0.8995 & 0.0066 \\\\\n",
       "\t5 & 0.4535 & 0.4534 & 0.0013 & 0.4537 & 0.0437 & 0.4533 & 0.0024 \\\\\n",
       "\t6 & -0.3804 & -0.3805 & 0.0016 & -0.3807 & 0.0401 & -0.3799 & 0.0045 \\\\\n",
       "\t7 & -0.2279 & -0.2279 & 0.0015 & -0.2331 & 0.0382 & -0.227 & 0.0043 \\\\\n",
       "\t8 & -0.1643 & -0.1644 & 0.0015 & -0.1897 & 0.019 & -0.1637 & 0.0046 \\\\\n",
       "\t9 & -0.1538 & -0.154 & 0.0014 & -0.1899 & 0.0212 & -0.1535 & 0.0051 \\\\\n",
       "\t10 & -0.0076 & -0.0082 & 0.0011 & 0.0 & 0.0 & 0.0 & 0.0 \\\\\n",
       "\\end{tabular}\n"
      ],
      "text/plain": [
       "10×7 DataFrame. Omitted printing of 2 columns\n",
       "│ Row │ true_b  │ normal_mean │ normal_std │ logistic_mean │ logistic_std │\n",
       "│     │ \u001b[90mFloat64\u001b[39m │ \u001b[90mFloat64\u001b[39m     │ \u001b[90mFloat64\u001b[39m    │ \u001b[90mFloat64\u001b[39m       │ \u001b[90mFloat64\u001b[39m      │\n",
       "├─────┼─────────┼─────────────┼────────────┼───────────────┼──────────────┤\n",
       "│ 1   │ 1.1733  │ 1.1734      │ 0.0015     │ 1.1823        │ 0.0489       │\n",
       "│ 2   │ -1.0529 │ -1.0531     │ 0.0015     │ -1.0673       │ 0.044        │\n",
       "│ 3   │ 0.9596  │ 0.9595      │ 0.0014     │ 0.9757        │ 0.0426       │\n",
       "│ 4   │ -0.8994 │ -0.8994     │ 0.0013     │ -0.908        │ 0.0364       │\n",
       "│ 5   │ 0.4535  │ 0.4534      │ 0.0013     │ 0.4537        │ 0.0437       │\n",
       "│ 6   │ -0.3804 │ -0.3805     │ 0.0016     │ -0.3807       │ 0.0401       │\n",
       "│ 7   │ -0.2279 │ -0.2279     │ 0.0015     │ -0.2331       │ 0.0382       │\n",
       "│ 8   │ -0.1643 │ -0.1644     │ 0.0015     │ -0.1897       │ 0.019        │\n",
       "│ 9   │ -0.1538 │ -0.154      │ 0.0014     │ -0.1899       │ 0.0212       │\n",
       "│ 10  │ -0.0076 │ -0.0082     │ 0.0011     │ 0.0           │ 0.0          │"
      ]
     },
     "execution_count": 42,
     "metadata": {},
     "output_type": "execute_result"
    }
   ],
   "source": [
    "sort!(found_mean_and_std, rev=true, by = abs)\n",
    "for i in 1:size(found_mean_and_std, 2)\n",
    "    found_mean_and_std[:, i] = round.(found_mean_and_std[:, i], digits=4)\n",
    "end\n",
    "\n",
    "found_mean_and_std"
   ]
  },
  {
   "cell_type": "code",
   "execution_count": 8,
   "metadata": {
    "collapsed": false
   },
   "outputs": [
    {
     "data": {
      "text/html": [
       "<table class=\"data-frame\"><thead><tr><th></th><th>true_b</th><th>normal_prob_find</th><th>logistic_prob_find</th><th>poisson_prob_find</th></tr><tr><th></th><th>Float64</th><th>Float64</th><th>Float64</th><th>Float64</th></tr></thead><tbody><p>10 rows × 4 columns</p><tr><th>1</th><td>1.17329</td><td>100.0</td><td>100.0</td><td>100.0</td></tr><tr><th>2</th><td>-1.05287</td><td>100.0</td><td>100.0</td><td>100.0</td></tr><tr><th>3</th><td>0.95958</td><td>100.0</td><td>100.0</td><td>100.0</td></tr><tr><th>4</th><td>-0.899446</td><td>100.0</td><td>100.0</td><td>100.0</td></tr><tr><th>5</th><td>0.453455</td><td>100.0</td><td>100.0</td><td>100.0</td></tr><tr><th>6</th><td>-0.38037</td><td>100.0</td><td>100.0</td><td>100.0</td></tr><tr><th>7</th><td>-0.22793</td><td>100.0</td><td>98.0</td><td>100.0</td></tr><tr><th>8</th><td>-0.164313</td><td>100.0</td><td>57.0</td><td>100.0</td></tr><tr><th>9</th><td>-0.153838</td><td>100.0</td><td>49.0</td><td>100.0</td></tr><tr><th>10</th><td>-0.0076292</td><td>85.0</td><td>0.0</td><td>0.0</td></tr></tbody></table>"
      ],
      "text/latex": [
       "\\begin{tabular}{r|cccc}\n",
       "\t& true\\_b & normal\\_prob\\_find & logistic\\_prob\\_find & poisson\\_prob\\_find\\\\\n",
       "\t\\hline\n",
       "\t& Float64 & Float64 & Float64 & Float64\\\\\n",
       "\t\\hline\n",
       "\t1 & 1.17329 & 100.0 & 100.0 & 100.0 \\\\\n",
       "\t2 & -1.05287 & 100.0 & 100.0 & 100.0 \\\\\n",
       "\t3 & 0.95958 & 100.0 & 100.0 & 100.0 \\\\\n",
       "\t4 & -0.899446 & 100.0 & 100.0 & 100.0 \\\\\n",
       "\t5 & 0.453455 & 100.0 & 100.0 & 100.0 \\\\\n",
       "\t6 & -0.38037 & 100.0 & 100.0 & 100.0 \\\\\n",
       "\t7 & -0.22793 & 100.0 & 98.0 & 100.0 \\\\\n",
       "\t8 & -0.164313 & 100.0 & 57.0 & 100.0 \\\\\n",
       "\t9 & -0.153838 & 100.0 & 49.0 & 100.0 \\\\\n",
       "\t10 & -0.0076292 & 85.0 & 0.0 & 0.0 \\\\\n",
       "\\end{tabular}\n"
      ],
      "text/plain": [
       "10×4 DataFrame\n",
       "│ Row │ true_b     │ normal_prob_find │ logistic_prob_find │ poisson_prob_find │\n",
       "│     │ \u001b[90mFloat64\u001b[39m    │ \u001b[90mFloat64\u001b[39m          │ \u001b[90mFloat64\u001b[39m            │ \u001b[90mFloat64\u001b[39m           │\n",
       "├─────┼────────────┼──────────────────┼────────────────────┼───────────────────┤\n",
       "│ 1   │ 1.17329    │ 100.0            │ 100.0              │ 100.0             │\n",
       "│ 2   │ -1.05287   │ 100.0            │ 100.0              │ 100.0             │\n",
       "│ 3   │ 0.95958    │ 100.0            │ 100.0              │ 100.0             │\n",
       "│ 4   │ -0.899446  │ 100.0            │ 100.0              │ 100.0             │\n",
       "│ 5   │ 0.453455   │ 100.0            │ 100.0              │ 100.0             │\n",
       "│ 6   │ -0.38037   │ 100.0            │ 100.0              │ 100.0             │\n",
       "│ 7   │ -0.22793   │ 100.0            │ 98.0               │ 100.0             │\n",
       "│ 8   │ -0.164313  │ 100.0            │ 57.0               │ 100.0             │\n",
       "│ 9   │ -0.153838  │ 100.0            │ 49.0               │ 100.0             │\n",
       "│ 10  │ -0.0076292 │ 85.0             │ 0.0                │ 0.0               │"
      ]
     },
     "execution_count": 8,
     "metadata": {},
     "output_type": "execute_result"
    }
   ],
   "source": [
    "sort!(find_probability, rev=true, by = abs)"
   ]
  },
  {
   "cell_type": "code",
   "execution_count": 40,
   "metadata": {
    "collapsed": false
   },
   "outputs": [
    {
     "data": {
      "text/plain": [
       "1.0011"
      ]
     },
     "execution_count": 40,
     "metadata": {},
     "output_type": "execute_result"
    }
   ],
   "source": [
    "round(1.0011234, digits=4)"
   ]
  },
  {
   "cell_type": "code",
   "execution_count": 31,
   "metadata": {
    "collapsed": false
   },
   "outputs": [
    {
     "name": "stdout",
     "output_type": "stream",
     "text": [
      "round.(found_mean_and_std[:, i], digits=3) = [1.173, -1.053, 0.96, -0.899, 0.453, -0.38, -0.228, -0.164, -0.154, -0.008]\n",
      "round.(found_mean_and_std[:, i], digits=3) = [1.173, -1.053, 0.959, -0.899, 0.453, -0.38, -0.228, -0.164, -0.154, -0.008]\n",
      "round.(found_mean_and_std[:, i], digits=3) = [1.182, -1.067, 0.976, -0.908, 0.454, -0.381, -0.233, -0.19, -0.19, 0.0]\n",
      "round.(found_mean_and_std[:, i], digits=3) = [1.173, -1.051, 0.959, -0.9, 0.453, -0.38, -0.227, -0.164, -0.153, 0.0]\n"
     ]
    }
   ],
   "source": [
    "round.(found_mean_and_std[:, 1], digits=3)\n",
    "three_digits = [1 2 4 6]\n",
    "three_signif = [3 5 7]\n",
    "for i in three_digits\n",
    "    @show round.(found_mean_and_std[:, i], digits=3)\n",
    "end"
   ]
  },
  {
   "cell_type": "code",
   "execution_count": null,
   "metadata": {
    "collapsed": true
   },
   "outputs": [],
   "source": []
  }
 ],
 "metadata": {
  "kernelspec": {
   "display_name": "Julia 1.0.3",
   "language": "julia",
   "name": "julia-1.0"
  },
  "language_info": {
   "file_extension": ".jl",
   "mimetype": "application/julia",
   "name": "julia",
   "version": "1.0.3"
  }
 },
 "nbformat": 4,
 "nbformat_minor": 2
}
