{
 "cells": [
  {
   "cell_type": "code",
   "execution_count": 1,
   "metadata": {
    "collapsed": true
   },
   "outputs": [],
   "source": [
    "using MendelIHT\n",
    "using SnpArrays\n",
    "using DataFrames\n",
    "using Distributions\n",
    "using BenchmarkTools\n",
    "using Random\n",
    "using LinearAlgebra\n",
    "using GLM\n",
    "using DelimitedFiles"
   ]
  },
  {
   "cell_type": "code",
   "execution_count": 2,
   "metadata": {
    "collapsed": false
   },
   "outputs": [
    {
     "data": {
      "text/plain": [
       "repeat (generic function with 1 method)"
      ]
     },
     "execution_count": 2,
     "metadata": {},
     "output_type": "execute_result"
    }
   ],
   "source": [
    "#run n repeats of L0_reg using the same X and b, but different y\n",
    "function repeat(\n",
    "    n        :: Int,\n",
    "    p        :: Int,\n",
    "    repeats  :: Int, \n",
    "    z        :: AbstractMatrix{Float64},\n",
    "    true_b   :: Vector{Float64},\n",
    "    cor_pos  :: Vector{Int}, #correct position of the true model\n",
    "    d        :: UnionAll,\n",
    "    l        :: Link,\n",
    "    debias   :: Bool\n",
    ")\n",
    "    k = size(cor_pos, 1)\n",
    "    estimated_β = zeros(k, repeats)\n",
    "    \n",
    "    Threads.@threads for i in 1:repeats\n",
    "        # simulat SNP data\n",
    "        mafs = rand(Uniform(0.05, 0.5), p)\n",
    "        x = simulate_random_snparray(n, p, undef)\n",
    "        xbm = SnpBitMatrix{Float64}(x, model=ADDITIVE_MODEL, center=true, scale=true); \n",
    "\n",
    "        #simulate phenotypes (e.g. vector y)\n",
    "        if d == Normal || d == Poisson || d == Bernoulli\n",
    "            prob = linkinv.(l, xbm * true_b)\n",
    "            clamp!(prob, -20, 20)\n",
    "            y = [rand(d(i)) for i in prob]\n",
    "        elseif d == NegativeBinomial\n",
    "            nn = 10\n",
    "            μ = linkinv.(l, xbm * true_b)\n",
    "            prob = 1 ./ (1 .+ μ ./ nn)\n",
    "            y = [rand(d(nn, i)) for i in prob] #number of failtures before nn success occurs\n",
    "        elseif d == Gamma\n",
    "            μ = linkinv.(l, xbm * true_b)\n",
    "            β = 1 ./ μ # here β is the rate parameter for gamma distribution\n",
    "            y = [rand(d(α, i)) for i in β] # α is the shape parameter for gamma\n",
    "        end\n",
    "        y = Float64.(y)\n",
    "\n",
    "        #compute IHT result for less noisy data\n",
    "        result = L0_reg(x, xbm, z, y, 1, k, d(), l, debias=debias, init=false, show_info=false)\n",
    "\n",
    "        #store the correct position in estimated model\n",
    "        estimated_β[:, i] .= result.beta[cor_pos]\n",
    "    end\n",
    "    \n",
    "    return estimated_β\n",
    "end"
   ]
  },
  {
   "cell_type": "code",
   "execution_count": 4,
   "metadata": {
    "collapsed": false
   },
   "outputs": [],
   "source": [
    "#simulat data with k true predictors, from distribution d and with link l.\n",
    "repeats = 1 #how many repeats should I run\n",
    "n = 10000\n",
    "p = 100000\n",
    "d = Normal\n",
    "l = canonicallink(d())\n",
    "debias = true\n",
    "\n",
    "# set random seed for reproducibility\n",
    "Random.seed!(2019)\n",
    "\n",
    "# intercept\n",
    "z = ones(n, 1)\n",
    "\n",
    "#construct true model b\n",
    "true_b = zeros(p)\n",
    "true_b[1:6] = [0.01; 0.03; 0.05; 0.1; 0.25; 0.5]\n",
    "shuffle!(true_b)\n",
    "correct_position = findall(x -> x != 0, true_b);"
   ]
  },
  {
   "cell_type": "code",
   "execution_count": 5,
   "metadata": {
    "collapsed": false
   },
   "outputs": [
    {
     "data": {
      "text/plain": [
       "6×1 Array{Float64,2}:\n",
       " 0.0                 \n",
       " 0.4817260657889917  \n",
       " 0.0                 \n",
       " 0.10877453225217891 \n",
       " 0.057491361474646445\n",
       " 0.24709193891321207 "
      ]
     },
     "execution_count": 5,
     "metadata": {},
     "output_type": "execute_result"
    }
   ],
   "source": [
    "#run repeats and save to file\n",
    "result = repeat(n, p, repeats, z, true_b, correct_position, d, l, debias)"
   ]
  },
  {
   "cell_type": "code",
   "execution_count": null,
   "metadata": {
    "collapsed": true
   },
   "outputs": [],
   "source": []
  }
 ],
 "metadata": {
  "kernelspec": {
   "display_name": "Julia 1.0.3",
   "language": "julia",
   "name": "julia-1.0"
  },
  "language_info": {
   "file_extension": ".jl",
   "mimetype": "application/julia",
   "name": "julia",
   "version": "1.0.3"
  }
 },
 "nbformat": 4,
 "nbformat_minor": 2
}
