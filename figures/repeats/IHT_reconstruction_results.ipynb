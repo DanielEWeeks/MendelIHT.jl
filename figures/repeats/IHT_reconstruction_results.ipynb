{
 "cells": [
  {
   "cell_type": "markdown",
   "metadata": {},
   "source": [
    "# Examine IHT reconstruction results "
   ]
  },
  {
   "cell_type": "markdown",
   "metadata": {},
   "source": [
    "This notebook examines IHT's reconstruction result with and without debiasing. Overall, debiasing does not affect model selection nor parameter estimation. "
   ]
  },
  {
   "cell_type": "code",
   "execution_count": 1,
   "metadata": {
    "collapsed": false
   },
   "outputs": [],
   "source": [
    "using DelimitedFiles\n",
    "using Random\n",
    "using DataFrames\n",
    "using StatsBase\n",
    "using Statistics"
   ]
  },
  {
   "cell_type": "markdown",
   "metadata": {},
   "source": [
    "# Below are 100 simulations of y where X is 5k by 100k matrix"
   ]
  },
  {
   "cell_type": "code",
   "execution_count": 2,
   "metadata": {
    "collapsed": false,
    "scrolled": false
   },
   "outputs": [
    {
     "data": {
      "text/plain": [
       "4-element Array{Float64,1}:\n",
       " 0.25\n",
       " 0.5 \n",
       " 0.1 \n",
       " 0.8 "
      ]
     },
     "execution_count": 2,
     "metadata": {},
     "output_type": "execute_result"
    }
   ],
   "source": [
    "#debiasing simulation results\n",
    "normal_5k_by_100k_100 = readdlm(\"repeats/Normal_100\")\n",
    "logistic_5k_by_100k_100 = readdlm(\"repeats/Bernoulli_100\")\n",
    "poisson_5k_by_100k_100 = readdlm(\"repeats/Poisson_100\")\n",
    "negativebinomial_5k_by_100k_100 = readdlm(\"repeats/NegativeBinomial_100\")\n",
    "\n",
    "#non-debiasing simulation results\n",
    "normal_5k_by_100k_100_nodebias = readdlm(\"repeats_nodebias/Normal_100\")\n",
    "logistic_5k_by_100k_100_nodebias = readdlm(\"repeats_nodebias/Bernoulli_100\")\n",
    "poisson_5k_by_100k_100_nodebias = [readdlm(\"repeats_nodebias/Poisson_50_1\") readdlm(\"repeats_nodebias/Poisson_50_2\")]\n",
    "negativebinomial_5k_by_100k_100_nodebias = readdlm(\"repeats_nodebias/NegativeBinomial_100\")\n",
    "\n",
    "#true model \n",
    "true_b = [0.25; 0.5; 0.1; 0.8]"
   ]
  },
  {
   "cell_type": "markdown",
   "metadata": {},
   "source": [
    "### First compute the probability that reach predictor is found"
   ]
  },
  {
   "cell_type": "code",
   "execution_count": 3,
   "metadata": {
    "collapsed": false
   },
   "outputs": [],
   "source": [
    "k = size(true_b, 1)\n",
    "normal_found   = zeros(k)\n",
    "logistic_found = zeros(k)\n",
    "poisson_found  = zeros(k)\n",
    "negativebinomial_found = zeros(k)\n",
    "\n",
    "normal_found_nodebias   = zeros(k)\n",
    "logistic_found_nodebias = zeros(k)\n",
    "poisson_found_nodebias  = zeros(k)\n",
    "negativebinomial_found_nodebias = zeros(k)\n",
    "\n",
    "for i in 1:k\n",
    "    normal_found[i]   = sum(normal_5k_by_100k_100[i, :] .!= 0)\n",
    "    logistic_found[i] = sum(logistic_5k_by_100k_100[i, :] .!= 0)\n",
    "    poisson_found[i]  = sum(poisson_5k_by_100k_100[i, :] .!= 0)\n",
    "    negativebinomial_found[i] = sum(negativebinomial_5k_by_100k_100[i, :] .!= 0)\n",
    "    \n",
    "    normal_found_nodebias[i]   = sum(normal_5k_by_100k_100_nodebias[i, :] .!= 0)\n",
    "    logistic_found_nodebias[i] = sum(logistic_5k_by_100k_100_nodebias[i, :] .!= 0)\n",
    "    poisson_found_nodebias[i]  = sum(poisson_5k_by_100k_100_nodebias[i, :] .!= 0)\n",
    "    negativebinomial_found_nodebias[i] = sum(negativebinomial_5k_by_100k_100_nodebias[i, :] .!= 0)    \n",
    "end"
   ]
  },
  {
   "cell_type": "markdown",
   "metadata": {},
   "source": [
    "# Found probability (debiasing)"
   ]
  },
  {
   "cell_type": "code",
   "execution_count": 14,
   "metadata": {
    "collapsed": false,
    "scrolled": true
   },
   "outputs": [
    {
     "data": {
      "text/html": [
       "<table class=\"data-frame\"><thead><tr><th></th><th>true_b</th><th>normal_prob_find</th><th>logistic_prob_find</th><th>poisson_prob_find</th><th>negativebinomial_prob_find</th></tr><tr><th></th><th>Float64</th><th>Float64</th><th>Float64</th><th>Float64</th><th>Float64</th></tr></thead><tbody><p>4 rows × 5 columns</p><tr><th>1</th><td>0.8</td><td>100.0</td><td>100.0</td><td>100.0</td><td>100.0</td></tr><tr><th>2</th><td>0.5</td><td>100.0</td><td>100.0</td><td>100.0</td><td>100.0</td></tr><tr><th>3</th><td>0.25</td><td>100.0</td><td>100.0</td><td>100.0</td><td>56.0</td></tr><tr><th>4</th><td>0.1</td><td>100.0</td><td>16.0</td><td>94.0</td><td>0.0</td></tr></tbody></table>"
      ],
      "text/latex": [
       "\\begin{tabular}{r|ccccc}\n",
       "\t& true\\_b & normal\\_prob\\_find & logistic\\_prob\\_find & poisson\\_prob\\_find & negativebinomial\\_prob\\_find\\\\\n",
       "\t\\hline\n",
       "\t& Float64 & Float64 & Float64 & Float64 & Float64\\\\\n",
       "\t\\hline\n",
       "\t1 & 0.8 & 100.0 & 100.0 & 100.0 & 100.0 \\\\\n",
       "\t2 & 0.5 & 100.0 & 100.0 & 100.0 & 100.0 \\\\\n",
       "\t3 & 0.25 & 100.0 & 100.0 & 100.0 & 56.0 \\\\\n",
       "\t4 & 0.1 & 100.0 & 16.0 & 94.0 & 0.0 \\\\\n",
       "\\end{tabular}\n"
      ],
      "text/plain": [
       "4×5 DataFrame. Omitted printing of 1 columns\n",
       "│ Row │ true_b  │ normal_prob_find │ logistic_prob_find │ poisson_prob_find │\n",
       "│     │ \u001b[90mFloat64\u001b[39m │ \u001b[90mFloat64\u001b[39m          │ \u001b[90mFloat64\u001b[39m            │ \u001b[90mFloat64\u001b[39m           │\n",
       "├─────┼─────────┼──────────────────┼────────────────────┼───────────────────┤\n",
       "│ 1   │ 0.8     │ 100.0            │ 100.0              │ 100.0             │\n",
       "│ 2   │ 0.5     │ 100.0            │ 100.0              │ 100.0             │\n",
       "│ 3   │ 0.25    │ 100.0            │ 100.0              │ 100.0             │\n",
       "│ 4   │ 0.1     │ 100.0            │ 16.0               │ 94.0              │"
      ]
     },
     "execution_count": 14,
     "metadata": {},
     "output_type": "execute_result"
    }
   ],
   "source": [
    "find_probability = DataFrame(\n",
    "    true_b = true_b[:],\n",
    "    normal_prob_find = normal_found, \n",
    "    logistic_prob_find = logistic_found,\n",
    "    poisson_prob_find  = poisson_found,\n",
    "    negativebinomial_prob_find = negativebinomial_found)\n",
    "sort!(find_probability, rev=true) #sort later"
   ]
  },
  {
   "cell_type": "markdown",
   "metadata": {},
   "source": [
    "# Found probability (no debiasing)"
   ]
  },
  {
   "cell_type": "code",
   "execution_count": 15,
   "metadata": {
    "collapsed": false
   },
   "outputs": [
    {
     "data": {
      "text/html": [
       "<table class=\"data-frame\"><thead><tr><th></th><th>true_b</th><th>normal_prob_find</th><th>logistic_prob_find</th><th>poisson_prob_find</th><th>negativebinomial_prob_find</th></tr><tr><th></th><th>Float64</th><th>Float64</th><th>Float64</th><th>Float64</th><th>Float64</th></tr></thead><tbody><p>4 rows × 5 columns</p><tr><th>1</th><td>0.8</td><td>100.0</td><td>100.0</td><td>100.0</td><td>100.0</td></tr><tr><th>2</th><td>0.5</td><td>100.0</td><td>100.0</td><td>100.0</td><td>100.0</td></tr><tr><th>3</th><td>0.25</td><td>100.0</td><td>100.0</td><td>100.0</td><td>56.0</td></tr><tr><th>4</th><td>0.1</td><td>100.0</td><td>16.0</td><td>94.0</td><td>0.0</td></tr></tbody></table>"
      ],
      "text/latex": [
       "\\begin{tabular}{r|ccccc}\n",
       "\t& true\\_b & normal\\_prob\\_find & logistic\\_prob\\_find & poisson\\_prob\\_find & negativebinomial\\_prob\\_find\\\\\n",
       "\t\\hline\n",
       "\t& Float64 & Float64 & Float64 & Float64 & Float64\\\\\n",
       "\t\\hline\n",
       "\t1 & 0.8 & 100.0 & 100.0 & 100.0 & 100.0 \\\\\n",
       "\t2 & 0.5 & 100.0 & 100.0 & 100.0 & 100.0 \\\\\n",
       "\t3 & 0.25 & 100.0 & 100.0 & 100.0 & 56.0 \\\\\n",
       "\t4 & 0.1 & 100.0 & 16.0 & 94.0 & 0.0 \\\\\n",
       "\\end{tabular}\n"
      ],
      "text/plain": [
       "4×5 DataFrame. Omitted printing of 1 columns\n",
       "│ Row │ true_b  │ normal_prob_find │ logistic_prob_find │ poisson_prob_find │\n",
       "│     │ \u001b[90mFloat64\u001b[39m │ \u001b[90mFloat64\u001b[39m          │ \u001b[90mFloat64\u001b[39m            │ \u001b[90mFloat64\u001b[39m           │\n",
       "├─────┼─────────┼──────────────────┼────────────────────┼───────────────────┤\n",
       "│ 1   │ 0.8     │ 100.0            │ 100.0              │ 100.0             │\n",
       "│ 2   │ 0.5     │ 100.0            │ 100.0              │ 100.0             │\n",
       "│ 3   │ 0.25    │ 100.0            │ 100.0              │ 100.0             │\n",
       "│ 4   │ 0.1     │ 100.0            │ 16.0               │ 94.0              │"
      ]
     },
     "execution_count": 15,
     "metadata": {},
     "output_type": "execute_result"
    }
   ],
   "source": [
    "find_probability_nodebias = DataFrame(\n",
    "    true_b = true_b[:],\n",
    "    normal_prob_find_nodebias = normal_found_nodebias, \n",
    "    logistic_prob_find_nodebias = logistic_found_nodebias,\n",
    "    poisson_prob_find_nodebias  = poisson_found_nodebias,\n",
    "    negativebinomial_prob_find_nodebias = negativebinomial_found_nodebias)\n",
    "sort!(find_probability, rev=true) #sort later"
   ]
  },
  {
   "cell_type": "markdown",
   "metadata": {},
   "source": [
    "# Mean and standard deviation (debiasing)"
   ]
  },
  {
   "cell_type": "code",
   "execution_count": 6,
   "metadata": {
    "collapsed": false
   },
   "outputs": [],
   "source": [
    "k = size(true_b, 1)\n",
    "normal_mean   = zeros(k)\n",
    "normal_std    = zeros(k)\n",
    "logistic_mean = zeros(k)\n",
    "logistic_std  = zeros(k)\n",
    "poisson_mean  = zeros(k)\n",
    "poisson_std   = zeros(k)\n",
    "negativebinomial_mean = zeros(k)\n",
    "negativebinomial_std  = zeros(k)\n",
    "\n",
    "for i in 1:k\n",
    "    #compute mean and std if at least 1 found\n",
    "    if normal_found[i] != 0\n",
    "        normal_cur_row = normal_5k_by_100k_100[i, :] .!= 0\n",
    "        normal_mean[i] = mean(normal_5k_by_100k_100[i, :][normal_cur_row])\n",
    "        normal_std[i]  = std(normal_5k_by_100k_100[i, :][normal_cur_row])\n",
    "    end\n",
    "    \n",
    "    if logistic_found[i] != 0\n",
    "        logistic_cur_row = logistic_5k_by_100k_100[i, :] .!= 0\n",
    "        logistic_mean[i] = mean(logistic_5k_by_100k_100[i, :][logistic_cur_row])\n",
    "        logistic_std[i]  = std(logistic_5k_by_100k_100[i, :][logistic_cur_row])\n",
    "    end\n",
    "    \n",
    "    if poisson_found[i] != 0\n",
    "        poisson_cur_row = poisson_5k_by_100k_100[i, :] .!= 0\n",
    "        poisson_mean[i] = mean(poisson_5k_by_100k_100[i, :][poisson_cur_row])\n",
    "        poisson_std[i]  = std(poisson_5k_by_100k_100[i, :][poisson_cur_row])\n",
    "    end\n",
    "    \n",
    "    if negativebinomial_found[i] != 0\n",
    "        negativebinomial_cur_row = negativebinomial_5k_by_100k_100[i, :] .!= 0\n",
    "        negativebinomial_mean[i] = mean(negativebinomial_5k_by_100k_100[i, :][negativebinomial_cur_row])\n",
    "        negativebinomial_std[i]  = std(negativebinomial_5k_by_100k_100[i, :][negativebinomial_cur_row])\n",
    "    end\n",
    "end"
   ]
  },
  {
   "cell_type": "code",
   "execution_count": 9,
   "metadata": {
    "collapsed": false,
    "scrolled": true
   },
   "outputs": [
    {
     "data": {
      "text/html": [
       "<table class=\"data-frame\"><thead><tr><th></th><th>true_b</th><th>normal_mean</th><th>normal_std</th><th>logistic_mean</th><th>logistic_std</th><th>poisson_mean</th><th>poisson_std</th><th>negativebinomial_mean</th><th>negativebinomial_std</th></tr><tr><th></th><th>Float64</th><th>Float64</th><th>Float64</th><th>Float64</th><th>Float64</th><th>Float64</th><th>Float64</th><th>Float64</th><th>Float64</th></tr></thead><tbody><p>4 rows × 9 columns</p><tr><th>1</th><td>0.25</td><td>0.249992</td><td>0.015539</td><td>0.252406</td><td>0.0324372</td><td>0.250319</td><td>0.00874955</td><td>0.249273</td><td>0.0122305</td></tr><tr><th>2</th><td>0.5</td><td>0.500658</td><td>0.012804</td><td>0.49942</td><td>0.0295852</td><td>0.498949</td><td>0.00556203</td><td>0.50532</td><td>0.0119818</td></tr><tr><th>3</th><td>0.1</td><td>0.099854</td><td>0.014814</td><td>0.157379</td><td>0.0151122</td><td>0.0996543</td><td>0.00965202</td><td>0.0</td><td>0.0</td></tr><tr><th>4</th><td>0.8</td><td>0.80075</td><td>0.0152157</td><td>0.804983</td><td>0.0366237</td><td>0.801283</td><td>0.00692655</td><td>0.809977</td><td>0.0122908</td></tr></tbody></table>"
      ],
      "text/latex": [
       "\\begin{tabular}{r|ccccccccc}\n",
       "\t& true\\_b & normal\\_mean & normal\\_std & logistic\\_mean & logistic\\_std & poisson\\_mean & poisson\\_std & negativebinomial\\_mean & negativebinomial\\_std\\\\\n",
       "\t\\hline\n",
       "\t& Float64 & Float64 & Float64 & Float64 & Float64 & Float64 & Float64 & Float64 & Float64\\\\\n",
       "\t\\hline\n",
       "\t1 & 0.25 & 0.249992 & 0.015539 & 0.252406 & 0.0324372 & 0.250319 & 0.00874955 & 0.249273 & 0.0122305 \\\\\n",
       "\t2 & 0.5 & 0.500658 & 0.012804 & 0.49942 & 0.0295852 & 0.498949 & 0.00556203 & 0.50532 & 0.0119818 \\\\\n",
       "\t3 & 0.1 & 0.099854 & 0.014814 & 0.157379 & 0.0151122 & 0.0996543 & 0.00965202 & 0.0 & 0.0 \\\\\n",
       "\t4 & 0.8 & 0.80075 & 0.0152157 & 0.804983 & 0.0366237 & 0.801283 & 0.00692655 & 0.809977 & 0.0122908 \\\\\n",
       "\\end{tabular}\n"
      ],
      "text/plain": [
       "4×9 DataFrame. Omitted printing of 4 columns\n",
       "│ Row │ true_b  │ normal_mean │ normal_std │ logistic_mean │ logistic_std │\n",
       "│     │ \u001b[90mFloat64\u001b[39m │ \u001b[90mFloat64\u001b[39m     │ \u001b[90mFloat64\u001b[39m    │ \u001b[90mFloat64\u001b[39m       │ \u001b[90mFloat64\u001b[39m      │\n",
       "├─────┼─────────┼─────────────┼────────────┼───────────────┼──────────────┤\n",
       "│ 1   │ 0.25    │ 0.249992    │ 0.015539   │ 0.252406      │ 0.0324372    │\n",
       "│ 2   │ 0.5     │ 0.500658    │ 0.012804   │ 0.49942       │ 0.0295852    │\n",
       "│ 3   │ 0.1     │ 0.099854    │ 0.014814   │ 0.157379      │ 0.0151122    │\n",
       "│ 4   │ 0.8     │ 0.80075     │ 0.0152157  │ 0.804983      │ 0.0366237    │"
      ]
     },
     "execution_count": 9,
     "metadata": {},
     "output_type": "execute_result"
    }
   ],
   "source": [
    "found_mean_and_std = DataFrame(\n",
    "    true_b = true_b[:],\n",
    "    normal_mean = normal_mean, \n",
    "    normal_std = normal_std,\n",
    "    logistic_mean = logistic_mean,\n",
    "    logistic_std = logistic_std,\n",
    "    poisson_mean = poisson_mean,\n",
    "    poisson_std = poisson_std,\n",
    "    negativebinomial_mean = negativebinomial_mean,\n",
    "    negativebinomial_std = negativebinomial_std)\n",
    "# sort!(found_mean_and_std, rev=true) #sort later"
   ]
  },
  {
   "cell_type": "markdown",
   "metadata": {},
   "source": [
    "# Mean and standard deviation (non-debiasing) "
   ]
  },
  {
   "cell_type": "code",
   "execution_count": 10,
   "metadata": {
    "collapsed": false
   },
   "outputs": [],
   "source": [
    "k = size(true_b, 1)\n",
    "normal_mean_nodebias   = zeros(k)\n",
    "normal_std_nodebias    = zeros(k)\n",
    "logistic_mean_nodebias = zeros(k)\n",
    "logistic_std_nodebias  = zeros(k)\n",
    "poisson_mean_nodebias  = zeros(k)\n",
    "poisson_std_nodebias   = zeros(k)\n",
    "negativebinomial_mean_nodebias = zeros(k)\n",
    "negativebinomial_std_nodebias  = zeros(k)\n",
    "\n",
    "for i in 1:k\n",
    "    #compute mean and std if at least 1 found\n",
    "    if normal_found_nodebias[i] != 0\n",
    "        normal_cur_row = normal_5k_by_100k_100_nodebias[i, :] .!= 0\n",
    "        normal_mean_nodebias[i] = mean(normal_5k_by_100k_100_nodebias[i, :][normal_cur_row])\n",
    "        normal_std_nodebias[i]  = std(normal_5k_by_100k_100_nodebias[i, :][normal_cur_row])\n",
    "    end\n",
    "    \n",
    "    if logistic_found_nodebias[i] != 0\n",
    "        logistic_cur_row = logistic_5k_by_100k_100_nodebias[i, :] .!= 0\n",
    "        logistic_mean_nodebias[i] = mean(logistic_5k_by_100k_100_nodebias[i, :][logistic_cur_row])\n",
    "        logistic_std_nodebias[i]  = std(logistic_5k_by_100k_100_nodebias[i, :][logistic_cur_row])\n",
    "    end\n",
    "    \n",
    "    if poisson_found_nodebias[i] != 0\n",
    "        poisson_cur_row = poisson_5k_by_100k_100_nodebias[i, :] .!= 0\n",
    "        poisson_mean_nodebias[i] = mean(poisson_5k_by_100k_100_nodebias[i, :][poisson_cur_row])\n",
    "        poisson_std_nodebias[i]  = std(poisson_5k_by_100k_100_nodebias[i, :][poisson_cur_row])\n",
    "    end\n",
    "    \n",
    "    if negativebinomial_found_nodebias[i] != 0\n",
    "        negativebinomial_cur_row = negativebinomial_5k_by_100k_100_nodebias[i, :] .!= 0\n",
    "        negativebinomial_mean_nodebias[i] = mean(negativebinomial_5k_by_100k_100_nodebias[i, :][negativebinomial_cur_row])\n",
    "        negativebinomial_std_nodebias[i]  = std(negativebinomial_5k_by_100k_100_nodebias[i, :][negativebinomial_cur_row])\n",
    "    end\n",
    "end"
   ]
  },
  {
   "cell_type": "code",
   "execution_count": 11,
   "metadata": {
    "collapsed": false
   },
   "outputs": [
    {
     "data": {
      "text/html": [
       "<table class=\"data-frame\"><thead><tr><th></th><th>true_b</th><th>normal_mean_nodebias</th><th>normal_std_nodebias</th><th>logistic_mean_nodebias</th><th>logistic_std_nodebias</th><th>poisson_mean_nodebias</th><th>poisson_std_nodebias</th><th>negativebinomial_mean_nodebias</th><th>negativebinomial_std_nodebias</th></tr><tr><th></th><th>Float64</th><th>Float64</th><th>Float64</th><th>Float64</th><th>Float64</th><th>Float64</th><th>Float64</th><th>Float64</th><th>Float64</th></tr></thead><tbody><p>4 rows × 9 columns</p><tr><th>1</th><td>0.25</td><td>0.248782</td><td>0.0126425</td><td>0.254429</td><td>0.0304876</td><td>0.24819</td><td>0.00684828</td><td>0.347684</td><td>0.0192545</td></tr><tr><th>2</th><td>0.5</td><td>0.502616</td><td>0.0119811</td><td>0.499046</td><td>0.0354224</td><td>0.499912</td><td>0.00594064</td><td>0.884658</td><td>0.0387502</td></tr><tr><th>3</th><td>0.1</td><td>0.0991987</td><td>0.0140408</td><td>0.150433</td><td>0.00857745</td><td>0.0998994</td><td>0.00864056</td><td>0.0</td><td>0.0</td></tr><tr><th>4</th><td>0.8</td><td>0.798988</td><td>0.0131306</td><td>0.802978</td><td>0.0351538</td><td>0.799929</td><td>0.00595888</td><td>1.09068</td><td>0.0305499</td></tr></tbody></table>"
      ],
      "text/latex": [
       "\\begin{tabular}{r|ccccccccc}\n",
       "\t& true\\_b & normal\\_mean\\_nodebias & normal\\_std\\_nodebias & logistic\\_mean\\_nodebias & logistic\\_std\\_nodebias & poisson\\_mean\\_nodebias & poisson\\_std\\_nodebias & negativebinomial\\_mean\\_nodebias & negativebinomial\\_std\\_nodebias\\\\\n",
       "\t\\hline\n",
       "\t& Float64 & Float64 & Float64 & Float64 & Float64 & Float64 & Float64 & Float64 & Float64\\\\\n",
       "\t\\hline\n",
       "\t1 & 0.25 & 0.248782 & 0.0126425 & 0.254429 & 0.0304876 & 0.24819 & 0.00684828 & 0.347684 & 0.0192545 \\\\\n",
       "\t2 & 0.5 & 0.502616 & 0.0119811 & 0.499046 & 0.0354224 & 0.499912 & 0.00594064 & 0.884658 & 0.0387502 \\\\\n",
       "\t3 & 0.1 & 0.0991987 & 0.0140408 & 0.150433 & 0.00857745 & 0.0998994 & 0.00864056 & 0.0 & 0.0 \\\\\n",
       "\t4 & 0.8 & 0.798988 & 0.0131306 & 0.802978 & 0.0351538 & 0.799929 & 0.00595888 & 1.09068 & 0.0305499 \\\\\n",
       "\\end{tabular}\n"
      ],
      "text/plain": [
       "4×9 DataFrame. Omitted printing of 6 columns\n",
       "│ Row │ true_b  │ normal_mean_nodebias │ normal_std_nodebias │\n",
       "│     │ \u001b[90mFloat64\u001b[39m │ \u001b[90mFloat64\u001b[39m              │ \u001b[90mFloat64\u001b[39m             │\n",
       "├─────┼─────────┼──────────────────────┼─────────────────────┤\n",
       "│ 1   │ 0.25    │ 0.248782             │ 0.0126425           │\n",
       "│ 2   │ 0.5     │ 0.502616             │ 0.0119811           │\n",
       "│ 3   │ 0.1     │ 0.0991987            │ 0.0140408           │\n",
       "│ 4   │ 0.8     │ 0.798988             │ 0.0131306           │"
      ]
     },
     "execution_count": 11,
     "metadata": {},
     "output_type": "execute_result"
    }
   ],
   "source": [
    "found_mean_and_std_nodebias = DataFrame(\n",
    "    true_b = true_b[:],\n",
    "    normal_mean_nodebias = normal_mean_nodebias, \n",
    "    normal_std_nodebias = normal_std_nodebias,\n",
    "    logistic_mean_nodebias = logistic_mean_nodebias,\n",
    "    logistic_std_nodebias = logistic_std_nodebias,\n",
    "    poisson_mean_nodebias = poisson_mean_nodebias,\n",
    "    poisson_std_nodebias = poisson_std_nodebias,\n",
    "    negativebinomial_mean_nodebias = negativebinomial_mean_nodebias,\n",
    "    negativebinomial_std_nodebias = negativebinomial_std_nodebias)\n",
    "# sort!(found_mean_and_std_nodebias, rev=true) #sort later"
   ]
  },
  {
   "cell_type": "markdown",
   "metadata": {},
   "source": [
    "# Sort and round results (debiasing)"
   ]
  },
  {
   "cell_type": "code",
   "execution_count": 19,
   "metadata": {
    "collapsed": false
   },
   "outputs": [
    {
     "data": {
      "text/html": [
       "<table class=\"data-frame\"><thead><tr><th></th><th>true_b</th><th>normal_mean</th><th>normal_std</th><th>logistic_mean</th><th>logistic_std</th><th>poisson_mean</th><th>poisson_std</th><th>negativebinomial_mean</th><th>negativebinomial_std</th></tr><tr><th></th><th>Float64</th><th>Float64</th><th>Float64</th><th>Float64</th><th>Float64</th><th>Float64</th><th>Float64</th><th>Float64</th><th>Float64</th></tr></thead><tbody><p>4 rows × 9 columns</p><tr><th>1</th><td>0.8</td><td>0.801</td><td>0.015</td><td>0.805</td><td>0.037</td><td>0.801</td><td>0.007</td><td>0.81</td><td>0.012</td></tr><tr><th>2</th><td>0.5</td><td>0.501</td><td>0.013</td><td>0.499</td><td>0.03</td><td>0.499</td><td>0.006</td><td>0.505</td><td>0.012</td></tr><tr><th>3</th><td>0.25</td><td>0.25</td><td>0.016</td><td>0.252</td><td>0.032</td><td>0.25</td><td>0.009</td><td>0.249</td><td>0.012</td></tr><tr><th>4</th><td>0.1</td><td>0.1</td><td>0.015</td><td>0.157</td><td>0.015</td><td>0.1</td><td>0.01</td><td>0.0</td><td>0.0</td></tr></tbody></table>"
      ],
      "text/latex": [
       "\\begin{tabular}{r|ccccccccc}\n",
       "\t& true\\_b & normal\\_mean & normal\\_std & logistic\\_mean & logistic\\_std & poisson\\_mean & poisson\\_std & negativebinomial\\_mean & negativebinomial\\_std\\\\\n",
       "\t\\hline\n",
       "\t& Float64 & Float64 & Float64 & Float64 & Float64 & Float64 & Float64 & Float64 & Float64\\\\\n",
       "\t\\hline\n",
       "\t1 & 0.8 & 0.801 & 0.015 & 0.805 & 0.037 & 0.801 & 0.007 & 0.81 & 0.012 \\\\\n",
       "\t2 & 0.5 & 0.501 & 0.013 & 0.499 & 0.03 & 0.499 & 0.006 & 0.505 & 0.012 \\\\\n",
       "\t3 & 0.25 & 0.25 & 0.016 & 0.252 & 0.032 & 0.25 & 0.009 & 0.249 & 0.012 \\\\\n",
       "\t4 & 0.1 & 0.1 & 0.015 & 0.157 & 0.015 & 0.1 & 0.01 & 0.0 & 0.0 \\\\\n",
       "\\end{tabular}\n"
      ],
      "text/plain": [
       "4×9 DataFrame. Omitted printing of 4 columns\n",
       "│ Row │ true_b  │ normal_mean │ normal_std │ logistic_mean │ logistic_std │\n",
       "│     │ \u001b[90mFloat64\u001b[39m │ \u001b[90mFloat64\u001b[39m     │ \u001b[90mFloat64\u001b[39m    │ \u001b[90mFloat64\u001b[39m       │ \u001b[90mFloat64\u001b[39m      │\n",
       "├─────┼─────────┼─────────────┼────────────┼───────────────┼──────────────┤\n",
       "│ 1   │ 0.8     │ 0.801       │ 0.015      │ 0.805         │ 0.037        │\n",
       "│ 2   │ 0.5     │ 0.501       │ 0.013      │ 0.499         │ 0.03         │\n",
       "│ 3   │ 0.25    │ 0.25        │ 0.016      │ 0.252         │ 0.032        │\n",
       "│ 4   │ 0.1     │ 0.1         │ 0.015      │ 0.157         │ 0.015        │"
      ]
     },
     "execution_count": 19,
     "metadata": {},
     "output_type": "execute_result"
    }
   ],
   "source": [
    "sort!(found_mean_and_std, rev=true)\n",
    "for i in 1:size(found_mean_and_std, 2)\n",
    "    found_mean_and_std[:, i] = round.(found_mean_and_std[:, i], digits=3)\n",
    "end\n",
    "found_mean_and_std"
   ]
  },
  {
   "cell_type": "markdown",
   "metadata": {},
   "source": [
    "# Sort and round results (non-debiasing)"
   ]
  },
  {
   "cell_type": "code",
   "execution_count": 20,
   "metadata": {
    "collapsed": false
   },
   "outputs": [
    {
     "data": {
      "text/html": [
       "<table class=\"data-frame\"><thead><tr><th></th><th>true_b</th><th>normal_mean</th><th>normal_std</th><th>logistic_mean</th><th>logistic_std</th><th>poisson_mean</th><th>poisson_std</th><th>negativebinomial_mean</th><th>negativebinomial_std</th></tr><tr><th></th><th>Float64</th><th>Float64</th><th>Float64</th><th>Float64</th><th>Float64</th><th>Float64</th><th>Float64</th><th>Float64</th><th>Float64</th></tr></thead><tbody><p>4 rows × 9 columns</p><tr><th>1</th><td>0.8</td><td>0.801</td><td>0.015</td><td>0.805</td><td>0.037</td><td>0.801</td><td>0.007</td><td>0.81</td><td>0.012</td></tr><tr><th>2</th><td>0.5</td><td>0.501</td><td>0.013</td><td>0.499</td><td>0.03</td><td>0.499</td><td>0.006</td><td>0.505</td><td>0.012</td></tr><tr><th>3</th><td>0.25</td><td>0.25</td><td>0.016</td><td>0.252</td><td>0.032</td><td>0.25</td><td>0.009</td><td>0.249</td><td>0.012</td></tr><tr><th>4</th><td>0.1</td><td>0.1</td><td>0.015</td><td>0.157</td><td>0.015</td><td>0.1</td><td>0.01</td><td>0.0</td><td>0.0</td></tr></tbody></table>"
      ],
      "text/latex": [
       "\\begin{tabular}{r|ccccccccc}\n",
       "\t& true\\_b & normal\\_mean & normal\\_std & logistic\\_mean & logistic\\_std & poisson\\_mean & poisson\\_std & negativebinomial\\_mean & negativebinomial\\_std\\\\\n",
       "\t\\hline\n",
       "\t& Float64 & Float64 & Float64 & Float64 & Float64 & Float64 & Float64 & Float64 & Float64\\\\\n",
       "\t\\hline\n",
       "\t1 & 0.8 & 0.801 & 0.015 & 0.805 & 0.037 & 0.801 & 0.007 & 0.81 & 0.012 \\\\\n",
       "\t2 & 0.5 & 0.501 & 0.013 & 0.499 & 0.03 & 0.499 & 0.006 & 0.505 & 0.012 \\\\\n",
       "\t3 & 0.25 & 0.25 & 0.016 & 0.252 & 0.032 & 0.25 & 0.009 & 0.249 & 0.012 \\\\\n",
       "\t4 & 0.1 & 0.1 & 0.015 & 0.157 & 0.015 & 0.1 & 0.01 & 0.0 & 0.0 \\\\\n",
       "\\end{tabular}\n"
      ],
      "text/plain": [
       "4×9 DataFrame. Omitted printing of 4 columns\n",
       "│ Row │ true_b  │ normal_mean │ normal_std │ logistic_mean │ logistic_std │\n",
       "│     │ \u001b[90mFloat64\u001b[39m │ \u001b[90mFloat64\u001b[39m     │ \u001b[90mFloat64\u001b[39m    │ \u001b[90mFloat64\u001b[39m       │ \u001b[90mFloat64\u001b[39m      │\n",
       "├─────┼─────────┼─────────────┼────────────┼───────────────┼──────────────┤\n",
       "│ 1   │ 0.8     │ 0.801       │ 0.015      │ 0.805         │ 0.037        │\n",
       "│ 2   │ 0.5     │ 0.501       │ 0.013      │ 0.499         │ 0.03         │\n",
       "│ 3   │ 0.25    │ 0.25        │ 0.016      │ 0.252         │ 0.032        │\n",
       "│ 4   │ 0.1     │ 0.1         │ 0.015      │ 0.157         │ 0.015        │"
      ]
     },
     "execution_count": 20,
     "metadata": {},
     "output_type": "execute_result"
    }
   ],
   "source": [
    "sort!(found_mean_and_std_nodebias, rev=true)\n",
    "for i in 1:size(found_mean_and_std_nodebias, 2)\n",
    "    found_mean_and_std_nodebias[:, i] = round.(found_mean_and_std_nodebias[:, i], digits=3)\n",
    "end\n",
    "found_mean_and_std"
   ]
  },
  {
   "cell_type": "code",
   "execution_count": null,
   "metadata": {
    "collapsed": true
   },
   "outputs": [],
   "source": []
  }
 ],
 "metadata": {
  "kernelspec": {
   "display_name": "Julia 1.0.3",
   "language": "julia",
   "name": "julia-1.0"
  },
  "language_info": {
   "file_extension": ".jl",
   "mimetype": "application/julia",
   "name": "julia",
   "version": "1.0.3"
  }
 },
 "nbformat": 4,
 "nbformat_minor": 2
}
