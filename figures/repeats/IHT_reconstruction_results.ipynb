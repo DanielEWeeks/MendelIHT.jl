{
 "cells": [
  {
   "cell_type": "markdown",
   "metadata": {},
   "source": [
    "# Examine IHT reconstruction results "
   ]
  },
  {
   "cell_type": "markdown",
   "metadata": {},
   "source": [
    "This notebook examines IHT's reconstruction result with and without debiasing. Overall, debiasing does not affect model selection nor parameter estimation. "
   ]
  },
  {
   "cell_type": "code",
   "execution_count": 1,
   "metadata": {
    "collapsed": false
   },
   "outputs": [
    {
     "data": {
      "text/html": [
       "<script>\n",
       "// Immediately-invoked-function-expression to avoid global variables.\n",
       "(function() {\n",
       "    var warning_div = document.getElementById(\"webio-warning-17886640719268323354\");\n",
       "    var hide = function () {\n",
       "        var script = document.getElementById(\"webio-setup-1244835899149521742\");\n",
       "        var parent = script && script.parentElement;\n",
       "        var grandparent = parent && parent.parentElement;\n",
       "        if (grandparent) {\n",
       "            grandparent.style.display = \"none\";\n",
       "        }\n",
       "        warning_div.style.display = \"none\";\n",
       "    };\n",
       "    if (typeof Jupyter !== \"undefined\") {\n",
       "        console.log(\"WebIO detected Jupyter notebook environment.\");\n",
       "        // Jupyter notebook.\n",
       "        var extensions = (\n",
       "            Jupyter\n",
       "            && Jupyter.notebook.config.data\n",
       "            && Jupyter.notebook.config.data.load_extensions\n",
       "        );\n",
       "        if (extensions && extensions[\"webio/main\"]) {\n",
       "            // Extension already loaded.\n",
       "            console.log(\"Jupyter WebIO nbextension detected; not loading ad-hoc.\");\n",
       "            hide();\n",
       "            return;\n",
       "        }\n",
       "        console.warn(\"Loading WebIO Jupyter extension on an ad-hoc basis. Consider enabling the WebIO nbextension for a stabler experience (this should happen automatically when building WebIO).\");\n",
       "        require([\"/assetserver/5ca3542fae68b88caa8c2d647d4f686b69ae116f-dist/main.js\"], function (webIOModule) {\n",
       "            webIOModule.load_ipython_extension();\n",
       "        });\n",
       "        warning_div.innerHTML = \"<strong>Loading WebIO Jupyter extension on an ad-hoc basis. Consider enabling the WebIO nbextension for a stabler experience (this should happen automatically when building WebIO).</strong>\";\n",
       "    } else if (window.location.pathname.includes(\"/lab\")) {\n",
       "        // Guessing JupyterLa\n",
       "        console.log(\"Jupyter Lab detected; make sure the @webio/jupyter-lab-provider labextension is installed.\");\n",
       "        hide();\n",
       "        return;\n",
       "    }\n",
       "})();\n",
       "\n",
       "</script>\n",
       "<div\n",
       "    id=\"webio-warning-17886640719268323354\"\n",
       "    class=\"output_text output_stderr\"\n",
       "    style=\"padding: 1em; font-weight: bold;\"\n",
       ">\n",
       "    Unable to load WebIO. Please make sure WebIO works for your Jupyter client.\n",
       "    <!-- TODO: link to installation docs. -->\n",
       "</div>\n"
      ],
      "text/plain": [
       "HTML{String}(\"<script>\\n// Immediately-invoked-function-expression to avoid global variables.\\n(function() {\\n    var warning_div = document.getElementById(\\\"webio-warning-17886640719268323354\\\");\\n    var hide = function () {\\n        var script = document.getElementById(\\\"webio-setup-1244835899149521742\\\");\\n        var parent = script && script.parentElement;\\n        var grandparent = parent && parent.parentElement;\\n        if (grandparent) {\\n            grandparent.style.display = \\\"none\\\";\\n        }\\n        warning_div.style.display = \\\"none\\\";\\n    };\\n    if (typeof Jupyter !== \\\"undefined\\\") {\\n        console.log(\\\"WebIO detected Jupyter notebook environment.\\\");\\n        // Jupyter notebook.\\n        var extensions = (\\n            Jupyter\\n            && Jupyter.notebook.config.data\\n            && Jupyter.notebook.config.data.load_extensions\\n        );\\n        if (extensions && extensions[\\\"webio/main\\\"]) {\\n            // Extension already loaded.\\n            console.log(\\\"Jupyter WebIO nbextension detected; not loading ad-hoc.\\\");\\n            hide();\\n            return;\\n        }\\n        console.warn(\\\"Loading WebIO Jupyter extension on an ad-hoc basis. Consider enabling the WebIO nbextension for a stabler experience (this should happen automatically when building WebIO).\\\");\\n        require([\\\"/assetserver/5ca3542fae68b88caa8c2d647d4f686b69ae116f-dist/main.js\\\"], function (webIOModule) {\\n            webIOModule.load_ipython_extension();\\n        });\\n        warning_div.innerHTML = \\\"<strong>Loading WebIO Jupyter extension on an ad-hoc basis. Consider enabling the WebIO nbextension for a stabler experience (this should happen automatically when building WebIO).</strong>\\\";\\n    } else if (window.location.pathname.includes(\\\"/lab\\\")) {\\n        // Guessing JupyterLa\\n        console.log(\\\"Jupyter Lab detected; make sure the @webio/jupyter-lab-provider labextension is installed.\\\");\\n        hide();\\n        return;\\n    }\\n})();\\n\\n</script>\\n<div\\n    id=\\\"webio-warning-17886640719268323354\\\"\\n    class=\\\"output_text output_stderr\\\"\\n    style=\\\"padding: 1em; font-weight: bold;\\\"\\n>\\n    Unable to load WebIO. Please make sure WebIO works for your Jupyter client.\\n    <!-- TODO: link to installation docs. -->\\n</div>\\n\")"
      ]
     },
     "metadata": {},
     "output_type": "display_data"
    }
   ],
   "source": [
    "using DelimitedFiles\n",
    "using Random\n",
    "using DataFrames\n",
    "using StatsBase\n",
    "using Statistics\n",
    "using Plots\n",
    "using Plotly"
   ]
  },
  {
   "cell_type": "markdown",
   "metadata": {},
   "source": [
    "# Below are 100 simulations of y where X is 5k by 100k matrix"
   ]
  },
  {
   "cell_type": "code",
   "execution_count": 14,
   "metadata": {
    "collapsed": false,
    "scrolled": false
   },
   "outputs": [
    {
     "data": {
      "text/plain": [
       "6-element Array{Float64,1}:\n",
       " 0.01\n",
       " 0.5 \n",
       " 0.03\n",
       " 0.1 \n",
       " 0.05\n",
       " 0.25"
      ]
     },
     "execution_count": 14,
     "metadata": {},
     "output_type": "execute_result"
    }
   ],
   "source": [
    "#debiasing simulation results\n",
    "normal_debias = readdlm(\"repeats/Normal_100\")\n",
    "logistic_debias = readdlm(\"repeats/Bernoulli_100\")\n",
    "poisson_debias = readdlm(\"repeats/Poisson_100\")\n",
    "negativebinomial_debias = readdlm(\"repeats/NegativeBinomial_100\")\n",
    "\n",
    "#non-debiasing simulation results\n",
    "normal_nodebias = readdlm(\"repeats_nodebias/Normal_100\")\n",
    "logistic_nodebias = readdlm(\"repeats_nodebias/Bernoulli_100\")\n",
    "poisson_nodebias = readdlm(\"repeats_nodebias/Poisson_100\")\n",
    "negativebinomial_nodebias = readdlm(\"repeats_nodebias/NegativeBinomial_100\")\n",
    "\n",
    "#true model \n",
    "true_b = [0.01; 0.5; 0.03; 0.1; 0.05; 0.25]"
   ]
  },
  {
   "cell_type": "markdown",
   "metadata": {},
   "source": [
    "# Construct Table\n",
    "\n",
    "### First compute the proportion of finding each predictor"
   ]
  },
  {
   "cell_type": "code",
   "execution_count": 15,
   "metadata": {
    "collapsed": false
   },
   "outputs": [],
   "source": [
    "k = size(true_b, 1)\n",
    "normal_found   = zeros(k)\n",
    "logistic_found = zeros(k)\n",
    "poisson_found  = zeros(k)\n",
    "negativebinomial_found = zeros(k)\n",
    "\n",
    "normal_found_nodebias   = zeros(k)\n",
    "logistic_found_nodebias = zeros(k)\n",
    "poisson_found_nodebias  = zeros(k)\n",
    "negativebinomial_found_nodebias = zeros(k)\n",
    "\n",
    "for i in 1:k\n",
    "    normal_found[i]   = sum(normal_debias[i, :] .!= 0)\n",
    "    logistic_found[i] = sum(logistic_debias[i, :] .!= 0)\n",
    "    poisson_found[i]  = sum(poisson_debias[i, :] .!= 0)\n",
    "    negativebinomial_found[i] = sum(negativebinomial_debias[i, :] .!= 0)\n",
    "    \n",
    "    normal_found_nodebias[i]   = sum(normal_nodebias[i, :] .!= 0)\n",
    "    logistic_found_nodebias[i] = sum(logistic_nodebias[i, :] .!= 0)\n",
    "    poisson_found_nodebias[i]  = sum(poisson_nodebias[i, :] .!= 0)\n",
    "    negativebinomial_found_nodebias[i] = sum(negativebinomial_nodebias[i, :] .!= 0)    \n",
    "end"
   ]
  },
  {
   "cell_type": "markdown",
   "metadata": {},
   "source": [
    "# Found proportion (debiasing)"
   ]
  },
  {
   "cell_type": "code",
   "execution_count": 16,
   "metadata": {
    "collapsed": false,
    "scrolled": true
   },
   "outputs": [
    {
     "data": {
      "text/html": [
       "<table class=\"data-frame\"><thead><tr><th></th><th>true_b</th><th>normal_prob_find</th><th>logistic_prob_find</th><th>poisson_prob_find</th><th>negativebinomial_prob_find</th></tr><tr><th></th><th>Float64</th><th>Float64</th><th>Float64</th><th>Float64</th><th>Float64</th></tr></thead><tbody><p>6 rows × 5 columns</p><tr><th>1</th><td>0.5</td><td>100.0</td><td>100.0</td><td>100.0</td><td>100.0</td></tr><tr><th>2</th><td>0.25</td><td>100.0</td><td>100.0</td><td>100.0</td><td>100.0</td></tr><tr><th>3</th><td>0.1</td><td>100.0</td><td>78.0</td><td>96.0</td><td>100.0</td></tr><tr><th>4</th><td>0.05</td><td>77.0</td><td>5.0</td><td>72.0</td><td>61.0</td></tr><tr><th>5</th><td>0.03</td><td>15.0</td><td>0.0</td><td>13.0</td><td>12.0</td></tr><tr><th>6</th><td>0.01</td><td>0.0</td><td>0.0</td><td>0.0</td><td>0.0</td></tr></tbody></table>"
      ],
      "text/latex": [
       "\\begin{tabular}{r|ccccc}\n",
       "\t& true\\_b & normal\\_prob\\_find & logistic\\_prob\\_find & poisson\\_prob\\_find & negativebinomial\\_prob\\_find\\\\\n",
       "\t\\hline\n",
       "\t& Float64 & Float64 & Float64 & Float64 & Float64\\\\\n",
       "\t\\hline\n",
       "\t1 & 0.5 & 100.0 & 100.0 & 100.0 & 100.0 \\\\\n",
       "\t2 & 0.25 & 100.0 & 100.0 & 100.0 & 100.0 \\\\\n",
       "\t3 & 0.1 & 100.0 & 78.0 & 96.0 & 100.0 \\\\\n",
       "\t4 & 0.05 & 77.0 & 5.0 & 72.0 & 61.0 \\\\\n",
       "\t5 & 0.03 & 15.0 & 0.0 & 13.0 & 12.0 \\\\\n",
       "\t6 & 0.01 & 0.0 & 0.0 & 0.0 & 0.0 \\\\\n",
       "\\end{tabular}\n"
      ],
      "text/plain": [
       "6×5 DataFrame. Omitted printing of 1 columns\n",
       "│ Row │ true_b  │ normal_prob_find │ logistic_prob_find │ poisson_prob_find │\n",
       "│     │ \u001b[90mFloat64\u001b[39m │ \u001b[90mFloat64\u001b[39m          │ \u001b[90mFloat64\u001b[39m            │ \u001b[90mFloat64\u001b[39m           │\n",
       "├─────┼─────────┼──────────────────┼────────────────────┼───────────────────┤\n",
       "│ 1   │ 0.5     │ 100.0            │ 100.0              │ 100.0             │\n",
       "│ 2   │ 0.25    │ 100.0            │ 100.0              │ 100.0             │\n",
       "│ 3   │ 0.1     │ 100.0            │ 78.0               │ 96.0              │\n",
       "│ 4   │ 0.05    │ 77.0             │ 5.0                │ 72.0              │\n",
       "│ 5   │ 0.03    │ 15.0             │ 0.0                │ 13.0              │\n",
       "│ 6   │ 0.01    │ 0.0              │ 0.0                │ 0.0               │"
      ]
     },
     "execution_count": 16,
     "metadata": {},
     "output_type": "execute_result"
    }
   ],
   "source": [
    "find_probability = DataFrame(\n",
    "    true_b = true_b,\n",
    "    normal_prob_find = normal_found, \n",
    "    logistic_prob_find = logistic_found,\n",
    "    poisson_prob_find  = poisson_found,\n",
    "    negativebinomial_prob_find = negativebinomial_found)\n",
    "find_probability_debias = deepcopy(find_probability)\n",
    "sort!(find_probability_debias, rev=true) #sort later"
   ]
  },
  {
   "cell_type": "markdown",
   "metadata": {},
   "source": [
    "# Found proportion (no debiasing)"
   ]
  },
  {
   "cell_type": "code",
   "execution_count": 17,
   "metadata": {
    "collapsed": false
   },
   "outputs": [
    {
     "data": {
      "text/html": [
       "<table class=\"data-frame\"><thead><tr><th></th><th>true_b</th><th>normal_prob_find_nodebias</th><th>logistic_prob_find_nodebias</th><th>poisson_prob_find_nodebias</th><th>negativebinomial_prob_find_nodebias</th></tr><tr><th></th><th>Float64</th><th>Float64</th><th>Float64</th><th>Float64</th><th>Float64</th></tr></thead><tbody><p>6 rows × 5 columns</p><tr><th>1</th><td>0.5</td><td>100.0</td><td>100.0</td><td>100.0</td><td>100.0</td></tr><tr><th>2</th><td>0.25</td><td>100.0</td><td>100.0</td><td>100.0</td><td>100.0</td></tr><tr><th>3</th><td>0.1</td><td>100.0</td><td>73.0</td><td>99.0</td><td>99.0</td></tr><tr><th>4</th><td>0.05</td><td>83.0</td><td>6.0</td><td>77.0</td><td>66.0</td></tr><tr><th>5</th><td>0.03</td><td>8.0</td><td>0.0</td><td>10.0</td><td>4.0</td></tr><tr><th>6</th><td>0.01</td><td>0.0</td><td>0.0</td><td>0.0</td><td>0.0</td></tr></tbody></table>"
      ],
      "text/latex": [
       "\\begin{tabular}{r|ccccc}\n",
       "\t& true\\_b & normal\\_prob\\_find\\_nodebias & logistic\\_prob\\_find\\_nodebias & poisson\\_prob\\_find\\_nodebias & negativebinomial\\_prob\\_find\\_nodebias\\\\\n",
       "\t\\hline\n",
       "\t& Float64 & Float64 & Float64 & Float64 & Float64\\\\\n",
       "\t\\hline\n",
       "\t1 & 0.5 & 100.0 & 100.0 & 100.0 & 100.0 \\\\\n",
       "\t2 & 0.25 & 100.0 & 100.0 & 100.0 & 100.0 \\\\\n",
       "\t3 & 0.1 & 100.0 & 73.0 & 99.0 & 99.0 \\\\\n",
       "\t4 & 0.05 & 83.0 & 6.0 & 77.0 & 66.0 \\\\\n",
       "\t5 & 0.03 & 8.0 & 0.0 & 10.0 & 4.0 \\\\\n",
       "\t6 & 0.01 & 0.0 & 0.0 & 0.0 & 0.0 \\\\\n",
       "\\end{tabular}\n"
      ],
      "text/plain": [
       "6×5 DataFrame. Omitted printing of 2 columns\n",
       "│ Row │ true_b  │ normal_prob_find_nodebias │ logistic_prob_find_nodebias │\n",
       "│     │ \u001b[90mFloat64\u001b[39m │ \u001b[90mFloat64\u001b[39m                   │ \u001b[90mFloat64\u001b[39m                     │\n",
       "├─────┼─────────┼───────────────────────────┼─────────────────────────────┤\n",
       "│ 1   │ 0.5     │ 100.0                     │ 100.0                       │\n",
       "│ 2   │ 0.25    │ 100.0                     │ 100.0                       │\n",
       "│ 3   │ 0.1     │ 100.0                     │ 73.0                        │\n",
       "│ 4   │ 0.05    │ 83.0                      │ 6.0                         │\n",
       "│ 5   │ 0.03    │ 8.0                       │ 0.0                         │\n",
       "│ 6   │ 0.01    │ 0.0                       │ 0.0                         │"
      ]
     },
     "execution_count": 17,
     "metadata": {},
     "output_type": "execute_result"
    }
   ],
   "source": [
    "find_probability_nodebias = DataFrame(\n",
    "    true_b = true_b,\n",
    "    normal_prob_find_nodebias = normal_found_nodebias, \n",
    "    logistic_prob_find_nodebias = logistic_found_nodebias,\n",
    "    poisson_prob_find_nodebias  = poisson_found_nodebias,\n",
    "    negativebinomial_prob_find_nodebias = negativebinomial_found_nodebias)\n",
    "find_probability_nodebias_cp = deepcopy(find_probability_nodebias)\n",
    "sort!(find_probability_nodebias_cp, rev=true) #sort later"
   ]
  },
  {
   "cell_type": "markdown",
   "metadata": {},
   "source": [
    "# Mean and standard deviation (debiasing)"
   ]
  },
  {
   "cell_type": "code",
   "execution_count": 18,
   "metadata": {
    "collapsed": false
   },
   "outputs": [],
   "source": [
    "k = size(true_b, 1)\n",
    "normal_mean   = zeros(k)\n",
    "normal_std    = zeros(k)\n",
    "logistic_mean = zeros(k)\n",
    "logistic_std  = zeros(k)\n",
    "poisson_mean  = zeros(k)\n",
    "poisson_std   = zeros(k)\n",
    "negativebinomial_mean = zeros(k)\n",
    "negativebinomial_std  = zeros(k)\n",
    "\n",
    "for i in 1:k\n",
    "    #compute mean and std if at least 1 found\n",
    "    if normal_found[i] != 0\n",
    "        normal_cur_row = normal_debias[i, :] .!= 0\n",
    "        normal_mean[i] = mean(normal_debias[i, :][normal_cur_row])\n",
    "        normal_std[i]  = std(normal_debias[i, :][normal_cur_row])\n",
    "    end\n",
    "    \n",
    "    if logistic_found[i] != 0\n",
    "        logistic_cur_row = logistic_debias[i, :] .!= 0\n",
    "        logistic_mean[i] = mean(logistic_debias[i, :][logistic_cur_row])\n",
    "        logistic_std[i]  = std(logistic_debias[i, :][logistic_cur_row])\n",
    "    end\n",
    "    \n",
    "    if poisson_found[i] != 0\n",
    "        poisson_cur_row = poisson_debias[i, :] .!= 0\n",
    "        poisson_mean[i] = mean(poisson_debias[i, :][poisson_cur_row])\n",
    "        poisson_std[i]  = std(poisson_debias[i, :][poisson_cur_row])\n",
    "    end\n",
    "    \n",
    "    if negativebinomial_found[i] != 0\n",
    "        negativebinomial_cur_row = negativebinomial_debias[i, :] .!= 0\n",
    "        negativebinomial_mean[i] = mean(negativebinomial_debias[i, :][negativebinomial_cur_row])\n",
    "        negativebinomial_std[i]  = std(negativebinomial_debias[i, :][negativebinomial_cur_row])\n",
    "    end\n",
    "end"
   ]
  },
  {
   "cell_type": "code",
   "execution_count": 19,
   "metadata": {
    "collapsed": false,
    "scrolled": true
   },
   "outputs": [
    {
     "data": {
      "text/html": [
       "<table class=\"data-frame\"><thead><tr><th></th><th>true_b</th><th>normal_mean</th><th>normal_std</th><th>logistic_mean</th><th>logistic_std</th><th>poisson_mean</th><th>poisson_std</th><th>negativebinomial_mean</th><th>negativebinomial_std</th></tr><tr><th></th><th>Float64</th><th>Float64</th><th>Float64</th><th>Float64</th><th>Float64</th><th>Float64</th><th>Float64</th><th>Float64</th><th>Float64</th></tr></thead><tbody><p>6 rows × 9 columns</p><tr><th>1</th><td>0.01</td><td>0.0</td><td>0.0</td><td>0.0</td><td>0.0</td><td>0.0</td><td>0.0</td><td>0.0</td><td>0.0</td></tr><tr><th>2</th><td>0.5</td><td>0.499205</td><td>0.0107783</td><td>0.500955</td><td>0.0201752</td><td>0.473463</td><td>0.076793</td><td>0.494118</td><td>0.0214736</td></tr><tr><th>3</th><td>0.03</td><td>0.0482141</td><td>0.00458179</td><td>0.0</td><td>0.0</td><td>0.041355</td><td>0.00384615</td><td>0.0484982</td><td>0.00555893</td></tr><tr><th>4</th><td>0.1</td><td>0.0994391</td><td>0.00942976</td><td>0.107739</td><td>0.0141301</td><td>0.0969835</td><td>0.0118964</td><td>0.0975961</td><td>0.0101816</td></tr><tr><th>5</th><td>0.05</td><td>0.0521786</td><td>0.00720834</td><td>0.0974611</td><td>0.0126273</td><td>0.0532384</td><td>0.00778964</td><td>0.0546311</td><td>0.0077682</td></tr><tr><th>6</th><td>0.25</td><td>0.250971</td><td>0.0108108</td><td>0.253644</td><td>0.0211192</td><td>0.236194</td><td>0.0392121</td><td>0.247268</td><td>0.0145383</td></tr></tbody></table>"
      ],
      "text/latex": [
       "\\begin{tabular}{r|ccccccccc}\n",
       "\t& true\\_b & normal\\_mean & normal\\_std & logistic\\_mean & logistic\\_std & poisson\\_mean & poisson\\_std & negativebinomial\\_mean & negativebinomial\\_std\\\\\n",
       "\t\\hline\n",
       "\t& Float64 & Float64 & Float64 & Float64 & Float64 & Float64 & Float64 & Float64 & Float64\\\\\n",
       "\t\\hline\n",
       "\t1 & 0.01 & 0.0 & 0.0 & 0.0 & 0.0 & 0.0 & 0.0 & 0.0 & 0.0 \\\\\n",
       "\t2 & 0.5 & 0.499205 & 0.0107783 & 0.500955 & 0.0201752 & 0.473463 & 0.076793 & 0.494118 & 0.0214736 \\\\\n",
       "\t3 & 0.03 & 0.0482141 & 0.00458179 & 0.0 & 0.0 & 0.041355 & 0.00384615 & 0.0484982 & 0.00555893 \\\\\n",
       "\t4 & 0.1 & 0.0994391 & 0.00942976 & 0.107739 & 0.0141301 & 0.0969835 & 0.0118964 & 0.0975961 & 0.0101816 \\\\\n",
       "\t5 & 0.05 & 0.0521786 & 0.00720834 & 0.0974611 & 0.0126273 & 0.0532384 & 0.00778964 & 0.0546311 & 0.0077682 \\\\\n",
       "\t6 & 0.25 & 0.250971 & 0.0108108 & 0.253644 & 0.0211192 & 0.236194 & 0.0392121 & 0.247268 & 0.0145383 \\\\\n",
       "\\end{tabular}\n"
      ],
      "text/plain": [
       "6×9 DataFrame. Omitted printing of 4 columns\n",
       "│ Row │ true_b  │ normal_mean │ normal_std │ logistic_mean │ logistic_std │\n",
       "│     │ \u001b[90mFloat64\u001b[39m │ \u001b[90mFloat64\u001b[39m     │ \u001b[90mFloat64\u001b[39m    │ \u001b[90mFloat64\u001b[39m       │ \u001b[90mFloat64\u001b[39m      │\n",
       "├─────┼─────────┼─────────────┼────────────┼───────────────┼──────────────┤\n",
       "│ 1   │ 0.01    │ 0.0         │ 0.0        │ 0.0           │ 0.0          │\n",
       "│ 2   │ 0.5     │ 0.499205    │ 0.0107783  │ 0.500955      │ 0.0201752    │\n",
       "│ 3   │ 0.03    │ 0.0482141   │ 0.00458179 │ 0.0           │ 0.0          │\n",
       "│ 4   │ 0.1     │ 0.0994391   │ 0.00942976 │ 0.107739      │ 0.0141301    │\n",
       "│ 5   │ 0.05    │ 0.0521786   │ 0.00720834 │ 0.0974611     │ 0.0126273    │\n",
       "│ 6   │ 0.25    │ 0.250971    │ 0.0108108  │ 0.253644      │ 0.0211192    │"
      ]
     },
     "execution_count": 19,
     "metadata": {},
     "output_type": "execute_result"
    }
   ],
   "source": [
    "found_mean_and_std = DataFrame(\n",
    "    true_b = true_b,\n",
    "    normal_mean = normal_mean, \n",
    "    normal_std = normal_std,\n",
    "    logistic_mean = logistic_mean,\n",
    "    logistic_std = logistic_std,\n",
    "    poisson_mean = poisson_mean,\n",
    "    poisson_std = poisson_std,\n",
    "    negativebinomial_mean = negativebinomial_mean,\n",
    "    negativebinomial_std = negativebinomial_std)\n",
    "# sort!(found_mean_and_std, rev=true) #sort later"
   ]
  },
  {
   "cell_type": "markdown",
   "metadata": {},
   "source": [
    "# Mean and standard deviation (non-debiasing) "
   ]
  },
  {
   "cell_type": "code",
   "execution_count": 20,
   "metadata": {
    "collapsed": false
   },
   "outputs": [],
   "source": [
    "k = size(true_b, 1)\n",
    "normal_mean_nodebias   = zeros(k)\n",
    "normal_std_nodebias    = zeros(k)\n",
    "logistic_mean_nodebias = zeros(k)\n",
    "logistic_std_nodebias  = zeros(k)\n",
    "poisson_mean_nodebias  = zeros(k)\n",
    "poisson_std_nodebias   = zeros(k)\n",
    "negativebinomial_mean_nodebias = zeros(k)\n",
    "negativebinomial_std_nodebias  = zeros(k)\n",
    "\n",
    "for i in 1:k\n",
    "    #compute mean and std if at least 1 found\n",
    "    if normal_found_nodebias[i] != 0\n",
    "        normal_cur_row = normal_nodebias[i, :] .!= 0\n",
    "        normal_mean_nodebias[i] = mean(normal_nodebias[i, :][normal_cur_row])\n",
    "        normal_std_nodebias[i]  = std(normal_nodebias[i, :][normal_cur_row])\n",
    "    end\n",
    "    \n",
    "    if logistic_found_nodebias[i] != 0\n",
    "        logistic_cur_row = logistic_nodebias[i, :] .!= 0\n",
    "        logistic_mean_nodebias[i] = mean(logistic_nodebias[i, :][logistic_cur_row])\n",
    "        logistic_std_nodebias[i]  = std(logistic_nodebias[i, :][logistic_cur_row])\n",
    "    end\n",
    "    \n",
    "    if poisson_found_nodebias[i] != 0\n",
    "        poisson_cur_row = poisson_nodebias[i, :] .!= 0\n",
    "        poisson_mean_nodebias[i] = mean(poisson_nodebias[i, :][poisson_cur_row])\n",
    "        poisson_std_nodebias[i]  = std(poisson_nodebias[i, :][poisson_cur_row])\n",
    "    end\n",
    "    \n",
    "    if negativebinomial_found_nodebias[i] != 0\n",
    "        negativebinomial_cur_row = negativebinomial_nodebias[i, :] .!= 0\n",
    "        negativebinomial_mean_nodebias[i] = mean(negativebinomial_nodebias[i, :][negativebinomial_cur_row])\n",
    "        negativebinomial_std_nodebias[i]  = std(negativebinomial_nodebias[i, :][negativebinomial_cur_row])\n",
    "    end\n",
    "end"
   ]
  },
  {
   "cell_type": "code",
   "execution_count": 21,
   "metadata": {
    "collapsed": false
   },
   "outputs": [
    {
     "data": {
      "text/html": [
       "<table class=\"data-frame\"><thead><tr><th></th><th>true_b</th><th>normal_mean_nodebias</th><th>normal_std_nodebias</th><th>logistic_mean_nodebias</th><th>logistic_std_nodebias</th><th>poisson_mean_nodebias</th><th>poisson_std_nodebias</th><th>negativebinomial_mean_nodebias</th><th>negativebinomial_std_nodebias</th></tr><tr><th></th><th>Float64</th><th>Float64</th><th>Float64</th><th>Float64</th><th>Float64</th><th>Float64</th><th>Float64</th><th>Float64</th><th>Float64</th></tr></thead><tbody><p>6 rows × 9 columns</p><tr><th>1</th><td>0.01</td><td>0.0</td><td>0.0</td><td>0.0</td><td>0.0</td><td>0.0</td><td>0.0</td><td>0.0</td><td>0.0</td></tr><tr><th>2</th><td>0.5</td><td>0.500169</td><td>0.00988011</td><td>0.503653</td><td>0.0216698</td><td>0.472854</td><td>0.0455963</td><td>0.476275</td><td>0.0451686</td></tr><tr><th>3</th><td>0.03</td><td>0.0458877</td><td>0.00383527</td><td>0.0</td><td>0.0</td><td>0.0448035</td><td>0.00498413</td><td>0.0487748</td><td>0.00682147</td></tr><tr><th>4</th><td>0.1</td><td>0.0970366</td><td>0.00926511</td><td>0.108255</td><td>0.0152654</td><td>0.0959403</td><td>0.0113014</td><td>0.0957512</td><td>0.0124975</td></tr><tr><th>5</th><td>0.05</td><td>0.0534712</td><td>0.00799052</td><td>0.0902063</td><td>0.00400189</td><td>0.0509248</td><td>0.00790711</td><td>0.0539218</td><td>0.00644066</td></tr><tr><th>6</th><td>0.25</td><td>0.249822</td><td>0.00935955</td><td>0.252061</td><td>0.0209583</td><td>0.235781</td><td>0.0260038</td><td>0.238144</td><td>0.0239454</td></tr></tbody></table>"
      ],
      "text/latex": [
       "\\begin{tabular}{r|ccccccccc}\n",
       "\t& true\\_b & normal\\_mean\\_nodebias & normal\\_std\\_nodebias & logistic\\_mean\\_nodebias & logistic\\_std\\_nodebias & poisson\\_mean\\_nodebias & poisson\\_std\\_nodebias & negativebinomial\\_mean\\_nodebias & negativebinomial\\_std\\_nodebias\\\\\n",
       "\t\\hline\n",
       "\t& Float64 & Float64 & Float64 & Float64 & Float64 & Float64 & Float64 & Float64 & Float64\\\\\n",
       "\t\\hline\n",
       "\t1 & 0.01 & 0.0 & 0.0 & 0.0 & 0.0 & 0.0 & 0.0 & 0.0 & 0.0 \\\\\n",
       "\t2 & 0.5 & 0.500169 & 0.00988011 & 0.503653 & 0.0216698 & 0.472854 & 0.0455963 & 0.476275 & 0.0451686 \\\\\n",
       "\t3 & 0.03 & 0.0458877 & 0.00383527 & 0.0 & 0.0 & 0.0448035 & 0.00498413 & 0.0487748 & 0.00682147 \\\\\n",
       "\t4 & 0.1 & 0.0970366 & 0.00926511 & 0.108255 & 0.0152654 & 0.0959403 & 0.0113014 & 0.0957512 & 0.0124975 \\\\\n",
       "\t5 & 0.05 & 0.0534712 & 0.00799052 & 0.0902063 & 0.00400189 & 0.0509248 & 0.00790711 & 0.0539218 & 0.00644066 \\\\\n",
       "\t6 & 0.25 & 0.249822 & 0.00935955 & 0.252061 & 0.0209583 & 0.235781 & 0.0260038 & 0.238144 & 0.0239454 \\\\\n",
       "\\end{tabular}\n"
      ],
      "text/plain": [
       "6×9 DataFrame. Omitted printing of 6 columns\n",
       "│ Row │ true_b  │ normal_mean_nodebias │ normal_std_nodebias │\n",
       "│     │ \u001b[90mFloat64\u001b[39m │ \u001b[90mFloat64\u001b[39m              │ \u001b[90mFloat64\u001b[39m             │\n",
       "├─────┼─────────┼──────────────────────┼─────────────────────┤\n",
       "│ 1   │ 0.01    │ 0.0                  │ 0.0                 │\n",
       "│ 2   │ 0.5     │ 0.500169             │ 0.00988011          │\n",
       "│ 3   │ 0.03    │ 0.0458877            │ 0.00383527          │\n",
       "│ 4   │ 0.1     │ 0.0970366            │ 0.00926511          │\n",
       "│ 5   │ 0.05    │ 0.0534712            │ 0.00799052          │\n",
       "│ 6   │ 0.25    │ 0.249822             │ 0.00935955          │"
      ]
     },
     "execution_count": 21,
     "metadata": {},
     "output_type": "execute_result"
    }
   ],
   "source": [
    "found_mean_and_std_nodebias = DataFrame(\n",
    "    true_b = true_b,\n",
    "    normal_mean_nodebias = normal_mean_nodebias, \n",
    "    normal_std_nodebias = normal_std_nodebias,\n",
    "    logistic_mean_nodebias = logistic_mean_nodebias,\n",
    "    logistic_std_nodebias = logistic_std_nodebias,\n",
    "    poisson_mean_nodebias = poisson_mean_nodebias,\n",
    "    poisson_std_nodebias = poisson_std_nodebias,\n",
    "    negativebinomial_mean_nodebias = negativebinomial_mean_nodebias,\n",
    "    negativebinomial_std_nodebias = negativebinomial_std_nodebias)\n",
    "# sort!(found_mean_and_std_nodebias, rev=true) #sort later"
   ]
  },
  {
   "cell_type": "markdown",
   "metadata": {},
   "source": [
    "# Sort and round results (debiasing)"
   ]
  },
  {
   "cell_type": "code",
   "execution_count": 22,
   "metadata": {
    "collapsed": false
   },
   "outputs": [
    {
     "data": {
      "text/html": [
       "<table class=\"data-frame\"><thead><tr><th></th><th>true_b</th><th>normal_mean</th><th>normal_std</th><th>logistic_mean</th><th>logistic_std</th><th>poisson_mean</th><th>poisson_std</th><th>negativebinomial_mean</th><th>negativebinomial_std</th></tr><tr><th></th><th>Float64</th><th>Float64</th><th>Float64</th><th>Float64</th><th>Float64</th><th>Float64</th><th>Float64</th><th>Float64</th><th>Float64</th></tr></thead><tbody><p>6 rows × 9 columns</p><tr><th>1</th><td>0.5</td><td>0.499</td><td>0.011</td><td>0.501</td><td>0.02</td><td>0.473</td><td>0.077</td><td>0.494</td><td>0.021</td></tr><tr><th>2</th><td>0.25</td><td>0.251</td><td>0.011</td><td>0.254</td><td>0.021</td><td>0.236</td><td>0.039</td><td>0.247</td><td>0.015</td></tr><tr><th>3</th><td>0.1</td><td>0.099</td><td>0.009</td><td>0.108</td><td>0.014</td><td>0.097</td><td>0.012</td><td>0.098</td><td>0.01</td></tr><tr><th>4</th><td>0.05</td><td>0.052</td><td>0.007</td><td>0.097</td><td>0.013</td><td>0.053</td><td>0.008</td><td>0.055</td><td>0.008</td></tr><tr><th>5</th><td>0.03</td><td>0.048</td><td>0.005</td><td>0.0</td><td>0.0</td><td>0.041</td><td>0.004</td><td>0.048</td><td>0.006</td></tr><tr><th>6</th><td>0.01</td><td>0.0</td><td>0.0</td><td>0.0</td><td>0.0</td><td>0.0</td><td>0.0</td><td>0.0</td><td>0.0</td></tr></tbody></table>"
      ],
      "text/latex": [
       "\\begin{tabular}{r|ccccccccc}\n",
       "\t& true\\_b & normal\\_mean & normal\\_std & logistic\\_mean & logistic\\_std & poisson\\_mean & poisson\\_std & negativebinomial\\_mean & negativebinomial\\_std\\\\\n",
       "\t\\hline\n",
       "\t& Float64 & Float64 & Float64 & Float64 & Float64 & Float64 & Float64 & Float64 & Float64\\\\\n",
       "\t\\hline\n",
       "\t1 & 0.5 & 0.499 & 0.011 & 0.501 & 0.02 & 0.473 & 0.077 & 0.494 & 0.021 \\\\\n",
       "\t2 & 0.25 & 0.251 & 0.011 & 0.254 & 0.021 & 0.236 & 0.039 & 0.247 & 0.015 \\\\\n",
       "\t3 & 0.1 & 0.099 & 0.009 & 0.108 & 0.014 & 0.097 & 0.012 & 0.098 & 0.01 \\\\\n",
       "\t4 & 0.05 & 0.052 & 0.007 & 0.097 & 0.013 & 0.053 & 0.008 & 0.055 & 0.008 \\\\\n",
       "\t5 & 0.03 & 0.048 & 0.005 & 0.0 & 0.0 & 0.041 & 0.004 & 0.048 & 0.006 \\\\\n",
       "\t6 & 0.01 & 0.0 & 0.0 & 0.0 & 0.0 & 0.0 & 0.0 & 0.0 & 0.0 \\\\\n",
       "\\end{tabular}\n"
      ],
      "text/plain": [
       "6×9 DataFrame. Omitted printing of 4 columns\n",
       "│ Row │ true_b  │ normal_mean │ normal_std │ logistic_mean │ logistic_std │\n",
       "│     │ \u001b[90mFloat64\u001b[39m │ \u001b[90mFloat64\u001b[39m     │ \u001b[90mFloat64\u001b[39m    │ \u001b[90mFloat64\u001b[39m       │ \u001b[90mFloat64\u001b[39m      │\n",
       "├─────┼─────────┼─────────────┼────────────┼───────────────┼──────────────┤\n",
       "│ 1   │ 0.5     │ 0.499       │ 0.011      │ 0.501         │ 0.02         │\n",
       "│ 2   │ 0.25    │ 0.251       │ 0.011      │ 0.254         │ 0.021        │\n",
       "│ 3   │ 0.1     │ 0.099       │ 0.009      │ 0.108         │ 0.014        │\n",
       "│ 4   │ 0.05    │ 0.052       │ 0.007      │ 0.097         │ 0.013        │\n",
       "│ 5   │ 0.03    │ 0.048       │ 0.005      │ 0.0           │ 0.0          │\n",
       "│ 6   │ 0.01    │ 0.0         │ 0.0        │ 0.0           │ 0.0          │"
      ]
     },
     "execution_count": 22,
     "metadata": {},
     "output_type": "execute_result"
    }
   ],
   "source": [
    "found_mean_and_std_debias = deepcopy(found_mean_and_std)\n",
    "sort!(found_mean_and_std_debias, rev=true)\n",
    "for i in 1:size(found_mean_and_std_debias, 2)\n",
    "    found_mean_and_std_debias[:, i] = round.(found_mean_and_std_debias[:, i], digits=3)\n",
    "end\n",
    "found_mean_and_std_debias"
   ]
  },
  {
   "cell_type": "markdown",
   "metadata": {},
   "source": [
    "# Sort and round results (non-debiasing)"
   ]
  },
  {
   "cell_type": "code",
   "execution_count": 23,
   "metadata": {
    "collapsed": false
   },
   "outputs": [
    {
     "data": {
      "text/html": [
       "<table class=\"data-frame\"><thead><tr><th></th><th>true_b</th><th>normal_mean_nodebias</th><th>normal_std_nodebias</th><th>logistic_mean_nodebias</th><th>logistic_std_nodebias</th><th>poisson_mean_nodebias</th><th>poisson_std_nodebias</th><th>negativebinomial_mean_nodebias</th><th>negativebinomial_std_nodebias</th></tr><tr><th></th><th>Float64</th><th>Float64</th><th>Float64</th><th>Float64</th><th>Float64</th><th>Float64</th><th>Float64</th><th>Float64</th><th>Float64</th></tr></thead><tbody><p>6 rows × 9 columns</p><tr><th>1</th><td>0.5</td><td>0.5</td><td>0.01</td><td>0.504</td><td>0.022</td><td>0.473</td><td>0.046</td><td>0.476</td><td>0.045</td></tr><tr><th>2</th><td>0.25</td><td>0.25</td><td>0.009</td><td>0.252</td><td>0.021</td><td>0.236</td><td>0.026</td><td>0.238</td><td>0.024</td></tr><tr><th>3</th><td>0.1</td><td>0.097</td><td>0.009</td><td>0.108</td><td>0.015</td><td>0.096</td><td>0.011</td><td>0.096</td><td>0.012</td></tr><tr><th>4</th><td>0.05</td><td>0.053</td><td>0.008</td><td>0.09</td><td>0.004</td><td>0.051</td><td>0.008</td><td>0.054</td><td>0.006</td></tr><tr><th>5</th><td>0.03</td><td>0.046</td><td>0.004</td><td>0.0</td><td>0.0</td><td>0.045</td><td>0.005</td><td>0.049</td><td>0.007</td></tr><tr><th>6</th><td>0.01</td><td>0.0</td><td>0.0</td><td>0.0</td><td>0.0</td><td>0.0</td><td>0.0</td><td>0.0</td><td>0.0</td></tr></tbody></table>"
      ],
      "text/latex": [
       "\\begin{tabular}{r|ccccccccc}\n",
       "\t& true\\_b & normal\\_mean\\_nodebias & normal\\_std\\_nodebias & logistic\\_mean\\_nodebias & logistic\\_std\\_nodebias & poisson\\_mean\\_nodebias & poisson\\_std\\_nodebias & negativebinomial\\_mean\\_nodebias & negativebinomial\\_std\\_nodebias\\\\\n",
       "\t\\hline\n",
       "\t& Float64 & Float64 & Float64 & Float64 & Float64 & Float64 & Float64 & Float64 & Float64\\\\\n",
       "\t\\hline\n",
       "\t1 & 0.5 & 0.5 & 0.01 & 0.504 & 0.022 & 0.473 & 0.046 & 0.476 & 0.045 \\\\\n",
       "\t2 & 0.25 & 0.25 & 0.009 & 0.252 & 0.021 & 0.236 & 0.026 & 0.238 & 0.024 \\\\\n",
       "\t3 & 0.1 & 0.097 & 0.009 & 0.108 & 0.015 & 0.096 & 0.011 & 0.096 & 0.012 \\\\\n",
       "\t4 & 0.05 & 0.053 & 0.008 & 0.09 & 0.004 & 0.051 & 0.008 & 0.054 & 0.006 \\\\\n",
       "\t5 & 0.03 & 0.046 & 0.004 & 0.0 & 0.0 & 0.045 & 0.005 & 0.049 & 0.007 \\\\\n",
       "\t6 & 0.01 & 0.0 & 0.0 & 0.0 & 0.0 & 0.0 & 0.0 & 0.0 & 0.0 \\\\\n",
       "\\end{tabular}\n"
      ],
      "text/plain": [
       "6×9 DataFrame. Omitted printing of 6 columns\n",
       "│ Row │ true_b  │ normal_mean_nodebias │ normal_std_nodebias │\n",
       "│     │ \u001b[90mFloat64\u001b[39m │ \u001b[90mFloat64\u001b[39m              │ \u001b[90mFloat64\u001b[39m             │\n",
       "├─────┼─────────┼──────────────────────┼─────────────────────┤\n",
       "│ 1   │ 0.5     │ 0.5                  │ 0.01                │\n",
       "│ 2   │ 0.25    │ 0.25                 │ 0.009               │\n",
       "│ 3   │ 0.1     │ 0.097                │ 0.009               │\n",
       "│ 4   │ 0.05    │ 0.053                │ 0.008               │\n",
       "│ 5   │ 0.03    │ 0.046                │ 0.004               │\n",
       "│ 6   │ 0.01    │ 0.0                  │ 0.0                 │"
      ]
     },
     "execution_count": 23,
     "metadata": {},
     "output_type": "execute_result"
    }
   ],
   "source": [
    "found_mean_and_std_nodebias_copy = deepcopy(found_mean_and_std_nodebias)\n",
    "sort!(found_mean_and_std_nodebias_copy, rev=true)\n",
    "for i in 1:size(found_mean_and_std_nodebias_copy, 2)\n",
    "    found_mean_and_std_nodebias_copy[:, i] = round.(found_mean_and_std_nodebias_copy[:, i], digits=3)\n",
    "end\n",
    "found_mean_and_std_nodebias_copy"
   ]
  },
  {
   "cell_type": "code",
   "execution_count": null,
   "metadata": {
    "collapsed": true
   },
   "outputs": [],
   "source": []
  }
 ],
 "metadata": {
  "kernelspec": {
   "display_name": "Julia 1.0.3",
   "language": "julia",
   "name": "julia-1.0"
  },
  "language_info": {
   "file_extension": ".jl",
   "mimetype": "application/julia",
   "name": "julia",
   "version": "1.0.3"
  }
 },
 "nbformat": 4,
 "nbformat_minor": 2
}
