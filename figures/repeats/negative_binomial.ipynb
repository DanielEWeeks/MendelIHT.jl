{
 "cells": [
  {
   "cell_type": "markdown",
   "metadata": {
    "deletable": true,
    "editable": true
   },
   "source": [
    "# Negative Binomial - Coefficient estimates for IHT\n",
    "\n",
    "No lasso for comparison because `glmnet` does not implement negative binomial regression."
   ]
  },
  {
   "cell_type": "code",
   "execution_count": 1,
   "metadata": {
    "collapsed": false,
    "deletable": true,
    "editable": true
   },
   "outputs": [
    {
     "name": "stderr",
     "output_type": "stream",
     "text": [
      "┌ Warning: RCall.jl: Loading required package: Matrix\n",
      "│ Loading required package: foreach\n",
      "│ Loaded glmnet 2.0-16\n",
      "│ \n",
      "└ @ RCall /u/home/b/biona001/.julia/packages/RCall/ffM0W/src/io.jl:113\n"
     ]
    },
    {
     "data": {
      "text/plain": [
       "RObject{StrSxp}\n",
       " [1] \"glmnet\"    \"foreach\"   \"Matrix\"    \"stats\"     \"graphics\"  \"grDevices\"\n",
       " [7] \"utils\"     \"datasets\"  \"methods\"   \"base\"     \n"
      ]
     },
     "execution_count": 1,
     "metadata": {},
     "output_type": "execute_result"
    }
   ],
   "source": [
    "using MendelIHT\n",
    "using SnpArrays\n",
    "using DataFrames\n",
    "using Distributions\n",
    "using BenchmarkTools\n",
    "using Random\n",
    "using LinearAlgebra\n",
    "using DelimitedFiles\n",
    "using GLM\n",
    "using RCall\n",
    "R\"library(glmnet)\""
   ]
  },
  {
   "cell_type": "code",
   "execution_count": 2,
   "metadata": {
    "collapsed": false,
    "deletable": true,
    "editable": true
   },
   "outputs": [
    {
     "data": {
      "text/plain": [
       "run_repeat (generic function with 1 method)"
      ]
     },
     "execution_count": 2,
     "metadata": {},
     "output_type": "execute_result"
    }
   ],
   "source": [
    "#run n repeats of L0_reg using the same X and b, but different y\n",
    "function run_repeat(\n",
    "    n        :: Int,\n",
    "    p        :: Int,\n",
    "    repeats  :: Int, \n",
    "    z        :: AbstractMatrix,\n",
    "    true_b   :: Vector,\n",
    "    cor_pos  :: Vector, #correct position of the true model\n",
    "    d        :: UnionAll,\n",
    "    l        :: GLM.Link\n",
    "    )\n",
    "    \n",
    "    k = size(cor_pos, 1)\n",
    "    IHT_estimated_β = zeros(k, repeats)\n",
    "    \n",
    "    for i in 1:repeats\n",
    "        # simulat SNP data\n",
    "        mafs = rand(Uniform(0.05, 0.5), p)\n",
    "        x = zeros(Float32, n, p)\n",
    "        for j in 1:p\n",
    "            dist = Binomial(2, mafs[j])\n",
    "            for ii in 1:n\n",
    "                x[ii, j] = Float32(rand(dist))\n",
    "            end\n",
    "        end\n",
    "        standardize!(x)\n",
    "\n",
    "        #simulate phenotypes (e.g. vector y)\n",
    "        if d == Normal || d == Poisson || d == Bernoulli\n",
    "            prob = GLM.linkinv.(l, x * true_b)\n",
    "            clamp!(prob, -20, 20)\n",
    "            y = [rand(d(i)) for i in prob]\n",
    "        elseif d == NegativeBinomial\n",
    "            r = 10\n",
    "            μ = GLM.linkinv.(l, x * true_b)\n",
    "            prob = 1 ./ (1 .+ μ ./ r)\n",
    "            y = [rand(d(r, i)) for i in prob] #number of failtures before r success occurs\n",
    "        elseif d == Gamma\n",
    "            μ = GLM.linkinv.(l, x * true_b)\n",
    "            β = 1 ./ μ # here β is the rate parameter for gamma distribution\n",
    "            y = [rand(d(α, i)) for i in β] # α is the shape parameter for gamma\n",
    "        end\n",
    "        y = Float32.(y)\n",
    "\n",
    "        #compute results for data\n",
    "        IHT_result = L0_reg(x, z, y, 1, k, d(), l)\n",
    "\n",
    "        #store the correct position in estimated model\n",
    "        IHT_estimated_β[:, i] .= IHT_result.beta[cor_pos]\n",
    "    end\n",
    "    \n",
    "    return IHT_estimated_β\n",
    "end"
   ]
  },
  {
   "cell_type": "markdown",
   "metadata": {
    "deletable": true,
    "editable": true
   },
   "source": [
    "## Run 100 models\n",
    "\n",
    "Here $\\beta_{true}$ is the same in all models, but the design matrix and phenotype will be different. To run lasso, we first cross validate for the tuning parameter $\\lambda$ before running the standard lasso. We compute the average and standard error for correctly identified predictors (i.e. estimated $\\beta_i > 0$). Note that here we are not comparing false positives or false negatives. "
   ]
  },
  {
   "cell_type": "code",
   "execution_count": 3,
   "metadata": {
    "collapsed": false,
    "deletable": true,
    "editable": true
   },
   "outputs": [
    {
     "name": "stdout",
     "output_type": "stream",
     "text": [
      "262.146976 seconds (36.96 M allocations: 20.626 GiB, 0.73% gc time)\n"
     ]
    },
    {
     "data": {
      "text/plain": [
       "6×100 Array{Float64,2}:\n",
       " 0.0        0.0        0.0        …  0.0        0.0        0.0     \n",
       " 0.0        0.0        0.0801787     0.0590452  0.0561173  0.0     \n",
       " 0.252424   0.263886   0.26252       0.246974   0.26274    0.261156\n",
       " 0.0932858  0.0938247  0.092982      0.115657   0.10887    0.105399\n",
       " 0.0        0.0        0.0           0.0        0.0        0.0     \n",
       " 0.502401   0.51502    0.517696   …  0.505556   0.491024   0.488696"
      ]
     },
     "execution_count": 3,
     "metadata": {},
     "output_type": "execute_result"
    }
   ],
   "source": [
    "repeats = 100\n",
    "n = 5000\n",
    "p = 10000\n",
    "d = NegativeBinomial\n",
    "l = LogLink()\n",
    "\n",
    "# set random seed for reproducibility\n",
    "Random.seed!(2019)\n",
    "\n",
    "# intercept\n",
    "z = ones(Float32, n, 1)\n",
    "\n",
    "#construct true model b\n",
    "true_b = zeros(p)\n",
    "true_b[1:6] = [0.01; 0.03; 0.05; 0.1; 0.25; 0.5]\n",
    "shuffle!(true_b)\n",
    "correct_position = findall(x -> x != 0, true_b)\n",
    "\n",
    "#run repeats\n",
    "@time iht_result = run_repeat(n, p, repeats, z, true_b, correct_position, d, l)"
   ]
  },
  {
   "cell_type": "code",
   "execution_count": 4,
   "metadata": {
    "collapsed": false,
    "deletable": true,
    "editable": true
   },
   "outputs": [
    {
     "data": {
      "text/plain": [
       "6×100 Array{Float64,2}:\n",
       " 0.0        0.0        0.0        …  0.0        0.0        0.0     \n",
       " 0.0        0.0        0.0801787     0.0590452  0.0561173  0.0     \n",
       " 0.252424   0.263886   0.26252       0.246974   0.26274    0.261156\n",
       " 0.0932858  0.0938247  0.092982      0.115657   0.10887    0.105399\n",
       " 0.0        0.0        0.0           0.0        0.0        0.0     \n",
       " 0.502401   0.51502    0.517696   …  0.505556   0.491024   0.488696"
      ]
     },
     "execution_count": 4,
     "metadata": {},
     "output_type": "execute_result"
    }
   ],
   "source": [
    "iht_result"
   ]
  },
  {
   "cell_type": "code",
   "execution_count": 5,
   "metadata": {
    "collapsed": false,
    "deletable": true,
    "editable": true
   },
   "outputs": [
    {
     "data": {
      "text/plain": [
       "6-element Array{Array{Float64,1},1}:\n",
       " [0.0561579, 0.0561131, 0.0603184, 0.0616651, 0.0744082, 0.055671, 0.0558102, 0.0606211, 0.0557753]                                                                                                                          \n",
       " [0.0801787, 0.0579106, 0.0810283, 0.0648133, 0.0806855, 0.0578876, 0.0700107, 0.0648967, 0.0549635, 0.0801175  …  0.0602607, 0.057151, 0.057118, 0.053157, 0.0603933, 0.0722108, 0.0552866, 0.0630291, 0.0590452, 0.0561173]\n",
       " [0.252424, 0.263886, 0.26252, 0.243379, 0.264464, 0.25534, 0.232409, 0.265255, 0.277067, 0.240343  …  0.251533, 0.258344, 0.252354, 0.210799, 0.226521, 0.265951, 0.256038, 0.246974, 0.26274, 0.261156]                    \n",
       " [0.0932858, 0.0938247, 0.092982, 0.0917915, 0.10039, 0.0952722, 0.0718392, 0.0969534, 0.0842929, 0.111284  …  0.10679, 0.0922044, 0.102391, 0.121979, 0.10211, 0.092383, 0.0937393, 0.115657, 0.10887, 0.105399]            \n",
       " []                                                                                                                                                                                                                          \n",
       " [0.502401, 0.51502, 0.517696, 0.484968, 0.510251, 0.50843, 0.502705, 0.506785, 0.507717, 0.492458  …  0.490112, 0.511486, 0.500657, 0.501901, 0.515082, 0.509044, 0.536117, 0.505556, 0.491024, 0.488696]                   "
      ]
     },
     "execution_count": 5,
     "metadata": {},
     "output_type": "execute_result"
    }
   ],
   "source": [
    "iht_non_zero = [iht_result[i, findall(!iszero, iht_result[i, :])] for i in 1:6]"
   ]
  },
  {
   "cell_type": "code",
   "execution_count": 6,
   "metadata": {
    "collapsed": false,
    "deletable": true,
    "editable": true
   },
   "outputs": [
    {
     "data": {
      "text/plain": [
       "6-element Array{Float64,1}:\n",
       "   0.05961559505926238\n",
       "   0.0635398430306287 \n",
       "   0.24841989755630492\n",
       "   0.10099200211465359\n",
       " NaN                  \n",
       "   0.5021571403741837 "
      ]
     },
     "execution_count": 6,
     "metadata": {},
     "output_type": "execute_result"
    }
   ],
   "source": [
    "iht_non_zero_mean = mean.(iht_non_zero)"
   ]
  },
  {
   "cell_type": "code",
   "execution_count": 7,
   "metadata": {
    "collapsed": false,
    "deletable": true,
    "editable": true
   },
   "outputs": [
    {
     "data": {
      "text/plain": [
       "6-element Array{Float64,1}:\n",
       "   0.0060574330143880585\n",
       "   0.007947521576018116 \n",
       "   0.013819632207345202 \n",
       "   0.014142077852623813 \n",
       " NaN                    \n",
       "   0.013166054672465843 "
      ]
     },
     "execution_count": 7,
     "metadata": {},
     "output_type": "execute_result"
    }
   ],
   "source": [
    "iht_non_zero_std = std.(iht_non_zero)"
   ]
  },
  {
   "cell_type": "code",
   "execution_count": 8,
   "metadata": {
    "collapsed": false
   },
   "outputs": [
    {
     "data": {
      "text/html": [
       "<table class=\"data-frame\"><thead><tr><th></th><th>true_β</th><th>β_IHT_mean</th><th>β_IHT_std</th></tr><tr><th></th><th>Float64</th><th>Float64</th><th>Float64</th></tr></thead><tbody><p>6 rows × 3 columns</p><tr><th>1</th><td>0.03</td><td>0.0596156</td><td>0.00605743</td></tr><tr><th>2</th><td>0.05</td><td>0.0635398</td><td>0.00794752</td></tr><tr><th>3</th><td>0.25</td><td>0.24842</td><td>0.0138196</td></tr><tr><th>4</th><td>0.1</td><td>0.100992</td><td>0.0141421</td></tr><tr><th>5</th><td>0.01</td><td>NaN</td><td>NaN</td></tr><tr><th>6</th><td>0.5</td><td>0.502157</td><td>0.0131661</td></tr></tbody></table>"
      ],
      "text/latex": [
       "\\begin{tabular}{r|ccc}\n",
       "\t& true\\_β & β\\_IHT\\_mean & β\\_IHT\\_std\\\\\n",
       "\t\\hline\n",
       "\t& Float64 & Float64 & Float64\\\\\n",
       "\t\\hline\n",
       "\t1 & 0.03 & 0.0596156 & 0.00605743 \\\\\n",
       "\t2 & 0.05 & 0.0635398 & 0.00794752 \\\\\n",
       "\t3 & 0.25 & 0.24842 & 0.0138196 \\\\\n",
       "\t4 & 0.1 & 0.100992 & 0.0141421 \\\\\n",
       "\t5 & 0.01 & NaN & NaN \\\\\n",
       "\t6 & 0.5 & 0.502157 & 0.0131661 \\\\\n",
       "\\end{tabular}\n"
      ],
      "text/plain": [
       "6×3 DataFrame\n",
       "│ Row │ true_β  │ β_IHT_mean │ β_IHT_std  │\n",
       "│     │ \u001b[90mFloat64\u001b[39m │ \u001b[90mFloat64\u001b[39m    │ \u001b[90mFloat64\u001b[39m    │\n",
       "├─────┼─────────┼────────────┼────────────┤\n",
       "│ 1   │ 0.03    │ 0.0596156  │ 0.00605743 │\n",
       "│ 2   │ 0.05    │ 0.0635398  │ 0.00794752 │\n",
       "│ 3   │ 0.25    │ 0.24842    │ 0.0138196  │\n",
       "│ 4   │ 0.1     │ 0.100992   │ 0.0141421  │\n",
       "│ 5   │ 0.01    │ NaN        │ NaN        │\n",
       "│ 6   │ 0.5     │ 0.502157   │ 0.0131661  │"
      ]
     },
     "execution_count": 8,
     "metadata": {},
     "output_type": "execute_result"
    }
   ],
   "source": [
    "final = DataFrame(\n",
    "    true_β = true_b[correct_position],\n",
    "    β_IHT_mean = iht_non_zero_mean, \n",
    "    β_IHT_std = iht_non_zero_std)"
   ]
  },
  {
   "cell_type": "code",
   "execution_count": null,
   "metadata": {
    "collapsed": true,
    "deletable": true,
    "editable": true
   },
   "outputs": [],
   "source": []
  }
 ],
 "metadata": {
  "kernelspec": {
   "display_name": "Julia 1.0.1",
   "language": "julia",
   "name": "julia-1.0"
  },
  "language_info": {
   "file_extension": ".jl",
   "mimetype": "application/julia",
   "name": "julia",
   "version": "1.0.1"
  }
 },
 "nbformat": 4,
 "nbformat_minor": 2
}
