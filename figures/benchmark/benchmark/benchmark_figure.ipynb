{
 "cells": [
  {
   "cell_type": "markdown",
   "metadata": {},
   "source": [
    "# Benchmark results\n",
    "\n",
    "This section investigates how scalable is our software. We report median run time and memory usage for our core functions `L0_normal_reg`, `L0_logistic_reg`, and `L0_poisson_reg` on 1 million SNPs with sample sizes ranging from 10000, 20000, ..., 120000 with 5 separate runs. Every run is performed on a intel-E5-2670 machine which has 63G of RAM and 3.3GHz processor. "
   ]
  },
  {
   "cell_type": "code",
   "execution_count": 48,
   "metadata": {
    "collapsed": true
   },
   "outputs": [],
   "source": [
    "using DelimitedFiles\n",
    "using DataFrames\n",
    "using Statistics\n",
    "using Plots\n",
    "using StatPlots"
   ]
  },
  {
   "cell_type": "code",
   "execution_count": 24,
   "metadata": {
    "collapsed": false
   },
   "outputs": [
    {
     "data": {
      "text/plain": [
       "6-element Array{String,1}:\n",
       " \"normal_results_nodebias\"  \n",
       " \"normal_results\"           \n",
       " \"logistic_results_nodebias\"\n",
       " \"logistic_results\"         \n",
       " \"poisson_results_nodebias\" \n",
       " \"poisson_results\"          "
      ]
     },
     "execution_count": 24,
     "metadata": {},
     "output_type": "execute_result"
    }
   ],
   "source": [
    "#specify directories for different benchmark results\n",
    "dir_normal = \"normal_results\"\n",
    "dir_normal_nodebias = \"normal_results_nodebias\"\n",
    "dir_logistic = \"logistic_results\"\n",
    "dir_logistic_nodebias = \"logistic_results_nodebias\"\n",
    "dir_poisson = \"poisson_results\"\n",
    "dir_poisson_nodebias = \"poisson_results_nodebias\"\n",
    "\n",
    "all_dir = [dir_normal_nodebias; dir_normal; dir_logistic_nodebias; dir_logistic; \n",
    "        dir_poisson_nodebias; dir_poisson]"
   ]
  },
  {
   "cell_type": "code",
   "execution_count": 89,
   "metadata": {
    "collapsed": false,
    "scrolled": true
   },
   "outputs": [],
   "source": [
    "all_benchmark_results = Vector{Matrix}(undef, 6)\n",
    "for k in 1:length(all_dir)\n",
    "    dir = all_dir[k]\n",
    "    cur_response = zeros(12, 3)\n",
    "    for i in 1:12\n",
    "        a_particular_run = DataFrame(time=Float64[], memory=Float64[], iteration=Float64[])\n",
    "        for j in 1:5\n",
    "            file_dir = dir * \"/\" * string(10000i) * \"_by_1000000_run$j\"\n",
    "            if isfile(file_dir)\n",
    "                tmp_run = readdlm(file_dir, ',', header=true)\n",
    "                #tmp_run[1][1] = tmp_run[1][1] / tmp_run[1][3] #divide time by iteration number\n",
    "                push!(a_particular_run, tmp_run[1])\n",
    "            else\n",
    "                #println(file_dir * \" does not exist!\")\n",
    "            end\n",
    "        end\n",
    "        \n",
    "        if size(a_particular_run, 1) > 0\n",
    "            cur_response[i, 1] = median(a_particular_run[:, 1])\n",
    "            cur_response[i, 2] = median(a_particular_run[:, 2])\n",
    "            cur_response[i, 3] = median(a_particular_run[:, 3])\n",
    "        else\n",
    "            #what to do with missing data = benchmark code didn't run\n",
    "            cur_response[i, 1] = 0\n",
    "            cur_response[i, 2] = 0\n",
    "            cur_response[i, 3] = 0\n",
    "        end\n",
    "    end\n",
    "    all_benchmark_results[k] = cur_response\n",
    "end"
   ]
  },
  {
   "cell_type": "code",
   "execution_count": 84,
   "metadata": {
    "collapsed": false
   },
   "outputs": [
    {
     "data": {
      "text/plain": [
       "12×3 Array{Float64,2}:\n",
       "  1345.57   2823.33  24.0\n",
       "  7669.97   5986.1   73.0\n",
       "  5665.76   8100.66  35.0\n",
       "  4299.29  10394.1   19.0\n",
       " 10956.5   13332.7   41.0\n",
       "     0.0       0.0    0.0\n",
       "  5023.61  17887.8   12.0\n",
       "  3716.16  20267.1    7.0\n",
       "     0.0       0.0    0.0\n",
       "  9193.37  25500.7   16.0\n",
       "     0.0       0.0    0.0\n",
       "  7388.75  30466.9   10.0"
      ]
     },
     "execution_count": 84,
     "metadata": {},
     "output_type": "execute_result"
    }
   ],
   "source": [
    "model_sizes = collect(10:10:120)\n",
    "normal_results_nodebias = all_benchmark_results[1]\n",
    "normal_results = all_benchmark_results[2]\n",
    "logistic_results_nodebias = all_benchmark_results[3]\n",
    "logistic_results = all_benchmark_results[4]\n",
    "poisson_results_nodebias = all_benchmark_results[5]\n",
    "poisson_results = all_benchmark_results[6]"
   ]
  },
  {
   "cell_type": "code",
   "execution_count": 88,
   "metadata": {
    "collapsed": false
   },
   "outputs": [
    {
     "data": {
      "image/svg+xml": [
       "<?xml version=\"1.0\" encoding=\"utf-8\"?>\n",
       "<svg xmlns=\"http://www.w3.org/2000/svg\" xmlns:xlink=\"http://www.w3.org/1999/xlink\" width=\"600\" height=\"400\" viewBox=\"0 0 2400 1600\">\n",
       "<defs>\n",
       "  <clipPath id=\"clip9600\">\n",
       "    <rect x=\"0\" y=\"0\" width=\"2000\" height=\"2000\"/>\n",
       "  </clipPath>\n",
       "</defs>\n",
       "<defs>\n",
       "  <clipPath id=\"clip9601\">\n",
       "    <rect x=\"0\" y=\"0\" width=\"2400\" height=\"1600\"/>\n",
       "  </clipPath>\n",
       "</defs>\n",
       "<polygon clip-path=\"url(#clip9601)\" points=\"\n",
       "0,1600 2400,1600 2400,0 0,0 \n",
       "  \" fill=\"#ffffff\" fill-rule=\"evenodd\" fill-opacity=\"1\"/>\n",
       "<defs>\n",
       "  <clipPath id=\"clip9602\">\n",
       "    <rect x=\"480\" y=\"0\" width=\"1681\" height=\"1600\"/>\n",
       "  </clipPath>\n",
       "</defs>\n",
       "<polygon clip-path=\"url(#clip9601)\" points=\"\n",
       "228.3,1503.47 2321.26,1503.47 2321.26,47.2441 228.3,47.2441 \n",
       "  \" fill=\"#ffffff\" fill-rule=\"evenodd\" fill-opacity=\"1\"/>\n",
       "<defs>\n",
       "  <clipPath id=\"clip9603\">\n",
       "    <rect x=\"228\" y=\"47\" width=\"2094\" height=\"1457\"/>\n",
       "  </clipPath>\n",
       "</defs>\n",
       "<polyline clip-path=\"url(#clip9603)\" style=\"stroke:#000000; stroke-width:2; stroke-opacity:0.1; fill:none\" points=\"\n",
       "  556.783,1503.47 556.783,47.2441 \n",
       "  \"/>\n",
       "<polyline clip-path=\"url(#clip9603)\" style=\"stroke:#000000; stroke-width:2; stroke-opacity:0.1; fill:none\" points=\"\n",
       "  1005.53,1503.47 1005.53,47.2441 \n",
       "  \"/>\n",
       "<polyline clip-path=\"url(#clip9603)\" style=\"stroke:#000000; stroke-width:2; stroke-opacity:0.1; fill:none\" points=\"\n",
       "  1454.28,1503.47 1454.28,47.2441 \n",
       "  \"/>\n",
       "<polyline clip-path=\"url(#clip9603)\" style=\"stroke:#000000; stroke-width:2; stroke-opacity:0.1; fill:none\" points=\"\n",
       "  1903.03,1503.47 1903.03,47.2441 \n",
       "  \"/>\n",
       "<polyline clip-path=\"url(#clip9603)\" style=\"stroke:#000000; stroke-width:2; stroke-opacity:0.1; fill:none\" points=\"\n",
       "  228.3,1462.26 2321.26,1462.26 \n",
       "  \"/>\n",
       "<polyline clip-path=\"url(#clip9603)\" style=\"stroke:#000000; stroke-width:2; stroke-opacity:0.1; fill:none\" points=\"\n",
       "  228.3,1148.79 2321.26,1148.79 \n",
       "  \"/>\n",
       "<polyline clip-path=\"url(#clip9603)\" style=\"stroke:#000000; stroke-width:2; stroke-opacity:0.1; fill:none\" points=\"\n",
       "  228.3,835.327 2321.26,835.327 \n",
       "  \"/>\n",
       "<polyline clip-path=\"url(#clip9603)\" style=\"stroke:#000000; stroke-width:2; stroke-opacity:0.1; fill:none\" points=\"\n",
       "  228.3,521.86 2321.26,521.86 \n",
       "  \"/>\n",
       "<polyline clip-path=\"url(#clip9603)\" style=\"stroke:#000000; stroke-width:2; stroke-opacity:0.1; fill:none\" points=\"\n",
       "  228.3,208.394 2321.26,208.394 \n",
       "  \"/>\n",
       "<polyline clip-path=\"url(#clip9601)\" style=\"stroke:#000000; stroke-width:4; stroke-opacity:1; fill:none\" points=\"\n",
       "  228.3,1503.47 2321.26,1503.47 \n",
       "  \"/>\n",
       "<polyline clip-path=\"url(#clip9601)\" style=\"stroke:#000000; stroke-width:4; stroke-opacity:1; fill:none\" points=\"\n",
       "  228.3,1503.47 228.3,47.2441 \n",
       "  \"/>\n",
       "<polyline clip-path=\"url(#clip9601)\" style=\"stroke:#000000; stroke-width:4; stroke-opacity:1; fill:none\" points=\"\n",
       "  556.783,1503.47 556.783,1481.63 \n",
       "  \"/>\n",
       "<polyline clip-path=\"url(#clip9601)\" style=\"stroke:#000000; stroke-width:4; stroke-opacity:1; fill:none\" points=\"\n",
       "  1005.53,1503.47 1005.53,1481.63 \n",
       "  \"/>\n",
       "<polyline clip-path=\"url(#clip9601)\" style=\"stroke:#000000; stroke-width:4; stroke-opacity:1; fill:none\" points=\"\n",
       "  1454.28,1503.47 1454.28,1481.63 \n",
       "  \"/>\n",
       "<polyline clip-path=\"url(#clip9601)\" style=\"stroke:#000000; stroke-width:4; stroke-opacity:1; fill:none\" points=\"\n",
       "  1903.03,1503.47 1903.03,1481.63 \n",
       "  \"/>\n",
       "<polyline clip-path=\"url(#clip9601)\" style=\"stroke:#000000; stroke-width:4; stroke-opacity:1; fill:none\" points=\"\n",
       "  228.3,1462.26 259.694,1462.26 \n",
       "  \"/>\n",
       "<polyline clip-path=\"url(#clip9601)\" style=\"stroke:#000000; stroke-width:4; stroke-opacity:1; fill:none\" points=\"\n",
       "  228.3,1148.79 259.694,1148.79 \n",
       "  \"/>\n",
       "<polyline clip-path=\"url(#clip9601)\" style=\"stroke:#000000; stroke-width:4; stroke-opacity:1; fill:none\" points=\"\n",
       "  228.3,835.327 259.694,835.327 \n",
       "  \"/>\n",
       "<polyline clip-path=\"url(#clip9601)\" style=\"stroke:#000000; stroke-width:4; stroke-opacity:1; fill:none\" points=\"\n",
       "  228.3,521.86 259.694,521.86 \n",
       "  \"/>\n",
       "<polyline clip-path=\"url(#clip9601)\" style=\"stroke:#000000; stroke-width:4; stroke-opacity:1; fill:none\" points=\"\n",
       "  228.3,208.394 259.694,208.394 \n",
       "  \"/>\n",
       "<g clip-path=\"url(#clip9601)\">\n",
       "<text style=\"fill:#000000; fill-opacity:1; font-family:Arial,Helvetica Neue,Helvetica,sans-serif; font-size:48px; text-anchor:middle;\" transform=\"rotate(0, 556.783, 1557.47)\" x=\"556.783\" y=\"1557.47\">25</text>\n",
       "</g>\n",
       "<g clip-path=\"url(#clip9601)\">\n",
       "<text style=\"fill:#000000; fill-opacity:1; font-family:Arial,Helvetica Neue,Helvetica,sans-serif; font-size:48px; text-anchor:middle;\" transform=\"rotate(0, 1005.53, 1557.47)\" x=\"1005.53\" y=\"1557.47\">50</text>\n",
       "</g>\n",
       "<g clip-path=\"url(#clip9601)\">\n",
       "<text style=\"fill:#000000; fill-opacity:1; font-family:Arial,Helvetica Neue,Helvetica,sans-serif; font-size:48px; text-anchor:middle;\" transform=\"rotate(0, 1454.28, 1557.47)\" x=\"1454.28\" y=\"1557.47\">75</text>\n",
       "</g>\n",
       "<g clip-path=\"url(#clip9601)\">\n",
       "<text style=\"fill:#000000; fill-opacity:1; font-family:Arial,Helvetica Neue,Helvetica,sans-serif; font-size:48px; text-anchor:middle;\" transform=\"rotate(0, 1903.03, 1557.47)\" x=\"1903.03\" y=\"1557.47\">100</text>\n",
       "</g>\n",
       "<g clip-path=\"url(#clip9601)\">\n",
       "<text style=\"fill:#000000; fill-opacity:1; font-family:Arial,Helvetica Neue,Helvetica,sans-serif; font-size:48px; text-anchor:end;\" transform=\"rotate(0, 204.3, 1479.76)\" x=\"204.3\" y=\"1479.76\">0</text>\n",
       "</g>\n",
       "<g clip-path=\"url(#clip9601)\">\n",
       "<text style=\"fill:#000000; fill-opacity:1; font-family:Arial,Helvetica Neue,Helvetica,sans-serif; font-size:48px; text-anchor:end;\" transform=\"rotate(0, 204.3, 1166.29)\" x=\"204.3\" y=\"1166.29\">2500</text>\n",
       "</g>\n",
       "<g clip-path=\"url(#clip9601)\">\n",
       "<text style=\"fill:#000000; fill-opacity:1; font-family:Arial,Helvetica Neue,Helvetica,sans-serif; font-size:48px; text-anchor:end;\" transform=\"rotate(0, 204.3, 852.827)\" x=\"204.3\" y=\"852.827\">5000</text>\n",
       "</g>\n",
       "<g clip-path=\"url(#clip9601)\">\n",
       "<text style=\"fill:#000000; fill-opacity:1; font-family:Arial,Helvetica Neue,Helvetica,sans-serif; font-size:48px; text-anchor:end;\" transform=\"rotate(0, 204.3, 539.36)\" x=\"204.3\" y=\"539.36\">7500</text>\n",
       "</g>\n",
       "<g clip-path=\"url(#clip9601)\">\n",
       "<text style=\"fill:#000000; fill-opacity:1; font-family:Arial,Helvetica Neue,Helvetica,sans-serif; font-size:48px; text-anchor:end;\" transform=\"rotate(0, 204.3, 225.894)\" x=\"204.3\" y=\"225.894\">10000</text>\n",
       "</g>\n",
       "<polyline clip-path=\"url(#clip9603)\" style=\"stroke:#009af9; stroke-width:4; stroke-opacity:1; fill:none\" points=\"\n",
       "  287.535,1428.61 467.034,1408.74 646.533,1382.33 826.032,1355.69 1005.53,1296.55 1185.03,1263.48 1364.53,1275.89 1544.03,1249.09 1723.53,1221.05 1903.03,1196.23 \n",
       "  2082.53,1462.26 2262.03,1142.7 \n",
       "  \"/>\n",
       "<polyline clip-path=\"url(#clip9603)\" style=\"stroke:#e26f46; stroke-width:4; stroke-opacity:1; fill:none\" points=\"\n",
       "  287.535,1415.47 467.034,1408.54 646.533,1284.33 826.032,1355.27 1005.53,1263.56 1185.03,1184.96 1364.53,1229.78 1544.03,1041.32 1723.53,988.532 1903.03,1193.42 \n",
       "  2082.53,882.757 2262.03,1139.89 \n",
       "  \"/>\n",
       "<polyline clip-path=\"url(#clip9603)\" style=\"stroke:#3da44d; stroke-width:4; stroke-opacity:1; fill:none\" points=\"\n",
       "  287.535,1293.54 467.034,500.548 646.533,751.85 826.032,923.187 1005.53,88.4582 1185.03,1462.26 1364.53,832.366 1544.03,996.304 1723.53,1462.26 1903.03,309.535 \n",
       "  2082.53,1462.26 2262.03,535.81 \n",
       "  \"/>\n",
       "<polygon clip-path=\"url(#clip9601)\" points=\"\n",
       "1958.43,372.684 2249.26,372.684 2249.26,130.764 1958.43,130.764 \n",
       "  \" fill=\"#ffffff\" fill-rule=\"evenodd\" fill-opacity=\"1\"/>\n",
       "<polyline clip-path=\"url(#clip9601)\" style=\"stroke:#000000; stroke-width:4; stroke-opacity:1; fill:none\" points=\"\n",
       "  1958.43,372.684 2249.26,372.684 2249.26,130.764 1958.43,130.764 1958.43,372.684 \n",
       "  \"/>\n",
       "<polyline clip-path=\"url(#clip9601)\" style=\"stroke:#009af9; stroke-width:4; stroke-opacity:1; fill:none\" points=\"\n",
       "  1982.43,191.244 2126.43,191.244 \n",
       "  \"/>\n",
       "<g clip-path=\"url(#clip9601)\">\n",
       "<text style=\"fill:#000000; fill-opacity:1; font-family:Arial,Helvetica Neue,Helvetica,sans-serif; font-size:48px; text-anchor:start;\" transform=\"rotate(0, 2150.43, 208.744)\" x=\"2150.43\" y=\"208.744\">y1</text>\n",
       "</g>\n",
       "<polyline clip-path=\"url(#clip9601)\" style=\"stroke:#e26f46; stroke-width:4; stroke-opacity:1; fill:none\" points=\"\n",
       "  1982.43,251.724 2126.43,251.724 \n",
       "  \"/>\n",
       "<g clip-path=\"url(#clip9601)\">\n",
       "<text style=\"fill:#000000; fill-opacity:1; font-family:Arial,Helvetica Neue,Helvetica,sans-serif; font-size:48px; text-anchor:start;\" transform=\"rotate(0, 2150.43, 269.224)\" x=\"2150.43\" y=\"269.224\">y2</text>\n",
       "</g>\n",
       "<polyline clip-path=\"url(#clip9601)\" style=\"stroke:#3da44d; stroke-width:4; stroke-opacity:1; fill:none\" points=\"\n",
       "  1982.43,312.204 2126.43,312.204 \n",
       "  \"/>\n",
       "<g clip-path=\"url(#clip9601)\">\n",
       "<text style=\"fill:#000000; fill-opacity:1; font-family:Arial,Helvetica Neue,Helvetica,sans-serif; font-size:48px; text-anchor:start;\" transform=\"rotate(0, 2150.43, 329.704)\" x=\"2150.43\" y=\"329.704\">y3</text>\n",
       "</g>\n",
       "</svg>\n"
      ]
     },
     "execution_count": 88,
     "metadata": {},
     "output_type": "execute_result"
    }
   ],
   "source": [
    "# no_debias_times = DataFrame(Normal   = normal_results_nodebias[:, 1],\n",
    "#                             Logistic = logistic_results_nodebias[:, 1],\n",
    "#                             Poisson  = poisson_results_nodebias[:, 1])\n",
    "no_debias_times = [normal_results_nodebias[:, 1] logistic_results_nodebias[:, 1] poisson_results_nodebias[:, 1]]\n",
    "yes_debias_times = [normal_results[:, 1] logistic_results[:, 1] poisson_results[:, 1]]\n",
    "plot(model_sizes, yes_debias_times)"
   ]
  },
  {
   "cell_type": "code",
   "execution_count": 66,
   "metadata": {
    "collapsed": false
   },
   "outputs": [
    {
     "data": {
      "text/plain": [
       "0.0"
      ]
     },
     "execution_count": 66,
     "metadata": {},
     "output_type": "execute_result"
    }
   ],
   "source": [
    "no_debias_times[zero_idx[1]]"
   ]
  },
  {
   "cell_type": "code",
   "execution_count": 77,
   "metadata": {
    "collapsed": false
   },
   "outputs": [
    {
     "ename": "ArgumentError",
     "evalue": "ArgumentError: Package StatPlots not found in current path:\n- Run `import Pkg; Pkg.add(\"StatPlots\")` to install the StatPlots package.\n",
     "output_type": "error",
     "traceback": [
      "ArgumentError: Package StatPlots not found in current path:\n- Run `import Pkg; Pkg.add(\"StatPlots\")` to install the StatPlots package.\n",
      "",
      "Stacktrace:",
      " [1] require(::Module, ::Symbol) at ./loading.jl:823",
      " [2] top-level scope at In[77]:1"
     ]
    }
   ],
   "source": [
    "using StatPlots, DataFrames\n",
    "mydata = DataFrame(a = [1,missing,3], b = [2,3,4])\n",
    "@df mydata line(model_sizes, :b)"
   ]
  },
  {
   "cell_type": "code",
   "execution_count": null,
   "metadata": {
    "collapsed": true
   },
   "outputs": [],
   "source": []
  }
 ],
 "metadata": {
  "kernelspec": {
   "display_name": "Julia 1.0.3",
   "language": "julia",
   "name": "julia-1.0"
  },
  "language_info": {
   "file_extension": ".jl",
   "mimetype": "application/julia",
   "name": "julia",
   "version": "1.0.3"
  }
 },
 "nbformat": 4,
 "nbformat_minor": 2
}
