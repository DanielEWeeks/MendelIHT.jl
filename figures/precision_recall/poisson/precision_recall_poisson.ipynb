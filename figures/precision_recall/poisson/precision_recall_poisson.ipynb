{
 "cells": [
  {
   "cell_type": "markdown",
   "metadata": {
    "deletable": true,
    "editable": true
   },
   "source": [
    "# Poisson: IHT vs LASSO vs Marginal regression: comparing false positive/negatives\n",
    "\n",
    "Marginal regression is the most prevalent method used to analyze GWAS data. LASSO is currently the de facto penalized least squares method for [feature selection](https://en.wikipedia.org/wiki/Feature_selection). Here we compare the performance (in terms of the number of false positives/negative) of LASSO and marginal regression with IHT for GWAS data. We use the `glmnet` implementation of cyclic coordinate descent for LASSO, and `MendelGWAS.jl` module of [OpenMendel](https://openmendel.github.io/MendelGWAS.jl/) for marginal analysis. Since the focus here is not scalability, we test our sample problems on moderately sized genotype matrces of 1000 samples with 10,000 SNPs."
   ]
  },
  {
   "cell_type": "code",
   "execution_count": 1,
   "metadata": {
    "collapsed": false,
    "deletable": true,
    "editable": true
   },
   "outputs": [
    {
     "data": {
      "text/plain": [
       "21"
      ]
     },
     "execution_count": 1,
     "metadata": {},
     "output_type": "execute_result"
    }
   ],
   "source": [
    "using Distributed\n",
    "addprocs(20)\n",
    "nprocs()"
   ]
  },
  {
   "cell_type": "code",
   "execution_count": 2,
   "metadata": {
    "collapsed": false,
    "deletable": true,
    "editable": true
   },
   "outputs": [
    {
     "name": "stderr",
     "output_type": "stream",
     "text": [
      "┌ Info: Recompiling stale cache file /u/home/b/biona001/.julia/compiled/v1.0/MendelGWAS/y6a7g.ji for MendelGWAS [c1bad3ca-268b-5bf6-b82e-de8a361f94db]\n",
      "└ @ Base loading.jl:1187\n",
      "┌ Info: Loading DataFrames support into Gadfly.jl\n",
      "└ @ Gadfly /u/home/b/biona001/.julia/packages/Gadfly/09PWZ/src/mapping.jl:228\n",
      "[ Info: Loading DataFrames support into Gadfly.jl\n",
      "[ Info: Loading DataFrames support into Gadfly.jl\n",
      "[ Info: Loading DataFrames support into Gadfly.jl\n",
      "[ Info: Loading DataFrames support into Gadfly.jl\n",
      "[ Info: Loading DataFrames support into Gadfly.jl\n",
      "[ Info: Loading DataFrames support into Gadfly.jl\n",
      "[ Info: Loading DataFrames support into Gadfly.jl\n",
      "[ Info: Loading DataFrames support into Gadfly.jl\n",
      "[ Info: Loading DataFrames support into Gadfly.jl\n",
      "[ Info: Loading DataFrames support into Gadfly.jl\n",
      "[ Info: Loading DataFrames support into Gadfly.jl\n",
      "[ Info: Loading DataFrames support into Gadfly.jl\n",
      "[ Info: Loading DataFrames support into Gadfly.jl\n",
      "[ Info: Loading DataFrames support into Gadfly.jl\n",
      "[ Info: Loading DataFrames support into Gadfly.jl\n",
      "[ Info: Loading DataFrames support into Gadfly.jl\n",
      "[ Info: Loading DataFrames support into Gadfly.jl\n",
      "[ Info: Loading DataFrames support into Gadfly.jl\n",
      "[ Info: Loading DataFrames support into Gadfly.jl\n",
      "[ Info: Loading DataFrames support into Gadfly.jl\n",
      "┌ Info: Recompiling stale cache file /u/home/b/biona001/.julia/compiled/v1.0/RCall/8GFyb.ji for RCall [6f49c342-dc21-5d91-9882-a32aef131414]\n",
      "└ @ Base loading.jl:1187\n",
      "┌ Warning: RCall.jl: During startup - Warning message:\n",
      "│ Setting LC_CTYPE failed, using \"C\" \n",
      "└ @ RCall /u/home/b/biona001/.julia/packages/RCall/ffM0W/src/io.jl:113\n",
      "┌ Warning: RCall.jl: During startup - Warning message:\n",
      "│ Setting LC_CTYPE failed, using \"C\" \n",
      "└ @ RCall ~/.julia/packages/RCall/ffM0W/src/io.jl:113\n",
      "┌ Warning: RCall.jl: During startup - Warning message:\n",
      "│ Setting LC_CTYPE failed, using \"C\" \n",
      "└ @ RCall ~/.julia/packages/RCall/ffM0W/src/io.jl:113\n",
      "┌ Warning: RCall.jl: During startup - Warning message:\n",
      "│ Setting LC_CTYPE failed, using \"C\" \n",
      "└ @ RCall ~/.julia/packages/RCall/ffM0W/src/io.jl:113\n",
      "┌ Warning: RCall.jl: During startup - Warning message:\n",
      "│ Setting LC_CTYPE failed, using \"C\" \n",
      "└ @ RCall ~/.julia/packages/RCall/ffM0W/src/io.jl:113\n",
      "┌ Warning: RCall.jl: During startup - Warning message:\n",
      "│ Setting LC_CTYPE failed, using \"C\" \n",
      "└ @ RCall ~/.julia/packages/RCall/ffM0W/src/io.jl:113\n",
      "┌ Warning: RCall.jl: During startup - Warning message:\n",
      "│ Setting LC_CTYPE failed, using \"C\" \n",
      "└ @ RCall ~/.julia/packages/RCall/ffM0W/src/io.jl:113\n",
      "┌ Warning: RCall.jl: During startup - Warning message:\n",
      "│ Setting LC_CTYPE failed, using \"C\" \n",
      "└ @ RCall ~/.julia/packages/RCall/ffM0W/src/io.jl:113\n",
      "┌ Warning: RCall.jl: During startup - Warning message:\n",
      "│ Setting LC_CTYPE failed, using \"C\" \n",
      "└ @ RCall ~/.julia/packages/RCall/ffM0W/src/io.jl:113\n",
      "┌ Warning: RCall.jl: During startup - Warning message:\n",
      "│ Setting LC_CTYPE failed, using \"C\" \n",
      "└ @ RCall ~/.julia/packages/RCall/ffM0W/src/io.jl:113\n",
      "┌ Warning: RCall.jl: During startup - Warning message:\n",
      "│ Setting LC_CTYPE failed, using \"C\" \n",
      "└ @ RCall ~/.julia/packages/RCall/ffM0W/src/io.jl:113\n",
      "┌ Warning: RCall.jl: During startup - Warning message:\n",
      "│ Setting LC_CTYPE failed, using \"C\" \n",
      "└ @ RCall ~/.julia/packages/RCall/ffM0W/src/io.jl:113\n",
      "┌ Warning: RCall.jl: During startup - Warning message:\n",
      "│ Setting LC_CTYPE failed, using \"C\" \n",
      "└ @ RCall ~/.julia/packages/RCall/ffM0W/src/io.jl:113\n",
      "┌ Warning: RCall.jl: During startup - Warning message:\n",
      "│ Setting LC_CTYPE failed, using \"C\" \n",
      "└ @ RCall ~/.julia/packages/RCall/ffM0W/src/io.jl:113\n",
      "┌ Warning: RCall.jl: During startup - Warning message:\n",
      "│ Setting LC_CTYPE failed, using \"C\" \n",
      "└ @ RCall ~/.julia/packages/RCall/ffM0W/src/io.jl:113\n",
      "┌ Warning: RCall.jl: During startup - Warning message:\n",
      "│ Setting LC_CTYPE failed, using \"C\" \n",
      "└ @ RCall ~/.julia/packages/RCall/ffM0W/src/io.jl:113\n",
      "┌ Warning: RCall.jl: During startup - Warning message:\n",
      "│ Setting LC_CTYPE failed, using \"C\" \n",
      "└ @ RCall ~/.julia/packages/RCall/ffM0W/src/io.jl:113\n",
      "┌ Warning: RCall.jl: During startup - Warning message:\n",
      "│ Setting LC_CTYPE failed, using \"C\" \n",
      "└ @ RCall ~/.julia/packages/RCall/ffM0W/src/io.jl:113\n",
      "┌ Warning: RCall.jl: During startup - Warning message:\n",
      "│ Setting LC_CTYPE failed, using \"C\" \n",
      "└ @ RCall ~/.julia/packages/RCall/ffM0W/src/io.jl:113\n",
      "┌ Warning: RCall.jl: During startup - Warning message:\n",
      "│ Setting LC_CTYPE failed, using \"C\" \n",
      "└ @ RCall ~/.julia/packages/RCall/ffM0W/src/io.jl:113\n",
      "┌ Warning: RCall.jl: During startup - Warning message:\n",
      "│ Setting LC_CTYPE failed, using \"C\" \n",
      "└ @ RCall ~/.julia/packages/RCall/ffM0W/src/io.jl:113\n",
      "┌ Warning: RCall.jl: Loading required package: Matrix\n",
      "│ Loading required package: foreach\n",
      "│ Loaded glmnet 2.0-16\n",
      "│ \n",
      "└ @ RCall /u/home/b/biona001/.julia/packages/RCall/ffM0W/src/io.jl:113\n"
     ]
    },
    {
     "data": {
      "text/plain": [
       "RObject{StrSxp}\n",
       " [1] \"glmnet\"    \"foreach\"   \"Matrix\"    \"stats\"     \"graphics\"  \"grDevices\"\n",
       " [7] \"utils\"     \"datasets\"  \"methods\"   \"base\"     \n"
      ]
     },
     "execution_count": 2,
     "metadata": {},
     "output_type": "execute_result"
    }
   ],
   "source": [
    "using MendelIHT\n",
    "using SnpArrays\n",
    "using DataFrames\n",
    "using Distributions\n",
    "using Random\n",
    "using LinearAlgebra\n",
    "using DelimitedFiles\n",
    "using GLM\n",
    "using MendelGWAS\n",
    "using CSV\n",
    "using RCall\n",
    "R\"library(glmnet)\""
   ]
  },
  {
   "cell_type": "code",
   "execution_count": 8,
   "metadata": {
    "collapsed": false
   },
   "outputs": [
    {
     "name": "stderr",
     "output_type": "stream",
     "text": [
      "┌ Warning: RCall.jl: Loading required package: pscl\n",
      "│ Classes and Methods for R developed in the\n",
      "│ Political Science Computational Laboratory\n",
      "│ Department of Political Science\n",
      "│ Stanford University\n",
      "│ Simon Jackman\n",
      "│ hurdle and zeroinfl functions by Achim Zeileis\n",
      "└ @ RCall /u/home/b/biona001/.julia/packages/RCall/ffM0W/src/io.jl:113\n"
     ]
    },
    {
     "data": {
      "text/plain": [
       "RObject{LglSxp}\n",
       "[1] TRUE\n"
      ]
     },
     "execution_count": 8,
     "metadata": {},
     "output_type": "execute_result"
    }
   ],
   "source": [
    "R\"require(pscl)\"\n",
    "R\"require(boot)\""
   ]
  },
  {
   "cell_type": "markdown",
   "metadata": {
    "deletable": true,
    "editable": true
   },
   "source": [
    "# Poisson response"
   ]
  },
  {
   "cell_type": "code",
   "execution_count": 4,
   "metadata": {
    "collapsed": false,
    "deletable": true,
    "editable": true
   },
   "outputs": [
    {
     "data": {
      "text/plain": [
       "iht_lasso_marginal (generic function with 1 method)"
      ]
     },
     "execution_count": 4,
     "metadata": {},
     "output_type": "execute_result"
    }
   ],
   "source": [
    "function iht_lasso_marginal(n::Int64, p::Int64, d::UnionAll, l::Link)\n",
    "    #construct snpmatrix, covariate files, and true model b\n",
    "    x = simulate_random_snparray(n, p, \"tmp.bed\")\n",
    "    xbm = SnpBitMatrix{Float64}(x, model=ADDITIVE_MODEL, center=true, scale=true); \n",
    "    z = ones(n, 1) # the intercept\n",
    "    x_float = [convert(Matrix{Float64}, x, center=true, scale=true) z] #Float64 version of x\n",
    "    \n",
    "    # simulate response, true model b, and the correct non-0 positions of b\n",
    "    true_b = zeros(p)\n",
    "    true_b[1:10] .= collect(0.1:0.1:1.0)\n",
    "    shuffle!(true_b)\n",
    "    correct_position = findall(x -> x != 0, true_b)\n",
    "\n",
    "    #simulate phenotypes (e.g. vector y)\n",
    "    if d == Normal || d == Poisson || d == Bernoulli\n",
    "        prob = linkinv.(l, xbm * true_b)\n",
    "        clamp!(prob, -20, 20)\n",
    "        y = [rand(d(i)) for i in prob]\n",
    "    elseif d == NegativeBinomial\n",
    "        μ = linkinv.(l, xbm * true_b)\n",
    "        prob = 1 ./ (1 .+ μ ./ nn)\n",
    "        y = [rand(d(nn, i)) for i in prob] #number of failtures before nn success occurs\n",
    "    elseif d == Gamma\n",
    "        μ = linkinv.(l, xbm * true_b)\n",
    "        β = 1 ./ μ # here β is the rate parameter for gamma distribution\n",
    "        y = [rand(d(α, i)) for i in β] # α is the shape parameter for gamma\n",
    "    end\n",
    "    y = Float64.(y)\n",
    "\n",
    "    #specify path and folds\n",
    "    num_folds = 3\n",
    "    folds = rand(1:num_folds, size(x, 1));\n",
    "\n",
    "    #run glmnet via Rcall\n",
    "    @rput x_float y folds num_folds #make variables visible to R\n",
    "    R\"lasso_cv_result = cv.glmnet(x_float, y, nfolds = num_folds, foldid = folds, family='poisson')\"\n",
    "    R\"lasso_beta_tmp = glmnet(x_float, y, lambda=lasso_cv_result$lambda.min, family='poisson')$beta\"\n",
    "    R\"lasso_beta = as.vector(lasso_beta_tmp)\"\n",
    "    @rget lasso_cv_result lasso_beta #pull result from R to Julia\n",
    "    lasso_k_est = count(!iszero, lasso_beta)\n",
    "    \n",
    "    #find non-zero entries returned by best lasso model as largest k estimate\n",
    "    path = collect(1:50);\n",
    "    \n",
    "    #run IHT's cross validation routine \n",
    "    mses = cv_iht(d(), l, x, z, y, 1, path, num_folds, folds=folds, use_maf=false, debias=false, showinfo=false, parallel=true);\n",
    "    iht_k_est = argmin(mses)\n",
    "    iht_result = L0_reg(x, xbm, z, y, 1, iht_k_est, d(), l, debias=false, init=false, use_maf=false, show_info=false)\n",
    "    iht_beta = iht_result.beta\n",
    "    \n",
    "    #Now run MendelGWAS\n",
    "    make_bim_fam_files(x, y, \"tmp\") #create .bim and .bed files for MendelGWAS\n",
    "\n",
    "    #create a control file for MendelGWAS\n",
    "    open(\"tmp_control.txt\", \"w\") do f\n",
    "        write(f, \"plink_input_basename = tmp \\n\")\n",
    "        write(f, \"plink_field_separator = '\\t' \\n\")\n",
    "        write(f, \"output_table = tmp_table.txt \\n\")\n",
    "        write(f, \"regression = poisson \\n\")\n",
    "        write(f, \"regression_formula = Trait ~ \\n\")\n",
    "    end\n",
    "\n",
    "    #run marginal analysis\n",
    "    GWAS(\"tmp_control.txt\");\n",
    "\n",
    "    # calculate false positive/negatives based on bonferroni correction\n",
    "    p_values = CSV.read(\"tmp_table.txt\", delim=',', header=true)[:Pvalue]\n",
    "    significance = 0.05 / Float64(p)\n",
    "    passing_snps_position = findall(p_values .<= significance)\n",
    "    k = 10\n",
    "    marginal_found = [correct_position[snp] in passing_snps_position for snp in 1:k]\n",
    "    \n",
    "    #clean up\n",
    "    rm(\"tmp.bed\", force=true)\n",
    "    rm(\"tmp.bim\", force=true)\n",
    "    rm(\"tmp.fam\", force=true)\n",
    "    rm(\"tmp_table.txt\", force=true)\n",
    "    rm(\"tmp_control.txt\", force=true)\n",
    "    rm(\"Mendel_Output.txt\", force=true)\n",
    "    \n",
    "    # to test if MendelGWAS is correct, fit using GLM.jl too (MendelGWAS is correct)\n",
    "#     data = DataFrame(X=zeros(n), Y=y)\n",
    "#     placeholder = zeros(n)\n",
    "#     pvalues = zeros(p)\n",
    "#     for i in 1:p\n",
    "#         copyto!(placeholder, @view(x[:, i]), center=true, scale=true)\n",
    "#         data.X .= placeholder\n",
    "#         result = glm(@formula(Y ~ X), data, Poisson(), LogLink())\n",
    "#         pvalues[i] = coeftable(result).cols[4][2].v\n",
    "#     end\n",
    "#     passing_snps_position2 = findall(pvalues .<= significance)\n",
    "#     marginal_found2 = [correct_position[snp] in passing_snps_position2 for snp in 1:k]\n",
    "\n",
    "    #Fit 0-inflated Poisson using R package because MendelGWAS has tons of false positives\n",
    "    y = Int64.(y)\n",
    "    @rput y n p\n",
    "    R\"\n",
    "    zip_pvalues = matrix(0.0, p, 1)\n",
    "    tmp = matrix(0, n, 1)\n",
    "    for (i in 1:p) {\n",
    "        tmp[,] = x_float[, i]\n",
    "        zip_pvalues[i] = summary(zeroinfl(y ~ tmp))$coefficient[2]$zero[2,4]\n",
    "    }\n",
    "    \"\n",
    "    @rget zip_pvalues\n",
    "    zip_pvalues = reshape(zip_pvalues, (10000,))\n",
    "    zip_passing_snps = findall(zip_pvalues .<= significance)\n",
    "    zip_found = [correct_position[snp] in zip_passing_snps for snp in 1:k]\n",
    "    \n",
    "    #show lasso and IHT's reconstruction result\n",
    "    compare_model = DataFrame(\n",
    "        true_β  = true_b[correct_position], \n",
    "        IHT_β   = iht_beta[correct_position],\n",
    "        lasso_β = lasso_beta[correct_position],\n",
    "        marginal_found = marginal_found,\n",
    "        zero_inf_Pois = zip_found)\n",
    "    @show compare_model\n",
    "    \n",
    "    #compute true/false positives/negatives for IHT and lasso\n",
    "    iht_tp = count(!iszero, iht_beta[correct_position])\n",
    "    iht_fp = iht_k_est - iht_tp\n",
    "    iht_fn = k - iht_tp\n",
    "    lasso_tp = count(!iszero, lasso_beta[correct_position])\n",
    "    lasso_fp = lasso_k_est - lasso_tp\n",
    "    lasso_fn = k - lasso_tp\n",
    "    marginal_tp = count(!iszero, true_b[passing_snps_position])\n",
    "    marginal_fp = length(passing_snps_position) - marginal_tp\n",
    "    marginal_fn = k - marginal_tp\n",
    "#     juliaglm_tp = count(!iszero, true_b[passing_snps_position2])\n",
    "#     juliaglm_fp = length(passing_snps_position2) - juliaglm_tp\n",
    "#     juliaglm_fn = k - juliaglm_tp\n",
    "    zip_tp = count(!iszero, true_b[zip_passing_snps])\n",
    "    zip_fp = length(zip_passing_snps) - zip_tp\n",
    "    zip_fn = k - zip_tp\n",
    "    \n",
    "    println(\"IHT true positives = $iht_tp\")\n",
    "    println(\"IHT false positives = $iht_fp\")\n",
    "    println(\"IHT false negatives = $iht_fn\")\n",
    "    println(\"LASSO true positives = $lasso_tp\")\n",
    "    println(\"LASSO false positives = $lasso_fp\")\n",
    "    println(\"LASSO false negatives = $lasso_fn\")\n",
    "    println(\"marginal true positives = $marginal_tp\")\n",
    "    println(\"marginal false positives = $marginal_fp\")\n",
    "    println(\"marginal false negatives = $marginal_fn\")\n",
    "#     println(\"julia glm true positives = $juliaglm_tp\")\n",
    "#     println(\"julia glm false positives = $juliaglm_fp\")\n",
    "#     println(\"julia glm false negatives = $juliaglm_fn\" * \"\\n\")\n",
    "    println(\"zero inflated poisson true positives = $zip_tp\")\n",
    "    println(\"zero inflated poisson  false positives = $zip_fp\")\n",
    "    println(\"zero inflated poisson  false negatives = $zip_fn\" * \"\\n\")\n",
    "    \n",
    "    return iht_tp, iht_fp, iht_fn, lasso_tp, lasso_fp, lasso_fn, \n",
    "        marginal_tp, marginal_fp, marginal_fn, zip_tp, zip_fp, zip_fn\n",
    "end"
   ]
  },
  {
   "cell_type": "code",
   "execution_count": 5,
   "metadata": {
    "collapsed": false,
    "deletable": true,
    "editable": true
   },
   "outputs": [
    {
     "data": {
      "text/plain": [
       "run (generic function with 1 method)"
      ]
     },
     "execution_count": 5,
     "metadata": {},
     "output_type": "execute_result"
    }
   ],
   "source": [
    "function run()\n",
    "    #simulat data with k true predictors, from distribution d and with link l.\n",
    "    n = 1000\n",
    "    p = 10000\n",
    "    d = Poisson\n",
    "    l = canonicallink(d())\n",
    "\n",
    "    #run function above, saving results in 4 vectors\n",
    "    total_runs = 50\n",
    "    iht_true_positives = zeros(total_runs)\n",
    "    iht_false_positives = zeros(total_runs)\n",
    "    iht_false_negatives = zeros(total_runs)\n",
    "    lasso_true_positives = zeros(total_runs)\n",
    "    lasso_false_positives = zeros(total_runs)\n",
    "    lasso_false_negatives = zeros(total_runs)\n",
    "    marginal_true_positives = zeros(total_runs)\n",
    "    marginal_false_positives = zeros(total_runs)\n",
    "    marginal_false_negatives = zeros(total_runs)\n",
    "    zip_true_positives = zeros(total_runs)\n",
    "    zip_false_positives = zeros(total_runs)\n",
    "    zip_false_negatives = zeros(total_runs)\n",
    "    for i in 1:total_runs\n",
    "        println(\"current run = $i\")\n",
    "        \n",
    "        #set random seed\n",
    "        Random.seed!(i)\n",
    "        \n",
    "        iht_tp, iht_fp, iht_fn, lasso_tp, lasso_fp, lasso_fn, \n",
    "            marginal_tp, marginal_fp, marginal_fn, zip_tp, zip_fp, \n",
    "                zip_fn = iht_lasso_marginal(n, p, d, l)\n",
    "        iht_true_positives[i] = iht_tp\n",
    "        iht_false_positives[i] = iht_fp\n",
    "        iht_false_negatives[i] = iht_fn\n",
    "        lasso_true_positives[i] = lasso_tp\n",
    "        lasso_false_positives[i] = lasso_fp\n",
    "        lasso_false_negatives[i] = lasso_fn\n",
    "        marginal_true_positives[i] = zip_tp\n",
    "        marginal_false_positives[i] = zip_fp\n",
    "        marginal_false_negatives[i] = zip_fn\n",
    "        zip_true_positives[i] = zip_tp\n",
    "        zip_false_positives[i] = zip_fp\n",
    "        zip_false_negatives[i] = zip_fn\n",
    "    end\n",
    "    \n",
    "    return iht_true_positives, iht_false_positives, iht_false_negatives, \n",
    "            lasso_true_positives, lasso_false_positives, lasso_false_negatives, \n",
    "            marginal_true_positives, marginal_false_positives, marginal_false_negatives,\n",
    "            zip_true_positives, zip_false_positives, zip_false_negatives\n",
    "end"
   ]
  },
  {
   "cell_type": "code",
   "execution_count": 9,
   "metadata": {
    "collapsed": false,
    "deletable": true,
    "editable": true,
    "scrolled": false
   },
   "outputs": [
    {
     "name": "stdout",
     "output_type": "stream",
     "text": [
      "current run = 1\n",
      " \n",
      " \n",
      "     Welcome to OpenMendel's\n",
      "      GWAS analysis option\n",
      "        version 0.5.0\n",
      " \n",
      " \n",
      "Reading the data.\n",
      "\n",
      "The current working directory is \"/u/home/b/biona001/precision_recall/poisson\".\n",
      "\n",
      "Keywords modified by the user:\n",
      "\n",
      "  affected_designator = 2\n",
      "  control_file = tmp_control.txt\n",
      "  output_table = tmp_table.txt\n",
      "  pedigree_file = tmp.fam\n",
      "  plink_field_separator = \t\n",
      "  plink_input_basename = tmp\n",
      "  regression = poisson\n",
      "  regression_formula = Trait ~\n",
      "  snpdata_file = tmp.bed\n",
      "  snpdefinition_file = tmp.bim\n",
      " \n",
      " \n",
      "Analyzing the data.\n",
      "\n",
      " \n",
      " \n",
      "Mendel's analysis is finished.\n",
      "\n"
     ]
    },
    {
     "name": "stderr",
     "output_type": "stream",
     "text": [
      "┌ Warning: RCall.jl: Warning in sqrt(diag(object$vcov)) : NaNs produced\n",
      "└ @ RCall /u/home/b/biona001/.julia/packages/RCall/ffM0W/src/io.jl:113\n"
     ]
    },
    {
     "name": "stdout",
     "output_type": "stream",
     "text": [
      "compare_model = 10×5 DataFrame\n",
      "│ Row │ true_β  │ IHT_β    │ lasso_β    │ marginal_found │ zero_inf_Pois │\n",
      "│     │ Float64 │ Float64  │ Float64    │ Bool           │ Bool          │\n",
      "├─────┼─────────┼──────────┼────────────┼────────────────┼───────────────┤\n",
      "│ 1   │ 0.5     │ 0.229071 │ 0.156067   │ true           │ true          │\n",
      "│ 2   │ 1.0     │ 0.58233  │ 0.569163   │ true           │ true          │\n",
      "│ 3   │ 0.6     │ 0.328702 │ 0.286741   │ true           │ true          │\n",
      "│ 4   │ 0.1     │ 0.0      │ 0.00490646 │ false          │ false         │\n",
      "│ 5   │ 0.8     │ 0.388233 │ 0.400223   │ true           │ false         │\n",
      "│ 6   │ 0.2     │ 0.0      │ 0.0898611  │ true           │ false         │\n",
      "│ 7   │ 0.9     │ 0.512712 │ 0.491235   │ true           │ true          │\n",
      "│ 8   │ 0.7     │ 0.464975 │ 0.353369   │ true           │ true          │\n",
      "│ 9   │ 0.3     │ 0.213171 │ 0.172409   │ true           │ false         │\n",
      "│ 10  │ 0.4     │ 0.276419 │ 0.207514   │ true           │ false         │\n",
      "IHT true positives = 8\n",
      "IHT false positives = 1\n",
      "IHT false negatives = 2\n",
      "LASSO true positives = 10\n",
      "LASSO false positives = 84\n",
      "LASSO false negatives = 0\n",
      "marginal true positives = 9\n",
      "marginal false positives = 1614\n",
      "marginal false negatives = 1\n",
      "zero inflated poisson true positives = 5\n",
      "zero inflated poisson  false positives = 0\n",
      "zero inflated poisson  false negatives = 5\n",
      "\n",
      "current run = 2\n",
      " \n",
      " \n",
      "     Welcome to OpenMendel's\n",
      "      GWAS analysis option\n",
      "        version 0.5.0\n",
      " \n",
      " \n",
      "Reading the data.\n",
      "\n",
      "The current working directory is \"/u/home/b/biona001/precision_recall/poisson\".\n",
      "\n",
      "Keywords modified by the user:\n",
      "\n",
      "  affected_designator = 2\n",
      "  control_file = tmp_control.txt\n",
      "  output_table = tmp_table.txt\n",
      "  pedigree_file = tmp.fam\n",
      "  plink_field_separator = \t\n",
      "  plink_input_basename = tmp\n",
      "  regression = poisson\n",
      "  regression_formula = Trait ~\n",
      "  snpdata_file = tmp.bed\n",
      "  snpdefinition_file = tmp.bim\n",
      " \n",
      " \n",
      "Analyzing the data.\n",
      "\n",
      " \n",
      " \n",
      "Mendel's analysis is finished.\n",
      "\n",
      "compare_model = 10×5 DataFrame\n",
      "│ Row │ true_β  │ IHT_β    │ lasso_β   │ marginal_found │ zero_inf_Pois │\n",
      "│     │ Float64 │ Float64  │ Float64   │ Bool           │ Bool          │\n",
      "├─────┼─────────┼──────────┼───────────┼────────────────┼───────────────┤\n",
      "│ 1   │ 0.7     │ 0.414006 │ 0.367305  │ true           │ true          │\n",
      "│ 2   │ 0.2     │ 0.0      │ 0.0907549 │ true           │ false         │\n",
      "│ 3   │ 0.5     │ 0.443119 │ 0.337825  │ true           │ true          │\n",
      "│ 4   │ 1.0     │ 0.618835 │ 0.594096  │ true           │ true          │\n",
      "│ 5   │ 0.6     │ 0.377084 │ 0.252235  │ true           │ true          │\n",
      "│ 6   │ 0.9     │ 0.559491 │ 0.516227  │ true           │ true          │\n",
      "│ 7   │ 0.4     │ 0.19764  │ 0.149234  │ true           │ true          │\n",
      "│ 8   │ 0.3     │ 0.0      │ 0.0714994 │ true           │ false         │\n",
      "│ 9   │ 0.1     │ 0.0      │ 0.0       │ true           │ false         │\n",
      "│ 10  │ 0.8     │ 0.55899  │ 0.434515  │ true           │ true          │\n",
      "IHT true positives = 7\n",
      "IHT false positives = 2\n",
      "IHT false negatives = 3\n",
      "LASSO true positives = 9\n",
      "LASSO false positives = 87\n",
      "LASSO false negatives = 1\n",
      "marginal true positives = 10\n",
      "marginal false positives = 1648\n",
      "marginal false negatives = 0\n",
      "zero inflated poisson true positives = 7\n",
      "zero inflated poisson  false positives = 0\n",
      "zero inflated poisson  false negatives = 3\n",
      "\n",
      "current run = 3\n",
      " \n",
      " \n",
      "     Welcome to OpenMendel's\n",
      "      GWAS analysis option\n",
      "        version 0.5.0\n",
      " \n",
      " \n",
      "Reading the data.\n",
      "\n",
      "The current working directory is \"/u/home/b/biona001/precision_recall/poisson\".\n",
      "\n",
      "Keywords modified by the user:\n",
      "\n",
      "  affected_designator = 2\n",
      "  control_file = tmp_control.txt\n",
      "  output_table = tmp_table.txt\n",
      "  pedigree_file = tmp.fam\n",
      "  plink_field_separator = \t\n",
      "  plink_input_basename = tmp\n",
      "  regression = poisson\n",
      "  regression_formula = Trait ~\n",
      "  snpdata_file = tmp.bed\n",
      "  snpdefinition_file = tmp.bim\n",
      " \n",
      " \n",
      "Analyzing the data.\n",
      "\n",
      " \n",
      " \n",
      "Mendel's analysis is finished.\n",
      "\n"
     ]
    },
    {
     "ename": "InterruptException",
     "evalue": "InterruptException:",
     "output_type": "error",
     "traceback": [
      "InterruptException:",
      "",
      "Stacktrace:",
      " [1] sigatomic_end at ./c.jl:0 [inlined]",
      " [2] disable_sigint at ./c.jl:448 [inlined]",
      " [3] tryEval at /u/home/b/biona001/.julia/packages/RCall/ffM0W/src/eval.jl:81 [inlined]",
      " [4] reval_p(::Ptr{LangSxp}, ::Ptr{EnvSxp}) at /u/home/b/biona001/.julia/packages/RCall/ffM0W/src/eval.jl:96",
      " [5] reval_p(::Ptr{RCall.ExprSxp}, ::Ptr{EnvSxp}) at /u/home/b/biona001/.julia/packages/RCall/ffM0W/src/eval.jl:115",
      " [6] reval(::String, ::RObject{EnvSxp}) at /u/home/b/biona001/.julia/packages/RCall/ffM0W/src/eval.jl:132",
      " [7] iht_lasso_marginal(::Int64, ::Int64, ::UnionAll, ::LogLink) at ./In[4]:95",
      " [8] run() at ./In[5]:25",
      " [9] top-level scope at In[9]:1"
     ]
    }
   ],
   "source": [
    "iht_true_positives, iht_false_positives, iht_false_negatives, \n",
    "    lasso_true_positives, lasso_false_positives, lasso_false_negatives, \n",
    "    marginal_true_positives, marginal_false_positives, marginal_false_negatives,\n",
    "    zip_true_positives, zip_false_positives, zip_false_negatives = run()"
   ]
  },
  {
   "cell_type": "markdown",
   "metadata": {
    "collapsed": true,
    "deletable": true,
    "editable": true
   },
   "source": [
    "# Read in data ran on the cluster\n",
    "Note we ran the above code in 5 independent cores on a cluster. This is because the `pscl` package in R is too slow and is only single threaded. "
   ]
  },
  {
   "cell_type": "code",
   "execution_count": 2,
   "metadata": {
    "collapsed": true
   },
   "outputs": [],
   "source": [
    "using DelimitedFiles\n",
    "using CSV\n",
    "using Statistics"
   ]
  },
  {
   "cell_type": "code",
   "execution_count": 11,
   "metadata": {
    "collapsed": false
   },
   "outputs": [],
   "source": [
    "runs = collect(1:5)\n",
    "final_result = zeros(4, 3)\n",
    "for i in runs\n",
    "    file_directory = \"./run$i/result$i\"\n",
    "    cur_run = readdlm(file_directory)\n",
    "    final_result .+= cur_run\n",
    "end"
   ]
  },
  {
   "cell_type": "code",
   "execution_count": 12,
   "metadata": {
    "collapsed": false
   },
   "outputs": [
    {
     "data": {
      "text/plain": [
       "4×3 Array{Float64,2}:\n",
       " 7.2      1.28  2.8 \n",
       " 9.28   102.24  0.72\n",
       " 9.04  1527.92  0.96\n",
       " 5.94     0.0   4.06"
      ]
     },
     "execution_count": 12,
     "metadata": {},
     "output_type": "execute_result"
    }
   ],
   "source": [
    "#columns = true positive | false positive | false negatives\n",
    "#rows = IHT, LASSO (glmnet), marginal Poisson (MendelGWAS), zero-inflated Poisson (pscl)\n",
    "final_result /= 50 "
   ]
  }
 ],
 "metadata": {
  "kernelspec": {
   "display_name": "Julia 1.0.3",
   "language": "julia",
   "name": "julia-1.0"
  },
  "language_info": {
   "file_extension": ".jl",
   "mimetype": "application/julia",
   "name": "julia",
   "version": "1.0.3"
  }
 },
 "nbformat": 4,
 "nbformat_minor": 2
}
