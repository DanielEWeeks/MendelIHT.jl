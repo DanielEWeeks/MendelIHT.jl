{
 "cells": [
  {
   "cell_type": "markdown",
   "metadata": {},
   "source": [
    "# Precision Recall curves\n",
    "\n",
    "LASSO is currently the de facto penalized least squares method for [feature selection](https://en.wikipedia.org/wiki/Feature_selection). Here we compare precision/recall curves of LASSO with IHT for GWAS data. Since the focus here is not scalability, we test our sample problems on moderately sized genotype matrces of 5000 samples with 100,000 SNPs (covariates). "
   ]
  },
  {
   "cell_type": "code",
   "execution_count": 2,
   "metadata": {
    "collapsed": false,
    "scrolled": true
   },
   "outputs": [],
   "source": [
    "using GLMNet\n",
    "using GLM\n",
    "using MendelIHT\n",
    "using SnpArrays\n",
    "using DataFrames\n",
    "using Distributions\n",
    "using StatsFuns: logistic\n",
    "using Random\n",
    "using LinearAlgebra\n",
    "using DelimitedFiles\n",
    "using Distributed"
   ]
  },
  {
   "cell_type": "code",
   "execution_count": 4,
   "metadata": {
    "collapsed": false
   },
   "outputs": [
    {
     "data": {
      "text/plain": [
       "5"
      ]
     },
     "execution_count": 4,
     "metadata": {},
     "output_type": "execute_result"
    }
   ],
   "source": [
    "# add 4 workers in addition to the master worker\n",
    "addprocs(4)\n",
    "nprocs()"
   ]
  },
  {
   "cell_type": "markdown",
   "metadata": {},
   "source": [
    "# Poisson IHT vs Poisson LASSO"
   ]
  },
  {
   "cell_type": "code",
   "execution_count": 5,
   "metadata": {
    "collapsed": false
   },
   "outputs": [
    {
     "data": {
      "text/plain": [
       "iht_lasso_poisson (generic function with 1 method)"
      ]
     },
     "execution_count": 5,
     "metadata": {},
     "output_type": "execute_result"
    }
   ],
   "source": [
    "function iht_lasso_poisson(n :: Int64, p :: Int64, sim :: Int64)\n",
    "    #define maf and true model size\n",
    "    k = 10\n",
    "    \n",
    "    #set random seed\n",
    "    Random.seed!(1111)\n",
    "\n",
    "    #construct snpmatrix, covariate files, and true model b\n",
    "    x, maf = simulate_random_snparray(n, p)\n",
    "    xbm = SnpBitMatrix{Float64}(x, model=ADDITIVE_MODEL, center=true, scale=true); \n",
    "    z           = ones(n, 1)                   # non-genetic covariates, just the intercept\n",
    "    true_b      = zeros(p)                     # model vector\n",
    "    true_b[1:k] = rand(Normal(0, 0.4), k)      # k true response\n",
    "    shuffle!(true_b)                           # Shuffle the entries\n",
    "    correct_position = findall(x -> x != 0, true_b) # keep track of what the true entries are\n",
    "\n",
    "    # Simulate poisson data\n",
    "    y_temp = xbm * true_b\n",
    "    λ = exp.(y_temp) #inverse log link\n",
    "    y = [rand(Poisson(x)) for x in λ]\n",
    "    y = Float64.(y)\n",
    "\n",
    "    #compute poisson IHT result\n",
    "    cur_time = time()\n",
    "    path = collect(1:20)\n",
    "    num_folds = 3\n",
    "    folds = rand(1:num_folds, size(x, 1))\n",
    "    k_est_iht = cv_iht(x, z, y, 1, path, folds, num_folds, use_maf=false, glm=\"poisson\", debias=true)\n",
    "    iht_result = L0_poisson_reg(x, z, y, 1, k_est_iht, glm = \"poisson\", debias=true, convg=false, show_info=false, true_beta=true_b, init=false)\n",
    "    iht_time = time() - cur_time\n",
    "    \n",
    "    #compute poisson lasso result\n",
    "    x_float = [convert(Matrix{Float64}, x, center=true, scale=true) z]\n",
    "    cur_time = time()\n",
    "    cv = glmnetcv(x_float, y, Poisson(), pmax=20, nfolds=3, folds=folds)\n",
    "    best = argmin(cv.meanloss)\n",
    "    lasso_result = cv.path.betas[:, best]\n",
    "    k_est_lasso = length(findall(!iszero, lasso_result))\n",
    "    lasso_time = time() - cur_time\n",
    "    \n",
    "    #compute regular poisson regression using only true predictors\n",
    "    x_true = [x_float[:, correct_position] z]\n",
    "    regular_result = glm(x_true, y, Poisson(), LogLink())\n",
    "    regular_result = regular_result.pp.beta0\n",
    "    \n",
    "    #check result\n",
    "    IHT_model = iht_result.beta[correct_position]\n",
    "    lasso_model = lasso_result[correct_position]\n",
    "    true_model = true_b[correct_position]\n",
    "    compare_model = DataFrame(\n",
    "        true_β  = true_model, \n",
    "        iht_β   = IHT_model,\n",
    "        lasso_β = lasso_model,\n",
    "        regular_β = regular_result[1:10])\n",
    "    @show compare_model\n",
    "\n",
    "    #compute summary statistics\n",
    "    lasso_num_correct_predictors = length(findall(!iszero, lasso_model))\n",
    "    lasso_false_positives = k_est_lasso - lasso_num_correct_predictors\n",
    "    lasso_false_negatives = k - lasso_num_correct_predictors\n",
    "    iht_num_correct_predictors = length(findall(!iszero, IHT_model))\n",
    "    iht_false_positives = k_est_iht - iht_num_correct_predictors\n",
    "    iht_false_negatives = k - iht_num_correct_predictors\n",
    "    println(\"IHT cv found $iht_false_positives\" * \" false positives and $iht_false_negatives\" * \" false negatives, and used $iht_time\" * \" seconds\")\n",
    "    println(\"lasso cv found $lasso_false_positives\" * \" false positives and $lasso_false_negatives\" * \" false negatives, and used $lasso_time\" * \" seconds \\n\\n\")\n",
    "\n",
    "    #write y to file to view distribution later\n",
    "    #writedlm(\"./IHT_poisson_simulations_mean/data_simulation_$sim.txt\", y)\n",
    "\n",
    "    return lasso_num_correct_predictors, lasso_false_positives, lasso_false_negatives, lasso_time, iht_num_correct_predictors, iht_false_positives, iht_false_negatives, iht_time\n",
    "end"
   ]
  },
  {
   "cell_type": "code",
   "execution_count": 6,
   "metadata": {
    "collapsed": false
   },
   "outputs": [
    {
     "data": {
      "text/plain": [
       "run_iht_lasso_poisson (generic function with 1 method)"
      ]
     },
     "execution_count": 6,
     "metadata": {},
     "output_type": "execute_result"
    }
   ],
   "source": [
    "function run_iht_lasso_poisson()\n",
    "    lasso_total_found = 0\n",
    "    lasso_false_positives = 0\n",
    "    lasso_false_negatives = 0\n",
    "    lasso_total_time = 0\n",
    "    iht_total_found = 0\n",
    "    iht_false_positives = 0\n",
    "    iht_false_negatives = 0\n",
    "    iht_total_time = 0\n",
    "    \n",
    "    iter = 10\n",
    "    for i = 1:iter\n",
    "        n = rand(1000:3000) \n",
    "        p = rand(1:10)n\n",
    "        println(\"Running the $i th model where \" * \"n, p = \" * string(n) * \", \" * string(p))\n",
    "        ltf, lfp, lfn, ltt, itf, ifp, ifn, itt = iht_lasso_poisson(n, p, i)\n",
    "\n",
    "        lasso_total_found += ltf\n",
    "        lasso_false_positives += lfp\n",
    "        lasso_false_negatives += lfn\n",
    "        lasso_total_time += ltt\n",
    "        iht_total_found += itf\n",
    "        iht_false_positives += ifp\n",
    "        iht_false_negatives += ifn\n",
    "        iht_total_time += itt\n",
    "    end\n",
    "    println(\"IHT  : Found $iht_total_found \" * \"correct predictors, out of \" * string(10iter))\n",
    "    println(\"IHT  : False positives = $iht_false_positives\")\n",
    "    println(\"IHT  : False negatives = $iht_false_negatives\")   \n",
    "    println(\"IHT  : Average time = \" * string(iht_total_time / iter))   \n",
    "    println(\"Lasso: Found $lasso_total_found \" * \"correct predictors, out of \" * string(10iter))\n",
    "    println(\"Lasso: False positives = $lasso_false_positives\")\n",
    "    println(\"Lasso: False negatives = $lasso_false_negatives\")\n",
    "    println(\"Lasso: Average time = \" * string(lasso_total_time / iter))   \n",
    "end"
   ]
  },
  {
   "cell_type": "code",
   "execution_count": null,
   "metadata": {
    "collapsed": true
   },
   "outputs": [],
   "source": [
    "Random.seed!(2019)\n",
    "run_iht_lasso_poisson()"
   ]
  }
 ],
 "metadata": {
  "kernelspec": {
   "display_name": "Julia 1.0.3",
   "language": "julia",
   "name": "julia-1.0"
  },
  "language_info": {
   "file_extension": ".jl",
   "mimetype": "application/julia",
   "name": "julia",
   "version": "1.0.3"
  }
 },
 "nbformat": 4,
 "nbformat_minor": 2
}
