{
 "cells": [
  {
   "cell_type": "markdown",
   "metadata": {},
   "source": [
    "# Compare false positive/negatives with LASSO\n",
    "\n",
    "LASSO is currently the de facto penalized least squares method for [feature selection](https://en.wikipedia.org/wiki/Feature_selection). Here we compare the performance (in terms of the number of false positives/negative) of LASSO with IHT for GWAS data, using the `glmnet` implementation of cyclic coordinate descent for LASSO. Since the focus here is not scalability, we test our sample problems on moderately sized genotype matrces of 1000 samples with 10,000 SNPs."
   ]
  },
  {
   "cell_type": "code",
   "execution_count": 1,
   "metadata": {
    "collapsed": false
   },
   "outputs": [
    {
     "data": {
      "text/plain": [
       "5"
      ]
     },
     "execution_count": 1,
     "metadata": {},
     "output_type": "execute_result"
    }
   ],
   "source": [
    "using Distributed\n",
    "addprocs(4)\n",
    "nprocs()"
   ]
  },
  {
   "cell_type": "code",
   "execution_count": 2,
   "metadata": {
    "collapsed": false,
    "scrolled": true
   },
   "outputs": [
    {
     "name": "stderr",
     "output_type": "stream",
     "text": [
      "┌ Warning: RCall.jl:  要求されたパッケージ Matrix をロード中です \n",
      "│  要求されたパッケージ foreach をロード中です \n",
      "│ Loaded glmnet 2.0-16\n",
      "│ \n",
      "└ @ RCall /Users/biona001/.julia/packages/RCall/ffM0W/src/io.jl:113\n"
     ]
    },
    {
     "data": {
      "text/plain": [
       "RObject{StrSxp}\n",
       " [1] \"glmnet\"    \"foreach\"   \"Matrix\"    \"stats\"     \"graphics\"  \"grDevices\"\n",
       " [7] \"utils\"     \"datasets\"  \"methods\"   \"base\"     \n"
      ]
     },
     "execution_count": 2,
     "metadata": {},
     "output_type": "execute_result"
    }
   ],
   "source": [
    "using MendelIHT\n",
    "using SnpArrays\n",
    "using DataFrames\n",
    "using Distributions\n",
    "using Random\n",
    "using LinearAlgebra\n",
    "using DelimitedFiles\n",
    "using GLM\n",
    "using RCall\n",
    "R\"library(glmnet)\""
   ]
  },
  {
   "cell_type": "markdown",
   "metadata": {},
   "source": [
    "# Normal responses\n",
    "\n",
    "We use the R library `glmnet` (implemented in Fortran) to run LASSO. [Documentation of Rcall.jl](http://juliainterop.github.io/RCall.jl/stable/gettingstarted.html) teaches us to to transfer variables between R and Julia. Since glmnet does not operate on genotype file, we need to convert `x` to Float64, and then run glmnet. "
   ]
  },
  {
   "cell_type": "code",
   "execution_count": 3,
   "metadata": {
    "collapsed": false
   },
   "outputs": [
    {
     "data": {
      "text/plain": [
       "iht_lasso (generic function with 1 method)"
      ]
     },
     "execution_count": 3,
     "metadata": {},
     "output_type": "execute_result"
    }
   ],
   "source": [
    "function iht_lasso(n::Int64, p::Int64, k::Int64, d::UnionAll, l::Link)\n",
    "    #construct snpmatrix, covariate files, and true model b\n",
    "    x, = simulate_random_snparray(n, p, undef)\n",
    "    xbm = SnpBitMatrix{Float64}(x, model=ADDITIVE_MODEL, center=true, scale=true); \n",
    "    z = ones(n, 1) # the intercept\n",
    "    x_float = [convert(Matrix{Float64}, x, center=true, scale=true) z] #Float64 version of x\n",
    "\n",
    "    # simulate response, true model b, and the correct non-0 positions of b\n",
    "    y, true_b, correct_position = simulate_random_response(x, xbm, k, d, l)\n",
    " \n",
    "    #specify path and folds\n",
    "    num_folds = 3\n",
    "    folds = rand(1:num_folds, size(x, 1));\n",
    "\n",
    "    #run glmnet via Rcall\n",
    "    @rput x_float y folds num_folds #make variables visible to R\n",
    "    R\"lasso_cv_result = cv.glmnet(x_float, y, nfolds = num_folds, foldid = folds)\"\n",
    "    R\"lasso_beta_tmp = glmnet(x_float, y, lambda=lasso_cv_result$lambda.min)$beta\"\n",
    "    R\"lasso_beta = as.vector(lasso_beta_tmp)\"\n",
    "    @rget lasso_cv_result lasso_beta #pull result from R to Julia\n",
    "    lasso_k_est = length(findall(!iszero, lasso_beta))\n",
    "    \n",
    "    #find non-zero entries returned by best lasso model as largest k estimate\n",
    "    path = collect(1:50);\n",
    "    \n",
    "    #run IHT's cross validation routine \n",
    "    mses = cv_iht_distributed(d(), l, x, z, y, 1, path, folds, num_folds, use_maf=false, debias=false, parallel=true);\n",
    "    iht_k_est = argmin(mses)\n",
    "    iht_result = L0_reg(x, xbm, z, y, 1, iht_k_est, d(), l, debias=false, init=false, use_maf=false)\n",
    "    iht_beta = iht_result.beta\n",
    "        \n",
    "    #show lasso and IHT's reconstruction result\n",
    "    compare_model = DataFrame(\n",
    "        true_β  = true_b[correct_position], \n",
    "        IHT_β   = iht_beta[correct_position],\n",
    "        lasso_β = lasso_beta[correct_position])\n",
    "    @show compare_model\n",
    "    \n",
    "    #compute true/false positives/negatives for IHT and lasso\n",
    "    iht_tp = count(!iszero, iht_beta[correct_position])\n",
    "    iht_fp = iht_k_est - iht_tp\n",
    "    iht_fn = k - iht_tp\n",
    "    lasso_tp = count(!iszero, lasso_beta[correct_position])\n",
    "    lasso_fp = lasso_k_est - lasso_tp\n",
    "    lasso_fn = k - lasso_tp\n",
    "    \n",
    "    return iht_fp, iht_fn, lasso_fp, lasso_fn\n",
    "end"
   ]
  },
  {
   "cell_type": "code",
   "execution_count": 4,
   "metadata": {
    "collapsed": false
   },
   "outputs": [
    {
     "name": "stdout",
     "output_type": "stream",
     "text": [
      "current run = 1\n",
      "\n",
      "\n",
      "Crossvalidation Results:\n",
      "\tk\tMSE\n",
      "\t1\t1927.0765190526674\n",
      "\t2\t1443.8787480187539\n",
      "\t3\t1080.0409263841343\n",
      "\t4\t862.2411688907335\n",
      "\t5\t705.1020809314726\n",
      "\t6\t507.3949184828667\n",
      "\t7\t391.96845175311284\n",
      "\t8\t368.4542118816205\n",
      "\t9\t350.6425973055326\n",
      "\t10\t345.8446309064211\n",
      "\t11\t348.2788551316564\n",
      "\t12\t359.4105897752303\n",
      "\t13\t364.17867254237615\n",
      "\t14\t377.24829700896595\n",
      "\t15\t381.3368331696641\n",
      "\t16\t386.202101887892\n",
      "\t17\t392.2275869571673\n",
      "\t18\t404.25529490899805\n",
      "\t19\t399.9942176486576\n",
      "\t20\t411.42781811189747\n",
      "\t21\t401.31373054942696\n",
      "\t22\t423.91470453781744\n",
      "\t23\t435.12255208049766\n",
      "\t24\t440.6975707755194\n",
      "\t25\t441.3406002521729\n",
      "\t26\t453.38035540718\n",
      "\t27\t444.533023686396\n",
      "\t28\t453.04214083470407\n",
      "\t29\t458.0104051341299\n",
      "\t30\t461.26479637719643\n",
      "\t31\t465.3330448088224\n",
      "\t32\t482.1175924752104\n",
      "\t33\t493.80952198457334\n",
      "\t34\t489.667276502509\n",
      "\t35\t494.7318551588827\n",
      "\t36\t496.1268166725306\n",
      "\t37\t499.88322706191354\n",
      "\t38\t502.7061704504717\n",
      "\t39\t543.5283786436145\n",
      "\t40\t511.0882072725324\n",
      "\t41\t503.9142937469825\n",
      "\t42\t548.3613173011001\n",
      "\t43\t508.7260449653686\n",
      "\t44\t481.0168126910387\n",
      "\t45\t513.5602935662588\n",
      "\t46\t551.8941282561236\n",
      "\t47\t532.474395233849\n",
      "\t48\t557.8114938509927\n",
      "\t49\t533.6844274719256\n",
      "\t50\t538.9601543332991\n",
      "\n",
      "The lowest MSE is achieved at k = 10 \n",
      "\n",
      "compare_model = 10×3 DataFrame\n",
      "│ Row │ true_β   │ IHT_β     │ lasso_β   │\n",
      "│     │ Float64  │ Float64   │ Float64   │\n",
      "├─────┼──────────┼───────────┼───────────┤\n",
      "│ 1   │ -1.29964 │ -1.24117  │ -1.14111  │\n",
      "│ 2   │ -0.2177  │ -0.234676 │ -0.124249 │\n",
      "│ 3   │ 0.786217 │ 0.820139  │ 0.710232  │\n",
      "│ 4   │ 0.599233 │ 0.583405  │ 0.481213  │\n",
      "│ 5   │ 0.283711 │ 0.298299  │ 0.199136  │\n",
      "│ 6   │ -1.12537 │ -1.14459  │ -1.0404   │\n",
      "│ 7   │ 0.693374 │ 0.673006  │ 0.588039  │\n",
      "│ 8   │ -0.67709 │ -0.709737 │ -0.626146 │\n",
      "│ 9   │ 0.14727  │ 0.16866   │ 0.0654867 │\n",
      "│ 10  │ 1.03477  │ 1.08116   │ 0.967405  │\n"
     ]
    }
   ],
   "source": [
    "#simulat data with k true predictors, from distribution d and with link l.\n",
    "n = 1000\n",
    "p = 10000\n",
    "k = 10\n",
    "d = Normal\n",
    "l = canonicallink(d())\n",
    "\n",
    "#set random seed\n",
    "Random.seed!(2019)\n",
    "\n",
    "#run function above, saving results in 4 vectors\n",
    "total_runs = 1\n",
    "iht_false_positives = zeros(total_runs)\n",
    "iht_false_negatives = zeros(total_runs)\n",
    "lasso_false_positives = zeros(total_runs)\n",
    "lasso_false_negatives = zeros(total_runs)\n",
    "for i in 1:total_runs\n",
    "    println(\"current run = $i\")\n",
    "    iht_fp, iht_fn, lasso_fp, lasso_fn = iht_lasso(n, p, k, d, l)\n",
    "    iht_false_positives[i] = iht_fp\n",
    "    iht_false_negatives[i] = iht_fn\n",
    "    lasso_false_positives[i] = lasso_fp\n",
    "    lasso_false_negatives[i] = lasso_fn\n",
    "end"
   ]
  },
  {
   "cell_type": "code",
   "execution_count": null,
   "metadata": {
    "collapsed": true
   },
   "outputs": [],
   "source": []
  },
  {
   "cell_type": "code",
   "execution_count": null,
   "metadata": {
    "collapsed": true
   },
   "outputs": [],
   "source": []
  },
  {
   "cell_type": "code",
   "execution_count": null,
   "metadata": {
    "collapsed": true
   },
   "outputs": [],
   "source": []
  },
  {
   "cell_type": "code",
   "execution_count": null,
   "metadata": {
    "collapsed": true
   },
   "outputs": [],
   "source": []
  },
  {
   "cell_type": "code",
   "execution_count": 31,
   "metadata": {
    "collapsed": false
   },
   "outputs": [
    {
     "data": {
      "text/plain": [
       "iht_lasso_normal (generic function with 2 methods)"
      ]
     },
     "execution_count": 31,
     "metadata": {},
     "output_type": "execute_result"
    }
   ],
   "source": [
    "function iht_lasso_normal(n :: Int64, p :: Int64, k :: Int64)\n",
    "    #construct snpmatrix, covariate files, and true model b\n",
    "    x, maf = simulate_random_snparray(n, p, \"./data/normal.bed\")\n",
    "    xbm = SnpBitMatrix{Float64}(x, model=ADDITIVE_MODEL, center=true, scale=true); \n",
    "    z = ones(n, 1) # non-genetic covariates, just the intercept\n",
    "    true_b = zeros(p)\n",
    "    true_b[1:k] = randn(k)\n",
    "    shuffle!(true_b)\n",
    "    correct_position = findall(x -> x != 0, true_b)\n",
    "    noise = rand(Normal(0, 1), n) # noise vectors from N(0, s) \n",
    "    x_float = [convert(Matrix{Float64}, x, center=true, scale=true) z] #Float64 version of x\n",
    "\n",
    "    #simulate phenotypes (e.g. vector y) via: y = Xb + noise\n",
    "    y = xbm * true_b + noise\n",
    "\n",
    "    #specify path and folds\n",
    "    num_folds = 3\n",
    "    folds = rand(1:num_folds, size(x, 1));\n",
    "\n",
    "    #run glmnet via Rcall\n",
    "    @rput x_float y folds num_folds #make variables visible to R\n",
    "    R\"lasso_cv_result = cv.glmnet(x_float, y, nfolds = num_folds, foldid = folds)\"\n",
    "    R\"lasso_beta_tmp = glmnet(x_float, y, lambda=lasso_cv_result$lambda.min)$beta\"\n",
    "    R\"lasso_beta = as.vector(lasso_beta_tmp)\"\n",
    "    @rget lasso_cv_result lasso_beta #pull result from R to Julia\n",
    "    lasso_k_est = length(findall(!iszero, lasso_beta))\n",
    "    \n",
    "    #find non-zero entries returned by best lasso model as largest k estimate\n",
    "    path = collect(1:50);\n",
    "    \n",
    "    #run IHT's cross validation routine \n",
    "    mses = cv_iht_distributed(x, z, y, 1, path, folds, num_folds, \"normal\", use_maf = false, debias=false, showinfo=false, parallel=true)\n",
    "    iht_k_est = argmin(mses)\n",
    "    iht_result = L0_normal_reg(x, xbm, z, y, 1, iht_k_est, debias=false)\n",
    "    iht_beta = iht_result.beta\n",
    "        \n",
    "    #show lasso and IHT's reconstruction result\n",
    "    compare_model = DataFrame(\n",
    "        true_β  = true_b[correct_position], \n",
    "        IHT_β   = iht_beta[correct_position],\n",
    "        lasso_β = lasso_beta[correct_position])\n",
    "    @show compare_model\n",
    "    \n",
    "    #compute precision/recall for IHT and lasso\n",
    "    iht_tp = length(findall(!iszero, iht_beta[correct_position]))\n",
    "    iht_fp = iht_k_est - iht_tp\n",
    "    iht_fn = k - iht_tp\n",
    "    iht_precision = iht_tp / (iht_tp + iht_fp)\n",
    "    iht_recall = iht_tp / (iht_tp + iht_fn)\n",
    "\n",
    "    lasso_tp = length(findall(!iszero, lasso_beta[correct_position]))\n",
    "    lasso_fp = lasso_k_est - lasso_tp\n",
    "    lasso_fn = k - lasso_tp\n",
    "    lasso_precision = lasso_tp / (lasso_tp + lasso_fp)\n",
    "    lasso_recall = lasso_tp / (lasso_tp + lasso_fn)\n",
    "    \n",
    "#     println(\"lasso estimated $lasso_k_est\")\n",
    "#     println(\"IHT estimated $iht_k_est\")\n",
    "#     println(iht_tp)\n",
    "#     println(iht_fp)\n",
    "#     println(iht_fn)\n",
    "#     println(lasso_tp)\n",
    "#     println(lasso_fp)\n",
    "#     println(lasso_fn)\n",
    "    \n",
    "    return iht_precision, iht_recall, lasso_precision, lasso_recall\n",
    "end"
   ]
  },
  {
   "cell_type": "code",
   "execution_count": 32,
   "metadata": {
    "collapsed": false
   },
   "outputs": [
    {
     "name": "stdout",
     "output_type": "stream",
     "text": [
      "[2.45987, 1.97982, 1.59474, 1.25621, 0.860642, 0.679042, 0.590805, 0.55617, 0.532006, 0.546, 0.551486, 0.563301, 0.571866, 0.571855, 0.576869, 0.609254, 0.614412, 0.623018, 0.621612, 0.624477, 0.644398, 0.656862, 0.671392, 0.66338, 0.658227, 0.696714, 0.706316, 0.710069, 0.694266, 0.709308, 0.724558, 0.731155, 0.744513, 0.753307, 0.733599, 0.752503, 0.754134, 0.799798, 0.800942, 0.809273, 0.795998, 0.797934, 0.797377, 0.808903, 0.868147, 0.851316, 0.825684, 0.847262, 0.880105, 0.886974]\n",
      "compare_model = 10×3 DataFrame\n",
      "│ Row │ true_β    │ IHT_β     │ lasso_β   │\n",
      "│     │ Float64   │ Float64   │ Float64   │\n",
      "├─────┼───────────┼───────────┼───────────┤\n",
      "│ 1   │ 0.0366837 │ 0.0       │ 0.0       │\n",
      "│ 2   │ 1.00474   │ 1.01942   │ 0.917629  │\n",
      "│ 3   │ 0.9989    │ 0.930238  │ 0.814742  │\n",
      "│ 4   │ 0.778596  │ 0.818491  │ 0.723922  │\n",
      "│ 5   │ 0.787098  │ 0.854464  │ 0.74252   │\n",
      "│ 6   │ -1.07958  │ -1.13027  │ -1.02692  │\n",
      "│ 7   │ -0.279566 │ -0.274712 │ -0.178466 │\n",
      "│ 8   │ -0.404658 │ -0.428998 │ -0.318629 │\n",
      "│ 9   │ 0.177909  │ 0.207698  │ 0.0954894 │\n",
      "│ 10  │ 0.585303  │ 0.601931  │ 0.50412   │\n"
     ]
    }
   ],
   "source": [
    "Random.seed!(2019)\n",
    "\n",
    "total_runs = 30\n",
    "iht_precision = zeros(total_runs)\n",
    "iht_recall = zeros(total_runs)\n",
    "lasso_precision = zeros(total_runs)\n",
    "lasso_recall = zeros(total_runs)\n",
    "for i in 1:total_runs\n",
    "    println(\"current run = $i\")\n",
    "    n = 1000\n",
    "    p = 10000\n",
    "    k = 10\n",
    "    ihtp, ihtr, lassop, lassor = iht_lasso_normal(n, p, k)\n",
    "    iht_precision[i] = ihtp\n",
    "    iht_recall[i] = ihtr\n",
    "    lasso_precision[i] = lassop\n",
    "    lasso_recall[i] = lassor\n",
    "end"
   ]
  },
  {
   "cell_type": "code",
   "execution_count": 39,
   "metadata": {
    "collapsed": false
   },
   "outputs": [
    {
     "data": {
      "text/plain": [
       "1×4 Array{Float64,2}:\n",
       " 1.0  0.9  0.310345  0.9"
      ]
     },
     "execution_count": 39,
     "metadata": {},
     "output_type": "execute_result"
    }
   ],
   "source": [
    "[iht_precision iht_recall lasso_precision lasso_recall]"
   ]
  },
  {
   "cell_type": "markdown",
   "metadata": {},
   "source": [
    "# Logistic response"
   ]
  },
  {
   "cell_type": "code",
   "execution_count": 3,
   "metadata": {
    "collapsed": false
   },
   "outputs": [
    {
     "data": {
      "text/plain": [
       "iht_lasso_logistic (generic function with 1 method)"
      ]
     },
     "execution_count": 3,
     "metadata": {},
     "output_type": "execute_result"
    }
   ],
   "source": [
    "function iht_lasso_logistic(n :: Int64, p :: Int64, k :: Int64)\n",
    "    glm = \"logistic\"\n",
    "\n",
    "    #construct snpmatrix, covariate files, and true model b\n",
    "    x, maf = simulate_random_snparray(n, p, \"logistic.bed\")\n",
    "    xbm = SnpBitMatrix{Float64}(x, model=ADDITIVE_MODEL, center=true, scale=true); \n",
    "    z = ones(n, 1) # non-genetic covariates, just the intercept\n",
    "    true_b = zeros(p)\n",
    "    true_b[1:k] = randn(k)\n",
    "    shuffle!(true_b)\n",
    "    correct_position = findall(x -> x != 0, true_b)\n",
    "    x_float = [convert(Matrix{Float64}, x, center=true, scale=true) z] #Float64 version of x\n",
    "\n",
    "    #simulate bernoulli data\n",
    "    y_temp = xbm * true_b\n",
    "    prob = logistic.(y_temp) #inverse logit link\n",
    "    y = [rand(Bernoulli(x)) for x in prob]\n",
    "    y = Float64.(y)\n",
    "\n",
    "    #specify path and folds\n",
    "    num_folds = 3\n",
    "    folds = rand(1:num_folds, size(x, 1));\n",
    "\n",
    "    #run glmnet via Rcall\n",
    "    @rput x_float y folds num_folds #make variables visible to R\n",
    "    R\"lasso_cv_result = cv.glmnet(x_float, y, nfolds = num_folds, foldid = folds, family='binomial')\"\n",
    "    R\"lasso_beta_tmp = glmnet(x_float, y, lambda=lasso_cv_result$lambda.min, family='binomial')$beta\"\n",
    "    R\"lasso_beta = as.vector(lasso_beta_tmp)\"\n",
    "    @rget lasso_cv_result lasso_beta #pull result from R to Julia\n",
    "    lasso_k_est = length(findall(!iszero, lasso_beta))\n",
    "    \n",
    "    #find non-zero entries returned by best lasso model as largest k estimate\n",
    "    path = collect(1:50);\n",
    "    \n",
    "    #run IHT's cross validation routine \n",
    "    mses = cv_iht_distributed(x, z, y, 1, path, folds, num_folds, glm, use_maf = false, debias=true)\n",
    "    iht_k_est = argmin(mses)\n",
    "    iht_result = L0_logistic_reg(x, xbm, z, y, 1, iht_k_est, glm = \"logistic\", debias=true, show_info=false, convg=true, init=false)\n",
    "    iht_beta = iht_result.beta\n",
    "        \n",
    "    #show lasso and IHT's reconstruction result\n",
    "    compare_model = DataFrame(\n",
    "        true_β  = true_b[correct_position],\n",
    "        IHT_β   = iht_beta[correct_position],\n",
    "        lasso_β = lasso_beta[correct_position])\n",
    "    @show compare_model\n",
    "\n",
    "    #compute precision/recall for IHT and lasso\n",
    "    iht_tp = length(findall(!iszero, iht_beta[correct_position]))\n",
    "    iht_fp = iht_k_est - iht_tp\n",
    "    iht_fn = k - iht_tp\n",
    "    iht_precision = iht_tp / (iht_tp + iht_fp)\n",
    "    iht_recall = iht_tp / (iht_tp + iht_fn)\n",
    "\n",
    "    lasso_tp = length(findall(!iszero, lasso_beta[correct_position]))\n",
    "    lasso_fp = lasso_k_est - lasso_tp\n",
    "    lasso_fn = k - lasso_tp\n",
    "    lasso_precision = lasso_tp / (lasso_tp + lasso_fp)\n",
    "    lasso_recall = lasso_tp / (lasso_tp + lasso_fn) \n",
    "    \n",
    "#     println(\"lasso estimated $lasso_k_est\")\n",
    "#     println(\"IHT estimated $iht_k_est\")\n",
    "#     println(iht_tp)\n",
    "#     println(iht_fp)\n",
    "#     println(iht_fn)\n",
    "#     println(lasso_tp)\n",
    "#     println(lasso_fp)\n",
    "#     println(lasso_fn)\n",
    "    \n",
    "    return iht_precision, iht_recall, lasso_precision, lasso_recall\n",
    "end"
   ]
  },
  {
   "cell_type": "code",
   "execution_count": 4,
   "metadata": {
    "collapsed": false
   },
   "outputs": [
    {
     "name": "stdout",
     "output_type": "stream",
     "text": [
      "current run = 1\n",
      "compare_model = 10×3 DataFrame\n",
      "│ Row │ true_β   │ IHT_β     │ lasso_β   │\n",
      "│     │ Float64  │ Float64   │ Float64   │\n",
      "├─────┼──────────┼───────────┼───────────┤\n",
      "│ 1   │ -1.29964 │ -1.20647  │ -0.696055 │\n",
      "│ 2   │ -0.2177  │ 0.0       │ -0.032045 │\n",
      "│ 3   │ 0.786217 │ 0.748135  │ 0.35188   │\n",
      "│ 4   │ 0.599233 │ 0.500641  │ 0.144367  │\n",
      "│ 5   │ 0.283711 │ 0.0       │ 0.101466  │\n",
      "│ 6   │ -1.12537 │ -1.09784  │ -0.63629  │\n",
      "│ 7   │ 0.693374 │ 0.580258  │ 0.261347  │\n",
      "│ 8   │ -0.67709 │ -0.718785 │ -0.337016 │\n",
      "│ 9   │ 0.14727  │ 0.0       │ 0.0       │\n",
      "│ 10  │ 1.03477  │ 1.02831   │ 0.591364  │\n"
     ]
    }
   ],
   "source": [
    "function run()\n",
    "    Random.seed!(2019)\n",
    "\n",
    "    total_runs = 30\n",
    "    iht_precision = zeros(total_runs)\n",
    "    iht_recall = zeros(total_runs)\n",
    "    lasso_precision = zeros(total_runs)\n",
    "    lasso_recall = zeros(total_runs)\n",
    "    for i in 1:total_runs\n",
    "        println(\"current run = $i\")\n",
    "        n = 1000\n",
    "        p = 10000\n",
    "        k = 10\n",
    "        ihtp, ihtr, lassop, lassor = iht_lasso_logistic(n, p, k)\n",
    "        iht_precision[i] = ihtp\n",
    "        iht_recall[i] = ihtr\n",
    "        lasso_precision[i] = lassop\n",
    "        lasso_recall[i] = lassor\n",
    "    end\n",
    "    writedlm(\"./logistic_results/iht_precision\", iht_precision)\n",
    "    writedlm(\"./logistic_results/iht_recall\", iht_recall)\n",
    "    writedlm(\"./logistic_results/lasso_precision\", lasso_precision)\n",
    "    writedlm(\"./logistic_results/lasso_precision\", lasso_precision)\n",
    "end"
   ]
  },
  {
   "cell_type": "code",
   "execution_count": 5,
   "metadata": {
    "collapsed": false
   },
   "outputs": [
    {
     "data": {
      "text/plain": [
       "1×4 Array{Float64,2}:\n",
       " 1.0  0.7  0.128571  0.9"
      ]
     },
     "execution_count": 5,
     "metadata": {},
     "output_type": "execute_result"
    }
   ],
   "source": [
    "[iht_precision iht_recall lasso_precision lasso_recall]"
   ]
  },
  {
   "cell_type": "markdown",
   "metadata": {},
   "source": [
    "# Poisson responses"
   ]
  },
  {
   "cell_type": "code",
   "execution_count": 11,
   "metadata": {
    "collapsed": false
   },
   "outputs": [
    {
     "data": {
      "text/plain": [
       "iht_lasso_poisson (generic function with 1 method)"
      ]
     },
     "execution_count": 11,
     "metadata": {},
     "output_type": "execute_result"
    }
   ],
   "source": [
    "function iht_lasso_poisson(n :: Int64, p :: Int64, k :: Int64)\n",
    "    glm = \"poisson\"\n",
    "\n",
    "    #construct snpmatrix, covariate files, and true model b\n",
    "    x, maf = simulate_random_snparray(n, p, \"poisson.bed\")\n",
    "    xbm = SnpBitMatrix{Float64}(x, model=ADDITIVE_MODEL, center=true, scale=true); \n",
    "    z = ones(n, 1) # non-genetic covariates, just the intercept\n",
    "    true_b = zeros(p)\n",
    "    true_b[1:k] = rand(Normal(0, 0.3), k)\n",
    "    shuffle!(true_b)\n",
    "    correct_position = findall(x -> x != 0, true_b)\n",
    "    x_float = [convert(Matrix{Float64}, x, center=true, scale=true) z] #Float64 version of x\n",
    "\n",
    "    # Simulate poisson data\n",
    "    y_temp = xbm * true_b\n",
    "    λ = exp.(y_temp) #inverse log link\n",
    "    y = [rand(Poisson(x)) for x in λ]\n",
    "    y = Float64.(y)\n",
    "\n",
    "    #specify path and folds\n",
    "    num_folds = 3\n",
    "    folds = rand(1:num_folds, size(x, 1));\n",
    "\n",
    "    #run glmnet via Rcall\n",
    "    @rput x_float y folds num_folds #make variables visible to R\n",
    "    R\"lasso_cv_result = cv.glmnet(x_float, y, nfolds = num_folds, foldid = folds, family='poisson')\"\n",
    "    R\"lasso_beta_tmp = glmnet(x_float, y, lambda=lasso_cv_result$lambda.min, family='poisson')$beta\"\n",
    "    R\"lasso_beta = as.vector(lasso_beta_tmp)\"\n",
    "    @rget lasso_cv_result lasso_beta #pull result from R to Julia\n",
    "    lasso_k_est = length(findall(!iszero, lasso_beta))\n",
    "    \n",
    "    #find non-zero entries returned by best lasso model as largest k estimate\n",
    "    path = collect(1:50);\n",
    "    \n",
    "    #run IHT's cross validation routine \n",
    "    mses = cv_iht_distributed(x, z, y, 1, path, folds, num_folds, glm, use_maf=false, debias=true)\n",
    "    iht_k_est = argmin(mses)\n",
    "    iht_result = L0_poisson_reg(x, xbm, z, y, 1, iht_k_est, glm = \"poisson\", debias=true, convg=false, show_info=false, true_beta=true_b, scale=false, init=false)\n",
    "    iht_beta = iht_result.beta\n",
    "        \n",
    "    #show lasso and IHT's reconstruction result\n",
    "    compare_model = DataFrame(\n",
    "        true_β  = true_b[correct_position],\n",
    "        IHT_β   = iht_beta[correct_position],\n",
    "        lasso_β = lasso_beta[correct_position])\n",
    "    @show compare_model\n",
    "\n",
    "    #compute precision/recall for IHT and lasso\n",
    "    iht_tp = length(findall(!iszero, iht_beta[correct_position]))\n",
    "    iht_fp = iht_k_est - iht_tp\n",
    "    iht_fn = k - iht_tp\n",
    "    iht_precision = iht_tp / (iht_tp + iht_fp)\n",
    "    iht_recall = iht_tp / (iht_tp + iht_fn)\n",
    "\n",
    "    lasso_tp = length(findall(!iszero, lasso_beta[correct_position]))\n",
    "    lasso_fp = lasso_k_est - lasso_tp\n",
    "    lasso_fn = k - lasso_tp\n",
    "    lasso_precision = lasso_tp / (lasso_tp + lasso_fp)\n",
    "    lasso_recall = lasso_tp / (lasso_tp + lasso_fn) \n",
    "    \n",
    "#     println(\"lasso estimated $lasso_k_est\")\n",
    "#     println(\"IHT estimated $iht_k_est\")\n",
    "#     println(iht_tp)\n",
    "#     println(iht_fp)\n",
    "#     println(iht_fn)\n",
    "#     println(lasso_tp)\n",
    "#     println(lasso_fp)\n",
    "#     println(lasso_fn)\n",
    "    \n",
    "    return iht_precision, iht_recall, lasso_precision, lasso_recall\n",
    "end"
   ]
  },
  {
   "cell_type": "code",
   "execution_count": 12,
   "metadata": {
    "collapsed": false
   },
   "outputs": [
    {
     "name": "stdout",
     "output_type": "stream",
     "text": [
      "current run = 1\n",
      "compare_model = 10×3 DataFrame\n",
      "│ Row │ true_β     │ IHT_β     │ lasso_β   │\n",
      "│     │ Float64    │ Float64   │ Float64   │\n",
      "├─────┼────────────┼───────────┼───────────┤\n",
      "│ 1   │ -0.389892  │ -0.395049 │ -0.273347 │\n",
      "│ 2   │ -0.0653099 │ 0.0       │ 0.0       │\n",
      "│ 3   │ 0.235865   │ 0.265943  │ 0.177224  │\n",
      "│ 4   │ 0.17977    │ 0.235471  │ 0.156896  │\n",
      "│ 5   │ 0.0851134  │ 0.0       │ 0.0187873 │\n",
      "│ 6   │ -0.33761   │ -0.306962 │ -0.18046  │\n",
      "│ 7   │ 0.208012   │ 0.2307    │ 0.177488  │\n",
      "│ 8   │ -0.203127  │ -0.216157 │ -0.139893 │\n",
      "│ 9   │ 0.0441809  │ 0.0       │ 0.0       │\n",
      "│ 10  │ 0.310431   │ 0.294472  │ 0.219388  │\n",
      "lasso estimated 50\n",
      "IHT estimated 7\n",
      "7\n",
      "0\n",
      "3\n",
      "8\n",
      "42\n",
      "2\n"
     ]
    }
   ],
   "source": [
    "function run()\n",
    "    Random.seed!(2019)\n",
    "\n",
    "    total_runs = 30\n",
    "    iht_precision = zeros(total_runs)\n",
    "    iht_recall = zeros(total_runs)\n",
    "    lasso_precision = zeros(total_runs)\n",
    "    lasso_recall = zeros(total_runs)\n",
    "    for i in 1:total_runs\n",
    "        println(\"current run = $i\")\n",
    "        n = 1000\n",
    "        p = 10000\n",
    "        k = 10\n",
    "        ihtp, ihtr, lassop, lassor = iht_lasso_poisson(n, p, k)\n",
    "        iht_precision[i] = ihtp\n",
    "        iht_recall[i] = ihtr\n",
    "        lasso_precision[i] = lassop\n",
    "        lasso_recall[i] = lassor\n",
    "    end\n",
    "    \n",
    "    writedlm(\"./poisson_results/iht_precision\", iht_precision)\n",
    "    writedlm(\"./poisson_results/iht_recall\", iht_recall)\n",
    "    writedlm(\"./poisson_results/lasso_precision\", lasso_precision)\n",
    "    writedlm(\"./poisson_results/lasso_precision\", lasso_precision)\n",
    "end"
   ]
  },
  {
   "cell_type": "code",
   "execution_count": 13,
   "metadata": {
    "collapsed": false
   },
   "outputs": [
    {
     "data": {
      "text/plain": [
       "1×4 Array{Float64,2}:\n",
       " 1.0  0.7  0.16  0.8"
      ]
     },
     "execution_count": 13,
     "metadata": {},
     "output_type": "execute_result"
    }
   ],
   "source": [
    "[iht_precision iht_recall lasso_precision lasso_recall]"
   ]
  }
 ],
 "metadata": {
  "kernelspec": {
   "display_name": "Julia 1.0.3",
   "language": "julia",
   "name": "julia-1.0"
  },
  "language_info": {
   "file_extension": ".jl",
   "mimetype": "application/julia",
   "name": "julia",
   "version": "1.0.3"
  }
 },
 "nbformat": 4,
 "nbformat_minor": 2
}
