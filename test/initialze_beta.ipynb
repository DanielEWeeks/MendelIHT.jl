{
 "cells": [
  {
   "cell_type": "markdown",
   "metadata": {},
   "source": [
    "# Test initialize beta function\n",
    "\n",
    "In IHT, we can initialze beta values to their univariate values. That is, $\\beta_i$ is set to the estimated beta with $y$ as response, and $x_i$ with an intercept term as covariate."
   ]
  },
  {
   "cell_type": "code",
   "execution_count": 1,
   "metadata": {
    "collapsed": false
   },
   "outputs": [],
   "source": [
    "using Revise\n",
    "using MendelIHT\n",
    "using SnpArrays\n",
    "using Random\n",
    "using GLM\n",
    "using DelimitedFiles\n",
    "using Test\n",
    "using Distributions\n",
    "using LinearAlgebra\n",
    "using CSV\n",
    "using DataFrames\n",
    "using StatsBase\n",
    "using TraitSimulation"
   ]
  },
  {
   "cell_type": "code",
   "execution_count": 2,
   "metadata": {
    "collapsed": false
   },
   "outputs": [
    {
     "data": {
      "text/plain": [
       "initialize_beta (generic function with 1 method)"
      ]
     },
     "execution_count": 2,
     "metadata": {},
     "output_type": "execute_result"
    }
   ],
   "source": [
    "\"\"\"\n",
    "    linreg(x::Vector, y::Vector)\n",
    "\n",
    "Performs linear regression with `y` as response, `x` and a vector of 1 as\n",
    "covariate. `β̂` will be stored in `xty_store`. \n",
    "\n",
    "Code inspired from Doug Bates on Discourse:\n",
    "https://discourse.julialang.org/t/efficient-way-of-doing-linear-regression/31232/28\n",
    "\"\"\"\n",
    "function linreg!(\n",
    "    x::AbstractVector{T},\n",
    "    y::AbstractVector{T},\n",
    "    xtx_store::AbstractMatrix{T} = zeros(T, 2, 2),\n",
    "    xty_store::AbstractVector{T} = zeros(T, 2)\n",
    "    ) where {T<:AbstractFloat}\n",
    "    N = length(x)\n",
    "    N == length(y) || throw(DimensionMismatch())\n",
    "    xtx_store[1, 1] = N\n",
    "    xtx_store[1, 2] = sum(x)\n",
    "    xtx_store[2, 2] = sum(abs2, x)\n",
    "    xty_store[1] = sum(y)\n",
    "    xty_store[2] = dot(x, y)\n",
    "    ldiv!(cholesky!(Symmetric(xtx_store, :U)), xty_store)\n",
    "    return xty_store\n",
    "end\n",
    "\n",
    "function initialize_beta(y::AbstractVector, x::AbstractMatrix)\n",
    "    n, p = size(x)\n",
    "    xtx_store = zeros(2, 2)\n",
    "    xty_store = zeros(2)\n",
    "    β = zeros(p)\n",
    "    for i in 1:p\n",
    "        linreg!(@view(x[:, i]), y, xtx_store, xty_store)\n",
    "        β[i] = xty_store[2]\n",
    "    end\n",
    "    return β\n",
    "end"
   ]
  },
  {
   "cell_type": "markdown",
   "metadata": {},
   "source": [
    "## General matrices"
   ]
  },
  {
   "cell_type": "code",
   "execution_count": 3,
   "metadata": {
    "collapsed": false
   },
   "outputs": [],
   "source": [
    "Random.seed!(111)\n",
    "n = 10000\n",
    "p = 10\n",
    "x = randn(n, p)\n",
    "βtrue = randn(p)\n",
    "y = x * βtrue + 0.1randn(n);"
   ]
  },
  {
   "cell_type": "code",
   "execution_count": 4,
   "metadata": {
    "collapsed": false
   },
   "outputs": [
    {
     "data": {
      "text/plain": [
       "10×3 Array{Float64,2}:\n",
       "  2.05791    1.96174    1.96003\n",
       " -0.291102  -0.227084  -0.226961\n",
       " -0.786065  -0.695332  -0.696983\n",
       " -0.457251  -0.471151  -0.470722\n",
       "  0.231683   0.176485   0.177769\n",
       " -2.13299   -2.07862   -2.07842\n",
       "  2.01815    1.91951    1.91859\n",
       "  1.17988    1.18691    1.18838\n",
       "  1.48591    1.43662    1.43707\n",
       "  1.38753    1.41129    1.40999"
      ]
     },
     "execution_count": 4,
     "metadata": {},
     "output_type": "execute_result"
    }
   ],
   "source": [
    "# compare initialized value to multiple linear regression to truth\n",
    "[initialize_beta(y, x) x\\y βtrue]"
   ]
  },
  {
   "cell_type": "code",
   "execution_count": 5,
   "metadata": {
    "collapsed": false,
    "scrolled": true
   },
   "outputs": [
    {
     "data": {
      "text/plain": [
       "10-element Array{Float64,1}:\n",
       "  0.09787941653099996\n",
       " -0.06414123513643402\n",
       " -0.08908232888485446\n",
       "  0.01347151929359347\n",
       "  0.05391369745308988\n",
       " -0.054565873990521485\n",
       "  0.09955851125928827\n",
       " -0.008499816030518526\n",
       "  0.04884058357021703\n",
       " -0.022461720603279556"
      ]
     },
     "execution_count": 5,
     "metadata": {},
     "output_type": "execute_result"
    }
   ],
   "source": [
    "βinit = initialize_beta(y, x)\n",
    "βinit - βtrue"
   ]
  },
  {
   "cell_type": "code",
   "execution_count": 6,
   "metadata": {
    "collapsed": false
   },
   "outputs": [
    {
     "data": {
      "text/plain": [
       "true"
      ]
     },
     "execution_count": 6,
     "metadata": {},
     "output_type": "execute_result"
    }
   ],
   "source": [
    "all(βinit - βtrue .< 0.1)"
   ]
  },
  {
   "cell_type": "markdown",
   "metadata": {},
   "source": [
    "## SnpLinAlg"
   ]
  },
  {
   "cell_type": "code",
   "execution_count": 7,
   "metadata": {
    "collapsed": false,
    "scrolled": true
   },
   "outputs": [],
   "source": [
    "n = 1000\n",
    "p = 10000\n",
    "k = 10\n",
    "d = Normal\n",
    "l = canonicallink(d())\n",
    "\n",
    "Random.seed!(2020)\n",
    "x = simulate_random_snparray(undef, n, p)\n",
    "xla = SnpLinAlg{Float64}(x, center=true, scale=true)\n",
    "y, true_b, correct_position = simulate_random_response(xla, k, d, l);"
   ]
  },
  {
   "cell_type": "code",
   "execution_count": 8,
   "metadata": {
    "collapsed": false
   },
   "outputs": [
    {
     "name": "stdout",
     "output_type": "stream",
     "text": [
      "****                   MendelIHT Version 1.4.0                  ****\n",
      "****     Benjamin Chu, Kevin Keys, Chris German, Hua Zhou       ****\n",
      "****   Jin Zhou, Eric Sobel, Janet Sinsheimer, Kenneth Lange    ****\n",
      "****                                                            ****\n",
      "****                 Please cite our paper!                     ****\n",
      "****         https://doi.org/10.1093/gigascience/giaa044        ****\n",
      "\n",
      "Running sparse linear regression\n",
      "Link functin = IdentityLink()\n",
      "Sparsity parameter (k) = 11\n",
      "Prior weight scaling = off\n",
      "Doubly sparse projection = off\n",
      "Debias = off\n",
      "Max IHT iterations = 200\n",
      "Converging when tol < 0.0001:\n",
      "\n",
      "Iteration 1: loglikelihood = -1581.7768780898489, backtracks = 0, tol = 1.3552509908102688\n",
      "Iteration 2: loglikelihood = -1409.6637302568977, backtracks = 0, tol = 0.12655245087839057\n",
      "Iteration 3: loglikelihood = -1381.0402635243368, backtracks = 0, tol = 0.06377958391062873\n",
      "Iteration 4: loglikelihood = -1379.5419533307588, backtracks = 0, tol = 0.045125306615027116\n",
      "Iteration 5: loglikelihood = -1379.2615669859383, backtracks = 0, tol = 0.004295943811229631\n",
      "Iteration 6: loglikelihood = -1379.2595672246682, backtracks = 1, tol = 0.0002650650829338823\n",
      "Iteration 7: loglikelihood = -1379.259039232089, backtracks = 1, tol = 0.0001352598082630678\n",
      "Iteration 8: loglikelihood = -1379.2589012494866, backtracks = 1, tol = 6.711070678011566e-5\n",
      "Iteration 9: loglikelihood = -1379.258865632308, backtracks = 1, tol = 3.2551873547417345e-5\n",
      "Iteration 10: loglikelihood = -1379.2588565310857, backtracks = 1, tol = 1.5577911123294555e-5\n"
     ]
    },
    {
     "data": {
      "text/plain": [
       "\n",
       "IHT estimated 11 nonzero SNP predictors and 0 non-genetic predictors.\n",
       "\n",
       "Compute time (sec):     0.5957999229431152\n",
       "Final loglikelihood:    -1379.2588565310857\n",
       "SNP PVE:                0.8702634813628288\n",
       "Iterations:             10\n",
       "\n",
       "Selected genetic predictors:\n",
       "\u001b[1m11×2 DataFrame\u001b[0m\n",
       "\u001b[1m Row \u001b[0m│\u001b[1m Position \u001b[0m\u001b[1m Estimated_β \u001b[0m\n",
       "\u001b[1m     \u001b[0m│\u001b[90m Int64    \u001b[0m\u001b[90m Float64     \u001b[0m\n",
       "─────┼───────────────────────\n",
       "   1 │      173     0.231313\n",
       "   2 │     4779    -1.09732\n",
       "   3 │     5560     0.106919\n",
       "   4 │     6260    -0.128241\n",
       "   5 │     7121     0.145675\n",
       "   6 │     7159     1.18797\n",
       "   7 │     7357     1.62846\n",
       "   8 │     8276     0.223418\n",
       "   9 │     8529    -0.436094\n",
       "  10 │     8592    -0.115408\n",
       "  11 │     8942    -0.88203\n",
       "\n",
       "Selected nongenetic predictors:\n",
       "\u001b[1m0×2 DataFrame\u001b[0m"
      ]
     },
     "execution_count": 8,
     "metadata": {},
     "output_type": "execute_result"
    }
   ],
   "source": [
    "result = fit_iht(y, xla, k=11, init_beta=false)"
   ]
  },
  {
   "cell_type": "code",
   "execution_count": 9,
   "metadata": {
    "collapsed": false,
    "scrolled": false
   },
   "outputs": [
    {
     "name": "stdout",
     "output_type": "stream",
     "text": [
      "****                   MendelIHT Version 1.4.0                  ****\n",
      "****     Benjamin Chu, Kevin Keys, Chris German, Hua Zhou       ****\n",
      "****   Jin Zhou, Eric Sobel, Janet Sinsheimer, Kenneth Lange    ****\n",
      "****                                                            ****\n",
      "****                 Please cite our paper!                     ****\n",
      "****         https://doi.org/10.1093/gigascience/giaa044        ****\n",
      "\n",
      "Running sparse linear regression\n",
      "Link functin = IdentityLink()\n",
      "Sparsity parameter (k) = 11\n",
      "Prior weight scaling = off\n",
      "Doubly sparse projection = off\n",
      "Debias = off\n",
      "Max IHT iterations = 200\n",
      "Converging when tol < 0.0001:\n",
      "\n",
      "Iteration 1: loglikelihood = -2491.2517588516744, backtracks = 0, tol = 0.5330137594941751\n",
      "Iteration 2: loglikelihood = -1627.8632644711122, backtracks = 0, tol = 0.31821983069626636\n",
      "Iteration 3: loglikelihood = -1414.2063646054137, backtracks = 0, tol = 0.11619629982267554\n",
      "Iteration 4: loglikelihood = -1384.4575659795526, backtracks = 0, tol = 0.05082685059215144\n",
      "Iteration 5: loglikelihood = -1380.592839628484, backtracks = 0, tol = 0.04628675789737859\n",
      "Iteration 6: loglikelihood = -1378.3999255152858, backtracks = 0, tol = 0.04344546563020439\n",
      "Iteration 7: loglikelihood = -1378.1887958597365, backtracks = 0, tol = 0.00403594926457982\n",
      "Iteration 8: loglikelihood = -1378.1857676864565, backtracks = 0, tol = 0.0006452800398751132\n",
      "Iteration 9: loglikelihood = -1378.185706968956, backtracks = 0, tol = 7.372251411771755e-5\n",
      "Iteration 10: loglikelihood = -1378.1857056788483, backtracks = 0, tol = 1.2735495751589739e-5\n"
     ]
    },
    {
     "data": {
      "text/plain": [
       "\n",
       "IHT estimated 11 nonzero SNP predictors and 0 non-genetic predictors.\n",
       "\n",
       "Compute time (sec):     0.5657999515533447\n",
       "Final loglikelihood:    -1378.1857056788483\n",
       "SNP PVE:                0.8705146483705939\n",
       "Iterations:             10\n",
       "\n",
       "Selected genetic predictors:\n",
       "\u001b[1m11×2 DataFrame\u001b[0m\n",
       "\u001b[1m Row \u001b[0m│\u001b[1m Position \u001b[0m\u001b[1m Estimated_β \u001b[0m\n",
       "\u001b[1m     \u001b[0m│\u001b[90m Int64    \u001b[0m\u001b[90m Float64     \u001b[0m\n",
       "─────┼───────────────────────\n",
       "   1 │      173     0.225838\n",
       "   2 │     2126     0.118987\n",
       "   3 │     4779    -1.09328\n",
       "   4 │     6260    -0.12721\n",
       "   5 │     7121     0.13656\n",
       "   6 │     7159     1.19744\n",
       "   7 │     7357     1.63647\n",
       "   8 │     8276     0.217466\n",
       "   9 │     8529    -0.436074\n",
       "  10 │     8592    -0.119344\n",
       "  11 │     8942    -0.884608\n",
       "\n",
       "Selected nongenetic predictors:\n",
       "\u001b[1m0×2 DataFrame\u001b[0m"
      ]
     },
     "execution_count": 9,
     "metadata": {},
     "output_type": "execute_result"
    }
   ],
   "source": [
    "result2 = fit_iht(y, xla, k=11, init_beta=true)"
   ]
  },
  {
   "cell_type": "code",
   "execution_count": 10,
   "metadata": {
    "collapsed": false
   },
   "outputs": [
    {
     "data": {
      "text/plain": [
       "10×4 Array{Float64,2}:\n",
       "  0.172514    0.231313   0.225838   0.290051\n",
       " -0.0833819   0.0        0.0        0.113896\n",
       " -1.12519    -1.09732   -1.09328   -1.09083\n",
       " -0.0668759   0.0        0.0        0.0326341\n",
       "  1.16751     1.18797    1.19744    1.25615\n",
       "  1.61687     1.62846    1.63647    1.5655\n",
       " -0.0150496   0.0        0.0       -0.0616128\n",
       "  0.318712    0.223418   0.217466   0.240515\n",
       " -0.483093   -0.436094  -0.436074  -0.420895\n",
       " -0.838352   -0.88203   -0.884608  -0.893621"
      ]
     },
     "execution_count": 10,
     "metadata": {},
     "output_type": "execute_result"
    }
   ],
   "source": [
    "# compare initialized value to IHT's estimate to truth\n",
    "[initialize_beta(y, xla)[correct_position] result.beta[correct_position] result2.beta[correct_position] true_b[correct_position]]"
   ]
  },
  {
   "cell_type": "code",
   "execution_count": 11,
   "metadata": {
    "collapsed": false
   },
   "outputs": [
    {
     "data": {
      "text/plain": [
       "true"
      ]
     },
     "execution_count": 11,
     "metadata": {},
     "output_type": "execute_result"
    }
   ],
   "source": [
    "# SnpLinAlg\n",
    "n = 1000\n",
    "p = 10000\n",
    "k = 10\n",
    "d = Normal\n",
    "l = canonicallink(d())\n",
    "\n",
    "Random.seed!(2020)\n",
    "x = simulate_random_snparray(undef, n, p)\n",
    "xla = SnpLinAlg{Float64}(x, center=true, scale=true)\n",
    "y, βtrue, correct_position = simulate_random_response(xla, k, d, l);\n",
    "\n",
    "βinit = initialize_beta(y, xla)\n",
    "all(βinit[correct_position] - βtrue[correct_position] .< 0.1)"
   ]
  },
  {
   "cell_type": "code",
   "execution_count": null,
   "metadata": {
    "collapsed": true
   },
   "outputs": [],
   "source": []
  }
 ],
 "metadata": {
  "kernelspec": {
   "display_name": "Julia 1.5.0",
   "language": "julia",
   "name": "julia-1.5"
  },
  "language_info": {
   "file_extension": ".jl",
   "mimetype": "application/julia",
   "name": "julia",
   "version": "1.5.0"
  }
 },
 "nbformat": 4,
 "nbformat_minor": 2
}
