{
 "cells": [
  {
   "cell_type": "markdown",
   "metadata": {},
   "source": [
    "# Test initialize beta function\n",
    "\n",
    "In IHT, we can initialze beta values to their univariate values. That is, $\\beta_i$ is set to the estimated beta with $y$ as response, and $x_i$ with an intercept term as covariate."
   ]
  },
  {
   "cell_type": "code",
   "execution_count": 1,
   "metadata": {
    "collapsed": false
   },
   "outputs": [
    {
     "name": "stderr",
     "output_type": "stream",
     "text": [
      "┌ Info: Precompiling MendelIHT [921c7187-1484-5754-b919-5d3ed9ac03c4]\n",
      "└ @ Base loading.jl:1278\n"
     ]
    }
   ],
   "source": [
    "using Revise\n",
    "using MendelIHT\n",
    "using SnpArrays\n",
    "using Random\n",
    "using GLM\n",
    "using DelimitedFiles\n",
    "using Test\n",
    "using Distributions\n",
    "using LinearAlgebra\n",
    "using CSV\n",
    "using DataFrames\n",
    "using StatsBase\n",
    "using TraitSimulation"
   ]
  },
  {
   "cell_type": "code",
   "execution_count": 2,
   "metadata": {
    "collapsed": false
   },
   "outputs": [
    {
     "data": {
      "text/plain": [
       "initialize_beta (generic function with 2 methods)"
      ]
     },
     "execution_count": 2,
     "metadata": {},
     "output_type": "execute_result"
    }
   ],
   "source": [
    "\"\"\"\n",
    "    linreg(x::Vector, y::Vector)\n",
    "\n",
    "Performs linear regression with `y` as response, `x` and a vector of 1 as\n",
    "covariate. `β̂` will be stored in `xty_store`. \n",
    "\n",
    "Code inspired from Doug Bates on Discourse:\n",
    "https://discourse.julialang.org/t/efficient-way-of-doing-linear-regression/31232/28\n",
    "\"\"\"\n",
    "function linreg!(\n",
    "    x::AbstractVector{T},\n",
    "    y::AbstractVector{T},\n",
    "    xtx_store::AbstractMatrix{T} = zeros(T, 2, 2),\n",
    "    xty_store::AbstractVector{T} = zeros(T, 2)\n",
    "    ) where {T<:AbstractFloat}\n",
    "    N = length(x)\n",
    "    N == length(y) || throw(DimensionMismatch())\n",
    "    xtx_store[1, 1] = N\n",
    "    xtx_store[1, 2] = sum(x)\n",
    "    xtx_store[2, 2] = sum(abs2, x)\n",
    "    xty_store[1] = sum(y)\n",
    "    xty_store[2] = dot(x, y)\n",
    "    ldiv!(cholesky!(Symmetric(xtx_store, :U)), xty_store)\n",
    "    return xty_store\n",
    "end\n",
    "\n",
    "function initialize_beta(y::AbstractVector, x::AbstractMatrix)\n",
    "    n, p = size(x)\n",
    "    xtx_store = zeros(2, 2)\n",
    "    xty_store = zeros(2)\n",
    "    β = zeros(p)\n",
    "    for i in 1:p\n",
    "        linreg!(@view(x[:, i]), y, xtx_store, xty_store)\n",
    "        β[i] = xty_store[2]\n",
    "    end\n",
    "    return β\n",
    "end\n",
    "\n",
    "function initialize_beta(y::AbstractMatrix, x::AbstractMatrix)\n",
    "    p, n = size(x)\n",
    "    r = size(y, 1) # number of traits\n",
    "    xtx_store = zeros(2, 2)\n",
    "    xty_store = zeros(2)\n",
    "    B = zeros(r, p)\n",
    "    for j in 1:r # loop over each y\n",
    "        yj = @view(y[j, :])\n",
    "        for i in 1:p\n",
    "            linreg!(@view(x[i, :]), yj, xtx_store, xty_store)\n",
    "            B[j, i] = xty_store[2]\n",
    "        end\n",
    "    end\n",
    "    return B\n",
    "end"
   ]
  },
  {
   "cell_type": "markdown",
   "metadata": {},
   "source": [
    "## Univariate general matrices"
   ]
  },
  {
   "cell_type": "code",
   "execution_count": 3,
   "metadata": {
    "collapsed": false
   },
   "outputs": [],
   "source": [
    "Random.seed!(111)\n",
    "n = 10000\n",
    "p = 10\n",
    "x = randn(n, p)\n",
    "βtrue = randn(p)\n",
    "y = x * βtrue + 0.1randn(n);"
   ]
  },
  {
   "cell_type": "code",
   "execution_count": 4,
   "metadata": {
    "collapsed": false
   },
   "outputs": [
    {
     "data": {
      "text/plain": [
       "10×3 Array{Float64,2}:\n",
       "  2.05791    1.96174    1.96003\n",
       " -0.291102  -0.227084  -0.226961\n",
       " -0.786065  -0.695332  -0.696983\n",
       " -0.457251  -0.471151  -0.470722\n",
       "  0.231683   0.176485   0.177769\n",
       " -2.13299   -2.07862   -2.07842\n",
       "  2.01815    1.91951    1.91859\n",
       "  1.17988    1.18691    1.18838\n",
       "  1.48591    1.43662    1.43707\n",
       "  1.38753    1.41129    1.40999"
      ]
     },
     "execution_count": 4,
     "metadata": {},
     "output_type": "execute_result"
    }
   ],
   "source": [
    "# compare initialized value to multiple linear regression to truth\n",
    "[initialize_beta(y, x) x\\y βtrue]"
   ]
  },
  {
   "cell_type": "code",
   "execution_count": 5,
   "metadata": {
    "collapsed": false,
    "scrolled": true
   },
   "outputs": [
    {
     "data": {
      "text/plain": [
       "10-element Array{Float64,1}:\n",
       "  0.09787941653099996\n",
       " -0.06414123513643402\n",
       " -0.08908232888485446\n",
       "  0.01347151929359347\n",
       "  0.05391369745308988\n",
       " -0.054565873990521485\n",
       "  0.09955851125928827\n",
       " -0.008499816030518526\n",
       "  0.04884058357021703\n",
       " -0.022461720603279556"
      ]
     },
     "execution_count": 5,
     "metadata": {},
     "output_type": "execute_result"
    }
   ],
   "source": [
    "βinit = initialize_beta(y, x)\n",
    "βinit - βtrue"
   ]
  },
  {
   "cell_type": "code",
   "execution_count": 6,
   "metadata": {
    "collapsed": false
   },
   "outputs": [
    {
     "data": {
      "text/plain": [
       "true"
      ]
     },
     "execution_count": 6,
     "metadata": {},
     "output_type": "execute_result"
    }
   ],
   "source": [
    "all(βinit - βtrue .< 0.1)"
   ]
  },
  {
   "cell_type": "markdown",
   "metadata": {},
   "source": [
    "## Univariate SnpLinAlg"
   ]
  },
  {
   "cell_type": "code",
   "execution_count": 95,
   "metadata": {
    "collapsed": false,
    "scrolled": true
   },
   "outputs": [],
   "source": [
    "n = 1000\n",
    "p = 10000\n",
    "k = 10\n",
    "d = Normal\n",
    "l = canonicallink(d())\n",
    "\n",
    "Random.seed!(2021)\n",
    "x = simulate_random_snparray(undef, n, p)\n",
    "xla = SnpLinAlg{Float64}(x, center=true, scale=true)\n",
    "y, true_b, correct_position = simulate_random_response(xla, k, d, l);"
   ]
  },
  {
   "cell_type": "code",
   "execution_count": 96,
   "metadata": {
    "collapsed": false,
    "scrolled": true
   },
   "outputs": [
    {
     "name": "stdout",
     "output_type": "stream",
     "text": [
      "****                   MendelIHT Version 1.4.0                  ****\n",
      "****     Benjamin Chu, Kevin Keys, Chris German, Hua Zhou       ****\n",
      "****   Jin Zhou, Eric Sobel, Janet Sinsheimer, Kenneth Lange    ****\n",
      "****                                                            ****\n",
      "****                 Please cite our paper!                     ****\n",
      "****         https://doi.org/10.1093/gigascience/giaa044        ****\n",
      "\n",
      "Running sparse linear regression\n",
      "Link functin = IdentityLink()\n",
      "Sparsity parameter (k) = 11\n",
      "Prior weight scaling = off\n",
      "Doubly sparse projection = off\n",
      "Debias = off\n",
      "Max IHT iterations = 200\n",
      "Converging when tol < 0.0001:\n",
      "\n",
      "Iteration 1: loglikelihood = -1593.9929287471011, backtracks = 0, tol = 1.20797234572672\n",
      "Iteration 2: loglikelihood = -1487.2621799703284, backtracks = 0, tol = 0.12334401922028171\n",
      "Iteration 3: loglikelihood = -1468.8965217422317, backtracks = 0, tol = 0.05510756549097026\n",
      "Iteration 4: loglikelihood = -1467.3016301297482, backtracks = 0, tol = 0.05286328443463906\n",
      "Iteration 5: loglikelihood = -1466.974706555155, backtracks = 0, tol = 0.00685787502440212\n",
      "Iteration 6: loglikelihood = -1466.5771254627196, backtracks = 0, tol = 0.047850713149917935\n",
      "Iteration 7: loglikelihood = -1466.488332500151, backtracks = 1, tol = 0.002139099612512631\n",
      "Iteration 8: loglikelihood = -1466.4641802200022, backtracks = 1, tol = 0.0012234079372314796\n",
      "Iteration 9: loglikelihood = -1466.4577391494552, backtracks = 1, tol = 0.0006615977829827206\n",
      "Iteration 10: loglikelihood = -1466.456064940148, backtracks = 1, tol = 0.0003407972172908103\n",
      "Iteration 11: loglikelihood = -1466.4556380279882, backtracks = 1, tol = 0.00017061855156531112\n",
      "Iteration 12: loglikelihood = -1466.455530287542, backtracks = 1, tol = 8.445688850431311e-5\n"
     ]
    },
    {
     "data": {
      "text/plain": [
       "\n",
       "IHT estimated 11 nonzero SNP predictors and 0 non-genetic predictors.\n",
       "\n",
       "Compute time (sec):     0.6524169445037842\n",
       "Final loglikelihood:    -1466.455530287542\n",
       "SNP PVE:                0.8438409927824799\n",
       "Iterations:             12\n",
       "\n",
       "Selected genetic predictors:\n",
       "\u001b[1m11×2 DataFrame\u001b[0m\n",
       "\u001b[1m Row \u001b[0m│\u001b[1m Position \u001b[0m\u001b[1m Estimated_β \u001b[0m\n",
       "\u001b[1m     \u001b[0m│\u001b[90m Int64    \u001b[0m\u001b[90m Float64     \u001b[0m\n",
       "─────┼───────────────────────\n",
       "   1 │      782    -0.443537\n",
       "   2 │      901     0.753927\n",
       "   3 │     1204     0.698528\n",
       "   4 │     1306    -1.43028\n",
       "   5 │     1655    -0.192022\n",
       "   6 │     3160    -0.865703\n",
       "   7 │     3936    -0.153925\n",
       "   8 │     4201     0.334507\n",
       "   9 │     4402    -0.128446\n",
       "  10 │     6879    -1.21182\n",
       "  11 │     8055     0.115916\n",
       "\n",
       "Selected nongenetic predictors:\n",
       "\u001b[1m0×2 DataFrame\u001b[0m"
      ]
     },
     "execution_count": 96,
     "metadata": {},
     "output_type": "execute_result"
    }
   ],
   "source": [
    "result = fit_iht(y, xla, k=11, init_beta=false)"
   ]
  },
  {
   "cell_type": "code",
   "execution_count": 97,
   "metadata": {
    "collapsed": false
   },
   "outputs": [
    {
     "name": "stdout",
     "output_type": "stream",
     "text": [
      "****                   MendelIHT Version 1.4.0                  ****\n",
      "****     Benjamin Chu, Kevin Keys, Chris German, Hua Zhou       ****\n",
      "****   Jin Zhou, Eric Sobel, Janet Sinsheimer, Kenneth Lange    ****\n",
      "****                                                            ****\n",
      "****                 Please cite our paper!                     ****\n",
      "****         https://doi.org/10.1093/gigascience/giaa044        ****\n",
      "\n",
      "Running sparse linear regression\n",
      "Link functin = IdentityLink()\n",
      "Sparsity parameter (k) = 11\n",
      "Prior weight scaling = off\n",
      "Doubly sparse projection = off\n",
      "Debias = off\n",
      "Max IHT iterations = 200\n",
      "Converging when tol < 0.0001:\n",
      "\n",
      "Iteration 1: loglikelihood = -2502.977705625754, backtracks = 0, tol = 0.5052752478773777\n",
      "Iteration 2: loglikelihood = -1611.5933226294037, backtracks = 0, tol = 0.3331559935047197\n",
      "Iteration 3: loglikelihood = -1488.464806552407, backtracks = 0, tol = 0.11997454491586085\n",
      "Iteration 4: loglikelihood = -1467.2420308134322, backtracks = 0, tol = 0.05554090722235994\n",
      "Iteration 5: loglikelihood = -1466.6698683372338, backtracks = 0, tol = 0.05215624470161799\n",
      "Iteration 6: loglikelihood = -1466.6010371630246, backtracks = 0, tol = 0.04947843877960943\n",
      "Iteration 7: loglikelihood = -1466.4581572461734, backtracks = 0, tol = 0.005241259105016151\n",
      "Iteration 8: loglikelihood = -1466.4562209542266, backtracks = 1, tol = 0.0003303768369906706\n",
      "Iteration 9: loglikelihood = -1466.4556891363418, backtracks = 1, tol = 0.0001691750899016467\n",
      "Iteration 10: loglikelihood = -1466.4555451229837, backtracks = 1, tol = 8.300492488982753e-5\n"
     ]
    },
    {
     "data": {
      "text/plain": [
       "\n",
       "IHT estimated 11 nonzero SNP predictors and 0 non-genetic predictors.\n",
       "\n",
       "Compute time (sec):     0.5602378845214844\n",
       "Final loglikelihood:    -1466.4555451229837\n",
       "SNP PVE:                0.8438557209826311\n",
       "Iterations:             10\n",
       "\n",
       "Selected genetic predictors:\n",
       "\u001b[1m11×2 DataFrame\u001b[0m\n",
       "\u001b[1m Row \u001b[0m│\u001b[1m Position \u001b[0m\u001b[1m Estimated_β \u001b[0m\n",
       "\u001b[1m     \u001b[0m│\u001b[90m Int64    \u001b[0m\u001b[90m Float64     \u001b[0m\n",
       "─────┼───────────────────────\n",
       "   1 │      782    -0.443524\n",
       "   2 │      901     0.753802\n",
       "   3 │     1204     0.698492\n",
       "   4 │     1306    -1.43032\n",
       "   5 │     1655    -0.192114\n",
       "   6 │     3160    -0.865765\n",
       "   7 │     3936    -0.153948\n",
       "   8 │     4201     0.334418\n",
       "   9 │     4402    -0.128425\n",
       "  10 │     6879    -1.21187\n",
       "  11 │     8055     0.115835\n",
       "\n",
       "Selected nongenetic predictors:\n",
       "\u001b[1m0×2 DataFrame\u001b[0m"
      ]
     },
     "execution_count": 97,
     "metadata": {},
     "output_type": "execute_result"
    }
   ],
   "source": [
    "result2 = fit_iht(y, xla, k=11, init_beta=true)"
   ]
  },
  {
   "cell_type": "code",
   "execution_count": 10,
   "metadata": {
    "collapsed": false
   },
   "outputs": [
    {
     "data": {
      "text/plain": [
       "10×4 Array{Float64,2}:\n",
       "  0.172514    0.231313   0.225838   0.290051\n",
       " -0.0833819   0.0        0.0        0.113896\n",
       " -1.12519    -1.09732   -1.09328   -1.09083\n",
       " -0.0668759   0.0        0.0        0.0326341\n",
       "  1.16751     1.18797    1.19744    1.25615\n",
       "  1.61687     1.62846    1.63647    1.5655\n",
       " -0.0150496   0.0        0.0       -0.0616128\n",
       "  0.318712    0.223418   0.217466   0.240515\n",
       " -0.483093   -0.436094  -0.436074  -0.420895\n",
       " -0.838352   -0.88203   -0.884608  -0.893621"
      ]
     },
     "execution_count": 10,
     "metadata": {},
     "output_type": "execute_result"
    }
   ],
   "source": [
    "# compare initialized value to IHT's estimate to truth\n",
    "[initialize_beta(y, xla)[correct_position] result.beta[correct_position] result2.beta[correct_position] true_b[correct_position]]"
   ]
  },
  {
   "cell_type": "code",
   "execution_count": 11,
   "metadata": {
    "collapsed": false
   },
   "outputs": [
    {
     "data": {
      "text/plain": [
       "true"
      ]
     },
     "execution_count": 11,
     "metadata": {},
     "output_type": "execute_result"
    }
   ],
   "source": [
    "# SnpLinAlg\n",
    "n = 1000\n",
    "p = 10000\n",
    "k = 10\n",
    "d = Normal\n",
    "l = canonicallink(d())\n",
    "\n",
    "Random.seed!(2020)\n",
    "x = simulate_random_snparray(undef, n, p)\n",
    "xla = SnpLinAlg{Float64}(x, center=true, scale=true)\n",
    "y, βtrue, correct_position = simulate_random_response(xla, k, d, l);\n",
    "\n",
    "βinit = initialize_beta(y, xla)\n",
    "all(βinit[correct_position] - βtrue[correct_position] .< 0.1)"
   ]
  },
  {
   "cell_type": "markdown",
   "metadata": {
    "collapsed": true
   },
   "source": [
    "## Multivariate SnpLinAlg\n",
    "\n",
    "\n",
    "With $r$ traits, each sample's phenotype $\\mathbf{y}_{i} \\in \\mathbb{R}^{n \\times 1}$ is simulated under\n",
    "\n",
    "$$\\mathbf{y}_{i}^{r \\times 1} \\sim N(\\mathbf{B}^{r \\times p}\\mathbf{x}_{i}^{p \\times 1}, \\ \\ \\Sigma_{r \\times r})$$\n",
    "\n",
    "This model assumes each sample is independent."
   ]
  },
  {
   "cell_type": "code",
   "execution_count": 110,
   "metadata": {
    "collapsed": true
   },
   "outputs": [],
   "source": [
    "n = 1000  # number of samples\n",
    "p = 10000 # number of SNPs\n",
    "k = 10    # number of causal SNPs\n",
    "r = 2     # number of traits\n",
    "\n",
    "# set random seed for reproducibility\n",
    "Random.seed!(2021)\n",
    "\n",
    "# simulate `.bed` file with no missing data\n",
    "x = simulate_random_snparray(\"multivariate_$(r)traits.bed\", n, p)\n",
    "xla = SnpLinAlg{Float64}(x, model=ADDITIVE_MODEL, center=true, scale=true) \n",
    "\n",
    "# intercept is the only nongenetic covariate\n",
    "z = ones(n, 1)\n",
    "intercepts = [10.0 1.0] # each trait have different intercept\n",
    "\n",
    "# simulate response y, true model b, and the correct non-0 positions of b\n",
    "Y, true_Σ, true_b, correct_position = simulate_random_response(xla, k, r, Zu=z*intercepts, overlap=2)\n",
    "correct_snps = [x[1] for x in correct_position] # causal snps\n",
    "Yt = Matrix(Y'); # in MendelIHT, multivariate traits should be rows"
   ]
  },
  {
   "cell_type": "code",
   "execution_count": 118,
   "metadata": {
    "collapsed": false,
    "scrolled": true
   },
   "outputs": [
    {
     "name": "stdout",
     "output_type": "stream",
     "text": [
      "****                   MendelIHT Version 1.4.0                  ****\n",
      "****     Benjamin Chu, Kevin Keys, Chris German, Hua Zhou       ****\n",
      "****   Jin Zhou, Eric Sobel, Janet Sinsheimer, Kenneth Lange    ****\n",
      "****                                                            ****\n",
      "****                 Please cite our paper!                     ****\n",
      "****         https://doi.org/10.1093/gigascience/giaa044        ****\n",
      "\n",
      "Running sparse Multivariate Gaussian regression\n",
      "Link functin = IdentityLink()\n",
      "Sparsity parameter (k) = 12\n",
      "Prior weight scaling = off\n",
      "Doubly sparse projection = off\n",
      "Debias = off\n",
      "Max IHT iterations = 200\n",
      "Converging when tol < 0.0001:\n",
      "\n",
      "Iteration 1: loglikelihood = 215.4892687838203, backtracks = 0, tol = 0.12434559043803152\n",
      "Iteration 2: loglikelihood = 1382.37242885485, backtracks = 0, tol = 0.02701989420878901\n",
      "Iteration 3: loglikelihood = 1477.7383135165255, backtracks = 0, tol = 0.014225517157910431\n",
      "Iteration 4: loglikelihood = 1511.714843337414, backtracks = 0, tol = 0.00445645745830691\n",
      "Iteration 5: loglikelihood = 1517.3749432340562, backtracks = 0, tol = 0.00936132799578643\n",
      "Iteration 6: loglikelihood = 1521.0563367531263, backtracks = 0, tol = 0.002088162196638119\n",
      "Iteration 7: loglikelihood = 1521.561280674554, backtracks = 0, tol = 0.000773922842175532\n",
      "Iteration 8: loglikelihood = 1521.5856742000428, backtracks = 0, tol = 0.0005835724366912152\n",
      "Iteration 9: loglikelihood = 1521.5944217241993, backtracks = 0, tol = 0.00044412298479263034\n",
      "Iteration 10: loglikelihood = 1521.5999462310335, backtracks = 0, tol = 0.0003414681601818868\n",
      "Iteration 11: loglikelihood = 1521.6029227415816, backtracks = 0, tol = 0.0002602079691122654\n",
      "Iteration 12: loglikelihood = 1521.6047505987615, backtracks = 0, tol = 0.0002005754212906768\n",
      "Iteration 13: loglikelihood = 1521.6057725125231, backtracks = 0, tol = 0.0001530306226860167\n",
      "Iteration 14: loglikelihood = 1521.6063899688506, backtracks = 0, tol = 0.00011809420890656781\n",
      "Iteration 15: loglikelihood = 1521.6067421001371, backtracks = 0, tol = 9.014512191779351e-5\n"
     ]
    },
    {
     "data": {
      "text/plain": [
       "\n",
       "Compute time (sec):     1.6148250102996826\n",
       "Final loglikelihood:    1521.6067421001371\n",
       "Iterations:             15\n",
       "Trait 1's SNP PVE:      0.5545273580919192\n",
       "Trait 2's SNP PVE:      0.6195879626449298\n",
       "\n",
       "Trait 1: IHT estimated 4 nonzero SNP predictors\n",
       "\u001b[1m4×2 DataFrame\u001b[0m\n",
       "\u001b[1m Row \u001b[0m│\u001b[1m Position \u001b[0m\u001b[1m Estimated_β \u001b[0m\n",
       "\u001b[1m     \u001b[0m│\u001b[90m Int64    \u001b[0m\u001b[90m Float64     \u001b[0m\n",
       "─────┼───────────────────────\n",
       "   1 │     1197     0.121446\n",
       "   2 │     5651    -0.200705\n",
       "   3 │     5797    -1.09767\n",
       "   4 │     8087     1.2791\n",
       "\n",
       "Trait 1: IHT estimated 1 non-genetic predictors\n",
       "\u001b[1m1×2 DataFrame\u001b[0m\n",
       "\u001b[1m Row \u001b[0m│\u001b[1m Position \u001b[0m\u001b[1m Estimated_β \u001b[0m\n",
       "\u001b[1m     \u001b[0m│\u001b[90m Int64    \u001b[0m\u001b[90m Float64     \u001b[0m\n",
       "─────┼───────────────────────\n",
       "   1 │        1       10.027\n",
       "\n",
       "Trait 2: IHT estimated 6 nonzero SNP predictors\n",
       "\u001b[1m6×2 DataFrame\u001b[0m\n",
       "\u001b[1m Row \u001b[0m│\u001b[1m Position \u001b[0m\u001b[1m Estimated_β \u001b[0m\n",
       "\u001b[1m     \u001b[0m│\u001b[90m Int64    \u001b[0m\u001b[90m Float64     \u001b[0m\n",
       "─────┼───────────────────────\n",
       "   1 │      326     0.331882\n",
       "   2 │     2110     0.575645\n",
       "   3 │     5375     1.19357\n",
       "   4 │     5797     0.502072\n",
       "   5 │     6015     0.81844\n",
       "   6 │     6813     1.36932\n",
       "\n",
       "Trait 2: IHT estimated 1 non-genetic predictors\n",
       "\u001b[1m1×2 DataFrame\u001b[0m\n",
       "\u001b[1m Row \u001b[0m│\u001b[1m Position \u001b[0m\u001b[1m Estimated_β \u001b[0m\n",
       "\u001b[1m     \u001b[0m│\u001b[90m Int64    \u001b[0m\u001b[90m Float64     \u001b[0m\n",
       "─────┼───────────────────────\n",
       "   1 │        1      1.03625\n"
      ]
     },
     "execution_count": 118,
     "metadata": {},
     "output_type": "execute_result"
    },
    {
     "name": "stdout",
     "output_type": "stream",
     "text": [
      "\n"
     ]
    }
   ],
   "source": [
    "result = fit_iht(Yt, Transpose(xla), k=12, init_beta=false)"
   ]
  },
  {
   "cell_type": "code",
   "execution_count": 119,
   "metadata": {
    "collapsed": false,
    "scrolled": true
   },
   "outputs": [
    {
     "name": "stdout",
     "output_type": "stream",
     "text": [
      "****                   MendelIHT Version 1.4.0                  ****\n",
      "****     Benjamin Chu, Kevin Keys, Chris German, Hua Zhou       ****\n",
      "****   Jin Zhou, Eric Sobel, Janet Sinsheimer, Kenneth Lange    ****\n",
      "****                                                            ****\n",
      "****                 Please cite our paper!                     ****\n",
      "****         https://doi.org/10.1093/gigascience/giaa044        ****\n",
      "\n",
      "Running sparse Multivariate Gaussian regression\n",
      "Link functin = IdentityLink()\n",
      "Sparsity parameter (k) = 12\n",
      "Prior weight scaling = off\n",
      "Doubly sparse projection = off\n",
      "Debias = off\n",
      "Max IHT iterations = 200\n",
      "Converging when tol < 0.0001:\n",
      "\n",
      "Iteration 1: loglikelihood = 215.4892687838203, backtracks = 0, tol = 0.0874619371580851\n",
      "Iteration 2: loglikelihood = 508.71372460708403, backtracks = 0, tol = 0.07593963516634877\n",
      "Iteration 3: loglikelihood = 1347.5165861204946, backtracks = 0, tol = 0.02898119167266632\n",
      "Iteration 4: loglikelihood = 1508.563389138361, backtracks = 0, tol = 0.006553722361420468\n",
      "Iteration 5: loglikelihood = 1522.6237342555337, backtracks = 0, tol = 0.0029210023576821736\n",
      "Iteration 6: loglikelihood = 1524.9194775251672, backtracks = 0, tol = 0.0012293849425178915\n",
      "Iteration 7: loglikelihood = 1525.6967989717807, backtracks = 0, tol = 0.0011717953300024355\n",
      "Iteration 8: loglikelihood = 1526.1288250184375, backtracks = 0, tol = 0.0008418765231981422\n",
      "Iteration 9: loglikelihood = 1526.3461238302552, backtracks = 0, tol = 0.0005534313765617528\n",
      "Iteration 10: loglikelihood = 1526.4493133898393, backtracks = 0, tol = 0.0003926674866597935\n",
      "Iteration 11: loglikelihood = 1526.5022231010728, backtracks = 0, tol = 0.0002772475777697143\n",
      "Iteration 12: loglikelihood = 1526.5299653773786, backtracks = 0, tol = 0.0002039422009632828\n",
      "Iteration 13: loglikelihood = 1526.5447907385467, backtracks = 0, tol = 0.00014669042943247628\n",
      "Iteration 14: loglikelihood = 1526.5527561701144, backtracks = 0, tol = 0.00010885709224304791\n",
      "Iteration 15: loglikelihood = 1526.557065358178, backtracks = 0, tol = 7.879355385253866e-5\n"
     ]
    },
    {
     "data": {
      "text/plain": [
       "\n",
       "Compute time (sec):     1.6375181674957275\n",
       "Final loglikelihood:    1526.557065358178\n",
       "Iterations:             15\n",
       "Trait 1's SNP PVE:      0.5617472680179374\n",
       "Trait 2's SNP PVE:      0.6885981059281754\n",
       "\n",
       "Trait 1: IHT estimated 4 nonzero SNP predictors\n",
       "\u001b[1m4×2 DataFrame\u001b[0m\n",
       "\u001b[1m Row \u001b[0m│\u001b[1m Position \u001b[0m\u001b[1m Estimated_β \u001b[0m\n",
       "\u001b[1m     \u001b[0m│\u001b[90m Int64    \u001b[0m\u001b[90m Float64     \u001b[0m\n",
       "─────┼───────────────────────\n",
       "   1 │     5651    -0.204097\n",
       "   2 │     5797    -1.09478\n",
       "   3 │     6813    -0.24325\n",
       "   4 │     8087     1.28163\n",
       "\n",
       "Trait 1: IHT estimated 1 non-genetic predictors\n",
       "\u001b[1m1×2 DataFrame\u001b[0m\n",
       "\u001b[1m Row \u001b[0m│\u001b[1m Position \u001b[0m\u001b[1m Estimated_β \u001b[0m\n",
       "\u001b[1m     \u001b[0m│\u001b[90m Int64    \u001b[0m\u001b[90m Float64     \u001b[0m\n",
       "─────┼───────────────────────\n",
       "   1 │        1       10.027\n",
       "\n",
       "Trait 2: IHT estimated 6 nonzero SNP predictors\n",
       "\u001b[1m6×2 DataFrame\u001b[0m\n",
       "\u001b[1m Row \u001b[0m│\u001b[1m Position \u001b[0m\u001b[1m Estimated_β \u001b[0m\n",
       "\u001b[1m     \u001b[0m│\u001b[90m Int64    \u001b[0m\u001b[90m Float64     \u001b[0m\n",
       "─────┼───────────────────────\n",
       "   1 │      326     0.331523\n",
       "   2 │     2110     0.574393\n",
       "   3 │     5375     1.19456\n",
       "   4 │     5797     0.499384\n",
       "   5 │     6015     0.818826\n",
       "   6 │     6813     1.54809\n",
       "\n",
       "Trait 2: IHT estimated 1 non-genetic predictors\n",
       "\u001b[1m1×2 DataFrame\u001b[0m\n",
       "\u001b[1m Row \u001b[0m│\u001b[1m Position \u001b[0m\u001b[1m Estimated_β \u001b[0m\n",
       "\u001b[1m     \u001b[0m│\u001b[90m Int64    \u001b[0m\u001b[90m Float64     \u001b[0m\n",
       "─────┼───────────────────────\n",
       "   1 │        1      1.03625\n"
      ]
     },
     "execution_count": 119,
     "metadata": {},
     "output_type": "execute_result"
    },
    {
     "name": "stdout",
     "output_type": "stream",
     "text": [
      "\n"
     ]
    }
   ],
   "source": [
    "result = fit_iht(Yt, Transpose(xla), k=12, init_beta=true)"
   ]
  },
  {
   "cell_type": "code",
   "execution_count": 63,
   "metadata": {
    "collapsed": false
   },
   "outputs": [
    {
     "data": {
      "text/plain": [
       "2×10000 Array{Float64,2}:\n",
       "  0.0534366   0.0439406   0.0969756  …   0.0216708  -0.197072    -0.0302861\n",
       " -0.0490983  -0.0681586  -0.217925      -0.0520163   0.00796128  -0.0211869"
      ]
     },
     "execution_count": 63,
     "metadata": {},
     "output_type": "execute_result"
    }
   ],
   "source": [
    "Binit = initialize_beta(Yt, Transpose(xla))"
   ]
  },
  {
   "cell_type": "code",
   "execution_count": 64,
   "metadata": {
    "collapsed": false
   },
   "outputs": [
    {
     "data": {
      "text/plain": [
       "10×2 Array{Float64,2}:\n",
       " -0.224675  -0.162063\n",
       " -1.14044   -1.16669\n",
       " -0.14698   -0.244613\n",
       "  1.25668    1.37809\n",
       "  0.0        0.111058\n",
       "  0.0        0.0532192\n",
       "  0.0        0.00868089\n",
       " -1.14044   -1.16669\n",
       "  0.0        0.0524192\n",
       " -0.14698   -0.244613"
      ]
     },
     "execution_count": 64,
     "metadata": {},
     "output_type": "execute_result"
    }
   ],
   "source": [
    "# true beta1 vs initial beta1 \n",
    "[true_b[correct_snps, 1] Binit[1, correct_snps]]"
   ]
  },
  {
   "cell_type": "code",
   "execution_count": 65,
   "metadata": {
    "collapsed": false
   },
   "outputs": [
    {
     "data": {
      "text/plain": [
       "10×2 Array{Float64,2}:\n",
       " 0.0       -0.0586803\n",
       " 0.531549   0.55475\n",
       " 1.43455    1.54564\n",
       " 0.0        0.0325905\n",
       " 0.315219   0.252608\n",
       " 0.609812   0.636104\n",
       " 1.20121    1.08516\n",
       " 0.531549   0.55475\n",
       " 0.808327   0.828278\n",
       " 1.43455    1.54564"
      ]
     },
     "execution_count": 65,
     "metadata": {},
     "output_type": "execute_result"
    }
   ],
   "source": [
    "# true beta2 vs initial beta2\n",
    "[true_b[correct_snps, 2] Binit[2, correct_snps]]"
   ]
  },
  {
   "cell_type": "code",
   "execution_count": 123,
   "metadata": {
    "collapsed": false
   },
   "outputs": [
    {
     "data": {
      "text/plain": [
       "true"
      ]
     },
     "execution_count": 123,
     "metadata": {},
     "output_type": "execute_result"
    }
   ],
   "source": [
    "all(true_b[correct_snps, 1] - Binit[1, correct_snps] .< 0.15)"
   ]
  },
  {
   "cell_type": "code",
   "execution_count": 67,
   "metadata": {
    "collapsed": false
   },
   "outputs": [
    {
     "data": {
      "text/plain": [
       "10-element Array{Float64,1}:\n",
       "  0.05868027528864749\n",
       " -0.0232008980406212\n",
       " -0.11108382038222331\n",
       " -0.03259053645592301\n",
       "  0.06261113915272487\n",
       " -0.02629238502256903\n",
       "  0.11604924413534135\n",
       " -0.0232008980406212\n",
       " -0.01995118916877381\n",
       " -0.11108382038222331"
      ]
     },
     "execution_count": 67,
     "metadata": {},
     "output_type": "execute_result"
    }
   ],
   "source": [
    "true_b[correct_snps, 2] - Binit[2, correct_snps]"
   ]
  },
  {
   "cell_type": "code",
   "execution_count": 122,
   "metadata": {
    "collapsed": false
   },
   "outputs": [
    {
     "data": {
      "text/plain": [
       "true"
      ]
     },
     "execution_count": 122,
     "metadata": {},
     "output_type": "execute_result"
    }
   ],
   "source": [
    "all(true_b[correct_snps, 2] - Binit[2, correct_snps] .< 0.15)"
   ]
  },
  {
   "cell_type": "code",
   "execution_count": null,
   "metadata": {
    "collapsed": true
   },
   "outputs": [],
   "source": []
  },
  {
   "cell_type": "code",
   "execution_count": null,
   "metadata": {
    "collapsed": true
   },
   "outputs": [],
   "source": []
  }
 ],
 "metadata": {
  "kernelspec": {
   "display_name": "Julia 1.5.0",
   "language": "julia",
   "name": "julia-1.5"
  },
  "language_info": {
   "file_extension": ".jl",
   "mimetype": "application/julia",
   "name": "julia",
   "version": "1.5.0"
  }
 },
 "nbformat": 4,
 "nbformat_minor": 2
}
