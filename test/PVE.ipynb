{
 "cells": [
  {
   "cell_type": "markdown",
   "metadata": {},
   "source": [
    "# Use IHT to estimate phenotype's Percent Variation Explained (PVE)\n",
    "\n",
    "In IHT, the **Percent Variation Explained (PVE)** for univariate traits is defined as\n",
    "\n",
    "$$h = \\frac{var(\\hat{\\mathbf{y}})}{var(\\mathbf{y})}$$\n",
    "\n",
    "where $\\mathbf{y}$ is the vector of phenotype values and $\\hat{\\mathbf{y}} = \\mathbf{X}\\hat{\\beta}$ is the predicted phenotype. "
   ]
  },
  {
   "cell_type": "code",
   "execution_count": 1,
   "metadata": {
    "collapsed": false
   },
   "outputs": [
    {
     "name": "stderr",
     "output_type": "stream",
     "text": [
      "┌ Info: Precompiling MendelIHT [921c7187-1484-5754-b919-5d3ed9ac03c4]\n",
      "└ @ Base loading.jl:1278\n"
     ]
    }
   ],
   "source": [
    "using Distributed\n",
    "# addprocs(4)\n",
    "\n",
    "@everywhere begin\n",
    "    using Revise\n",
    "    using MendelIHT\n",
    "    using SnpArrays\n",
    "    using Random\n",
    "    using GLM\n",
    "    using DelimitedFiles\n",
    "    using Test\n",
    "    using Distributions\n",
    "    using LinearAlgebra\n",
    "    using CSV\n",
    "    using DataFrames\n",
    "end\n",
    "\n",
    "using VarianceComponentModels"
   ]
  },
  {
   "cell_type": "markdown",
   "metadata": {
    "collapsed": true
   },
   "source": [
    "# Simulate data\n",
    "\n",
    "Our simple simulation involves 10 causal SNPs and 1 intercept:\n",
    "\n",
    "$$y_i = 1.0 + \\mathbf{x}_i^t\\beta + \\epsilon$$"
   ]
  },
  {
   "cell_type": "code",
   "execution_count": 2,
   "metadata": {
    "collapsed": false
   },
   "outputs": [],
   "source": [
    "n = 1000  # number of samples\n",
    "p = 10000 # number of SNPs\n",
    "k = 10    # number of causal SNPs per trait\n",
    "d = Normal\n",
    "l = canonicallink(d())\n",
    "\n",
    "# set random seed for reproducibility\n",
    "Random.seed!(2021)\n",
    "\n",
    "# simulate `.bed` file with no missing data\n",
    "x = simulate_random_snparray(\"heritability/univariate.bed\", n, p)\n",
    "xla = SnpLinAlg{Float64}(x, model=ADDITIVE_MODEL, center=true, scale=true) \n",
    "\n",
    "# intercept is the only nongenetic covariate\n",
    "z = ones(n)\n",
    "intercept = 10.0\n",
    "\n",
    "# simulate response y, true model b, and the correct non-0 positions of b\n",
    "y, true_b, correct_position = simulate_random_response(xla, k, d, l, Zu=z*intercept);\n",
    "\n",
    "# save true SNP's position and effect size\n",
    "open(\"heritability/univariate_true_beta.txt\", \"w\") do io\n",
    "    println(io, \"snpID,effectsize\")\n",
    "    println(io, \"intercept,$intercept\")\n",
    "    for pos in correct_position\n",
    "        println(io, \"snp$pos,\", true_b[pos])\n",
    "    end\n",
    "end\n",
    "\n",
    "# create `.bim` and `.bam` files using phenotype\n",
    "make_bim_fam_files(x, y, \"heritability/univariate\")\n",
    "\n",
    "# create `.phen` file for GCTA\n",
    "open(\"heritability/univariate.phen\", \"w\") do io\n",
    "    for i in 1:length(y)\n",
    "        println(io, \"$i\\t1\\t$(y[i])\")\n",
    "    end\n",
    "end"
   ]
  },
  {
   "cell_type": "markdown",
   "metadata": {},
   "source": [
    "# Run IHT"
   ]
  },
  {
   "cell_type": "code",
   "execution_count": 4,
   "metadata": {
    "collapsed": false
   },
   "outputs": [
    {
     "name": "stdout",
     "output_type": "stream",
     "text": [
      "****                   MendelIHT Version 1.3.3                  ****\n",
      "****     Benjamin Chu, Kevin Keys, Chris German, Hua Zhou       ****\n",
      "****   Jin Zhou, Eric Sobel, Janet Sinsheimer, Kenneth Lange    ****\n",
      "****                                                            ****\n",
      "****                 Please cite our paper!                     ****\n",
      "****         https://doi.org/10.1093/gigascience/giaa044        ****\n",
      "\n",
      "Running sparse linear regression\n",
      "Link functin = IdentityLink()\n",
      "Sparsity parameter (k) = 11\n",
      "Prior weight scaling = off\n",
      "Doubly sparse projection = off\n",
      "Debias = off\n",
      "Max IHT iterations = 100\n",
      "Converging when tol < 0.0001:\n",
      "\n",
      "Iteration 1: loglikelihood = -1577.1707947596888, backtracks = 0, tol = 0.11179714706508592\n",
      "Iteration 2: loglikelihood = -1484.8568136206184, backtracks = 0, tol = 0.025721679193033527\n",
      "Iteration 3: loglikelihood = -1472.952963590493, backtracks = 0, tol = 0.012701500670561118\n",
      "Iteration 4: loglikelihood = -1472.5366421393844, backtracks = 1, tol = 0.0009958001674466315\n",
      "Iteration 5: loglikelihood = -1472.428026945073, backtracks = 1, tol = 0.0005175328739383008\n",
      "Iteration 6: loglikelihood = -1472.4000760087488, backtracks = 1, tol = 0.0002614127835351253\n",
      "Iteration 7: loglikelihood = -1472.3929618828483, backtracks = 1, tol = 0.0001295647682194938\n",
      "Iteration 8: loglikelihood = -1472.391164492576, backtracks = 1, tol = 6.683689855636027e-5\n",
      "  0.510090 seconds (160.93 k allocations: 5.652 MiB)\n"
     ]
    },
    {
     "data": {
      "text/plain": [
       "\n",
       "IHT estimated 10 nonzero SNP predictors and 1 non-genetic predictors.\n",
       "\n",
       "Compute time (sec):     0.5100820064544678\n",
       "Final loglikelihood:    -1472.391164492576\n",
       "SNP PVE:                0.8425967157821636\n",
       "Iterations:             8\n",
       "\n",
       "Selected genetic predictors:\n",
       "\u001b[1m10×2 DataFrame\u001b[0m\n",
       "\u001b[1m Row \u001b[0m│\u001b[1m Position \u001b[0m\u001b[1m Estimated_β \u001b[0m\n",
       "\u001b[1m     \u001b[0m│\u001b[90m Int64    \u001b[0m\u001b[90m Float64     \u001b[0m\n",
       "─────┼───────────────────────\n",
       "   1 │      782    -0.437843\n",
       "   2 │      901     0.748033\n",
       "   3 │     1204     0.690989\n",
       "   4 │     1306    -1.42524\n",
       "   5 │     1655    -0.194052\n",
       "   6 │     3160    -0.861222\n",
       "   7 │     3936    -0.14667\n",
       "   8 │     4201     0.338804\n",
       "   9 │     4402    -0.126361\n",
       "  10 │     6879    -1.21894\n",
       "\n",
       "Selected nongenetic predictors:\n",
       "\u001b[1m1×2 DataFrame\u001b[0m\n",
       "\u001b[1m Row \u001b[0m│\u001b[1m Position \u001b[0m\u001b[1m Estimated_β \u001b[0m\n",
       "\u001b[1m     \u001b[0m│\u001b[90m Int64    \u001b[0m\u001b[90m Float64     \u001b[0m\n",
       "─────┼───────────────────────\n",
       "   1 │        1      10.0202"
      ]
     },
     "execution_count": 4,
     "metadata": {},
     "output_type": "execute_result"
    }
   ],
   "source": [
    "ktrue = k + (intercept == 0 ? 0 : 1)\n",
    "@time result = fit_iht(y, xla, z, d=d(), l=l, k=ktrue)"
   ]
  },
  {
   "cell_type": "code",
   "execution_count": 5,
   "metadata": {
    "collapsed": false
   },
   "outputs": [
    {
     "data": {
      "text/plain": [
       "10×2 Array{Float64,2}:\n",
       " -0.437843  -0.402269\n",
       "  0.748033   0.758756\n",
       "  0.690989   0.729135\n",
       " -1.42524   -1.47163\n",
       " -0.194052  -0.172668\n",
       " -0.861222  -0.847906\n",
       "  0.338804   0.296183\n",
       "  0.0       -0.0034339\n",
       "  0.0        0.125965\n",
       " -1.21894   -1.24972"
      ]
     },
     "execution_count": 5,
     "metadata": {},
     "output_type": "execute_result"
    }
   ],
   "source": [
    "# compare estimated vs true beta values\n",
    "[result.beta[correct_position] true_b[correct_position]]"
   ]
  },
  {
   "cell_type": "markdown",
   "metadata": {
    "collapsed": true
   },
   "source": [
    "# GEMMA estimated PVE\n",
    "\n",
    "GEMMA estimates $pve = 0.444316$ with standard error $se(pve) =0.132402$. This is the proportion of variance in phenotypes explained (pve) quantity."
   ]
  },
  {
   "cell_type": "code",
   "execution_count": 2,
   "metadata": {
    "collapsed": false
   },
   "outputs": [
    {
     "name": "stdout",
     "output_type": "stream",
     "text": [
      "GEMMA 0.98.4 (2021-01-29) by Xiang Zhou and team (C) 2012-2021\n",
      "Reading Files ... \n",
      "## number of total individuals = 1000\n",
      "## number of analyzed individuals = 1000\n",
      "## number of covariates = 1\n",
      "## number of phenotypes = 1\n",
      "## number of total SNPs/var        =    10000\n",
      "## number of analyzed SNPs         =    10000\n",
      "Start Eigen-Decomposition...\n",
      "pve estimate =0.444316\n",
      "se(pve) =0.132402\n",
      "                                                   0%\r",
      "=====                                              10%\r",
      "==========                                         20%\r",
      "===============                                    30%\r",
      "====================                               40%\r",
      "=========================                          50%\r",
      "==============================                     60%\r",
      "===================================                70%\r",
      "========================================           80%\r",
      "=============================================      90%\r",
      "================================================== 100%\r\n",
      "**** INFO: Done.\n"
     ]
    }
   ],
   "source": [
    ";cat pve/gemma_run.out"
   ]
  },
  {
   "cell_type": "markdown",
   "metadata": {},
   "source": [
    "# Bayesian GEMMA estimated PVE\n",
    "\n",
    "GEMMA estimates $pve = 0.461838$ with standard error $se(pve) =0.132402$. This is the proportion of variance in phenotypes explained (pve) quantity."
   ]
  },
  {
   "cell_type": "code",
   "execution_count": 3,
   "metadata": {
    "collapsed": false
   },
   "outputs": [
    {
     "name": "stdout",
     "output_type": "stream",
     "text": [
      "##\n",
      "## GEMMA Version    = 0.98.4 (2021-01-29)\n",
      "## Build profile    = /gnu/store/8mkllydvkgfy6ydlrymrx8wj0dy1x6lm-profile\n",
      "## GCC version      = 7.5.0\n",
      "## GSL Version      = 2.6\n",
      "## OpenBlas         = OpenBLAS 0.3.9  - OpenBLAS 0.3.9 DYNAMIC_ARCH NO_AFFINITY SkylakeX MAX_THREADS=128\n",
      "##   arch           = SkylakeX\n",
      "##   threads        = 24\n",
      "##   parallel type  = threaded\n",
      "##\n",
      "## Command Line Input = gemma -bfile univariate -bslmm 1 -maf 0.0000001 -o gemma.pve.result \n",
      "##\n",
      "## Date = Sat Mar 13 12:04:53 2021\n",
      "##\n",
      "## Summary Statistics:\n",
      "## number of total individuals = 1000\n",
      "## number of analyzed individuals = 1000\n",
      "## number of covariates = 1\n",
      "## number of phenotypes = 1\n",
      "## number of total SNPs/var = 10000\n",
      "## number of analyzed SNPs/var = 10000\n",
      "## REMLE log-likelihood in the null model = -2389.39\n",
      "## MLE log-likelihood in the null model = -2390.97\n",
      "## pve estimate in the null model = 0.461838\n",
      "## se(pve) in the null model = 0.132357\n",
      "## vg estimate in the null model = 0\n",
      "## ve estimate in the null model = 0\n",
      "## beta estimate in the null model = \n",
      "## se(beta) = \n",
      "## estimated mean = 1.02016\n",
      "##\n",
      "## MCMC related:\n",
      "## initial value of h = 0.461838\n",
      "## initial value of rho = 1\n",
      "## initial value of pi = 0.001\n",
      "## initial value of |gamma| = 10\n",
      "## random seed = -1\n",
      "## acceptance ratio = 0.000892727\n",
      "##\n",
      "## Computation Time:\n",
      "## total computation time = 187.262 min \n",
      "## computation time break down: \n",
      "##      time on calculating relatedness matrix = 0 min \n",
      "##      time on eigen-decomposition = 0.0873199 min \n",
      "##      time on calculating UtX = 0.0533476 min \n",
      "##      time on proposal = 0.0694583 min \n",
      "##      time on mcmc = 186.637 min \n",
      "##      time on Omega = 38.1108 min \n",
      "##\n"
     ]
    }
   ],
   "source": [
    ";cat pve/gemma.pve.result.log.txt"
   ]
  },
  {
   "cell_type": "markdown",
   "metadata": {},
   "source": [
    "# GCTA estimated heritability\n",
    "\n",
    "GCTA estimated heritability is 0.726"
   ]
  },
  {
   "cell_type": "code",
   "execution_count": 11,
   "metadata": {
    "collapsed": false
   },
   "outputs": [
    {
     "name": "stdout",
     "output_type": "stream",
     "text": [
      "Source\tVariance\tSE\n",
      "V(G)\t5.131934\t1.015303\n",
      "V(e)\t1.941108\t0.923529\n",
      "Vp\t7.073042\t0.324029\n",
      "V(G)/Vp\t0.725562\t0.132691\n",
      "logL\t-1467.224\n",
      "logL0\t-1480.753\n",
      "LRT\t27.058\n",
      "df\t1\n",
      "Pval\t9.8735e-08\n",
      "n\t1000\n"
     ]
    }
   ],
   "source": [
    ";cat heritability/gcta.univariate.hsq"
   ]
  },
  {
   "cell_type": "markdown",
   "metadata": {},
   "source": [
    "# VarianceComponentModel.jl estimated heritability"
   ]
  },
  {
   "cell_type": "code",
   "execution_count": 6,
   "metadata": {
    "collapsed": false
   },
   "outputs": [
    {
     "name": "stdout",
     "output_type": "stream",
     "text": [
      "  0.499204 seconds (1.17 M allocations: 81.571 MiB, 3.75% gc time)\n",
      "\n",
      "******************************************************************************\n",
      "This program contains Ipopt, a library for large-scale nonlinear optimization.\n",
      " Ipopt is released as open source code under the Eclipse Public License (EPL).\n",
      "         For more information visit https://github.com/coin-or/Ipopt\n",
      "******************************************************************************\n",
      "\n",
      "(σ2a, σ2e) = (3.257729405950718, 3.8241316336013482)\n",
      "σ2a / (σ2a + σ2e) = 0.4600103543060726\n"
     ]
    },
    {
     "data": {
      "text/plain": [
       "0.4600103543060726"
      ]
     },
     "execution_count": 6,
     "metadata": {},
     "output_type": "execute_result"
    }
   ],
   "source": [
    "Φgrm = grm(x; method = :Robust) # genetic relationship matrix\n",
    "VCdata = VarianceComponentVariate(y, z, (2Φgrm, Matrix(1.0I, n, n)))\n",
    "\n",
    "# pre-compute eigen-decomposition \n",
    "@time VCdata_rotated = TwoVarCompVariateRotate(VCdata)\n",
    "fieldnames(typeof(VCdata_rotated))\n",
    "\n",
    "# form data set for trait \n",
    "trait_data = TwoVarCompVariateRotate(VCdata_rotated.Yrot, \n",
    "    VCdata_rotated.Xrot, VCdata_rotated.eigval, VCdata_rotated.eigvec, \n",
    "    VCdata_rotated.logdetV2)\n",
    "\n",
    "# initialize model parameters\n",
    "trait_model = VarianceComponentModel(trait_data)\n",
    "\n",
    "# estimate variance components\n",
    "_, _, _, Σcov, = mle_fs!(trait_model, trait_data; solver=:Ipopt, verbose=false)\n",
    "σ2a = trait_model.Σ[1][1] # additive genetic variance \n",
    "σ2e = trait_model.Σ[2][1] # environmental variance \n",
    "@show σ2a, σ2e\n",
    "@show σ2a / (σ2a + σ2e)"
   ]
  },
  {
   "cell_type": "markdown",
   "metadata": {},
   "source": [
    "# Conclusion (univariate traits)\n",
    "\n",
    "| Method                     | Estimated PVE          | \n",
    "|----------------------------|------------------------|\n",
    "| MendelIHT.jl               | 0.8426                 |\n",
    "| GCTA                       | 0.726                  |\n",
    "| GEMMA (Bayesian LMM)       | 0.461838               |\n",
    "| VarianceComponentModels.jl | 0.46001                |\n",
    "| GEMMA (LMM)                | 0.444316               |"
   ]
  },
  {
   "cell_type": "markdown",
   "metadata": {
    "collapsed": true
   },
   "source": [
    "# Multivariate traits \n",
    "\n",
    "For multivariate traits, $\\mathbf{Y} = (\\mathbf{y}_1,...,\\mathbf{y}_r)$, we define the PVE for trait $i$ as\n",
    "\n",
    "$$h_i = \\frac{var(\\hat{\\mathbf{y}_i})}{var(\\mathbf{y}_i)}.$$"
   ]
  },
  {
   "cell_type": "code",
   "execution_count": 7,
   "metadata": {
    "collapsed": false
   },
   "outputs": [],
   "source": [
    "n = 1000  # number of samples\n",
    "p = 10000 # number of SNPs\n",
    "k = 10    # number of causal SNPs\n",
    "r = 2     # number of traits\n",
    "\n",
    "# set random seed for reproducibility\n",
    "Random.seed!(2021)\n",
    "\n",
    "# simulate `.bed` file with no missing data\n",
    "x = simulate_random_snparray(\"multivariate_$(r)traits.bed\", n, p)\n",
    "xla = SnpLinAlg{Float64}(x, model=ADDITIVE_MODEL, center=true, scale=true) \n",
    "\n",
    "# intercept is the only nongenetic covariate\n",
    "z = ones(n, 1)\n",
    "intercepts = 10.0 .* randn(r)' # each trait have different intercept\n",
    "\n",
    "# simulate response y, true model b, and the correct non-0 positions of b\n",
    "Y, true_Σ, true_b, correct_position = simulate_random_response(xla, k, r, Zu=z*intercepts, overlap=2);\n",
    "\n",
    "Yt = Matrix(Y')\n",
    "Zt = Matrix(z');"
   ]
  },
  {
   "cell_type": "code",
   "execution_count": 13,
   "metadata": {
    "collapsed": false
   },
   "outputs": [
    {
     "name": "stdout",
     "output_type": "stream",
     "text": [
      "****                   MendelIHT Version 1.3.3                  ****\n",
      "****     Benjamin Chu, Kevin Keys, Chris German, Hua Zhou       ****\n",
      "****   Jin Zhou, Eric Sobel, Janet Sinsheimer, Kenneth Lange    ****\n",
      "****                                                            ****\n",
      "****                 Please cite our paper!                     ****\n",
      "****         https://doi.org/10.1093/gigascience/giaa044        ****\n",
      "\n",
      "Running sparse Multivariate Gaussian regression\n",
      "Link functin = IdentityLink()\n",
      "Sparsity parameter (k) = 12\n",
      "Prior weight scaling = off\n",
      "Doubly sparse projection = off\n",
      "Debias = off\n",
      "Max IHT iterations = 100\n",
      "Converging when tol < 0.0001:\n",
      "\n",
      "Iteration 1: loglikelihood = 246.48266427359408, backtracks = 0, tol = 0.15459640295013669\n",
      "Iteration 2: loglikelihood = 1468.5670281874275, backtracks = 0, tol = 0.036687758419846395\n",
      "Iteration 3: loglikelihood = 1525.390857344177, backtracks = 0, tol = 0.0029580061822276106\n",
      "Iteration 4: loglikelihood = 1526.6178339030791, backtracks = 0, tol = 0.0012833141714676632\n",
      "Iteration 5: loglikelihood = 1526.9156848087425, backtracks = 0, tol = 0.0008743708798690967\n",
      "Iteration 6: loglikelihood = 1527.0291622680982, backtracks = 0, tol = 0.0007737545131046633\n",
      "Iteration 7: loglikelihood = 1527.0894537780102, backtracks = 0, tol = 0.0006035292473381337\n",
      "Iteration 8: loglikelihood = 1527.1186018848266, backtracks = 0, tol = 0.0005119751797834818\n",
      "Iteration 9: loglikelihood = 1527.133977463016, backtracks = 0, tol = 0.0004308517282346189\n",
      "Iteration 10: loglikelihood = 1527.1420313497338, backtracks = 0, tol = 0.00038048417640276685\n",
      "Iteration 11: loglikelihood = 1527.1463430121405, backtracks = 0, tol = 0.0003365925776090008\n",
      "Iteration 12: loglikelihood = 1527.1487818367682, backtracks = 0, tol = 0.0003060062783005702\n",
      "Iteration 13: loglikelihood = 1527.1500134835082, backtracks = 0, tol = 0.0002816235379378732\n",
      "Iteration 14: loglikelihood = 1527.1508319455952, backtracks = 0, tol = 0.0002621854095371045\n",
      "Iteration 15: loglikelihood = 1527.151173023109, backtracks = 0, tol = 0.00024854530604532924\n",
      "Iteration 16: loglikelihood = 1527.1515062569447, backtracks = 0, tol = 0.0002355253259938748\n",
      "Iteration 17: loglikelihood = 1527.151586940362, backtracks = 0, tol = 0.00022785407204227982\n",
      "Iteration 18: loglikelihood = 1527.1517677029854, backtracks = 0, tol = 0.0002185563195055562\n",
      "Iteration 19: loglikelihood = 1527.1517719493222, backtracks = 0, tol = 0.00021422845520384351\n",
      "Iteration 20: loglikelihood = 1527.1518996162192, backtracks = 0, tol = 0.00020712557110622522\n",
      "Iteration 21: loglikelihood = 1527.1518814099722, backtracks = 5, tol = 6.396835746888182e-6\n",
      "  1.853358 seconds (4.41 k allocations: 5.317 MiB)\n"
     ]
    },
    {
     "data": {
      "text/plain": [
       "\n",
       "Compute time (sec):     1.8533520698547363\n",
       "Final loglikelihood:    1527.1518814099722\n",
       "Iterations:             21\n",
       "Trait 1's SNP PVE:      0.6095385242121772\n",
       "Trait 2's SNP PVE:      0.603060240834564\n",
       "\n",
       "Trait 1: IHT estimated 4 nonzero SNP predictors\n",
       "\u001b[1m4×2 DataFrame\u001b[0m\n",
       "\u001b[1m Row \u001b[0m│\u001b[1m Position \u001b[0m\u001b[1m Estimated_β \u001b[0m\n",
       "\u001b[1m     \u001b[0m│\u001b[90m Int64    \u001b[0m\u001b[90m Float64     \u001b[0m\n",
       "─────┼───────────────────────\n",
       "   1 │     5668    -0.207284\n",
       "   2 │     5797     0.575018\n",
       "   3 │     6812     1.42102\n",
       "   4 │     7988     1.26966\n",
       "\n",
       "Trait 1: IHT estimated 1 non-genetic predictors\n",
       "\u001b[1m1×2 DataFrame\u001b[0m\n",
       "\u001b[1m Row \u001b[0m│\u001b[1m Position \u001b[0m\u001b[1m Estimated_β \u001b[0m\n",
       "\u001b[1m     \u001b[0m│\u001b[90m Int64    \u001b[0m\u001b[90m Float64     \u001b[0m\n",
       "─────┼───────────────────────\n",
       "   1 │        1     -1.69969\n",
       "\n",
       "Trait 2: IHT estimated 6 nonzero SNP predictors\n",
       "\u001b[1m6×2 DataFrame\u001b[0m\n",
       "\u001b[1m Row \u001b[0m│\u001b[1m Position \u001b[0m\u001b[1m Estimated_β \u001b[0m\n",
       "\u001b[1m     \u001b[0m│\u001b[90m Int64    \u001b[0m\u001b[90m Float64     \u001b[0m\n",
       "─────┼───────────────────────\n",
       "   1 │      222     0.393725\n",
       "   2 │     2049     0.607747\n",
       "   3 │     5462     1.18908\n",
       "   4 │     5797     0.784013\n",
       "   5 │     6085     0.771363\n",
       "   6 │     6812    -0.547082\n",
       "\n",
       "Trait 2: IHT estimated 1 non-genetic predictors\n",
       "\u001b[1m1×2 DataFrame\u001b[0m\n",
       "\u001b[1m Row \u001b[0m│\u001b[1m Position \u001b[0m\u001b[1m Estimated_β \u001b[0m\n",
       "\u001b[1m     \u001b[0m│\u001b[90m Int64    \u001b[0m\u001b[90m Float64     \u001b[0m\n",
       "─────┼───────────────────────\n",
       "   1 │        1       7.3276\n"
      ]
     },
     "execution_count": 13,
     "metadata": {},
     "output_type": "execute_result"
    },
    {
     "name": "stdout",
     "output_type": "stream",
     "text": [
      "\n"
     ]
    }
   ],
   "source": [
    "ktrue = k + count(!iszero, intercepts)\n",
    "@time result = fit_iht(Yt, Transpose(xla), Zt, k=ktrue, verbose=true)"
   ]
  },
  {
   "cell_type": "code",
   "execution_count": 9,
   "metadata": {
    "collapsed": false
   },
   "outputs": [
    {
     "data": {
      "text/plain": [
       "4×2 Array{Float64,2}:\n",
       " -0.207284  -0.224675\n",
       "  0.575018   0.531549\n",
       "  1.42102    1.43455\n",
       "  1.26966    1.25668"
      ]
     },
     "execution_count": 9,
     "metadata": {},
     "output_type": "execute_result"
    }
   ],
   "source": [
    "# first beta\n",
    "β1 = result.beta[1, :]\n",
    "true_b1_idx = findall(!iszero, true_b[:, 1])\n",
    "[β1[true_b1_idx] true_b[true_b1_idx, 1]]"
   ]
  },
  {
   "cell_type": "code",
   "execution_count": 10,
   "metadata": {
    "collapsed": false
   },
   "outputs": [
    {
     "data": {
      "text/plain": [
       "6×2 Array{Float64,2}:\n",
       "  0.393725   0.315219\n",
       "  0.607747   0.609812\n",
       "  1.18908    1.20121\n",
       "  0.784013   0.812423\n",
       "  0.771363   0.808327\n",
       " -0.547082  -0.589568"
      ]
     },
     "execution_count": 10,
     "metadata": {},
     "output_type": "execute_result"
    }
   ],
   "source": [
    "# second beta\n",
    "β2 = result.beta[2, :]\n",
    "true_b2_idx = findall(!iszero, true_b[:, 2])\n",
    "[β2[true_b2_idx] true_b[true_b2_idx, 2]]"
   ]
  },
  {
   "cell_type": "code",
   "execution_count": 11,
   "metadata": {
    "collapsed": false
   },
   "outputs": [
    {
     "data": {
      "text/plain": [
       "2×2 Array{Float64,2}:\n",
       " -1.69969  -1.72668\n",
       "  7.3276    7.29135"
      ]
     },
     "execution_count": 11,
     "metadata": {},
     "output_type": "execute_result"
    }
   ],
   "source": [
    "# non genetic covariates\n",
    "[result.c intercepts']"
   ]
  },
  {
   "cell_type": "code",
   "execution_count": 12,
   "metadata": {
    "collapsed": false
   },
   "outputs": [
    {
     "data": {
      "text/plain": [
       "4×2 Array{Float64,2}:\n",
       "  2.43694   2.53934\n",
       " -1.80781  -1.85399\n",
       " -1.80781  -1.85399\n",
       "  2.39758   2.41416"
      ]
     },
     "execution_count": 12,
     "metadata": {},
     "output_type": "execute_result"
    }
   ],
   "source": [
    "# covariance matrix\n",
    "[vec(result.Σ) vec(true_Σ)]"
   ]
  }
 ],
 "metadata": {
  "@webio": {
   "lastCommId": null,
   "lastKernelId": null
  },
  "kernelspec": {
   "display_name": "Julia 1.5.0",
   "language": "julia",
   "name": "julia-1.5"
  },
  "language_info": {
   "file_extension": ".jl",
   "mimetype": "application/julia",
   "name": "julia",
   "version": "1.5.0"
  }
 },
 "nbformat": 4,
 "nbformat_minor": 2
}
