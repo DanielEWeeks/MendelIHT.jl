{
 "cells": [
  {
   "cell_type": "markdown",
   "metadata": {},
   "source": [
    "# Check if gradient is correct numerically\n",
    "\n",
    "We will check by numerical forward difference implemented in `ForwardDiff.jl`"
   ]
  },
  {
   "cell_type": "code",
   "execution_count": 1,
   "metadata": {
    "collapsed": false
   },
   "outputs": [],
   "source": [
    "using MendelIHT\n",
    "using ForwardDiff\n",
    "using Random\n",
    "using LinearAlgebra"
   ]
  },
  {
   "cell_type": "markdown",
   "metadata": {},
   "source": [
    "## First simulate data"
   ]
  },
  {
   "cell_type": "code",
   "execution_count": 2,
   "metadata": {
    "collapsed": false
   },
   "outputs": [],
   "source": [
    "function simulate_multivariate_sparse(\n",
    "    n::Int, p::Int, k::Int, r::Int; seed::Int=2021)\n",
    "    # set seed\n",
    "    Random.seed!(seed)\n",
    "    \n",
    "    # simulate `.bed` file with no missing data\n",
    "    x = simulate_random_snparray(undef, n, p)\n",
    "    xla = convert(Matrix{Float64}, x, impute=true, center=true, scale=true)\n",
    "    n, p = size(x)\n",
    "\n",
    "    # intercept is the only nongenetic covariate\n",
    "    z = ones(n, 1)\n",
    "    intercepts = randn(r)' # each trait have different intercept\n",
    "\n",
    "    # simulate response y, true model b, and the correct non-0 positions of b\n",
    "    Y, true_Σ, true_b, correct_position = simulate_random_response(xla, k, r, Zu=z*intercepts, overlap=0);\n",
    "    \n",
    "    return xla, Matrix(z'), true_b, true_Σ, Matrix(Y')\n",
    "end\n",
    "\n",
    "n = 100\n",
    "p = 1000\n",
    "k = 10\n",
    "r = 2\n",
    "seed = 2021\n",
    "xla, Z, true_b, Σ, Y = simulate_multivariate_sparse(n, p, k, r,seed=seed)\n",
    "X = transpose(xla);"
   ]
  },
  {
   "cell_type": "markdown",
   "metadata": {},
   "source": [
    "## Loglikelihood and gradient functions according to math\n",
    "\n",
    "Evaluate gradient and loglikelihood where $B_{ij} = 0$ and $\\Gamma$ is identity. "
   ]
  },
  {
   "cell_type": "code",
   "execution_count": 3,
   "metadata": {
    "collapsed": false
   },
   "outputs": [
    {
     "data": {
      "text/plain": [
       "grad_B (generic function with 1 method)"
      ]
     },
     "execution_count": 3,
     "metadata": {},
     "output_type": "execute_result"
    }
   ],
   "source": [
    "function loglikelihood_B(B)\n",
    "    resid = Y - B * X\n",
    "    n = size(resid, 2)\n",
    "    return n/2 * logdet(Γ) - 0.5 * tr(Γ*resid*resid')\n",
    "end\n",
    "\n",
    "function grad_B(B)\n",
    "    return Γ * (Y - B * X) * X'\n",
    "end"
   ]
  },
  {
   "cell_type": "code",
   "execution_count": 4,
   "metadata": {
    "collapsed": false
   },
   "outputs": [
    {
     "data": {
      "text/plain": [
       "grad_Γ (generic function with 1 method)"
      ]
     },
     "execution_count": 4,
     "metadata": {},
     "output_type": "execute_result"
    }
   ],
   "source": [
    "function loglikelihood_Γ(Γ)\n",
    "    resid = Y - B * X\n",
    "    n = size(resid, 2)\n",
    "    return n/2 * logdet(Γ) - 0.5 * tr(Γ*resid*resid')\n",
    "end\n",
    "\n",
    "function grad_Γ(Γ)\n",
    "    resid = Y - B * X\n",
    "    return 0.5n * inv(Γ) - 0.5 * resid * resid'\n",
    "end"
   ]
  },
  {
   "cell_type": "markdown",
   "metadata": {},
   "source": [
    "### Actual gradient with respect to B"
   ]
  },
  {
   "cell_type": "code",
   "execution_count": 5,
   "metadata": {
    "collapsed": false
   },
   "outputs": [
    {
     "name": "stdout",
     "output_type": "stream",
     "text": [
      "loglikelihood_B(B) = -625.8199404112053\n"
     ]
    },
    {
     "data": {
      "text/plain": [
       "2×1000 Matrix{Float64}:\n",
       " -7.56848  17.3549  -10.1027   -5.75132  …  -0.300151   0.275582  -1.04698\n",
       "  1.99913  22.5213    8.01207  36.7295      36.759     -6.99386   54.6926"
      ]
     },
     "execution_count": 5,
     "metadata": {},
     "output_type": "execute_result"
    }
   ],
   "source": [
    "B = zeros(r, p)\n",
    "Γ = Matrix{Float64}(I, r, r)\n",
    "@show loglikelihood_B(B)\n",
    "∇B = grad_B(B)"
   ]
  },
  {
   "cell_type": "markdown",
   "metadata": {},
   "source": [
    "### Numerical gradient with respect to B"
   ]
  },
  {
   "cell_type": "code",
   "execution_count": 6,
   "metadata": {
    "collapsed": false
   },
   "outputs": [
    {
     "data": {
      "text/plain": [
       "2×1000 Matrix{Float64}:\n",
       " -7.56848  17.3549  -10.1027   -5.75132  …  -0.300151   0.275582  -1.04698\n",
       "  1.99913  22.5213    8.01207  36.7295      36.759     -6.99386   54.6926"
      ]
     },
     "execution_count": 6,
     "metadata": {},
     "output_type": "execute_result"
    }
   ],
   "source": [
    "g = x -> ForwardDiff.gradient(loglikelihood_B, x)\n",
    "g(B)"
   ]
  },
  {
   "cell_type": "markdown",
   "metadata": {},
   "source": [
    "### Actual gradient with respect to $\\Gamma$"
   ]
  },
  {
   "cell_type": "code",
   "execution_count": 7,
   "metadata": {
    "collapsed": false
   },
   "outputs": [
    {
     "name": "stdout",
     "output_type": "stream",
     "text": [
      "loglikelihood_Γ(Γ) = -625.8199404112053\n"
     ]
    },
    {
     "data": {
      "text/plain": [
       "2×2 Matrix{Float64}:\n",
       "  -70.0254  -124.976\n",
       " -124.976   -455.794"
      ]
     },
     "execution_count": 7,
     "metadata": {},
     "output_type": "execute_result"
    }
   ],
   "source": [
    "B = zeros(r, p)\n",
    "Γ = Matrix{Float64}(I, r, r)\n",
    "@show loglikelihood_Γ(Γ)\n",
    "∇Γ = grad_Γ(Γ)"
   ]
  },
  {
   "cell_type": "markdown",
   "metadata": {},
   "source": [
    "### Numerical gradient with respect to $\\Gamma$"
   ]
  },
  {
   "cell_type": "code",
   "execution_count": 8,
   "metadata": {
    "collapsed": false
   },
   "outputs": [
    {
     "data": {
      "text/plain": [
       "2×2 Matrix{Float64}:\n",
       "  -70.0254  -124.976\n",
       " -124.976   -455.794"
      ]
     },
     "execution_count": 8,
     "metadata": {},
     "output_type": "execute_result"
    }
   ],
   "source": [
    "g = x -> ForwardDiff.gradient(loglikelihood_Γ, x)\n",
    "g(Γ)"
   ]
  },
  {
   "cell_type": "code",
   "execution_count": null,
   "metadata": {
    "collapsed": true
   },
   "outputs": [],
   "source": []
  }
 ],
 "metadata": {
  "kernelspec": {
   "display_name": "Julia 1.6.0",
   "language": "julia",
   "name": "julia-1.6"
  },
  "language_info": {
   "file_extension": ".jl",
   "mimetype": "application/julia",
   "name": "julia",
   "version": "1.6.0"
  }
 },
 "nbformat": 4,
 "nbformat_minor": 2
}
