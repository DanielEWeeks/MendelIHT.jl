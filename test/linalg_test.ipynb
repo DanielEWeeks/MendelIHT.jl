{
 "cells": [
  {
   "cell_type": "markdown",
   "metadata": {},
   "source": [
    "# Test SnpArray Linear Algebra\n",
    "\n",
    "According to [SnpArray documentation](https://openmendel.github.io/SnpArrays.jl/dev/#Linear-Algebra), there is at least 2 ways one can perform linear algebra on a SnpArray. This notebook tests which method is better and compare them to standard BLAS operations (default 8 BLAS threads)."
   ]
  },
  {
   "cell_type": "code",
   "execution_count": 1,
   "metadata": {
    "collapsed": false
   },
   "outputs": [
    {
     "name": "stderr",
     "output_type": "stream",
     "text": [
      "┌ Warning: no Manifest.toml file found, static paths used\n",
      "└ @ Revise /Users/biona001/.julia/packages/Revise/qxX5H/src/Revise.jl:1336\n"
     ]
    }
   ],
   "source": [
    "using Revise\n",
    "using SnpArrays\n",
    "using BenchmarkTools\n",
    "using LinearAlgebra"
   ]
  },
  {
   "cell_type": "code",
   "execution_count": 2,
   "metadata": {
    "collapsed": false
   },
   "outputs": [],
   "source": [
    "# load test data (no missing)\n",
    "const EUR = SnpArray(SnpArrays.datadir(\"EUR_subset.bed\"));\n",
    "\n",
    "# convert to SnpLinAlg and SnpBitMatrix\n",
    "const EURsla = SnpLinAlg{Float64}(EUR, model=ADDITIVE_MODEL, center=true, scale=true);\n",
    "const EURsla_ = SnpLinAlg{Float64}(EUR, model=ADDITIVE_MODEL, center=true, scale=true, impute=false);\n",
    "const EURbm = SnpBitMatrix{Float64}(EUR, model=ADDITIVE_MODEL, center=true, scale=true);"
   ]
  },
  {
   "cell_type": "code",
   "execution_count": 3,
   "metadata": {
    "collapsed": false
   },
   "outputs": [
    {
     "data": {
      "text/plain": [
       "1"
      ]
     },
     "execution_count": 3,
     "metadata": {},
     "output_type": "execute_result"
    }
   ],
   "source": [
    "Threads.nthreads()"
   ]
  },
  {
   "cell_type": "markdown",
   "metadata": {},
   "source": [
    "## Matrix vector multiplication (Xv)"
   ]
  },
  {
   "cell_type": "code",
   "execution_count": 4,
   "metadata": {
    "collapsed": true
   },
   "outputs": [],
   "source": [
    "v1 = randn(size(EUR, 1))\n",
    "v2 = randn(size(EUR, 2))\n",
    "A = convert(Matrix{Float64}, EUR, model=ADDITIVE_MODEL, center=true, scale=true);"
   ]
  },
  {
   "cell_type": "markdown",
   "metadata": {},
   "source": [
    "SnpLinAlg"
   ]
  },
  {
   "cell_type": "code",
   "execution_count": 11,
   "metadata": {
    "collapsed": false
   },
   "outputs": [
    {
     "data": {
      "text/plain": [
       "BenchmarkTools.Trial: \n",
       "  memory estimate:  8.39 KiB\n",
       "  allocs estimate:  161\n",
       "  --------------\n",
       "  minimum time:     7.924 ms (0.00% GC)\n",
       "  median time:      8.662 ms (0.00% GC)\n",
       "  mean time:        8.621 ms (0.00% GC)\n",
       "  maximum time:     11.010 ms (0.00% GC)\n",
       "  --------------\n",
       "  samples:          581\n",
       "  evals/sample:     1"
      ]
     },
     "execution_count": 11,
     "metadata": {},
     "output_type": "execute_result"
    }
   ],
   "source": [
    "@benchmark mul!($v1, $EURsla, $v2)"
   ]
  },
  {
   "cell_type": "markdown",
   "metadata": {},
   "source": [
    "SnpBitMatrix"
   ]
  },
  {
   "cell_type": "code",
   "execution_count": 12,
   "metadata": {
    "collapsed": false
   },
   "outputs": [
    {
     "data": {
      "text/plain": [
       "BenchmarkTools.Trial: \n",
       "  memory estimate:  0 bytes\n",
       "  allocs estimate:  0\n",
       "  --------------\n",
       "  minimum time:     27.062 ms (0.00% GC)\n",
       "  median time:      29.694 ms (0.00% GC)\n",
       "  mean time:        29.321 ms (0.00% GC)\n",
       "  maximum time:     32.492 ms (0.00% GC)\n",
       "  --------------\n",
       "  samples:          171\n",
       "  evals/sample:     1"
      ]
     },
     "execution_count": 12,
     "metadata": {},
     "output_type": "execute_result"
    }
   ],
   "source": [
    "@benchmark mul!($v1, $EURbm, $v2)"
   ]
  },
  {
   "cell_type": "markdown",
   "metadata": {},
   "source": [
    "BLAS"
   ]
  },
  {
   "cell_type": "code",
   "execution_count": 13,
   "metadata": {
    "collapsed": false
   },
   "outputs": [
    {
     "data": {
      "text/plain": [
       "BenchmarkTools.Trial: \n",
       "  memory estimate:  0 bytes\n",
       "  allocs estimate:  0\n",
       "  --------------\n",
       "  minimum time:     6.672 ms (0.00% GC)\n",
       "  median time:      12.260 ms (0.00% GC)\n",
       "  mean time:        12.167 ms (0.00% GC)\n",
       "  maximum time:     22.166 ms (0.00% GC)\n",
       "  --------------\n",
       "  samples:          411\n",
       "  evals/sample:     1"
      ]
     },
     "execution_count": 13,
     "metadata": {},
     "output_type": "execute_result"
    }
   ],
   "source": [
    "@benchmark mul!($v1, $A, $v2)"
   ]
  },
  {
   "cell_type": "markdown",
   "metadata": {},
   "source": [
    "SnpLinAlg is clearly fastest."
   ]
  },
  {
   "cell_type": "markdown",
   "metadata": {},
   "source": [
    "## Tranpose matrix vector multiplication (X'v)"
   ]
  },
  {
   "cell_type": "markdown",
   "metadata": {},
   "source": [
    "SnpLinAlg"
   ]
  },
  {
   "cell_type": "code",
   "execution_count": 16,
   "metadata": {
    "collapsed": false
   },
   "outputs": [
    {
     "data": {
      "text/plain": [
       "BenchmarkTools.Trial: \n",
       "  memory estimate:  4.53 KiB\n",
       "  allocs estimate:  83\n",
       "  --------------\n",
       "  minimum time:     7.257 ms (0.00% GC)\n",
       "  median time:      7.777 ms (0.00% GC)\n",
       "  mean time:        8.040 ms (0.00% GC)\n",
       "  maximum time:     12.704 ms (0.00% GC)\n",
       "  --------------\n",
       "  samples:          622\n",
       "  evals/sample:     1"
      ]
     },
     "execution_count": 16,
     "metadata": {},
     "output_type": "execute_result"
    }
   ],
   "source": [
    "@benchmark mul!($v2, $EURsla', $v1)"
   ]
  },
  {
   "cell_type": "markdown",
   "metadata": {},
   "source": [
    "SnpBitMatrix"
   ]
  },
  {
   "cell_type": "code",
   "execution_count": 17,
   "metadata": {
    "collapsed": false
   },
   "outputs": [
    {
     "data": {
      "text/plain": [
       "BenchmarkTools.Trial: \n",
       "  memory estimate:  0 bytes\n",
       "  allocs estimate:  0\n",
       "  --------------\n",
       "  minimum time:     22.155 ms (0.00% GC)\n",
       "  median time:      22.694 ms (0.00% GC)\n",
       "  mean time:        23.002 ms (0.00% GC)\n",
       "  maximum time:     32.510 ms (0.00% GC)\n",
       "  --------------\n",
       "  samples:          218\n",
       "  evals/sample:     1"
      ]
     },
     "execution_count": 17,
     "metadata": {},
     "output_type": "execute_result"
    }
   ],
   "source": [
    "@benchmark mul!($v2, $EURbm', $v1)"
   ]
  },
  {
   "cell_type": "markdown",
   "metadata": {},
   "source": [
    "BLAS"
   ]
  },
  {
   "cell_type": "code",
   "execution_count": 18,
   "metadata": {
    "collapsed": false
   },
   "outputs": [
    {
     "data": {
      "text/plain": [
       "BenchmarkTools.Trial: \n",
       "  memory estimate:  0 bytes\n",
       "  allocs estimate:  0\n",
       "  --------------\n",
       "  minimum time:     6.027 ms (0.00% GC)\n",
       "  median time:      9.198 ms (0.00% GC)\n",
       "  mean time:        9.539 ms (0.00% GC)\n",
       "  maximum time:     26.159 ms (0.00% GC)\n",
       "  --------------\n",
       "  samples:          524\n",
       "  evals/sample:     1"
      ]
     },
     "execution_count": 18,
     "metadata": {},
     "output_type": "execute_result"
    }
   ],
   "source": [
    "@benchmark mul!($v2, $A', $v1)"
   ]
  },
  {
   "cell_type": "markdown",
   "metadata": {},
   "source": [
    "Contrary to [documentation](https://openmendel.github.io/SnpArrays.jl/dev/#Linear-Algebra), both $Ax$ and $A'x$ is faster on `SnpLinAlg`."
   ]
  },
  {
   "cell_type": "markdown",
   "metadata": {},
   "source": [
    "## Does SnpLinAlg require more memory?\n",
    "\n",
    "[SnpBitMatrix](https://github.com/OpenMendel/SnpArrays.jl/blob/master/src/linalg_bitmatrix.jl) implementation definitely requires allocating 2 `BitMatrix`s, so memory usage doubles. However it seems like a [SnpLinAlg](https://github.com/OpenMendel/SnpArrays.jl/blob/master/src/linalg_direct.jl) is instantiated from the original `SnpArray`. Thus perhaps SnpLinAlg does NOT require extra memory? Let's test this. "
   ]
  },
  {
   "cell_type": "code",
   "execution_count": 26,
   "metadata": {
    "collapsed": false
   },
   "outputs": [
    {
     "name": "stdout",
     "output_type": "stream",
     "text": [
      "X[1:10] = UInt8[0x00, 0x00, 0x00, 0x00, 0x00, 0x00, 0x00, 0x00, 0x00, 0x00]\n",
      "Xsla.s[1:10] = UInt8[0x00, 0x00, 0x00, 0x00, 0x00, 0x00, 0x00, 0x00, 0x00, 0x00]\n",
      "X[1:10] = UInt8[0x03, 0x03, 0x03, 0x03, 0x03, 0x03, 0x03, 0x03, 0x03, 0x03]\n",
      "Xsla.s[1:10] = UInt8[0x03, 0x03, 0x03, 0x03, 0x03, 0x03, 0x03, 0x03, 0x03, 0x03]\n"
     ]
    }
   ],
   "source": [
    "X = SnpArray(undef, 100, 100)\n",
    "Xsla = SnpLinAlg{Float64}(X, model=ADDITIVE_MODEL, center=true, scale=true);\n",
    "\n",
    "@show X[1:10]\n",
    "@show Xsla.s[1:10]\n",
    "Xsla.s[1:10] .= 0x03\n",
    "@show X[1:10]\n",
    "@show Xsla.s[1:10];"
   ]
  },
  {
   "cell_type": "markdown",
   "metadata": {},
   "source": [
    "They clearly refer to the same SnpArray. Thus it seems like SnpLinAlg is better suited for MendelIHT due to 2x memory savings. "
   ]
  }
 ],
 "metadata": {
  "@webio": {
   "lastCommId": null,
   "lastKernelId": null
  },
  "kernelspec": {
   "display_name": "Julia 1.5.0",
   "language": "julia",
   "name": "julia-1.5"
  },
  "language_info": {
   "file_extension": ".jl",
   "mimetype": "application/julia",
   "name": "julia",
   "version": "1.5.0"
  }
 },
 "nbformat": 4,
 "nbformat_minor": 2
}
