{
 "cells": [
  {
   "cell_type": "markdown",
   "metadata": {},
   "source": [
    "# Test SnpArray Linear Algebra\n",
    "\n",
    "According to [SnpArray documentation](https://openmendel.github.io/SnpArrays.jl/dev/#Linear-Algebra), there is at least 2 ways one can perform linear algebra on a SnpArray. This notebook tests which method is better and compare them to standard BLAS operations (default 8 BLAS threads)."
   ]
  },
  {
   "cell_type": "code",
   "execution_count": 1,
   "metadata": {
    "collapsed": false
   },
   "outputs": [
    {
     "name": "stderr",
     "output_type": "stream",
     "text": [
      "┌ Info: Precompiling SnpArrays [4e780e97-f5bf-4111-9dc4-b70aaf691b06]\n",
      "└ @ Base loading.jl:1278\n",
      "[ Info: Compiling VCF parser...\n",
      "┌ Info: Precompiling BenchmarkTools [6e4b80f9-dd63-53aa-95a3-0cdb28fa8baf]\n",
      "└ @ Base loading.jl:1278\n"
     ]
    }
   ],
   "source": [
    "using Revise\n",
    "using SnpArrays\n",
    "using BenchmarkTools\n",
    "using LinearAlgebra"
   ]
  },
  {
   "cell_type": "code",
   "execution_count": 2,
   "metadata": {
    "collapsed": false
   },
   "outputs": [],
   "source": [
    "# load test data (no missing)\n",
    "const EUR = SnpArray(SnpArrays.datadir(\"EUR_subset.bed\"));\n",
    "\n",
    "# convert to SnpLinAlg and SnpBitMatrix\n",
    "const EURsla = SnpLinAlg{Float64}(EUR, model=ADDITIVE_MODEL, center=true, scale=true);\n",
    "const EURsla_ = SnpLinAlg{Float64}(EUR, model=ADDITIVE_MODEL, center=true, scale=true, impute=false);\n",
    "const EURbm = SnpBitMatrix{Float64}(EUR, model=ADDITIVE_MODEL, center=true, scale=true);"
   ]
  },
  {
   "cell_type": "code",
   "execution_count": 3,
   "metadata": {
    "collapsed": false
   },
   "outputs": [
    {
     "data": {
      "text/plain": [
       "1"
      ]
     },
     "execution_count": 3,
     "metadata": {},
     "output_type": "execute_result"
    }
   ],
   "source": [
    "Threads.nthreads()"
   ]
  },
  {
   "cell_type": "markdown",
   "metadata": {},
   "source": [
    "## Matrix vector multiplication (Xv)"
   ]
  },
  {
   "cell_type": "code",
   "execution_count": 4,
   "metadata": {
    "collapsed": true
   },
   "outputs": [],
   "source": [
    "v1 = randn(size(EUR, 1))\n",
    "v2 = randn(size(EUR, 2))\n",
    "A = convert(Matrix{Float64}, EUR, model=ADDITIVE_MODEL, center=true, scale=true);"
   ]
  },
  {
   "cell_type": "markdown",
   "metadata": {},
   "source": [
    "SnpLinAlg"
   ]
  },
  {
   "cell_type": "code",
   "execution_count": 5,
   "metadata": {
    "collapsed": false
   },
   "outputs": [
    {
     "data": {
      "text/plain": [
       "BenchmarkTools.Trial: \n",
       "  memory estimate:  8.39 KiB\n",
       "  allocs estimate:  161\n",
       "  --------------\n",
       "  minimum time:     8.461 ms (0.00% GC)\n",
       "  median time:      9.418 ms (0.00% GC)\n",
       "  mean time:        9.239 ms (0.00% GC)\n",
       "  maximum time:     11.144 ms (0.00% GC)\n",
       "  --------------\n",
       "  samples:          542\n",
       "  evals/sample:     1"
      ]
     },
     "execution_count": 5,
     "metadata": {},
     "output_type": "execute_result"
    }
   ],
   "source": [
    "@benchmark mul!($v1, $EURsla, $v2)"
   ]
  },
  {
   "cell_type": "markdown",
   "metadata": {},
   "source": [
    "SnpBitMatrix"
   ]
  },
  {
   "cell_type": "code",
   "execution_count": 6,
   "metadata": {
    "collapsed": false
   },
   "outputs": [
    {
     "data": {
      "text/plain": [
       "BenchmarkTools.Trial: \n",
       "  memory estimate:  0 bytes\n",
       "  allocs estimate:  0\n",
       "  --------------\n",
       "  minimum time:     28.202 ms (0.00% GC)\n",
       "  median time:      31.474 ms (0.00% GC)\n",
       "  mean time:        31.262 ms (0.00% GC)\n",
       "  maximum time:     33.134 ms (0.00% GC)\n",
       "  --------------\n",
       "  samples:          160\n",
       "  evals/sample:     1"
      ]
     },
     "execution_count": 6,
     "metadata": {},
     "output_type": "execute_result"
    }
   ],
   "source": [
    "@benchmark mul!($v1, $EURbm, $v2)"
   ]
  },
  {
   "cell_type": "markdown",
   "metadata": {},
   "source": [
    "BLAS"
   ]
  },
  {
   "cell_type": "code",
   "execution_count": 7,
   "metadata": {
    "collapsed": false
   },
   "outputs": [
    {
     "data": {
      "text/plain": [
       "BenchmarkTools.Trial: \n",
       "  memory estimate:  0 bytes\n",
       "  allocs estimate:  0\n",
       "  --------------\n",
       "  minimum time:     6.606 ms (0.00% GC)\n",
       "  median time:      12.410 ms (0.00% GC)\n",
       "  mean time:        12.260 ms (0.00% GC)\n",
       "  maximum time:     15.217 ms (0.00% GC)\n",
       "  --------------\n",
       "  samples:          408\n",
       "  evals/sample:     1"
      ]
     },
     "execution_count": 7,
     "metadata": {},
     "output_type": "execute_result"
    }
   ],
   "source": [
    "@benchmark mul!($v1, $A, $v2)"
   ]
  },
  {
   "cell_type": "markdown",
   "metadata": {},
   "source": [
    "SnpLinAlg is clearly fastest, even faster than BLAS."
   ]
  },
  {
   "cell_type": "markdown",
   "metadata": {},
   "source": [
    "## Tranpose matrix vector multiplication (X'v)"
   ]
  },
  {
   "cell_type": "markdown",
   "metadata": {},
   "source": [
    "SnpLinAlg"
   ]
  },
  {
   "cell_type": "code",
   "execution_count": 8,
   "metadata": {
    "collapsed": false
   },
   "outputs": [
    {
     "data": {
      "text/plain": [
       "BenchmarkTools.Trial: \n",
       "  memory estimate:  4.53 KiB\n",
       "  allocs estimate:  83\n",
       "  --------------\n",
       "  minimum time:     7.374 ms (0.00% GC)\n",
       "  median time:      8.068 ms (0.00% GC)\n",
       "  mean time:        8.060 ms (0.00% GC)\n",
       "  maximum time:     12.003 ms (0.00% GC)\n",
       "  --------------\n",
       "  samples:          621\n",
       "  evals/sample:     1"
      ]
     },
     "execution_count": 8,
     "metadata": {},
     "output_type": "execute_result"
    }
   ],
   "source": [
    "@benchmark mul!($v2, $EURsla', $v1)"
   ]
  },
  {
   "cell_type": "markdown",
   "metadata": {},
   "source": [
    "SnpBitMatrix"
   ]
  },
  {
   "cell_type": "code",
   "execution_count": 9,
   "metadata": {
    "collapsed": false
   },
   "outputs": [
    {
     "data": {
      "text/plain": [
       "BenchmarkTools.Trial: \n",
       "  memory estimate:  0 bytes\n",
       "  allocs estimate:  0\n",
       "  --------------\n",
       "  minimum time:     23.022 ms (0.00% GC)\n",
       "  median time:      24.236 ms (0.00% GC)\n",
       "  mean time:        24.366 ms (0.00% GC)\n",
       "  maximum time:     31.778 ms (0.00% GC)\n",
       "  --------------\n",
       "  samples:          206\n",
       "  evals/sample:     1"
      ]
     },
     "execution_count": 9,
     "metadata": {},
     "output_type": "execute_result"
    }
   ],
   "source": [
    "@benchmark mul!($v2, $EURbm', $v1)"
   ]
  },
  {
   "cell_type": "markdown",
   "metadata": {},
   "source": [
    "BLAS"
   ]
  },
  {
   "cell_type": "code",
   "execution_count": 10,
   "metadata": {
    "collapsed": false
   },
   "outputs": [
    {
     "data": {
      "text/plain": [
       "BenchmarkTools.Trial: \n",
       "  memory estimate:  0 bytes\n",
       "  allocs estimate:  0\n",
       "  --------------\n",
       "  minimum time:     6.023 ms (0.00% GC)\n",
       "  median time:      9.551 ms (0.00% GC)\n",
       "  mean time:        9.616 ms (0.00% GC)\n",
       "  maximum time:     11.236 ms (0.00% GC)\n",
       "  --------------\n",
       "  samples:          520\n",
       "  evals/sample:     1"
      ]
     },
     "execution_count": 10,
     "metadata": {},
     "output_type": "execute_result"
    }
   ],
   "source": [
    "@benchmark mul!($v2, $A', $v1)"
   ]
  },
  {
   "cell_type": "markdown",
   "metadata": {},
   "source": [
    "Contrary to [documentation](https://openmendel.github.io/SnpArrays.jl/dev/#Linear-Algebra), both $Ax$ and $A'x$ is faster on `SnpLinAlg`."
   ]
  },
  {
   "cell_type": "markdown",
   "metadata": {},
   "source": [
    "## Does SnpLinAlg require more memory?\n",
    "\n",
    "[SnpBitMatrix](https://github.com/OpenMendel/SnpArrays.jl/blob/master/src/linalg_bitmatrix.jl) implementation definitely requires allocating 2 `BitMatrix`s, so memory usage is 2 bits per genotype. However it seems like a [SnpLinAlg](https://github.com/OpenMendel/SnpArrays.jl/blob/master/src/linalg_direct.jl) is instantiated from the original `SnpArray`. Does SnpLinAlg require more memory than just the SnpArray?"
   ]
  },
  {
   "cell_type": "code",
   "execution_count": 12,
   "metadata": {
    "collapsed": false
   },
   "outputs": [
    {
     "name": "stdout",
     "output_type": "stream",
     "text": [
      "Base.summarysize(EUR) = 6876757\n",
      "Base.summarysize(EURsla) = 8177245\n",
      "Base.summarysize(EURsla_) = 8177245\n",
      "Base.summarysize(EURbm) = 6421960\n"
     ]
    }
   ],
   "source": [
    "@show Base.summarysize(EUR)\n",
    "@show Base.summarysize(EURsla)\n",
    "@show Base.summarysize(EURsla_)\n",
    "@show Base.summarysize(EURbm);"
   ]
  },
  {
   "cell_type": "markdown",
   "metadata": {},
   "source": [
    "Seems like SnpLinAlg requires 25% more memory (2.5 bit per entry)."
   ]
  },
  {
   "cell_type": "markdown",
   "metadata": {},
   "source": [
    "## mul! on a @view SnpLinAlg\n",
    "\n",
    "SnpLinAlg behaves like a regular array, and hence, we can use view on it. Let's test performance on a viewed SnpLinAlg."
   ]
  },
  {
   "cell_type": "code",
   "execution_count": 26,
   "metadata": {
    "collapsed": true
   },
   "outputs": [],
   "source": [
    "EURsla_sub = @view(EURsla[1:2:379, 1:2:54051]); # every other row and col\n",
    "\n",
    "v1 = randn(size(EURsla, 1))\n",
    "v2 = randn(size(EURsla_sub, 1))\n",
    "v3 = randn(size(EURsla, 2))\n",
    "v4 = randn(size(EURsla_sub, 2));"
   ]
  },
  {
   "cell_type": "markdown",
   "metadata": {},
   "source": [
    "Full SnpLinAlg"
   ]
  },
  {
   "cell_type": "code",
   "execution_count": 27,
   "metadata": {
    "collapsed": false
   },
   "outputs": [
    {
     "data": {
      "text/plain": [
       "BenchmarkTools.Trial: \n",
       "  memory estimate:  8.39 KiB\n",
       "  allocs estimate:  161\n",
       "  --------------\n",
       "  minimum time:     7.837 ms (0.00% GC)\n",
       "  median time:      8.678 ms (0.00% GC)\n",
       "  mean time:        8.964 ms (0.00% GC)\n",
       "  maximum time:     10.882 ms (0.00% GC)\n",
       "  --------------\n",
       "  samples:          558\n",
       "  evals/sample:     1"
      ]
     },
     "execution_count": 27,
     "metadata": {},
     "output_type": "execute_result"
    }
   ],
   "source": [
    "@benchmark mul!($v1, $EURsla, $v3)"
   ]
  },
  {
   "cell_type": "markdown",
   "metadata": {},
   "source": [
    "Viewed SnpLinAlg"
   ]
  },
  {
   "cell_type": "code",
   "execution_count": 28,
   "metadata": {
    "collapsed": false
   },
   "outputs": [
    {
     "ename": "LoadError",
     "evalue": "getindex not defined for SnpLinAlg{Float64}",
     "output_type": "error",
     "traceback": [
      "getindex not defined for SnpLinAlg{Float64}",
      "",
      "Stacktrace:",
      " [1] error(::String, ::Type{T} where T) at ./error.jl:42",
      " [2] error_if_canonical_getindex(::IndexCartesian, ::SnpLinAlg{Float64}, ::Int64, ::Int64) at ./abstractarray.jl:1070",
      " [3] getindex at ./abstractarray.jl:1059 [inlined]",
      " [4] getindex at ./subarray.jl:257 [inlined]",
      " [5] _getindex at ./abstractarray.jl:1095 [inlined]",
      " [6] getindex at ./abstractarray.jl:1060 [inlined]",
      " [7] generic_matvecmul!(::Array{Float64,1}, ::Char, ::SubArray{Float64,2,SnpLinAlg{Float64},Tuple{StepRange{Int64,Int64},StepRange{Int64,Int64}},false}, ::Array{Float64,1}, ::LinearAlgebra.MulAddMul{true,true,Bool,Bool}) at /Users/julia/buildbot/worker/package_macos64/build/usr/share/julia/stdlib/v1.5/LinearAlgebra/src/matmul.jl:681",
      " [8] mul! at /Users/julia/buildbot/worker/package_macos64/build/usr/share/julia/stdlib/v1.5/LinearAlgebra/src/matmul.jl:81 [inlined]",
      " [9] mul! at /Users/julia/buildbot/worker/package_macos64/build/usr/share/julia/stdlib/v1.5/LinearAlgebra/src/matmul.jl:208 [inlined]",
      " [10] ##core#524(::Array{Float64,1}, ::SubArray{Float64,2,SnpLinAlg{Float64},Tuple{StepRange{Int64,Int64},StepRange{Int64,Int64}},false}, ::Array{Float64,1}) at /Users/biona001/.julia/packages/BenchmarkTools/eCEpo/src/execution.jl:371",
      " [11] ##sample#525(::BenchmarkTools.Parameters) at /Users/biona001/.julia/packages/BenchmarkTools/eCEpo/src/execution.jl:377",
      " [12] _run(::BenchmarkTools.Benchmark{Symbol(\"##benchmark#523\")}, ::BenchmarkTools.Parameters; verbose::Bool, pad::String, kwargs::Base.Iterators.Pairs{Symbol,Integer,NTuple{4,Symbol},NamedTuple{(:samples, :evals, :gctrial, :gcsample),Tuple{Int64,Int64,Bool,Bool}}}) at /Users/biona001/.julia/packages/BenchmarkTools/eCEpo/src/execution.jl:405",
      " [13] (::Base.var\"#inner#2\"{Base.Iterators.Pairs{Symbol,Integer,NTuple{5,Symbol},NamedTuple{(:verbose, :samples, :evals, :gctrial, :gcsample),Tuple{Bool,Int64,Int64,Bool,Bool}}},typeof(BenchmarkTools._run),Tuple{BenchmarkTools.Benchmark{Symbol(\"##benchmark#523\")},BenchmarkTools.Parameters}})() at ./essentials.jl:713",
      " [14] #invokelatest#1 at ./essentials.jl:714 [inlined]",
      " [15] #run_result#37 at /Users/biona001/.julia/packages/BenchmarkTools/eCEpo/src/execution.jl:32 [inlined]",
      " [16] run(::BenchmarkTools.Benchmark{Symbol(\"##benchmark#523\")}, ::BenchmarkTools.Parameters; progressid::Nothing, nleaves::Float64, ndone::Float64, kwargs::Base.Iterators.Pairs{Symbol,Integer,NTuple{5,Symbol},NamedTuple{(:verbose, :samples, :evals, :gctrial, :gcsample),Tuple{Bool,Int64,Int64,Bool,Bool}}}) at /Users/biona001/.julia/packages/BenchmarkTools/eCEpo/src/execution.jl:94",
      " [17] #warmup#45 at /Users/biona001/.julia/packages/BenchmarkTools/eCEpo/src/execution.jl:141 [inlined]",
      " [18] warmup(::BenchmarkTools.Benchmark{Symbol(\"##benchmark#523\")}) at /Users/biona001/.julia/packages/BenchmarkTools/eCEpo/src/execution.jl:141",
      " [19] top-level scope at /Users/biona001/.julia/packages/BenchmarkTools/eCEpo/src/execution.jl:287",
      " [20] include_string(::Function, ::Module, ::String, ::String) at ./loading.jl:1091"
     ]
    }
   ],
   "source": [
    "@benchmark mul!($v2, $EURsla_sub, $v4)"
   ]
  }
 ],
 "metadata": {
  "@webio": {
   "lastCommId": null,
   "lastKernelId": null
  },
  "kernelspec": {
   "display_name": "Julia 1.5.0",
   "language": "julia",
   "name": "julia-1.5"
  },
  "language_info": {
   "file_extension": ".jl",
   "mimetype": "application/julia",
   "name": "julia",
   "version": "1.5.0"
  }
 },
 "nbformat": 4,
 "nbformat_minor": 2
}
