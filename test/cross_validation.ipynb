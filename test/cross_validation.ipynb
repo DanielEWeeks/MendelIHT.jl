{
 "cells": [
  {
   "cell_type": "markdown",
   "metadata": {},
   "source": [
    "# Test cross validation scalability\n",
    "\n",
    "Let's compare cross validation timings on 1 vs 4 cores on compressed genotype matrices as well as dense `Float64` matrices. We test multithreading with `@threads` and `@spawn`, and distributed computing with `pmap`."
   ]
  },
  {
   "cell_type": "code",
   "execution_count": 1,
   "metadata": {
    "collapsed": false
   },
   "outputs": [
    {
     "name": "stderr",
     "output_type": "stream",
     "text": [
      "┌ Info: Precompiling MendelIHT [921c7187-1484-5754-b919-5d3ed9ac03c4]\n",
      "└ @ Base loading.jl:1278\n"
     ]
    }
   ],
   "source": [
    "using Distributed\n",
    "addprocs(4)\n",
    "\n",
    "@everywhere begin\n",
    "    using Revise\n",
    "    using MendelIHT\n",
    "    using SnpArrays\n",
    "    using Random\n",
    "    using GLM\n",
    "    using DelimitedFiles\n",
    "    using Test\n",
    "    using Distributions\n",
    "    using LinearAlgebra\n",
    "    using CSV\n",
    "    using DataFrames\n",
    "    using StatsBase\n",
    "    BLAS.set_num_threads(1) # remember to set BLAS threads to 1 !!!\n",
    "end"
   ]
  },
  {
   "cell_type": "code",
   "execution_count": 2,
   "metadata": {
    "collapsed": false
   },
   "outputs": [
    {
     "data": {
      "text/plain": [
       "4"
      ]
     },
     "execution_count": 2,
     "metadata": {},
     "output_type": "execute_result"
    }
   ],
   "source": [
    "using Revise\n",
    "using MendelIHT\n",
    "using SnpArrays\n",
    "using Random\n",
    "using GLM\n",
    "using DelimitedFiles\n",
    "using Test\n",
    "using Distributions\n",
    "using LinearAlgebra\n",
    "using CSV\n",
    "using DataFrames\n",
    "using StatsBase\n",
    "BLAS.set_num_threads(1) # remember to set BLAS threads to 1 !!!\n",
    "\n",
    "Threads.nthreads()"
   ]
  },
  {
   "cell_type": "markdown",
   "metadata": {},
   "source": [
    "# Univariate response with SnpLinAlg"
   ]
  },
  {
   "cell_type": "code",
   "execution_count": 4,
   "metadata": {
    "collapsed": false
   },
   "outputs": [],
   "source": [
    "n = 1000  # number of samples\n",
    "p = 10000 # number of SNPs\n",
    "k = 10    # number of causal SNPs per trait\n",
    "d = Normal\n",
    "l = canonicallink(d())\n",
    "\n",
    "# set random seed for reproducibility\n",
    "Random.seed!(2021)\n",
    "\n",
    "# simulate `.bed` file with no missing data\n",
    "x = simulate_random_snparray(undef, n, p)\n",
    "xla = SnpLinAlg{Float64}(x, model=ADDITIVE_MODEL, center=true, scale=true) \n",
    "\n",
    "# intercept is the only nongenetic covariate\n",
    "z = ones(n)\n",
    "intercept = 1.0\n",
    "\n",
    "# simulate response y, true model b, and the correct non-0 positions of b\n",
    "Y, true_b, correct_position = simulate_random_response(xla, k, d, l, Zu=z*intercept);"
   ]
  },
  {
   "cell_type": "markdown",
   "metadata": {},
   "source": [
    "## 1 core/thread"
   ]
  },
  {
   "cell_type": "code",
   "execution_count": 16,
   "metadata": {
    "collapsed": false
   },
   "outputs": [
    {
     "name": "stderr",
     "output_type": "stream",
     "text": [
      "\u001b[32mCross validating...100%|████████████████████████████████| Time: 0:00:04\u001b[39m\n"
     ]
    },
    {
     "name": "stdout",
     "output_type": "stream",
     "text": [
      "\n",
      "\n",
      "Crossvalidation Results:\n",
      "\tk\tMSE\n",
      "\t1\t1218.5008240345846\n",
      "\t2\t842.5557378754057\n",
      "\t3\t634.0406117147634\n",
      "\t4\t487.58369505980653\n",
      "\t5\t391.3933763254454\n",
      "\t6\t305.31664542373767\n",
      "\t7\t267.91347992536646\n",
      "\t8\t243.05711924230695\n",
      "\t9\t243.47585351013382\n",
      "\t10\t245.64651577890663\n",
      "\t11\t250.63099201132914\n",
      "\t12\t253.98774650724235\n",
      "\t13\t254.7946957226353\n",
      "\t14\t255.89622437798954\n",
      "\t15\t263.60686957526195\n",
      "\t16\t269.06640759615067\n",
      "\t17\t271.05816592183567\n",
      "\t18\t274.4334327761434\n",
      "\t19\t279.3301188489498\n",
      "\t20\t284.5831155777\n",
      "\n",
      "Best k = 8\n",
      "\n",
      "  4.865135 seconds (22.97 M allocations: 527.881 MiB, 0.68% gc time)\n"
     ]
    }
   ],
   "source": [
    "Random.seed!(2020)\n",
    "@time mses_new = cv_iht(Y, xla, z, d=d(), l=l, parallel=false);"
   ]
  },
  {
   "cell_type": "markdown",
   "metadata": {},
   "source": [
    "## pmap"
   ]
  },
  {
   "cell_type": "code",
   "execution_count": 12,
   "metadata": {
    "collapsed": false
   },
   "outputs": [
    {
     "name": "stderr",
     "output_type": "stream",
     "text": [
      "\u001b[32mCross validating...100%|████████████████████████████████| Time: 0:00:01\u001b[39m\n"
     ]
    },
    {
     "name": "stdout",
     "output_type": "stream",
     "text": [
      "\n",
      "\n",
      "Crossvalidation Results:\n",
      "\tk\tMSE\n",
      "\t1\t1218.5008240345846\n",
      "\t2\t842.5557378754057\n",
      "\t3\t634.0406117147634\n",
      "\t4\t487.58369505980653\n",
      "\t5\t391.3933763254454\n",
      "\t6\t305.31664542373767\n",
      "\t7\t267.91347992536646\n",
      "\t8\t243.05711924230695\n",
      "\t9\t243.47585351013382\n",
      "\t10\t245.64651577890663\n",
      "\t11\t250.63099201132914\n",
      "\t12\t253.98774650724235\n",
      "\t13\t254.7946957226353\n",
      "\t14\t255.89622437798954\n",
      "\t15\t263.60686957526195\n",
      "\t16\t269.06640759615067\n",
      "\t17\t271.05816592183567\n",
      "\t18\t274.4334327761434\n",
      "\t19\t279.3301188489498\n",
      "\t20\t284.5831155777\n",
      "\n",
      "Best k = 8\n",
      "\n",
      "  1.811694 seconds (28.73 k allocations: 6.673 MiB, 0.54% gc time)\n"
     ]
    }
   ],
   "source": [
    "# 4 cores\n",
    "Random.seed!(2020)\n",
    "@time mses_new = cv_iht(Y, xla, z, d=d(), l=l, parallel=true);"
   ]
  },
  {
   "cell_type": "markdown",
   "metadata": {},
   "source": [
    "## nested pmap"
   ]
  },
  {
   "cell_type": "code",
   "execution_count": 6,
   "metadata": {
    "collapsed": false
   },
   "outputs": [
    {
     "name": "stdout",
     "output_type": "stream",
     "text": [
      "\n",
      "\n",
      "Crossvalidation Results:\n",
      "\tk\tMSE\n",
      "\t1\t1218.5008240345846\n",
      "\t2\t842.5557378754057\n",
      "\t3\t634.0406117147634\n",
      "\t4\t487.58369505980653\n",
      "\t5\t391.3933763254454\n",
      "\t6\t305.31664542373767\n",
      "\t7\t267.91347992536646\n",
      "\t8\t243.05711924230695\n",
      "\t9\t243.47585351013382\n",
      "\t10\t245.64651577890663\n",
      "\t11\t250.63099201132914\n",
      "\t12\t253.98774650724235\n",
      "\t13\t254.7946957226353\n",
      "\t14\t255.89622437798954\n",
      "\t15\t263.60686957526195\n",
      "\t16\t269.06640759615067\n",
      "\t17\t271.05816592183567\n",
      "\t18\t274.4334327761434\n",
      "\t19\t279.3301188489498\n",
      "\t20\t284.5831155777\n",
      "\n",
      "Best k = 8\n",
      "\n",
      "  4.852282 seconds (22.97 M allocations: 527.849 MiB, 0.85% gc time)\n"
     ]
    }
   ],
   "source": [
    "# 4 cores\n",
    "Random.seed!(2020)\n",
    "@time mses_new = cv_iht(Y, xla, z, d=d(), l=l, parallel=false);"
   ]
  },
  {
   "cell_type": "markdown",
   "metadata": {},
   "source": [
    "## nested Threads.@threads"
   ]
  },
  {
   "cell_type": "code",
   "execution_count": 8,
   "metadata": {
    "collapsed": false
   },
   "outputs": [
    {
     "name": "stderr",
     "output_type": "stream",
     "text": [
      "\u001b[32mCross validating...100%|████████████████████████████████| Time: 0:00:02\u001b[39m\n"
     ]
    },
    {
     "name": "stdout",
     "output_type": "stream",
     "text": [
      "\n",
      "\n",
      "Crossvalidation Results:\n",
      "\tk\tMSE\n",
      "\t1\t1218.6608193951101\n",
      "\t2\t855.801471030423\n",
      "\t3\t633.6231320937792\n",
      "\t4\t487.09342727300964\n",
      "\t5\t376.49406861722866\n",
      "\t6\t301.2820142118784\n",
      "\t7\t267.91347992536646\n",
      "\t8\t243.05711924230695\n",
      "\t9\t243.47585351013382\n",
      "\t10\t249.16430481959574\n",
      "\t11\t246.478151677262\n",
      "\t12\t253.98774650724235\n",
      "\t13\t255.26112523315837\n",
      "\t14\t255.89622437798954\n",
      "\t15\t255.0346939395667\n",
      "\t16\t240.3468785148394\n",
      "\t17\t270.1680603810034\n",
      "\t18\t260.2927817014742\n",
      "\t19\t278.4623770756634\n",
      "\t20\t291.3180446152301\n",
      "\n",
      "Best k = 16\n",
      "\n",
      "  2.171738 seconds (22.97 M allocations: 528.047 MiB, 2.31% gc time)\n"
     ]
    }
   ],
   "source": [
    "# 4 threads\n",
    "Random.seed!(2020)\n",
    "@time mses_new = cv_iht(Y, xla, z, d=d(), l=l);"
   ]
  },
  {
   "cell_type": "markdown",
   "metadata": {},
   "source": [
    "## @sync ... @spawn \n",
    "\n",
    "Answer fluctuates. Not sure why."
   ]
  },
  {
   "cell_type": "code",
   "execution_count": 28,
   "metadata": {
    "collapsed": false
   },
   "outputs": [
    {
     "name": "stderr",
     "output_type": "stream",
     "text": [
      "\u001b[32mCross validating...100%|████████████████████████████████| Time: 0:00:01\u001b[39m\n"
     ]
    },
    {
     "name": "stdout",
     "output_type": "stream",
     "text": [
      "\n",
      "\n",
      "Crossvalidation Results:\n",
      "\tk\tMSE\n",
      "\t1\t816.1038468662973\n",
      "\t2\t635.8501800222248\n",
      "\t3\t448.39853780432867\n",
      "\t4\t360.577811830275\n",
      "\t5\t509.8201630591882\n",
      "\t6\t311.4943544718625\n",
      "\t7\t249.59172395241683\n",
      "\t8\t235.86097409763892\n",
      "\t9\t289.7590331303986\n",
      "\t10\t231.90438372164522\n",
      "\t11\t311.74353930739557\n",
      "\t12\t556.4400188227318\n",
      "\t13\t283.93522585750975\n",
      "\t14\t450.89762842187645\n",
      "\t15\t253.82942007096423\n",
      "\t16\t349.3043595351862\n",
      "\t17\t444.38111610875933\n",
      "\t18\t493.34013792664865\n",
      "\t19\t364.096839461036\n",
      "\t20\t277.8629182058546\n",
      "\n",
      "Best k = 10\n",
      "\n",
      "  1.434346 seconds (22.97 M allocations: 527.980 MiB, 5.34% gc time)\n"
     ]
    }
   ],
   "source": [
    "# 4 threads\n",
    "Random.seed!(2020)\n",
    "@time mses_new = cv_iht(Y, xla, z, d=d(), l=l);"
   ]
  },
  {
   "cell_type": "markdown",
   "metadata": {},
   "source": [
    "## Univariate response with dense Float64s"
   ]
  },
  {
   "cell_type": "code",
   "execution_count": 16,
   "metadata": {
    "collapsed": true
   },
   "outputs": [],
   "source": [
    "n = 5000  # number of samples\n",
    "p = 10000 # number of SNPs\n",
    "k = 10    # number of causal SNPs per trait\n",
    "d = Normal\n",
    "l = canonicallink(d())\n",
    "\n",
    "# set random seed for reproducibility\n",
    "Random.seed!(2021)\n",
    "\n",
    "# simulate `.bed` file with no missing data\n",
    "x = randn(n, p)\n",
    "\n",
    "# intercept is the only nongenetic covariate\n",
    "z = ones(n)\n",
    "intercept = 1.0\n",
    "\n",
    "# simulate response y, true model b, and the correct non-0 positions of b\n",
    "y, true_b, correct_position = simulate_random_response(x, k, d, l, Zu=z*intercept);"
   ]
  },
  {
   "cell_type": "code",
   "execution_count": 17,
   "metadata": {
    "collapsed": false
   },
   "outputs": [
    {
     "name": "stderr",
     "output_type": "stream",
     "text": [
      "\u001b[32mCross validating...100%|████████████████████████████████| Time: 0:00:18\u001b[39m\n"
     ]
    },
    {
     "name": "stdout",
     "output_type": "stream",
     "text": [
      "\n",
      "\n",
      "Crossvalidation Results:\n",
      "\tk\tMSE\n",
      "\t1\t7620.678703424767\n",
      "\t2\t4843.2090739422965\n",
      "\t3\t3823.4696319526106\n",
      "\t4\t2882.8736571364025\n",
      "\t5\t2057.0297220866105\n",
      "\t6\t1711.3860665095106\n",
      "\t7\t1296.1935231845227\n",
      "\t8\t1112.6263164938034\n",
      "\t9\t984.7885109603233\n",
      "\t10\t967.4921113496174\n",
      "\t11\t966.0060438329298\n",
      "\t12\t968.2783508468474\n",
      "\t13\t971.361243918521\n",
      "\t14\t973.4022898469375\n",
      "\t15\t978.1775331064498\n",
      "\t16\t983.9153752806435\n",
      "\t17\t983.0212506386123\n",
      "\t18\t986.9111942083202\n",
      "\t19\t988.6770001959334\n",
      "\t20\t991.9368900330937\n",
      "\n",
      "Best k = 11\n",
      "\n",
      " 18.232142 seconds (74.80 M allocations: 1.347 GiB, 2.04% gc time)\n"
     ]
    }
   ],
   "source": [
    "# 1 cores\n",
    "Random.seed!(2020)\n",
    "@time mses_new = cv_iht(y, x, z, d=d(), l=l, parallel=false);"
   ]
  },
  {
   "cell_type": "code",
   "execution_count": 18,
   "metadata": {
    "collapsed": false
   },
   "outputs": [
    {
     "name": "stderr",
     "output_type": "stream",
     "text": [
      "\u001b[32mCross validating...100%|████████████████████████████████| Time: 0:00:22\u001b[39m\n"
     ]
    },
    {
     "name": "stdout",
     "output_type": "stream",
     "text": [
      "\n",
      "\n",
      "Crossvalidation Results:\n",
      "\tk\tMSE\n",
      "\t1\t7620.678703424767\n",
      "\t2\t4843.2090739422965\n",
      "\t3\t3823.4696319526106\n",
      "\t4\t2882.8736571364025\n",
      "\t5\t2057.0297220866105\n",
      "\t6\t1711.3860665095106\n",
      "\t7\t1296.1935231845227\n",
      "\t8\t1112.6263164938034\n",
      "\t9\t984.7885109603233\n",
      "\t10\t967.4921113496174\n",
      "\t11\t966.0060438329298\n",
      "\t12\t968.2783508468474\n",
      "\t13\t971.361243918521\n",
      "\t14\t973.4022898469375\n",
      "\t15\t978.1775331064498\n",
      "\t16\t983.9153752806435\n",
      "\t17\t983.0212506386123\n",
      "\t18\t986.9111942083202\n",
      "\t19\t988.6770001959334\n",
      "\t20\t991.9368900330937\n",
      "\n",
      "Best k = 11\n",
      "\n",
      " 22.953429 seconds (47.78 k allocations: 10.283 MiB)\n"
     ]
    }
   ],
   "source": [
    "# 4 cores\n",
    "Random.seed!(2020)\n",
    "@time mses_new = cv_iht(y, x, z, d=d(), l=l, parallel=true);"
   ]
  },
  {
   "cell_type": "markdown",
   "metadata": {},
   "source": [
    "## Multivariate response with SnpLinAlg"
   ]
  },
  {
   "cell_type": "code",
   "execution_count": 22,
   "metadata": {
    "collapsed": true
   },
   "outputs": [],
   "source": [
    "n = 1000  # number of samples\n",
    "p = 10000 # number of SNPs\n",
    "k = 10    # number of causal SNPs per trait\n",
    "r = 2\n",
    "\n",
    "# set random seed for reproducibility\n",
    "Random.seed!(2021)\n",
    "\n",
    "# simulate `.bed` file with no missing data\n",
    "x = simulate_random_snparray(undef, n, p)\n",
    "xla = SnpLinAlg{Float64}(x, model=ADDITIVE_MODEL, center=true, scale=true) \n",
    "\n",
    "# intercept is the only nongenetic covariate\n",
    "z = ones(n)\n",
    "intercept = 1.0\n",
    "\n",
    "# simulate response y, true model b, and the correct non-0 positions of b\n",
    "Y, true_Σ, true_b, correct_position = simulate_random_response(xla, k, r, Zu=z*intercepts, overlap=2);"
   ]
  },
  {
   "cell_type": "code",
   "execution_count": 23,
   "metadata": {
    "collapsed": false
   },
   "outputs": [
    {
     "name": "stderr",
     "output_type": "stream",
     "text": [
      "\u001b[32mCross validating...100%|████████████████████████████████| Time: 0:03:18\u001b[39m\n"
     ]
    },
    {
     "name": "stdout",
     "output_type": "stream",
     "text": [
      "\n",
      "\n",
      "Crossvalidation Results:\n",
      "\tk\tMSE\n",
      "\t1\t2888.7160633632484\n",
      "\t2\t2560.135862053543\n",
      "\t3\t2067.943067029389\n",
      "\t4\t1812.0395079444284\n",
      "\t5\t1554.3120367449362\n",
      "\t6\t1277.3237598020087\n",
      "\t7\t1154.9320629872832\n",
      "\t8\t1098.5910963871872\n",
      "\t9\t1019.4597637296985\n",
      "\t10\t1030.1412464715597\n",
      "\t11\t1023.5545874904792\n",
      "\t12\t1007.9022110997687\n",
      "\t13\t1012.6193656356761\n",
      "\t14\t1019.1491606608182\n",
      "\t15\t1024.6877890077092\n",
      "\t16\t1022.9300595671257\n",
      "\t17\t1040.0286509856787\n",
      "\t18\t1033.345570850089\n",
      "\t19\t1039.8828186471897\n",
      "\t20\t1036.274158344765\n",
      "\n",
      "Best k = 12\n",
      "\n",
      "198.895800 seconds (8.46 M allocations: 780.823 MiB, 0.07% gc time)\n"
     ]
    }
   ],
   "source": [
    "# 1 core\n",
    "Random.seed!(2020)\n",
    "Yt = Matrix(Y')\n",
    "Zt = Matrix(z')\n",
    "@time mses = cv_iht(Yt, Transpose(xla), Zt, path=1:20, parallel=false);"
   ]
  },
  {
   "cell_type": "code",
   "execution_count": 24,
   "metadata": {
    "collapsed": false
   },
   "outputs": [
    {
     "name": "stderr",
     "output_type": "stream",
     "text": [
      "┌ Warning: Replacing docs for `MendelIHT.cv_iht :: Union{Tuple{T}, Tuple{Union{AbstractArray{T,1}, AbstractArray{T,2}},AbstractArray{T,2},Union{AbstractArray{T,1}, AbstractArray{T,2}}}} where T<:Union{Float32, Float64}` in module `MendelIHT`\n",
      "└ @ Base.Docs docs/Docs.jl:227\n",
      "┌ Warning: Replacing docs for `MendelIHT.cv_iht :: Union{Tuple{T}, Tuple{Union{AbstractArray{T,1}, AbstractArray{T,2}},AbstractArray{T,2},Union{AbstractArray{T,1}, AbstractArray{T,2}}}} where T<:Union{Float32, Float64}` in module `MendelIHT`\n",
      "└ @ Base.Docs docs/Docs.jl:227\n",
      "┌ Warning: Replacing docs for `MendelIHT.cv_iht :: Union{Tuple{T}, Tuple{Union{AbstractArray{T,1}, AbstractArray{T,2}},AbstractArray{T,2},Union{AbstractArray{T,1}, AbstractArray{T,2}}}} where T<:Union{Float32, Float64}` in module `MendelIHT`\n",
      "└ @ Base.Docs docs/Docs.jl:227\n",
      "┌ Warning: Replacing docs for `MendelIHT.cv_iht :: Union{Tuple{T}, Tuple{Union{AbstractArray{T,1}, AbstractArray{T,2}},AbstractArray{T,2},Union{AbstractArray{T,1}, AbstractArray{T,2}}}} where T<:Union{Float32, Float64}` in module `MendelIHT`\n",
      "└ @ Base.Docs docs/Docs.jl:227\n",
      "\u001b[32mCross validating...100%|████████████████████████████████| Time: 0:01:02\u001b[39m\n"
     ]
    },
    {
     "name": "stdout",
     "output_type": "stream",
     "text": [
      "\n",
      "\n",
      "Crossvalidation Results:\n",
      "\tk\tMSE\n",
      "\t1\t2888.7160633632484\n",
      "\t2\t2560.135862053543\n",
      "\t3\t2067.943067029389\n",
      "\t4\t1812.0395079444284\n",
      "\t5\t1554.3120367449362\n",
      "\t6\t1277.3237598020087\n",
      "\t7\t1154.9320629872832\n",
      "\t8\t1098.5910963871872\n",
      "\t9\t1019.4597637296985\n",
      "\t10\t1030.1412464715597\n",
      "\t11\t1023.5545874904792\n",
      "\t12\t1007.9022110997687\n",
      "\t13\t1012.6193656356761\n",
      "\t14\t1019.1491606608182\n",
      "\t15\t1024.6877890077092\n",
      "\t16\t1022.9300595671257\n",
      "\t17\t1040.0286509856787\n",
      "\t18\t1033.345570850089\n",
      "\t19\t1039.8828186471897\n",
      "\t20\t1036.274158344765\n",
      "\n",
      "Best k = 12\n",
      "\n",
      " 62.852016 seconds (1.03 M allocations: 57.195 MiB, 0.03% gc time)\n"
     ]
    }
   ],
   "source": [
    "# 1 core\n",
    "Random.seed!(2020)\n",
    "Yt = Matrix(Y')\n",
    "Zt = Matrix(z')\n",
    "@time mses = cv_iht(Yt, Transpose(xla), Zt, path=1:20, parallel=true);"
   ]
  },
  {
   "cell_type": "markdown",
   "metadata": {},
   "source": [
    "## Multivariate response with dense Float64s"
   ]
  },
  {
   "cell_type": "code",
   "execution_count": 7,
   "metadata": {
    "collapsed": false,
    "scrolled": false
   },
   "outputs": [],
   "source": [
    "n = 1000  # number of samples\n",
    "p = 10000 # number of SNPs\n",
    "k = 10    # number of causal SNPs\n",
    "r = 2     # number of traits\n",
    "\n",
    "# set random seed for reproducibility\n",
    "Random.seed!(2021)\n",
    "\n",
    "# simulate `.bed` file with no missing data\n",
    "x = randn(n, p)\n",
    "\n",
    "# intercept is the only nongenetic covariate\n",
    "z = ones(n, 1)\n",
    "intercepts = [10.0 1.0] # each trait have different intercept\n",
    "\n",
    "# simulate response y, true model b, and the correct non-0 positions of b\n",
    "Y, true_Σ, true_b, correct_position = simulate_random_response(x, k, r, Zu=z*intercepts, overlap=2);"
   ]
  },
  {
   "cell_type": "code",
   "execution_count": 8,
   "metadata": {
    "collapsed": false
   },
   "outputs": [
    {
     "name": "stderr",
     "output_type": "stream",
     "text": [
      "\u001b[32mCross validating...100%|████████████████████████████████| Time: 0:02:03\u001b[39m\n"
     ]
    },
    {
     "name": "stdout",
     "output_type": "stream",
     "text": [
      "\n",
      "\n",
      "Crossvalidation Results:\n",
      "\tk\tMSE\n",
      "\t1\t2629.5253388334654\n",
      "\t2\t2445.3327091797446\n",
      "\t3\t1699.7479496810877\n",
      "\t4\t1581.049584753384\n",
      "\t5\t1345.7979096211036\n",
      "\t6\t1002.831521953042\n",
      "\t7\t938.1884998991206\n",
      "\t8\t731.4755412240933\n",
      "\t9\t723.5331961068099\n",
      "\t10\t826.2287168502997\n",
      "\t11\t605.2207412646168\n",
      "\t12\t608.5209443463392\n",
      "\t13\t609.4258432524741\n",
      "\t14\t608.3389786061807\n",
      "\t15\t607.6231927917379\n",
      "\t16\t610.1537812223704\n",
      "\t17\t610.4358299991871\n",
      "\t18\t612.6346959329958\n",
      "\t19\t609.484474645297\n",
      "\t20\t611.8138514213124\n",
      "\n",
      "Best k = 11\n",
      "\n",
      "123.398046 seconds (8.41 M allocations: 1.157 GiB, 0.16% gc time)\n"
     ]
    }
   ],
   "source": [
    "# 1 core\n",
    "Random.seed!(2020)\n",
    "Yt = Matrix(Y')\n",
    "Zt = Matrix(z')\n",
    "@time mses = cv_iht(Yt, Transpose(x), Zt, path=1:20, parallel=false);"
   ]
  },
  {
   "cell_type": "code",
   "execution_count": 9,
   "metadata": {
    "collapsed": false
   },
   "outputs": [
    {
     "name": "stderr",
     "output_type": "stream",
     "text": [
      "\u001b[32mCross validating...100%|████████████████████████████████| Time: 0:00:41\u001b[39m\n"
     ]
    },
    {
     "name": "stdout",
     "output_type": "stream",
     "text": [
      "\n",
      "\n",
      "Crossvalidation Results:\n",
      "\tk\tMSE\n",
      "\t1\t2629.5253388334654\n",
      "\t2\t2445.3327091797446\n",
      "\t3\t1699.7479496810877\n",
      "\t4\t1581.049584753384\n",
      "\t5\t1345.7979096211036\n",
      "\t6\t1002.831521953042\n",
      "\t7\t938.1884998991206\n",
      "\t8\t731.4755412240933\n",
      "\t9\t723.5331961068099\n",
      "\t10\t826.2287168502997\n",
      "\t11\t605.2207412646168\n",
      "\t12\t608.5209443463392\n",
      "\t13\t609.4258432524741\n",
      "\t14\t608.3389786061807\n",
      "\t15\t607.6231927917379\n",
      "\t16\t610.1537812223704\n",
      "\t17\t610.4358299991871\n",
      "\t18\t612.6346959329958\n",
      "\t19\t609.484474645297\n",
      "\t20\t611.8138514213124\n",
      "\n",
      "Best k = 11\n",
      "\n",
      " 41.739760 seconds (463.52 k allocations: 26.606 MiB)\n"
     ]
    }
   ],
   "source": [
    "# 4 core\n",
    "Random.seed!(2020)\n",
    "Yt = Matrix(Y')\n",
    "Zt = Matrix(z')\n",
    "@time mses = cv_iht(Yt, Transpose(x), Zt, path=1:20, parallel=true);"
   ]
  },
  {
   "cell_type": "code",
   "execution_count": null,
   "metadata": {
    "collapsed": true
   },
   "outputs": [],
   "source": []
  }
 ],
 "metadata": {
  "@webio": {
   "lastCommId": null,
   "lastKernelId": null
  },
  "kernelspec": {
   "display_name": "Julia 1.5.0",
   "language": "julia",
   "name": "julia-1.5"
  },
  "language_info": {
   "file_extension": ".jl",
   "mimetype": "application/julia",
   "name": "julia",
   "version": "1.5.0"
  }
 },
 "nbformat": 4,
 "nbformat_minor": 2
}
