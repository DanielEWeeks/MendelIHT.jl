{
 "cells": [
  {
   "cell_type": "markdown",
   "metadata": {},
   "source": [
    "# Test cross validation scalability\n",
    "\n",
    "Let's compare cross validation timings on 1 vs 8 cores on compressed genotype matrices as well as dense `Float64` matrices. We test multithreading with `@threads` and distributed computing with `pmap`."
   ]
  },
  {
   "cell_type": "code",
   "execution_count": 1,
   "metadata": {
    "collapsed": false
   },
   "outputs": [],
   "source": [
    "using Distributed\n",
    "addprocs(8)\n",
    "\n",
    "@everywhere begin\n",
    "    using Revise\n",
    "    using MendelIHT\n",
    "    using SnpArrays\n",
    "    using Random\n",
    "    using GLM\n",
    "    using DelimitedFiles\n",
    "    using Test\n",
    "    using Distributions\n",
    "    using LinearAlgebra\n",
    "    using CSV\n",
    "    using DataFrames\n",
    "    using StatsBase\n",
    "    BLAS.set_num_threads(1) # remember to set BLAS threads to 1 !!!\n",
    "end"
   ]
  },
  {
   "cell_type": "code",
   "execution_count": 1,
   "metadata": {
    "collapsed": false
   },
   "outputs": [
    {
     "name": "stderr",
     "output_type": "stream",
     "text": [
      "┌ Info: Precompiling MendelIHT [921c7187-1484-5754-b919-5d3ed9ac03c4]\n",
      "└ @ Base loading.jl:1317\n"
     ]
    },
    {
     "data": {
      "text/plain": [
       "8"
      ]
     },
     "execution_count": 1,
     "metadata": {},
     "output_type": "execute_result"
    }
   ],
   "source": [
    "using Revise\n",
    "using MendelIHT\n",
    "using SnpArrays\n",
    "using Random\n",
    "using GLM\n",
    "using DelimitedFiles\n",
    "using Test\n",
    "using Distributions\n",
    "using LinearAlgebra\n",
    "using CSV\n",
    "using DataFrames\n",
    "using StatsBase\n",
    "BLAS.set_num_threads(1) # remember to set BLAS threads to 1 !!!\n",
    "\n",
    "Threads.nthreads()"
   ]
  },
  {
   "cell_type": "markdown",
   "metadata": {},
   "source": [
    "# Univariate response with SnpLinAlg"
   ]
  },
  {
   "cell_type": "code",
   "execution_count": 2,
   "metadata": {
    "collapsed": false
   },
   "outputs": [],
   "source": [
    "n = 1000  # number of samples\n",
    "p = 10000 # number of SNPs\n",
    "k = 10    # number of causal SNPs per trait\n",
    "d = Normal\n",
    "l = canonicallink(d())\n",
    "\n",
    "# set random seed for reproducibility\n",
    "Random.seed!(2021)\n",
    "\n",
    "# simulate `.bed` file with no missing data\n",
    "x = simulate_random_snparray(undef, n, p)\n",
    "xla = SnpLinAlg{Float64}(x, model=ADDITIVE_MODEL, center=true, scale=true) \n",
    "\n",
    "# intercept is the only nongenetic covariate\n",
    "z = ones(n)\n",
    "intercept = 1.0\n",
    "\n",
    "# simulate response y, true model b, and the correct non-0 positions of b\n",
    "Y, true_b, correct_position = simulate_random_response(xla, k, d, l, Zu=z*intercept);"
   ]
  },
  {
   "cell_type": "markdown",
   "metadata": {},
   "source": [
    "## 1 core/thread\n",
    "\n",
    "+ Locally: 59.8 sec\n",
    "+ On Hoffman: \n",
    "    + 90.6 sec on n6677\n",
    "    + 35.7 sec on n6078"
   ]
  },
  {
   "cell_type": "code",
   "execution_count": 4,
   "metadata": {
    "collapsed": false
   },
   "outputs": [
    {
     "name": "stderr",
     "output_type": "stream",
     "text": [
      "\u001b[32mCross validating...100%|████████████████████████████████| Time: 0:00:59\u001b[39m\n"
     ]
    },
    {
     "name": "stdout",
     "output_type": "stream",
     "text": [
      "\n",
      "\n",
      "Crossvalidation Results:\n",
      "\tk\tMSE\n",
      "\t1\t1327.1531280179597\n",
      "\t2\t848.8788999226794\n",
      "\t3\t639.948579602539\n",
      "\t4\t491.3093147436451\n",
      "\t5\t414.7989357365103\n",
      "\t6\t307.6314769250727\n",
      "\t7\t266.95674197558765\n",
      "\t8\t242.05761692092082\n",
      "\t9\t236.2320679759727\n",
      "\t10\t243.58842257833055\n",
      "\t11\t249.85686051763722\n",
      "\t12\t247.99599154286292\n",
      "\t13\t252.9161674378406\n",
      "\t14\t257.6985723761604\n",
      "\t15\t264.6579499175102\n",
      "\t16\t267.6568409756378\n",
      "\t17\t266.171116137713\n",
      "\t18\t269.7531680328134\n",
      "\t19\t274.6758161402144\n",
      "\t20\t279.1288207835988\n",
      "\n",
      "Best k = 9\n",
      "\n",
      " 59.736318 seconds (22.59 M allocations: 523.071 MiB, 0.09% gc time)\n"
     ]
    }
   ],
   "source": [
    "Random.seed!(2020)\n",
    "@time mses_new = cv_iht(Y, xla, z, parallel=false);"
   ]
  },
  {
   "cell_type": "markdown",
   "metadata": {},
   "source": [
    "## pmap\n",
    "\n",
    "+ Locally: 11.48 sec (8 cores, ~5.2x speed up)\n",
    "+ On Hoffman: \n",
    "    + 15.25 sec (4 workers all on different nodes, ~6x speedup?)\n",
    "    + 9.04 sec (8 workers all on different nodes, ~10x speedup?)\n",
    "    + 5.1 sec (16 workers some nodes shared, ~17x speedup?)"
   ]
  },
  {
   "cell_type": "code",
   "execution_count": 16,
   "metadata": {
    "collapsed": false
   },
   "outputs": [
    {
     "name": "stderr",
     "output_type": "stream",
     "text": [
      "\u001b[32mCross validating...100%|████████████████████████████████| Time: 0:00:11\u001b[39m\n"
     ]
    },
    {
     "name": "stdout",
     "output_type": "stream",
     "text": [
      "\n",
      "\n",
      "Crossvalidation Results:\n",
      "\tk\tMSE\n",
      "\t1\t1327.1531280179597\n",
      "\t2\t848.8788999226794\n",
      "\t3\t639.948579602539\n",
      "\t4\t491.3093147436451\n",
      "\t5\t414.7989357365103\n",
      "\t6\t307.6314769250727\n",
      "\t7\t266.95674197558765\n",
      "\t8\t242.05761692092082\n",
      "\t9\t236.2320679759727\n",
      "\t10\t243.58842257833055\n",
      "\t11\t249.85686051763722\n",
      "\t12\t247.99599154286292\n",
      "\t13\t252.9161674378406\n",
      "\t14\t257.6985723761604\n",
      "\t15\t264.6579499175102\n",
      "\t16\t267.6568409756378\n",
      "\t17\t266.171116137713\n",
      "\t18\t269.7531680328134\n",
      "\t19\t274.6758161402144\n",
      "\t20\t279.1288207835988\n",
      "\n",
      "Best k = 9\n",
      "\n",
      " 11.485343 seconds (36.60 k allocations: 8.148 MiB)\n"
     ]
    }
   ],
   "source": [
    "# 8 cores\n",
    "Random.seed!(2020)\n",
    "@time mses_new = cv_iht(Y, xla, z);"
   ]
  },
  {
   "cell_type": "markdown",
   "metadata": {},
   "source": [
    "## Threads.@threads"
   ]
  },
  {
   "cell_type": "code",
   "execution_count": 14,
   "metadata": {
    "collapsed": false
   },
   "outputs": [
    {
     "name": "stderr",
     "output_type": "stream",
     "text": [
      "\u001b[32mCross validating...100%|████████████████████████████████| Time: 0:00:10\u001b[39m\n"
     ]
    },
    {
     "name": "stdout",
     "output_type": "stream",
     "text": [
      "\n",
      "\n",
      "Crossvalidation Results:\n",
      "\tk\tMSE\n",
      "\t1\t1998.0714191613408\n",
      "\t2\t883.8723436324113\n",
      "\t3\t664.2897408340615\n",
      "\t4\t491.8268743939946\n",
      "\t5\t465.2640757566476\n",
      "\t6\t311.96343380091486\n",
      "\t7\t262.4858716067314\n",
      "\t8\t242.7636653935437\n",
      "\t9\t233.3698430342089\n",
      "\t10\t239.31422302501267\n",
      "\t11\t232.89591020251848\n",
      "\t12\t256.3754238244326\n",
      "\t13\t227.23792887289247\n",
      "\t14\t244.11022983334283\n",
      "\t15\t275.51573756073617\n",
      "\t16\t258.0385953411366\n",
      "\t17\t278.1060977328677\n",
      "\t18\t266.2898046454383\n",
      "\t19\t235.5155246294285\n",
      "\t20\t265.2229016022691\n",
      "\n",
      "Best k = 13\n",
      "\n",
      " 10.341796 seconds (22.58 M allocations: 521.592 MiB, 0.46% gc time)\n"
     ]
    }
   ],
   "source": [
    "# 8 threads\n",
    "Random.seed!(2020)\n",
    "@time mses_new = cv_iht(Y, xla, z);"
   ]
  },
  {
   "cell_type": "code",
   "execution_count": 13,
   "metadata": {
    "collapsed": false
   },
   "outputs": [
    {
     "name": "stderr",
     "output_type": "stream",
     "text": [
      "\u001b[32mCross validating... 91%|█████████████████████████████▏  |  ETA: 0:00:01\u001b[39m"
     ]
    },
    {
     "name": "stdout",
     "output_type": "stream",
     "text": [
      "\n",
      "\n",
      "Crossvalidation Results:\n",
      "\tk\tMSE\n",
      "\t1\t1957.0010924928874\n",
      "\t2\t841.3728442900828\n",
      "\t3\t640.7772999825921\n",
      "\t4\t521.4699961650224\n",
      "\t5\t385.3943750988469\n",
      "\t6\t314.3837284299232\n",
      "\t7\t276.91330390092514\n",
      "\t8\t241.83331623908384\n",
      "\t9\t234.95777850020556\n",
      "\t10\t245.04689943140693\n",
      "\t11\t245.7176731433606\n",
      "\t12\t254.0889561772159\n",
      "\t13\t273.30628055957334\n",
      "\t14\t249.54506726839523\n",
      "\t15\t264.49675309777\n",
      "\t16\t304.00998195647355\n",
      "\t17\t264.0688781826786\n",
      "\t18\t247.92218393683152\n",
      "\t19\t265.58127116801506\n",
      "\t20\t257.80632839024406\n",
      "\n",
      "Best k = 9\n",
      "\n",
      "  9.880719 seconds (23.05 M allocations: 547.388 MiB, 1.28% gc time, 0.70% compilation time)\n"
     ]
    },
    {
     "name": "stderr",
     "output_type": "stream",
     "text": [
      "\r",
      "\u001b[32mCross validating...100%|████████████████████████████████| Time: 0:00:09\u001b[39m\n"
     ]
    },
    {
     "data": {
      "text/plain": [
       "20-element Vector{Float64}:\n",
       " 1957.0010924928874\n",
       "  841.3728442900828\n",
       "  640.7772999825921\n",
       "  521.4699961650224\n",
       "  385.3943750988469\n",
       "  314.3837284299232\n",
       "  276.91330390092514\n",
       "  241.83331623908384\n",
       "  234.95777850020556\n",
       "  245.04689943140693\n",
       "  245.7176731433606\n",
       "  254.0889561772159\n",
       "  273.30628055957334\n",
       "  249.54506726839523\n",
       "  264.49675309777\n",
       "  304.00998195647355\n",
       "  264.0688781826786\n",
       "  247.92218393683152\n",
       "  265.58127116801506\n",
       "  257.80632839024406"
      ]
     },
     "execution_count": 13,
     "metadata": {},
     "output_type": "execute_result"
    }
   ],
   "source": [
    "# 8 threads\n",
    "Random.seed!(2020)\n",
    "@time mses_new = cv_iht(Y, xla, z);"
   ]
  },
  {
   "cell_type": "markdown",
   "metadata": {},
   "source": [
    "## @sync ... @spawn \n",
    "\n",
    "Answer fluctuates. Not sure why."
   ]
  },
  {
   "cell_type": "code",
   "execution_count": 28,
   "metadata": {
    "collapsed": false
   },
   "outputs": [
    {
     "name": "stderr",
     "output_type": "stream",
     "text": [
      "\u001b[32mCross validating...100%|████████████████████████████████| Time: 0:00:01\u001b[39m\n"
     ]
    },
    {
     "name": "stdout",
     "output_type": "stream",
     "text": [
      "\n",
      "\n",
      "Crossvalidation Results:\n",
      "\tk\tMSE\n",
      "\t1\t816.1038468662973\n",
      "\t2\t635.8501800222248\n",
      "\t3\t448.39853780432867\n",
      "\t4\t360.577811830275\n",
      "\t5\t509.8201630591882\n",
      "\t6\t311.4943544718625\n",
      "\t7\t249.59172395241683\n",
      "\t8\t235.86097409763892\n",
      "\t9\t289.7590331303986\n",
      "\t10\t231.90438372164522\n",
      "\t11\t311.74353930739557\n",
      "\t12\t556.4400188227318\n",
      "\t13\t283.93522585750975\n",
      "\t14\t450.89762842187645\n",
      "\t15\t253.82942007096423\n",
      "\t16\t349.3043595351862\n",
      "\t17\t444.38111610875933\n",
      "\t18\t493.34013792664865\n",
      "\t19\t364.096839461036\n",
      "\t20\t277.8629182058546\n",
      "\n",
      "Best k = 10\n",
      "\n",
      "  1.434346 seconds (22.97 M allocations: 527.980 MiB, 5.34% gc time)\n"
     ]
    }
   ],
   "source": [
    "# 4 threads\n",
    "Random.seed!(2020)\n",
    "@time mses_new = cv_iht(Y, xla, z, d=d(), l=l);"
   ]
  },
  {
   "cell_type": "markdown",
   "metadata": {},
   "source": [
    "## Univariate response with dense Float64s"
   ]
  },
  {
   "cell_type": "code",
   "execution_count": 16,
   "metadata": {
    "collapsed": true
   },
   "outputs": [],
   "source": [
    "n = 5000  # number of samples\n",
    "p = 10000 # number of SNPs\n",
    "k = 10    # number of causal SNPs per trait\n",
    "d = Normal\n",
    "l = canonicallink(d())\n",
    "\n",
    "# set random seed for reproducibility\n",
    "Random.seed!(2021)\n",
    "\n",
    "# simulate `.bed` file with no missing data\n",
    "x = randn(n, p)\n",
    "\n",
    "# intercept is the only nongenetic covariate\n",
    "z = ones(n)\n",
    "intercept = 1.0\n",
    "\n",
    "# simulate response y, true model b, and the correct non-0 positions of b\n",
    "y, true_b, correct_position = simulate_random_response(x, k, d, l, Zu=z*intercept);"
   ]
  },
  {
   "cell_type": "code",
   "execution_count": 17,
   "metadata": {
    "collapsed": false
   },
   "outputs": [
    {
     "name": "stderr",
     "output_type": "stream",
     "text": [
      "\u001b[32mCross validating...100%|████████████████████████████████| Time: 0:00:18\u001b[39m\n"
     ]
    },
    {
     "name": "stdout",
     "output_type": "stream",
     "text": [
      "\n",
      "\n",
      "Crossvalidation Results:\n",
      "\tk\tMSE\n",
      "\t1\t7620.678703424767\n",
      "\t2\t4843.2090739422965\n",
      "\t3\t3823.4696319526106\n",
      "\t4\t2882.8736571364025\n",
      "\t5\t2057.0297220866105\n",
      "\t6\t1711.3860665095106\n",
      "\t7\t1296.1935231845227\n",
      "\t8\t1112.6263164938034\n",
      "\t9\t984.7885109603233\n",
      "\t10\t967.4921113496174\n",
      "\t11\t966.0060438329298\n",
      "\t12\t968.2783508468474\n",
      "\t13\t971.361243918521\n",
      "\t14\t973.4022898469375\n",
      "\t15\t978.1775331064498\n",
      "\t16\t983.9153752806435\n",
      "\t17\t983.0212506386123\n",
      "\t18\t986.9111942083202\n",
      "\t19\t988.6770001959334\n",
      "\t20\t991.9368900330937\n",
      "\n",
      "Best k = 11\n",
      "\n",
      " 18.232142 seconds (74.80 M allocations: 1.347 GiB, 2.04% gc time)\n"
     ]
    }
   ],
   "source": [
    "# 1 cores\n",
    "Random.seed!(2020)\n",
    "@time mses_new = cv_iht(y, x, z, d=d(), l=l, parallel=false);"
   ]
  },
  {
   "cell_type": "code",
   "execution_count": 18,
   "metadata": {
    "collapsed": false
   },
   "outputs": [
    {
     "name": "stderr",
     "output_type": "stream",
     "text": [
      "\u001b[32mCross validating...100%|████████████████████████████████| Time: 0:00:22\u001b[39m\n"
     ]
    },
    {
     "name": "stdout",
     "output_type": "stream",
     "text": [
      "\n",
      "\n",
      "Crossvalidation Results:\n",
      "\tk\tMSE\n",
      "\t1\t7620.678703424767\n",
      "\t2\t4843.2090739422965\n",
      "\t3\t3823.4696319526106\n",
      "\t4\t2882.8736571364025\n",
      "\t5\t2057.0297220866105\n",
      "\t6\t1711.3860665095106\n",
      "\t7\t1296.1935231845227\n",
      "\t8\t1112.6263164938034\n",
      "\t9\t984.7885109603233\n",
      "\t10\t967.4921113496174\n",
      "\t11\t966.0060438329298\n",
      "\t12\t968.2783508468474\n",
      "\t13\t971.361243918521\n",
      "\t14\t973.4022898469375\n",
      "\t15\t978.1775331064498\n",
      "\t16\t983.9153752806435\n",
      "\t17\t983.0212506386123\n",
      "\t18\t986.9111942083202\n",
      "\t19\t988.6770001959334\n",
      "\t20\t991.9368900330937\n",
      "\n",
      "Best k = 11\n",
      "\n",
      " 22.953429 seconds (47.78 k allocations: 10.283 MiB)\n"
     ]
    }
   ],
   "source": [
    "# 4 cores\n",
    "Random.seed!(2020)\n",
    "@time mses_new = cv_iht(y, x, z, d=d(), l=l, parallel=true);"
   ]
  },
  {
   "cell_type": "markdown",
   "metadata": {},
   "source": [
    "## Multivariate response with SnpLinAlg"
   ]
  },
  {
   "cell_type": "code",
   "execution_count": 2,
   "metadata": {
    "collapsed": false
   },
   "outputs": [],
   "source": [
    "n = 1000  # number of samples\n",
    "p = 10000 # number of SNPs\n",
    "k = 10    # number of causal SNPs per trait\n",
    "r = 2\n",
    "\n",
    "# set random seed for reproducibility\n",
    "Random.seed!(2021)\n",
    "\n",
    "# simulate `.bed` file with no missing data\n",
    "x = simulate_random_snparray(undef, n, p)\n",
    "xla = SnpLinAlg{Float64}(x, model=ADDITIVE_MODEL, center=true, scale=true) \n",
    "\n",
    "# intercept is the only nongenetic covariate\n",
    "z = ones(n)\n",
    "intercepts = [10 1.0]\n",
    "\n",
    "# simulate response y, true model b, and the correct non-0 positions of b\n",
    "Y, true_Σ, true_b, correct_position = simulate_random_response(xla, k, r, Zu=z*intercepts, overlap=2);"
   ]
  },
  {
   "cell_type": "code",
   "execution_count": 4,
   "metadata": {
    "collapsed": false
   },
   "outputs": [
    {
     "name": "stderr",
     "output_type": "stream",
     "text": [
      "\u001b[32mCross validating...100%|████████████████████████████████| Time: 0:00:05\u001b[39m\n"
     ]
    },
    {
     "name": "stdout",
     "output_type": "stream",
     "text": [
      "\n",
      "\n",
      "Crossvalidation Results:\n",
      "\tk\tMSE\n",
      "\t1\t2888.7160633107273\n",
      "\t2\t2626.9760744337036\n",
      "\t3\t2063.2785491746927\n",
      "\t4\t1800.517101408314\n",
      "\t5\t1554.7247612809686\n",
      "\t6\t1277.3237598020085\n",
      "\t7\t1154.9320629872832\n",
      "\t8\t1098.591169773047\n",
      "\t9\t1019.468933898557\n",
      "\t10\t1030.1004609637873\n",
      "\t11\t1023.5283415733189\n",
      "\t12\t1008.6540951957405\n",
      "\t13\t1014.8064649926949\n",
      "\t14\t1017.1679560075426\n",
      "\t15\t1022.6733448618851\n",
      "\t16\t1023.701959348514\n",
      "\t17\t1035.6435253352697\n",
      "\t18\t1035.1363483912255\n",
      "\t19\t1043.6594351282336\n",
      "\t20\t1034.336967697158\n",
      "\n",
      "Best k = 12\n",
      "\n",
      "  5.997148 seconds (39.35 k allocations: 8.949 MiB)\n"
     ]
    }
   ],
   "source": [
    "# 4 core\n",
    "Random.seed!(2020)\n",
    "Yt = Matrix(Y')\n",
    "Zt = Matrix(z')\n",
    "@time mses = cv_iht(Yt, Transpose(xla), Zt, path=1:20, parallel=true);"
   ]
  },
  {
   "cell_type": "markdown",
   "metadata": {},
   "source": [
    "## Multivariate response with dense Float64s"
   ]
  },
  {
   "cell_type": "code",
   "execution_count": 7,
   "metadata": {
    "collapsed": false,
    "scrolled": false
   },
   "outputs": [],
   "source": [
    "n = 1000  # number of samples\n",
    "p = 10000 # number of SNPs\n",
    "k = 10    # number of causal SNPs\n",
    "r = 2     # number of traits\n",
    "\n",
    "# set random seed for reproducibility\n",
    "Random.seed!(2021)\n",
    "\n",
    "# simulate `.bed` file with no missing data\n",
    "x = randn(n, p)\n",
    "\n",
    "# intercept is the only nongenetic covariate\n",
    "z = ones(n, 1)\n",
    "intercepts = [10.0 1.0] # each trait have different intercept\n",
    "\n",
    "# simulate response y, true model b, and the correct non-0 positions of b\n",
    "Y, true_Σ, true_b, correct_position = simulate_random_response(x, k, r, Zu=z*intercepts, overlap=2);"
   ]
  },
  {
   "cell_type": "code",
   "execution_count": 8,
   "metadata": {
    "collapsed": false
   },
   "outputs": [
    {
     "name": "stderr",
     "output_type": "stream",
     "text": [
      "\u001b[32mCross validating...100%|████████████████████████████████| Time: 0:02:03\u001b[39m\n"
     ]
    },
    {
     "name": "stdout",
     "output_type": "stream",
     "text": [
      "\n",
      "\n",
      "Crossvalidation Results:\n",
      "\tk\tMSE\n",
      "\t1\t2629.5253388334654\n",
      "\t2\t2445.3327091797446\n",
      "\t3\t1699.7479496810877\n",
      "\t4\t1581.049584753384\n",
      "\t5\t1345.7979096211036\n",
      "\t6\t1002.831521953042\n",
      "\t7\t938.1884998991206\n",
      "\t8\t731.4755412240933\n",
      "\t9\t723.5331961068099\n",
      "\t10\t826.2287168502997\n",
      "\t11\t605.2207412646168\n",
      "\t12\t608.5209443463392\n",
      "\t13\t609.4258432524741\n",
      "\t14\t608.3389786061807\n",
      "\t15\t607.6231927917379\n",
      "\t16\t610.1537812223704\n",
      "\t17\t610.4358299991871\n",
      "\t18\t612.6346959329958\n",
      "\t19\t609.484474645297\n",
      "\t20\t611.8138514213124\n",
      "\n",
      "Best k = 11\n",
      "\n",
      "123.398046 seconds (8.41 M allocations: 1.157 GiB, 0.16% gc time)\n"
     ]
    }
   ],
   "source": [
    "# 1 core\n",
    "Random.seed!(2020)\n",
    "Yt = Matrix(Y')\n",
    "Zt = Matrix(z')\n",
    "@time mses = cv_iht(Yt, Transpose(x), Zt, path=1:20, parallel=false);"
   ]
  },
  {
   "cell_type": "code",
   "execution_count": 9,
   "metadata": {
    "collapsed": false
   },
   "outputs": [
    {
     "name": "stderr",
     "output_type": "stream",
     "text": [
      "\u001b[32mCross validating...100%|████████████████████████████████| Time: 0:00:41\u001b[39m\n"
     ]
    },
    {
     "name": "stdout",
     "output_type": "stream",
     "text": [
      "\n",
      "\n",
      "Crossvalidation Results:\n",
      "\tk\tMSE\n",
      "\t1\t2629.5253388334654\n",
      "\t2\t2445.3327091797446\n",
      "\t3\t1699.7479496810877\n",
      "\t4\t1581.049584753384\n",
      "\t5\t1345.7979096211036\n",
      "\t6\t1002.831521953042\n",
      "\t7\t938.1884998991206\n",
      "\t8\t731.4755412240933\n",
      "\t9\t723.5331961068099\n",
      "\t10\t826.2287168502997\n",
      "\t11\t605.2207412646168\n",
      "\t12\t608.5209443463392\n",
      "\t13\t609.4258432524741\n",
      "\t14\t608.3389786061807\n",
      "\t15\t607.6231927917379\n",
      "\t16\t610.1537812223704\n",
      "\t17\t610.4358299991871\n",
      "\t18\t612.6346959329958\n",
      "\t19\t609.484474645297\n",
      "\t20\t611.8138514213124\n",
      "\n",
      "Best k = 11\n",
      "\n",
      " 41.739760 seconds (463.52 k allocations: 26.606 MiB)\n"
     ]
    }
   ],
   "source": [
    "# 4 core\n",
    "Random.seed!(2020)\n",
    "Yt = Matrix(Y')\n",
    "Zt = Matrix(z')\n",
    "@time mses = cv_iht(Yt, Transpose(x), Zt, path=1:20, parallel=true);"
   ]
  },
  {
   "cell_type": "code",
   "execution_count": null,
   "metadata": {
    "collapsed": true
   },
   "outputs": [],
   "source": []
  }
 ],
 "metadata": {
  "@webio": {
   "lastCommId": null,
   "lastKernelId": null
  },
  "kernelspec": {
   "display_name": "Julia 1.6.0",
   "language": "julia",
   "name": "julia-1.6"
  },
  "language_info": {
   "file_extension": ".jl",
   "mimetype": "application/julia",
   "name": "julia",
   "version": "1.6.0"
  }
 },
 "nbformat": 4,
 "nbformat_minor": 2
}
