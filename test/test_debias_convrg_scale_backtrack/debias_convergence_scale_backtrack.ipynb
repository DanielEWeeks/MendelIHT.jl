{
 "cells": [
  {
   "cell_type": "markdown",
   "metadata": {},
   "source": [
    "# There are many parameters to tune in Poisson\n",
    "+ Should one perform debiasin?\n",
    "+ Ken or Kevin's convergence criteria?\n",
    "+ Should one scale the SnpBitMatrix?\n",
    "+ How many backtracking by default?\n",
    "\n",
    "To answer these questions, we run simulation experiments with a lot of samples $n \\in \\{500, 1000, ..., 5000\\}$ with $p = 10000$ SNPs."
   ]
  },
  {
   "cell_type": "code",
   "execution_count": 1,
   "metadata": {
    "collapsed": false
   },
   "outputs": [
    {
     "name": "stderr",
     "output_type": "stream",
     "text": [
      "┌ Info: Recompiling stale cache file /Users/biona001/.julia/compiled/v0.7/IHT/eaqWB.ji for IHT [921c7187-1484-5754-b919-5d3ed9ac03c4]\n",
      "└ @ Base loading.jl:1185\n",
      "┌ Warning: Package IHT does not have SnpArrays in its dependencies:\n",
      "│ - If you have IHT checked out for development and have\n",
      "│   added SnpArrays as a dependency but haven't updated your primary\n",
      "│   environment's manifest file, try `Pkg.resolve()`.\n",
      "│ - Otherwise you may need to report an issue with IHT\n",
      "└ Loading SnpArrays into IHT from project dependency, future warnings for IHT are suppressed.\n",
      "┌ Info: Loading DataFrames support into Gadfly.jl\n",
      "└ @ Gadfly /Users/biona001/.julia/packages/Gadfly/09PWZ/src/mapping.jl:228\n"
     ]
    }
   ],
   "source": [
    "using IHT\n",
    "using SnpArrays\n",
    "using DataFrames\n",
    "using Distributions\n",
    "using StatsFuns: logistic\n",
    "using Random\n",
    "using LinearAlgebra\n",
    "using Distributions"
   ]
  },
  {
   "cell_type": "code",
   "execution_count": 2,
   "metadata": {
    "collapsed": false
   },
   "outputs": [
    {
     "data": {
      "text/plain": [
       "run_test (generic function with 1 method)"
      ]
     },
     "execution_count": 2,
     "metadata": {},
     "output_type": "execute_result"
    }
   ],
   "source": [
    "function run_test(\n",
    "    n::Int64, \n",
    "    p::Int64;\n",
    "    debias::Bool = false,\n",
    "    convergence::Bool = false, #true = kevin's method, false = ken's method\n",
    "    scale::Bool = false,\n",
    "    max_step::Int = 3\n",
    ")\n",
    "    #set random seed\n",
    "    Random.seed!(1111)\n",
    "\n",
    "    #specify model and simuation parameters\n",
    "    k = 10\n",
    "    bernoulli_rates = 0.5rand(p)\n",
    "    x = simulate_random_snparray(n, p, bernoulli_rates)\n",
    "    xbm = SnpBitMatrix{Float64}(x, model=ADDITIVE_MODEL, center=true, scale=true); \n",
    "\n",
    "    #construct snpmatrix, covariate files, and true model b\n",
    "    z           = ones(n, 1)                   # non-genetic covariates, just the intercept\n",
    "    true_b      = zeros(p)                     # model vector\n",
    "    true_b[1:k] = randn(k)                     # Initialize k non-zero entries in the true model\n",
    "    shuffle!(true_b)                           # Shuffle the entries\n",
    "    correct_position = findall(x -> x != 0, true_b) # keep track of what the true entries are\n",
    "\n",
    "    #simulate phenotypes under different noises by: y = Xb + noise\n",
    "    y_temp = xbm * true_b\n",
    "\n",
    "    # Simulate poisson data\n",
    "    λ = exp.(y_temp) #inverse log link\n",
    "    y = [rand(Poisson(x)) for x in λ]\n",
    "    y = Float64.(y)\n",
    "    \n",
    "    #construct result\n",
    "    result = L0_poisson_reg(x, z, y, 1, k, glm=\"poisson\", debias=debias, scale=scale, convergence=convergence,max_step=max_step, show_info=false)\n",
    "\n",
    "    #calculate number of real signals found\n",
    "    supp_recovered = count(!iszero, result.beta[correct_position])\n",
    "    \n",
    "    return (result.time, result.iter, supp_recovered)\n",
    "end"
   ]
  },
  {
   "cell_type": "markdown",
   "metadata": {},
   "source": [
    "## Should one debias?"
   ]
  },
  {
   "cell_type": "code",
   "execution_count": 3,
   "metadata": {
    "collapsed": false
   },
   "outputs": [
    {
     "data": {
      "text/plain": [
       "test_poisson_debias (generic function with 1 method)"
      ]
     },
     "execution_count": 3,
     "metadata": {},
     "output_type": "execute_result"
    }
   ],
   "source": [
    "function test_poisson_debias()\n",
    "    sample_sizes = collect(500:500:5000)\n",
    "    nn = length(sample_sizes)\n",
    "    p = 10000\n",
    "    \n",
    "    debias_df = DataFrame(time_debias = zeros(Float64, nn), time_no_debias = zeros(Float64, nn), iter_debias = zeros(Int, nn), iter_no_debias = zeros(Int, nn), support_recovered_debias = zeros(Int, nn), support_recovered_no_debias = zeros(Int, nn))\n",
    "    for i in 1:length(sample_sizes)\n",
    "        n = sample_sizes[i]\n",
    "        debias    = run_test(n, p, debias=true,convergence=false,scale=false,max_step=3)\n",
    "        no_debias = run_test(n, p, debias=false,convergence=false,scale=false,max_step=3)\n",
    "        debias_df[i, 1] = debias[1]\n",
    "        debias_df[i, 2] = no_debias[1]\n",
    "        debias_df[i, 3] = debias[2]\n",
    "        debias_df[i, 4] = no_debias[2]\n",
    "        debias_df[i, 5] = debias[3]\n",
    "        debias_df[i, 6] = no_debias[3]\n",
    "    end\n",
    "    return debias_df\n",
    "end"
   ]
  },
  {
   "cell_type": "code",
   "execution_count": 4,
   "metadata": {
    "collapsed": false
   },
   "outputs": [
    {
     "data": {
      "text/html": [
       "<table class=\"data-frame\"><thead><tr><th></th><th>time_debias</th><th>time_no_debias</th><th>iter_debias</th><th>iter_no_debias</th><th>support_recovered_debias</th><th>support_recovered_no_debias</th></tr><tr><th></th><th>Float64</th><th>Float64</th><th>Int64</th><th>Int64</th><th>Int64</th><th>Int64</th></tr></thead><tbody><p>10 rows × 6 columns</p><tr><th>1</th><td>24.1622</td><td>23.5209</td><td>861</td><td>861</td><td>4</td><td>4</td></tr><tr><th>2</th><td>19.0641</td><td>18.6802</td><td>351</td><td>351</td><td>2</td><td>2</td></tr><tr><th>3</th><td>24.0687</td><td>23.0432</td><td>269</td><td>269</td><td>8</td><td>8</td></tr><tr><th>4</th><td>24.8863</td><td>24.4421</td><td>221</td><td>221</td><td>10</td><td>10</td></tr><tr><th>5</th><td>6.97411</td><td>8.96395</td><td>51</td><td>67</td><td>8</td><td>8</td></tr><tr><th>6</th><td>107.087</td><td>106.209</td><td>685</td><td>685</td><td>3</td><td>3</td></tr><tr><th>7</th><td>22.1921</td><td>21.9222</td><td>120</td><td>120</td><td>10</td><td>10</td></tr><tr><th>8</th><td>33.8737</td><td>33.1712</td><td>162</td><td>162</td><td>9</td><td>9</td></tr><tr><th>9</th><td>25.1572</td><td>24.0459</td><td>107</td><td>104</td><td>9</td><td>9</td></tr><tr><th>10</th><td>58.527</td><td>57.6429</td><td>227</td><td>227</td><td>10</td><td>10</td></tr></tbody></table>"
      ],
      "text/latex": [
       "\\begin{tabular}{r|cccccc}\n",
       "\t& time\\_debias & time\\_no\\_debias & iter\\_debias & iter\\_no\\_debias & support\\_recovered\\_debias & support\\_recovered\\_no\\_debias\\\\\n",
       "\t\\hline\n",
       "\t& Float64 & Float64 & Int64 & Int64 & Int64 & Int64\\\\\n",
       "\t\\hline\n",
       "\t1 & 24.1622 & 23.5209 & 861 & 861 & 4 & 4 \\\\\n",
       "\t2 & 19.0641 & 18.6802 & 351 & 351 & 2 & 2 \\\\\n",
       "\t3 & 24.0687 & 23.0432 & 269 & 269 & 8 & 8 \\\\\n",
       "\t4 & 24.8863 & 24.4421 & 221 & 221 & 10 & 10 \\\\\n",
       "\t5 & 6.97411 & 8.96395 & 51 & 67 & 8 & 8 \\\\\n",
       "\t6 & 107.087 & 106.209 & 685 & 685 & 3 & 3 \\\\\n",
       "\t7 & 22.1921 & 21.9222 & 120 & 120 & 10 & 10 \\\\\n",
       "\t8 & 33.8737 & 33.1712 & 162 & 162 & 9 & 9 \\\\\n",
       "\t9 & 25.1572 & 24.0459 & 107 & 104 & 9 & 9 \\\\\n",
       "\t10 & 58.527 & 57.6429 & 227 & 227 & 10 & 10 \\\\\n",
       "\\end{tabular}\n"
      ],
      "text/plain": [
       "10×6 DataFrame. Omitted printing of 2 columns\n",
       "│ Row │ time_debias │ time_no_debias │ iter_debias │ iter_no_debias │\n",
       "│     │ \u001b[90mFloat64\u001b[39m     │ \u001b[90mFloat64\u001b[39m        │ \u001b[90mInt64\u001b[39m       │ \u001b[90mInt64\u001b[39m          │\n",
       "├─────┼─────────────┼────────────────┼─────────────┼────────────────┤\n",
       "│ 1   │ 24.1622     │ 23.5209        │ 861         │ 861            │\n",
       "│ 2   │ 19.0641     │ 18.6802        │ 351         │ 351            │\n",
       "│ 3   │ 24.0687     │ 23.0432        │ 269         │ 269            │\n",
       "│ 4   │ 24.8863     │ 24.4421        │ 221         │ 221            │\n",
       "│ 5   │ 6.97411     │ 8.96395        │ 51          │ 67             │\n",
       "│ 6   │ 107.087     │ 106.209        │ 685         │ 685            │\n",
       "│ 7   │ 22.1921     │ 21.9222        │ 120         │ 120            │\n",
       "│ 8   │ 33.8737     │ 33.1712        │ 162         │ 162            │\n",
       "│ 9   │ 25.1572     │ 24.0459        │ 107         │ 104            │\n",
       "│ 10  │ 58.527      │ 57.6429        │ 227         │ 227            │"
      ]
     },
     "execution_count": 4,
     "metadata": {},
     "output_type": "execute_result"
    }
   ],
   "source": [
    "should_I_debias = test_poisson_debias()"
   ]
  },
  {
   "cell_type": "code",
   "execution_count": null,
   "metadata": {
    "collapsed": true
   },
   "outputs": [],
   "source": [
    "    #keep track of: time, iteration, support recovery, \n",
    "\n",
    "    #kevin's vs ken's convergence\n",
    "    #scale or not\n",
    "    #how many backtracking"
   ]
  },
  {
   "cell_type": "markdown",
   "metadata": {},
   "source": [
    "## Test which convergence criteria I should use"
   ]
  },
  {
   "cell_type": "code",
   "execution_count": 6,
   "metadata": {
    "collapsed": false
   },
   "outputs": [
    {
     "data": {
      "text/plain": [
       "test_poisson_convg (generic function with 1 method)"
      ]
     },
     "execution_count": 6,
     "metadata": {},
     "output_type": "execute_result"
    }
   ],
   "source": [
    "#true = kevin's method, false = ken's method\n",
    "function test_poisson_convg()\n",
    "    sample_sizes = collect(500:500:5000)\n",
    "    nn = length(sample_sizes)\n",
    "    p = 10000\n",
    "    \n",
    "    convg_df = DataFrame(time_kevin = zeros(nn), time_ken = zeros(nn), iter_kevin = zeros(Int, nn), iter_ken = zeros(Int, nn), support_recovered_kevin = zeros(Int, nn), support_recovered_no_ken = zeros(Int, nn))\n",
    "    for i in 1:length(sample_sizes)\n",
    "        n = sample_sizes[i]\n",
    "        kevin = run_test(n, p, debias=false,convergence=true,scale=false,max_step=3)\n",
    "        ken   = run_test(n, p, debias=false,convergence=false,scale=false,max_step=3)\n",
    "        convg_df[i, 1] = kevin[1]\n",
    "        convg_df[i, 2] = ken[1]\n",
    "        convg_df[i, 3] = kevin[2]\n",
    "        convg_df[i, 4] = ken[2]\n",
    "        convg_df[i, 5] = kevin[3]\n",
    "        convg_df[i, 6] = ken[3]\n",
    "    end\n",
    "    return convg_df\n",
    "end"
   ]
  },
  {
   "cell_type": "code",
   "execution_count": 7,
   "metadata": {
    "collapsed": false
   },
   "outputs": [
    {
     "data": {
      "text/html": [
       "<table class=\"data-frame\"><thead><tr><th></th><th>time_kevin</th><th>time_ken</th><th>iter_kevin</th><th>iter_ken</th><th>support_recovered_kevin</th><th>support_recovered_no_ken</th></tr><tr><th></th><th>Float64</th><th>Float64</th><th>Int64</th><th>Int64</th><th>Int64</th><th>Int64</th></tr></thead><tbody><p>10 rows × 6 columns</p><tr><th>1</th><td>10.3769</td><td>23.5718</td><td>377</td><td>861</td><td>4</td><td>4</td></tr><tr><th>2</th><td>11.3464</td><td>18.3091</td><td>212</td><td>351</td><td>2</td><td>2</td></tr><tr><th>3</th><td>21.6453</td><td>23.4103</td><td>247</td><td>269</td><td>8</td><td>8</td></tr><tr><th>4</th><td>19.8966</td><td>25.4802</td><td>178</td><td>221</td><td>10</td><td>10</td></tr><tr><th>5</th><td>9.22129</td><td>9.22906</td><td>67</td><td>67</td><td>8</td><td>8</td></tr><tr><th>6</th><td>56.6324</td><td>108.642</td><td>360</td><td>685</td><td>2</td><td>3</td></tr><tr><th>7</th><td>17.7581</td><td>21.8035</td><td>99</td><td>120</td><td>10</td><td>10</td></tr><tr><th>8</th><td>25.2194</td><td>33.433</td><td>122</td><td>162</td><td>9</td><td>9</td></tr><tr><th>9</th><td>23.1952</td><td>24.1049</td><td>100</td><td>104</td><td>9</td><td>9</td></tr><tr><th>10</th><td>51.2782</td><td>57.7842</td><td>201</td><td>227</td><td>10</td><td>10</td></tr></tbody></table>"
      ],
      "text/latex": [
       "\\begin{tabular}{r|cccccc}\n",
       "\t& time\\_kevin & time\\_ken & iter\\_kevin & iter\\_ken & support\\_recovered\\_kevin & support\\_recovered\\_no\\_ken\\\\\n",
       "\t\\hline\n",
       "\t& Float64 & Float64 & Int64 & Int64 & Int64 & Int64\\\\\n",
       "\t\\hline\n",
       "\t1 & 10.3769 & 23.5718 & 377 & 861 & 4 & 4 \\\\\n",
       "\t2 & 11.3464 & 18.3091 & 212 & 351 & 2 & 2 \\\\\n",
       "\t3 & 21.6453 & 23.4103 & 247 & 269 & 8 & 8 \\\\\n",
       "\t4 & 19.8966 & 25.4802 & 178 & 221 & 10 & 10 \\\\\n",
       "\t5 & 9.22129 & 9.22906 & 67 & 67 & 8 & 8 \\\\\n",
       "\t6 & 56.6324 & 108.642 & 360 & 685 & 2 & 3 \\\\\n",
       "\t7 & 17.7581 & 21.8035 & 99 & 120 & 10 & 10 \\\\\n",
       "\t8 & 25.2194 & 33.433 & 122 & 162 & 9 & 9 \\\\\n",
       "\t9 & 23.1952 & 24.1049 & 100 & 104 & 9 & 9 \\\\\n",
       "\t10 & 51.2782 & 57.7842 & 201 & 227 & 10 & 10 \\\\\n",
       "\\end{tabular}\n"
      ],
      "text/plain": [
       "10×6 DataFrame. Omitted printing of 2 columns\n",
       "│ Row │ time_kevin │ time_ken │ iter_kevin │ iter_ken │\n",
       "│     │ \u001b[90mFloat64\u001b[39m    │ \u001b[90mFloat64\u001b[39m  │ \u001b[90mInt64\u001b[39m      │ \u001b[90mInt64\u001b[39m    │\n",
       "├─────┼────────────┼──────────┼────────────┼──────────┤\n",
       "│ 1   │ 10.3769    │ 23.5718  │ 377        │ 861      │\n",
       "│ 2   │ 11.3464    │ 18.3091  │ 212        │ 351      │\n",
       "│ 3   │ 21.6453    │ 23.4103  │ 247        │ 269      │\n",
       "│ 4   │ 19.8966    │ 25.4802  │ 178        │ 221      │\n",
       "│ 5   │ 9.22129    │ 9.22906  │ 67         │ 67       │\n",
       "│ 6   │ 56.6324    │ 108.642  │ 360        │ 685      │\n",
       "│ 7   │ 17.7581    │ 21.8035  │ 99         │ 120      │\n",
       "│ 8   │ 25.2194    │ 33.433   │ 122        │ 162      │\n",
       "│ 9   │ 23.1952    │ 24.1049  │ 100        │ 104      │\n",
       "│ 10  │ 51.2782    │ 57.7842  │ 201        │ 227      │"
      ]
     },
     "execution_count": 7,
     "metadata": {},
     "output_type": "execute_result"
    }
   ],
   "source": [
    "which_convergence_criteria = test_poisson_convg()"
   ]
  },
  {
   "cell_type": "markdown",
   "metadata": {},
   "source": [
    "## Should I scale SnpBitMatrix?"
   ]
  },
  {
   "cell_type": "code",
   "execution_count": 3,
   "metadata": {
    "collapsed": false
   },
   "outputs": [
    {
     "data": {
      "text/plain": [
       "test_poisson_scale (generic function with 1 method)"
      ]
     },
     "execution_count": 3,
     "metadata": {},
     "output_type": "execute_result"
    }
   ],
   "source": [
    "function test_poisson_scale()\n",
    "    sample_sizes = collect(500:500:5000)\n",
    "    nn = length(sample_sizes)\n",
    "    p = 10000\n",
    "    \n",
    "    scale_df = DataFrame(time_yes_scale = zeros(nn), time_no_scale = zeros(nn), iter_yes_scale = zeros(Int, nn), iter_no_scale = zeros(Int, nn), supp_recov_yes_scale = zeros(Int, nn), supp_recov_no_scale = zeros(Int, nn))\n",
    "    for i in 1:length(sample_sizes)\n",
    "        n = sample_sizes[i]\n",
    "        yes_scale = run_test(n, p, debias=false,convergence=true,scale=true,max_step=3)\n",
    "        no_scale  = run_test(n, p, debias=false,convergence=true,scale=false,max_step=3)\n",
    "        scale_df[i, 1] = yes_scale[1]\n",
    "        scale_df[i, 2] = no_scale[1]\n",
    "        scale_df[i, 3] = yes_scale[2]\n",
    "        scale_df[i, 4] = no_scale[2]\n",
    "        scale_df[i, 5] = yes_scale[3]\n",
    "        scale_df[i, 6] = no_scale[3]\n",
    "    end\n",
    "    return scale_df\n",
    "end"
   ]
  },
  {
   "cell_type": "code",
   "execution_count": 6,
   "metadata": {
    "collapsed": false
   },
   "outputs": [
    {
     "name": "stdout",
     "output_type": "stream",
     "text": [
      "\u001b[31mDid not converge!!!!! The run time for IHT was 90.84418201446533seconds and model size was10\u001b[39m"
     ]
    },
    {
     "data": {
      "text/html": [
       "<table class=\"data-frame\"><thead><tr><th></th><th>time_yes_scale</th><th>time_no_scale</th><th>iter_yes_scale</th><th>iter_no_scale</th><th>supp_recov_yes_scale</th><th>supp_recov_no_scale</th></tr><tr><th></th><th>Float64</th><th>Float64</th><th>Int64</th><th>Int64</th><th>Int64</th><th>Int64</th></tr></thead><tbody><p>10 rows × 6 columns</p><tr><th>1</th><td>11.7174</td><td>10.1912</td><td>424</td><td>377</td><td>1</td><td>4</td></tr><tr><th>2</th><td>23.1371</td><td>10.9557</td><td>399</td><td>212</td><td>2</td><td>2</td></tr><tr><th>3</th><td>90.8442</td><td>20.6237</td><td>1000</td><td>247</td><td>8</td><td>8</td></tr><tr><th>4</th><td>37.579</td><td>21.5381</td><td>347</td><td>178</td><td>6</td><td>10</td></tr><tr><th>5</th><td>11.6094</td><td>8.99532</td><td>86</td><td>67</td><td>9</td><td>8</td></tr><tr><th>6</th><td>89.7073</td><td>58.6053</td><td>558</td><td>360</td><td>2</td><td>2</td></tr><tr><th>7</th><td>38.8959</td><td>20.9325</td><td>210</td><td>99</td><td>9</td><td>10</td></tr><tr><th>8</th><td>114.839</td><td>25.0874</td><td>517</td><td>122</td><td>9</td><td>9</td></tr><tr><th>9</th><td>47.2276</td><td>22.8083</td><td>209</td><td>100</td><td>9</td><td>9</td></tr><tr><th>10</th><td>83.6891</td><td>50.3003</td><td>333</td><td>201</td><td>10</td><td>10</td></tr></tbody></table>"
      ],
      "text/latex": [
       "\\begin{tabular}{r|cccccc}\n",
       "\t& time\\_yes\\_scale & time\\_no\\_scale & iter\\_yes\\_scale & iter\\_no\\_scale & supp\\_recov\\_yes\\_scale & supp\\_recov\\_no\\_scale\\\\\n",
       "\t\\hline\n",
       "\t& Float64 & Float64 & Int64 & Int64 & Int64 & Int64\\\\\n",
       "\t\\hline\n",
       "\t1 & 11.7174 & 10.1912 & 424 & 377 & 1 & 4 \\\\\n",
       "\t2 & 23.1371 & 10.9557 & 399 & 212 & 2 & 2 \\\\\n",
       "\t3 & 90.8442 & 20.6237 & 1000 & 247 & 8 & 8 \\\\\n",
       "\t4 & 37.579 & 21.5381 & 347 & 178 & 6 & 10 \\\\\n",
       "\t5 & 11.6094 & 8.99532 & 86 & 67 & 9 & 8 \\\\\n",
       "\t6 & 89.7073 & 58.6053 & 558 & 360 & 2 & 2 \\\\\n",
       "\t7 & 38.8959 & 20.9325 & 210 & 99 & 9 & 10 \\\\\n",
       "\t8 & 114.839 & 25.0874 & 517 & 122 & 9 & 9 \\\\\n",
       "\t9 & 47.2276 & 22.8083 & 209 & 100 & 9 & 9 \\\\\n",
       "\t10 & 83.6891 & 50.3003 & 333 & 201 & 10 & 10 \\\\\n",
       "\\end{tabular}\n"
      ],
      "text/plain": [
       "10×6 DataFrame. Omitted printing of 2 columns\n",
       "│ Row │ time_yes_scale │ time_no_scale │ iter_yes_scale │ iter_no_scale │\n",
       "│     │ \u001b[90mFloat64\u001b[39m        │ \u001b[90mFloat64\u001b[39m       │ \u001b[90mInt64\u001b[39m          │ \u001b[90mInt64\u001b[39m         │\n",
       "├─────┼────────────────┼───────────────┼────────────────┼───────────────┤\n",
       "│ 1   │ 11.7174        │ 10.1912       │ 424            │ 377           │\n",
       "│ 2   │ 23.1371        │ 10.9557       │ 399            │ 212           │\n",
       "│ 3   │ 90.8442        │ 20.6237       │ 1000           │ 247           │\n",
       "│ 4   │ 37.579         │ 21.5381       │ 347            │ 178           │\n",
       "│ 5   │ 11.6094        │ 8.99532       │ 86             │ 67            │\n",
       "│ 6   │ 89.7073        │ 58.6053       │ 558            │ 360           │\n",
       "│ 7   │ 38.8959        │ 20.9325       │ 210            │ 99            │\n",
       "│ 8   │ 114.839        │ 25.0874       │ 517            │ 122           │\n",
       "│ 9   │ 47.2276        │ 22.8083       │ 209            │ 100           │\n",
       "│ 10  │ 83.6891        │ 50.3003       │ 333            │ 201           │"
      ]
     },
     "execution_count": 6,
     "metadata": {},
     "output_type": "execute_result"
    }
   ],
   "source": [
    "should_I_scale = test_poisson_scale()"
   ]
  },
  {
   "cell_type": "markdown",
   "metadata": {},
   "source": [
    "## Test how how many backtracking"
   ]
  },
  {
   "cell_type": "code",
   "execution_count": 7,
   "metadata": {
    "collapsed": false
   },
   "outputs": [
    {
     "data": {
      "text/plain": [
       "test_poisson_backtrack (generic function with 1 method)"
      ]
     },
     "execution_count": 7,
     "metadata": {},
     "output_type": "execute_result"
    }
   ],
   "source": [
    "function test_poisson_backtrack()\n",
    "    sample_sizes = collect(500:500:5000)\n",
    "    nn = length(sample_sizes)\n",
    "    p = 10000\n",
    "    \n",
    "    backtrack_df = DataFrame(time_3 = zeros(nn), time_4 = zeros(nn), time_5 = zeros(nn), iter_3 = zeros(Int, nn), iter_4 = zeros(Int, nn), iter_5 = zeros(Int, nn), supp_recov_3 = zeros(Int, nn), supp_recov_4 = zeros(Int, nn), supp_recov_5 = zeros(Int, nn))\n",
    "    for i in 1:length(sample_sizes)\n",
    "        n = sample_sizes[i]\n",
    "        \n",
    "        back_3 = run_test(n, p, debias=false,convergence=true,scale=true,max_step=3)\n",
    "        back_4 = run_test(n, p, debias=false,convergence=true,scale=true,max_step=4)\n",
    "        back_5 = run_test(n, p, debias=false,convergence=true,scale=true,max_step=5)\n",
    "        backtrack_df[i, 1] = back_3[1]\n",
    "        backtrack_df[i, 2] = back_4[1]\n",
    "        backtrack_df[i, 3] = back_5[1]\n",
    "        backtrack_df[i, 4] = back_3[2]\n",
    "        backtrack_df[i, 5] = back_4[2]\n",
    "        backtrack_df[i, 6] = back_5[2]\n",
    "        backtrack_df[i, 7] = back_3[3]\n",
    "        backtrack_df[i, 8] = back_4[3]\n",
    "        backtrack_df[i, 9] = back_5[3]\n",
    "    end\n",
    "    return backtrack_df\n",
    "end"
   ]
  },
  {
   "cell_type": "code",
   "execution_count": 8,
   "metadata": {
    "collapsed": false
   },
   "outputs": [
    {
     "name": "stdout",
     "output_type": "stream",
     "text": [
      "\u001b[31mDid not converge!!!!! The run time for IHT was 80.88692903518677seconds and model size was10\u001b[39m"
     ]
    },
    {
     "data": {
      "text/html": [
       "<table class=\"data-frame\"><thead><tr><th></th><th>time_3</th><th>time_4</th><th>time_5</th><th>iter_3</th><th>iter_4</th><th>iter_5</th><th>supp_recov_3</th><th>supp_recov_4</th><th>supp_recov_5</th></tr><tr><th></th><th>Float64</th><th>Float64</th><th>Float64</th><th>Int64</th><th>Int64</th><th>Int64</th><th>Int64</th><th>Int64</th><th>Int64</th></tr></thead><tbody><p>10 rows × 9 columns</p><tr><th>1</th><td>11.5746</td><td>10.3514</td><td>14.6715</td><td>424</td><td>386</td><td>554</td><td>1</td><td>1</td><td>1</td></tr><tr><th>2</th><td>22.505</td><td>23.1776</td><td>20.4193</td><td>399</td><td>412</td><td>371</td><td>2</td><td>2</td><td>2</td></tr><tr><th>3</th><td>80.8869</td><td>47.051</td><td>60.0428</td><td>1000</td><td>581</td><td>732</td><td>8</td><td>7</td><td>8</td></tr><tr><th>4</th><td>37.2058</td><td>40.2342</td><td>40.0411</td><td>347</td><td>347</td><td>347</td><td>6</td><td>6</td><td>6</td></tr><tr><th>5</th><td>11.8397</td><td>12.4022</td><td>12.0313</td><td>86</td><td>86</td><td>86</td><td>9</td><td>9</td><td>9</td></tr><tr><th>6</th><td>93.7168</td><td>100.461</td><td>96.9217</td><td>558</td><td>610</td><td>592</td><td>2</td><td>2</td><td>2</td></tr><tr><th>7</th><td>39.2462</td><td>41.4451</td><td>41.7887</td><td>210</td><td>210</td><td>210</td><td>9</td><td>9</td><td>9</td></tr><tr><th>8</th><td>119.161</td><td>125.392</td><td>122.959</td><td>517</td><td>552</td><td>551</td><td>9</td><td>9</td><td>9</td></tr><tr><th>9</th><td>51.7593</td><td>51.79</td><td>52.6283</td><td>209</td><td>209</td><td>209</td><td>9</td><td>9</td><td>9</td></tr><tr><th>10</th><td>87.4533</td><td>82.191</td><td>82.9427</td><td>333</td><td>333</td><td>333</td><td>10</td><td>10</td><td>10</td></tr></tbody></table>"
      ],
      "text/latex": [
       "\\begin{tabular}{r|ccccccccc}\n",
       "\t& time\\_3 & time\\_4 & time\\_5 & iter\\_3 & iter\\_4 & iter\\_5 & supp\\_recov\\_3 & supp\\_recov\\_4 & supp\\_recov\\_5\\\\\n",
       "\t\\hline\n",
       "\t& Float64 & Float64 & Float64 & Int64 & Int64 & Int64 & Int64 & Int64 & Int64\\\\\n",
       "\t\\hline\n",
       "\t1 & 11.5746 & 10.3514 & 14.6715 & 424 & 386 & 554 & 1 & 1 & 1 \\\\\n",
       "\t2 & 22.505 & 23.1776 & 20.4193 & 399 & 412 & 371 & 2 & 2 & 2 \\\\\n",
       "\t3 & 80.8869 & 47.051 & 60.0428 & 1000 & 581 & 732 & 8 & 7 & 8 \\\\\n",
       "\t4 & 37.2058 & 40.2342 & 40.0411 & 347 & 347 & 347 & 6 & 6 & 6 \\\\\n",
       "\t5 & 11.8397 & 12.4022 & 12.0313 & 86 & 86 & 86 & 9 & 9 & 9 \\\\\n",
       "\t6 & 93.7168 & 100.461 & 96.9217 & 558 & 610 & 592 & 2 & 2 & 2 \\\\\n",
       "\t7 & 39.2462 & 41.4451 & 41.7887 & 210 & 210 & 210 & 9 & 9 & 9 \\\\\n",
       "\t8 & 119.161 & 125.392 & 122.959 & 517 & 552 & 551 & 9 & 9 & 9 \\\\\n",
       "\t9 & 51.7593 & 51.79 & 52.6283 & 209 & 209 & 209 & 9 & 9 & 9 \\\\\n",
       "\t10 & 87.4533 & 82.191 & 82.9427 & 333 & 333 & 333 & 10 & 10 & 10 \\\\\n",
       "\\end{tabular}\n"
      ],
      "text/plain": [
       "10×9 DataFrame. Omitted printing of 2 columns\n",
       "│ Row │ time_3  │ time_4  │ time_5  │ iter_3 │ iter_4 │ iter_5 │ supp_recov_3 │\n",
       "│     │ \u001b[90mFloat64\u001b[39m │ \u001b[90mFloat64\u001b[39m │ \u001b[90mFloat64\u001b[39m │ \u001b[90mInt64\u001b[39m  │ \u001b[90mInt64\u001b[39m  │ \u001b[90mInt64\u001b[39m  │ \u001b[90mInt64\u001b[39m        │\n",
       "├─────┼─────────┼─────────┼─────────┼────────┼────────┼────────┼──────────────┤\n",
       "│ 1   │ 11.5746 │ 10.3514 │ 14.6715 │ 424    │ 386    │ 554    │ 1            │\n",
       "│ 2   │ 22.505  │ 23.1776 │ 20.4193 │ 399    │ 412    │ 371    │ 2            │\n",
       "│ 3   │ 80.8869 │ 47.051  │ 60.0428 │ 1000   │ 581    │ 732    │ 8            │\n",
       "│ 4   │ 37.2058 │ 40.2342 │ 40.0411 │ 347    │ 347    │ 347    │ 6            │\n",
       "│ 5   │ 11.8397 │ 12.4022 │ 12.0313 │ 86     │ 86     │ 86     │ 9            │\n",
       "│ 6   │ 93.7168 │ 100.461 │ 96.9217 │ 558    │ 610    │ 592    │ 2            │\n",
       "│ 7   │ 39.2462 │ 41.4451 │ 41.7887 │ 210    │ 210    │ 210    │ 9            │\n",
       "│ 8   │ 119.161 │ 125.392 │ 122.959 │ 517    │ 552    │ 551    │ 9            │\n",
       "│ 9   │ 51.7593 │ 51.79   │ 52.6283 │ 209    │ 209    │ 209    │ 9            │\n",
       "│ 10  │ 87.4533 │ 82.191  │ 82.9427 │ 333    │ 333    │ 333    │ 10           │"
      ]
     },
     "execution_count": 8,
     "metadata": {},
     "output_type": "execute_result"
    }
   ],
   "source": [
    "how_many_times_should_I_backtrack = test_poisson_backtrack()"
   ]
  }
 ],
 "metadata": {
  "kernelspec": {
   "display_name": "Julia 0.7.0",
   "language": "julia",
   "name": "julia-0.7"
  },
  "language_info": {
   "file_extension": ".jl",
   "mimetype": "application/julia",
   "name": "julia",
   "version": "0.7.0"
  }
 },
 "nbformat": 4,
 "nbformat_minor": 2
}
