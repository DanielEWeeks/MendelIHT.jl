{
 "cells": [
  {
   "cell_type": "code",
   "execution_count": 1,
   "metadata": {
    "collapsed": false
   },
   "outputs": [
    {
     "name": "stderr",
     "output_type": "stream",
     "text": [
      "┌ Info: Precompiling MendelIHT [921c7187-1484-5754-b919-5d3ed9ac03c4]\n",
      "└ @ Base loading.jl:1278\n"
     ]
    }
   ],
   "source": [
    "using Distributed\n",
    "# addprocs(4)\n",
    "\n",
    "@everywhere begin\n",
    "    using Revise\n",
    "    using MendelIHT\n",
    "    using SnpArrays\n",
    "    using Random\n",
    "    using GLM\n",
    "    using DelimitedFiles\n",
    "    using Test\n",
    "    using Distributions\n",
    "    using LinearAlgebra\n",
    "    using CSV\n",
    "    using DataFrames\n",
    "end"
   ]
  },
  {
   "cell_type": "code",
   "execution_count": 2,
   "metadata": {
    "collapsed": false,
    "scrolled": false
   },
   "outputs": [
    {
     "name": "stdout",
     "output_type": "stream",
     "text": [
      "****                   MendelIHT Version 1.3.3                  ****\n",
      "****     Benjamin Chu, Kevin Keys, Chris German, Hua Zhou       ****\n",
      "****   Jin Zhou, Eric Sobel, Janet Sinsheimer, Kenneth Lange    ****\n",
      "****                                                            ****\n",
      "****                 Please cite our paper!                     ****\n",
      "****         https://doi.org/10.1093/gigascience/giaa044        ****\n",
      "\n",
      "Running sparse Multivariate Gaussian regression\n",
      "Link functin = IdentityLink()\n",
      "Sparsity parameter (k) = 22\n",
      "Prior weight scaling = off\n",
      "Doubly sparse projection = off\n",
      "Debias = off\n",
      "Max IHT iterations = 100\n",
      "Converging when tol < 0.0001:\n",
      "\n",
      "Iteration 1: loglikelihood = -400.60457966715217, backtracks = 0, tol = 0.17034266757325087\n",
      "Iteration 2: loglikelihood = 1277.2105827602686, backtracks = 0, tol = 0.049245607657732525\n",
      "Iteration 3: loglikelihood = 1684.8515720136606, backtracks = 0, tol = 0.005744819032699003\n",
      "Iteration 4: loglikelihood = 1732.0969772320536, backtracks = 0, tol = 0.030876197768619197\n",
      "Iteration 5: loglikelihood = 1960.7292963502175, backtracks = 0, tol = 0.026844399760517425\n",
      "Iteration 6: loglikelihood = 2287.6430380688544, backtracks = 0, tol = 0.003230043128191881\n",
      "Iteration 7: loglikelihood = 2323.500133303642, backtracks = 0, tol = 0.020965008884468297\n",
      "Iteration 8: loglikelihood = 2748.015317606946, backtracks = 0, tol = 0.0028369479227911706\n",
      "Iteration 9: loglikelihood = 2795.793725533435, backtracks = 0, tol = 0.0025045744645458673\n",
      "Iteration 10: loglikelihood = 2830.8753186044387, backtracks = 0, tol = 0.0021557930837319246\n",
      "Iteration 11: loglikelihood = 2857.8541181207675, backtracks = 0, tol = 0.001852199437249981\n",
      "Iteration 12: loglikelihood = 2878.7075233687856, backtracks = 0, tol = 0.0015906912243415974\n",
      "Iteration 13: loglikelihood = 2894.65282539781, backtracks = 0, tol = 0.0013661443831554465\n",
      "Iteration 14: loglikelihood = 2906.7485589201697, backtracks = 0, tol = 0.001173265508782077\n",
      "Iteration 15: loglikelihood = 2915.8643202108965, backtracks = 0, tol = 0.0010076451033776738\n",
      "Iteration 16: loglikelihood = 2922.700685671861, backtracks = 0, tol = 0.0008654387118232654\n",
      "Iteration 17: loglikelihood = 2927.8087755425477, backtracks = 0, tol = 0.006136279304731225\n",
      "Iteration 18: loglikelihood = 3007.3019458371277, backtracks = 0, tol = 0.0007850903930241791\n",
      "Iteration 19: loglikelihood = 3011.648390791803, backtracks = 0, tol = 0.0006853952641223396\n",
      "Iteration 20: loglikelihood = 3014.312063318265, backtracks = 0, tol = 0.0005876793582917897\n",
      "Iteration 21: loglikelihood = 3016.2736982400893, backtracks = 0, tol = 0.0005047214500203242\n",
      "Iteration 22: loglikelihood = 3017.725298433288, backtracks = 0, tol = 0.0004334706280196096\n",
      "Iteration 23: loglikelihood = 3018.7991888117804, backtracks = 0, tol = 0.00037237950980465416\n",
      "Iteration 24: loglikelihood = 3019.593286047198, backtracks = 0, tol = 0.00031999210287090326\n",
      "Iteration 25: loglikelihood = 3020.1804384849893, backtracks = 0, tol = 0.00027507501834348873\n",
      "Iteration 26: loglikelihood = 3020.614630662708, backtracks = 0, tol = 0.00023656378713141887\n",
      "Iteration 27: loglikelihood = 3020.935821747063, backtracks = 0, tol = 0.00020354257570447698\n",
      "Iteration 28: loglikelihood = 3021.1735567975074, backtracks = 0, tol = 0.00017522209034955246\n",
      "Iteration 29: loglikelihood = 3021.349666836178, backtracks = 0, tol = 0.0020379812135201338\n",
      "Iteration 30: loglikelihood = 3028.4860749613044, backtracks = 0, tol = 0.00011996814269448221\n",
      "Iteration 31: loglikelihood = 3028.6865618348675, backtracks = 0, tol = 0.0019034900031956006\n",
      "Iteration 32: loglikelihood = 3028.258736690519, backtracks = 5, tol = 3.905478337063449e-6\n",
      "  6.917747 seconds (11.93 M allocations: 574.757 MiB, 3.57% gc time)\n"
     ]
    },
    {
     "data": {
      "text/plain": [
       "\n",
       "Compute time (sec):     3.0938730239868164\n",
       "Final loglikelihood:    3028.258736690519\n",
       "Iterations:             32\n",
       "Trait 1's SNP PVE:      0.452040320581271\n",
       "Trait 2's SNP PVE:      0.8852215028542645\n",
       "\n",
       "Trait 1: IHT estimated 8 nonzero SNP predictors\n",
       "\u001b[1m8×2 DataFrame\u001b[0m\n",
       "\u001b[1m Row \u001b[0m│\u001b[1m Position \u001b[0m\u001b[1m Estimated_β \u001b[0m\n",
       "\u001b[1m     \u001b[0m│\u001b[90m Int64    \u001b[0m\u001b[90m Float64     \u001b[0m\n",
       "─────┼───────────────────────\n",
       "   1 │     3366     1.09552\n",
       "   2 │     3984    -0.713802\n",
       "   3 │     4305     1.0038\n",
       "   4 │     5659     0.597365\n",
       "   5 │     5797     0.468223\n",
       "   6 │     6520    -0.664541\n",
       "   7 │     6737    -1.10155\n",
       "   8 │     6812     1.37966\n",
       "\n",
       "Trait 1: IHT estimated 1 non-genetic predictors\n",
       "\u001b[1m1×2 DataFrame\u001b[0m\n",
       "\u001b[1m Row \u001b[0m│\u001b[1m Position \u001b[0m\u001b[1m Estimated_β \u001b[0m\n",
       "\u001b[1m     \u001b[0m│\u001b[90m Int64    \u001b[0m\u001b[90m Float64     \u001b[0m\n",
       "─────┼───────────────────────\n",
       "   1 │        1     -1.64331\n",
       "\n",
       "Trait 2: IHT estimated 12 nonzero SNP predictors\n",
       "\u001b[1m12×2 DataFrame\u001b[0m\n",
       "\u001b[1m Row \u001b[0m│\u001b[1m Position \u001b[0m\u001b[1m Estimated_β \u001b[0m\n",
       "\u001b[1m     \u001b[0m│\u001b[90m Int64    \u001b[0m\u001b[90m Float64     \u001b[0m\n",
       "─────┼───────────────────────\n",
       "   1 │      181    0.0555554\n",
       "   2 │     2127   -0.383709\n",
       "   3 │     2735    1.58347\n",
       "   4 │     3093    0.0157025\n",
       "   5 │     3322    0.783666\n",
       "   6 │     4875   -0.185421\n",
       "   7 │     5797    0.83503\n",
       "   8 │     6403   -0.263408\n",
       "   9 │     6812   -0.573684\n",
       "  10 │     7314   -0.952824\n",
       "  11 │     8049    0.239476\n",
       "  12 │     8690   -1.4701\n",
       "\n",
       "Trait 2: IHT estimated 1 non-genetic predictors\n",
       "\u001b[1m1×2 DataFrame\u001b[0m\n",
       "\u001b[1m Row \u001b[0m│\u001b[1m Position \u001b[0m\u001b[1m Estimated_β \u001b[0m\n",
       "\u001b[1m     \u001b[0m│\u001b[90m Int64    \u001b[0m\u001b[90m Float64     \u001b[0m\n",
       "─────┼───────────────────────\n",
       "   1 │        1      7.26209\n"
      ]
     },
     "execution_count": 2,
     "metadata": {},
     "output_type": "execute_result"
    },
    {
     "name": "stdout",
     "output_type": "stream",
     "text": [
      "\n"
     ]
    }
   ],
   "source": [
    "n = 1000  # number of samples\n",
    "p = 10000 # number of SNPs\n",
    "k = 20    # number of causal SNPs\n",
    "r = 2     # number of traits\n",
    "\n",
    "# set random seed for reproducibility\n",
    "Random.seed!(2021)\n",
    "\n",
    "# simulate `.bed` file with no missing data\n",
    "x = simulate_random_snparray(\"multivariate_$(r)traits.bed\", n, p)\n",
    "xla = SnpLinAlg{Float64}(x, model=ADDITIVE_MODEL, center=true, scale=true) \n",
    "\n",
    "# intercept is the only nongenetic covariate\n",
    "z = ones(n, 1)\n",
    "intercepts = 10.0 .* randn(r)' # each trait have different intercept\n",
    "\n",
    "# simulate response y, true model b, and the correct non-0 positions of b\n",
    "Y, true_Σ, true_b, correct_position = simulate_random_response(xla, k, r, Zu=z*intercepts, overlap=2);\n",
    "\n",
    "Yt = Matrix(Y')\n",
    "Zt = Matrix(z')\n",
    "ktrue = k + count(!iszero, intercepts)\n",
    "@time result = fit_iht(Yt, Transpose(xla), Zt, k=ktrue, verbose=true)"
   ]
  },
  {
   "cell_type": "code",
   "execution_count": 14,
   "metadata": {
    "collapsed": false
   },
   "outputs": [
    {
     "data": {
      "text/plain": [
       "9×2 Array{Float64,2}:\n",
       "  1.2648     1.26405\n",
       "  0.0       -0.242766\n",
       " -0.38808   -0.383864\n",
       "  1.46556    1.43455\n",
       " -1.23615   -1.20245\n",
       "  0.807066   0.812423\n",
       "  0.912405   1.00062\n",
       "  0.0        0.0161438\n",
       " -0.427428  -0.430491"
      ]
     },
     "execution_count": 14,
     "metadata": {},
     "output_type": "execute_result"
    }
   ],
   "source": [
    "# first beta\n",
    "β1 = result.beta[1, :]\n",
    "true_b1_idx = findall(!iszero, true_b[:, 1])\n",
    "[β1[true_b1_idx] true_b[true_b1_idx, 1]]"
   ]
  },
  {
   "cell_type": "code",
   "execution_count": 15,
   "metadata": {
    "collapsed": false
   },
   "outputs": [
    {
     "data": {
      "text/plain": [
       "5×2 Array{Float64,2}:\n",
       "  0.155464   0.175595\n",
       "  1.34795    1.32919\n",
       "  0.757547   0.782584\n",
       " -0.587143  -0.589568\n",
       "  1.10204    1.11302"
      ]
     },
     "execution_count": 15,
     "metadata": {},
     "output_type": "execute_result"
    }
   ],
   "source": [
    "# second beta\n",
    "β2 = result.beta[2, :]\n",
    "true_b2_idx = findall(!iszero, true_b[:, 2])\n",
    "[β2[true_b2_idx] true_b[true_b2_idx, 2]]"
   ]
  },
  {
   "cell_type": "code",
   "execution_count": 16,
   "metadata": {
    "collapsed": false
   },
   "outputs": [
    {
     "data": {
      "text/plain": [
       "3×2 Array{Float64,2}:\n",
       "  -1.59674   -1.72668\n",
       "   7.32093    7.29135\n",
       " -14.7358   -14.7163"
      ]
     },
     "execution_count": 16,
     "metadata": {},
     "output_type": "execute_result"
    }
   ],
   "source": [
    "# non genetic covariates\n",
    "[result.c intercepts']"
   ]
  },
  {
   "cell_type": "code",
   "execution_count": 17,
   "metadata": {
    "collapsed": false
   },
   "outputs": [
    {
     "data": {
      "text/plain": [
       "9×2 Array{Float64,2}:\n",
       "  3.74027    3.7454\n",
       "  1.62358    1.71784\n",
       " -0.24873   -0.155766\n",
       "  1.62358    1.71784\n",
       "  1.37973    1.4858\n",
       "  0.341888   0.351224\n",
       " -0.24873   -0.155766\n",
       "  0.341888   0.351224\n",
       "  1.64861    1.66869"
      ]
     },
     "execution_count": 17,
     "metadata": {},
     "output_type": "execute_result"
    }
   ],
   "source": [
    "# covariance matrix\n",
    "[vec(result.Σ) vec(true_Σ)]"
   ]
  },
  {
   "cell_type": "code",
   "execution_count": 18,
   "metadata": {
    "collapsed": false
   },
   "outputs": [
    {
     "name": "stdout",
     "output_type": "stream",
     "text": [
      "\n",
      "\n",
      "Crossvalidation Results:\n",
      "\tk\tMSE\n",
      "\t1\t16636.782021662948\n",
      "\t2\t5818.478736033505\n",
      "\t3\t5225.570733911807\n",
      "\t4\t4741.314443671055\n",
      "\t5\t4207.848468223331\n",
      "\t6\t3730.291854425014\n",
      "\t7\t3462.9677557019077\n",
      "\t8\t3010.2125850792468\n",
      "\t9\t2718.468338745754\n",
      "\t10\t2563.7750806246663\n",
      "\t11\t2398.450806648945\n",
      "\t12\t2213.09149649732\n",
      "\t13\t2037.6144513166878\n",
      "\t14\t1872.941703683187\n",
      "\t15\t1769.622758797756\n",
      "\t16\t1671.17552136519\n",
      "\t17\t1599.593096010374\n",
      "\t18\t1520.9792263715744\n",
      "\t19\t1461.012783057678\n",
      "\t20\t1439.223066683125\n",
      "\t21\t1434.7206590895426\n",
      "\t22\t1416.8100927505086\n",
      "\t23\t1419.1029092141498\n",
      "\t24\t1422.5582228732198\n",
      "\t25\t1427.7095677680813\n",
      "\t26\t1411.6417893093103\n",
      "\t27\t1413.8555266931712\n",
      "\t28\t1416.4950676193944\n",
      "\t29\t1422.7935305190665\n",
      "\t30\t1425.7266786347907\n",
      "172.739326 seconds (9.03 M allocations: 985.645 MiB, 0.20% gc time)\n"
     ]
    }
   ],
   "source": [
    "Random.seed!(2020)\n",
    "Yt = Matrix(Y')\n",
    "Zt = Matrix(z')\n",
    "@time mses = cv_iht(Yt, x, Zt, max_iter=10, path=1:30);"
   ]
  },
  {
   "cell_type": "code",
   "execution_count": 19,
   "metadata": {
    "collapsed": false
   },
   "outputs": [
    {
     "data": {
      "text/plain": [
       "26"
      ]
     },
     "execution_count": 19,
     "metadata": {},
     "output_type": "execute_result"
    }
   ],
   "source": [
    "argmin(mses)"
   ]
  },
  {
   "cell_type": "code",
   "execution_count": null,
   "metadata": {
    "collapsed": true
   },
   "outputs": [],
   "source": []
  },
  {
   "cell_type": "code",
   "execution_count": null,
   "metadata": {
    "collapsed": true
   },
   "outputs": [],
   "source": []
  },
  {
   "cell_type": "markdown",
   "metadata": {},
   "source": [
    "# First simulate multivariate Gaussian traits"
   ]
  },
  {
   "cell_type": "code",
   "execution_count": 2,
   "metadata": {
    "collapsed": false
   },
   "outputs": [],
   "source": [
    "n = 1000  # number of samples\n",
    "p = 10000 # number of SNPs\n",
    "k = 10    # number of causal SNPs\n",
    "r = 2     # number of traits\n",
    "\n",
    "# set random seed for reproducibility\n",
    "Random.seed!(2021)\n",
    "\n",
    "# simulate `.bed` file with no missing data\n",
    "x = simulate_random_snparray(\"multivariate_$(r)traits.bed\", n, p)\n",
    "xla = SnpLinAlg{Float64}(x, model=ADDITIVE_MODEL, center=true, scale=true) \n",
    "\n",
    "# intercept is the only nongenetic covariate\n",
    "z = ones(n, 1)\n",
    "intercepts = [10.0 1.0] # each trait have different intercept\n",
    "\n",
    "# simulate response y, true model b, and the correct non-0 positions of b\n",
    "Y, true_Σ, true_b, correct_position = simulate_random_response(xla, k, r, Zu=z*intercepts, overlap=2);"
   ]
  },
  {
   "cell_type": "code",
   "execution_count": 5,
   "metadata": {
    "collapsed": false
   },
   "outputs": [],
   "source": [
    "# save true SNP's position and effect size\n",
    "open(\"multivariate_$(r)traits_true_beta.txt\", \"w\") do io\n",
    "    println(io, \"snpID,effectsize\")\n",
    "    for pos in correct_position\n",
    "        println(io, \"snp$pos,\", true_b[pos])\n",
    "    end\n",
    "end\n",
    "\n",
    "# create `.bim` and `.bam` files using phenotype\n",
    "make_bim_fam_files(x, Y, \"multivariate_$(r)traits\")\n",
    "\n",
    "# save phenotypes in separate file\n",
    "open(\"multivariate_$(r)traits.phen\", \"w\") do io\n",
    "    println(io, \"FID\\tIID\\tT1\\tT2\")\n",
    "    for i in 1:n\n",
    "        println(io, \"$i\\t1\\t\", Y[i, 1], \"\\t\", Y[i, 2])\n",
    "    end\n",
    "end"
   ]
  },
  {
   "cell_type": "markdown",
   "metadata": {},
   "source": [
    "# Run IHT"
   ]
  },
  {
   "cell_type": "code",
   "execution_count": 7,
   "metadata": {
    "collapsed": false,
    "scrolled": false
   },
   "outputs": [
    {
     "name": "stdout",
     "output_type": "stream",
     "text": [
      "****                   MendelIHT Version 1.3.3                  ****\n",
      "****     Benjamin Chu, Kevin Keys, Chris German, Hua Zhou       ****\n",
      "****   Jin Zhou, Eric Sobel, Janet Sinsheimer, Kenneth Lange    ****\n",
      "****                                                            ****\n",
      "****                 Please cite our paper!                     ****\n",
      "****         https://doi.org/10.1093/gigascience/giaa044        ****\n",
      "\n",
      "Running sparse Multivariate Gaussian regression\n",
      "Link functin = IdentityLink()\n",
      "Sparsity parameter (k) = 11\n",
      "Prior weight scaling = off\n",
      "Doubly sparse projection = off\n",
      "Debias = off\n",
      "Max IHT iterations = 100\n",
      "Converging when tol < 0.0001:\n",
      "\n",
      "Iteration 1: loglikelihood = 215.4892687838203, backtracks = 0, tol = 0.1258803451727764\n",
      "Iteration 2: loglikelihood = 1400.4415131326584, backtracks = 0, tol = 0.027353391443577676\n",
      "Iteration 3: loglikelihood = 1485.32487407949, backtracks = 0, tol = 0.007379616806130262\n",
      "Iteration 4: loglikelihood = 1498.0290279587853, backtracks = 0, tol = 0.011942196241512437\n",
      "Iteration 5: loglikelihood = 1512.156412313122, backtracks = 0, tol = 0.004622583175071315\n",
      "Iteration 6: loglikelihood = 1514.6090313465313, backtracks = 0, tol = 0.001382288533402642\n",
      "Iteration 7: loglikelihood = 1514.802348710996, backtracks = 0, tol = 0.00034861336676207487\n",
      "Iteration 8: loglikelihood = 1514.8118712268208, backtracks = 0, tol = 0.00027914155297742264\n",
      "Iteration 9: loglikelihood = 1514.8150569026072, backtracks = 0, tol = 0.00021256362692701264\n",
      "Iteration 10: loglikelihood = 1514.8168077342787, backtracks = 0, tol = 0.00016158589471162017\n",
      "Iteration 11: loglikelihood = 1514.817813149259, backtracks = 0, tol = 0.0001236724224587062\n",
      "Iteration 12: loglikelihood = 1514.818382728515, backtracks = 0, tol = 9.403063423559545e-5\n",
      "  1.290392 seconds (2.65 k allocations: 2.989 MiB)\n"
     ]
    },
    {
     "data": {
      "text/plain": [
       "\n",
       "Compute time (sec):     1.2903869152069092\n",
       "Final loglikelihood:    1514.818382728515\n",
       "Iterations:             12\n",
       "Trait 1's SNP PVE:      0.5517175992313121\n",
       "Trait 2's SNP PVE:      0.6190809967368884\n",
       "\n",
       "Trait 1: IHT estimated 3 nonzero SNP predictors\n",
       "\u001b[1m3×2 DataFrame\u001b[0m\n",
       "\u001b[1m Row \u001b[0m│\u001b[1m Position \u001b[0m\u001b[1m Estimated_β \u001b[0m\n",
       "\u001b[1m     \u001b[0m│\u001b[90m Int64    \u001b[0m\u001b[90m Float64     \u001b[0m\n",
       "─────┼───────────────────────\n",
       "   1 │     5651    -0.200754\n",
       "   2 │     5797    -1.09966\n",
       "   3 │     8087     1.27901\n",
       "\n",
       "Trait 1: IHT estimated 1 non-genetic predictors\n",
       "\u001b[1m1×2 DataFrame\u001b[0m\n",
       "\u001b[1m Row \u001b[0m│\u001b[1m Position \u001b[0m\u001b[1m Estimated_β \u001b[0m\n",
       "\u001b[1m     \u001b[0m│\u001b[90m Int64    \u001b[0m\u001b[90m Float64     \u001b[0m\n",
       "─────┼───────────────────────\n",
       "   1 │        1       10.027\n",
       "\n",
       "Trait 2: IHT estimated 6 nonzero SNP predictors\n",
       "\u001b[1m6×2 DataFrame\u001b[0m\n",
       "\u001b[1m Row \u001b[0m│\u001b[1m Position \u001b[0m\u001b[1m Estimated_β \u001b[0m\n",
       "\u001b[1m     \u001b[0m│\u001b[90m Int64    \u001b[0m\u001b[90m Float64     \u001b[0m\n",
       "─────┼───────────────────────\n",
       "   1 │      326     0.331488\n",
       "   2 │     2110     0.574476\n",
       "   3 │     5375     1.19453\n",
       "   4 │     5797     0.501675\n",
       "   5 │     6015     0.81899\n",
       "   6 │     6813     1.36762\n",
       "\n",
       "Trait 2: IHT estimated 1 non-genetic predictors\n",
       "\u001b[1m1×2 DataFrame\u001b[0m\n",
       "\u001b[1m Row \u001b[0m│\u001b[1m Position \u001b[0m\u001b[1m Estimated_β \u001b[0m\n",
       "\u001b[1m     \u001b[0m│\u001b[90m Int64    \u001b[0m\u001b[90m Float64     \u001b[0m\n",
       "─────┼───────────────────────\n",
       "   1 │        1      1.03625\n"
      ]
     },
     "execution_count": 7,
     "metadata": {},
     "output_type": "execute_result"
    },
    {
     "name": "stdout",
     "output_type": "stream",
     "text": [
      "\n"
     ]
    }
   ],
   "source": [
    "Yt = Matrix(Y')\n",
    "Zt = Matrix(z')\n",
    "ktrue = k + count(!iszero, intercepts)\n",
    "@time result = fit_iht(Yt, Transpose(xla), Zt, k=11, verbose=true)"
   ]
  },
  {
   "cell_type": "markdown",
   "metadata": {},
   "source": [
    "## Check answer"
   ]
  },
  {
   "cell_type": "code",
   "execution_count": 8,
   "metadata": {
    "collapsed": false
   },
   "outputs": [
    {
     "data": {
      "text/plain": [
       "4×2 Array{Float64,2}:\n",
       " -0.200754  -0.224675\n",
       " -1.09966   -1.14044\n",
       "  0.0       -0.14698\n",
       "  1.27901    1.25668"
      ]
     },
     "execution_count": 8,
     "metadata": {},
     "output_type": "execute_result"
    }
   ],
   "source": [
    "# first beta\n",
    "β1 = result.beta[1, :]\n",
    "true_b1_idx = findall(!iszero, true_b[:, 1])\n",
    "[β1[true_b1_idx] true_b[true_b1_idx, 1]]"
   ]
  },
  {
   "cell_type": "code",
   "execution_count": 9,
   "metadata": {
    "collapsed": false
   },
   "outputs": [
    {
     "data": {
      "text/plain": [
       "6×2 Array{Float64,2}:\n",
       " 0.331488  0.315219\n",
       " 0.574476  0.609812\n",
       " 1.19453   1.20121\n",
       " 0.501675  0.531549\n",
       " 0.81899   0.808327\n",
       " 1.36762   1.43455"
      ]
     },
     "execution_count": 9,
     "metadata": {},
     "output_type": "execute_result"
    }
   ],
   "source": [
    "# second beta\n",
    "β2 = result.beta[2, :]\n",
    "true_b2_idx = findall(!iszero, true_b[:, 2])\n",
    "[β2[true_b2_idx] true_b[true_b2_idx, 2]]"
   ]
  },
  {
   "cell_type": "code",
   "execution_count": 10,
   "metadata": {
    "collapsed": false
   },
   "outputs": [
    {
     "data": {
      "text/plain": [
       "2×2 Array{Float64,2}:\n",
       " 10.027    10.0\n",
       "  1.03625   1.0"
      ]
     },
     "execution_count": 10,
     "metadata": {},
     "output_type": "execute_result"
    }
   ],
   "source": [
    "# non genetic covariates\n",
    "[result.c intercepts']"
   ]
  },
  {
   "cell_type": "code",
   "execution_count": 11,
   "metadata": {
    "collapsed": false
   },
   "outputs": [
    {
     "data": {
      "text/plain": [
       "4×2 Array{Float64,2}:\n",
       "  2.48446   2.53934\n",
       " -1.83826  -1.85399\n",
       " -1.83826  -1.85399\n",
       "  2.42229   2.41416"
      ]
     },
     "execution_count": 11,
     "metadata": {},
     "output_type": "execute_result"
    }
   ],
   "source": [
    "# covariance matrix\n",
    "[vec(result.Σ) vec(true_Σ)]"
   ]
  },
  {
   "cell_type": "code",
   "execution_count": 12,
   "metadata": {
    "collapsed": false
   },
   "outputs": [
    {
     "data": {
      "text/plain": [
       "8-element Array{Int64,1}:\n",
       " 5651\n",
       " 5797\n",
       " 6813\n",
       " 8087\n",
       "  326\n",
       " 2110\n",
       " 5375\n",
       " 6015"
      ]
     },
     "execution_count": 12,
     "metadata": {},
     "output_type": "execute_result"
    }
   ],
   "source": [
    "# number of causal SNPs recovered\n",
    "correct_snps = [x[1] for x in correct_position]  # truely causal snps\n",
    "signif_snps = true_b1_idx ∪ true_b2_idx          # IHT's selected snps\n",
    "signif_snps ∩ correct_snps"
   ]
  },
  {
   "cell_type": "markdown",
   "metadata": {},
   "source": [
    "# Test Cross validation"
   ]
  },
  {
   "cell_type": "code",
   "execution_count": 14,
   "metadata": {
    "collapsed": false
   },
   "outputs": [
    {
     "name": "stdout",
     "output_type": "stream",
     "text": [
      "\n",
      "\n",
      "Crossvalidation Results:\n",
      "\tk\tMSE\n",
      "\t1\t2888.7160633632484\n",
      "\t2\t2563.132216599166\n",
      "\t3\t2082.0790076046433\n",
      "\t4\t1823.5135405560698\n",
      "\t5\t1569.64212209597\n",
      "\t6\t1290.814635090646\n",
      "\t7\t1168.4492977476905\n",
      "\t8\t1112.8787725968111\n",
      "\t9\t1030.5676713161718\n",
      "\t10\t1033.800473194978\n",
      "\t11\t1011.5326080855069\n",
      "\t12\t1017.9517382638644\n",
      "\t13\t1025.2244799284636\n",
      "\t14\t1025.3849393164196\n",
      "\t15\t1046.6759600584428\n",
      "\t16\t1050.002316385212\n",
      "\t17\t1033.9998469176733\n",
      "\t18\t1032.590946556068\n",
      "\t19\t1045.3508109946156\n",
      "\t20\t1043.4650000999131\n",
      "178.475397 seconds (10.48 M allocations: 917.849 MiB, 0.14% gc time)\n"
     ]
    }
   ],
   "source": [
    "Random.seed!(2020)\n",
    "Yt = Matrix(Y')\n",
    "Zt = Matrix(z')\n",
    "@time mses = cv_iht(Yt, x, Zt);"
   ]
  },
  {
   "cell_type": "code",
   "execution_count": 15,
   "metadata": {
    "collapsed": false
   },
   "outputs": [
    {
     "data": {
      "text/plain": [
       "11"
      ]
     },
     "execution_count": 15,
     "metadata": {},
     "output_type": "execute_result"
    }
   ],
   "source": [
    "argmin(mses)"
   ]
  },
  {
   "cell_type": "markdown",
   "metadata": {},
   "source": [
    "**Conclusion:** After cross validation, IHT finds 10/12 predictors and 8/10 causal SNPs. "
   ]
  },
  {
   "cell_type": "markdown",
   "metadata": {},
   "source": [
    "# GEMMA multivariate results"
   ]
  },
  {
   "cell_type": "code",
   "execution_count": 9,
   "metadata": {
    "collapsed": true
   },
   "outputs": [],
   "source": [
    "gemma_df = CSV.read(\"gemma.result.assoc.txt\", DataFrame)\n",
    "\n",
    "# pvalues\n",
    "pval_wald = gemma_df[!, :p_wald]\n",
    "pval_lrt = gemma_df[!, :p_lrt]\n",
    "pval_score = gemma_df[!, :p_score]\n",
    "\n",
    "# estimated beta\n",
    "estim_β1 = gemma_df[!, :beta_1]\n",
    "estim_β2 = gemma_df[!, :beta_2]\n",
    "\n",
    "# estimated covariance matrix\n",
    "estim_σ11 = gemma_df[!, :Vbeta_1_1]\n",
    "estim_σ12 = gemma_df[!, :Vbeta_1_2]\n",
    "estim_σ22 = gemma_df[!, :Vbeta_2_2];"
   ]
  },
  {
   "cell_type": "code",
   "execution_count": 10,
   "metadata": {
    "collapsed": false
   },
   "outputs": [
    {
     "data": {
      "text/plain": [
       "6-element Array{Int64,1}:\n",
       " 2110\n",
       " 5375\n",
       " 5797\n",
       " 6015\n",
       " 6813\n",
       " 8087"
      ]
     },
     "execution_count": 10,
     "metadata": {},
     "output_type": "execute_result"
    }
   ],
   "source": [
    "correct_snps = [x[1] for x in correct_position]  # truely causal snps\n",
    "signif_snps = findall(x -> x ≤ 0.05/p, pval_lrt) # gemma's selected snps\n",
    "signif_snps ∩ correct_snps"
   ]
  },
  {
   "cell_type": "markdown",
   "metadata": {},
   "source": [
    "**Conclusion:** GEMMA finds 6/10 causal SNPs"
   ]
  },
  {
   "cell_type": "markdown",
   "metadata": {},
   "source": [
    "# MV-PLINK"
   ]
  },
  {
   "cell_type": "code",
   "execution_count": 25,
   "metadata": {
    "collapsed": false
   },
   "outputs": [
    {
     "data": {
      "text/plain": [
       "6-element Array{Int64,1}:\n",
       " 2110\n",
       " 5375\n",
       " 5797\n",
       " 6015\n",
       " 6813\n",
       " 8087"
      ]
     },
     "execution_count": 25,
     "metadata": {},
     "output_type": "execute_result"
    }
   ],
   "source": [
    "mvplink_df = CSV.read(\"plink.mqfam.total\", DataFrame, delim=' ', ignorerepeated=true)\n",
    "\n",
    "# pvalues\n",
    "pval = mvplink_df[!, :P]\n",
    "\n",
    "# SNPs passing threshold\n",
    "signif_snps = findall(x -> x ≤ 0.05 / p, pval)\n",
    "signif_snps ∩ correct_snps"
   ]
  },
  {
   "cell_type": "markdown",
   "metadata": {},
   "source": [
    "**Conclusion:** MV-PLINK finds 6/10 causal SNPs"
   ]
  },
  {
   "cell_type": "markdown",
   "metadata": {
    "collapsed": true
   },
   "source": [
    "# Compare with univariate IHT\n",
    "\n",
    "+ `fit_iht`: ~20 times slower\n",
    "+ `cv_iht`: ~70 times slower"
   ]
  },
  {
   "cell_type": "code",
   "execution_count": 49,
   "metadata": {
    "collapsed": false
   },
   "outputs": [],
   "source": [
    "n = 1000  # number of samples\n",
    "p = 10000 # number of SNPs\n",
    "k = 10    # number of causal SNPs per trait\n",
    "d = Normal\n",
    "l = canonicallink(d())\n",
    "\n",
    "# set random seed for reproducibility\n",
    "Random.seed!(2021)\n",
    "\n",
    "# simulate `.bed` file with no missing data\n",
    "x = simulate_random_snparray(undef, n, p)\n",
    "xla = SnpLinAlg{Float64}(x, model=ADDITIVE_MODEL, center=true, scale=true) \n",
    "\n",
    "# intercept is the only nongenetic covariate\n",
    "z = ones(n)\n",
    "intercept = 1.0\n",
    "\n",
    "# simulate response y, true model b, and the correct non-0 positions of b\n",
    "Y, true_b, correct_position = simulate_random_response(xla, k, d, l, Zu=z*intercept);"
   ]
  },
  {
   "cell_type": "code",
   "execution_count": 50,
   "metadata": {
    "collapsed": false
   },
   "outputs": [
    {
     "name": "stdout",
     "output_type": "stream",
     "text": [
      "****                   MendelIHT Version 1.4.0                  ****\n",
      "****     Benjamin Chu, Kevin Keys, Chris German, Hua Zhou       ****\n",
      "****   Jin Zhou, Eric Sobel, Janet Sinsheimer, Kenneth Lange    ****\n",
      "****                                                            ****\n",
      "****                 Please cite our paper!                     ****\n",
      "****         https://doi.org/10.1093/gigascience/giaa044        ****\n",
      "\n",
      "Running sparse linear regression\n",
      "Link functin = IdentityLink()\n",
      "Sparsity parameter (k) = 11\n",
      "Prior weight scaling = off\n",
      "Doubly sparse projection = off\n",
      "Debias = off\n",
      "Debias = off\n",
      "Max IHT iterations = 100\n",
      "Converging when tol < 0.0001:\n",
      "\n",
      "Iteration 1: loglikelihood = -1577.170794759688, backtracks = 0, tol = 0.609864675283163\n",
      "Iteration 2: loglikelihood = -1484.8568136206177, backtracks = 0, tol = 0.1269955771967065\n",
      "Iteration 3: loglikelihood = -1472.9529635904933, backtracks = 0, tol = 0.05823372413927707\n",
      "Iteration 4: loglikelihood = -1472.5366421393842, backtracks = 1, tol = 0.004508958581388835\n",
      "Iteration 5: loglikelihood = -1472.428026945073, backtracks = 1, tol = 0.0023477261313534278\n",
      "Iteration 6: loglikelihood = -1472.4000760087492, backtracks = 1, tol = 0.0011869427975205343\n",
      "Iteration 7: loglikelihood = -1472.3929618828483, backtracks = 1, tol = 0.0005885469091004699\n",
      "Iteration 8: loglikelihood = -1472.391164492576, backtracks = 1, tol = 0.00030367125545254485\n",
      "Iteration 9: loglikelihood = -1472.3907123942718, backtracks = 1, tol = 0.0001547292323445728\n",
      "Iteration 10: loglikelihood = -1472.3905989669602, backtracks = 1, tol = 7.825885379714214e-5\n",
      "  0.066853 seconds (157.22 k allocations: 4.592 MiB, 15.74% gc time)\n"
     ]
    },
    {
     "data": {
      "text/plain": [
       "\n",
       "IHT estimated 10 nonzero SNP predictors and 1 non-genetic predictors.\n",
       "\n",
       "Compute time (sec):     0.06683206558227539\n",
       "Final loglikelihood:    -1472.3905989669602\n",
       "Iterations:             10\n",
       "\n",
       "Selected genetic predictors:\n",
       "\u001b[1m10×2 DataFrame\u001b[0m\n",
       "\u001b[1m Row \u001b[0m│\u001b[1m Position \u001b[0m\u001b[1m Estimated_β \u001b[0m\n",
       "\u001b[1m     \u001b[0m│\u001b[90m Int64    \u001b[0m\u001b[90m Float64     \u001b[0m\n",
       "─────┼───────────────────────\n",
       "   1 │      782    -0.437828\n",
       "   2 │      901     0.747956\n",
       "   3 │     1204     0.691327\n",
       "   4 │     1306    -1.42505\n",
       "   5 │     1655    -0.19456\n",
       "   6 │     3160    -0.861591\n",
       "   7 │     3936    -0.147235\n",
       "   8 │     4201     0.338606\n",
       "   9 │     4402    -0.126472\n",
       "  10 │     6879    -1.21895\n",
       "\n",
       "Selected nongenetic predictors:\n",
       "\u001b[1m1×2 DataFrame\u001b[0m\n",
       "\u001b[1m Row \u001b[0m│\u001b[1m Position \u001b[0m\u001b[1m Estimated_β \u001b[0m\n",
       "\u001b[1m     \u001b[0m│\u001b[90m Int64    \u001b[0m\u001b[90m Float64     \u001b[0m\n",
       "─────┼───────────────────────\n",
       "   1 │        1      1.02016"
      ]
     },
     "execution_count": 50,
     "metadata": {},
     "output_type": "execute_result"
    }
   ],
   "source": [
    "@time result = fit_iht(Y, xla, z, d=d(), l=l, k=11)"
   ]
  },
  {
   "cell_type": "code",
   "execution_count": 41,
   "metadata": {
    "collapsed": false
   },
   "outputs": [
    {
     "data": {
      "text/plain": [
       "10×2 Array{Float64,2}:\n",
       " -0.437828  -0.402269\n",
       "  0.747956   0.758756\n",
       "  0.691327   0.729135\n",
       " -1.42505   -1.47163\n",
       " -0.19456   -0.172668\n",
       " -0.861591  -0.847906\n",
       "  0.338606   0.296183\n",
       "  0.0       -0.0034339\n",
       "  0.0        0.125965\n",
       " -1.21895   -1.24972"
      ]
     },
     "execution_count": 41,
     "metadata": {},
     "output_type": "execute_result"
    }
   ],
   "source": [
    "# compare estimated vs true beta values\n",
    "[result.beta[correct_position] true_b[correct_position]]"
   ]
  },
  {
   "cell_type": "markdown",
   "metadata": {},
   "source": [
    "### Cross validation timing"
   ]
  },
  {
   "cell_type": "code",
   "execution_count": 92,
   "metadata": {
    "collapsed": false
   },
   "outputs": [
    {
     "name": "stdout",
     "output_type": "stream",
     "text": [
      "\n",
      "\n",
      "Crossvalidation Results:\n",
      "\tk\tMSE\n",
      "\t1\t1221.686764265696\n",
      "\t2\t864.1553085156108\n",
      "\t3\t661.6430376327284\n",
      "\t4\t516.2679723147669\n",
      "\t5\t418.2721191658746\n",
      "\t6\t342.7931325462592\n",
      "\t7\t303.15938053956916\n",
      "\t8\t276.6241892508097\n",
      "\t9\t278.29180795455045\n",
      "\t10\t280.31878745464377\n",
      "\t11\t282.10757732881564\n",
      "\t12\t285.1294156734012\n",
      "\t13\t293.16875008847467\n",
      "\t14\t297.43739905389987\n",
      "\t15\t296.17300065041906\n",
      "\t16\t307.7814278347698\n",
      "\t17\t302.0113818893564\n",
      "\t18\t312.70262374274137\n",
      "\t19\t309.87367962700966\n",
      "\t20\t315.6750311115386\n",
      "  4.315330 seconds (9.35 M allocations: 332.277 MiB, 1.12% gc time)\n"
     ]
    }
   ],
   "source": [
    "# 1 cores\n",
    "Random.seed!(2020)\n",
    "@time cv_iht(Y, x, z);"
   ]
  },
  {
   "cell_type": "code",
   "execution_count": null,
   "metadata": {
    "collapsed": true
   },
   "outputs": [],
   "source": []
  }
 ],
 "metadata": {
  "@webio": {
   "lastCommId": null,
   "lastKernelId": null
  },
  "kernelspec": {
   "display_name": "Julia 1.5.0",
   "language": "julia",
   "name": "julia-1.5"
  },
  "language_info": {
   "file_extension": ".jl",
   "mimetype": "application/julia",
   "name": "julia",
   "version": "1.5.0"
  }
 },
 "nbformat": 4,
 "nbformat_minor": 2
}
