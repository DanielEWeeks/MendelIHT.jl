{
 "cells": [
  {
   "cell_type": "code",
   "execution_count": 40,
   "metadata": {
    "collapsed": false
   },
   "outputs": [
    {
     "name": "stderr",
     "output_type": "stream",
     "text": [
      "┌ Info: Precompiling MendelIHT [921c7187-1484-5754-b919-5d3ed9ac03c4]\n",
      "└ @ Base loading.jl:1278\n",
      "WARNING: using MendelIHT.iht in module Main conflicts with an existing identifier.\n"
     ]
    }
   ],
   "source": [
    "using Distributed\n",
    "# addprocs(4)\n",
    "\n",
    "@everywhere begin\n",
    "    using Revise\n",
    "    using MendelIHT\n",
    "    using SnpArrays\n",
    "    using Random\n",
    "    using GLM\n",
    "    using DelimitedFiles\n",
    "    using Test\n",
    "    using Distributions\n",
    "    using LinearAlgebra\n",
    "    using CSV\n",
    "    using DataFrames\n",
    "    using StatsBase\n",
    "#     using TraitSimulation, OrdinalMultinomialModels, VarianceComponentModels\n",
    "end"
   ]
  },
  {
   "cell_type": "markdown",
   "metadata": {},
   "source": [
    "# Simple multivariate Gaussian traits\n",
    "\n",
    "With $r$ traits, each sample's phenotype $\\mathbf{y}_{i} \\in \\mathbb{R}^{n \\times 1}$ is simulated under\n",
    "\n",
    "$$\\mathbf{y}_{i}^{r \\times 1} \\sim N(\\mathbf{B}^{r \\times p}\\mathbf{x}_{i}^{p \\times 1}, \\ \\ \\Sigma_{r \\times r})$$\n",
    "\n",
    "This model assumes each sample is independent."
   ]
  },
  {
   "cell_type": "code",
   "execution_count": 60,
   "metadata": {
    "collapsed": false
   },
   "outputs": [],
   "source": [
    "n = 1000  # number of samples\n",
    "p = 10000 # number of SNPs\n",
    "k = 10    # number of causal SNPs\n",
    "r = 2     # number of traits\n",
    "\n",
    "# set random seed for reproducibility\n",
    "Random.seed!(2021)\n",
    "\n",
    "# simulate `.bed` file with no missing data\n",
    "x = simulate_random_snparray(\"multivariate_$(r)traits.bed\", n, p)\n",
    "xla = SnpLinAlg{Float64}(x, model=ADDITIVE_MODEL, center=true, scale=true) \n",
    "\n",
    "# intercept is the only nongenetic covariate\n",
    "z = ones(n, 1)\n",
    "intercepts = [10.0 1.0] # each trait have different intercept\n",
    "\n",
    "# simulate response y, true model b, and the correct non-0 positions of b\n",
    "Y, true_Σ, true_b, correct_position = simulate_random_response(xla, k, r, Zu=z*intercepts, overlap=2);"
   ]
  },
  {
   "cell_type": "code",
   "execution_count": 3,
   "metadata": {
    "collapsed": false
   },
   "outputs": [],
   "source": [
    "# save true SNP's position and effect size\n",
    "open(\"multivariate_$(r)traits_true_beta.txt\", \"w\") do io\n",
    "    println(io, \"snpID,effectsize\")\n",
    "    for pos in correct_position\n",
    "        println(io, \"snp$pos,\", true_b[pos])\n",
    "    end\n",
    "end\n",
    "\n",
    "# create `.bim` and `.bam` files using phenotype\n",
    "make_bim_fam_files(x, Y, \"multivariate_$(r)traits\")\n",
    "\n",
    "# save phenotypes in separate file\n",
    "open(\"multivariate_$(r)traits.phen\", \"w\") do io\n",
    "    println(io, \"FID\\tIID\\tT1\\tT2\")\n",
    "    for i in 1:n\n",
    "        println(io, \"$i\\t1\\t\", Y[i, 1], \"\\t\", Y[i, 2])\n",
    "    end\n",
    "end"
   ]
  },
  {
   "cell_type": "markdown",
   "metadata": {},
   "source": [
    "## Run IHT"
   ]
  },
  {
   "cell_type": "code",
   "execution_count": 61,
   "metadata": {
    "collapsed": false,
    "scrolled": false
   },
   "outputs": [
    {
     "name": "stdout",
     "output_type": "stream",
     "text": [
      "****                   MendelIHT Version 1.3.3                  ****\n",
      "****     Benjamin Chu, Kevin Keys, Chris German, Hua Zhou       ****\n",
      "****   Jin Zhou, Eric Sobel, Janet Sinsheimer, Kenneth Lange    ****\n",
      "****                                                            ****\n",
      "****                 Please cite our paper!                     ****\n",
      "****         https://doi.org/10.1093/gigascience/giaa044        ****\n",
      "\n",
      "Running sparse Multivariate Gaussian regression\n",
      "Link functin = IdentityLink()\n",
      "Sparsity parameter (k) = 12\n",
      "Prior weight scaling = off\n",
      "Doubly sparse projection = off\n",
      "Debias = off\n",
      "Max IHT iterations = 200\n",
      "Converging when tol < 0.0001:\n",
      "\n",
      "Iteration 1: loglikelihood = 215.4892687838203, backtracks = 0, tol = 0.1243455904380314\n",
      "Iteration 2: loglikelihood = 1382.37242885485, backtracks = 0, tol = 0.027019894208789006\n",
      "Iteration 3: loglikelihood = 1477.7383135165255, backtracks = 0, tol = 0.014225517157910452\n",
      "Iteration 4: loglikelihood = 1511.714843337414, backtracks = 0, tol = 0.004456457458306909\n",
      "Iteration 5: loglikelihood = 1517.374943234058, backtracks = 0, tol = 0.009361327995786433\n",
      "Iteration 6: loglikelihood = 1521.0563367531254, backtracks = 0, tol = 0.0020881621966380654\n",
      "Iteration 7: loglikelihood = 1521.5612806745546, backtracks = 0, tol = 0.0007739228421755521\n",
      "Iteration 8: loglikelihood = 1521.5856742000437, backtracks = 0, tol = 0.0005835724366912655\n",
      "Iteration 9: loglikelihood = 1521.5944217241986, backtracks = 0, tol = 0.0004441229847926908\n",
      "Iteration 10: loglikelihood = 1521.5999462310328, backtracks = 0, tol = 0.0003414681601819523\n",
      "Iteration 11: loglikelihood = 1521.6029227415816, backtracks = 0, tol = 0.00026020796911232585\n",
      "Iteration 12: loglikelihood = 1521.6047505987615, backtracks = 0, tol = 0.00020057542129071708\n",
      "Iteration 13: loglikelihood = 1521.6057725125233, backtracks = 0, tol = 0.00015303062268605698\n",
      "Iteration 14: loglikelihood = 1521.6063899688509, backtracks = 0, tol = 0.000118094208906598\n",
      "Iteration 15: loglikelihood = 1521.6067421001371, backtracks = 0, tol = 9.014512191781365e-5\n",
      "  1.587838 seconds (3.11 k allocations: 3.503 MiB)\n"
     ]
    },
    {
     "data": {
      "text/plain": [
       "\n",
       "Compute time (sec):     1.4830679893493652\n",
       "Final loglikelihood:    1521.6067421001371\n",
       "Iterations:             15\n",
       "Trait 1's SNP PVE:      0.554527358091918\n",
       "Trait 2's SNP PVE:      0.6195879626449299\n",
       "\n",
       "Trait 1: IHT estimated 4 nonzero SNP predictors\n",
       "\u001b[1m4×2 DataFrame\u001b[0m\n",
       "\u001b[1m Row \u001b[0m│\u001b[1m Position \u001b[0m\u001b[1m Estimated_β \u001b[0m\n",
       "\u001b[1m     \u001b[0m│\u001b[90m Int64    \u001b[0m\u001b[90m Float64     \u001b[0m\n",
       "─────┼───────────────────────\n",
       "   1 │     1197     0.121446\n",
       "   2 │     5651    -0.200705\n",
       "   3 │     5797    -1.09767\n",
       "   4 │     8087     1.2791\n",
       "\n",
       "Trait 1: IHT estimated 1 non-genetic predictors\n",
       "\u001b[1m1×2 DataFrame\u001b[0m\n",
       "\u001b[1m Row \u001b[0m│\u001b[1m Position \u001b[0m\u001b[1m Estimated_β \u001b[0m\n",
       "\u001b[1m     \u001b[0m│\u001b[90m Int64    \u001b[0m\u001b[90m Float64     \u001b[0m\n",
       "─────┼───────────────────────\n",
       "   1 │        1       10.027\n",
       "\n",
       "Trait 2: IHT estimated 6 nonzero SNP predictors\n",
       "\u001b[1m6×2 DataFrame\u001b[0m\n",
       "\u001b[1m Row \u001b[0m│\u001b[1m Position \u001b[0m\u001b[1m Estimated_β \u001b[0m\n",
       "\u001b[1m     \u001b[0m│\u001b[90m Int64    \u001b[0m\u001b[90m Float64     \u001b[0m\n",
       "─────┼───────────────────────\n",
       "   1 │      326     0.331882\n",
       "   2 │     2110     0.575645\n",
       "   3 │     5375     1.19357\n",
       "   4 │     5797     0.502072\n",
       "   5 │     6015     0.81844\n",
       "   6 │     6813     1.36932\n",
       "\n",
       "Trait 2: IHT estimated 1 non-genetic predictors\n",
       "\u001b[1m1×2 DataFrame\u001b[0m\n",
       "\u001b[1m Row \u001b[0m│\u001b[1m Position \u001b[0m\u001b[1m Estimated_β \u001b[0m\n",
       "\u001b[1m     \u001b[0m│\u001b[90m Int64    \u001b[0m\u001b[90m Float64     \u001b[0m\n",
       "─────┼───────────────────────\n",
       "   1 │        1      1.03625\n"
      ]
     },
     "execution_count": 61,
     "metadata": {},
     "output_type": "execute_result"
    },
    {
     "name": "stdout",
     "output_type": "stream",
     "text": [
      "\n"
     ]
    }
   ],
   "source": [
    "Yt = Matrix(Y')\n",
    "Zt = Matrix(z')\n",
    "ktrue = k + count(!iszero, intercepts)\n",
    "@time result = fit_iht(Yt, Transpose(xla), Zt, k=12, verbose=true)"
   ]
  },
  {
   "cell_type": "markdown",
   "metadata": {},
   "source": [
    "## Check answer"
   ]
  },
  {
   "cell_type": "code",
   "execution_count": 62,
   "metadata": {
    "collapsed": false
   },
   "outputs": [
    {
     "data": {
      "text/plain": [
       "4×2 Array{Float64,2}:\n",
       " -0.200705  -0.224675\n",
       " -1.09767   -1.14044\n",
       "  0.0       -0.14698\n",
       "  1.2791     1.25668"
      ]
     },
     "execution_count": 62,
     "metadata": {},
     "output_type": "execute_result"
    }
   ],
   "source": [
    "# first beta\n",
    "β1 = result.beta[1, :]\n",
    "true_b1_idx = findall(!iszero, true_b[:, 1])\n",
    "[β1[true_b1_idx] true_b[true_b1_idx, 1]]"
   ]
  },
  {
   "cell_type": "code",
   "execution_count": 63,
   "metadata": {
    "collapsed": false
   },
   "outputs": [
    {
     "data": {
      "text/plain": [
       "6×2 Array{Float64,2}:\n",
       " 0.331882  0.315219\n",
       " 0.575645  0.609812\n",
       " 1.19357   1.20121\n",
       " 0.502072  0.531549\n",
       " 0.81844   0.808327\n",
       " 1.36932   1.43455"
      ]
     },
     "execution_count": 63,
     "metadata": {},
     "output_type": "execute_result"
    }
   ],
   "source": [
    "# second beta\n",
    "β2 = result.beta[2, :]\n",
    "true_b2_idx = findall(!iszero, true_b[:, 2])\n",
    "[β2[true_b2_idx] true_b[true_b2_idx, 2]]"
   ]
  },
  {
   "cell_type": "code",
   "execution_count": 64,
   "metadata": {
    "collapsed": false
   },
   "outputs": [
    {
     "data": {
      "text/plain": [
       "2×2 Array{Float64,2}:\n",
       " 10.027    10.0\n",
       "  1.03625   1.0"
      ]
     },
     "execution_count": 64,
     "metadata": {},
     "output_type": "execute_result"
    }
   ],
   "source": [
    "# non genetic covariates\n",
    "[result.c intercepts']"
   ]
  },
  {
   "cell_type": "code",
   "execution_count": 65,
   "metadata": {
    "collapsed": false
   },
   "outputs": [
    {
     "data": {
      "text/plain": [
       "4×2 Array{Float64,2}:\n",
       "  2.4681    2.53934\n",
       " -1.83681  -1.85399\n",
       " -1.83681  -1.85399\n",
       "  2.42177   2.41416"
      ]
     },
     "execution_count": 65,
     "metadata": {},
     "output_type": "execute_result"
    }
   ],
   "source": [
    "# covariance matrix\n",
    "[vec(result.Σ) vec(true_Σ)]"
   ]
  },
  {
   "cell_type": "code",
   "execution_count": 66,
   "metadata": {
    "collapsed": false
   },
   "outputs": [
    {
     "data": {
      "text/plain": [
       "8-element Array{Int64,1}:\n",
       " 5651\n",
       " 5797\n",
       " 8087\n",
       "  326\n",
       " 2110\n",
       " 5375\n",
       " 6015\n",
       " 6813"
      ]
     },
     "execution_count": 66,
     "metadata": {},
     "output_type": "execute_result"
    }
   ],
   "source": [
    "# number of causal SNPs recovered\n",
    "correct_snps = [x[1] for x in correct_position]             # truely causal snps\n",
    "signif_snps = findall(!iszero, β1) ∪ findall(!iszero, β2)   # IHT's selected snps\n",
    "signif_snps ∩ correct_snps"
   ]
  },
  {
   "cell_type": "markdown",
   "metadata": {},
   "source": [
    "## Test Cross validation"
   ]
  },
  {
   "cell_type": "code",
   "execution_count": 11,
   "metadata": {
    "collapsed": false
   },
   "outputs": [
    {
     "name": "stderr",
     "output_type": "stream",
     "text": [
      "\u001b[32mCross validating...100%|████████████████████████████████| Time: 0:01:03\u001b[39m\n"
     ]
    },
    {
     "name": "stdout",
     "output_type": "stream",
     "text": [
      "\n",
      "\n",
      "Crossvalidation Results:\n",
      "\tk\tMSE\n",
      "\t1\t2888.7160633632484\n",
      "\t2\t2560.135862053543\n",
      "\t3\t2067.943067029389\n",
      "\t4\t1812.0395079444284\n",
      "\t5\t1554.3120367449362\n",
      "\t6\t1277.3237598020087\n",
      "\t7\t1154.9320629872832\n",
      "\t8\t1098.5910963871872\n",
      "\t9\t1019.4597637296985\n",
      "\t10\t1030.1412464715597\n",
      "\t11\t1023.5545874904792\n",
      "\t12\t1007.9022110997687\n",
      "\t13\t1012.6193656356761\n",
      "\t14\t1019.1491606608182\n",
      "\t15\t1024.6877890077092\n",
      "\t16\t1022.9300595671257\n",
      "\t17\t1040.0286509856787\n",
      "\t18\t1033.345570850089\n",
      "\t19\t1039.8828186471897\n",
      "\t20\t1036.274158344765\n",
      "\n",
      "Best k = 12\n",
      "\n",
      " 63.787494 seconds (10.28 M allocations: 497.667 MiB, 0.24% gc time)\n"
     ]
    }
   ],
   "source": [
    "Random.seed!(2020)\n",
    "Yt = Matrix(Y')\n",
    "Zt = Matrix(z')\n",
    "@time mses = cv_iht(Yt, Transpose(xla), Zt);"
   ]
  },
  {
   "cell_type": "markdown",
   "metadata": {},
   "source": [
    "**Conclusion:** Using $k = 12$ (which achieves minimum MSE) IHT finds 8/10 causal SNPs + 2 intercept terms. Beta estimates and cross-trait covariances are very precise. "
   ]
  },
  {
   "cell_type": "markdown",
   "metadata": {},
   "source": [
    "# GEMMA multivariate results"
   ]
  },
  {
   "cell_type": "code",
   "execution_count": 84,
   "metadata": {
    "collapsed": false
   },
   "outputs": [
    {
     "data": {
      "text/plain": [
       "6-element Array{Int64,1}:\n",
       " 2110\n",
       " 5375\n",
       " 5797\n",
       " 6015\n",
       " 6813\n",
       " 8087"
      ]
     },
     "execution_count": 84,
     "metadata": {},
     "output_type": "execute_result"
    }
   ],
   "source": [
    "gemma_df = CSV.read(\"gemma.result.assoc.txt\", DataFrame)\n",
    "\n",
    "# pvalues\n",
    "pval_wald = gemma_df[!, :p_wald]\n",
    "pval_lrt = gemma_df[!, :p_lrt]\n",
    "pval_score = gemma_df[!, :p_score]\n",
    "\n",
    "# estimated beta\n",
    "estim_β1 = gemma_df[!, :beta_1]\n",
    "estim_β2 = gemma_df[!, :beta_2]\n",
    "\n",
    "# estimated covariance matrix\n",
    "estim_σ11 = gemma_df[!, :Vbeta_1_1]\n",
    "estim_σ12 = gemma_df[!, :Vbeta_1_2]\n",
    "estim_σ22 = gemma_df[!, :Vbeta_2_2];\n",
    "\n",
    "correct_snps = [x[1] for x in correct_position]  # truely causal snps\n",
    "signif_snps = findall(x -> x ≤ 0.05/p, pval_lrt) # gemma's selected snps\n",
    "signif_snps ∩ correct_snps"
   ]
  },
  {
   "cell_type": "markdown",
   "metadata": {},
   "source": [
    "**Conclusion:** GEMMA finds 6/10 causal SNPs"
   ]
  },
  {
   "cell_type": "markdown",
   "metadata": {},
   "source": [
    "# MV-PLINK"
   ]
  },
  {
   "cell_type": "code",
   "execution_count": 25,
   "metadata": {
    "collapsed": false
   },
   "outputs": [
    {
     "data": {
      "text/plain": [
       "6-element Array{Int64,1}:\n",
       " 2110\n",
       " 5375\n",
       " 5797\n",
       " 6015\n",
       " 6813\n",
       " 8087"
      ]
     },
     "execution_count": 25,
     "metadata": {},
     "output_type": "execute_result"
    }
   ],
   "source": [
    "mvplink_df = CSV.read(\"plink.mqfam.total\", DataFrame, delim=' ', ignorerepeated=true)\n",
    "\n",
    "# pvalues\n",
    "pval = mvplink_df[!, :P]\n",
    "\n",
    "# SNPs passing threshold\n",
    "signif_snps = findall(x -> x ≤ 0.05 / p, pval)\n",
    "signif_snps ∩ correct_snps"
   ]
  },
  {
   "cell_type": "markdown",
   "metadata": {},
   "source": [
    "**Conclusion:** MV-PLINK finds 6/10 causal SNPs"
   ]
  },
  {
   "cell_type": "markdown",
   "metadata": {},
   "source": [
    "# More complicated simulations (multivariate traits)\n",
    "\n",
    "Let us simulate:\n",
    "+ Non-independent samples\n",
    "+ Polygenic traits where every SNP contributes to the phenotype, but $k$ SNPs have large effect\n",
    "\n",
    "For $r$ traits, our model is:\n",
    "\n",
    "$$\\mathbf{Y}_{r \\times n} \\sim \\text{MatrixNormal}(\\mathbf{B}_{r \\times p}\\mathbf{X}_{p \\times n}, \\ \\ \\Sigma_{r \\times r} , \\ \\ \\sigma_g^2\\Phi_{n \\times n} + \\sigma_e^2 \\mathbf{I}_{n \\times n})$$\n",
    "\n",
    "where\n",
    "+ $\\mathbf{X}_{p \\times n}$ contains *all* predictors (genetic + non-genetic)\n",
    "+ $\\mathbf{B}_{r \\times p}$ contains (true) regression coefficients. Each row is $k$-sparse.\n",
    "+ $\\Sigma_{r \\times r}$ is the row (trait) covariance matrix\n",
    "+ $\\sigma_g^2\\Phi_{n \\times n} + \\sigma_e^2 \\mathbf{I}_{n \\times n}$ is the column (sample) covariance matrix\n",
    "+ $\\Phi$ is the GRM estimated from the genotypes\n",
    "+ $\\sigma_g^2 = 0.6$ and $\\sigma_e^2 = 0.4$ (thus heritability is 60%)"
   ]
  },
  {
   "cell_type": "code",
   "execution_count": 6,
   "metadata": {
    "collapsed": false
   },
   "outputs": [
    {
     "data": {
      "text/plain": [
       "simulate_random_beta"
      ]
     },
     "execution_count": 6,
     "metadata": {},
     "output_type": "execute_result"
    }
   ],
   "source": [
    "\n",
    "\"\"\"\n",
    "k = Number of causal SNPs\n",
    "p = Total number of SNPs\n",
    "traits = Number of traits (phenotypes)\n",
    "overlap = number of causal SNPs shared in each trait\n",
    "\"\"\"\n",
    "function simulate_random_beta(k::Int, p::Int, traits::Int; overlap::Int=0)\n",
    "    true_b = zeros(p, traits)\n",
    "    if overlap == 0\n",
    "        causal_snps = sample(1:(traits * p), k, replace=false)\n",
    "        true_b[causal_snps] = randn(k)\n",
    "    else\n",
    "        shared_snps = sample(1:p, overlap, replace=false)\n",
    "        weight_vector = aweights(1 / (traits * (p - overlap)) * ones(traits * p))\n",
    "        for i in 1:traits\n",
    "            weight_vector[i*shared_snps] .= 0.0 # avoid sampling from shared snps\n",
    "        end\n",
    "        @assert sum(weight_vector) ≈ 1.0\n",
    "        # simulate β for shared predictors\n",
    "        for i in 1:traits\n",
    "            true_b[shared_snps, i] = randn(overlap)\n",
    "        end\n",
    "        # simulate β for none shared predictors\n",
    "        nonshared_snps = sample(1:(traits * p), weight_vector, k - traits * overlap, replace=false)\n",
    "        true_b[nonshared_snps] = randn(k - traits * overlap)\n",
    "    end\n",
    "\n",
    "    return true_b\n",
    "end"
   ]
  },
  {
   "cell_type": "code",
   "execution_count": 7,
   "metadata": {
    "collapsed": false
   },
   "outputs": [
    {
     "data": {
      "text/plain": [
       "2×1000 Array{Float64,2}:\n",
       " 6.99773  6.69385  -1.65585  -3.52854   …  -3.11521   -4.13734  -2.32211\n",
       " 4.49129  5.74267   4.72216   0.575205     -0.585688  -4.44368   4.02092"
      ]
     },
     "execution_count": 7,
     "metadata": {},
     "output_type": "execute_result"
    }
   ],
   "source": [
    "n = 1000  # number of samples\n",
    "p = 10000 # number of SNPs\n",
    "k = 10    # number of causal SNPs\n",
    "r = 2     # number of traits\n",
    "\n",
    "# set random seed for reproducibility\n",
    "Random.seed!(111)\n",
    "\n",
    "# simulate `.bed` file with no missing data\n",
    "x = simulate_random_snparray(\"multivariate_$(r)traits.bed\", n, p)\n",
    "xla = SnpLinAlg{Float64}(x, model=ADDITIVE_MODEL, center=true, scale=true) \n",
    "\n",
    "# intercept is the only nongenetic covariate\n",
    "z = ones(n, 1)\n",
    "intercepts = [0.5 1.0] # each trait have different intercept\n",
    "\n",
    "# simulate β\n",
    "B = simulate_random_beta(k, p, r, overlap=2)\n",
    "\n",
    "# between trait covariance matrix\n",
    "Σ = random_covariance_matrix(r)\n",
    "\n",
    "# between sample covariance is identity + GRM (2 times because in SnpArrays grm is halved)\n",
    "Φ = 2grm(x)\n",
    "σg = 0.6\n",
    "σe = 0.4\n",
    "V = σg * Φ + σe * I\n",
    "\n",
    "# simulate y using TraitSimulations.jl\n",
    "# VCM_model = VCMTrait(z, intercepts, x, B, [Σ], [V]) #https://github.com/OpenMendel/TraitSimulation.jl/blob/6d1f09c7332471a74b4dd6c8ef2d2b95a96c585c/src/modelframework.jl#L159\n",
    "# Y = simulate(VCM_model)\n",
    "\n",
    "# simulate using naive model\n",
    "μ = z * intercepts + xla * B\n",
    "Yt = rand(MatrixNormal(μ', Σ, V))"
   ]
  },
  {
   "cell_type": "code",
   "execution_count": 42,
   "metadata": {
    "collapsed": false
   },
   "outputs": [],
   "source": [
    "# create `.bim` and `.bam` files using phenotype\n",
    "make_bim_fam_files(x, Transpose(Yt), \"multivariate_$(r)traits\")\n",
    "\n",
    "# save phenotypes in separate file\n",
    "open(\"multivariate_$(r)traits.phen\", \"w\") do io\n",
    "    println(io, \"FID\\tIID\\tT1\\tT2\")\n",
    "    for i in 1:n\n",
    "        println(io, \"$i\\t1\\t\", Yt[1, i], \"\\t\", Yt[2, i])\n",
    "    end\n",
    "end"
   ]
  },
  {
   "cell_type": "markdown",
   "metadata": {},
   "source": [
    "## Run IHT "
   ]
  },
  {
   "cell_type": "code",
   "execution_count": 74,
   "metadata": {
    "collapsed": false,
    "scrolled": false
   },
   "outputs": [
    {
     "name": "stdout",
     "output_type": "stream",
     "text": [
      "****                   MendelIHT Version 1.3.3                  ****\n",
      "****     Benjamin Chu, Kevin Keys, Chris German, Hua Zhou       ****\n",
      "****   Jin Zhou, Eric Sobel, Janet Sinsheimer, Kenneth Lange    ****\n",
      "****                                                            ****\n",
      "****                 Please cite our paper!                     ****\n",
      "****         https://doi.org/10.1093/gigascience/giaa044        ****\n",
      "\n",
      "Running sparse Multivariate Gaussian regression\n",
      "Link functin = IdentityLink()\n",
      "Sparsity parameter (k) = 17\n",
      "Prior weight scaling = off\n",
      "Doubly sparse projection = off\n",
      "Debias = off\n",
      "Max IHT iterations = 200\n",
      "Converging when tol < 0.0001:\n",
      "\n",
      "Iteration 1: loglikelihood = -208.13036776529475, backtracks = 0, tol = 1.2019658321322255\n",
      "Iteration 2: loglikelihood = 1730.5686443633817, backtracks = 0, tol = 0.09028386581182699\n",
      "Iteration 3: loglikelihood = 2141.9436184153888, backtracks = 0, tol = 0.05497828852668723\n",
      "Iteration 4: loglikelihood = 2458.699098945599, backtracks = 0, tol = 0.007365759344731212\n",
      "Iteration 5: loglikelihood = 2524.905957486148, backtracks = 0, tol = 0.006519191218011318\n",
      "Iteration 6: loglikelihood = 2585.6274212594594, backtracks = 0, tol = 0.005709521389436241\n",
      "Iteration 7: loglikelihood = 2639.9025660623533, backtracks = 0, tol = 0.004996238869617661\n",
      "Iteration 8: loglikelihood = 2687.8269584277455, backtracks = 0, tol = 0.00436911661335961\n",
      "Iteration 9: loglikelihood = 2729.6577237063184, backtracks = 0, tol = 0.0038188024414295306\n",
      "Iteration 10: loglikelihood = 2765.780787857244, backtracks = 0, tol = 0.026696458864754767\n",
      "Iteration 11: loglikelihood = 3016.8598829633115, backtracks = 0, tol = 0.0031823105704526637\n",
      "Iteration 12: loglikelihood = 3066.949588311762, backtracks = 0, tol = 0.002899692453123337\n",
      "Iteration 13: loglikelihood = 3108.774838826973, backtracks = 0, tol = 0.0026395198910054256\n",
      "Iteration 14: loglikelihood = 3145.1722850865235, backtracks = 0, tol = 0.0024022478183747115\n",
      "Iteration 15: loglikelihood = 3176.5527556970087, backtracks = 0, tol = 0.0021855312141041954\n",
      "Iteration 16: loglikelihood = 3203.372134908995, backtracks = 0, tol = 0.0019876068527264466\n",
      "Iteration 17: loglikelihood = 3226.1126085168908, backtracks = 0, tol = 0.001806907223855466\n",
      "Iteration 18: loglikelihood = 3245.259689557241, backtracks = 0, tol = 0.0016419936513142656\n",
      "Iteration 19: loglikelihood = 3261.2827620726384, backtracks = 0, tol = 0.0014915423386618052\n",
      "Iteration 20: loglikelihood = 3274.621008327211, backtracks = 0, tol = 0.0013543371276239892\n",
      "Iteration 21: loglikelihood = 3285.674592187095, backtracks = 0, tol = 0.0012292619592196158\n",
      "Iteration 22: loglikelihood = 3294.8003207746615, backtracks = 0, tol = 0.0011152930906778928\n",
      "Iteration 23: loglikelihood = 3302.310763366695, backtracks = 0, tol = 0.004022525264229331\n",
      "Iteration 24: loglikelihood = 3317.7971360768706, backtracks = 0, tol = 0.000931701546539644\n",
      "Iteration 25: loglikelihood = 3322.55554801616, backtracks = 0, tol = 0.0008403824929548939\n",
      "Iteration 26: loglikelihood = 3326.3926443637274, backtracks = 0, tol = 0.0007597672620603144\n",
      "Iteration 27: loglikelihood = 3329.512468981341, backtracks = 0, tol = 0.000686536418442163\n",
      "Iteration 28: loglikelihood = 3332.0458570569285, backtracks = 0, tol = 0.003502193036039169\n",
      "Iteration 29: loglikelihood = 3347.4521781045537, backtracks = 0, tol = 0.0034518223102734565\n",
      "Iteration 30: loglikelihood = 3349.834883150297, backtracks = 0, tol = 0.0034528361422666806\n",
      "Iteration 31: loglikelihood = 3355.6597844012576, backtracks = 0, tol = 0.0035372199995328\n",
      "Iteration 32: loglikelihood = 3357.8401742994038, backtracks = 0, tol = 0.0035381811928808897\n",
      "Iteration 33: loglikelihood = 3356.96403138269, backtracks = 5, tol = 2.7043916509749968e-5\n",
      "  3.438396 seconds (6.84 k allocations: 7.597 MiB)\n"
     ]
    },
    {
     "data": {
      "text/plain": [
       "\n",
       "Compute time (sec):     3.331758975982666\n",
       "Final loglikelihood:    3356.96403138269\n",
       "Iterations:             33\n",
       "Trait 1's SNP PVE:      0.40782795213136275\n",
       "Trait 2's SNP PVE:      0.8925271478138327\n",
       "\n",
       "Trait 1: IHT estimated 7 nonzero SNP predictors\n",
       "\u001b[1m7×2 DataFrame\u001b[0m\n",
       "\u001b[1m Row \u001b[0m│\u001b[1m Position \u001b[0m\u001b[1m Estimated_β \u001b[0m\n",
       "\u001b[1m     \u001b[0m│\u001b[90m Int64    \u001b[0m\u001b[90m Float64     \u001b[0m\n",
       "─────┼───────────────────────\n",
       "   1 │     2351   -0.0173457\n",
       "   2 │     2529   -0.254579\n",
       "   3 │     2850   -0.0151446\n",
       "   4 │     2872    0.820841\n",
       "   5 │     2986   -0.0125593\n",
       "   6 │     4248   -1.403\n",
       "   7 │     8921    1.24517\n",
       "\n",
       "Trait 1: IHT estimated 1 non-genetic predictors\n",
       "\u001b[1m1×2 DataFrame\u001b[0m\n",
       "\u001b[1m Row \u001b[0m│\u001b[1m Position \u001b[0m\u001b[1m Estimated_β \u001b[0m\n",
       "\u001b[1m     \u001b[0m│\u001b[90m Int64    \u001b[0m\u001b[90m Float64     \u001b[0m\n",
       "─────┼───────────────────────\n",
       "   1 │        1     0.506032\n",
       "\n",
       "Trait 2: IHT estimated 8 nonzero SNP predictors\n",
       "\u001b[1m8×2 DataFrame\u001b[0m\n",
       "\u001b[1m Row \u001b[0m│\u001b[1m Position \u001b[0m\u001b[1m Estimated_β \u001b[0m\n",
       "\u001b[1m     \u001b[0m│\u001b[90m Int64    \u001b[0m\u001b[90m Float64     \u001b[0m\n",
       "─────┼───────────────────────\n",
       "   1 │      359   -0.0123562\n",
       "   2 │     4710   -0.114557\n",
       "   3 │     6991   -2.70478\n",
       "   4 │     8738    0.0126899\n",
       "   5 │     8825    0.0139091\n",
       "   6 │     8921   -0.218876\n",
       "   7 │     8964    0.312726\n",
       "   8 │     9542   -0.0128753\n",
       "\n",
       "Trait 2: IHT estimated 1 non-genetic predictors\n",
       "\u001b[1m1×2 DataFrame\u001b[0m\n",
       "\u001b[1m Row \u001b[0m│\u001b[1m Position \u001b[0m\u001b[1m Estimated_β \u001b[0m\n",
       "\u001b[1m     \u001b[0m│\u001b[90m Int64    \u001b[0m\u001b[90m Float64     \u001b[0m\n",
       "─────┼───────────────────────\n",
       "   1 │        1      1.00318\n"
      ]
     },
     "execution_count": 74,
     "metadata": {},
     "output_type": "execute_result"
    },
    {
     "name": "stdout",
     "output_type": "stream",
     "text": [
      "\n"
     ]
    }
   ],
   "source": [
    "Zt = Matrix(z')\n",
    "ktrue = k + count(!iszero, intercepts)\n",
    "@time result = fit_iht(Yt, Transpose(xla), Zt, k=17, verbose=true)"
   ]
  },
  {
   "cell_type": "code",
   "execution_count": 69,
   "metadata": {
    "collapsed": false
   },
   "outputs": [
    {
     "data": {
      "text/plain": [
       "5×2 Array{Float64,2}:\n",
       " -0.251008  -0.413412\n",
       "  0.828883   0.811243\n",
       "  0.0        0.0244199\n",
       " -1.41504   -1.42827\n",
       "  1.28661    1.24969"
      ]
     },
     "execution_count": 69,
     "metadata": {},
     "output_type": "execute_result"
    }
   ],
   "source": [
    "# first beta\n",
    "β1 = result.beta[1, :]\n",
    "true_b1_idx = findall(!iszero, B[:, 1])\n",
    "[β1[true_b1_idx] B[true_b1_idx, 1]]"
   ]
  },
  {
   "cell_type": "code",
   "execution_count": 70,
   "metadata": {
    "collapsed": false
   },
   "outputs": [
    {
     "data": {
      "text/plain": [
       "5×2 Array{Float64,2}:\n",
       "  0.0       -0.0597678\n",
       " -0.115093  -0.11578\n",
       " -2.70425   -2.70844\n",
       " -0.204257  -0.212269\n",
       "  0.31183    0.310274"
      ]
     },
     "execution_count": 70,
     "metadata": {},
     "output_type": "execute_result"
    }
   ],
   "source": [
    "# second beta\n",
    "β2 = result.beta[2, :]\n",
    "true_b2_idx = findall(!iszero, B[:, 2])\n",
    "[β2[true_b2_idx] B[true_b2_idx, 2]]"
   ]
  },
  {
   "cell_type": "code",
   "execution_count": 71,
   "metadata": {
    "collapsed": false
   },
   "outputs": [
    {
     "data": {
      "text/plain": [
       "2×2 Array{Float64,2}:\n",
       " 0.506032  0.5\n",
       " 1.00318   1.0"
      ]
     },
     "execution_count": 71,
     "metadata": {},
     "output_type": "execute_result"
    }
   ],
   "source": [
    "# non genetic covariates\n",
    "[result.c intercepts']"
   ]
  },
  {
   "cell_type": "code",
   "execution_count": 72,
   "metadata": {
    "collapsed": false
   },
   "outputs": [
    {
     "data": {
      "text/plain": [
       "4×2 Array{Float64,2}:\n",
       " 6.0149    5.65059\n",
       " 2.10088   1.97568\n",
       " 2.10088   1.97568\n",
       " 0.744966  0.702678"
      ]
     },
     "execution_count": 72,
     "metadata": {},
     "output_type": "execute_result"
    }
   ],
   "source": [
    "# covariance matrix\n",
    "[vec(result.Σ) vec(Σ)]"
   ]
  },
  {
   "cell_type": "code",
   "execution_count": 73,
   "metadata": {
    "collapsed": false
   },
   "outputs": [
    {
     "name": "stdout",
     "output_type": "stream",
     "text": [
      "signif_snps ∩ correct_snps = [2529, 2872, 4248, 8921, 4710, 6991, 8964]\n"
     ]
    },
    {
     "data": {
      "text/plain": [
       "(0.7, 2, 0.00020014009806864806)"
      ]
     },
     "execution_count": 73,
     "metadata": {},
     "output_type": "execute_result"
    }
   ],
   "source": [
    "# number of causal SNPs recovered\n",
    "correct_position = findall(!iszero, B)\n",
    "correct_snps = [x[1] for x in correct_position]             # truely causal snps\n",
    "signif_snps = findall(!iszero, β1) ∪ findall(!iszero, β2)   # IHT's selected snps\n",
    "@show signif_snps ∩ correct_snps\n",
    "\n",
    "power_and_fpr(p, correct_snps, signif_snps)"
   ]
  },
  {
   "cell_type": "code",
   "execution_count": 78,
   "metadata": {
    "collapsed": false
   },
   "outputs": [
    {
     "name": "stderr",
     "output_type": "stream",
     "text": [
      "\u001b[32mCross validating...100%|████████████████████████████████| Time: 0:01:11\u001b[39m\n"
     ]
    },
    {
     "name": "stdout",
     "output_type": "stream",
     "text": [
      "\n",
      "\n",
      "Crossvalidation Results:\n",
      "\tk\tMSE\n",
      "\t1\t8079.418619716949\n",
      "\t2\t3627.3096599470437\n",
      "\t3\t1865.7585855184807\n",
      "\t4\t1692.706308436043\n",
      "\t5\t1542.759307464684\n",
      "\t6\t1499.8616100579773\n",
      "\t7\t1433.6667306296454\n",
      "\t8\t1421.9052004472687\n",
      "\t9\t1421.2552305804886\n",
      "\t10\t1423.4614532506503\n",
      "\t11\t1420.2679722482376\n",
      "\t12\t1420.0053086973176\n",
      "\t13\t1389.0348278471115\n",
      "\t14\t1384.3136635494316\n",
      "\t15\t1381.4910373174566\n",
      "\t16\t1376.215872088695\n",
      "\t17\t1365.8686420435863\n",
      "\t18\t1367.0589543865262\n",
      "\t19\t1370.8841342977441\n",
      "\t20\t1370.9739594368748\n",
      "\n",
      "Best k = 17\n",
      "\n",
      " 71.983839 seconds (44.76 k allocations: 8.464 MiB)\n"
     ]
    }
   ],
   "source": [
    "# 4 cores\n",
    "Random.seed!(2020)\n",
    "@time mses = cv_iht(Yt, Transpose(xla), Zt, path=1:20, parallel=true, max_iter=20);"
   ]
  },
  {
   "cell_type": "markdown",
   "metadata": {},
   "source": [
    "## GEMMA multivariate results\n",
    "\n",
    "We use the wald test statistics. The likelihood ratio p-values are all 1.0 or 0.0, so there's some problems with it. "
   ]
  },
  {
   "cell_type": "code",
   "execution_count": 62,
   "metadata": {
    "collapsed": false
   },
   "outputs": [
    {
     "data": {
      "text/plain": [
       "power_and_fpr"
      ]
     },
     "execution_count": 62,
     "metadata": {},
     "output_type": "execute_result"
    }
   ],
   "source": [
    "\"\"\"\n",
    "Computes power and false positive rates\n",
    "- p: total number of SNPs\n",
    "- correct_snps: Indices of the true causal SNPs\n",
    "- detected_snps: Indices of SNPs that are significant after testing\n",
    "\"\"\"\n",
    "function power_and_fpr(p::Int, correct_snps::Vector{Int}, detected_snps::Vector{Int})\n",
    "    power = length(signif_snps ∩ correct_snps) / length(correct_snps)\n",
    "    FP = length(signif_snps) - length(signif_snps ∩ correct_snps) # number of false positives\n",
    "    TN = p - length(signif_snps) # number of true negatives\n",
    "    FPR = FP / (FP + TN)\n",
    "    return power, FP, FPR\n",
    "end"
   ]
  },
  {
   "cell_type": "code",
   "execution_count": 83,
   "metadata": {
    "collapsed": false
   },
   "outputs": [
    {
     "name": "stdout",
     "output_type": "stream",
     "text": [
      "signif_snps ∩ correct_snps = [2529, 2872, 4248, 6991, 8921]\n"
     ]
    },
    {
     "data": {
      "text/plain": [
       "(0.5, 0, 0.0)"
      ]
     },
     "execution_count": 83,
     "metadata": {},
     "output_type": "execute_result"
    }
   ],
   "source": [
    "gemma_df = CSV.read(\"gemma.polygenic.result.assoc.txt\", DataFrame)\n",
    "correct_position = findall(!iszero, B)\n",
    "\n",
    "# pvalues\n",
    "pval_wald = gemma_df[!, :p_wald]\n",
    "pval_lrt = gemma_df[!, :p_lrt]\n",
    "pval_score = gemma_df[!, :p_score]\n",
    "\n",
    "# estimated beta\n",
    "estim_β1 = gemma_df[!, :beta_1]\n",
    "estim_β2 = gemma_df[!, :beta_2]\n",
    "\n",
    "# estimated covariance matrix\n",
    "estim_σ11 = gemma_df[!, :Vbeta_1_1]\n",
    "estim_σ12 = gemma_df[!, :Vbeta_1_2]\n",
    "estim_σ22 = gemma_df[!, :Vbeta_2_2];\n",
    "\n",
    "# check how many real SNPs were recovered\n",
    "correct_snps = [x[1] for x in correct_position]  # truely causal snps\n",
    "signif_snps = findall(x -> x ≤ 0.05/p, pval_wald) # gemma's selected snps\n",
    "@show signif_snps ∩ correct_snps\n",
    "\n",
    "# compute power, false positives, and false positive rate\n",
    "power_and_fpr(p, correct_snps, signif_snps)"
   ]
  },
  {
   "cell_type": "markdown",
   "metadata": {},
   "source": [
    "## MV-PLINK"
   ]
  },
  {
   "cell_type": "code",
   "execution_count": 82,
   "metadata": {
    "collapsed": false
   },
   "outputs": [
    {
     "name": "stdout",
     "output_type": "stream",
     "text": [
      "signif_snps ∩ correct_snps = [2529, 2872, 4248, 6991, 8921]\n"
     ]
    },
    {
     "data": {
      "text/plain": [
       "(0.5, 0, 0.0)"
      ]
     },
     "execution_count": 82,
     "metadata": {},
     "output_type": "execute_result"
    }
   ],
   "source": [
    "mvplink_df = CSV.read(\"plink.mqfam.polygenic.total\", DataFrame, delim=' ', ignorerepeated=true)\n",
    "\n",
    "# pvalues\n",
    "pval = mvplink_df[!, :P]\n",
    "\n",
    "# SNPs passing threshold\n",
    "signif_snps = findall(x -> x ≤ 0.05 / p, pval)\n",
    "@show signif_snps ∩ correct_snps\n",
    "\n",
    "# compute power, false positives, and false positive rate\n",
    "power_and_fpr(p, correct_snps, signif_snps)"
   ]
  },
  {
   "cell_type": "markdown",
   "metadata": {
    "collapsed": true
   },
   "source": [
    "# Conclusion\n",
    "\n",
    "+ MV-PLINK is fastest (~seconds), then IHT (minutes), then GEMMA (hours)\n",
    "+ Multivariate IHT's beta estimates are precise, under both truly sparse or polygenic model.\n",
    "+ With polygenic model, IHT finds more true SNPs but also has higher false positive rate. \n",
    "+ In a separate simulation with 5k samples and 300k SNPs, IHT's cross validation takes roughly 1.5h on 8 cores. "
   ]
  },
  {
   "cell_type": "markdown",
   "metadata": {},
   "source": [
    "# Large scale simulation\n",
    "\n",
    "The code below is meant for running on Hoffman2 cluster."
   ]
  },
  {
   "cell_type": "code",
   "execution_count": 7,
   "metadata": {
    "collapsed": false
   },
   "outputs": [
    {
     "ename": "LoadError",
     "evalue": "\u001b[91mIOError: could not spawn `./gemma -bfile sim2021/sim2021_2traits -gk 1 -o sim2021_2traits`: no such file or directory (ENOENT)\u001b[39m",
     "output_type": "error",
     "traceback": [
      "\u001b[91mIOError: could not spawn `./gemma -bfile sim2021/sim2021_2traits -gk 1 -o sim2021_2traits`: no such file or directory (ENOENT)\u001b[39m",
      "",
      "Stacktrace:",
      " [1] _spawn_primitive(::String, ::Cmd, ::Array{Any,1}) at ./process.jl:99",
      " [2] #585 at ./process.jl:112 [inlined]",
      " [3] setup_stdios(::Base.var\"#585#586\"{Cmd}, ::Array{Any,1}) at ./process.jl:196",
      " [4] _spawn at ./process.jl:111 [inlined]",
      " [5] run(::Cmd; wait::Bool) at ./process.jl:439",
      " [6] run at ./process.jl:438 [inlined]",
      " [7] one_simulation(::Int64, ::Int64, ::Int64, ::Int64; seed::Int64, σg::Float64, σe::Float64, βoverlap::Int64) at ./In[7]:265",
      " [8] top-level scope at In[7]:290",
      " [9] include_string(::Function, ::Module, ::String, ::String) at ./loading.jl:1091"
     ]
    }
   ],
   "source": [
    "using Distributed\n",
    "addprocs(12)\n",
    "\n",
    "@everywhere begin\n",
    "    using MendelIHT\n",
    "    using SnpArrays\n",
    "    using Random\n",
    "    using GLM\n",
    "    using DelimitedFiles\n",
    "    using Distributions\n",
    "    using LinearAlgebra\n",
    "    using CSV\n",
    "    using DataFrames\n",
    "    using StatsBase\n",
    "end\n",
    "\n",
    "\"\"\"\n",
    "k = Number of causal SNPs\n",
    "p = Total number of SNPs\n",
    "traits = Number of traits (phenotypes)\n",
    "overlap = number of causal SNPs shared in each trait\n",
    "\"\"\"\n",
    "function simulate_random_beta(k::Int, p::Int, traits::Int; overlap::Int=0)\n",
    "    true_b = zeros(p, traits)\n",
    "    if overlap == 0\n",
    "        causal_snps = sample(1:(traits * p), k, replace=false)\n",
    "        true_b[causal_snps] = randn(k)\n",
    "    else\n",
    "        shared_snps = sample(1:p, overlap, replace=false)\n",
    "        weight_vector = aweights(1 / (traits * (p - overlap)) * ones(traits * p))\n",
    "        for i in 1:traits\n",
    "            weight_vector[i*shared_snps] .= 0.0 # avoid sampling from shared snps\n",
    "        end\n",
    "        @assert sum(weight_vector) ≈ 1.0\n",
    "        # simulate β for shared predictors\n",
    "        for i in 1:traits\n",
    "            true_b[shared_snps, i] = randn(overlap)\n",
    "        end\n",
    "        # simulate β for none shared predictors\n",
    "        nonshared_snps = sample(1:(traits * p), weight_vector, k - traits * overlap, replace=false)\n",
    "        true_b[nonshared_snps] = randn(k - traits * overlap)\n",
    "    end\n",
    "\n",
    "    return true_b\n",
    "end\n",
    "\n",
    "\"\"\"\n",
    "# Arguments\n",
    "xla = simulated genotype matrix (converted to a SnpLinAlg)\n",
    "k = number of causal SNPs\n",
    "r = number of traits\n",
    "Φ = estimated GRM (using GEMMA)\n",
    "\n",
    "# Optional arguments\n",
    "seed = random seed for reproducibility\n",
    "σ2 = contribution of GRM\n",
    "σe = random environmental effect\n",
    "βoverlap = number of causal SNPs shared in all traits\n",
    "\"\"\"\n",
    "function simulate_multivariate_polygenic(\n",
    "    plinkname::String, n::Int, p::Int, k::Int, r::Int;\n",
    "    seed::Int=2021, σg=0.6, σe=0.4, βoverlap=2, \n",
    "    )\n",
    "    # set seed\n",
    "    Random.seed!(seed)\n",
    "    \n",
    "    # simulate `.bed` file with no missing data\n",
    "    x = simulate_random_snparray(\"sim$seed/\" * plinkname * \".bed\", n, p)\n",
    "    xla = SnpLinAlg{Float64}(x, model=ADDITIVE_MODEL, center=true, scale=true)\n",
    "    \n",
    "    # intercept is the only nongenetic covariate\n",
    "    Z = ones(n, 1)\n",
    "    intercepts = randn(r)' # each trait have different intercept\n",
    "\n",
    "    # simulate β\n",
    "    B = simulate_random_beta(k, p, r, overlap=βoverlap)\n",
    "    writedlm(\"sim$(seed)/trueb.txt\", B)\n",
    "\n",
    "    # between trait covariance matrix\n",
    "    Σ = random_covariance_matrix(r)\n",
    "\n",
    "    # between sample covariance is identity + GRM (2x because OpenMendel always uses half the GRM)\n",
    "    Φ = 2grm(x, method=:Robust)\n",
    "    writedlm(\"sim$seed/$plinkname.grm\", Φ)\n",
    "    V = σg * Φ + σe * I\n",
    "\n",
    "    # simulate y using TraitSimulations.jl\n",
    "    # VCM_model = VCMTrait(Z, intercepts, x, B, [Σ], [V]) #https://github.com/OpenMendel/TraitSimulation.jl/blob/6d1f09c7332471a74b4dd6c8ef2d2b95a96c585c/src/modelframework.jl#L159\n",
    "    # Y = simulate(VCM_model)\n",
    "\n",
    "    # simulate using naive model\n",
    "    μ = Z * intercepts + xla * B\n",
    "    Y = rand(MatrixNormal(μ', Σ, V))\n",
    "    \n",
    "    return xla, Matrix(Z'), B, Σ, Y\n",
    "end\n",
    "\n",
    "function make_bim_file(x::SnpLinAlg, name::String)\n",
    "    p = size(x, 2)\n",
    "\n",
    "    #create .bim file structure: https://www.cog-genomics.org/plink2/formats#bim\n",
    "    open(name * \".bim\", \"w\") do f\n",
    "        for i in 1:p\n",
    "            write(f, \"1\\tsnp$i\\t0\\t1\\t1\\t2\\n\")\n",
    "        end\n",
    "    end\n",
    "end\n",
    "\n",
    "function make_GEMMA_fam_file(x::SnpLinAlg, y::AbstractVecOrMat, name::String)\n",
    "    ly = size(y, 1)\n",
    "    n, p = size(x)\n",
    "\n",
    "    # put 1st phenotypes in 6th column, 2nd phenotype in 7th column ... etc\n",
    "    traits = size(y, 1)\n",
    "    open(name * \".fam\", \"w\") do f\n",
    "        for i in 1:n\n",
    "            write(f, \"$i\\t1\\t0\\t0\\t1\")\n",
    "            for j in 1:traits\n",
    "                write(f, \"\\t$(y[j, i])\")\n",
    "            end\n",
    "            write(f, \"\\n\")\n",
    "        end\n",
    "    end\n",
    "end\n",
    "\n",
    "function make_MVPLINK_fam_and_phen_file(x::SnpLinAlg, y::AbstractVecOrMat, name::String)\n",
    "    ly = size(y, 1)\n",
    "    n, p = size(x)\n",
    "\n",
    "    # put a random phenotype in fam file\n",
    "    traits = size(y, 1)\n",
    "    open(name * \".fam\", \"w\") do f\n",
    "        for i in 1:n\n",
    "            println(f, \"$i\\t1\\t0\\t0\\t1\\t1\")\n",
    "        end\n",
    "    end\n",
    "\n",
    "    # save phenotypes in separate `.phen` file\n",
    "    open(name * \".phen\", \"w\") do io\n",
    "        print(io, \"FID\\tIID\")\n",
    "        for j in 1:traits\n",
    "            print(io, \"\\tT$j\")\n",
    "        end\n",
    "        print(io, \"\\n\")\n",
    "        for i in 1:n\n",
    "            print(io, \"$i\\t1\")\n",
    "            for j in 1:traits\n",
    "                write(io, \"\\t$(y[j, i])\")\n",
    "            end\n",
    "            print(io, \"\\n\")\n",
    "        end\n",
    "    end\n",
    "end\n",
    "\n",
    "\"\"\"\n",
    "Computes power and false positive rates\n",
    "- p: total number of SNPs\n",
    "- correct_snps: Indices of the true causal SNPs\n",
    "- detected_snps: Indices of SNPs that are significant after testing\n",
    "\n",
    "returns: power, number of false positives, and false positive rate\n",
    "\"\"\"\n",
    "function power_and_fpr(p::Int, correct_snps::Vector{Int}, signif_snps::Vector{Int})\n",
    "    power = length(signif_snps ∩ correct_snps) / length(correct_snps)\n",
    "    FP = length(signif_snps) - length(signif_snps ∩ correct_snps) # number of false positives\n",
    "    TN = p - length(signif_snps) # number of true negatives\n",
    "    FPR = FP / (FP + TN)\n",
    "    return power, FP, FPR\n",
    "end\n",
    "\n",
    "\"\"\"\n",
    "- filename: gemma's output file name\n",
    "- correct_snps: indices for real causal SNPs\n",
    "\n",
    "returns: power, number of false positives, and false positive rate\n",
    "\"\"\"\n",
    "function process_gemma_result(filename, correct_snps)\n",
    "    # read GEMMA result\n",
    "    gemma_df = CSV.read(filename, DataFrame)\n",
    "    snps = size(gemma_df, 1)\n",
    "\n",
    "    # pvalues\n",
    "    pval_wald = gemma_df[!, :p_wald]\n",
    "#     pval_lrt = gemma_df[!, :p_lrt]\n",
    "#     pval_score = gemma_df[!, :p_score]\n",
    "\n",
    "    # estimated beta\n",
    "    estim_β1 = gemma_df[!, :beta_1]\n",
    "    estim_β2 = gemma_df[!, :beta_2]\n",
    "\n",
    "    # estimated covariance matrix\n",
    "    estim_σ11 = gemma_df[!, :Vbeta_1_1]\n",
    "    estim_σ12 = gemma_df[!, :Vbeta_1_2]\n",
    "    estim_σ22 = gemma_df[!, :Vbeta_2_2];\n",
    "\n",
    "    # check how many real SNPs were recovered\n",
    "    signif_snps = findall(x -> x ≤ 0.05 / snps, pval_wald) # gemma's selected snps\n",
    "    @show signif_snps ∩ correct_snps\n",
    "\n",
    "    # compute power, false positives, and false positive rate\n",
    "    power_and_fpr(snps, correct_snps, signif_snps)\n",
    "end\n",
    "\n",
    "\"\"\"\n",
    "- filename: mvPLINK's output file name\n",
    "- correct_snps: indices for real causal SNPs\n",
    "\n",
    "returns: power, number of false positives, and false positive rate\n",
    "\"\"\"\n",
    "function process_mvPLINK(filename, correct_snps)\n",
    "    # read mvPLINK result\n",
    "    mvplink_df = CSV.read(filename, DataFrame, delim=' ', ignorerepeated=true)\n",
    "    snps = size(mvplink_df, 1)\n",
    "\n",
    "    # get pvalues, possibly accounting for \"NA\"s\n",
    "    if eltype(mvplink_df[!, :P]) == Float64\n",
    "        pval = mvplink_df[!, :P]\n",
    "    else\n",
    "        mvplink_df[findall(x -> x == \"NA\", mvplink_df[!, :P]), :P] .= \"1.0\"\n",
    "        pval = parse.(Float64, mvplink_df[!, :P])\n",
    "    end\n",
    "\n",
    "    # SNPs passing threshold\n",
    "    signif_snps = findall(x -> x ≤ 0.05 / snps, pval)\n",
    "    @show signif_snps ∩ correct_snps\n",
    "\n",
    "    # compute power, false positives, and false positive rate\n",
    "    power_and_fpr(snps, correct_snps, signif_snps)\n",
    "end\n",
    "\n",
    "\"\"\"\n",
    "# Arguments\n",
    "n = number of samples\n",
    "p = number of SNPs\n",
    "k = number of causal SNPs\n",
    "r = number of traits\n",
    "\n",
    "# Optional arguments\n",
    "seed = random seed for reproducibility\n",
    "σ2 = contribution of GRM\n",
    "σe = random environmental effect\n",
    "βoverlap = number of causal SNPs shared in all traits\n",
    "\"\"\"\n",
    "function one_simulation(\n",
    "    n::Int, p::Int, k::Int, r::Int;\n",
    "    seed::Int=2021, σg=0.6, σe=0.4, βoverlap=2\n",
    "    )\n",
    "    isdir(\"sim$seed\") || mkdir(\"sim$seed\")\n",
    "    plinkname = \"sim$(seed)_$(r)traits\"\n",
    "\n",
    "    # simulate data\n",
    "    xla, Z, B, Σ, Y = simulate_multivariate_polygenic(plinkname, n, p, k, r,\n",
    "        seed=seed, σg=σg, σe=σe, βoverlap=βoverlap)\n",
    "    correct_position = findall(!iszero, B)\n",
    "    correct_snps = [x[1] for x in correct_position]\n",
    "    make_bim_file(xla, \"sim$(seed)/\" * plinkname)\n",
    "\n",
    "    # run IHT\n",
    "    Random.seed!(seed)\n",
    "    iht_time = @elapsed begin\n",
    "        mses = cv_iht(Y, Transpose(xla), Z, parallel=true)\n",
    "        iht_result = fit_iht(Y, Transpose(xla), Z, k=argmin(mses))\n",
    "    end\n",
    "    β1, β2 = iht_result.beta[1, :], iht_result.beta[2, :]\n",
    "    detected_snps = findall(!iszero, β1) ∪ findall(!iszero, β2)\n",
    "    iht_power, iht_FP, iht_FPR = power_and_fpr(size(B, 1), correct_snps, detected_snps)\n",
    "    writedlm(\"sim$(seed)/iht_beta1.txt\", β1)\n",
    "    writedlm(\"sim$(seed)/iht_beta2.txt\", β2)\n",
    "    println(\"IHT power = $iht_power, FP = $iht_FP, FPR = $iht_FPR\")\n",
    "\n",
    "    # run MVPLINK\n",
    "    phenofile = \"sim$(seed)/\" * plinkname * \".phen\"\n",
    "    outfile = \"sim$(seed)/mvPLINK_sim$seed.mqfam.total\"\n",
    "    make_MVPLINK_fam_and_phen_file(xla, Y, \"sim$(seed)/\" * plinkname)\n",
    "    mvplink_time = @elapsed run(`./plink.multivariate --bfile sim$(seed)/$plinkname --noweb --mult-pheno $phenofile --mqfam`)\n",
    "    mv(\"plink.mqfam.total\", outfile, force=true)\n",
    "    mv(\"plink.log\", \"sim$(seed)/mvPLINK_sim$seed.log\", force=true)\n",
    "    mvPLINK_power, mvPLINK_FP, mvPLINK_FPR = process_mvPLINK(outfile, correct_snps)\n",
    "    println(\"mvPLINK power = $mvPLINK_power, FP = $mvPLINK_FP, FPR = $mvPLINK_FPR\")\n",
    "\n",
    "    # run GEMMA\n",
    "    make_GEMMA_fam_file(xla, Y, \"sim$(seed)/\" * plinkname)\n",
    "    gemma_time = @elapsed begin\n",
    "        run(`./gemma -bfile sim$(seed)/$plinkname -gk 1 -o $plinkname`)\n",
    "        run(`./gemma -bfile sim$(seed)/$plinkname -k output/$(plinkname).cXX.txt -maf 0.0001 -lmm 1 -n 1 2 -o gemma.sim$seed`)\n",
    "    end\n",
    "    gemma_power, gemma_FP, gemma_FPR = process_gemma_result(\"output/gemma.sim$seed.assoc.txt\", correct_snps)\n",
    "    println(\"GEMMA power = $gemma_power, FP = $gemma_FP, FPR = $gemma_FPR\")\n",
    "    mv(\"output/gemma.sim$seed.assoc.txt\", \"sim$(seed)/gemma.sim$seed.assoc.txt\")\n",
    "    mv(\"output/gemma.sim$seed.log.txt\", \"sim$(seed)/gemma.sim$seed.log.txt\")\n",
    "\n",
    "    # save summary stats\n",
    "    open(\"sim$(seed)/summary.txt\", \"w\") do io\n",
    "        println(io, \"Simulation $seed summary\")\n",
    "        println(io, \"n = $n, p = $p, k = $k, r = $r\\n\")\n",
    "        println(io, \"IHT time = $iht_time seconds, power = $iht_power, FP = $iht_FP, FPR = $iht_FPR\")\n",
    "        println(io, \"mvPLINK time = $mvplink_time seconds, power = $mvPLINK_power, FP = $mvPLINK_FP, FPR = $mvPLINK_FPR\")\n",
    "        println(io, \"GEMMA time = $gemma_time seconds, power = $gemma_power, FP = $gemma_FP, FPR = $gemma_FPR\")\n",
    "    end\n",
    "\n",
    "    return nothing\n",
    "end\n",
    "\n",
    "n = 1000  # number of samples\n",
    "p = 10000 # number of SNPs\n",
    "k = 10    # number of causal SNPs\n",
    "r = 2     # number of traits\n",
    "\n",
    "seed = parse(Int, ARGS[1])        \n",
    "#seed = 2021\n",
    "#one_simulation(n, p, k, r, seed = seed)"
   ]
  },
  {
   "cell_type": "code",
   "execution_count": 13,
   "metadata": {
    "collapsed": false
   },
   "outputs": [
    {
     "data": {
      "text/plain": [
       "make_run_sh (generic function with 1 method)"
      ]
     },
     "execution_count": 13,
     "metadata": {},
     "output_type": "execute_result"
    }
   ],
   "source": [
    "function run_repeats(repeats::Int)\n",
    "    for seed in 1:repeats\n",
    "        # create .sh file to submit jobs\n",
    "        open(\"run$seed.sh\", \"w\") do io\n",
    "            println(io, \"#!/bin/bash\")\n",
    "            println(io, \"#\\$ -cwd\")\n",
    "            println(io, \"# error = Merged with joblog\")\n",
    "            println(io, \"#\\$ -o joblog.\\$JOB_ID\")\n",
    "            println(io, \"#\\$ -j y\")\n",
    "            println(io, \"#\\$ -pe shared 12\")\n",
    "            println(io, \"#\\$ -l h_rt=24:00:00,h_data=5G,exclusive\")\n",
    "            println(io, \"# Email address to notify\")\n",
    "            println(io, \"## \\$ -M \\$USER@mal\")\n",
    "            println(io, \"# Notify when:\")\n",
    "            println(io, \"#\\$ -m bea\")\n",
    "            println(io, \"\")\n",
    "            println(io, \"#save job info on joblog:\")\n",
    "            println(io, \"echo \\\"Job \\$JOB_ID started on:   \\\" `hostname -s`\")\n",
    "            println(io, \"echo \\\"Job \\$JOB_ID started on:   \\\" `date `\")\n",
    "            println(io, \"\")\n",
    "            println(io, \"# load the job environment:\")\n",
    "            println(io, \". /u/local/Modules/default/init/modules.sh\")\n",
    "            println(io, \"module load julia/1.5.4\")\n",
    "            println(io, \"module li\")\n",
    "            println(io, \"which julia\")\n",
    "            println(io, \"\")\n",
    "            println(io, \"# run code\")\n",
    "            println(io, \"echo 'julia run.jl seed = $seed (run IHT/GEMMA/mvPLINK on simulated data)'\")\n",
    "            println(io, \"pwd; julia /u/home/b/biona001/multivariate/run.jl $seed\")\n",
    "            println(io, \"\")\n",
    "            println(io, \"#echo job info on joblog:\")\n",
    "            println(io, \"echo \\\"Job \\$JOB_ID ended on:   \\\" `hostname -s`\")\n",
    "            println(io, \"echo \\\"Job \\$JOB_ID ended on:   \\\" `date `\")\n",
    "            println(io, \"#echo \\\" \\\"\")\n",
    "        end\n",
    "        \n",
    "        # submit job\n",
    "        run(`qsub run$seed.sh`)\n",
    "        rm(\"run$seed.sh\", force=true)\n",
    "        sleep(2)\n",
    "    end\n",
    "end\n",
    "run_repeats(50)"
   ]
  },
  {
   "cell_type": "code",
   "execution_count": null,
   "metadata": {
    "collapsed": true
   },
   "outputs": [],
   "source": [
    "\"\"\"\n",
    "After performing n simulations using `run_repeats`, this function summarizes the result. \n",
    "\"\"\"\n",
    "function summarize_repeats()\n",
    "    iht_time, iht_power, iht_FP, iht_FPT = Float64[], Float64[], Float64[], Float64[]\n",
    "    mvPLINK_time, mvPLINK_power, mvPLINK_FP, mvPLINK_FPT = Float64[], Float64[], Float64[], Float64[]\n",
    "    gemma_time, gemma_power, gemma_FP, gemma_FPT = Float64[], Float64[], Float64[], Float64[]\n",
    "\n",
    "    regex = r\"= (\\d+\\.\\d+) seconds, power = (\\d+\\.\\d+), FP = (\\d+), FPR = (0\\.\\d+)\"\n",
    "    for sim in 1:50\n",
    "        if !isdir(\"sim$sim\") || !isfile(\"sim$(sim)/summary.txt\")\n",
    "            println(\"Simulation $sim failed!\")\n",
    "            continue\n",
    "        end\n",
    "        open(\"sim$(sim)/summary.txt\", \"r\") do io\n",
    "            readline(io); readline(io); readline(io)\n",
    "\n",
    "            # parse IHT result\n",
    "            iht = match(regex, readline(io))\n",
    "            push!(iht_time, parse(Float64, iht[1]))\n",
    "            push!(iht_power, parse(Float64, iht[2]))\n",
    "            push!(iht_FP, parse(Float64, iht[3]))\n",
    "            push!(iht_FPT, parse(Float64, iht[4]))\n",
    "\n",
    "            # parse mvPLINK result\n",
    "            mvPLINK = match(regex, readline(io))\n",
    "            push!(mvPLINK_time, parse(Float64, mvPLINK[1]))\n",
    "            push!(mvPLINK_power, parse(Float64, mvPLINK[2]))\n",
    "            push!(mvPLINK_FP, parse(Float64, mvPLINK[3]))\n",
    "            push!(mvPLINK_FPT, parse(Float64, mvPLINK[4]))\n",
    "\n",
    "            # parse mvPLINK result\n",
    "            gemma = match(regex, readline(io))\n",
    "            push!(gemma_time, parse(Float64, gemma[1]))\n",
    "            push!(gemma_power, parse(Float64, gemma[2]))\n",
    "            push!(gemma_FP, parse(Float64, gemma[3]))\n",
    "            push!(gemma_FPT, parse(Float64, gemma[4]))\n",
    "        end\n",
    "    end\n",
    "    \n",
    "    # save summary statistics\n",
    "    open(\"summary.txt\", \"w\") do io\n",
    "        println(io, \"iht_time,iht_power,iht_FP,iht_FPT,mvPLINK_time,mvPLINK_power,\" * \n",
    "            \"mvPLINK_FP,mvPLINK_FPT,gemma_time,gemma_power,gemma_FP,gemma_FPT\")\n",
    "        for i in eachindex(iht_time)\n",
    "            print(io, iht_time[i], ',', iht_power[i], ',', iht_FP[i], ',', iht_FPT[i], ',')\n",
    "            print(io, mvPLINK_time[i], ',', mvPLINK_power[i], ',', mvPLINK_FP[i], ',', mvPLINK_FPT[i], ',')\n",
    "            print(io, gemma_time[i], ',', gemma_power[i], ',', gemma_FP[i], ',', gemma_FPT[i], \"\\n\")\n",
    "        end\n",
    "    end\n",
    "    \n",
    "    return iht_time, iht_power, iht_FP, iht_FPT, \n",
    "        mvPLINK_time, mvPLINK_power, mvPLINK_FP, mvPLINK_FPT,\n",
    "        gemma_time, gemma_power, gemma_FP, gemma_FPT\n",
    "end\n",
    "iht_time, iht_power, iht_FP, iht_FPT, \n",
    "    mvPLINK_time, mvPLINK_power, mvPLINK_FP, mvPLINK_FPT,\n",
    "    gemma_time, gemma_power, gemma_FP, gemma_FPT = summarize_repeats()"
   ]
  },
  {
   "cell_type": "code",
   "execution_count": 67,
   "metadata": {
    "collapsed": false
   },
   "outputs": [],
   "source": [
    "summary = CSV.read(\"summary.txt\", DataFrame)\n",
    "iht_time, iht_power, iht_FP, iht_FPR = summary[!, 1], summary[!, 2], summary[!, 3], summary[!, 4]\n",
    "mvPLINK_time, mvPLINK_power, mvPLINK_FP, mvPLINK_FPR = summary[!, 5], summary[!, 6], summary[!, 7], summary[!, 8]\n",
    "gemma_time, gemma_power, gemma_FP, gemma_FPR = summary[!, 9], summary[!, 10], summary[!, 11], summary[!, 12];"
   ]
  },
  {
   "cell_type": "code",
   "execution_count": 64,
   "metadata": {
    "collapsed": false
   },
   "outputs": [
    {
     "name": "stdout",
     "output_type": "stream",
     "text": [
      "mean(iht_time) = 102.12144187497917\n",
      "mean(mvPLINK_time) = 9.455460785250002\n",
      "mean(gemma_time) = 2872.545454084438\n"
     ]
    },
    {
     "data": {
      "text/plain": [
       "48×3 Array{Float64,2}:\n",
       " 101.633    8.33465     31.3264\n",
       "  73.6667   7.20927     19.9654\n",
       "  79.2369   9.77717   9588.24\n",
       " 155.951   11.1171      56.0372\n",
       " 115.827    9.39161     38.0505\n",
       " 143.396    9.82422     36.8143\n",
       " 136.952    9.35495     41.7448\n",
       " 101.223    9.79519   8627.74\n",
       "  88.5298   9.40819     24.675\n",
       "  81.8591   9.36133     26.0969\n",
       "  79.4635   9.39698   9075.45\n",
       " 112.114    9.35381   1215.72\n",
       "  78.7716   9.34317     44.6783\n",
       "   ⋮                 \n",
       " 128.094    9.79237    867.71\n",
       "  79.7074   9.78698   2963.97\n",
       " 101.066    9.79456     40.6364\n",
       " 124.03     9.36471     29.5194\n",
       " 113.662    9.7644      44.715\n",
       "  78.192    9.77141     42.9388\n",
       "  83.149    9.36022   9080.8\n",
       " 109.215    9.35909     41.7627\n",
       " 120.249    9.85564  10124.6\n",
       "  90.9305   9.36481   9069.79\n",
       "  80.9163   9.35925   9082.79\n",
       "  76.5582   9.79315    649.109"
      ]
     },
     "execution_count": 64,
     "metadata": {},
     "output_type": "execute_result"
    }
   ],
   "source": [
    "# time comparisons\n",
    "@show mean(iht_time)\n",
    "@show mean(mvPLINK_time)\n",
    "@show mean(gemma_time)\n",
    "[iht_time mvPLINK_time gemma_time]"
   ]
  },
  {
   "cell_type": "code",
   "execution_count": 63,
   "metadata": {
    "collapsed": false
   },
   "outputs": [
    {
     "name": "stdout",
     "output_type": "stream",
     "text": [
      "mean(iht_power) = 0.7249999999999998\n",
      "mean(mvPLINK_power) = 0.6270833333333333\n",
      "mean(gemma_power) = 0.6250000000000001\n"
     ]
    },
    {
     "data": {
      "text/plain": [
       "48×3 Array{Float64,2}:\n",
       " 0.7  0.5  0.5\n",
       " 0.6  0.6  0.6\n",
       " 0.8  0.6  0.6\n",
       " 0.7  0.7  0.7\n",
       " 0.6  0.6  0.6\n",
       " 0.6  0.6  0.6\n",
       " 0.7  0.6  0.6\n",
       " 0.6  0.5  0.6\n",
       " 0.8  0.7  0.7\n",
       " 0.8  0.7  0.7\n",
       " 0.8  0.8  0.8\n",
       " 0.8  0.6  0.6\n",
       " 0.8  0.6  0.6\n",
       " ⋮         \n",
       " 0.5  0.5  0.5\n",
       " 0.8  0.5  0.5\n",
       " 0.7  0.6  0.6\n",
       " 0.8  0.6  0.6\n",
       " 0.6  0.4  0.4\n",
       " 0.8  0.4  0.5\n",
       " 0.7  0.6  0.6\n",
       " 0.7  0.7  0.7\n",
       " 0.8  0.6  0.6\n",
       " 0.8  0.8  0.8\n",
       " 0.8  0.6  0.6\n",
       " 0.6  0.5  0.5"
      ]
     },
     "execution_count": 63,
     "metadata": {},
     "output_type": "execute_result"
    }
   ],
   "source": [
    "# power comparisons\n",
    "@show mean(iht_power)\n",
    "@show mean(mvPLINK_power)\n",
    "@show mean(gemma_power)\n",
    "[iht_power mvPLINK_power gemma_power]"
   ]
  },
  {
   "cell_type": "code",
   "execution_count": 65,
   "metadata": {
    "collapsed": false
   },
   "outputs": [
    {
     "name": "stdout",
     "output_type": "stream",
     "text": [
      "mean(iht_FP) = 2.125\n",
      "mean(mvPLINK_FP) = 0.08333333333333333\n",
      "mean(gemma_FP) = 0.0625\n"
     ]
    },
    {
     "data": {
      "text/plain": [
       "48×3 Array{Float64,2}:\n",
       "  7.0  0.0  0.0\n",
       "  3.0  0.0  0.0\n",
       "  1.0  1.0  0.0\n",
       "  0.0  1.0  1.0\n",
       "  2.0  0.0  0.0\n",
       "  0.0  1.0  1.0\n",
       "  1.0  0.0  0.0\n",
       "  5.0  0.0  0.0\n",
       "  0.0  0.0  0.0\n",
       "  1.0  0.0  0.0\n",
       "  0.0  0.0  0.0\n",
       "  5.0  0.0  0.0\n",
       "  8.0  0.0  0.0\n",
       "  ⋮         \n",
       "  0.0  0.0  0.0\n",
       "  4.0  0.0  0.0\n",
       " 11.0  0.0  0.0\n",
       "  0.0  0.0  0.0\n",
       "  0.0  0.0  0.0\n",
       "  8.0  0.0  0.0\n",
       "  0.0  0.0  0.0\n",
       "  0.0  0.0  0.0\n",
       "  0.0  0.0  0.0\n",
       "  2.0  0.0  0.0\n",
       "  5.0  0.0  0.0\n",
       "  0.0  0.0  0.0"
      ]
     },
     "execution_count": 65,
     "metadata": {},
     "output_type": "execute_result"
    }
   ],
   "source": [
    "# Number of false positives\n",
    "@show mean(iht_FP)\n",
    "@show mean(mvPLINK_FP)\n",
    "@show mean(gemma_FP)\n",
    "[iht_FP mvPLINK_FP gemma_FP]"
   ]
  },
  {
   "cell_type": "code",
   "execution_count": 68,
   "metadata": {
    "collapsed": false
   },
   "outputs": [
    {
     "name": "stdout",
     "output_type": "stream",
     "text": [
      "mean(iht_FPR) = 0.0002126586611114755\n",
      "mean(mvPLINK_FPR) = 8.338753543997375e-6\n",
      "mean(gemma_FPR) = 6.254169460213771e-6\n"
     ]
    },
    {
     "data": {
      "text/plain": [
       "48×3 Array{Float64,2}:\n",
       " 0.00070049   0.0         0.0\n",
       " 0.00030018   0.0         0.0\n",
       " 0.00010008   0.00010006  0.0\n",
       " 0.0          0.00010007  0.00010007\n",
       " 0.00020012   0.0         0.0\n",
       " 0.0          0.00010006  0.00010006\n",
       " 0.00010007   0.0         0.0\n",
       " 0.0005003    0.0         0.0\n",
       " 0.0          0.0         0.0\n",
       " 0.00010008   0.0         0.0\n",
       " 0.0          0.0         0.0\n",
       " 0.0005004    0.0         0.0\n",
       " 0.000800641  0.0         0.0\n",
       " ⋮                        \n",
       " 0.0          0.0         0.0\n",
       " 0.00040032   0.0         0.0\n",
       " 0.00110077   0.0         0.0\n",
       " 0.0          0.0         0.0\n",
       " 0.0          0.0         0.0\n",
       " 0.000800641  0.0         0.0\n",
       " 0.0          0.0         0.0\n",
       " 0.0          0.0         0.0\n",
       " 0.0          0.0         0.0\n",
       " 0.00020016   0.0         0.0\n",
       " 0.0005004    0.0         0.0\n",
       " 0.0          0.0         0.0"
      ]
     },
     "execution_count": 68,
     "metadata": {},
     "output_type": "execute_result"
    }
   ],
   "source": [
    "# False positive rates\n",
    "@show mean(iht_FPR)\n",
    "@show mean(mvPLINK_FPR)\n",
    "@show mean(gemma_FPR)\n",
    "[iht_FPR mvPLINK_FPR gemma_FPR]"
   ]
  },
  {
   "cell_type": "code",
   "execution_count": null,
   "metadata": {
    "collapsed": true
   },
   "outputs": [],
   "source": []
  }
 ],
 "metadata": {
  "@webio": {
   "lastCommId": null,
   "lastKernelId": null
  },
  "kernelspec": {
   "display_name": "Julia 1.5.0",
   "language": "julia",
   "name": "julia-1.5"
  },
  "language_info": {
   "file_extension": ".jl",
   "mimetype": "application/julia",
   "name": "julia",
   "version": "1.5.0"
  }
 },
 "nbformat": 4,
 "nbformat_minor": 2
}
