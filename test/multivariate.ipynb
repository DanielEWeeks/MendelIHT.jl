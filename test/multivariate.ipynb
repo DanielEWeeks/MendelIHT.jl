{
 "cells": [
  {
   "cell_type": "code",
   "execution_count": 1,
   "metadata": {
    "collapsed": false
   },
   "outputs": [],
   "source": [
    "using Distributed\n",
    "# addprocs(4)\n",
    "\n",
    "@everywhere begin\n",
    "    using Revise\n",
    "    using MendelIHT\n",
    "    using SnpArrays\n",
    "    using Random\n",
    "    using GLM\n",
    "    using DelimitedFiles\n",
    "    using Test\n",
    "    using Distributions\n",
    "    using LinearAlgebra\n",
    "    using CSV\n",
    "    using DataFrames\n",
    "#     using StatsBase\n",
    "#     using TraitSimulation, OrdinalMultinomialModels, VarianceComponentModels\n",
    "end\n",
    "\n",
    "using Plots"
   ]
  },
  {
   "cell_type": "code",
   "execution_count": 31,
   "metadata": {
    "collapsed": false
   },
   "outputs": [],
   "source": [
    "n = 1000  # number of samples\n",
    "p = 10000 # number of SNPs\n",
    "k = 10    # number of causal SNPs per trait\n",
    "d = Bernoulli\n",
    "l = canonicallink(d())\n",
    "\n",
    "# set random seed for reproducibility\n",
    "Random.seed!(2021)\n",
    "\n",
    "# simulate `.bed` file with no missing data\n",
    "x = simulate_random_snparray(undef, n, p)\n",
    "xla = SnpLinAlg{Float64}(x, model=ADDITIVE_MODEL, center=false, scale=false) \n",
    "# xla = randn(n, p)\n",
    "\n",
    "# intercept is the only nongenetic covariate\n",
    "z = ones(n)\n",
    "intercept = 1.0\n",
    "\n",
    "# simulate response y, true model b, and the correct non-0 positions of b\n",
    "Y, true_b, correct_position = simulate_random_response(xla, k, d, l, Zu=z*intercept);"
   ]
  },
  {
   "cell_type": "code",
   "execution_count": 32,
   "metadata": {
    "collapsed": false
   },
   "outputs": [
    {
     "name": "stdout",
     "output_type": "stream",
     "text": [
      "****                   MendelIHT Version 1.3.3                  ****\n",
      "****     Benjamin Chu, Kevin Keys, Chris German, Hua Zhou       ****\n",
      "****   Jin Zhou, Eric Sobel, Janet Sinsheimer, Kenneth Lange    ****\n",
      "****                                                            ****\n",
      "****                 Please cite our paper!                     ****\n",
      "****         https://doi.org/10.1093/gigascience/giaa044        ****\n",
      "\n",
      "Running sparse logistic regression\n",
      "Link functin = LogitLink()\n",
      "Sparsity parameter (k) = 11\n",
      "Prior weight scaling = off\n",
      "Doubly sparse projection = off\n",
      "Debias = off\n",
      "Max IHT iterations = 200\n",
      "Converging when tol < 0.0001:\n",
      "\n",
      "Iteration 1: loglikelihood = -554.6619325771267, backtracks = 0, tol = 0.9758101175367128\n",
      "Iteration 2: loglikelihood = -547.0018773840112, backtracks = 0, tol = 0.03208064398305421\n",
      "Iteration 3: loglikelihood = -542.5469794022887, backtracks = 0, tol = 0.05432766735561841\n",
      "Iteration 4: loglikelihood = -540.2205139770216, backtracks = 0, tol = 0.016240991933993452\n",
      "Iteration 5: loglikelihood = -538.676744391866, backtracks = 0, tol = 0.03699050178991762\n",
      "Iteration 6: loglikelihood = -537.7461306393647, backtracks = 0, tol = 0.00960855623219975\n",
      "Iteration 7: loglikelihood = -537.1038388892603, backtracks = 0, tol = 0.02646031071919198\n",
      "Iteration 8: loglikelihood = -536.6870243836925, backtracks = 0, tol = 0.006097556091463253\n",
      "Iteration 9: loglikelihood = -536.3935330872149, backtracks = 0, tol = 0.019194551951058316\n",
      "Iteration 10: loglikelihood = -536.1947732379842, backtracks = 0, tol = 0.004037430136706027\n",
      "Iteration 11: loglikelihood = -536.0531792280555, backtracks = 0, tol = 0.013978136765119041\n",
      "Iteration 12: loglikelihood = -535.9547997871405, backtracks = 0, tol = 0.002749436697792062\n",
      "Iteration 13: loglikelihood = -535.884220037383, backtracks = 0, tol = 0.01018624311017431\n",
      "Iteration 14: loglikelihood = -535.8344061109432, backtracks = 0, tol = 0.0019084671633402559\n",
      "Iteration 15: loglikelihood = -535.7985135004928, backtracks = 0, tol = 0.007420874059168852\n",
      "Iteration 16: loglikelihood = -535.7729323736368, backtracks = 0, tol = 0.001342328369698395\n",
      "Iteration 17: loglikelihood = -535.7544504523725, backtracks = 0, tol = 0.005403592992951098\n",
      "Iteration 18: loglikelihood = -535.7411960745089, backtracks = 0, tol = 0.0009528584507247225\n",
      "Iteration 19: loglikelihood = -535.7316034976958, backtracks = 0, tol = 0.003932869090135649\n",
      "Iteration 20: loglikelihood = -535.7246963396423, backtracks = 0, tol = 0.0006807770231426777\n",
      "Iteration 21: loglikelihood = -535.7196917954467, backtracks = 0, tol = 0.00286136465659968\n",
      "Iteration 22: loglikelihood = -535.7160786056846, backtracks = 0, tol = 0.0004886162584175369\n",
      "Iteration 23: loglikelihood = -535.7134587129248, backtracks = 0, tol = 0.0020811864144987804\n",
      "Iteration 24: loglikelihood = -535.7115637709486, backtracks = 0, tol = 0.0003518411246568635\n",
      "Iteration 25: loglikelihood = -535.7101890547294, backtracks = 0, tol = 0.0015133973762506186\n",
      "Iteration 26: loglikelihood = -535.7091934970572, backtracks = 0, tol = 0.00025394552776250134\n",
      "Iteration 27: loglikelihood = -535.7084709929923, backtracks = 0, tol = 0.001100327218926625\n",
      "Iteration 28: loglikelihood = -535.7079473066559, backtracks = 0, tol = 0.00018363543858825924\n",
      "Iteration 29: loglikelihood = -535.7075671554618, backtracks = 0, tol = 0.0007998970476375521\n",
      "Iteration 30: loglikelihood = -535.7072914445798, backtracks = 0, tol = 0.00013339678431886423\n",
      "Iteration 31: loglikelihood = -535.7070912653579, backtracks = 0, tol = 0.0005814354699804731\n",
      "Iteration 32: loglikelihood = -535.7069460185786, backtracks = 0, tol = 9.690883562251049e-5\n",
      "  0.393957 seconds (1.16 M allocations: 30.872 MiB)\n"
     ]
    },
    {
     "data": {
      "text/plain": [
       "\n",
       "IHT estimated 11 nonzero SNP predictors and 0 non-genetic predictors.\n",
       "\n",
       "Compute time (sec):     0.1845078468322754\n",
       "Final loglikelihood:    -535.7069460185786\n",
       "SNP PVE:                0.28111616944580453\n",
       "Iterations:             32\n",
       "\n",
       "Selected genetic predictors:\n",
       "\u001b[1m11×2 DataFrame\u001b[0m\n",
       "\u001b[1m Row \u001b[0m│\u001b[1m Position \u001b[0m\u001b[1m Estimated_β \u001b[0m\n",
       "\u001b[1m     \u001b[0m│\u001b[90m Int64    \u001b[0m\u001b[90m Float64     \u001b[0m\n",
       "─────┼───────────────────────\n",
       "   1 │      109     0.321883\n",
       "   2 │      901     0.641225\n",
       "   3 │     1272     0.299127\n",
       "   4 │     1306    -1.38482\n",
       "   5 │     3160    -0.808747\n",
       "   6 │     6977     0.272261\n",
       "   7 │     7125     0.334184\n",
       "   8 │     7666    -0.291595\n",
       "   9 │     7845     0.216033\n",
       "  10 │     8196    -0.504595\n",
       "  11 │     8356     0.273138\n",
       "\n",
       "Selected nongenetic predictors:\n",
       "\u001b[1m0×2 DataFrame\u001b[0m"
      ]
     },
     "execution_count": 32,
     "metadata": {},
     "output_type": "execute_result"
    }
   ],
   "source": [
    "@time result = fit_iht(Y, xla, z, d=d(), l=l, k=11, max_iter=200)"
   ]
  },
  {
   "cell_type": "code",
   "execution_count": 156,
   "metadata": {
    "collapsed": false
   },
   "outputs": [
    {
     "data": {
      "text/plain": [
       "10×2 Array{Float64,2}:\n",
       " -0.409548  -0.402269\n",
       "  0.778765   0.758756\n",
       "  0.0        0.729135\n",
       " -1.29883   -1.47163\n",
       "  0.0       -0.172668\n",
       " -0.806892  -0.847906\n",
       "  0.407596   0.296183\n",
       "  0.0       -0.0034339\n",
       "  0.0        0.125965\n",
       "  0.0       -1.24972"
      ]
     },
     "execution_count": 156,
     "metadata": {},
     "output_type": "execute_result"
    }
   ],
   "source": [
    "# compare estimated vs true beta values\n",
    "[result.beta[correct_position] true_b[correct_position]]"
   ]
  },
  {
   "cell_type": "code",
   "execution_count": null,
   "metadata": {
    "collapsed": true
   },
   "outputs": [],
   "source": [
    "# 4 cores\n",
    "Random.seed!(2020)\n",
    "@time mses_new = cv_iht(Y, x, z, d=d(), l=l, parallel=false);"
   ]
  },
  {
   "cell_type": "code",
   "execution_count": 33,
   "metadata": {
    "collapsed": false
   },
   "outputs": [
    {
     "name": "stdout",
     "output_type": "stream",
     "text": [
      "\n",
      "\n",
      "Crossvalidation Results:\n",
      "\tk\tMSE\n",
      "\t1\t264.5166182634702\n",
      "\t2\t240.01120015624184\n",
      "\t3\t242.3564405332609\n",
      "\t4\t243.10876076665605\n",
      "\t5\t243.162690203814\n",
      "\t6\t249.43496046496531\n",
      "\t7\t249.20511781111668\n",
      "\t8\t251.04090065842792\n",
      "\t9\t254.11622482996984\n",
      "\t10\t252.60894556700188\n",
      "\t11\t254.89456542211568\n",
      "\t12\t260.5798335078928\n",
      "\t13\t264.86156624292505\n",
      "\t14\t263.74027928352297\n",
      "\t15\t265.0859963710328\n",
      "\t16\t268.83946322734135\n",
      "\t17\t271.68723742679094\n",
      "\t18\t272.467331016422\n",
      "\t19\t275.4841674496239\n",
      "\t20\t279.4556514583269\n",
      "\n",
      "Best k = 2\n",
      "\n",
      " 28.380621 seconds (136.52 M allocations: 2.514 GiB, 1.76% gc time)\n"
     ]
    }
   ],
   "source": [
    "# 4 cores\n",
    "Random.seed!(2020)\n",
    "@time mses_new = cv_iht(Y, xla, z, d=d(), l=l, parallel=false);"
   ]
  },
  {
   "cell_type": "code",
   "execution_count": null,
   "metadata": {
    "collapsed": true
   },
   "outputs": [],
   "source": []
  },
  {
   "cell_type": "code",
   "execution_count": null,
   "metadata": {
    "collapsed": true
   },
   "outputs": [],
   "source": []
  },
  {
   "cell_type": "code",
   "execution_count": null,
   "metadata": {
    "collapsed": true
   },
   "outputs": [],
   "source": []
  },
  {
   "cell_type": "code",
   "execution_count": 21,
   "metadata": {
    "collapsed": false
   },
   "outputs": [
    {
     "name": "stdout",
     "output_type": "stream",
     "text": [
      "\n",
      "\n",
      "Crossvalidation Results:\n",
      "\tk\tMSE\n",
      "\t1\t518.2617403946808\n",
      "\t2\t379.62545459656906\n",
      "\t3\t323.0760714431473\n",
      "\t4\t283.7949541389568\n",
      "\t5\t250.9659367110773\n",
      "\t6\t230.66690161722968\n",
      "\t7\t219.07336709256512\n",
      "\t8\t217.54583143511786\n",
      "\t9\t217.44015748198396\n",
      "\t10\t219.46436312681257\n",
      "\t11\t222.24711247636577\n",
      "\t12\t227.19013712219456\n",
      "\t13\t231.40334004949085\n",
      "\t14\t236.08749234318697\n",
      "\t15\t237.97439906266757\n",
      "\t16\t245.25297598000628\n",
      "\t17\t245.94959965186666\n",
      "\t18\t243.42274516309308\n",
      "\t19\t249.64405930927845\n",
      "\t20\t254.28879222313236\n",
      "\n",
      "Best k = 9\n",
      "\n",
      " 11.124177 seconds (17.17 k allocations: 6.126 MiB)\n"
     ]
    }
   ],
   "source": [
    "# 4 cores\n",
    "Random.seed!(2020)\n",
    "@time mses_new = cv_iht(Y, xla, z, d=d(), l=l, parallel=true);"
   ]
  },
  {
   "cell_type": "code",
   "execution_count": null,
   "metadata": {
    "collapsed": true
   },
   "outputs": [],
   "source": []
  },
  {
   "cell_type": "code",
   "execution_count": null,
   "metadata": {
    "collapsed": true
   },
   "outputs": [],
   "source": []
  },
  {
   "cell_type": "code",
   "execution_count": null,
   "metadata": {
    "collapsed": true
   },
   "outputs": [],
   "source": []
  },
  {
   "cell_type": "code",
   "execution_count": null,
   "metadata": {
    "collapsed": true
   },
   "outputs": [],
   "source": []
  },
  {
   "cell_type": "code",
   "execution_count": 68,
   "metadata": {
    "collapsed": false,
    "scrolled": true
   },
   "outputs": [
    {
     "name": "stdout",
     "output_type": "stream",
     "text": [
      "****                   MendelIHT Version 1.3.3                  ****\n",
      "****     Benjamin Chu, Kevin Keys, Chris German, Hua Zhou       ****\n",
      "****   Jin Zhou, Eric Sobel, Janet Sinsheimer, Kenneth Lange    ****\n",
      "****                                                            ****\n",
      "****                 Please cite our paper!                     ****\n",
      "****         https://doi.org/10.1093/gigascience/giaa044        ****\n",
      "\n",
      "Running sparse Multivariate Gaussian regression\n",
      "Link functin = IdentityLink()\n",
      "Sparsity parameter (k) = 11\n",
      "Prior weight scaling = off\n",
      "Doubly sparse projection = off\n",
      "Debias = off\n",
      "Max IHT iterations = 200\n",
      "Converging when tol < 0.0001:\n",
      "\n",
      "Iteration 1: loglikelihood = 986.9742364141689, backtracks = 0, tol = 0.036113254695994065\n",
      "Iteration 2: loglikelihood = 1111.277797123702, backtracks = 0, tol = 0.0171347337978472\n",
      "Iteration 3: loglikelihood = 1102.4722535766168, backtracks = 5, tol = 0.00020701446671968646\n",
      "Iteration 4: loglikelihood = 1106.0417799860047, backtracks = 0, tol = 0.01182974433512683\n",
      "Iteration 5: loglikelihood = 1198.0675261556398, backtracks = 0, tol = 0.022972582851146565\n",
      "Iteration 6: loglikelihood = 1093.7237814944492, backtracks = 5, tol = 0.00026833323636265123\n",
      "Iteration 7: loglikelihood = 1100.9339622234882, backtracks = 0, tol = 0.00855897890594454\n",
      "Iteration 8: loglikelihood = 1279.2774101390578, backtracks = 0, tol = 0.0040680394271830475\n",
      "Iteration 9: loglikelihood = 1305.7636128129936, backtracks = 0, tol = 0.003975778074711946\n",
      "Iteration 10: loglikelihood = 1319.3113995566146, backtracks = 0, tol = 0.010519861156610216\n",
      "Iteration 11: loglikelihood = 1349.876227791804, backtracks = 0, tol = 0.002049675519975537\n",
      "Iteration 12: loglikelihood = 1357.2343502573638, backtracks = 0, tol = 0.004573978513840439\n",
      "Iteration 13: loglikelihood = 1368.5822571720014, backtracks = 0, tol = 0.003533870710105712\n",
      "Iteration 14: loglikelihood = 1376.681740973588, backtracks = 0, tol = 0.0033752656950892025\n",
      "Iteration 15: loglikelihood = 1384.0141174741584, backtracks = 0, tol = 0.002412413186957317\n",
      "Iteration 16: loglikelihood = 1388.8466050888826, backtracks = 0, tol = 0.002792843444466137\n",
      "Iteration 17: loglikelihood = 1394.0856087249178, backtracks = 0, tol = 0.001878424892845794\n",
      "Iteration 18: loglikelihood = 1397.2880429748334, backtracks = 0, tol = 0.0023672217177557906\n",
      "Iteration 19: loglikelihood = 1401.1638128040554, backtracks = 0, tol = 0.0015980466970119882\n",
      "Iteration 20: loglikelihood = 1403.578246665995, backtracks = 0, tol = 0.0019721871928097432\n",
      "Iteration 21: loglikelihood = 1406.4749063180877, backtracks = 0, tol = 0.0014497515289448894\n",
      "Iteration 22: loglikelihood = 1408.4678894507429, backtracks = 0, tol = 0.001654928805207679\n",
      "Iteration 23: loglikelihood = 1410.6894380419758, backtracks = 0, tol = 0.0013411465582154058\n",
      "Iteration 24: loglikelihood = 1412.3976257509075, backtracks = 0, tol = 0.0014188236440557495\n",
      "Iteration 25: loglikelihood = 1414.163333035382, backtracks = 0, tol = 0.0012403379609644066\n",
      "Iteration 26: loglikelihood = 1415.6454332096466, backtracks = 0, tol = 0.001246269728084534\n",
      "Iteration 27: loglikelihood = 1417.100436253442, backtracks = 0, tol = 0.0011428860790463843\n",
      "Iteration 28: loglikelihood = 1418.3931201019468, backtracks = 0, tol = 0.001117520039762568\n",
      "Iteration 29: loglikelihood = 1419.6290844568834, backtracks = 0, tol = 0.0010518716196681924\n",
      "Iteration 30: loglikelihood = 1420.7631019565224, backtracks = 0, tol = 0.0010170871672030538\n",
      "Iteration 31: loglikelihood = 1421.8370343619315, backtracks = 0, tol = 0.0009699372560505009\n",
      "Iteration 32: loglikelihood = 1422.8395141652807, backtracks = 0, tol = 0.0009520600990473687\n",
      "Iteration 33: loglikelihood = 1423.7878610401376, backtracks = 0, tol = 0.0009351724967076546\n",
      "Iteration 34: loglikelihood = 1424.6816415201981, backtracks = 0, tol = 0.0009249723599421485\n",
      "Iteration 35: loglikelihood = 1425.5290845327147, backtracks = 0, tol = 0.0009123009571113693\n",
      "Iteration 36: loglikelihood = 1426.3325822185216, backtracks = 0, tol = 0.0009022883882553977\n",
      "Iteration 37: loglikelihood = 1427.096862581628, backtracks = 0, tol = 0.0008919023311674635\n",
      "Iteration 38: loglikelihood = 1427.82464005557, backtracks = 0, tol = 0.0008827703827718016\n",
      "Iteration 39: loglikelihood = 1428.5191046791151, backtracks = 0, tol = 0.0008738833092360762\n",
      "Iteration 40: loglikelihood = 1429.1826531201386, backtracks = 0, tol = 0.0008657386505756292\n",
      "Iteration 41: loglikelihood = 1429.8176578835219, backtracks = 0, tol = 0.0008579837433331832\n",
      "Iteration 42: loglikelihood = 1430.426107843347, backtracks = 0, tol = 0.0008507588207630618\n",
      "Iteration 43: loglikelihood = 1431.00985918251, backtracks = 0, tol = 0.0008439261980814385\n",
      "Iteration 44: loglikelihood = 1431.5705403011589, backtracks = 0, tol = 0.0008375146114170167\n",
      "Iteration 45: loglikelihood = 1432.1096429119261, backtracks = 0, tol = 0.0008314596279165121\n",
      "Iteration 46: loglikelihood = 1432.6285025878374, backtracks = 0, tol = 0.0008257560432589045\n",
      "Iteration 47: loglikelihood = 1433.128337636897, backtracks = 0, tol = 0.0008203664411439959\n",
      "Iteration 48: loglikelihood = 1433.6102503401903, backtracks = 0, tol = 0.0008152761308765097\n",
      "Iteration 49: loglikelihood = 1434.0752469586391, backtracks = 0, tol = 0.0008104589696124845\n",
      "Iteration 50: loglikelihood = 1434.5242437438728, backtracks = 0, tol = 0.0008058984249098046\n",
      "Iteration 51: loglikelihood = 1434.9580790651237, backtracks = 0, tol = 0.0008015738377552454\n",
      "Iteration 52: loglikelihood = 1435.3775197125206, backtracks = 0, tol = 0.0007974690953905131\n",
      "Iteration 53: loglikelihood = 1435.7832691313406, backtracks = 0, tol = 0.0007935666203863372\n",
      "Iteration 54: loglikelihood = 1436.175972900408, backtracks = 0, tol = 0.0007898512368024139\n",
      "Iteration 55: loglikelihood = 1436.5562247247744, backtracks = 0, tol = 0.00078630727475258\n",
      "Iteration 56: loglikelihood = 1436.924570944399, backtracks = 0, tol = 0.0007829204486956042\n",
      "Iteration 57: loglikelihood = 1437.2815150809736, backtracks = 0, tol = 0.0007796763079999518\n",
      "Iteration 58: loglikelihood = 1437.6275214896864, backtracks = 0, tol = 0.0007765612379203285\n",
      "Iteration 59: loglikelihood = 1437.9630189026893, backtracks = 0, tol = 0.0007735615328430314\n",
      "Iteration 60: loglikelihood = 1438.2884033823398, backtracks = 0, tol = 0.0007706639861853475\n",
      "Iteration 61: loglikelihood = 1438.6040411369718, backtracks = 0, tol = 0.000767855269478554\n",
      "Iteration 62: loglikelihood = 1438.910270920704, backtracks = 0, tol = 0.0007651223213553439\n",
      "Iteration 63: loglikelihood = 1439.2074063075665, backtracks = 0, tol = 0.00076245188229248\n",
      "Iteration 64: loglikelihood = 1439.4957376574453, backtracks = 0, tol = 0.0007598307863038199\n",
      "Iteration 65: loglikelihood = 1439.775533981208, backtracks = 0, tol = 0.0007572455724579611\n",
      "Iteration 66: loglikelihood = 1440.0470445679753, backtracks = 0, tol = 0.0007546827379801132\n",
      "Iteration 67: loglikelihood = 1440.3105005397915, backtracks = 0, tol = 0.0007521283777245292\n",
      "Iteration 68: loglikelihood = 1440.5661162151266, backtracks = 0, tol = 0.0007495684410338916\n",
      "Iteration 69: loglikelihood = 1440.8140904288882, backtracks = 0, tol = 0.0007469883592106326\n",
      "Iteration 70: loglikelihood = 1441.054607690859, backtracks = 0, tol = 0.0007443733496137018\n",
      "Iteration 71: loglikelihood = 1441.2878393315182, backtracks = 0, tol = 0.00074170798355013\n",
      "Iteration 72: loglikelihood = 1441.5139445007273, backtracks = 0, tol = 0.0007389766007148488\n",
      "Iteration 73: loglikelihood = 1441.733071190205, backtracks = 0, tol = 0.0007361627388420803\n",
      "Iteration 74: loglikelihood = 1441.9453571052945, backtracks = 0, tol = 0.0007332497746872038\n",
      "Iteration 75: loglikelihood = 1442.1509306108587, backtracks = 0, tol = 0.0007302200552995059\n",
      "Iteration 76: loglikelihood = 1442.3499114943281, backtracks = 0, tol = 0.0007270560148380414\n",
      "Iteration 77: loglikelihood = 1442.5424118861442, backtracks = 0, tol = 0.0007237386352600362\n",
      "Iteration 78: loglikelihood = 1442.728536907961, backtracks = 0, tol = 0.0007202496408575561\n",
      "Iteration 79: loglikelihood = 1442.9083856420525, backtracks = 0, tol = 0.000716568326090931\n",
      "Iteration 80: loglikelihood = 1443.0820516044437, backtracks = 0, tol = 0.0007126764489674461\n",
      "Iteration 81: loglikelihood = 1443.2496239138995, backtracks = 0, tol = 0.000708550668383902\n",
      "Iteration 82: loglikelihood = 1443.4111873823329, backtracks = 0, tol = 0.0007041750085035397\n",
      "Iteration 83: loglikelihood = 1443.5668242792776, backtracks = 0, tol = 0.0006995201125295413\n",
      "Iteration 84: loglikelihood = 1443.7166133691626, backtracks = 0, tol = 0.0006945796611313924\n",
      "Iteration 85: loglikelihood = 1443.8606335114573, backtracks = 0, tol = 0.0006893050932705589\n",
      "Iteration 86: loglikelihood = 1443.9989593400683, backtracks = 0, tol = 0.0006837277953305221\n",
      "Iteration 87: loglikelihood = 1444.1316711259, backtracks = 0, tol = 0.0006777238213760649\n",
      "Iteration 88: loglikelihood = 1444.2588383475202, backtracks = 0, tol = 0.0006714842195690345\n",
      "Iteration 89: loglikelihood = 1444.3805535614338, backtracks = 0, tol = 0.0006645445539312907\n",
      "Iteration 90: loglikelihood = 1444.496866760915, backtracks = 0, tol = 0.0006578579867297898\n",
      "Iteration 91: loglikelihood = 1444.6079229090074, backtracks = 0, tol = 0.0006492199509203641\n",
      "Iteration 92: loglikelihood = 1444.7136709071137, backtracks = 0, tol = 0.0006437084835861727\n",
      "Iteration 93: loglikelihood = 1444.8145048590436, backtracks = 0, tol = 0.0006290801976048304\n",
      "Iteration 94: loglikelihood = 1444.909809552673, backtracks = 0, tol = 0.0006357054971664354\n",
      "Iteration 95: loglikelihood = 1445.0013417288872, backtracks = 0, tol = 0.000586172855945454\n",
      "Iteration 96: loglikelihood = 1445.0849560185761, backtracks = 0, tol = 0.0006873515243971238\n",
      "Iteration 97: loglikelihood = 1445.1696612520846, backtracks = 0, tol = 0.0003964127012772718\n",
      "Iteration 98: loglikelihood = 1445.2247188679112, backtracks = 0, tol = 0.0014119861429438372\n",
      "Iteration 99: loglikelihood = 1445.0232333817094, backtracks = 5, tol = 1.61807740673508e-5\n",
      " 10.938672 seconds (188.01 k allocations: 28.672 MiB, 0.18% gc time)\n"
     ]
    },
    {
     "data": {
      "text/plain": [
       "\n",
       "Compute time (sec):     10.736522912979126\n",
       "Final loglikelihood:    1445.0232333817094\n",
       "Iterations:             99\n",
       "Trait 1's SNP PVE:      0.08306523208494782\n",
       "Trait 2's SNP PVE:      0.3088193808123124\n",
       "\n",
       "Trait 1: IHT estimated 1 nonzero SNP predictors\n",
       "\u001b[1m1×2 DataFrame\u001b[0m\n",
       "\u001b[1m Row \u001b[0m│\u001b[1m Position \u001b[0m\u001b[1m Estimated_β \u001b[0m\n",
       "\u001b[1m     \u001b[0m│\u001b[90m Int64    \u001b[0m\u001b[90m Float64     \u001b[0m\n",
       "─────┼───────────────────────\n",
       "   1 │     5797    -0.738157\n",
       "\n",
       "Trait 1: IHT estimated 1 non-genetic predictors\n",
       "\u001b[1m1×2 DataFrame\u001b[0m\n",
       "\u001b[1m Row \u001b[0m│\u001b[1m Position \u001b[0m\u001b[1m Estimated_β \u001b[0m\n",
       "\u001b[1m     \u001b[0m│\u001b[90m Int64    \u001b[0m\u001b[90m Float64     \u001b[0m\n",
       "─────┼───────────────────────\n",
       "   1 │        1      9.75008\n",
       "\n",
       "Trait 2: IHT estimated 8 nonzero SNP predictors\n",
       "\u001b[1m8×2 DataFrame\u001b[0m\n",
       "\u001b[1m Row \u001b[0m│\u001b[1m Position \u001b[0m\u001b[1m Estimated_β \u001b[0m\n",
       "\u001b[1m     \u001b[0m│\u001b[90m Int64    \u001b[0m\u001b[90m Float64     \u001b[0m\n",
       "─────┼───────────────────────\n",
       "   1 │     2110     0.549447\n",
       "   2 │     3338    -0.137318\n",
       "   3 │     3609    -0.152249\n",
       "   4 │     5375     1.14687\n",
       "   5 │     6015     0.82672\n",
       "   6 │     6813     1.36067\n",
       "   7 │     7704    -0.19158\n",
       "   8 │     9656    -0.146871\n",
       "\n",
       "Trait 2: IHT estimated 1 non-genetic predictors\n",
       "\u001b[1m1×2 DataFrame\u001b[0m\n",
       "\u001b[1m Row \u001b[0m│\u001b[1m Position \u001b[0m\u001b[1m Estimated_β \u001b[0m\n",
       "\u001b[1m     \u001b[0m│\u001b[90m Int64    \u001b[0m\u001b[90m Float64     \u001b[0m\n",
       "─────┼───────────────────────\n",
       "   1 │        1      2.08646\n"
      ]
     },
     "execution_count": 68,
     "metadata": {},
     "output_type": "execute_result"
    },
    {
     "name": "stdout",
     "output_type": "stream",
     "text": [
      "\n"
     ]
    }
   ],
   "source": [
    "n = 1000  # number of samples\n",
    "p = 10000 # number of SNPs\n",
    "k = 10    # number of causal SNPs\n",
    "r = 2     # number of traits\n",
    "\n",
    "# set random seed for reproducibility\n",
    "Random.seed!(2021)\n",
    "\n",
    "# simulate `.bed` file with no missing data\n",
    "x = simulate_random_snparray(\"multivariate_$(r)traits.bed\", n, p)\n",
    "xla = SnpLinAlg{Float64}(x, model=ADDITIVE_MODEL, center=false, scale=false) \n",
    "\n",
    "# intercept is the only nongenetic covariate\n",
    "z = ones(n, 1)\n",
    "intercepts = [10.0 1.0] # each trait have different intercept\n",
    "\n",
    "# simulate response y, true model b, and the correct non-0 positions of b\n",
    "Y, true_Σ, true_b, correct_position = simulate_random_response(xla, k, r, Zu=z*intercepts, overlap=2);\n",
    "\n",
    "Yt = Matrix(Y')\n",
    "Zt = Matrix(z')\n",
    "ktrue = k + count(!iszero, intercepts)\n",
    "@time result = fit_iht(Yt, Transpose(xla), Zt, k=11, verbose=true)"
   ]
  },
  {
   "cell_type": "code",
   "execution_count": 69,
   "metadata": {
    "collapsed": false
   },
   "outputs": [
    {
     "data": {
      "text/plain": [
       "4×2 Array{Float64,2}:\n",
       "  0.0       -0.224675\n",
       " -0.738157  -1.14044\n",
       "  0.0       -0.14698\n",
       "  0.0        1.25668"
      ]
     },
     "execution_count": 69,
     "metadata": {},
     "output_type": "execute_result"
    }
   ],
   "source": [
    "# first beta\n",
    "β1 = result.beta[1, :]\n",
    "true_b1_idx = findall(!iszero, true_b[:, 1])\n",
    "[β1[true_b1_idx] true_b[true_b1_idx, 1]]"
   ]
  },
  {
   "cell_type": "code",
   "execution_count": 70,
   "metadata": {
    "collapsed": false
   },
   "outputs": [
    {
     "data": {
      "text/plain": [
       "6×2 Array{Float64,2}:\n",
       " 0.0       0.315219\n",
       " 0.549447  0.609812\n",
       " 1.14687   1.20121\n",
       " 0.0       0.531549\n",
       " 0.82672   0.808327\n",
       " 1.36067   1.43455"
      ]
     },
     "execution_count": 70,
     "metadata": {},
     "output_type": "execute_result"
    }
   ],
   "source": [
    "# second beta\n",
    "β2 = result.beta[2, :]\n",
    "true_b2_idx = findall(!iszero, true_b[:, 2])\n",
    "[β2[true_b2_idx] true_b[true_b2_idx, 2]]"
   ]
  },
  {
   "cell_type": "code",
   "execution_count": 63,
   "metadata": {
    "collapsed": false
   },
   "outputs": [
    {
     "data": {
      "text/plain": [
       "2×2 Array{Float64,2}:\n",
       " 9.75008  10.0\n",
       " 2.08646   1.0"
      ]
     },
     "execution_count": 63,
     "metadata": {},
     "output_type": "execute_result"
    }
   ],
   "source": [
    "# non genetic covariates\n",
    "[result.c intercepts']"
   ]
  },
  {
   "cell_type": "code",
   "execution_count": 64,
   "metadata": {
    "collapsed": false
   },
   "outputs": [
    {
     "data": {
      "text/plain": [
       "4×2 Array{Float64,2}:\n",
       "  2.69331   2.53934\n",
       " -1.91611  -1.85399\n",
       " -1.91611  -1.85399\n",
       "  2.48976   2.41416"
      ]
     },
     "execution_count": 64,
     "metadata": {},
     "output_type": "execute_result"
    }
   ],
   "source": [
    "# covariance matrix\n",
    "[vec(result.Σ) vec(true_Σ)]"
   ]
  },
  {
   "cell_type": "code",
   "execution_count": null,
   "metadata": {
    "collapsed": true
   },
   "outputs": [],
   "source": [
    "Random.seed!(2020)\n",
    "# Yt = Matrix(Y')\n",
    "# Zt = Matrix(z')\n",
    "@time mses = cv_iht(Yt, x, Zt, path=1:5, parallel=false);"
   ]
  },
  {
   "cell_type": "code",
   "execution_count": 91,
   "metadata": {
    "collapsed": false
   },
   "outputs": [
    {
     "name": "stdout",
     "output_type": "stream",
     "text": [
      "\n",
      "\n",
      "Crossvalidation Results:\n",
      "\tk\tMSE\n",
      "\t1\t3312.48984039645\n",
      "\t2\t1430.2094148362005\n",
      "\t3\t1321.5036902085894\n",
      "\t4\t1304.2954770057634\n",
      "\t5\t1146.8074964779294\n",
      "\n",
      "Best k = 5\n",
      "\n",
      "221.986211 seconds (518.31 k allocations: 578.356 MiB, 0.04% gc time)\n"
     ]
    }
   ],
   "source": [
    "Random.seed!(2020)\n",
    "# Yt = Matrix(Y')\n",
    "# Zt = Matrix(z')\n",
    "@time mses = cv_iht(Yt, Transpose(xla), Zt, path=1:5, parallel=false);"
   ]
  },
  {
   "cell_type": "code",
   "execution_count": null,
   "metadata": {
    "collapsed": true
   },
   "outputs": [],
   "source": []
  },
  {
   "cell_type": "code",
   "execution_count": null,
   "metadata": {
    "collapsed": true
   },
   "outputs": [],
   "source": []
  },
  {
   "cell_type": "code",
   "execution_count": null,
   "metadata": {
    "collapsed": true
   },
   "outputs": [],
   "source": []
  },
  {
   "cell_type": "code",
   "execution_count": null,
   "metadata": {
    "collapsed": true
   },
   "outputs": [],
   "source": []
  },
  {
   "cell_type": "code",
   "execution_count": null,
   "metadata": {
    "collapsed": true
   },
   "outputs": [],
   "source": []
  },
  {
   "cell_type": "code",
   "execution_count": null,
   "metadata": {
    "collapsed": true
   },
   "outputs": [],
   "source": []
  },
  {
   "cell_type": "code",
   "execution_count": null,
   "metadata": {
    "collapsed": true
   },
   "outputs": [],
   "source": []
  },
  {
   "cell_type": "markdown",
   "metadata": {},
   "source": [
    "# First simulate multivariate Gaussian traits\n",
    "\n",
    "\n",
    "With $r$ traits, each sample's phenotype $\\mathbf{y}_{i}$ is simulated under\n",
    "\n",
    "$$\\mathbf{y}_{i}^{r \\times 1} \\sim N(\\mathbf{B}^{r \\times p}\\mathbf{x}_{i}^{p \\times 1}, \\ \\ \\Sigma_{r \\times r})$$"
   ]
  },
  {
   "cell_type": "code",
   "execution_count": 2,
   "metadata": {
    "collapsed": false
   },
   "outputs": [],
   "source": [
    "n = 1000  # number of samples\n",
    "p = 10000 # number of SNPs\n",
    "k = 10    # number of causal SNPs\n",
    "r = 2     # number of traits\n",
    "\n",
    "# set random seed for reproducibility\n",
    "Random.seed!(2021)\n",
    "\n",
    "# simulate `.bed` file with no missing data\n",
    "x = simulate_random_snparray(\"multivariate_$(r)traits.bed\", n, p)\n",
    "xla = SnpLinAlg{Float64}(x, model=ADDITIVE_MODEL, center=true, scale=true) \n",
    "\n",
    "# intercept is the only nongenetic covariate\n",
    "z = ones(n, 1)\n",
    "intercepts = [10.0 1.0] # each trait have different intercept\n",
    "\n",
    "# simulate response y, true model b, and the correct non-0 positions of b\n",
    "Y, true_Σ, true_b, correct_position = simulate_random_response(xla, k, r, Zu=z*intercepts, overlap=2);"
   ]
  },
  {
   "cell_type": "code",
   "execution_count": 5,
   "metadata": {
    "collapsed": false
   },
   "outputs": [],
   "source": [
    "# save true SNP's position and effect size\n",
    "open(\"multivariate_$(r)traits_true_beta.txt\", \"w\") do io\n",
    "    println(io, \"snpID,effectsize\")\n",
    "    for pos in correct_position\n",
    "        println(io, \"snp$pos,\", true_b[pos])\n",
    "    end\n",
    "end\n",
    "\n",
    "# create `.bim` and `.bam` files using phenotype\n",
    "make_bim_fam_files(x, Y, \"multivariate_$(r)traits\")\n",
    "\n",
    "# save phenotypes in separate file\n",
    "open(\"multivariate_$(r)traits.phen\", \"w\") do io\n",
    "    println(io, \"FID\\tIID\\tT1\\tT2\")\n",
    "    for i in 1:n\n",
    "        println(io, \"$i\\t1\\t\", Y[i, 1], \"\\t\", Y[i, 2])\n",
    "    end\n",
    "end"
   ]
  },
  {
   "cell_type": "markdown",
   "metadata": {},
   "source": [
    "# Run IHT"
   ]
  },
  {
   "cell_type": "code",
   "execution_count": 7,
   "metadata": {
    "collapsed": false,
    "scrolled": false
   },
   "outputs": [
    {
     "name": "stdout",
     "output_type": "stream",
     "text": [
      "****                   MendelIHT Version 1.3.3                  ****\n",
      "****     Benjamin Chu, Kevin Keys, Chris German, Hua Zhou       ****\n",
      "****   Jin Zhou, Eric Sobel, Janet Sinsheimer, Kenneth Lange    ****\n",
      "****                                                            ****\n",
      "****                 Please cite our paper!                     ****\n",
      "****         https://doi.org/10.1093/gigascience/giaa044        ****\n",
      "\n",
      "Running sparse Multivariate Gaussian regression\n",
      "Link functin = IdentityLink()\n",
      "Sparsity parameter (k) = 11\n",
      "Prior weight scaling = off\n",
      "Doubly sparse projection = off\n",
      "Debias = off\n",
      "Max IHT iterations = 100\n",
      "Converging when tol < 0.0001:\n",
      "\n",
      "Iteration 1: loglikelihood = 215.4892687838203, backtracks = 0, tol = 0.1258803451727764\n",
      "Iteration 2: loglikelihood = 1400.4415131326584, backtracks = 0, tol = 0.027353391443577676\n",
      "Iteration 3: loglikelihood = 1485.32487407949, backtracks = 0, tol = 0.007379616806130262\n",
      "Iteration 4: loglikelihood = 1498.0290279587853, backtracks = 0, tol = 0.011942196241512437\n",
      "Iteration 5: loglikelihood = 1512.156412313122, backtracks = 0, tol = 0.004622583175071315\n",
      "Iteration 6: loglikelihood = 1514.6090313465313, backtracks = 0, tol = 0.001382288533402642\n",
      "Iteration 7: loglikelihood = 1514.802348710996, backtracks = 0, tol = 0.00034861336676207487\n",
      "Iteration 8: loglikelihood = 1514.8118712268208, backtracks = 0, tol = 0.00027914155297742264\n",
      "Iteration 9: loglikelihood = 1514.8150569026072, backtracks = 0, tol = 0.00021256362692701264\n",
      "Iteration 10: loglikelihood = 1514.8168077342787, backtracks = 0, tol = 0.00016158589471162017\n",
      "Iteration 11: loglikelihood = 1514.817813149259, backtracks = 0, tol = 0.0001236724224587062\n",
      "Iteration 12: loglikelihood = 1514.818382728515, backtracks = 0, tol = 9.403063423559545e-5\n",
      "  1.290392 seconds (2.65 k allocations: 2.989 MiB)\n"
     ]
    },
    {
     "data": {
      "text/plain": [
       "\n",
       "Compute time (sec):     1.2903869152069092\n",
       "Final loglikelihood:    1514.818382728515\n",
       "Iterations:             12\n",
       "Trait 1's SNP PVE:      0.5517175992313121\n",
       "Trait 2's SNP PVE:      0.6190809967368884\n",
       "\n",
       "Trait 1: IHT estimated 3 nonzero SNP predictors\n",
       "\u001b[1m3×2 DataFrame\u001b[0m\n",
       "\u001b[1m Row \u001b[0m│\u001b[1m Position \u001b[0m\u001b[1m Estimated_β \u001b[0m\n",
       "\u001b[1m     \u001b[0m│\u001b[90m Int64    \u001b[0m\u001b[90m Float64     \u001b[0m\n",
       "─────┼───────────────────────\n",
       "   1 │     5651    -0.200754\n",
       "   2 │     5797    -1.09966\n",
       "   3 │     8087     1.27901\n",
       "\n",
       "Trait 1: IHT estimated 1 non-genetic predictors\n",
       "\u001b[1m1×2 DataFrame\u001b[0m\n",
       "\u001b[1m Row \u001b[0m│\u001b[1m Position \u001b[0m\u001b[1m Estimated_β \u001b[0m\n",
       "\u001b[1m     \u001b[0m│\u001b[90m Int64    \u001b[0m\u001b[90m Float64     \u001b[0m\n",
       "─────┼───────────────────────\n",
       "   1 │        1       10.027\n",
       "\n",
       "Trait 2: IHT estimated 6 nonzero SNP predictors\n",
       "\u001b[1m6×2 DataFrame\u001b[0m\n",
       "\u001b[1m Row \u001b[0m│\u001b[1m Position \u001b[0m\u001b[1m Estimated_β \u001b[0m\n",
       "\u001b[1m     \u001b[0m│\u001b[90m Int64    \u001b[0m\u001b[90m Float64     \u001b[0m\n",
       "─────┼───────────────────────\n",
       "   1 │      326     0.331488\n",
       "   2 │     2110     0.574476\n",
       "   3 │     5375     1.19453\n",
       "   4 │     5797     0.501675\n",
       "   5 │     6015     0.81899\n",
       "   6 │     6813     1.36762\n",
       "\n",
       "Trait 2: IHT estimated 1 non-genetic predictors\n",
       "\u001b[1m1×2 DataFrame\u001b[0m\n",
       "\u001b[1m Row \u001b[0m│\u001b[1m Position \u001b[0m\u001b[1m Estimated_β \u001b[0m\n",
       "\u001b[1m     \u001b[0m│\u001b[90m Int64    \u001b[0m\u001b[90m Float64     \u001b[0m\n",
       "─────┼───────────────────────\n",
       "   1 │        1      1.03625\n"
      ]
     },
     "execution_count": 7,
     "metadata": {},
     "output_type": "execute_result"
    },
    {
     "name": "stdout",
     "output_type": "stream",
     "text": [
      "\n"
     ]
    }
   ],
   "source": [
    "Yt = Matrix(Y')\n",
    "Zt = Matrix(z')\n",
    "ktrue = k + count(!iszero, intercepts)\n",
    "@time result = fit_iht(Yt, Transpose(xla), Zt, k=11, verbose=true)"
   ]
  },
  {
   "cell_type": "markdown",
   "metadata": {},
   "source": [
    "## Check answer"
   ]
  },
  {
   "cell_type": "code",
   "execution_count": 8,
   "metadata": {
    "collapsed": false
   },
   "outputs": [
    {
     "data": {
      "text/plain": [
       "4×2 Array{Float64,2}:\n",
       " -0.200754  -0.224675\n",
       " -1.09966   -1.14044\n",
       "  0.0       -0.14698\n",
       "  1.27901    1.25668"
      ]
     },
     "execution_count": 8,
     "metadata": {},
     "output_type": "execute_result"
    }
   ],
   "source": [
    "# first beta\n",
    "β1 = result.beta[1, :]\n",
    "true_b1_idx = findall(!iszero, true_b[:, 1])\n",
    "[β1[true_b1_idx] true_b[true_b1_idx, 1]]"
   ]
  },
  {
   "cell_type": "code",
   "execution_count": 9,
   "metadata": {
    "collapsed": false
   },
   "outputs": [
    {
     "data": {
      "text/plain": [
       "6×2 Array{Float64,2}:\n",
       " 0.331488  0.315219\n",
       " 0.574476  0.609812\n",
       " 1.19453   1.20121\n",
       " 0.501675  0.531549\n",
       " 0.81899   0.808327\n",
       " 1.36762   1.43455"
      ]
     },
     "execution_count": 9,
     "metadata": {},
     "output_type": "execute_result"
    }
   ],
   "source": [
    "# second beta\n",
    "β2 = result.beta[2, :]\n",
    "true_b2_idx = findall(!iszero, true_b[:, 2])\n",
    "[β2[true_b2_idx] true_b[true_b2_idx, 2]]"
   ]
  },
  {
   "cell_type": "code",
   "execution_count": 10,
   "metadata": {
    "collapsed": false
   },
   "outputs": [
    {
     "data": {
      "text/plain": [
       "2×2 Array{Float64,2}:\n",
       " 10.027    10.0\n",
       "  1.03625   1.0"
      ]
     },
     "execution_count": 10,
     "metadata": {},
     "output_type": "execute_result"
    }
   ],
   "source": [
    "# non genetic covariates\n",
    "[result.c intercepts']"
   ]
  },
  {
   "cell_type": "code",
   "execution_count": 11,
   "metadata": {
    "collapsed": false
   },
   "outputs": [
    {
     "data": {
      "text/plain": [
       "4×2 Array{Float64,2}:\n",
       "  2.48446   2.53934\n",
       " -1.83826  -1.85399\n",
       " -1.83826  -1.85399\n",
       "  2.42229   2.41416"
      ]
     },
     "execution_count": 11,
     "metadata": {},
     "output_type": "execute_result"
    }
   ],
   "source": [
    "# covariance matrix\n",
    "[vec(result.Σ) vec(true_Σ)]"
   ]
  },
  {
   "cell_type": "code",
   "execution_count": 12,
   "metadata": {
    "collapsed": false
   },
   "outputs": [
    {
     "data": {
      "text/plain": [
       "8-element Array{Int64,1}:\n",
       " 5651\n",
       " 5797\n",
       " 6813\n",
       " 8087\n",
       "  326\n",
       " 2110\n",
       " 5375\n",
       " 6015"
      ]
     },
     "execution_count": 12,
     "metadata": {},
     "output_type": "execute_result"
    }
   ],
   "source": [
    "# number of causal SNPs recovered\n",
    "correct_snps = [x[1] for x in correct_position]  # truely causal snps\n",
    "signif_snps = true_b1_idx ∪ true_b2_idx          # IHT's selected snps\n",
    "signif_snps ∩ correct_snps"
   ]
  },
  {
   "cell_type": "markdown",
   "metadata": {},
   "source": [
    "# Test Cross validation"
   ]
  },
  {
   "cell_type": "code",
   "execution_count": 36,
   "metadata": {
    "collapsed": false
   },
   "outputs": [
    {
     "ename": "LoadError",
     "evalue": "\u001b[91mMethodError: no method matching cv_iht(::Array{Float64,2}, ::SnpArray, ::Array{Float64,2})\u001b[39m\n\u001b[91m\u001b[0mClosest candidates are:\u001b[39m\n\u001b[91m\u001b[0m  cv_iht(::Union{AbstractArray{T,1}, AbstractArray{T,2}}, \u001b[91m::AbstractArray{T,2}\u001b[39m, ::Union{AbstractArray{T,1}, AbstractArray{T,2}}; d, l, path, q, est_r, group, weight, folds, destin, use_maf, debias, verbose, parallel, max_iter) where T<:Union{Float32, Float64} at /Users/biona001/.julia/dev/MendelIHT/src/cross_validation.jl:33\u001b[39m\n\u001b[91m\u001b[0m  cv_iht(::Union{AbstractArray{T,1}, AbstractArray{T,2}}, ::AbstractArray{T,2} where T; kwargs...) where T at /Users/biona001/.julia/dev/MendelIHT/src/cross_validation.jl:93\u001b[39m",
     "output_type": "error",
     "traceback": [
      "\u001b[91mMethodError: no method matching cv_iht(::Array{Float64,2}, ::SnpArray, ::Array{Float64,2})\u001b[39m\n\u001b[91m\u001b[0mClosest candidates are:\u001b[39m\n\u001b[91m\u001b[0m  cv_iht(::Union{AbstractArray{T,1}, AbstractArray{T,2}}, \u001b[91m::AbstractArray{T,2}\u001b[39m, ::Union{AbstractArray{T,1}, AbstractArray{T,2}}; d, l, path, q, est_r, group, weight, folds, destin, use_maf, debias, verbose, parallel, max_iter) where T<:Union{Float32, Float64} at /Users/biona001/.julia/dev/MendelIHT/src/cross_validation.jl:33\u001b[39m\n\u001b[91m\u001b[0m  cv_iht(::Union{AbstractArray{T,1}, AbstractArray{T,2}}, ::AbstractArray{T,2} where T; kwargs...) where T at /Users/biona001/.julia/dev/MendelIHT/src/cross_validation.jl:93\u001b[39m",
      "",
      "Stacktrace:",
      " [1] top-level scope at ./timing.jl:174 [inlined]",
      " [2] top-level scope at ./In[36]:0",
      " [3] include_string(::Function, ::Module, ::String, ::String) at ./loading.jl:1091"
     ]
    }
   ],
   "source": [
    "Random.seed!(2020)\n",
    "Yt = Matrix(Y')\n",
    "Zt = Matrix(z')\n",
    "@time mses = cv_iht(Yt, x, Zt);"
   ]
  },
  {
   "cell_type": "code",
   "execution_count": 15,
   "metadata": {
    "collapsed": false
   },
   "outputs": [
    {
     "data": {
      "text/plain": [
       "11"
      ]
     },
     "execution_count": 15,
     "metadata": {},
     "output_type": "execute_result"
    }
   ],
   "source": [
    "argmin(mses)"
   ]
  },
  {
   "cell_type": "markdown",
   "metadata": {},
   "source": [
    "**Conclusion:** After cross validation, IHT finds 10/12 predictors and 8/10 causal SNPs. "
   ]
  },
  {
   "cell_type": "markdown",
   "metadata": {},
   "source": [
    "# GEMMA multivariate results"
   ]
  },
  {
   "cell_type": "code",
   "execution_count": 9,
   "metadata": {
    "collapsed": true
   },
   "outputs": [],
   "source": [
    "gemma_df = CSV.read(\"gemma.result.assoc.txt\", DataFrame)\n",
    "\n",
    "# pvalues\n",
    "pval_wald = gemma_df[!, :p_wald]\n",
    "pval_lrt = gemma_df[!, :p_lrt]\n",
    "pval_score = gemma_df[!, :p_score]\n",
    "\n",
    "# estimated beta\n",
    "estim_β1 = gemma_df[!, :beta_1]\n",
    "estim_β2 = gemma_df[!, :beta_2]\n",
    "\n",
    "# estimated covariance matrix\n",
    "estim_σ11 = gemma_df[!, :Vbeta_1_1]\n",
    "estim_σ12 = gemma_df[!, :Vbeta_1_2]\n",
    "estim_σ22 = gemma_df[!, :Vbeta_2_2];"
   ]
  },
  {
   "cell_type": "code",
   "execution_count": 10,
   "metadata": {
    "collapsed": false
   },
   "outputs": [
    {
     "data": {
      "text/plain": [
       "6-element Array{Int64,1}:\n",
       " 2110\n",
       " 5375\n",
       " 5797\n",
       " 6015\n",
       " 6813\n",
       " 8087"
      ]
     },
     "execution_count": 10,
     "metadata": {},
     "output_type": "execute_result"
    }
   ],
   "source": [
    "correct_snps = [x[1] for x in correct_position]  # truely causal snps\n",
    "signif_snps = findall(x -> x ≤ 0.05/p, pval_lrt) # gemma's selected snps\n",
    "signif_snps ∩ correct_snps"
   ]
  },
  {
   "cell_type": "markdown",
   "metadata": {},
   "source": [
    "**Conclusion:** GEMMA finds 6/10 causal SNPs"
   ]
  },
  {
   "cell_type": "markdown",
   "metadata": {},
   "source": [
    "# MV-PLINK"
   ]
  },
  {
   "cell_type": "code",
   "execution_count": 25,
   "metadata": {
    "collapsed": false
   },
   "outputs": [
    {
     "data": {
      "text/plain": [
       "6-element Array{Int64,1}:\n",
       " 2110\n",
       " 5375\n",
       " 5797\n",
       " 6015\n",
       " 6813\n",
       " 8087"
      ]
     },
     "execution_count": 25,
     "metadata": {},
     "output_type": "execute_result"
    }
   ],
   "source": [
    "mvplink_df = CSV.read(\"plink.mqfam.total\", DataFrame, delim=' ', ignorerepeated=true)\n",
    "\n",
    "# pvalues\n",
    "pval = mvplink_df[!, :P]\n",
    "\n",
    "# SNPs passing threshold\n",
    "signif_snps = findall(x -> x ≤ 0.05 / p, pval)\n",
    "signif_snps ∩ correct_snps"
   ]
  },
  {
   "cell_type": "markdown",
   "metadata": {},
   "source": [
    "**Conclusion:** MV-PLINK finds 6/10 causal SNPs"
   ]
  },
  {
   "cell_type": "markdown",
   "metadata": {
    "collapsed": true
   },
   "source": [
    "# Compare with univariate IHT\n",
    "\n",
    "+ `fit_iht`: ~20 times slower\n",
    "+ `cv_iht`: ~70 times slower"
   ]
  },
  {
   "cell_type": "code",
   "execution_count": 49,
   "metadata": {
    "collapsed": false
   },
   "outputs": [],
   "source": [
    "n = 1000  # number of samples\n",
    "p = 10000 # number of SNPs\n",
    "k = 10    # number of causal SNPs per trait\n",
    "d = Normal\n",
    "l = canonicallink(d())\n",
    "\n",
    "# set random seed for reproducibility\n",
    "Random.seed!(2021)\n",
    "\n",
    "# simulate `.bed` file with no missing data\n",
    "x = simulate_random_snparray(undef, n, p)\n",
    "xla = SnpLinAlg{Float64}(x, model=ADDITIVE_MODEL, center=true, scale=true) \n",
    "\n",
    "# intercept is the only nongenetic covariate\n",
    "z = ones(n)\n",
    "intercept = 1.0\n",
    "\n",
    "# simulate response y, true model b, and the correct non-0 positions of b\n",
    "Y, true_b, correct_position = simulate_random_response(xla, k, d, l, Zu=z*intercept);"
   ]
  },
  {
   "cell_type": "code",
   "execution_count": 50,
   "metadata": {
    "collapsed": false
   },
   "outputs": [
    {
     "name": "stdout",
     "output_type": "stream",
     "text": [
      "****                   MendelIHT Version 1.4.0                  ****\n",
      "****     Benjamin Chu, Kevin Keys, Chris German, Hua Zhou       ****\n",
      "****   Jin Zhou, Eric Sobel, Janet Sinsheimer, Kenneth Lange    ****\n",
      "****                                                            ****\n",
      "****                 Please cite our paper!                     ****\n",
      "****         https://doi.org/10.1093/gigascience/giaa044        ****\n",
      "\n",
      "Running sparse linear regression\n",
      "Link functin = IdentityLink()\n",
      "Sparsity parameter (k) = 11\n",
      "Prior weight scaling = off\n",
      "Doubly sparse projection = off\n",
      "Debias = off\n",
      "Debias = off\n",
      "Max IHT iterations = 100\n",
      "Converging when tol < 0.0001:\n",
      "\n",
      "Iteration 1: loglikelihood = -1577.170794759688, backtracks = 0, tol = 0.609864675283163\n",
      "Iteration 2: loglikelihood = -1484.8568136206177, backtracks = 0, tol = 0.1269955771967065\n",
      "Iteration 3: loglikelihood = -1472.9529635904933, backtracks = 0, tol = 0.05823372413927707\n",
      "Iteration 4: loglikelihood = -1472.5366421393842, backtracks = 1, tol = 0.004508958581388835\n",
      "Iteration 5: loglikelihood = -1472.428026945073, backtracks = 1, tol = 0.0023477261313534278\n",
      "Iteration 6: loglikelihood = -1472.4000760087492, backtracks = 1, tol = 0.0011869427975205343\n",
      "Iteration 7: loglikelihood = -1472.3929618828483, backtracks = 1, tol = 0.0005885469091004699\n",
      "Iteration 8: loglikelihood = -1472.391164492576, backtracks = 1, tol = 0.00030367125545254485\n",
      "Iteration 9: loglikelihood = -1472.3907123942718, backtracks = 1, tol = 0.0001547292323445728\n",
      "Iteration 10: loglikelihood = -1472.3905989669602, backtracks = 1, tol = 7.825885379714214e-5\n",
      "  0.066853 seconds (157.22 k allocations: 4.592 MiB, 15.74% gc time)\n"
     ]
    },
    {
     "data": {
      "text/plain": [
       "\n",
       "IHT estimated 10 nonzero SNP predictors and 1 non-genetic predictors.\n",
       "\n",
       "Compute time (sec):     0.06683206558227539\n",
       "Final loglikelihood:    -1472.3905989669602\n",
       "Iterations:             10\n",
       "\n",
       "Selected genetic predictors:\n",
       "\u001b[1m10×2 DataFrame\u001b[0m\n",
       "\u001b[1m Row \u001b[0m│\u001b[1m Position \u001b[0m\u001b[1m Estimated_β \u001b[0m\n",
       "\u001b[1m     \u001b[0m│\u001b[90m Int64    \u001b[0m\u001b[90m Float64     \u001b[0m\n",
       "─────┼───────────────────────\n",
       "   1 │      782    -0.437828\n",
       "   2 │      901     0.747956\n",
       "   3 │     1204     0.691327\n",
       "   4 │     1306    -1.42505\n",
       "   5 │     1655    -0.19456\n",
       "   6 │     3160    -0.861591\n",
       "   7 │     3936    -0.147235\n",
       "   8 │     4201     0.338606\n",
       "   9 │     4402    -0.126472\n",
       "  10 │     6879    -1.21895\n",
       "\n",
       "Selected nongenetic predictors:\n",
       "\u001b[1m1×2 DataFrame\u001b[0m\n",
       "\u001b[1m Row \u001b[0m│\u001b[1m Position \u001b[0m\u001b[1m Estimated_β \u001b[0m\n",
       "\u001b[1m     \u001b[0m│\u001b[90m Int64    \u001b[0m\u001b[90m Float64     \u001b[0m\n",
       "─────┼───────────────────────\n",
       "   1 │        1      1.02016"
      ]
     },
     "execution_count": 50,
     "metadata": {},
     "output_type": "execute_result"
    }
   ],
   "source": [
    "@time result = fit_iht(Y, xla, z, d=d(), l=l, k=11)"
   ]
  },
  {
   "cell_type": "code",
   "execution_count": 41,
   "metadata": {
    "collapsed": false
   },
   "outputs": [
    {
     "data": {
      "text/plain": [
       "10×2 Array{Float64,2}:\n",
       " -0.437828  -0.402269\n",
       "  0.747956   0.758756\n",
       "  0.691327   0.729135\n",
       " -1.42505   -1.47163\n",
       " -0.19456   -0.172668\n",
       " -0.861591  -0.847906\n",
       "  0.338606   0.296183\n",
       "  0.0       -0.0034339\n",
       "  0.0        0.125965\n",
       " -1.21895   -1.24972"
      ]
     },
     "execution_count": 41,
     "metadata": {},
     "output_type": "execute_result"
    }
   ],
   "source": [
    "# compare estimated vs true beta values\n",
    "[result.beta[correct_position] true_b[correct_position]]"
   ]
  },
  {
   "cell_type": "markdown",
   "metadata": {},
   "source": [
    "### Cross validation timing"
   ]
  },
  {
   "cell_type": "code",
   "execution_count": 92,
   "metadata": {
    "collapsed": false
   },
   "outputs": [
    {
     "name": "stdout",
     "output_type": "stream",
     "text": [
      "\n",
      "\n",
      "Crossvalidation Results:\n",
      "\tk\tMSE\n",
      "\t1\t1221.686764265696\n",
      "\t2\t864.1553085156108\n",
      "\t3\t661.6430376327284\n",
      "\t4\t516.2679723147669\n",
      "\t5\t418.2721191658746\n",
      "\t6\t342.7931325462592\n",
      "\t7\t303.15938053956916\n",
      "\t8\t276.6241892508097\n",
      "\t9\t278.29180795455045\n",
      "\t10\t280.31878745464377\n",
      "\t11\t282.10757732881564\n",
      "\t12\t285.1294156734012\n",
      "\t13\t293.16875008847467\n",
      "\t14\t297.43739905389987\n",
      "\t15\t296.17300065041906\n",
      "\t16\t307.7814278347698\n",
      "\t17\t302.0113818893564\n",
      "\t18\t312.70262374274137\n",
      "\t19\t309.87367962700966\n",
      "\t20\t315.6750311115386\n",
      "  4.315330 seconds (9.35 M allocations: 332.277 MiB, 1.12% gc time)\n"
     ]
    }
   ],
   "source": [
    "# 1 cores\n",
    "Random.seed!(2020)\n",
    "@time cv_iht(Y, x, z);"
   ]
  },
  {
   "cell_type": "markdown",
   "metadata": {},
   "source": [
    "# More complicated univariate traits\n",
    "\n",
    "Let's simulate $10$ causal SNPs where genetics explain 60% of heritability for $2$ traits. The univariate model is:\n",
    "\n",
    "$$\\mathbf{y}_{n \\times 1} \\sim N(\\mathbf{X}_{n \\times p}\\mathbf{\\beta}_{p \\times 1} \\ , \\ \\sigma_g^2 \\Phi_{n \\times n} + \\sigma_e^2 \\mathbf{I}_{n}).$$\n",
    "\n",
    "where $\\Phi$ is the GRM and $\\sigma_g^2 = 0.6, \\sigma_e^2 = 0.4$. "
   ]
  },
  {
   "cell_type": "code",
   "execution_count": 197,
   "metadata": {
    "collapsed": false
   },
   "outputs": [
    {
     "data": {
      "text/plain": [
       "simulate_random_beta"
      ]
     },
     "execution_count": 197,
     "metadata": {},
     "output_type": "execute_result"
    }
   ],
   "source": [
    "\"\"\"\n",
    "k = Number of causal SNPs\n",
    "p = Total number of SNPs\n",
    "traits = Number of traits (phenotypes)\n",
    "overlap = number of causal SNPs shared in each trait\n",
    "\"\"\"\n",
    "function simulate_random_beta(k::Int, p::Int, traits::Int; overlap::Int=0)\n",
    "    true_b = zeros(p, traits)\n",
    "    if overlap == 0\n",
    "        causal_snps = sample(1:(traits * p), k, replace=false)\n",
    "        true_b[causal_snps] = randn(k)\n",
    "    else\n",
    "        shared_snps = sample(1:p, overlap, replace=false)\n",
    "        weight_vector = aweights(1 / (traits * (p - overlap)) * ones(traits * p))\n",
    "        for i in 1:traits\n",
    "            weight_vector[i*shared_snps] .= 0.0 # avoid sampling from shared snps\n",
    "        end\n",
    "        @assert sum(weight_vector) ≈ 1.0\n",
    "        # simulate β for shared predictors\n",
    "        for i in 1:traits\n",
    "            true_b[shared_snps, i] = randn(overlap)\n",
    "        end\n",
    "        # simulate β for none shared predictors\n",
    "        nonshared_snps = sample(1:(traits * p), weight_vector, k - traits * overlap, replace=false)\n",
    "        true_b[nonshared_snps] = randn(k - traits * overlap)\n",
    "    end\n",
    "\n",
    "    return true_b\n",
    "end"
   ]
  },
  {
   "cell_type": "code",
   "execution_count": 267,
   "metadata": {
    "collapsed": false
   },
   "outputs": [],
   "source": [
    "n = 1000  # number of samples\n",
    "p = 10000 # number of SNPs\n",
    "k = 10    # number of causal SNPs per trait\n",
    "d = Normal\n",
    "l = canonicallink(d())\n",
    "\n",
    "# set random seed for reproducibility\n",
    "Random.seed!(2021)\n",
    "\n",
    "# simulate `.bed` file with no missing data\n",
    "x = simulate_random_snparray(undef, n, p)\n",
    "xla = SnpLinAlg{Float64}(x, model=ADDITIVE_MODEL, center=true, scale=true) \n",
    "\n",
    "# simulate true_b with 1 phenotype\n",
    "b = simulate_random_beta(k, p, 1)\n",
    "\n",
    "# intercept is the only nongenetic covariate\n",
    "z = ones(n)\n",
    "intercept = 1.0\n",
    "\n",
    "# between sample covariance is identity + GRM (2 times because in SnpArrays grm is halved)\n",
    "Φ = 2grm(x)\n",
    "I_n = Matrix{Float64}(I, size(Φ))\n",
    "σg = 0.6\n",
    "σe = 0.4\n",
    "V = σg * Φ + σe * I_n;\n",
    "\n",
    "# simulate response y\n",
    "mvn = MvNormal(vec(intercept * z + xla * b), V)\n",
    "y = rand(mvn);"
   ]
  },
  {
   "cell_type": "code",
   "execution_count": 268,
   "metadata": {
    "collapsed": false
   },
   "outputs": [
    {
     "name": "stdout",
     "output_type": "stream",
     "text": [
      "****                   MendelIHT Version 1.3.3                  ****\n",
      "****     Benjamin Chu, Kevin Keys, Chris German, Hua Zhou       ****\n",
      "****   Jin Zhou, Eric Sobel, Janet Sinsheimer, Kenneth Lange    ****\n",
      "****                                                            ****\n",
      "****                 Please cite our paper!                     ****\n",
      "****         https://doi.org/10.1093/gigascience/giaa044        ****\n",
      "\n",
      "Running sparse linear regression\n",
      "Link functin = IdentityLink()\n",
      "Sparsity parameter (k) = 11\n",
      "Prior weight scaling = off\n",
      "Doubly sparse projection = off\n",
      "Debias = off\n",
      "Max IHT iterations = 200\n",
      "Converging when tol < 0.0001:\n",
      "\n",
      "Iteration 1: loglikelihood = -1627.0353462544151, backtracks = 0, tol = 0.6924353417126095\n",
      "Iteration 2: loglikelihood = -1420.1638948810214, backtracks = 0, tol = 0.23769360612297397\n",
      "Iteration 3: loglikelihood = -1406.552555178033, backtracks = 0, tol = 0.07456091670768471\n",
      "Iteration 4: loglikelihood = -1405.9717536588919, backtracks = 0, tol = 0.007850378616075855\n",
      "Iteration 5: loglikelihood = -1405.9652530033154, backtracks = 0, tol = 0.0007919933023886452\n",
      "Iteration 6: loglikelihood = -1405.9651507392962, backtracks = 0, tol = 0.0001030928773413864\n",
      "Iteration 7: loglikelihood = -1405.9651489743871, backtracks = 0, tol = 1.1683078738824596e-5\n",
      "  0.039592 seconds (146.82 k allocations: 3.532 MiB)\n"
     ]
    },
    {
     "data": {
      "text/plain": [
       "\n",
       "IHT estimated 10 nonzero SNP predictors and 1 non-genetic predictors.\n",
       "\n",
       "Compute time (sec):     0.034310102462768555\n",
       "Final loglikelihood:    -1405.9651489743871\n",
       "SNP PVE:                0.9024422743420005\n",
       "Iterations:             7\n",
       "\n",
       "Selected genetic predictors:\n",
       "\u001b[1m10×2 DataFrame\u001b[0m\n",
       "\u001b[1m Row \u001b[0m│\u001b[1m Position \u001b[0m\u001b[1m Estimated_β \u001b[0m\n",
       "\u001b[1m     \u001b[0m│\u001b[90m Int64    \u001b[0m\u001b[90m Float64     \u001b[0m\n",
       "─────┼───────────────────────\n",
       "   1 │      329     0.501429\n",
       "   2 │     1438     0.852922\n",
       "   3 │     5797    -1.1783\n",
       "   4 │     6307     1.5088\n",
       "   5 │     6813    -0.158366\n",
       "   6 │     7152     1.07684\n",
       "   7 │     8070     0.772066\n",
       "   8 │     8739     1.38536\n",
       "   9 │     9138    -0.586787\n",
       "  10 │     9180     0.563219\n",
       "\n",
       "Selected nongenetic predictors:\n",
       "\u001b[1m1×2 DataFrame\u001b[0m\n",
       "\u001b[1m Row \u001b[0m│\u001b[1m Position \u001b[0m\u001b[1m Estimated_β \u001b[0m\n",
       "\u001b[1m     \u001b[0m│\u001b[90m Int64    \u001b[0m\u001b[90m Float64     \u001b[0m\n",
       "─────┼───────────────────────\n",
       "   1 │        1      1.01532"
      ]
     },
     "execution_count": 268,
     "metadata": {},
     "output_type": "execute_result"
    }
   ],
   "source": [
    "ktrue = k + count(!iszero, intercept)\n",
    "@time result = fit_iht(y, xla, z, k=ktrue, max_iter=200)"
   ]
  },
  {
   "cell_type": "code",
   "execution_count": 271,
   "metadata": {
    "collapsed": false
   },
   "outputs": [
    {
     "data": {
      "text/plain": [
       "10×2 Array{Float64,2}:\n",
       "  0.501429   0.531549\n",
       "  0.852922   0.882913\n",
       " -1.1783    -1.14044\n",
       "  1.5088     1.43455\n",
       " -0.158366  -0.14698\n",
       "  1.07684    1.11302\n",
       "  0.772066   0.812423\n",
       "  1.38536    1.37084\n",
       " -0.586787  -0.589568\n",
       "  0.563219   0.622075"
      ]
     },
     "execution_count": 271,
     "metadata": {},
     "output_type": "execute_result"
    }
   ],
   "source": [
    "# compare estimated vs true beta values\n",
    "correct_position = findall(!iszero, b)\n",
    "[result.beta[correct_position] b[correct_position]]"
   ]
  },
  {
   "cell_type": "markdown",
   "metadata": {},
   "source": [
    "# More complicated multivariate traits\n",
    "\n",
    "With $r$ traits, the multivariate analog is:\n",
    "\n",
    "$$\\mathbf{Y}_{r \\times n} \\sim \\text{MatrixNormal}(\\mathbf{B}_{r \\times p}\\mathbf{X}_{p \\times n}, \\ \\ \\Sigma_{r \\times r} , \\ \\ \\sigma_g^2\\Phi_{n \\times n} + \\sigma_e^2 \\mathbf{I}_{n \\times n})$$\n",
    "\n",
    "where $\\Sigma_{r \\times r}$ is the row covariance matrix, and $\\sigma_g^2\\Phi_{n \\times n} + \\sigma_e^2 \\mathbf{I}_{n \\times n}$ is the column covariance matrix. Again, $\\Phi$ is the GRM and $\\sigma_g^2 = 0.6, \\sigma_e^2 = 0.4$. "
   ]
  },
  {
   "cell_type": "code",
   "execution_count": 308,
   "metadata": {
    "collapsed": false
   },
   "outputs": [
    {
     "data": {
      "text/plain": [
       "2×1000 Array{Float64,2}:\n",
       " 3.37003  11.076    6.41795  6.824    …  4.97186  8.53641  6.7019  10.2617\n",
       " 2.60801   4.22722  3.58501  2.70536     3.24736  1.00095  3.2774  -1.39142"
      ]
     },
     "execution_count": 308,
     "metadata": {},
     "output_type": "execute_result"
    }
   ],
   "source": [
    "n = 1000  # number of samples\n",
    "p = 10000 # number of SNPs\n",
    "k = 20    # number of causal SNPs\n",
    "r = 2     # number of traits\n",
    "\n",
    "# set random seed for reproducibility\n",
    "Random.seed!(2021)\n",
    "\n",
    "# simulate `.bed` file with no missing data\n",
    "x = simulate_random_snparray(\"multivariate_$(r)traits.bed\", n, p)\n",
    "xla = SnpLinAlg{Float64}(x, model=ADDITIVE_MODEL, center=true, scale=true) \n",
    "\n",
    "# intercept is the only nongenetic covariate\n",
    "z = ones(n, 1)\n",
    "intercepts = [10.0 1.0] # each trait have different intercept\n",
    "\n",
    "# simulate β\n",
    "B = simulate_random_beta(k, p, r, overlap=2)\n",
    "\n",
    "# between trait covariance matrix\n",
    "Σ = random_covariance_matrix(r)\n",
    "\n",
    "# between sample covariance is identity + GRM (2 times because in SnpArrays grm is halved)\n",
    "Φ = 2grm(x)\n",
    "σg = 0.6\n",
    "σe = 0.4\n",
    "V = σg * Φ + σe * I\n",
    "\n",
    "# simulate y using TraitSimulations.jl\n",
    "# VCM_model = VCMTrait(z, intercepts, x, B, [Σ], [V]) #https://github.com/OpenMendel/TraitSimulation.jl/blob/6d1f09c7332471a74b4dd6c8ef2d2b95a96c585c/src/modelframework.jl#L159\n",
    "# Y = simulate(VCM_model)\n",
    "\n",
    "# simulate using naive model\n",
    "μ = z * intercepts + xla * B\n",
    "Y = rand(MatrixNormal(μ', Σ, V))"
   ]
  },
  {
   "cell_type": "markdown",
   "metadata": {},
   "source": [
    "## Run IHT "
   ]
  },
  {
   "cell_type": "code",
   "execution_count": 309,
   "metadata": {
    "collapsed": false
   },
   "outputs": [
    {
     "name": "stdout",
     "output_type": "stream",
     "text": [
      "****                   MendelIHT Version 1.3.3                  ****\n",
      "****     Benjamin Chu, Kevin Keys, Chris German, Hua Zhou       ****\n",
      "****   Jin Zhou, Eric Sobel, Janet Sinsheimer, Kenneth Lange    ****\n",
      "****                                                            ****\n",
      "****                 Please cite our paper!                     ****\n",
      "****         https://doi.org/10.1093/gigascience/giaa044        ****\n",
      "\n",
      "Running sparse Multivariate Gaussian regression\n",
      "Link functin = IdentityLink()\n",
      "Sparsity parameter (k) = 22\n",
      "Prior weight scaling = off\n",
      "Doubly sparse projection = off\n",
      "Debias = off\n",
      "Max IHT iterations = 200\n",
      "Converging when tol < 0.0001:\n",
      "\n",
      "Iteration 1: loglikelihood = -475.2988214368961, backtracks = 0, tol = 0.12966924327121895\n",
      "Iteration 2: loglikelihood = 883.6693113723943, backtracks = 0, tol = 0.03593835876755371\n",
      "Iteration 3: loglikelihood = 1149.365077358489, backtracks = 0, tol = 0.004279279206162846\n",
      "Iteration 4: loglikelihood = 1171.8910317942218, backtracks = 0, tol = 0.018815373906643354\n",
      "Iteration 5: loglikelihood = 1226.586756344078, backtracks = 0, tol = 0.0030562062728905427\n",
      "Iteration 6: loglikelihood = 1235.7110212634052, backtracks = 0, tol = 0.0025212905270551866\n",
      "Iteration 7: loglikelihood = 1240.668547907785, backtracks = 0, tol = 0.002071020308254661\n",
      "Iteration 8: loglikelihood = 1243.9392445297053, backtracks = 0, tol = 0.0016994391705278504\n",
      "Iteration 9: loglikelihood = 1246.133973407923, backtracks = 0, tol = 0.0013946516453790835\n",
      "Iteration 10: loglikelihood = 1247.608775891784, backtracks = 0, tol = 0.00790992872175513\n",
      "Iteration 11: loglikelihood = 1256.9533534348795, backtracks = 0, tol = 0.0007694520686283923\n",
      "Iteration 12: loglikelihood = 1257.540570628655, backtracks = 0, tol = 0.007511522215156066\n",
      "Iteration 13: loglikelihood = 1264.4148387362861, backtracks = 0, tol = 0.0008073711290917836\n",
      "Iteration 14: loglikelihood = 1264.7382091960092, backtracks = 0, tol = 0.0005140877154117652\n",
      "Iteration 15: loglikelihood = 1264.874499799952, backtracks = 0, tol = 0.00041164644332509424\n",
      "Iteration 16: loglikelihood = 1264.9602859091988, backtracks = 0, tol = 0.0003261471430938372\n",
      "Iteration 17: loglikelihood = 1265.0145393823404, backtracks = 0, tol = 0.00025768588431624795\n",
      "Iteration 18: loglikelihood = 1265.0487418033244, backtracks = 0, tol = 0.00020295105786890182\n",
      "Iteration 19: loglikelihood = 1265.0702524983622, backtracks = 0, tol = 0.00015947634725728538\n",
      "Iteration 20: loglikelihood = 1265.083764581559, backtracks = 0, tol = 0.00012506096961943715\n",
      "Iteration 21: loglikelihood = 1265.0922537755628, backtracks = 0, tol = 9.791572949078921e-5\n",
      "  1.911140 seconds (3.69 k allocations: 4.617 MiB)\n"
     ]
    },
    {
     "data": {
      "text/plain": [
       "\n",
       "Compute time (sec):     1.816992998123169\n",
       "Final loglikelihood:    1265.0922537755628\n",
       "Iterations:             21\n",
       "Trait 1's SNP PVE:      0.835844876211814\n",
       "Trait 2's SNP PVE:      0.46118893066249433\n",
       "\n",
       "Trait 1: IHT estimated 12 nonzero SNP predictors\n",
       "\u001b[1m12×2 DataFrame\u001b[0m\n",
       "\u001b[1m Row \u001b[0m│\u001b[1m Position \u001b[0m\u001b[1m Estimated_β \u001b[0m\n",
       "\u001b[1m     \u001b[0m│\u001b[90m Int64    \u001b[0m\u001b[90m Float64     \u001b[0m\n",
       "─────┼───────────────────────\n",
       "   1 │      200   -1.1852\n",
       "   2 │      600    1.01931\n",
       "   3 │     1756   -0.0975711\n",
       "   4 │     3638   -0.713653\n",
       "   5 │     4322   -0.309832\n",
       "   6 │     4678    1.59124\n",
       "   7 │     5298   -0.614442\n",
       "   8 │     5797   -1.13881\n",
       "   9 │     6136    0.798066\n",
       "  10 │     7091    0.229139\n",
       "  11 │     7325   -0.372033\n",
       "  12 │     7360   -0.0903845\n",
       "\n",
       "Trait 1: IHT estimated 1 non-genetic predictors\n",
       "\u001b[1m1×2 DataFrame\u001b[0m\n",
       "\u001b[1m Row \u001b[0m│\u001b[1m Position \u001b[0m\u001b[1m Estimated_β \u001b[0m\n",
       "\u001b[1m     \u001b[0m│\u001b[90m Int64    \u001b[0m\u001b[90m Float64     \u001b[0m\n",
       "─────┼───────────────────────\n",
       "   1 │        1       10.024\n",
       "\n",
       "Trait 2: IHT estimated 8 nonzero SNP predictors\n",
       "\u001b[1m8×2 DataFrame\u001b[0m\n",
       "\u001b[1m Row \u001b[0m│\u001b[1m Position \u001b[0m\u001b[1m Estimated_β \u001b[0m\n",
       "\u001b[1m     \u001b[0m│\u001b[90m Int64    \u001b[0m\u001b[90m Float64     \u001b[0m\n",
       "─────┼───────────────────────\n",
       "   1 │     1278   -0.0924407\n",
       "   2 │     3822    0.557493\n",
       "   3 │     4229   -0.978967\n",
       "   4 │     5797    0.50544\n",
       "   5 │     6813    1.10605\n",
       "   6 │     7838   -1.09852\n",
       "   7 │     8835    0.88801\n",
       "   8 │     9626   -1.55919\n",
       "\n",
       "Trait 2: IHT estimated 1 non-genetic predictors\n",
       "\u001b[1m1×2 DataFrame\u001b[0m\n",
       "\u001b[1m Row \u001b[0m│\u001b[1m Position \u001b[0m\u001b[1m Estimated_β \u001b[0m\n",
       "\u001b[1m     \u001b[0m│\u001b[90m Int64    \u001b[0m\u001b[90m Float64     \u001b[0m\n",
       "─────┼───────────────────────\n",
       "   1 │        1     0.987092\n"
      ]
     },
     "execution_count": 309,
     "metadata": {},
     "output_type": "execute_result"
    },
    {
     "name": "stdout",
     "output_type": "stream",
     "text": [
      "\n"
     ]
    }
   ],
   "source": [
    "# Yt = Matrix(Y')\n",
    "Zt = Matrix(z')\n",
    "ktrue = k + count(!iszero, intercepts)\n",
    "@time result = fit_iht(Y, Transpose(xla), Zt, k=ktrue, verbose=true)"
   ]
  },
  {
   "cell_type": "code",
   "execution_count": 310,
   "metadata": {
    "collapsed": false
   },
   "outputs": [
    {
     "data": {
      "text/plain": [
       "11×2 Array{Float64,2}:\n",
       " -1.1852    -1.20245\n",
       "  1.01931    1.00062\n",
       " -0.713653  -0.735789\n",
       " -0.309832  -0.265599\n",
       "  1.59124    1.58324\n",
       " -0.614442  -0.648652\n",
       " -1.13881   -1.14044\n",
       "  0.798066   0.782584\n",
       "  0.0       -0.14698\n",
       "  0.229139   0.231528\n",
       " -0.372033  -0.383864"
      ]
     },
     "execution_count": 310,
     "metadata": {},
     "output_type": "execute_result"
    }
   ],
   "source": [
    "# first beta\n",
    "β1 = result.beta[1, :]\n",
    "true_b1_idx = findall(!iszero, B[:, 1])\n",
    "[β1[true_b1_idx] B[true_b1_idx, 1]]"
   ]
  },
  {
   "cell_type": "code",
   "execution_count": 311,
   "metadata": {
    "collapsed": false
   },
   "outputs": [
    {
     "data": {
      "text/plain": [
       "9×2 Array{Float64,2}:\n",
       "  0.0        0.125648\n",
       "  0.557493   0.602347\n",
       " -0.978967  -0.954644\n",
       "  0.0        0.0161438\n",
       "  0.50544    0.531549\n",
       "  1.10605    1.43455\n",
       " -1.09852   -1.08864\n",
       "  0.88801    0.997248\n",
       " -1.55919   -1.47439"
      ]
     },
     "execution_count": 311,
     "metadata": {},
     "output_type": "execute_result"
    }
   ],
   "source": [
    "# second beta\n",
    "β2 = result.beta[2, :]\n",
    "true_b2_idx = findall(!iszero, B[:, 2])\n",
    "[β2[true_b2_idx] B[true_b2_idx, 2]]"
   ]
  },
  {
   "cell_type": "code",
   "execution_count": 312,
   "metadata": {
    "collapsed": false
   },
   "outputs": [
    {
     "data": {
      "text/plain": [
       "2×2 Array{Float64,2}:\n",
       " 10.024     10.0\n",
       "  0.987092   1.0"
      ]
     },
     "execution_count": 312,
     "metadata": {},
     "output_type": "execute_result"
    }
   ],
   "source": [
    "# non genetic covariates\n",
    "[result.c intercepts']"
   ]
  },
  {
   "cell_type": "code",
   "execution_count": 301,
   "metadata": {
    "collapsed": false
   },
   "outputs": [
    {
     "data": {
      "text/plain": [
       "4×2 Array{Float64,2}:\n",
       "  1.79311   1.79198\n",
       " -3.15315  -3.07031\n",
       " -3.15315  -3.07031\n",
       "  7.96981   7.74209"
      ]
     },
     "execution_count": 301,
     "metadata": {},
     "output_type": "execute_result"
    }
   ],
   "source": [
    "# covariance matrix\n",
    "[vec(result.Σ) vec(Σ)]"
   ]
  },
  {
   "cell_type": "code",
   "execution_count": null,
   "metadata": {
    "collapsed": true
   },
   "outputs": [],
   "source": []
  }
 ],
 "metadata": {
  "@webio": {
   "lastCommId": null,
   "lastKernelId": null
  },
  "kernelspec": {
   "display_name": "Julia 1.5.0",
   "language": "julia",
   "name": "julia-1.5"
  },
  "language_info": {
   "file_extension": ".jl",
   "mimetype": "application/julia",
   "name": "julia",
   "version": "1.5.0"
  }
 },
 "nbformat": 4,
 "nbformat_minor": 2
}
