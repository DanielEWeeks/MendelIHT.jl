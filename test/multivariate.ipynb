{
 "cells": [
  {
   "cell_type": "code",
   "execution_count": 1,
   "metadata": {
    "collapsed": false
   },
   "outputs": [
    {
     "name": "stderr",
     "output_type": "stream",
     "text": [
      "┌ Info: Precompiling MendelIHT [921c7187-1484-5754-b919-5d3ed9ac03c4]\n",
      "└ @ Base loading.jl:1278\n"
     ]
    }
   ],
   "source": [
    "using Revise\n",
    "using MendelIHT\n",
    "using SnpArrays\n",
    "using Random\n",
    "using GLM\n",
    "using DelimitedFiles\n",
    "using Test\n",
    "using Distributions\n",
    "using LinearAlgebra"
   ]
  },
  {
   "cell_type": "markdown",
   "metadata": {},
   "source": [
    "# First simulate multivariate Gaussian traits"
   ]
  },
  {
   "cell_type": "code",
   "execution_count": 2,
   "metadata": {
    "collapsed": false
   },
   "outputs": [],
   "source": [
    "n = 1000  # number of samples\n",
    "p = 10000 # number of SNPs\n",
    "k = 10    # number of causal SNPs per trait\n",
    "r = 2     # number of traits\n",
    "\n",
    "# set random seed for reproducibility\n",
    "Random.seed!(2021)\n",
    "\n",
    "# simulate `.bed` file with no missing data\n",
    "x = simulate_random_snparray(undef, n, p)\n",
    "xla = SnpLinAlg{Float64}(x, model=ADDITIVE_MODEL, center=true, scale=true) \n",
    "\n",
    "# intercept is the only nongenetic covariate\n",
    "z = ones(n) \n",
    "\n",
    "# simulate response y, true model b, and the correct non-0 positions of b\n",
    "Y, true_Σ, true_b, correct_position = simulate_random_response(xla, k, r);"
   ]
  },
  {
   "cell_type": "code",
   "execution_count": 3,
   "metadata": {
    "collapsed": false
   },
   "outputs": [
    {
     "ename": "LoadError",
     "evalue": "UndefVarError: Σ not defined",
     "output_type": "error",
     "traceback": [
      "UndefVarError: Σ not defined",
      "",
      "Stacktrace:",
      " [1] top-level scope at In[3]:1",
      " [2] include_string(::Function, ::Module, ::String, ::String) at ./loading.jl:1091"
     ]
    }
   ],
   "source": [
    "σ11, σ12, σ22 = sqrt(Σ[1, 1]), sqrt(Σ[1, 2]), sqrt(Σ[2, 2])\n",
    "true_correlation = σ12 / (σ11 * σ22)\n",
    "empirical_correlation = cor(Y[:, 1], Y[:, 2])\n",
    "\n",
    "@show true_correlation\n",
    "@show empirical_correlation;"
   ]
  },
  {
   "cell_type": "markdown",
   "metadata": {},
   "source": [
    "# Run IHT"
   ]
  },
  {
   "cell_type": "code",
   "execution_count": 4,
   "metadata": {
    "collapsed": false,
    "scrolled": false
   },
   "outputs": [
    {
     "name": "stdout",
     "output_type": "stream",
     "text": [
      "****                   MendelIHT Version 1.4.0                  ****\n",
      "****     Benjamin Chu, Kevin Keys, Chris German, Hua Zhou       ****\n",
      "****   Jin Zhou, Eric Sobel, Janet Sinsheimer, Kenneth Lange    ****\n",
      "****                                                            ****\n",
      "****                 Please cite our paper!                     ****\n",
      "****         https://doi.org/10.1093/gigascience/giaa044        ****\n",
      "\n",
      "Running sparse unknown regression\n",
      "Link functin = IdentityLink()\n",
      "Sparsity parameter (k) = 10\n",
      "Prior weight scaling = off\n",
      "Doubly sparse projection = off\n",
      "Debias = off\n",
      "\n",
      "Converging when tol < 0.0001:\n",
      "Iteration 1: loglikelihood = -190.2551692133452, tol = 0.7952327339797808\n",
      "Iteration 2: loglikelihood = 1808.682161396048, tol = 0.13517347084708314\n",
      "Iteration 3: loglikelihood = 2437.552500878157, tol = 0.04734845208975211\n",
      "Iteration 4: loglikelihood = 2573.1236645802696, tol = 0.011614347271022793\n",
      "Iteration 5: loglikelihood = 2599.285603979477, tol = 0.017858824716468415\n",
      "Iteration 6: loglikelihood = 2613.340722688413, tol = 0.007213125839311279\n",
      "Iteration 7: loglikelihood = 2617.4285512474758, tol = 0.004289217952762204\n",
      "Iteration 8: loglikelihood = 2618.660505262645, tol = 0.0023919497367619843\n",
      "Iteration 9: loglikelihood = 2618.9954326699794, tol = 0.0012444199290728094\n",
      "Iteration 10: loglikelihood = 2619.090504275157, tol = 0.001044688141977898\n",
      "Iteration 11: loglikelihood = 2619.1571322697164, tol = 0.0009802513119237459\n",
      "Iteration 12: loglikelihood = 2619.2109695261875, tol = 0.0008422432775721618\n",
      "Iteration 13: loglikelihood = 2619.2554398403663, tol = 0.0008093639296803173\n",
      "Iteration 14: loglikelihood = 2619.2921246955584, tol = 0.000690034395321991\n",
      "Iteration 15: loglikelihood = 2619.322597638009, tol = 0.0006725516186255417\n",
      "Iteration 16: loglikelihood = 2619.3478159386473, tol = 0.0005677137468448509\n",
      "Iteration 17: loglikelihood = 2619.3688111452434, tol = 0.0005605898890032423\n",
      "Iteration 18: loglikelihood = 2619.386219041592, tol = 0.0004682345310059901\n",
      "Iteration 19: loglikelihood = 2619.400732443225, tol = 0.00046824460966643554\n",
      "Iteration 20: loglikelihood = 2619.412782427624, tol = 0.0003868131910314506\n",
      "Iteration 21: loglikelihood = 2619.422838116451, tol = 0.00039170421785219634\n",
      "Iteration 22: loglikelihood = 2619.4311954388263, tol = 0.0003223022165428883\n",
      "Iteration 23: loglikelihood = 2619.4381737362987, tol = 0.0003280517400399727\n",
      "Iteration 24: loglikelihood = 2619.4439778443657, tol = 0.00027041951997266105\n",
      "Iteration 25: loglikelihood = 2619.448825997225, tol = 0.00027499443318970956\n",
      "Iteration 26: loglikelihood = 2619.4528607441525, tol = 0.00022708951036641797\n",
      "Iteration 27: loglikelihood = 2619.456231670156, tol = 0.00023069610191866176\n",
      "Iteration 28: loglikelihood = 2619.4590383168365, tol = 0.00019085355047069143\n",
      "Iteration 29: loglikelihood = 2619.461383454839, tol = 0.00019366652298173214\n",
      "Iteration 30: loglikelihood = 2619.4633367366496, tol = 0.00016051924818647772\n",
      "Iteration 31: loglikelihood = 2619.4649689015823, tol = 0.00016268496581153856\n",
      "Iteration 32: loglikelihood = 2619.466328743788, tol = 0.00013510472704107224\n",
      "Iteration 33: loglikelihood = 2619.467465028598, tol = 0.0001367449944004835\n",
      "Iteration 34: loglikelihood = 2619.4684119570848, tol = 0.00011379742568118855\n",
      "Iteration 35: loglikelihood = 2619.469203188578, tol = 0.00011501315123963317\n",
      "Iteration 36: loglikelihood = 2619.469862699537, tol = 9.592261003738628e-5\n"
     ]
    },
    {
     "data": {
      "text/plain": [
       "\n",
       "IHT estimated 20 nonzero SNP predictors and 0 non-genetic predictors.\n",
       "\n",
       "Compute time (sec):     3.711843967437744\n",
       "Final loglikelihood:    2619.469862699537\n",
       "Iterations:             36\n",
       "\n",
       "Selected genetic predictors:\n",
       "\u001b[1m20×2 DataFrame\u001b[0m\n",
       "\u001b[1m Row \u001b[0m│\u001b[1m Position                \u001b[0m\u001b[1m Estimated_β \u001b[0m\n",
       "\u001b[1m     \u001b[0m│\u001b[90m Cartesia…               \u001b[0m\u001b[90m Float64     \u001b[0m\n",
       "─────┼──────────────────────────────────────\n",
       "   1 │ CartesianIndex(2, 46)      1.73639\n",
       "   2 │ CartesianIndex(1, 782)    -0.388623\n",
       "   3 │ CartesianIndex(1, 901)     0.778375\n",
       "   4 │ CartesianIndex(1, 1204)    0.735256\n",
       "   5 │ CartesianIndex(1, 1306)   -1.45943\n",
       "   6 │ CartesianIndex(1, 1655)   -0.182059\n",
       "   7 │ CartesianIndex(1, 3160)   -0.84684\n",
       "   8 │ CartesianIndex(1, 4201)    0.31211\n",
       "   9 │ CartesianIndex(1, 4656)    0.0724518\n",
       "  10 │ CartesianIndex(2, 4656)    0.0632281\n",
       "  11 │ CartesianIndex(2, 4797)   -1.19923\n",
       "  12 │ CartesianIndex(2, 5616)   -0.97377\n",
       "  13 │ CartesianIndex(1, 6047)    0.150628\n",
       "  14 │ CartesianIndex(2, 6072)    0.537718\n",
       "  15 │ CartesianIndex(2, 6573)   -0.592252\n",
       "  16 │ CartesianIndex(1, 6879)   -1.22745\n",
       "  17 │ CartesianIndex(2, 7236)    0.506521\n",
       "  18 │ CartesianIndex(2, 7667)    0.337317\n",
       "  19 │ CartesianIndex(2, 9091)    0.0739655\n",
       "  20 │ CartesianIndex(2, 9763)    1.27771\n",
       "\n",
       "Selected nongenetic predictors:\n",
       "\u001b[1m0×2 DataFrame\u001b[0m"
      ]
     },
     "execution_count": 4,
     "metadata": {},
     "output_type": "execute_result"
    }
   ],
   "source": [
    "result = fit_iht(Matrix(Y'), Transpose(xla), Matrix(z'), k=10, max_step=10)"
   ]
  },
  {
   "cell_type": "code",
   "execution_count": 5,
   "metadata": {
    "collapsed": false
   },
   "outputs": [
    {
     "data": {
      "text/plain": [
       "10×2 Array{Float64,2}:\n",
       " -0.388623  -0.402269\n",
       "  0.778375   0.758756\n",
       "  0.735256   0.729135\n",
       " -1.45943   -1.47163\n",
       " -0.182059  -0.172668\n",
       " -0.84684   -0.847906\n",
       "  0.31211    0.296183\n",
       "  0.0       -0.0034339\n",
       "  0.150628   0.125965\n",
       " -1.22745   -1.24972"
      ]
     },
     "execution_count": 5,
     "metadata": {},
     "output_type": "execute_result"
    }
   ],
   "source": [
    "# first beta\n",
    "β1 = result.beta[1, :]\n",
    "true_b1_idx = findall(!iszero, true_b[:, 1])\n",
    "[β1[true_b1_idx] true_b[true_b1_idx, 1]]"
   ]
  },
  {
   "cell_type": "code",
   "execution_count": 6,
   "metadata": {
    "collapsed": false
   },
   "outputs": [
    {
     "data": {
      "text/plain": [
       "10×2 Array{Float64,2}:\n",
       "  1.73639    1.73729\n",
       " -1.19923   -1.19911\n",
       "  0.0        0.0121193\n",
       " -0.97377   -0.969569\n",
       "  0.537718   0.540525\n",
       " -0.592252  -0.609556\n",
       "  0.506521   0.481189\n",
       "  0.0       -0.0524866\n",
       "  0.337317   0.31182\n",
       "  1.27771    1.29813"
      ]
     },
     "execution_count": 6,
     "metadata": {},
     "output_type": "execute_result"
    }
   ],
   "source": [
    "# second beta\n",
    "β2 = result.beta[2, :]\n",
    "true_b2_idx = findall(!iszero, true_b[:, 2])\n",
    "[β2[true_b2_idx] true_b[true_b2_idx, 2]]"
   ]
  },
  {
   "cell_type": "code",
   "execution_count": 7,
   "metadata": {
    "collapsed": false
   },
   "outputs": [
    {
     "data": {
      "text/plain": [
       "4×2 Array{Float64,2}:\n",
       " 1.17665  1.22512\n",
       " 1.19901  1.23674\n",
       " 1.19901  1.23674\n",
       " 1.46801  1.494"
      ]
     },
     "execution_count": 7,
     "metadata": {},
     "output_type": "execute_result"
    }
   ],
   "source": [
    "# covariance matrix\n",
    "[vec(result.Σ) vec(true_Σ)]"
   ]
  },
  {
   "cell_type": "code",
   "execution_count": null,
   "metadata": {
    "collapsed": true
   },
   "outputs": [],
   "source": []
  }
 ],
 "metadata": {
  "@webio": {
   "lastCommId": null,
   "lastKernelId": null
  },
  "kernelspec": {
   "display_name": "Julia 1.5.0",
   "language": "julia",
   "name": "julia-1.5"
  },
  "language_info": {
   "file_extension": ".jl",
   "mimetype": "application/julia",
   "name": "julia",
   "version": "1.5.0"
  }
 },
 "nbformat": 4,
 "nbformat_minor": 2
}
