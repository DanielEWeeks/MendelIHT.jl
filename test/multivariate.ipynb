{
 "cells": [
  {
   "cell_type": "code",
   "execution_count": 1,
   "metadata": {
    "collapsed": false
   },
   "outputs": [
    {
     "name": "stderr",
     "output_type": "stream",
     "text": [
      "┌ Info: Precompiling MendelIHT [921c7187-1484-5754-b919-5d3ed9ac03c4]\n",
      "└ @ Base loading.jl:1278\n"
     ]
    }
   ],
   "source": [
    "using Distributed\n",
    "addprocs(4)\n",
    "\n",
    "@everywhere begin\n",
    "    using Revise\n",
    "    using MendelIHT\n",
    "    using SnpArrays\n",
    "    using Random\n",
    "    using GLM\n",
    "    using DelimitedFiles\n",
    "    using Test\n",
    "    using Distributions\n",
    "    using LinearAlgebra\n",
    "    using CSV\n",
    "    using DataFrames\n",
    "    using StatsBase\n",
    "#     using TraitSimulation, OrdinalMultinomialModels, VarianceComponentModels\n",
    "end"
   ]
  },
  {
   "cell_type": "code",
   "execution_count": 15,
   "metadata": {
    "collapsed": false
   },
   "outputs": [],
   "source": [
    "n = 1000  # number of samples\n",
    "p = 10000 # number of SNPs\n",
    "k = 10    # number of causal SNPs per trait\n",
    "d = Normal\n",
    "l = canonicallink(d())\n",
    "\n",
    "# set random seed for reproducibility\n",
    "Random.seed!(2021)\n",
    "\n",
    "# simulate `.bed` file with no missing data\n",
    "x = simulate_random_snparray(undef, n, p)\n",
    "xla = SnpLinAlg{Float64}(x, model=ADDITIVE_MODEL, center=true, scale=true) \n",
    "\n",
    "# intercept is the only nongenetic covariate\n",
    "z = ones(n)\n",
    "intercept = 1.0\n",
    "\n",
    "# simulate response y, true model b, and the correct non-0 positions of b\n",
    "Y, true_b, correct_position = simulate_random_response(xla, k, d, l, Zu=z*intercept);"
   ]
  },
  {
   "cell_type": "code",
   "execution_count": 16,
   "metadata": {
    "collapsed": false,
    "scrolled": true
   },
   "outputs": [
    {
     "name": "stdout",
     "output_type": "stream",
     "text": [
      "****                   MendelIHT Version 1.3.3                  ****\n",
      "****     Benjamin Chu, Kevin Keys, Chris German, Hua Zhou       ****\n",
      "****   Jin Zhou, Eric Sobel, Janet Sinsheimer, Kenneth Lange    ****\n",
      "****                                                            ****\n",
      "****                 Please cite our paper!                     ****\n",
      "****         https://doi.org/10.1093/gigascience/giaa044        ****\n",
      "\n",
      "Running sparse linear regression\n",
      "Link functin = IdentityLink()\n",
      "Sparsity parameter (k) = 11\n",
      "Prior weight scaling = off\n",
      "Doubly sparse projection = off\n",
      "Debias = off\n",
      "Max IHT iterations = 200\n",
      "Converging when tol < 0.0001:\n",
      "\n",
      "Iteration 1: loglikelihood = -1577.1707947596879, backtracks = 0, tol = 0.6098646752831619\n",
      "Iteration 2: loglikelihood = -1484.856813620618, backtracks = 0, tol = 0.1269955771967064\n",
      "Iteration 3: loglikelihood = -1472.9529635904933, backtracks = 0, tol = 0.05823372413927715\n",
      "Iteration 4: loglikelihood = -1472.5366421393844, backtracks = 1, tol = 0.004508958581388824\n",
      "Iteration 5: loglikelihood = -1472.4280269450728, backtracks = 1, tol = 0.0023477261313534165\n",
      "Iteration 6: loglikelihood = -1472.4000760087492, backtracks = 1, tol = 0.001186942797520523\n",
      "Iteration 7: loglikelihood = -1472.3929618828483, backtracks = 1, tol = 0.00058854690910047\n",
      "Iteration 8: loglikelihood = -1472.391164492576, backtracks = 1, tol = 0.0003036712554525334\n",
      "Iteration 9: loglikelihood = -1472.3907123942718, backtracks = 1, tol = 0.0001547292323445728\n",
      "Iteration 10: loglikelihood = -1472.3905989669602, backtracks = 1, tol = 7.825885379714214e-5\n",
      "  0.056313 seconds (270.94 k allocations: 6.241 MiB)\n"
     ]
    },
    {
     "data": {
      "text/plain": [
       "\n",
       "IHT estimated 10 nonzero SNP predictors and 1 non-genetic predictors.\n",
       "\n",
       "Compute time (sec):     0.050909996032714844\n",
       "Final loglikelihood:    -1472.3905989669602\n",
       "SNP PVE:                0.8426823000266493\n",
       "Iterations:             10\n",
       "\n",
       "Selected genetic predictors:\n",
       "\u001b[1m10×2 DataFrame\u001b[0m\n",
       "\u001b[1m Row \u001b[0m│\u001b[1m Position \u001b[0m\u001b[1m Estimated_β \u001b[0m\n",
       "\u001b[1m     \u001b[0m│\u001b[90m Int64    \u001b[0m\u001b[90m Float64     \u001b[0m\n",
       "─────┼───────────────────────\n",
       "   1 │      782    -0.437828\n",
       "   2 │      901     0.747956\n",
       "   3 │     1204     0.691327\n",
       "   4 │     1306    -1.42505\n",
       "   5 │     1655    -0.19456\n",
       "   6 │     3160    -0.861591\n",
       "   7 │     3936    -0.147235\n",
       "   8 │     4201     0.338606\n",
       "   9 │     4402    -0.126472\n",
       "  10 │     6879    -1.21895\n",
       "\n",
       "Selected nongenetic predictors:\n",
       "\u001b[1m1×2 DataFrame\u001b[0m\n",
       "\u001b[1m Row \u001b[0m│\u001b[1m Position \u001b[0m\u001b[1m Estimated_β \u001b[0m\n",
       "\u001b[1m     \u001b[0m│\u001b[90m Int64    \u001b[0m\u001b[90m Float64     \u001b[0m\n",
       "─────┼───────────────────────\n",
       "   1 │        1      1.02016"
      ]
     },
     "execution_count": 16,
     "metadata": {},
     "output_type": "execute_result"
    }
   ],
   "source": [
    "@time result = fit_iht(Y, xla, z, d=d(), l=l, k=11, max_iter=200)"
   ]
  },
  {
   "cell_type": "code",
   "execution_count": 17,
   "metadata": {
    "collapsed": false
   },
   "outputs": [
    {
     "data": {
      "text/plain": [
       "10×2 Array{Float64,2}:\n",
       " -0.437828  -0.402269\n",
       "  0.747956   0.758756\n",
       "  0.691327   0.729135\n",
       " -1.42505   -1.47163\n",
       " -0.19456   -0.172668\n",
       " -0.861591  -0.847906\n",
       "  0.338606   0.296183\n",
       "  0.0       -0.0034339\n",
       "  0.0        0.125965\n",
       " -1.21895   -1.24972"
      ]
     },
     "execution_count": 17,
     "metadata": {},
     "output_type": "execute_result"
    }
   ],
   "source": [
    "# compare estimated vs true beta values\n",
    "[result.beta[correct_position] true_b[correct_position]]"
   ]
  },
  {
   "cell_type": "code",
   "execution_count": 21,
   "metadata": {
    "collapsed": false
   },
   "outputs": [
    {
     "name": "stdout",
     "output_type": "stream",
     "text": [
      "\n",
      "\n",
      "Crossvalidation Results:\n",
      "\tk\tMSE\n",
      "\t1\t1218.5008240345846\n",
      "\t2\t842.5557378754057\n",
      "\t3\t634.0406117147634\n",
      "\t4\t487.58369505980653\n",
      "\t5\t391.3933763254454\n",
      "\t6\t305.31664542373767\n",
      "\t7\t267.91347992536646\n",
      "\t8\t243.05711924230695\n",
      "\t9\t243.47585351013382\n",
      "\t10\t245.64651577890663\n",
      "\t11\t250.63099201132914\n",
      "\t12\t253.98774650724235\n",
      "\t13\t254.7946957226353\n",
      "\t14\t255.89622437798954\n",
      "\t15\t263.60686957526195\n",
      "\t16\t269.06640759615067\n",
      "\t17\t271.05816592183567\n",
      "\t18\t274.4334327761434\n",
      "\t19\t279.3301188489498\n",
      "\t20\t284.5831155777\n",
      "\n",
      "Best k = 8\n",
      "\n",
      "  5.270758 seconds (22.97 M allocations: 519.760 MiB, 1.48% gc time)\n"
     ]
    }
   ],
   "source": [
    "# 1 cores\n",
    "Random.seed!(2020)\n",
    "@time mses_new = cv_iht(Y, xla, z, d=d(), l=l, parallel=false);"
   ]
  },
  {
   "cell_type": "code",
   "execution_count": 22,
   "metadata": {
    "collapsed": false
   },
   "outputs": [
    {
     "name": "stdout",
     "output_type": "stream",
     "text": [
      "\n",
      "\n",
      "Crossvalidation Results:\n",
      "\tk\tMSE\n",
      "\t1\t1218.5008240345846\n",
      "\t2\t842.5557378754057\n",
      "\t3\t634.0406117147634\n",
      "\t4\t487.58369505980653\n",
      "\t5\t391.3933763254454\n",
      "\t6\t305.31664542373767\n",
      "\t7\t267.91347992536646\n",
      "\t8\t243.05711924230695\n",
      "\t9\t243.47585351013382\n",
      "\t10\t245.64651577890663\n",
      "\t11\t250.63099201132914\n",
      "\t12\t253.98774650724235\n",
      "\t13\t254.7946957226353\n",
      "\t14\t255.89622437798954\n",
      "\t15\t263.60686957526195\n",
      "\t16\t269.06640759615067\n",
      "\t17\t271.05816592183567\n",
      "\t18\t274.4334327761434\n",
      "\t19\t279.3301188489498\n",
      "\t20\t284.5831155777\n",
      "\n",
      "Best k = 8\n",
      "\n",
      "  1.756494 seconds (16.96 k allocations: 6.124 MiB)\n"
     ]
    }
   ],
   "source": [
    "# 4 cores\n",
    "Random.seed!(2020)\n",
    "@time mses_new = cv_iht(Y, xla, z, d=d(), l=l, parallel=true);"
   ]
  },
  {
   "cell_type": "code",
   "execution_count": 7,
   "metadata": {
    "collapsed": false,
    "scrolled": false
   },
   "outputs": [
    {
     "name": "stdout",
     "output_type": "stream",
     "text": [
      "****                   MendelIHT Version 1.3.3                  ****\n",
      "****     Benjamin Chu, Kevin Keys, Chris German, Hua Zhou       ****\n",
      "****   Jin Zhou, Eric Sobel, Janet Sinsheimer, Kenneth Lange    ****\n",
      "****                                                            ****\n",
      "****                 Please cite our paper!                     ****\n",
      "****         https://doi.org/10.1093/gigascience/giaa044        ****\n",
      "\n",
      "Running sparse Multivariate Gaussian regression\n",
      "Link functin = IdentityLink()\n",
      "Sparsity parameter (k) = 12\n",
      "Prior weight scaling = off\n",
      "Doubly sparse projection = off\n",
      "Debias = off\n",
      "Max IHT iterations = 200\n",
      "Converging when tol < 0.0001:\n",
      "\n",
      "Iteration 1: loglikelihood = 215.4892687838203, backtracks = 0, tol = 0.1243455904380314\n",
      "Iteration 2: loglikelihood = 1382.37242885485, backtracks = 0, tol = 0.027019894208789006\n",
      "Iteration 3: loglikelihood = 1477.7383135165255, backtracks = 0, tol = 0.014225517157910452\n",
      "Iteration 4: loglikelihood = 1511.714843337414, backtracks = 0, tol = 0.004456457458306909\n",
      "Iteration 5: loglikelihood = 1517.374943234058, backtracks = 0, tol = 0.009361327995786433\n",
      "Iteration 6: loglikelihood = 1521.0563367531254, backtracks = 0, tol = 0.0020881621966380654\n",
      "Iteration 7: loglikelihood = 1521.5612806745546, backtracks = 0, tol = 0.0007739228421755521\n",
      "Iteration 8: loglikelihood = 1521.5856742000437, backtracks = 0, tol = 0.0005835724366912655\n",
      "Iteration 9: loglikelihood = 1521.5944217241986, backtracks = 0, tol = 0.0004441229847926908\n",
      "Iteration 10: loglikelihood = 1521.5999462310328, backtracks = 0, tol = 0.0003414681601819523\n",
      "Iteration 11: loglikelihood = 1521.6029227415816, backtracks = 0, tol = 0.00026020796911232585\n",
      "Iteration 12: loglikelihood = 1521.6047505987615, backtracks = 0, tol = 0.00020057542129071708\n",
      "Iteration 13: loglikelihood = 1521.6057725125233, backtracks = 0, tol = 0.00015303062268605698\n",
      "Iteration 14: loglikelihood = 1521.6063899688509, backtracks = 0, tol = 0.000118094208906598\n",
      "Iteration 15: loglikelihood = 1521.6067421001371, backtracks = 0, tol = 9.014512191781365e-5\n",
      "  1.583063 seconds (3.45 k allocations: 3.529 MiB)\n"
     ]
    },
    {
     "data": {
      "text/plain": [
       "\n",
       "Compute time (sec):     1.4965541362762451\n",
       "Final loglikelihood:    1521.6067421001371\n",
       "Iterations:             15\n",
       "Trait 1's SNP PVE:      0.554527358091918\n",
       "Trait 2's SNP PVE:      0.6195879626449299\n",
       "\n",
       "Trait 1: IHT estimated 4 nonzero SNP predictors\n",
       "\u001b[1m4×2 DataFrame\u001b[0m\n",
       "\u001b[1m Row \u001b[0m│\u001b[1m Position \u001b[0m\u001b[1m Estimated_β \u001b[0m\n",
       "\u001b[1m     \u001b[0m│\u001b[90m Int64    \u001b[0m\u001b[90m Float64     \u001b[0m\n",
       "─────┼───────────────────────\n",
       "   1 │     1197     0.121446\n",
       "   2 │     5651    -0.200705\n",
       "   3 │     5797    -1.09767\n",
       "   4 │     8087     1.2791\n",
       "\n",
       "Trait 1: IHT estimated 1 non-genetic predictors\n",
       "\u001b[1m1×2 DataFrame\u001b[0m\n",
       "\u001b[1m Row \u001b[0m│\u001b[1m Position \u001b[0m\u001b[1m Estimated_β \u001b[0m\n",
       "\u001b[1m     \u001b[0m│\u001b[90m Int64    \u001b[0m\u001b[90m Float64     \u001b[0m\n",
       "─────┼───────────────────────\n",
       "   1 │        1       10.027\n",
       "\n",
       "Trait 2: IHT estimated 6 nonzero SNP predictors\n",
       "\u001b[1m6×2 DataFrame\u001b[0m\n",
       "\u001b[1m Row \u001b[0m│\u001b[1m Position \u001b[0m\u001b[1m Estimated_β \u001b[0m\n",
       "\u001b[1m     \u001b[0m│\u001b[90m Int64    \u001b[0m\u001b[90m Float64     \u001b[0m\n",
       "─────┼───────────────────────\n",
       "   1 │      326     0.331882\n",
       "   2 │     2110     0.575645\n",
       "   3 │     5375     1.19357\n",
       "   4 │     5797     0.502072\n",
       "   5 │     6015     0.81844\n",
       "   6 │     6813     1.36932\n",
       "\n",
       "Trait 2: IHT estimated 1 non-genetic predictors\n",
       "\u001b[1m1×2 DataFrame\u001b[0m\n",
       "\u001b[1m Row \u001b[0m│\u001b[1m Position \u001b[0m\u001b[1m Estimated_β \u001b[0m\n",
       "\u001b[1m     \u001b[0m│\u001b[90m Int64    \u001b[0m\u001b[90m Float64     \u001b[0m\n",
       "─────┼───────────────────────\n",
       "   1 │        1      1.03625\n"
      ]
     },
     "execution_count": 7,
     "metadata": {},
     "output_type": "execute_result"
    },
    {
     "name": "stdout",
     "output_type": "stream",
     "text": [
      "\n"
     ]
    }
   ],
   "source": [
    "n = 1000  # number of samples\n",
    "p = 10000 # number of SNPs\n",
    "k = 10    # number of causal SNPs\n",
    "r = 2     # number of traits\n",
    "\n",
    "# set random seed for reproducibility\n",
    "Random.seed!(2021)\n",
    "\n",
    "# simulate `.bed` file with no missing data\n",
    "x = simulate_random_snparray(\"multivariate_$(r)traits.bed\", n, p)\n",
    "xla = SnpLinAlg{Float64}(x, model=ADDITIVE_MODEL, center=true, scale=true) \n",
    "\n",
    "# intercept is the only nongenetic covariate\n",
    "z = ones(n, 1)\n",
    "intercepts = [10.0 1.0] # each trait have different intercept\n",
    "\n",
    "# simulate response y, true model b, and the correct non-0 positions of b\n",
    "Y, true_Σ, true_b, correct_position = simulate_random_response(xla, k, r, Zu=z*intercepts, overlap=2);\n",
    "\n",
    "Yt = Matrix(Y')\n",
    "Zt = Matrix(z')\n",
    "ktrue = k + count(!iszero, intercepts)\n",
    "@time result = fit_iht(Yt, Transpose(xla), Zt, k=ktrue, verbose=true)"
   ]
  },
  {
   "cell_type": "code",
   "execution_count": 8,
   "metadata": {
    "collapsed": false
   },
   "outputs": [
    {
     "data": {
      "text/plain": [
       "4×2 Array{Float64,2}:\n",
       " -0.200705  -0.224675\n",
       " -1.09767   -1.14044\n",
       "  0.0       -0.14698\n",
       "  1.2791     1.25668"
      ]
     },
     "execution_count": 8,
     "metadata": {},
     "output_type": "execute_result"
    }
   ],
   "source": [
    "# first beta\n",
    "β1 = result.beta[1, :]\n",
    "true_b1_idx = findall(!iszero, true_b[:, 1])\n",
    "[β1[true_b1_idx] true_b[true_b1_idx, 1]]"
   ]
  },
  {
   "cell_type": "code",
   "execution_count": 9,
   "metadata": {
    "collapsed": false
   },
   "outputs": [
    {
     "data": {
      "text/plain": [
       "6×2 Array{Float64,2}:\n",
       " 0.331882  0.315219\n",
       " 0.575645  0.609812\n",
       " 1.19357   1.20121\n",
       " 0.502072  0.531549\n",
       " 0.81844   0.808327\n",
       " 1.36932   1.43455"
      ]
     },
     "execution_count": 9,
     "metadata": {},
     "output_type": "execute_result"
    }
   ],
   "source": [
    "# second beta\n",
    "β2 = result.beta[2, :]\n",
    "true_b2_idx = findall(!iszero, true_b[:, 2])\n",
    "[β2[true_b2_idx] true_b[true_b2_idx, 2]]"
   ]
  },
  {
   "cell_type": "code",
   "execution_count": 10,
   "metadata": {
    "collapsed": false
   },
   "outputs": [
    {
     "data": {
      "text/plain": [
       "2×2 Array{Float64,2}:\n",
       " 10.027    10.0\n",
       "  1.03625   1.0"
      ]
     },
     "execution_count": 10,
     "metadata": {},
     "output_type": "execute_result"
    }
   ],
   "source": [
    "# non genetic covariates\n",
    "[result.c intercepts']"
   ]
  },
  {
   "cell_type": "code",
   "execution_count": 6,
   "metadata": {
    "collapsed": false
   },
   "outputs": [
    {
     "data": {
      "text/plain": [
       "4×2 Array{Float64,2}:\n",
       "  2.4681    2.53934\n",
       " -1.83681  -1.85399\n",
       " -1.83681  -1.85399\n",
       "  2.42177   2.41416"
      ]
     },
     "execution_count": 6,
     "metadata": {},
     "output_type": "execute_result"
    }
   ],
   "source": [
    "# covariance matrix\n",
    "[vec(result.Σ) vec(true_Σ)]"
   ]
  },
  {
   "cell_type": "code",
   "execution_count": 29,
   "metadata": {
    "collapsed": false
   },
   "outputs": [
    {
     "name": "stdout",
     "output_type": "stream",
     "text": [
      "\n",
      "\n",
      "Crossvalidation Results:\n",
      "\tk\tMSE\n",
      "\t1\t2888.7160633632484\n",
      "\t2\t2560.135862053543\n",
      "\t3\t2067.943067029389\n",
      "\t4\t1812.0395079444284\n",
      "\t5\t1554.3120367449362\n",
      "\t6\t1277.3237598020087\n",
      "\t7\t1154.9320629872832\n",
      "\t8\t1098.5910963871872\n",
      "\t9\t1019.4597637296985\n",
      "\t10\t1030.1412464715597\n",
      "\t11\t1023.5545874904792\n",
      "\t12\t1007.9022110997687\n",
      "\t13\t1012.6193656356761\n",
      "\t14\t1019.1491606608182\n",
      "\t15\t1024.6877890077092\n",
      "\t16\t1022.9300595671257\n",
      "\t17\t1040.0286509856787\n",
      "\t18\t1033.345570850089\n",
      "\t19\t1039.8828186471897\n",
      "\t20\t1036.274158344765\n",
      "\n",
      "Best k = 12\n",
      "\n",
      "223.626565 seconds (5.55 M allocations: 654.873 MiB, 0.08% gc time)\n"
     ]
    }
   ],
   "source": [
    "# 1 core\n",
    "Random.seed!(2020)\n",
    "Yt = Matrix(Y')\n",
    "Zt = Matrix(z')\n",
    "@time mses = cv_iht(Yt, Transpose(xla), Zt, path=1:20, parallel=false);"
   ]
  },
  {
   "cell_type": "code",
   "execution_count": 13,
   "metadata": {
    "collapsed": false
   },
   "outputs": [
    {
     "name": "stderr",
     "output_type": "stream",
     "text": [
      "\u001b[32mProgress: 100%|█████████████████████████████████████████| Time: 0:00:43\u001b[39m\n"
     ]
    },
    {
     "name": "stdout",
     "output_type": "stream",
     "text": [
      "\n",
      "\n",
      "Crossvalidation Results:\n",
      "\tk\tMSE\n",
      "\t1\t2888.7160633632484\n",
      "\t2\t2560.135862053543\n",
      "\t3\t2067.943067029389\n",
      "\t4\t1812.0395079444284\n",
      "\t5\t1554.3120367449362\n",
      "\t6\t1277.3237598020087\n",
      "\t7\t1154.9320629872832\n",
      "\t8\t1098.5910963871872\n",
      "\t9\t1019.4597637296985\n",
      "\t10\t1030.1412464715597\n",
      "\t11\t1023.5545874904792\n",
      "\t12\t1007.9022110997687\n",
      "\t13\t1012.6193656356761\n",
      "\t14\t1019.1491606608182\n",
      "\t15\t1024.6877890077092\n",
      "\t16\t1022.9300595671257\n",
      "\t17\t1040.0286509856787\n",
      "\t18\t1033.345570850089\n",
      "\t19\t1039.8828186471897\n",
      "\t20\t1036.274158344765\n",
      "\n",
      "Best k = 12\n",
      "\n",
      " 43.694680 seconds (43.40 k allocations: 8.408 MiB)\n"
     ]
    }
   ],
   "source": [
    "# 4 core\n",
    "Random.seed!(2020)\n",
    "Yt = Matrix(Y')\n",
    "Zt = Matrix(z')\n",
    "@time mses = cv_iht(Yt, Transpose(xla), Zt, path=1:20, parallel=true);"
   ]
  },
  {
   "cell_type": "markdown",
   "metadata": {},
   "source": [
    "# First simulate multivariate Gaussian traits\n",
    "\n",
    "\n",
    "With $r$ traits, each sample's phenotype $\\mathbf{y}_{i}$ is simulated under\n",
    "\n",
    "$$\\mathbf{y}_{i}^{r \\times 1} \\sim N(\\mathbf{B}^{r \\times p}\\mathbf{x}_{i}^{p \\times 1}, \\ \\ \\Sigma_{r \\times r})$$"
   ]
  },
  {
   "cell_type": "code",
   "execution_count": 2,
   "metadata": {
    "collapsed": false
   },
   "outputs": [],
   "source": [
    "n = 1000  # number of samples\n",
    "p = 10000 # number of SNPs\n",
    "k = 10    # number of causal SNPs\n",
    "r = 2     # number of traits\n",
    "\n",
    "# set random seed for reproducibility\n",
    "Random.seed!(2021)\n",
    "\n",
    "# simulate `.bed` file with no missing data\n",
    "x = simulate_random_snparray(\"multivariate_$(r)traits.bed\", n, p)\n",
    "xla = SnpLinAlg{Float64}(x, model=ADDITIVE_MODEL, center=true, scale=true) \n",
    "\n",
    "# intercept is the only nongenetic covariate\n",
    "z = ones(n, 1)\n",
    "intercepts = [10.0 1.0] # each trait have different intercept\n",
    "\n",
    "# simulate response y, true model b, and the correct non-0 positions of b\n",
    "Y, true_Σ, true_b, correct_position = simulate_random_response(xla, k, r, Zu=z*intercepts, overlap=2);"
   ]
  },
  {
   "cell_type": "code",
   "execution_count": 5,
   "metadata": {
    "collapsed": false
   },
   "outputs": [],
   "source": [
    "# save true SNP's position and effect size\n",
    "open(\"multivariate_$(r)traits_true_beta.txt\", \"w\") do io\n",
    "    println(io, \"snpID,effectsize\")\n",
    "    for pos in correct_position\n",
    "        println(io, \"snp$pos,\", true_b[pos])\n",
    "    end\n",
    "end\n",
    "\n",
    "# create `.bim` and `.bam` files using phenotype\n",
    "make_bim_fam_files(x, Y, \"multivariate_$(r)traits\")\n",
    "\n",
    "# save phenotypes in separate file\n",
    "open(\"multivariate_$(r)traits.phen\", \"w\") do io\n",
    "    println(io, \"FID\\tIID\\tT1\\tT2\")\n",
    "    for i in 1:n\n",
    "        println(io, \"$i\\t1\\t\", Y[i, 1], \"\\t\", Y[i, 2])\n",
    "    end\n",
    "end"
   ]
  },
  {
   "cell_type": "markdown",
   "metadata": {},
   "source": [
    "# Run IHT"
   ]
  },
  {
   "cell_type": "code",
   "execution_count": 7,
   "metadata": {
    "collapsed": false,
    "scrolled": false
   },
   "outputs": [
    {
     "name": "stdout",
     "output_type": "stream",
     "text": [
      "****                   MendelIHT Version 1.3.3                  ****\n",
      "****     Benjamin Chu, Kevin Keys, Chris German, Hua Zhou       ****\n",
      "****   Jin Zhou, Eric Sobel, Janet Sinsheimer, Kenneth Lange    ****\n",
      "****                                                            ****\n",
      "****                 Please cite our paper!                     ****\n",
      "****         https://doi.org/10.1093/gigascience/giaa044        ****\n",
      "\n",
      "Running sparse Multivariate Gaussian regression\n",
      "Link functin = IdentityLink()\n",
      "Sparsity parameter (k) = 11\n",
      "Prior weight scaling = off\n",
      "Doubly sparse projection = off\n",
      "Debias = off\n",
      "Max IHT iterations = 100\n",
      "Converging when tol < 0.0001:\n",
      "\n",
      "Iteration 1: loglikelihood = 215.4892687838203, backtracks = 0, tol = 0.1258803451727764\n",
      "Iteration 2: loglikelihood = 1400.4415131326584, backtracks = 0, tol = 0.027353391443577676\n",
      "Iteration 3: loglikelihood = 1485.32487407949, backtracks = 0, tol = 0.007379616806130262\n",
      "Iteration 4: loglikelihood = 1498.0290279587853, backtracks = 0, tol = 0.011942196241512437\n",
      "Iteration 5: loglikelihood = 1512.156412313122, backtracks = 0, tol = 0.004622583175071315\n",
      "Iteration 6: loglikelihood = 1514.6090313465313, backtracks = 0, tol = 0.001382288533402642\n",
      "Iteration 7: loglikelihood = 1514.802348710996, backtracks = 0, tol = 0.00034861336676207487\n",
      "Iteration 8: loglikelihood = 1514.8118712268208, backtracks = 0, tol = 0.00027914155297742264\n",
      "Iteration 9: loglikelihood = 1514.8150569026072, backtracks = 0, tol = 0.00021256362692701264\n",
      "Iteration 10: loglikelihood = 1514.8168077342787, backtracks = 0, tol = 0.00016158589471162017\n",
      "Iteration 11: loglikelihood = 1514.817813149259, backtracks = 0, tol = 0.0001236724224587062\n",
      "Iteration 12: loglikelihood = 1514.818382728515, backtracks = 0, tol = 9.403063423559545e-5\n",
      "  1.290392 seconds (2.65 k allocations: 2.989 MiB)\n"
     ]
    },
    {
     "data": {
      "text/plain": [
       "\n",
       "Compute time (sec):     1.2903869152069092\n",
       "Final loglikelihood:    1514.818382728515\n",
       "Iterations:             12\n",
       "Trait 1's SNP PVE:      0.5517175992313121\n",
       "Trait 2's SNP PVE:      0.6190809967368884\n",
       "\n",
       "Trait 1: IHT estimated 3 nonzero SNP predictors\n",
       "\u001b[1m3×2 DataFrame\u001b[0m\n",
       "\u001b[1m Row \u001b[0m│\u001b[1m Position \u001b[0m\u001b[1m Estimated_β \u001b[0m\n",
       "\u001b[1m     \u001b[0m│\u001b[90m Int64    \u001b[0m\u001b[90m Float64     \u001b[0m\n",
       "─────┼───────────────────────\n",
       "   1 │     5651    -0.200754\n",
       "   2 │     5797    -1.09966\n",
       "   3 │     8087     1.27901\n",
       "\n",
       "Trait 1: IHT estimated 1 non-genetic predictors\n",
       "\u001b[1m1×2 DataFrame\u001b[0m\n",
       "\u001b[1m Row \u001b[0m│\u001b[1m Position \u001b[0m\u001b[1m Estimated_β \u001b[0m\n",
       "\u001b[1m     \u001b[0m│\u001b[90m Int64    \u001b[0m\u001b[90m Float64     \u001b[0m\n",
       "─────┼───────────────────────\n",
       "   1 │        1       10.027\n",
       "\n",
       "Trait 2: IHT estimated 6 nonzero SNP predictors\n",
       "\u001b[1m6×2 DataFrame\u001b[0m\n",
       "\u001b[1m Row \u001b[0m│\u001b[1m Position \u001b[0m\u001b[1m Estimated_β \u001b[0m\n",
       "\u001b[1m     \u001b[0m│\u001b[90m Int64    \u001b[0m\u001b[90m Float64     \u001b[0m\n",
       "─────┼───────────────────────\n",
       "   1 │      326     0.331488\n",
       "   2 │     2110     0.574476\n",
       "   3 │     5375     1.19453\n",
       "   4 │     5797     0.501675\n",
       "   5 │     6015     0.81899\n",
       "   6 │     6813     1.36762\n",
       "\n",
       "Trait 2: IHT estimated 1 non-genetic predictors\n",
       "\u001b[1m1×2 DataFrame\u001b[0m\n",
       "\u001b[1m Row \u001b[0m│\u001b[1m Position \u001b[0m\u001b[1m Estimated_β \u001b[0m\n",
       "\u001b[1m     \u001b[0m│\u001b[90m Int64    \u001b[0m\u001b[90m Float64     \u001b[0m\n",
       "─────┼───────────────────────\n",
       "   1 │        1      1.03625\n"
      ]
     },
     "execution_count": 7,
     "metadata": {},
     "output_type": "execute_result"
    },
    {
     "name": "stdout",
     "output_type": "stream",
     "text": [
      "\n"
     ]
    }
   ],
   "source": [
    "Yt = Matrix(Y')\n",
    "Zt = Matrix(z')\n",
    "ktrue = k + count(!iszero, intercepts)\n",
    "@time result = fit_iht(Yt, Transpose(xla), Zt, k=11, verbose=true)"
   ]
  },
  {
   "cell_type": "markdown",
   "metadata": {},
   "source": [
    "## Check answer"
   ]
  },
  {
   "cell_type": "code",
   "execution_count": 8,
   "metadata": {
    "collapsed": false
   },
   "outputs": [
    {
     "data": {
      "text/plain": [
       "4×2 Array{Float64,2}:\n",
       " -0.200754  -0.224675\n",
       " -1.09966   -1.14044\n",
       "  0.0       -0.14698\n",
       "  1.27901    1.25668"
      ]
     },
     "execution_count": 8,
     "metadata": {},
     "output_type": "execute_result"
    }
   ],
   "source": [
    "# first beta\n",
    "β1 = result.beta[1, :]\n",
    "true_b1_idx = findall(!iszero, true_b[:, 1])\n",
    "[β1[true_b1_idx] true_b[true_b1_idx, 1]]"
   ]
  },
  {
   "cell_type": "code",
   "execution_count": 9,
   "metadata": {
    "collapsed": false
   },
   "outputs": [
    {
     "data": {
      "text/plain": [
       "6×2 Array{Float64,2}:\n",
       " 0.331488  0.315219\n",
       " 0.574476  0.609812\n",
       " 1.19453   1.20121\n",
       " 0.501675  0.531549\n",
       " 0.81899   0.808327\n",
       " 1.36762   1.43455"
      ]
     },
     "execution_count": 9,
     "metadata": {},
     "output_type": "execute_result"
    }
   ],
   "source": [
    "# second beta\n",
    "β2 = result.beta[2, :]\n",
    "true_b2_idx = findall(!iszero, true_b[:, 2])\n",
    "[β2[true_b2_idx] true_b[true_b2_idx, 2]]"
   ]
  },
  {
   "cell_type": "code",
   "execution_count": 10,
   "metadata": {
    "collapsed": false
   },
   "outputs": [
    {
     "data": {
      "text/plain": [
       "2×2 Array{Float64,2}:\n",
       " 10.027    10.0\n",
       "  1.03625   1.0"
      ]
     },
     "execution_count": 10,
     "metadata": {},
     "output_type": "execute_result"
    }
   ],
   "source": [
    "# non genetic covariates\n",
    "[result.c intercepts']"
   ]
  },
  {
   "cell_type": "code",
   "execution_count": 11,
   "metadata": {
    "collapsed": false
   },
   "outputs": [
    {
     "data": {
      "text/plain": [
       "4×2 Array{Float64,2}:\n",
       "  2.48446   2.53934\n",
       " -1.83826  -1.85399\n",
       " -1.83826  -1.85399\n",
       "  2.42229   2.41416"
      ]
     },
     "execution_count": 11,
     "metadata": {},
     "output_type": "execute_result"
    }
   ],
   "source": [
    "# covariance matrix\n",
    "[vec(result.Σ) vec(true_Σ)]"
   ]
  },
  {
   "cell_type": "code",
   "execution_count": 12,
   "metadata": {
    "collapsed": false
   },
   "outputs": [
    {
     "data": {
      "text/plain": [
       "8-element Array{Int64,1}:\n",
       " 5651\n",
       " 5797\n",
       " 6813\n",
       " 8087\n",
       "  326\n",
       " 2110\n",
       " 5375\n",
       " 6015"
      ]
     },
     "execution_count": 12,
     "metadata": {},
     "output_type": "execute_result"
    }
   ],
   "source": [
    "# number of causal SNPs recovered\n",
    "correct_snps = [x[1] for x in correct_position]  # truely causal snps\n",
    "signif_snps = true_b1_idx ∪ true_b2_idx          # IHT's selected snps\n",
    "signif_snps ∩ correct_snps"
   ]
  },
  {
   "cell_type": "markdown",
   "metadata": {},
   "source": [
    "# Test Cross validation"
   ]
  },
  {
   "cell_type": "code",
   "execution_count": 36,
   "metadata": {
    "collapsed": false
   },
   "outputs": [
    {
     "ename": "LoadError",
     "evalue": "\u001b[91mMethodError: no method matching cv_iht(::Array{Float64,2}, ::SnpArray, ::Array{Float64,2})\u001b[39m\n\u001b[91m\u001b[0mClosest candidates are:\u001b[39m\n\u001b[91m\u001b[0m  cv_iht(::Union{AbstractArray{T,1}, AbstractArray{T,2}}, \u001b[91m::AbstractArray{T,2}\u001b[39m, ::Union{AbstractArray{T,1}, AbstractArray{T,2}}; d, l, path, q, est_r, group, weight, folds, destin, use_maf, debias, verbose, parallel, max_iter) where T<:Union{Float32, Float64} at /Users/biona001/.julia/dev/MendelIHT/src/cross_validation.jl:33\u001b[39m\n\u001b[91m\u001b[0m  cv_iht(::Union{AbstractArray{T,1}, AbstractArray{T,2}}, ::AbstractArray{T,2} where T; kwargs...) where T at /Users/biona001/.julia/dev/MendelIHT/src/cross_validation.jl:93\u001b[39m",
     "output_type": "error",
     "traceback": [
      "\u001b[91mMethodError: no method matching cv_iht(::Array{Float64,2}, ::SnpArray, ::Array{Float64,2})\u001b[39m\n\u001b[91m\u001b[0mClosest candidates are:\u001b[39m\n\u001b[91m\u001b[0m  cv_iht(::Union{AbstractArray{T,1}, AbstractArray{T,2}}, \u001b[91m::AbstractArray{T,2}\u001b[39m, ::Union{AbstractArray{T,1}, AbstractArray{T,2}}; d, l, path, q, est_r, group, weight, folds, destin, use_maf, debias, verbose, parallel, max_iter) where T<:Union{Float32, Float64} at /Users/biona001/.julia/dev/MendelIHT/src/cross_validation.jl:33\u001b[39m\n\u001b[91m\u001b[0m  cv_iht(::Union{AbstractArray{T,1}, AbstractArray{T,2}}, ::AbstractArray{T,2} where T; kwargs...) where T at /Users/biona001/.julia/dev/MendelIHT/src/cross_validation.jl:93\u001b[39m",
      "",
      "Stacktrace:",
      " [1] top-level scope at ./timing.jl:174 [inlined]",
      " [2] top-level scope at ./In[36]:0",
      " [3] include_string(::Function, ::Module, ::String, ::String) at ./loading.jl:1091"
     ]
    }
   ],
   "source": [
    "Random.seed!(2020)\n",
    "Yt = Matrix(Y')\n",
    "Zt = Matrix(z')\n",
    "@time mses = cv_iht(Yt, x, Zt);"
   ]
  },
  {
   "cell_type": "code",
   "execution_count": 15,
   "metadata": {
    "collapsed": false
   },
   "outputs": [
    {
     "data": {
      "text/plain": [
       "11"
      ]
     },
     "execution_count": 15,
     "metadata": {},
     "output_type": "execute_result"
    }
   ],
   "source": [
    "argmin(mses)"
   ]
  },
  {
   "cell_type": "markdown",
   "metadata": {},
   "source": [
    "**Conclusion:** After cross validation, IHT finds 10/12 predictors and 8/10 causal SNPs. "
   ]
  },
  {
   "cell_type": "markdown",
   "metadata": {},
   "source": [
    "# GEMMA multivariate results"
   ]
  },
  {
   "cell_type": "code",
   "execution_count": 9,
   "metadata": {
    "collapsed": true
   },
   "outputs": [],
   "source": [
    "gemma_df = CSV.read(\"gemma.result.assoc.txt\", DataFrame)\n",
    "\n",
    "# pvalues\n",
    "pval_wald = gemma_df[!, :p_wald]\n",
    "pval_lrt = gemma_df[!, :p_lrt]\n",
    "pval_score = gemma_df[!, :p_score]\n",
    "\n",
    "# estimated beta\n",
    "estim_β1 = gemma_df[!, :beta_1]\n",
    "estim_β2 = gemma_df[!, :beta_2]\n",
    "\n",
    "# estimated covariance matrix\n",
    "estim_σ11 = gemma_df[!, :Vbeta_1_1]\n",
    "estim_σ12 = gemma_df[!, :Vbeta_1_2]\n",
    "estim_σ22 = gemma_df[!, :Vbeta_2_2];"
   ]
  },
  {
   "cell_type": "code",
   "execution_count": 10,
   "metadata": {
    "collapsed": false
   },
   "outputs": [
    {
     "data": {
      "text/plain": [
       "6-element Array{Int64,1}:\n",
       " 2110\n",
       " 5375\n",
       " 5797\n",
       " 6015\n",
       " 6813\n",
       " 8087"
      ]
     },
     "execution_count": 10,
     "metadata": {},
     "output_type": "execute_result"
    }
   ],
   "source": [
    "correct_snps = [x[1] for x in correct_position]  # truely causal snps\n",
    "signif_snps = findall(x -> x ≤ 0.05/p, pval_lrt) # gemma's selected snps\n",
    "signif_snps ∩ correct_snps"
   ]
  },
  {
   "cell_type": "markdown",
   "metadata": {},
   "source": [
    "**Conclusion:** GEMMA finds 6/10 causal SNPs"
   ]
  },
  {
   "cell_type": "markdown",
   "metadata": {},
   "source": [
    "# MV-PLINK"
   ]
  },
  {
   "cell_type": "code",
   "execution_count": 25,
   "metadata": {
    "collapsed": false
   },
   "outputs": [
    {
     "data": {
      "text/plain": [
       "6-element Array{Int64,1}:\n",
       " 2110\n",
       " 5375\n",
       " 5797\n",
       " 6015\n",
       " 6813\n",
       " 8087"
      ]
     },
     "execution_count": 25,
     "metadata": {},
     "output_type": "execute_result"
    }
   ],
   "source": [
    "mvplink_df = CSV.read(\"plink.mqfam.total\", DataFrame, delim=' ', ignorerepeated=true)\n",
    "\n",
    "# pvalues\n",
    "pval = mvplink_df[!, :P]\n",
    "\n",
    "# SNPs passing threshold\n",
    "signif_snps = findall(x -> x ≤ 0.05 / p, pval)\n",
    "signif_snps ∩ correct_snps"
   ]
  },
  {
   "cell_type": "markdown",
   "metadata": {},
   "source": [
    "**Conclusion:** MV-PLINK finds 6/10 causal SNPs"
   ]
  },
  {
   "cell_type": "markdown",
   "metadata": {
    "collapsed": true
   },
   "source": [
    "# Compare with univariate IHT\n",
    "\n",
    "+ `fit_iht`: ~20 times slower\n",
    "+ `cv_iht`: ~70 times slower"
   ]
  },
  {
   "cell_type": "code",
   "execution_count": 49,
   "metadata": {
    "collapsed": false
   },
   "outputs": [],
   "source": [
    "n = 1000  # number of samples\n",
    "p = 10000 # number of SNPs\n",
    "k = 10    # number of causal SNPs per trait\n",
    "d = Normal\n",
    "l = canonicallink(d())\n",
    "\n",
    "# set random seed for reproducibility\n",
    "Random.seed!(2021)\n",
    "\n",
    "# simulate `.bed` file with no missing data\n",
    "x = simulate_random_snparray(undef, n, p)\n",
    "xla = SnpLinAlg{Float64}(x, model=ADDITIVE_MODEL, center=true, scale=true) \n",
    "\n",
    "# intercept is the only nongenetic covariate\n",
    "z = ones(n)\n",
    "intercept = 1.0\n",
    "\n",
    "# simulate response y, true model b, and the correct non-0 positions of b\n",
    "Y, true_b, correct_position = simulate_random_response(xla, k, d, l, Zu=z*intercept);"
   ]
  },
  {
   "cell_type": "code",
   "execution_count": 50,
   "metadata": {
    "collapsed": false
   },
   "outputs": [
    {
     "name": "stdout",
     "output_type": "stream",
     "text": [
      "****                   MendelIHT Version 1.4.0                  ****\n",
      "****     Benjamin Chu, Kevin Keys, Chris German, Hua Zhou       ****\n",
      "****   Jin Zhou, Eric Sobel, Janet Sinsheimer, Kenneth Lange    ****\n",
      "****                                                            ****\n",
      "****                 Please cite our paper!                     ****\n",
      "****         https://doi.org/10.1093/gigascience/giaa044        ****\n",
      "\n",
      "Running sparse linear regression\n",
      "Link functin = IdentityLink()\n",
      "Sparsity parameter (k) = 11\n",
      "Prior weight scaling = off\n",
      "Doubly sparse projection = off\n",
      "Debias = off\n",
      "Debias = off\n",
      "Max IHT iterations = 100\n",
      "Converging when tol < 0.0001:\n",
      "\n",
      "Iteration 1: loglikelihood = -1577.170794759688, backtracks = 0, tol = 0.609864675283163\n",
      "Iteration 2: loglikelihood = -1484.8568136206177, backtracks = 0, tol = 0.1269955771967065\n",
      "Iteration 3: loglikelihood = -1472.9529635904933, backtracks = 0, tol = 0.05823372413927707\n",
      "Iteration 4: loglikelihood = -1472.5366421393842, backtracks = 1, tol = 0.004508958581388835\n",
      "Iteration 5: loglikelihood = -1472.428026945073, backtracks = 1, tol = 0.0023477261313534278\n",
      "Iteration 6: loglikelihood = -1472.4000760087492, backtracks = 1, tol = 0.0011869427975205343\n",
      "Iteration 7: loglikelihood = -1472.3929618828483, backtracks = 1, tol = 0.0005885469091004699\n",
      "Iteration 8: loglikelihood = -1472.391164492576, backtracks = 1, tol = 0.00030367125545254485\n",
      "Iteration 9: loglikelihood = -1472.3907123942718, backtracks = 1, tol = 0.0001547292323445728\n",
      "Iteration 10: loglikelihood = -1472.3905989669602, backtracks = 1, tol = 7.825885379714214e-5\n",
      "  0.066853 seconds (157.22 k allocations: 4.592 MiB, 15.74% gc time)\n"
     ]
    },
    {
     "data": {
      "text/plain": [
       "\n",
       "IHT estimated 10 nonzero SNP predictors and 1 non-genetic predictors.\n",
       "\n",
       "Compute time (sec):     0.06683206558227539\n",
       "Final loglikelihood:    -1472.3905989669602\n",
       "Iterations:             10\n",
       "\n",
       "Selected genetic predictors:\n",
       "\u001b[1m10×2 DataFrame\u001b[0m\n",
       "\u001b[1m Row \u001b[0m│\u001b[1m Position \u001b[0m\u001b[1m Estimated_β \u001b[0m\n",
       "\u001b[1m     \u001b[0m│\u001b[90m Int64    \u001b[0m\u001b[90m Float64     \u001b[0m\n",
       "─────┼───────────────────────\n",
       "   1 │      782    -0.437828\n",
       "   2 │      901     0.747956\n",
       "   3 │     1204     0.691327\n",
       "   4 │     1306    -1.42505\n",
       "   5 │     1655    -0.19456\n",
       "   6 │     3160    -0.861591\n",
       "   7 │     3936    -0.147235\n",
       "   8 │     4201     0.338606\n",
       "   9 │     4402    -0.126472\n",
       "  10 │     6879    -1.21895\n",
       "\n",
       "Selected nongenetic predictors:\n",
       "\u001b[1m1×2 DataFrame\u001b[0m\n",
       "\u001b[1m Row \u001b[0m│\u001b[1m Position \u001b[0m\u001b[1m Estimated_β \u001b[0m\n",
       "\u001b[1m     \u001b[0m│\u001b[90m Int64    \u001b[0m\u001b[90m Float64     \u001b[0m\n",
       "─────┼───────────────────────\n",
       "   1 │        1      1.02016"
      ]
     },
     "execution_count": 50,
     "metadata": {},
     "output_type": "execute_result"
    }
   ],
   "source": [
    "@time result = fit_iht(Y, xla, z, d=d(), l=l, k=11)"
   ]
  },
  {
   "cell_type": "code",
   "execution_count": 41,
   "metadata": {
    "collapsed": false
   },
   "outputs": [
    {
     "data": {
      "text/plain": [
       "10×2 Array{Float64,2}:\n",
       " -0.437828  -0.402269\n",
       "  0.747956   0.758756\n",
       "  0.691327   0.729135\n",
       " -1.42505   -1.47163\n",
       " -0.19456   -0.172668\n",
       " -0.861591  -0.847906\n",
       "  0.338606   0.296183\n",
       "  0.0       -0.0034339\n",
       "  0.0        0.125965\n",
       " -1.21895   -1.24972"
      ]
     },
     "execution_count": 41,
     "metadata": {},
     "output_type": "execute_result"
    }
   ],
   "source": [
    "# compare estimated vs true beta values\n",
    "[result.beta[correct_position] true_b[correct_position]]"
   ]
  },
  {
   "cell_type": "markdown",
   "metadata": {},
   "source": [
    "### Cross validation timing"
   ]
  },
  {
   "cell_type": "code",
   "execution_count": 92,
   "metadata": {
    "collapsed": false
   },
   "outputs": [
    {
     "name": "stdout",
     "output_type": "stream",
     "text": [
      "\n",
      "\n",
      "Crossvalidation Results:\n",
      "\tk\tMSE\n",
      "\t1\t1221.686764265696\n",
      "\t2\t864.1553085156108\n",
      "\t3\t661.6430376327284\n",
      "\t4\t516.2679723147669\n",
      "\t5\t418.2721191658746\n",
      "\t6\t342.7931325462592\n",
      "\t7\t303.15938053956916\n",
      "\t8\t276.6241892508097\n",
      "\t9\t278.29180795455045\n",
      "\t10\t280.31878745464377\n",
      "\t11\t282.10757732881564\n",
      "\t12\t285.1294156734012\n",
      "\t13\t293.16875008847467\n",
      "\t14\t297.43739905389987\n",
      "\t15\t296.17300065041906\n",
      "\t16\t307.7814278347698\n",
      "\t17\t302.0113818893564\n",
      "\t18\t312.70262374274137\n",
      "\t19\t309.87367962700966\n",
      "\t20\t315.6750311115386\n",
      "  4.315330 seconds (9.35 M allocations: 332.277 MiB, 1.12% gc time)\n"
     ]
    }
   ],
   "source": [
    "# 1 cores\n",
    "Random.seed!(2020)\n",
    "@time cv_iht(Y, x, z);"
   ]
  },
  {
   "cell_type": "markdown",
   "metadata": {},
   "source": [
    "# More complicated univariate traits\n",
    "\n",
    "Let's simulate $10$ causal SNPs where genetics explain 60% of heritability for $2$ traits. The univariate model is:\n",
    "\n",
    "$$\\mathbf{y}_{n \\times 1} \\sim N(\\mathbf{X}_{n \\times p}\\mathbf{\\beta}_{p \\times 1} \\ , \\ \\sigma_g^2 \\Phi_{n \\times n} + \\sigma_e^2 \\mathbf{I}_{n}).$$\n",
    "\n",
    "where $\\Phi$ is the GRM and $\\sigma_g^2 = 0.6, \\sigma_e^2 = 0.4$. "
   ]
  },
  {
   "cell_type": "code",
   "execution_count": 3,
   "metadata": {
    "collapsed": false
   },
   "outputs": [
    {
     "data": {
      "text/plain": [
       "simulate_random_beta"
      ]
     },
     "execution_count": 3,
     "metadata": {},
     "output_type": "execute_result"
    }
   ],
   "source": [
    "\"\"\"\n",
    "k = Number of causal SNPs\n",
    "p = Total number of SNPs\n",
    "traits = Number of traits (phenotypes)\n",
    "overlap = number of causal SNPs shared in each trait\n",
    "\"\"\"\n",
    "function simulate_random_beta(k::Int, p::Int, traits::Int; overlap::Int=0)\n",
    "    true_b = zeros(p, traits)\n",
    "    if overlap == 0\n",
    "        causal_snps = sample(1:(traits * p), k, replace=false)\n",
    "        true_b[causal_snps] = randn(k)\n",
    "    else\n",
    "        shared_snps = sample(1:p, overlap, replace=false)\n",
    "        weight_vector = aweights(1 / (traits * (p - overlap)) * ones(traits * p))\n",
    "        for i in 1:traits\n",
    "            weight_vector[i*shared_snps] .= 0.0 # avoid sampling from shared snps\n",
    "        end\n",
    "        @assert sum(weight_vector) ≈ 1.0\n",
    "        # simulate β for shared predictors\n",
    "        for i in 1:traits\n",
    "            true_b[shared_snps, i] = randn(overlap)\n",
    "        end\n",
    "        # simulate β for none shared predictors\n",
    "        nonshared_snps = sample(1:(traits * p), weight_vector, k - traits * overlap, replace=false)\n",
    "        true_b[nonshared_snps] = randn(k - traits * overlap)\n",
    "    end\n",
    "\n",
    "    return true_b\n",
    "end"
   ]
  },
  {
   "cell_type": "code",
   "execution_count": 267,
   "metadata": {
    "collapsed": false
   },
   "outputs": [],
   "source": [
    "n = 1000  # number of samples\n",
    "p = 10000 # number of SNPs\n",
    "k = 10    # number of causal SNPs per trait\n",
    "d = Normal\n",
    "l = canonicallink(d())\n",
    "\n",
    "# set random seed for reproducibility\n",
    "Random.seed!(2021)\n",
    "\n",
    "# simulate `.bed` file with no missing data\n",
    "x = simulate_random_snparray(undef, n, p)\n",
    "xla = SnpLinAlg{Float64}(x, model=ADDITIVE_MODEL, center=true, scale=true) \n",
    "\n",
    "# simulate true_b with 1 phenotype\n",
    "b = simulate_random_beta(k, p, 1)\n",
    "\n",
    "# intercept is the only nongenetic covariate\n",
    "z = ones(n)\n",
    "intercept = 1.0\n",
    "\n",
    "# between sample covariance is identity + GRM (2 times because in SnpArrays grm is halved)\n",
    "Φ = 2grm(x)\n",
    "I_n = Matrix{Float64}(I, size(Φ))\n",
    "σg = 0.6\n",
    "σe = 0.4\n",
    "V = σg * Φ + σe * I_n;\n",
    "\n",
    "# simulate response y\n",
    "mvn = MvNormal(vec(intercept * z + xla * b), V)\n",
    "y = rand(mvn);"
   ]
  },
  {
   "cell_type": "code",
   "execution_count": 268,
   "metadata": {
    "collapsed": false
   },
   "outputs": [
    {
     "name": "stdout",
     "output_type": "stream",
     "text": [
      "****                   MendelIHT Version 1.3.3                  ****\n",
      "****     Benjamin Chu, Kevin Keys, Chris German, Hua Zhou       ****\n",
      "****   Jin Zhou, Eric Sobel, Janet Sinsheimer, Kenneth Lange    ****\n",
      "****                                                            ****\n",
      "****                 Please cite our paper!                     ****\n",
      "****         https://doi.org/10.1093/gigascience/giaa044        ****\n",
      "\n",
      "Running sparse linear regression\n",
      "Link functin = IdentityLink()\n",
      "Sparsity parameter (k) = 11\n",
      "Prior weight scaling = off\n",
      "Doubly sparse projection = off\n",
      "Debias = off\n",
      "Max IHT iterations = 200\n",
      "Converging when tol < 0.0001:\n",
      "\n",
      "Iteration 1: loglikelihood = -1627.0353462544151, backtracks = 0, tol = 0.6924353417126095\n",
      "Iteration 2: loglikelihood = -1420.1638948810214, backtracks = 0, tol = 0.23769360612297397\n",
      "Iteration 3: loglikelihood = -1406.552555178033, backtracks = 0, tol = 0.07456091670768471\n",
      "Iteration 4: loglikelihood = -1405.9717536588919, backtracks = 0, tol = 0.007850378616075855\n",
      "Iteration 5: loglikelihood = -1405.9652530033154, backtracks = 0, tol = 0.0007919933023886452\n",
      "Iteration 6: loglikelihood = -1405.9651507392962, backtracks = 0, tol = 0.0001030928773413864\n",
      "Iteration 7: loglikelihood = -1405.9651489743871, backtracks = 0, tol = 1.1683078738824596e-5\n",
      "  0.039592 seconds (146.82 k allocations: 3.532 MiB)\n"
     ]
    },
    {
     "data": {
      "text/plain": [
       "\n",
       "IHT estimated 10 nonzero SNP predictors and 1 non-genetic predictors.\n",
       "\n",
       "Compute time (sec):     0.034310102462768555\n",
       "Final loglikelihood:    -1405.9651489743871\n",
       "SNP PVE:                0.9024422743420005\n",
       "Iterations:             7\n",
       "\n",
       "Selected genetic predictors:\n",
       "\u001b[1m10×2 DataFrame\u001b[0m\n",
       "\u001b[1m Row \u001b[0m│\u001b[1m Position \u001b[0m\u001b[1m Estimated_β \u001b[0m\n",
       "\u001b[1m     \u001b[0m│\u001b[90m Int64    \u001b[0m\u001b[90m Float64     \u001b[0m\n",
       "─────┼───────────────────────\n",
       "   1 │      329     0.501429\n",
       "   2 │     1438     0.852922\n",
       "   3 │     5797    -1.1783\n",
       "   4 │     6307     1.5088\n",
       "   5 │     6813    -0.158366\n",
       "   6 │     7152     1.07684\n",
       "   7 │     8070     0.772066\n",
       "   8 │     8739     1.38536\n",
       "   9 │     9138    -0.586787\n",
       "  10 │     9180     0.563219\n",
       "\n",
       "Selected nongenetic predictors:\n",
       "\u001b[1m1×2 DataFrame\u001b[0m\n",
       "\u001b[1m Row \u001b[0m│\u001b[1m Position \u001b[0m\u001b[1m Estimated_β \u001b[0m\n",
       "\u001b[1m     \u001b[0m│\u001b[90m Int64    \u001b[0m\u001b[90m Float64     \u001b[0m\n",
       "─────┼───────────────────────\n",
       "   1 │        1      1.01532"
      ]
     },
     "execution_count": 268,
     "metadata": {},
     "output_type": "execute_result"
    }
   ],
   "source": [
    "ktrue = k + count(!iszero, intercept)\n",
    "@time result = fit_iht(y, xla, z, k=ktrue, max_iter=200)"
   ]
  },
  {
   "cell_type": "code",
   "execution_count": 271,
   "metadata": {
    "collapsed": false
   },
   "outputs": [
    {
     "data": {
      "text/plain": [
       "10×2 Array{Float64,2}:\n",
       "  0.501429   0.531549\n",
       "  0.852922   0.882913\n",
       " -1.1783    -1.14044\n",
       "  1.5088     1.43455\n",
       " -0.158366  -0.14698\n",
       "  1.07684    1.11302\n",
       "  0.772066   0.812423\n",
       "  1.38536    1.37084\n",
       " -0.586787  -0.589568\n",
       "  0.563219   0.622075"
      ]
     },
     "execution_count": 271,
     "metadata": {},
     "output_type": "execute_result"
    }
   ],
   "source": [
    "# compare estimated vs true beta values\n",
    "correct_position = findall(!iszero, b)\n",
    "[result.beta[correct_position] b[correct_position]]"
   ]
  },
  {
   "cell_type": "markdown",
   "metadata": {},
   "source": [
    "# More complicated multivariate traits\n",
    "\n",
    "With $r$ traits, the multivariate analog is:\n",
    "\n",
    "$$\\mathbf{Y}_{r \\times n} \\sim \\text{MatrixNormal}(\\mathbf{B}_{r \\times p}\\mathbf{X}_{p \\times n}, \\ \\ \\Sigma_{r \\times r} , \\ \\ \\sigma_g^2\\Phi_{n \\times n} + \\sigma_e^2 \\mathbf{I}_{n \\times n})$$\n",
    "\n",
    "where $\\Sigma_{r \\times r}$ is the row covariance matrix, and $\\sigma_g^2\\Phi_{n \\times n} + \\sigma_e^2 \\mathbf{I}_{n \\times n}$ is the column covariance matrix. Again, $\\Phi$ is the GRM and $\\sigma_g^2 = 0.6, \\sigma_e^2 = 0.4$. "
   ]
  },
  {
   "cell_type": "code",
   "execution_count": 6,
   "metadata": {
    "collapsed": false
   },
   "outputs": [
    {
     "data": {
      "text/plain": [
       "2×5000 Array{Float64,2}:\n",
       " 9.76395  10.4957    6.63228   7.96867  …  14.73     13.2039   6.39848\n",
       " 3.71778   2.88821  -0.811218  4.21819      4.05212  -1.76484  3.48013"
      ]
     },
     "execution_count": 6,
     "metadata": {},
     "output_type": "execute_result"
    }
   ],
   "source": [
    "n = 5000  # number of samples\n",
    "p = 300000 # number of SNPs\n",
    "k = 20    # number of causal SNPs\n",
    "r = 2     # number of traits\n",
    "\n",
    "# set random seed for reproducibility\n",
    "Random.seed!(2021)\n",
    "\n",
    "# simulate `.bed` file with no missing data\n",
    "x = simulate_random_snparray(\"multivariate_$(r)traits.bed\", n, p)\n",
    "xla = SnpLinAlg{Float64}(x, model=ADDITIVE_MODEL, center=true, scale=true) \n",
    "\n",
    "# intercept is the only nongenetic covariate\n",
    "z = ones(n, 1)\n",
    "intercepts = [10.0 1.0] # each trait have different intercept\n",
    "\n",
    "# simulate β\n",
    "B = simulate_random_beta(k, p, r, overlap=2)\n",
    "\n",
    "# between trait covariance matrix\n",
    "Σ = random_covariance_matrix(r)\n",
    "\n",
    "# between sample covariance is identity + GRM (2 times because in SnpArrays grm is halved)\n",
    "Φ = 2grm(x)\n",
    "σg = 0.6\n",
    "σe = 0.4\n",
    "V = σg * Φ + σe * I\n",
    "\n",
    "# simulate y using TraitSimulations.jl\n",
    "# VCM_model = VCMTrait(z, intercepts, x, B, [Σ], [V]) #https://github.com/OpenMendel/TraitSimulation.jl/blob/6d1f09c7332471a74b4dd6c8ef2d2b95a96c585c/src/modelframework.jl#L159\n",
    "# Y = simulate(VCM_model)\n",
    "\n",
    "# simulate using naive model\n",
    "μ = z * intercepts + xla * B\n",
    "Yt = rand(MatrixNormal(μ', Σ, V))"
   ]
  },
  {
   "cell_type": "markdown",
   "metadata": {},
   "source": [
    "## Run IHT "
   ]
  },
  {
   "cell_type": "code",
   "execution_count": 7,
   "metadata": {
    "collapsed": false
   },
   "outputs": [
    {
     "name": "stdout",
     "output_type": "stream",
     "text": [
      "****                   MendelIHT Version 1.3.3                  ****\n",
      "****     Benjamin Chu, Kevin Keys, Chris German, Hua Zhou       ****\n",
      "****   Jin Zhou, Eric Sobel, Janet Sinsheimer, Kenneth Lange    ****\n",
      "****                                                            ****\n",
      "****                 Please cite our paper!                     ****\n",
      "****         https://doi.org/10.1093/gigascience/giaa044        ****\n",
      "\n",
      "Running sparse Multivariate Gaussian regression\n",
      "Link functin = IdentityLink()\n",
      "Sparsity parameter (k) = 22\n",
      "Prior weight scaling = off\n",
      "Doubly sparse projection = off\n",
      "Debias = off\n",
      "Max IHT iterations = 200\n",
      "Converging when tol < 0.0001:\n",
      "\n",
      "Iteration 1: loglikelihood = -1264.131527480402, backtracks = 0, tol = 0.1692812087308949\n",
      "Iteration 2: loglikelihood = 10249.41368144947, backtracks = 0, tol = 0.020764943950580667\n",
      "Iteration 3: loglikelihood = 11674.692814587752, backtracks = 0, tol = 0.004013689748612351\n",
      "Iteration 4: loglikelihood = 11915.96174083871, backtracks = 0, tol = 0.0020765492587210667\n",
      "Iteration 5: loglikelihood = 11981.995306717483, backtracks = 0, tol = 0.0011004380530504011\n",
      "Iteration 6: loglikelihood = 12000.010821846507, backtracks = 0, tol = 0.0031231503100496803\n",
      "Iteration 7: loglikelihood = 12025.50199094165, backtracks = 0, tol = 0.0025929010125875724\n",
      "Iteration 8: loglikelihood = 12037.139651225827, backtracks = 0, tol = 0.0012487472230174196\n",
      "Iteration 9: loglikelihood = 12044.508350502203, backtracks = 0, tol = 0.000716241573930797\n",
      "Iteration 10: loglikelihood = 12046.384764897433, backtracks = 0, tol = 0.0004176850512135014\n",
      "Iteration 11: loglikelihood = 12046.779928920334, backtracks = 0, tol = 0.0031683877269786183\n",
      "Iteration 12: loglikelihood = 12047.90926969085, backtracks = 0, tol = 0.00032098218107146846\n",
      "Iteration 13: loglikelihood = 12048.132969035787, backtracks = 0, tol = 0.0030593255892448377\n",
      "Iteration 14: loglikelihood = 12046.664460271588, backtracks = 5, tol = 9.463183200252493e-6\n",
      "200.247303 seconds (11.93 M allocations: 680.887 MiB, 0.04% gc time)\n"
     ]
    },
    {
     "data": {
      "text/plain": [
       "\n",
       "Compute time (sec):     184.65532207489014\n",
       "Final loglikelihood:    12046.664460271588\n",
       "Iterations:             14\n",
       "Trait 1's SNP PVE:      0.7190577110805266\n",
       "Trait 2's SNP PVE:      0.8757880134209874\n",
       "\n",
       "Trait 1: IHT estimated 8 nonzero SNP predictors\n",
       "\u001b[1m8×2 DataFrame\u001b[0m\n",
       "\u001b[1m Row \u001b[0m│\u001b[1m Position \u001b[0m\u001b[1m Estimated_β \u001b[0m\n",
       "\u001b[1m     \u001b[0m│\u001b[90m Int64    \u001b[0m\u001b[90m Float64     \u001b[0m\n",
       "─────┼───────────────────────\n",
       "   1 │    19535    0.431495\n",
       "   2 │    27695    0.160205\n",
       "   3 │    42127    1.67692\n",
       "   4 │    94323    1.16401\n",
       "   5 │   123845   -0.667388\n",
       "   6 │   135962    0.254199\n",
       "   7 │   199652    0.0555613\n",
       "   8 │   282837   -0.565194\n",
       "\n",
       "Trait 1: IHT estimated 1 non-genetic predictors\n",
       "\u001b[1m1×2 DataFrame\u001b[0m\n",
       "\u001b[1m Row \u001b[0m│\u001b[1m Position \u001b[0m\u001b[1m Estimated_β \u001b[0m\n",
       "\u001b[1m     \u001b[0m│\u001b[90m Int64    \u001b[0m\u001b[90m Float64     \u001b[0m\n",
       "─────┼───────────────────────\n",
       "   1 │        1      9.99063\n",
       "\n",
       "Trait 2: IHT estimated 12 nonzero SNP predictors\n",
       "\u001b[1m12×2 DataFrame\u001b[0m\n",
       "\u001b[1m Row \u001b[0m│\u001b[1m Position \u001b[0m\u001b[1m Estimated_β \u001b[0m\n",
       "\u001b[1m     \u001b[0m│\u001b[90m Int64    \u001b[0m\u001b[90m Float64     \u001b[0m\n",
       "─────┼───────────────────────\n",
       "   1 │     7207    0.5795\n",
       "   2 │    19535   -1.04121\n",
       "   3 │    44373    0.631681\n",
       "   4 │    48297    0.262662\n",
       "   5 │    62445   -1.24585\n",
       "   6 │   103755   -1.63816\n",
       "   7 │   118470    0.0400916\n",
       "   8 │   135962   -0.189445\n",
       "   9 │   137768    1.92502\n",
       "  10 │   226306    0.563273\n",
       "  11 │   239766   -0.635568\n",
       "  12 │   278682   -0.0335199\n",
       "\n",
       "Trait 2: IHT estimated 1 non-genetic predictors\n",
       "\u001b[1m1×2 DataFrame\u001b[0m\n",
       "\u001b[1m Row \u001b[0m│\u001b[1m Position \u001b[0m\u001b[1m Estimated_β \u001b[0m\n",
       "\u001b[1m     \u001b[0m│\u001b[90m Int64    \u001b[0m\u001b[90m Float64     \u001b[0m\n",
       "─────┼───────────────────────\n",
       "   1 │        1     0.993229\n"
      ]
     },
     "execution_count": 7,
     "metadata": {},
     "output_type": "execute_result"
    },
    {
     "name": "stdout",
     "output_type": "stream",
     "text": [
      "\n"
     ]
    }
   ],
   "source": [
    "# Yt = Matrix(Y')\n",
    "Zt = Matrix(z')\n",
    "ktrue = k + count(!iszero, intercepts)\n",
    "@time result = fit_iht(Yt, Transpose(xla), Zt, k=ktrue, verbose=true)"
   ]
  },
  {
   "cell_type": "code",
   "execution_count": 8,
   "metadata": {
    "collapsed": false
   },
   "outputs": [
    {
     "data": {
      "text/plain": [
       "8×2 Array{Float64,2}:\n",
       "  0.431495    0.437589\n",
       "  0.160205    0.159139\n",
       "  1.67692     1.67961\n",
       "  1.16401     1.16346\n",
       " -0.667388   -0.661881\n",
       "  0.254199    0.26366\n",
       "  0.0555613   0.0649943\n",
       " -0.565194   -0.567334"
      ]
     },
     "execution_count": 8,
     "metadata": {},
     "output_type": "execute_result"
    }
   ],
   "source": [
    "# first beta\n",
    "β1 = result.beta[1, :]\n",
    "true_b1_idx = findall(!iszero, B[:, 1])\n",
    "[β1[true_b1_idx] B[true_b1_idx, 1]]"
   ]
  },
  {
   "cell_type": "code",
   "execution_count": 9,
   "metadata": {
    "collapsed": false
   },
   "outputs": [
    {
     "data": {
      "text/plain": [
       "12×2 Array{Float64,2}:\n",
       "  0.5795      0.582386\n",
       " -1.04121    -1.03979\n",
       "  0.0         0.00530093\n",
       "  0.631681    0.635882\n",
       "  0.262662    0.265646\n",
       " -1.24585    -1.23606\n",
       " -1.63816    -1.63252\n",
       " -0.189445   -0.177421\n",
       "  1.92502     1.92917\n",
       "  0.563273    0.563348\n",
       " -0.635568   -0.641005\n",
       " -0.0335199  -0.0251614"
      ]
     },
     "execution_count": 9,
     "metadata": {},
     "output_type": "execute_result"
    }
   ],
   "source": [
    "# second beta\n",
    "β2 = result.beta[2, :]\n",
    "true_b2_idx = findall(!iszero, B[:, 2])\n",
    "[β2[true_b2_idx] B[true_b2_idx, 2]]"
   ]
  },
  {
   "cell_type": "code",
   "execution_count": 10,
   "metadata": {
    "collapsed": false
   },
   "outputs": [
    {
     "data": {
      "text/plain": [
       "2×2 Array{Float64,2}:\n",
       " 9.99063   10.0\n",
       " 0.993229   1.0"
      ]
     },
     "execution_count": 10,
     "metadata": {},
     "output_type": "execute_result"
    }
   ],
   "source": [
    "# non genetic covariates\n",
    "[result.c intercepts']"
   ]
  },
  {
   "cell_type": "code",
   "execution_count": 11,
   "metadata": {
    "collapsed": false
   },
   "outputs": [
    {
     "data": {
      "text/plain": [
       "4×2 Array{Float64,2}:\n",
       " 2.00157  1.96481\n",
       " 1.68337  1.65099\n",
       " 1.68337  1.65099\n",
       " 1.63609  1.61449"
      ]
     },
     "execution_count": 11,
     "metadata": {},
     "output_type": "execute_result"
    }
   ],
   "source": [
    "# covariance matrix\n",
    "[vec(result.Σ) vec(Σ)]"
   ]
  },
  {
   "cell_type": "code",
   "execution_count": null,
   "metadata": {
    "collapsed": false
   },
   "outputs": [
    {
     "name": "stderr",
     "output_type": "stream",
     "text": [
      "\u001b[32mProgress:   9%|███▊                                     |  ETA: 1:21:28\u001b[39m"
     ]
    }
   ],
   "source": [
    "# 8 core = 1.5h for 5k by 300k matrix\n",
    "Random.seed!(2020)\n",
    "Zt = Matrix(z')\n",
    "@time mses = cv_iht(Yt, Transpose(xla), Zt, path=1:20, parallel=true);"
   ]
  },
  {
   "cell_type": "code",
   "execution_count": null,
   "metadata": {
    "collapsed": true
   },
   "outputs": [],
   "source": []
  }
 ],
 "metadata": {
  "@webio": {
   "lastCommId": null,
   "lastKernelId": null
  },
  "kernelspec": {
   "display_name": "Julia 1.5.0",
   "language": "julia",
   "name": "julia-1.5"
  },
  "language_info": {
   "file_extension": ".jl",
   "mimetype": "application/julia",
   "name": "julia",
   "version": "1.5.0"
  }
 },
 "nbformat": 4,
 "nbformat_minor": 2
}
