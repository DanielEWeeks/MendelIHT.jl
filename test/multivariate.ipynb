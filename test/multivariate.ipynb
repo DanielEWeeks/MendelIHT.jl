{
 "cells": [
  {
   "cell_type": "code",
   "execution_count": 1,
   "metadata": {
    "collapsed": false
   },
   "outputs": [
    {
     "name": "stderr",
     "output_type": "stream",
     "text": [
      "┌ Info: Precompiling MendelIHT [921c7187-1484-5754-b919-5d3ed9ac03c4]\n",
      "└ @ Base loading.jl:1278\n"
     ]
    }
   ],
   "source": [
    "using Revise\n",
    "using MendelIHT\n",
    "using SnpArrays\n",
    "using Random\n",
    "using GLM\n",
    "using DelimitedFiles\n",
    "using Test\n",
    "using Distributions\n",
    "using LinearAlgebra"
   ]
  },
  {
   "cell_type": "markdown",
   "metadata": {},
   "source": [
    "# First simulate multivariate Gaussian traits"
   ]
  },
  {
   "cell_type": "code",
   "execution_count": 5,
   "metadata": {
    "collapsed": false
   },
   "outputs": [],
   "source": [
    "n = 1000  # number of samples\n",
    "p = 10000 # number of SNPs\n",
    "k = 10    # number of causal SNPs per trait\n",
    "r = 2     # number of traits\n",
    "\n",
    "# set random seed for reproducibility\n",
    "Random.seed!(2021)\n",
    "\n",
    "# simulate `.bed` file with no missing data\n",
    "x = simulate_random_snparray(undef, n, p)\n",
    "xla = SnpLinAlg{Float64}(x, model=ADDITIVE_MODEL, center=true, scale=true) \n",
    "\n",
    "# intercept is the only nongenetic covariate\n",
    "z = ones(n) \n",
    "\n",
    "# simulate response y, true model b, and the correct non-0 positions of b\n",
    "Y, Σ, true_b, correct_position = simulate_random_response(xla, k, r);"
   ]
  },
  {
   "cell_type": "code",
   "execution_count": 6,
   "metadata": {
    "collapsed": false
   },
   "outputs": [
    {
     "name": "stdout",
     "output_type": "stream",
     "text": [
      "true_correlation = 0.8220033755384759\n",
      "empirical_correlation = 0.15570403809779032\n"
     ]
    }
   ],
   "source": [
    "σ11, σ12, σ22 = sqrt(Σ[1, 1]), sqrt(Σ[1, 2]), sqrt(Σ[2, 2])\n",
    "true_correlation = σ12 / (σ11 * σ22)\n",
    "empirical_correlation = cor(Y[:, 1], Y[:, 2])\n",
    "\n",
    "@show true_correlation\n",
    "@show empirical_correlation;"
   ]
  },
  {
   "cell_type": "markdown",
   "metadata": {},
   "source": [
    "# Run IHT"
   ]
  },
  {
   "cell_type": "code",
   "execution_count": 58,
   "metadata": {
    "collapsed": false
   },
   "outputs": [
    {
     "name": "stdout",
     "output_type": "stream",
     "text": [
      "****                   MendelIHT Version 1.4.0                  ****\n",
      "****     Benjamin Chu, Kevin Keys, Chris German, Hua Zhou       ****\n",
      "****   Jin Zhou, Eric Sobel, Janet Sinsheimer, Kenneth Lange    ****\n",
      "****                                                            ****\n",
      "****                 Please cite our paper!                     ****\n",
      "****         https://doi.org/10.1093/gigascience/giaa044        ****\n",
      "\n",
      "Running sparse unknown regression\n",
      "Link functin = IdentityLink()\n",
      "Sparsity parameter (k) = 10\n",
      "Prior weight scaling = off\n",
      "Doubly sparse projection = off\n",
      "Debias = off\n",
      "\n",
      "Converging when tol < 0.0001:\n",
      "η_step = 0\n",
      "Iteration 1: loglikelihood = -190.2551692133452, tol = 0.5\n",
      "η_step = 0\n",
      "Iteration 2: loglikelihood = 38.057473388844755, tol = 0.1046898215611281\n",
      "η_step = 0\n",
      "Iteration 3: loglikelihood = 181.70817012221937, tol = 0.09073610430067332\n",
      "η_step = 0\n",
      "Iteration 4: loglikelihood = 325.20792963537474, tol = 0.07565585224884278\n",
      "η_step = 0\n",
      "Iteration 5: loglikelihood = 461.35914564801806, tol = 0.06340894320056917\n",
      "η_step = 0\n",
      "Iteration 6: loglikelihood = 589.6419736403502, tol = 0.0535158852312972\n",
      "η_step = 0\n",
      "Iteration 7: loglikelihood = 709.663287159852, tol = 0.04539812601434386\n",
      "η_step = 0\n",
      "Iteration 8: loglikelihood = 821.2101135171965, tol = 0.038668338009104665\n",
      "η_step = 0\n",
      "Iteration 9: loglikelihood = 924.2772341337836, tol = 0.033054333084244936\n",
      "η_step = 0\n",
      "Iteration 10: loglikelihood = 1019.0635863366285, tol = 0.028353004326936996\n",
      "η_step = 0\n",
      "Iteration 11: loglikelihood = 1105.9436279625434, tol = 0.024404832843695736\n",
      "η_step = 0\n",
      "Iteration 12: loglikelihood = 1185.4224758077478, tol = 0.021080204103812745\n",
      "η_step = 0\n",
      "Iteration 13: loglikelihood = 1258.0863369042822, tol = 0.018290345154168882\n",
      "η_step = 0\n",
      "Iteration 14: loglikelihood = 1324.5573677020084, tol = 0.016676954698383494\n",
      "η_step = 0\n",
      "Iteration 15: loglikelihood = 1385.4578319794139, tol = 0.015335693022270174\n",
      "η_step = 0\n",
      "Iteration 16: loglikelihood = 1441.3846681185403, tol = 0.014208950330806717\n",
      "η_step = 0\n",
      "Iteration 17: loglikelihood = 1492.8933423452204, tol = 0.013251701135995378\n",
      "η_step = 0\n",
      "Iteration 18: loglikelihood = 1540.4890123699458, tol = 0.012428845400374245\n",
      "η_step = 0\n",
      "Iteration 19: loglikelihood = 1584.6230002507148, tol = 0.01171304378562195\n",
      "η_step = 0\n",
      "Iteration 20: loglikelihood = 1625.6928937706484, tol = 0.01108299231783849\n",
      "η_step = 0\n",
      "Iteration 21: loglikelihood = 1664.0449872367492, tol = 0.01052206821629543\n",
      "η_step = 0\n",
      "Iteration 22: loglikelihood = 1699.9781207480003, tol = 0.010017277355138542\n",
      "η_step = 0\n",
      "Iteration 23: loglikelihood = 1733.7482523046729, tol = 0.009558440449239772\n",
      "η_step = 0\n",
      "Iteration 24: loglikelihood = 1765.5733041965918, tol = 0.009137565021768696\n",
      "η_step = 0\n",
      "Iteration 25: loglikelihood = 1795.6379773625117, tol = 0.008748360566431808\n",
      "η_step = 0\n",
      "Iteration 26: loglikelihood = 1824.098337930126, tol = 0.008348093615099063\n",
      "η_step = 0\n",
      "Iteration 27: loglikelihood = 1851.0860593692937, tol = 0.007972572377946198\n",
      "η_step = 0\n",
      "Iteration 28: loglikelihood = 1876.7122595353803, tol = 0.007619735846064446\n",
      "η_step = 0\n",
      "Iteration 29: loglikelihood = 1901.0709103240617, tol = 0.007287018773671566\n",
      "η_step = 0\n",
      "Iteration 30: loglikelihood = 1924.241823261892, tol = 0.0069723396767032465\n",
      "η_step = 0\n",
      "Iteration 31: loglikelihood = 1946.2932306135804, tol = 0.006673994406005564\n",
      "η_step = 0\n",
      "Iteration 32: loglikelihood = 1967.2839911680567, tol = 0.0063905734968353976\n",
      "η_step = 0\n",
      "Iteration 33: loglikelihood = 1987.2654547918814, tol = 0.006120898020471541\n",
      "η_step = 0\n",
      "Iteration 34: loglikelihood = 2006.2830216135476, tol = 0.005863969838472226\n",
      "η_step = 0\n",
      "Iteration 35: loglikelihood = 2024.3774314225504, tol = 0.005618933065272602\n",
      "η_step = 0\n",
      "Iteration 36: loglikelihood = 2041.585817314788, tol = 0.005385044245817404\n",
      "η_step = 0\n",
      "Iteration 37: loglikelihood = 2057.9425553338488, tol = 0.005161649300437021\n",
      "η_step = 0\n",
      "Iteration 38: loglikelihood = 2073.4799392123286, tol = 0.004948165715355901\n",
      "η_step = 0\n",
      "Iteration 39: loglikelihood = 2088.228706546484, tol = 0.004744068791125836\n",
      "η_step = 0\n",
      "Iteration 40: loglikelihood = 2102.2184399893686, tol = 0.004548881023299452\n",
      "η_step = 0\n",
      "Iteration 41: loglikelihood = 2115.477864408598, tol = 0.004362163895352132\n",
      "η_step = 0\n",
      "Iteration 42: loglikelihood = 2128.0350584715484, tol = 0.004183511525227614\n",
      "η_step = 0\n",
      "Iteration 43: loglikelihood = 2139.917596814192, tol = 0.004012545733267802\n",
      "η_step = 0\n",
      "Iteration 44: loglikelihood = 2151.1526368257714, tol = 0.005565139526449604\n",
      "η_step = 0\n",
      "Iteration 45: loglikelihood = 2169.9669612281737, tol = 0.005206234097818151\n",
      "η_step = 0\n",
      "Iteration 46: loglikelihood = 2187.1926873861903, tol = 0.00489486510160632\n",
      "η_step = 0\n",
      "Iteration 47: loglikelihood = 2203.4165304407206, tol = 0.004605415970120108\n",
      "η_step = 0\n",
      "Iteration 48: loglikelihood = 2218.6904587079157, tol = 0.004337151134035739\n",
      "η_step = 0\n",
      "Iteration 49: loglikelihood = 2233.0661774022306, tol = 0.004088074828529002\n",
      "η_step = 0\n",
      "Iteration 50: loglikelihood = 2246.5921688333347, tol = 0.003856429673279035\n",
      "η_step = 0\n",
      "Iteration 51: loglikelihood = 2259.3140917733253, tol = 0.0036406568914447578\n",
      "η_step = 0\n",
      "Iteration 52: loglikelihood = 2271.2750855746276, tol = 0.003439370357737957\n",
      "η_step = 0\n",
      "Iteration 53: loglikelihood = 2282.5160214181515, tol = 0.0032513343843592066\n",
      "η_step = 0\n",
      "Iteration 54: loglikelihood = 2293.0757089057156, tol = 0.0030754446926120407\n",
      "η_step = 0\n",
      "Iteration 55: loglikelihood = 2302.9910654077885, tol = 0.002910712067752727\n",
      "η_step = 0\n",
      "Iteration 56: loglikelihood = 2312.2972546893, tol = 0.002756248281616152\n",
      "η_step = 0\n",
      "Iteration 57: loglikelihood = 2321.0278005035334, tol = 0.0026112539380225754\n",
      "η_step = 0\n",
      "Iteration 58: loglikelihood = 2329.214680069193, tol = 0.0024750079534339078\n",
      "η_step = 0\n",
      "Iteration 59: loglikelihood = 2336.888401631265, tol = 0.0023468584323450485\n",
      "η_step = 0\n",
      "Iteration 60: loglikelihood = 2344.0780696534716, tol = 0.0022262147355097297\n",
      "η_step = 0\n",
      "Iteration 61: loglikelihood = 2350.8114406002687, tol = 0.0021125405709295675\n",
      "η_step = 0\n",
      "Iteration 62: loglikelihood = 2357.114971738821, tol = 0.002005347963877784\n",
      "η_step = 0\n",
      "Iteration 63: loglikelihood = 2363.0138649254577, tol = 0.0019041919841135142\n",
      "η_step = 0\n",
      "Iteration 64: loglikelihood = 2368.5321069343813, tol = 0.0018086661266938598\n",
      "η_step = 0\n",
      "Iteration 65: loglikelihood = 2373.692507535872, tol = 0.0017183982580697534\n",
      "η_step = 0\n",
      "Iteration 66: loglikelihood = 2378.5167362337334, tol = 0.0016330470519867587\n",
      "η_step = 0\n",
      "Iteration 67: loglikelihood = 2383.025358322115, tol = 0.001552298850532124\n",
      "η_step = 0\n",
      "Iteration 68: loglikelihood = 2387.237870716889, tol = 0.0014827983996549682\n",
      "η_step = 0\n",
      "Iteration 69: loglikelihood = 2391.1727378503338, tol = 0.001427288474875256\n",
      "η_step = 0\n",
      "Iteration 70: loglikelihood = 2394.8474277866712, tol = 0.0013739392318056105\n",
      "η_step = 0\n",
      "Iteration 71: loglikelihood = 2398.2784486140895, tol = 0.0013226596036393342\n",
      "η_step = 0\n",
      "Iteration 72: loglikelihood = 2401.481385092992, tol = 0.0012733632387135127\n",
      "η_step = 0\n",
      "Iteration 73: loglikelihood = 2404.470935485341, tol = 0.0012259681290209261\n",
      "η_step = 0\n",
      "Iteration 74: loglikelihood = 2407.2609484532236, tol = 0.0011803962839768065\n",
      "η_step = 0\n",
      "Iteration 75: loglikelihood = 2409.864459891861, tol = 0.0011365734426277247\n",
      "η_step = 0\n",
      "Iteration 76: loglikelihood = 2412.293729551271, tol = 0.0010944288185787154\n",
      "η_step = 0\n",
      "Iteration 77: loglikelihood = 2414.560277298222, tol = 0.0010538948728267819\n",
      "η_step = 0\n",
      "Iteration 78: loglikelihood = 2416.674918874287, tol = 0.0010149071104542\n",
      "η_step = 0\n",
      "Iteration 79: loglikelihood = 2418.6478010149813, tol = 0.000977403897775493\n",
      "η_step = 0\n",
      "Iteration 80: loglikelihood = 2420.4884358069876, tol = 0.0009413262970692347\n",
      "η_step = 0\n",
      "Iteration 81: loglikelihood = 2422.2057341750124, tol = 0.0009066179164778803\n",
      "η_step = 0\n",
      "Iteration 82: loglikelihood = 2423.8080384051354, tol = 0.0008732247730361187\n",
      "η_step = 0\n",
      "Iteration 83: loglikelihood = 2425.303153627205, tol = 0.0008410951671070994\n",
      "η_step = 0\n",
      "Iteration 84: loglikelihood = 2426.698378194345, tol = 0.0008101795667726739\n",
      "η_step = 0\n",
      "Iteration 85: loglikelihood = 2428.000532912505, tol = 0.0007804305009468097\n",
      "η_step = 0\n",
      "Iteration 86: loglikelihood = 2429.2159890865673, tol = 0.0007518024601698951\n",
      "η_step = 0\n",
      "Iteration 87: loglikelihood = 2430.35069536261, tol = 0.0007242518041995097\n",
      "η_step = 0\n",
      "Iteration 88: loglikelihood = 2431.410203356915, tol = 0.0006977366756457188\n",
      "η_step = 0\n",
      "Iteration 89: loglikelihood = 2432.3996920727723, tol = 0.0006722169190084926\n",
      "η_step = 0\n",
      "Iteration 90: loglikelihood = 2433.323991114788, tol = 0.0006476540045713226\n",
      "η_step = 0\n",
      "Iteration 91: loglikelihood = 2434.1876027180174, tol = 0.0006240109566794541\n",
      "η_step = 0\n",
      "Iteration 92: loglikelihood = 2434.994722615651, tol = 0.0006012522860003661\n",
      "η_step = 0\n",
      "Iteration 93: loglikelihood = 2435.749259774252, tol = 0.0005793439254176785\n",
      "η_step = 0\n",
      "Iteration 94: loglikelihood = 2436.4548550298096, tol = 0.0005582531692554017\n",
      "η_step = 0\n",
      "Iteration 95: loglikelihood = 2437.1148986612047, tol = 0.0005379486155715649\n",
      "η_step = 0\n",
      "Iteration 96: loglikelihood = 2437.732546940256, tol = 0.0005184001112890831\n",
      "η_step = 0\n",
      "Iteration 97: loglikelihood = 2438.3107376992825, tol = 0.0004995786999635034\n",
      "η_step = 0\n",
      "Iteration 98: loglikelihood = 2438.8522049583453, tol = 0.0004814565720077598\n",
      "η_step = 0\n",
      "Iteration 99: loglikelihood = 2439.3594926548367, tol = 0.0004640070172156421\n",
      "η_step = 0\n",
      "Iteration 100: loglikelihood = 2439.8349675184527, tol = 0.00044720437944254193\n",
      "result = \n",
      "IHT estimated 20 nonzero SNP predictors and 0 non-genetic predictors.\n",
      "\n",
      "Compute time (sec):     0.0\n",
      "Final loglikelihood:    2439.8349675184527\n",
      "Iterations:             0\n",
      "\n",
      "Selected genetic predictors:\n",
      "20×2 DataFrame\n",
      " Row │ Position                 Estimated_β\n",
      "     │ Cartesia…                Float64\n",
      "─────┼──────────────────────────────────────\n",
      "   1 │ CartesianIndex(2, 46)      1.72293\n",
      "   2 │ CartesianIndex(1, 782)    -0.396779\n",
      "   3 │ CartesianIndex(1, 901)     0.780772\n",
      "   4 │ CartesianIndex(1, 1204)    0.723603\n",
      "   5 │ CartesianIndex(1, 1306)   -1.34918\n",
      "   6 │ CartesianIndex(2, 1306)    0.122746\n",
      "   7 │ CartesianIndex(1, 3160)   -0.838393\n",
      "   8 │ CartesianIndex(1, 4201)    0.314966\n",
      "   9 │ CartesianIndex(2, 4656)    0.0114064\n",
      "  10 │ CartesianIndex(1, 4705)    0.0477907\n",
      "  11 │ CartesianIndex(2, 4797)   -1.1949\n",
      "  12 │ CartesianIndex(2, 5616)   -0.959623\n",
      "  13 │ CartesianIndex(1, 5979)    0.0189732\n",
      "  14 │ CartesianIndex(2, 6072)    0.518765\n",
      "  15 │ CartesianIndex(2, 6573)   -0.586501\n",
      "  16 │ CartesianIndex(1, 6879)   -1.22879\n",
      "  17 │ CartesianIndex(2, 7236)    0.497433\n",
      "  18 │ CartesianIndex(1, 7667)   -0.255625\n",
      "  19 │ CartesianIndex(2, 9626)    0.0166273\n",
      "  20 │ CartesianIndex(2, 9763)    1.27256\n",
      "\n",
      "Selected nongenetic predictors:\n",
      "0×2 DataFrame\n",
      "correct_position = CartesianIndex{2}[CartesianIndex(782, 1), CartesianIndex(901, 1), CartesianIndex(1204, 1), CartesianIndex(1306, 1), CartesianIndex(1655, 1), CartesianIndex(3160, 1), CartesianIndex(4201, 1), CartesianIndex(4768, 1), CartesianIndex(6047, 1), CartesianIndex(6879, 1), CartesianIndex(46, 2), CartesianIndex(4797, 2), CartesianIndex(5532, 2), CartesianIndex(5616, 2), CartesianIndex(6072, 2), CartesianIndex(6573, 2), CartesianIndex(7236, 2), CartesianIndex(7407, 2), CartesianIndex(7667, 2), CartesianIndex(9763, 2)]\n"
     ]
    },
    {
     "data": {
      "text/plain": [
       "20-element Array{CartesianIndex{2},1}:\n",
       " CartesianIndex(782, 1)\n",
       " CartesianIndex(901, 1)\n",
       " CartesianIndex(1204, 1)\n",
       " CartesianIndex(1306, 1)\n",
       " CartesianIndex(1655, 1)\n",
       " CartesianIndex(3160, 1)\n",
       " CartesianIndex(4201, 1)\n",
       " CartesianIndex(4768, 1)\n",
       " CartesianIndex(6047, 1)\n",
       " CartesianIndex(6879, 1)\n",
       " CartesianIndex(46, 2)\n",
       " CartesianIndex(4797, 2)\n",
       " CartesianIndex(5532, 2)\n",
       " CartesianIndex(5616, 2)\n",
       " CartesianIndex(6072, 2)\n",
       " CartesianIndex(6573, 2)\n",
       " CartesianIndex(7236, 2)\n",
       " CartesianIndex(7407, 2)\n",
       " CartesianIndex(7667, 2)\n",
       " CartesianIndex(9763, 2)"
      ]
     },
     "execution_count": 58,
     "metadata": {},
     "output_type": "execute_result"
    }
   ],
   "source": [
    "result = fit_iht(Matrix(Y'), Transpose(xla), Matrix(z'), k=10, max_step=10)\n",
    "@show result\n",
    "@show correct_position"
   ]
  },
  {
   "cell_type": "code",
   "execution_count": 78,
   "metadata": {
    "collapsed": false
   },
   "outputs": [
    {
     "data": {
      "text/plain": [
       "10×2 Array{Float64,2}:\n",
       " -0.396779  -0.402269\n",
       "  0.780772   0.758756\n",
       "  0.723603   0.729135\n",
       " -1.34918   -1.47163\n",
       "  0.0       -0.172668\n",
       " -0.838393  -0.847906\n",
       "  0.314966   0.296183\n",
       "  0.0       -0.0034339\n",
       "  0.0        0.125965\n",
       " -1.22879   -1.24972"
      ]
     },
     "execution_count": 78,
     "metadata": {},
     "output_type": "execute_result"
    }
   ],
   "source": [
    "# first beta\n",
    "β1 = result.beta[1, :]\n",
    "true_b1_idx = findall(!iszero, true_b[:, 1])\n",
    "[β1[true_b1_idx] true_b[true_b1_idx, 1]]"
   ]
  },
  {
   "cell_type": "code",
   "execution_count": 80,
   "metadata": {
    "collapsed": false
   },
   "outputs": [
    {
     "data": {
      "text/plain": [
       "10×2 Array{Float64,2}:\n",
       "  1.72293    1.73729\n",
       " -1.1949    -1.19911\n",
       "  0.0        0.0121193\n",
       " -0.959623  -0.969569\n",
       "  0.518765   0.540525\n",
       " -0.586501  -0.609556\n",
       "  0.497433   0.481189\n",
       "  0.0       -0.0524866\n",
       "  0.0        0.31182\n",
       "  1.27256    1.29813"
      ]
     },
     "execution_count": 80,
     "metadata": {},
     "output_type": "execute_result"
    }
   ],
   "source": [
    "# second beta\n",
    "β2 = result.beta[2, :]\n",
    "true_b2_idx = findall(!iszero, true_b[:, 2])\n",
    "[β2[true_b2_idx] true_b[true_b2_idx, 2]]"
   ]
  },
  {
   "cell_type": "code",
   "execution_count": 84,
   "metadata": {
    "collapsed": false
   },
   "outputs": [
    {
     "name": "stdout",
     "output_type": "stream",
     "text": [
      "Σ = [1.2251234040264405 1.2367352467240182; 1.2367352467240182 1.493996912280251]\n",
      "result.Σ = [1.313315377127968 1.3101794957089767; 1.3101794957089767 1.6229842334000664]\n"
     ]
    }
   ],
   "source": [
    "# covariance matrix\n",
    "@show Σ\n",
    "@show result.Σ;"
   ]
  },
  {
   "cell_type": "code",
   "execution_count": null,
   "metadata": {
    "collapsed": true
   },
   "outputs": [],
   "source": []
  }
 ],
 "metadata": {
  "kernelspec": {
   "display_name": "Julia 1.5.0",
   "language": "julia",
   "name": "julia-1.5"
  },
  "language_info": {
   "file_extension": ".jl",
   "mimetype": "application/julia",
   "name": "julia",
   "version": "1.5.0"
  }
 },
 "nbformat": 4,
 "nbformat_minor": 2
}
