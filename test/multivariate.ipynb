{
 "cells": [
  {
   "cell_type": "code",
   "execution_count": 1,
   "metadata": {
    "collapsed": false
   },
   "outputs": [
    {
     "name": "stderr",
     "output_type": "stream",
     "text": [
      "┌ Info: Precompiling MendelIHT [921c7187-1484-5754-b919-5d3ed9ac03c4]\n",
      "└ @ Base loading.jl:1278\n"
     ]
    }
   ],
   "source": [
    "using Revise\n",
    "using MendelIHT\n",
    "using SnpArrays\n",
    "using Random\n",
    "using GLM\n",
    "using DelimitedFiles\n",
    "using Test\n",
    "using Distributions\n",
    "using LinearAlgebra"
   ]
  },
  {
   "cell_type": "markdown",
   "metadata": {},
   "source": [
    "# First simulate multivariate Gaussian traits"
   ]
  },
  {
   "cell_type": "code",
   "execution_count": 2,
   "metadata": {
    "collapsed": false
   },
   "outputs": [],
   "source": [
    "n = 1000  # number of samples\n",
    "p = 10000 # number of SNPs\n",
    "k = 10    # number of causal SNPs per trait\n",
    "r = 2     # number of traits\n",
    "\n",
    "# set random seed for reproducibility\n",
    "Random.seed!(2021)\n",
    "\n",
    "# simulate `.bed` file with no missing data\n",
    "x = simulate_random_snparray(undef, n, p)\n",
    "xla = SnpLinAlg{Float64}(x, model=ADDITIVE_MODEL, center=true, scale=true) \n",
    "\n",
    "# intercept is the only nongenetic covariate\n",
    "z = ones(n) \n",
    "\n",
    "# simulate response y, true model b, and the correct non-0 positions of b\n",
    "Y, true_Σ, true_b, correct_position = simulate_random_response(xla, k, r);"
   ]
  },
  {
   "cell_type": "code",
   "execution_count": 3,
   "metadata": {
    "collapsed": false
   },
   "outputs": [
    {
     "name": "stdout",
     "output_type": "stream",
     "text": [
      "true_correlation = 0.8220033755384759\n",
      "empirical_correlation = 0.15570403809779032\n"
     ]
    }
   ],
   "source": [
    "σ11, σ12, σ22 = sqrt(true_Σ[1, 1]), sqrt(true_Σ[1, 2]), sqrt(true_Σ[2, 2])\n",
    "true_correlation = σ12 / (σ11 * σ22)\n",
    "empirical_correlation = cor(Y[:, 1], Y[:, 2])\n",
    "\n",
    "@show true_correlation\n",
    "@show empirical_correlation;"
   ]
  },
  {
   "cell_type": "markdown",
   "metadata": {},
   "source": [
    "# Run IHT"
   ]
  },
  {
   "cell_type": "code",
   "execution_count": 11,
   "metadata": {
    "collapsed": false,
    "scrolled": false
   },
   "outputs": [
    {
     "name": "stdout",
     "output_type": "stream",
     "text": [
      "****                   MendelIHT Version 1.4.0                  ****\n",
      "****     Benjamin Chu, Kevin Keys, Chris German, Hua Zhou       ****\n",
      "****   Jin Zhou, Eric Sobel, Janet Sinsheimer, Kenneth Lange    ****\n",
      "****                                                            ****\n",
      "****                 Please cite our paper!                     ****\n",
      "****         https://doi.org/10.1093/gigascience/giaa044        ****\n",
      "\n",
      "Running sparse unknown regression\n",
      "Link functin = IdentityLink()\n",
      "Sparsity parameter (k) = 10\n",
      "Prior weight scaling = off\n",
      "Doubly sparse projection = off\n",
      "Debias = off\n",
      "\n",
      "Converging when tol < 0.0001:\n",
      "Iteration 1: loglikelihood = -190.25516921334543, tol = 0.7758118456211052\n",
      "Iteration 2: loglikelihood = 1819.187992792398, tol = 0.1428898155012873\n",
      "Iteration 3: loglikelihood = 2410.0073888161824, tol = 0.04651754346934129\n",
      "Iteration 4: loglikelihood = 2567.74886336667, tol = 0.011846769005166678\n",
      "Iteration 5: loglikelihood = 2601.091085582637, tol = 0.018901526422886575\n",
      "Iteration 6: loglikelihood = 2617.77294846449, tol = 0.015180174847499969\n",
      "Iteration 7: loglikelihood = 2628.0472900131917, tol = 0.0039092617734653185\n",
      "Iteration 8: loglikelihood = 2630.041488765499, tol = 0.002156391374444423\n",
      "Iteration 9: loglikelihood = 2630.4691631833884, tol = 0.019969945251072173\n",
      "Iteration 10: loglikelihood = 2635.1278989016273, tol = 0.0037156297857265114\n",
      "Iteration 11: loglikelihood = 2635.8398229443137, tol = 0.001803487954039531\n",
      "Iteration 12: loglikelihood = 2635.972335828584, tol = 0.0005544592027449791\n",
      "Iteration 13: loglikelihood = 2635.9877682179767, tol = 0.00015848180605779194\n",
      "Iteration 14: loglikelihood = 2635.989391876837, tol = 5.257030680246727e-5\n",
      "  1.286146 seconds (3.08 k allocations: 3.588 MiB)\n"
     ]
    },
    {
     "data": {
      "text/plain": [
       "\n",
       "Compute time (sec):     1.2861590385437012\n",
       "Final loglikelihood:    2635.989391876837\n",
       "Iterations:             14\n",
       "\n",
       "Trait 1: IHT estimated 10 nonzero SNP predictors\n",
       "\u001b[1m10×2 DataFrame\u001b[0m\n",
       "\u001b[1m Row \u001b[0m│\u001b[1m Position \u001b[0m\u001b[1m Estimated_β \u001b[0m\n",
       "\u001b[1m     \u001b[0m│\u001b[90m Int64    \u001b[0m\u001b[90m Float64     \u001b[0m\n",
       "─────┼───────────────────────\n",
       "   1 │      782   -0.387253\n",
       "   2 │      901    0.776228\n",
       "   3 │     1204    0.73234\n",
       "   4 │     1306   -1.45682\n",
       "   5 │     1427    0.0570532\n",
       "   6 │     1655   -0.186513\n",
       "   7 │     3160   -0.845163\n",
       "   8 │     4201    0.309019\n",
       "   9 │     6047    0.152959\n",
       "  10 │     6879   -1.23302\n",
       "\n",
       "Trait 1: IHT estimated 0 non-genetic predictors\n",
       "\u001b[1m0×2 DataFrame\u001b[0m\n",
       "\n",
       "Trait 2: IHT estimated 10 nonzero SNP predictors\n",
       "\u001b[1m10×2 DataFrame\u001b[0m\n",
       "\u001b[1m Row \u001b[0m│\u001b[1m Position \u001b[0m\u001b[1m Estimated_β \u001b[0m\n",
       "\u001b[1m     \u001b[0m│\u001b[90m Int64    \u001b[0m\u001b[90m Float64     \u001b[0m\n",
       "─────┼───────────────────────\n",
       "   1 │       46    1.73289\n",
       "   2 │     4797   -1.20165\n",
       "   3 │     5616   -0.962282\n",
       "   4 │     6072    0.536906\n",
       "   5 │     6573   -0.591373\n",
       "   6 │     7236    0.509888\n",
       "   7 │     7407   -0.0718126\n",
       "   8 │     7667    0.340733\n",
       "   9 │     9091    0.0743671\n",
       "  10 │     9763    1.27964\n",
       "\n",
       "Trait 2: IHT estimated 0 non-genetic predictors\n",
       "\u001b[1m0×2 DataFrame\u001b[0m\n"
      ]
     },
     "execution_count": 11,
     "metadata": {},
     "output_type": "execute_result"
    }
   ],
   "source": [
    "Yt = Matrix(Y')\n",
    "Zt = Matrix(z')\n",
    "@time fit_iht(Yt, Transpose(xla), Zt, k=10)"
   ]
  },
  {
   "cell_type": "markdown",
   "metadata": {},
   "source": [
    "## Check answer"
   ]
  },
  {
   "cell_type": "code",
   "execution_count": 5,
   "metadata": {
    "collapsed": false
   },
   "outputs": [
    {
     "data": {
      "text/plain": [
       "10×2 Array{Float64,2}:\n",
       " -0.388623  -0.402269\n",
       "  0.778375   0.758756\n",
       "  0.735256   0.729135\n",
       " -1.45943   -1.47163\n",
       " -0.182059  -0.172668\n",
       " -0.84684   -0.847906\n",
       "  0.31211    0.296183\n",
       "  0.0       -0.0034339\n",
       "  0.150628   0.125965\n",
       " -1.22745   -1.24972"
      ]
     },
     "execution_count": 5,
     "metadata": {},
     "output_type": "execute_result"
    }
   ],
   "source": [
    "# first beta\n",
    "β1 = result.beta[1, :]\n",
    "true_b1_idx = findall(!iszero, true_b[:, 1])\n",
    "[β1[true_b1_idx] true_b[true_b1_idx, 1]]"
   ]
  },
  {
   "cell_type": "code",
   "execution_count": 6,
   "metadata": {
    "collapsed": false
   },
   "outputs": [
    {
     "data": {
      "text/plain": [
       "10×2 Array{Float64,2}:\n",
       "  1.73639    1.73729\n",
       " -1.19923   -1.19911\n",
       "  0.0        0.0121193\n",
       " -0.97377   -0.969569\n",
       "  0.537718   0.540525\n",
       " -0.592252  -0.609556\n",
       "  0.506521   0.481189\n",
       "  0.0       -0.0524866\n",
       "  0.337317   0.31182\n",
       "  1.27771    1.29813"
      ]
     },
     "execution_count": 6,
     "metadata": {},
     "output_type": "execute_result"
    }
   ],
   "source": [
    "# second beta\n",
    "β2 = result.beta[2, :]\n",
    "true_b2_idx = findall(!iszero, true_b[:, 2])\n",
    "[β2[true_b2_idx] true_b[true_b2_idx, 2]]"
   ]
  },
  {
   "cell_type": "code",
   "execution_count": 7,
   "metadata": {
    "collapsed": false
   },
   "outputs": [
    {
     "data": {
      "text/plain": [
       "4×2 Array{Float64,2}:\n",
       " 1.17665  1.22512\n",
       " 1.19901  1.23674\n",
       " 1.19901  1.23674\n",
       " 1.46801  1.494"
      ]
     },
     "execution_count": 7,
     "metadata": {},
     "output_type": "execute_result"
    }
   ],
   "source": [
    "# covariance matrix\n",
    "[vec(result.Σ) vec(true_Σ)]"
   ]
  },
  {
   "cell_type": "markdown",
   "metadata": {},
   "source": [
    "# Test Cross validation"
   ]
  },
  {
   "cell_type": "code",
   "execution_count": null,
   "metadata": {
    "collapsed": false
   },
   "outputs": [],
   "source": [
    "fit_iht(Yt, Transpose(xla), Zt, k=1) # kernel dies"
   ]
  },
  {
   "cell_type": "code",
   "execution_count": null,
   "metadata": {
    "collapsed": true
   },
   "outputs": [],
   "source": []
  }
 ],
 "metadata": {
  "@webio": {
   "lastCommId": null,
   "lastKernelId": null
  },
  "kernelspec": {
   "display_name": "Julia 1.5.0",
   "language": "julia",
   "name": "julia-1.5"
  },
  "language_info": {
   "file_extension": ".jl",
   "mimetype": "application/julia",
   "name": "julia",
   "version": "1.5.0"
  }
 },
 "nbformat": 4,
 "nbformat_minor": 2
}
