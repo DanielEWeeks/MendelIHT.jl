{
 "cells": [
  {
   "cell_type": "code",
   "execution_count": 1,
   "metadata": {
    "collapsed": false
   },
   "outputs": [
    {
     "name": "stderr",
     "output_type": "stream",
     "text": [
      "┌ Info: Precompiling MendelIHT [921c7187-1484-5754-b919-5d3ed9ac03c4]\n",
      "└ @ Base loading.jl:1278\n"
     ]
    }
   ],
   "source": [
    "using Distributed\n",
    "# addprocs(4)\n",
    "\n",
    "@everywhere begin\n",
    "    using Revise\n",
    "    using MendelIHT\n",
    "    using SnpArrays\n",
    "    using Random\n",
    "    using GLM\n",
    "    using DelimitedFiles\n",
    "    using Test\n",
    "    using Distributions\n",
    "    using LinearAlgebra\n",
    "    using CSV\n",
    "    using DataFrames\n",
    "end"
   ]
  },
  {
   "cell_type": "markdown",
   "metadata": {},
   "source": [
    "# First simulate multivariate Gaussian traits"
   ]
  },
  {
   "cell_type": "code",
   "execution_count": 16,
   "metadata": {
    "collapsed": false
   },
   "outputs": [],
   "source": [
    "n = 1000  # number of samples\n",
    "p = 10000 # number of SNPs\n",
    "k = 10    # number of causal SNPs per trait\n",
    "r = 2     # number of traits\n",
    "\n",
    "# set random seed for reproducibility\n",
    "Random.seed!(2021)\n",
    "\n",
    "# simulate `.bed` file with no missing data\n",
    "x = simulate_random_snparray(\"multivariate_$(r)traits.bed\", n, p)\n",
    "xla = SnpLinAlg{Float64}(x, model=ADDITIVE_MODEL, center=true, scale=true) \n",
    "\n",
    "# intercept is the only nongenetic covariate\n",
    "z = ones(n) \n",
    "\n",
    "# simulate response y, true model b, and the correct non-0 positions of b\n",
    "Y, true_Σ, true_b, correct_position = simulate_random_response(xla, k, r);"
   ]
  },
  {
   "cell_type": "code",
   "execution_count": 3,
   "metadata": {
    "collapsed": false
   },
   "outputs": [],
   "source": [
    "# save true SNP's position and effect size\n",
    "open(\"multivariate_$(r)traits_true_beta.txt\", \"w\") do io\n",
    "    println(io, \"snpID,effectsize\")\n",
    "    for pos in correct_position\n",
    "        println(io, \"snp$pos,\", true_b[pos])\n",
    "    end\n",
    "end\n",
    "\n",
    "# create `.bim` and `.bam` files using phenotype\n",
    "make_bim_fam_files(x, Y, \"multivariate_$(r)traits\")"
   ]
  },
  {
   "cell_type": "markdown",
   "metadata": {},
   "source": [
    "# Run IHT with simple gradient update"
   ]
  },
  {
   "cell_type": "code",
   "execution_count": 5,
   "metadata": {
    "collapsed": false,
    "scrolled": false
   },
   "outputs": [
    {
     "name": "stdout",
     "output_type": "stream",
     "text": [
      "****                   MendelIHT Version 1.4.0                  ****\n",
      "****     Benjamin Chu, Kevin Keys, Chris German, Hua Zhou       ****\n",
      "****   Jin Zhou, Eric Sobel, Janet Sinsheimer, Kenneth Lange    ****\n",
      "****                                                            ****\n",
      "****                 Please cite our paper!                     ****\n",
      "****         https://doi.org/10.1093/gigascience/giaa044        ****\n",
      "\n",
      "Running sparse unknown regression\n",
      "Link functin = IdentityLink()\n",
      "Sparsity parameter (k) = 10\n",
      "Prior weight scaling = off\n",
      "Doubly sparse projection = off\n",
      "Debias = off\n",
      "\n",
      "Converging when tol < 0.0001:\n",
      "Iteration 1: loglikelihood = -190.25516921334543, backtracks = 0, tol = 0.7758118456211052\n",
      "Iteration 2: loglikelihood = 1819.187992792398, backtracks = 0, tol = 0.1428898155012873\n",
      "Iteration 3: loglikelihood = 2410.0073888161824, backtracks = 0, tol = 0.04651754346934129\n",
      "Iteration 4: loglikelihood = 2567.74886336667, backtracks = 0, tol = 0.011846769005166678\n",
      "Iteration 5: loglikelihood = 2601.091085582637, backtracks = 0, tol = 0.018901526422886575\n",
      "Iteration 6: loglikelihood = 2617.77294846449, backtracks = 0, tol = 0.015180174847499969\n",
      "Iteration 7: loglikelihood = 2628.0472900131917, backtracks = 0, tol = 0.0039092617734653185\n",
      "Iteration 8: loglikelihood = 2630.041488765499, backtracks = 0, tol = 0.002156391374444423\n",
      "Iteration 9: loglikelihood = 2630.4691631833884, backtracks = 0, tol = 0.019969945251072173\n",
      "Iteration 10: loglikelihood = 2635.1278989016273, backtracks = 0, tol = 0.0037156297857265114\n",
      "Iteration 11: loglikelihood = 2635.8398229443137, backtracks = 0, tol = 0.001803487954039531\n",
      "Iteration 12: loglikelihood = 2635.972335828584, backtracks = 0, tol = 0.0005544592027449791\n",
      "Iteration 13: loglikelihood = 2635.9877682179767, backtracks = 0, tol = 0.00015848180605779194\n",
      "Iteration 14: loglikelihood = 2635.989391876837, backtracks = 0, tol = 5.257030680246727e-5\n",
      "  1.507115 seconds (3.54 k allocations: 3.629 MiB, 0.85% gc time)\n"
     ]
    },
    {
     "data": {
      "text/plain": [
       "\n",
       "Compute time (sec):     1.5071299076080322\n",
       "Final loglikelihood:    2635.989391876837\n",
       "Iterations:             14\n",
       "\n",
       "Trait 1: IHT estimated 10 nonzero SNP predictors\n",
       "\u001b[1m10×2 DataFrame\u001b[0m\n",
       "\u001b[1m Row \u001b[0m│\u001b[1m Position \u001b[0m\u001b[1m Estimated_β \u001b[0m\n",
       "\u001b[1m     \u001b[0m│\u001b[90m Int64    \u001b[0m\u001b[90m Float64     \u001b[0m\n",
       "─────┼───────────────────────\n",
       "   1 │      782   -0.387253\n",
       "   2 │      901    0.776228\n",
       "   3 │     1204    0.73234\n",
       "   4 │     1306   -1.45682\n",
       "   5 │     1427    0.0570532\n",
       "   6 │     1655   -0.186513\n",
       "   7 │     3160   -0.845163\n",
       "   8 │     4201    0.309019\n",
       "   9 │     6047    0.152959\n",
       "  10 │     6879   -1.23302\n",
       "\n",
       "Trait 1: IHT estimated 0 non-genetic predictors\n",
       "\u001b[1m0×2 DataFrame\u001b[0m\n",
       "\n",
       "Trait 2: IHT estimated 10 nonzero SNP predictors\n",
       "\u001b[1m10×2 DataFrame\u001b[0m\n",
       "\u001b[1m Row \u001b[0m│\u001b[1m Position \u001b[0m\u001b[1m Estimated_β \u001b[0m\n",
       "\u001b[1m     \u001b[0m│\u001b[90m Int64    \u001b[0m\u001b[90m Float64     \u001b[0m\n",
       "─────┼───────────────────────\n",
       "   1 │       46    1.73289\n",
       "   2 │     4797   -1.20165\n",
       "   3 │     5616   -0.962282\n",
       "   4 │     6072    0.536906\n",
       "   5 │     6573   -0.591373\n",
       "   6 │     7236    0.509888\n",
       "   7 │     7407   -0.0718126\n",
       "   8 │     7667    0.340733\n",
       "   9 │     9091    0.0743671\n",
       "  10 │     9763    1.27964\n",
       "\n",
       "Trait 2: IHT estimated 0 non-genetic predictors\n",
       "\u001b[1m0×2 DataFrame\u001b[0m\n"
      ]
     },
     "execution_count": 5,
     "metadata": {},
     "output_type": "execute_result"
    }
   ],
   "source": [
    "Yt = Matrix(Y')\n",
    "Zt = Matrix(z')\n",
    "@time result = fit_iht(Yt, Transpose(xla), Zt, k=10, verbose=true)"
   ]
  },
  {
   "cell_type": "markdown",
   "metadata": {},
   "source": [
    "## Check answer"
   ]
  },
  {
   "cell_type": "code",
   "execution_count": 6,
   "metadata": {
    "collapsed": false
   },
   "outputs": [
    {
     "data": {
      "text/plain": [
       "10×2 Array{Float64,2}:\n",
       " -0.387253  -0.402269\n",
       "  0.776228   0.758756\n",
       "  0.73234    0.729135\n",
       " -1.45682   -1.47163\n",
       " -0.186513  -0.172668\n",
       " -0.845163  -0.847906\n",
       "  0.309019   0.296183\n",
       "  0.0       -0.0034339\n",
       "  0.152959   0.125965\n",
       " -1.23302   -1.24972"
      ]
     },
     "execution_count": 6,
     "metadata": {},
     "output_type": "execute_result"
    }
   ],
   "source": [
    "# first beta\n",
    "β1 = result.beta[1, :]\n",
    "true_b1_idx = findall(!iszero, true_b[:, 1])\n",
    "[β1[true_b1_idx] true_b[true_b1_idx, 1]]"
   ]
  },
  {
   "cell_type": "code",
   "execution_count": 7,
   "metadata": {
    "collapsed": false
   },
   "outputs": [
    {
     "data": {
      "text/plain": [
       "10×2 Array{Float64,2}:\n",
       "  1.73289     1.73729\n",
       " -1.20165    -1.19911\n",
       "  0.0         0.0121193\n",
       " -0.962282   -0.969569\n",
       "  0.536906    0.540525\n",
       " -0.591373   -0.609556\n",
       "  0.509888    0.481189\n",
       " -0.0718126  -0.0524866\n",
       "  0.340733    0.31182\n",
       "  1.27964     1.29813"
      ]
     },
     "execution_count": 7,
     "metadata": {},
     "output_type": "execute_result"
    }
   ],
   "source": [
    "# second beta\n",
    "β2 = result.beta[2, :]\n",
    "true_b2_idx = findall(!iszero, true_b[:, 2])\n",
    "[β2[true_b2_idx] true_b[true_b2_idx, 2]]"
   ]
  },
  {
   "cell_type": "code",
   "execution_count": 8,
   "metadata": {
    "collapsed": false
   },
   "outputs": [
    {
     "data": {
      "text/plain": [
       "4×2 Array{Float64,2}:\n",
       " 1.17879  1.22512\n",
       " 1.20265  1.23674\n",
       " 1.20265  1.23674\n",
       " 1.46475  1.494"
      ]
     },
     "execution_count": 8,
     "metadata": {},
     "output_type": "execute_result"
    }
   ],
   "source": [
    "# covariance matrix\n",
    "[vec(result.Σ) vec(true_Σ)]"
   ]
  },
  {
   "cell_type": "markdown",
   "metadata": {},
   "source": [
    "# Test Cross validation"
   ]
  },
  {
   "cell_type": "code",
   "execution_count": 8,
   "metadata": {
    "collapsed": false
   },
   "outputs": [
    {
     "name": "stdout",
     "output_type": "stream",
     "text": [
      "\n",
      "\n",
      "Crossvalidation Results:\n",
      "\tk\tMSE\n",
      "\t1\t2549.1941266772533\n",
      "\t2\t1813.3264797001486\n",
      "\t3\t1277.3417837042518\n",
      "\t4\t1002.1024022865538\n",
      "\t5\t819.8080675324194\n",
      "\t6\t752.6877312056178\n",
      "\t7\t641.5504839534303\n",
      "\t8\t612.7042220588955\n",
      "\t9\t608.3277089584982\n",
      "\t10\t610.9984342539259\n",
      "\t11\t614.807751686425\n",
      "\t12\t616.615453582629\n",
      "\t13\t621.4468351156702\n",
      "\t14\t628.2521531832101\n",
      "\t15\t628.5181881547544\n",
      "\t16\t626.4682026915706\n",
      "\t17\t636.4936893268582\n",
      "\t18\t635.9073694771134\n",
      "\t19\t630.7374247665347\n",
      "\t20\t633.3757710953382\n",
      "378.771473 seconds (10.97 M allocations: 13.823 GiB, 0.51% gc time)\n"
     ]
    }
   ],
   "source": [
    "Random.seed!(2020)\n",
    "Yt = Matrix(Y')\n",
    "Zt = Matrix(z')\n",
    "@time mses = cv_iht(Yt, x, Zt);"
   ]
  },
  {
   "cell_type": "code",
   "execution_count": 9,
   "metadata": {
    "collapsed": false
   },
   "outputs": [
    {
     "data": {
      "text/plain": [
       "9"
      ]
     },
     "execution_count": 9,
     "metadata": {},
     "output_type": "execute_result"
    }
   ],
   "source": [
    "argmin(mses)"
   ]
  },
  {
   "cell_type": "markdown",
   "metadata": {},
   "source": [
    "# GEMMA multivariate results"
   ]
  },
  {
   "cell_type": "code",
   "execution_count": 17,
   "metadata": {
    "collapsed": true
   },
   "outputs": [],
   "source": [
    "gemma_df = CSV.read(\"gemma.result.assoc.txt\", DataFrame)\n",
    "\n",
    "# pvalues\n",
    "pval_wald = gemma_df[!, :p_wald]\n",
    "pval_lrt = gemma_df[!, :p_lrt]\n",
    "pval_score = gemma_df[!, :p_score]\n",
    "\n",
    "# estimated beta\n",
    "estim_β1 = gemma_df[!, :beta_1]\n",
    "estim_β2 = gemma_df[!, :beta_2]\n",
    "\n",
    "# estimated covariance matrix\n",
    "estim_σ11 = gemma_df[!, :Vbeta_1_1]\n",
    "estim_σ12 = gemma_df[!, :Vbeta_1_2]\n",
    "estim_σ22 = gemma_df[!, :Vbeta_2_2];"
   ]
  },
  {
   "cell_type": "code",
   "execution_count": 18,
   "metadata": {
    "collapsed": false
   },
   "outputs": [
    {
     "data": {
      "text/plain": [
       "12-element Array{Int64,1}:\n",
       "   46\n",
       "  901\n",
       " 1204\n",
       " 1306\n",
       " 3160\n",
       " 4797\n",
       " 5616\n",
       " 6072\n",
       " 6573\n",
       " 6879\n",
       " 7236\n",
       " 9763"
      ]
     },
     "execution_count": 18,
     "metadata": {},
     "output_type": "execute_result"
    }
   ],
   "source": [
    "correct_snps = [x[1] for x in correct_position]  # truely causal snps\n",
    "signif_snps = findall(x -> x ≤ 0.05/p, pval_lrt) # gemma's selected snps\n",
    "signif_snps ∩ correct_snps"
   ]
  },
  {
   "cell_type": "markdown",
   "metadata": {},
   "source": [
    "**Conclusion:** IHT finds 18/20 SNPs, while GEMMA finds 12/20. "
   ]
  },
  {
   "cell_type": "markdown",
   "metadata": {
    "collapsed": true
   },
   "source": [
    "# Compare with univariate IHT\n",
    "\n",
    "+ `fit_iht`: ~20 times slower\n",
    "+ `cv_iht`: ~70 times slower"
   ]
  },
  {
   "cell_type": "code",
   "execution_count": 9,
   "metadata": {
    "collapsed": false
   },
   "outputs": [],
   "source": [
    "n = 1000  # number of samples\n",
    "p = 10000 # number of SNPs\n",
    "k = 10    # number of causal SNPs per trait\n",
    "d = Normal\n",
    "l = IdentityLink()\n",
    "\n",
    "# set random seed for reproducibility\n",
    "Random.seed!(2021)\n",
    "\n",
    "# simulate `.bed` file with no missing data\n",
    "x = simulate_random_snparray(undef, n, p)\n",
    "xla = SnpLinAlg{Float64}(x, model=ADDITIVE_MODEL, center=true, scale=true) \n",
    "\n",
    "# intercept is the only nongenetic covariate\n",
    "z = ones(n) \n",
    "\n",
    "# simulate response y, true model b, and the correct non-0 positions of b\n",
    "Y, true_b, correct_position = simulate_random_response(xla, k, d, l);"
   ]
  },
  {
   "cell_type": "code",
   "execution_count": 10,
   "metadata": {
    "collapsed": false
   },
   "outputs": [
    {
     "name": "stdout",
     "output_type": "stream",
     "text": [
      "****                   MendelIHT Version 1.4.0                  ****\n",
      "****     Benjamin Chu, Kevin Keys, Chris German, Hua Zhou       ****\n",
      "****   Jin Zhou, Eric Sobel, Janet Sinsheimer, Kenneth Lange    ****\n",
      "****                                                            ****\n",
      "****                 Please cite our paper!                     ****\n",
      "****         https://doi.org/10.1093/gigascience/giaa044        ****\n",
      "\n",
      "Running sparse linear regression\n",
      "Link functin = IdentityLink()\n",
      "Sparsity parameter (k) = 10\n",
      "Prior weight scaling = off\n",
      "Doubly sparse projection = off\n",
      "Debias = off\n",
      "\n",
      "Converging when tol < 0.0001:\n",
      "Iteration 1: loglikelihood = -1568.8072402506227, backtracks = 0, tol = 1.2369352935298255\n",
      "Iteration 2: loglikelihood = -1485.2388920745977, backtracks = 0, tol = 0.1246509194436555\n",
      "Iteration 3: loglikelihood = -1473.4688017685708, backtracks = 0, tol = 0.060408468355759436\n",
      "Iteration 4: loglikelihood = -1472.7990029487871, backtracks = 1, tol = 0.0051541599786159185\n",
      "Iteration 5: loglikelihood = -1472.6215787426543, backtracks = 1, tol = 0.0027074009598392432\n",
      "Iteration 6: loglikelihood = -1472.5750923058279, backtracks = 1, tol = 0.0014024357703938922\n",
      "Iteration 7: loglikelihood = -1472.56305274433, backtracks = 1, tol = 0.0007192610681400216\n",
      "Iteration 8: loglikelihood = -1472.5599794599239, backtracks = 1, tol = 0.0003666779218011309\n",
      "Iteration 9: loglikelihood = -1472.559217403865, backtracks = 1, tol = 0.0001862796778162656\n",
      "Iteration 10: loglikelihood = -1472.5590426182382, backtracks = 1, tol = 9.441607391002328e-5\n",
      "  5.452622 seconds (12.91 M allocations: 650.554 MiB, 4.10% gc time)\n"
     ]
    },
    {
     "data": {
      "text/plain": [
       "\n",
       "IHT estimated 10 nonzero SNP predictors and 0 non-genetic predictors.\n",
       "\n",
       "Compute time (sec):     3.096096992492676\n",
       "Final loglikelihood:    -1472.5590426182382\n",
       "Iterations:             10\n",
       "\n",
       "Selected genetic predictors:\n",
       "\u001b[1m10×2 DataFrame\u001b[0m\n",
       "\u001b[1m Row \u001b[0m│\u001b[1m Position \u001b[0m\u001b[1m Estimated_β \u001b[0m\n",
       "\u001b[1m     \u001b[0m│\u001b[90m Int64    \u001b[0m\u001b[90m Float64     \u001b[0m\n",
       "─────┼───────────────────────\n",
       "   1 │      782    -0.438598\n",
       "   2 │      901     0.747536\n",
       "   3 │     1204     0.691351\n",
       "   4 │     1306    -1.42482\n",
       "   5 │     1655    -0.194714\n",
       "   6 │     3160    -0.86084\n",
       "   7 │     3936    -0.147349\n",
       "   8 │     4201     0.338177\n",
       "   9 │     4402    -0.126286\n",
       "  10 │     6879    -1.21081\n",
       "\n",
       "Selected nongenetic predictors:\n",
       "\u001b[1m0×2 DataFrame\u001b[0m"
      ]
     },
     "execution_count": 10,
     "metadata": {},
     "output_type": "execute_result"
    }
   ],
   "source": [
    "@time result = fit_iht(Y, xla, z, k=10)"
   ]
  },
  {
   "cell_type": "code",
   "execution_count": 11,
   "metadata": {
    "collapsed": false
   },
   "outputs": [
    {
     "data": {
      "text/plain": [
       "10×2 Array{Float64,2}:\n",
       " -0.438598  -0.402269\n",
       "  0.747536   0.758756\n",
       "  0.691351   0.729135\n",
       " -1.42482   -1.47163\n",
       " -0.194714  -0.172668\n",
       " -0.86084   -0.847906\n",
       "  0.338177   0.296183\n",
       "  0.0       -0.0034339\n",
       "  0.0        0.125965\n",
       " -1.21081   -1.24972"
      ]
     },
     "execution_count": 11,
     "metadata": {},
     "output_type": "execute_result"
    }
   ],
   "source": [
    "# compare estimated vs true beta values\n",
    "[result.beta[correct_position] true_b[correct_position]]"
   ]
  },
  {
   "cell_type": "markdown",
   "metadata": {},
   "source": [
    "### Cross validation timing"
   ]
  },
  {
   "cell_type": "code",
   "execution_count": 12,
   "metadata": {
    "collapsed": false
   },
   "outputs": [
    {
     "name": "stdout",
     "output_type": "stream",
     "text": [
      "\n",
      "\n",
      "Crossvalidation Results:\n",
      "\tk\tMSE\n",
      "\t1\t1431.385325867502\n",
      "\t2\t1431.569108502913\n",
      "\t3\t1429.2348660984221\n",
      "\t4\t1429.5730864011514\n",
      "\t5\t1429.4077307081652\n",
      "\t6\t1429.2323485244572\n",
      "\t7\t1429.5277693297523\n",
      "\t8\t1429.4669590879946\n",
      "\t9\t1429.4376255311238\n",
      "\t10\t1429.526751070809\n",
      "\t11\t1429.5205225689476\n",
      "\t12\t1429.6007792570374\n",
      "\t13\t1430.324407382292\n",
      "\t14\t1430.2241106412075\n",
      "\t15\t1430.2935769756937\n",
      "\t16\t1430.0160991249024\n",
      "\t17\t1430.2798769215433\n",
      "\t18\t1430.7721172663867\n",
      "\t19\t1430.8725535864496\n",
      "\t20\t1429.7969640813615\n",
      "  6.525180 seconds (17.02 M allocations: 670.576 MiB, 5.78% gc time)\n"
     ]
    }
   ],
   "source": [
    "# 1 cores\n",
    "Random.seed!(2020)\n",
    "@time cv_iht(Y, x, z);"
   ]
  }
 ],
 "metadata": {
  "@webio": {
   "lastCommId": null,
   "lastKernelId": null
  },
  "kernelspec": {
   "display_name": "Julia 1.5.0",
   "language": "julia",
   "name": "julia-1.5"
  },
  "language_info": {
   "file_extension": ".jl",
   "mimetype": "application/julia",
   "name": "julia",
   "version": "1.5.0"
  }
 },
 "nbformat": 4,
 "nbformat_minor": 2
}
