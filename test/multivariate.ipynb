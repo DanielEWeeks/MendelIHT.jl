{
 "cells": [
  {
   "cell_type": "code",
   "execution_count": 1,
   "metadata": {
    "collapsed": false
   },
   "outputs": [
    {
     "name": "stderr",
     "output_type": "stream",
     "text": [
      "┌ Info: Precompiling MendelIHT [921c7187-1484-5754-b919-5d3ed9ac03c4]\n",
      "└ @ Base loading.jl:1278\n"
     ]
    }
   ],
   "source": [
    "using Distributed\n",
    "# addprocs(4)\n",
    "\n",
    "@everywhere begin\n",
    "    using Revise\n",
    "    using MendelIHT\n",
    "    using SnpArrays\n",
    "    using Random\n",
    "    using GLM\n",
    "    using DelimitedFiles\n",
    "    using Test\n",
    "    using Distributions\n",
    "    using LinearAlgebra\n",
    "    using CSV\n",
    "    using DataFrames\n",
    "end"
   ]
  },
  {
   "cell_type": "markdown",
   "metadata": {},
   "source": [
    "# First simulate multivariate Gaussian traits"
   ]
  },
  {
   "cell_type": "code",
   "execution_count": 2,
   "metadata": {
    "collapsed": false
   },
   "outputs": [],
   "source": [
    "n = 1000  # number of samples\n",
    "p = 10000 # number of SNPs\n",
    "k = 10    # number of causal SNPs per trait\n",
    "r = 2     # number of traits\n",
    "\n",
    "# set random seed for reproducibility\n",
    "Random.seed!(2021)\n",
    "\n",
    "# simulate `.bed` file with no missing data\n",
    "x = simulate_random_snparray(\"multivariate_$(r)traits.bed\", n, p)\n",
    "xla = SnpLinAlg{Float64}(x, model=ADDITIVE_MODEL, center=true, scale=true) \n",
    "\n",
    "# intercept is the only nongenetic covariate\n",
    "z = ones(n) \n",
    "\n",
    "# simulate response y, true model b, and the correct non-0 positions of b\n",
    "Y, true_Σ, true_b, correct_position = simulate_random_response(xla, k, r);"
   ]
  },
  {
   "cell_type": "code",
   "execution_count": 3,
   "metadata": {
    "collapsed": false
   },
   "outputs": [],
   "source": [
    "# save true SNP's position and effect size\n",
    "open(\"multivariate_$(r)traits_true_beta.txt\", \"w\") do io\n",
    "    println(io, \"snpID,effectsize\")\n",
    "    for pos in correct_position\n",
    "        println(io, \"snp$pos,\", true_b[pos])\n",
    "    end\n",
    "end\n",
    "\n",
    "# create `.bim` and `.bam` files using phenotype\n",
    "make_bim_fam_files(x, Y, \"multivariate_$(r)traits\")"
   ]
  },
  {
   "cell_type": "markdown",
   "metadata": {},
   "source": [
    "# Run IHT with simple gradient update"
   ]
  },
  {
   "cell_type": "code",
   "execution_count": 24,
   "metadata": {
    "collapsed": false,
    "scrolled": false
   },
   "outputs": [
    {
     "name": "stdout",
     "output_type": "stream",
     "text": [
      "****                   MendelIHT Version 1.4.0                  ****\n",
      "****     Benjamin Chu, Kevin Keys, Chris German, Hua Zhou       ****\n",
      "****   Jin Zhou, Eric Sobel, Janet Sinsheimer, Kenneth Lange    ****\n",
      "****                                                            ****\n",
      "****                 Please cite our paper!                     ****\n",
      "****         https://doi.org/10.1093/gigascience/giaa044        ****\n",
      "\n",
      "Running sparse unknown regression\n",
      "Link functin = IdentityLink()\n",
      "Sparsity parameter (k) = 10\n",
      "Prior weight scaling = off\n",
      "Doubly sparse projection = off\n",
      "Debias = off\n",
      "\n",
      "Converging when tol < 0.0001:\n",
      "Iteration 1: loglikelihood = -190.25516921334543, backtracks = 0, tol = 0.7758118456211052\n",
      "Iteration 2: loglikelihood = 1819.187992792398, backtracks = 0, tol = 0.1428898155012873\n",
      "Iteration 3: loglikelihood = 2410.0073888161824, backtracks = 0, tol = 0.04651754346934129\n",
      "Iteration 4: loglikelihood = 2567.74886336667, backtracks = 0, tol = 0.011846769005166678\n",
      "Iteration 5: loglikelihood = 2601.091085582637, backtracks = 0, tol = 0.018901526422886575\n",
      "Iteration 6: loglikelihood = 2617.77294846449, backtracks = 0, tol = 0.015180174847499969\n",
      "Iteration 7: loglikelihood = 2628.0472900131917, backtracks = 0, tol = 0.0039092617734653185\n",
      "Iteration 8: loglikelihood = 2630.041488765499, backtracks = 0, tol = 0.002156391374444423\n",
      "Iteration 9: loglikelihood = 2630.4691631833884, backtracks = 0, tol = 0.019969945251072173\n",
      "Iteration 10: loglikelihood = 2635.1278989016273, backtracks = 0, tol = 0.0037156297857265114\n",
      "Iteration 11: loglikelihood = 2635.8398229443137, backtracks = 0, tol = 0.001803487954039531\n",
      "Iteration 12: loglikelihood = 2635.972335828584, backtracks = 0, tol = 0.0005544592027449791\n",
      "Iteration 13: loglikelihood = 2635.9877682179767, backtracks = 0, tol = 0.00015848180605779194\n",
      "Iteration 14: loglikelihood = 2635.989391876837, backtracks = 0, tol = 5.257030680246727e-5\n",
      "  1.504973 seconds (3.65 k allocations: 3.638 MiB)\n"
     ]
    },
    {
     "data": {
      "text/plain": [
       "\n",
       "Compute time (sec):     1.504953145980835\n",
       "Final loglikelihood:    2635.989391876837\n",
       "Iterations:             14\n",
       "\n",
       "Trait 1: IHT estimated 10 nonzero SNP predictors\n",
       "\u001b[1m10×2 DataFrame\u001b[0m\n",
       "\u001b[1m Row \u001b[0m│\u001b[1m Position \u001b[0m\u001b[1m Estimated_β \u001b[0m\n",
       "\u001b[1m     \u001b[0m│\u001b[90m Int64    \u001b[0m\u001b[90m Float64     \u001b[0m\n",
       "─────┼───────────────────────\n",
       "   1 │      782   -0.387253\n",
       "   2 │      901    0.776228\n",
       "   3 │     1204    0.73234\n",
       "   4 │     1306   -1.45682\n",
       "   5 │     1427    0.0570532\n",
       "   6 │     1655   -0.186513\n",
       "   7 │     3160   -0.845163\n",
       "   8 │     4201    0.309019\n",
       "   9 │     6047    0.152959\n",
       "  10 │     6879   -1.23302\n",
       "\n",
       "Trait 1: IHT estimated 0 non-genetic predictors\n",
       "\u001b[1m0×2 DataFrame\u001b[0m\n",
       "\n",
       "Trait 2: IHT estimated 10 nonzero SNP predictors\n",
       "\u001b[1m10×2 DataFrame\u001b[0m\n",
       "\u001b[1m Row \u001b[0m│\u001b[1m Position \u001b[0m\u001b[1m Estimated_β \u001b[0m\n",
       "\u001b[1m     \u001b[0m│\u001b[90m Int64    \u001b[0m\u001b[90m Float64     \u001b[0m\n",
       "─────┼───────────────────────\n",
       "   1 │       46    1.73289\n",
       "   2 │     4797   -1.20165\n",
       "   3 │     5616   -0.962282\n",
       "   4 │     6072    0.536906\n",
       "   5 │     6573   -0.591373\n",
       "   6 │     7236    0.509888\n",
       "   7 │     7407   -0.0718126\n",
       "   8 │     7667    0.340733\n",
       "   9 │     9091    0.0743671\n",
       "  10 │     9763    1.27964\n",
       "\n",
       "Trait 2: IHT estimated 0 non-genetic predictors\n",
       "\u001b[1m0×2 DataFrame\u001b[0m\n"
      ]
     },
     "execution_count": 24,
     "metadata": {},
     "output_type": "execute_result"
    }
   ],
   "source": [
    "Yt = Matrix(Y')\n",
    "Zt = Matrix(z')\n",
    "@time result = fit_iht(Yt, Transpose(xla), Zt, k=10, verbose=true)"
   ]
  },
  {
   "cell_type": "markdown",
   "metadata": {},
   "source": [
    "# Run IHT with full gradient update"
   ]
  },
  {
   "cell_type": "code",
   "execution_count": 50,
   "metadata": {
    "collapsed": false,
    "scrolled": true
   },
   "outputs": [
    {
     "name": "stdout",
     "output_type": "stream",
     "text": [
      "****                   MendelIHT Version 1.4.0                  ****\n",
      "****     Benjamin Chu, Kevin Keys, Chris German, Hua Zhou       ****\n",
      "****   Jin Zhou, Eric Sobel, Janet Sinsheimer, Kenneth Lange    ****\n",
      "****                                                            ****\n",
      "****                 Please cite our paper!                     ****\n",
      "****         https://doi.org/10.1093/gigascience/giaa044        ****\n",
      "\n",
      "Running sparse unknown regression\n",
      "Link functin = IdentityLink()\n",
      "Sparsity parameter (k) = 10\n",
      "Prior weight scaling = off\n",
      "Doubly sparse projection = off\n",
      "Debias = off\n",
      "\n",
      "Converging when tol < 0.0001:\n",
      "Iteration 1: loglikelihood = -4420.403505790376, backtracks = 0, tol = 6.905572866316025\n",
      "Iteration 2: loglikelihood = 3718.5167619096255, backtracks = 0, tol = 0.7752051150640281\n",
      "Iteration 3: loglikelihood = 237557.72740802474, backtracks = 0, tol = 0.6019493841414093\n",
      "Iteration 4: loglikelihood = 47671.523775718604, backtracks = 5, tol = 0.011171888948061348\n",
      "Iteration 5: loglikelihood = 45347.59621283072, backtracks = 5, tol = 0.010883673483713564\n",
      "Iteration 6: loglikelihood = 43173.67012466578, backtracks = 5, tol = 0.01060153908538021\n",
      "Iteration 7: loglikelihood = 41139.16270674397, backtracks = 5, tol = 0.01032536642727378\n",
      "Iteration 8: loglikelihood = 39234.35302143412, backtracks = 5, tol = 0.010055043323898475\n",
      "Iteration 9: loglikelihood = 37450.29833337636, backtracks = 5, tol = 0.009790464008203473\n",
      "Iteration 10: loglikelihood = 35778.75973291913, backtracks = 5, tol = 0.009531528421486978\n",
      "Iteration 11: loglikelihood = 34212.13598178472, backtracks = 5, tol = 0.009278141530393923\n",
      "Iteration 12: loglikelihood = 32743.404623429968, backtracks = 5, tol = 0.009030212681923985\n",
      "Iteration 13: loglikelihood = 31366.069502839375, backtracks = 5, tol = 0.008787655003712648\n",
      "Iteration 14: loglikelihood = 30074.113935631554, backtracks = 5, tol = 0.0085503848538804\n",
      "Iteration 15: loglikelihood = 28861.95885375265, backtracks = 5, tol = 0.008318321322422016\n",
      "Iteration 16: loglikelihood = 27724.425334460593, backtracks = 5, tol = 0.008091385784312217\n",
      "Iteration 17: loglikelihood = 26656.7009908563, backtracks = 5, tol = 0.00786950150317543\n",
      "Iteration 18: loglikelihood = 25654.309766196024, backtracks = 5, tol = 0.007652593283410668\n",
      "Iteration 19: loglikelihood = 24713.084731062438, backtracks = 5, tol = 0.007440587168016425\n",
      "Iteration 20: loglikelihood = 23829.143532712314, backtracks = 5, tol = 0.00723341017895141\n",
      "Iteration 21: loglikelihood = 22998.86619012185, backtracks = 5, tol = 0.00703099009664684\n",
      "Iteration 22: loglikelihood = 22218.874967002295, backtracks = 5, tol = 0.0068332552752106415\n",
      "Iteration 23: loglikelihood = 21486.016088923912, backtracks = 5, tol = 0.006640134489892478\n",
      "Iteration 24: loglikelihood = 20797.34310021049, backtracks = 5, tol = 0.006451556813479334\n",
      "Iteration 25: loglikelihood = 20150.10168195532, backtracks = 5, tol = 0.00626745151845307\n",
      "Iteration 26: loglikelihood = 19541.71577482739, backtracks = 5, tol = 0.0060877480019235685\n",
      "Iteration 27: loglikelihood = 18969.774869705856, backtracks = 5, tol = 0.0059123757305676585\n",
      "Iteration 28: loglikelihood = 18432.022345979156, backtracks = 5, tol = 0.005741264203013879\n",
      "Iteration 29: loglikelihood = 17926.344751910034, backtracks = 5, tol = 0.005574342927337893\n",
      "Iteration 30: loglikelihood = 17450.761934094917, backtracks = 5, tol = 0.005411541411542517\n",
      "Iteration 31: loglikelihood = 17003.41793399849, backtracks = 5, tol = 0.0052527891651042114\n",
      "Iteration 32: loglikelihood = 16582.572579047992, backtracks = 5, tol = 0.005098015709861218\n",
      "Iteration 33: loglikelihood = 16186.593704027015, backtracks = 5, tol = 0.004947150598699303\n",
      "Iteration 34: loglikelihood = 15813.949945686312, backtracks = 5, tol = 0.004800123440661361\n",
      "Iteration 35: loglikelihood = 15463.204059738682, backtracks = 5, tol = 0.0046568639312595875\n",
      "Iteration 36: loglikelihood = 15133.006714854926, backtracks = 5, tol = 0.004517301886913587\n",
      "Iteration 37: loglikelihood = 14822.090723038484, backtracks = 5, tol = 0.004381367282564122\n",
      "Iteration 38: loglikelihood = 14529.26566992285, backtracks = 5, tol = 0.004248990291629449\n",
      "Iteration 39: loglikelihood = 14253.412912190157, backtracks = 5, tol = 0.004120101327578769\n",
      "Iteration 40: loglikelihood = 13993.48091252109, backtracks = 5, tol = 0.003994631086488522\n",
      "Iteration 41: loglikelihood = 13748.480885316156, backtracks = 5, tol = 0.0038725105900361623\n",
      "Iteration 42: loglikelihood = 13517.482728927196, backtracks = 5, tol = 0.0037536712284584493\n",
      "Iteration 43: loglikelihood = 13299.611222351308, backtracks = 5, tol = 0.003638044803072953\n",
      "Iteration 44: loglikelihood = 13094.042466303294, backtracks = 5, tol = 0.003525563568018765\n",
      "Iteration 45: loglikelihood = 12900.000550331863, backtracks = 5, tol = 0.003416160270929423\n",
      "Iteration 46: loglikelihood = 12716.754429205419, backtracks = 5, tol = 0.0033097681922958856\n",
      "Iteration 47: loglikelihood = 12543.614993190913, backtracks = 5, tol = 0.003206321183323043\n",
      "Iteration 48: loglikelihood = 12379.932318103438, backtracks = 5, tol = 0.0031369059965032048\n",
      "Iteration 49: loglikelihood = 12225.093082134073, backtracks = 5, tol = 0.003071430300175825\n",
      "Iteration 50: loglikelihood = 12078.51813748391, backtracks = 5, tol = 0.003007006934046258\n",
      "Iteration 51: loglikelihood = 11939.660225756557, backtracks = 5, tol = 0.002943630977417002\n",
      "Iteration 52: loglikelihood = 11808.001826902379, backtracks = 5, tol = 0.0028812969071490588\n",
      "Iteration 53: loglikelihood = 11683.053132274554, backtracks = 5, tol = 0.002819998623019338\n",
      "Iteration 54: loglikelihood = 11564.3501330597, backtracks = 5, tol = 0.002759729472711312\n",
      "Iteration 55: loglikelihood = 11451.45281599186, backtracks = 5, tol = 0.0027004822763603636\n",
      "Iteration 56: loglikelihood = 11343.943458855389, backtracks = 5, tol = 0.0026422493505817257\n",
      "Iteration 57: loglikelihood = 11241.425018836635, backtracks = 5, tol = 0.0025850225319220617\n",
      "Iteration 58: loglikelihood = 11143.519607301145, backtracks = 5, tol = 0.0025287931996795248\n",
      "Iteration 59: loglikelihood = 11049.867045059125, backtracks = 5, tol = 0.002473552298050405\n",
      "Iteration 60: loglikelihood = 10960.123492641043, backtracks = 5, tol = 0.002419290357563122\n",
      "Iteration 61: loglikelihood = 10873.960150542673, backtracks = 5, tol = 0.0023659975157728436\n",
      "Iteration 62: loglikelihood = 10791.062024819152, backtracks = 5, tol = 0.0023136635371935528\n",
      "Iteration 63: loglikelihood = 10711.126753814999, backtracks = 5, tol = 0.002262277832455087\n",
      "Iteration 64: loglikelihood = 10633.863492215381, backtracks = 5, tol = 0.0022118294766775115\n",
      "Iteration 65: loglikelihood = 10558.99184899806, backtracks = 5, tol = 0.002162307227066221\n",
      "Iteration 66: loglikelihood = 10486.240876259157, backtracks = 5, tol = 0.002113699539735573\n",
      "Iteration 67: loglikelihood = 10415.348106283273, backtracks = 5, tol = 0.0020659945857802752\n",
      "Iteration 68: loglikelihood = 10346.058634634323, backtracks = 5, tol = 0.0020191802666211893\n",
      "Iteration 69: loglikelihood = 10278.12424746187, backtracks = 5, tol = 0.0019732442286616806\n",
      "Iteration 70: loglikelihood = 10211.302591653266, backtracks = 5, tol = 0.0019281738773009051\n",
      "Iteration 71: loglikelihood = 10145.35638691966, backtracks = 5, tol = 0.0018839563903602097\n",
      "Iteration 72: loglikelihood = 10080.052679388615, backtracks = 5, tol = 0.001840578730992435\n",
      "Iteration 73: loglikelihood = 10015.16213679307, backtracks = 5, tol = 0.0017980276601521964\n",
      "Iteration 74: loglikelihood = 9950.458385901255, backtracks = 5, tol = 0.0017562897487231545\n",
      "Iteration 75: loglikelihood = 9885.717393430788, backtracks = 5, tol = 0.0017153513894072167\n",
      "Iteration 76: loglikelihood = 9820.716892338567, backtracks = 5, tol = 0.0016751988085004694\n",
      "Iteration 77: loglikelihood = 9755.235856083187, backtracks = 5, tol = 0.001635818077693088\n",
      "Iteration 78: loglikelihood = 9689.054024225286, backtracks = 5, tol = 0.0015971951260499019\n",
      "Iteration 79: loglikelihood = 9621.951483571169, backtracks = 5, tol = 0.004160603365227648\n",
      "Iteration 80: loglikelihood = 9548.644617162285, backtracks = 5, tol = 0.0038941291321665785\n",
      "Iteration 81: loglikelihood = 9478.873526626485, backtracks = 5, tol = 0.003785471416877596\n",
      "Iteration 82: loglikelihood = 9410.385672960343, backtracks = 5, tol = 0.0036795116258894513\n",
      "Iteration 83: loglikelihood = 9342.944060604323, backtracks = 5, tol = 0.003576187814652311\n",
      "Iteration 84: loglikelihood = 9276.317437330274, backtracks = 5, tol = 0.003475438743971043\n",
      "Iteration 85: loglikelihood = 9210.279636600473, backtracks = 5, tol = 0.003377203898501629\n",
      "Iteration 86: loglikelihood = 9144.608968968376, backtracks = 5, tol = 0.0032814235031854108\n",
      "Iteration 87: loglikelihood = 9079.087663339995, backtracks = 5, tol = 0.0031880385377579088\n",
      "Iteration 88: loglikelihood = 9013.501359461117, backtracks = 5, tol = 0.0030969907494887614\n",
      "Iteration 89: loglikelihood = 8947.638653577695, backtracks = 5, tol = 0.0030082226643334364\n",
      "Iteration 90: loglikelihood = 8881.290699840945, backtracks = 5, tol = 0.0029216775967089745\n",
      "Iteration 91: loglikelihood = 8814.250870701086, backtracks = 5, tol = 0.002837299658145254\n",
      "Iteration 92: loglikelihood = 8746.31448026232, backtracks = 5, tol = 0.002755033765113517\n",
      "Iteration 93: loglikelihood = 8677.27857536347, backtracks = 5, tol = 0.0026748256463967894\n",
      "Iteration 94: loglikelihood = 8606.941800013596, backtracks = 5, tol = 0.002596621850445315\n",
      "Iteration 95: loglikelihood = 8535.104339757892, backtracks = 5, tol = 0.002520369753257507\n",
      "Iteration 96: loglikelihood = 8461.56795358727, backtracks = 5, tol = 0.002446017567445806\n",
      "Iteration 97: loglikelihood = 8386.136102143517, backtracks = 5, tol = 0.0023735143532915798\n",
      "Iteration 98: loglikelihood = 8308.614182221145, backtracks = 5, tol = 0.0023028100327660713\n",
      "Iteration 99: loglikelihood = 8228.809878932812, backtracks = 5, tol = 0.002233855407699501\n",
      "Iteration 100: loglikelihood = 8146.533648392259, backtracks = 5, tol = 0.002166602183519433\n",
      "Iteration 101: loglikelihood = 8061.599345374424, backtracks = 5, tol = 0.0021010030002539004\n",
      "Iteration 102: loglikelihood = 7973.825012125382, backtracks = 5, tol = 0.0020370114728033755\n",
      "Iteration 103: loglikelihood = 7883.0338462908185, backtracks = 5, tol = 0.0019745822428241266\n",
      "Iteration 104: loglikelihood = 7789.055367765517, backtracks = 5, tol = 0.0019136710449258955\n",
      "Iteration 105: loglikelihood = 7691.726806065797, backtracks = 5, tol = 0.00185423479025284\n",
      "Iteration 106: loglikelihood = 7590.894731481951, backtracks = 5, tol = 0.0017962316708652084\n",
      "Iteration 107: loglikelihood = 7486.416954617, backtracks = 5, tol = 0.0017396212886352284\n",
      "Iteration 108: loglikelihood = 7378.164719735282, backtracks = 5, tol = 0.001684364812563385\n",
      "Iteration 109: loglikelihood = 7266.02521731765, backtracks = 5, tol = 0.001630425168444669\n",
      "Iteration 110: loglikelihood = 7149.904439934469, backtracks = 5, tol = 0.0015777672645783448\n",
      "Iteration 111: loglikelihood = 7029.730402461985, backtracks = 5, tol = 0.0033422250994197887\n",
      "Iteration 112: loglikelihood = 6962.553711900957, backtracks = 5, tol = 0.0032853590653636115\n",
      "Iteration 113: loglikelihood = 6893.875337613908, backtracks = 5, tol = 0.003186503751484061\n",
      "Iteration 114: loglikelihood = 6824.068724375065, backtracks = 5, tol = 0.003090165281657978\n",
      "Iteration 115: loglikelihood = 6752.965188889535, backtracks = 5, tol = 0.0029962689920619806\n",
      "Iteration 116: loglikelihood = 6680.400457900605, backtracks = 5, tol = 0.0029047424006067345\n",
      "Iteration 117: loglikelihood = 6606.215265241819, backtracks = 5, tol = 0.002815515298161001\n",
      "Iteration 118: loglikelihood = 6530.256107822053, backtracks = 5, tol = 0.002728519862491363\n",
      "Iteration 119: loglikelihood = 6452.376175372171, backtracks = 5, tol = 0.0026436907972808817\n",
      "Iteration 120: loglikelihood = 6372.436468959522, backtracks = 5, tol = 0.0025609654984022137\n",
      "Iteration 121: loglikelihood = 6290.307122885625, backtracks = 5, tol = 0.0024802842492395714\n",
      "Iteration 122: loglikelihood = 6205.868943419672, backtracks = 5, tol = 0.002401590446222095\n",
      "Iteration 123: loglikelihood = 6119.015175639898, backtracks = 5, tol = 0.002324830854778856\n",
      "Iteration 124: loglikelihood = 6029.653506168058, backtracks = 5, tol = 0.00224995589458263\n",
      "Iteration 125: loglikelihood = 5937.7083044602, backtracks = 5, tol = 0.0021769199511428704\n",
      "Iteration 126: loglikelihood = 5843.123098199276, backtracks = 5, tol = 0.002105681708476813\n",
      "Iteration 127: loglikelihood = 5745.863268845668, backtracks = 5, tol = 0.002036204494691103\n",
      "Iteration 128: loglikelihood = 5645.918941176363, backtracks = 5, tol = 0.001968456628843006\n",
      "Iteration 129: loglikelihood = 5543.308025368987, backtracks = 5, tol = 0.0019024117534785433\n",
      "Iteration 130: loglikelihood = 5462.31677998665, backtracks = 5, tol = 0.001911175499730601\n",
      "Iteration 131: loglikelihood = 5379.174615061307, backtracks = 5, tol = 0.0018497929022876032\n",
      "Iteration 132: loglikelihood = 5294.04394536745, backtracks = 5, tol = 0.0017899360369738927\n",
      "Iteration 133: loglikelihood = 5206.908351849502, backtracks = 5, tol = 0.0017315771841218928\n",
      "Iteration 134: loglikelihood = 5117.773761712062, backtracks = 5, tol = 0.0016746927102066994\n",
      "Iteration 135: loglikelihood = 5026.670716175275, backtracks = 5, tol = 0.0016192632364108578\n",
      "Iteration 136: loglikelihood = 4933.656619881551, backtracks = 5, tol = 0.0015652737610703403\n",
      "Iteration 137: loglikelihood = 4838.817890994913, backtracks = 5, tol = 0.0015127137172215588\n",
      "Iteration 138: loglikelihood = 4742.27191276192, backtracks = 5, tol = 0.001461576944695185\n",
      "Iteration 139: loglikelihood = 4644.168668900491, backtracks = 5, tol = 0.0014118615554045187\n",
      "Iteration 140: loglikelihood = 4544.691928057065, backtracks = 5, tol = 0.0013635696710848028\n",
      "Iteration 141: loglikelihood = 4444.059828618532, backtracks = 5, tol = 0.0013167070151871723\n",
      "Iteration 142: loglikelihood = 4342.524706774504, backtracks = 5, tol = 0.001271282345287304\n",
      "Iteration 143: loglikelihood = 4240.372010727068, backtracks = 5, tol = 0.0012273067194645316\n",
      "Iteration 144: loglikelihood = 4137.918155445484, backtracks = 5, tol = 0.0011847925996456134\n",
      "Iteration 145: loglikelihood = 4035.5071984505457, backtracks = 5, tol = 0.001143752806584617\n",
      "Iteration 146: loglikelihood = 3933.5062603937567, backtracks = 5, tol = 0.001104199354297151\n",
      "Iteration 147: loglikelihood = 3832.299676152234, backtracks = 5, tol = 0.0010661422053356315\n",
      "Iteration 148: loglikelihood = 3732.2819423604133, backtracks = 5, tol = 0.0010295880009083523\n",
      "Iteration 149: loglikelihood = 3633.8496225633858, backtracks = 5, tol = 0.0009945388299218534\n",
      "Iteration 150: loglikelihood = 3537.3924748816326, backtracks = 5, tol = 0.0009609911069574501\n",
      "Iteration 151: loglikelihood = 3443.2841689067905, backtracks = 5, tol = 0.0009289346295870064\n",
      "Iteration 152: loglikelihood = 3351.8730450110625, backtracks = 5, tol = 0.0008983518793710866\n",
      "Iteration 153: loglikelihood = 3263.473425251534, backtracks = 5, tol = 0.0008692176181527479\n",
      "Iteration 154: loglikelihood = 3178.3579965388835, backtracks = 5, tol = 0.0008414988125212421\n",
      "Iteration 155: loglikelihood = 3096.7517441115024, backtracks = 5, tol = 0.0008151548961454185\n",
      "Iteration 156: loglikelihood = 3018.827814740988, backtracks = 5, tol = 0.0007901383544458738\n",
      "Iteration 157: loglikelihood = 2944.705542442449, backtracks = 5, tol = 0.0007663955916849766\n",
      "Iteration 158: loglikelihood = 2874.450692372683, backtracks = 5, tol = 0.0007438680199842166\n",
      "Iteration 159: loglikelihood = 2808.0777954657215, backtracks = 5, tol = 0.0007224932955742578\n",
      "Iteration 160: loglikelihood = 2745.5542833413588, backtracks = 5, tol = 0.0007022066213669418\n",
      "Iteration 161: loglikelihood = 2686.806012282141, backtracks = 5, tol = 0.0006829420370930799\n",
      "Iteration 162: loglikelihood = 2631.7237000397117, backtracks = 5, tol = 0.0006646336278612225\n",
      "Iteration 163: loglikelihood = 2580.16979240209, backtracks = 5, tol = 0.0006472165970859163\n",
      "Iteration 164: loglikelihood = 2531.9853201778687, backtracks = 5, tol = 0.0006306281677352581\n",
      "Iteration 165: loglikelihood = 2486.996386894666, backtracks = 5, tol = 0.000614808294132516\n",
      "Iteration 166: loglikelihood = 2445.0200256874177, backtracks = 5, tol = 0.0005997001829212676\n",
      "Iteration 167: loglikelihood = 2405.8692643699123, backtracks = 5, tol = 0.0005852506348056489\n",
      "Iteration 168: loglikelihood = 2369.3573281758827, backtracks = 5, tol = 0.0005714102276617332\n",
      "Iteration 169: loglikelihood = 2335.3009826647017, backtracks = 5, tol = 0.0005581333666496694\n",
      "Iteration 170: loglikelihood = 2303.5230719896344, backtracks = 5, tol = 0.000545378228600644\n",
      "Iteration 171: loglikelihood = 2273.8543408585574, backtracks = 5, tol = 0.0005331066270350836\n",
      "Iteration 172: loglikelihood = 2246.1346450149063, backtracks = 5, tol = 0.0005212838215547399\n",
      "Iteration 173: loglikelihood = 2220.2136588332755, backtracks = 5, tol = 0.0005098782918244026\n",
      "Iteration 174: loglikelihood = 2195.9511836158467, backtracks = 5, tol = 0.0004988614925278005\n",
      "Iteration 175: loglikelihood = 2173.2171498505772, backtracks = 5, tol = 0.00048820760197527355\n",
      "Iteration 176: loglikelihood = 2151.89139376423, backtracks = 5, tol = 0.0004778932737144633\n",
      "Iteration 177: loglikelihood = 2131.8632749136314, backtracks = 5, tol = 0.00046789739767649205\n",
      "Iteration 178: loglikelihood = 2113.031188563961, backtracks = 5, tol = 0.0004582008751088044\n",
      "Iteration 179: loglikelihood = 2095.3020149202907, backtracks = 5, tol = 0.0004487864097719716\n",
      "Iteration 180: loglikelihood = 2078.5905372326306, backtracks = 5, tol = 0.00043963831655256233\n",
      "Iteration 181: loglikelihood = 2062.8188524499656, backtracks = 5, tol = 0.0004307423476914324\n",
      "Iteration 182: loglikelihood = 2047.915791361032, backtracks = 5, tol = 0.0004220855361726775\n",
      "Iteration 183: loglikelihood = 2033.816359851459, backtracks = 5, tol = 0.00041365605539620367\n",
      "Iteration 184: loglikelihood = 2020.46120881793, backtracks = 5, tol = 0.00040544309400639285\n",
      "Iteration 185: loglikelihood = 2007.7961371982635, backtracks = 5, tol = 0.0003974367446249779\n",
      "Iteration 186: loglikelihood = 1995.7716303053533, backtracks = 5, tol = 0.00038962790519883524\n",
      "Iteration 187: loglikelihood = 1984.3424340209267, backtracks = 5, tol = 0.0003820081916964163\n",
      "Iteration 188: loglikelihood = 1973.467164267302, backtracks = 5, tol = 0.0003745698609455981\n",
      "Iteration 189: loglikelihood = 1963.1079504133063, backtracks = 5, tol = 0.00036730574248842806\n",
      "Iteration 190: loglikelihood = 1953.2301107888088, backtracks = 5, tol = 0.0003602091784215265\n",
      "Iteration 191: loglikelihood = 1943.8018582068364, backtracks = 5, tol = 0.0003532739702879747\n",
      "Iteration 192: loglikelihood = 1934.7940332646008, backtracks = 5, tol = 0.00034649433218182315\n",
      "Iteration 193: loglikelihood = 1926.1798631715196, backtracks = 5, tol = 0.00033986484931850067\n",
      "Iteration 194: loglikelihood = 1917.9347438996656, backtracks = 5, tol = 0.0003333804414086015\n",
      "Iteration 195: loglikelihood = 1910.0360435461741, backtracks = 5, tol = 0.00032703633025080316\n",
      "Iteration 196: loglikelihood = 1902.4629249191983, backtracks = 5, tol = 0.00032082801103000774\n",
      "Iteration 197: loglikelihood = 1895.1961854968224, backtracks = 5, tol = 0.0003147512268698698\n",
      "Iteration 198: loglikelihood = 1888.2181130521597, backtracks = 5, tol = 0.0003088019462445358\n",
      "Iteration 199: loglikelihood = 1881.5123553818696, backtracks = 5, tol = 0.0003029763429045697\n",
      "Iteration 200: loglikelihood = 1875.0638027148993, backtracks = 5, tol = 0.0002972707780148575\n",
      "Iteration 201: loglikelihood = 1868.8584815110655, backtracks = 5, tol = 0.0002916817842412417\n",
      "Iteration 202: loglikelihood = 1862.8834584833012, backtracks = 5, tol = 0.0002862060515552174\n",
      "Iteration 203: loglikelihood = 1857.1267537924978, backtracks = 5, tol = 0.0002808404145561375\n",
      "Iteration 204: loglikelihood = 1851.5772624692618, backtracks = 5, tol = 0.00027558184113476254\n",
      "Iteration 205: loglikelihood = 1846.2246832131157, backtracks = 5, tol = 0.0002704274223249764\n",
      "Iteration 206: loglikelihood = 1841.0594538067783, backtracks = 5, tol = 0.00026537436320940734\n",
      "Iteration 207: loglikelihood = 1836.072692461786, backtracks = 5, tol = 0.0002604199747612742\n",
      "Iteration 208: loglikelihood = 1831.25614448251, backtracks = 5, tol = 0.00025556166651966516\n",
      "Iteration 209: loglikelihood = 1826.6021336991157, backtracks = 5, tol = 0.0002507969400079573\n",
      "Iteration 210: loglikelihood = 1822.1035181769576, backtracks = 5, tol = 0.0002461233828161103\n",
      "Iteration 211: loglikelihood = 1817.753649760913, backtracks = 5, tol = 0.00024153866327721214\n",
      "Iteration 212: loglikelihood = 1813.546337058633, backtracks = 5, tol = 0.00023704052567677625\n",
      "Iteration 213: loglikelihood = 1809.475811507682, backtracks = 5, tol = 0.0002326267859410171\n",
      "Iteration 214: loglikelihood = 1805.5366962079236, backtracks = 5, tol = 0.00022829532775580765\n",
      "Iteration 215: loglikelihood = 1801.7239772333407, backtracks = 5, tol = 0.00022404409907463412\n",
      "Iteration 216: loglikelihood = 1798.0329771669399, backtracks = 5, tol = 0.0002198711089773942\n",
      "Iteration 217: loglikelihood = 1794.4593306286688, backtracks = 5, tol = 0.0002157744248471173\n",
      "Iteration 218: loglikelihood = 1790.998961590381, backtracks = 5, tol = 0.0002117521698344986\n",
      "Iteration 219: loglikelihood = 1787.6480622933236, backtracks = 5, tol = 0.00020780252058390483\n",
      "Iteration 220: loglikelihood = 1784.4030736033221, backtracks = 5, tol = 0.00020392370519648425\n",
      "Iteration 221: loglikelihood = 1781.2606666566378, backtracks = 5, tol = 0.00020011400140942156\n",
      "Iteration 222: loglikelihood = 1778.2177256660254, backtracks = 5, tol = 0.00019637173497106617\n",
      "Iteration 223: loglikelihood = 1775.271331771349, backtracks = 5, tol = 0.00019269527819487385\n",
      "Iteration 224: loglikelihood = 1772.418747833128, backtracks = 5, tol = 0.00018908304867541024\n",
      "Iteration 225: loglikelihood = 1769.6574040803023, backtracks = 5, tol = 0.00018553350815174859\n",
      "Iteration 226: loglikelihood = 1766.9848845352458, backtracks = 5, tol = 0.00018204516150420932\n",
      "Iteration 227: loglikelihood = 1764.3989141503232, backtracks = 5, tol = 0.00017861655587182872\n",
      "Iteration 228: loglikelihood = 1761.8973466005289, backtracks = 5, tol = 0.00017553817158227482\n",
      "Iteration 229: loglikelihood = 1759.4781526862914, backtracks = 5, tol = 0.0001725348630899052\n",
      "Iteration 230: loglikelihood = 1757.139409309448, backtracks = 5, tol = 0.00016957866966850428\n",
      "Iteration 231: loglikelihood = 1754.879288993481, backtracks = 5, tol = 0.0027287220898330714\n",
      "Iteration 232: loglikelihood = 1745.8723713332326, backtracks = 5, tol = 0.00205887271014647\n",
      "Iteration 233: loglikelihood = 1739.173257714985, backtracks = 5, tol = 0.002024549461459665\n",
      "Iteration 234: loglikelihood = 1732.6984746760684, backtracks = 5, tol = 0.0019907965948902004\n",
      "Iteration 235: loglikelihood = 1726.4404696364854, backtracks = 5, tol = 0.0019576048216913334\n",
      "Iteration 236: loglikelihood = 1720.3919443507127, backtracks = 5, tol = 0.0019249650035542453\n",
      "Iteration 237: loglikelihood = 1714.545846282544, backtracks = 5, tol = 0.001892868150129991\n",
      "Iteration 238: loglikelihood = 1708.8953602767128, backtracks = 5, tol = 0.001861305416599315\n",
      "Iteration 239: loglikelihood = 1703.4339005167676, backtracks = 5, tol = 0.0018302681012885584\n",
      "Iteration 240: loglikelihood = 1698.1551027590394, backtracks = 5, tol = 0.0017997476433301205\n",
      "Iteration 241: loglikelihood = 1693.0528168329492, backtracks = 5, tol = 0.0017697356203659313\n",
      "Iteration 242: loglikelihood = 1688.121099398249, backtracks = 5, tol = 0.0017402237462925388\n",
      "Iteration 243: loglikelihood = 1683.3542069501814, backtracks = 5, tol = 0.0017112038690464638\n",
      "Iteration 244: loglikelihood = 1678.7465890638548, backtracks = 5, tol = 0.0016826679684285558\n",
      "Iteration 245: loglikelihood = 1674.2928818694743, backtracks = 5, tol = 0.0016546081539661928\n",
      "Iteration 246: loglikelihood = 1669.9879017503888, backtracks = 5, tol = 0.001627016662812095\n",
      "Iteration 247: loglikelihood = 1665.8266392561773, backtracks = 5, tol = 0.0015998858576788462\n",
      "Iteration 248: loglikelihood = 1661.8042532233278, backtracks = 5, tol = 0.0015732082248079017\n",
      "Iteration 249: loglikelihood = 1657.916065096339, backtracks = 5, tol = 0.0015469763719723017\n",
      "Iteration 250: loglikelihood = 1654.1575534422689, backtracks = 5, tol = 0.0015211830265120284\n",
      "Iteration 251: loglikelihood = 1650.5243486521372, backtracks = 5, tol = 0.0014958210334011617\n",
      "Iteration 252: loglikelihood = 1647.0122278226777, backtracks = 5, tol = 0.001470883353346058\n",
      "Iteration 253: loglikelihood = 1643.6171098123, backtracks = 5, tol = 0.0014463630609135895\n",
      "Iteration 254: loglikelihood = 1640.3350504653222, backtracks = 5, tol = 0.0014222533426888463\n",
      "Iteration 255: loglikelihood = 1637.1622379986281, backtracks = 5, tol = 0.0013985474954613828\n",
      "Iteration 256: loglikelihood = 1634.0949885453315, backtracks = 5, tol = 0.0013752389244394087\n",
      "Iteration 257: loglikelihood = 1631.1297418500153, backtracks = 5, tol = 0.0013523211414911598\n",
      "Iteration 258: loglikelihood = 1628.2630571104742, backtracks = 5, tol = 0.00132978776341281\n",
      "Iteration 259: loglikelihood = 1625.4916089609399, backtracks = 5, tol = 0.0013076325102221874\n",
      "Iteration 260: loglikelihood = 1622.8121835920342, backtracks = 5, tol = 0.0012858492034778617\n",
      "Iteration 261: loglikelihood = 1620.2216750028795, backtracks = 5, tol = 0.0012644317646226685\n",
      "Iteration 262: loglikelihood = 1617.717081380866, backtracks = 5, tol = 0.0012433742133514069\n",
      "Iteration 263: loglikelihood = 1615.2955016048418, backtracks = 5, tol = 0.0012226706660018259\n",
      "Iteration 264: loglikelihood = 1612.954131867585, backtracks = 5, tol = 0.0012023153339685607\n",
      "Iteration 265: loglikelihood = 1610.6902624135569, backtracks = 5, tol = 0.0011823025221393327\n",
      "Iteration 266: loglikelihood = 1608.5012743881696, backtracks = 5, tol = 0.0011626266273527877\n",
      "Iteration 267: loglikelihood = 1606.3846367948215, backtracks = 5, tol = 0.0011432821368776548\n",
      "Iteration 268: loglikelihood = 1604.3379035561404, backtracks = 5, tol = 0.0011242636269124882\n",
      "Iteration 269: loglikelihood = 1602.3587106760308, backtracks = 5, tol = 0.0011055657611055304\n",
      "Iteration 270: loglikelihood = 1600.4447734992323, backtracks = 5, tol = 0.0010871832890942067\n",
      "Iteration 271: loglikelihood = 1598.5938840651652, backtracks = 5, tol = 0.0010691110450636926\n",
      "Iteration 272: loglikelihood = 1596.8039085530158, backtracks = 5, tol = 0.0010513439463241026\n",
      "Iteration 273: loglikelihood = 1595.0727848151084, backtracks = 5, tol = 0.0010338769919057194\n",
      "Iteration 274: loglikelihood = 1593.3985199957356, backtracks = 5, tol = 0.0010167052611718076\n",
      "Iteration 275: loglikelihood = 1591.7791882326615, backtracks = 5, tol = 0.0009998239124485392\n",
      "Iteration 276: loglikelihood = 1590.2129284386797, backtracks = 5, tol = 0.0009832281816715316\n",
      "Iteration 277: loglikelihood = 1588.697942160752, backtracks = 5, tol = 0.0009669133810484743\n",
      "Iteration 278: loglikelihood = 1587.232491514107, backtracks = 5, tol = 0.0009508748977373198\n",
      "Iteration 279: loglikelihood = 1585.8148971891676, backtracks = 5, tol = 0.0009351081925397683\n",
      "Iteration 280: loglikelihood = 1584.4435365288243, backtracks = 5, tol = 0.0009196087986092336\n",
      "Iteration 281: loglikelihood = 1583.1168416740431, backtracks = 5, tol = 0.0009043723201731521\n",
      "Iteration 282: loglikelihood = 1581.8332977756, backtracks = 5, tol = 0.0008893944312688826\n",
      "Iteration 283: loglikelihood = 1580.5914412699474, backtracks = 5, tol = 0.0008746708744929395\n",
      "Iteration 284: loglikelihood = 1579.389858217281, backtracks = 5, tol = 0.0008601974597628851\n",
      "Iteration 285: loglikelihood = 1578.2271826999374, backtracks = 5, tol = 0.0008459700630916087\n",
      "Iteration 286: loglikelihood = 1577.10209527926, backtracks = 5, tol = 0.0008319846253733944\n",
      "Iteration 287: loglikelihood = 1576.0133215092696, backtracks = 5, tol = 0.0008182371511814005\n",
      "Iteration 288: loglikelihood = 1574.9596305054336, backtracks = 5, tol = 0.0008047237075759788\n",
      "Iteration 289: loglikelihood = 1573.9398335669061, backtracks = 5, tol = 0.0007914404229235228\n",
      "Iteration 290: loglikelihood = 1572.952782850708, backtracks = 5, tol = 0.0007783834857253003\n",
      "Iteration 291: loglikelihood = 1571.997370096343, backtracks = 5, tol = 0.0007655491434558949\n",
      "Iteration 292: loglikelihood = 1571.0725253993933, backtracks = 5, tol = 0.0007529337014107303\n",
      "Iteration 293: loglikelihood = 1570.177216032715, backtracks = 5, tol = 0.000740533521562375\n",
      "Iteration 294: loglikelihood = 1569.3104453138567, backtracks = 5, tol = 0.0007283450214250829\n",
      "Iteration 295: loglikelihood = 1568.4712515174122, backtracks = 5, tol = 0.0007163646729273423\n",
      "Iteration 296: loglikelihood = 1567.6587068310519, backtracks = 5, tol = 0.0007045890012918541\n",
      "Iteration 297: loglikelihood = 1566.871916353943, backtracks = 5, tol = 0.0006930145839226844\n",
      "Iteration 298: loglikelihood = 1566.1100171364392, backtracks = 5, tol = 0.0006816380492992336\n",
      "Iteration 299: loglikelihood = 1565.3721772597773, backtracks = 5, tol = 0.0006704560758766884\n",
      "Iteration 300: loglikelihood = 1564.6575949547343, backtracks = 5, tol = 0.0006594653909925684\n",
      "Iteration 301: loglikelihood = 1563.9654977580283, backtracks = 5, tol = 0.0006486627697792968\n",
      "Iteration 302: loglikelihood = 1563.2951417054323, backtracks = 5, tol = 0.0006380450340822683\n",
      "Iteration 303: loglikelihood = 1562.6458105604315, backtracks = 5, tol = 0.0006276090513834618\n",
      "Iteration 304: loglikelihood = 1562.0168150774145, backtracks = 5, tol = 0.0006173517337303297\n",
      "Iteration 305: loglikelihood = 1561.4074922982502, backtracks = 5, tol = 0.0006072700366698084\n",
      "Iteration 306: loglikelihood = 1560.8172048812526, backtracks = 5, tol = 0.0005973609581874418\n",
      "Iteration 307: loglikelihood = 1560.2453404613145, backtracks = 5, tol = 0.000587621537651582\n",
      "Iteration 308: loglikelihood = 1559.6913110402704, backtracks = 5, tol = 0.000578048854762827\n",
      "Iteration 309: loglikelihood = 1559.154552406266, backtracks = 5, tol = 0.0005686400285085704\n",
      "Iteration 310: loglikelihood = 1558.634523581035, backtracks = 5, tol = 0.0005593922161231919\n",
      "Iteration 311: loglikelihood = 1558.1307062939372, backtracks = 5, tol = 0.0005503026120540525\n",
      "Iteration 312: loglikelihood = 1557.642604481566, backtracks = 5, tol = 0.0005413684469335349\n",
      "Iteration 313: loglikelihood = 1557.169743811674, backtracks = 5, tol = 0.0005325869865579339\n",
      "Iteration 314: loglikelihood = 1556.7116712301963, backtracks = 5, tol = 0.0005239555308737457\n",
      "Iteration 315: loglikelihood = 1556.2679545300186, backtracks = 5, tol = 0.0005154714129718234\n",
      "Iteration 316: loglikelihood = 1555.8381819401427, backtracks = 5, tol = 0.0005071319980908291\n",
      "Iteration 317: loglikelihood = 1555.4219617338165, backtracks = 5, tol = 0.0004989346826305909\n",
      "Iteration 318: loglikelihood = 1555.018921854184, backtracks = 5, tol = 0.0004908768931768966\n",
      "Iteration 319: loglikelihood = 1554.6287095558096, backtracks = 5, tol = 0.00048295608553891605\n",
      "Iteration 320: loglikelihood = 1554.2509910605945, backtracks = 5, tol = 0.0004751697438010846\n",
      "Iteration 321: loglikelihood = 1553.885451226249, backtracks = 5, tol = 0.0004675153793911437\n",
      "Iteration 322: loglikelihood = 1553.5317932256478, backtracks = 5, tol = 0.00045999053016657657\n",
      "Iteration 323: loglikelihood = 1553.1897382351774, backtracks = 5, tol = 0.0004525927595214527\n",
      "Iteration 324: loglikelihood = 1552.859025130175, backtracks = 5, tol = 0.00044531965551660753\n",
      "Iteration 325: loglikelihood = 1552.5394101853826, backtracks = 5, tol = 0.0004381688300357968\n",
      "Iteration 326: loglikelihood = 1552.2306667784217, backtracks = 5, tol = 0.0004311379179710912\n",
      "Iteration 327: loglikelihood = 1551.9325850940675, backtracks = 5, tol = 0.00042422457644090094\n",
      "Iteration 328: loglikelihood = 1551.6449718270815, backtracks = 5, tol = 0.00041742648404441814\n",
      "Iteration 329: loglikelihood = 1551.3676498813638, backtracks = 5, tol = 0.00041074134015675314\n",
      "Iteration 330: loglikelihood = 1551.100458062973, backtracks = 5, tol = 0.0004041668642688989\n",
      "Iteration 331: loglikelihood = 1550.8432507646994, backtracks = 5, tol = 0.00039770079537772534\n",
      "Iteration 332: loglikelihood = 1550.5958976396837, backtracks = 5, tol = 0.00039134089143084353\n",
      "Iteration 333: loglikelihood = 1550.358283261649, backtracks = 5, tol = 0.0003850849288320278\n",
      "Iteration 334: loglikelihood = 1550.1303067692625, backtracks = 5, tol = 0.00037893070201298266\n",
      "Iteration 335: loglikelihood = 1549.9118814921737, backtracks = 5, tol = 0.00037287602307754623\n",
      "Iteration 336: loglikelihood = 1549.702934556279, backtracks = 5, tol = 0.0003669187215252076\n",
      "Iteration 337: loglikelihood = 1549.503406465934, backtracks = 5, tol = 0.00036105664406000846\n",
      "Iteration 338: loglikelihood = 1549.3132506607135, backtracks = 5, tol = 0.00035528765449261514\n",
      "Iteration 339: loglikelihood = 1549.1324330446812, backtracks = 5, tol = 0.0003496096337423168\n",
      "Iteration 340: loglikelihood = 1548.9609314860552, backtracks = 5, tol = 0.0003440204799462922\n",
      "Iteration 341: loglikelihood = 1548.798735285565, backtracks = 5, tol = 0.0003385181086838693\n",
      "Iteration 342: loglikelihood = 1548.6458446117506, backtracks = 5, tol = 0.0003331004533229963\n",
      "Iteration 343: loglikelihood = 1548.5022699019576, backtracks = 5, tol = 0.0003277654654960653\n",
      "Iteration 344: loglikelihood = 1548.6268379074793, backtracks = 0, tol = 0.03558000225826405\n",
      "Iteration 345: loglikelihood = 1496.095054004881, backtracks = 5, tol = 0.00024687758226281316\n",
      "Iteration 346: loglikelihood = 1505.1261107238472, backtracks = 0, tol = 0.007824091848899898\n",
      "Iteration 347: loglikelihood = 1527.5420263557385, backtracks = 0, tol = 0.027331541119030977\n",
      "Iteration 348: loglikelihood = 1520.7647314460582, backtracks = 5, tol = 0.00033486534027448345\n",
      "Iteration 349: loglikelihood = 1525.718364302519, backtracks = 0, tol = 0.010543546581622326\n",
      "Iteration 350: loglikelihood = 1533.3267385789657, backtracks = 0, tol = 0.0042227261392724395\n",
      "Iteration 351: loglikelihood = 1541.9946939692575, backtracks = 0, tol = 0.022989955285370244\n",
      "Iteration 352: loglikelihood = 1545.7721719283845, backtracks = 0, tol = 0.0023386189513835945\n",
      "Iteration 353: loglikelihood = 1557.12590923629, backtracks = 0, tol = 0.02133682893091646\n",
      "Iteration 354: loglikelihood = 1569.4113854260438, backtracks = 0, tol = 0.022638388772604046\n",
      "Iteration 355: loglikelihood = 1571.4584850812132, backtracks = 0, tol = 0.001990825166076536\n",
      "Iteration 356: loglikelihood = 1580.015146793606, backtracks = 0, tol = 0.021459162023670836\n",
      "Iteration 357: loglikelihood = 1590.7717735299334, backtracks = 0, tol = 0.022541782207728265\n",
      "Iteration 358: loglikelihood = 1592.7691792334078, backtracks = 0, tol = 0.0018990959921352068\n",
      "Iteration 359: loglikelihood = 1599.4777140149843, backtracks = 0, tol = 0.021492900493214635\n",
      "Iteration 360: loglikelihood = 1609.0092942818876, backtracks = 0, tol = 0.022482766079387925\n",
      "Iteration 361: loglikelihood = 1610.902434027564, backtracks = 0, tol = 0.0018403155413971215\n",
      "Iteration 362: loglikelihood = 1616.425291323851, backtracks = 0, tol = 0.021489548226067152\n",
      "Iteration 363: loglikelihood = 1624.9664348375218, backtracks = 0, tol = 0.022440665302215525\n",
      "Iteration 364: loglikelihood = 1626.7193417608999, backtracks = 0, tol = 0.0017967261663001928\n",
      "Iteration 365: loglikelihood = 1631.4138723172107, backtracks = 0, tol = 0.02146990814244122\n",
      "Iteration 366: loglikelihood = 1639.1639237686493, backtracks = 0, tol = 0.022407195889090518\n",
      "Iteration 367: loglikelihood = 1640.764525326207, backtracks = 0, tol = 0.001761235892515708\n",
      "Iteration 368: loglikelihood = 1644.843362237679, backtracks = 0, tol = 0.021443031681238095\n",
      "Iteration 369: loglikelihood = 1651.9553079192299, backtracks = 0, tol = 0.022378756337591277\n",
      "Iteration 370: loglikelihood = 1653.4050836466695, backtracks = 0, tol = 0.0017306918559077981\n",
      "Iteration 371: loglikelihood = 1657.0057922708886, backtracks = 0, tol = 0.02141317245325364\n",
      "Iteration 372: loglikelihood = 1663.5953715481153, backtracks = 0, tol = 0.022353617521494784\n",
      "Iteration 373: loglikelihood = 1664.9018062076627, backtracks = 0, tol = 0.0017035338580874682\n",
      "Iteration 374: loglikelihood = 1668.1191172805677, backtracks = 0, tol = 0.02138243764148661\n",
      "Iteration 375: loglikelihood = 1674.274713527139, backtracks = 0, tol = 0.022330854813667183\n",
      "Iteration 376: loglikelihood = 1675.4474803599855, backtracks = 0, tol = 0.0016788967746775329\n",
      "Iteration 377: loglikelihood = 1678.3497560453113, backtracks = 0, tol = 0.02135190091437886\n",
      "Iteration 378: loglikelihood = 1684.1399111592286, backtracks = 0, tol = 0.022309921987916342\n",
      "Iteration 379: loglikelihood = 1685.1890849778101, backtracks = 0, tol = 0.0016562492663715312\n",
      "Iteration 380: loglikelihood = 1687.8274726609243, backtracks = 0, tol = 0.021322109460532177\n",
      "Iteration 381: loglikelihood = 1693.3062095300627, backtracks = 0, tol = 0.02229046766229793\n",
      "Iteration 382: loglikelihood = 1694.2414702500478, backtracks = 0, tol = 0.0016352364402967897\n",
      "Iteration 383: loglikelihood = 1696.6553477115356, backtracks = 0, tol = 0.021293331103261988\n",
      "Iteration 384: loglikelihood = 1701.8659033629542, backtracks = 0, tol = 0.02227224938884192\n",
      "Iteration 385: loglikelihood = 1702.6962138065546, backtracks = 0, tol = 0.0016190658943287166\n",
      "Iteration 386: loglikelihood = 1704.9166089146067, backtracks = 0, tol = 0.021265681386345416\n",
      "Iteration 387: loglikelihood = 1709.894075382875, backtracks = 0, tol = 0.022255090206329008\n",
      "Iteration 388: loglikelihood = 1710.6275844650474, backtracks = 0, tol = 0.0016149304662995364\n",
      "Iteration 389: loglikelihood = 1712.6794195892203, backtracks = 0, tol = 0.021239191741526015\n",
      "Iteration 390: loglikelihood = 1717.4526394039167, backtracks = 0, tol = 0.022238855086216557\n",
      "Iteration 391: loglikelihood = 1718.0966900818926, backtracks = 0, tol = 0.0016110205571445457\n",
      "Iteration 392: loglikelihood = 1720.0003096787755, backtracks = 0, tol = 0.02121384725602233\n",
      "Iteration 393: loglikelihood = 1724.5932584116358, backtracks = 0, tol = 0.022223437346885064\n",
      "Iteration 394: loglikelihood = 1725.1544414120076, backtracks = 0, tol = 0.0016073149545980955\n",
      "Iteration 395: loglikelihood = 1726.9266838467677, backtracks = 0, tol = 0.02118960810346426\n",
      "Iteration 396: loglikelihood = 1731.359494733333, backtracks = 0, tol = 0.022208750372413447\n",
      "Iteration 397: loglikelihood = 1731.8437191599844, backtracks = 0, tol = 0.001603795073571611\n",
      "Iteration 398: loglikelihood = 1733.4986884101238, backtracks = 0, tol = 0.021166421899978412\n",
      "Iteration 399: loglikelihood = 1737.788423291063, backtracks = 0, tol = 0.022194722310455245\n",
      "Iteration 400: loglikelihood = 1738.2009901533384, backtracks = 0, tol = 0.0016004445827677476\n",
      "Iteration 401: loglikelihood = 1739.7506238842861, backtracks = 0, tol = 0.021144230882397686\n",
      "Iteration 402: loglikelihood = 1743.911861510748, backtracks = 0, tol = 0.022181292526581783\n",
      "Iteration 403: loglikelihood = 1744.2575337128037, backtracks = 0, tol = 0.0015972490847596138\n",
      "Iteration 404: loglikelihood = 1745.7120295808572, backtracks = 0, tol = 0.02112297606879906\n",
      "Iteration 405: loglikelihood = 1749.7573204341045, backtracks = 0, tol = 0.022168409140834247\n",
      "Iteration 406: loglikelihood = 1750.0403865469143, backtracks = 0, tol = 0.0015941958438476106\n",
      "Iteration 407: loglikelihood = 1751.4085275514494, backtracks = 0, tol = 0.02110259963197735\n",
      "Iteration 408: loglikelihood = 1755.3487497034278, backtracks = 0, tol = 0.022156027258157997\n",
      "Iteration 409: loglikelihood = 1755.5730807268535, backtracks = 0, tol = 0.0015912735554064407\n",
      "Iteration 410: loglikelihood = 1756.8624872453956, backtracks = 0, tol = 0.021083046203127544\n",
      "Iteration 411: loglikelihood = 1760.7071278767685, backtracks = 0, tol = 0.02214410766002735\n",
      "Iteration 412: loglikelihood = 1760.8762271107448, backtracks = 0, tol = 0.001588472150646687\n",
      "Iteration 413: loglikelihood = 1762.093554746869, backtracks = 0, tol = 0.0210642635318036\n",
      "Iteration 414: loglikelihood = 1765.8509351229027, backtracks = 0, tol = 0.022132615812679998\n",
      "Iteration 415: loglikelihood = 1765.9679816752887, backtracks = 0, tol = 0.0015857826312990005\n",
      "Iteration 416: loglikelihood = 1767.1190784281139, backtracks = 0, tol = 0.021046202759146423\n",
      "Iteration 417: loglikelihood = 1770.7965353766385, backtracks = 0, tol = 0.022121521099075284\n",
      "Iteration 418: loglikelihood = 1770.8644219858838, backtracks = 0, tol = 0.0015831969294364584\n",
      "Iteration 419: loglikelihood = 1771.9544544516505, backtracks = 0, tol = 0.02102881846122149\n",
      "Iteration 420: loglikelihood = 1775.5584880215376, backtracks = 0, tol = 0.022110796213063968\n",
      "Iteration 421: loglikelihood = 1775.5798538940294, backtracks = 0, tol = 0.0015807077883576491\n",
      "Iteration 422: loglikelihood = 1776.613409592267, backtracks = 0, tol = 0.02101206855895531\n",
      "Iteration 423: loglikelihood = 1780.1498041576665, backtracks = 0, tol = 0.022100416673878763\n",
      "Iteration 424: loglikelihood = 1779.413597588743, backtracks = 5, tol = 4.9322145659408505e-5\n",
      " 75.267566 seconds (226.42 k allocations: 6.891 GiB, 1.31% gc time)\n"
     ]
    },
    {
     "data": {
      "text/plain": [
       "\n",
       "Compute time (sec):     75.24118995666504\n",
       "Final loglikelihood:    1779.413597588743\n",
       "Iterations:             424\n",
       "\n",
       "Trait 1: IHT estimated 10 nonzero SNP predictors\n",
       "\u001b[1m10×2 DataFrame\u001b[0m\n",
       "\u001b[1m Row \u001b[0m│\u001b[1m Position \u001b[0m\u001b[1m Estimated_β \u001b[0m\n",
       "\u001b[1m     \u001b[0m│\u001b[90m Int64    \u001b[0m\u001b[90m Float64     \u001b[0m\n",
       "─────┼───────────────────────\n",
       "   1 │      782    -0.392369\n",
       "   2 │      901     0.77888\n",
       "   3 │     1204     0.736398\n",
       "   4 │     1306    -1.45906\n",
       "   5 │     1427     0.060341\n",
       "   6 │     1655    -0.182698\n",
       "   7 │     3160    -0.846335\n",
       "   8 │     4201     0.312977\n",
       "   9 │     6047     0.151031\n",
       "  10 │     6879    -1.23321\n",
       "\n",
       "Trait 1: IHT estimated 0 non-genetic predictors\n",
       "\u001b[1m0×2 DataFrame\u001b[0m\n",
       "\n",
       "Trait 2: IHT estimated 10 nonzero SNP predictors\n",
       "\u001b[1m10×2 DataFrame\u001b[0m\n",
       "\u001b[1m Row \u001b[0m│\u001b[1m Position \u001b[0m\u001b[1m Estimated_β \u001b[0m\n",
       "\u001b[1m     \u001b[0m│\u001b[90m Int64    \u001b[0m\u001b[90m Float64     \u001b[0m\n",
       "─────┼───────────────────────\n",
       "   1 │       46    1.7353\n",
       "   2 │     4797   -1.20672\n",
       "   3 │     5616   -0.966976\n",
       "   4 │     6072    0.534409\n",
       "   5 │     6573   -0.586309\n",
       "   6 │     7236    0.503907\n",
       "   7 │     7407   -0.0727545\n",
       "   8 │     7667    0.340336\n",
       "   9 │     9091    0.0801867\n",
       "  10 │     9763    1.28035\n",
       "\n",
       "Trait 2: IHT estimated 0 non-genetic predictors\n",
       "\u001b[1m0×2 DataFrame\u001b[0m\n"
      ]
     },
     "execution_count": 50,
     "metadata": {},
     "output_type": "execute_result"
    }
   ],
   "source": [
    "Yt = Matrix(Y')\n",
    "Zt = Matrix(z')\n",
    "@time result = fit_iht(Yt, Transpose(xla), Zt, k=10, fullIHT=true, max_iter=1000, max_step=2, verbose=true)"
   ]
  },
  {
   "cell_type": "markdown",
   "metadata": {},
   "source": [
    "## Check answer"
   ]
  },
  {
   "cell_type": "code",
   "execution_count": 51,
   "metadata": {
    "collapsed": false
   },
   "outputs": [
    {
     "data": {
      "text/plain": [
       "10×2 Array{Float64,2}:\n",
       " -0.392369  -0.402269\n",
       "  0.77888    0.758756\n",
       "  0.736398   0.729135\n",
       " -1.45906   -1.47163\n",
       " -0.182698  -0.172668\n",
       " -0.846335  -0.847906\n",
       "  0.312977   0.296183\n",
       "  0.0       -0.0034339\n",
       "  0.151031   0.125965\n",
       " -1.23321   -1.24972"
      ]
     },
     "execution_count": 51,
     "metadata": {},
     "output_type": "execute_result"
    }
   ],
   "source": [
    "# first beta\n",
    "β1 = result.beta[1, :]\n",
    "true_b1_idx = findall(!iszero, true_b[:, 1])\n",
    "[β1[true_b1_idx] true_b[true_b1_idx, 1]]"
   ]
  },
  {
   "cell_type": "code",
   "execution_count": 52,
   "metadata": {
    "collapsed": false
   },
   "outputs": [
    {
     "data": {
      "text/plain": [
       "10×2 Array{Float64,2}:\n",
       "  1.7353      1.73729\n",
       " -1.20672    -1.19911\n",
       "  0.0         0.0121193\n",
       " -0.966976   -0.969569\n",
       "  0.534409    0.540525\n",
       " -0.586309   -0.609556\n",
       "  0.503907    0.481189\n",
       " -0.0727545  -0.0524866\n",
       "  0.340336    0.31182\n",
       "  1.28035     1.29813"
      ]
     },
     "execution_count": 52,
     "metadata": {},
     "output_type": "execute_result"
    }
   ],
   "source": [
    "# second beta\n",
    "β2 = result.beta[2, :]\n",
    "true_b2_idx = findall(!iszero, true_b[:, 2])\n",
    "[β2[true_b2_idx] true_b[true_b2_idx, 2]]"
   ]
  },
  {
   "cell_type": "code",
   "execution_count": 54,
   "metadata": {
    "collapsed": false
   },
   "outputs": [
    {
     "data": {
      "text/plain": [
       "4×2 Array{Float64,2}:\n",
       " 1.23959  1.22512\n",
       " 1.14345  1.23674\n",
       " 1.14345  1.23674\n",
       " 1.51206  1.494"
      ]
     },
     "execution_count": 54,
     "metadata": {},
     "output_type": "execute_result"
    }
   ],
   "source": [
    "# covariance matrix\n",
    "[vec(result.Σ) vec(true_Σ)]"
   ]
  },
  {
   "cell_type": "markdown",
   "metadata": {},
   "source": [
    "# Test Cross validation"
   ]
  },
  {
   "cell_type": "code",
   "execution_count": 9,
   "metadata": {
    "collapsed": false
   },
   "outputs": [
    {
     "name": "stdout",
     "output_type": "stream",
     "text": [
      "\n",
      "\n",
      "Crossvalidation Results:\n",
      "\tk\tMSE\n",
      "\t1\t2506.1361026992413\n",
      "\t2\t1707.4609062019433\n",
      "\t3\t1297.253354519584\n",
      "\t4\t985.2280061442002\n",
      "\t5\t819.8080675324194\n",
      "\t6\t739.6359401670024\n",
      "\t7\t641.5504839534303\n",
      "\t8\t612.7042220588955\n",
      "\t9\t608.3277089584982\n",
      "\t10\t610.9984342539259\n",
      "\t11\t614.807751686425\n",
      "\t12\t616.615453582629\n",
      "\t13\t621.4468351156702\n",
      "\t14\t628.0553031281725\n",
      "\t15\t628.5181881547544\n",
      "\t16\t626.4682026915706\n",
      "\t17\t636.4936893268582\n",
      "\t18\t635.9073694771134\n",
      "\t19\t630.7374247665347\n",
      "\t20\t633.3757710953382\n",
      "284.723952 seconds (151.20 k allocations: 823.455 MiB, 0.05% gc time)\n"
     ]
    }
   ],
   "source": [
    "Random.seed!(2020)\n",
    "Yt = Matrix(Y')\n",
    "Zt = Matrix(z')\n",
    "@time cv_iht(Yt, x, Zt);"
   ]
  },
  {
   "cell_type": "markdown",
   "metadata": {
    "collapsed": true
   },
   "source": [
    "# Compare with univariate IHT\n",
    "\n",
    "+ `fit_iht`: ~20 times slower\n",
    "+ `cv_iht`: ~70 times slower"
   ]
  },
  {
   "cell_type": "code",
   "execution_count": 40,
   "metadata": {
    "collapsed": false
   },
   "outputs": [],
   "source": [
    "n = 1000  # number of samples\n",
    "p = 10000 # number of SNPs\n",
    "k = 10    # number of causal SNPs per trait\n",
    "d = Normal\n",
    "l = IdentityLink()\n",
    "\n",
    "# set random seed for reproducibility\n",
    "Random.seed!(2021)\n",
    "\n",
    "# simulate `.bed` file with no missing data\n",
    "x = simulate_random_snparray(undef, n, p)\n",
    "xla = SnpLinAlg{Float64}(x, model=ADDITIVE_MODEL, center=true, scale=true) \n",
    "\n",
    "# intercept is the only nongenetic covariate\n",
    "z = ones(n) \n",
    "\n",
    "# simulate response y, true model b, and the correct non-0 positions of b\n",
    "Y, true_b, correct_position = simulate_random_response(xla, k, d, l);"
   ]
  },
  {
   "cell_type": "code",
   "execution_count": 42,
   "metadata": {
    "collapsed": false
   },
   "outputs": [
    {
     "name": "stdout",
     "output_type": "stream",
     "text": [
      "****                   MendelIHT Version 1.4.0                  ****\n",
      "****     Benjamin Chu, Kevin Keys, Chris German, Hua Zhou       ****\n",
      "****   Jin Zhou, Eric Sobel, Janet Sinsheimer, Kenneth Lange    ****\n",
      "****                                                            ****\n",
      "****                 Please cite our paper!                     ****\n",
      "****         https://doi.org/10.1093/gigascience/giaa044        ****\n",
      "\n",
      "Running sparse linear regression\n",
      "Link functin = IdentityLink()\n",
      "Sparsity parameter (k) = 10\n",
      "Prior weight scaling = off\n",
      "Doubly sparse projection = off\n",
      "Debias = off\n",
      "\n",
      "Converging when tol < 0.0001:\n",
      "Iteration 1: loglikelihood = -1568.8072402506227, tol = 1.2369352935298255\n",
      "Iteration 2: loglikelihood = -1485.2388920745977, tol = 0.1246509194436555\n",
      "Iteration 3: loglikelihood = -1473.4688017685708, tol = 0.060408468355759436\n",
      "Iteration 4: loglikelihood = -1472.7990029487871, tol = 0.0051541599786159185\n",
      "Iteration 5: loglikelihood = -1472.6215787426543, tol = 0.0027074009598392432\n",
      "Iteration 6: loglikelihood = -1472.5750923058279, tol = 0.0014024357703938922\n",
      "Iteration 7: loglikelihood = -1472.56305274433, tol = 0.0007192610681400216\n",
      "Iteration 8: loglikelihood = -1472.5599794599239, tol = 0.0003666779218011309\n",
      "Iteration 9: loglikelihood = -1472.559217403865, tol = 0.0001862796778162656\n",
      "Iteration 10: loglikelihood = -1472.5590426182382, tol = 9.441607391002328e-5\n",
      "  0.065688 seconds (157.23 k allocations: 4.509 MiB)\n"
     ]
    },
    {
     "data": {
      "text/plain": [
       "\n",
       "IHT estimated 10 nonzero SNP predictors and 0 non-genetic predictors.\n",
       "\n",
       "Compute time (sec):     0.06568217277526855\n",
       "Final loglikelihood:    -1472.5590426182382\n",
       "Iterations:             10\n",
       "\n",
       "Selected genetic predictors:\n",
       "\u001b[1m10×2 DataFrame\u001b[0m\n",
       "\u001b[1m Row \u001b[0m│\u001b[1m Position \u001b[0m\u001b[1m Estimated_β \u001b[0m\n",
       "\u001b[1m     \u001b[0m│\u001b[90m Int64    \u001b[0m\u001b[90m Float64     \u001b[0m\n",
       "─────┼───────────────────────\n",
       "   1 │      782    -0.438598\n",
       "   2 │      901     0.747536\n",
       "   3 │     1204     0.691351\n",
       "   4 │     1306    -1.42482\n",
       "   5 │     1655    -0.194714\n",
       "   6 │     3160    -0.86084\n",
       "   7 │     3936    -0.147349\n",
       "   8 │     4201     0.338177\n",
       "   9 │     4402    -0.126286\n",
       "  10 │     6879    -1.21081\n",
       "\n",
       "Selected nongenetic predictors:\n",
       "\u001b[1m0×2 DataFrame\u001b[0m"
      ]
     },
     "execution_count": 42,
     "metadata": {},
     "output_type": "execute_result"
    }
   ],
   "source": [
    "@time result = fit_iht(Y, xla, z, k=10)"
   ]
  },
  {
   "cell_type": "code",
   "execution_count": 43,
   "metadata": {
    "collapsed": false
   },
   "outputs": [
    {
     "data": {
      "text/plain": [
       "10×2 Array{Float64,2}:\n",
       " -0.438598  -0.402269\n",
       "  0.747536   0.758756\n",
       "  0.691351   0.729135\n",
       " -1.42482   -1.47163\n",
       " -0.194714  -0.172668\n",
       " -0.86084   -0.847906\n",
       "  0.338177   0.296183\n",
       "  0.0       -0.0034339\n",
       "  0.0        0.125965\n",
       " -1.21081   -1.24972"
      ]
     },
     "execution_count": 43,
     "metadata": {},
     "output_type": "execute_result"
    }
   ],
   "source": [
    "# compare beta values\n",
    "[result.beta[correct_position] true_b[correct_position]]"
   ]
  },
  {
   "cell_type": "markdown",
   "metadata": {},
   "source": [
    "### Cross validation timing"
   ]
  },
  {
   "cell_type": "code",
   "execution_count": 8,
   "metadata": {
    "collapsed": false
   },
   "outputs": [
    {
     "name": "stdout",
     "output_type": "stream",
     "text": [
      "\n",
      "\n",
      "Crossvalidation Results:\n",
      "\tk\tMSE\n",
      "\t1\t1431.385325867502\n",
      "\t2\t1431.569108502913\n",
      "\t3\t1429.2348660984221\n",
      "\t4\t1429.5730864011514\n",
      "\t5\t1429.4077307081652\n",
      "\t6\t1429.2323485244572\n",
      "\t7\t1429.5277693297523\n",
      "\t8\t1429.4669590879946\n",
      "\t9\t1429.4376255311238\n",
      "\t10\t1429.526751070809\n",
      "\t11\t1429.5205225689476\n",
      "\t12\t1429.6007792570374\n",
      "\t13\t1430.324407382292\n",
      "\t14\t1430.2241106412075\n",
      "\t15\t1430.2935769756937\n",
      "\t16\t1430.0160991249024\n",
      "\t17\t1430.2798769215433\n",
      "\t18\t1430.7721172663867\n",
      "\t19\t1430.8725535864496\n",
      "\t20\t1429.7969640813615\n",
      "  4.344964 seconds (10.10 M allocations: 343.536 MiB, 0.70% gc time)\n"
     ]
    }
   ],
   "source": [
    "# 1 cores\n",
    "Random.seed!(2020)\n",
    "@time cv_iht(Y, x, z);"
   ]
  },
  {
   "cell_type": "code",
   "execution_count": 7,
   "metadata": {
    "collapsed": false
   },
   "outputs": [
    {
     "name": "stdout",
     "output_type": "stream",
     "text": [
      "\n",
      "\n",
      "Crossvalidation Results:\n",
      "\tk\tMSE\n",
      "\t1\t1431.385325867502\n",
      "\t2\t1431.569108502913\n",
      "\t3\t1429.2348660984221\n",
      "\t4\t1429.5730864011514\n",
      "\t5\t1429.4077307081652\n",
      "\t6\t1429.2323485244572\n",
      "\t7\t1429.5277693297523\n",
      "\t8\t1429.4669590879946\n",
      "\t9\t1429.4376255311238\n",
      "\t10\t1429.526751070809\n",
      "\t11\t1429.5205225689476\n",
      "\t12\t1429.6007792570374\n",
      "\t13\t1430.324407382292\n",
      "\t14\t1430.2241106412075\n",
      "\t15\t1430.2935769756937\n",
      "\t16\t1430.0160991249024\n",
      "\t17\t1430.2798769215433\n",
      "\t18\t1430.7721172663867\n",
      "\t19\t1430.8725535864496\n",
      "\t20\t1429.7969640813615\n",
      "  4.223226 seconds (10.10 M allocations: 343.629 MiB, 0.88% gc time)\n"
     ]
    }
   ],
   "source": [
    "# 4 cores\n",
    "Random.seed!(2020)\n",
    "@time cv_iht(Y, x, z);"
   ]
  },
  {
   "cell_type": "markdown",
   "metadata": {
    "collapsed": true
   },
   "source": [
    "# GEMMA multivariate results"
   ]
  },
  {
   "cell_type": "code",
   "execution_count": 37,
   "metadata": {
    "collapsed": false
   },
   "outputs": [],
   "source": [
    "gemma_df = CSV.read(\"gemma.result.assoc.txt\", DataFrame)\n",
    "\n",
    "# pvalues\n",
    "pval_wald = gemma_df[!, :p_wald]\n",
    "pval_lrt = gemma_df[!, :p_lrt]\n",
    "pval_score = gemma_df[!, :p_score]\n",
    "\n",
    "# estimated beta\n",
    "estim_β1 = gemma_df[!, :beta_1]\n",
    "estim_β2 = gemma_df[!, :beta_2]\n",
    "\n",
    "# estimated covariance matrix\n",
    "estim_σ11 = gemma_df[!, :Vbeta_1_1]\n",
    "estim_σ12 = gemma_df[!, :Vbeta_1_2]\n",
    "estim_σ22 = gemma_df[!, :Vbeta_2_2];"
   ]
  },
  {
   "cell_type": "code",
   "execution_count": 39,
   "metadata": {
    "collapsed": false
   },
   "outputs": [
    {
     "data": {
      "text/plain": [
       "12-element Array{Int64,1}:\n",
       "   46\n",
       "  901\n",
       " 1204\n",
       " 1306\n",
       " 3160\n",
       " 4797\n",
       " 5616\n",
       " 6072\n",
       " 6573\n",
       " 6879\n",
       " 7236\n",
       " 9763"
      ]
     },
     "execution_count": 39,
     "metadata": {},
     "output_type": "execute_result"
    }
   ],
   "source": [
    "correct_snps = [x[1] for x in correct_position]  # truely causal snps\n",
    "signif_snps = findall(x -> x ≤ 0.05/p, pval_lrt) # gemma's selected snps\n",
    "signif_snps ∩ correct_snps"
   ]
  },
  {
   "cell_type": "code",
   "execution_count": null,
   "metadata": {
    "collapsed": true
   },
   "outputs": [],
   "source": []
  }
 ],
 "metadata": {
  "@webio": {
   "lastCommId": null,
   "lastKernelId": null
  },
  "kernelspec": {
   "display_name": "Julia 1.5.0",
   "language": "julia",
   "name": "julia-1.5"
  },
  "language_info": {
   "file_extension": ".jl",
   "mimetype": "application/julia",
   "name": "julia",
   "version": "1.5.0"
  }
 },
 "nbformat": 4,
 "nbformat_minor": 2
}
