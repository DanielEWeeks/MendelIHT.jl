{
 "cells": [
  {
   "cell_type": "code",
   "execution_count": 1,
   "metadata": {
    "collapsed": false
   },
   "outputs": [
    {
     "name": "stderr",
     "output_type": "stream",
     "text": [
      "┌ Info: Precompiling MendelIHT [921c7187-1484-5754-b919-5d3ed9ac03c4]\n",
      "└ @ Base loading.jl:1278\n"
     ]
    }
   ],
   "source": [
    "using Distributed\n",
    "addprocs(4)\n",
    "\n",
    "@everywhere begin\n",
    "    using Revise\n",
    "    using MendelIHT\n",
    "    using SnpArrays\n",
    "    using Random\n",
    "    using GLM\n",
    "    using DelimitedFiles\n",
    "    using Test\n",
    "    using Distributions\n",
    "    using LinearAlgebra\n",
    "    using CSV\n",
    "    using DataFrames\n",
    "    using StatsBase\n",
    "#     using TraitSimulation, OrdinalMultinomialModels, VarianceComponentModels\n",
    "end"
   ]
  },
  {
   "cell_type": "markdown",
   "metadata": {},
   "source": [
    "# Simple multivariate Gaussian traits\n",
    "\n",
    "With $r$ traits, each sample's phenotype $\\mathbf{y}_{i} \\in \\mathbb{R}^{n \\times 1}$ is simulated under\n",
    "\n",
    "$$\\mathbf{y}_{i}^{r \\times 1} \\sim N(\\mathbf{B}^{r \\times p}\\mathbf{x}_{i}^{p \\times 1}, \\ \\ \\Sigma_{r \\times r})$$\n",
    "\n",
    "This model assumes each sample is independent."
   ]
  },
  {
   "cell_type": "code",
   "execution_count": 60,
   "metadata": {
    "collapsed": false
   },
   "outputs": [],
   "source": [
    "n = 1000  # number of samples\n",
    "p = 10000 # number of SNPs\n",
    "k = 10    # number of causal SNPs\n",
    "r = 2     # number of traits\n",
    "\n",
    "# set random seed for reproducibility\n",
    "Random.seed!(2021)\n",
    "\n",
    "# simulate `.bed` file with no missing data\n",
    "x = simulate_random_snparray(\"multivariate_$(r)traits.bed\", n, p)\n",
    "xla = SnpLinAlg{Float64}(x, model=ADDITIVE_MODEL, center=true, scale=true) \n",
    "\n",
    "# intercept is the only nongenetic covariate\n",
    "z = ones(n, 1)\n",
    "intercepts = [10.0 1.0] # each trait have different intercept\n",
    "\n",
    "# simulate response y, true model b, and the correct non-0 positions of b\n",
    "Y, true_Σ, true_b, correct_position = simulate_random_response(xla, k, r, Zu=z*intercepts, overlap=2);"
   ]
  },
  {
   "cell_type": "code",
   "execution_count": 3,
   "metadata": {
    "collapsed": false
   },
   "outputs": [],
   "source": [
    "# save true SNP's position and effect size\n",
    "open(\"multivariate_$(r)traits_true_beta.txt\", \"w\") do io\n",
    "    println(io, \"snpID,effectsize\")\n",
    "    for pos in correct_position\n",
    "        println(io, \"snp$pos,\", true_b[pos])\n",
    "    end\n",
    "end\n",
    "\n",
    "# create `.bim` and `.bam` files using phenotype\n",
    "make_bim_fam_files(x, Y, \"multivariate_$(r)traits\")\n",
    "\n",
    "# save phenotypes in separate file\n",
    "open(\"multivariate_$(r)traits.phen\", \"w\") do io\n",
    "    println(io, \"FID\\tIID\\tT1\\tT2\")\n",
    "    for i in 1:n\n",
    "        println(io, \"$i\\t1\\t\", Y[i, 1], \"\\t\", Y[i, 2])\n",
    "    end\n",
    "end"
   ]
  },
  {
   "cell_type": "markdown",
   "metadata": {},
   "source": [
    "## Run IHT"
   ]
  },
  {
   "cell_type": "code",
   "execution_count": 61,
   "metadata": {
    "collapsed": false,
    "scrolled": false
   },
   "outputs": [
    {
     "name": "stdout",
     "output_type": "stream",
     "text": [
      "****                   MendelIHT Version 1.3.3                  ****\n",
      "****     Benjamin Chu, Kevin Keys, Chris German, Hua Zhou       ****\n",
      "****   Jin Zhou, Eric Sobel, Janet Sinsheimer, Kenneth Lange    ****\n",
      "****                                                            ****\n",
      "****                 Please cite our paper!                     ****\n",
      "****         https://doi.org/10.1093/gigascience/giaa044        ****\n",
      "\n",
      "Running sparse Multivariate Gaussian regression\n",
      "Link functin = IdentityLink()\n",
      "Sparsity parameter (k) = 12\n",
      "Prior weight scaling = off\n",
      "Doubly sparse projection = off\n",
      "Debias = off\n",
      "Max IHT iterations = 200\n",
      "Converging when tol < 0.0001:\n",
      "\n",
      "Iteration 1: loglikelihood = 215.4892687838203, backtracks = 0, tol = 0.1243455904380314\n",
      "Iteration 2: loglikelihood = 1382.37242885485, backtracks = 0, tol = 0.027019894208789006\n",
      "Iteration 3: loglikelihood = 1477.7383135165255, backtracks = 0, tol = 0.014225517157910452\n",
      "Iteration 4: loglikelihood = 1511.714843337414, backtracks = 0, tol = 0.004456457458306909\n",
      "Iteration 5: loglikelihood = 1517.374943234058, backtracks = 0, tol = 0.009361327995786433\n",
      "Iteration 6: loglikelihood = 1521.0563367531254, backtracks = 0, tol = 0.0020881621966380654\n",
      "Iteration 7: loglikelihood = 1521.5612806745546, backtracks = 0, tol = 0.0007739228421755521\n",
      "Iteration 8: loglikelihood = 1521.5856742000437, backtracks = 0, tol = 0.0005835724366912655\n",
      "Iteration 9: loglikelihood = 1521.5944217241986, backtracks = 0, tol = 0.0004441229847926908\n",
      "Iteration 10: loglikelihood = 1521.5999462310328, backtracks = 0, tol = 0.0003414681601819523\n",
      "Iteration 11: loglikelihood = 1521.6029227415816, backtracks = 0, tol = 0.00026020796911232585\n",
      "Iteration 12: loglikelihood = 1521.6047505987615, backtracks = 0, tol = 0.00020057542129071708\n",
      "Iteration 13: loglikelihood = 1521.6057725125233, backtracks = 0, tol = 0.00015303062268605698\n",
      "Iteration 14: loglikelihood = 1521.6063899688509, backtracks = 0, tol = 0.000118094208906598\n",
      "Iteration 15: loglikelihood = 1521.6067421001371, backtracks = 0, tol = 9.014512191781365e-5\n",
      "  1.587838 seconds (3.11 k allocations: 3.503 MiB)\n"
     ]
    },
    {
     "data": {
      "text/plain": [
       "\n",
       "Compute time (sec):     1.4830679893493652\n",
       "Final loglikelihood:    1521.6067421001371\n",
       "Iterations:             15\n",
       "Trait 1's SNP PVE:      0.554527358091918\n",
       "Trait 2's SNP PVE:      0.6195879626449299\n",
       "\n",
       "Trait 1: IHT estimated 4 nonzero SNP predictors\n",
       "\u001b[1m4×2 DataFrame\u001b[0m\n",
       "\u001b[1m Row \u001b[0m│\u001b[1m Position \u001b[0m\u001b[1m Estimated_β \u001b[0m\n",
       "\u001b[1m     \u001b[0m│\u001b[90m Int64    \u001b[0m\u001b[90m Float64     \u001b[0m\n",
       "─────┼───────────────────────\n",
       "   1 │     1197     0.121446\n",
       "   2 │     5651    -0.200705\n",
       "   3 │     5797    -1.09767\n",
       "   4 │     8087     1.2791\n",
       "\n",
       "Trait 1: IHT estimated 1 non-genetic predictors\n",
       "\u001b[1m1×2 DataFrame\u001b[0m\n",
       "\u001b[1m Row \u001b[0m│\u001b[1m Position \u001b[0m\u001b[1m Estimated_β \u001b[0m\n",
       "\u001b[1m     \u001b[0m│\u001b[90m Int64    \u001b[0m\u001b[90m Float64     \u001b[0m\n",
       "─────┼───────────────────────\n",
       "   1 │        1       10.027\n",
       "\n",
       "Trait 2: IHT estimated 6 nonzero SNP predictors\n",
       "\u001b[1m6×2 DataFrame\u001b[0m\n",
       "\u001b[1m Row \u001b[0m│\u001b[1m Position \u001b[0m\u001b[1m Estimated_β \u001b[0m\n",
       "\u001b[1m     \u001b[0m│\u001b[90m Int64    \u001b[0m\u001b[90m Float64     \u001b[0m\n",
       "─────┼───────────────────────\n",
       "   1 │      326     0.331882\n",
       "   2 │     2110     0.575645\n",
       "   3 │     5375     1.19357\n",
       "   4 │     5797     0.502072\n",
       "   5 │     6015     0.81844\n",
       "   6 │     6813     1.36932\n",
       "\n",
       "Trait 2: IHT estimated 1 non-genetic predictors\n",
       "\u001b[1m1×2 DataFrame\u001b[0m\n",
       "\u001b[1m Row \u001b[0m│\u001b[1m Position \u001b[0m\u001b[1m Estimated_β \u001b[0m\n",
       "\u001b[1m     \u001b[0m│\u001b[90m Int64    \u001b[0m\u001b[90m Float64     \u001b[0m\n",
       "─────┼───────────────────────\n",
       "   1 │        1      1.03625\n"
      ]
     },
     "execution_count": 61,
     "metadata": {},
     "output_type": "execute_result"
    },
    {
     "name": "stdout",
     "output_type": "stream",
     "text": [
      "\n"
     ]
    }
   ],
   "source": [
    "Yt = Matrix(Y')\n",
    "Zt = Matrix(z')\n",
    "ktrue = k + count(!iszero, intercepts)\n",
    "@time result = fit_iht(Yt, Transpose(xla), Zt, k=12, verbose=true)"
   ]
  },
  {
   "cell_type": "markdown",
   "metadata": {},
   "source": [
    "## Check answer"
   ]
  },
  {
   "cell_type": "code",
   "execution_count": 62,
   "metadata": {
    "collapsed": false
   },
   "outputs": [
    {
     "data": {
      "text/plain": [
       "4×2 Array{Float64,2}:\n",
       " -0.200705  -0.224675\n",
       " -1.09767   -1.14044\n",
       "  0.0       -0.14698\n",
       "  1.2791     1.25668"
      ]
     },
     "execution_count": 62,
     "metadata": {},
     "output_type": "execute_result"
    }
   ],
   "source": [
    "# first beta\n",
    "β1 = result.beta[1, :]\n",
    "true_b1_idx = findall(!iszero, true_b[:, 1])\n",
    "[β1[true_b1_idx] true_b[true_b1_idx, 1]]"
   ]
  },
  {
   "cell_type": "code",
   "execution_count": 63,
   "metadata": {
    "collapsed": false
   },
   "outputs": [
    {
     "data": {
      "text/plain": [
       "6×2 Array{Float64,2}:\n",
       " 0.331882  0.315219\n",
       " 0.575645  0.609812\n",
       " 1.19357   1.20121\n",
       " 0.502072  0.531549\n",
       " 0.81844   0.808327\n",
       " 1.36932   1.43455"
      ]
     },
     "execution_count": 63,
     "metadata": {},
     "output_type": "execute_result"
    }
   ],
   "source": [
    "# second beta\n",
    "β2 = result.beta[2, :]\n",
    "true_b2_idx = findall(!iszero, true_b[:, 2])\n",
    "[β2[true_b2_idx] true_b[true_b2_idx, 2]]"
   ]
  },
  {
   "cell_type": "code",
   "execution_count": 64,
   "metadata": {
    "collapsed": false
   },
   "outputs": [
    {
     "data": {
      "text/plain": [
       "2×2 Array{Float64,2}:\n",
       " 10.027    10.0\n",
       "  1.03625   1.0"
      ]
     },
     "execution_count": 64,
     "metadata": {},
     "output_type": "execute_result"
    }
   ],
   "source": [
    "# non genetic covariates\n",
    "[result.c intercepts']"
   ]
  },
  {
   "cell_type": "code",
   "execution_count": 65,
   "metadata": {
    "collapsed": false
   },
   "outputs": [
    {
     "data": {
      "text/plain": [
       "4×2 Array{Float64,2}:\n",
       "  2.4681    2.53934\n",
       " -1.83681  -1.85399\n",
       " -1.83681  -1.85399\n",
       "  2.42177   2.41416"
      ]
     },
     "execution_count": 65,
     "metadata": {},
     "output_type": "execute_result"
    }
   ],
   "source": [
    "# covariance matrix\n",
    "[vec(result.Σ) vec(true_Σ)]"
   ]
  },
  {
   "cell_type": "code",
   "execution_count": 66,
   "metadata": {
    "collapsed": false
   },
   "outputs": [
    {
     "data": {
      "text/plain": [
       "8-element Array{Int64,1}:\n",
       " 5651\n",
       " 5797\n",
       " 8087\n",
       "  326\n",
       " 2110\n",
       " 5375\n",
       " 6015\n",
       " 6813"
      ]
     },
     "execution_count": 66,
     "metadata": {},
     "output_type": "execute_result"
    }
   ],
   "source": [
    "# number of causal SNPs recovered\n",
    "correct_snps = [x[1] for x in correct_position]             # truely causal snps\n",
    "signif_snps = findall(!iszero, β1) ∪ findall(!iszero, β2)   # IHT's selected snps\n",
    "signif_snps ∩ correct_snps"
   ]
  },
  {
   "cell_type": "markdown",
   "metadata": {},
   "source": [
    "## Test Cross validation"
   ]
  },
  {
   "cell_type": "code",
   "execution_count": 11,
   "metadata": {
    "collapsed": false
   },
   "outputs": [
    {
     "name": "stderr",
     "output_type": "stream",
     "text": [
      "\u001b[32mCross validating...100%|████████████████████████████████| Time: 0:01:03\u001b[39m\n"
     ]
    },
    {
     "name": "stdout",
     "output_type": "stream",
     "text": [
      "\n",
      "\n",
      "Crossvalidation Results:\n",
      "\tk\tMSE\n",
      "\t1\t2888.7160633632484\n",
      "\t2\t2560.135862053543\n",
      "\t3\t2067.943067029389\n",
      "\t4\t1812.0395079444284\n",
      "\t5\t1554.3120367449362\n",
      "\t6\t1277.3237598020087\n",
      "\t7\t1154.9320629872832\n",
      "\t8\t1098.5910963871872\n",
      "\t9\t1019.4597637296985\n",
      "\t10\t1030.1412464715597\n",
      "\t11\t1023.5545874904792\n",
      "\t12\t1007.9022110997687\n",
      "\t13\t1012.6193656356761\n",
      "\t14\t1019.1491606608182\n",
      "\t15\t1024.6877890077092\n",
      "\t16\t1022.9300595671257\n",
      "\t17\t1040.0286509856787\n",
      "\t18\t1033.345570850089\n",
      "\t19\t1039.8828186471897\n",
      "\t20\t1036.274158344765\n",
      "\n",
      "Best k = 12\n",
      "\n",
      " 63.787494 seconds (10.28 M allocations: 497.667 MiB, 0.24% gc time)\n"
     ]
    }
   ],
   "source": [
    "Random.seed!(2020)\n",
    "Yt = Matrix(Y')\n",
    "Zt = Matrix(z')\n",
    "@time mses = cv_iht(Yt, Transpose(xla), Zt);"
   ]
  },
  {
   "cell_type": "markdown",
   "metadata": {},
   "source": [
    "**Conclusion:** Using $k = 12$ (which achieves minimum MSE) IHT finds 8/10 causal SNPs + 2 intercept terms. Beta estimates and cross-trait covariances are very precise. "
   ]
  },
  {
   "cell_type": "markdown",
   "metadata": {},
   "source": [
    "# GEMMA multivariate results"
   ]
  },
  {
   "cell_type": "code",
   "execution_count": 84,
   "metadata": {
    "collapsed": false
   },
   "outputs": [
    {
     "data": {
      "text/plain": [
       "6-element Array{Int64,1}:\n",
       " 2110\n",
       " 5375\n",
       " 5797\n",
       " 6015\n",
       " 6813\n",
       " 8087"
      ]
     },
     "execution_count": 84,
     "metadata": {},
     "output_type": "execute_result"
    }
   ],
   "source": [
    "gemma_df = CSV.read(\"gemma.result.assoc.txt\", DataFrame)\n",
    "\n",
    "# pvalues\n",
    "pval_wald = gemma_df[!, :p_wald]\n",
    "pval_lrt = gemma_df[!, :p_lrt]\n",
    "pval_score = gemma_df[!, :p_score]\n",
    "\n",
    "# estimated beta\n",
    "estim_β1 = gemma_df[!, :beta_1]\n",
    "estim_β2 = gemma_df[!, :beta_2]\n",
    "\n",
    "# estimated covariance matrix\n",
    "estim_σ11 = gemma_df[!, :Vbeta_1_1]\n",
    "estim_σ12 = gemma_df[!, :Vbeta_1_2]\n",
    "estim_σ22 = gemma_df[!, :Vbeta_2_2];\n",
    "\n",
    "correct_snps = [x[1] for x in correct_position]  # truely causal snps\n",
    "signif_snps = findall(x -> x ≤ 0.05/p, pval_lrt) # gemma's selected snps\n",
    "signif_snps ∩ correct_snps"
   ]
  },
  {
   "cell_type": "markdown",
   "metadata": {},
   "source": [
    "**Conclusion:** GEMMA finds 6/10 causal SNPs"
   ]
  },
  {
   "cell_type": "markdown",
   "metadata": {},
   "source": [
    "# MV-PLINK"
   ]
  },
  {
   "cell_type": "code",
   "execution_count": 25,
   "metadata": {
    "collapsed": false
   },
   "outputs": [
    {
     "data": {
      "text/plain": [
       "6-element Array{Int64,1}:\n",
       " 2110\n",
       " 5375\n",
       " 5797\n",
       " 6015\n",
       " 6813\n",
       " 8087"
      ]
     },
     "execution_count": 25,
     "metadata": {},
     "output_type": "execute_result"
    }
   ],
   "source": [
    "mvplink_df = CSV.read(\"plink.mqfam.total\", DataFrame, delim=' ', ignorerepeated=true)\n",
    "\n",
    "# pvalues\n",
    "pval = mvplink_df[!, :P]\n",
    "\n",
    "# SNPs passing threshold\n",
    "signif_snps = findall(x -> x ≤ 0.05 / p, pval)\n",
    "signif_snps ∩ correct_snps"
   ]
  },
  {
   "cell_type": "markdown",
   "metadata": {},
   "source": [
    "**Conclusion:** MV-PLINK finds 6/10 causal SNPs"
   ]
  },
  {
   "cell_type": "markdown",
   "metadata": {},
   "source": [
    "# More complicated simulations (multivariate traits)\n",
    "\n",
    "Let us simulate:\n",
    "+ Non-independent samples\n",
    "+ Polygenic traits where every SNP contributes to the phenotype, but $k$ SNPs have large effect\n",
    "\n",
    "For $r$ traits, our model is:\n",
    "\n",
    "$$\\mathbf{Y}_{r \\times n} \\sim \\text{MatrixNormal}(\\mathbf{B}_{r \\times p}\\mathbf{X}_{p \\times n}, \\ \\ \\Sigma_{r \\times r} , \\ \\ \\sigma_g^2\\Phi_{n \\times n} + \\sigma_e^2 \\mathbf{I}_{n \\times n})$$\n",
    "\n",
    "where\n",
    "+ $\\mathbf{X}_{p \\times n}$ contains *all* predictors (genetic + non-genetic)\n",
    "+ $\\mathbf{B}_{r \\times p}$ contains (true) regression coefficients. Each row is $k$-sparse.\n",
    "+ $\\Sigma_{r \\times r}$ is the row (trait) covariance matrix\n",
    "+ $\\sigma_g^2\\Phi_{n \\times n} + \\sigma_e^2 \\mathbf{I}_{n \\times n}$ is the column (sample) covariance matrix\n",
    "+ $\\Phi$ is the GRM estimated from the genotypes\n",
    "+ $\\sigma_g^2 = 0.6$ and $\\sigma_e^2 = 0.4$ (thus heritability is 60%)"
   ]
  },
  {
   "cell_type": "code",
   "execution_count": 2,
   "metadata": {
    "collapsed": false
   },
   "outputs": [
    {
     "data": {
      "text/plain": [
       "simulate_random_beta"
      ]
     },
     "execution_count": 2,
     "metadata": {},
     "output_type": "execute_result"
    }
   ],
   "source": [
    "\"\"\"\n",
    "k = Number of causal SNPs\n",
    "p = Total number of SNPs\n",
    "traits = Number of traits (phenotypes)\n",
    "overlap = number of causal SNPs shared in each trait\n",
    "\"\"\"\n",
    "function simulate_random_beta(k::Int, p::Int, traits::Int; overlap::Int=0)\n",
    "    true_b = zeros(p, traits)\n",
    "    if overlap == 0\n",
    "        causal_snps = sample(1:(traits * p), k, replace=false)\n",
    "        true_b[causal_snps] = randn(k)\n",
    "    else\n",
    "        shared_snps = sample(1:p, overlap, replace=false)\n",
    "        weight_vector = aweights(1 / (traits * (p - overlap)) * ones(traits * p))\n",
    "        for i in 1:traits\n",
    "            weight_vector[i*shared_snps] .= 0.0 # avoid sampling from shared snps\n",
    "        end\n",
    "        @assert sum(weight_vector) ≈ 1.0\n",
    "        # simulate β for shared predictors\n",
    "        for i in 1:traits\n",
    "            true_b[shared_snps, i] = randn(overlap)\n",
    "        end\n",
    "        # simulate β for none shared predictors\n",
    "        nonshared_snps = sample(1:(traits * p), weight_vector, k - traits * overlap, replace=false)\n",
    "        true_b[nonshared_snps] = randn(k - traits * overlap)\n",
    "    end\n",
    "\n",
    "    return true_b\n",
    "end"
   ]
  },
  {
   "cell_type": "code",
   "execution_count": 37,
   "metadata": {
    "collapsed": false
   },
   "outputs": [],
   "source": [
    "n = 1000  # number of samples\n",
    "p = 10000 # number of SNPs\n",
    "k = 10    # number of causal SNPs\n",
    "r = 2     # number of traits\n",
    "\n",
    "# set random seed for reproducibility\n",
    "Random.seed!(111)\n",
    "\n",
    "# simulate `.bed` file with no missing data\n",
    "x = simulate_random_snparray(\"multivariate_$(r)traits.bed\", n, p)\n",
    "xla = SnpLinAlg{Float64}(x, model=ADDITIVE_MODEL, center=true, scale=true) \n",
    "\n",
    "# intercept is the only nongenetic covariate\n",
    "z = ones(n, 1)\n",
    "intercepts = [0.5 1.0] # each trait have different intercept\n",
    "\n",
    "# simulate β\n",
    "B = simulate_random_beta(k, p, r, overlap=2)\n",
    "\n",
    "# between trait covariance matrix\n",
    "Σ = random_covariance_matrix(r)\n",
    "\n",
    "# between sample covariance is identity + GRM (2 times because in SnpArrays grm is halved)\n",
    "Φ = 2grm(x)\n",
    "σg = 0.6\n",
    "σe = 0.4\n",
    "V = σg * Φ + σe * I\n",
    "\n",
    "# simulate y using TraitSimulations.jl\n",
    "# VCM_model = VCMTrait(z, intercepts, x, B, [Σ], [V]) #https://github.com/OpenMendel/TraitSimulation.jl/blob/6d1f09c7332471a74b4dd6c8ef2d2b95a96c585c/src/modelframework.jl#L159\n",
    "# Y = simulate(VCM_model)\n",
    "\n",
    "# simulate using naive model\n",
    "μ = z * intercepts + xla * B\n",
    "Yt = rand(MatrixNormal(μ', Σ, V));"
   ]
  },
  {
   "cell_type": "code",
   "execution_count": 38,
   "metadata": {
    "collapsed": false
   },
   "outputs": [
    {
     "name": "stderr",
     "output_type": "stream",
     "text": [
      "┌ Warning: Replacing docs for `MendelIHT.make_bim_fam_files :: Tuple{SnpArray,Union{AbstractArray{T,1}, AbstractArray{T,2}} where T,String}` in module `MendelIHT`\n",
      "└ @ Base.Docs docs/Docs.jl:227\n",
      "┌ Warning: Replacing docs for `MendelIHT.make_bim_fam_files :: Tuple{SnpArray,Union{AbstractArray{T,1}, AbstractArray{T,2}} where T,String}` in module `MendelIHT`\n",
      "└ @ Base.Docs docs/Docs.jl:227\n",
      "┌ Warning: Replacing docs for `MendelIHT.make_bim_fam_files :: Tuple{SnpArray,Union{AbstractArray{T,1}, AbstractArray{T,2}} where T,String}` in module `MendelIHT`\n",
      "└ @ Base.Docs docs/Docs.jl:227\n",
      "┌ Warning: Replacing docs for `MendelIHT.make_bim_fam_files :: Tuple{SnpArray,Union{AbstractArray{T,1}, AbstractArray{T,2}} where T,String}` in module `MendelIHT`\n",
      "└ @ Base.Docs docs/Docs.jl:227\n"
     ]
    }
   ],
   "source": [
    "# create `.bim` and `.bam` files using phenotype\n",
    "make_bim_fam_files(x, Transpose(Yt), \"multivariate_$(r)traits\")\n",
    "\n",
    "# save phenotypes in separate file\n",
    "open(\"multivariate_$(r)traits.phen\", \"w\") do io\n",
    "    println(io, \"FID\\tIID\\tT1\\tT2\")\n",
    "    for i in 1:n\n",
    "        println(io, \"$i\\t1\\t\", Yt[1, i], \"\\t\", Yt[2, i])\n",
    "    end\n",
    "end"
   ]
  },
  {
   "cell_type": "markdown",
   "metadata": {},
   "source": [
    "## Run IHT "
   ]
  },
  {
   "cell_type": "code",
   "execution_count": 26,
   "metadata": {
    "collapsed": false,
    "scrolled": true
   },
   "outputs": [
    {
     "name": "stdout",
     "output_type": "stream",
     "text": [
      "****                   MendelIHT Version 1.3.3                  ****\n",
      "****     Benjamin Chu, Kevin Keys, Chris German, Hua Zhou       ****\n",
      "****   Jin Zhou, Eric Sobel, Janet Sinsheimer, Kenneth Lange    ****\n",
      "****                                                            ****\n",
      "****                 Please cite our paper!                     ****\n",
      "****         https://doi.org/10.1093/gigascience/giaa044        ****\n",
      "\n",
      "Running sparse Multivariate Gaussian regression\n",
      "Link functin = IdentityLink()\n",
      "Sparsity parameter (k) = 17\n",
      "Prior weight scaling = off\n",
      "Doubly sparse projection = off\n",
      "Debias = off\n",
      "Max IHT iterations = 200\n",
      "Converging when tol < 0.0001:\n",
      "\n",
      "Iteration 1: loglikelihood = -208.1303677652943, backtracks = 0, tol = 0.2187665316250511\n",
      "Iteration 2: loglikelihood = 1730.5686443633824, backtracks = 0, tol = 0.027954213730783353\n",
      "Iteration 3: loglikelihood = 2141.9436184153865, backtracks = 0, tol = 0.018380547307851085\n",
      "Iteration 4: loglikelihood = 2458.699098945602, backtracks = 0, tol = 0.0024804912660922975\n",
      "Iteration 5: loglikelihood = 2524.905957486149, backtracks = 0, tol = 0.002195518099108775\n",
      "Iteration 6: loglikelihood = 2585.6274212594485, backtracks = 0, tol = 0.001922560202696253\n",
      "Iteration 7: loglikelihood = 2639.902566062339, backtracks = 0, tol = 0.0016821114216904916\n",
      "Iteration 8: loglikelihood = 2687.826958427744, backtracks = 0, tol = 0.0014707672386079888\n",
      "Iteration 9: loglikelihood = 2729.6577237063193, backtracks = 0, tol = 0.0012853612036613016\n",
      "Iteration 10: loglikelihood = 2765.7807878572503, backtracks = 0, tol = 0.00898477985918318\n",
      "Iteration 11: loglikelihood = 3016.8598829633247, backtracks = 0, tol = 0.0010709250055960513\n",
      "Iteration 12: loglikelihood = 3066.949588311725, backtracks = 0, tol = 0.0009761915953248982\n",
      "Iteration 13: loglikelihood = 3108.774838827013, backtracks = 0, tol = 0.0008886744017028702\n",
      "Iteration 14: loglikelihood = 3145.1722850865863, backtracks = 0, tol = 0.000808775730306242\n",
      "Iteration 15: loglikelihood = 3176.552755697012, backtracks = 0, tol = 0.0007357956765844247\n",
      "Iteration 16: loglikelihood = 3203.372134908995, backtracks = 0, tol = 0.0006691476228747463\n",
      "Iteration 17: loglikelihood = 3226.11260851685, backtracks = 0, tol = 0.000608303120166499\n",
      "Iteration 18: loglikelihood = 3245.259689557204, backtracks = 0, tol = 0.0005527766302871431\n",
      "Iteration 19: loglikelihood = 3261.282762072684, backtracks = 0, tol = 0.0005021215331493\n",
      "Iteration 20: loglikelihood = 3274.621008327218, backtracks = 0, tol = 0.00045592768718006043\n",
      "Iteration 21: loglikelihood = 3285.674592187063, backtracks = 0, tol = 0.0004138188351741109\n",
      "Iteration 22: loglikelihood = 3294.8003207746997, backtracks = 0, tol = 0.0003754499369667309\n",
      "Iteration 23: loglikelihood = 3302.3107633666905, backtracks = 0, tol = 0.0013541273092987855\n",
      "Iteration 24: loglikelihood = 3317.7971360768515, backtracks = 0, tol = 0.0003136430157708215\n",
      "Iteration 25: loglikelihood = 3322.5555480161884, backtracks = 0, tol = 0.00028287973292207577\n",
      "Iteration 26: loglikelihood = 3326.3926443636865, backtracks = 0, tol = 0.00025574459662217503\n",
      "Iteration 27: loglikelihood = 3329.512468981333, backtracks = 0, tol = 0.0002310955578904086\n",
      "Iteration 28: loglikelihood = 3332.0458570569326, backtracks = 0, tol = 0.0011788815213951314\n",
      "Iteration 29: loglikelihood = 3347.4521781045423, backtracks = 0, tol = 0.001161931226577802\n",
      "Iteration 30: loglikelihood = 3349.8348831502744, backtracks = 0, tol = 0.001161931226577802\n",
      "Iteration 31: loglikelihood = 3355.6597844012667, backtracks = 0, tol = 0.00119052729516276\n",
      "Iteration 32: loglikelihood = 3357.840174299373, backtracks = 0, tol = 0.00119052729516276\n",
      "Iteration 33: loglikelihood = 3356.964031382751, backtracks = 5, tol = 9.103461969142466e-6\n",
      "  2.893129 seconds (5.35 k allocations: 7.489 MiB)\n"
     ]
    },
    {
     "data": {
      "text/plain": [
       "\n",
       "Compute time (sec):     2.7989869117736816\n",
       "Final loglikelihood:    3356.964031382751\n",
       "Iterations:             33\n",
       "Trait 1's SNP PVE:      0.4078279521313628\n",
       "Trait 2's SNP PVE:      0.8925271478138327\n",
       "\n",
       "Trait 1: IHT estimated 7 nonzero SNP predictors\n",
       "\u001b[1m7×2 DataFrame\u001b[0m\n",
       "\u001b[1m Row \u001b[0m│\u001b[1m Position \u001b[0m\u001b[1m Estimated_β \u001b[0m\n",
       "\u001b[1m     \u001b[0m│\u001b[90m Int64    \u001b[0m\u001b[90m Float64     \u001b[0m\n",
       "─────┼───────────────────────\n",
       "   1 │     2351   -0.0173457\n",
       "   2 │     2529   -0.254579\n",
       "   3 │     2850   -0.0151446\n",
       "   4 │     2872    0.820841\n",
       "   5 │     2986   -0.0125593\n",
       "   6 │     4248   -1.403\n",
       "   7 │     8921    1.24517\n",
       "\n",
       "Trait 1: IHT estimated 1 non-genetic predictors\n",
       "\u001b[1m1×2 DataFrame\u001b[0m\n",
       "\u001b[1m Row \u001b[0m│\u001b[1m Position \u001b[0m\u001b[1m Estimated_β \u001b[0m\n",
       "\u001b[1m     \u001b[0m│\u001b[90m Int64    \u001b[0m\u001b[90m Float64     \u001b[0m\n",
       "─────┼───────────────────────\n",
       "   1 │        1       10.006\n",
       "\n",
       "Trait 2: IHT estimated 8 nonzero SNP predictors\n",
       "\u001b[1m8×2 DataFrame\u001b[0m\n",
       "\u001b[1m Row \u001b[0m│\u001b[1m Position \u001b[0m\u001b[1m Estimated_β \u001b[0m\n",
       "\u001b[1m     \u001b[0m│\u001b[90m Int64    \u001b[0m\u001b[90m Float64     \u001b[0m\n",
       "─────┼───────────────────────\n",
       "   1 │      359   -0.0123562\n",
       "   2 │     4710   -0.114557\n",
       "   3 │     6991   -2.70478\n",
       "   4 │     8738    0.0126899\n",
       "   5 │     8825    0.0139091\n",
       "   6 │     8921   -0.218876\n",
       "   7 │     8964    0.312726\n",
       "   8 │     9542   -0.0128753\n",
       "\n",
       "Trait 2: IHT estimated 1 non-genetic predictors\n",
       "\u001b[1m1×2 DataFrame\u001b[0m\n",
       "\u001b[1m Row \u001b[0m│\u001b[1m Position \u001b[0m\u001b[1m Estimated_β \u001b[0m\n",
       "\u001b[1m     \u001b[0m│\u001b[90m Int64    \u001b[0m\u001b[90m Float64     \u001b[0m\n",
       "─────┼───────────────────────\n",
       "   1 │        1      1.00318\n"
      ]
     },
     "execution_count": 26,
     "metadata": {},
     "output_type": "execute_result"
    },
    {
     "name": "stdout",
     "output_type": "stream",
     "text": [
      "\n"
     ]
    }
   ],
   "source": [
    "Zt = Matrix(z')\n",
    "ktrue = k + count(!iszero, intercepts)\n",
    "@time result = fit_iht(Yt, Transpose(xla), Zt, k=17, verbose=true)"
   ]
  },
  {
   "cell_type": "code",
   "execution_count": 27,
   "metadata": {
    "collapsed": false
   },
   "outputs": [
    {
     "data": {
      "text/plain": [
       "5×2 Array{Float64,2}:\n",
       " -0.254579  -0.413412\n",
       "  0.820841   0.811243\n",
       "  0.0        0.0244199\n",
       " -1.403     -1.42827\n",
       "  1.24517    1.24969"
      ]
     },
     "execution_count": 27,
     "metadata": {},
     "output_type": "execute_result"
    }
   ],
   "source": [
    "# first beta\n",
    "β1 = result.beta[1, :]\n",
    "true_b1_idx = findall(!iszero, B[:, 1])\n",
    "[β1[true_b1_idx] B[true_b1_idx, 1]]"
   ]
  },
  {
   "cell_type": "code",
   "execution_count": 28,
   "metadata": {
    "collapsed": false
   },
   "outputs": [
    {
     "data": {
      "text/plain": [
       "5×2 Array{Float64,2}:\n",
       "  0.0       -0.0597678\n",
       " -0.114557  -0.11578\n",
       " -2.70478   -2.70844\n",
       " -0.218876  -0.212269\n",
       "  0.312726   0.310274"
      ]
     },
     "execution_count": 28,
     "metadata": {},
     "output_type": "execute_result"
    }
   ],
   "source": [
    "# second beta\n",
    "β2 = result.beta[2, :]\n",
    "true_b2_idx = findall(!iszero, B[:, 2])\n",
    "[β2[true_b2_idx] B[true_b2_idx, 2]]"
   ]
  },
  {
   "cell_type": "code",
   "execution_count": 29,
   "metadata": {
    "collapsed": false
   },
   "outputs": [
    {
     "data": {
      "text/plain": [
       "2×2 Array{Float64,2}:\n",
       " 10.006    10.0\n",
       "  1.00318   1.0"
      ]
     },
     "execution_count": 29,
     "metadata": {},
     "output_type": "execute_result"
    }
   ],
   "source": [
    "# non genetic covariates\n",
    "[result.c intercepts']"
   ]
  },
  {
   "cell_type": "code",
   "execution_count": 30,
   "metadata": {
    "collapsed": false
   },
   "outputs": [
    {
     "data": {
      "text/plain": [
       "4×2 Array{Float64,2}:\n",
       " 5.9949    5.65059\n",
       " 2.0924    1.97568\n",
       " 2.0924    1.97568\n",
       " 0.741367  0.702678"
      ]
     },
     "execution_count": 30,
     "metadata": {},
     "output_type": "execute_result"
    }
   ],
   "source": [
    "# covariance matrix\n",
    "[vec(result.Σ) vec(Σ)]"
   ]
  },
  {
   "cell_type": "code",
   "execution_count": 31,
   "metadata": {
    "collapsed": false
   },
   "outputs": [
    {
     "data": {
      "text/plain": [
       "7-element Array{Int64,1}:\n",
       " 2529\n",
       " 2872\n",
       " 4248\n",
       " 8921\n",
       " 4710\n",
       " 6991\n",
       " 8964"
      ]
     },
     "execution_count": 31,
     "metadata": {},
     "output_type": "execute_result"
    }
   ],
   "source": [
    "# number of causal SNPs recovered\n",
    "correct_position = findall(!iszero, B)\n",
    "correct_snps = [x[1] for x in correct_position]             # truely causal snps\n",
    "signif_snps = findall(!iszero, β1) ∪ findall(!iszero, β2)   # IHT's selected snps\n",
    "signif_snps ∩ correct_snps"
   ]
  },
  {
   "cell_type": "code",
   "execution_count": 25,
   "metadata": {
    "collapsed": false
   },
   "outputs": [
    {
     "name": "stderr",
     "output_type": "stream",
     "text": [
      "\u001b[32mCross validating...100%|████████████████████████████████| Time: 0:02:08\u001b[39m\n"
     ]
    },
    {
     "name": "stdout",
     "output_type": "stream",
     "text": [
      "\n",
      "\n",
      "Crossvalidation Results:\n",
      "\tk\tMSE\n",
      "\t1\t3998.273828055534\n",
      "\t2\t9578.120753914623\n",
      "\t3\t3016.1704306898628\n",
      "\t4\t3093.1156906190977\n",
      "\t5\t1647.3951330746731\n",
      "\t6\t1493.6148958073015\n",
      "\t7\t1478.4155902821421\n",
      "\t8\t1440.2002531421394\n",
      "\t9\t1445.9719136655942\n",
      "\t10\t1444.1614121170446\n",
      "\t11\t1442.354562056365\n",
      "\t12\t1440.6469910540297\n",
      "\t13\t1396.036495492588\n",
      "\t14\t1387.9503968396707\n",
      "\t15\t1376.6781831779936\n",
      "\t16\t1376.3548266854364\n",
      "\t17\t1364.316584848776\n",
      "\t18\t1364.4357316403978\n",
      "\t19\t1364.6056874298563\n",
      "\t20\t1365.1390118890417\n",
      "\n",
      "Best k = 17\n",
      "\n",
      "128.249256 seconds (76.04 k allocations: 10.089 MiB)\n"
     ]
    }
   ],
   "source": [
    "# 4 cores\n",
    "Random.seed!(2020)\n",
    "@time mses = cv_iht(Yt, Transpose(xla), Zt, path=1:20, parallel=true);"
   ]
  },
  {
   "cell_type": "markdown",
   "metadata": {},
   "source": [
    "## GEMMA multivariate results"
   ]
  },
  {
   "cell_type": "code",
   "execution_count": 12,
   "metadata": {
    "collapsed": false
   },
   "outputs": [
    {
     "data": {
      "text/plain": [
       "Int64[]"
      ]
     },
     "execution_count": 12,
     "metadata": {},
     "output_type": "execute_result"
    }
   ],
   "source": [
    "gemma_df = CSV.read(\"gemma.polygenic.result.assoc.txt\", DataFrame)\n",
    "\n",
    "# pvalues\n",
    "pval_wald = gemma_df[!, :p_wald]\n",
    "pval_lrt = gemma_df[!, :p_lrt]\n",
    "pval_score = gemma_df[!, :p_score]\n",
    "\n",
    "# estimated beta\n",
    "estim_β1 = gemma_df[!, :beta_1]\n",
    "estim_β2 = gemma_df[!, :beta_2]\n",
    "\n",
    "# estimated covariance matrix\n",
    "estim_σ11 = gemma_df[!, :Vbeta_1_1]\n",
    "estim_σ12 = gemma_df[!, :Vbeta_1_2]\n",
    "estim_σ22 = gemma_df[!, :Vbeta_2_2];\n",
    "\n",
    "# check how many real SNPs were recovered\n",
    "correct_snps = [x[1] for x in correct_position]  # truely causal snps\n",
    "signif_snps = findall(x -> x ≤ 0.05/p, pval_lrt) # gemma's selected snps\n",
    "signif_snps ∩ correct_snps"
   ]
  },
  {
   "cell_type": "markdown",
   "metadata": {},
   "source": [
    "## MV-PLINK"
   ]
  },
  {
   "cell_type": "code",
   "execution_count": 35,
   "metadata": {
    "collapsed": false
   },
   "outputs": [
    {
     "name": "stdout",
     "output_type": "stream",
     "text": [
      "length(signif_snps) = 5\n"
     ]
    },
    {
     "data": {
      "text/plain": [
       "5-element Array{Int64,1}:\n",
       " 2529\n",
       " 2872\n",
       " 4248\n",
       " 6991\n",
       " 8921"
      ]
     },
     "execution_count": 35,
     "metadata": {},
     "output_type": "execute_result"
    }
   ],
   "source": [
    "mvplink_df = CSV.read(\"plink.mqfam.polygenic.total\", DataFrame, delim=' ', ignorerepeated=true)\n",
    "\n",
    "# pvalues\n",
    "pval = mvplink_df[!, :P]\n",
    "\n",
    "# SNPs passing threshold\n",
    "signif_snps = findall(x -> x ≤ 0.05 / p, pval)\n",
    "@show length(signif_snps)\n",
    "signif_snps ∩ correct_snps"
   ]
  },
  {
   "cell_type": "markdown",
   "metadata": {
    "collapsed": true
   },
   "source": [
    "# Conclusion\n",
    "+ Multivariate IHT's beta estimates are precise, under both truly sparse or polygenic model.\n",
    "+ In a separate simulation with 5k samples and 300k SNPs, cross validation takes roughly 1.5h on 8 cores. "
   ]
  },
  {
   "cell_type": "code",
   "execution_count": null,
   "metadata": {
    "collapsed": true
   },
   "outputs": [],
   "source": []
  }
 ],
 "metadata": {
  "@webio": {
   "lastCommId": null,
   "lastKernelId": null
  },
  "kernelspec": {
   "display_name": "Julia 1.5.0",
   "language": "julia",
   "name": "julia-1.5"
  },
  "language_info": {
   "file_extension": ".jl",
   "mimetype": "application/julia",
   "name": "julia",
   "version": "1.5.0"
  }
 },
 "nbformat": 4,
 "nbformat_minor": 2
}
