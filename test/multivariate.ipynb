{
 "cells": [
  {
   "cell_type": "code",
   "execution_count": 1,
   "metadata": {
    "collapsed": false
   },
   "outputs": [
    {
     "name": "stderr",
     "output_type": "stream",
     "text": [
      "┌ Info: Precompiling MendelIHT [921c7187-1484-5754-b919-5d3ed9ac03c4]\n",
      "└ @ Base loading.jl:1278\n"
     ]
    }
   ],
   "source": [
    "using Distributed\n",
    "# addprocs(4)\n",
    "\n",
    "@everywhere begin\n",
    "    using Revise\n",
    "    using MendelIHT\n",
    "    using SnpArrays\n",
    "    using Random\n",
    "    using GLM\n",
    "    using DelimitedFiles\n",
    "    using Test\n",
    "    using Distributions\n",
    "    using LinearAlgebra\n",
    "end"
   ]
  },
  {
   "cell_type": "markdown",
   "metadata": {},
   "source": [
    "# First simulate multivariate Gaussian traits"
   ]
  },
  {
   "cell_type": "code",
   "execution_count": 44,
   "metadata": {
    "collapsed": false
   },
   "outputs": [],
   "source": [
    "n = 1000  # number of samples\n",
    "p = 10000 # number of SNPs\n",
    "k = 10    # number of causal SNPs per trait\n",
    "r = 2     # number of traits\n",
    "\n",
    "# set random seed for reproducibility\n",
    "Random.seed!(2021)\n",
    "\n",
    "# simulate `.bed` file with no missing data\n",
    "x = simulate_random_snparray(undef, n, p)\n",
    "xla = SnpLinAlg{Float64}(x, model=ADDITIVE_MODEL, center=true, scale=true) \n",
    "\n",
    "# intercept is the only nongenetic covariate\n",
    "z = ones(n) \n",
    "\n",
    "# simulate response y, true model b, and the correct non-0 positions of b\n",
    "Y, true_Σ, true_b, correct_position = simulate_random_response(xla, k, r);"
   ]
  },
  {
   "cell_type": "markdown",
   "metadata": {},
   "source": [
    "# Run IHT with simple gradient update"
   ]
  },
  {
   "cell_type": "code",
   "execution_count": 45,
   "metadata": {
    "collapsed": false,
    "scrolled": false
   },
   "outputs": [
    {
     "name": "stdout",
     "output_type": "stream",
     "text": [
      "****                   MendelIHT Version 1.4.0                  ****\n",
      "****     Benjamin Chu, Kevin Keys, Chris German, Hua Zhou       ****\n",
      "****   Jin Zhou, Eric Sobel, Janet Sinsheimer, Kenneth Lange    ****\n",
      "****                                                            ****\n",
      "****                 Please cite our paper!                     ****\n",
      "****         https://doi.org/10.1093/gigascience/giaa044        ****\n",
      "\n",
      "Running sparse unknown regression\n",
      "Link functin = IdentityLink()\n",
      "Sparsity parameter (k) = 10\n",
      "Prior weight scaling = off\n",
      "Doubly sparse projection = off\n",
      "Debias = off\n",
      "\n",
      "Converging when tol < 0.0001:\n",
      "Iteration 1: loglikelihood = -190.25516921334543, tol = 0.7758118456211052\n",
      "Iteration 2: loglikelihood = 1819.187992792398, tol = 0.1428898155012873\n",
      "Iteration 3: loglikelihood = 2410.0073888161824, tol = 0.04651754346934129\n",
      "Iteration 4: loglikelihood = 2567.74886336667, tol = 0.011846769005166678\n",
      "Iteration 5: loglikelihood = 2601.091085582637, tol = 0.018901526422886575\n",
      "Iteration 6: loglikelihood = 2617.77294846449, tol = 0.015180174847499969\n",
      "Iteration 7: loglikelihood = 2628.0472900131917, tol = 0.0039092617734653185\n",
      "Iteration 8: loglikelihood = 2630.041488765499, tol = 0.002156391374444423\n",
      "Iteration 9: loglikelihood = 2630.4691631833884, tol = 0.019969945251072173\n",
      "Iteration 10: loglikelihood = 2635.1278989016273, tol = 0.0037156297857265114\n",
      "Iteration 11: loglikelihood = 2635.8398229443137, tol = 0.001803487954039531\n",
      "Iteration 12: loglikelihood = 2635.972335828584, tol = 0.0005544592027449791\n",
      "Iteration 13: loglikelihood = 2635.9877682179767, tol = 0.00015848180605779194\n",
      "Iteration 14: loglikelihood = 2635.989391876837, tol = 5.257030680246727e-5\n",
      "  1.267283 seconds (3.01 k allocations: 3.586 MiB)\n"
     ]
    },
    {
     "data": {
      "text/plain": [
       "\n",
       "Compute time (sec):     1.2672970294952393\n",
       "Final loglikelihood:    2635.989391876837\n",
       "Iterations:             14\n",
       "\n",
       "Trait 1: IHT estimated 10 nonzero SNP predictors\n",
       "\u001b[1m10×2 DataFrame\u001b[0m\n",
       "\u001b[1m Row \u001b[0m│\u001b[1m Position \u001b[0m\u001b[1m Estimated_β \u001b[0m\n",
       "\u001b[1m     \u001b[0m│\u001b[90m Int64    \u001b[0m\u001b[90m Float64     \u001b[0m\n",
       "─────┼───────────────────────\n",
       "   1 │      782   -0.387253\n",
       "   2 │      901    0.776228\n",
       "   3 │     1204    0.73234\n",
       "   4 │     1306   -1.45682\n",
       "   5 │     1427    0.0570532\n",
       "   6 │     1655   -0.186513\n",
       "   7 │     3160   -0.845163\n",
       "   8 │     4201    0.309019\n",
       "   9 │     6047    0.152959\n",
       "  10 │     6879   -1.23302\n",
       "\n",
       "Trait 1: IHT estimated 0 non-genetic predictors\n",
       "\u001b[1m0×2 DataFrame\u001b[0m\n",
       "\n",
       "Trait 2: IHT estimated 10 nonzero SNP predictors\n",
       "\u001b[1m10×2 DataFrame\u001b[0m\n",
       "\u001b[1m Row \u001b[0m│\u001b[1m Position \u001b[0m\u001b[1m Estimated_β \u001b[0m\n",
       "\u001b[1m     \u001b[0m│\u001b[90m Int64    \u001b[0m\u001b[90m Float64     \u001b[0m\n",
       "─────┼───────────────────────\n",
       "   1 │       46    1.73289\n",
       "   2 │     4797   -1.20165\n",
       "   3 │     5616   -0.962282\n",
       "   4 │     6072    0.536906\n",
       "   5 │     6573   -0.591373\n",
       "   6 │     7236    0.509888\n",
       "   7 │     7407   -0.0718126\n",
       "   8 │     7667    0.340733\n",
       "   9 │     9091    0.0743671\n",
       "  10 │     9763    1.27964\n",
       "\n",
       "Trait 2: IHT estimated 0 non-genetic predictors\n",
       "\u001b[1m0×2 DataFrame\u001b[0m\n"
      ]
     },
     "execution_count": 45,
     "metadata": {},
     "output_type": "execute_result"
    }
   ],
   "source": [
    "Yt = Matrix(Y')\n",
    "Zt = Matrix(z')\n",
    "@time result = fit_iht(Yt, Transpose(xla), Zt, k=10)"
   ]
  },
  {
   "cell_type": "markdown",
   "metadata": {},
   "source": [
    "# Run IHT with full gradient update"
   ]
  },
  {
   "cell_type": "code",
   "execution_count": 50,
   "metadata": {
    "collapsed": false
   },
   "outputs": [
    {
     "name": "stdout",
     "output_type": "stream",
     "text": [
      "****                   MendelIHT Version 1.4.0                  ****\n",
      "****     Benjamin Chu, Kevin Keys, Chris German, Hua Zhou       ****\n",
      "****   Jin Zhou, Eric Sobel, Janet Sinsheimer, Kenneth Lange    ****\n",
      "****                                                            ****\n",
      "****                 Please cite our paper!                     ****\n",
      "****         https://doi.org/10.1093/gigascience/giaa044        ****\n",
      "\n",
      "Running sparse unknown regression\n",
      "Link functin = IdentityLink()\n",
      "Sparsity parameter (k) = 10\n",
      "Prior weight scaling = off\n",
      "Doubly sparse projection = off\n",
      "Debias = off\n",
      "\n",
      "Converging when tol < 0.0001:\n",
      "Iteration 1: loglikelihood = -4420.403505790376, tol = 2.638513447959862\n",
      "Iteration 2: loglikelihood = 239392.86137437806, tol = 0.0005851110305468627\n",
      "Iteration 3: loglikelihood = -3817.569290022864, tol = 0.02988731090715338\n",
      "Iteration 4: loglikelihood = 228342.81853990507, tol = 0.000567720253646437\n",
      "Iteration 5: loglikelihood = -3904.964851671017, tol = 0.025608884170448258\n",
      "Iteration 6: loglikelihood = 216846.46510247595, tol = 0.0005542903030350079\n",
      "Iteration 7: loglikelihood = -3974.4123060679276, tol = 0.022776110181538595\n",
      "Iteration 8: loglikelihood = 205470.10835005675, tol = 0.000541848443014184\n",
      "Iteration 9: loglikelihood = -4032.079358533209, tol = 0.020714995383500225\n",
      "Iteration 10: loglikelihood = 194452.569099927, tol = 0.0005301141243750906\n",
      "Iteration 11: loglikelihood = -4081.2664055784444, tol = 0.019363403166493917\n",
      "Iteration 12: loglikelihood = 183900.48053386313, tol = 0.0005189188449732707\n",
      "Iteration 13: loglikelihood = -4123.986704917095, tol = 0.018320288930129623\n",
      "Iteration 14: loglikelihood = 173858.71450999763, tol = 0.0005081528253752243\n",
      "Iteration 15: loglikelihood = -4161.576728722939, tol = 0.01744778966652842\n",
      "Iteration 16: loglikelihood = 164340.6006979065, tol = 0.0004977404029379049\n",
      "Iteration 17: loglikelihood = -4194.978205327913, tol = 0.01669987925439425\n",
      "Iteration 18: loglikelihood = 155342.46970302277, tol = 0.00048762723840131944\n",
      "Iteration 19: loglikelihood = -4224.8849056728395, tol = 0.01604606364281432\n",
      "Iteration 20: loglikelihood = 146851.2459890853, tol = 0.00047777306870433684\n",
      "Iteration 21: loglikelihood = 4303.347032333538, tol = 0.015465262802006247\n",
      "Iteration 22: loglikelihood = 77005.69225566235, tol = 0.017613271816798868\n",
      "Iteration 23: loglikelihood = 122968.30670292169, tol = 0.20563383975011457\n",
      "Iteration 24: loglikelihood = 40199.58321747424, tol = 0.014353202198709189\n",
      "Iteration 25: loglikelihood = -4430.337538649958, tol = 0.017221295200592446\n",
      "Iteration 26: loglikelihood = 75716.5420580245, tol = 0.0004274540371318477\n",
      "Iteration 27: loglikelihood = 43782.972439948935, tol = 0.013208067958023735\n",
      "Iteration 28: loglikelihood = 6009.024200619893, tol = 0.012854438351044658\n",
      "Iteration 29: loglikelihood = 51353.85634058632, tol = 0.04014302063674969\n",
      "Iteration 30: loglikelihood = 27132.479032343865, tol = 0.012726497931960429\n",
      "Iteration 31: loglikelihood = -4476.03650723531, tol = 0.01506667141936139\n",
      "Iteration 32: loglikelihood = 58568.505623331366, tol = 0.0003921953389707416\n",
      "Iteration 33: loglikelihood = 40870.37211441448, tol = 0.011917067014089998\n",
      "Iteration 34: loglikelihood = 14202.432847336693, tol = 0.011390134662880642\n",
      "Iteration 35: loglikelihood = 2847.046712092739, tol = 0.009981748165388774\n",
      "Iteration 36: loglikelihood = 39822.388369002736, tol = 0.028613961320763007\n",
      "Iteration 37: loglikelihood = 26413.49578414116, tol = 0.011104778456456285\n",
      "Iteration 38: loglikelihood = 7120.783922279239, tol = 0.01184563214756708\n",
      "Iteration 39: loglikelihood = 59.220247028950325, tol = 0.023736651908377232\n",
      "Iteration 40: loglikelihood = 30691.23188588674, tol = 0.015201347484919626\n",
      "Iteration 41: loglikelihood = 22784.268060165956, tol = 0.00987502407364049\n",
      "Iteration 42: loglikelihood = 12662.49936255028, tol = 0.010137617110868939\n",
      "Iteration 43: loglikelihood = -989.6539134512827, tol = 0.011609818313454114\n",
      "Iteration 44: loglikelihood = 26314.690059893208, tol = 0.009436400975896686\n",
      "Iteration 45: loglikelihood = 20610.67692193558, tol = 0.008020169234523955\n",
      "Iteration 46: loglikelihood = 13773.971294621975, tol = 0.008134265481523836\n",
      "Iteration 47: loglikelihood = 4059.5578771348337, tol = 0.008900534566556841\n",
      "Iteration 48: loglikelihood = -1524.6354951134917, tol = 0.02003567371862102\n",
      "Iteration 49: loglikelihood = 21682.86699093088, tol = 0.006913838348047899\n",
      "Iteration 50: loglikelihood = 18126.136515264618, tol = 0.006801689242918841\n",
      "Iteration 51: loglikelihood = 13792.70726507526, tol = 0.006958965442084744\n",
      "Iteration 52: loglikelihood = 8326.469087365376, tol = 0.00742564635511658\n",
      "Iteration 53: loglikelihood = -1452.9547644617235, tol = 0.00936236716147434\n",
      "Iteration 54: loglikelihood = 19648.183868085238, tol = 0.0078015682433568\n",
      "Iteration 55: loglikelihood = 16674.130503656008, tol = 0.00555143799117494\n",
      "Iteration 56: loglikelihood = 13264.4019156146, tol = 0.005697744530590829\n",
      "Iteration 57: loglikelihood = 9003.277164327837, tol = 0.006095055382028042\n",
      "Iteration 58: loglikelihood = 1762.8919560743725, tol = 0.007457626746937137\n",
      "Iteration 59: loglikelihood = -1197.7743954768189, tol = 0.0072073064774357655\n",
      "Iteration 60: loglikelihood = 17801.759705099863, tol = 0.00912523685227422\n",
      "Iteration 61: loglikelihood = 15345.87887598693, tol = 0.005435152548731873\n",
      "Iteration 62: loglikelihood = 12619.402206966946, tol = 0.005588186696493842\n",
      "Iteration 63: loglikelihood = 9442.362988983115, tol = 0.005902673874230323\n",
      "Iteration 64: loglikelihood = 5305.758769790807, tol = 0.0065686660254316185\n",
      "Iteration 65: loglikelihood = -910.0869402627698, tol = 0.007730260626688539\n",
      "Iteration 66: loglikelihood = 17164.459404096375, tol = 0.012201824767866127\n",
      "Iteration 67: loglikelihood = 14578.639475675807, tol = 0.0035816127113194288\n",
      "Iteration 68: loglikelihood = 11792.460221965719, tol = 0.0038588408360360664\n",
      "Iteration 69: loglikelihood = 8031.880751193063, tol = 0.004472748944912502\n",
      "Iteration 70: loglikelihood = 200.01131171924908, tol = 0.006341268188264342\n",
      "Iteration 71: loglikelihood = 68389.9047925057, tol = 0.6792799345739656\n",
      "Iteration 72: loglikelihood = 80335.75653972966, tol = 0.2388322776227767\n",
      "Iteration 73: loglikelihood = 61218.56425990619, tol = 0.0025758027978013383\n",
      "Iteration 74: loglikelihood = 82581.21992034519, tol = 0.003550801390885401\n",
      "Iteration 75: loglikelihood = 60990.460160309085, tol = 0.0057755489040106096\n",
      "Iteration 76: loglikelihood = 151407.52417382304, tol = 0.2069943400996789\n",
      "Iteration 77: loglikelihood = 62376.57542737852, tol = 0.01211134659701577\n",
      "Iteration 78: loglikelihood = 152201.7428518258, tol = 0.1643975646381011\n",
      "Iteration 79: loglikelihood = 56302.752307804265, tol = 0.011779513166610018\n",
      "Iteration 80: loglikelihood = 152717.87025021098, tol = 0.15228874044380547\n",
      "Iteration 81: loglikelihood = 50915.04130146676, tol = 0.01916053148638317\n",
      "Iteration 82: loglikelihood = 150566.92604786655, tol = 0.16240084365740065\n",
      "Iteration 83: loglikelihood = 49382.51957205064, tol = 0.01744938679760559\n",
      "Iteration 84: loglikelihood = 148265.33326372, tol = 0.14936799820250335\n",
      "Iteration 85: loglikelihood = 46208.37515940181, tol = 0.023158107210475776\n",
      "Iteration 86: loglikelihood = 145375.9386598591, tol = 0.15467541267267057\n",
      "Iteration 87: loglikelihood = 43703.024513977216, tol = 0.021608501773034222\n",
      "Iteration 88: loglikelihood = 142512.61508758817, tol = 0.14133902644494292\n",
      "Iteration 89: loglikelihood = 41386.72340325686, tol = 0.0251038172720132\n",
      "Iteration 90: loglikelihood = 140340.69471568623, tol = 0.14163875020118827\n",
      "Iteration 91: loglikelihood = 38575.36348025872, tol = 0.02435542948879889\n",
      "Iteration 92: loglikelihood = 137430.53904455106, tol = 0.13072421320438982\n",
      "Iteration 93: loglikelihood = 36032.20025784781, tol = 0.02744753520616615\n",
      "Iteration 94: loglikelihood = 134801.14513426123, tol = 0.11998673721963239\n",
      "Iteration 95: loglikelihood = 33284.36585244786, tol = 0.02641222088333666\n",
      "Iteration 96: loglikelihood = 131907.19800496884, tol = 0.11365214338514286\n",
      "Iteration 97: loglikelihood = 31098.69580933265, tol = 0.027751460508980298\n",
      "Iteration 98: loglikelihood = 129400.84543688435, tol = 0.10585935383567545\n",
      "Iteration 99: loglikelihood = 28268.987744870272, tol = 0.027311094190447457\n",
      "Iteration 100: loglikelihood = 126345.37757038936, tol = 0.02870214502147256\n",
      " 10.901242 seconds (664.37 k allocations: 891.495 MiB, 0.84% gc time)\n"
     ]
    },
    {
     "data": {
      "text/plain": [
       "\n",
       "Compute time (sec):     0.0\n",
       "Final loglikelihood:    126345.37757038936\n",
       "Iterations:             0\n",
       "\n",
       "Trait 1: IHT estimated 10 nonzero SNP predictors\n",
       "\u001b[1m10×2 DataFrame\u001b[0m\n",
       "\u001b[1m Row \u001b[0m│\u001b[1m Position \u001b[0m\u001b[1m Estimated_β \u001b[0m\n",
       "\u001b[1m     \u001b[0m│\u001b[90m Int64    \u001b[0m\u001b[90m Float64     \u001b[0m\n",
       "─────┼───────────────────────\n",
       "   1 │       46     1.28586\n",
       "   2 │      782    -0.424498\n",
       "   3 │     4201     0.213767\n",
       "   4 │     4797    -0.943009\n",
       "   5 │     5616    -0.737708\n",
       "   6 │     6072     0.339024\n",
       "   7 │     6573    -0.370181\n",
       "   8 │     7236     0.320281\n",
       "   9 │     7667    -0.521109\n",
       "  10 │     9763     0.228787\n",
       "\n",
       "Trait 1: IHT estimated 0 non-genetic predictors\n",
       "\u001b[1m0×2 DataFrame\u001b[0m\n",
       "\n",
       "Trait 2: IHT estimated 10 nonzero SNP predictors\n",
       "\u001b[1m10×2 DataFrame\u001b[0m\n",
       "\u001b[1m Row \u001b[0m│\u001b[1m Position \u001b[0m\u001b[1m Estimated_β \u001b[0m\n",
       "\u001b[1m     \u001b[0m│\u001b[90m Int64    \u001b[0m\u001b[90m Float64     \u001b[0m\n",
       "─────┼───────────────────────\n",
       "   1 │      379    -0.366708\n",
       "   2 │      901     0.988432\n",
       "   3 │     1204     0.978747\n",
       "   4 │     1306    -1.8884\n",
       "   5 │     3160    -1.08851\n",
       "   6 │     4201     0.153292\n",
       "   7 │     4705     0.230602\n",
       "   8 │     6879    -1.56848\n",
       "   9 │     7667     1.07699\n",
       "  10 │     9763     0.919704\n",
       "\n",
       "Trait 2: IHT estimated 0 non-genetic predictors\n",
       "\u001b[1m0×2 DataFrame\u001b[0m\n"
      ]
     },
     "execution_count": 50,
     "metadata": {},
     "output_type": "execute_result"
    }
   ],
   "source": [
    "Yt = Matrix(Y')\n",
    "Zt = Matrix(z')\n",
    "@time result = fit_iht(Yt, Transpose(xla), Zt, k=10, fullIHT=true)"
   ]
  },
  {
   "cell_type": "markdown",
   "metadata": {},
   "source": [
    "## Check answer"
   ]
  },
  {
   "cell_type": "code",
   "execution_count": 51,
   "metadata": {
    "collapsed": false
   },
   "outputs": [
    {
     "data": {
      "text/plain": [
       "10×2 Array{Float64,2}:\n",
       " -0.424498  -0.402269\n",
       "  0.0        0.758756\n",
       "  0.0        0.729135\n",
       "  0.0       -1.47163\n",
       "  0.0       -0.172668\n",
       "  0.0       -0.847906\n",
       "  0.213767   0.296183\n",
       "  0.0       -0.0034339\n",
       "  0.0        0.125965\n",
       "  0.0       -1.24972"
      ]
     },
     "execution_count": 51,
     "metadata": {},
     "output_type": "execute_result"
    }
   ],
   "source": [
    "# first beta\n",
    "β1 = result.beta[1, :]\n",
    "true_b1_idx = findall(!iszero, true_b[:, 1])\n",
    "[β1[true_b1_idx] true_b[true_b1_idx, 1]]"
   ]
  },
  {
   "cell_type": "code",
   "execution_count": 52,
   "metadata": {
    "collapsed": false
   },
   "outputs": [
    {
     "data": {
      "text/plain": [
       "10×2 Array{Float64,2}:\n",
       " 0.0        1.73729\n",
       " 0.0       -1.19911\n",
       " 0.0        0.0121193\n",
       " 0.0       -0.969569\n",
       " 0.0        0.540525\n",
       " 0.0       -0.609556\n",
       " 0.0        0.481189\n",
       " 0.0       -0.0524866\n",
       " 1.07699    0.31182\n",
       " 0.919704   1.29813"
      ]
     },
     "execution_count": 52,
     "metadata": {},
     "output_type": "execute_result"
    }
   ],
   "source": [
    "# second beta\n",
    "β2 = result.beta[2, :]\n",
    "true_b2_idx = findall(!iszero, true_b[:, 2])\n",
    "[β2[true_b2_idx] true_b[true_b2_idx, 2]]"
   ]
  },
  {
   "cell_type": "code",
   "execution_count": 53,
   "metadata": {
    "collapsed": false
   },
   "outputs": [
    {
     "data": {
      "text/plain": [
       "4×2 Array{Float64,2}:\n",
       "  0.148682   1.22512\n",
       " -0.0876248  1.23674\n",
       " -0.0876248  1.23674\n",
       "  0.20376    1.494"
      ]
     },
     "execution_count": 53,
     "metadata": {},
     "output_type": "execute_result"
    }
   ],
   "source": [
    "# covariance matrix\n",
    "[vec(result.Σ) vec(true_Σ)]"
   ]
  },
  {
   "cell_type": "markdown",
   "metadata": {},
   "source": [
    "# Test Cross validation"
   ]
  },
  {
   "cell_type": "code",
   "execution_count": 9,
   "metadata": {
    "collapsed": false
   },
   "outputs": [
    {
     "name": "stdout",
     "output_type": "stream",
     "text": [
      "\n",
      "\n",
      "Crossvalidation Results:\n",
      "\tk\tMSE\n",
      "\t1\t2506.1361026992413\n",
      "\t2\t1707.4609062019433\n",
      "\t3\t1297.253354519584\n",
      "\t4\t985.2280061442002\n",
      "\t5\t819.8080675324194\n",
      "\t6\t739.6359401670024\n",
      "\t7\t641.5504839534303\n",
      "\t8\t612.7042220588955\n",
      "\t9\t608.3277089584982\n",
      "\t10\t610.9984342539259\n",
      "\t11\t614.807751686425\n",
      "\t12\t616.615453582629\n",
      "\t13\t621.4468351156702\n",
      "\t14\t628.0553031281725\n",
      "\t15\t628.5181881547544\n",
      "\t16\t626.4682026915706\n",
      "\t17\t636.4936893268582\n",
      "\t18\t635.9073694771134\n",
      "\t19\t630.7374247665347\n",
      "\t20\t633.3757710953382\n",
      "284.723952 seconds (151.20 k allocations: 823.455 MiB, 0.05% gc time)\n"
     ]
    }
   ],
   "source": [
    "Random.seed!(2020)\n",
    "Yt = Matrix(Y')\n",
    "Zt = Matrix(z')\n",
    "@time cv_iht(Yt, x, Zt);"
   ]
  },
  {
   "cell_type": "markdown",
   "metadata": {
    "collapsed": true
   },
   "source": [
    "# Compare with univariate IHT\n",
    "\n",
    "+ `fit_iht`: ~20 times slower\n",
    "+ `cv_iht`: ~70 times slower"
   ]
  },
  {
   "cell_type": "code",
   "execution_count": 40,
   "metadata": {
    "collapsed": false
   },
   "outputs": [],
   "source": [
    "n = 1000  # number of samples\n",
    "p = 10000 # number of SNPs\n",
    "k = 10    # number of causal SNPs per trait\n",
    "d = Normal\n",
    "l = IdentityLink()\n",
    "\n",
    "# set random seed for reproducibility\n",
    "Random.seed!(2021)\n",
    "\n",
    "# simulate `.bed` file with no missing data\n",
    "x = simulate_random_snparray(undef, n, p)\n",
    "xla = SnpLinAlg{Float64}(x, model=ADDITIVE_MODEL, center=true, scale=true) \n",
    "\n",
    "# intercept is the only nongenetic covariate\n",
    "z = ones(n) \n",
    "\n",
    "# simulate response y, true model b, and the correct non-0 positions of b\n",
    "Y, true_b, correct_position = simulate_random_response(xla, k, d, l);"
   ]
  },
  {
   "cell_type": "code",
   "execution_count": 42,
   "metadata": {
    "collapsed": false
   },
   "outputs": [
    {
     "name": "stdout",
     "output_type": "stream",
     "text": [
      "****                   MendelIHT Version 1.4.0                  ****\n",
      "****     Benjamin Chu, Kevin Keys, Chris German, Hua Zhou       ****\n",
      "****   Jin Zhou, Eric Sobel, Janet Sinsheimer, Kenneth Lange    ****\n",
      "****                                                            ****\n",
      "****                 Please cite our paper!                     ****\n",
      "****         https://doi.org/10.1093/gigascience/giaa044        ****\n",
      "\n",
      "Running sparse linear regression\n",
      "Link functin = IdentityLink()\n",
      "Sparsity parameter (k) = 10\n",
      "Prior weight scaling = off\n",
      "Doubly sparse projection = off\n",
      "Debias = off\n",
      "\n",
      "Converging when tol < 0.0001:\n",
      "Iteration 1: loglikelihood = -1568.8072402506227, tol = 1.2369352935298255\n",
      "Iteration 2: loglikelihood = -1485.2388920745977, tol = 0.1246509194436555\n",
      "Iteration 3: loglikelihood = -1473.4688017685708, tol = 0.060408468355759436\n",
      "Iteration 4: loglikelihood = -1472.7990029487871, tol = 0.0051541599786159185\n",
      "Iteration 5: loglikelihood = -1472.6215787426543, tol = 0.0027074009598392432\n",
      "Iteration 6: loglikelihood = -1472.5750923058279, tol = 0.0014024357703938922\n",
      "Iteration 7: loglikelihood = -1472.56305274433, tol = 0.0007192610681400216\n",
      "Iteration 8: loglikelihood = -1472.5599794599239, tol = 0.0003666779218011309\n",
      "Iteration 9: loglikelihood = -1472.559217403865, tol = 0.0001862796778162656\n",
      "Iteration 10: loglikelihood = -1472.5590426182382, tol = 9.441607391002328e-5\n",
      "  0.065688 seconds (157.23 k allocations: 4.509 MiB)\n"
     ]
    },
    {
     "data": {
      "text/plain": [
       "\n",
       "IHT estimated 10 nonzero SNP predictors and 0 non-genetic predictors.\n",
       "\n",
       "Compute time (sec):     0.06568217277526855\n",
       "Final loglikelihood:    -1472.5590426182382\n",
       "Iterations:             10\n",
       "\n",
       "Selected genetic predictors:\n",
       "\u001b[1m10×2 DataFrame\u001b[0m\n",
       "\u001b[1m Row \u001b[0m│\u001b[1m Position \u001b[0m\u001b[1m Estimated_β \u001b[0m\n",
       "\u001b[1m     \u001b[0m│\u001b[90m Int64    \u001b[0m\u001b[90m Float64     \u001b[0m\n",
       "─────┼───────────────────────\n",
       "   1 │      782    -0.438598\n",
       "   2 │      901     0.747536\n",
       "   3 │     1204     0.691351\n",
       "   4 │     1306    -1.42482\n",
       "   5 │     1655    -0.194714\n",
       "   6 │     3160    -0.86084\n",
       "   7 │     3936    -0.147349\n",
       "   8 │     4201     0.338177\n",
       "   9 │     4402    -0.126286\n",
       "  10 │     6879    -1.21081\n",
       "\n",
       "Selected nongenetic predictors:\n",
       "\u001b[1m0×2 DataFrame\u001b[0m"
      ]
     },
     "execution_count": 42,
     "metadata": {},
     "output_type": "execute_result"
    }
   ],
   "source": [
    "@time result = fit_iht(Y, xla, z, k=10)"
   ]
  },
  {
   "cell_type": "code",
   "execution_count": 43,
   "metadata": {
    "collapsed": false
   },
   "outputs": [
    {
     "data": {
      "text/plain": [
       "10×2 Array{Float64,2}:\n",
       " -0.438598  -0.402269\n",
       "  0.747536   0.758756\n",
       "  0.691351   0.729135\n",
       " -1.42482   -1.47163\n",
       " -0.194714  -0.172668\n",
       " -0.86084   -0.847906\n",
       "  0.338177   0.296183\n",
       "  0.0       -0.0034339\n",
       "  0.0        0.125965\n",
       " -1.21081   -1.24972"
      ]
     },
     "execution_count": 43,
     "metadata": {},
     "output_type": "execute_result"
    }
   ],
   "source": [
    "# compare beta values\n",
    "[result.beta[correct_position] true_b[correct_position]]"
   ]
  },
  {
   "cell_type": "markdown",
   "metadata": {},
   "source": [
    "### Cross validation timing"
   ]
  },
  {
   "cell_type": "code",
   "execution_count": 8,
   "metadata": {
    "collapsed": false
   },
   "outputs": [
    {
     "name": "stdout",
     "output_type": "stream",
     "text": [
      "\n",
      "\n",
      "Crossvalidation Results:\n",
      "\tk\tMSE\n",
      "\t1\t1431.385325867502\n",
      "\t2\t1431.569108502913\n",
      "\t3\t1429.2348660984221\n",
      "\t4\t1429.5730864011514\n",
      "\t5\t1429.4077307081652\n",
      "\t6\t1429.2323485244572\n",
      "\t7\t1429.5277693297523\n",
      "\t8\t1429.4669590879946\n",
      "\t9\t1429.4376255311238\n",
      "\t10\t1429.526751070809\n",
      "\t11\t1429.5205225689476\n",
      "\t12\t1429.6007792570374\n",
      "\t13\t1430.324407382292\n",
      "\t14\t1430.2241106412075\n",
      "\t15\t1430.2935769756937\n",
      "\t16\t1430.0160991249024\n",
      "\t17\t1430.2798769215433\n",
      "\t18\t1430.7721172663867\n",
      "\t19\t1430.8725535864496\n",
      "\t20\t1429.7969640813615\n",
      "  4.344964 seconds (10.10 M allocations: 343.536 MiB, 0.70% gc time)\n"
     ]
    }
   ],
   "source": [
    "# 1 cores\n",
    "Random.seed!(2020)\n",
    "@time cv_iht(Y, x, z);"
   ]
  },
  {
   "cell_type": "code",
   "execution_count": 7,
   "metadata": {
    "collapsed": false
   },
   "outputs": [
    {
     "name": "stdout",
     "output_type": "stream",
     "text": [
      "\n",
      "\n",
      "Crossvalidation Results:\n",
      "\tk\tMSE\n",
      "\t1\t1431.385325867502\n",
      "\t2\t1431.569108502913\n",
      "\t3\t1429.2348660984221\n",
      "\t4\t1429.5730864011514\n",
      "\t5\t1429.4077307081652\n",
      "\t6\t1429.2323485244572\n",
      "\t7\t1429.5277693297523\n",
      "\t8\t1429.4669590879946\n",
      "\t9\t1429.4376255311238\n",
      "\t10\t1429.526751070809\n",
      "\t11\t1429.5205225689476\n",
      "\t12\t1429.6007792570374\n",
      "\t13\t1430.324407382292\n",
      "\t14\t1430.2241106412075\n",
      "\t15\t1430.2935769756937\n",
      "\t16\t1430.0160991249024\n",
      "\t17\t1430.2798769215433\n",
      "\t18\t1430.7721172663867\n",
      "\t19\t1430.8725535864496\n",
      "\t20\t1429.7969640813615\n",
      "  4.223226 seconds (10.10 M allocations: 343.629 MiB, 0.88% gc time)\n"
     ]
    }
   ],
   "source": [
    "# 4 cores\n",
    "Random.seed!(2020)\n",
    "@time cv_iht(Y, x, z);"
   ]
  },
  {
   "cell_type": "code",
   "execution_count": null,
   "metadata": {
    "collapsed": true
   },
   "outputs": [],
   "source": []
  }
 ],
 "metadata": {
  "@webio": {
   "lastCommId": null,
   "lastKernelId": null
  },
  "kernelspec": {
   "display_name": "Julia 1.5.0",
   "language": "julia",
   "name": "julia-1.5"
  },
  "language_info": {
   "file_extension": ".jl",
   "mimetype": "application/julia",
   "name": "julia",
   "version": "1.5.0"
  }
 },
 "nbformat": 4,
 "nbformat_minor": 2
}
