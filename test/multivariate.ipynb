{
 "cells": [
  {
   "cell_type": "code",
   "execution_count": 1,
   "metadata": {
    "collapsed": false
   },
   "outputs": [
    {
     "name": "stderr",
     "output_type": "stream",
     "text": [
      "┌ Info: Precompiling MendelIHT [921c7187-1484-5754-b919-5d3ed9ac03c4]\n",
      "└ @ Base loading.jl:1278\n"
     ]
    }
   ],
   "source": [
    "using Revise\n",
    "using MendelIHT\n",
    "using SnpArrays\n",
    "using Random\n",
    "using GLM\n",
    "using DelimitedFiles\n",
    "using Test\n",
    "using Distributions\n",
    "using LinearAlgebra"
   ]
  },
  {
   "cell_type": "markdown",
   "metadata": {},
   "source": [
    "# First simulate multivariate Gaussian traits"
   ]
  },
  {
   "cell_type": "code",
   "execution_count": 2,
   "metadata": {
    "collapsed": false
   },
   "outputs": [],
   "source": [
    "n = 1000  # number of samples\n",
    "p = 10000 # number of SNPs\n",
    "k = 10    # number of causal SNPs per trait\n",
    "r = 2     # number of traits\n",
    "\n",
    "# set random seed for reproducibility\n",
    "Random.seed!(2021)\n",
    "\n",
    "# simulate `.bed` file with no missing data\n",
    "x = simulate_random_snparray(undef, n, p)\n",
    "xla = SnpLinAlg{Float64}(x, model=ADDITIVE_MODEL, center=true, scale=true) \n",
    "\n",
    "# intercept is the only nongenetic covariate\n",
    "z = ones(n) \n",
    "\n",
    "# simulate response y, true model b, and the correct non-0 positions of b\n",
    "Y, true_Σ, true_b, correct_position = simulate_random_response(xla, k, r);"
   ]
  },
  {
   "cell_type": "code",
   "execution_count": 3,
   "metadata": {
    "collapsed": false
   },
   "outputs": [
    {
     "name": "stdout",
     "output_type": "stream",
     "text": [
      "true_correlation = 0.8220033755384759\n",
      "empirical_correlation = 0.15570403809779032\n"
     ]
    }
   ],
   "source": [
    "σ11, σ12, σ22 = sqrt(true_Σ[1, 1]), sqrt(true_Σ[1, 2]), sqrt(true_Σ[2, 2])\n",
    "true_correlation = σ12 / (σ11 * σ22)\n",
    "empirical_correlation = cor(Y[:, 1], Y[:, 2])\n",
    "\n",
    "@show true_correlation\n",
    "@show empirical_correlation;"
   ]
  },
  {
   "cell_type": "markdown",
   "metadata": {},
   "source": [
    "# Run IHT"
   ]
  },
  {
   "cell_type": "code",
   "execution_count": 19,
   "metadata": {
    "collapsed": false,
    "scrolled": false
   },
   "outputs": [
    {
     "name": "stdout",
     "output_type": "stream",
     "text": [
      "****                   MendelIHT Version 1.4.0                  ****\n",
      "****     Benjamin Chu, Kevin Keys, Chris German, Hua Zhou       ****\n",
      "****   Jin Zhou, Eric Sobel, Janet Sinsheimer, Kenneth Lange    ****\n",
      "****                                                            ****\n",
      "****                 Please cite our paper!                     ****\n",
      "****         https://doi.org/10.1093/gigascience/giaa044        ****\n",
      "\n",
      "Running sparse unknown regression\n",
      "Link functin = IdentityLink()\n",
      "Sparsity parameter (k) = 10\n",
      "Prior weight scaling = off\n",
      "Doubly sparse projection = off\n",
      "Debias = off\n",
      "\n",
      "Converging when tol < 0.0001:\n",
      "Iteration 1: loglikelihood = -190.2551692133452, tol = 0.7952327339797811\n",
      "Iteration 2: loglikelihood = 1808.6821613960485, tol = 0.13517347084708317\n",
      "Iteration 3: loglikelihood = 2437.552500878156, tol = 0.04734845208975212\n",
      "Iteration 4: loglikelihood = 2573.123664580271, tol = 0.01161434727102279\n",
      "Iteration 5: loglikelihood = 2599.285603979478, tol = 0.01785882471646838\n",
      "Iteration 6: loglikelihood = 2613.340722688418, tol = 0.007213125839311282\n",
      "Iteration 7: loglikelihood = 2617.428551247473, tol = 0.004289217952762204\n",
      "Iteration 8: loglikelihood = 2618.6605052626464, tol = 0.002391949736761984\n",
      "Iteration 9: loglikelihood = 2618.9954326699813, tol = 0.001244419929072764\n",
      "Iteration 10: loglikelihood = 2619.0905042751574, tol = 0.0010446881419779435\n",
      "Iteration 11: loglikelihood = 2619.1571322697137, tol = 0.0009802513119237105\n",
      "Iteration 12: loglikelihood = 2619.2109695261875, tol = 0.000842243277572177\n",
      "Iteration 13: loglikelihood = 2619.2554398403654, tol = 0.0008093639296803427\n",
      "Iteration 14: loglikelihood = 2619.292124695558, tol = 0.0006900343953219403\n",
      "Iteration 15: loglikelihood = 2619.322597638009, tol = 0.0006725516186256026\n",
      "Iteration 16: loglikelihood = 2619.3478159386477, tol = 0.0005677137468447952\n",
      "Iteration 17: loglikelihood = 2619.3688111452443, tol = 0.0005605898890032982\n",
      "Iteration 18: loglikelihood = 2619.386219041593, tol = 0.00046823453100590894\n",
      "Iteration 19: loglikelihood = 2619.4007324432264, tol = 0.00046824460966650655\n",
      "Iteration 20: loglikelihood = 2619.412782427624, tol = 0.0003868131910313948\n",
      "Iteration 21: loglikelihood = 2619.4228381164544, tol = 0.0003917042178522826\n",
      "Iteration 22: loglikelihood = 2619.431195438829, tol = 0.00032230221654299985\n",
      "Iteration 23: loglikelihood = 2619.438173736297, tol = 0.0003280517400400437\n",
      "Iteration 24: loglikelihood = 2619.4439778443675, tol = 0.0002704195199727524\n",
      "Iteration 25: loglikelihood = 2619.4488259972236, tol = 0.0002749944331897704\n",
      "Iteration 26: loglikelihood = 2619.452860744149, tol = 0.00022708951036644836\n",
      "Iteration 27: loglikelihood = 2619.456231670156, tol = 0.00023069610191867696\n",
      "Iteration 28: loglikelihood = 2619.459038316836, tol = 0.00019085355047076752\n",
      "Iteration 29: loglikelihood = 2619.46138345484, tol = 0.00019366652298187414\n",
      "Iteration 30: loglikelihood = 2619.4633367366505, tol = 0.00016051924818666536\n",
      "Iteration 31: loglikelihood = 2619.4649689015814, tol = 0.0001626849658116907\n",
      "Iteration 32: loglikelihood = 2619.4663287437866, tol = 0.00013510472704125482\n",
      "Iteration 33: loglikelihood = 2619.4674650285956, tol = 0.00013674499440067116\n",
      "Iteration 34: loglikelihood = 2619.4684119570807, tol = 0.00011379742568143199\n",
      "Iteration 35: loglikelihood = 2619.469203188575, tol = 0.00011501315123985124\n",
      "Iteration 36: loglikelihood = 2619.469862699538, tol = 9.592261003764493e-5\n",
      "  4.024431 seconds (8.63 k allocations: 7.536 MiB)\n"
     ]
    },
    {
     "data": {
      "text/plain": [
       "\n",
       "IHT estimated 20 nonzero SNP predictors and 0 non-genetic predictors.\n",
       "\n",
       "Compute time (sec):     4.024465799331665\n",
       "Final loglikelihood:    2619.469862699538\n",
       "Iterations:             36\n",
       "\n",
       "Selected genetic predictors:\n",
       "\u001b[1m20×2 DataFrame\u001b[0m\n",
       "\u001b[1m Row \u001b[0m│\u001b[1m Position                \u001b[0m\u001b[1m Estimated_β \u001b[0m\n",
       "\u001b[1m     \u001b[0m│\u001b[90m Cartesia…               \u001b[0m\u001b[90m Float64     \u001b[0m\n",
       "─────┼──────────────────────────────────────\n",
       "   1 │ CartesianIndex(2, 46)      1.73639\n",
       "   2 │ CartesianIndex(1, 782)    -0.388623\n",
       "   3 │ CartesianIndex(1, 901)     0.778375\n",
       "   4 │ CartesianIndex(1, 1204)    0.735256\n",
       "   5 │ CartesianIndex(1, 1306)   -1.45943\n",
       "   6 │ CartesianIndex(1, 1655)   -0.182059\n",
       "   7 │ CartesianIndex(1, 3160)   -0.84684\n",
       "   8 │ CartesianIndex(1, 4201)    0.31211\n",
       "   9 │ CartesianIndex(1, 4656)    0.0724518\n",
       "  10 │ CartesianIndex(2, 4656)    0.0632281\n",
       "  11 │ CartesianIndex(2, 4797)   -1.19923\n",
       "  12 │ CartesianIndex(2, 5616)   -0.97377\n",
       "  13 │ CartesianIndex(1, 6047)    0.150628\n",
       "  14 │ CartesianIndex(2, 6072)    0.537718\n",
       "  15 │ CartesianIndex(2, 6573)   -0.592252\n",
       "  16 │ CartesianIndex(1, 6879)   -1.22745\n",
       "  17 │ CartesianIndex(2, 7236)    0.506521\n",
       "  18 │ CartesianIndex(2, 7667)    0.337317\n",
       "  19 │ CartesianIndex(2, 9091)    0.0739655\n",
       "  20 │ CartesianIndex(2, 9763)    1.27771\n",
       "\n",
       "Selected nongenetic predictors:\n",
       "\u001b[1m0×2 DataFrame\u001b[0m"
      ]
     },
     "execution_count": 19,
     "metadata": {},
     "output_type": "execute_result"
    }
   ],
   "source": [
    "Yt = Matrix(Y')\n",
    "Zt = Matrix(z')\n",
    "@time result = fit_iht(Yt, Transpose(xla), Zt, k=10)"
   ]
  },
  {
   "cell_type": "markdown",
   "metadata": {},
   "source": [
    "## Check answer"
   ]
  },
  {
   "cell_type": "code",
   "execution_count": 11,
   "metadata": {
    "collapsed": false
   },
   "outputs": [
    {
     "data": {
      "text/plain": [
       "10×2 Array{Float64,2}:\n",
       " -0.388623  -0.402269\n",
       "  0.778375   0.758756\n",
       "  0.735256   0.729135\n",
       " -1.45943   -1.47163\n",
       " -0.182059  -0.172668\n",
       " -0.84684   -0.847906\n",
       "  0.31211    0.296183\n",
       "  0.0       -0.0034339\n",
       "  0.150628   0.125965\n",
       " -1.22745   -1.24972"
      ]
     },
     "execution_count": 11,
     "metadata": {},
     "output_type": "execute_result"
    }
   ],
   "source": [
    "# first beta\n",
    "β1 = result.beta[1, :]\n",
    "true_b1_idx = findall(!iszero, true_b[:, 1])\n",
    "[β1[true_b1_idx] true_b[true_b1_idx, 1]]"
   ]
  },
  {
   "cell_type": "code",
   "execution_count": 12,
   "metadata": {
    "collapsed": false
   },
   "outputs": [
    {
     "data": {
      "text/plain": [
       "10×2 Array{Float64,2}:\n",
       "  1.73639    1.73729\n",
       " -1.19923   -1.19911\n",
       "  0.0        0.0121193\n",
       " -0.97377   -0.969569\n",
       "  0.537718   0.540525\n",
       " -0.592252  -0.609556\n",
       "  0.506521   0.481189\n",
       "  0.0       -0.0524866\n",
       "  0.337317   0.31182\n",
       "  1.27771    1.29813"
      ]
     },
     "execution_count": 12,
     "metadata": {},
     "output_type": "execute_result"
    }
   ],
   "source": [
    "# second beta\n",
    "β2 = result.beta[2, :]\n",
    "true_b2_idx = findall(!iszero, true_b[:, 2])\n",
    "[β2[true_b2_idx] true_b[true_b2_idx, 2]]"
   ]
  },
  {
   "cell_type": "code",
   "execution_count": 13,
   "metadata": {
    "collapsed": false
   },
   "outputs": [
    {
     "data": {
      "text/plain": [
       "4×2 Array{Float64,2}:\n",
       " 1.17665  1.22512\n",
       " 1.19901  1.23674\n",
       " 1.19901  1.23674\n",
       " 1.46801  1.494"
      ]
     },
     "execution_count": 13,
     "metadata": {},
     "output_type": "execute_result"
    }
   ],
   "source": [
    "# covariance matrix\n",
    "[vec(result.Σ) vec(true_Σ)]"
   ]
  },
  {
   "cell_type": "code",
   "execution_count": null,
   "metadata": {
    "collapsed": true
   },
   "outputs": [],
   "source": []
  }
 ],
 "metadata": {
  "@webio": {
   "lastCommId": null,
   "lastKernelId": null
  },
  "kernelspec": {
   "display_name": "Julia 1.5.0",
   "language": "julia",
   "name": "julia-1.5"
  },
  "language_info": {
   "file_extension": ".jl",
   "mimetype": "application/julia",
   "name": "julia",
   "version": "1.5.0"
  }
 },
 "nbformat": 4,
 "nbformat_minor": 2
}
