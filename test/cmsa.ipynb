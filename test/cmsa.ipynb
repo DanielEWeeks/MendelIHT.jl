{
 "cells": [
  {
   "cell_type": "markdown",
   "metadata": {},
   "source": [
    "# Cross-model selection and averaging"
   ]
  },
  {
   "cell_type": "code",
   "execution_count": 1,
   "metadata": {
    "collapsed": false
   },
   "outputs": [
    {
     "name": "stderr",
     "output_type": "stream",
     "text": [
      "┌ Info: Precompiling MendelIHT [921c7187-1484-5754-b919-5d3ed9ac03c4]\n",
      "└ @ Base loading.jl:1423\n"
     ]
    }
   ],
   "source": [
    "using Revise\n",
    "using MendelIHT\n",
    "using GLM\n",
    "using Random"
   ]
  },
  {
   "cell_type": "markdown",
   "metadata": {},
   "source": [
    "Simulate some data"
   ]
  },
  {
   "cell_type": "code",
   "execution_count": 2,
   "metadata": {
    "collapsed": false
   },
   "outputs": [
    {
     "data": {
      "text/plain": [
       "1000-element Vector{Float64}:\n",
       " -1.8997409590212744\n",
       "  1.2243772748090584\n",
       "  2.4192689435118764\n",
       "  2.7948388319602397\n",
       " -1.4045085904368817\n",
       "  5.5738136999828605\n",
       "  2.679103975966605\n",
       "  4.365412876072738\n",
       "  5.295715346411713\n",
       " -3.1540481733120838\n",
       "  4.539318079054713\n",
       " -3.105309364316101\n",
       "  3.6936846743098983\n",
       "  ⋮\n",
       " -0.34204344934988445\n",
       "  7.9952776043608145\n",
       "  4.089320835300376\n",
       "  3.0971399310899925\n",
       " -3.9023325819317827\n",
       "  3.605057276019452\n",
       " -7.332706623078501\n",
       " -2.65013014125772\n",
       " -6.379570954859518\n",
       "  5.622602580893729\n",
       " -5.706664350827031\n",
       " -9.942739493398687"
      ]
     },
     "execution_count": 2,
     "metadata": {},
     "output_type": "execute_result"
    }
   ],
   "source": [
    "n = 1000            # number of samples\n",
    "p = 10000           # number of SNPs\n",
    "k = 10              # 10 causal SNPs\n",
    "d = Normal\n",
    "l = IdentityLink()\n",
    "\n",
    "# set random seed\n",
    "Random.seed!(0)\n",
    "\n",
    "# simulate `sim.bed` file with no missing data\n",
    "x = simulate_random_snparray(\"sim.bed\", n, p)\n",
    "xla = SnpLinAlg{Float64}(x, model=ADDITIVE_MODEL, center=true, scale=true, impute=true) \n",
    "\n",
    "# 2 nongenetic covariate: first column is the intercept, second column is sex: 0 = male 1 = female\n",
    "z = ones(n, 2) \n",
    "z[:, 2] .= rand(0:1, n)\n",
    "standardize!(@view(z[:, 2:end])) \n",
    "\n",
    "# randomly set genetic predictors where causal βᵢ ~ N(0, 1)\n",
    "true_b = zeros(p) \n",
    "true_b[1:k] = randn(k)\n",
    "shuffle!(true_b)\n",
    "\n",
    "# find correct position of genetic predictors\n",
    "correct_position = findall(!iszero, true_b)\n",
    "\n",
    "# define effect size of non-genetic predictors: intercept & sex\n",
    "true_c = [1.0; 1.5] \n",
    "\n",
    "# simulate phenotype using genetic and nongenetic predictors\n",
    "prob = GLM.linkinv.(l, xla * true_b .+ z * true_c) # note genotype-vector multiplication is done with `xla`\n",
    "y = [rand(d(i)) for i in prob]\n",
    "y = Float64.(y)"
   ]
  },
  {
   "cell_type": "markdown",
   "metadata": {},
   "source": [
    "Test that IHT works with true $k$"
   ]
  },
  {
   "cell_type": "code",
   "execution_count": 3,
   "metadata": {
    "collapsed": false
   },
   "outputs": [
    {
     "name": "stdout",
     "output_type": "stream",
     "text": [
      "****                   MendelIHT Version 1.4.7                  ****\n",
      "****     Benjamin Chu, Kevin Keys, Chris German, Hua Zhou       ****\n",
      "****   Jin Zhou, Eric Sobel, Janet Sinsheimer, Kenneth Lange    ****\n",
      "****                                                            ****\n",
      "****                 Please cite our paper!                     ****\n",
      "****         https://doi.org/10.1093/gigascience/giaa044        ****\n",
      "\n",
      "Running sparse linear regression\n",
      "Number of threads = 8\n",
      "Link functin = IdentityLink()\n",
      "Sparsity parameter (k) = 10\n",
      "Prior weight scaling = off\n",
      "Doubly sparse projection = off\n",
      "Debias = off\n",
      "Max IHT iterations = 200\n",
      "Converging when tol < 0.0001 and iteration ≥ 5:\n",
      "\n",
      "Iteration 1: loglikelihood = -1797.077383122223, backtracks = 0, tol = 0.9819433117510975\n",
      "Iteration 2: loglikelihood = -1431.8977997334912, backtracks = 0, tol = 0.16858048728230898\n",
      "Iteration 3: loglikelihood = -1407.615958437318, backtracks = 0, tol = 0.040998511595788045\n",
      "Iteration 4: loglikelihood = -1407.230100352904, backtracks = 0, tol = 0.006341643498738842\n",
      "Iteration 5: loglikelihood = -1407.222343467318, backtracks = 0, tol = 0.0006653536435518015\n",
      "Iteration 6: loglikelihood = -1407.2221696316458, backtracks = 0, tol = 0.00013849167722342575\n",
      "Iteration 7: loglikelihood = -1407.2221654628972, backtracks = 0, tol = 1.7150352255705318e-5\n"
     ]
    },
    {
     "data": {
      "text/plain": [
       "10×2 Matrix{Float64}:\n",
       "  2.16158    2.19796\n",
       " -0.506129  -0.466407\n",
       " -0.51458   -0.521152\n",
       " -0.194935  -0.199011\n",
       "  0.833797   0.868312\n",
       " -1.67266   -1.67367\n",
       " -1.80487   -1.77787\n",
       "  0.39327    0.447257\n",
       " -0.836212  -0.846399\n",
       " -1.85502   -1.82628"
      ]
     },
     "execution_count": 3,
     "metadata": {},
     "output_type": "execute_result"
    }
   ],
   "source": [
    "result = fit_iht(y, xla, z, k=10)\n",
    "[true_b[correct_position] result.beta[correct_position]]"
   ]
  },
  {
   "cell_type": "markdown",
   "metadata": {},
   "source": [
    "## Test CMSA procedure"
   ]
  },
  {
   "cell_type": "code",
   "execution_count": 20,
   "metadata": {
    "collapsed": false
   },
   "outputs": [
    {
     "name": "stderr",
     "output_type": "stream",
     "text": [
      "\u001b[32mCross validating...  13%|████▎                           |  ETA: 0:00:04\u001b[39m"
     ]
    },
    {
     "name": "stdout",
     "output_type": "stream",
     "text": [
      "****                   MendelIHT Version 1.4.7                  ****\n",
      "****     Benjamin Chu, Kevin Keys, Chris German, Hua Zhou       ****\n",
      "****   Jin Zhou, Eric Sobel, Janet Sinsheimer, Kenneth Lange    ****\n",
      "****                                                            ****\n",
      "****                 Please cite our paper!                     ****\n",
      "****         https://doi.org/10.1093/gigascience/giaa044        ****\n",
      "\n",
      "Successfully reached early stop! Exiting.\n"
     ]
    },
    {
     "data": {
      "text/plain": [
       "88×2 Matrix{Float64}:\n",
       "     1.0  2552.11\n",
       "     2.0  1855.05\n",
       "     3.0  1322.32\n",
       "     4.0   667.035\n",
       "     5.0   493.88\n",
       "     6.0   347.91\n",
       "     7.0   302.453\n",
       "     8.0   255.224\n",
       "     9.0   208.199\n",
       "    10.0   201.1\n",
       "    11.0   207.598\n",
       "    12.0   210.567\n",
       "    14.0   216.485\n",
       "     ⋮    \n",
       " 15027.0    Inf\n",
       " 16762.0    Inf\n",
       " 18698.0    Inf\n",
       " 20857.0    Inf\n",
       " 23266.0    Inf\n",
       " 25953.0    Inf\n",
       " 28950.0    Inf\n",
       " 32293.0    Inf\n",
       " 36023.0    Inf\n",
       " 40183.0    Inf\n",
       " 44823.0    Inf\n",
       " 50000.0    Inf"
      ]
     },
     "execution_count": 20,
     "metadata": {},
     "output_type": "execute_result"
    }
   ],
   "source": [
    "result = cmsa_iht(y, xla, z, kmin=1, kmax=50000)\n",
    "[result.k result.loss]"
   ]
  },
  {
   "cell_type": "code",
   "execution_count": null,
   "metadata": {
    "collapsed": true
   },
   "outputs": [],
   "source": []
  }
 ],
 "metadata": {
  "@webio": {
   "lastCommId": null,
   "lastKernelId": null
  },
  "kernelspec": {
   "display_name": "Julia 1.7.1",
   "language": "julia",
   "name": "julia-1.7"
  },
  "language_info": {
   "file_extension": ".jl",
   "mimetype": "application/julia",
   "name": "julia",
   "version": "1.7.1"
  }
 },
 "nbformat": 4,
 "nbformat_minor": 2
}
