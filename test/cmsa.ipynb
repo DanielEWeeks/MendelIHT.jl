{
 "cells": [
  {
   "cell_type": "markdown",
   "metadata": {},
   "source": [
    "# Cross-model selection and averaging"
   ]
  },
  {
   "cell_type": "code",
   "execution_count": 1,
   "metadata": {
    "collapsed": false
   },
   "outputs": [
    {
     "name": "stderr",
     "output_type": "stream",
     "text": [
      "┌ Info: Precompiling MendelIHT [921c7187-1484-5754-b919-5d3ed9ac03c4]\n",
      "└ @ Base loading.jl:1423\n"
     ]
    }
   ],
   "source": [
    "using Revise\n",
    "using MendelIHT\n",
    "using GLM\n",
    "using Random"
   ]
  },
  {
   "cell_type": "markdown",
   "metadata": {},
   "source": [
    "Simulate some data"
   ]
  },
  {
   "cell_type": "code",
   "execution_count": 2,
   "metadata": {
    "collapsed": false
   },
   "outputs": [
    {
     "data": {
      "text/plain": [
       "1000-element Vector{Float64}:\n",
       "  15.546878145794178\n",
       "  13.430059613061733\n",
       "  13.549838322889817\n",
       "   2.2333363971040927\n",
       "   8.495235552896775\n",
       "  21.316935424043617\n",
       "  -1.8997550146997513\n",
       " -10.412386353451382\n",
       "   8.28555104993998\n",
       "  -7.026292086447713\n",
       " -22.733087527450937\n",
       "  35.17377137504211\n",
       "  -1.8785769515507358\n",
       "   ⋮\n",
       "  -6.340996992434085\n",
       "   4.168478362302482\n",
       "  -5.568149556009154\n",
       " -12.725883878906997\n",
       "  10.603329737660747\n",
       " -19.20751188053586\n",
       "  -3.160014307253282\n",
       "  29.612180059347605\n",
       " -18.193357604991654\n",
       "  -0.05076501222061902\n",
       "  23.454274255593486\n",
       "  15.475226721877949"
      ]
     },
     "execution_count": 2,
     "metadata": {},
     "output_type": "execute_result"
    }
   ],
   "source": [
    "n = 1000            # number of samples\n",
    "p = 10000           # number of SNPs\n",
    "k = 300              # 10 causal SNPs\n",
    "d = Normal\n",
    "l = IdentityLink()\n",
    "\n",
    "# set random seed\n",
    "Random.seed!(0)\n",
    "\n",
    "# simulate `sim.bed` file with no missing data\n",
    "x = simulate_random_snparray(\"sim.bed\", n, p)\n",
    "xla = SnpLinAlg{Float64}(x, model=ADDITIVE_MODEL, center=true, scale=true, impute=true) \n",
    "\n",
    "# 2 nongenetic covariate: first column is the intercept, second column is sex: 0 = male 1 = female\n",
    "z = ones(n, 2) \n",
    "z[:, 2] .= rand(0:1, n)\n",
    "standardize!(@view(z[:, 2:end])) \n",
    "\n",
    "# randomly set genetic predictors where causal βᵢ ~ N(0, 1)\n",
    "true_b = zeros(p) \n",
    "true_b[1:k] = randn(k)\n",
    "shuffle!(true_b)\n",
    "\n",
    "# find correct position of genetic predictors\n",
    "correct_position = findall(!iszero, true_b)\n",
    "\n",
    "# define effect size of non-genetic predictors: intercept & sex\n",
    "true_c = [1.0; 1.5] \n",
    "\n",
    "# simulate phenotype using genetic and nongenetic predictors\n",
    "prob = GLM.linkinv.(l, xla * true_b .+ z * true_c) # note genotype-vector multiplication is done with `xla`\n",
    "y = [rand(d(i)) for i in prob]\n",
    "y = Float64.(y)"
   ]
  },
  {
   "cell_type": "markdown",
   "metadata": {},
   "source": [
    "## Test CMSA procedure"
   ]
  },
  {
   "cell_type": "code",
   "execution_count": 15,
   "metadata": {
    "collapsed": false
   },
   "outputs": [
    {
     "name": "stderr",
     "output_type": "stream",
     "text": [
      "\u001b[32mCross validating... 100%|████████████████████████████████| Time: 0:01:34\u001b[39m\n"
     ]
    },
    {
     "name": "stdout",
     "output_type": "stream",
     "text": [
      "****                   MendelIHT Version 1.4.8                  ****\n",
      "****     Benjamin Chu, Kevin Keys, Chris German, Hua Zhou       ****\n",
      "****   Jin Zhou, Eric Sobel, Janet Sinsheimer, Kenneth Lange    ****\n",
      "****                                                            ****\n",
      "****                 Please cite our paper!                     ****\n",
      "****         https://doi.org/10.1093/gigascience/giaa044        ****\n",
      "\n",
      " 94.542848 seconds (499.05 M allocations: 9.609 GiB, 2.05% gc time)\n",
      "count(!iszero, result.betas[argmin(result.loss)]) = 292\n"
     ]
    },
    {
     "data": {
      "text/plain": [
       "75×2 Matrix{Float64}:\n",
       "    1.0  57453.9\n",
       "    2.0  56440.0\n",
       "    3.0  56603.0\n",
       "    4.0  54662.5\n",
       "    5.0  55075.3\n",
       "    6.0  54788.9\n",
       "    7.0  53240.9\n",
       "    8.0  52739.6\n",
       "    9.0  50645.3\n",
       "   10.0  50171.3\n",
       "   11.0  49684.3\n",
       "   12.0  49897.5\n",
       "   13.0  48138.2\n",
       "    ⋮    \n",
       "  464.0  50207.2\n",
       "  498.0  47905.0\n",
       "  534.0  51045.5\n",
       "  572.0  48990.5\n",
       "  614.0  49408.0\n",
       "  658.0  51072.8\n",
       "  705.0  49482.8\n",
       "  756.0  50644.3\n",
       "  811.0  50523.5\n",
       "  870.0  50071.5\n",
       "  933.0  51102.7\n",
       " 1000.0  49855.5"
      ]
     },
     "execution_count": 15,
     "metadata": {},
     "output_type": "execute_result"
    }
   ],
   "source": [
    "Random.seed!(11)\n",
    "@time result = cmsa_iht(y, xla, z, kmin=1, kmax=1000, warmstart=false, nabort=100)\n",
    "@show count(!iszero, result.betas[argmin(result.loss)])\n",
    "[result.k result.loss]"
   ]
  },
  {
   "cell_type": "code",
   "execution_count": 16,
   "metadata": {
    "collapsed": false
   },
   "outputs": [
    {
     "data": {
      "text/plain": [
       "192-element Vector{Int64}:\n",
       "   27\n",
       "   33\n",
       "   98\n",
       "  149\n",
       "  179\n",
       "  209\n",
       "  310\n",
       "  317\n",
       "  350\n",
       "  381\n",
       "  397\n",
       "  508\n",
       "  521\n",
       "    ⋮\n",
       " 9307\n",
       " 9429\n",
       " 9649\n",
       " 9714\n",
       " 9724\n",
       " 9729\n",
       " 9847\n",
       " 9927\n",
       " 9928\n",
       " 9948\n",
       " 9971\n",
       " 9995"
      ]
     },
     "execution_count": 16,
     "metadata": {},
     "output_type": "execute_result"
    }
   ],
   "source": [
    "findall(!iszero, result.betas[argmin(result.loss)]) ∩ \n",
    "    findall(!iszero, result.betas[argmin(result.loss) - 1])"
   ]
  },
  {
   "cell_type": "code",
   "execution_count": 17,
   "metadata": {
    "collapsed": false
   },
   "outputs": [
    {
     "data": {
      "text/plain": [
       "98-element Vector{Int64}:\n",
       "   27\n",
       "  317\n",
       "  350\n",
       "  523\n",
       "  591\n",
       "  681\n",
       "  684\n",
       "  807\n",
       "  863\n",
       "  985\n",
       " 1024\n",
       " 1084\n",
       " 1216\n",
       "    ⋮\n",
       " 8737\n",
       " 8791\n",
       " 8835\n",
       " 8892\n",
       " 9143\n",
       " 9220\n",
       " 9714\n",
       " 9724\n",
       " 9729\n",
       " 9927\n",
       " 9928\n",
       " 9971"
      ]
     },
     "execution_count": 17,
     "metadata": {},
     "output_type": "execute_result"
    }
   ],
   "source": [
    "# number of causal SNPs found\n",
    "findall(!iszero, result.betas[argmin(result.loss)]) ∩ findall(!iszero, true_b)"
   ]
  },
  {
   "cell_type": "markdown",
   "metadata": {
    "collapsed": true
   },
   "source": [
    "## Test warmstart"
   ]
  },
  {
   "cell_type": "code",
   "execution_count": 18,
   "metadata": {
    "collapsed": false
   },
   "outputs": [
    {
     "name": "stderr",
     "output_type": "stream",
     "text": [
      "\u001b[32mCross validating... 100%|████████████████████████████████| Time: 0:01:41\u001b[39m\u0000\u0000\u0000\u0000\u0000\u0000\u0000\u0000\u0000\u0000\u0000\u0000\u0000\u0000\u0000\u0000\u0000\u0000\u0000\u0000\u0000\u0000\u0000\u0000\u0000\u0000\u0000\u0000\u0000\u0000\u0000\u0000\u0000\u0000\u0000\u0000\u0000\u0000\n"
     ]
    },
    {
     "name": "stdout",
     "output_type": "stream",
     "text": [
      "****                   MendelIHT Version 1.4.8                  ****\n",
      "****     Benjamin Chu, Kevin Keys, Chris German, Hua Zhou       ****\n",
      "****   Jin Zhou, Eric Sobel, Janet Sinsheimer, Kenneth Lange    ****\n",
      "****                                                            ****\n",
      "****                 Please cite our paper!                     ****\n",
      "****         https://doi.org/10.1093/gigascience/giaa044        ****\n",
      "\n",
      "101.232452 seconds (500.87 M allocations: 9.636 GiB, 2.25% gc time)\n",
      "count(!iszero, result.betas[argmin(result.loss)]) = 351\n"
     ]
    },
    {
     "data": {
      "text/plain": [
       "75×2 Matrix{Float64}:\n",
       "    1.0  57453.9\n",
       "    2.0  56439.9\n",
       "    3.0  56602.9\n",
       "    4.0  54662.6\n",
       "    5.0  55175.9\n",
       "    6.0  54465.6\n",
       "    7.0  53240.9\n",
       "    8.0  51806.2\n",
       "    9.0  50645.4\n",
       "   10.0  50171.3\n",
       "   11.0  49494.3\n",
       "   12.0  48916.7\n",
       "   13.0  48147.4\n",
       "    ⋮    \n",
       "  464.0  51254.7\n",
       "  498.0  51691.3\n",
       "  534.0  50627.6\n",
       "  572.0  50931.0\n",
       "  614.0  50041.8\n",
       "  658.0  49723.9\n",
       "  705.0  50859.2\n",
       "  756.0  50149.6\n",
       "  811.0  52037.3\n",
       "  870.0  51626.8\n",
       "  933.0  50418.9\n",
       " 1000.0  51181.1"
      ]
     },
     "execution_count": 18,
     "metadata": {},
     "output_type": "execute_result"
    }
   ],
   "source": [
    "Random.seed!(11)\n",
    "@time result = cmsa_iht(y, xla, z, kmin=1, kmax=1000, warmstart=true, nabort=100)\n",
    "@show count(!iszero, result.betas[argmin(result.loss)])\n",
    "[result.k result.loss]"
   ]
  },
  {
   "cell_type": "code",
   "execution_count": 19,
   "metadata": {
    "collapsed": false
   },
   "outputs": [
    {
     "data": {
      "text/plain": [
       "218-element Vector{Int64}:\n",
       "   27\n",
       "   33\n",
       "   94\n",
       "   98\n",
       "  149\n",
       "  179\n",
       "  202\n",
       "  221\n",
       "  310\n",
       "  317\n",
       "  350\n",
       "  508\n",
       "  521\n",
       "    ⋮\n",
       " 9500\n",
       " 9611\n",
       " 9649\n",
       " 9714\n",
       " 9724\n",
       " 9729\n",
       " 9847\n",
       " 9927\n",
       " 9928\n",
       " 9971\n",
       " 9992\n",
       " 9995"
      ]
     },
     "execution_count": 19,
     "metadata": {},
     "output_type": "execute_result"
    }
   ],
   "source": [
    "findall(!iszero, result.betas[argmin(result.loss)]) ∩ \n",
    "    findall(!iszero, result.betas[argmin(result.loss) - 1])"
   ]
  },
  {
   "cell_type": "code",
   "execution_count": 20,
   "metadata": {
    "collapsed": false
   },
   "outputs": [
    {
     "data": {
      "text/plain": [
       "106-element Vector{Int64}:\n",
       "   27\n",
       "  317\n",
       "  350\n",
       "  472\n",
       "  523\n",
       "  591\n",
       "  681\n",
       "  684\n",
       "  807\n",
       "  863\n",
       "  985\n",
       " 1024\n",
       " 1084\n",
       "    ⋮\n",
       " 8791\n",
       " 8892\n",
       " 9143\n",
       " 9220\n",
       " 9447\n",
       " 9714\n",
       " 9724\n",
       " 9729\n",
       " 9852\n",
       " 9927\n",
       " 9928\n",
       " 9971"
      ]
     },
     "execution_count": 20,
     "metadata": {},
     "output_type": "execute_result"
    }
   ],
   "source": [
    "# number of causal SNPs found\n",
    "findall(!iszero, result.betas[argmin(result.loss)]) ∩ findall(!iszero, true_b)"
   ]
  },
  {
   "cell_type": "code",
   "execution_count": null,
   "metadata": {
    "collapsed": true
   },
   "outputs": [],
   "source": []
  }
 ],
 "metadata": {
  "@webio": {
   "lastCommId": null,
   "lastKernelId": null
  },
  "kernelspec": {
   "display_name": "Julia 1.7.1",
   "language": "julia",
   "name": "julia-1.7"
  },
  "language_info": {
   "file_extension": ".jl",
   "mimetype": "application/julia",
   "name": "julia",
   "version": "1.7.1"
  }
 },
 "nbformat": 4,
 "nbformat_minor": 2
}
