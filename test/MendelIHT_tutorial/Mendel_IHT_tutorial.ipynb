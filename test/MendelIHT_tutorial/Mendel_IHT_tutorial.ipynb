{
 "cells": [
  {
   "cell_type": "markdown",
   "metadata": {},
   "source": [
    "# OpenMendel: Iterative Hard Thresholding Tutorial\n",
    "\n",
    "### Last update: 10/15/2018"
   ]
  },
  {
   "cell_type": "markdown",
   "metadata": {},
   "source": [
    "### When to use Iterative Hard Thresholding\n",
    "\n",
    "*Continuous* model selection is advantageous in situations where the multivariate nature of the regressors plays a significant role *together*. Iterative hard-thresholing (IHT) performs continuous model selection on a GWAS dataset $\\mathbf{X} \\in \\{0, 1, 2\\}^{n \\times p}$ and continuous phenotype vector $\\mathbf{y}$ by minimizing the residual sum of squares $f(\\beta) = \\frac{1}{2}||\\mathbf{y} - \\mathbf{X}\\beta||^2$ subject to the constraint that $\\beta$ is $k-$sparse. Parallel computing is offered through `q-`fold cross validation, and in the near future, dense (genotype matrix)-(dense vector) multiplication. "
   ]
  },
  {
   "cell_type": "markdown",
   "metadata": {},
   "source": [
    "### Appropriate Datasets and Example Inputs \n",
    "\n",
    "All genotype data **must** be stored in the [PLINK binary genotype format](https://www.cog-genomics.org/plink2/formats#bed), where the triplets `.bim`, `.bed` and `.fam` must all be present. Additional non-genetic covariates should be stored in a separate file (e.g. comma separated file). In this tutorial, we use \"gwas 1 data\" (github repo: [here](https://github.com/OpenMendel/MendelGWAS.jl/tree/master/docs)) to illustrate the functionalities of MendelIHT. This dataset has 2200 people and a modest 10000 simulated SNPs, with 2 SNPs (`rs1935681` and `rs2256412`) contributing to the response. One can obtain this dataset from the first example input of [MendelGWAS.jl](https://openmendel.github.io/MendelGWAS.jl/), or via option 24a of the free application [Mendel version 16](http://www.genetics.ucla.edu/software/mendel). \n"
   ]
  },
  {
   "cell_type": "markdown",
   "metadata": {},
   "source": [
    "### Missing Data\n",
    "\n",
    "`MendelIHT` assumes there are no missing genotypes, since it uses linear algebra functions defined in [SnpArrays.jl](https://openmendel.github.io/SnpArrays.jl/latest/man/snparray/#linear-algebra-with-snparray). Therefore, you must first impute missing genotypes before you use MendelIHT. SnpArrays.jl offer a naive imputation strategy, but otherwise, our own software [option 23 of Mendel](http://www.genetics.ucla.edu/software/mendel) is a reasonbale choice. Open Mendel will soon provide a separate package `MendelImpute` containing new imputation strategies such as alternating least squares.  "
   ]
  },
  {
   "cell_type": "markdown",
   "metadata": {},
   "source": [
    "### Cross Validation and Regularization paths\n",
    "\n",
    "We usually have very little information on how many SNPs are affecting the phenotype. In a typical GWAS study, anywhere between 1 to thousands of SNPs could play a role. Thus ideally, we can test many different models to find the best one. MendelIHT provides 2 ways for one to perform this automatically: user specified regulartization paths, and $q-$fold [cross validation](https://en.wikipedia.org/wiki/Cross-validation_(statistics). Users should know that, in the first method, increasing the number of predictors will almost always decrease the error, but as a result introduces overfitting. Therefore, in most practicaly situations, it is highly recommended to combine this method with cross validation. In $q-$fold cross validation, samples are divided into $q$ disjoint subsets, and IHT minimizes the MSE of a model fitted on $q-1$ of those sets data, then verifies the model on the $qth$ samples. Each $q$ subsets are served as the test set exactly once. As a result, cross validation typically finds a model with a good balance of error and overfitting.  "
   ]
  },
  {
   "cell_type": "markdown",
   "metadata": {},
   "source": [
    "### Julia version\n",
    "\n",
    "Current code supports Julia version 0.6. It will not work in v0.7 or v1.0, but upgrade to v1.0 is very high on our TODO list. "
   ]
  },
  {
   "cell_type": "markdown",
   "metadata": {},
   "source": [
    "### Analysis keywords available to users \n",
    "\n",
    "| Keyword | Default Value | Allowed value | Description |\n",
    "| --- | --- | --- | --- |\n",
    "|`predictors` | 0 | Positive integer | Max number of non-zero entries of $\\beta$ |\n",
    "|`non_genetic_covariates` | \"\" | File name on disk | Delimited file containing the non-genetic covariates for each sample |\n",
    "|`run_specific_paths` | false | boolean | Whether user wants to run a lot of different model sizes $k$ |\n",
    "|`model_size_paths` | \"\" | Integers stored in string separated by ',' | Different model sizes users wish to run IHT for |\n",
    "|`max_groups` (\\*) | 1 | Integer | Total number of groups |\n",
    "|`group_membership` (\\*) | \"\" | File name on disk | File indicating group membership |\n",
    "|`prior_weights` (\\*) | \"\" | maf | How to scale predictors based on different weights |\n",
    "|`run_cross_validation` (\\**) | false | boolean | Whether the user wants to run cross-validation |\n",
    "|`cv_fold` (\\**) | 0 | Positive integer | Number of folds cross-validation should run |\n",
    "\n",
    "+ (\\*) Indicates experimental features. We currently have no theoretical guarantees on their performance, therefore illustrations of these functionalities are omitted from this tutorial. Users should tread carefully with these features. \n",
    "+ (\\**) Indicates features that will soon be available\n",
    "+ A list of OpenMendel keywords common to most analysis package can be found [here](https://openmendel.github.io/MendelBase.jl/#keywords-table)"
   ]
  },
  {
   "cell_type": "markdown",
   "metadata": {},
   "source": [
    "# Example 1: Run IHT with Only Genotype Data\n",
    "\n",
    "### Step 1: Preparing Input files\n",
    "\n",
    "In Open Mendel, all analysis parameters are specified via the [Control file](https://openmendel.github.io/MendelBase.jl/#control-file). Genotype data must be inputted via the PLINK binary format. The most basic control file to run IHT looks like the following:"
   ]
  },
  {
   "cell_type": "code",
   "execution_count": 1,
   "metadata": {
    "collapsed": false
   },
   "outputs": [
    {
     "name": "stdout",
     "output_type": "stream",
     "text": [
      "#\n",
      "# Input and Output files.\n",
      "#\n",
      "plink_input_basename = gwas 1 data\n",
      "\n",
      "#\n",
      "# Analysis parameters for IHT option.\n",
      "#\n",
      "predictors = 2\n"
     ]
    }
   ],
   "source": [
    "open(\"gwas 1 Control basic.txt\") do file #change directory as appropriate\n",
    "    for ln in eachline(file)\n",
    "        println(ln)\n",
    "    end\n",
    "end"
   ]
  },
  {
   "cell_type": "markdown",
   "metadata": {},
   "source": [
    "### Step 2: Run MendelIHT\n",
    "\n",
    "To run `MendelIHT`, execute the following in the Julia REPL or in this notebook:"
   ]
  },
  {
   "cell_type": "code",
   "execution_count": 2,
   "metadata": {
    "collapsed": false
   },
   "outputs": [
    {
     "name": "stdout",
     "output_type": "stream",
     "text": [
      " \n",
      " \n",
      "     Welcome to OpenMendel's\n",
      "      IHT analysis option\n",
      "        version 0.3.0\n",
      " \n",
      " \n",
      "Reading the data.\n",
      "\n",
      "The current working directory is \"/Users/biona001/.julia/v0.6/IHT/test/MendelIHT_tutorial\".\n",
      "\n",
      "Keywords modified by the user:\n",
      "\n",
      "  affected_designator = 2\n",
      "  control_file = gwas 1 Control basic.txt\n",
      "  pedigree_file = gwas 1 data.fam\n",
      "  plink_input_basename = gwas 1 data\n",
      "  predictors = 2\n",
      "  snpdata_file = gwas 1 data.bed\n",
      "  snpdefinition_file = gwas 1 data.bim\n",
      " \n"
     ]
    },
    {
     "name": "stderr",
     "output_type": "stream",
     "text": [
      "\u001b[1m\u001b[36mINFO: \u001b[39m\u001b[22m\u001b[36mReading in data\n",
      "\u001b[39m\u001b[1m\u001b[36mINFO: \u001b[39m\u001b[22m\u001b[36mv1.0 BED file detected\n",
      "\u001b[39m\u001b[1m\u001b[36mINFO: \u001b[39m\u001b[22m\u001b[36mAnalyzing the data for model size k = 2\n",
      "\u001b[39m"
     ]
    },
    {
     "data": {
      "text/plain": [
       "IHT results:\n",
       "\n",
       "Compute time (sec):     1.939608051\n",
       "Final loss:             1161.951128229144\n",
       "Iterations:             12\n",
       "Max number of groups:   1\n",
       "Max predictors/group:   2\n",
       "IHT estimated 2 nonzero coefficients.\n",
       "2×3 DataFrames.DataFrame\n",
       "│ Row │ Group │ Predictor │ Estimated_β │\n",
       "├─────┼───────┼───────────┼─────────────┤\n",
       "│ 1   │ 1     │ 3981      │ 0.149048    │\n",
       "│ 2   │ 1     │ 7023      │ 0.272921    │\n",
       "\n",
       "Intercept of model = 0.1405364595125695\n"
      ]
     },
     "execution_count": 2,
     "metadata": {},
     "output_type": "execute_result"
    }
   ],
   "source": [
    "using IHT\n",
    "MendelIHT(\"gwas 1 Control basic.txt\") # change directory as necessary"
   ]
  },
  {
   "cell_type": "markdown",
   "metadata": {
    "collapsed": true
   },
   "source": [
    "### Step 3: Interpreting the results\n",
    "\n",
    "Here the estimated model is the 3981th and 7023th predictor, corresponding to rs1935681 and rs2256412 in the `gwas 1 data.bim` file, which is the correct SNPs. The intercept of the model is given at the bottom of the table. Here the compute time is the time associated with computing the optimal $\\beta$ only, so it does not include other necessary processes, such as importing the data. \n",
    "\n",
    "**Note:** the `affected_designator = 2` simply indicates that the pedigree is a Plink .fam file, which must always be the case for `MendelIHT` because this analysis option only accepts PLINK binary format as inputs. "
   ]
  },
  {
   "cell_type": "markdown",
   "metadata": {},
   "source": [
    "# Example 2: Including Non-Genetic Covariates\n",
    "\n",
    "Non-genetic covariates must be stored in a comma demited file, with the same number of rows as the number of samples. The intercept term (i.e. grand mean) must also be included in the file. If the user does not specify a non-genetic covariate file, `MendelIHT` will by default include an intercept in the estimated model. "
   ]
  },
  {
   "cell_type": "markdown",
   "metadata": {},
   "source": [
    "### Step 1: Prepare Non-Genetic Covariate File\n",
    "\n",
    "In this example, we generated one non-genetic covariate from a $N(0, 1)$ distribution. After including the grand mean, we saved the file in `gwas 1 noncov.txt` where the entries are separated by a tab. The first few lines of this file looks like the following:"
   ]
  },
  {
   "cell_type": "code",
   "execution_count": 3,
   "metadata": {
    "collapsed": false
   },
   "outputs": [
    {
     "name": "stdout",
     "output_type": "stream",
     "text": [
      "1\t-0.088704513339476\n",
      "1\t-0.9575873240069772\n",
      "1\t-0.9713258274139007\n",
      "1\t-0.9847900613424241\n",
      "1\t-0.5954781589540936\n",
      "1\t0.2124813875751884\n",
      "1\t2.28150775802523\n",
      "1\t1.7643235366779797\n",
      "1\t-0.3933262467789896\n",
      "1\t-0.1348394065324508\n"
     ]
    }
   ],
   "source": [
    "f = open(\"gwas 1 noncov.txt\")\n",
    "lines = readlines(f)\n",
    "for line in lines[1:10]   #print first 10 lines\n",
    "    println(line)\n",
    "end"
   ]
  },
  {
   "cell_type": "markdown",
   "metadata": {},
   "source": [
    "### Step 2: Prepare Corresponding Control File \n",
    "\n",
    "We need to tell MendelIHT that the covariates are separated by tabs. This can be achieved via the [MendelBase](https://openmendel.github.io/MendelBase.jl/) keyword `field_separator` as follows:"
   ]
  },
  {
   "cell_type": "code",
   "execution_count": 4,
   "metadata": {
    "collapsed": false
   },
   "outputs": [
    {
     "name": "stdout",
     "output_type": "stream",
     "text": [
      "#\n",
      "# Input and Output files.\n",
      "#\n",
      "plink_input_basename = gwas 1 data\n",
      "non_genetic_covariates = gwas 1 noncov.txt\n",
      "field_separator = '\t'\n",
      "#\n",
      "# Analysis parameters for IHT option.\n",
      "#\n",
      "predictors = 2\n"
     ]
    }
   ],
   "source": [
    "open(\"gwas 1 Control nongen.txt\") do file #change directory as appropriate\n",
    "    for ln in eachline(file)\n",
    "        println(ln)\n",
    "    end\n",
    "end"
   ]
  },
  {
   "cell_type": "markdown",
   "metadata": {},
   "source": [
    "### Step 3: Run IHT "
   ]
  },
  {
   "cell_type": "code",
   "execution_count": 5,
   "metadata": {
    "collapsed": false
   },
   "outputs": [
    {
     "name": "stdout",
     "output_type": "stream",
     "text": [
      " \n",
      " \n",
      "     Welcome to OpenMendel's\n",
      "      IHT analysis option\n",
      "        version 0.3.0\n",
      " \n",
      " \n",
      "Reading the data.\n",
      "\n",
      "The current working directory is \"/Users/biona001/.julia/v0.6/IHT/test/MendelIHT_tutorial\".\n",
      "\n",
      "Keywords modified by the user:\n",
      "\n",
      "  affected_designator = 2\n",
      "  control_file = gwas 1 Control nongen.txt\n",
      "  field_separator = \t\n",
      "  non_genetic_covariates = gwas 1 noncov.txt\n",
      "  pedigree_file = gwas 1 data.fam\n",
      "  plink_input_basename = gwas 1 data\n",
      "  predictors = 2\n",
      "  snpdata_file = gwas 1 data.bed\n",
      "  snpdefinition_file = gwas 1 data.bim\n",
      " \n"
     ]
    },
    {
     "name": "stderr",
     "output_type": "stream",
     "text": [
      "\u001b[1m\u001b[36mINFO: \u001b[39m\u001b[22m\u001b[36mReading in data\n",
      "\u001b[39m\u001b[1m\u001b[36mINFO: \u001b[39m\u001b[22m\u001b[36mv1.0 BED file detected\n",
      "\u001b[39m\u001b[1m\u001b[36mINFO: \u001b[39m\u001b[22m\u001b[36mAnalyzing the data for model size k = 2\n",
      "\u001b[39m"
     ]
    },
    {
     "data": {
      "text/plain": [
       "IHT results:\n",
       "\n",
       "Compute time (sec):     1.579136089\n",
       "Final loss:             1161.9471299575046\n",
       "Iterations:             12\n",
       "Max number of groups:   1\n",
       "Max predictors/group:   2\n",
       "IHT estimated 2 nonzero coefficients.\n",
       "2×3 DataFrames.DataFrame\n",
       "│ Row │ Group │ Predictor │ Estimated_β │\n",
       "├─────┼───────┼───────────┼─────────────┤\n",
       "│ 1   │ 1     │ 3981      │ 0.149032    │\n",
       "│ 2   │ 1     │ 7023      │ 0.272937    │\n",
       "\n",
       "Intercept of model = 0.14055574614433\n"
      ]
     },
     "execution_count": 5,
     "metadata": {},
     "output_type": "execute_result"
    }
   ],
   "source": [
    "using IHT\n",
    "MendelIHT(\"gwas 1 Control nongen.txt\") # change directory as necessary"
   ]
  },
  {
   "cell_type": "markdown",
   "metadata": {},
   "source": [
    "**Remark:** Observe that the overall error did not change by much, and the estimated coefficients and intercept remained roughly the same. "
   ]
  },
  {
   "cell_type": "markdown",
   "metadata": {},
   "source": [
    "# Example 3: Specify Regularization Paths\n",
    "\n",
    "In the first 2 examples, IHT was ran on simulated data where the true model size $(k = 2)$ was known. In this example, users can run IHT on any number of model in at most 8 parallel threads. Note that multithreading must be done in the terminal. Empirically, running on $n$ threads  achieves roughly $n/2$ fold speedup. "
   ]
  },
  {
   "cell_type": "markdown",
   "metadata": {},
   "source": [
    "### Step 1: Execute following line in terminal before starting notebook"
   ]
  },
  {
   "cell_type": "code",
   "execution_count": 6,
   "metadata": {
    "collapsed": false
   },
   "outputs": [
    {
     "ename": "LoadError",
     "evalue": "\u001b[91msyntax: invalid assignment location \"(export JULIA_NUM_THREADS)\"\u001b[39m",
     "output_type": "error",
     "traceback": [
      "\u001b[91msyntax: invalid assignment location \"(export JULIA_NUM_THREADS)\"\u001b[39m",
      ""
     ]
    }
   ],
   "source": [
    "export JULIA_NUM_THREADS=8"
   ]
  },
  {
   "cell_type": "markdown",
   "metadata": {},
   "source": [
    "### Step 2: Verify that notebook is indeed running with 8 threads:"
   ]
  },
  {
   "cell_type": "code",
   "execution_count": 7,
   "metadata": {
    "collapsed": false
   },
   "outputs": [
    {
     "data": {
      "text/plain": [
       "8"
      ]
     },
     "execution_count": 7,
     "metadata": {},
     "output_type": "execute_result"
    }
   ],
   "source": [
    "Threads.nthreads()"
   ]
  },
  {
   "cell_type": "markdown",
   "metadata": {},
   "source": [
    "### Step 3: Specify the model sizes\n",
    "\n",
    "The paths should be inside quotes and separated by comma, specified via the keyword `model_sizes`. Each entry must be an integer. In this example, we tried to run IHT for model sizes $k = 1, 2, ..., 20$. The resulting model is stored in the sparse matrix, and both these models and the associated error is returned."
   ]
  },
  {
   "cell_type": "code",
   "execution_count": 8,
   "metadata": {
    "collapsed": false,
    "scrolled": true
   },
   "outputs": [
    {
     "name": "stdout",
     "output_type": "stream",
     "text": [
      "#\n",
      "# Input and Output files.\n",
      "#\n",
      "plink_input_basename = gwas 1 data\n",
      "#\n",
      "# Analysis parameters for IHT option.\n",
      "#\n",
      "predictors = 2\n",
      "model_sizes = \"1,2,3,4,5,6,7,8,9,10,11,12,13,14,15,16,17,18,19,20\"\n"
     ]
    }
   ],
   "source": [
    "open(\"gwas 1 Control userpath.txt\") do file #change directory as appropriate\n",
    "    for ln in eachline(file)\n",
    "        println(ln)\n",
    "    end\n",
    "end"
   ]
  },
  {
   "cell_type": "markdown",
   "metadata": {},
   "source": [
    "### Step 4: Run the Control File (this step has ~10% chance of encountering thread safety issues. When error is thrown, simply run it again.)"
   ]
  },
  {
   "cell_type": "code",
   "execution_count": 9,
   "metadata": {
    "collapsed": false
   },
   "outputs": [
    {
     "name": "stdout",
     "output_type": "stream",
     "text": [
      " \n",
      " \n",
      "     Welcome to OpenMendel's\n",
      "      IHT analysis option\n",
      "        version 0.3.0\n",
      " \n",
      " \n",
      "Reading the data.\n",
      "\n",
      "The current working directory is \"/Users/biona001/.julia/v0.6/IHT/test/MendelIHT_tutorial\".\n",
      "\n",
      "Keywords modified by the user:\n",
      "\n",
      "  affected_designator = 2\n",
      "  control_file = gwas 1 Control userpath.txt\n",
      "  model_sizes = 1,2,3,4,5,6,7,8,9,10,11,12,13,14,15,16,17,18,19,20\n",
      "  pedigree_file = gwas 1 data.fam\n",
      "  plink_input_basename = gwas 1 data\n",
      "  predictors = 2\n",
      "  snpdata_file = gwas 1 data.bed\n",
      "  snpdefinition_file = gwas 1 data.bim\n",
      " \n"
     ]
    },
    {
     "name": "stderr",
     "output_type": "stream",
     "text": [
      "\u001b[1m\u001b[36mINFO: \u001b[39m\u001b[22m\u001b[36mReading in data\n",
      "\u001b[39m\u001b[1m\u001b[36mINFO: \u001b[39m\u001b[22m\u001b[36mv1.0 BED file detected\n",
      "\u001b[39m\u001b[1m\u001b[36mINFO: \u001b[39m\u001b[22m\u001b[36mRunning the following model sizes: [1, 2, 3, 4, 5, 6, 7, 8, 9, 10, 11, 12, 13, 14, 15, 16, 17, 18, 19, 20]\n",
      "\u001b[39m"
     ]
    },
    {
     "data": {
      "text/plain": [
       "(\n",
       "  [7023 ,     1]  =  0.276207\n",
       "  [3981 ,     2]  =  0.149048\n",
       "  [7023 ,     2]  =  0.272921\n",
       "  [3981 ,     3]  =  0.151119\n",
       "  [5793 ,     3]  =  -0.0856503\n",
       "  [7023 ,     3]  =  0.272561\n",
       "  [3981 ,     4]  =  0.146525\n",
       "  [4398 ,     4]  =  0.0836463\n",
       "  [6611 ,     4]  =  0.0840132\n",
       "  [7023 ,     4]  =  0.270291\n",
       "  ⋮\n",
       "  [4701 ,    20]  =  -0.0637015\n",
       "  [5793 ,    20]  =  -0.0838629\n",
       "  [6611 ,    20]  =  0.086155\n",
       "  [6613 ,    20]  =  -0.0622384\n",
       "  [6627 ,    20]  =  -0.0714479\n",
       "  [7023 ,    20]  =  0.251325\n",
       "  [7347 ,    20]  =  -0.0723789\n",
       "  [8768 ,    20]  =  -0.0675166\n",
       "  [8959 ,    20]  =  0.0676552\n",
       "  [9467 ,    20]  =  -0.0791913\n",
       "  [9893 ,    20]  =  -0.0683527, [1186.37, 1161.95, 1153.89, 1146.47, 1137.96, 1131.32, 1124.64, 1118.68, 1111.06, 1103.63, 1100.35, 1095.55, 1088.74, 1084.1, 1077.35, 1071.3, 1070.46, 1065.94, 1059.94, 1053.95])"
      ]
     },
     "execution_count": 9,
     "metadata": {},
     "output_type": "execute_result"
    }
   ],
   "source": [
    "using IHT\n",
    "models, model_errors = MendelIHT(\"gwas 1 Control userpath.txt\")"
   ]
  },
  {
   "cell_type": "markdown",
   "metadata": {},
   "source": [
    "**Remark:** We can check that IHT is stable given different sparsity constraints, in the sense that parameters selected with a sparser constraint will still be selected if given a weaker constraint. Below 2 models of size $k = 6$ and $k = 10$ is listed, where the left of the equality indicates the SNP position, and the right hand side indicate the model size. "
   ]
  },
  {
   "cell_type": "code",
   "execution_count": 10,
   "metadata": {
    "collapsed": false
   },
   "outputs": [
    {
     "name": "stdout",
     "output_type": "stream",
     "text": [
      " k = 6: \n",
      "\n",
      "  [898  ]  =  -0.0779541\n",
      "  [3981 ]  =  0.146013\n",
      "  [4398 ]  =  0.0850112\n",
      "  [5793 ]  =  -0.0848018\n",
      "  [6611 ]  =  0.0848421\n",
      "  [7023 ]  =  0.268596\n",
      "\n",
      " k = 10: \n",
      "\n",
      "  [898  ]  =  -0.0796667\n",
      "  [1880 ]  =  -0.0821465\n",
      "  [2111 ]  =  -0.08236\n",
      "  [3981 ]  =  0.144931\n",
      "  [4398 ]  =  0.0783766\n",
      "  [5793 ]  =  -0.0907393\n",
      "  [6611 ]  =  0.086168\n",
      "  [6627 ]  =  -0.0757259\n",
      "  [7023 ]  =  0.266956\n",
      "  [9467 ]  =  -0.0861502"
     ]
    }
   ],
   "source": [
    "println(\" k = 6: \\n\")\n",
    "show(models[:, 6])\n",
    "println(\"\\n\\n k = 10: \\n\")\n",
    "show(models[:, 10])"
   ]
  },
  {
   "cell_type": "markdown",
   "metadata": {},
   "source": [
    "### Step 5: Observe the effect of overfitting\n",
    "\n",
    "We fitted 20 different models with sizes ranging from 1 through 20. Recall that the true model size is $k = 2$, so the observed error reduction is a consequence of overfitting. We can plot them to visualize how they perform against each other:"
   ]
  },
  {
   "cell_type": "code",
   "execution_count": 11,
   "metadata": {
    "collapsed": false
   },
   "outputs": [
    {
     "data": {
      "image/svg+xml": [
       "<?xml version=\"1.0\" encoding=\"utf-8\"?>\n",
       "<svg xmlns=\"http://www.w3.org/2000/svg\" xmlns:xlink=\"http://www.w3.org/1999/xlink\" width=\"600\" height=\"400\" viewBox=\"0 0 600 400\">\n",
       "<defs>\n",
       "  <clipPath id=\"clip1100\">\n",
       "    <rect x=\"0\" y=\"0\" width=\"600\" height=\"400\"/>\n",
       "  </clipPath>\n",
       "</defs>\n",
       "<polygon clip-path=\"url(#clip1100)\" points=\"\n",
       "0,400 600,400 600,0 0,0 \n",
       "  \" fill=\"#ffffff\" fill-opacity=\"1\"/>\n",
       "<defs>\n",
       "  <clipPath id=\"clip1101\">\n",
       "    <rect x=\"120\" y=\"0\" width=\"421\" height=\"400\"/>\n",
       "  </clipPath>\n",
       "</defs>\n",
       "<polygon clip-path=\"url(#clip1100)\" points=\"\n",
       "66.1324,360.121 580.315,360.121 580.315,11.811 66.1324,11.811 \n",
       "  \" fill=\"#ffffff\" fill-opacity=\"1\"/>\n",
       "<defs>\n",
       "  <clipPath id=\"clip1102\">\n",
       "    <rect x=\"66\" y=\"11\" width=\"515\" height=\"349\"/>\n",
       "  </clipPath>\n",
       "</defs>\n",
       "<polyline clip-path=\"url(#clip1102)\" style=\"stroke:#000000; stroke-width:0.5; stroke-opacity:0.1; fill:none\" points=\"\n",
       "  182.806,360.121 182.806,11.811 \n",
       "  \"/>\n",
       "<polyline clip-path=\"url(#clip1102)\" style=\"stroke:#000000; stroke-width:0.5; stroke-opacity:0.1; fill:none\" points=\"\n",
       "  310.458,360.121 310.458,11.811 \n",
       "  \"/>\n",
       "<polyline clip-path=\"url(#clip1102)\" style=\"stroke:#000000; stroke-width:0.5; stroke-opacity:0.1; fill:none\" points=\"\n",
       "  438.111,360.121 438.111,11.811 \n",
       "  \"/>\n",
       "<polyline clip-path=\"url(#clip1102)\" style=\"stroke:#000000; stroke-width:0.5; stroke-opacity:0.1; fill:none\" points=\"\n",
       "  565.763,360.121 565.763,11.811 \n",
       "  \"/>\n",
       "<polyline clip-path=\"url(#clip1102)\" style=\"stroke:#000000; stroke-width:0.5; stroke-opacity:0.1; fill:none\" points=\"\n",
       "  66.1324,335.259 580.315,335.259 \n",
       "  \"/>\n",
       "<polyline clip-path=\"url(#clip1102)\" style=\"stroke:#000000; stroke-width:0.5; stroke-opacity:0.1; fill:none\" points=\"\n",
       "  66.1324,285.63 580.315,285.63 \n",
       "  \"/>\n",
       "<polyline clip-path=\"url(#clip1102)\" style=\"stroke:#000000; stroke-width:0.5; stroke-opacity:0.1; fill:none\" points=\"\n",
       "  66.1324,236.001 580.315,236.001 \n",
       "  \"/>\n",
       "<polyline clip-path=\"url(#clip1102)\" style=\"stroke:#000000; stroke-width:0.5; stroke-opacity:0.1; fill:none\" points=\"\n",
       "  66.1324,186.371 580.315,186.371 \n",
       "  \"/>\n",
       "<polyline clip-path=\"url(#clip1102)\" style=\"stroke:#000000; stroke-width:0.5; stroke-opacity:0.1; fill:none\" points=\"\n",
       "  66.1324,136.742 580.315,136.742 \n",
       "  \"/>\n",
       "<polyline clip-path=\"url(#clip1102)\" style=\"stroke:#000000; stroke-width:0.5; stroke-opacity:0.1; fill:none\" points=\"\n",
       "  66.1324,87.1123 580.315,87.1123 \n",
       "  \"/>\n",
       "<polyline clip-path=\"url(#clip1102)\" style=\"stroke:#000000; stroke-width:0.5; stroke-opacity:0.1; fill:none\" points=\"\n",
       "  66.1324,37.483 580.315,37.483 \n",
       "  \"/>\n",
       "<polyline clip-path=\"url(#clip1100)\" style=\"stroke:#000000; stroke-width:1; stroke-opacity:1; fill:none\" points=\"\n",
       "  66.1324,360.121 580.315,360.121 \n",
       "  \"/>\n",
       "<polyline clip-path=\"url(#clip1100)\" style=\"stroke:#000000; stroke-width:1; stroke-opacity:1; fill:none\" points=\"\n",
       "  66.1324,360.121 66.1324,11.811 \n",
       "  \"/>\n",
       "<polyline clip-path=\"url(#clip1100)\" style=\"stroke:#000000; stroke-width:1; stroke-opacity:1; fill:none\" points=\"\n",
       "  182.806,360.121 182.806,354.896 \n",
       "  \"/>\n",
       "<polyline clip-path=\"url(#clip1100)\" style=\"stroke:#000000; stroke-width:1; stroke-opacity:1; fill:none\" points=\"\n",
       "  310.458,360.121 310.458,354.896 \n",
       "  \"/>\n",
       "<polyline clip-path=\"url(#clip1100)\" style=\"stroke:#000000; stroke-width:1; stroke-opacity:1; fill:none\" points=\"\n",
       "  438.111,360.121 438.111,354.896 \n",
       "  \"/>\n",
       "<polyline clip-path=\"url(#clip1100)\" style=\"stroke:#000000; stroke-width:1; stroke-opacity:1; fill:none\" points=\"\n",
       "  565.763,360.121 565.763,354.896 \n",
       "  \"/>\n",
       "<polyline clip-path=\"url(#clip1100)\" style=\"stroke:#000000; stroke-width:1; stroke-opacity:1; fill:none\" points=\"\n",
       "  66.1324,335.259 73.8452,335.259 \n",
       "  \"/>\n",
       "<polyline clip-path=\"url(#clip1100)\" style=\"stroke:#000000; stroke-width:1; stroke-opacity:1; fill:none\" points=\"\n",
       "  66.1324,285.63 73.8452,285.63 \n",
       "  \"/>\n",
       "<polyline clip-path=\"url(#clip1100)\" style=\"stroke:#000000; stroke-width:1; stroke-opacity:1; fill:none\" points=\"\n",
       "  66.1324,236.001 73.8452,236.001 \n",
       "  \"/>\n",
       "<polyline clip-path=\"url(#clip1100)\" style=\"stroke:#000000; stroke-width:1; stroke-opacity:1; fill:none\" points=\"\n",
       "  66.1324,186.371 73.8452,186.371 \n",
       "  \"/>\n",
       "<polyline clip-path=\"url(#clip1100)\" style=\"stroke:#000000; stroke-width:1; stroke-opacity:1; fill:none\" points=\"\n",
       "  66.1324,136.742 73.8452,136.742 \n",
       "  \"/>\n",
       "<polyline clip-path=\"url(#clip1100)\" style=\"stroke:#000000; stroke-width:1; stroke-opacity:1; fill:none\" points=\"\n",
       "  66.1324,87.1123 73.8452,87.1123 \n",
       "  \"/>\n",
       "<polyline clip-path=\"url(#clip1100)\" style=\"stroke:#000000; stroke-width:1; stroke-opacity:1; fill:none\" points=\"\n",
       "  66.1324,37.483 73.8452,37.483 \n",
       "  \"/>\n",
       "<g clip-path=\"url(#clip1100)\">\n",
       "<text style=\"fill:#000000; fill-opacity:1; font-family:Arial,Helvetica Neue,Helvetica,sans-serif; font-size:12; text-anchor:middle;\" transform=\"rotate(0, 182.806, 373.921)\" x=\"182.806\" y=\"373.921\">5</text>\n",
       "</g>\n",
       "<g clip-path=\"url(#clip1100)\">\n",
       "<text style=\"fill:#000000; fill-opacity:1; font-family:Arial,Helvetica Neue,Helvetica,sans-serif; font-size:12; text-anchor:middle;\" transform=\"rotate(0, 310.458, 373.921)\" x=\"310.458\" y=\"373.921\">10</text>\n",
       "</g>\n",
       "<g clip-path=\"url(#clip1100)\">\n",
       "<text style=\"fill:#000000; fill-opacity:1; font-family:Arial,Helvetica Neue,Helvetica,sans-serif; font-size:12; text-anchor:middle;\" transform=\"rotate(0, 438.111, 373.921)\" x=\"438.111\" y=\"373.921\">15</text>\n",
       "</g>\n",
       "<g clip-path=\"url(#clip1100)\">\n",
       "<text style=\"fill:#000000; fill-opacity:1; font-family:Arial,Helvetica Neue,Helvetica,sans-serif; font-size:12; text-anchor:middle;\" transform=\"rotate(0, 565.763, 373.921)\" x=\"565.763\" y=\"373.921\">20</text>\n",
       "</g>\n",
       "<g clip-path=\"url(#clip1100)\">\n",
       "<text style=\"fill:#000000; fill-opacity:1; font-family:Arial,Helvetica Neue,Helvetica,sans-serif; font-size:12; text-anchor:end;\" transform=\"rotate(0, 60.1324, 339.759)\" x=\"60.1324\" y=\"339.759\">1060</text>\n",
       "</g>\n",
       "<g clip-path=\"url(#clip1100)\">\n",
       "<text style=\"fill:#000000; fill-opacity:1; font-family:Arial,Helvetica Neue,Helvetica,sans-serif; font-size:12; text-anchor:end;\" transform=\"rotate(0, 60.1324, 290.13)\" x=\"60.1324\" y=\"290.13\">1080</text>\n",
       "</g>\n",
       "<g clip-path=\"url(#clip1100)\">\n",
       "<text style=\"fill:#000000; fill-opacity:1; font-family:Arial,Helvetica Neue,Helvetica,sans-serif; font-size:12; text-anchor:end;\" transform=\"rotate(0, 60.1324, 240.501)\" x=\"60.1324\" y=\"240.501\">1100</text>\n",
       "</g>\n",
       "<g clip-path=\"url(#clip1100)\">\n",
       "<text style=\"fill:#000000; fill-opacity:1; font-family:Arial,Helvetica Neue,Helvetica,sans-serif; font-size:12; text-anchor:end;\" transform=\"rotate(0, 60.1324, 190.871)\" x=\"60.1324\" y=\"190.871\">1120</text>\n",
       "</g>\n",
       "<g clip-path=\"url(#clip1100)\">\n",
       "<text style=\"fill:#000000; fill-opacity:1; font-family:Arial,Helvetica Neue,Helvetica,sans-serif; font-size:12; text-anchor:end;\" transform=\"rotate(0, 60.1324, 141.242)\" x=\"60.1324\" y=\"141.242\">1140</text>\n",
       "</g>\n",
       "<g clip-path=\"url(#clip1100)\">\n",
       "<text style=\"fill:#000000; fill-opacity:1; font-family:Arial,Helvetica Neue,Helvetica,sans-serif; font-size:12; text-anchor:end;\" transform=\"rotate(0, 60.1324, 91.6123)\" x=\"60.1324\" y=\"91.6123\">1160</text>\n",
       "</g>\n",
       "<g clip-path=\"url(#clip1100)\">\n",
       "<text style=\"fill:#000000; fill-opacity:1; font-family:Arial,Helvetica Neue,Helvetica,sans-serif; font-size:12; text-anchor:end;\" transform=\"rotate(0, 60.1324, 41.983)\" x=\"60.1324\" y=\"41.983\">1180</text>\n",
       "</g>\n",
       "<g clip-path=\"url(#clip1100)\">\n",
       "<text style=\"fill:#000000; fill-opacity:1; font-family:Arial,Helvetica Neue,Helvetica,sans-serif; font-size:16; text-anchor:middle;\" transform=\"rotate(0, 323.224, 397.6)\" x=\"323.224\" y=\"397.6\">Model Sizes (k)</text>\n",
       "</g>\n",
       "<g clip-path=\"url(#clip1100)\">\n",
       "<text style=\"fill:#000000; fill-opacity:1; font-family:Arial,Helvetica Neue,Helvetica,sans-serif; font-size:16; text-anchor:middle;\" transform=\"rotate(-90, 14.4, 185.966)\" x=\"14.4\" y=\"185.966\">Residual Sum of Squares</text>\n",
       "</g>\n",
       "<polyline clip-path=\"url(#clip1102)\" style=\"stroke:#009af9; stroke-width:1; stroke-opacity:1; fill:none\" points=\"\n",
       "  80.6848,21.6688 106.215,82.2707 131.746,102.286 157.276,120.682 182.806,141.792 208.337,158.286 233.867,174.847 259.398,189.636 284.928,208.552 310.458,226.993 \n",
       "  335.989,235.126 361.519,247.039 387.05,263.931 412.58,275.445 438.111,292.203 463.641,307.224 489.171,309.31 514.702,320.511 540.232,335.409 565.763,350.263 \n",
       "  \n",
       "  \"/>\n",
       "<polyline clip-path=\"url(#clip1102)\" style=\"stroke:#e26f46; stroke-width:1; stroke-opacity:1; fill:none\" points=\"\n",
       "  106.215,35191.1 106.215,-34819.2 \n",
       "  \"/>\n",
       "<polygon clip-path=\"url(#clip1100)\" points=\"\n",
       "366.554,78.051 562.315,78.051 562.315,32.691 366.554,32.691 \n",
       "  \" fill=\"#ffffff\" fill-opacity=\"1\"/>\n",
       "<polyline clip-path=\"url(#clip1100)\" style=\"stroke:#000000; stroke-width:1; stroke-opacity:1; fill:none\" points=\"\n",
       "  366.554,78.051 562.315,78.051 562.315,32.691 366.554,32.691 366.554,78.051 \n",
       "  \"/>\n",
       "<polyline clip-path=\"url(#clip1100)\" style=\"stroke:#009af9; stroke-width:1; stroke-opacity:1; fill:none\" points=\"\n",
       "  372.554,47.811 408.554,47.811 \n",
       "  \"/>\n",
       "<g clip-path=\"url(#clip1100)\">\n",
       "<text style=\"fill:#000000; fill-opacity:1; font-family:Arial,Helvetica Neue,Helvetica,sans-serif; font-size:12; text-anchor:start;\" transform=\"rotate(0, 414.554, 52.311)\" x=\"414.554\" y=\"52.311\">Residuals for each model</text>\n",
       "</g>\n",
       "<polyline clip-path=\"url(#clip1100)\" style=\"stroke:#e26f46; stroke-width:1; stroke-opacity:1; fill:none\" points=\"\n",
       "  372.554,62.931 408.554,62.931 \n",
       "  \"/>\n",
       "<g clip-path=\"url(#clip1100)\">\n",
       "<text style=\"fill:#000000; fill-opacity:1; font-family:Arial,Helvetica Neue,Helvetica,sans-serif; font-size:12; text-anchor:start;\" transform=\"rotate(0, 414.554, 67.431)\" x=\"414.554\" y=\"67.431\">True model size</text>\n",
       "</g>\n",
       "</svg>\n"
      ]
     },
     "execution_count": 11,
     "metadata": {},
     "output_type": "execute_result"
    }
   ],
   "source": [
    "using Plots\n",
    "x = collect(1:20) # model sizes\n",
    "plot(x, model_errors,    \n",
    "   yaxis=\"Residual Sum of Squares\", \n",
    "   xaxis = \"Model Sizes (k)\", label = \"Residuals for each model\")\n",
    "vline!([2], label = \"True model size\") # add line indicating the true model size"
   ]
  },
  {
   "cell_type": "markdown",
   "metadata": {},
   "source": [
    "# Example 4: Cross Validation to Find Best Model Size\n",
    "\n",
    "As the previous example shows, different choice of sparsity parameter $k$ can give you a model with smaller error. Therefore, finding a model size that simultaneously minimizes error and overfitting is paramount in applying IHT to real world datasets. In this example, we show how to run $q-$fold cross validation to achieve this."
   ]
  },
  {
   "cell_type": "code",
   "execution_count": null,
   "metadata": {
    "collapsed": true
   },
   "outputs": [],
   "source": []
  }
 ],
 "metadata": {
  "kernelspec": {
   "display_name": "Julia 0.6.0",
   "language": "julia",
   "name": "julia-0.6"
  },
  "language_info": {
   "file_extension": ".jl",
   "mimetype": "application/julia",
   "name": "julia",
   "version": "0.6.0"
  }
 },
 "nbformat": 4,
 "nbformat_minor": 2
}
