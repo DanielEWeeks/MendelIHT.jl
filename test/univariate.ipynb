{
 "cells": [
  {
   "cell_type": "code",
   "execution_count": 1,
   "metadata": {
    "collapsed": false
   },
   "outputs": [
    {
     "name": "stderr",
     "output_type": "stream",
     "text": [
      "┌ Info: Precompiling MendelIHT [921c7187-1484-5754-b919-5d3ed9ac03c4]\n",
      "└ @ Base loading.jl:1317\n"
     ]
    }
   ],
   "source": [
    "using Revise\n",
    "using MendelIHT\n",
    "using SnpArrays\n",
    "using Random\n",
    "using GLM\n",
    "using DelimitedFiles\n",
    "using Test\n",
    "using Distributions\n",
    "using LinearAlgebra\n",
    "using CSV\n",
    "using DataFrames\n",
    "using StatsBase\n",
    "BLAS.set_num_threads(1) # remember to set BLAS threads to 1 !!!\n",
    "#     using TraitSimulation, OrdinalMultinomialModels, VarianceComponentModels"
   ]
  },
  {
   "cell_type": "markdown",
   "metadata": {},
   "source": [
    "# Univariate Gaussian trait"
   ]
  },
  {
   "cell_type": "code",
   "execution_count": 2,
   "metadata": {
    "collapsed": false
   },
   "outputs": [],
   "source": [
    "n = 1000  # number of samples\n",
    "p = 10000 # number of SNPs\n",
    "k = 10    # number of causal SNPs per trait\n",
    "d = Normal\n",
    "l = canonicallink(d())\n",
    "\n",
    "# set random seed for reproducibility\n",
    "Random.seed!(2021)\n",
    "\n",
    "# simulate `.bed` file with no missing data\n",
    "x = simulate_random_snparray(undef, n, p)\n",
    "xla = SnpLinAlg{Float64}(x, model=ADDITIVE_MODEL, center=true, scale=true) \n",
    "\n",
    "# intercept is the only nongenetic covariate\n",
    "z = ones(n)\n",
    "intercept = 1.0\n",
    "\n",
    "# simulate response y, true model b, and the correct non-0 positions of b\n",
    "y, true_b, correct_position = simulate_random_response(xla, k, d, l, Zu=z*intercept);"
   ]
  },
  {
   "cell_type": "markdown",
   "metadata": {},
   "source": [
    "## Run IHT"
   ]
  },
  {
   "cell_type": "code",
   "execution_count": 21,
   "metadata": {
    "collapsed": false,
    "scrolled": false
   },
   "outputs": [
    {
     "name": "stdout",
     "output_type": "stream",
     "text": [
      "****                   MendelIHT Version 1.4.1                  ****\n",
      "****     Benjamin Chu, Kevin Keys, Chris German, Hua Zhou       ****\n",
      "****   Jin Zhou, Eric Sobel, Janet Sinsheimer, Kenneth Lange    ****\n",
      "****                                                            ****\n",
      "****                 Please cite our paper!                     ****\n",
      "****         https://doi.org/10.1093/gigascience/giaa044        ****\n",
      "\n",
      "Initializing β to univariate regression values...\n",
      "...completed in 0.1 seconds.\n",
      "\n",
      "Running sparse linear regression\n",
      "Number of threads = 1\n",
      "Link functin = IdentityLink()\n",
      "Sparsity parameter (k) = 10\n",
      "Prior weight scaling = off\n",
      "Doubly sparse projection = off\n",
      "Debias = off\n",
      "Max IHT iterations = 200\n",
      "Converging when tol < 0.0001 and iteration ≥ 5:\n",
      "\n",
      "Iteration 1: loglikelihood = -2486.6803542089983, backtracks = 0, tol = 0.5168146007666207\n",
      "Iteration 2: loglikelihood = -1576.084706218103, backtracks = 0, tol = 0.3348001846027596\n",
      "Iteration 3: loglikelihood = -1482.661472264235, backtracks = 0, tol = 0.12659393834337299\n",
      "Iteration 4: loglikelihood = -1474.102834009593, backtracks = 0, tol = 0.05395777111917327\n",
      "Iteration 5: loglikelihood = -1472.6103945500831, backtracks = 0, tol = 0.05424817330897465\n",
      "Iteration 6: loglikelihood = -1472.3921697946553, backtracks = 0, tol = 0.004846687028422366\n",
      "Iteration 7: loglikelihood = -1472.3905862479874, backtracks = 0, tol = 0.00043152364883453044\n",
      "Iteration 8: loglikelihood = -1472.3905616484403, backtracks = 0, tol = 6.162053430185662e-5\n",
      "  0.135606 seconds (212.21 k allocations: 82.139 MiB)\n"
     ]
    },
    {
     "data": {
      "text/plain": [
       "\n",
       "IHT estimated 10 nonzero SNP predictors and 1 non-genetic predictors.\n",
       "\n",
       "Compute time (sec):     0.03817605972290039\n",
       "Final loglikelihood:    -1472.3905616484403\n",
       "SNP PVE:                0.8426997403655612\n",
       "Iterations:             8\n",
       "\n",
       "Selected genetic predictors:\n",
       "\u001b[1m10×2 DataFrame\u001b[0m\n",
       "\u001b[1m Row \u001b[0m│\u001b[1m Position \u001b[0m\u001b[1m Estimated_β \u001b[0m\n",
       "\u001b[1m     \u001b[0m│\u001b[90m Int64    \u001b[0m\u001b[90m Float64     \u001b[0m\n",
       "─────┼───────────────────────\n",
       "   1 │      782    -0.437816\n",
       "   2 │      901     0.747927\n",
       "   3 │     1204     0.691428\n",
       "   4 │     1306    -1.425\n",
       "   5 │     1655    -0.194702\n",
       "   6 │     3160    -0.86171\n",
       "   7 │     3936    -0.147419\n",
       "   8 │     4201     0.338541\n",
       "   9 │     4402    -0.126501\n",
       "  10 │     6879    -1.21893\n",
       "\n",
       "Selected nongenetic predictors:\n",
       "\u001b[1m1×2 DataFrame\u001b[0m\n",
       "\u001b[1m Row \u001b[0m│\u001b[1m Position \u001b[0m\u001b[1m Estimated_β \u001b[0m\n",
       "\u001b[1m     \u001b[0m│\u001b[90m Int64    \u001b[0m\u001b[90m Float64     \u001b[0m\n",
       "─────┼───────────────────────\n",
       "   1 │        1      1.02016"
      ]
     },
     "execution_count": 21,
     "metadata": {},
     "output_type": "execute_result"
    }
   ],
   "source": [
    "@time result = fit_iht(y, xla, z, k=10, init_beta=true)"
   ]
  },
  {
   "cell_type": "markdown",
   "metadata": {},
   "source": [
    "## Check answer"
   ]
  },
  {
   "cell_type": "code",
   "execution_count": 9,
   "metadata": {
    "collapsed": false
   },
   "outputs": [
    {
     "data": {
      "text/plain": [
       "10×2 Matrix{Float64}:\n",
       " -0.402269   -0.437816\n",
       "  0.758756    0.747927\n",
       "  0.729135    0.691428\n",
       " -1.47163    -1.425\n",
       " -0.172668   -0.194702\n",
       " -0.847906   -0.86171\n",
       "  0.296183    0.338541\n",
       " -0.0034339   0.0\n",
       "  0.125965    0.0\n",
       " -1.24972    -1.21893"
      ]
     },
     "execution_count": 9,
     "metadata": {},
     "output_type": "execute_result"
    }
   ],
   "source": [
    "[true_b[correct_position] result.beta[correct_position]]"
   ]
  },
  {
   "cell_type": "code",
   "execution_count": 10,
   "metadata": {
    "collapsed": false
   },
   "outputs": [
    {
     "data": {
      "text/plain": [
       "1×2 Matrix{Float64}:\n",
       " 1.02016  1.0"
      ]
     },
     "execution_count": 10,
     "metadata": {},
     "output_type": "execute_result"
    }
   ],
   "source": [
    "# non genetic covariates\n",
    "[result.c intercept]"
   ]
  },
  {
   "cell_type": "markdown",
   "metadata": {},
   "source": [
    "## Test Cross validation"
   ]
  },
  {
   "cell_type": "code",
   "execution_count": 6,
   "metadata": {
    "collapsed": false
   },
   "outputs": [
    {
     "data": {
      "text/plain": [
       "1"
      ]
     },
     "execution_count": 6,
     "metadata": {},
     "output_type": "execute_result"
    }
   ],
   "source": [
    "Threads.nthreads()"
   ]
  },
  {
   "cell_type": "code",
   "execution_count": 19,
   "metadata": {
    "collapsed": false
   },
   "outputs": [
    {
     "name": "stdout",
     "output_type": "stream",
     "text": [
      "****                   MendelIHT Version 1.4.1                  ****\n",
      "****     Benjamin Chu, Kevin Keys, Chris German, Hua Zhou       ****\n",
      "****   Jin Zhou, Eric Sobel, Janet Sinsheimer, Kenneth Lange    ****\n",
      "****                                                            ****\n",
      "****                 Please cite our paper!                     ****\n",
      "****         https://doi.org/10.1093/gigascience/giaa044        ****\n",
      "\n"
     ]
    },
    {
     "name": "stderr",
     "output_type": "stream",
     "text": [
      "\u001b[32mCross validating...100%|████████████████████████████████| Time: 0:00:13\u001b[39m\n"
     ]
    },
    {
     "name": "stdout",
     "output_type": "stream",
     "text": [
      "\n",
      "\n",
      "Crossvalidation Results:\n",
      "\tk\tMSE\n",
      "\t0\t1097.9822679456634\n",
      "\t1\t639.948435659851\n",
      "\t2\t639.948435659851\n",
      "\t3\t491.31091160253413\n",
      "\t4\t414.7982590934014\n",
      "\t5\t307.63048180391786\n",
      "\t6\t266.95374125278414\n",
      "\t7\t242.0572267640577\n",
      "\t8\t236.23211459381542\n",
      "\t9\t243.58873069893227\n",
      "\t10\t245.6937243742038\n",
      "\t11\t246.44391892259432\n",
      "\t12\t254.05026743790478\n",
      "\t13\t256.2080803045909\n",
      "\t14\t260.3857536819678\n",
      "\t15\t260.5867303978344\n",
      "\t16\t270.1163325764251\n",
      "\t17\t275.10575084293146\n",
      "\t18\t276.73604590979255\n",
      "\t19\t280.43703442081045\n",
      "\t20\t272.60846960582063\n",
      "\n",
      "Best k = 8\n",
      "\n",
      " 14.263994 seconds (30.21 M allocations: 7.031 GiB, 5.04% gc time)\n"
     ]
    }
   ],
   "source": [
    "Random.seed!(2020)\n",
    "@time mses = cv_iht(y, xla, z, path=0:20, init_beta=true);"
   ]
  },
  {
   "cell_type": "code",
   "execution_count": null,
   "metadata": {
    "collapsed": true
   },
   "outputs": [],
   "source": []
  }
 ],
 "metadata": {
  "@webio": {
   "lastCommId": null,
   "lastKernelId": null
  },
  "kernelspec": {
   "display_name": "Julia 1.6.0",
   "language": "julia",
   "name": "julia-1.6"
  },
  "language_info": {
   "file_extension": ".jl",
   "mimetype": "application/julia",
   "name": "julia",
   "version": "1.6.0"
  }
 },
 "nbformat": 4,
 "nbformat_minor": 2
}
