{
 "cells": [
  {
   "cell_type": "code",
   "execution_count": 1,
   "metadata": {
    "collapsed": false
   },
   "outputs": [
    {
     "name": "stderr",
     "output_type": "stream",
     "text": [
      "┌ Info: Precompiling MendelIHT [921c7187-1484-5754-b919-5d3ed9ac03c4]\n",
      "└ @ Base loading.jl:1278\n"
     ]
    }
   ],
   "source": [
    "using Distributed\n",
    "addprocs(4)\n",
    "\n",
    "@everywhere begin\n",
    "    using Revise\n",
    "    using MendelIHT\n",
    "    using SnpArrays\n",
    "    using Random\n",
    "    using GLM\n",
    "    using DelimitedFiles\n",
    "    using Test\n",
    "    using Distributions\n",
    "    using LinearAlgebra\n",
    "    using CSV\n",
    "    using DataFrames\n",
    "    using StatsBase\n",
    "    BLAS.set_num_threads(1) # remember to set BLAS threads to 1 !!!\n",
    "#     using TraitSimulation, OrdinalMultinomialModels, VarianceComponentModels\n",
    "end"
   ]
  },
  {
   "cell_type": "markdown",
   "metadata": {},
   "source": [
    "# Univariate Gaussian trait"
   ]
  },
  {
   "cell_type": "code",
   "execution_count": 3,
   "metadata": {
    "collapsed": false
   },
   "outputs": [],
   "source": [
    "n = 1000  # number of samples\n",
    "p = 10000 # number of SNPs\n",
    "k = 10    # number of causal SNPs per trait\n",
    "d = Normal\n",
    "l = canonicallink(d())\n",
    "\n",
    "# set random seed for reproducibility\n",
    "Random.seed!(2021)\n",
    "\n",
    "# simulate `.bed` file with no missing data\n",
    "x = simulate_random_snparray(undef, n, p)\n",
    "xla = SnpLinAlg{Float64}(x, model=ADDITIVE_MODEL, center=true, scale=true) \n",
    "\n",
    "# intercept is the only nongenetic covariate\n",
    "z = ones(n)\n",
    "intercept = 1.0\n",
    "\n",
    "# simulate response y, true model b, and the correct non-0 positions of b\n",
    "y, true_b, correct_position = simulate_random_response(xla, k, d, l, Zu=z*intercept);"
   ]
  },
  {
   "cell_type": "markdown",
   "metadata": {},
   "source": [
    "## Run IHT"
   ]
  },
  {
   "cell_type": "code",
   "execution_count": 9,
   "metadata": {
    "collapsed": false,
    "scrolled": false
   },
   "outputs": [
    {
     "name": "stdout",
     "output_type": "stream",
     "text": [
      "****                   MendelIHT Version 1.4.0                  ****\n",
      "****     Benjamin Chu, Kevin Keys, Chris German, Hua Zhou       ****\n",
      "****   Jin Zhou, Eric Sobel, Janet Sinsheimer, Kenneth Lange    ****\n",
      "****                                                            ****\n",
      "****                 Please cite our paper!                     ****\n",
      "****         https://doi.org/10.1093/gigascience/giaa044        ****\n",
      "\n",
      "Running sparse linear regression\n",
      "Link functin = IdentityLink()\n",
      "Sparsity parameter (k) = 11\n",
      "Prior weight scaling = off\n",
      "Doubly sparse projection = off\n",
      "Debias = off\n",
      "Max IHT iterations = 200\n",
      "Converging when tol < 0.0001:\n",
      "\n",
      "Iteration 1: loglikelihood = -1577.1707947596879, backtracks = 0, tol = 0.6098646752831619\n",
      "Iteration 2: loglikelihood = -1484.856813620618, backtracks = 0, tol = 0.1269955771967064\n",
      "Iteration 3: loglikelihood = -1472.9529635904933, backtracks = 0, tol = 0.05823372413927715\n",
      "Iteration 4: loglikelihood = -1472.5366421393844, backtracks = 1, tol = 0.004508958581388824\n",
      "Iteration 5: loglikelihood = -1472.4280269450728, backtracks = 1, tol = 0.0023477261313534165\n",
      "Iteration 6: loglikelihood = -1472.4000760087492, backtracks = 1, tol = 0.001186942797520523\n",
      "Iteration 7: loglikelihood = -1472.3929618828483, backtracks = 1, tol = 0.00058854690910047\n",
      "Iteration 8: loglikelihood = -1472.391164492576, backtracks = 1, tol = 0.0003036712554525334\n",
      "Iteration 9: loglikelihood = -1472.3907123942718, backtracks = 1, tol = 0.0001547292323445728\n",
      "Iteration 10: loglikelihood = -1472.3905989669602, backtracks = 1, tol = 7.825885379714214e-5\n",
      "  0.128489 seconds (271.07 k allocations: 6.340 MiB)\n"
     ]
    },
    {
     "data": {
      "text/plain": [
       "\n",
       "IHT estimated 10 nonzero SNP predictors and 1 non-genetic predictors.\n",
       "\n",
       "Compute time (sec):     0.1159050464630127\n",
       "Final loglikelihood:    -1472.3907123942718\n",
       "SNP PVE:                0.8426548660312022\n",
       "Iterations:             10\n",
       "\n",
       "Selected genetic predictors:\n",
       "\u001b[1m10×2 DataFrame\u001b[0m\n",
       "\u001b[1m Row \u001b[0m│\u001b[1m Position \u001b[0m\u001b[1m Estimated_β \u001b[0m\n",
       "\u001b[1m     \u001b[0m│\u001b[90m Int64    \u001b[0m\u001b[90m Float64     \u001b[0m\n",
       "─────┼───────────────────────\n",
       "   1 │      782    -0.437833\n",
       "   2 │      901     0.74798\n",
       "   3 │     1204     0.691217\n",
       "   4 │     1306    -1.42511\n",
       "   5 │     1655    -0.194394\n",
       "   6 │     3160    -0.861465\n",
       "   7 │     3936    -0.147045\n",
       "   8 │     4201     0.338675\n",
       "   9 │     4402    -0.126433\n",
       "  10 │     6879    -1.21895\n",
       "\n",
       "Selected nongenetic predictors:\n",
       "\u001b[1m1×2 DataFrame\u001b[0m\n",
       "\u001b[1m Row \u001b[0m│\u001b[1m Position \u001b[0m\u001b[1m Estimated_β \u001b[0m\n",
       "\u001b[1m     \u001b[0m│\u001b[90m Int64    \u001b[0m\u001b[90m Float64     \u001b[0m\n",
       "─────┼───────────────────────\n",
       "   1 │        1      1.02016"
      ]
     },
     "execution_count": 9,
     "metadata": {},
     "output_type": "execute_result"
    }
   ],
   "source": [
    "@time result = fit_iht(y, xla, z, k=11)"
   ]
  },
  {
   "cell_type": "markdown",
   "metadata": {},
   "source": [
    "## Check answer"
   ]
  },
  {
   "cell_type": "code",
   "execution_count": 10,
   "metadata": {
    "collapsed": false
   },
   "outputs": [
    {
     "data": {
      "text/plain": [
       "10×2 Array{Float64,2}:\n",
       " -0.402269   -0.437833\n",
       "  0.758756    0.74798\n",
       "  0.729135    0.691217\n",
       " -1.47163    -1.42511\n",
       " -0.172668   -0.194394\n",
       " -0.847906   -0.861465\n",
       "  0.296183    0.338675\n",
       " -0.0034339   0.0\n",
       "  0.125965    0.0\n",
       " -1.24972    -1.21895"
      ]
     },
     "execution_count": 10,
     "metadata": {},
     "output_type": "execute_result"
    }
   ],
   "source": [
    "[true_b[correct_position] result.beta[correct_position]]"
   ]
  },
  {
   "cell_type": "code",
   "execution_count": 11,
   "metadata": {
    "collapsed": false
   },
   "outputs": [
    {
     "data": {
      "text/plain": [
       "1×2 Array{Float64,2}:\n",
       " 1.02016  1.0"
      ]
     },
     "execution_count": 11,
     "metadata": {},
     "output_type": "execute_result"
    }
   ],
   "source": [
    "# non genetic covariates\n",
    "[result.c intercept]"
   ]
  },
  {
   "cell_type": "markdown",
   "metadata": {},
   "source": [
    "## Test Cross validation"
   ]
  },
  {
   "cell_type": "code",
   "execution_count": 14,
   "metadata": {
    "collapsed": false
   },
   "outputs": [
    {
     "name": "stderr",
     "output_type": "stream",
     "text": [
      "\u001b[32mCross validating...100%|████████████████████████████████| Time: 0:00:05\u001b[39m\n"
     ]
    },
    {
     "name": "stdout",
     "output_type": "stream",
     "text": [
      "\n",
      "\n",
      "Crossvalidation Results:\n",
      "\tk\tMSE\n",
      "\t1\t1218.4976589426035\n",
      "\t2\t842.5598738789062\n",
      "\t3\t634.0396881925165\n",
      "\t4\t487.58571842217555\n",
      "\t5\t391.3888892988487\n",
      "\t6\t305.3137200757752\n",
      "\t7\t267.91129790103656\n",
      "\t8\t243.05905296570523\n",
      "\t9\t243.47674074722744\n",
      "\t10\t245.6469865967401\n",
      "\t11\t250.6216744074316\n",
      "\t12\t253.98118656214808\n",
      "\t13\t254.78915817386076\n",
      "\t14\t255.89349140083132\n",
      "\t15\t263.59632300410664\n",
      "\t16\t269.0451615858919\n",
      "\t17\t271.040578488372\n",
      "\t18\t274.4169982210701\n",
      "\t19\t279.30823157249597\n",
      "\t20\t284.55829823829794\n",
      "\n",
      "Best k = 8\n",
      "\n",
      "  5.162944 seconds (32.17 k allocations: 6.922 MiB)\n"
     ]
    }
   ],
   "source": [
    "Random.seed!(2020)\n",
    "@time mses = cv_iht(y, xla, z);"
   ]
  },
  {
   "cell_type": "code",
   "execution_count": null,
   "metadata": {
    "collapsed": true
   },
   "outputs": [],
   "source": []
  }
 ],
 "metadata": {
  "@webio": {
   "lastCommId": null,
   "lastKernelId": null
  },
  "kernelspec": {
   "display_name": "Julia 1.5.0",
   "language": "julia",
   "name": "julia-1.5"
  },
  "language_info": {
   "file_extension": ".jl",
   "mimetype": "application/julia",
   "name": "julia",
   "version": "1.5.0"
  }
 },
 "nbformat": 4,
 "nbformat_minor": 2
}
