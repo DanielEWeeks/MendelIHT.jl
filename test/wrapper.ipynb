{
 "cells": [
  {
   "cell_type": "code",
   "execution_count": 1,
   "metadata": {
    "collapsed": false
   },
   "outputs": [
    {
     "name": "stderr",
     "output_type": "stream",
     "text": [
      "┌ Info: Precompiling MendelIHT [921c7187-1484-5754-b919-5d3ed9ac03c4]\n",
      "└ @ Base loading.jl:1278\n"
     ]
    }
   ],
   "source": [
    "using Distributed\n",
    "addprocs(4)\n",
    "\n",
    "@everywhere begin\n",
    "    using Revise\n",
    "    using MendelIHT\n",
    "    using SnpArrays\n",
    "    using Random\n",
    "    using GLM\n",
    "    using DelimitedFiles\n",
    "    using Test\n",
    "    using Distributions\n",
    "    using LinearAlgebra\n",
    "    using CSV\n",
    "    using DataFrames\n",
    "    using StatsBase\n",
    "    BLAS.set_num_threads(1) # remember to set BLAS threads to 1 !!!\n",
    "end"
   ]
  },
  {
   "cell_type": "markdown",
   "metadata": {},
   "source": [
    "# Univariate IHT"
   ]
  },
  {
   "cell_type": "code",
   "execution_count": 72,
   "metadata": {
    "collapsed": false
   },
   "outputs": [],
   "source": [
    "n = 1000  # number of samples\n",
    "p = 10000 # number of SNPs\n",
    "k = 10    # number of causal SNPs per trait\n",
    "d = Normal\n",
    "l = canonicallink(d())\n",
    "# l = LogLink()\n",
    "\n",
    "# set random seed for reproducibility\n",
    "Random.seed!(2021)\n",
    "\n",
    "# simulate `.bed` file with no missing data\n",
    "x = simulate_random_snparray(\"univariate.bed\", n, p)\n",
    "xla = SnpLinAlg{Float64}(x, model=ADDITIVE_MODEL, center=true, scale=true) \n",
    "\n",
    "# intercept is the only nongenetic covariate\n",
    "z = ones(n)\n",
    "intercept = 1.0\n",
    "\n",
    "# simulate response y, true model b, and the correct non-0 positions of b\n",
    "y, true_b, correct_position = simulate_random_response(xla, k, d, l, Zu=z*intercept);"
   ]
  },
  {
   "cell_type": "code",
   "execution_count": 73,
   "metadata": {
    "collapsed": false
   },
   "outputs": [],
   "source": [
    "# create covariate files\n",
    "writedlm(\"covariates.txt\", z)\n",
    "\n",
    "# create `.bim` and `.bam` files using phenotype\n",
    "make_bim_fam_files(x, y, \"univariate\")\n",
    "\n",
    "# save phenotypes in separate file\n",
    "writedlm(\"univariate.phen\", y, ',')"
   ]
  },
  {
   "cell_type": "markdown",
   "metadata": {},
   "source": [
    "## Run IHT"
   ]
  },
  {
   "cell_type": "code",
   "execution_count": 74,
   "metadata": {
    "collapsed": false,
    "scrolled": true
   },
   "outputs": [
    {
     "name": "stdout",
     "output_type": "stream",
     "text": [
      "result = \n",
      "IHT estimated 10 nonzero SNP predictors and 1 non-genetic predictors.\n",
      "\n",
      "Compute time (sec):     0.4673960208892822\n",
      "Final loglikelihood:    -1472.3905989669602\n",
      "SNP PVE:                0.8426823000266495\n",
      "Iterations:             10\n",
      "\n",
      "Selected genetic predictors:\n",
      "10×2 DataFrame\n",
      " Row │ Position  Estimated_β\n",
      "     │ Int64     Float64\n",
      "─────┼───────────────────────\n",
      "   1 │      782    -0.437828\n",
      "   2 │      901     0.747956\n",
      "   3 │     1204     0.691327\n",
      "   4 │     1306    -1.42505\n",
      "   5 │     1655    -0.19456\n",
      "   6 │     3160    -0.861591\n",
      "   7 │     3936    -0.147235\n",
      "   8 │     4201     0.338606\n",
      "   9 │     4402    -0.126472\n",
      "  10 │     6879    -1.21895\n",
      "\n",
      "Selected nongenetic predictors:\n",
      "1×2 DataFrame\n",
      " Row │ Position  Estimated_β\n",
      "     │ Int64     Float64\n",
      "─────┼───────────────────────\n",
      "   1 │        1      1.02016\n",
      "result = \n",
      "IHT estimated 10 nonzero SNP predictors and 1 non-genetic predictors.\n",
      "\n",
      "Compute time (sec):     0.4794940948486328\n",
      "Final loglikelihood:    -1472.3905989669602\n",
      "SNP PVE:                0.8426823000266495\n",
      "Iterations:             10\n",
      "\n",
      "Selected genetic predictors:\n",
      "10×2 DataFrame\n",
      " Row │ Position  Estimated_β\n",
      "     │ Int64     Float64\n",
      "─────┼───────────────────────\n",
      "   1 │      782    -0.437828\n",
      "   2 │      901     0.747956\n",
      "   3 │     1204     0.691327\n",
      "   4 │     1306    -1.42505\n",
      "   5 │     1655    -0.19456\n",
      "   6 │     3160    -0.861591\n",
      "   7 │     3936    -0.147235\n",
      "   8 │     4201     0.338606\n",
      "   9 │     4402    -0.126472\n",
      "  10 │     6879    -1.21895\n",
      "\n",
      "Selected nongenetic predictors:\n",
      "1×2 DataFrame\n",
      " Row │ Position  Estimated_β\n",
      "     │ Int64     Float64\n",
      "─────┼───────────────────────\n",
      "   1 │        1      1.02016\n",
      "result = \n",
      "IHT estimated 10 nonzero SNP predictors and 1 non-genetic predictors.\n",
      "\n",
      "Compute time (sec):     0.5101368427276611\n",
      "Final loglikelihood:    -1472.3905989669602\n",
      "SNP PVE:                0.8426823000266495\n",
      "Iterations:             10\n",
      "\n",
      "Selected genetic predictors:\n",
      "10×2 DataFrame\n",
      " Row │ Position  Estimated_β\n",
      "     │ Int64     Float64\n",
      "─────┼───────────────────────\n",
      "   1 │      782    -0.437828\n",
      "   2 │      901     0.747956\n",
      "   3 │     1204     0.691327\n",
      "   4 │     1306    -1.42505\n",
      "   5 │     1655    -0.19456\n",
      "   6 │     3160    -0.861591\n",
      "   7 │     3936    -0.147235\n",
      "   8 │     4201     0.338606\n",
      "   9 │     4402    -0.126472\n",
      "  10 │     6879    -1.21895\n",
      "\n",
      "Selected nongenetic predictors:\n",
      "1×2 DataFrame\n",
      " Row │ Position  Estimated_β\n",
      "     │ Int64     Float64\n",
      "─────┼───────────────────────\n",
      "   1 │        1      1.02016\n"
     ]
    }
   ],
   "source": [
    "result1 = iht(\"univariate\", 11, d, verbose=false)\n",
    "result2 = iht(\"univariate\", 11, d, covariates=\"covariates.txt\", verbose=false)\n",
    "result3 = iht(\"univariate\", 11, d, covariates=\"covariates.txt\", phenotypes=\"univariate.phen\", verbose=false);"
   ]
  },
  {
   "cell_type": "code",
   "execution_count": 39,
   "metadata": {
    "collapsed": false
   },
   "outputs": [
    {
     "data": {
      "text/plain": [
       "10×3 Array{Float64,2}:\n",
       " -0.437828  -0.437828  -0.437828\n",
       "  0.747956   0.747956   0.747956\n",
       "  0.691327   0.691327   0.691327\n",
       " -1.42505   -1.42505   -1.42505\n",
       " -0.19456   -0.19456   -0.19456\n",
       " -0.861591  -0.861591  -0.861591\n",
       "  0.338606   0.338606   0.338606\n",
       "  0.0        0.0        0.0\n",
       "  0.0        0.0        0.0\n",
       " -1.21895   -1.21895   -1.21895"
      ]
     },
     "execution_count": 39,
     "metadata": {},
     "output_type": "execute_result"
    }
   ],
   "source": [
    "[result1.beta[correct_position] result2.beta[correct_position] result3.beta[correct_position]]"
   ]
  },
  {
   "cell_type": "markdown",
   "metadata": {},
   "source": [
    "## Check answer"
   ]
  },
  {
   "cell_type": "code",
   "execution_count": 40,
   "metadata": {
    "collapsed": false
   },
   "outputs": [
    {
     "data": {
      "text/plain": [
       "10×2 Array{Float64,2}:\n",
       " -0.437828  -0.402269\n",
       "  0.747956   0.758756\n",
       "  0.691327   0.729135\n",
       " -1.42505   -1.47163\n",
       " -0.19456   -0.172668\n",
       " -0.861591  -0.847906\n",
       "  0.338606   0.296183\n",
       "  0.0       -0.0034339\n",
       "  0.0        0.125965\n",
       " -1.21895   -1.24972"
      ]
     },
     "execution_count": 40,
     "metadata": {},
     "output_type": "execute_result"
    }
   ],
   "source": [
    "# first beta\n",
    "[result1.beta[correct_position] true_b[correct_position]]"
   ]
  },
  {
   "cell_type": "code",
   "execution_count": 41,
   "metadata": {
    "collapsed": false
   },
   "outputs": [
    {
     "data": {
      "text/plain": [
       "1×2 Array{Float64,2}:\n",
       " 1.02016  1.0"
      ]
     },
     "execution_count": 41,
     "metadata": {},
     "output_type": "execute_result"
    }
   ],
   "source": [
    "# non genetic covariates\n",
    "[result1.c intercept]"
   ]
  },
  {
   "cell_type": "markdown",
   "metadata": {},
   "source": [
    "## Test Cross validation"
   ]
  },
  {
   "cell_type": "code",
   "execution_count": 80,
   "metadata": {
    "collapsed": false
   },
   "outputs": [
    {
     "name": "stderr",
     "output_type": "stream",
     "text": [
      "┌ Warning: Replacing docs for `MendelIHT.cross_validate :: Tuple{AbstractString,UnionAll}` in module `MendelIHT`\n",
      "└ @ Base.Docs docs/Docs.jl:227\n",
      "┌ Warning: Replacing docs for `MendelIHT.cross_validate :: Tuple{AbstractString,UnionAll}` in module `MendelIHT`\n",
      "└ @ Base.Docs docs/Docs.jl:227\n",
      "┌ Warning: Replacing docs for `MendelIHT.cross_validate :: Tuple{AbstractString,UnionAll}` in module `MendelIHT`\n",
      "└ @ Base.Docs docs/Docs.jl:227\n",
      "┌ Warning: Replacing docs for `MendelIHT.cross_validate :: Tuple{AbstractString,UnionAll}` in module `MendelIHT`\n",
      "└ @ Base.Docs docs/Docs.jl:227\n",
      "\u001b[32mCross validating...100%|████████████████████████████████| Time: 0:00:01\u001b[39m\n",
      "\u001b[32mCross validating...100%|████████████████████████████████| Time: 0:00:01\u001b[39m\n",
      "\u001b[32mCross validating...100%|████████████████████████████████| Time: 0:00:01\u001b[39m\n"
     ]
    }
   ],
   "source": [
    "Random.seed!(2020)\n",
    "result1 = cross_validate(\"univariate\", d, verbose=false)\n",
    "Random.seed!(2020)\n",
    "result2 = cross_validate(\"univariate\", d, covariates=\"covariates.txt\", verbose=false)\n",
    "Random.seed!(2020)\n",
    "result3 = cross_validate(\"univariate\", d, covariates=\"covariates.txt\", phenotypes=\"univariate.phen\", verbose=false);"
   ]
  },
  {
   "cell_type": "code",
   "execution_count": 81,
   "metadata": {
    "collapsed": false
   },
   "outputs": [
    {
     "data": {
      "text/plain": [
       "20×3 Array{Float64,2}:\n",
       " 1218.5    1218.5    1218.5\n",
       "  842.556   842.556   842.556\n",
       "  634.041   634.041   634.041\n",
       "  487.584   487.584   487.584\n",
       "  391.393   391.393   391.393\n",
       "  305.317   305.317   305.317\n",
       "  267.913   267.913   267.913\n",
       "  243.057   243.057   243.057\n",
       "  243.476   243.476   243.476\n",
       "  245.647   245.647   245.647\n",
       "  250.631   250.631   250.631\n",
       "  253.988   253.988   253.988\n",
       "  254.795   254.795   254.795\n",
       "  255.896   255.896   255.896\n",
       "  263.607   263.607   263.607\n",
       "  269.066   269.066   269.066\n",
       "  271.058   271.058   271.058\n",
       "  274.433   274.433   274.433\n",
       "  279.33    279.33    279.33\n",
       "  284.583   284.583   284.583"
      ]
     },
     "execution_count": 81,
     "metadata": {},
     "output_type": "execute_result"
    }
   ],
   "source": [
    "[result1 result2 result3]"
   ]
  },
  {
   "cell_type": "code",
   "execution_count": 82,
   "metadata": {
    "collapsed": true
   },
   "outputs": [],
   "source": [
    "rm(\"univariate.bim\", force=true)\n",
    "rm(\"univariate.bed\", force=true)\n",
    "rm(\"univariate.fam\", force=true)\n",
    "rm(\"univariate.phen\", force=true)\n",
    "rm(\"covariates.txt\", force=true)\n",
    "rm(\"cviht.summary.txt\", force=true)\n",
    "rm(\"iht.summary.txt\", force=true)\n",
    "rm(\"iht.beta.txt\", force=true)"
   ]
  },
  {
   "cell_type": "markdown",
   "metadata": {},
   "source": [
    "# Multivariate IHT"
   ]
  },
  {
   "cell_type": "code",
   "execution_count": 83,
   "metadata": {
    "collapsed": false
   },
   "outputs": [
    {
     "data": {
      "text/plain": [
       "simulate_random_beta"
      ]
     },
     "execution_count": 83,
     "metadata": {},
     "output_type": "execute_result"
    }
   ],
   "source": [
    "\"\"\"\n",
    "k = Number of causal SNPs\n",
    "p = Total number of SNPs\n",
    "traits = Number of traits (phenotypes)\n",
    "overlap = number of causal SNPs shared in each trait\n",
    "\"\"\"\n",
    "function simulate_random_beta(k::Int, p::Int, traits::Int; overlap::Int=0)\n",
    "    true_b = zeros(p, traits)\n",
    "    if overlap == 0\n",
    "        causal_snps = sample(1:(traits * p), k, replace=false)\n",
    "        true_b[causal_snps] = randn(k)\n",
    "    else\n",
    "        shared_snps = sample(1:p, overlap, replace=false)\n",
    "        weight_vector = aweights(1 / (traits * (p - overlap)) * ones(traits * p))\n",
    "        for i in 1:traits\n",
    "            weight_vector[i*shared_snps] .= 0.0 # avoid sampling from shared snps\n",
    "        end\n",
    "        @assert sum(weight_vector) ≈ 1.0\n",
    "        # simulate β for shared predictors\n",
    "        for i in 1:traits\n",
    "            true_b[shared_snps, i] = randn(overlap)\n",
    "        end\n",
    "        # simulate β for none shared predictors\n",
    "        nonshared_snps = sample(1:(traits * p), weight_vector, k - traits * overlap, replace=false)\n",
    "        true_b[nonshared_snps] = randn(k - traits * overlap)\n",
    "    end\n",
    "\n",
    "    return true_b\n",
    "end"
   ]
  },
  {
   "cell_type": "code",
   "execution_count": 84,
   "metadata": {
    "collapsed": false
   },
   "outputs": [
    {
     "data": {
      "text/plain": [
       "2×1000 Array{Float64,2}:\n",
       " 6.99773  6.69385  -1.65585  -3.52854   …  -3.11521   -4.13734  -2.32211\n",
       " 4.49129  5.74267   4.72216   0.575205     -0.585688  -4.44368   4.02092"
      ]
     },
     "execution_count": 84,
     "metadata": {},
     "output_type": "execute_result"
    }
   ],
   "source": [
    "n = 1000  # number of samples\n",
    "p = 10000 # number of SNPs\n",
    "k = 10    # number of causal SNPs\n",
    "r = 2     # number of traits\n",
    "d = MvNormal\n",
    "\n",
    "# set random seed for reproducibility\n",
    "Random.seed!(111)\n",
    "\n",
    "# simulate `.bed` file with no missing data\n",
    "x = simulate_random_snparray(\"multivariate_$(r)traits.bed\", n, p)\n",
    "xla = SnpLinAlg{Float64}(x, model=ADDITIVE_MODEL, center=true, scale=true) \n",
    "\n",
    "# intercept is the only nongenetic covariate\n",
    "z = ones(n, 1)\n",
    "intercepts = [0.5 1.0] # each trait have different intercept\n",
    "\n",
    "# simulate β\n",
    "B = simulate_random_beta(k, p, r, overlap=2)\n",
    "\n",
    "# between trait covariance matrix\n",
    "Σ = random_covariance_matrix(r)\n",
    "\n",
    "# between sample covariance is identity + GRM (2 times because in SnpArrays grm is halved)\n",
    "Φ = 2grm(x)\n",
    "σg = 0.6\n",
    "σe = 0.4\n",
    "V = σg * Φ + σe * I\n",
    "\n",
    "# simulate y using TraitSimulations.jl\n",
    "# VCM_model = VCMTrait(z, intercepts, x, B, [Σ], [V]) #https://github.com/OpenMendel/TraitSimulation.jl/blob/6d1f09c7332471a74b4dd6c8ef2d2b95a96c585c/src/modelframework.jl#L159\n",
    "# Y = simulate(VCM_model)\n",
    "\n",
    "# simulate using naive model\n",
    "μ = z * intercepts + xla * B\n",
    "Yt = rand(MatrixNormal(μ', Σ, V))"
   ]
  },
  {
   "cell_type": "code",
   "execution_count": 85,
   "metadata": {
    "collapsed": false
   },
   "outputs": [],
   "source": [
    "# create covariate files (each sample occupies a row)\n",
    "writedlm(\"covariates.txt\", z)\n",
    "\n",
    "# create `.bim` and `.bam` files using phenotype\n",
    "make_bim_fam_files(x, Transpose(Yt), \"multivariate_$(r)traits\")\n",
    "\n",
    "# save phenotypes in separate file (each sample occupies a row)\n",
    "writedlm(\"multivariate_$(r)traits.phen\", Yt', ',')"
   ]
  },
  {
   "cell_type": "markdown",
   "metadata": {},
   "source": [
    "## Run IHT "
   ]
  },
  {
   "cell_type": "code",
   "execution_count": 94,
   "metadata": {
    "collapsed": false
   },
   "outputs": [
    {
     "name": "stdout",
     "output_type": "stream",
     "text": [
      "\n",
      "\n",
      "result = \n",
      "Compute time (sec):     3.1750080585479736\n",
      "Final loglikelihood:    3357.84017429941\n",
      "Iterations:             33\n",
      "Trait 1's SNP PVE:      0.40782236985473796\n",
      "Trait 2's SNP PVE:      0.8925672476623521\n",
      "\n",
      "Trait 1: IHT estimated 7 nonzero SNP predictors\n",
      "7×2 DataFrame\n",
      " Row │ Position  Estimated_β\n",
      "     │ Int64     Float64\n",
      "─────┼───────────────────────\n",
      "   1 │     2351   -0.0173905\n",
      "   2 │     2529   -0.254593\n",
      "   3 │     2850   -0.0151754\n",
      "   4 │     2872    0.820815\n",
      "   5 │     2986   -0.0125935\n",
      "   6 │     4248   -1.40296\n",
      "   7 │     8921    1.24518\n",
      "\n",
      "Trait 1: IHT estimated 1 non-genetic predictors\n",
      "1×2 DataFrame\n",
      " Row │ Position  Estimated_β\n",
      "     │ Int64     Float64\n",
      "─────┼───────────────────────\n",
      "   1 │        1     0.506032\n",
      "\n",
      "Trait 2: IHT estimated 8 nonzero SNP predictors\n",
      "8×2 DataFrame\n",
      " Row │ Position  Estimated_β\n",
      "     │ Int64     Float64\n",
      "─────┼───────────────────────\n",
      "   1 │      359   -0.0123443\n",
      "   2 │     4710   -0.11455\n",
      "   3 │     6991   -2.70483\n",
      "   4 │     8738    0.0127784\n",
      "   5 │     8825    0.013932\n",
      "   6 │     8921   -0.218901\n",
      "   7 │     8964    0.312761\n",
      "   8 │     9542   -0.0129755\n",
      "\n",
      "Trait 2: IHT estimated 1 non-genetic predictors\n",
      "1×2 DataFrame\n",
      " Row │ Position  Estimated_β\n",
      "     │ Int64     Float64\n",
      "─────┼───────────────────────\n",
      "   1 │        1      1.00318\n",
      "\n"
     ]
    },
    {
     "name": "stderr",
     "output_type": "stream",
     "text": [
      "┌ Warning: Replacing docs for `MendelIHT.iht :: Tuple{AbstractString,Int64,UnionAll}` in module `MendelIHT`\n",
      "└ @ Base.Docs docs/Docs.jl:227\n",
      "┌ Warning: Replacing docs for `MendelIHT.iht :: Tuple{AbstractString,Int64,UnionAll}` in module `MendelIHT`\n",
      "└ @ Base.Docs docs/Docs.jl:227\n",
      "┌ Warning: Replacing docs for `MendelIHT.iht :: Tuple{AbstractString,Int64,UnionAll}` in module `MendelIHT`\n",
      "└ @ Base.Docs docs/Docs.jl:227\n",
      "┌ Warning: Replacing docs for `MendelIHT.iht :: Tuple{AbstractString,Int64,UnionAll}` in module `MendelIHT`\n",
      "└ @ Base.Docs docs/Docs.jl:227\n"
     ]
    }
   ],
   "source": [
    "result1 = iht(\"multivariate_$(r)traits\", 17, d, phenotypes=[6, 7], verbose=false)\n",
    "result2 = iht(\"multivariate_$(r)traits\", 17, d, phenotypes=[6, 7], covariates=\"covariates.txt\", verbose=false)\n",
    "result3 = iht(\"multivariate_$(r)traits\", 17, d, phenotypes=\"multivariate_$(r)traits.phen\",\n",
    "    covariates=\"covariates.txt\", verbose=false);"
   ]
  },
  {
   "cell_type": "code",
   "execution_count": 87,
   "metadata": {
    "collapsed": false
   },
   "outputs": [
    {
     "data": {
      "text/plain": [
       "5×3 Array{Float64,2}:\n",
       " -0.254593  -0.254593  -0.254593\n",
       "  0.820815   0.820815   0.820815\n",
       "  0.0        0.0        0.0\n",
       " -1.40296   -1.40296   -1.40296\n",
       "  1.24518    1.24518    1.24518"
      ]
     },
     "execution_count": 87,
     "metadata": {},
     "output_type": "execute_result"
    }
   ],
   "source": [
    "true_b1_idx = findall(!iszero, B[:, 1])\n",
    "[result1.beta[1, true_b1_idx] result2.beta[1, true_b1_idx] result3.beta[1, true_b1_idx]]"
   ]
  },
  {
   "cell_type": "code",
   "execution_count": 88,
   "metadata": {
    "collapsed": false,
    "scrolled": true
   },
   "outputs": [
    {
     "data": {
      "text/plain": [
       "5×3 Array{Float64,2}:\n",
       "  0.0        0.0        0.0\n",
       " -0.11455   -0.11455   -0.11455\n",
       " -2.70483   -2.70483   -2.70483\n",
       " -0.218901  -0.218901  -0.218901\n",
       "  0.312761   0.312761   0.312761"
      ]
     },
     "execution_count": 88,
     "metadata": {},
     "output_type": "execute_result"
    }
   ],
   "source": [
    "true_b2_idx = findall(!iszero, B[:, 2])\n",
    "[result1.beta[2, true_b2_idx] result2.beta[2, true_b2_idx] result3.beta[2, true_b2_idx]]"
   ]
  },
  {
   "cell_type": "code",
   "execution_count": 89,
   "metadata": {
    "collapsed": false
   },
   "outputs": [
    {
     "data": {
      "text/plain": [
       "4×3 Array{Float64,2}:\n",
       " 5.9949    5.9949    5.9949\n",
       " 2.0924    2.0924    2.0924\n",
       " 2.0924    2.0924    2.0924\n",
       " 0.741367  0.741367  0.741367"
      ]
     },
     "execution_count": 89,
     "metadata": {},
     "output_type": "execute_result"
    }
   ],
   "source": [
    "# covariance matrix\n",
    "[vec(result1.Σ) vec(result2.Σ) vec(result3.Σ)]"
   ]
  },
  {
   "cell_type": "markdown",
   "metadata": {},
   "source": [
    "## Multivariate Cross validation"
   ]
  },
  {
   "cell_type": "code",
   "execution_count": 90,
   "metadata": {
    "collapsed": false
   },
   "outputs": [
    {
     "name": "stderr",
     "output_type": "stream",
     "text": [
      "\u001b[32mCross validating...100%|████████████████████████████████| Time: 0:00:14\u001b[39m\n",
      "\u001b[32mCross validating...100%|████████████████████████████████| Time: 0:00:15\u001b[39m\n",
      "\u001b[32mCross validating...100%|████████████████████████████████| Time: 0:00:15\u001b[39m\n"
     ]
    }
   ],
   "source": [
    "Random.seed!(2020)\n",
    "result1 = cross_validate(\"multivariate_$(r)traits\", d, phenotypes=[6, 7], verbose=false)\n",
    "Random.seed!(2020)\n",
    "result2 = cross_validate(\"multivariate_$(r)traits\", d, phenotypes=[6, 7], covariates=\"covariates.txt\", verbose=false)\n",
    "Random.seed!(2020)\n",
    "result3 = cross_validate(\"multivariate_$(r)traits\", d, phenotypes=\"multivariate_$(r)traits.phen\", \n",
    "    covariates=\"covariates.txt\", verbose=false);"
   ]
  },
  {
   "cell_type": "code",
   "execution_count": 91,
   "metadata": {
    "collapsed": false
   },
   "outputs": [
    {
     "data": {
      "text/plain": [
       "20×3 Array{Float64,2}:\n",
       " 8079.42  8079.42  8079.42\n",
       " 2601.87  2601.87  2601.87\n",
       " 1865.9   1865.9   1865.9\n",
       " 1704.34  1704.34  1704.34\n",
       " 1552.04  1552.04  1552.04\n",
       " 1542.36  1542.36  1542.36\n",
       " 1480.45  1480.45  1480.45\n",
       " 1443.06  1443.06  1443.06\n",
       " 1447.93  1447.93  1447.93\n",
       " 1443.11  1443.11  1443.11\n",
       " 1443.45  1443.45  1443.45\n",
       " 1441.69  1441.69  1441.69\n",
       " 1396.29  1396.29  1396.29\n",
       " 1387.62  1387.62  1387.62\n",
       " 1376.78  1376.78  1376.78\n",
       " 1375.95  1375.95  1375.95\n",
       " 1364.46  1364.46  1364.46\n",
       " 1364.62  1364.62  1364.62\n",
       " 1365.16  1365.16  1365.16\n",
       " 1365.5   1365.5   1365.5"
      ]
     },
     "execution_count": 91,
     "metadata": {},
     "output_type": "execute_result"
    }
   ],
   "source": [
    "[result1 result2 result3]"
   ]
  },
  {
   "cell_type": "code",
   "execution_count": 70,
   "metadata": {
    "collapsed": true
   },
   "outputs": [],
   "source": [
    "rm(\"multivariate_$(r)traits.bim\", force=true)\n",
    "rm(\"multivariate_$(r)traits.bed\", force=true)\n",
    "rm(\"multivariate_$(r)traits.fam\", force=true)\n",
    "rm(\"multivariate_$(r)traits.phen\", force=true)\n",
    "rm(\"covariates.txt\", force=true)\n",
    "rm(\"cviht.summary.txt\", force=true)\n",
    "rm(\"iht.summary.txt\", force=true)\n",
    "rm(\"iht.beta.txt\", force=true)"
   ]
  },
  {
   "cell_type": "code",
   "execution_count": null,
   "metadata": {
    "collapsed": true
   },
   "outputs": [],
   "source": []
  }
 ],
 "metadata": {
  "@webio": {
   "lastCommId": null,
   "lastKernelId": null
  },
  "kernelspec": {
   "display_name": "Julia 1.5.0",
   "language": "julia",
   "name": "julia-1.5"
  },
  "language_info": {
   "file_extension": ".jl",
   "mimetype": "application/julia",
   "name": "julia",
   "version": "1.5.0"
  }
 },
 "nbformat": 4,
 "nbformat_minor": 2
}
