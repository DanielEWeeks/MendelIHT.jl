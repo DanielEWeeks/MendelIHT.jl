{
 "cells": [
  {
   "cell_type": "code",
   "execution_count": 2,
   "metadata": {
    "collapsed": false
   },
   "outputs": [
    {
     "name": "stderr",
     "output_type": "stream",
     "text": [
      "┌ Info: Precompiling VarianceComponentModels [813005db-34b4-5f71-be9e-1bbf0a1d8f1c]\n",
      "└ @ Base loading.jl:1278\n"
     ]
    }
   ],
   "source": [
    "using Distributed\n",
    "# addprocs(4)\n",
    "\n",
    "@everywhere begin\n",
    "    using Revise\n",
    "    using MendelIHT\n",
    "    using SnpArrays\n",
    "    using Random\n",
    "    using GLM\n",
    "    using DelimitedFiles\n",
    "    using Test\n",
    "    using Distributions\n",
    "    using LinearAlgebra\n",
    "    using CSV\n",
    "    using DataFrames\n",
    "end\n",
    "\n",
    "using VarianceComponentModels"
   ]
  },
  {
   "cell_type": "markdown",
   "metadata": {
    "collapsed": true
   },
   "source": [
    "# Simulate data"
   ]
  },
  {
   "cell_type": "code",
   "execution_count": 25,
   "metadata": {
    "collapsed": false
   },
   "outputs": [],
   "source": [
    "n = 1000  # number of samples\n",
    "p = 10000 # number of SNPs\n",
    "k = 10    # number of causal SNPs per trait\n",
    "d = Normal\n",
    "l = canonicallink(d())\n",
    "\n",
    "# set random seed for reproducibility\n",
    "Random.seed!(2021)\n",
    "\n",
    "# simulate `.bed` file with no missing data\n",
    "x = simulate_random_snparray(\"heritability/univariate.bed\", n, p)\n",
    "xla = SnpLinAlg{Float64}(x, model=ADDITIVE_MODEL, center=true, scale=true) \n",
    "\n",
    "# intercept is the only nongenetic covariate\n",
    "z = ones(n)\n",
    "intercept = 10.0\n",
    "\n",
    "# simulate response y, true model b, and the correct non-0 positions of b\n",
    "y, true_b, correct_position = simulate_random_response(xla, k, d, l, Zu=z*intercept);\n",
    "\n",
    "# save true SNP's position and effect size\n",
    "open(\"heritability/univariate_true_beta.txt\", \"w\") do io\n",
    "    println(io, \"snpID,effectsize\")\n",
    "    println(io, \"intercept,$intercept\")\n",
    "    for pos in correct_position\n",
    "        println(io, \"snp$pos,\", true_b[pos])\n",
    "    end\n",
    "end\n",
    "\n",
    "# create `.bim` and `.bam` files using phenotype\n",
    "make_bim_fam_files(x, y, \"heritability/univariate\")\n",
    "\n",
    "# create `.phen` file for GCTA\n",
    "open(\"heritability/univariate.phen\", \"w\") do io\n",
    "    for i in 1:length(y)\n",
    "        println(io, \"$i\\t1\\t$(y[i])\")\n",
    "    end\n",
    "end"
   ]
  },
  {
   "cell_type": "markdown",
   "metadata": {},
   "source": [
    "# Run IHT"
   ]
  },
  {
   "cell_type": "code",
   "execution_count": 26,
   "metadata": {
    "collapsed": false
   },
   "outputs": [
    {
     "name": "stdout",
     "output_type": "stream",
     "text": [
      "****                   MendelIHT Version 1.3.3                  ****\n",
      "****     Benjamin Chu, Kevin Keys, Chris German, Hua Zhou       ****\n",
      "****   Jin Zhou, Eric Sobel, Janet Sinsheimer, Kenneth Lange    ****\n",
      "****                                                            ****\n",
      "****                 Please cite our paper!                     ****\n",
      "****         https://doi.org/10.1093/gigascience/giaa044        ****\n",
      "\n",
      "Running sparse linear regression\n",
      "Link functin = IdentityLink()\n",
      "Sparsity parameter (k) = 11\n",
      "Prior weight scaling = off\n",
      "Doubly sparse projection = off\n",
      "Debias = off\n",
      "Max IHT iterations = 100\n",
      "Converging when tol < 0.0001:\n",
      "\n",
      "Iteration 1: loglikelihood = -1577.1707947596888, backtracks = 0, tol = 0.11179714706508592\n",
      "Iteration 2: loglikelihood = -1484.8568136206184, backtracks = 0, tol = 0.025721679193033527\n",
      "Iteration 3: loglikelihood = -1472.952963590493, backtracks = 0, tol = 0.012701500670561118\n",
      "Iteration 4: loglikelihood = -1472.5366421393844, backtracks = 1, tol = 0.0009958001674466315\n",
      "Iteration 5: loglikelihood = -1472.428026945073, backtracks = 1, tol = 0.0005175328739383008\n",
      "Iteration 6: loglikelihood = -1472.4000760087488, backtracks = 1, tol = 0.0002614127835351253\n",
      "Iteration 7: loglikelihood = -1472.3929618828483, backtracks = 1, tol = 0.0001295647682194938\n",
      "Iteration 8: loglikelihood = -1472.391164492576, backtracks = 1, tol = 6.683689855636027e-5\n",
      "  0.122576 seconds (229.53 k allocations: 9.493 MiB)\n"
     ]
    },
    {
     "data": {
      "text/plain": [
       "\n",
       "IHT estimated 10 nonzero SNP predictors and 1 non-genetic predictors.\n",
       "\n",
       "Compute time (sec):     0.04390096664428711\n",
       "Final loglikelihood:    -1472.391164492576\n",
       "SNP heritability:       0.8425967157821636\n",
       "Iterations:             8\n",
       "\n",
       "Selected genetic predictors:\n",
       "\u001b[1m10×2 DataFrame\u001b[0m\n",
       "\u001b[1m Row \u001b[0m│\u001b[1m Position \u001b[0m\u001b[1m Estimated_β \u001b[0m\n",
       "\u001b[1m     \u001b[0m│\u001b[90m Int64    \u001b[0m\u001b[90m Float64     \u001b[0m\n",
       "─────┼───────────────────────\n",
       "   1 │      782    -0.437843\n",
       "   2 │      901     0.748033\n",
       "   3 │     1204     0.690989\n",
       "   4 │     1306    -1.42524\n",
       "   5 │     1655    -0.194052\n",
       "   6 │     3160    -0.861222\n",
       "   7 │     3936    -0.14667\n",
       "   8 │     4201     0.338804\n",
       "   9 │     4402    -0.126361\n",
       "  10 │     6879    -1.21894\n",
       "\n",
       "Selected nongenetic predictors:\n",
       "\u001b[1m1×2 DataFrame\u001b[0m\n",
       "\u001b[1m Row \u001b[0m│\u001b[1m Position \u001b[0m\u001b[1m Estimated_β \u001b[0m\n",
       "\u001b[1m     \u001b[0m│\u001b[90m Int64    \u001b[0m\u001b[90m Float64     \u001b[0m\n",
       "─────┼───────────────────────\n",
       "   1 │        1      10.0202"
      ]
     },
     "execution_count": 26,
     "metadata": {},
     "output_type": "execute_result"
    }
   ],
   "source": [
    "ktrue = k + (intercept == 0 ? 0 : 1)\n",
    "@time result = fit_iht(y, xla, z, d=d(), l=l, k=ktrue)"
   ]
  },
  {
   "cell_type": "code",
   "execution_count": 4,
   "metadata": {
    "collapsed": false
   },
   "outputs": [
    {
     "data": {
      "text/plain": [
       "10×2 Array{Float64,2}:\n",
       " -0.437828  -0.402269\n",
       "  0.747956   0.758756\n",
       "  0.691327   0.729135\n",
       " -1.42505   -1.47163\n",
       " -0.19456   -0.172668\n",
       " -0.861591  -0.847906\n",
       "  0.338606   0.296183\n",
       "  0.0       -0.0034339\n",
       "  0.0        0.125965\n",
       " -1.21895   -1.24972"
      ]
     },
     "execution_count": 4,
     "metadata": {},
     "output_type": "execute_result"
    }
   ],
   "source": [
    "# compare estimated vs true beta values\n",
    "[result.beta[correct_position] true_b[correct_position]]"
   ]
  },
  {
   "cell_type": "markdown",
   "metadata": {
    "collapsed": true
   },
   "source": [
    "# GEMMA estimated heritability\n",
    "\n",
    "GEMMA estimates $pve = 0.444316$ with standard error $se(pve) =0.132402$. This is the proportion of variance in phenotypes explained (pve) quantity."
   ]
  },
  {
   "cell_type": "code",
   "execution_count": 12,
   "metadata": {
    "collapsed": false
   },
   "outputs": [
    {
     "name": "stdout",
     "output_type": "stream",
     "text": [
      "GEMMA 0.98.4 (2021-01-29) by Xiang Zhou and team (C) 2012-2021\n",
      "Reading Files ... \n",
      "## number of total individuals = 1000\n",
      "## number of analyzed individuals = 1000\n",
      "## number of covariates = 1\n",
      "## number of phenotypes = 1\n",
      "## number of total SNPs/var        =    10000\n",
      "## number of analyzed SNPs         =    10000\n",
      "Start Eigen-Decomposition...\n",
      "pve estimate =0.444316\n",
      "se(pve) =0.132402\n",
      "                                                   0%\r",
      "=====                                              10%\r",
      "==========                                         20%\r",
      "===============                                    30%\r",
      "====================                               40%\r",
      "=========================                          50%\r",
      "==============================                     60%\r",
      "===================================                70%\r",
      "========================================           80%\r",
      "=============================================      90%\r",
      "================================================== 100%\r\n",
      "**** INFO: Done.\n"
     ]
    }
   ],
   "source": [
    ";cat heritability/gemma_run.out"
   ]
  },
  {
   "cell_type": "markdown",
   "metadata": {},
   "source": [
    "# GCTA estimated heritability\n",
    "\n",
    "GCTA estimated heritability is 0.726"
   ]
  },
  {
   "cell_type": "code",
   "execution_count": 11,
   "metadata": {
    "collapsed": false
   },
   "outputs": [
    {
     "name": "stdout",
     "output_type": "stream",
     "text": [
      "Source\tVariance\tSE\n",
      "V(G)\t5.131934\t1.015303\n",
      "V(e)\t1.941108\t0.923529\n",
      "Vp\t7.073042\t0.324029\n",
      "V(G)/Vp\t0.725562\t0.132691\n",
      "logL\t-1467.224\n",
      "logL0\t-1480.753\n",
      "LRT\t27.058\n",
      "df\t1\n",
      "Pval\t9.8735e-08\n",
      "n\t1000\n"
     ]
    }
   ],
   "source": [
    ";cat heritability/gcta.univariate.hsq"
   ]
  },
  {
   "cell_type": "markdown",
   "metadata": {},
   "source": [
    "# VarianceComponentModel.jl estimated heritability"
   ]
  },
  {
   "cell_type": "code",
   "execution_count": 31,
   "metadata": {
    "collapsed": false
   },
   "outputs": [
    {
     "name": "stdout",
     "output_type": "stream",
     "text": [
      "  0.201323 seconds (19 allocations: 23.279 MiB)\n",
      "(σ2a, σ2e) = (3.257729405950718, 3.8241316336013482)\n",
      "σ2a / (σ2a + σ2e) = 0.4600103543060726\n"
     ]
    },
    {
     "data": {
      "text/plain": [
       "0.4600103543060726"
      ]
     },
     "execution_count": 31,
     "metadata": {},
     "output_type": "execute_result"
    }
   ],
   "source": [
    "Φgrm = grm(x; method = :Robust) # genetic relationship matrix\n",
    "VCdata = VarianceComponentVariate(y, z, (2Φgrm, Matrix(1.0I, n, n)))\n",
    "\n",
    "# pre-compute eigen-decomposition \n",
    "@time VCdata_rotated = TwoVarCompVariateRotate(VCdata)\n",
    "fieldnames(typeof(VCdata_rotated))\n",
    "\n",
    "# form data set for trait \n",
    "trait_data = TwoVarCompVariateRotate(VCdata_rotated.Yrot, \n",
    "    VCdata_rotated.Xrot, VCdata_rotated.eigval, VCdata_rotated.eigvec, \n",
    "    VCdata_rotated.logdetV2)\n",
    "\n",
    "# initialize model parameters\n",
    "trait_model = VarianceComponentModel(trait_data)\n",
    "\n",
    "# estimate variance components\n",
    "_, _, _, Σcov, = mle_fs!(trait_model, trait_data; solver=:Ipopt, verbose=false)\n",
    "σ2a = trait_model.Σ[1][1] # additive genetic variance \n",
    "σ2e = trait_model.Σ[2][1] # environmental variance \n",
    "@show σ2a, σ2e\n",
    "@show σ2a / (σ2a + σ2e)"
   ]
  },
  {
   "cell_type": "markdown",
   "metadata": {},
   "source": [
    "# Conclusion\n",
    "\n",
    "In a (very simple) simulation with 10 causal SNPs and 1 intercept, we have\n",
    "\n",
    "$$y = 1.0 + X\\beta + \\epsilon$$\n",
    "\n",
    "| Method                     | Estimated Heritability | \n",
    "|----------------------------|------------------------|\n",
    "| MendelIHT.jl               | 0.8426                 |\n",
    "| GCTA                       | 0.726                  |\n",
    "| VarianceComponentModels.jl | 0.46001                |\n",
    "| GEMMA                      | 0.444316               |"
   ]
  },
  {
   "cell_type": "code",
   "execution_count": null,
   "metadata": {
    "collapsed": true
   },
   "outputs": [],
   "source": []
  }
 ],
 "metadata": {
  "@webio": {
   "lastCommId": null,
   "lastKernelId": null
  },
  "kernelspec": {
   "display_name": "Julia 1.5.0",
   "language": "julia",
   "name": "julia-1.5"
  },
  "language_info": {
   "file_extension": ".jl",
   "mimetype": "application/julia",
   "name": "julia",
   "version": "1.5.0"
  }
 },
 "nbformat": 4,
 "nbformat_minor": 2
}
