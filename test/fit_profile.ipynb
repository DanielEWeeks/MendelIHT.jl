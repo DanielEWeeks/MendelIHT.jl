{
 "cells": [
  {
   "cell_type": "markdown",
   "metadata": {},
   "source": [
    "# Lets profile `fit` function for univariate and multivariate\n",
    "\n",
    "Currently multivariate IHT is ~20x slower than univariate IHT. Is that due to bad code or is estimating covariance matrix that much slower?"
   ]
  },
  {
   "cell_type": "code",
   "execution_count": 1,
   "metadata": {
    "collapsed": false
   },
   "outputs": [
    {
     "name": "stderr",
     "output_type": "stream",
     "text": [
      "┌ Info: Precompiling MendelIHT [921c7187-1484-5754-b919-5d3ed9ac03c4]\n",
      "└ @ Base loading.jl:1278\n"
     ]
    }
   ],
   "source": [
    "using Revise\n",
    "using MendelIHT\n",
    "using SnpArrays\n",
    "using Random\n",
    "using GLM\n",
    "using DelimitedFiles\n",
    "using Test\n",
    "using Distributions\n",
    "using LinearAlgebra\n",
    "using CSV\n",
    "using DataFrames\n",
    "using StatsBase\n",
    "using Profile\n",
    "BLAS.set_num_threads(1) # remember to set BLAS threads to 1 !!!"
   ]
  },
  {
   "cell_type": "markdown",
   "metadata": {},
   "source": [
    "## Univariate response with SnpLinAlg"
   ]
  },
  {
   "cell_type": "code",
   "execution_count": 13,
   "metadata": {
    "collapsed": false
   },
   "outputs": [],
   "source": [
    "n = 1000  # number of samples\n",
    "p = 10000 # number of SNPs\n",
    "k = 10    # number of causal SNPs per trait\n",
    "d = Normal\n",
    "l = canonicallink(d())\n",
    "\n",
    "# set random seed for reproducibility\n",
    "Random.seed!(2021)\n",
    "\n",
    "# simulate `.bed` file with no missing data\n",
    "x = simulate_random_snparray(undef, n, p)\n",
    "xla = SnpLinAlg{Float64}(x, model=ADDITIVE_MODEL, center=true, scale=true) \n",
    "\n",
    "# intercept is the only nongenetic covariate\n",
    "z = ones(n)\n",
    "intercept = 1.0\n",
    "\n",
    "# simulate response y, true model b, and the correct non-0 positions of b\n",
    "Y, true_b, correct_position = simulate_random_response(xla, k, d, l, Zu=z*intercept);"
   ]
  },
  {
   "cell_type": "code",
   "execution_count": 14,
   "metadata": {
    "collapsed": false
   },
   "outputs": [
    {
     "name": "stdout",
     "output_type": "stream",
     "text": [
      "****                   MendelIHT Version 1.4.0                  ****\n",
      "****     Benjamin Chu, Kevin Keys, Chris German, Hua Zhou       ****\n",
      "****   Jin Zhou, Eric Sobel, Janet Sinsheimer, Kenneth Lange    ****\n",
      "****                                                            ****\n",
      "****                 Please cite our paper!                     ****\n",
      "****         https://doi.org/10.1093/gigascience/giaa044        ****\n",
      "\n",
      "Running sparse linear regression\n",
      "Link functin = IdentityLink()\n",
      "Sparsity parameter (k) = 10\n",
      "Prior weight scaling = off\n",
      "Doubly sparse projection = off\n",
      "Debias = off\n",
      "Max IHT iterations = 200\n",
      "Converging when tol < 0.0001:\n",
      "\n",
      "Iteration 1: loglikelihood = -1555.2120188322158, backtracks = 0, tol = 0.6244599273449228\n",
      "Iteration 2: loglikelihood = -1486.0751108703125, backtracks = 0, tol = 0.12833948300313805\n",
      "Iteration 3: loglikelihood = -1480.1283538979592, backtracks = 0, tol = 0.05314824937761959\n",
      "Iteration 4: loglikelihood = -1479.7262774611138, backtracks = 0, tol = 0.006247043188130052\n",
      "Iteration 5: loglikelihood = -1479.7182469058216, backtracks = 0, tol = 0.0010171725953994843\n",
      "Iteration 6: loglikelihood = -1479.7180439332667, backtracks = 0, tol = 0.00013803439600961948\n",
      "Iteration 7: loglikelihood = -1479.718038437782, backtracks = 0, tol = 3.024997540169187e-5\n",
      "  0.067750 seconds (205.82 k allocations: 6.088 MiB)\n"
     ]
    },
    {
     "data": {
      "text/plain": [
       "0.004316568374633789"
      ]
     },
     "execution_count": 14,
     "metadata": {},
     "output_type": "execute_result"
    }
   ],
   "source": [
    "# 1 cores\n",
    "Random.seed!(2020)\n",
    "@time result = fit_iht(Y, xla, z);\n",
    "speed_per_iter = result.time / result.iter"
   ]
  },
  {
   "cell_type": "markdown",
   "metadata": {},
   "source": [
    "Univariate IHT runs at 0.006 seconds per iteration. Let's profile our fit function."
   ]
  },
  {
   "cell_type": "code",
   "execution_count": 21,
   "metadata": {
    "collapsed": false
   },
   "outputs": [
    {
     "data": {
      "text/plain": [
       "Gtk.GtkWindowLeaf(name=\"\", parent, width-request=-1, height-request=-1, visible=TRUE, sensitive=TRUE, app-paintable=FALSE, can-focus=FALSE, has-focus=FALSE, is-focus=FALSE, focus-on-click=TRUE, can-default=FALSE, has-default=FALSE, receives-default=FALSE, composite-child=FALSE, style, events=0, no-show-all=FALSE, has-tooltip=FALSE, tooltip-markup=NULL, tooltip-text=NULL, window, opacity=1.000000, double-buffered, halign=GTK_ALIGN_FILL, valign=GTK_ALIGN_FILL, margin-left, margin-right, margin-start=0, margin-end=0, margin-top=0, margin-bottom=0, margin=0, hexpand=FALSE, vexpand=FALSE, hexpand-set=FALSE, vexpand-set=FALSE, expand=FALSE, scale-factor=2, border-width=0, resize-mode, child, type=GTK_WINDOW_TOPLEVEL, title=\"Profile\", role=NULL, resizable=TRUE, modal=FALSE, window-position=GTK_WIN_POS_NONE, default-width=800, default-height=600, destroy-with-parent=FALSE, hide-titlebar-when-maximized=FALSE, icon, icon-name=NULL, screen, type-hint=GDK_WINDOW_TYPE_HINT_NORMAL, skip-taskbar-hint=FALSE, skip-pager-hint=FALSE, urgency-hint=FALSE, accept-focus=TRUE, focus-on-map=TRUE, decorated=TRUE, deletable=TRUE, gravity=GDK_GRAVITY_NORTH_WEST, transient-for, attached-to, has-resize-grip, resize-grip-visible, application, is-active=FALSE, has-toplevel-focus=FALSE, startup-id, mnemonics-visible=FALSE, focus-visible=FALSE, is-maximized=FALSE)"
      ]
     },
     "execution_count": 21,
     "metadata": {},
     "output_type": "execute_result"
    }
   ],
   "source": [
    "@profview fit_iht(Y, xla, z, verbose=false)  # run once to trigger compilation (ignore this one)\n",
    "@profview fit_iht(Y, xla, z, verbose=false)"
   ]
  },
  {
   "cell_type": "code",
   "execution_count": 18,
   "metadata": {
    "collapsed": false
   },
   "outputs": [
    {
     "name": "stdout",
     "output_type": "stream",
     "text": [
      "Overhead ╎ [+additional indent] Count File:Line; Function\n",
      "=========================================================\n",
      " ╎30 @Base/task.jl:356; (::IJulia.var\"#15#18\")()\n",
      " ╎ 30 @IJulia/src/eventloop.jl:8; eventloop(::ZMQ.Socket)\n",
      " ╎  30 @Base/essentials.jl:709; invokelatest\n",
      " ╎   30 @Base/essentials.jl:710; #invokelatest#1\n",
      " ╎    30 ...c/execute_request.jl:67; execute_request(::ZMQ.Socket, ::...\n",
      " ╎     30 ...c/SoftGlobalScope.jl:65; softscope_include_string(::Modu...\n",
      " ╎    ╎ 30 @Base/loading.jl:1091; include_string(::Function, ::M...\n",
      " ╎    ╎  30 @MendelIHT/src/fit.jl:58; (::MendelIHT.var\"#fit_iht##kw\"...\n",
      " ╎    ╎   4  @MendelIHT/src/fit.jl:70; fit_iht(::Array{Float64,1}, ::...\n",
      " ╎    ╎    4  ...data_structures.jl:111; initialize\n",
      " ╎    ╎     4  ...ata_structures.jl:118; initialize(::SnpLinAlg{Float...\n",
      " ╎    ╎    ╎ 3  .../src/utilities.jl:312; init_iht_indices!(::IHTVari...\n",
      " ╎    ╎    ╎  3  .../src/utilities.jl:116; score!(::IHTVariable{Float6...\n",
      " ╎    ╎    ╎   3  ...linalg_direct.jl:160; mul!(::Array{Float64,1}, :...\n",
      " ╎    ╎    ╎    3  ...linalg_direct.jl:313; _snparray_atx_tile!(::Arr...\n",
      " ╎    ╎    ╎     3  ...inalg_direct.jl:403; _snparray_atx_additive_me...\n",
      " ╎    ╎    ╎    ╎ 3  ...ruct_loopset.jl:503; _avx_!(::Val{(0, 0, 0, 4...\n",
      " ╎    ╎    ╎    ╎  3  ...ruct_loopset.jl:503; macro expansion\n",
      " ╎    ╎    ╎    ╎   2  ...e/operators.jl:538; +\n",
      " ╎    ╎    ╎    ╎    1  ..._arithmetic.jl:59; +\n",
      " ╎    ╎    ╎    ╎     1  ...efinitions.jl:190; vconvert\n",
      " ╎    ╎    ╎    ╎    ╎ 1  ...efinitions.jl:101; vconvert\n",
      " ╎    ╎    ╎    ╎    ╎  1  ...efinitions.jl:113; macro expansion\n",
      " ╎    ╎    ╎    ╎    1  ...e/src/masks.jl:74; +\n",
      "1╎    ╎    ╎    ╎     1  ...e/src/masks.jl:69; vadd\n",
      " ╎    ╎    ╎    ╎   1  ...ectorizable.jl:330; vload\n",
      " ╎    ╎    ╎    ╎    1  ...ectorizable.jl:322; vloadstride\n",
      " ╎    ╎    ╎    ╎     1  ...src/static.jl:367; vload\n",
      " ╎    ╎    ╎    ╎    ╎ 1  ...src/memory.jl:904; vload\n",
      " ╎    ╎    ╎    ╎    ╎  1  ...src/memory.jl:708; gather\n",
      "1╎    ╎    ╎    ╎    ╎   1  ...rc/memory.jl:739; macro expansion\n",
      " ╎    ╎    ╎ 1  .../src/utilities.jl:319; init_iht_indices!(::IHTVari...\n",
      " ╎    ╎    ╎  1  @Base/sort.jl:164; partialsort##kw\n",
      " ╎    ╎    ╎   1  @Base/sort.jl:164; partialsort(::Array{Float6...\n",
      " ╎    ╎    ╎    1  @Base/sort.jl:155; partialsort!##kw\n",
      " ╎    ╎    ╎     1  @Base/sort.jl:155; #partialsort!#2\n",
      " ╎    ╎    ╎    ╎ 1  @Base/sort.jl:96; partialsort!\n",
      " ╎    ╎    ╎    ╎  1  @Base/sort.jl:623; sort!(::Array{Float64,1}...\n",
      " ╎    ╎    ╎    ╎   1  @Base/sort.jl:551; partition!(::Array{Floa...\n",
      " ╎    ╎    ╎    ╎    1  @Base/ordering.jl:59; lt\n",
      " ╎    ╎    ╎    ╎     1  @Base/ordering.jl:58; lt\n",
      " ╎    ╎    ╎    ╎    ╎ 1  ...e/ordering.jl:57; lt\n",
      "1╎    ╎    ╎    ╎    ╎  1  @Base/float.jl:465; isless\n",
      " ╎    ╎   26 @MendelIHT/src/fit.jl:78; fit_iht(::Array{Float64,1}, ::...\n",
      " ╎    ╎    26 @MendelIHT/src/fit.jl:115; fit_iht!##kw\n",
      " ╎    ╎     26 ...delIHT/src/fit.jl:147; fit_iht!(::IHTVariable{Float...\n",
      "1╎    ╎    ╎ 1  ...delIHT/src/fit.jl:190; iht_one_step!(::IHTVariable...\n",
      " ╎    ╎    ╎ 25 ...delIHT/src/fit.jl:214; iht_one_step!(::IHTVariable...\n",
      " ╎    ╎    ╎  25 .../src/utilities.jl:116; score!(::IHTVariable{Float6...\n",
      " ╎    ╎    ╎   25 ...linalg_direct.jl:160; mul!(::Array{Float64,1}, :...\n",
      " ╎    ╎    ╎    19 ...linalg_direct.jl:313; _snparray_atx_tile!(::Arr...\n",
      " ╎    ╎    ╎     19 ...inalg_direct.jl:403; _snparray_atx_additive_me...\n",
      " ╎    ╎    ╎    ╎ 19 ...ruct_loopset.jl:503; _avx_!(::Val{(0, 0, 0, 4...\n",
      " ╎    ╎    ╎    ╎  19 ...ruct_loopset.jl:503; macro expansion\n",
      " ╎    ╎    ╎    ╎   8  ...e/operators.jl:538; +\n",
      " ╎    ╎    ╎    ╎    3  ..._arithmetic.jl:59; +\n",
      " ╎    ╎    ╎    ╎     3  ...SIMDPirates.jl:79; +\n",
      " ╎    ╎    ╎    ╎    ╎ 3  ...c/llvmwrap.jl:69; llvmwrap\n",
      " ╎    ╎    ╎    ╎    ╎  3  ...c/llvmwrap.jl:69; llvmwrap\n",
      "3╎    ╎    ╎    ╎    ╎   3  ...c/llvmwrap.jl:97; macro expansion\n",
      " ╎    ╎    ╎    ╎    5  ...e/src/masks.jl:74; +\n",
      "5╎    ╎    ╎    ╎     5  ...e/src/masks.jl:69; vadd\n",
      " ╎    ╎    ╎    ╎   2  ...SIMDPirates.jl:79; &\n",
      " ╎    ╎    ╎    ╎    2  ...SIMDPirates.jl:74; vand\n",
      " ╎    ╎    ╎    ╎     2  ..._arithmetic.jl:62; macro expansion\n",
      " ╎    ╎    ╎    ╎    ╎ 2  ...c/llvmwrap.jl:69; llvmwrap\n",
      " ╎    ╎    ╎    ╎    ╎  2  ...c/llvmwrap.jl:69; llvmwrap\n",
      "2╎    ╎    ╎    ╎    ╎   2  ...c/llvmwrap.jl:97; macro expansion\n",
      " ╎    ╎    ╎    ╎   3  ...SIMDPirates.jl:79; ==\n",
      " ╎    ╎    ╎    ╎    3  ...SIMDPirates.jl:74; visequal\n",
      " ╎    ╎    ╎    ╎     3  ...onditionals.jl:12; macro expansion\n",
      " ╎    ╎    ╎    ╎    ╎ 3  ...c/llvmwrap.jl:166; llvmwrap_bitmask\n",
      "3╎    ╎    ╎    ╎    ╎  3  ...c/llvmwrap.jl:188; macro expansion\n",
      " ╎    ╎    ╎    ╎   2  ...SIMDPirates.jl:108; vfmadd231\n",
      "2╎    ╎    ╎    ╎    2  ..._arithmetic.jl:697; vfmadd231\n",
      " ╎    ╎    ╎    ╎   2  ..._arithmetic.jl:625; *\n",
      " ╎    ╎    ╎    ╎    2  ...onditionals.jl:173; vifelse\n",
      " ╎    ╎    ╎    ╎     2  ...nditionals.jl:123; vifelse\n",
      "2╎    ╎    ╎    ╎    ╎ 2  ...nditionals.jl:153; macro expansion\n",
      " ╎    ╎    ╎    ╎   1  .../src/vrange.jl:123; *\n",
      " ╎    ╎    ╎    ╎    1  .../src/vrange.jl:83; svrange\n",
      " ╎    ╎    ╎    ╎     1  .../src/vrange.jl:4; vrangeincr\n",
      "1╎    ╎    ╎    ╎    ╎ 1  ...src/vrange.jl:20; macro expansion\n",
      " ╎    ╎    ╎    ╎   1  ...ectorizable.jl:329; vload\n",
      " ╎    ╎    ╎    ╎    1  ...ectorizable.jl:321; vloadstride\n",
      " ╎    ╎    ╎    ╎     1  ...src/static.jl:267; vload\n",
      " ╎    ╎    ╎    ╎    ╎ 1  ...src/memory.jl:372; vload\n",
      " ╎    ╎    ╎    ╎    ╎  1  ...src/memory.jl:110; vload\n",
      "1╎    ╎    ╎    ╎    ╎   1  ...rc/memory.jl:135; macro expansion\n",
      " ╎    ╎    ╎    6  ...linalg_direct.jl:323; _snparray_atx_tile!(::Arr...\n",
      " ╎    ╎    ╎     6  ...inalg_direct.jl:403; _snparray_atx_additive_me...\n",
      " ╎    ╎    ╎    ╎ 6  ...ruct_loopset.jl:503; _avx_!(::Val{(0, 0, 0, 4...\n",
      " ╎    ╎    ╎    ╎  6  ...ruct_loopset.jl:503; macro expansion\n",
      " ╎    ╎    ╎    ╎   2  ...e/operators.jl:538; +\n",
      " ╎    ╎    ╎    ╎    2  ..._arithmetic.jl:59; +\n",
      " ╎    ╎    ╎    ╎     1  ...IMDPirates.jl:79; +\n",
      " ╎    ╎    ╎    ╎    ╎ 1  ...c/llvmwrap.jl:69; llvmwrap\n",
      " ╎    ╎    ╎    ╎    ╎  1  ...c/llvmwrap.jl:69; llvmwrap\n",
      "1╎    ╎    ╎    ╎    ╎   1  ...c/llvmwrap.jl:97; macro expansion\n",
      " ╎    ╎    ╎    ╎     1  ...efinitions.jl:190; vconvert\n",
      " ╎    ╎    ╎    ╎    ╎ 1  ...efinitions.jl:101; vconvert\n",
      "1╎    ╎    ╎    ╎    ╎  1  ...efinitions.jl:113; macro expansion\n",
      " ╎    ╎    ╎    ╎   1  ...SIMDPirates.jl:79; ==\n",
      " ╎    ╎    ╎    ╎    1  ...SIMDPirates.jl:74; visequal\n",
      " ╎    ╎    ╎    ╎     1  ...onditionals.jl:12; macro expansion\n",
      " ╎    ╎    ╎    ╎    ╎ 1  ...c/llvmwrap.jl:166; llvmwrap_bitmask\n",
      "1╎    ╎    ╎    ╎    ╎  1  ...c/llvmwrap.jl:188; macro expansion\n",
      " ╎    ╎    ╎    ╎   3  ...ectorizable.jl:329; vload\n",
      " ╎    ╎    ╎    ╎    3  ...ectorizable.jl:321; vloadstride\n",
      " ╎    ╎    ╎    ╎     3  ...src/static.jl:366; vload\n",
      " ╎    ╎    ╎    ╎    ╎ 3  ...src/memory.jl:903; vload\n",
      " ╎    ╎    ╎    ╎    ╎  3  ...src/memory.jl:677; gather\n",
      "3╎    ╎    ╎    ╎    ╎   3  ...rc/memory.jl:700; macro expansion\n",
      "Total snapshots: 30\n"
     ]
    }
   ],
   "source": [
    "fit_iht(Y, xla, z, verbose=false)\n",
    "Profile.clear()\n",
    "@profile fit_iht(Y, xla, z, verbose=false);\n",
    "Profile.print()"
   ]
  },
  {
   "cell_type": "markdown",
   "metadata": {},
   "source": [
    "**Conclusion:** In univariate IHT, most time (26/30 samples) are spent on `score!` function, specifically on the line `mul!(v.df, Transpose(x), v.r)` (i.e. computing the gradient which requires full genotype matrix times dense vector). This is expected."
   ]
  },
  {
   "cell_type": "markdown",
   "metadata": {},
   "source": [
    "## Multivariate response with SnpLinAlg"
   ]
  },
  {
   "cell_type": "code",
   "execution_count": 2,
   "metadata": {
    "collapsed": false
   },
   "outputs": [],
   "source": [
    "n = 1000  # number of samples\n",
    "p = 10000 # number of SNPs\n",
    "k = 10    # number of causal SNPs per trait\n",
    "r = 2     # number of traits\n",
    "\n",
    "# set random seed for reproducibility\n",
    "Random.seed!(2021)\n",
    "\n",
    "# simulate `.bed` file with no missing data\n",
    "x = simulate_random_snparray(undef, n, p)\n",
    "xla = SnpLinAlg{Float64}(x, model=ADDITIVE_MODEL, center=true, scale=true) \n",
    "\n",
    "# intercept is the only nongenetic covariate\n",
    "z = ones(n, 1)\n",
    "intercepts = randn(r)' # each trait have different intercept\n",
    "\n",
    "# simulate response y, true model b, and the correct non-0 positions of b\n",
    "Y, true_Σ, true_b, correct_position = simulate_random_response(xla, k, r, Zu=z*intercepts, overlap=2);"
   ]
  },
  {
   "cell_type": "code",
   "execution_count": 13,
   "metadata": {
    "collapsed": false
   },
   "outputs": [
    {
     "name": "stdout",
     "output_type": "stream",
     "text": [
      "****                   MendelIHT Version 1.4.0                  ****\n",
      "****     Benjamin Chu, Kevin Keys, Chris German, Hua Zhou       ****\n",
      "****   Jin Zhou, Eric Sobel, Janet Sinsheimer, Kenneth Lange    ****\n",
      "****                                                            ****\n",
      "****                 Please cite our paper!                     ****\n",
      "****         https://doi.org/10.1093/gigascience/giaa044        ****\n",
      "\n",
      "Running sparse Multivariate Gaussian regression\n",
      "Link functin = IdentityLink()\n",
      "Sparsity parameter (k) = 10\n",
      "Prior weight scaling = off\n",
      "Doubly sparse projection = off\n",
      "Debias = off\n",
      "Max IHT iterations = 200\n",
      "Converging when tol < 0.0001:\n",
      "\n",
      "Iteration 1: loglikelihood = 246.48266427359385, backtracks = 0, tol = 0.7520043193454602\n",
      "Iteration 2: loglikelihood = 1480.502027439885, backtracks = 0, tol = 0.03791016822142674\n",
      "Iteration 3: loglikelihood = 1501.078241267321, backtracks = 0, tol = 0.017401495424306013\n",
      "Iteration 4: loglikelihood = 1503.2783927518146, backtracks = 0, tol = 0.0074736488550050835\n",
      "Iteration 5: loglikelihood = 1503.6360640292346, backtracks = 0, tol = 0.0037846215141173647\n",
      "Iteration 6: loglikelihood = 1503.728823630407, backtracks = 0, tol = 0.0026931292309388104\n",
      "Iteration 7: loglikelihood = 1503.7704256409422, backtracks = 0, tol = 0.0021300555222705355\n",
      "Iteration 8: loglikelihood = 1503.7906510149592, backtracks = 0, tol = 0.0016702055867057989\n",
      "Iteration 9: loglikelihood = 1503.8007353377088, backtracks = 0, tol = 0.0014374609083050128\n",
      "Iteration 10: loglikelihood = 1503.8059207211534, backtracks = 0, tol = 0.0012247845949851213\n",
      "Iteration 11: loglikelihood = 1503.808813376953, backtracks = 0, tol = 0.0010963368034691153\n",
      "Iteration 12: loglikelihood = 1503.8101917715053, backtracks = 0, tol = 0.0009944758323344207\n",
      "Iteration 13: loglikelihood = 1503.8111477423522, backtracks = 0, tol = 0.000916027399153225\n",
      "Iteration 14: loglikelihood = 1503.8114933736292, backtracks = 0, tol = 0.000869933958701067\n",
      "Iteration 15: loglikelihood = 1503.8118941325047, backtracks = 0, tol = 0.0008175746649496199\n",
      "Iteration 16: loglikelihood = 1503.8119528489308, backtracks = 0, tol = 0.0008000569409441255\n",
      "Iteration 17: loglikelihood = 1503.8121820165113, backtracks = 0, tol = 0.000761499139711928\n",
      "Iteration 18: loglikelihood = 1503.812159593915, backtracks = 5, tol = 2.370636380134638e-5\n",
      "  0.182899 seconds (3.36 k allocations: 4.922 MiB)\n"
     ]
    },
    {
     "data": {
      "text/plain": [
       "0.009445773230658637"
      ]
     },
     "execution_count": 13,
     "metadata": {},
     "output_type": "execute_result"
    }
   ],
   "source": [
    "Random.seed!(2020)\n",
    "Yt = Matrix(Y')\n",
    "Zt = Matrix(z')\n",
    "@time result = fit_iht(Yt, Transpose(xla), Zt);\n",
    "speed_per_iter = result.time / result.iter"
   ]
  },
  {
   "cell_type": "code",
   "execution_count": 30,
   "metadata": {
    "collapsed": false
   },
   "outputs": [
    {
     "data": {
      "text/plain": [
       "Gtk.GtkWindowLeaf(name=\"\", parent, width-request=-1, height-request=-1, visible=TRUE, sensitive=TRUE, app-paintable=FALSE, can-focus=FALSE, has-focus=FALSE, is-focus=FALSE, focus-on-click=TRUE, can-default=FALSE, has-default=FALSE, receives-default=FALSE, composite-child=FALSE, style, events=0, no-show-all=FALSE, has-tooltip=FALSE, tooltip-markup=NULL, tooltip-text=NULL, window, opacity=1.000000, double-buffered, halign=GTK_ALIGN_FILL, valign=GTK_ALIGN_FILL, margin-left, margin-right, margin-start=0, margin-end=0, margin-top=0, margin-bottom=0, margin=0, hexpand=FALSE, vexpand=FALSE, hexpand-set=FALSE, vexpand-set=FALSE, expand=FALSE, scale-factor=2, border-width=0, resize-mode, child, type=GTK_WINDOW_TOPLEVEL, title=\"Profile\", role=NULL, resizable=TRUE, modal=FALSE, window-position=GTK_WIN_POS_NONE, default-width=800, default-height=600, destroy-with-parent=FALSE, hide-titlebar-when-maximized=FALSE, icon, icon-name=NULL, screen, type-hint=GDK_WINDOW_TYPE_HINT_NORMAL, skip-taskbar-hint=FALSE, skip-pager-hint=FALSE, urgency-hint=FALSE, accept-focus=TRUE, focus-on-map=TRUE, decorated=TRUE, deletable=TRUE, gravity=GDK_GRAVITY_NORTH_WEST, transient-for, attached-to, has-resize-grip, resize-grip-visible, application, is-active=FALSE, has-toplevel-focus=FALSE, startup-id, mnemonics-visible=FALSE, focus-visible=FALSE, is-maximized=FALSE)"
      ]
     },
     "execution_count": 30,
     "metadata": {},
     "output_type": "execute_result"
    },
    {
     "name": "stdout",
     "output_type": "stream",
     "text": [
      "./task.jl:356, MethodInstance for (::IJulia.var\"#15#18\")()\n",
      "/Users/biona001/.julia/dev/MendelIHT/src/multivariate.jl:54, MethodInstance for score!(::MendelIHT.mIHTVariable{Float64,Transpose{Float64,SnpLinAlg{Float64}}})\n",
      "/Users/julia/buildbot/worker/package_macos64/build/usr/share/julia/stdlib/v1.5/LinearAlgebra/src/matmul.jl:208, mul! [inlined]\n"
     ]
    }
   ],
   "source": [
    "@profview fit_iht(Yt, Transpose(xla), Zt, verbose=false)  # run once to trigger compilation (ignore this one)\n",
    "@profview fit_iht(Yt, Transpose(xla), Zt, verbose=false)"
   ]
  },
  {
   "cell_type": "code",
   "execution_count": 29,
   "metadata": {
    "collapsed": false
   },
   "outputs": [
    {
     "name": "stdout",
     "output_type": "stream",
     "text": [
      "Overhead ╎ [+additional indent] Count File:Line; Function\n",
      "=========================================================\n",
      "   ╎1140 @Base/task.jl:356; (::IJulia.var\"#15#18\")()\n",
      "   ╎ 1140 ...lia/src/eventloop.jl:8; eventloop(::ZMQ.Socket)\n",
      "   ╎  1140 @Base/essentials.jl:709; invokelatest\n",
      "   ╎   1140 @Base/essentials.jl:710; #invokelatest#1\n",
      "   ╎    1140 .../execute_request.jl:67; execute_request(::ZMQ.Socket, ...\n",
      "   ╎     1140 ...SoftGlobalScope.jl:65; softscope_include_string(::Mo...\n",
      "   ╎    ╎ 1140 @Base/loading.jl:1091; include_string(::Function, ...\n",
      "   ╎    ╎  1140 ...delIHT/src/fit.jl:58; (::MendelIHT.var\"#fit_iht##k...\n",
      "   ╎    ╎   59   ...delIHT/src/fit.jl:70; fit_iht(::Array{Float64,2},...\n",
      "   ╎    ╎    59   ...ta_structures.jl:111; initialize\n",
      "   ╎    ╎     59   ...ta_structures.jl:118; initialize(::Transpose{Fl...\n",
      "   ╎    ╎    ╎ 59   ...multivariate.jl:304; init_iht_indices!(::Mende...\n",
      "   ╎    ╎    ╎  59   ...multivariate.jl:54; score!(::MendelIHT.mIHTVa...\n",
      "   ╎    ╎    ╎   59   ...a/src/matmul.jl:208; mul!\n",
      "   ╎    ╎    ╎    59   .../src/matmul.jl:345; mul!\n",
      "   ╎    ╎    ╎     59   .../src/matmul.jl:724; generic_matmatmul!(::A...\n",
      "  1╎    ╎    ╎    ╎ 1    ...src/matmul.jl:0; _generic_matmatmul!(::...\n",
      "   ╎    ╎    ╎    ╎ 2    ...src/matmul.jl:787; _generic_matmatmul!(::...\n",
      "   ╎    ╎    ╎    ╎  2    ...src/matmul.jl:619; copy_transpose!\n",
      "  1╎    ╎    ╎    ╎   1    .../transpose.jl:181; copy_transpose!(::Arr...\n",
      "   ╎    ╎    ╎    ╎   1    .../transpose.jl:197; copy_transpose!(::Arr...\n",
      "  1╎    ╎    ╎    ╎    1    @Base/array.jl:810; getindex\n",
      "   ╎    ╎    ╎    ╎ 44   ...src/matmul.jl:788; _generic_matmatmul!(::...\n",
      "   ╎    ╎    ╎    ╎  44   ...src/matmul.jl:611; copyto!\n",
      "  1╎    ╎    ╎    ╎   1    @Base/float.jl:0; copy_transpose!(::Arr...\n",
      "  2╎    ╎    ╎    ╎   2    .../transpose.jl:0; copy_transpose!(::Arr...\n",
      "   ╎    ╎    ╎    ╎   1    .../transpose.jl:194; copy_transpose!(::Arr...\n",
      "  1╎    ╎    ╎    ╎    1    @Base/range.jl:0; iterate\n",
      "   ╎    ╎    ╎    ╎   37   .../transpose.jl:197; copy_transpose!(::Arr...\n",
      "  3╎    ╎    ╎    ╎    3    @Base/array.jl:849; setindex!\n",
      "   ╎    ╎    ╎    ╎    34   .../adjtrans.jl:190; getindex\n",
      "  7╎    ╎    ╎    ╎     7    ...lg_direct.jl:0; getindex\n",
      "   ╎    ╎    ╎    ╎     11   ...lg_direct.jl:96; getindex\n",
      "  4╎    ╎    ╎    ╎    ╎ 5    ...snparray.jl:291; convert\n",
      "   ╎    ╎    ╎    ╎    ╎ 3    ...snparray.jl:116; getindex\n",
      "   ╎    ╎    ╎    ╎    ╎  3    ...actarray.jl:506; checkbounds\n",
      "   ╎    ╎    ╎    ╎    ╎   3    ...actarray.jl:485; checkbounds\n",
      "   ╎    ╎    ╎    ╎    ╎    3    ...ctarray.jl:532; checkbounds_indices\n",
      "   ╎    ╎    ╎    ╎    ╎     3    ...ctarray.jl:532; checkbounds_indices\n",
      "   ╎    ╎    ╎    ╎    ╎    ╎ 3    ...tarray.jl:563; checkindex\n",
      "  3╎    ╎    ╎    ╎    ╎    ╎  3    @Base/int.jl:441; <=\n",
      "   ╎    ╎    ╎    ╎    ╎ 3    ...snparray.jl:118; getindex\n",
      "  1╎    ╎    ╎    ╎    ╎  1    @Base/array.jl:810; getindex\n",
      "   ╎    ╎    ╎    ╎    ╎  2    @Base/int.jl:461; >>\n",
      "  2╎    ╎    ╎    ╎    ╎   2    @Base/int.jl:455; >>\n",
      "   ╎    ╎    ╎    ╎     3    ...lg_direct.jl:97; getindex\n",
      "  2╎    ╎    ╎    ╎    ╎ 2    @Base/array.jl:0; getindex\n",
      "  1╎    ╎    ╎    ╎    ╎ 1    @Base/array.jl:809; getindex\n",
      "  2╎    ╎    ╎    ╎     4    ...lg_direct.jl:98; getindex\n",
      "  2╎    ╎    ╎    ╎    ╎ 2    @Base/array.jl:809; getindex\n",
      "  9╎    ╎    ╎    ╎     9    .../snparray.jl:0; getindex\n",
      "   ╎    ╎    ╎    ╎   2    .../transpose.jl:198; copy_transpose!(::Arr...\n",
      "   ╎    ╎    ╎    ╎    2    @Base/range.jl:624; iterate\n",
      "  2╎    ╎    ╎    ╎     2    ...promotion.jl:398; ==\n",
      "  1╎    ╎    ╎    ╎   1    .../transpose.jl:200; copy_transpose!(::Arr...\n",
      "   ╎    ╎    ╎    ╎ 11   ...src/matmul.jl:795; _generic_matmatmul!(::...\n",
      "  1╎    ╎    ╎    ╎  1    @Base/array.jl:809; getindex\n",
      "  3╎    ╎    ╎    ╎  3    @Base/float.jl:401; +\n",
      "   ╎    ╎    ╎    ╎  7    @Base/range.jl:624; iterate\n",
      "  7╎    ╎    ╎    ╎   7    .../promotion.jl:398; ==\n",
      "   ╎    ╎    ╎    ╎ 1    ...src/matmul.jl:797; _generic_matmatmul!(::...\n",
      "  1╎    ╎    ╎    ╎  1    @Base/array.jl:847; setindex!\n",
      "   ╎    ╎   1081 ...delIHT/src/fit.jl:78; fit_iht(::Array{Float64,2},...\n",
      "   ╎    ╎    1081 ...elIHT/src/fit.jl:115; fit_iht!##kw\n",
      "   ╎    ╎     1080 ...elIHT/src/fit.jl:147; fit_iht!(::MendelIHT.mIHT...\n",
      "   ╎    ╎    ╎ 7    ...lIHT/src/fit.jl:186; iht_one_step!(::MendelIHT...\n",
      "   ╎    ╎    ╎  5    ...multivariate.jl:75; _iht_gradstep!(::MendelIH...\n",
      "   ╎    ╎    ╎   5    ...rc/utilities.jl:453; project_k!\n",
      "   ╎    ╎    ╎    5    @Base/sort.jl:164; partialsort##kw\n",
      "   ╎    ╎    ╎     5    @Base/sort.jl:164; partialsort(::Array{Fl...\n",
      "   ╎    ╎    ╎    ╎ 5    @Base/sort.jl:155; partialsort!##kw\n",
      "   ╎    ╎    ╎    ╎  5    @Base/sort.jl:155; #partialsort!#2\n",
      "   ╎    ╎    ╎    ╎   5    @Base/sort.jl:96; partialsort!\n",
      "   ╎    ╎    ╎    ╎    5    @Base/sort.jl:623; sort!(::Array{Float6...\n",
      "  1╎    ╎    ╎    ╎     1    @Base/float.jl:0; partition!(::Array{...\n",
      "   ╎    ╎    ╎    ╎     2    @Base/sort.jl:550; partition!(::Array{...\n",
      "   ╎    ╎    ╎    ╎    ╎ 2    .../ordering.jl:59; lt\n",
      "   ╎    ╎    ╎    ╎    ╎  2    ...ordering.jl:58; lt\n",
      "   ╎    ╎    ╎    ╎    ╎   2    ...ordering.jl:57; lt\n",
      "  2╎    ╎    ╎    ╎    ╎    2    ...e/float.jl:465; isless\n",
      "   ╎    ╎    ╎    ╎     1    @Base/sort.jl:551; partition!(::Array{...\n",
      "   ╎    ╎    ╎    ╎    ╎ 1    .../ordering.jl:59; lt\n",
      "   ╎    ╎    ╎    ╎    ╎  1    ...ordering.jl:58; lt\n",
      "   ╎    ╎    ╎    ╎    ╎   1    ...ordering.jl:57; lt\n",
      "  1╎    ╎    ╎    ╎    ╎    1    @Base/sort.jl:0; isless\n",
      "   ╎    ╎    ╎    ╎     1    @Base/sort.jl:552; partition!(::Array{...\n",
      "   ╎    ╎    ╎    ╎    ╎ 1    ...perators.jl:350; >=\n",
      "  1╎    ╎    ╎    ╎    ╎  1    @Base/int.jl:441; <=\n",
      "   ╎    ╎    ╎  2    ...multivariate.jl:82; _iht_gradstep!(::MendelIH...\n",
      "   ╎    ╎    ╎   2    ...multivariate.jl:248; _choose!(::MendelIHT.mIH...\n",
      "  1╎    ╎    ╎    1    @Base/Base.jl:33; getproperty\n",
      "  1╎    ╎    ╎    1    @Base/array.jl:809; getindex\n",
      "   ╎    ╎    ╎ 2    ...lIHT/src/fit.jl:189; iht_one_step!(::MendelIHT...\n",
      "   ╎    ╎    ╎  1    ...multivariate.jl:22; update_xb!(::MendelIHT.mI...\n",
      "   ╎    ╎    ╎   1    ...bstractarray.jl:840; copyto!\n",
      "   ╎    ╎    ╎    1    ...stractarray.jl:866; copyto_unaliased!(::Ind...\n",
      "  1╎    ╎    ╎     1    ...stractarray.jl:985; iterate\n",
      "   ╎    ╎    ╎  1    ...multivariate.jl:24; update_xb!(::MendelIHT.mI...\n",
      "   ╎    ╎    ╎   1    ...a/src/matmul.jl:208; mul!\n",
      "   ╎    ╎    ╎    1    .../src/matmul.jl:169; mul!\n",
      "   ╎    ╎    ╎     1    .../src/matmul.jl:597; gemm_wrapper!(::Array{...\n",
      "  1╎    ╎    ╎    ╎ 1    ...a/src/blas.jl:1374; gemm!(::Char, ::Char,...\n",
      "   ╎    ╎    ╎ 1    ...lIHT/src/fit.jl:207; iht_one_step!(::MendelIHT...\n",
      "   ╎    ╎    ╎  1    ...multivariate.jl:333; backtrack!(::MendelIHT.m...\n",
      "   ╎    ╎    ╎   1    ...multivariate.jl:75; _iht_gradstep!(::MendelI...\n",
      "   ╎    ╎    ╎    1    ...c/utilities.jl:453; project_k!\n",
      "   ╎    ╎    ╎     1    @Base/sort.jl:164; partialsort##kw\n",
      "   ╎    ╎    ╎    ╎ 1    @Base/sort.jl:164; partialsort(::Array{Fl...\n",
      "   ╎    ╎    ╎    ╎  1    @Base/sort.jl:155; partialsort!##kw\n",
      "   ╎    ╎    ╎    ╎   1    @Base/sort.jl:155; #partialsort!#2\n",
      "   ╎    ╎    ╎    ╎    1    @Base/sort.jl:96; partialsort!\n",
      "   ╎    ╎    ╎    ╎     1    @Base/sort.jl:623; sort!(::Array{Float...\n",
      "   ╎    ╎    ╎    ╎    ╎ 1    @Base/sort.jl:550; partition!(::Array{...\n",
      "   ╎    ╎    ╎    ╎    ╎  1    ...ordering.jl:59; lt\n",
      "   ╎    ╎    ╎    ╎    ╎   1    ...ordering.jl:58; lt\n",
      "   ╎    ╎    ╎    ╎    ╎    1    ...ordering.jl:57; lt\n",
      "  1╎    ╎    ╎    ╎    ╎     1    @Base/float.jl:0; isless\n",
      "   ╎    ╎    ╎ 1070 ...lIHT/src/fit.jl:214; iht_one_step!(::MendelIHT...\n",
      "   ╎    ╎    ╎  1070 ...multivariate.jl:54; score!(::MendelIHT.mIHTVa...\n",
      "   ╎    ╎    ╎   1070 ...a/src/matmul.jl:208; mul!\n",
      "   ╎    ╎    ╎    1070 .../src/matmul.jl:345; mul!\n",
      "   ╎    ╎    ╎     1070 .../src/matmul.jl:724; generic_matmatmul!(::A...\n",
      "  1╎    ╎    ╎    ╎ 1    ...src/matmul.jl:0; _generic_matmatmul!(::...\n",
      "   ╎    ╎    ╎    ╎ 1    ...src/matmul.jl:783; _generic_matmatmul!(::...\n",
      "   ╎    ╎    ╎    ╎  1    @Base/array.jl:357; fill!\n",
      "  1╎    ╎    ╎    ╎   1    @Base/array.jl:847; setindex!\n",
      "   ╎    ╎    ╎    ╎ 22   ...src/matmul.jl:787; _generic_matmatmul!(::...\n",
      "   ╎    ╎    ╎    ╎  2    @Base/range.jl:5; Colon\n",
      "  1╎    ╎    ╎    ╎   2    @Base/range.jl:280; UnitRange\n",
      "   ╎    ╎    ╎    ╎    1    @Base/range.jl:285; unitrange_last\n",
      "  1╎    ╎    ╎    ╎     1    @Base/int.jl:85; -\n",
      "  2╎    ╎    ╎    ╎  20   ...src/matmul.jl:619; copy_transpose!\n",
      "   ╎    ╎    ╎    ╎   2    .../transpose.jl:196; copy_transpose!(::Arr...\n",
      "   ╎    ╎    ╎    ╎    2    @Base/range.jl:620; iterate\n",
      "   ╎    ╎    ╎    ╎     2    @Base/range.jl:503; isempty\n",
      "   ╎    ╎    ╎    ╎    ╎ 2    ...perators.jl:303; >\n",
      "  2╎    ╎    ╎    ╎    ╎  2    @Base/int.jl:82; <\n",
      "   ╎    ╎    ╎    ╎   9    .../transpose.jl:197; copy_transpose!(::Arr...\n",
      "  3╎    ╎    ╎    ╎    3    @Base/array.jl:810; getindex\n",
      "  5╎    ╎    ╎    ╎    5    @Base/array.jl:849; setindex!\n",
      "  1╎    ╎    ╎    ╎    1    @Base/range.jl:0; getindex\n",
      "   ╎    ╎    ╎    ╎   2    .../transpose.jl:198; copy_transpose!(::Arr...\n",
      "  1╎    ╎    ╎    ╎    1    @Base/int.jl:86; +\n",
      "   ╎    ╎    ╎    ╎    1    @Base/range.jl:624; iterate\n",
      "  1╎    ╎    ╎    ╎     1    ...promotion.jl:398; ==\n",
      "  1╎    ╎    ╎    ╎   5    .../transpose.jl:200; copy_transpose!(::Arr...\n",
      "  2╎    ╎    ╎    ╎    2    @Base/int.jl:86; +\n",
      "  1╎    ╎    ╎    ╎    2    @Base/range.jl:624; iterate\n",
      "  1╎    ╎    ╎    ╎     1    ...promotion.jl:398; ==\n",
      "   ╎    ╎    ╎    ╎ 853  ...src/matmul.jl:788; _generic_matmatmul!(::...\n",
      "   ╎    ╎    ╎    ╎  1    @Base/range.jl:5; Colon\n",
      "   ╎    ╎    ╎    ╎   1    @Base/range.jl:280; UnitRange\n",
      "   ╎    ╎    ╎    ╎    1    @Base/range.jl:285; unitrange_last\n",
      "   ╎    ╎    ╎    ╎     1    ...operators.jl:350; >=\n",
      "  1╎    ╎    ╎    ╎    ╎ 1    @Base/int.jl:0; <=\n",
      "   ╎    ╎    ╎    ╎  852  ...src/matmul.jl:611; copyto!\n",
      " 53╎    ╎    ╎    ╎   53   @Base/float.jl:0; copy_transpose!(::Arr...\n",
      " 12╎    ╎    ╎    ╎   12   ...alg_direct.jl:0; copy_transpose!(::Arr...\n",
      " 11╎    ╎    ╎    ╎   11   .../transpose.jl:0; copy_transpose!(::Arr...\n",
      "  1╎    ╎    ╎    ╎   1    .../transpose.jl:181; copy_transpose!(::Arr...\n",
      "  1╎    ╎    ╎    ╎   1    .../transpose.jl:192; copy_transpose!(::Arr...\n",
      "   ╎    ╎    ╎    ╎   2    .../transpose.jl:194; copy_transpose!(::Arr...\n",
      "  2╎    ╎    ╎    ╎    2    @Base/range.jl:0; iterate\n",
      "  1╎    ╎    ╎    ╎   2    .../transpose.jl:196; copy_transpose!(::Arr...\n",
      "   ╎    ╎    ╎    ╎    1    @Base/range.jl:620; iterate\n",
      "   ╎    ╎    ╎    ╎     1    @Base/range.jl:503; isempty\n",
      "   ╎    ╎    ╎    ╎    ╎ 1    ...perators.jl:303; >\n",
      "  1╎    ╎    ╎    ╎    ╎  1    @Base/int.jl:82; <\n",
      "   ╎    ╎    ╎    ╎   735  .../transpose.jl:197; copy_transpose!(::Arr...\n",
      "  3╎    ╎    ╎    ╎    3    @Base/array.jl:0; setindex!\n",
      " 58╎    ╎    ╎    ╎    58   @Base/array.jl:849; setindex!\n",
      "  1╎    ╎    ╎    ╎    1    @Base/float.jl:0; setindex!\n",
      "   ╎    ╎    ╎    ╎    673  .../adjtrans.jl:190; getindex\n",
      "185╎    ╎    ╎    ╎     185  ...lg_direct.jl:0; getindex\n",
      "  5╎    ╎    ╎    ╎     305  ...lg_direct.jl:96; getindex\n",
      "121╎    ╎    ╎    ╎    ╎ 198  ...snparray.jl:291; convert\n",
      " 19╎    ╎    ╎    ╎    ╎  19   @Base/float.jl:60; Float64\n",
      "   ╎    ╎    ╎    ╎    ╎  58   @Base/int.jl:922; -\n",
      " 58╎    ╎    ╎    ╎    ╎   58   @Base/int.jl:85; -\n",
      "   ╎    ╎    ╎    ╎    ╎ 27   ...snparray.jl:116; getindex\n",
      "  8╎    ╎    ╎    ╎    ╎  27   ...actarray.jl:506; checkbounds\n",
      "   ╎    ╎    ╎    ╎    ╎   19   ...actarray.jl:485; checkbounds\n",
      "   ╎    ╎    ╎    ╎    ╎    19   ...ctarray.jl:532; checkbounds_indices\n",
      "   ╎    ╎    ╎    ╎    ╎     19   ...ctarray.jl:532; checkbounds_indices\n",
      "   ╎    ╎    ╎    ╎    ╎    ╎ 19   ...tarray.jl:563; checkindex\n",
      " 19╎    ╎    ╎    ╎    ╎    ╎  19   @Base/int.jl:441; <=\n",
      "   ╎    ╎    ╎    ╎    ╎ 75   ...snparray.jl:118; getindex\n",
      "  6╎    ╎    ╎    ╎    ╎  6    @Base/array.jl:0; getindex\n",
      " 26╎    ╎    ╎    ╎    ╎  26   @Base/array.jl:810; getindex\n",
      "  1╎    ╎    ╎    ╎    ╎  1    @Base/int.jl:308; &\n",
      "   ╎    ╎    ╎    ╎    ╎  42   @Base/int.jl:461; >>\n",
      " 42╎    ╎    ╎    ╎    ╎   42   @Base/int.jl:455; >>\n",
      "   ╎    ╎    ╎    ╎     56   ...lg_direct.jl:97; getindex\n",
      " 44╎    ╎    ╎    ╎    ╎ 44   @Base/array.jl:0; getindex\n",
      "  3╎    ╎    ╎    ╎    ╎ 3    @Base/array.jl:809; getindex\n",
      "  9╎    ╎    ╎    ╎    ╎ 9    @Base/float.jl:403; -\n",
      "  5╎    ╎    ╎    ╎     33   ...lg_direct.jl:98; getindex\n",
      "  2╎    ╎    ╎    ╎    ╎ 2    @Base/array.jl:0; getindex\n",
      " 15╎    ╎    ╎    ╎    ╎ 15   @Base/array.jl:809; getindex\n",
      " 11╎    ╎    ╎    ╎    ╎ 11   @Base/float.jl:405; *\n",
      " 94╎    ╎    ╎    ╎     94   .../snparray.jl:0; getindex\n",
      "  1╎    ╎    ╎    ╎   30   .../transpose.jl:198; copy_transpose!(::Arr...\n",
      "   ╎    ╎    ╎    ╎    29   @Base/range.jl:624; iterate\n",
      " 29╎    ╎    ╎    ╎     29   ...promotion.jl:398; ==\n",
      "  5╎    ╎    ╎    ╎   5    .../transpose.jl:200; copy_transpose!(::Arr...\n",
      "  3╎    ╎    ╎    ╎ 178  ...src/matmul.jl:795; _generic_matmatmul!(::...\n",
      " 20╎    ╎    ╎    ╎  20   @Base/array.jl:809; getindex\n",
      " 48╎    ╎    ╎    ╎  48   @Base/float.jl:401; +\n",
      "   ╎    ╎    ╎    ╎  107  @Base/range.jl:624; iterate\n",
      "107╎    ╎    ╎    ╎   107  .../promotion.jl:398; ==\n",
      "   ╎    ╎    ╎    ╎ 13   ...src/matmul.jl:797; _generic_matmatmul!(::...\n",
      " 10╎    ╎    ╎    ╎  10   @Base/array.jl:847; setindex!\n",
      "  2╎    ╎    ╎    ╎  2    @Base/range.jl:624; iterate\n",
      "  1╎    ╎    ╎    ╎  1    ...src/matmul.jl:0; getindex\n",
      "   ╎    ╎    ╎    ╎ 2    ...src/matmul.jl:802; _generic_matmatmul!(::...\n",
      "   ╎    ╎    ╎    ╎  2    ...tractarray.jl:935; copyto!(::Array{Float...\n",
      "   ╎    ╎    ╎    ╎   2    @Base/range.jl:624; iterate\n",
      "  2╎    ╎    ╎    ╎    2    ...promotion.jl:398; ==\n",
      "   ╎    ╎     1    ...elIHT/src/fit.jl:156; fit_iht!(::MendelIHT.mIHT...\n",
      "   ╎    ╎    ╎ 1    ...multivariate.jl:324; check_convergence(::Mende...\n",
      "   ╎    ╎    ╎  1    .../src/generic.jl:611; norm(::Array{Float64,2},...\n",
      "   ╎    ╎    ╎   1    .../src/generic.jl:536; normInf\n",
      "   ╎    ╎    ╎    1    ...src/generic.jl:448; generic_normInf\n",
      "   ╎    ╎    ╎     1    @Base/array.jl:785; iterate\n",
      "   ╎    ╎    ╎    ╎ 1    @Base/int.jl:447; <\n",
      "  1╎    ╎    ╎    ╎  1    @Base/int.jl:440; <\n",
      "  1╎1    ...bra/src/transpose.jl:181; copy_transpose!(::Array{Float64...\n",
      "Total snapshots: 1141\n"
     ]
    }
   ],
   "source": [
    "fit_iht(Yt, Transpose(xla), Zt, verbose=false)\n",
    "Profile.clear()\n",
    "@profile fit_iht(Yt, Transpose(xla), Zt, verbose=false);\n",
    "Profile.print()"
   ]
  },
  {
   "cell_type": "markdown",
   "metadata": {},
   "source": [
    "# `SnpLinAlg` does NOT support matrix-matrix mul\n",
    "\n",
    "It uses a fall back to `LinearAlgebra.matmul.jl`"
   ]
  },
  {
   "cell_type": "code",
   "execution_count": 35,
   "metadata": {
    "collapsed": false
   },
   "outputs": [
    {
     "name": "stdout",
     "output_type": "stream",
     "text": [
      "  0.009754 seconds (42 allocations: 1.828 KiB)\n"
     ]
    }
   ],
   "source": [
    "# matrix-vector\n",
    "v = randn(p)\n",
    "y = zeros(n)\n",
    "@time mul!(y, xla, v);"
   ]
  },
  {
   "cell_type": "code",
   "execution_count": 49,
   "metadata": {
    "collapsed": false
   },
   "outputs": [
    {
     "name": "stdout",
     "output_type": "stream",
     "text": [
      "  0.797749 seconds (6 allocations: 336 bytes)\n"
     ]
    }
   ],
   "source": [
    "# matrix-matrix\n",
    "v = randn(p, 2)\n",
    "y = zeros(n, 2)\n",
    "@time mul!(y, xla, v);"
   ]
  },
  {
   "cell_type": "markdown",
   "metadata": {},
   "source": [
    "## Thus we build matrix-matrix `mul!` based on matrix-vector mul"
   ]
  },
  {
   "cell_type": "code",
   "execution_count": 48,
   "metadata": {
    "collapsed": false
   },
   "outputs": [
    {
     "data": {
      "text/plain": [
       "mul_test! (generic function with 1 method)"
      ]
     },
     "execution_count": 48,
     "metadata": {},
     "output_type": "execute_result"
    }
   ],
   "source": [
    "function mul_test!(\n",
    "    out::AbstractMatrix{T}, \n",
    "    sla::SnpLinAlg{T}, \n",
    "    v::AbstractMatrix{T}) where T <: AbstractFloat\n",
    "    @assert size(out, 1) == size(sla, 1) && size(v, 2) == size(v, 2) && size(sla, 2) == size(v, 1)\n",
    "    for i in 1:size(v, 2)\n",
    "        outi = @view(out[:, i])\n",
    "        vi = @view(v[:, i])\n",
    "        mul!(outi, sla, vi)\n",
    "    end\n",
    "end"
   ]
  },
  {
   "cell_type": "code",
   "execution_count": 55,
   "metadata": {
    "collapsed": false
   },
   "outputs": [
    {
     "name": "stdout",
     "output_type": "stream",
     "text": [
      "  0.790923 seconds (6 allocations: 336 bytes)\n"
     ]
    }
   ],
   "source": [
    "# original matrix-matrix fallsback to matmul.jl, which is slow\n",
    "Random.seed!(2020)\n",
    "v = randn(p, 2)\n",
    "y = zeros(n, 2)\n",
    "@time mul!(y, xla, v);"
   ]
  },
  {
   "cell_type": "code",
   "execution_count": 56,
   "metadata": {
    "collapsed": false,
    "scrolled": true
   },
   "outputs": [
    {
     "name": "stdout",
     "output_type": "stream",
     "text": [
      "  0.055297 seconds (86 allocations: 4.062 KiB)\n"
     ]
    }
   ],
   "source": [
    "# new matrix-matrix calls mul! in SnpArrays.jl for each column, which is fast!\n",
    "Random.seed!(2020)\n",
    "v = randn(p, 2)\n",
    "y2 = zeros(n, 2)\n",
    "@time mul_test!(y2, xla, v);"
   ]
  },
  {
   "cell_type": "code",
   "execution_count": 58,
   "metadata": {
    "collapsed": false
   },
   "outputs": [
    {
     "data": {
      "text/plain": [
       "true"
      ]
     },
     "execution_count": 58,
     "metadata": {},
     "output_type": "execute_result"
    },
    {
     "name": "stdout",
     "output_type": "stream",
     "text": [
      "/Users/julia/buildbot/worker/package_macos64/build/usr/share/julia/stdlib/v1.5/LinearAlgebra/src/matmul.jl:345, mul! [inlined]\n"
     ]
    }
   ],
   "source": [
    "# check correctness\n",
    "all(y .≈ y2)"
   ]
  }
 ],
 "metadata": {
  "@webio": {
   "lastCommId": null,
   "lastKernelId": null
  },
  "kernelspec": {
   "display_name": "Julia 1.5.0",
   "language": "julia",
   "name": "julia-1.5"
  },
  "language_info": {
   "file_extension": ".jl",
   "mimetype": "application/julia",
   "name": "julia",
   "version": "1.5.0"
  }
 },
 "nbformat": 4,
 "nbformat_minor": 2
}
