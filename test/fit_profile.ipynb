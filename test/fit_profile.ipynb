{
 "cells": [
  {
   "cell_type": "markdown",
   "metadata": {},
   "source": [
    "# Lets profile `fit` function for univariate and multivariate\n",
    "\n",
    "Currently multivariate IHT is ~20x slower than univariate IHT. Is that due to bad code or is estimating covariance matrix that much slower?"
   ]
  },
  {
   "cell_type": "code",
   "execution_count": 1,
   "metadata": {
    "collapsed": false
   },
   "outputs": [
    {
     "name": "stderr",
     "output_type": "stream",
     "text": [
      "┌ Info: Precompiling MendelIHT [921c7187-1484-5754-b919-5d3ed9ac03c4]\n",
      "└ @ Base loading.jl:1278\n"
     ]
    }
   ],
   "source": [
    "using Revise\n",
    "using MendelIHT\n",
    "using SnpArrays\n",
    "using Random\n",
    "using GLM\n",
    "using DelimitedFiles\n",
    "using Test\n",
    "using Distributions\n",
    "using LinearAlgebra\n",
    "using CSV\n",
    "using DataFrames\n",
    "using StatsBase\n",
    "using Profile\n",
    "using ProfileView\n",
    "BLAS.set_num_threads(1) # remember to set BLAS threads to 1 !!!"
   ]
  },
  {
   "cell_type": "markdown",
   "metadata": {},
   "source": [
    "## Univariate response with SnpLinAlg"
   ]
  },
  {
   "cell_type": "code",
   "execution_count": 2,
   "metadata": {
    "collapsed": false
   },
   "outputs": [],
   "source": [
    "n = 1000  # number of samples\n",
    "p = 10000 # number of SNPs\n",
    "k = 10    # number of causal SNPs per trait\n",
    "d = Normal\n",
    "l = canonicallink(d())\n",
    "\n",
    "# set random seed for reproducibility\n",
    "Random.seed!(2021)\n",
    "\n",
    "# simulate `.bed` file with no missing data\n",
    "x = simulate_random_snparray(undef, n, p)\n",
    "xla = SnpLinAlg{Float64}(x, model=ADDITIVE_MODEL, center=true, scale=true) \n",
    "\n",
    "# intercept is the only nongenetic covariate\n",
    "z = ones(n)\n",
    "intercept = 1.0\n",
    "\n",
    "# simulate response y, true model b, and the correct non-0 positions of b\n",
    "Y, true_b, correct_position = simulate_random_response(xla, k, d, l, Zu=z*intercept);"
   ]
  },
  {
   "cell_type": "code",
   "execution_count": 4,
   "metadata": {
    "collapsed": false
   },
   "outputs": [
    {
     "name": "stdout",
     "output_type": "stream",
     "text": [
      "****                   MendelIHT Version 1.4.0                  ****\n",
      "****     Benjamin Chu, Kevin Keys, Chris German, Hua Zhou       ****\n",
      "****   Jin Zhou, Eric Sobel, Janet Sinsheimer, Kenneth Lange    ****\n",
      "****                                                            ****\n",
      "****                 Please cite our paper!                     ****\n",
      "****         https://doi.org/10.1093/gigascience/giaa044        ****\n",
      "\n",
      "Running sparse linear regression\n",
      "Link functin = IdentityLink()\n",
      "Sparsity parameter (k) = 10\n",
      "Prior weight scaling = off\n",
      "Doubly sparse projection = off\n",
      "Debias = off\n",
      "Max IHT iterations = 200\n",
      "Converging when tol < 0.0001:\n",
      "\n",
      "Iteration 1: loglikelihood = -1555.2120188322158, backtracks = 0, tol = 0.6244599273449228\n",
      "Iteration 2: loglikelihood = -1486.0751108703125, backtracks = 0, tol = 0.12833948300313805\n",
      "Iteration 3: loglikelihood = -1480.1283538979592, backtracks = 0, tol = 0.05314824937761959\n",
      "Iteration 4: loglikelihood = -1479.7262774611138, backtracks = 0, tol = 0.006247043188130052\n",
      "Iteration 5: loglikelihood = -1479.7182469058216, backtracks = 0, tol = 0.0010171725953994843\n",
      "Iteration 6: loglikelihood = -1479.7180439332667, backtracks = 0, tol = 0.00013803439600961948\n",
      "Iteration 7: loglikelihood = -1479.718038437782, backtracks = 0, tol = 3.024997540169187e-5\n",
      "  0.049364 seconds (160.82 k allocations: 3.723 MiB)\n"
     ]
    },
    {
     "data": {
      "text/plain": [
       "0.006113835743495396"
      ]
     },
     "execution_count": 4,
     "metadata": {},
     "output_type": "execute_result"
    }
   ],
   "source": [
    "Random.seed!(2020)\n",
    "@time result = fit_iht(Y, xla, z);\n",
    "speed_per_iter = result.time / result.iter"
   ]
  },
  {
   "cell_type": "markdown",
   "metadata": {},
   "source": [
    "Univariate IHT runs at 0.006 seconds per iteration. Let's profile our fit function."
   ]
  },
  {
   "cell_type": "code",
   "execution_count": 21,
   "metadata": {
    "collapsed": false
   },
   "outputs": [
    {
     "data": {
      "text/plain": [
       "Gtk.GtkWindowLeaf(name=\"\", parent, width-request=-1, height-request=-1, visible=TRUE, sensitive=TRUE, app-paintable=FALSE, can-focus=FALSE, has-focus=FALSE, is-focus=FALSE, focus-on-click=TRUE, can-default=FALSE, has-default=FALSE, receives-default=FALSE, composite-child=FALSE, style, events=0, no-show-all=FALSE, has-tooltip=FALSE, tooltip-markup=NULL, tooltip-text=NULL, window, opacity=1.000000, double-buffered, halign=GTK_ALIGN_FILL, valign=GTK_ALIGN_FILL, margin-left, margin-right, margin-start=0, margin-end=0, margin-top=0, margin-bottom=0, margin=0, hexpand=FALSE, vexpand=FALSE, hexpand-set=FALSE, vexpand-set=FALSE, expand=FALSE, scale-factor=2, border-width=0, resize-mode, child, type=GTK_WINDOW_TOPLEVEL, title=\"Profile\", role=NULL, resizable=TRUE, modal=FALSE, window-position=GTK_WIN_POS_NONE, default-width=800, default-height=600, destroy-with-parent=FALSE, hide-titlebar-when-maximized=FALSE, icon, icon-name=NULL, screen, type-hint=GDK_WINDOW_TYPE_HINT_NORMAL, skip-taskbar-hint=FALSE, skip-pager-hint=FALSE, urgency-hint=FALSE, accept-focus=TRUE, focus-on-map=TRUE, decorated=TRUE, deletable=TRUE, gravity=GDK_GRAVITY_NORTH_WEST, transient-for, attached-to, has-resize-grip, resize-grip-visible, application, is-active=FALSE, has-toplevel-focus=FALSE, startup-id, mnemonics-visible=FALSE, focus-visible=FALSE, is-maximized=FALSE)"
      ]
     },
     "execution_count": 21,
     "metadata": {},
     "output_type": "execute_result"
    }
   ],
   "source": [
    "@profview fit_iht(Y, xla, z, verbose=false)  # run once to trigger compilation (ignore this one)\n",
    "@profview fit_iht(Y, xla, z, verbose=false)"
   ]
  },
  {
   "cell_type": "code",
   "execution_count": 18,
   "metadata": {
    "collapsed": false
   },
   "outputs": [
    {
     "name": "stdout",
     "output_type": "stream",
     "text": [
      "Overhead ╎ [+additional indent] Count File:Line; Function\n",
      "=========================================================\n",
      " ╎30 @Base/task.jl:356; (::IJulia.var\"#15#18\")()\n",
      " ╎ 30 @IJulia/src/eventloop.jl:8; eventloop(::ZMQ.Socket)\n",
      " ╎  30 @Base/essentials.jl:709; invokelatest\n",
      " ╎   30 @Base/essentials.jl:710; #invokelatest#1\n",
      " ╎    30 ...c/execute_request.jl:67; execute_request(::ZMQ.Socket, ::...\n",
      " ╎     30 ...c/SoftGlobalScope.jl:65; softscope_include_string(::Modu...\n",
      " ╎    ╎ 30 @Base/loading.jl:1091; include_string(::Function, ::M...\n",
      " ╎    ╎  30 @MendelIHT/src/fit.jl:58; (::MendelIHT.var\"#fit_iht##kw\"...\n",
      " ╎    ╎   4  @MendelIHT/src/fit.jl:70; fit_iht(::Array{Float64,1}, ::...\n",
      " ╎    ╎    4  ...data_structures.jl:111; initialize\n",
      " ╎    ╎     4  ...ata_structures.jl:118; initialize(::SnpLinAlg{Float...\n",
      " ╎    ╎    ╎ 3  .../src/utilities.jl:312; init_iht_indices!(::IHTVari...\n",
      " ╎    ╎    ╎  3  .../src/utilities.jl:116; score!(::IHTVariable{Float6...\n",
      " ╎    ╎    ╎   3  ...linalg_direct.jl:160; mul!(::Array{Float64,1}, :...\n",
      " ╎    ╎    ╎    3  ...linalg_direct.jl:313; _snparray_atx_tile!(::Arr...\n",
      " ╎    ╎    ╎     3  ...inalg_direct.jl:403; _snparray_atx_additive_me...\n",
      " ╎    ╎    ╎    ╎ 3  ...ruct_loopset.jl:503; _avx_!(::Val{(0, 0, 0, 4...\n",
      " ╎    ╎    ╎    ╎  3  ...ruct_loopset.jl:503; macro expansion\n",
      " ╎    ╎    ╎    ╎   2  ...e/operators.jl:538; +\n",
      " ╎    ╎    ╎    ╎    1  ..._arithmetic.jl:59; +\n",
      " ╎    ╎    ╎    ╎     1  ...efinitions.jl:190; vconvert\n",
      " ╎    ╎    ╎    ╎    ╎ 1  ...efinitions.jl:101; vconvert\n",
      " ╎    ╎    ╎    ╎    ╎  1  ...efinitions.jl:113; macro expansion\n",
      " ╎    ╎    ╎    ╎    1  ...e/src/masks.jl:74; +\n",
      "1╎    ╎    ╎    ╎     1  ...e/src/masks.jl:69; vadd\n",
      " ╎    ╎    ╎    ╎   1  ...ectorizable.jl:330; vload\n",
      " ╎    ╎    ╎    ╎    1  ...ectorizable.jl:322; vloadstride\n",
      " ╎    ╎    ╎    ╎     1  ...src/static.jl:367; vload\n",
      " ╎    ╎    ╎    ╎    ╎ 1  ...src/memory.jl:904; vload\n",
      " ╎    ╎    ╎    ╎    ╎  1  ...src/memory.jl:708; gather\n",
      "1╎    ╎    ╎    ╎    ╎   1  ...rc/memory.jl:739; macro expansion\n",
      " ╎    ╎    ╎ 1  .../src/utilities.jl:319; init_iht_indices!(::IHTVari...\n",
      " ╎    ╎    ╎  1  @Base/sort.jl:164; partialsort##kw\n",
      " ╎    ╎    ╎   1  @Base/sort.jl:164; partialsort(::Array{Float6...\n",
      " ╎    ╎    ╎    1  @Base/sort.jl:155; partialsort!##kw\n",
      " ╎    ╎    ╎     1  @Base/sort.jl:155; #partialsort!#2\n",
      " ╎    ╎    ╎    ╎ 1  @Base/sort.jl:96; partialsort!\n",
      " ╎    ╎    ╎    ╎  1  @Base/sort.jl:623; sort!(::Array{Float64,1}...\n",
      " ╎    ╎    ╎    ╎   1  @Base/sort.jl:551; partition!(::Array{Floa...\n",
      " ╎    ╎    ╎    ╎    1  @Base/ordering.jl:59; lt\n",
      " ╎    ╎    ╎    ╎     1  @Base/ordering.jl:58; lt\n",
      " ╎    ╎    ╎    ╎    ╎ 1  ...e/ordering.jl:57; lt\n",
      "1╎    ╎    ╎    ╎    ╎  1  @Base/float.jl:465; isless\n",
      " ╎    ╎   26 @MendelIHT/src/fit.jl:78; fit_iht(::Array{Float64,1}, ::...\n",
      " ╎    ╎    26 @MendelIHT/src/fit.jl:115; fit_iht!##kw\n",
      " ╎    ╎     26 ...delIHT/src/fit.jl:147; fit_iht!(::IHTVariable{Float...\n",
      "1╎    ╎    ╎ 1  ...delIHT/src/fit.jl:190; iht_one_step!(::IHTVariable...\n",
      " ╎    ╎    ╎ 25 ...delIHT/src/fit.jl:214; iht_one_step!(::IHTVariable...\n",
      " ╎    ╎    ╎  25 .../src/utilities.jl:116; score!(::IHTVariable{Float6...\n",
      " ╎    ╎    ╎   25 ...linalg_direct.jl:160; mul!(::Array{Float64,1}, :...\n",
      " ╎    ╎    ╎    19 ...linalg_direct.jl:313; _snparray_atx_tile!(::Arr...\n",
      " ╎    ╎    ╎     19 ...inalg_direct.jl:403; _snparray_atx_additive_me...\n",
      " ╎    ╎    ╎    ╎ 19 ...ruct_loopset.jl:503; _avx_!(::Val{(0, 0, 0, 4...\n",
      " ╎    ╎    ╎    ╎  19 ...ruct_loopset.jl:503; macro expansion\n",
      " ╎    ╎    ╎    ╎   8  ...e/operators.jl:538; +\n",
      " ╎    ╎    ╎    ╎    3  ..._arithmetic.jl:59; +\n",
      " ╎    ╎    ╎    ╎     3  ...SIMDPirates.jl:79; +\n",
      " ╎    ╎    ╎    ╎    ╎ 3  ...c/llvmwrap.jl:69; llvmwrap\n",
      " ╎    ╎    ╎    ╎    ╎  3  ...c/llvmwrap.jl:69; llvmwrap\n",
      "3╎    ╎    ╎    ╎    ╎   3  ...c/llvmwrap.jl:97; macro expansion\n",
      " ╎    ╎    ╎    ╎    5  ...e/src/masks.jl:74; +\n",
      "5╎    ╎    ╎    ╎     5  ...e/src/masks.jl:69; vadd\n",
      " ╎    ╎    ╎    ╎   2  ...SIMDPirates.jl:79; &\n",
      " ╎    ╎    ╎    ╎    2  ...SIMDPirates.jl:74; vand\n",
      " ╎    ╎    ╎    ╎     2  ..._arithmetic.jl:62; macro expansion\n",
      " ╎    ╎    ╎    ╎    ╎ 2  ...c/llvmwrap.jl:69; llvmwrap\n",
      " ╎    ╎    ╎    ╎    ╎  2  ...c/llvmwrap.jl:69; llvmwrap\n",
      "2╎    ╎    ╎    ╎    ╎   2  ...c/llvmwrap.jl:97; macro expansion\n",
      " ╎    ╎    ╎    ╎   3  ...SIMDPirates.jl:79; ==\n",
      " ╎    ╎    ╎    ╎    3  ...SIMDPirates.jl:74; visequal\n",
      " ╎    ╎    ╎    ╎     3  ...onditionals.jl:12; macro expansion\n",
      " ╎    ╎    ╎    ╎    ╎ 3  ...c/llvmwrap.jl:166; llvmwrap_bitmask\n",
      "3╎    ╎    ╎    ╎    ╎  3  ...c/llvmwrap.jl:188; macro expansion\n",
      " ╎    ╎    ╎    ╎   2  ...SIMDPirates.jl:108; vfmadd231\n",
      "2╎    ╎    ╎    ╎    2  ..._arithmetic.jl:697; vfmadd231\n",
      " ╎    ╎    ╎    ╎   2  ..._arithmetic.jl:625; *\n",
      " ╎    ╎    ╎    ╎    2  ...onditionals.jl:173; vifelse\n",
      " ╎    ╎    ╎    ╎     2  ...nditionals.jl:123; vifelse\n",
      "2╎    ╎    ╎    ╎    ╎ 2  ...nditionals.jl:153; macro expansion\n",
      " ╎    ╎    ╎    ╎   1  .../src/vrange.jl:123; *\n",
      " ╎    ╎    ╎    ╎    1  .../src/vrange.jl:83; svrange\n",
      " ╎    ╎    ╎    ╎     1  .../src/vrange.jl:4; vrangeincr\n",
      "1╎    ╎    ╎    ╎    ╎ 1  ...src/vrange.jl:20; macro expansion\n",
      " ╎    ╎    ╎    ╎   1  ...ectorizable.jl:329; vload\n",
      " ╎    ╎    ╎    ╎    1  ...ectorizable.jl:321; vloadstride\n",
      " ╎    ╎    ╎    ╎     1  ...src/static.jl:267; vload\n",
      " ╎    ╎    ╎    ╎    ╎ 1  ...src/memory.jl:372; vload\n",
      " ╎    ╎    ╎    ╎    ╎  1  ...src/memory.jl:110; vload\n",
      "1╎    ╎    ╎    ╎    ╎   1  ...rc/memory.jl:135; macro expansion\n",
      " ╎    ╎    ╎    6  ...linalg_direct.jl:323; _snparray_atx_tile!(::Arr...\n",
      " ╎    ╎    ╎     6  ...inalg_direct.jl:403; _snparray_atx_additive_me...\n",
      " ╎    ╎    ╎    ╎ 6  ...ruct_loopset.jl:503; _avx_!(::Val{(0, 0, 0, 4...\n",
      " ╎    ╎    ╎    ╎  6  ...ruct_loopset.jl:503; macro expansion\n",
      " ╎    ╎    ╎    ╎   2  ...e/operators.jl:538; +\n",
      " ╎    ╎    ╎    ╎    2  ..._arithmetic.jl:59; +\n",
      " ╎    ╎    ╎    ╎     1  ...IMDPirates.jl:79; +\n",
      " ╎    ╎    ╎    ╎    ╎ 1  ...c/llvmwrap.jl:69; llvmwrap\n",
      " ╎    ╎    ╎    ╎    ╎  1  ...c/llvmwrap.jl:69; llvmwrap\n",
      "1╎    ╎    ╎    ╎    ╎   1  ...c/llvmwrap.jl:97; macro expansion\n",
      " ╎    ╎    ╎    ╎     1  ...efinitions.jl:190; vconvert\n",
      " ╎    ╎    ╎    ╎    ╎ 1  ...efinitions.jl:101; vconvert\n",
      "1╎    ╎    ╎    ╎    ╎  1  ...efinitions.jl:113; macro expansion\n",
      " ╎    ╎    ╎    ╎   1  ...SIMDPirates.jl:79; ==\n",
      " ╎    ╎    ╎    ╎    1  ...SIMDPirates.jl:74; visequal\n",
      " ╎    ╎    ╎    ╎     1  ...onditionals.jl:12; macro expansion\n",
      " ╎    ╎    ╎    ╎    ╎ 1  ...c/llvmwrap.jl:166; llvmwrap_bitmask\n",
      "1╎    ╎    ╎    ╎    ╎  1  ...c/llvmwrap.jl:188; macro expansion\n",
      " ╎    ╎    ╎    ╎   3  ...ectorizable.jl:329; vload\n",
      " ╎    ╎    ╎    ╎    3  ...ectorizable.jl:321; vloadstride\n",
      " ╎    ╎    ╎    ╎     3  ...src/static.jl:366; vload\n",
      " ╎    ╎    ╎    ╎    ╎ 3  ...src/memory.jl:903; vload\n",
      " ╎    ╎    ╎    ╎    ╎  3  ...src/memory.jl:677; gather\n",
      "3╎    ╎    ╎    ╎    ╎   3  ...rc/memory.jl:700; macro expansion\n",
      "Total snapshots: 30\n"
     ]
    }
   ],
   "source": [
    "fit_iht(Y, xla, z, verbose=false)\n",
    "Profile.clear()\n",
    "@profile fit_iht(Y, xla, z, verbose=false);\n",
    "Profile.print()"
   ]
  },
  {
   "cell_type": "markdown",
   "metadata": {},
   "source": [
    "**Conclusion:** In univariate IHT, most time (26/30 samples) are spent on `score!` function, specifically on the line `mul!(v.df, Transpose(x), v.r)` (i.e. computing the gradient which requires full genotype matrix times dense vector). This is expected."
   ]
  },
  {
   "cell_type": "markdown",
   "metadata": {},
   "source": [
    "## Multivariate response with SnpLinAlg"
   ]
  },
  {
   "cell_type": "code",
   "execution_count": 33,
   "metadata": {
    "collapsed": false
   },
   "outputs": [],
   "source": [
    "n = 1000  # number of samples\n",
    "p = 10000 # number of SNPs\n",
    "k = 10    # number of causal SNPs per trait\n",
    "r = 2     # number of traits\n",
    "\n",
    "# set random seed for reproducibility\n",
    "Random.seed!(2021)\n",
    "\n",
    "# simulate `.bed` file with no missing data\n",
    "x = simulate_random_snparray(undef, n, p)\n",
    "xla = SnpLinAlg{Float64}(x, model=ADDITIVE_MODEL, center=true, scale=true) \n",
    "\n",
    "# intercept is the only nongenetic covariate\n",
    "z = ones(n, 1)\n",
    "intercepts = randn(r)' # each trait have different intercept\n",
    "\n",
    "# simulate response y, true model b, and the correct non-0 positions of b\n",
    "Y, true_Σ, true_b, correct_position = simulate_random_response(xla, k, r, Zu=z*intercepts, overlap=2);"
   ]
  },
  {
   "cell_type": "code",
   "execution_count": 42,
   "metadata": {
    "collapsed": false
   },
   "outputs": [
    {
     "name": "stdout",
     "output_type": "stream",
     "text": [
      "****                   MendelIHT Version 1.4.0                  ****\n",
      "****     Benjamin Chu, Kevin Keys, Chris German, Hua Zhou       ****\n",
      "****   Jin Zhou, Eric Sobel, Janet Sinsheimer, Kenneth Lange    ****\n",
      "****                                                            ****\n",
      "****                 Please cite our paper!                     ****\n",
      "****         https://doi.org/10.1093/gigascience/giaa044        ****\n",
      "\n",
      "Running sparse Multivariate Gaussian regression\n",
      "Link functin = IdentityLink()\n",
      "Sparsity parameter (k) = 10\n",
      "Prior weight scaling = off\n",
      "Doubly sparse projection = off\n",
      "Debias = off\n",
      "Max IHT iterations = 200\n",
      "Converging when tol < 0.0001:\n",
      "\n",
      "Iteration 1: loglikelihood = 246.48266427359385, backtracks = 0, tol = 0.7520043193454602\n",
      "Iteration 2: loglikelihood = 1480.502027439885, backtracks = 0, tol = 0.03791016822142674\n",
      "Iteration 3: loglikelihood = 1501.078241267321, backtracks = 0, tol = 0.017401495424306013\n",
      "Iteration 4: loglikelihood = 1503.2783927518146, backtracks = 0, tol = 0.0074736488550050835\n",
      "Iteration 5: loglikelihood = 1503.6360640292346, backtracks = 0, tol = 0.0037846215141173647\n",
      "Iteration 6: loglikelihood = 1503.728823630407, backtracks = 0, tol = 0.0026931292309388104\n",
      "Iteration 7: loglikelihood = 1503.7704256409422, backtracks = 0, tol = 0.0021300555222705355\n",
      "Iteration 8: loglikelihood = 1503.7906510149592, backtracks = 0, tol = 0.0016702055867057989\n",
      "Iteration 9: loglikelihood = 1503.8007353377088, backtracks = 0, tol = 0.0014374609083050128\n",
      "Iteration 10: loglikelihood = 1503.8059207211534, backtracks = 0, tol = 0.0012247845949851213\n",
      "Iteration 11: loglikelihood = 1503.808813376953, backtracks = 0, tol = 0.0010963368034691153\n",
      "Iteration 12: loglikelihood = 1503.8101917715053, backtracks = 0, tol = 0.0009944758323344207\n",
      "Iteration 13: loglikelihood = 1503.8111477423522, backtracks = 0, tol = 0.000916027399153225\n",
      "Iteration 14: loglikelihood = 1503.8114933736292, backtracks = 0, tol = 0.000869933958701067\n",
      "Iteration 15: loglikelihood = 1503.8118941325047, backtracks = 0, tol = 0.0008175746649496199\n",
      "Iteration 16: loglikelihood = 1503.8119528489308, backtracks = 0, tol = 0.0008000569409441255\n",
      "Iteration 17: loglikelihood = 1503.8121820165113, backtracks = 0, tol = 0.000761499139711928\n",
      "Iteration 18: loglikelihood = 1503.812159593915, backtracks = 5, tol = 2.370636380134638e-5\n",
      "  0.409063 seconds (3.56 k allocations: 4.935 MiB)\n"
     ]
    },
    {
     "data": {
      "text/plain": [
       "0.022071493996514216"
      ]
     },
     "execution_count": 42,
     "metadata": {},
     "output_type": "execute_result"
    }
   ],
   "source": [
    "Random.seed!(2020)\n",
    "Yt = Matrix(Y')\n",
    "Zt = Matrix(z')\n",
    "@time result = fit_iht(Yt, Transpose(xla), Zt);\n",
    "speed_per_iter = result.time / result.iter"
   ]
  },
  {
   "cell_type": "code",
   "execution_count": 11,
   "metadata": {
    "collapsed": false
   },
   "outputs": [
    {
     "data": {
      "text/plain": [
       "Gtk.GtkWindowLeaf(name=\"\", parent, width-request=-1, height-request=-1, visible=TRUE, sensitive=TRUE, app-paintable=FALSE, can-focus=FALSE, has-focus=FALSE, is-focus=FALSE, focus-on-click=TRUE, can-default=FALSE, has-default=FALSE, receives-default=FALSE, composite-child=FALSE, style, events=0, no-show-all=FALSE, has-tooltip=FALSE, tooltip-markup=NULL, tooltip-text=NULL, window, opacity=1.000000, double-buffered, halign=GTK_ALIGN_FILL, valign=GTK_ALIGN_FILL, margin-left, margin-right, margin-start=0, margin-end=0, margin-top=0, margin-bottom=0, margin=0, hexpand=FALSE, vexpand=FALSE, hexpand-set=FALSE, vexpand-set=FALSE, expand=FALSE, scale-factor=2, border-width=0, resize-mode, child, type=GTK_WINDOW_TOPLEVEL, title=\"Profile\", role=NULL, resizable=TRUE, modal=FALSE, window-position=GTK_WIN_POS_NONE, default-width=800, default-height=600, destroy-with-parent=FALSE, hide-titlebar-when-maximized=FALSE, icon, icon-name=NULL, screen, type-hint=GDK_WINDOW_TYPE_HINT_NORMAL, skip-taskbar-hint=FALSE, skip-pager-hint=FALSE, urgency-hint=FALSE, accept-focus=TRUE, focus-on-map=TRUE, decorated=TRUE, deletable=TRUE, gravity=GDK_GRAVITY_NORTH_WEST, transient-for, attached-to, has-resize-grip, resize-grip-visible, application, is-active=FALSE, has-toplevel-focus=FALSE, startup-id, mnemonics-visible=FALSE, focus-visible=FALSE, is-maximized=FALSE)"
      ]
     },
     "execution_count": 11,
     "metadata": {},
     "output_type": "execute_result"
    }
   ],
   "source": [
    "@profview fit_iht(Yt, Transpose(xla), Zt, verbose=false)  # run once to trigger compilation (ignore this one)\n",
    "@profview fit_iht(Yt, Transpose(xla), Zt, verbose=false)"
   ]
  },
  {
   "cell_type": "code",
   "execution_count": 9,
   "metadata": {
    "collapsed": false
   },
   "outputs": [
    {
     "name": "stdout",
     "output_type": "stream",
     "text": [
      "Overhead ╎ [+additional indent] Count File:Line; Function\n",
      "=========================================================\n",
      "  ╎121 @Base/task.jl:356; (::IJulia.var\"#15#18\")()\n",
      "  ╎ 121 @IJulia/src/eventloop.jl:8; eventloop(::ZMQ.Socket)\n",
      "  ╎  121 @Base/essentials.jl:709; invokelatest\n",
      "  ╎   121 @Base/essentials.jl:710; #invokelatest#1\n",
      "  ╎    121 .../execute_request.jl:67; execute_request(::ZMQ.Socket, :...\n",
      "  ╎     121 .../SoftGlobalScope.jl:65; softscope_include_string(::Mod...\n",
      " 1╎    ╎ 121 @Base/loading.jl:1091; include_string(::Function, :...\n",
      "  ╎    ╎  120 @MendelIHT/src/fit.jl:58; (::MendelIHT.var\"#fit_iht##kw...\n",
      "  ╎    ╎   6   @MendelIHT/src/fit.jl:70; fit_iht(::Array{Float64,2}, ...\n",
      "  ╎    ╎    6   ...ata_structures.jl:111; initialize\n",
      "  ╎    ╎     6   ...ata_structures.jl:118; initialize(::Transpose{Floa...\n",
      "  ╎    ╎    ╎ 6   .../multivariate.jl:334; init_iht_indices!(::Mendel...\n",
      "  ╎    ╎    ╎  6   .../multivariate.jl:54; score!(::MendelIHT.mIHTVar...\n",
      "  ╎    ╎    ╎   6   .../multivariate.jl:73; update_df!(::MendelIHT.mI...\n",
      "  ╎    ╎    ╎    6   ...multivariate.jl:84; adhoc_mul!(::Array{Float6...\n",
      "  ╎    ╎    ╎     6   ...inalg_direct.jl:160; mul!(::SubArray{Float64,...\n",
      "  ╎    ╎    ╎    ╎ 4   ...nalg_direct.jl:313; _snparray_atx_tile!(::S...\n",
      "  ╎    ╎    ╎    ╎  4   ...nalg_direct.jl:403; _snparray_atx_additive...\n",
      "  ╎    ╎    ╎    ╎   4   ...ct_loopset.jl:503; _avx_!(::Val{(0, 0, 0,...\n",
      "  ╎    ╎    ╎    ╎    4   ...ct_loopset.jl:503; macro expansion\n",
      "  ╎    ╎    ╎    ╎     1   .../operators.jl:538; +\n",
      "  ╎    ╎    ╎    ╎    ╎ 1   ...arithmetic.jl:59; +\n",
      "  ╎    ╎    ╎    ╎    ╎  1   ...MDPirates.jl:79; +\n",
      "  ╎    ╎    ╎    ╎    ╎   1   .../llvmwrap.jl:69; llvmwrap\n",
      "  ╎    ╎    ╎    ╎    ╎    1   ...llvmwrap.jl:69; llvmwrap\n",
      " 1╎    ╎    ╎    ╎    ╎     1   ...llvmwrap.jl:97; macro expansion\n",
      "  ╎    ╎    ╎    ╎     1   ...IMDPirates.jl:79; ==\n",
      "  ╎    ╎    ╎    ╎    ╎ 1   ...IMDPirates.jl:74; visequal\n",
      "  ╎    ╎    ╎    ╎    ╎  1   ...ditionals.jl:12; macro expansion\n",
      "  ╎    ╎    ╎    ╎    ╎   1   ...llvmwrap.jl:166; llvmwrap_bitmask\n",
      " 1╎    ╎    ╎    ╎    ╎    1   ...llvmwrap.jl:188; macro expansion\n",
      "  ╎    ╎    ╎    ╎     2   ...ctorizable.jl:329; vload\n",
      "  ╎    ╎    ╎    ╎    ╎ 2   ...torizable.jl:321; vloadstride\n",
      "  ╎    ╎    ╎    ╎    ╎  2   ...rc/static.jl:366; vload\n",
      "  ╎    ╎    ╎    ╎    ╎   2   ...c/memory.jl:903; vload\n",
      "  ╎    ╎    ╎    ╎    ╎    2   ...c/memory.jl:677; gather\n",
      " 1╎    ╎    ╎    ╎    ╎     2   ...c/memory.jl:700; macro expansion\n",
      "  ╎    ╎    ╎    ╎ 2   ...nalg_direct.jl:323; _snparray_atx_tile!(::S...\n",
      "  ╎    ╎    ╎    ╎  2   ...nalg_direct.jl:403; _snparray_atx_additive...\n",
      "  ╎    ╎    ╎    ╎   2   ...ct_loopset.jl:503; _avx_!(::Val{(0, 0, 0,...\n",
      "  ╎    ╎    ╎    ╎    2   ...ct_loopset.jl:503; macro expansion\n",
      "  ╎    ╎    ╎    ╎     1   .../operators.jl:538; +\n",
      "  ╎    ╎    ╎    ╎    ╎ 1   ...arithmetic.jl:59; +\n",
      "  ╎    ╎    ╎    ╎    ╎  1   ...MDPirates.jl:79; +\n",
      "  ╎    ╎    ╎    ╎    ╎   1   .../llvmwrap.jl:69; llvmwrap\n",
      "  ╎    ╎    ╎    ╎    ╎    1   ...llvmwrap.jl:69; llvmwrap\n",
      " 1╎    ╎    ╎    ╎    ╎     1   ...llvmwrap.jl:97; macro expansion\n",
      "  ╎    ╎    ╎    ╎     1   ...ctorizable.jl:329; vload\n",
      "  ╎    ╎    ╎    ╎    ╎ 1   ...torizable.jl:321; vloadstride\n",
      "  ╎    ╎    ╎    ╎    ╎  1   ...rc/static.jl:366; vload\n",
      "  ╎    ╎    ╎    ╎    ╎   1   ...c/memory.jl:903; vload\n",
      "  ╎    ╎    ╎    ╎    ╎    1   ...c/memory.jl:677; gather\n",
      " 1╎    ╎    ╎    ╎    ╎     1   ...c/memory.jl:700; macro expansion\n",
      "  ╎    ╎   114 @MendelIHT/src/fit.jl:78; fit_iht(::Array{Float64,2}, ...\n",
      "  ╎    ╎    114 ...delIHT/src/fit.jl:115; fit_iht!##kw\n",
      "  ╎    ╎     112 ...delIHT/src/fit.jl:147; fit_iht!(::MendelIHT.mIHTVa...\n",
      "  ╎    ╎    ╎ 3   ...elIHT/src/fit.jl:186; iht_one_step!(::MendelIHT....\n",
      "  ╎    ╎    ╎  1   .../multivariate.jl:98; _iht_gradstep!(::MendelIH...\n",
      "  ╎    ╎    ╎   1   ...bra/src/blas.jl:500; axpy!\n",
      " 1╎    ╎    ╎    1   ...bra/src/blas.jl:489; axpy!(::Int64, ::Float64...\n",
      "  ╎    ╎    ╎  1   .../multivariate.jl:102; _iht_gradstep!(::MendelIH...\n",
      "  ╎    ╎    ╎   1   ...multivariate.jl:130; vectorize!(::Array{Float6...\n",
      "  ╎    ╎    ╎    1   @Base/simdloop.jl:77; macro expansion\n",
      "  ╎    ╎    ╎     1   ...multivariate.jl:131; macro expansion\n",
      " 1╎    ╎    ╎    ╎ 1   @Base/array.jl:847; setindex!\n",
      "  ╎    ╎    ╎  1   .../multivariate.jl:105; _iht_gradstep!(::MendelIH...\n",
      "  ╎    ╎    ╎   1   ...rc/utilities.jl:453; project_k!\n",
      "  ╎    ╎    ╎    1   @Base/sort.jl:164; partialsort##kw\n",
      "  ╎    ╎    ╎     1   @Base/sort.jl:164; partialsort(::Array{Floa...\n",
      "  ╎    ╎    ╎    ╎ 1   @Base/sort.jl:155; partialsort!##kw\n",
      "  ╎    ╎    ╎    ╎  1   @Base/sort.jl:155; #partialsort!#2\n",
      "  ╎    ╎    ╎    ╎   1   @Base/sort.jl:96; partialsort!\n",
      "  ╎    ╎    ╎    ╎    1   @Base/sort.jl:623; sort!(::Array{Float64...\n",
      "  ╎    ╎    ╎    ╎     1   @Base/sort.jl:551; partition!(::Array{Fl...\n",
      "  ╎    ╎    ╎    ╎    ╎ 1   ...e/ordering.jl:59; lt\n",
      "  ╎    ╎    ╎    ╎    ╎  1   .../ordering.jl:58; lt\n",
      "  ╎    ╎    ╎    ╎    ╎   1   .../ordering.jl:57; lt\n",
      " 1╎    ╎    ╎    ╎    ╎    1   @Base/float.jl:465; isless\n",
      "  ╎    ╎    ╎ 1   ...elIHT/src/fit.jl:189; iht_one_step!(::MendelIHT....\n",
      "  ╎    ╎    ╎  1   .../multivariate.jl:22; update_xb!(::MendelIHT.mIH...\n",
      "  ╎    ╎    ╎   1   ...bstractarray.jl:840; copyto!\n",
      "  ╎    ╎    ╎    1   ...bstractarray.jl:866; copyto_unaliased!(::Inde...\n",
      "  ╎    ╎    ╎     1   ...bstractarray.jl:986; iterate\n",
      "  ╎    ╎    ╎    ╎ 1   ...stractarray.jl:1060; getindex\n",
      "  ╎    ╎    ╎    ╎  1   ...tractarray.jl:1100; _getindex\n",
      "  ╎    ╎    ╎    ╎   1   ...e/subarray.jl:257; getindex\n",
      "  ╎    ╎    ╎    ╎    1   ...c/adjtrans.jl:190; getindex\n",
      "  ╎    ╎    ╎    ╎     1   ...alg_direct.jl:96; getindex\n",
      " 1╎    ╎    ╎    ╎    ╎ 1   .../snparray.jl:291; convert\n",
      "  ╎    ╎    ╎ 2   ...elIHT/src/fit.jl:207; iht_one_step!(::MendelIHT....\n",
      "  ╎    ╎    ╎  1   .../multivariate.jl:363; backtrack!(::MendelIHT.mI...\n",
      "  ╎    ╎    ╎   1   ...multivariate.jl:112; _iht_gradstep!(::MendelIH...\n",
      "  ╎    ╎    ╎    1   ...multivariate.jl:278; _choose!(::MendelIHT.mIH...\n",
      " 1╎    ╎    ╎     1   @Base/Base.jl:33; getproperty\n",
      "  ╎    ╎    ╎  1   .../multivariate.jl:366; backtrack!(::MendelIHT.mI...\n",
      "  ╎    ╎    ╎   1   .../multivariate.jl:22; update_xb!(::MendelIHT.mI...\n",
      "  ╎    ╎    ╎    1   ...bstractarray.jl:840; copyto!\n",
      "  ╎    ╎    ╎     1   ...bstractarray.jl:866; copyto_unaliased!(::Inde...\n",
      " 1╎    ╎    ╎    ╎ 1   ...stractarray.jl:985; iterate\n",
      "  ╎    ╎    ╎ 106 ...elIHT/src/fit.jl:214; iht_one_step!(::MendelIHT....\n",
      "  ╎    ╎    ╎  106 .../multivariate.jl:54; score!(::MendelIHT.mIHTVar...\n",
      "  ╎    ╎    ╎   104 .../multivariate.jl:73; update_df!(::MendelIHT.mI...\n",
      "  ╎    ╎    ╎    104 ...multivariate.jl:84; adhoc_mul!(::Array{Float6...\n",
      "  ╎    ╎    ╎     103 ...inalg_direct.jl:160; mul!(::SubArray{Float64,...\n",
      "  ╎    ╎    ╎    ╎ 84  ...nalg_direct.jl:313; _snparray_atx_tile!(::S...\n",
      "  ╎    ╎    ╎    ╎  84  ...nalg_direct.jl:403; _snparray_atx_additive...\n",
      "  ╎    ╎    ╎    ╎   84  ...ct_loopset.jl:503; _avx_!(::Val{(0, 0, 0,...\n",
      "  ╎    ╎    ╎    ╎    84  ...ct_loopset.jl:503; macro expansion\n",
      " 1╎    ╎    ╎    ╎     1   @Base/int.jl:441; <=\n",
      "  ╎    ╎    ╎    ╎     36  .../operators.jl:538; +\n",
      "  ╎    ╎    ╎    ╎    ╎ 22  ...arithmetic.jl:59; +\n",
      "  ╎    ╎    ╎    ╎    ╎  11  ...MDPirates.jl:79; +\n",
      "  ╎    ╎    ╎    ╎    ╎   11  .../llvmwrap.jl:69; llvmwrap\n",
      "  ╎    ╎    ╎    ╎    ╎    11  ...llvmwrap.jl:69; llvmwrap\n",
      "11╎    ╎    ╎    ╎    ╎     11  ...llvmwrap.jl:97; macro expansion\n",
      "  ╎    ╎    ╎    ╎    ╎  11  ...finitions.jl:190; vconvert\n",
      "  ╎    ╎    ╎    ╎    ╎   11  ...initions.jl:101; vconvert\n",
      "11╎    ╎    ╎    ╎    ╎    11  ...initions.jl:113; macro expansion\n",
      "  ╎    ╎    ╎    ╎    ╎ 14  .../src/masks.jl:74; +\n",
      "14╎    ╎    ╎    ╎    ╎  14  ...src/masks.jl:69; vadd\n",
      "  ╎    ╎    ╎    ╎     2   ...IMDPirates.jl:79; &\n",
      "  ╎    ╎    ╎    ╎    ╎ 2   ...IMDPirates.jl:74; vand\n",
      "  ╎    ╎    ╎    ╎    ╎  2   ...rithmetic.jl:62; macro expansion\n",
      "  ╎    ╎    ╎    ╎    ╎   2   .../llvmwrap.jl:69; llvmwrap\n",
      "  ╎    ╎    ╎    ╎    ╎    2   ...llvmwrap.jl:69; llvmwrap\n",
      " 2╎    ╎    ╎    ╎    ╎     2   ...llvmwrap.jl:97; macro expansion\n",
      "  ╎    ╎    ╎    ╎     9   ...IMDPirates.jl:79; ==\n",
      "  ╎    ╎    ╎    ╎    ╎ 9   ...IMDPirates.jl:74; visequal\n",
      "  ╎    ╎    ╎    ╎    ╎  9   ...ditionals.jl:12; macro expansion\n",
      "  ╎    ╎    ╎    ╎    ╎   9   ...llvmwrap.jl:166; llvmwrap_bitmask\n",
      " 9╎    ╎    ╎    ╎    ╎    9   ...llvmwrap.jl:188; macro expansion\n",
      "  ╎    ╎    ╎    ╎     11  ...IMDPirates.jl:79; >>\n",
      "  ╎    ╎    ╎    ╎    ╎ 11  .../llvmwrap.jl:448; llvmwrapshift\n",
      "11╎    ╎    ╎    ╎    ╎  11  .../llvmwrap.jl:476; macro expansion\n",
      "  ╎    ╎    ╎    ╎     12  ...IMDPirates.jl:108; vfmadd231\n",
      "12╎    ╎    ╎    ╎    ╎ 12  ...rithmetic.jl:697; vfmadd231\n",
      "  ╎    ╎    ╎    ╎     3   ...arithmetic.jl:625; *\n",
      "  ╎    ╎    ╎    ╎    ╎ 3   ...ditionals.jl:173; vifelse\n",
      "  ╎    ╎    ╎    ╎    ╎  3   ...ditionals.jl:123; vifelse\n",
      " 3╎    ╎    ╎    ╎    ╎   3   ...itionals.jl:153; macro expansion\n",
      "  ╎    ╎    ╎    ╎     1   ...src/vrange.jl:123; *\n",
      "  ╎    ╎    ╎    ╎    ╎ 1   ...src/vrange.jl:83; svrange\n",
      "  ╎    ╎    ╎    ╎    ╎  1   ...src/vrange.jl:4; vrangeincr\n",
      " 1╎    ╎    ╎    ╎    ╎   1   ...rc/vrange.jl:20; macro expansion\n",
      "  ╎    ╎    ╎    ╎     8   ...ctorizable.jl:329; vload\n",
      "  ╎    ╎    ╎    ╎    ╎ 8   ...torizable.jl:321; vloadstride\n",
      "  ╎    ╎    ╎    ╎    ╎  2   ...rc/static.jl:267; vload\n",
      "  ╎    ╎    ╎    ╎    ╎   2   ...c/memory.jl:372; vload\n",
      "  ╎    ╎    ╎    ╎    ╎    2   ...c/memory.jl:110; vload\n",
      " 2╎    ╎    ╎    ╎    ╎     2   ...c/memory.jl:135; macro expansion\n",
      "  ╎    ╎    ╎    ╎    ╎  6   ...rc/static.jl:366; vload\n",
      "  ╎    ╎    ╎    ╎    ╎   6   ...c/memory.jl:903; vload\n",
      "  ╎    ╎    ╎    ╎    ╎    6   ...c/memory.jl:677; gather\n",
      " 6╎    ╎    ╎    ╎    ╎     6   ...c/memory.jl:700; macro expansion\n",
      "  ╎    ╎    ╎    ╎     1   ...ctorizable.jl:330; vload\n",
      "  ╎    ╎    ╎    ╎    ╎ 1   ...torizable.jl:322; vloadstride\n",
      "  ╎    ╎    ╎    ╎    ╎  1   ...rc/static.jl:367; vload\n",
      "  ╎    ╎    ╎    ╎    ╎   1   ...c/memory.jl:904; vload\n",
      "  ╎    ╎    ╎    ╎    ╎    1   ...c/memory.jl:708; gather\n",
      " 1╎    ╎    ╎    ╎    ╎     1   ...c/memory.jl:739; macro expansion\n",
      "  ╎    ╎    ╎    ╎ 19  ...nalg_direct.jl:323; _snparray_atx_tile!(::S...\n",
      "  ╎    ╎    ╎    ╎  19  ...nalg_direct.jl:403; _snparray_atx_additive...\n",
      "  ╎    ╎    ╎    ╎   19  ...ct_loopset.jl:503; _avx_!(::Val{(0, 0, 0,...\n",
      "  ╎    ╎    ╎    ╎    19  ...ct_loopset.jl:503; macro expansion\n",
      "  ╎    ╎    ╎    ╎     12  .../operators.jl:538; +\n",
      "  ╎    ╎    ╎    ╎    ╎ 8   ...arithmetic.jl:59; +\n",
      "  ╎    ╎    ╎    ╎    ╎  5   ...MDPirates.jl:79; +\n",
      "  ╎    ╎    ╎    ╎    ╎   5   .../llvmwrap.jl:69; llvmwrap\n",
      "  ╎    ╎    ╎    ╎    ╎    5   ...llvmwrap.jl:69; llvmwrap\n",
      " 5╎    ╎    ╎    ╎    ╎     5   ...llvmwrap.jl:97; macro expansion\n",
      "  ╎    ╎    ╎    ╎    ╎  3   ...finitions.jl:190; vconvert\n",
      "  ╎    ╎    ╎    ╎    ╎   3   ...initions.jl:101; vconvert\n",
      " 3╎    ╎    ╎    ╎    ╎    3   ...initions.jl:113; macro expansion\n",
      "  ╎    ╎    ╎    ╎    ╎ 4   .../src/masks.jl:74; +\n",
      " 4╎    ╎    ╎    ╎    ╎  4   ...src/masks.jl:69; vadd\n",
      "  ╎    ╎    ╎    ╎     3   ...IMDPirates.jl:79; ==\n",
      "  ╎    ╎    ╎    ╎    ╎ 3   ...IMDPirates.jl:74; visequal\n",
      "  ╎    ╎    ╎    ╎    ╎  3   ...ditionals.jl:12; macro expansion\n",
      "  ╎    ╎    ╎    ╎    ╎   3   ...llvmwrap.jl:166; llvmwrap_bitmask\n",
      " 3╎    ╎    ╎    ╎    ╎    3   ...llvmwrap.jl:188; macro expansion\n",
      "  ╎    ╎    ╎    ╎     1   ...IMDPirates.jl:79; >>\n",
      "  ╎    ╎    ╎    ╎    ╎ 1   .../llvmwrap.jl:448; llvmwrapshift\n",
      " 1╎    ╎    ╎    ╎    ╎  1   .../llvmwrap.jl:476; macro expansion\n",
      "  ╎    ╎    ╎    ╎     1   ...IMDPirates.jl:108; vfmadd231\n",
      " 1╎    ╎    ╎    ╎    ╎ 1   ...rithmetic.jl:697; vfmadd231\n",
      "  ╎    ╎    ╎    ╎     2   ...ctorizable.jl:329; vload\n",
      "  ╎    ╎    ╎    ╎    ╎ 2   ...torizable.jl:321; vloadstride\n",
      "  ╎    ╎    ╎    ╎    ╎  1   ...rc/static.jl:267; vload\n",
      "  ╎    ╎    ╎    ╎    ╎   1   ...c/memory.jl:372; vload\n",
      "  ╎    ╎    ╎    ╎    ╎    1   ...c/memory.jl:110; vload\n",
      " 1╎    ╎    ╎    ╎    ╎     1   ...c/memory.jl:135; macro expansion\n",
      "  ╎    ╎    ╎    ╎    ╎  1   ...rc/static.jl:366; vload\n",
      "  ╎    ╎    ╎    ╎    ╎   1   ...c/memory.jl:903; vload\n",
      "  ╎    ╎    ╎    ╎    ╎    1   ...c/memory.jl:677; gather\n",
      " 1╎    ╎    ╎    ╎    ╎     1   ...c/memory.jl:700; macro expansion\n",
      "  ╎    ╎    ╎     1   ...inalg_direct.jl:165; mul!(::SubArray{Float64,...\n",
      "  ╎    ╎    ╎    ╎ 1   ...e/broadcast.jl:845; materialize!\n",
      "  ╎    ╎    ╎    ╎  1   ...e/broadcast.jl:848; materialize!\n",
      "  ╎    ╎    ╎    ╎   1   .../broadcast.jl:886; copyto!\n",
      "  ╎    ╎    ╎    ╎    1   .../broadcast.jl:931; copyto!\n",
      "  ╎    ╎    ╎    ╎     1   ...e/simdloop.jl:77; macro expansion\n",
      "  ╎    ╎    ╎    ╎    ╎ 1   ...broadcast.jl:932; macro expansion\n",
      "  ╎    ╎    ╎    ╎    ╎  1   ...broadcast.jl:575; getindex\n",
      "  ╎    ╎    ╎    ╎    ╎   1   ...roadcast.jl:621; _broadcast_getindex\n",
      "  ╎    ╎    ╎    ╎    ╎    1   ...roadcast.jl:648; _broadcast_getinde...\n",
      " 1╎    ╎    ╎    ╎    ╎     1   @Base/float.jl:405; *\n",
      "  ╎    ╎    ╎   2   .../multivariate.jl:74; update_df!(::MendelIHT.mI...\n",
      "  ╎    ╎    ╎    2   @Base/broadcast.jl:845; materialize!\n",
      "  ╎    ╎    ╎     2   @Base/broadcast.jl:848; materialize!\n",
      "  ╎    ╎    ╎    ╎ 2   ...e/broadcast.jl:886; copyto!\n",
      "  ╎    ╎    ╎    ╎  2   ...e/broadcast.jl:927; copyto!\n",
      "  ╎    ╎    ╎    ╎   2   ...tractarray.jl:840; copyto!\n",
      "  ╎    ╎    ╎    ╎    2   ...tractarray.jl:866; copyto_unaliased!(::I...\n",
      " 1╎    ╎    ╎    ╎     1   ...tractarray.jl:0; iterate\n",
      "  ╎    ╎    ╎    ╎     1   ...tractarray.jl:984; iterate\n",
      "  ╎    ╎    ╎    ╎    ╎ 1   ...mensional.jl:354; iterate\n",
      "  ╎    ╎    ╎    ╎    ╎  1   ...mensional.jl:373; __inc\n",
      " 1╎    ╎    ╎    ╎    ╎   1   @Base/int.jl:82; <\n",
      "  ╎    ╎     2   ...delIHT/src/fit.jl:156; fit_iht!(::MendelIHT.mIHTVa...\n",
      "  ╎    ╎    ╎ 2   .../multivariate.jl:353; check_convergence(::Mendel...\n",
      "  ╎    ╎    ╎  2   ...s/src/metrics.jl:377; chebyshev(::Array{Float64...\n",
      "  ╎    ╎    ╎   2   .../src/metrics.jl:328; Chebyshev\n",
      "  ╎    ╎    ╎    2   .../src/metrics.jl:252; _evaluate\n",
      "  ╎    ╎    ╎     2   @Base/simdloop.jl:77; macro expansion\n",
      "  ╎    ╎    ╎    ╎ 2   ...src/metrics.jl:255; macro expansion\n",
      "  ╎    ╎    ╎    ╎  2   ...src/metrics.jl:374; eval_reduce\n",
      " 1╎    ╎    ╎    ╎   2   @Base/math.jl:710; max\n",
      " 1╎    ╎    ╎    ╎    1   ...floatfuncs.jl:15; signbit\n",
      "Total snapshots: 122\n"
     ]
    }
   ],
   "source": [
    "fit_iht(Yt, Transpose(xla), Zt, verbose=false)\n",
    "Profile.clear()\n",
    "@profile fit_iht(Yt, Transpose(xla), Zt, verbose=false);\n",
    "Profile.print()"
   ]
  },
  {
   "cell_type": "markdown",
   "metadata": {},
   "source": [
    "Conclusion: In multivariate IHT, most time (106/121 samples) are spent on `score!` function, specifically on `adhoc_mul!` (i.e. computing the gradient which requires full genotype matrix times dense vector). This is expected."
   ]
  },
  {
   "cell_type": "markdown",
   "metadata": {},
   "source": [
    "# `SnpLinAlg` does NOT support matrix-matrix mul\n",
    "\n",
    "It uses a fall back to `LinearAlgebra.matmul.jl`"
   ]
  },
  {
   "cell_type": "code",
   "execution_count": 35,
   "metadata": {
    "collapsed": false
   },
   "outputs": [
    {
     "name": "stdout",
     "output_type": "stream",
     "text": [
      "  0.009754 seconds (42 allocations: 1.828 KiB)\n"
     ]
    }
   ],
   "source": [
    "# matrix-vector\n",
    "v = randn(p)\n",
    "y = zeros(n)\n",
    "@time mul!(y, xla, v);"
   ]
  },
  {
   "cell_type": "code",
   "execution_count": 49,
   "metadata": {
    "collapsed": false
   },
   "outputs": [
    {
     "name": "stdout",
     "output_type": "stream",
     "text": [
      "  0.797749 seconds (6 allocations: 336 bytes)\n"
     ]
    }
   ],
   "source": [
    "# matrix-matrix\n",
    "v = randn(p, 2)\n",
    "y = zeros(n, 2)\n",
    "@time mul!(y, xla, v);"
   ]
  },
  {
   "cell_type": "markdown",
   "metadata": {},
   "source": [
    "## Thus we build matrix-matrix `mul!` based on matrix-vector mul"
   ]
  },
  {
   "cell_type": "code",
   "execution_count": 48,
   "metadata": {
    "collapsed": false
   },
   "outputs": [
    {
     "data": {
      "text/plain": [
       "mul_test! (generic function with 1 method)"
      ]
     },
     "execution_count": 48,
     "metadata": {},
     "output_type": "execute_result"
    }
   ],
   "source": [
    "function mul_test!(\n",
    "    out::AbstractMatrix{T}, \n",
    "    sla::SnpLinAlg{T}, \n",
    "    v::AbstractMatrix{T}) where T <: AbstractFloat\n",
    "    @assert size(out, 1) == size(sla, 1) && size(v, 2) == size(v, 2) && size(sla, 2) == size(v, 1)\n",
    "    for i in 1:size(v, 2)\n",
    "        outi = @view(out[:, i])\n",
    "        vi = @view(v[:, i])\n",
    "        mul!(outi, sla, vi)\n",
    "    end\n",
    "end"
   ]
  },
  {
   "cell_type": "code",
   "execution_count": 55,
   "metadata": {
    "collapsed": false
   },
   "outputs": [
    {
     "name": "stdout",
     "output_type": "stream",
     "text": [
      "  0.790923 seconds (6 allocations: 336 bytes)\n"
     ]
    }
   ],
   "source": [
    "# original matrix-matrix fallsback to matmul.jl, which is slow\n",
    "Random.seed!(2020)\n",
    "v = randn(p, 2)\n",
    "y = zeros(n, 2)\n",
    "@time mul!(y, xla, v);"
   ]
  },
  {
   "cell_type": "code",
   "execution_count": 56,
   "metadata": {
    "collapsed": false,
    "scrolled": true
   },
   "outputs": [
    {
     "name": "stdout",
     "output_type": "stream",
     "text": [
      "  0.055297 seconds (86 allocations: 4.062 KiB)\n"
     ]
    }
   ],
   "source": [
    "# new matrix-matrix calls mul! in SnpArrays.jl for each column, which is fast!\n",
    "Random.seed!(2020)\n",
    "v = randn(p, 2)\n",
    "y2 = zeros(n, 2)\n",
    "@time mul_test!(y2, xla, v);"
   ]
  },
  {
   "cell_type": "code",
   "execution_count": 58,
   "metadata": {
    "collapsed": false
   },
   "outputs": [
    {
     "data": {
      "text/plain": [
       "true"
      ]
     },
     "execution_count": 58,
     "metadata": {},
     "output_type": "execute_result"
    },
    {
     "name": "stdout",
     "output_type": "stream",
     "text": [
      "/Users/julia/buildbot/worker/package_macos64/build/usr/share/julia/stdlib/v1.5/LinearAlgebra/src/matmul.jl:345, mul! [inlined]\n"
     ]
    }
   ],
   "source": [
    "# check correctness\n",
    "all(y .≈ y2)"
   ]
  },
  {
   "cell_type": "markdown",
   "metadata": {},
   "source": [
    "# Profile numeric matrices\n",
    "\n",
    "## Univariate case"
   ]
  },
  {
   "cell_type": "code",
   "execution_count": 17,
   "metadata": {
    "collapsed": false
   },
   "outputs": [
    {
     "name": "stdout",
     "output_type": "stream",
     "text": [
      "****                   MendelIHT Version 1.4.0                  ****\n",
      "****     Benjamin Chu, Kevin Keys, Chris German, Hua Zhou       ****\n",
      "****   Jin Zhou, Eric Sobel, Janet Sinsheimer, Kenneth Lange    ****\n",
      "****                                                            ****\n",
      "****                 Please cite our paper!                     ****\n",
      "****         https://doi.org/10.1093/gigascience/giaa044        ****\n",
      "\n",
      "Running sparse linear regression\n",
      "Link functin = IdentityLink()\n",
      "Sparsity parameter (k) = 10\n",
      "Prior weight scaling = off\n",
      "Doubly sparse projection = off\n",
      "Debias = off\n",
      "Max IHT iterations = 200\n",
      "Converging when tol < 0.0001:\n",
      "\n",
      "Iteration 1: loglikelihood = -1496.713961529228, backtracks = 0, tol = 0.42407482809494373\n",
      "Iteration 2: loglikelihood = -1440.396428956392, backtracks = 0, tol = 0.11860044142480099\n",
      "Iteration 3: loglikelihood = -1437.2177092287425, backtracks = 0, tol = 0.02302770129518664\n",
      "Iteration 4: loglikelihood = -1437.1722070780304, backtracks = 0, tol = 0.0027889369108425118\n",
      "Iteration 5: loglikelihood = -1437.1713084822375, backtracks = 0, tol = 0.0003953028766158861\n",
      "Iteration 6: loglikelihood = -1437.1712880425089, backtracks = 0, tol = 5.5490141042099236e-5\n",
      "  0.062282 seconds (139.09 k allocations: 3.304 MiB)\n"
     ]
    },
    {
     "data": {
      "text/plain": [
       "0.008611162503560385"
      ]
     },
     "execution_count": 17,
     "metadata": {},
     "output_type": "execute_result"
    }
   ],
   "source": [
    "n = 1000  # number of samples\n",
    "p = 10000 # number of SNPs\n",
    "k = 10    # number of causal SNPs per trait\n",
    "d = Normal\n",
    "l = canonicallink(d())\n",
    "\n",
    "# set random seed for reproducibility\n",
    "Random.seed!(2021)\n",
    "\n",
    "# simulate `.bed` file with no missing data\n",
    "x = randn(n, p)\n",
    "\n",
    "# intercept is the only nongenetic covariate\n",
    "z = ones(n)\n",
    "intercept = 1.0\n",
    "\n",
    "# simulate response y, true model b, and the correct non-0 positions of b\n",
    "Y, true_b, correct_position = simulate_random_response(x, k, d, l, Zu=z*intercept);\n",
    "\n",
    "# run IHT\n",
    "Random.seed!(2020)\n",
    "@time result = fit_iht(Y, x, z);\n",
    "speed_per_iter = result.time / result.iter"
   ]
  },
  {
   "cell_type": "markdown",
   "metadata": {},
   "source": [
    "## Multivariate case"
   ]
  },
  {
   "cell_type": "code",
   "execution_count": 46,
   "metadata": {
    "collapsed": false,
    "scrolled": true
   },
   "outputs": [
    {
     "name": "stdout",
     "output_type": "stream",
     "text": [
      "****                   MendelIHT Version 1.4.0                  ****\n",
      "****     Benjamin Chu, Kevin Keys, Chris German, Hua Zhou       ****\n",
      "****   Jin Zhou, Eric Sobel, Janet Sinsheimer, Kenneth Lange    ****\n",
      "****                                                            ****\n",
      "****                 Please cite our paper!                     ****\n",
      "****         https://doi.org/10.1093/gigascience/giaa044        ****\n",
      "\n",
      "Running sparse Multivariate Gaussian regression\n",
      "Link functin = IdentityLink()\n",
      "Sparsity parameter (k) = 20\n",
      "Prior weight scaling = off\n",
      "Doubly sparse projection = off\n",
      "Debias = off\n",
      "Max IHT iterations = 500\n",
      "Converging when tol < 0.0001:\n",
      "\n",
      "Iteration 1: loglikelihood = 191.73602048640578, backtracks = 0, tol = 0.2292371125117518\n",
      "Iteration 2: loglikelihood = 762.9277376172406, backtracks = 0, tol = 0.021360037643612592\n",
      "Iteration 3: loglikelihood = 884.2331365763932, backtracks = 0, tol = 0.02091394090715768\n",
      "Iteration 4: loglikelihood = 971.5768695868555, backtracks = 0, tol = 0.025650042181432565\n",
      "Iteration 5: loglikelihood = 1070.3071508501139, backtracks = 0, tol = 0.017265640322160526\n",
      "Iteration 6: loglikelihood = 1115.481929140687, backtracks = 0, tol = 0.034365269850100875\n",
      "Iteration 7: loglikelihood = 1182.519004345467, backtracks = 0, tol = 0.010322960424356764\n",
      "Iteration 8: loglikelihood = 1232.880104981737, backtracks = 0, tol = 0.024675793028653657\n",
      "Iteration 9: loglikelihood = 1292.9532868378444, backtracks = 0, tol = 0.02770021845447624\n",
      "Iteration 10: loglikelihood = 1332.2440462794211, backtracks = 0, tol = 0.008130924344834358\n",
      "Iteration 11: loglikelihood = 1378.5093686335272, backtracks = 0, tol = 0.01807978113360939\n",
      "Iteration 12: loglikelihood = 1417.073907310952, backtracks = 0, tol = 0.0159892886848576\n",
      "Iteration 13: loglikelihood = 1431.6621502869227, backtracks = 0, tol = 0.006653281776513292\n",
      "Iteration 14: loglikelihood = 1463.8705530888474, backtracks = 0, tol = 0.030036001483323665\n",
      "Iteration 15: loglikelihood = 1517.5690770142046, backtracks = 0, tol = 0.006084933983576127\n",
      "Iteration 16: loglikelihood = 1542.9618443997697, backtracks = 0, tol = 0.02879433840714019\n",
      "Iteration 17: loglikelihood = 1568.594783925591, backtracks = 0, tol = 0.0054899095403739715\n",
      "Iteration 18: loglikelihood = 1617.5263474499575, backtracks = 0, tol = 0.013192417789506894\n",
      "Iteration 19: loglikelihood = 1649.9050129133302, backtracks = 0, tol = 0.005175512613934254\n",
      "Iteration 20: loglikelihood = 1669.7856176589721, backtracks = 0, tol = 0.023877206023890235\n",
      "Iteration 21: loglikelihood = 1680.0376797276613, backtracks = 0, tol = 0.004448958655672293\n",
      "Iteration 22: loglikelihood = 1723.0269255461153, backtracks = 0, tol = 0.01047866972994391\n",
      "Iteration 23: loglikelihood = 1745.1896969401535, backtracks = 0, tol = 0.004741808030372114\n",
      "Iteration 24: loglikelihood = 1760.8992523942973, backtracks = 0, tol = 0.026493514911765614\n",
      "Iteration 25: loglikelihood = 1781.2454485511753, backtracks = 0, tol = 0.004334759172250856\n",
      "Iteration 26: loglikelihood = 1828.951469970274, backtracks = 0, tol = 0.005156362766532849\n",
      "Iteration 27: loglikelihood = 1841.9468421138167, backtracks = 0, tol = 0.009635190893601564\n",
      "Iteration 28: loglikelihood = 1854.8139913033951, backtracks = 0, tol = 0.0032070310184202965\n",
      "Iteration 29: loglikelihood = 1867.4909323450606, backtracks = 0, tol = 0.03748654165991623\n",
      "Iteration 30: loglikelihood = 1959.215185018816, backtracks = 0, tol = 0.010131830261107762\n",
      "Iteration 31: loglikelihood = 1984.9051698817452, backtracks = 0, tol = 0.002623129122446284\n",
      "Iteration 32: loglikelihood = 1994.8203663558722, backtracks = 0, tol = 0.008589467428411933\n",
      "Iteration 33: loglikelihood = 2012.949071051916, backtracks = 0, tol = 0.002750539613554889\n",
      "Iteration 34: loglikelihood = 2020.064929781384, backtracks = 0, tol = 0.003516641931436722\n",
      "Iteration 35: loglikelihood = 2026.7931991658895, backtracks = 0, tol = 0.007883519188683819\n",
      "Iteration 36: loglikelihood = 2034.8252463894328, backtracks = 0, tol = 0.0019018513116467134\n",
      "Iteration 37: loglikelihood = 2044.1165532989487, backtracks = 0, tol = 0.0021357288619395253\n",
      "Iteration 38: loglikelihood = 2047.9322117277577, backtracks = 0, tol = 0.05716827467951192\n",
      "Iteration 39: loglikelihood = 1959.766755342041, backtracks = 5, tol = 0.00013804570392730807\n",
      "Iteration 40: loglikelihood = 1965.059928398493, backtracks = 0, tol = 0.0043991382944948655\n",
      "Iteration 41: loglikelihood = 2094.316316180813, backtracks = 0, tol = 0.0019072108322471053\n",
      "Iteration 42: loglikelihood = 2116.74948555587, backtracks = 0, tol = 0.0010906154269509304\n",
      "Iteration 43: loglikelihood = 2120.9811857146187, backtracks = 0, tol = 0.0014056600632688125\n",
      "Iteration 44: loglikelihood = 2123.215860656934, backtracks = 0, tol = 0.01294728061828285\n",
      "Iteration 45: loglikelihood = 2131.003582716505, backtracks = 0, tol = 0.0010140256096837726\n",
      "Iteration 46: loglikelihood = 2135.6802634006985, backtracks = 0, tol = 0.0008642847951040848\n",
      "Iteration 47: loglikelihood = 2137.009064367138, backtracks = 0, tol = 0.005421767157444431\n",
      "Iteration 48: loglikelihood = 2140.9140264808766, backtracks = 0, tol = 0.0019585354069305313\n",
      "Iteration 49: loglikelihood = 2142.3813694228884, backtracks = 0, tol = 0.013108227201694035\n",
      "Iteration 50: loglikelihood = 2145.776780825231, backtracks = 0, tol = 0.0008755344806121519\n",
      "Iteration 51: loglikelihood = 2150.1182335725625, backtracks = 0, tol = 0.0007590910401385192\n",
      "Iteration 52: loglikelihood = 2151.1582282027243, backtracks = 0, tol = 0.0037512223978843594\n",
      "Iteration 53: loglikelihood = 2153.266134745263, backtracks = 0, tol = 0.004235400575913196\n",
      "Iteration 54: loglikelihood = 2155.5602943156246, backtracks = 0, tol = 0.002911862334197721\n",
      "Iteration 55: loglikelihood = 2157.1543050831488, backtracks = 0, tol = 0.007015428175391661\n",
      "Iteration 56: loglikelihood = 2160.3462040773106, backtracks = 0, tol = 0.0007710467032522672\n",
      "Iteration 57: loglikelihood = 2161.2367792079967, backtracks = 0, tol = 0.003978033227722414\n",
      "Iteration 58: loglikelihood = 2163.2703734090055, backtracks = 0, tol = 0.003011568081256592\n",
      "Iteration 59: loglikelihood = 2164.8292994345015, backtracks = 0, tol = 0.005812264887972884\n",
      "Iteration 60: loglikelihood = 2167.529870096958, backtracks = 0, tol = 0.001074564412535582\n",
      "Iteration 61: loglikelihood = 2168.305572706488, backtracks = 0, tol = 0.006851961567209912\n",
      "Iteration 62: loglikelihood = 2171.2180727138516, backtracks = 0, tol = 0.0007172525924096997\n",
      "Iteration 63: loglikelihood = 2172.0626305985097, backtracks = 0, tol = 0.0035229713629176575\n",
      "Iteration 64: loglikelihood = 2173.8036622219283, backtracks = 0, tol = 0.0035225413773834896\n",
      "Iteration 65: loglikelihood = 2175.5354785327577, backtracks = 0, tol = 0.003440749368116072\n",
      "Iteration 66: loglikelihood = 2177.2227832276326, backtracks = 0, tol = 0.0035701572304213517\n",
      "Iteration 67: loglikelihood = 2178.960197314254, backtracks = 0, tol = 0.003171476582628105\n",
      "Iteration 68: loglikelihood = 2180.51294371471, backtracks = 0, tol = 0.004178871758460913\n",
      "Iteration 69: loglikelihood = 2182.492237292582, backtracks = 0, tol = 0.0019992441282857716\n",
      "Iteration 70: loglikelihood = 2183.5083812409116, backtracks = 0, tol = 0.008643506996105126\n",
      "Iteration 71: loglikelihood = 2186.2634597020246, backtracks = 0, tol = 0.0004684690108216199\n",
      "Iteration 72: loglikelihood = 2187.709883010208, backtracks = 0, tol = 0.001307711279291694\n",
      "Iteration 73: loglikelihood = 2188.4607063974972, backtracks = 0, tol = 0.008098196417728775\n",
      "Iteration 74: loglikelihood = 2191.171628025695, backtracks = 0, tol = 0.00043947109581644184\n",
      "Iteration 75: loglikelihood = 2192.416004405335, backtracks = 0, tol = 0.0014620835175175669\n",
      "Iteration 76: loglikelihood = 2193.2018500436434, backtracks = 0, tol = 0.008510680984770931\n",
      "Iteration 77: loglikelihood = 2195.7914885876917, backtracks = 0, tol = 0.0004640604069702958\n",
      "Iteration 78: loglikelihood = 2197.245440491953, backtracks = 0, tol = 0.001193734050069803\n",
      "Iteration 79: loglikelihood = 2197.940553900342, backtracks = 0, tol = 0.0074122736693138565\n",
      "Iteration 80: loglikelihood = 2200.5145610476097, backtracks = 0, tol = 0.0004270041940699196\n",
      "Iteration 81: loglikelihood = 2201.5549307159695, backtracks = 0, tol = 0.001640265104893576\n",
      "Iteration 82: loglikelihood = 2202.383405854669, backtracks = 0, tol = 0.008236858820010717\n",
      "Iteration 83: loglikelihood = 2204.8323234472414, backtracks = 0, tol = 0.00045210527596898715\n",
      "Iteration 84: loglikelihood = 2206.229997664165, backtracks = 0, tol = 0.0011419937653449452\n",
      "Iteration 85: loglikelihood = 2206.887853412398, backtracks = 0, tol = 0.007067459943489918\n",
      "Iteration 86: loglikelihood = 2209.3252802291095, backtracks = 0, tol = 0.00042294411992699555\n",
      "Iteration 87: loglikelihood = 2210.2894254517446, backtracks = 0, tol = 0.0016395236690709624\n",
      "Iteration 88: loglikelihood = 2211.0975357157736, backtracks = 0, tol = 0.007827969097993161\n",
      "Iteration 89: loglikelihood = 2213.429952639904, backtracks = 0, tol = 0.000432260730496686\n",
      "Iteration 90: loglikelihood = 2214.7086637224697, backtracks = 0, tol = 0.0011478089649042153\n",
      "Iteration 91: loglikelihood = 2215.34423979986, backtracks = 0, tol = 0.007048976400950177\n",
      "Iteration 92: loglikelihood = 2217.6531056147114, backtracks = 0, tol = 0.00039109020041916366\n",
      "Iteration 93: loglikelihood = 2218.6490252818226, backtracks = 0, tol = 0.0014357012066123355\n",
      "Iteration 94: loglikelihood = 2219.36245723159, backtracks = 0, tol = 0.007661397383941276\n",
      "Iteration 95: loglikelihood = 2221.554674654979, backtracks = 0, tol = 0.000426387166111995\n",
      "Iteration 96: loglikelihood = 2222.8222412747705, backtracks = 0, tol = 0.001070978257668248\n",
      "Iteration 97: loglikelihood = 2223.417305094514, backtracks = 0, tol = 0.006594524787985083\n",
      "Iteration 98: loglikelihood = 2225.5999260946373, backtracks = 0, tol = 0.00039116320619878345\n",
      "Iteration 99: loglikelihood = 2226.4821390229968, backtracks = 0, tol = 0.0015223772579225298\n",
      "Iteration 100: loglikelihood = 2227.2079862941105, backtracks = 0, tol = 0.007253558939869261\n",
      "Iteration 101: loglikelihood = 2229.2931875211943, backtracks = 0, tol = 0.0004067104876960936\n",
      "Iteration 102: loglikelihood = 2230.443192424333, backtracks = 0, tol = 0.0010896078304098499\n",
      "Iteration 103: loglikelihood = 2231.021168645971, backtracks = 0, tol = 0.006646594059996735\n",
      "Iteration 104: loglikelihood = 2233.0806758139897, backtracks = 0, tol = 0.0003746447947418581\n",
      "Iteration 105: loglikelihood = 2234.01744125913, backtracks = 0, tol = 0.0012988610354885495\n",
      "Iteration 106: loglikelihood = 2234.646685119003, backtracks = 0, tol = 0.007105150351280813\n",
      "Iteration 107: loglikelihood = 2236.6001350963597, backtracks = 0, tol = 0.00040193091637765805\n",
      "Iteration 108: loglikelihood = 2237.7439616531765, backtracks = 0, tol = 0.0010168335629244113\n",
      "Iteration 109: loglikelihood = 2238.2845596951674, backtracks = 0, tol = 0.006245292845864789\n",
      "Iteration 110: loglikelihood = 2240.230399876368, backtracks = 0, tol = 0.0003561190388576903\n",
      "Iteration 111: loglikelihood = 2241.0684476138763, backtracks = 0, tol = 0.0013617695692803343\n",
      "Iteration 112: loglikelihood = 2241.701011915218, backtracks = 0, tol = 0.00682972315961455\n",
      "Iteration 113: loglikelihood = 2243.542406081842, backtracks = 0, tol = 0.0003899009042083472\n",
      "Iteration 114: loglikelihood = 2244.6247566234856, backtracks = 0, tol = 0.0009969835303817328\n",
      "Iteration 115: loglikelihood = 2245.1412187384226, backtracks = 0, tol = 0.006115667487787861\n",
      "Iteration 116: loglikelihood = 2246.973405677969, backtracks = 0, tol = 0.00035162716515846923\n",
      "Iteration 117: loglikelihood = 2247.8037077802774, backtracks = 0, tol = 0.0012681470447894177\n",
      "Iteration 118: loglikelihood = 2248.387669896121, backtracks = 0, tol = 0.006635524169506532\n",
      "Iteration 119: loglikelihood = 2250.112320553166, backtracks = 0, tol = 0.000382560952250903\n",
      "Iteration 120: loglikelihood = 2251.1667778241767, backtracks = 0, tol = 0.0009522451377829394\n",
      "Iteration 121: loglikelihood = 2251.6546756599696, backtracks = 0, tol = 0.005866701460863546\n",
      "Iteration 122: loglikelihood = 2253.380144944204, backtracks = 0, tol = 0.00034098424202437576\n",
      "Iteration 123: loglikelihood = 2254.1623211267943, backtracks = 0, tol = 0.0012557228476616803\n",
      "Iteration 124: loglikelihood = 2254.725592409404, backtracks = 0, tol = 0.02280288660716147\n",
      "Iteration 125: loglikelihood = 2263.274454528664, backtracks = 0, tol = 0.0015906144565574004\n",
      "Iteration 126: loglikelihood = 2277.954391702665, backtracks = 0, tol = 0.0014291898167459142\n",
      "Iteration 127: loglikelihood = 2281.8720646774805, backtracks = 0, tol = 0.008330832623550733\n",
      "Iteration 128: loglikelihood = 2291.0325712897, backtracks = 0, tol = 0.002715473796943137\n",
      "Iteration 129: loglikelihood = 2294.37661824695, backtracks = 0, tol = 0.0015179830239006795\n",
      "Iteration 130: loglikelihood = 2296.480076963896, backtracks = 0, tol = 0.008262563486333679\n",
      "Iteration 131: loglikelihood = 2304.927864977002, backtracks = 0, tol = 0.00818525431534331\n",
      "Iteration 132: loglikelihood = 2309.0877677971484, backtracks = 0, tol = 0.0009958717336992875\n",
      "Iteration 133: loglikelihood = 2313.7000999986594, backtracks = 0, tol = 0.0007463173185861159\n",
      "Iteration 134: loglikelihood = 2314.7957517075624, backtracks = 0, tol = 0.001421940809984668\n",
      "Iteration 135: loglikelihood = 2316.1837951546795, backtracks = 0, tol = 0.013166247291580791\n",
      "Iteration 136: loglikelihood = 2318.5813887716986, backtracks = 0, tol = 0.0008756987013052577\n",
      "Iteration 137: loglikelihood = 2325.17862245096, backtracks = 0, tol = 0.0004676290194375211\n",
      "Iteration 138: loglikelihood = 2326.372332546825, backtracks = 0, tol = 0.0005771670573021817\n",
      "Iteration 139: loglikelihood = 2326.916102616751, backtracks = 0, tol = 0.0029642994865185283\n",
      "Iteration 140: loglikelihood = 2328.7850928983135, backtracks = 0, tol = 0.004403415245309148\n",
      "Iteration 141: loglikelihood = 2331.417079660678, backtracks = 0, tol = 0.0010706617847464112\n",
      "Iteration 142: loglikelihood = 2332.106135136738, backtracks = 0, tol = 0.011539880580588585\n",
      "Iteration 143: loglikelihood = 2337.2004147643315, backtracks = 0, tol = 0.0004018513512484433\n",
      "Iteration 144: loglikelihood = 2338.60789087339, backtracks = 0, tol = 0.00046420983754725544\n",
      "Iteration 145: loglikelihood = 2339.0791975377315, backtracks = 0, tol = 0.001581190343343192\n",
      "Iteration 146: loglikelihood = 2339.974283429989, backtracks = 0, tol = 0.010051166053987336\n",
      "Iteration 147: loglikelihood = 2344.222282612597, backtracks = 0, tol = 0.0003595648099121411\n",
      "Iteration 148: loglikelihood = 2345.34820759303, backtracks = 0, tol = 0.0005108510345834034\n",
      "Iteration 149: loglikelihood = 2345.784290172974, backtracks = 0, tol = 0.002052768715262233\n",
      "Iteration 150: loglikelihood = 2346.8830166524394, backtracks = 0, tol = 0.005473065244747508\n",
      "Iteration 151: loglikelihood = 2349.5603346523008, backtracks = 0, tol = 0.0004833535254682989\n",
      "Iteration 152: loglikelihood = 2349.990487802349, backtracks = 0, tol = 0.0018585425628550524\n",
      "Iteration 153: loglikelihood = 2350.969573498789, backtracks = 0, tol = 0.006308346389190026\n",
      "Iteration 154: loglikelihood = 2353.868762234494, backtracks = 0, tol = 0.00036960405746902747\n",
      "Iteration 155: loglikelihood = 2354.3633936534798, backtracks = 0, tol = 0.001086083674105453\n",
      "Iteration 156: loglikelihood = 2354.954671842679, backtracks = 0, tol = 0.008730114182650973\n",
      "Iteration 157: loglikelihood = 2358.2935245793765, backtracks = 0, tol = 0.00033146493418445956\n",
      "Iteration 158: loglikelihood = 2359.299751271287, backtracks = 0, tol = 0.0005183604006522008\n",
      "Iteration 159: loglikelihood = 2359.6999946492283, backtracks = 0, tol = 0.0023560675386299253\n",
      "Iteration 160: loglikelihood = 2360.8727329044555, backtracks = 0, tol = 0.0028940237869612374\n",
      "Iteration 161: loglikelihood = 2362.2888174147733, backtracks = 0, tol = 0.0015634499682502052\n",
      "Iteration 162: loglikelihood = 2363.075695749561, backtracks = 0, tol = 0.007092936289712774\n",
      "Iteration 163: loglikelihood = 2365.8914872361042, backtracks = 0, tol = 0.00027723128411531674\n",
      "Iteration 164: loglikelihood = 2366.572379258215, backtracks = 0, tol = 0.0006706910232876595\n",
      "Iteration 165: loglikelihood = 2366.9770288463505, backtracks = 0, tol = 0.004453615485984517\n",
      "Iteration 166: loglikelihood = 2368.9828956591987, backtracks = 0, tol = 0.0005185709683387684\n",
      "Iteration 167: loglikelihood = 2369.359156616394, backtracks = 0, tol = 0.0025769350471417235\n",
      "Iteration 168: loglikelihood = 2370.58087987163, backtracks = 0, tol = 0.0018657952911717824\n",
      "Iteration 169: loglikelihood = 2371.4761932730416, backtracks = 0, tol = 0.004461431297222066\n",
      "Iteration 170: loglikelihood = 2373.4318317140323, backtracks = 0, tol = 0.00048286749109729374\n",
      "Iteration 171: loglikelihood = 2373.798508477471, backtracks = 0, tol = 0.002281053198001036\n",
      "Iteration 172: loglikelihood = 2374.865853911638, backtracks = 0, tol = 0.0024465869491328298\n",
      "Iteration 173: loglikelihood = 2376.0004065606963, backtracks = 0, tol = 0.0019526802675885906\n",
      "Iteration 174: loglikelihood = 2376.9125055359136, backtracks = 0, tol = 0.0036272344818156664\n",
      "Iteration 175: loglikelihood = 2378.513649457915, backtracks = 0, tol = 0.0006681473589634691\n",
      "Iteration 176: loglikelihood = 2378.890852567548, backtracks = 0, tol = 0.004814572703669344\n",
      "Iteration 177: loglikelihood = 2380.8620782541366, backtracks = 0, tol = 0.0003775881235658921\n",
      "Iteration 178: loglikelihood = 2381.2411817022694, backtracks = 0, tol = 0.0014282384667072795\n",
      "Iteration 179: loglikelihood = 2381.9044419536876, backtracks = 0, tol = 0.0064097308624162875\n",
      "Iteration 180: loglikelihood = 2384.140481261687, backtracks = 0, tol = 0.0002617119439653363\n",
      "Iteration 181: loglikelihood = 2384.800040842495, backtracks = 0, tol = 0.0006068812343742975\n",
      "Iteration 182: loglikelihood = 2385.1484112278267, backtracks = 0, tol = 0.004163335152212258\n",
      "Iteration 183: loglikelihood = 2386.8490962534297, backtracks = 0, tol = 0.0004404871194459201\n",
      "Iteration 184: loglikelihood = 2387.182861387303, backtracks = 0, tol = 0.002130923474243261\n",
      "Iteration 185: loglikelihood = 2388.1215604333306, backtracks = 0, tol = 0.0022857048329954126\n",
      "Iteration 186: loglikelihood = 2389.1192465774534, backtracks = 0, tol = 0.0018218109175786087\n",
      "Iteration 187: loglikelihood = 2389.9209278925255, backtracks = 0, tol = 0.0034200030301086066\n",
      "Iteration 188: loglikelihood = 2391.3336583883247, backtracks = 0, tol = 0.0006017911073152025\n",
      "Iteration 189: loglikelihood = 2391.665037897953, backtracks = 0, tol = 0.004370398045776062\n",
      "Iteration 190: loglikelihood = 2393.3434360474016, backtracks = 0, tol = 0.00035946142354854736\n",
      "Iteration 191: loglikelihood = 2393.6834446496537, backtracks = 0, tol = 0.0014733618460218095\n",
      "Iteration 192: loglikelihood = 2394.32418126336, backtracks = 0, tol = 0.0051531409988799515\n",
      "Iteration 193: loglikelihood = 2396.124239965036, backtracks = 0, tol = 0.0002539839052693982\n",
      "Iteration 194: loglikelihood = 2396.574819531471, backtracks = 0, tol = 0.0008053699085912325\n",
      "Iteration 195: loglikelihood = 2396.951200390103, backtracks = 0, tol = 0.00672463168375739\n",
      "Iteration 196: loglikelihood = 2398.772669347814, backtracks = 0, tol = 0.0002891844203637974\n",
      "Iteration 197: loglikelihood = 2399.676745926087, backtracks = 0, tol = 0.0004179176626746138\n",
      "Iteration 198: loglikelihood = 2399.9734573683963, backtracks = 0, tol = 0.0021922192820200232\n",
      "Iteration 199: loglikelihood = 2400.8718366524395, backtracks = 0, tol = 0.0015738857554980859\n",
      "Iteration 200: loglikelihood = 2401.5264503986996, backtracks = 0, tol = 0.003938960185395666\n",
      "Iteration 201: loglikelihood = 2402.969371445583, backtracks = 0, tol = 0.0003586941528690383\n",
      "Iteration 202: loglikelihood = 2403.27024037535, backtracks = 0, tol = 0.0016527688493255348\n",
      "Iteration 203: loglikelihood = 2403.945960232637, backtracks = 0, tol = 0.0033045625733307228\n",
      "Iteration 204: loglikelihood = 2405.192094703379, backtracks = 0, tol = 0.00048546351190561577\n",
      "Iteration 205: loglikelihood = 2405.469869244129, backtracks = 0, tol = 0.003297152872145087\n",
      "Iteration 206: loglikelihood = 2406.698906007162, backtracks = 0, tol = 0.00047183748206198426\n",
      "Iteration 207: loglikelihood = 2406.971411849488, backtracks = 0, tol = 0.0031668558963782512\n",
      "Iteration 208: loglikelihood = 2408.1484017412376, backtracks = 0, tol = 0.0004977881400387432\n",
      "Iteration 209: loglikelihood = 2408.4189041004615, backtracks = 0, tol = 0.003604845662182439\n",
      "Iteration 210: loglikelihood = 2409.6963541079617, backtracks = 0, tol = 0.00036642035888012533\n",
      "Iteration 211: loglikelihood = 2409.967989263697, backtracks = 0, tol = 0.0019040873162027786\n",
      "Iteration 212: loglikelihood = 2410.7071180427006, backtracks = 0, tol = 0.0018547862211485838\n",
      "Iteration 213: loglikelihood = 2411.4247110271826, backtracks = 0, tol = 0.0019673992571990094\n",
      "Iteration 214: loglikelihood = 2412.17889363056, backtracks = 0, tol = 0.0016118586737509711\n",
      "Iteration 215: loglikelihood = 2412.801351734067, backtracks = 0, tol = 0.0028598137252843522\n",
      "Iteration 216: loglikelihood = 2413.8356178607537, backtracks = 0, tol = 0.0005445526833155647\n",
      "Iteration 217: loglikelihood = 2414.097352329711, backtracks = 0, tol = 0.0045666628285050805\n",
      "Iteration 218: loglikelihood = 2415.4457573055242, backtracks = 0, tol = 0.00020309939866419854\n",
      "Iteration 219: loglikelihood = 2415.8554733204423, backtracks = 0, tol = 0.0006758757314742126\n",
      "Iteration 220: loglikelihood = 2416.142796396166, backtracks = 0, tol = 0.00610697124484533\n",
      "Iteration 221: loglikelihood = 2417.3619175119593, backtracks = 0, tol = 0.0002835650378534218\n",
      "Iteration 222: loglikelihood = 2418.293806946504, backtracks = 0, tol = 0.00032681163364429284\n",
      "Iteration 223: loglikelihood = 2418.5437912639686, backtracks = 0, tol = 0.001690434731584228\n",
      "Iteration 224: loglikelihood = 2419.1643042318956, backtracks = 0, tol = 0.0020719326113657604\n",
      "Iteration 225: loglikelihood = 2419.9086305160367, backtracks = 0, tol = 0.0010869763055892678\n",
      "Iteration 226: loglikelihood = 2420.314647860084, backtracks = 0, tol = 0.005627242982986544\n",
      "Iteration 227: loglikelihood = 2421.4608857039198, backtracks = 0, tol = 0.00026296427965495693\n",
      "Iteration 228: loglikelihood = 2422.2533930465997, backtracks = 0, tol = 0.0003433260793543842\n",
      "Iteration 229: loglikelihood = 2422.482170265646, backtracks = 0, tol = 0.002021070265083102\n",
      "Iteration 230: loglikelihood = 2423.1890628533793, backtracks = 0, tol = 0.0010499276138114736\n",
      "Iteration 231: loglikelihood = 2423.57138242023, backtracks = 0, tol = 0.005593010715760281\n",
      "Iteration 232: loglikelihood = 2424.6018279492155, backtracks = 0, tol = 0.00026667204140522346\n",
      "Iteration 233: loglikelihood = 2425.4316260921505, backtracks = 0, tol = 0.0003161047549915597\n",
      "Iteration 234: loglikelihood = 2425.654432467926, backtracks = 0, tol = 0.0017980083356526019\n",
      "Iteration 235: loglikelihood = 2426.2718466075485, backtracks = 0, tol = 0.0013461828184851133\n",
      "Iteration 236: loglikelihood = 2426.74035475377, backtracks = 0, tol = 0.0031536672307655835\n",
      "Iteration 237: loglikelihood = 2427.6902285652777, backtracks = 0, tol = 0.00029119576173605217\n",
      "Iteration 238: loglikelihood = 2427.9114366404397, backtracks = 0, tol = 0.0015966130372800699\n",
      "Iteration 239: loglikelihood = 2428.4527889588694, backtracks = 0, tol = 0.0017998704274128968\n",
      "Iteration 240: loglikelihood = 2429.0538877777794, backtracks = 0, tol = 0.0012069375122393056\n",
      "Iteration 241: loglikelihood = 2429.465373217214, backtracks = 0, tol = 0.003824910023206804\n",
      "Iteration 242: loglikelihood = 2430.4470812154923, backtracks = 0, tol = 0.0001812894713141627\n",
      "Iteration 243: loglikelihood = 2430.770348053056, backtracks = 0, tol = 0.0006704121957441745\n",
      "Iteration 244: loglikelihood = 2431.0136932411756, backtracks = 0, tol = 0.006285617646182696\n",
      "Iteration 245: loglikelihood = 2431.4257384531597, backtracks = 0, tol = 0.00033067242556877315\n",
      "Iteration 246: loglikelihood = 2432.830334180449, backtracks = 0, tol = 0.00019495190534737661\n",
      "Iteration 247: loglikelihood = 2433.09996096331, backtracks = 0, tol = 0.0008182690943024738\n",
      "Iteration 248: loglikelihood = 2433.376850731761, backtracks = 0, tol = 0.006104081025365011\n",
      "Iteration 249: loglikelihood = 2433.726226092155, backtracks = 0, tol = 0.0003254322998985586\n",
      "Iteration 250: loglikelihood = 2435.0930359093154, backtracks = 0, tol = 0.0001887366855136265\n",
      "Iteration 251: loglikelihood = 2435.35307988741, backtracks = 0, tol = 0.0008104587003425972\n",
      "Iteration 252: loglikelihood = 2435.6201815791587, backtracks = 0, tol = 0.005984578465194541\n",
      "Iteration 253: loglikelihood = 2435.880938459323, backtracks = 0, tol = 0.0003244366099398242\n",
      "Iteration 254: loglikelihood = 2437.2500356005503, backtracks = 0, tol = 0.0001790222533032391\n",
      "Iteration 255: loglikelihood = 2437.505822884831, backtracks = 0, tol = 0.0007776403504700219\n",
      "Iteration 256: loglikelihood = 2437.756493068632, backtracks = 0, tol = 0.005974920321937194\n",
      "Iteration 257: loglikelihood = 2437.866099151055, backtracks = 0, tol = 0.0003318190193164707\n",
      "Iteration 258: loglikelihood = 2439.31852870725, backtracks = 0, tol = 0.00016640784230063542\n",
      "Iteration 259: loglikelihood = 2439.58083607597, backtracks = 0, tol = 0.0007010189670236309\n",
      "Iteration 260: loglikelihood = 2439.8042164726335, backtracks = 0, tol = 0.006087952239565235\n",
      "Iteration 261: loglikelihood = 2439.6667919663514, backtracks = 5, tol = 1.0925270331339517e-5\n",
      "  6.650031 seconds (61.45 k allocations: 46.840 MiB)\n"
     ]
    },
    {
     "data": {
      "text/plain": [
       "0.024981919833070017"
      ]
     },
     "execution_count": 46,
     "metadata": {},
     "output_type": "execute_result"
    }
   ],
   "source": [
    "n = 1000  # number of samples\n",
    "p = 10000 # number of SNPs\n",
    "k = 10    # number of causal SNPs per trait\n",
    "r = 2     # number of traits\n",
    "\n",
    "# set random seed for reproducibility\n",
    "Random.seed!(2022)\n",
    "\n",
    "# simulate `.bed` file with no missing data\n",
    "x = rand(0.:2., n, p)\n",
    "\n",
    "# intercept is the only nongenetic covariate\n",
    "z = ones(n, 1)\n",
    "intercepts = randn(r)' # each trait have different intercept\n",
    "\n",
    "# simulate response y, true model b, and the correct non-0 positions of b\n",
    "Y, true_Σ, true_b, correct_position = simulate_random_response(x, k, r, Zu=z*intercepts, overlap=2);\n",
    "\n",
    "# run IHT\n",
    "Random.seed!(2020)\n",
    "Yt = Matrix(Y')\n",
    "Zt = Matrix(z')\n",
    "Xt = Matrix(x')\n",
    "@time result = fit_iht(Yt, Transpose(x), Zt, k = 20, max_iter=500);\n",
    "speed_per_iter = result.time / result.iter"
   ]
  },
  {
   "cell_type": "code",
   "execution_count": 47,
   "metadata": {
    "collapsed": false
   },
   "outputs": [
    {
     "data": {
      "text/plain": [
       "3×2 Array{Float64,2}:\n",
       " -1.32085   -1.50987\n",
       " -0.457323  -0.619427\n",
       " -1.80573   -1.84578"
      ]
     },
     "execution_count": 47,
     "metadata": {},
     "output_type": "execute_result"
    }
   ],
   "source": [
    "# first beta\n",
    "β1 = result.beta[1, :]\n",
    "true_b1_idx = findall(!iszero, true_b[:, 1])\n",
    "[β1[true_b1_idx] true_b[true_b1_idx, 1]]"
   ]
  },
  {
   "cell_type": "code",
   "execution_count": 48,
   "metadata": {
    "collapsed": false
   },
   "outputs": [
    {
     "data": {
      "text/plain": [
       "7×2 Array{Float64,2}:\n",
       " -0.257583  -0.308054\n",
       " -0.665576  -0.54334\n",
       "  0.629238   0.586241\n",
       "  0.0       -0.0183675\n",
       " -1.49299   -1.51484\n",
       " -0.329601  -0.360181\n",
       "  2.04007    2.0501"
      ]
     },
     "execution_count": 48,
     "metadata": {},
     "output_type": "execute_result"
    }
   ],
   "source": [
    "# second beta\n",
    "β2 = result.beta[2, :]\n",
    "true_b2_idx = findall(!iszero, true_b[:, 2])\n",
    "[β2[true_b2_idx] true_b[true_b2_idx, 2]]"
   ]
  },
  {
   "cell_type": "code",
   "execution_count": 49,
   "metadata": {
    "collapsed": false
   },
   "outputs": [
    {
     "data": {
      "text/plain": [
       "2×2 Array{Float64,2}:\n",
       " -0.326767   0.900301\n",
       "  0.0       -0.151044"
      ]
     },
     "execution_count": 49,
     "metadata": {},
     "output_type": "execute_result"
    }
   ],
   "source": [
    "# non genetic covariates\n",
    "[result.c intercepts']"
   ]
  },
  {
   "cell_type": "code",
   "execution_count": 50,
   "metadata": {
    "collapsed": false
   },
   "outputs": [
    {
     "data": {
      "text/plain": [
       "4×2 Array{Float64,2}:\n",
       "  1.73172   1.69161\n",
       " -1.62934  -1.57315\n",
       " -1.62934  -1.57315\n",
       "  1.77269   1.69077"
      ]
     },
     "execution_count": 50,
     "metadata": {},
     "output_type": "execute_result"
    }
   ],
   "source": [
    "# covariance matrix\n",
    "[vec(result.Σ) vec(true_Σ)]"
   ]
  },
  {
   "cell_type": "code",
   "execution_count": null,
   "metadata": {
    "collapsed": true
   },
   "outputs": [],
   "source": []
  }
 ],
 "metadata": {
  "@webio": {
   "lastCommId": null,
   "lastKernelId": null
  },
  "kernelspec": {
   "display_name": "Julia 1.5.0",
   "language": "julia",
   "name": "julia-1.5"
  },
  "language_info": {
   "file_extension": ".jl",
   "mimetype": "application/julia",
   "name": "julia",
   "version": "1.5.0"
  }
 },
 "nbformat": 4,
 "nbformat_minor": 2
}
