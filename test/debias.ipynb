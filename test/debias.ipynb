{
 "cells": [
  {
   "cell_type": "markdown",
   "metadata": {},
   "source": [
    "# Test debias\n",
    "\n",
    "After each IHT iteration, $\\beta$ is sparse. We can solve for the exact solution on the non-zero indices, a process known as debiasing."
   ]
  },
  {
   "cell_type": "code",
   "execution_count": 1,
   "metadata": {
    "collapsed": false
   },
   "outputs": [],
   "source": [
    "using Revise\n",
    "using MendelIHT\n",
    "using SnpArrays\n",
    "using Random\n",
    "using GLM\n",
    "using DelimitedFiles\n",
    "using Test\n",
    "using Distributions\n",
    "using LinearAlgebra\n",
    "using CSV\n",
    "using DataFrames\n",
    "using StatsBase\n",
    "using TraitSimulation"
   ]
  },
  {
   "cell_type": "code",
   "execution_count": 2,
   "metadata": {
    "collapsed": false
   },
   "outputs": [
    {
     "data": {
      "text/plain": [
       "debias"
      ]
     },
     "execution_count": 2,
     "metadata": {},
     "output_type": "execute_result"
    }
   ],
   "source": [
    "\"\"\"\n",
    "    debias!(v::mIHTVariable)\n",
    "\n",
    "Solves the multivariate linear regression `Y = BX + E` by `B̂ = inv(X'X) X'Y`\n",
    "\"\"\"\n",
    "function debias(Y::AbstractMatrix, X::AbstractMatrix)\n",
    "    ldiv!(cholesky!(Symmetric(X'*X, :U)), Transpose(X) * Y)\n",
    "end"
   ]
  },
  {
   "cell_type": "markdown",
   "metadata": {},
   "source": [
    "## Test multivariate debiasing"
   ]
  },
  {
   "cell_type": "code",
   "execution_count": 3,
   "metadata": {
    "collapsed": false
   },
   "outputs": [],
   "source": [
    "Random.seed!(111)\n",
    "n = 10000\n",
    "p = 10\n",
    "r = 2\n",
    "X = randn(n, p)\n",
    "βtrue = randn(p, r)\n",
    "Y = X * βtrue + 0.1randn(n, r);"
   ]
  },
  {
   "cell_type": "code",
   "execution_count": 4,
   "metadata": {
    "collapsed": false
   },
   "outputs": [
    {
     "data": {
      "text/plain": [
       "10×6 Array{Float64,2}:\n",
       "  1.96152   -0.644561    1.96152   -0.644561    1.96003   -0.643827\n",
       " -0.227112  -2.03514    -0.227112  -2.03514    -0.226961  -2.03677\n",
       " -0.695466   0.0807036  -0.695466   0.0807036  -0.696983   0.0810192\n",
       " -0.471365   1.02773    -0.471365   1.02773    -0.470722   1.02645\n",
       "  0.176366  -0.402362    0.176366  -0.402362    0.177769  -0.402138\n",
       " -2.07868   -0.591199   -2.07868   -0.591199   -2.07842   -0.591873\n",
       "  1.91958    0.0392912   1.91958    0.0392912   1.91859    0.0385307\n",
       "  1.18673   -1.66567     1.18673   -1.66567     1.18838   -1.66464\n",
       "  1.43634   -0.522621    1.43634   -0.522621    1.43707   -0.523489\n",
       "  1.41148    1.43384     1.41148    1.43384     1.40999    1.43506"
      ]
     },
     "execution_count": 4,
     "metadata": {},
     "output_type": "execute_result"
    }
   ],
   "source": [
    "# compare debiased values to linear regression to truth\n",
    "[debias(Y, X) X\\Y βtrue]"
   ]
  },
  {
   "cell_type": "markdown",
   "metadata": {},
   "source": [
    "## Debiasing with IHT (univariate)"
   ]
  },
  {
   "cell_type": "code",
   "execution_count": 5,
   "metadata": {
    "collapsed": false
   },
   "outputs": [],
   "source": [
    "n = 1000\n",
    "p = 10000\n",
    "k = 10\n",
    "d = Normal\n",
    "l = canonicallink(d())\n",
    "\n",
    "Random.seed!(2021)\n",
    "x = simulate_random_snparray(undef, n, p)\n",
    "xla = SnpLinAlg{Float64}(x, center=true, scale=true)\n",
    "y, true_b, correct_position = simulate_random_response(xla, k, d, l);"
   ]
  },
  {
   "cell_type": "code",
   "execution_count": 6,
   "metadata": {
    "collapsed": false,
    "scrolled": false
   },
   "outputs": [
    {
     "name": "stdout",
     "output_type": "stream",
     "text": [
      "****                   MendelIHT Version 1.4.0                  ****\n",
      "****     Benjamin Chu, Kevin Keys, Chris German, Hua Zhou       ****\n",
      "****   Jin Zhou, Eric Sobel, Janet Sinsheimer, Kenneth Lange    ****\n",
      "****                                                            ****\n",
      "****                 Please cite our paper!                     ****\n",
      "****         https://doi.org/10.1093/gigascience/giaa044        ****\n",
      "\n",
      "Running sparse linear regression\n",
      "Link functin = IdentityLink()\n",
      "Sparsity parameter (k) = 11\n",
      "Prior weight scaling = off\n",
      "Doubly sparse projection = off\n",
      "Debias = off\n",
      "Max IHT iterations = 200\n",
      "Converging when tol < 0.0001:\n",
      "\n",
      "Iteration 1: loglikelihood = -1593.9929287471011, backtracks = 0, tol = 1.20797234572672\n",
      "Iteration 2: loglikelihood = -1487.2621799703284, backtracks = 0, tol = 0.12334401922028171\n",
      "Iteration 3: loglikelihood = -1468.8965217422317, backtracks = 0, tol = 0.05510756549097026\n",
      "Iteration 4: loglikelihood = -1467.3016301297482, backtracks = 0, tol = 0.05286328443463906\n",
      "Iteration 5: loglikelihood = -1466.974706555155, backtracks = 0, tol = 0.00685787502440212\n",
      "Iteration 6: loglikelihood = -1466.5771254627196, backtracks = 0, tol = 0.047850713149917935\n",
      "Iteration 7: loglikelihood = -1466.488332500151, backtracks = 1, tol = 0.002139099612512631\n",
      "Iteration 8: loglikelihood = -1466.4641802200022, backtracks = 1, tol = 0.0012234079372314796\n",
      "Iteration 9: loglikelihood = -1466.4577391494552, backtracks = 1, tol = 0.0006615977829827206\n",
      "Iteration 10: loglikelihood = -1466.456064940148, backtracks = 1, tol = 0.0003407972172908103\n",
      "Iteration 11: loglikelihood = -1466.4556380279882, backtracks = 1, tol = 0.00017061855156531112\n",
      "Iteration 12: loglikelihood = -1466.455530287542, backtracks = 1, tol = 8.445688850431311e-5\n"
     ]
    },
    {
     "data": {
      "text/plain": [
       "\n",
       "IHT estimated 11 nonzero SNP predictors and 0 non-genetic predictors.\n",
       "\n",
       "Compute time (sec):     0.7337119579315186\n",
       "Final loglikelihood:    -1466.455530287542\n",
       "SNP PVE:                0.8438409927824799\n",
       "Iterations:             12\n",
       "\n",
       "Selected genetic predictors:\n",
       "\u001b[1m11×2 DataFrame\u001b[0m\n",
       "\u001b[1m Row \u001b[0m│\u001b[1m Position \u001b[0m\u001b[1m Estimated_β \u001b[0m\n",
       "\u001b[1m     \u001b[0m│\u001b[90m Int64    \u001b[0m\u001b[90m Float64     \u001b[0m\n",
       "─────┼───────────────────────\n",
       "   1 │      782    -0.443537\n",
       "   2 │      901     0.753927\n",
       "   3 │     1204     0.698528\n",
       "   4 │     1306    -1.43028\n",
       "   5 │     1655    -0.192022\n",
       "   6 │     3160    -0.865703\n",
       "   7 │     3936    -0.153925\n",
       "   8 │     4201     0.334507\n",
       "   9 │     4402    -0.128446\n",
       "  10 │     6879    -1.21182\n",
       "  11 │     8055     0.115916\n",
       "\n",
       "Selected nongenetic predictors:\n",
       "\u001b[1m0×2 DataFrame\u001b[0m"
      ]
     },
     "execution_count": 6,
     "metadata": {},
     "output_type": "execute_result"
    }
   ],
   "source": [
    "result = fit_iht(y, xla, k=11, debias=false)"
   ]
  },
  {
   "cell_type": "code",
   "execution_count": 7,
   "metadata": {
    "collapsed": false
   },
   "outputs": [
    {
     "name": "stdout",
     "output_type": "stream",
     "text": [
      "****                   MendelIHT Version 1.4.0                  ****\n",
      "****     Benjamin Chu, Kevin Keys, Chris German, Hua Zhou       ****\n",
      "****   Jin Zhou, Eric Sobel, Janet Sinsheimer, Kenneth Lange    ****\n",
      "****                                                            ****\n",
      "****                 Please cite our paper!                     ****\n",
      "****         https://doi.org/10.1093/gigascience/giaa044        ****\n",
      "\n",
      "Running sparse linear regression\n",
      "Link functin = IdentityLink()\n",
      "Sparsity parameter (k) = 11\n",
      "Prior weight scaling = off\n",
      "Doubly sparse projection = off\n",
      "Debias = on\n",
      "Max IHT iterations = 200\n",
      "Converging when tol < 0.0001:\n",
      "\n",
      "Iteration 1: loglikelihood = -1593.9929287471011, backtracks = 0, tol = 1.400455921944636\n",
      "Iteration 2: loglikelihood = -1559.4627688199794, backtracks = 0, tol = 0.07435655637351721\n",
      "Iteration 3: loglikelihood = -1556.3289523410967, backtracks = 0, tol = 0.0\n",
      "Iteration 4: loglikelihood = -1554.0165116269238, backtracks = 0, tol = 0.0\n",
      "Iteration 5: loglikelihood = -1552.7059132114798, backtracks = 0, tol = 0.0\n"
     ]
    },
    {
     "data": {
      "text/plain": [
       "\n",
       "IHT estimated 11 nonzero SNP predictors and 0 non-genetic predictors.\n",
       "\n",
       "Compute time (sec):     1.224865198135376\n",
       "Final loglikelihood:    -1552.7059132114798\n",
       "SNP PVE:                0.8376246556996713\n",
       "Iterations:             5\n",
       "\n",
       "Selected genetic predictors:\n",
       "\u001b[1m11×2 DataFrame\u001b[0m\n",
       "\u001b[1m Row \u001b[0m│\u001b[1m Position \u001b[0m\u001b[1m Estimated_β \u001b[0m\n",
       "\u001b[1m     \u001b[0m│\u001b[90m Int64    \u001b[0m\u001b[90m Float64     \u001b[0m\n",
       "─────┼───────────────────────\n",
       "   1 │      782   -0.437298\n",
       "   2 │      901    0.739183\n",
       "   3 │     1204    0.677758\n",
       "   4 │     1306   -1.42774\n",
       "   5 │     1655   -0.180674\n",
       "   6 │     2341   -0.0447162\n",
       "   7 │     3160   -0.840734\n",
       "   8 │     4201    0.340794\n",
       "   9 │     6879   -1.20063\n",
       "  10 │     7410   -0.0199834\n",
       "  11 │     9091   -0.0604253\n",
       "\n",
       "Selected nongenetic predictors:\n",
       "\u001b[1m0×2 DataFrame\u001b[0m"
      ]
     },
     "execution_count": 7,
     "metadata": {},
     "output_type": "execute_result"
    }
   ],
   "source": [
    "result2 = fit_iht(y, xla, k=11, debias=true)"
   ]
  },
  {
   "cell_type": "code",
   "execution_count": 8,
   "metadata": {
    "collapsed": false
   },
   "outputs": [
    {
     "data": {
      "text/plain": [
       "10×2 Array{Float64,2}:\n",
       " -0.443537  -0.437298\n",
       "  0.753927   0.739183\n",
       "  0.698528   0.677758\n",
       " -1.43028   -1.42774\n",
       " -0.192022  -0.180674\n",
       " -0.865703  -0.840734\n",
       "  0.334507   0.340794\n",
       "  0.0        0.0\n",
       "  0.0        0.0\n",
       " -1.21182   -1.20063"
      ]
     },
     "execution_count": 8,
     "metadata": {},
     "output_type": "execute_result"
    }
   ],
   "source": [
    "[result.beta[correct_position] result2.beta[correct_position]]"
   ]
  },
  {
   "cell_type": "markdown",
   "metadata": {
    "collapsed": true
   },
   "source": [
    "## Multivariate debiasing\n",
    "\n",
    "\n",
    "With $r$ traits, each sample's phenotype $\\mathbf{y}_{i} \\in \\mathbb{R}^{n \\times 1}$ is simulated under\n",
    "\n",
    "$$\\mathbf{y}_{i}^{r \\times 1} \\sim N(\\mathbf{B}^{r \\times p}\\mathbf{x}_{i}^{p \\times 1}, \\ \\ \\Sigma_{r \\times r})$$\n",
    "\n",
    "This model assumes each sample is independent."
   ]
  },
  {
   "cell_type": "code",
   "execution_count": 25,
   "metadata": {
    "collapsed": false
   },
   "outputs": [],
   "source": [
    "n = 1000  # number of samples\n",
    "p = 10000 # number of SNPs\n",
    "k = 10    # number of causal SNPs\n",
    "r = 2     # number of traits\n",
    "\n",
    "# set random seed for reproducibility\n",
    "Random.seed!(2020)\n",
    "\n",
    "# simulate `.bed` file with no missing data\n",
    "x = simulate_random_snparray(\"multivariate_$(r)traits.bed\", n, p)\n",
    "xla = SnpLinAlg{Float64}(x, model=ADDITIVE_MODEL, center=true, scale=true) \n",
    "\n",
    "# intercept is the only nongenetic covariate\n",
    "z = ones(n, 1)\n",
    "intercepts = [10.0 1.0] # each trait have different intercept\n",
    "\n",
    "# simulate response y, true model b, and the correct non-0 positions of b\n",
    "Y, true_Σ, true_b, correct_position = simulate_random_response(xla, k, r, Zu=z*intercepts, overlap=2)\n",
    "correct_snps = [x[1] for x in correct_position] # causal snps\n",
    "Yt = Matrix(Y'); # in MendelIHT, multivariate traits should be rows"
   ]
  },
  {
   "cell_type": "code",
   "execution_count": 26,
   "metadata": {
    "collapsed": false,
    "scrolled": false
   },
   "outputs": [
    {
     "name": "stdout",
     "output_type": "stream",
     "text": [
      "****                   MendelIHT Version 1.4.0                  ****\n",
      "****     Benjamin Chu, Kevin Keys, Chris German, Hua Zhou       ****\n",
      "****   Jin Zhou, Eric Sobel, Janet Sinsheimer, Kenneth Lange    ****\n",
      "****                                                            ****\n",
      "****                 Please cite our paper!                     ****\n",
      "****         https://doi.org/10.1093/gigascience/giaa044        ****\n",
      "\n",
      "Running sparse Multivariate Gaussian regression\n",
      "Link functin = IdentityLink()\n",
      "Sparsity parameter (k) = 12\n",
      "Prior weight scaling = off\n",
      "Doubly sparse projection = off\n",
      "Debias = off\n",
      "Max IHT iterations = 200\n",
      "Converging when tol < 0.0001:\n",
      "\n",
      "Iteration 1: loglikelihood = 311.122249277171, backtracks = 0, tol = 0.15846789223457347\n",
      "Iteration 2: loglikelihood = 2368.959802261556, backtracks = 0, tol = 0.02724750792869442\n",
      "Iteration 3: loglikelihood = 2604.2428515947267, backtracks = 0, tol = 0.0026097666071417153\n",
      "Iteration 4: loglikelihood = 2616.3189330378927, backtracks = 0, tol = 0.0013206211955249015\n",
      "Iteration 5: loglikelihood = 2618.422032531564, backtracks = 0, tol = 0.0006706734292031657\n",
      "Iteration 6: loglikelihood = 2618.965195828587, backtracks = 0, tol = 0.0003504545567296813\n",
      "Iteration 7: loglikelihood = 2619.1343141024627, backtracks = 0, tol = 0.0002524532564730578\n",
      "Iteration 8: loglikelihood = 2619.224631839883, backtracks = 0, tol = 0.00023713994256593227\n",
      "Iteration 9: loglikelihood = 2619.2935943266666, backtracks = 0, tol = 0.00020489701045669142\n",
      "Iteration 10: loglikelihood = 2619.3455339951947, backtracks = 0, tol = 0.0001775740284455523\n",
      "Iteration 11: loglikelihood = 2619.3851965300514, backtracks = 0, tol = 0.00015616147932381101\n",
      "Iteration 12: loglikelihood = 2619.415938580557, backtracks = 0, tol = 0.00013689878828366622\n",
      "Iteration 13: loglikelihood = 2619.43979299888, backtracks = 0, tol = 0.00012145792235694341\n",
      "Iteration 14: loglikelihood = 2619.4585263595027, backtracks = 0, tol = 0.0001071810877223863\n",
      "Iteration 15: loglikelihood = 2619.4732108754683, backtracks = 0, tol = 9.55269641438906e-5\n"
     ]
    },
    {
     "data": {
      "text/plain": [
       "\n",
       "Compute time (sec):     1.586827039718628\n",
       "Final loglikelihood:    2619.4732108754683\n",
       "Iterations:             15\n",
       "Trait 1's SNP PVE:      0.7874775482319452\n",
       "Trait 2's SNP PVE:      0.7474637310695169\n",
       "\n",
       "Trait 1: IHT estimated 4 nonzero SNP predictors\n",
       "\u001b[1m4×2 DataFrame\u001b[0m\n",
       "\u001b[1m Row \u001b[0m│\u001b[1m Position \u001b[0m\u001b[1m Estimated_β \u001b[0m\n",
       "\u001b[1m     \u001b[0m│\u001b[90m Int64    \u001b[0m\u001b[90m Float64     \u001b[0m\n",
       "─────┼───────────────────────\n",
       "   1 │     3634    -0.21381\n",
       "   2 │     4935     0.884535\n",
       "   3 │     6526    -0.544904\n",
       "   4 │     9269    -1.87866\n",
       "\n",
       "Trait 1: IHT estimated 1 non-genetic predictors\n",
       "\u001b[1m1×2 DataFrame\u001b[0m\n",
       "\u001b[1m Row \u001b[0m│\u001b[1m Position \u001b[0m\u001b[1m Estimated_β \u001b[0m\n",
       "\u001b[1m     \u001b[0m│\u001b[90m Int64    \u001b[0m\u001b[90m Float64     \u001b[0m\n",
       "─────┼───────────────────────\n",
       "   1 │        1      10.0304\n",
       "\n",
       "Trait 2: IHT estimated 6 nonzero SNP predictors\n",
       "\u001b[1m6×2 DataFrame\u001b[0m\n",
       "\u001b[1m Row \u001b[0m│\u001b[1m Position \u001b[0m\u001b[1m Estimated_β \u001b[0m\n",
       "\u001b[1m     \u001b[0m│\u001b[90m Int64    \u001b[0m\u001b[90m Float64     \u001b[0m\n",
       "─────┼───────────────────────\n",
       "   1 │     1624    -0.916906\n",
       "   2 │     3765     1.00181\n",
       "   3 │     4935    -0.796363\n",
       "   4 │     6544     0.469215\n",
       "   5 │     7452    -0.993253\n",
       "   6 │     9269    -0.273261\n",
       "\n",
       "Trait 2: IHT estimated 1 non-genetic predictors\n",
       "\u001b[1m1×2 DataFrame\u001b[0m\n",
       "\u001b[1m Row \u001b[0m│\u001b[1m Position \u001b[0m\u001b[1m Estimated_β \u001b[0m\n",
       "\u001b[1m     \u001b[0m│\u001b[90m Int64    \u001b[0m\u001b[90m Float64     \u001b[0m\n",
       "─────┼───────────────────────\n",
       "   1 │        1     0.953537\n"
      ]
     },
     "execution_count": 26,
     "metadata": {},
     "output_type": "execute_result"
    },
    {
     "name": "stdout",
     "output_type": "stream",
     "text": [
      "\n"
     ]
    }
   ],
   "source": [
    "result = fit_iht(Yt, Transpose(xla), k=12, debias=false)"
   ]
  },
  {
   "cell_type": "code",
   "execution_count": 27,
   "metadata": {
    "collapsed": false,
    "scrolled": false
   },
   "outputs": [
    {
     "name": "stdout",
     "output_type": "stream",
     "text": [
      "****                   MendelIHT Version 1.4.0                  ****\n",
      "****     Benjamin Chu, Kevin Keys, Chris German, Hua Zhou       ****\n",
      "****   Jin Zhou, Eric Sobel, Janet Sinsheimer, Kenneth Lange    ****\n",
      "****                                                            ****\n",
      "****                 Please cite our paper!                     ****\n",
      "****         https://doi.org/10.1093/gigascience/giaa044        ****\n",
      "\n",
      "Running sparse Multivariate Gaussian regression\n",
      "Link functin = IdentityLink()\n",
      "Sparsity parameter (k) = 12\n",
      "Prior weight scaling = off\n",
      "Doubly sparse projection = off\n",
      "Debias = on\n",
      "Max IHT iterations = 200\n",
      "Converging when tol < 0.0001:\n",
      "\n",
      "reached here!\n",
      "Iteration 1: loglikelihood = 311.122249277171, backtracks = 0, tol = 0.17051846008510982\n",
      "Iteration 2: loglikelihood = 2368.959802261556, backtracks = 0, tol = 0.020586437386725893\n",
      "Iteration 3: loglikelihood = 2559.7083449041525, backtracks = 0, tol = 2.0130182239936735e-17\n",
      "Iteration 4: loglikelihood = 2595.741124173523, backtracks = 0, tol = 1.0065091119968367e-17\n",
      "Iteration 5: loglikelihood = 2611.308544163625, backtracks = 0, tol = 1.0065091119968367e-17\n"
     ]
    },
    {
     "data": {
      "text/plain": [
       "\n",
       "Compute time (sec):     0.53472900390625\n",
       "Final loglikelihood:    2611.308544163625\n",
       "Iterations:             5\n",
       "Trait 1's SNP PVE:      0.7953165106913967\n",
       "Trait 2's SNP PVE:      0.7736662179178111\n",
       "\n",
       "Trait 1: IHT estimated 4 nonzero SNP predictors\n",
       "\u001b[1m4×2 DataFrame\u001b[0m\n",
       "\u001b[1m Row \u001b[0m│\u001b[1m Position \u001b[0m\u001b[1m Estimated_β \u001b[0m\n",
       "\u001b[1m     \u001b[0m│\u001b[90m Int64    \u001b[0m\u001b[90m Float64     \u001b[0m\n",
       "─────┼───────────────────────\n",
       "   1 │     3634    -0.227077\n",
       "   2 │     4935     0.888378\n",
       "   3 │     6526    -0.538614\n",
       "   4 │     9269    -1.88919\n",
       "\n",
       "Trait 1: IHT estimated 1 non-genetic predictors\n",
       "\u001b[1m1×2 DataFrame\u001b[0m\n",
       "\u001b[1m Row \u001b[0m│\u001b[1m Position \u001b[0m\u001b[1m Estimated_β \u001b[0m\n",
       "\u001b[1m     \u001b[0m│\u001b[90m Int64    \u001b[0m\u001b[90m Float64     \u001b[0m\n",
       "─────┼───────────────────────\n",
       "   1 │        1      10.0304\n",
       "\n",
       "Trait 2: IHT estimated 6 nonzero SNP predictors\n",
       "\u001b[1m6×2 DataFrame\u001b[0m\n",
       "\u001b[1m Row \u001b[0m│\u001b[1m Position \u001b[0m\u001b[1m Estimated_β \u001b[0m\n",
       "\u001b[1m     \u001b[0m│\u001b[90m Int64    \u001b[0m\u001b[90m Float64     \u001b[0m\n",
       "─────┼───────────────────────\n",
       "   1 │     1624    -0.935058\n",
       "   2 │     3765     1.01879\n",
       "   3 │     4935    -0.80035\n",
       "   4 │     6544     0.462194\n",
       "   5 │     7452    -1.02723\n",
       "   6 │     9269    -0.26297\n",
       "\n",
       "Trait 2: IHT estimated 1 non-genetic predictors\n",
       "\u001b[1m1×2 DataFrame\u001b[0m\n",
       "\u001b[1m Row \u001b[0m│\u001b[1m Position \u001b[0m\u001b[1m Estimated_β \u001b[0m\n",
       "\u001b[1m     \u001b[0m│\u001b[90m Int64    \u001b[0m\u001b[90m Float64     \u001b[0m\n",
       "─────┼───────────────────────\n",
       "   1 │        1     0.953537\n"
      ]
     },
     "execution_count": 27,
     "metadata": {},
     "output_type": "execute_result"
    },
    {
     "name": "stdout",
     "output_type": "stream",
     "text": [
      "\n"
     ]
    }
   ],
   "source": [
    "result2 = fit_iht(Yt, Transpose(xla), k=12, debias=true)"
   ]
  },
  {
   "cell_type": "code",
   "execution_count": 29,
   "metadata": {
    "collapsed": false
   },
   "outputs": [
    {
     "data": {
      "text/plain": [
       "10×3 Array{Float64,2}:\n",
       " -0.203676  -0.21381   -0.227077\n",
       "  0.892669   0.884535   0.888378\n",
       " -0.537023  -0.544904  -0.538614\n",
       " -1.93132   -1.87866   -1.88919\n",
       "  0.0        0.0        0.0\n",
       "  0.0        0.0        0.0\n",
       "  0.892669   0.884535   0.888378\n",
       "  0.0        0.0        0.0\n",
       "  0.0        0.0        0.0\n",
       " -1.93132   -1.87866   -1.88919"
      ]
     },
     "execution_count": 29,
     "metadata": {},
     "output_type": "execute_result"
    }
   ],
   "source": [
    "# true beta1 vs no debias vs yes debias\n",
    "[true_b[correct_snps, 1] result.beta[1, correct_snps] result2.beta[1, correct_snps]]"
   ]
  },
  {
   "cell_type": "code",
   "execution_count": 30,
   "metadata": {
    "collapsed": false
   },
   "outputs": [
    {
     "data": {
      "text/plain": [
       "10×3 Array{Float64,2}:\n",
       "  0.0        0.0        0.0\n",
       " -0.815928  -0.796363  -0.80035\n",
       "  0.0        0.0        0.0\n",
       " -0.246635  -0.273261  -0.26297\n",
       " -0.910143  -0.916906  -0.935058\n",
       "  1.00117    1.00181    1.01879\n",
       " -0.815928  -0.796363  -0.80035\n",
       "  0.472513   0.469215   0.462194\n",
       " -1.00364   -0.993253  -1.02723\n",
       " -0.246635  -0.273261  -0.26297"
      ]
     },
     "execution_count": 30,
     "metadata": {},
     "output_type": "execute_result"
    }
   ],
   "source": [
    "# true beta1 vs no debias vs yes debias\n",
    "[true_b[correct_snps, 2] result.beta[2, correct_snps] result2.beta[2, correct_snps]]"
   ]
  },
  {
   "cell_type": "code",
   "execution_count": null,
   "metadata": {
    "collapsed": true
   },
   "outputs": [],
   "source": []
  }
 ],
 "metadata": {
  "kernelspec": {
   "display_name": "Julia 1.5.0",
   "language": "julia",
   "name": "julia-1.5"
  },
  "language_info": {
   "file_extension": ".jl",
   "mimetype": "application/julia",
   "name": "julia",
   "version": "1.5.0"
  }
 },
 "nbformat": 4,
 "nbformat_minor": 2
}
