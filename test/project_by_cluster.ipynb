{
 "cells": [
  {
   "cell_type": "code",
   "execution_count": 1,
   "metadata": {
    "collapsed": false
   },
   "outputs": [
    {
     "name": "stderr",
     "output_type": "stream",
     "text": [
      "┌ Info: Precompiling MendelIHT [921c7187-1484-5754-b919-5d3ed9ac03c4]\n",
      "└ @ Base loading.jl:1278\n"
     ]
    }
   ],
   "source": [
    "using Distributed\n",
    "# addprocs(4)\n",
    "\n",
    "@everywhere begin\n",
    "    using Revise\n",
    "    using MendelIHT\n",
    "    using SnpArrays\n",
    "    using Random\n",
    "    using GLM\n",
    "    using DelimitedFiles\n",
    "    using Test\n",
    "    using Distributions\n",
    "    using LinearAlgebra\n",
    "    using CSV\n",
    "    using DataFrames\n",
    "end"
   ]
  },
  {
   "cell_type": "markdown",
   "metadata": {
    "collapsed": true
   },
   "source": [
    "# Simulate data\n",
    "\n",
    "There are 20 true SNPs. "
   ]
  },
  {
   "cell_type": "code",
   "execution_count": 82,
   "metadata": {
    "collapsed": false
   },
   "outputs": [],
   "source": [
    "n = 1000  # number of samples\n",
    "p = 10000 # number of SNPs\n",
    "k = 20    # number of causal SNPs per trait\n",
    "d = Normal\n",
    "l = canonicallink(d())\n",
    "\n",
    "# set random seed for reproducibility\n",
    "Random.seed!(2021)\n",
    "\n",
    "# simulate `.bed` file with no missing data\n",
    "x = simulate_random_snparray(undef, n, p)\n",
    "xla = SnpLinAlg{Float64}(x, model=ADDITIVE_MODEL, center=true, scale=true) \n",
    "\n",
    "# intercept is the only nongenetic covariate\n",
    "z = ones(n)\n",
    "intercept = 0.0\n",
    "\n",
    "# simulate response y, true model b, and the correct non-0 positions of b\n",
    "Y, true_b, correct_position = simulate_random_response(xla, k, d, l, Zu=z*intercept);"
   ]
  },
  {
   "cell_type": "markdown",
   "metadata": {
    "collapsed": true
   },
   "source": [
    "# If $k$ unknown, try clustering by absolute value\n",
    "\n",
    "Here is a simple projection based on based on k-means clustering. "
   ]
  },
  {
   "cell_type": "code",
   "execution_count": 58,
   "metadata": {
    "collapsed": false
   },
   "outputs": [
    {
     "data": {
      "text/plain": [
       "project_by_clustering!"
      ]
     },
     "execution_count": 58,
     "metadata": {},
     "output_type": "execute_result"
    }
   ],
   "source": [
    "\"\"\"\n",
    "    project_by_clustering!(x::AbstractVector)\n",
    "\n",
    "Projects `x` to sparsity by clustering. We run k-means with `group` clusters for\n",
    "10 iterations, and then project the cluster with the smallest mean.\n",
    "\"\"\"\n",
    "function project_by_clustering!(x::AbstractVector{T}, groups::Int=3) where T <: Real\n",
    "    centers = collect(T, 0:1/(groups-1):1) # initialize cluster centers\n",
    "    members = [Int[] for _ in 1:groups]\n",
    "\n",
    "    # run 10 iterations of k-means\n",
    "    for iter in 1:10\n",
    "        # assign xᵢ to the nearest cluster\n",
    "        empty!.(members) # refresh cluster members\n",
    "        for i in eachindex(x)\n",
    "            xi, best_dist, best_group = abs(x[i]), typemax(T), 0\n",
    "            for j in 1:groups\n",
    "                d = abs2(xi - centers[j])\n",
    "                if d < best_dist\n",
    "                    best_dist = d\n",
    "                    best_group = j\n",
    "                end\n",
    "            end\n",
    "            push!(members[best_group], i)\n",
    "        end\n",
    "\n",
    "        # update cluster centers\n",
    "        centers .= zero(T)\n",
    "        for j in 1:groups\n",
    "            for i in members[j]\n",
    "                centers[j] += abs(x[i])\n",
    "            end\n",
    "            length(members[j]) != 0 && (centers[j] /= length(members[j]))\n",
    "            centers[j] ≥ 0 || error(\"center $j = $(centers[j]) is negative! Shouldn't happen!\")\n",
    "        end\n",
    "    end\n",
    "\n",
    "    # project cluster with smallest mean\n",
    "    mincenter, mincluster = findmin(centers)\n",
    "    for i in members[mincluster]\n",
    "        x[i] = 0\n",
    "    end\n",
    "\n",
    "    return centers, members\n",
    "end"
   ]
  },
  {
   "cell_type": "markdown",
   "metadata": {},
   "source": [
    "# Run full IHT with clustering\n",
    "\n",
    "Here $k$ represents the number of clusters"
   ]
  },
  {
   "cell_type": "code",
   "execution_count": 83,
   "metadata": {
    "collapsed": false,
    "scrolled": true
   },
   "outputs": [
    {
     "name": "stdout",
     "output_type": "stream",
     "text": [
      "****                   MendelIHT Version 1.3.3                  ****\n",
      "****     Benjamin Chu, Kevin Keys, Chris German, Hua Zhou       ****\n",
      "****   Jin Zhou, Eric Sobel, Janet Sinsheimer, Kenneth Lange    ****\n",
      "****                                                            ****\n",
      "****                 Please cite our paper!                     ****\n",
      "****         https://doi.org/10.1093/gigascience/giaa044        ****\n",
      "\n",
      "Running sparse linear regression\n",
      "Link functin = IdentityLink()\n",
      "Sparsity parameter (k) = 2\n",
      "Prior weight scaling = off\n",
      "Doubly sparse projection = off\n",
      "Debias = off\n",
      "Max IHT iterations = 100\n",
      "Converging when tol < 0.0001:\n",
      "\n",
      "cluster 1 has mean 0.09897039900604343 with 9989 members\n",
      "cluster 2 has mean 1.0296528284922977 with 12 members\n",
      "Iteration 1: loglikelihood = -1706.7140423805665, backtracks = 0, tol = 1.3804772210599874\n",
      "cluster 1 has mean 0.03785743987018223 with 9989 members\n",
      "cluster 2 has mean 1.0544671540047375 with 12 members\n",
      "Iteration 2: loglikelihood = -1657.4869549672399, backtracks = 0, tol = 0.09326439397131783\n",
      "cluster 1 has mean 0.03154493685238831 with 9989 members\n",
      "cluster 2 has mean 1.0638371145682994 with 12 members\n",
      "Iteration 3: loglikelihood = -1656.683016833055, backtracks = 0, tol = 0.013338501370555573\n",
      "cluster 1 has mean 0.034800205783318515 with 9989 members\n",
      "cluster 2 has mean 1.0638881857246687 with 12 members\n",
      "Iteration 4: loglikelihood = -1656.6665318578644, backtracks = 0, tol = 0.0018637679296220585\n",
      "cluster 1 has mean 0.030742051060922048 with 9989 members\n",
      "cluster 2 has mean 1.064058068980458 with 12 members\n",
      "Iteration 5: loglikelihood = -1656.666082931747, backtracks = 0, tol = 0.0002548589906392109\n",
      "cluster 1 has mean 0.034103965205707194 with 9989 members\n",
      "cluster 2 has mean 1.0640696977961221 with 12 members\n",
      "Iteration 6: loglikelihood = -1656.666069606865, backtracks = 0, tol = 5.879522500428347e-5\n",
      "  0.451392 seconds (1.28 M allocations: 59.250 MiB)\n"
     ]
    },
    {
     "data": {
      "text/plain": [
       "\n",
       "IHT estimated 12 nonzero SNP predictors and 0 non-genetic predictors.\n",
       "\n",
       "Compute time (sec):     0.03905916213989258\n",
       "Final loglikelihood:    -1656.666069606865\n",
       "Iterations:             6\n",
       "\n",
       "Selected genetic predictors:\n",
       "\u001b[1m12×2 DataFrame\u001b[0m\n",
       "\u001b[1m Row \u001b[0m│\u001b[1m Position \u001b[0m\u001b[1m Estimated_β \u001b[0m\n",
       "\u001b[1m     \u001b[0m│\u001b[90m Int64    \u001b[0m\u001b[90m Float64     \u001b[0m\n",
       "─────┼───────────────────────\n",
       "   1 │      921     0.756641\n",
       "   2 │     1079    -1.53159\n",
       "   3 │     1216     0.776927\n",
       "   4 │     1320    -1.48857\n",
       "   5 │     1733    -0.952702\n",
       "   6 │     2767    -0.782935\n",
       "   7 │     2942     1.24028\n",
       "   8 │     3174    -0.856962\n",
       "   9 │     4189     0.677355\n",
       "  10 │     6889    -1.23779\n",
       "  11 │     7036    -1.21663\n",
       "  12 │     7960     1.25045\n",
       "\n",
       "Selected nongenetic predictors:\n",
       "\u001b[1m0×2 DataFrame\u001b[0m"
      ]
     },
     "execution_count": 83,
     "metadata": {},
     "output_type": "execute_result"
    }
   ],
   "source": [
    "@time result = fit_iht(Y, xla, z, k=2)"
   ]
  },
  {
   "cell_type": "code",
   "execution_count": 84,
   "metadata": {
    "collapsed": false
   },
   "outputs": [
    {
     "data": {
      "text/plain": [
       "20×2 Array{Float64,2}:\n",
       "  0.0       -0.161659\n",
       "  0.0       -0.402269\n",
       "  0.756641   0.758756\n",
       " -1.53159   -1.53835\n",
       "  0.776927   0.729135\n",
       " -1.48857   -1.47163\n",
       "  0.0       -0.172668\n",
       " -0.952702  -0.971641\n",
       " -0.782935  -0.735768\n",
       "  1.24028    1.2169\n",
       " -0.856962  -0.847906\n",
       "  0.677355   0.654921\n",
       "  0.0        0.296183\n",
       "  0.0       -0.388067\n",
       "  0.0       -0.0034339\n",
       "  0.0        0.0407291\n",
       "  0.0        0.125965\n",
       " -1.23779   -1.24972\n",
       " -1.21663   -1.24587\n",
       "  1.25045    1.27953"
      ]
     },
     "execution_count": 84,
     "metadata": {},
     "output_type": "execute_result"
    }
   ],
   "source": [
    "# compare estimated vs true beta values\n",
    "[result.beta[correct_position] true_b[correct_position]]"
   ]
  },
  {
   "cell_type": "markdown",
   "metadata": {},
   "source": [
    "**Conclusion:** Dynamically updating $k$ finds 12/20 predictors."
   ]
  },
  {
   "cell_type": "markdown",
   "metadata": {},
   "source": [
    "### Try cross validation"
   ]
  },
  {
   "cell_type": "code",
   "execution_count": 68,
   "metadata": {
    "collapsed": false
   },
   "outputs": [
    {
     "name": "stdout",
     "output_type": "stream",
     "text": [
      "\n",
      "\n",
      "Crossvalidation Results:\n",
      "\tk\tMSE\n",
      "\t1\t923.6053388280155\n",
      "\t2\t804.8252069069749\n",
      "\t3\t687.5250032949984\n",
      "\t4\t620.3530486649759\n",
      "\t5\t542.5895524210691\n",
      "\t6\t461.471154918797\n",
      "\t7\t428.616158410335\n",
      "\t8\t406.9939489195609\n",
      "\t9\t358.77150329876383\n",
      "\t10\t330.3450937480381\n",
      "\t11\t290.8726741109584\n",
      "\t12\t266.40215317589787\n",
      "\t13\t259.2410565620497\n",
      "\t14\t255.37915945348996\n",
      "\t15\t258.5614813137921\n",
      "\t16\t260.02234179360454\n",
      "\t17\t265.7868181363281\n",
      "\t18\t275.5541989543569\n",
      "\t19\t270.23654365359585\n",
      "\t20\t276.87296250332327\n",
      "\t21\t282.4759933773313\n",
      "\t22\t283.83153151906345\n",
      "\t23\t287.782773630965\n",
      "\t24\t292.13477841288005\n",
      "\t25\t301.14212108013083\n",
      "\t26\t310.86180286316676\n",
      "\t27\t314.30599770082796\n",
      "\t28\t312.5334824080938\n",
      "\t29\t312.63561339052256\n",
      "\t30\t327.04909178245344\n"
     ]
    },
    {
     "data": {
      "text/plain": [
       "14"
      ]
     },
     "execution_count": 68,
     "metadata": {},
     "output_type": "execute_result"
    }
   ],
   "source": [
    "mses = cv_iht(Y, x, z, path=1:30)\n",
    "argmin(mses)"
   ]
  },
  {
   "cell_type": "markdown",
   "metadata": {},
   "source": [
    "### Run regular IHT with $k = 17$"
   ]
  },
  {
   "cell_type": "code",
   "execution_count": 20,
   "metadata": {
    "collapsed": false
   },
   "outputs": [
    {
     "name": "stdout",
     "output_type": "stream",
     "text": [
      "****                   MendelIHT Version 1.3.3                  ****\n",
      "****     Benjamin Chu, Kevin Keys, Chris German, Hua Zhou       ****\n",
      "****   Jin Zhou, Eric Sobel, Janet Sinsheimer, Kenneth Lange    ****\n",
      "****                                                            ****\n",
      "****                 Please cite our paper!                     ****\n",
      "****         https://doi.org/10.1093/gigascience/giaa044        ****\n",
      "\n",
      "Running sparse linear regression\n",
      "Link functin = IdentityLink()\n",
      "Sparsity parameter (k) = 27\n",
      "Prior weight scaling = off\n",
      "Doubly sparse projection = off\n",
      "Debias = off\n",
      "Max IHT iterations = 100\n",
      "Converging when tol < 0.0001:\n",
      "\n",
      "Iteration 1: loglikelihood = -1920.3446678703415, backtracks = 0, tol = 1.0382143858583603\n",
      "Iteration 2: loglikelihood = -1661.3157264955626, backtracks = 0, tol = 0.22015859364984378\n",
      "Iteration 3: loglikelihood = -1656.7577011746137, backtracks = 0, tol = 0.028960415766784334\n",
      "Iteration 4: loglikelihood = -1656.668060843034, backtracks = 0, tol = 0.004586605809942993\n",
      "Iteration 5: loglikelihood = -1656.6661168490898, backtracks = 0, tol = 0.0004994145449483639\n",
      "Iteration 6: loglikelihood = -1656.6660704573244, backtracks = 0, tol = 9.605484609623867e-5\n",
      "  0.118394 seconds (182.41 k allocations: 9.543 MiB)\n"
     ]
    },
    {
     "data": {
      "text/plain": [
       "20×2 Array{Float64,2}:\n",
       "  0.0       -0.161659\n",
       "  0.0       -0.402269\n",
       "  0.75665    0.758756\n",
       " -1.53159   -1.53835\n",
       "  0.776944   0.729135\n",
       " -1.48858   -1.47163\n",
       "  0.0       -0.172668\n",
       " -0.95268   -0.971641\n",
       " -0.782955  -0.735768\n",
       "  1.24029    1.2169\n",
       " -0.856995  -0.847906\n",
       "  0.677345   0.654921\n",
       "  0.0        0.296183\n",
       "  0.0       -0.388067\n",
       "  0.0       -0.0034339\n",
       "  0.0        0.0407291\n",
       "  0.0        0.125965\n",
       " -1.23779   -1.24972\n",
       " -1.21665   -1.24587\n",
       "  1.25041    1.27953"
      ]
     },
     "execution_count": 20,
     "metadata": {},
     "output_type": "execute_result"
    }
   ],
   "source": [
    "@time result = fit_iht(Y, xla, z, k=argmin(mses))\n",
    "[result.beta[correct_position] true_b[correct_position]]"
   ]
  },
  {
   "cell_type": "markdown",
   "metadata": {},
   "source": [
    "**Conclusion:** Dynamically updating $k$ finds 12/20 predictors, while cross validation finds 17/20."
   ]
  }
 ],
 "metadata": {
  "@webio": {
   "lastCommId": null,
   "lastKernelId": null
  },
  "kernelspec": {
   "display_name": "Julia 1.5.0",
   "language": "julia",
   "name": "julia-1.5"
  },
  "language_info": {
   "file_extension": ".jl",
   "mimetype": "application/julia",
   "name": "julia",
   "version": "1.5.0"
  }
 },
 "nbformat": 4,
 "nbformat_minor": 2
}
