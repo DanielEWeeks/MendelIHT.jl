{
 "cells": [
  {
   "cell_type": "markdown",
   "metadata": {},
   "source": [
    "# Sparsity projection via clustering\n",
    "\n",
    "In IHT, we need to evaluate $P_k(\\mathbf{v})$ where $\\mathbf{v}$ is a dense vector and $k$ is the number of non-zero entries to keep. Usually $k$ is determined via cross-validation, an expensive procedure. This notebook investigates an attractive alternative: project by clustering.\n",
    "\n",
    "The idea is to group large values of $\\mathbf{v}$ into a cluster, and small values of $\\mathbf{v}$ into another. Then we project the smaller cluster to sparsity. We naively try $k$-means with just 2 clusters."
   ]
  },
  {
   "cell_type": "code",
   "execution_count": 1,
   "metadata": {
    "collapsed": false
   },
   "outputs": [
    {
     "name": "stderr",
     "output_type": "stream",
     "text": [
      "┌ Info: Precompiling MendelIHT [921c7187-1484-5754-b919-5d3ed9ac03c4]\n",
      "└ @ Base loading.jl:1278\n"
     ]
    }
   ],
   "source": [
    "using Distributed\n",
    "# addprocs(4)\n",
    "\n",
    "@everywhere begin\n",
    "    using Revise\n",
    "    using MendelIHT\n",
    "    using SnpArrays\n",
    "    using Random\n",
    "    using GLM\n",
    "    using DelimitedFiles\n",
    "    using Test\n",
    "    using Distributions\n",
    "    using LinearAlgebra\n",
    "    using CSV\n",
    "    using DataFrames\n",
    "end"
   ]
  },
  {
   "cell_type": "markdown",
   "metadata": {
    "collapsed": true
   },
   "source": [
    "# Simulate data\n",
    "\n",
    "There are 20 true SNPs. "
   ]
  },
  {
   "cell_type": "code",
   "execution_count": 32,
   "metadata": {
    "collapsed": false
   },
   "outputs": [],
   "source": [
    "n = 1000  # number of samples\n",
    "p = 10000 # number of SNPs\n",
    "k = 20    # number of causal SNPs per trait\n",
    "d = Normal\n",
    "l = canonicallink(d())\n",
    "\n",
    "# set random seed for reproducibility\n",
    "Random.seed!(2021)\n",
    "\n",
    "# simulate `.bed` file with no missing data\n",
    "x = simulate_random_snparray(undef, n, p)\n",
    "xla = SnpLinAlg{Float64}(x, model=ADDITIVE_MODEL, center=true, scale=true) \n",
    "\n",
    "# intercept is the only nongenetic covariate\n",
    "z = ones(n)\n",
    "intercept = 0.0\n",
    "\n",
    "# simulate response y, true model b, and the correct non-0 positions of b\n",
    "Y, true_b, correct_position = simulate_random_response(xla, k, d, l, Zu=z*intercept);"
   ]
  },
  {
   "cell_type": "markdown",
   "metadata": {
    "collapsed": true
   },
   "source": [
    "# If $k$ unknown, try clustering by absolute value\n",
    "\n",
    "Here is a simple projection based on based on k-means clustering. "
   ]
  },
  {
   "cell_type": "code",
   "execution_count": 9,
   "metadata": {
    "collapsed": false
   },
   "outputs": [
    {
     "data": {
      "text/plain": [
       "project_by_clustering!"
      ]
     },
     "execution_count": 9,
     "metadata": {},
     "output_type": "execute_result"
    }
   ],
   "source": [
    "\"\"\"\n",
    "    project_by_clustering!(x::AbstractVector)\n",
    "\n",
    "Projects `x` to sparsity by clustering. We run k-means with `group` clusters for\n",
    "10 iterations, and then project the cluster with the smallest mean.\n",
    "\"\"\"\n",
    "function project_by_clustering!(x::AbstractVector{T}, groups::Int=3) where T <: Real\n",
    "    centers = collect(T, 0:1/(groups-1):1) # initialize cluster centers\n",
    "    members = [Int[] for _ in 1:groups]\n",
    "\n",
    "    # run 10 iterations of k-means\n",
    "    for iter in 1:10\n",
    "        # assign xᵢ to the nearest cluster\n",
    "        empty!.(members) # refresh cluster members\n",
    "        for i in eachindex(x)\n",
    "            # xi, best_dist, best_group = abs(log(abs(x[i]))), typemax(T), 0\n",
    "            xi, best_dist, best_group = abs(x[i]), typemax(T), 0\n",
    "            for j in 1:groups\n",
    "                d = abs2(xi - centers[j])\n",
    "                if d < best_dist\n",
    "                    best_dist = d\n",
    "                    best_group = j\n",
    "                end\n",
    "            end\n",
    "            push!(members[best_group], i)\n",
    "        end\n",
    "\n",
    "        # update cluster centers\n",
    "        centers .= zero(T)\n",
    "        for j in 1:groups\n",
    "            for i in members[j]\n",
    "                centers[j] += abs(x[i])\n",
    "            end\n",
    "            length(members[j]) != 0 && (centers[j] /= length(members[j]))\n",
    "            centers[j] ≥ 0 || error(\"center $j = $(centers[j]) is negative! Shouldn't happen!\")\n",
    "        end\n",
    "    end\n",
    "\n",
    "    # project cluster with smallest mean\n",
    "    mincenter, mincluster = findmin(centers)\n",
    "    for i in members[mincluster]\n",
    "        x[i] = 0\n",
    "    end\n",
    "\n",
    "    return centers, members\n",
    "end"
   ]
  },
  {
   "cell_type": "markdown",
   "metadata": {},
   "source": [
    "# Run full IHT with clustering\n",
    "\n",
    "Here $k$ represents the number of clusters"
   ]
  },
  {
   "cell_type": "code",
   "execution_count": 33,
   "metadata": {
    "collapsed": false,
    "scrolled": true
   },
   "outputs": [
    {
     "name": "stdout",
     "output_type": "stream",
     "text": [
      "****                   MendelIHT Version 1.3.3                  ****\n",
      "****     Benjamin Chu, Kevin Keys, Chris German, Hua Zhou       ****\n",
      "****   Jin Zhou, Eric Sobel, Janet Sinsheimer, Kenneth Lange    ****\n",
      "****                                                            ****\n",
      "****                 Please cite our paper!                     ****\n",
      "****         https://doi.org/10.1093/gigascience/giaa044        ****\n",
      "\n",
      "Running sparse linear regression\n",
      "Link functin = IdentityLink()\n",
      "Sparsity parameter (k) = 2\n",
      "Prior weight scaling = off\n",
      "Doubly sparse projection = off\n",
      "Debias = off\n",
      "Max IHT iterations = 100\n",
      "Converging when tol < 0.0001:\n",
      "\n",
      "cluster 1 has mean 0.09897039900604343 with 9989 members\n",
      "cluster 2 has mean 1.0296528284922977 with 12 members\n",
      "Iteration 1: loglikelihood = -1706.7140423805665, backtracks = 0, tol = 1.3804772210599874\n",
      "cluster 1 has mean 0.03785743987018223 with 9989 members\n",
      "cluster 2 has mean 1.0544671540047375 with 12 members\n",
      "Iteration 2: loglikelihood = -1657.4869549672399, backtracks = 0, tol = 0.09326439397131783\n",
      "cluster 1 has mean 0.03154493685238831 with 9989 members\n",
      "cluster 2 has mean 1.0638371145682994 with 12 members\n",
      "Iteration 3: loglikelihood = -1656.683016833055, backtracks = 0, tol = 0.013338501370555573\n",
      "cluster 1 has mean 0.034800205783318515 with 9989 members\n",
      "cluster 2 has mean 1.0638881857246687 with 12 members\n",
      "Iteration 4: loglikelihood = -1656.6665318578644, backtracks = 0, tol = 0.0018637679296220585\n",
      "cluster 1 has mean 0.030742051060922048 with 9989 members\n",
      "cluster 2 has mean 1.064058068980458 with 12 members\n",
      "Iteration 5: loglikelihood = -1656.666082931747, backtracks = 0, tol = 0.0002548589906392109\n",
      "cluster 1 has mean 0.034103965205707194 with 9989 members\n",
      "cluster 2 has mean 1.0640696977961221 with 12 members\n",
      "Iteration 6: loglikelihood = -1656.666069606865, backtracks = 0, tol = 5.879522500428347e-5\n",
      "  0.048733 seconds (75.47 k allocations: 3.342 MiB)\n"
     ]
    },
    {
     "data": {
      "text/plain": [
       "\n",
       "IHT estimated 12 nonzero SNP predictors and 0 non-genetic predictors.\n",
       "\n",
       "Compute time (sec):     0.04872894287109375\n",
       "Final loglikelihood:    -1656.666069606865\n",
       "Iterations:             6\n",
       "\n",
       "Selected genetic predictors:\n",
       "\u001b[1m12×2 DataFrame\u001b[0m\n",
       "\u001b[1m Row \u001b[0m│\u001b[1m Position \u001b[0m\u001b[1m Estimated_β \u001b[0m\n",
       "\u001b[1m     \u001b[0m│\u001b[90m Int64    \u001b[0m\u001b[90m Float64     \u001b[0m\n",
       "─────┼───────────────────────\n",
       "   1 │      921     0.756641\n",
       "   2 │     1079    -1.53159\n",
       "   3 │     1216     0.776927\n",
       "   4 │     1320    -1.48857\n",
       "   5 │     1733    -0.952702\n",
       "   6 │     2767    -0.782935\n",
       "   7 │     2942     1.24028\n",
       "   8 │     3174    -0.856962\n",
       "   9 │     4189     0.677355\n",
       "  10 │     6889    -1.23779\n",
       "  11 │     7036    -1.21663\n",
       "  12 │     7960     1.25045\n",
       "\n",
       "Selected nongenetic predictors:\n",
       "\u001b[1m0×2 DataFrame\u001b[0m"
      ]
     },
     "execution_count": 33,
     "metadata": {},
     "output_type": "execute_result"
    }
   ],
   "source": [
    "@time result = fit_iht(Y, xla, z, k=2) # k clusters"
   ]
  },
  {
   "cell_type": "code",
   "execution_count": 23,
   "metadata": {
    "collapsed": false
   },
   "outputs": [
    {
     "data": {
      "text/plain": [
       "20×2 Array{Float64,2}:\n",
       "  0.0       -0.155227\n",
       " -0.435418  -0.420876\n",
       "  0.0       -0.0897132\n",
       "  0.0        0.0684544\n",
       "  0.0        0.139375\n",
       "  0.0       -0.08059\n",
       "  0.0       -0.157304\n",
       " -0.616885  -0.65508\n",
       "  0.0       -0.0981301\n",
       " -0.263381  -0.240965\n",
       " -0.634225  -0.642799\n",
       "  0.0       -0.175661\n",
       "  0.0        0.100944\n",
       "  0.468623   0.465826\n",
       "  0.0        0.139876\n",
       "  0.0       -0.0358273\n",
       "  0.0       -0.048751\n",
       "  0.0       -0.0218399\n",
       " -0.416971  -0.423826\n",
       "  0.0       -0.0330992"
      ]
     },
     "execution_count": 23,
     "metadata": {},
     "output_type": "execute_result"
    }
   ],
   "source": [
    "# compare estimated vs true beta values\n",
    "[result.beta[correct_position] true_b[correct_position]]"
   ]
  },
  {
   "cell_type": "markdown",
   "metadata": {},
   "source": [
    "**Conclusion:** Dynamically updating $k$ finds 12/20 predictors. If true beta values are small (e.g. $\\beta_j \\sim N(0.3, 1)$, then clustering method fails miserably. "
   ]
  },
  {
   "cell_type": "markdown",
   "metadata": {},
   "source": [
    "### Try cross validation"
   ]
  },
  {
   "cell_type": "code",
   "execution_count": 24,
   "metadata": {
    "collapsed": false
   },
   "outputs": [
    {
     "name": "stdout",
     "output_type": "stream",
     "text": [
      "\n",
      "\n",
      "Crossvalidation Results:\n",
      "\tk\tMSE\n",
      "\t1\t2209.101834495594\n",
      "\t2\t1836.5609091116007\n",
      "\t3\t1600.7771519145786\n",
      "\t4\t1440.902388132112\n",
      "\t5\t1240.3639324002856\n",
      "\t6\t1171.1213039329634\n",
      "\t7\t1139.2040429143092\n",
      "\t8\t1120.9205045580977\n",
      "\t9\t1101.8738297278624\n",
      "\t10\t1079.412309465611\n",
      "\t11\t1054.9503961484781\n",
      "\t12\t1052.7415377589205\n",
      "\t13\t1043.623092354303\n",
      "\t14\t1042.7011124003648\n",
      "\t15\t1044.757978321074\n",
      "\t16\t1045.3574516402612\n",
      "\t17\t1041.0838535225398\n",
      "\t18\t1039.2727503659023\n",
      "\t19\t1039.4087108491858\n",
      "\t20\t1042.5824463794356\n",
      "\t21\t1047.3632497467302\n",
      "\t22\t1052.2645940685206\n",
      "\t23\t1054.0345432285792\n",
      "\t24\t1053.6535606757136\n",
      "\t25\t1054.426078307337\n",
      "\t26\t1055.3776890272109\n",
      "\t27\t1057.5455664997887\n",
      "\t28\t1059.582519470663\n",
      "\t29\t1061.5691535732124\n",
      "\t30\t1064.2392058490943\n"
     ]
    },
    {
     "data": {
      "text/plain": [
       "18"
      ]
     },
     "execution_count": 24,
     "metadata": {},
     "output_type": "execute_result"
    }
   ],
   "source": [
    "mses = cv_iht(Y, x, z, path=1:30)\n",
    "argmin(mses)"
   ]
  },
  {
   "cell_type": "markdown",
   "metadata": {},
   "source": [
    "### Run regular IHT with best cross-validated $k$"
   ]
  },
  {
   "cell_type": "code",
   "execution_count": 25,
   "metadata": {
    "collapsed": false
   },
   "outputs": [
    {
     "name": "stdout",
     "output_type": "stream",
     "text": [
      "****                   MendelIHT Version 1.3.3                  ****\n",
      "****     Benjamin Chu, Kevin Keys, Chris German, Hua Zhou       ****\n",
      "****   Jin Zhou, Eric Sobel, Janet Sinsheimer, Kenneth Lange    ****\n",
      "****                                                            ****\n",
      "****                 Please cite our paper!                     ****\n",
      "****         https://doi.org/10.1093/gigascience/giaa044        ****\n",
      "\n",
      "Running sparse linear regression\n",
      "Link functin = IdentityLink()\n",
      "Sparsity parameter (k) = 18\n",
      "Prior weight scaling = off\n",
      "Doubly sparse projection = off\n",
      "Debias = off\n",
      "Max IHT iterations = 100\n",
      "Converging when tol < 0.0001:\n",
      "\n",
      "Iteration 1: loglikelihood = -7170.411132934618, backtracks = 0, tol = 0.6071937058669298\n",
      "Iteration 2: loglikelihood = -7111.69972086593, backtracks = 0, tol = 0.05380327953646194\n",
      "Iteration 3: loglikelihood = -7110.546921169437, backtracks = 0, tol = 0.03423792810475089\n",
      "Iteration 4: loglikelihood = -7110.4840308483645, backtracks = 0, tol = 0.0016732061780767714\n",
      "Iteration 5: loglikelihood = -7110.483847602359, backtracks = 1, tol = 5.168790777398347e-5\n",
      "  0.214456 seconds (467.66 k allocations: 13.867 MiB)\n"
     ]
    },
    {
     "data": {
      "text/plain": [
       "20×2 Array{Float64,2}:\n",
       " -0.146535   -0.155227\n",
       " -0.436508   -0.420876\n",
       " -0.0859204  -0.0897132\n",
       "  0.0678852   0.0684544\n",
       "  0.141589    0.139375\n",
       " -0.0737369  -0.08059\n",
       " -0.143445   -0.157304\n",
       " -0.613671   -0.65508\n",
       " -0.0703329  -0.0981301\n",
       " -0.252921   -0.240965\n",
       " -0.640562   -0.642799\n",
       " -0.184113   -0.175661\n",
       "  0.088282    0.100944\n",
       "  0.475128    0.465826\n",
       "  0.159098    0.139876\n",
       "  0.0        -0.0358273\n",
       " -0.0656724  -0.048751\n",
       "  0.0        -0.0218399\n",
       " -0.409771   -0.423826\n",
       "  0.0        -0.0330992"
      ]
     },
     "execution_count": 25,
     "metadata": {},
     "output_type": "execute_result"
    }
   ],
   "source": [
    "@time result = fit_iht(Y, xla, z, k=argmin(mses))\n",
    "[result.beta[correct_position] true_b[correct_position]]"
   ]
  },
  {
   "cell_type": "markdown",
   "metadata": {},
   "source": [
    "**Conclusion:** Dynamically updating $k$ finds 12/20 predictors, while cross validation finds 17/20."
   ]
  }
 ],
 "metadata": {
  "@webio": {
   "lastCommId": null,
   "lastKernelId": null
  },
  "kernelspec": {
   "display_name": "Julia 1.5.0",
   "language": "julia",
   "name": "julia-1.5"
  },
  "language_info": {
   "file_extension": ".jl",
   "mimetype": "application/julia",
   "name": "julia",
   "version": "1.5.0"
  }
 },
 "nbformat": 4,
 "nbformat_minor": 2
}
