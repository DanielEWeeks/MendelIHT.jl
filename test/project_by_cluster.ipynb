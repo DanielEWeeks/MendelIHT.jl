{
 "cells": [
  {
   "cell_type": "code",
   "execution_count": 1,
   "metadata": {
    "collapsed": false
   },
   "outputs": [
    {
     "name": "stderr",
     "output_type": "stream",
     "text": [
      "┌ Info: Precompiling MendelIHT [921c7187-1484-5754-b919-5d3ed9ac03c4]\n",
      "└ @ Base loading.jl:1278\n"
     ]
    }
   ],
   "source": [
    "using Distributed\n",
    "# addprocs(4)\n",
    "\n",
    "@everywhere begin\n",
    "    using Revise\n",
    "    using MendelIHT\n",
    "    using SnpArrays\n",
    "    using Random\n",
    "    using GLM\n",
    "    using DelimitedFiles\n",
    "    using Test\n",
    "    using Distributions\n",
    "    using LinearAlgebra\n",
    "    using CSV\n",
    "    using DataFrames\n",
    "end"
   ]
  },
  {
   "cell_type": "markdown",
   "metadata": {
    "collapsed": true
   },
   "source": [
    "# Simulate data\n",
    "\n",
    "There are 20 true SNPs. "
   ]
  },
  {
   "cell_type": "code",
   "execution_count": 77,
   "metadata": {
    "collapsed": false
   },
   "outputs": [],
   "source": [
    "n = 1000  # number of samples\n",
    "p = 10000 # number of SNPs\n",
    "k = 20    # number of causal SNPs per trait\n",
    "d = Normal\n",
    "l = canonicallink(d())\n",
    "\n",
    "# set random seed for reproducibility\n",
    "Random.seed!(2021)\n",
    "\n",
    "# simulate `.bed` file with no missing data\n",
    "x = simulate_random_snparray(undef, n, p)\n",
    "xla = SnpLinAlg{Float64}(x, model=ADDITIVE_MODEL, center=true, scale=true) \n",
    "\n",
    "# intercept is the only nongenetic covariate\n",
    "z = ones(n)\n",
    "intercept = 0.0\n",
    "\n",
    "# simulate response y, true model b, and the correct non-0 positions of b\n",
    "Y, true_b, correct_position = simulate_random_response(xla, k, d, l, Zu=z*intercept);"
   ]
  },
  {
   "cell_type": "markdown",
   "metadata": {
    "collapsed": true
   },
   "source": [
    "# If $k$ unknown, try clustering by absolute value\n",
    "\n",
    "Here is a simple projection based on based on k-means clustering. "
   ]
  },
  {
   "cell_type": "code",
   "execution_count": 14,
   "metadata": {
    "collapsed": false
   },
   "outputs": [
    {
     "data": {
      "text/plain": [
       "project_by_clustering!"
      ]
     },
     "execution_count": 14,
     "metadata": {},
     "output_type": "execute_result"
    }
   ],
   "source": [
    "\"\"\"\n",
    "    project_by_clustering!(x::AbstractVector)\n",
    "\n",
    "Projects `x` to sparsity by clustering. We run k-means with 2 clusters for 10\n",
    "iterations, and then project the cluster with the smaller mean to 0.\n",
    "\"\"\"\n",
    "function project_by_clustering!(x::AbstractVector{T}) where T <: Real\n",
    "    center1, center2 = zero(T), one(T)\n",
    "    members1, members2 = Int[], Int[]\n",
    "\n",
    "    # run 10 iterations of k-means\n",
    "    for iter in 1:10\n",
    "        # assign xi to the nearest cluster\n",
    "        empty!(members1) # refresh cluster members\n",
    "        empty!(members2) # refresh cluster members\n",
    "        for i in eachindex(x)\n",
    "            xi = abs(x[i])\n",
    "            abs2(xi - center1) < abs2(xi - center2) ? push!(members1, i) : push!(members2, i)\n",
    "        end\n",
    "\n",
    "        # update cluster centers\n",
    "        center1, center2 = zero(T), zero(T)\n",
    "        for i in members1\n",
    "            center1 += abs(x[i])\n",
    "        end\n",
    "        for i in members2\n",
    "            center2 += abs(x[i])\n",
    "        end\n",
    "        center1 /= length(members1)\n",
    "        center2 /= length(members2)\n",
    "    end\n",
    "    center1 ≥ 0 || error(\"center 1 is negative! Shouldn't happen!\")\n",
    "    center2 ≥ 0 || error(\"center 2 is negative! Shouldn't happen!\")\n",
    "\n",
    "    # project cluster with smaller mean\n",
    "    p = center1 < center2 ? members1 : members2\n",
    "    for i in p\n",
    "        x[i] = 0\n",
    "    end\n",
    "    \n",
    "    return center1, center2, members1, members2\n",
    "end"
   ]
  },
  {
   "cell_type": "markdown",
   "metadata": {},
   "source": [
    "# Run full IHT with clustering"
   ]
  },
  {
   "cell_type": "code",
   "execution_count": 78,
   "metadata": {
    "collapsed": false,
    "scrolled": false
   },
   "outputs": [
    {
     "name": "stdout",
     "output_type": "stream",
     "text": [
      "****                   MendelIHT Version 1.3.3                  ****\n",
      "****     Benjamin Chu, Kevin Keys, Chris German, Hua Zhou       ****\n",
      "****   Jin Zhou, Eric Sobel, Janet Sinsheimer, Kenneth Lange    ****\n",
      "****                                                            ****\n",
      "****                 Please cite our paper!                     ****\n",
      "****         https://doi.org/10.1093/gigascience/giaa044        ****\n",
      "\n",
      "Running sparse linear regression\n",
      "Link functin = IdentityLink()\n",
      "Sparsity parameter (k) = 10\n",
      "Prior weight scaling = off\n",
      "Doubly sparse projection = off\n",
      "Debias = off\n",
      "Max IHT iterations = 100\n",
      "Converging when tol < 0.0001:\n",
      "\n",
      "number of nonzero entries in full_grad = 12\n",
      "Iteration 1: loglikelihood = -1652.4728974141558, backtracks = 0, tol = 0.690994930063011\n",
      "number of nonzero entries in full_grad = 12\n",
      "number of nonzero entries in full_grad = 10\n",
      "Iteration 2: loglikelihood = -1643.3185656114504, backtracks = 1, tol = 0.03897139371315082\n",
      "number of nonzero entries in full_grad = 12\n",
      "number of nonzero entries in full_grad = 10\n",
      "Iteration 3: loglikelihood = -1640.8827459854786, backtracks = 1, tol = 0.019274030744786966\n",
      "number of nonzero entries in full_grad = 12\n",
      "number of nonzero entries in full_grad = 10\n",
      "Iteration 4: loglikelihood = -1640.249922158195, backtracks = 1, tol = 0.009384242936125364\n",
      "number of nonzero entries in full_grad = 12\n",
      "number of nonzero entries in full_grad = 10\n",
      "Iteration 5: loglikelihood = -1640.0880840156537, backtracks = 1, tol = 0.0045395039642701345\n",
      "number of nonzero entries in full_grad = 12\n",
      "number of nonzero entries in full_grad = 10\n",
      "Iteration 6: loglikelihood = -1640.0470937104315, backtracks = 1, tol = 0.0022016566452977377\n",
      "number of nonzero entries in full_grad = 12\n",
      "number of nonzero entries in full_grad = 10\n",
      "Iteration 7: loglikelihood = -1640.0367679516926, backtracks = 1, tol = 0.001153535685827733\n",
      "number of nonzero entries in full_grad = 12\n",
      "number of nonzero entries in full_grad = 10\n",
      "Iteration 8: loglikelihood = -1640.0341744659693, backtracks = 1, tol = 0.0005963453780240975\n",
      "number of nonzero entries in full_grad = 12\n",
      "number of nonzero entries in full_grad = 10\n",
      "Iteration 9: loglikelihood = -1640.0335241218165, backtracks = 1, tol = 0.0003050933330604623\n",
      "number of nonzero entries in full_grad = 12\n",
      "number of nonzero entries in full_grad = 10\n",
      "Iteration 10: loglikelihood = -1640.03336119283, backtracks = 1, tol = 0.00015498540105352373\n",
      "number of nonzero entries in full_grad = 12\n",
      "number of nonzero entries in full_grad = 10\n",
      "Iteration 11: loglikelihood = -1640.0333203979542, backtracks = 1, tol = 7.834462943802196e-5\n",
      "  0.081087 seconds (186.09 k allocations: 8.931 MiB)\n"
     ]
    },
    {
     "data": {
      "text/plain": [
       "\n",
       "IHT estimated 10 nonzero SNP predictors and 0 non-genetic predictors.\n",
       "\n",
       "Compute time (sec):     0.0810849666595459\n",
       "Final loglikelihood:    -1640.0333203979542\n",
       "Iterations:             11\n",
       "\n",
       "Selected genetic predictors:\n",
       "\u001b[1m10×2 DataFrame\u001b[0m\n",
       "\u001b[1m Row \u001b[0m│\u001b[1m Position \u001b[0m\u001b[1m Estimated_β \u001b[0m\n",
       "\u001b[1m     \u001b[0m│\u001b[90m Int64    \u001b[0m\u001b[90m Float64     \u001b[0m\n",
       "─────┼───────────────────────\n",
       "   1 │      921     0.371189\n",
       "   2 │     1079    -0.770944\n",
       "   3 │     1320    -0.748608\n",
       "   4 │     1733    -0.438681\n",
       "   5 │     2767    -0.409249\n",
       "   6 │     2942     0.595825\n",
       "   7 │     3174    -0.445867\n",
       "   8 │     6889    -0.611849\n",
       "   9 │     7036    -0.641182\n",
       "  10 │     7960     0.620884\n",
       "\n",
       "Selected nongenetic predictors:\n",
       "\u001b[1m0×2 DataFrame\u001b[0m"
      ]
     },
     "execution_count": 78,
     "metadata": {},
     "output_type": "execute_result"
    }
   ],
   "source": [
    "@time result = fit_iht(Y, xla, z) # doesn't need to specify k!"
   ]
  },
  {
   "cell_type": "code",
   "execution_count": 79,
   "metadata": {
    "collapsed": false
   },
   "outputs": [
    {
     "data": {
      "text/plain": [
       "20×2 Array{Float64,2}:\n",
       "  0.0       -0.0808294\n",
       "  0.0       -0.201134\n",
       "  0.371189   0.379378\n",
       " -0.770944  -0.769173\n",
       "  0.0        0.364568\n",
       " -0.748608  -0.735814\n",
       "  0.0       -0.0863341\n",
       " -0.438681  -0.48582\n",
       " -0.409249  -0.367884\n",
       "  0.595825   0.608448\n",
       " -0.445867  -0.423953\n",
       "  0.0        0.32746\n",
       "  0.0        0.148092\n",
       "  0.0       -0.194033\n",
       "  0.0       -0.00171695\n",
       "  0.0        0.0203646\n",
       "  0.0        0.0629827\n",
       " -0.611849  -0.624858\n",
       " -0.641182  -0.622936\n",
       "  0.620884   0.639766"
      ]
     },
     "execution_count": 79,
     "metadata": {},
     "output_type": "execute_result"
    }
   ],
   "source": [
    "# compare estimated vs true beta values\n",
    "[result.beta[correct_position] true_b[correct_position]]"
   ]
  },
  {
   "cell_type": "markdown",
   "metadata": {},
   "source": [
    "**Conclusion:** Dynamically updating $k$ finds 10/20 predictors."
   ]
  },
  {
   "cell_type": "markdown",
   "metadata": {},
   "source": [
    "### Try cross validation"
   ]
  },
  {
   "cell_type": "code",
   "execution_count": 50,
   "metadata": {
    "collapsed": false
   },
   "outputs": [
    {
     "name": "stdout",
     "output_type": "stream",
     "text": [
      "\n",
      "\n",
      "Crossvalidation Results:\n",
      "\tk\tMSE\n",
      "\t1\t2922.582428341611\n",
      "\t2\t2497.143700280606\n",
      "\t3\t2026.205124704225\n",
      "\t4\t1685.342493595061\n",
      "\t5\t1495.6359176179424\n",
      "\t6\t1115.6698005623014\n",
      "\t7\t981.9198742270855\n",
      "\t8\t797.7348367435474\n",
      "\t9\t695.4183093345118\n",
      "\t10\t566.2847691448469\n",
      "\t11\t427.7883447891499\n",
      "\t12\t337.7022232893082\n",
      "\t13\t301.3347158784928\n",
      "\t14\t277.7846947695629\n",
      "\t15\t261.65651932009206\n",
      "\t16\t256.83821523426735\n",
      "\t17\t255.95744550292497\n",
      "\t18\t261.75862693331305\n",
      "\t19\t261.99788681127836\n",
      "\t20\t269.7223615993907\n",
      "\t21\t279.37025534346765\n",
      "\t22\t273.81620031246956\n",
      "\t23\t282.0862375147658\n",
      "\t24\t279.812271764295\n",
      "\t25\t289.1082388485988\n",
      "\t26\t295.81662961085283\n",
      "\t27\t297.94289347572\n",
      "\t28\t297.50114325139856\n",
      "\t29\t313.0682987518701\n",
      "\t30\t311.39374427185305\n"
     ]
    },
    {
     "data": {
      "text/plain": [
       "17"
      ]
     },
     "execution_count": 50,
     "metadata": {},
     "output_type": "execute_result"
    }
   ],
   "source": [
    "mses = cv_iht(Y, x, z, path=1:30)\n",
    "argmin(mses)"
   ]
  },
  {
   "cell_type": "markdown",
   "metadata": {},
   "source": [
    "### Run regular IHT with $k = 17$"
   ]
  },
  {
   "cell_type": "code",
   "execution_count": 67,
   "metadata": {
    "collapsed": false
   },
   "outputs": [
    {
     "name": "stdout",
     "output_type": "stream",
     "text": [
      "****                   MendelIHT Version 1.3.3                  ****\n",
      "****     Benjamin Chu, Kevin Keys, Chris German, Hua Zhou       ****\n",
      "****   Jin Zhou, Eric Sobel, Janet Sinsheimer, Kenneth Lange    ****\n",
      "****                                                            ****\n",
      "****                 Please cite our paper!                     ****\n",
      "****         https://doi.org/10.1093/gigascience/giaa044        ****\n",
      "\n",
      "Running sparse linear regression\n",
      "Link functin = IdentityLink()\n",
      "Sparsity parameter (k) = 17\n",
      "Prior weight scaling = off\n",
      "Doubly sparse projection = off\n",
      "Debias = off\n",
      "Max IHT iterations = 100\n",
      "Converging when tol < 0.0001:\n",
      "\n",
      "Iteration 1: loglikelihood = -1884.7728490421966, backtracks = 0, tol = 1.2248089246902358\n",
      "Iteration 2: loglikelihood = -1550.1401891555495, backtracks = 0, tol = 0.2181789842425944\n",
      "Iteration 3: loglikelihood = -1492.2623013446416, backtracks = 0, tol = 0.09161758927788029\n",
      "Iteration 4: loglikelihood = -1490.6825325158013, backtracks = 0, tol = 0.010866354423797207\n",
      "Iteration 5: loglikelihood = -1490.6491735432942, backtracks = 0, tol = 0.002001514955070988\n",
      "Iteration 6: loglikelihood = -1490.6481887403727, backtracks = 0, tol = 0.00022698231182096762\n",
      "Iteration 7: loglikelihood = -1490.6481563537225, backtracks = 0, tol = 6.871770643299758e-5\n",
      "  0.394026 seconds (1.14 M allocations: 50.481 MiB, 4.73% gc time)\n"
     ]
    },
    {
     "data": {
      "text/plain": [
       "20×2 Array{Float64,2}:\n",
       " -0.16437   -0.161659\n",
       " -0.426789  -0.402269\n",
       "  0.744609   0.758756\n",
       " -1.53655   -1.53835\n",
       "  0.774703   0.729135\n",
       " -1.48857   -1.47163\n",
       " -0.201474  -0.172668\n",
       " -0.917505  -0.971641\n",
       " -0.76298   -0.735768\n",
       "  1.23738    1.2169\n",
       " -0.85381   -0.847906\n",
       "  0.684522   0.654921\n",
       "  0.285958   0.296183\n",
       " -0.379468  -0.388067\n",
       "  0.0       -0.0034339\n",
       "  0.0        0.0407291\n",
       "  0.0        0.125965\n",
       " -1.2369    -1.24972\n",
       " -1.2681    -1.24587\n",
       "  1.2425     1.27953"
      ]
     },
     "execution_count": 67,
     "metadata": {},
     "output_type": "execute_result"
    }
   ],
   "source": [
    "@time result = fit_iht(Y, xla, z, k=argmin(mses))\n",
    "[result.beta[correct_position] true_b[correct_position]]"
   ]
  },
  {
   "cell_type": "markdown",
   "metadata": {},
   "source": [
    "**Conclusion:** Dynamically updating $k$ finds 10/20 predictors, while cross validation finds 17/20."
   ]
  }
 ],
 "metadata": {
  "@webio": {
   "lastCommId": null,
   "lastKernelId": null
  },
  "kernelspec": {
   "display_name": "Julia 1.5.0",
   "language": "julia",
   "name": "julia-1.5"
  },
  "language_info": {
   "file_extension": ".jl",
   "mimetype": "application/julia",
   "name": "julia",
   "version": "1.5.0"
  }
 },
 "nbformat": 4,
 "nbformat_minor": 2
}
