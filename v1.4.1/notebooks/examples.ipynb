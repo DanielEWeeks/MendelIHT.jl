{
 "cells": [
  {
   "cell_type": "markdown",
   "metadata": {
    "collapsed": true
   },
   "source": [
    "# Examples\n",
    "\n",
    "Here we give numerous example analysis of GWAS data with `MendelIHT.jl`. For exact function input/output descriptions, see the manuel's API."
   ]
  },
  {
   "cell_type": "code",
   "execution_count": 1,
   "metadata": {
    "collapsed": false
   },
   "outputs": [
    {
     "name": "stdout",
     "output_type": "stream",
     "text": [
      "Julia Version 1.6.0\n",
      "Commit f9720dc2eb (2021-03-24 12:55 UTC)\n",
      "Platform Info:\n",
      "  OS: macOS (x86_64-apple-darwin19.6.0)\n",
      "  CPU: Intel(R) Core(TM) i9-9880H CPU @ 2.30GHz\n",
      "  WORD_SIZE: 64\n",
      "  LIBM: libopenlibm\n",
      "  LLVM: libLLVM-11.0.1 (ORCJIT, skylake)\n",
      "Environment:\n",
      "  JULIA_NUM_THREADS = 8\n"
     ]
    }
   ],
   "source": [
    "# machine information for reproducibility\n",
    "versioninfo()"
   ]
  },
  {
   "cell_type": "code",
   "execution_count": 2,
   "metadata": {
    "collapsed": false
   },
   "outputs": [
    {
     "data": {
      "text/plain": [
       "MersenneTwister(1111)"
      ]
     },
     "execution_count": 2,
     "metadata": {},
     "output_type": "execute_result"
    }
   ],
   "source": [
    "# load necessary packages for running all examples below\n",
    "using MendelIHT\n",
    "using SnpArrays\n",
    "using DataFrames\n",
    "using Distributions\n",
    "using Random\n",
    "using LinearAlgebra\n",
    "using GLM\n",
    "using DelimitedFiles\n",
    "using Statistics\n",
    "using BenchmarkTools\n",
    "\n",
    "BLAS.set_num_threads(1) # prevent over subscription with multithreading & BLAS\n",
    "Random.seed!(1111) # set seed for reproducibility"
   ]
  },
  {
   "cell_type": "markdown",
   "metadata": {},
   "source": [
    "## Using MendelIHT.jl\n",
    "\n",
    "Users are exposed to 2 levels of interface:\n",
    "+ Wrapper functions [iht()](https://openmendel.github.io/MendelIHT.jl/latest/man/api/#MendelIHT.iht) and [cross_validate()](https://openmendel.github.io/MendelIHT.jl/latest/man/api/#MendelIHT.cross_validate). These functions are simple scripts that import data, runs IHT, and writes result to output automatically. Since they are very simplistic, they might fail for whatever reason (please file an issue on GitHub). If so, please use:\n",
    "+ Core functions [fit_iht()](https://openmendel.github.io/MendelIHT.jl/latest/man/api/#MendelIHT.fit_iht) and [cv_iht()](https://openmendel.github.io/MendelIHT.jl/latest/man/api/#MendelIHT.cv_iht). Input arguments for these functions must be first imported into Julia by the user manually.\n",
    "\n",
    "Below we use numerous examples to illustrate how to use these functions separately. "
   ]
  },
  {
   "cell_type": "markdown",
   "metadata": {},
   "source": [
    "## Parallel computing\n",
    "\n",
    "\n",
    "To exploit `MendelIHT.jl`'s parallel processing, [start Julia with multiple threads](https://docs.julialang.org/en/v1/manual/multi-threading/#Starting-Julia-with-multiple-threads). Two levels of shared-memory parallelism is supported.\n",
    "+ (genotype-matrix)-(vector or matrix) multiplication\n",
    "+ cross validation\n",
    "\n",
    "**Note**: If one is running IHT on `Matrix{Float64}`, BLAS should NOT run with multiple threads (execute `BLAS.set_num_threads(1)` before running IHT). This prevents [oversubscription](https://ieeexplore.ieee.org/document/5470434). "
   ]
  },
  {
   "cell_type": "code",
   "execution_count": 3,
   "metadata": {
    "collapsed": false
   },
   "outputs": [
    {
     "data": {
      "text/plain": [
       "8"
      ]
     },
     "execution_count": 3,
     "metadata": {},
     "output_type": "execute_result"
    }
   ],
   "source": [
    "Threads.nthreads() # show number of threads"
   ]
  },
  {
   "cell_type": "markdown",
   "metadata": {},
   "source": [
    "## Example 1: GWAS with PLINK files\n",
    "\n",
    "In this example, our data are stored in binary PLINK files:\n",
    "\n",
    "+ `normal.bed`\n",
    "+ `normal.bim`\n",
    "+ `normal.fam`\n",
    "\n",
    "which contains simulated (Gaussian) phenotypes for $n=1000$ samples and $p=10,000$ SNPs. There are $8$ causal variants and 2 causal non-genetic covariates (intercept and sex). \n",
    "\n",
    "These data are present under `MendelIHT/data` directory."
   ]
  },
  {
   "cell_type": "code",
   "execution_count": 4,
   "metadata": {
    "collapsed": false
   },
   "outputs": [
    {
     "name": "stdout",
     "output_type": "stream",
     "text": [
      "pwd() = \"/Users/biona001/.julia/dev/MendelIHT/data\"\n"
     ]
    },
    {
     "data": {
      "text/plain": [
       "17-element Vector{String}:\n",
       " \".DS_Store\"\n",
       " \"README.md\"\n",
       " \"covariates.txt\"\n",
       " \"cviht.summary.txt\"\n",
       " \"iht.beta.txt\"\n",
       " \"iht.cov.txt\"\n",
       " \"iht.summary.txt\"\n",
       " \"multivariate.bed\"\n",
       " \"multivariate.bim\"\n",
       " \"multivariate.fam\"\n",
       " \"multivariate.phen\"\n",
       " \"normal.bed\"\n",
       " \"normal.bim\"\n",
       " \"normal.fam\"\n",
       " \"normal_true_beta.txt\"\n",
       " \"phenotypes.txt\"\n",
       " \"simulate.jl\""
      ]
     },
     "execution_count": 4,
     "metadata": {},
     "output_type": "execute_result"
    }
   ],
   "source": [
    "# change directory to where example data is located\n",
    "cd(normpath(MendelIHT.datadir()))\n",
    "\n",
    "# show working directory\n",
    "@show pwd() \n",
    "\n",
    "# show files in current directory\n",
    "readdir()"
   ]
  },
  {
   "cell_type": "markdown",
   "metadata": {},
   "source": [
    "Here `covariates.txt` contains non-genetic covariates (intercept + sex), `normal.bed/bim/fam` are the PLINK files storing genetic covariates, `phenotypes.txt` are phenotypes for each sample, `normal_true_beta.txt` is the true statistical model used to generate the phenotypes, and `simulate.jl` is the script used to generate all the files. "
   ]
  },
  {
   "cell_type": "markdown",
   "metadata": {},
   "source": [
    "### Step 1: Run cross validation to determine best model size\n",
    "\n",
    "Here phenotypes are stored in the 6th column of `.fam` file. Other covariates are stored separately (which includes a column of 1 as intercept). Here we cross validate $k = 1,2,...20$. \n",
    "\n",
    "Note the first run might take awhile because Julia needs to compile the code. "
   ]
  },
  {
   "cell_type": "code",
   "execution_count": 5,
   "metadata": {
    "collapsed": false
   },
   "outputs": [
    {
     "name": "stdout",
     "output_type": "stream",
     "text": [
      "****                   MendelIHT Version 1.4.1                  ****\n",
      "****     Benjamin Chu, Kevin Keys, Chris German, Hua Zhou       ****\n",
      "****   Jin Zhou, Eric Sobel, Janet Sinsheimer, Kenneth Lange    ****\n",
      "****                                                            ****\n",
      "****                 Please cite our paper!                     ****\n",
      "****         https://doi.org/10.1093/gigascience/giaa044        ****\n",
      "\n"
     ]
    },
    {
     "name": "stderr",
     "output_type": "stream",
     "text": [
      "\u001b[32mCross validating...100%|████████████████████████████████| Time: 0:00:17\u001b[39m\n"
     ]
    },
    {
     "name": "stdout",
     "output_type": "stream",
     "text": [
      "\n",
      "\n",
      "Crossvalidation Results:\n",
      "\tk\tMSE\n",
      "\t1\t1383.3887888333788\n",
      "\t2\t714.3108200438915\n",
      "\t3\t630.5562933019421\n",
      "\t4\t599.6952113619866\n",
      "\t5\t438.42328589185536\n",
      "\t6\t327.08547676403236\n",
      "\t7\t304.1177395732532\n",
      "\t8\t297.41346319671766\n",
      "\t9\t227.5681066123959\n",
      "\t10\t202.69232180491358\n",
      "\t11\t206.35218981854467\n",
      "\t12\t209.76930769385618\n",
      "\t13\t213.48278746710366\n",
      "\t14\t215.43361702847125\n",
      "\t15\t215.6684475575618\n",
      "\t16\t223.24291123616155\n",
      "\t17\t221.4060678342564\n",
      "\t18\t276.6464367814522\n",
      "\t19\t230.976587123502\n",
      "\t20\t268.32185480128885\n",
      "\n",
      "Best k = 10\n",
      "\n"
     ]
    }
   ],
   "source": [
    "mses = cross_validate(\"normal\", Normal, covariates=\"covariates.txt\", phenotypes=6, path=1:20,);\n",
    "\n",
    "# Alternative syntax\n",
    "# mses = cross_validate(\"normal\", Normal, covariates=\"covariates.txt\", phenotypes=6, path=[1, 5, 10, 15, 20]) # test k = 1, 5, 10, 15, 20\n",
    "# mses = cross_validate(\"normal\", Normal, covariates=\"covariates.txt\", phenotypes=\"phenotypes.txt\", path=1:20) # when phenotypes are stored separately"
   ]
  },
  {
   "cell_type": "markdown",
   "metadata": {},
   "source": [
    "Do not be alarmed if you get slightly different numbers, because cross validation breaks data into training/testing randomly. Set a seed by `Random.seed!(1234)` if you want reproducibility."
   ]
  },
  {
   "cell_type": "markdown",
   "metadata": {},
   "source": [
    "### Step 2: Run IHT on best k\n",
    "\n",
    "According to cross validation, `k = 10` achieves the minimum MSE. Thus we run IHT on the full dataset."
   ]
  },
  {
   "cell_type": "code",
   "execution_count": 6,
   "metadata": {
    "collapsed": false
   },
   "outputs": [
    {
     "name": "stdout",
     "output_type": "stream",
     "text": [
      "****                   MendelIHT Version 1.4.1                  ****\n",
      "****     Benjamin Chu, Kevin Keys, Chris German, Hua Zhou       ****\n",
      "****   Jin Zhou, Eric Sobel, Janet Sinsheimer, Kenneth Lange    ****\n",
      "****                                                            ****\n",
      "****                 Please cite our paper!                     ****\n",
      "****         https://doi.org/10.1093/gigascience/giaa044        ****\n",
      "\n",
      "Running sparse linear regression\n",
      "Number of threads = 8\n",
      "Link functin = IdentityLink()\n",
      "Sparsity parameter (k) = 10\n",
      "Prior weight scaling = off\n",
      "Doubly sparse projection = off\n",
      "Debias = off\n",
      "Max IHT iterations = 200\n",
      "Converging when tol < 0.0001 and iteration ≥ 5:\n",
      "\n",
      "Iteration 1: loglikelihood = -1457.8431531776794, backtracks = 0, tol = 0.7683976715709564\n",
      "Iteration 2: loglikelihood = -1391.9907038720667, backtracks = 0, tol = 0.11226800885813881\n",
      "Iteration 3: loglikelihood = -1390.7113887489165, backtracks = 0, tol = 0.011581483394882052\n",
      "Iteration 4: loglikelihood = -1390.6980736000305, backtracks = 0, tol = 0.0010566984279122389\n",
      "Iteration 5: loglikelihood = -1390.6978716629346, backtracks = 0, tol = 0.00010752965216198347\n",
      "Iteration 6: loglikelihood = -1390.4000085563305, backtracks = 0, tol = 0.03716090961691858\n",
      "Iteration 7: loglikelihood = -1390.3012534352063, backtracks = 0, tol = 0.0032563210092611864\n",
      "Iteration 8: loglikelihood = -1390.300372706346, backtracks = 0, tol = 0.0003148875004358726\n",
      "Iteration 9: loglikelihood = -1390.3003586111483, backtracks = 0, tol = 3.673233513687601e-5\n"
     ]
    }
   ],
   "source": [
    "result = iht(\"normal\", 10, Normal, covariates=\"covariates.txt\", phenotypes=6);"
   ]
  },
  {
   "cell_type": "markdown",
   "metadata": {},
   "source": [
    "The convergence criteria can be tuned by keywords `tol` and `min_iter`. "
   ]
  },
  {
   "cell_type": "markdown",
   "metadata": {},
   "source": [
    "### Step 3: Examine results\n",
    "\n",
    "IHT picked 8 SNPs and 2 non-genetic predictors: intercept and sex. The `Position` argument corresponds to the order in which the SNP appeared in the PLINK file, and the `Estimated_β` argument is the estimated effect size for the selected SNPs. To extract more information (for instance to extract `rs` IDs), we can do"
   ]
  },
  {
   "cell_type": "code",
   "execution_count": 7,
   "metadata": {
    "collapsed": false
   },
   "outputs": [
    {
     "name": "stdout",
     "output_type": "stream",
     "text": [
      "selected_snps = 8×6 DataFrame\n",
      " Row │ chromosome  snpid    genetic_distance  position  allele1  allele2\n",
      "     │ String      String   Float64           Int64     String   String\n",
      "─────┼───────────────────────────────────────────────────────────────────\n",
      "   1 │ 1           snp3136               0.0         1  1        2\n",
      "   2 │ 1           snp3137               0.0         1  1        2\n",
      "   3 │ 1           snp4246               0.0         1  1        2\n",
      "   4 │ 1           snp4717               0.0         1  1        2\n",
      "   5 │ 1           snp6290               0.0         1  1        2\n",
      "   6 │ 1           snp7755               0.0         1  1        2\n",
      "   7 │ 1           snp8375               0.0         1  1        2\n",
      "   8 │ 1           snp9415               0.0         1  1        2\n"
     ]
    }
   ],
   "source": [
    "snpdata = SnpData(\"normal\")                   # import PLINK information\n",
    "snps_idx = findall(!iszero, result.beta)      # indices of SNPs selected by IHT\n",
    "selected_snps = snpdata.snp_info[snps_idx, :] # see which SNPs are selected\n",
    "@show selected_snps;"
   ]
  },
  {
   "cell_type": "markdown",
   "metadata": {},
   "source": [
    "The table above displays the SNP information for the selected SNPs. Because there's only 7 causal SNPs, we have 1 false positive. \n",
    "\n",
    "Since data is simulated, the fields `chromosome`, `snpid`, `genetic_distance`, `position`, `allele1`, and `allele2` are fake. "
   ]
  },
  {
   "cell_type": "markdown",
   "metadata": {},
   "source": [
    "## Example 2: How to simulate data\n",
    "\n",
    "Here we demonstrate how to use `MendelIHT.jl` and [SnpArrays.jl](https://github.com/OpenMendel/SnpArrays.jl) to simulate data, allowing you to design your own genetic studies. Note:\n",
    "+ For more complex simulation, please use the module [TraitSimulations.jl](https://github.com/OpenMendel/TraitSimulation.jl).  \n",
    "+ All linear algebra routines involving PLINK files are handled by [SnpArrays.jl](https://github.com/OpenMendel/SnpArrays.jl). \n",
    "\n",
    "First we simulate an example PLINK trio (`.bim`, `.bed`, `.fam`) and non-genetic covariates, then we illustrate how to import them. For simplicity, let us simulated indepent SNPs with binary phenotypes. Explicitly, our model is:\n",
    "\n",
    "$$y_i \\sim \\rm Bernoulli(\\mathbf{x}_i^T\\boldsymbol\\beta)$$\n",
    "$$x_{ij} \\sim \\rm Binomial(2, \\rho_j)$$\n",
    "$$\\rho_j \\sim \\rm Uniform(0, 0.5)$$\n",
    "$$\\beta_i \\sim \\rm N(0, 1)$$\n",
    "$$\\beta_{\\rm intercept} = 1$$\n",
    "$$\\beta_{\\rm sex} = 1.5$$"
   ]
  },
  {
   "cell_type": "code",
   "execution_count": 8,
   "metadata": {
    "collapsed": false
   },
   "outputs": [],
   "source": [
    "n = 1000            # number of samples\n",
    "p = 10000           # number of SNPs\n",
    "k = 10              # 8 causal SNPs and 2 causal covariates (intercept + sex)\n",
    "d = Bernoulli       # Binary (continuous) phenotypes\n",
    "l = LogitLink()     # canonical link function\n",
    "\n",
    "# set random seed\n",
    "Random.seed!(0)\n",
    "\n",
    "# simulate `sim.bed` file with no missing data\n",
    "x = simulate_random_snparray(\"sim.bed\", n, p)\n",
    "xla = SnpLinAlg{Float64}(x, model=ADDITIVE_MODEL, center=true, scale=true, impute=true) \n",
    "\n",
    "# nongenetic covariate: first column is the intercept, second column is sex: 0 = male 1 = female\n",
    "z = ones(n, 2) \n",
    "z[:, 2] .= rand(0:1, n)\n",
    "standardize!(@view(z[:, 2:end])) \n",
    "\n",
    "# randomly set genetic predictors where causal βᵢ ~ N(0, 1)\n",
    "true_b = zeros(p) \n",
    "true_b[1:k-2] = randn(k-2)\n",
    "shuffle!(true_b)\n",
    "\n",
    "# find correct position of genetic predictors\n",
    "correct_position = findall(!iszero, true_b)\n",
    "\n",
    "# define effect size of non-genetic predictors: intercept & sex\n",
    "true_c = [1.0; 1.5] \n",
    "\n",
    "# simulate phenotype using genetic and nongenetic predictors\n",
    "prob = GLM.linkinv.(l, xla * true_b .+ z * true_c) # note genotype-vector multiplication is done with `xla`\n",
    "y = [rand(d(i)) for i in prob]\n",
    "y = Float64.(y); # turn y into floating point numbers\n",
    "\n",
    "# create `sim.bim` and `sim.bam` files using phenotype\n",
    "make_bim_fam_files(x, y, \"sim\")\n",
    "\n",
    "#save covariates and phenotypes (without header)\n",
    "writedlm(\"sim.covariates.txt\", z, ',')\n",
    "writedlm(\"sim.phenotypes.txt\", y)"
   ]
  },
  {
   "cell_type": "markdown",
   "metadata": {},
   "source": [
    "!!! note\n",
    "\n",
    "    Please **standardize** (or at least center) your non-genetic covariates. If you use our `iht()` or `cross_validation()` functions, standardization is automatic. For genotype matrix, `SnpLinAlg` efficiently achieves this standardization. For non-genetic covariates, please use the built-in function `standardize!`. "
   ]
  },
  {
   "cell_type": "markdown",
   "metadata": {},
   "source": [
    "## Example 3: Logistic/Poisson/Negative-binomial GWAS\n",
    "\n",
    "In Example 2, we simulated binary phenotypes, genotypes, non-genetic covariates, and we know true $k = 10$. Let's try running a logistic regression (i.e. phenotype follows the Bernoulli distribution) on this data. "
   ]
  },
  {
   "cell_type": "code",
   "execution_count": 9,
   "metadata": {
    "collapsed": false,
    "scrolled": false
   },
   "outputs": [
    {
     "name": "stdout",
     "output_type": "stream",
     "text": [
      "****                   MendelIHT Version 1.4.1                  ****\n",
      "****     Benjamin Chu, Kevin Keys, Chris German, Hua Zhou       ****\n",
      "****   Jin Zhou, Eric Sobel, Janet Sinsheimer, Kenneth Lange    ****\n",
      "****                                                            ****\n",
      "****                 Please cite our paper!                     ****\n",
      "****         https://doi.org/10.1093/gigascience/giaa044        ****\n",
      "\n",
      "Running sparse logistic regression\n",
      "Number of threads = 8\n",
      "Link functin = LogitLink()\n",
      "Sparsity parameter (k) = 10\n",
      "Prior weight scaling = off\n",
      "Doubly sparse projection = off\n",
      "Debias = off\n",
      "Max IHT iterations = 200\n",
      "Converging when tol < 0.0001 and iteration ≥ 5:\n",
      "\n",
      "Iteration 1: loglikelihood = -388.8910083252736, backtracks = 0, tol = 0.6418034752978493\n",
      "Iteration 2: loglikelihood = -334.5278475827583, backtracks = 0, tol = 0.3170396015883161\n",
      "Iteration 3: loglikelihood = -327.9633012046245, backtracks = 0, tol = 0.2025866533020331\n",
      "Iteration 4: loglikelihood = -321.78128260006685, backtracks = 0, tol = 0.1860359951551827\n",
      "Iteration 5: loglikelihood = -320.82291695265127, backtracks = 1, tol = 0.019411649026600777\n",
      "Iteration 6: loglikelihood = -320.4507210246635, backtracks = 2, tol = 0.009984009889427738\n",
      "Iteration 7: loglikelihood = -317.5178129459779, backtracks = 2, tol = 0.10991749703912314\n",
      "Iteration 8: loglikelihood = -317.02211222442554, backtracks = 1, tol = 0.013593158611626565\n",
      "Iteration 9: loglikelihood = -316.84609828412295, backtracks = 2, tol = 0.007169021739514612\n",
      "Iteration 10: loglikelihood = -316.70442301799153, backtracks = 2, tol = 0.007932900581304757\n",
      "Iteration 11: loglikelihood = -316.6123017144071, backtracks = 2, tol = 0.006753634000554562\n",
      "Iteration 12: loglikelihood = -316.55859748055383, backtracks = 2, tol = 0.005166907901710646\n",
      "Iteration 13: loglikelihood = -316.5276537804478, backtracks = 2, tol = 0.00394060866454871\n",
      "Iteration 14: loglikelihood = -316.50992605296796, backtracks = 2, tol = 0.0029918249852994103\n",
      "Iteration 15: loglikelihood = -316.4998143291673, backtracks = 2, tol = 0.002265270160216051\n",
      "Iteration 16: loglikelihood = -316.49406613214404, backtracks = 2, tol = 0.0017110615239077592\n",
      "Iteration 17: loglikelihood = -316.49080687297084, backtracks = 2, tol = 0.0012902536156348425\n",
      "Iteration 18: loglikelihood = -316.4889624723853, backtracks = 2, tol = 0.0009716277317779244\n",
      "Iteration 19: loglikelihood = -316.4879202825298, backtracks = 2, tol = 0.0007309600514247552\n",
      "Iteration 20: loglikelihood = -316.48733204721407, backtracks = 2, tol = 0.000549484718269684\n",
      "Iteration 21: loglikelihood = -316.4870003149547, backtracks = 2, tol = 0.0004128291474231582\n",
      "Iteration 22: loglikelihood = -316.4868133555257, backtracks = 2, tol = 0.00031002536936769156\n",
      "Iteration 23: loglikelihood = -316.4867080384853, backtracks = 2, tol = 0.00023274674474752565\n",
      "Iteration 24: loglikelihood = -316.4866487332225, backtracks = 2, tol = 0.00017468833019519464\n",
      "Iteration 25: loglikelihood = -316.486615346784, backtracks = 2, tol = 0.0001310885323519644\n",
      "Iteration 26: loglikelihood = -316.48659655541053, backtracks = 2, tol = 9.835709203914658e-5\n"
     ]
    },
    {
     "data": {
      "text/plain": [
       "\n",
       "IHT estimated 8 nonzero SNP predictors and 2 non-genetic predictors.\n",
       "\n",
       "Compute time (sec):     0.5662021636962891\n",
       "Final loglikelihood:    -316.48659655541053\n",
       "SNP PVE:                0.5592583156030205\n",
       "Iterations:             26\n",
       "\n",
       "Selected genetic predictors:\n",
       "\u001b[1m8×2 DataFrame\u001b[0m\n",
       "\u001b[1m Row \u001b[0m│\u001b[1m Position \u001b[0m\u001b[1m Estimated_β \u001b[0m\n",
       "\u001b[1m     \u001b[0m│\u001b[90m Int64    \u001b[0m\u001b[90m Float64     \u001b[0m\n",
       "─────┼───────────────────────\n",
       "   1 │      714    -0.7238\n",
       "   2 │      777    -0.625216\n",
       "   3 │     1356     1.01887\n",
       "   4 │     2426     0.392727\n",
       "   5 │     5080     0.395473\n",
       "   6 │     5490    -0.720477\n",
       "   7 │     6299    -2.09706\n",
       "   8 │     7057     0.661431\n",
       "\n",
       "Selected nongenetic predictors:\n",
       "\u001b[1m2×2 DataFrame\u001b[0m\n",
       "\u001b[1m Row \u001b[0m│\u001b[1m Position \u001b[0m\u001b[1m Estimated_β \u001b[0m\n",
       "\u001b[1m     \u001b[0m│\u001b[90m Int64    \u001b[0m\u001b[90m Float64     \u001b[0m\n",
       "─────┼───────────────────────\n",
       "   1 │        1     0.919708\n",
       "   2 │        2     1.48015"
      ]
     },
     "execution_count": 9,
     "metadata": {},
     "output_type": "execute_result"
    }
   ],
   "source": [
    "result = iht(\"sim\", 10, Bernoulli, covariates=\"sim.covariates.txt\")"
   ]
  },
  {
   "cell_type": "markdown",
   "metadata": {},
   "source": [
    "Since data is simulated, we can compare IHT's estimated effect size with the truth. "
   ]
  },
  {
   "cell_type": "code",
   "execution_count": 10,
   "metadata": {
    "collapsed": false
   },
   "outputs": [
    {
     "data": {
      "text/plain": [
       "8×2 Matrix{Float64}:\n",
       " -0.787272  -0.7238\n",
       " -0.456783  -0.625216\n",
       "  1.12735    1.01887\n",
       "  0.185925   0.0\n",
       " -0.891023  -0.720477\n",
       " -2.15515   -2.09706\n",
       "  0.166931   0.0\n",
       "  0.82265    0.661431"
      ]
     },
     "execution_count": 10,
     "metadata": {},
     "output_type": "execute_result"
    }
   ],
   "source": [
    "[true_b[correct_position] result.beta[correct_position]]"
   ]
  },
  {
   "cell_type": "markdown",
   "metadata": {},
   "source": [
    "The 1st column are the true beta values, and the 2nd column is the estimated values. IHT found 6/8 genetic predictors, and estimates are reasonably close to truth. IHT missed SNPs with small effect size. With increased sample size, these small effects can be detected. The estimated non-genetic effect size is also very close to the truth (1.0 and 1.5). "
   ]
  },
  {
   "cell_type": "code",
   "execution_count": 11,
   "metadata": {
    "collapsed": true
   },
   "outputs": [],
   "source": [
    "# remove simulated data once they are no longer needed\n",
    "rm(\"sim.bed\", force=true)\n",
    "rm(\"sim.bim\", force=true)\n",
    "rm(\"sim.fam\", force=true)\n",
    "rm(\"sim.covariates.txt\", force=true)\n",
    "rm(\"sim.phenotypes.txt\", force=true)\n",
    "rm(\"iht.beta.txt\", force=true)\n",
    "rm(\"iht.summary.txt\", force=true)\n",
    "rm(\"cviht.summary.txt\", force=true)"
   ]
  },
  {
   "cell_type": "markdown",
   "metadata": {},
   "source": [
    "## Example 4: Running IHT on general matrices\n",
    "\n",
    "To run IHT on genotypes in VCF files, or other general data, one must call `fit_iht` and `cv_iht` directly. These functions are designed to work on `AbstractArray{T, 2}` type where `T` is a `Float64` or `Float32`. Thus, one must first import the data, and then call `fit_iht` and `cv_iht` on it. Note the vector of 1s (intercept) shouldn't be included in the design matrix itself, as it will be automatically included."
   ]
  },
  {
   "cell_type": "markdown",
   "metadata": {},
   "source": [
    "!!! tip\n",
    "\n",
    "    Check out [VCFTools.jl](https://github.com/OpenMendel/VCFTools.jl) to learn how to import VCF data."
   ]
  },
  {
   "cell_type": "markdown",
   "metadata": {},
   "source": [
    "First we simulate some count response using the model:\n",
    "\n",
    "$$y_i \\sim \\rm Poisson(\\mathbf{x}_i^T \\boldsymbol\\beta)$$\n",
    "$$x_{ij} \\sim \\rm Normal(0, 1)$$\n",
    "$$\\beta_i \\sim \\rm N(0, 0.3)$$"
   ]
  },
  {
   "cell_type": "code",
   "execution_count": 12,
   "metadata": {
    "collapsed": false
   },
   "outputs": [],
   "source": [
    "n = 1000             # number of samples\n",
    "p = 10000            # number of SNPs\n",
    "k = 10               # 9 causal predictors + intercept\n",
    "d = Poisson          # Response distribution (count data)\n",
    "l = LogLink()        # canonical link\n",
    "\n",
    "# set random seed for reproducibility\n",
    "Random.seed!(2020)\n",
    "\n",
    "# simulate design matrix\n",
    "x = randn(n, p)\n",
    "\n",
    "# simulate response, true model b, and the correct non-0 positions of b\n",
    "true_b = zeros(p)\n",
    "true_b[1:k] .= rand(Normal(0, 0.5), k)\n",
    "shuffle!(true_b)\n",
    "intercept = 1.0\n",
    "correct_position = findall(!iszero, true_b)\n",
    "prob = GLM.linkinv.(l, intercept .+ x * true_b)\n",
    "clamp!(prob, -20, 20) # prevents overflow\n",
    "y = [rand(d(i)) for i in prob]\n",
    "y = Float64.(y); # convert phenotypes to double precision"
   ]
  },
  {
   "cell_type": "markdown",
   "metadata": {},
   "source": [
    "Now we have the response $y$, design matrix $x$. Let's run IHT and compare with truth."
   ]
  },
  {
   "cell_type": "code",
   "execution_count": 13,
   "metadata": {
    "collapsed": false
   },
   "outputs": [
    {
     "name": "stdout",
     "output_type": "stream",
     "text": [
      "****                   MendelIHT Version 1.4.1                  ****\n",
      "****     Benjamin Chu, Kevin Keys, Chris German, Hua Zhou       ****\n",
      "****   Jin Zhou, Eric Sobel, Janet Sinsheimer, Kenneth Lange    ****\n",
      "****                                                            ****\n",
      "****                 Please cite our paper!                     ****\n",
      "****         https://doi.org/10.1093/gigascience/giaa044        ****\n",
      "\n"
     ]
    },
    {
     "name": "stderr",
     "output_type": "stream",
     "text": [
      "\u001b[32mCross validating...100%|████████████████████████████████| Time: 0:00:25\u001b[39m\n"
     ]
    },
    {
     "name": "stdout",
     "output_type": "stream",
     "text": [
      "\n",
      "\n",
      "Crossvalidation Results:\n",
      "\tk\tMSE\n",
      "\t1\t1294.4117918373186\n",
      "\t2\t669.4092214451908\n",
      "\t3\t543.3989940052342\n",
      "\t4\t473.50239409691363\n",
      "\t5\t449.5280013487634\n",
      "\t6\t469.726620661539\n",
      "\t7\t476.40540372697865\n",
      "\t8\t541.741342787916\n",
      "\t9\t539.3863798082896\n",
      "\t10\t523.5971500146672\n",
      "\t11\t517.4445374386203\n",
      "\t12\t558.3509823150954\n",
      "\t13\t600.125510865708\n",
      "\t14\t597.7008166652079\n",
      "\t15\t569.2744078914006\n",
      "\t16\t603.7206875133627\n",
      "\t17\t639.488936399919\n",
      "\t18\t643.1761683767324\n",
      "\t19\t646.566741795878\n",
      "\t20\t642.7739157309286\n",
      "\n",
      "Best k = 5\n",
      "\n"
     ]
    }
   ],
   "source": [
    "# first run cross validation \n",
    "mses = cv_iht(y, x, path=1:20, d=Poisson(), l=LogLink());"
   ]
  },
  {
   "cell_type": "markdown",
   "metadata": {},
   "source": [
    "Now run IHT on the full dataset using the best k (achieved at k = 5)"
   ]
  },
  {
   "cell_type": "code",
   "execution_count": 14,
   "metadata": {
    "collapsed": false
   },
   "outputs": [
    {
     "name": "stdout",
     "output_type": "stream",
     "text": [
      "****                   MendelIHT Version 1.4.1                  ****\n",
      "****     Benjamin Chu, Kevin Keys, Chris German, Hua Zhou       ****\n",
      "****   Jin Zhou, Eric Sobel, Janet Sinsheimer, Kenneth Lange    ****\n",
      "****                                                            ****\n",
      "****                 Please cite our paper!                     ****\n",
      "****         https://doi.org/10.1093/gigascience/giaa044        ****\n",
      "\n",
      "Running sparse Poisson regression\n",
      "Number of threads = 8\n",
      "Link functin = LogLink()\n",
      "Sparsity parameter (k) = 5\n",
      "Prior weight scaling = off\n",
      "Doubly sparse projection = off\n",
      "Debias = off\n",
      "Max IHT iterations = 200\n",
      "Converging when tol < 0.0001 and iteration ≥ 5:\n",
      "\n",
      "Iteration 1: loglikelihood = -2847.082501924986, backtracks = 0, tol = 0.2928574304111579\n",
      "Iteration 2: loglikelihood = -2465.401434829008, backtracks = 0, tol = 0.052309994098756654\n",
      "Iteration 3: loglikelihood = -2376.6519599956146, backtracks = 0, tol = 0.07104164424891495\n",
      "Iteration 4: loglikelihood = -2351.583313350411, backtracks = 0, tol = 0.02620817684956463\n",
      "Iteration 5: loglikelihood = -2343.1107828225104, backtracks = 0, tol = 0.020230016134234835\n",
      "Iteration 6: loglikelihood = -2339.0692529047383, backtracks = 0, tol = 0.01108030835180364\n",
      "Iteration 7: loglikelihood = -2337.149479249759, backtracks = 0, tol = 0.009309142365782066\n",
      "Iteration 8: loglikelihood = -2336.178140295875, backtracks = 0, tol = 0.005564169436184072\n",
      "Iteration 9: loglikelihood = -2335.6908426969235, backtracks = 0, tol = 0.004609772037770407\n",
      "Iteration 10: loglikelihood = -2335.440388139586, backtracks = 0, tol = 0.0028617995124748164\n",
      "Iteration 11: loglikelihood = -2335.3124548737906, backtracks = 0, tol = 0.002340881298705853\n",
      "Iteration 12: loglikelihood = -2335.2463824561282, backtracks = 0, tol = 0.0014798329877975507\n",
      "Iteration 13: loglikelihood = -2335.2123851939327, backtracks = 0, tol = 0.0012011066579049358\n",
      "Iteration 14: loglikelihood = -2335.1947979604856, backtracks = 0, tol = 0.0007661746047595179\n",
      "Iteration 15: loglikelihood = -2335.1857186752313, backtracks = 0, tol = 0.0006191995770663082\n",
      "Iteration 16: loglikelihood = -2335.181018905229, backtracks = 0, tol = 0.00039678836835178535\n",
      "Iteration 17: loglikelihood = -2335.1785888400173, backtracks = 0, tol = 0.0003199381492395469\n",
      "Iteration 18: loglikelihood = -2335.1773306203627, backtracks = 0, tol = 0.00020549845888248242\n",
      "Iteration 19: loglikelihood = -2335.1766795324024, backtracks = 0, tol = 0.00016549800033336165\n",
      "Iteration 20: loglikelihood = -2335.176342377269, backtracks = 0, tol = 0.0001064283022001086\n",
      "Iteration 21: loglikelihood = -2335.176167840737, backtracks = 0, tol = 8.565816720858893e-5\n"
     ]
    },
    {
     "data": {
      "text/plain": [
       "\n",
       "IHT estimated 4 nonzero SNP predictors and 1 non-genetic predictors.\n",
       "\n",
       "Compute time (sec):     0.2328169345855713\n",
       "Final loglikelihood:    -2335.176167840737\n",
       "SNP PVE:                0.09113449276174614\n",
       "Iterations:             21\n",
       "\n",
       "Selected genetic predictors:\n",
       "\u001b[1m4×2 DataFrame\u001b[0m\n",
       "\u001b[1m Row \u001b[0m│\u001b[1m Position \u001b[0m\u001b[1m Estimated_β \u001b[0m\n",
       "\u001b[1m     \u001b[0m│\u001b[90m Int64    \u001b[0m\u001b[90m Float64     \u001b[0m\n",
       "─────┼───────────────────────\n",
       "   1 │       83    -0.809284\n",
       "   2 │      989     0.378376\n",
       "   3 │     4294    -0.274544\n",
       "   4 │     4459     0.169417\n",
       "\n",
       "Selected nongenetic predictors:\n",
       "\u001b[1m1×2 DataFrame\u001b[0m\n",
       "\u001b[1m Row \u001b[0m│\u001b[1m Position \u001b[0m\u001b[1m Estimated_β \u001b[0m\n",
       "\u001b[1m     \u001b[0m│\u001b[90m Int64    \u001b[0m\u001b[90m Float64     \u001b[0m\n",
       "─────┼───────────────────────\n",
       "   1 │        1      1.26918"
      ]
     },
     "execution_count": 14,
     "metadata": {},
     "output_type": "execute_result"
    }
   ],
   "source": [
    "result = fit_iht(y, x, k=argmin(mses), d=Poisson(), l=LogLink())"
   ]
  },
  {
   "cell_type": "code",
   "execution_count": 15,
   "metadata": {
    "collapsed": false
   },
   "outputs": [
    {
     "data": {
      "text/plain": [
       "10×2 Matrix{Float64}:\n",
       " -1.303      -0.809284\n",
       "  0.585809    0.378376\n",
       " -0.0700563   0.0\n",
       " -0.0901341   0.0\n",
       " -0.0620201   0.0\n",
       " -0.441452   -0.274544\n",
       "  0.271429    0.169417\n",
       " -0.164888    0.0\n",
       " -0.0790484   0.0\n",
       "  0.0829054   0.0"
      ]
     },
     "execution_count": 15,
     "metadata": {},
     "output_type": "execute_result"
    }
   ],
   "source": [
    "# compare IHT result with truth\n",
    "[true_b[correct_position] result.beta[correct_position]]"
   ]
  },
  {
   "cell_type": "markdown",
   "metadata": {},
   "source": [
    "Since many of the true $\\beta$ are small, we were only able to find 5 true signals (4 predictors + intercept). \n",
    "\n",
    "**Conclusion:** In this example, we ran IHT on count response with a general `Matrix{Float64}` design matrix. Since we used simulated data, we could compare IHT's estimates with the truth. "
   ]
  },
  {
   "cell_type": "markdown",
   "metadata": {},
   "source": [
    "## Example 5: Group IHT \n",
    "\n",
    "In this example, we show how to include group information to perform doubly sparse projections. Here the final model would contain at most $J = 5$ groups where each group contains limited number of (prespecified) SNPs. For simplicity, we assume the sparsity parameter $k$ is known. \n",
    "\n",
    "### Data simulation\n",
    "To illustrate the effect of group information and prior weights, we generated correlated genotype matrix according to the procedure outlined in [our paper](https://www.biorxiv.org/content/biorxiv/early/2019/11/19/697755.full.pdf). In this example, each SNP belongs to 1 of 500 disjoint groups containing 20 SNPs each; $j = 5$ distinct groups are each assigned $1,2,...,5$ causal SNPs with effect sizes randomly chosen from $\\{−0.2,0.2\\}$. In all there 15 causal SNPs.  For grouped-IHT, we assume perfect group information. That is, the selected groups containing 1∼5 causative SNPs are assigned maximum within-group sparsity $\\lambda_g = 1,2,...,5$. The remaining groups are assigned $\\lambda_g = 1$ (i.e. only 1 active predictor are allowed)."
   ]
  },
  {
   "cell_type": "code",
   "execution_count": 16,
   "metadata": {
    "collapsed": false
   },
   "outputs": [],
   "source": [
    "# define problem size\n",
    "d = NegativeBinomial\n",
    "l = LogLink()\n",
    "n = 1000\n",
    "p = 10000\n",
    "block_size = 20                  #simulation parameter\n",
    "num_blocks = Int(p / block_size) #simulation parameter\n",
    "\n",
    "# set seed\n",
    "Random.seed!(2019)\n",
    "\n",
    "# assign group membership\n",
    "membership = collect(1:num_blocks)\n",
    "g = zeros(Int64, p + 1)\n",
    "for i in 1:length(membership)\n",
    "    for j in 1:block_size\n",
    "        cur_row = block_size * (i - 1) + j\n",
    "        g[block_size*(i - 1) + j] = membership[i]\n",
    "    end\n",
    "end\n",
    "g[end] = membership[end]\n",
    "\n",
    "#simulate correlated snparray\n",
    "x = simulate_correlated_snparray(\"tmp.bed\", n, p)\n",
    "intercept = 0.5\n",
    "x_float = convert(Matrix{Float64}, x, model=ADDITIVE_MODEL, center=true, scale=true)\n",
    "\n",
    "#simulate true model, where 5 groups each with 1~5 snps contribute\n",
    "true_b = zeros(p)\n",
    "true_groups = randperm(num_blocks)[1:5]\n",
    "sort!(true_groups)\n",
    "within_group = [randperm(block_size)[1:1], randperm(block_size)[1:2], \n",
    "                randperm(block_size)[1:3], randperm(block_size)[1:4], \n",
    "                randperm(block_size)[1:5]]\n",
    "correct_position = zeros(Int64, 15)\n",
    "for i in 1:5\n",
    "    cur_group = block_size * (true_groups[i] - 1)\n",
    "    cur_group_snps = cur_group .+ within_group[i]\n",
    "    start, last = Int(i*(i-1)/2 + 1), Int(i*(i+1)/2)\n",
    "    correct_position[start:last] .= cur_group_snps\n",
    "end\n",
    "for i in 1:15\n",
    "    true_b[correct_position[i]] = rand(-1:2:1) * 0.2\n",
    "end\n",
    "sort!(correct_position)\n",
    "\n",
    "# simulate phenotype\n",
    "r = 10 #nuisance parameter\n",
    "μ = GLM.linkinv.(l, intercept .+ x_float * true_b)\n",
    "clamp!(μ, -20, 20)\n",
    "prob = 1 ./ (1 .+ μ ./ r)\n",
    "y = [rand(d(r, i)) for i in prob] #number of failures before r success occurs\n",
    "y = Float64.(y);"
   ]
  },
  {
   "cell_type": "code",
   "execution_count": 17,
   "metadata": {
    "collapsed": false
   },
   "outputs": [],
   "source": [
    "#run IHT without groups\n",
    "ungrouped = fit_iht(y, x_float, k=15, d=NegativeBinomial(), l=LogLink(), verbose=false)\n",
    "\n",
    "#run doubly sparse (group) IHT by specifying maximum number of SNPs for each group (in order)\n",
    "max_group_snps = ones(Int, num_blocks)\n",
    "max_group_snps[true_groups] .= collect(1:5)\n",
    "variable_group = fit_iht(y, x_float, d=NegativeBinomial(), l=LogLink(), k=max_group_snps, J=5, group=g, verbose=false);"
   ]
  },
  {
   "cell_type": "code",
   "execution_count": 18,
   "metadata": {
    "collapsed": false
   },
   "outputs": [
    {
     "name": "stdout",
     "output_type": "stream",
     "text": [
      "compare_model = 15×4 DataFrame\n",
      " Row │ position  correct_β  ungrouped_IHT_β  grouped_IHT_β\n",
      "     │ Int64     Float64    Float64          Float64\n",
      "─────┼─────────────────────────────────────────────────────\n",
      "   1 │      963       -0.2        -0.21403        0.0\n",
      "   2 │     3485       -0.2         0.0           -0.13032\n",
      "   3 │     3487       -0.2        -0.323509      -0.225267\n",
      "   4 │     7405        0.2         0.254196       0.260726\n",
      "   5 │     7407       -0.2        -0.186084      -0.202747\n",
      "   6 │     7417       -0.2        -0.190491      -0.201521\n",
      "   7 │     9104       -0.2        -0.189195      -0.201113\n",
      "   8 │     9110        0.2         0.192222       0.177787\n",
      "   9 │     9118       -0.2        -0.196494      -0.189983\n",
      "  10 │     9120        0.2         0.253254       0.248832\n",
      "  11 │     9206       -0.2        -0.236861      -0.217945\n",
      "  12 │     9209       -0.2        -0.198633      -0.177085\n",
      "  13 │     9210       -0.2        -0.172682      -0.186602\n",
      "  14 │     9211       -0.2        -0.234481      -0.23977\n",
      "  15 │     9217        0.2         0.227397       0.217969\n",
      "\n",
      "\n"
     ]
    }
   ],
   "source": [
    "#check result\n",
    "correct_position = findall(!iszero, true_b)\n",
    "compare_model = DataFrame(\n",
    "    position = correct_position,\n",
    "    correct_β = true_b[correct_position],\n",
    "    ungrouped_IHT_β = ungrouped.beta[correct_position], \n",
    "    grouped_IHT_β = variable_group.beta[correct_position])\n",
    "@show compare_model\n",
    "println(\"\\n\")\n",
    "\n",
    "#clean up. Windows user must do this step manually (outside notebook/REPL)\n",
    "rm(\"tmp.bed\", force=true)"
   ]
  },
  {
   "cell_type": "markdown",
   "metadata": {},
   "source": [
    "**Conclusion:** Ungroup and grouped IHT each found 1 SNP that the other didn't find.  "
   ]
  },
  {
   "cell_type": "markdown",
   "metadata": {},
   "source": [
    "## Example 6: Linear Regression with prior weights\n",
    "\n",
    "In this example, we show how to include (predetermined) prior weights for each SNP. You can check out [our paper](https://www.biorxiv.org/content/biorxiv/early/2019/11/19/697755.full.pdf) for references of why/how to choose these weights. In this case, we mimic our paper and randomly set $10\\%$ of all SNPs to have a weight of $2.0$. Other predictors have weight of $1.0$. All causal SNPs have weights of $2.0$. Under this scenario, SNPs with weight $2.0$ is twice as likely to enter the model identified by IHT. \n",
    "\n",
    "Our model is simulated as:\n",
    "\n",
    "$$y_i \\sim \\mathbf{x}_i^T\\mathbf{\\beta} + \\epsilon_i$$\n",
    "$$x_{ij} \\sim \\rm Binomial(2, \\rho_j)$$\n",
    "$$\\rho_j \\sim \\rm Uniform(0, 0.5)$$\n",
    "$$\\epsilon_i \\sim \\rm N(0, 1)$$\n",
    "$$\\beta_i \\sim \\rm N(0, 0.25)$$"
   ]
  },
  {
   "cell_type": "code",
   "execution_count": 19,
   "metadata": {
    "collapsed": false
   },
   "outputs": [],
   "source": [
    "d = Normal\n",
    "l = IdentityLink()\n",
    "n = 1000\n",
    "p = 10000\n",
    "k = 10\n",
    "\n",
    "#random seed\n",
    "Random.seed!(4)\n",
    "\n",
    "# construct snpmatrix, covariate files, and true model b\n",
    "x = simulate_random_snparray(\"tmp.bed\", n, p)\n",
    "X = convert(Matrix{Float64}, x, center=true, scale=true)\n",
    "intercept = 1.0\n",
    "    \n",
    "#define true_b \n",
    "true_b = zeros(p)\n",
    "true_b[1:10] .= rand(Normal(0, 0.25), k)\n",
    "shuffle!(true_b)\n",
    "correct_position = findall(!iszero, true_b)\n",
    "\n",
    "#simulate phenotypes (e.g. vector y)\n",
    "prob = GLM.linkinv.(l, intercept .+ X * true_b)\n",
    "clamp!(prob, -20, 20)\n",
    "y = [rand(d(i)) for i in prob]\n",
    "y = Float64.(y);\n",
    "\n",
    "# construct weight vector\n",
    "w = ones(p + 1)\n",
    "w[correct_position] .= 2.0\n",
    "one_tenth = round(Int, p/10)\n",
    "idx = rand(1:p, one_tenth)\n",
    "w[idx] .= 2.0; #randomly set ~1/10 of all predictors to 2"
   ]
  },
  {
   "cell_type": "code",
   "execution_count": 20,
   "metadata": {
    "collapsed": false
   },
   "outputs": [
    {
     "name": "stdout",
     "output_type": "stream",
     "text": [
      "compare_model = 10×4 DataFrame\n",
      " Row │ position  correct     unweighted  weighted\n",
      "     │ Int64     Float64     Float64     Float64\n",
      "─────┼─────────────────────────────────────────────\n",
      "   1 │     1264   0.252886     0.270233   0.280652\n",
      "   2 │     1506  -0.0939841    0.0       -0.118611\n",
      "   3 │     4866  -0.227394    -0.233703  -0.232989\n",
      "   4 │     5778  -0.510488    -0.507114  -0.501733\n",
      "   5 │     5833  -0.311969    -0.324309  -0.319763\n",
      "   6 │     5956  -0.0548168    0.0        0.0\n",
      "   7 │     6378  -0.0155173    0.0        0.0\n",
      "   8 │     7007  -0.123301     0.0        0.0\n",
      "   9 │     7063   0.0183886    0.0        0.0\n",
      "  10 │     7995  -0.102122     0.0       -0.134898\n",
      "\n",
      "\n"
     ]
    }
   ],
   "source": [
    "#run weighted and unweighted IHT\n",
    "unweighted = fit_iht(y, X, k=10, d=Normal(), l=IdentityLink(), verbose=false)\n",
    "weighted   = fit_iht(y, X, k=10, d=Normal(), l=IdentityLink(), verbose=false, weight=w)\n",
    "\n",
    "#check result\n",
    "compare_model = DataFrame(\n",
    "    position    = correct_position,\n",
    "    correct     = true_b[correct_position],\n",
    "    unweighted  = unweighted.beta[correct_position], \n",
    "    weighted    = weighted.beta[correct_position])\n",
    "@show compare_model\n",
    "println(\"\\n\")\n",
    "\n",
    "#clean up. Windows user must do this step manually (outside notebook/REPL)\n",
    "rm(\"tmp.bed\", force=true)"
   ]
  },
  {
   "cell_type": "markdown",
   "metadata": {},
   "source": [
    "**Conclusion**: weighted IHT found 2 extra predictor than non-weighted IHT."
   ]
  },
  {
   "cell_type": "markdown",
   "metadata": {},
   "source": [
    "## Example 7: Multivariate IHT\n",
    "\n",
    "When there is multiple quantitative traits, analyzing them jointly is known to be superior than conducting multiple univariate-GWAS ([ref1](https://journals.plos.org/plosone/article?id=10.1371/journal.pone.0095923), [ref2](https://www.nature.com/articles/srep38837)). When `MendelIHT.jl` performs a multivariate analysis, \n",
    "\n",
    "+ IHT estimates effect of every SNP (covariate) conditioned on every other SNP across traits\n",
    "+ IHT outputs an estimated covariate matrix among traits\n",
    "+ IHT estimates proportion of trait variance explained by the genetic predictors\n"
   ]
  },
  {
   "cell_type": "markdown",
   "metadata": {},
   "source": [
    "### First simulate data\n",
    "\n",
    "With $r$ traits, each sample's phenotype $\\mathbf{y}_{i} \\in \\mathbb{R}^{n \\times 1}$ is simulated under\n",
    "\n",
    "$$\\mathbf{y}_{i}^{r \\times 1} \\sim N(\\mathbf{B}^{r \\times p}\\mathbf{x}_{i}^{p \\times 1}, \\ \\ \\Sigma_{r \\times r})$$\n",
    "\n",
    "This model assumes each sample is independent. The covariance among traits is specified by $\\Sigma$."
   ]
  },
  {
   "cell_type": "code",
   "execution_count": 21,
   "metadata": {
    "collapsed": false
   },
   "outputs": [],
   "source": [
    "n = 1000  # number of samples\n",
    "p = 10000 # number of SNPs\n",
    "k = 10    # number of causal SNPs\n",
    "r = 2     # number of traits\n",
    "\n",
    "# set random seed for reproducibility\n",
    "Random.seed!(2021)\n",
    "\n",
    "# simulate `.bed` file with no missing data\n",
    "x = simulate_random_snparray(\"multivariate.bed\", n, p)\n",
    "xla = SnpLinAlg{Float64}(x, model=ADDITIVE_MODEL, impute=false, center=true, scale=true) \n",
    "\n",
    "# intercept is the only nongenetic covariate\n",
    "z = ones(n, 1)\n",
    "intercepts = randn(r)' # each trait have different intercept\n",
    "\n",
    "# simulate response y, true model b, and the correct non-0 positions of b\n",
    "Y, true_Σ, true_b, correct_position = simulate_random_response(xla, k, r, Zu=z*intercepts, overlap=0)\n",
    "writedlm(\"multivariate.trait.cov\", true_Σ, ',')\n",
    "\n",
    "# create `.bim` and `.bam` files using phenotype\n",
    "make_bim_fam_files(x, Y, \"multivariate\")\n",
    "\n",
    "# also save phenotypes in separate file\n",
    "open(\"multivariate.phen\", \"w\") do io\n",
    "    for i in 1:n\n",
    "        println(io, Y[i, 1], \",\", Y[i, 2])\n",
    "    end\n",
    "end"
   ]
  },
  {
   "cell_type": "markdown",
   "metadata": {},
   "source": [
    "For multivariate IHT, one can store multiple phenotpyes as extra columns in the `.fam` file. The first 10 rows of such a file is visualized below:"
   ]
  },
  {
   "cell_type": "code",
   "execution_count": 22,
   "metadata": {
    "collapsed": false
   },
   "outputs": [
    {
     "name": "stdout",
     "output_type": "stream",
     "text": [
      "1\t1\t0\t0\t1\t-1.4101566028647934\t-0.4675708866010868\n",
      "2\t1\t0\t0\t1\t1.519406122085042\t-0.1521105344879844\n",
      "3\t1\t0\t0\t1\t-5.121683111513246\t1.4417764126708223\n",
      "4\t1\t0\t0\t1\t2.4188275607309677\t2.5303163340220953\n",
      "5\t1\t0\t0\t1\t2.6214639873372234\t1.005904479060761\n",
      "6\t1\t0\t0\t1\t1.0918272785956382\t2.8773472639961106\n",
      "7\t1\t0\t0\t1\t1.6444938174059964\t-0.3561578100979898\n",
      "8\t1\t0\t0\t1\t-1.3607927771748423\t0.049522727283193846\n",
      "9\t1\t0\t0\t1\t-3.9917926508357624\t1.8333328019574022\n",
      "10\t1\t0\t0\t1\t-2.494886509291137\t2.518184222337186\n"
     ]
    }
   ],
   "source": [
    ";head multivariate.fam"
   ]
  },
  {
   "cell_type": "markdown",
   "metadata": {},
   "source": [
    "Phenotypes can also be stored in a separate file. In this case, we require each subject's phenotype to occupy a different row. The file should not include a header line. Each row should be listed in the same order as in the PLINK and (for multivariate analysis) be comma separated. For example, the first 10 rows of such a file looks like:"
   ]
  },
  {
   "cell_type": "code",
   "execution_count": 23,
   "metadata": {
    "collapsed": false
   },
   "outputs": [
    {
     "name": "stdout",
     "output_type": "stream",
     "text": [
      "-1.4101566028647934,-0.4675708866010868\n",
      "1.519406122085042,-0.1521105344879844\n",
      "-5.121683111513246,1.4417764126708223\n",
      "2.4188275607309677,2.5303163340220953\n",
      "2.6214639873372234,1.005904479060761\n",
      "1.0918272785956382,2.8773472639961106\n",
      "1.6444938174059964,-0.3561578100979898\n",
      "-1.3607927771748423,0.049522727283193846\n",
      "-3.9917926508357624,1.8333328019574022\n",
      "-2.494886509291137,2.518184222337186\n"
     ]
    }
   ],
   "source": [
    ";head multivariate.phen"
   ]
  },
  {
   "cell_type": "markdown",
   "metadata": {},
   "source": [
    "### Run multivariate IHT\n",
    "\n",
    "The values specified in `path` corresponds to the total number of non-zero `k` to be tested in cross validation. Since we simulated 10 true genetic predictors and 2 non-genetic predictors (an intercept term for each trait), $k_{true} = 12$. Because non-genetic covariates are not specified, an intercept with automatically be included. "
   ]
  },
  {
   "cell_type": "code",
   "execution_count": 24,
   "metadata": {
    "collapsed": false,
    "scrolled": false
   },
   "outputs": [
    {
     "name": "stdout",
     "output_type": "stream",
     "text": [
      "****                   MendelIHT Version 1.4.1                  ****\n",
      "****     Benjamin Chu, Kevin Keys, Chris German, Hua Zhou       ****\n",
      "****   Jin Zhou, Eric Sobel, Janet Sinsheimer, Kenneth Lange    ****\n",
      "****                                                            ****\n",
      "****                 Please cite our paper!                     ****\n",
      "****         https://doi.org/10.1093/gigascience/giaa044        ****\n",
      "\n"
     ]
    },
    {
     "name": "stderr",
     "output_type": "stream",
     "text": [
      "\u001b[32mCross validating...100%|████████████████████████████████| Time: 0:00:08\u001b[39m\n"
     ]
    },
    {
     "name": "stdout",
     "output_type": "stream",
     "text": [
      "\n",
      "\n",
      "Crossvalidation Results:\n",
      "\tk\tMSE\n",
      "\t1\t2066.2949539850247\n",
      "\t2\t2065.448718184275\n",
      "\t3\t1028.1142776401573\n",
      "\t4\t891.2895081829226\n",
      "\t5\t761.9356018442186\n",
      "\t6\t615.9435020075197\n",
      "\t7\t548.8271710694912\n",
      "\t8\t538.4145437051037\n",
      "\t9\t526.7503996446849\n",
      "\t10\t528.2000153966353\n",
      "\t11\t528.4124971317248\n",
      "\t12\t523.3419138092179\n",
      "\t13\t538.1305969330168\n",
      "\t14\t527.5197299749807\n",
      "\t15\t527.7948630499403\n",
      "\t16\t531.8215074425368\n",
      "\t17\t533.44640197685\n",
      "\t18\t535.7714663457024\n",
      "\t19\t540.7820708871902\n",
      "\t20\t548.1997323593387\n",
      "\n",
      "Best k = 12\n",
      "\n"
     ]
    }
   ],
   "source": [
    "# genotypes stored in multivariate.bed and phenotypes in multivariate.phen\n",
    "mses = cross_validate(\"multivariate\", MvNormal, phenotypes=\"multivariate.phen\", path=1:20);\n",
    "\n",
    "# use columns 6 and 7 of .fam as phenotypes\n",
    "# mses = cross_validate(\"multivariate\", MvNormal, phenotypes=[6, 7], path=1:20)\n",
    "\n",
    "# run directly with xla and Y (note: transpose is necessary to make samples into columns)\n",
    "# mses = cv_iht(Matrix(Y'), Transpose(xla), path=1:20)"
   ]
  },
  {
   "cell_type": "markdown",
   "metadata": {},
   "source": [
    "The best MSE is achieved at $k=12$. Let's run IHT with this estimate of $k$. Similarly, there are multiple ways to do so:"
   ]
  },
  {
   "cell_type": "code",
   "execution_count": 30,
   "metadata": {
    "collapsed": false,
    "scrolled": false
   },
   "outputs": [
    {
     "name": "stdout",
     "output_type": "stream",
     "text": [
      "****                   MendelIHT Version 1.4.1                  ****\n",
      "****     Benjamin Chu, Kevin Keys, Chris German, Hua Zhou       ****\n",
      "****   Jin Zhou, Eric Sobel, Janet Sinsheimer, Kenneth Lange    ****\n",
      "****                                                            ****\n",
      "****                 Please cite our paper!                     ****\n",
      "****         https://doi.org/10.1093/gigascience/giaa044        ****\n",
      "\n",
      "Running sparse Multivariate Gaussian regression\n",
      "Number of threads = 8\n",
      "Link functin = IdentityLink()\n",
      "Sparsity parameter (k) = 12\n",
      "Prior weight scaling = off\n",
      "Doubly sparse projection = off\n",
      "Debias = off\n",
      "Max IHT iterations = 200\n",
      "Converging when tol < 0.0001 and iteration ≥ 5:\n",
      "\n",
      "Iteration 1: loglikelihood = -2376.4820296189982, backtracks = 0, tol = 0.0\n",
      "Iteration 2: loglikelihood = -2376.479923292264, backtracks = 0, tol = 1.1257263586193733e-6\n",
      "Iteration 3: loglikelihood = -1957.3455984022858, backtracks = 0, tol = 0.34272673055481445\n",
      "Iteration 4: loglikelihood = -1492.3671161424047, backtracks = 0, tol = 0.25917873408698855\n",
      "Iteration 5: loglikelihood = -1182.1735594370286, backtracks = 0, tol = 0.23675182454701588\n",
      "Iteration 6: loglikelihood = -1173.136551480164, backtracks = 0, tol = 0.07796393235528722\n",
      "Iteration 7: loglikelihood = -1172.0113774449553, backtracks = 1, tol = 0.011552571250170897\n",
      "Iteration 8: loglikelihood = -1171.889593655075, backtracks = 1, tol = 0.00348271732377267\n",
      "Iteration 9: loglikelihood = -1171.8731432400346, backtracks = 1, tol = 0.0009816062764585914\n",
      "Iteration 10: loglikelihood = -1171.8696778652588, backtracks = 1, tol = 0.0004151796336081729\n",
      "Iteration 11: loglikelihood = -1171.868629414193, backtracks = 1, tol = 0.00023372232580958058\n",
      "Iteration 12: loglikelihood = -1171.868259797147, backtracks = 1, tol = 0.0001366081371933243\n",
      "Iteration 13: loglikelihood = -1171.8681230933576, backtracks = 1, tol = 8.144197684245368e-5\n"
     ]
    },
    {
     "data": {
      "text/plain": [
       "\n",
       "Compute time (sec):     0.17782807350158691\n",
       "Final loglikelihood:    -1171.8681230933576\n",
       "Iterations:             13\n",
       "Trait 1's SNP PVE:      0.8882386104054829\n",
       "Trait 2's SNP PVE:      0.1797217149389984\n",
       "\n",
       "Estimated trait covariance:\n",
       "\u001b[1m2×2 DataFrame\u001b[0m\n",
       "\u001b[1m Row \u001b[0m│\u001b[1m trait1    \u001b[0m\u001b[1m trait2    \u001b[0m\n",
       "\u001b[1m     \u001b[0m│\u001b[90m Float64   \u001b[0m\u001b[90m Float64   \u001b[0m\n",
       "─────┼──────────────────────\n",
       "   1 │  0.907309  -0.131274\n",
       "   2 │ -0.131274   1.57327\n",
       "\n",
       "Trait 1: IHT estimated 6 nonzero SNP predictors\n",
       "\u001b[1m6×2 DataFrame\u001b[0m\n",
       "\u001b[1m Row \u001b[0m│\u001b[1m Position \u001b[0m\u001b[1m Estimated_β \u001b[0m\n",
       "\u001b[1m     \u001b[0m│\u001b[90m Int64    \u001b[0m\u001b[90m Float64     \u001b[0m\n",
       "─────┼───────────────────────\n",
       "   1 │      134    -0.412059\n",
       "   2 │      442    -1.22405\n",
       "   3 │      450    -1.5129\n",
       "   4 │     1891    -1.45489\n",
       "   5 │     2557     0.780163\n",
       "   6 │     3243    -0.833766\n",
       "\n",
       "Trait 1: IHT estimated 1 non-genetic predictors\n",
       "\u001b[1m1×2 DataFrame\u001b[0m\n",
       "\u001b[1m Row \u001b[0m│\u001b[1m Position \u001b[0m\u001b[1m Estimated_β \u001b[0m\n",
       "\u001b[1m     \u001b[0m│\u001b[90m Int64    \u001b[0m\u001b[90m Float64     \u001b[0m\n",
       "─────┼───────────────────────\n",
       "   1 │        1     -0.14915\n",
       "\n",
       "Trait 2: IHT estimated 4 nonzero SNP predictors\n",
       "\u001b[1m4×2 DataFrame\u001b[0m\n",
       "\u001b[1m Row \u001b[0m│\u001b[1m Position \u001b[0m\u001b[1m Estimated_β \u001b[0m\n",
       "\u001b[1m     \u001b[0m│\u001b[90m Int64    \u001b[0m\u001b[90m Float64     \u001b[0m\n",
       "─────┼───────────────────────\n",
       "   1 │     1014    -0.381763\n",
       "   2 │     1570     0.183475\n",
       "   3 │     5214     0.346505\n",
       "   4 │     9385    -0.18681\n",
       "\n",
       "Trait 2: IHT estimated 1 non-genetic predictors\n",
       "\u001b[1m1×2 DataFrame\u001b[0m\n",
       "\u001b[1m Row \u001b[0m│\u001b[1m Position \u001b[0m\u001b[1m Estimated_β \u001b[0m\n",
       "\u001b[1m     \u001b[0m│\u001b[90m Int64    \u001b[0m\u001b[90m Float64     \u001b[0m\n",
       "─────┼───────────────────────\n",
       "   1 │        1     0.812977\n"
      ]
     },
     "execution_count": 30,
     "metadata": {},
     "output_type": "execute_result"
    }
   ],
   "source": [
    "# genotypes stored in multivariate.bed and phenotypes in multivariate.phen\n",
    "result = iht(\"multivariate\", 12, MvNormal, phenotypes=\"multivariate.phen\")\n",
    "\n",
    "# genotypes stored in multivariate.bed use columns 6 and 7 of .fam as phenotypes\n",
    "# result = iht(\"multivariate\", 12, MvNormal, phenotypes=[6, 7])\n",
    "\n",
    "# run cross validation directly with xla and Y (note: transpose is necessary to make samples into columns)\n",
    "# result = fit_iht(Matrix(Y'), Transpose(xla), k=12)"
   ]
  },
  {
   "cell_type": "markdown",
   "metadata": {},
   "source": [
    "The convergence criteria can be tuned by keywords `tol` and `min_iter`. "
   ]
  },
  {
   "cell_type": "markdown",
   "metadata": {},
   "source": [
    "### Check answers"
   ]
  },
  {
   "cell_type": "code",
   "execution_count": 31,
   "metadata": {
    "collapsed": false
   },
   "outputs": [
    {
     "data": {
      "text/plain": [
       "7×2 Matrix{Float64}:\n",
       " -0.412059  -0.388067\n",
       " -1.22405   -1.24972\n",
       " -1.5129    -1.53835\n",
       "  0.0       -0.0034339\n",
       " -1.45489   -1.47163\n",
       "  0.780163   0.758756\n",
       " -0.833766  -0.847906"
      ]
     },
     "execution_count": 31,
     "metadata": {},
     "output_type": "execute_result"
    }
   ],
   "source": [
    "# estimated vs true first beta\n",
    "β1 = result.beta[1, :]\n",
    "true_b1_idx = findall(!iszero, true_b[:, 1])\n",
    "[β1[true_b1_idx] true_b[true_b1_idx, 1]]"
   ]
  },
  {
   "cell_type": "code",
   "execution_count": 32,
   "metadata": {
    "collapsed": false
   },
   "outputs": [
    {
     "data": {
      "text/plain": [
       "3×2 Matrix{Float64}:\n",
       " -0.381763  -0.402269\n",
       "  0.346505   0.296183\n",
       "  0.0        0.125965"
      ]
     },
     "execution_count": 32,
     "metadata": {},
     "output_type": "execute_result"
    }
   ],
   "source": [
    "# estimated vs true second beta\n",
    "β2 = result.beta[2, :]\n",
    "true_b2_idx = findall(!iszero, true_b[:, 2])\n",
    "[β2[true_b2_idx] true_b[true_b2_idx, 2]]"
   ]
  },
  {
   "cell_type": "code",
   "execution_count": 33,
   "metadata": {
    "collapsed": false
   },
   "outputs": [
    {
     "data": {
      "text/plain": [
       "2×2 Matrix{Float64}:\n",
       " -0.14915   -0.172668\n",
       "  0.812977   0.729135"
      ]
     },
     "execution_count": 33,
     "metadata": {},
     "output_type": "execute_result"
    }
   ],
   "source": [
    "# estimated vs true non genetic covariates (intercept)\n",
    "[result.c intercepts']"
   ]
  },
  {
   "cell_type": "code",
   "execution_count": 34,
   "metadata": {
    "collapsed": false
   },
   "outputs": [
    {
     "data": {
      "text/plain": [
       "4×2 Matrix{Float64}:\n",
       "  0.907309   0.955563\n",
       " -0.131274  -0.0884466\n",
       " -0.131274  -0.0884466\n",
       "  1.57327    1.62573"
      ]
     },
     "execution_count": 34,
     "metadata": {},
     "output_type": "execute_result"
    }
   ],
   "source": [
    "# estimated vs true covariance matrix\n",
    "[vec(result.Σ) vec(true_Σ)]"
   ]
  },
  {
   "cell_type": "markdown",
   "metadata": {},
   "source": [
    "**Conclusion:** \n",
    "+ IHT found 9 true positives: 6/7 causal SNPs for trait 1, 2/3 causal SNPs for trait 2, and 1/2 intercept\n",
    "+ Because we ran IHT with $k=12$, there are 3 false positives. \n",
    "+ Estimated trait covariance matrix closely match the true covariance\n",
    "+ The proportion of phenotypic trait variances explained by genotypes are 0.88 and 0.15."
   ]
  },
  {
   "cell_type": "markdown",
   "metadata": {},
   "source": [
    "## Other examples and functionalities\n",
    "\n",
    "Additional features are available as optional parameters in the [fit_iht](https://github.com/OpenMendel/MendelIHT.jl/blob/master/src/fit.jl#L37) function, but they should be treated as **experimental** features. Interested users are encouraged to explore them and please file issues on GitHub if you encounter a problem."
   ]
  }
 ],
 "metadata": {
  "@webio": {
   "lastCommId": null,
   "lastKernelId": null
  },
  "kernelspec": {
   "display_name": "Julia 1.6.0",
   "language": "julia",
   "name": "julia-1.6"
  },
  "language_info": {
   "file_extension": ".jl",
   "mimetype": "application/julia",
   "name": "julia",
   "version": "1.6.0"
  }
 },
 "nbformat": 4,
 "nbformat_minor": 2
}
