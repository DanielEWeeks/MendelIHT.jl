{
 "cells": [
  {
   "cell_type": "markdown",
   "metadata": {},
   "source": [
    "# Contributing\n",
    "\n",
    "I am one developer. We are a community. \n",
    "\n",
    "If you would like to contribute to this project, we compiled a list of [desired features for this project](https://github.com/biona001/MendelIHT.jl/issues/6). Developers of any level is welcomed. Do not be shy because it can't hurt to ask. \n",
    "\n",
    "## Bug Fixes & User Support\n",
    "\n",
    "If you encounter a bug or you need some user support, please [open a new issue here](https://github.com/biona001/MendelIHT.jl/issues). If you can, provide the error message and, ideally, a reproducible code that generated the error.\n",
    "\n",
    "## Citation\n",
    "\n",
    "If you use `MendelIHT.jl` in an academic manuscript, please cite:\n",
    "\n",
    "```\n",
    "Zhou, Hua, et al. \"OpenMendel: a cooperative programming project for statistical genetics.\" Human genetics (2019): 1-11.\n",
    "```\n",
    "\n",
    "Bibtex:\n",
    "\n",
    "```\n",
    "@article{zhou2019openmendel,\n",
    "  title={{OpenMendel: a cooperative programming project for statistical genetics}},\n",
    "  author={Zhou, Hua and Sinsheimer, Janet S and Bates, Douglas M and Chu, Benjamin B and German, Christopher A and Ji, Sarah S and Keys, Kevin L and Kim, Juhyun and Ko, Seyoon and Mosher, Gordon D and Jeanette, Papp C and Sobel, Eric M and Zhai, Jing and Zhou, Jin J and Lange, Kenneth},\n",
    "  journal={Human genetics},\n",
    "  pages={1--11},\n",
    "  year={2019},\n",
    "  publisher={Springer}\n",
    "}\n",
    "```\n",
    "\n",
    "If you could also press star on the upper right hand corner on our [github page](https://github.com/biona001/MendelIHT.jl), that would be very helpful. "
   ]
  }
 ],
 "metadata": {
  "kernelspec": {
   "display_name": "Julia 1.0.3",
   "language": "julia",
   "name": "julia-1.0"
  },
  "language_info": {
   "file_extension": ".jl",
   "mimetype": "application/julia",
   "name": "julia",
   "version": "1.0.3"
  }
 },
 "nbformat": 4,
 "nbformat_minor": 2
}
