{
 "cells": [
  {
   "cell_type": "markdown",
   "metadata": {},
   "source": [
    "# FAQ\n",
    "\n",
    "If you do not find your problem here, or the provided solution does not solve your problem, please file an issue on [GitHub](https://github.com/OpenMendel/MendelIHT.jl/issues). "
   ]
  },
  {
   "cell_type": "markdown",
   "metadata": {},
   "source": [
    "## Precompilation error\n",
    "\n",
    "+ The first time one runs `using MendelIHT`, please do so without doing `using Distributed`. Sometimes precompilation can fail in a distributed environment. \n",
    "+ On cluster environments, sometimes Julia crashes randomly causing core dumps. If this happens, try running Julia on intel nodes. \n",
    "\n",
    "## Parallel computing\n",
    "+ [How to start Julia with multiple threads](https://docs.julialang.org/en/v1/manual/multi-threading/#Starting-Julia-with-multiple-threads).\n",
    "+ Execute `Threads.nthreads()` to check if multiple thread is enabled"
   ]
  }
 ],
 "metadata": {
  "kernelspec": {
   "display_name": "Julia 1.6.0",
   "language": "julia",
   "name": "julia-1.6"
  },
  "language_info": {
   "file_extension": ".jl",
   "mimetype": "application/julia",
   "name": "julia",
   "version": "1.6.0"
  }
 },
 "nbformat": 4,
 "nbformat_minor": 2
}
