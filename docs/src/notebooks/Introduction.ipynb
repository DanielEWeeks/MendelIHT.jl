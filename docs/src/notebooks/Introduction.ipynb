{
 "cells": [
  {
   "cell_type": "markdown",
   "metadata": {},
   "source": [
    "# What is IHT?"
   ]
  },
  {
   "cell_type": "markdown",
   "metadata": {},
   "source": [
    "Iterative hard thresholding (IHT) is a sparse approximation method that performs variable selection and parameter estimation for high dimensional datasets. IHT returns a sparse model with prespecified $k \\in \\mathbb{Z}_+$ (or fewer) non-zero entries. In [MendelIHT.j](), the objective function is:\n",
    "\n",
    "\\begin{align}\n",
    "\\text{maximize } & \\quad L(\\beta)\\\\\n",
    "\\text{subject to } & \\quad ||\\beta||_0 \\le k\n",
    "\\end{align}\n",
    "\n",
    "The objective is solved via:\n",
    "$$\\beta_{n+1} = P_{S_k}(\\beta_n - s_n \\nabla L(\\beta_n)),$$\n",
    "where:\n",
    "+ $\\nabla L(\\beta)$ is the score (gradient) vector of loglikelihood\n",
    "+ $J(\\beta)$ is the expected information (hessian) matrix\n",
    "+ $s = \\frac{||\\nabla L(\\beta)||_2^2}{\\nabla L(\\beta)^tJ(\\beta)\\nabla L(\\beta)}$ is the step size\n",
    "+ $P_{S_k}(v)$ projects vector $v$ to sparsity set $S_k$ by setting all but the top $k$ entries to 0. \n",
    "\n",
    "See [our paper](https://www.biorxiv.org/content/10.1101/697755v2) for more details and computational tricks to do each of these efficiently."
   ]
  },
  {
   "cell_type": "markdown",
   "metadata": {},
   "source": [
    "## Supported GLM models and Link functions\n",
    "\n",
    "MendelIHT borrows distribution and link functions implementationed in [GLM.jl](http://juliastats.github.io/GLM.jl/stable/) and [Distributions.jl](https://juliastats.github.io/Distributions.jl/stable/).\n",
    "\n",
    "| Distribution | Canonical Link | Status |\n",
    "|:---:|:---:|:---:|\n",
    "| Normal | IdentityLink | $\\checkmark$ |\n",
    "| Bernoulli | LogitLink |$\\checkmark$ |\n",
    "| Poisson | LogLink |  $\\checkmark$ |\n",
    "| NegativeBinomial | LogLink |  $\\checkmark$ |\n",
    "| Gamma | InverseLink | experimental |\n",
    "| InverseGaussian | InverseSquareLink | experimental |\n",
    "\n",
    "Examples of these distributions in their default value is visualized in [this post](https://github.com/JuliaStats/GLM.jl/issues/289).\n",
    "\n",
    "### Available link functions\n",
    "\n",
    "    CauchitLink\n",
    "    CloglogLink\n",
    "    IdentityLink\n",
    "    InverseLink\n",
    "    InverseSquareLink\n",
    "    LogitLink\n",
    "    LogLink\n",
    "    ProbitLink\n",
    "    SqrtLink"
   ]
  },
  {
   "cell_type": "code",
   "execution_count": null,
   "metadata": {
    "collapsed": true
   },
   "outputs": [],
   "source": []
  }
 ],
 "metadata": {
  "@webio": {
   "lastCommId": null,
   "lastKernelId": null
  },
  "kernelspec": {
   "display_name": "Julia 1.2.0",
   "language": "julia",
   "name": "julia-1.2"
  },
  "language_info": {
   "file_extension": ".jl",
   "mimetype": "application/julia",
   "name": "julia",
   "version": "1.2.0"
  }
 },
 "nbformat": 4,
 "nbformat_minor": 2
}
