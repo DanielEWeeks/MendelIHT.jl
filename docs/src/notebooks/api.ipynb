{
 "cells": [
  {
   "cell_type": "markdown",
   "metadata": {
    "collapsed": true
   },
   "source": [
    "# API"
   ]
  },
  {
   "cell_type": "markdown",
   "metadata": {},
   "source": [
    "## Wrapper Functions\n",
    "\n",
    "Most users will use the following wrapper functions, which automatically handles everything. The user only has to specify where the PLINK files (and possibly the phenotype/covariate files) are located. \n",
    "\n",
    "```@docs\n",
    "  iht\n",
    "```\n",
    "\n",
    "```@docs\n",
    "  cross_validate\n",
    "```"
   ]
  },
  {
   "cell_type": "markdown",
   "metadata": {},
   "source": [
    "## Core Functions\n",
    "\n",
    "For advanced users, one can also run IHT regression or cross-validation directly. For cross validation, we generally recommend using `cv_iht`. This function cycles through the testing sets sequentially and fits different sparsity models in parallel. For larger problems (e.g. UK Biobank sized), one can instead choose to run `cv_iht_distribute_fold`. This function fits different sparsity models sequentially but initializes all training/testing model in parallel, which consumes more memory (see below). The later strategy allows one to distribute different sparsity parameters to different computers, achieving greater parallel power. \n",
    "\n",
    "```@docs\n",
    "  cv_iht\n",
    "```\n",
    "\n",
    "```@docs\n",
    "  cv_iht_distribute_fold\n",
    "```\n",
    "\n",
    "```@docs\n",
    "  MendelIHT.fit\n",
    "```\n",
    "\n",
    "!!! note \n",
    "\n",
    "    **Do not** delete intermediate files with random file names created by `cv_iht` and `cv_iht_distribute_fold` (windows users will be instructed to manually do so via print statements). These are memory-mapped files necessary for cross validation. For `cv_iht`, **you must have `x` GB of free space and RAM on your hard disk** where `x` is your `.bed` file size. For `cv_iht_distribute_fold`, you must have enough RAM and disk space to fit all `q` training datasets simultaneously, each of which typically requires `(q - 1)/q * x` GB. "
   ]
  },
  {
   "cell_type": "markdown",
   "metadata": {},
   "source": [
    "## Specifying Groups and Weights\n",
    "\n",
    "When you have group and weight information, you input them as optional arguments in `fit` and `cv_iht`. The weight vector is a vector of `Float64`, while the group vector is a vector of `Int`. For instance,\n",
    "\n",
    "```Julia\n",
    "    g = #import group vector\n",
    "    w = #import weight vector\n",
    "    ng = length(unique(g)) # specify number of non-zero groups\n",
    "    result = fit(y, x, z; J=ng, k=10, d=Normal(), l=IdentityLink(), group=g, weight=w)\n",
    "```"
   ]
  },
  {
   "cell_type": "markdown",
   "metadata": {},
   "source": [
    "## Simulation Utilities\n",
    "\n",
    "MendelIHT provides some simulation utilities that help users explore the function and capabilities of iterative hard thresholding. \n",
    "\n",
    "```@docs\n",
    "  simulate_random_snparray\n",
    "```\n",
    "\n",
    "```@docs\n",
    "  simulate_correlated_snparray\n",
    "```\n",
    "\n",
    "!!! note\n",
    "    Simulating a SnpArray with $n$ subjects and $p$ SNPs requires up to $4np$ bits of RAM. Make sure you have enough RAM before simulating very large SnpArrays.\n",
    "\n",
    "```@docs\n",
    "  simulate_random_response\n",
    "```\n",
    "\n",
    "!!! note\n",
    "    For negative binomial and gamma, the link function must be LogLink. For Bernoulli, the probit link seems to work better than logitlink when used in `cv_iht` or `L0_reg`. \n",
    "\n",
    "```@docs\n",
    "  make_bim_fam_files\n",
    "```"
   ]
  },
  {
   "cell_type": "markdown",
   "metadata": {},
   "source": [
    "## Other Useful Functions\n",
    "\n",
    "MendelIHT additionally provides useful utilities that may be of interest to a few advanced users. \n",
    "\n",
    "```@docs\n",
    "  iht_run_many_models\n",
    "```\n",
    "\n",
    "```@docs\n",
    "  maf_weights\n",
    "```"
   ]
  }
 ],
 "metadata": {
  "@webio": {
   "lastCommId": null,
   "lastKernelId": null
  },
  "kernelspec": {
   "display_name": "Julia 1.2.0",
   "language": "julia",
   "name": "julia-1.2"
  },
  "language_info": {
   "file_extension": ".jl",
   "mimetype": "application/julia",
   "name": "julia",
   "version": "1.2.0"
  }
 },
 "nbformat": 4,
 "nbformat_minor": 2
}
