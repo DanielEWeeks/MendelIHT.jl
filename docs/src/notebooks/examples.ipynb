{
 "cells": [
  {
   "cell_type": "markdown",
   "metadata": {
    "collapsed": true
   },
   "source": [
    "# Examples\n",
    "\n",
    "Here we give numerous example analysis of GWAS data with MendelIHT. "
   ]
  },
  {
   "cell_type": "code",
   "execution_count": 1,
   "metadata": {
    "collapsed": false
   },
   "outputs": [
    {
     "name": "stdout",
     "output_type": "stream",
     "text": [
      "Julia Version 1.5.0\n",
      "Commit 96786e22cc (2020-08-01 23:44 UTC)\n",
      "Platform Info:\n",
      "  OS: macOS (x86_64-apple-darwin18.7.0)\n",
      "  CPU: Intel(R) Core(TM) i9-9880H CPU @ 2.30GHz\n",
      "  WORD_SIZE: 64\n",
      "  LIBM: libopenlibm\n",
      "  LLVM: libLLVM-9.0.1 (ORCJIT, skylake)\n"
     ]
    }
   ],
   "source": [
    "# machine information for reproducibility\n",
    "versioninfo()"
   ]
  },
  {
   "cell_type": "code",
   "execution_count": 2,
   "metadata": {
    "collapsed": false
   },
   "outputs": [
    {
     "name": "stderr",
     "output_type": "stream",
     "text": [
      "┌ Info: Precompiling MendelIHT [921c7187-1484-5754-b919-5d3ed9ac03c4]\n",
      "└ @ Base loading.jl:1278\n"
     ]
    }
   ],
   "source": [
    "#first add workers needed for parallel computing. Add only as many CPU cores available\n",
    "using Distributed\n",
    "addprocs(4)\n",
    "\n",
    "#load necessary packages for running all examples below\n",
    "using Revise\n",
    "using MendelIHT\n",
    "using SnpArrays\n",
    "using DataFrames\n",
    "using Distributions\n",
    "using Random\n",
    "using LinearAlgebra\n",
    "using GLM\n",
    "using DelimitedFiles\n",
    "using Statistics\n",
    "using BenchmarkTools\n",
    "using Plots"
   ]
  },
  {
   "cell_type": "markdown",
   "metadata": {},
   "source": [
    "## Example 1: GWAS with PLINK files\n",
    "\n",
    "For PLINK files, users are exposed to a few simple wrapper functions. For demonstration, we use simulated data under the `data` directory, as shown below. This data simulates quantitative (Gaussian) traits using $n=1000$ samples and $p=10,000$ SNPs. There are $8$ causal variants and 2 causal non-genetic covariates (intercept and sex). \n",
    "\n",
    "Start Julia and execute the following:"
   ]
  },
  {
   "cell_type": "code",
   "execution_count": 3,
   "metadata": {
    "collapsed": false
   },
   "outputs": [
    {
     "name": "stdout",
     "output_type": "stream",
     "text": [
      "pwd() = \"/Users/biona001/.julia/dev/MendelIHT/data\"\n"
     ]
    },
    {
     "data": {
      "text/plain": [
       "7-element Array{String,1}:\n",
       " \"covariates.txt\"\n",
       " \"normal.bed\"\n",
       " \"normal.bim\"\n",
       " \"normal.fam\"\n",
       " \"normal_true_beta.txt\"\n",
       " \"phenotypes.txt\"\n",
       " \"simulate.jl\""
      ]
     },
     "execution_count": 3,
     "metadata": {},
     "output_type": "execute_result"
    }
   ],
   "source": [
    "# change directory to where example data is located\n",
    "cd(normpath(MendelIHT.datadir()))\n",
    "\n",
    "# show working directory\n",
    "@show pwd() \n",
    "\n",
    "# show files in current directory\n",
    "readdir()"
   ]
  },
  {
   "cell_type": "markdown",
   "metadata": {},
   "source": [
    "Here `covariates.txt` contains non-genetic covariates, `normal.bed/bim/fam` are the PLINK files storing genetic covariates, `phenotypes.txt` are phenotypes for each sample, `normal_true_beta.txt` is the true statistical model used to generate the phenotypes, and `simulate.jl` is the script used to generate all the files. "
   ]
  },
  {
   "cell_type": "markdown",
   "metadata": {},
   "source": [
    "### Step 1: Run cross validation to determine best model size\n",
    "\n",
    "If phenotypes are stored in the `.fam` file and there are no other covariates (except for the intercept which is automatically included), one can run cross validation as:"
   ]
  },
  {
   "cell_type": "code",
   "execution_count": 4,
   "metadata": {
    "collapsed": false
   },
   "outputs": [
    {
     "name": "stdout",
     "output_type": "stream",
     "text": [
      "\n",
      "\n",
      "Crossvalidation Results:\n",
      "\tk\tMSE\n",
      "\t1\t1424.4209463397158\n",
      "\t2\t877.4127442461745\n",
      "\t3\t698.4610947750848\n",
      "\t4\t573.1504682310128\n",
      "\t5\t476.31578846449054\n",
      "\t6\t409.82530303194505\n",
      "\t7\t359.5017949797407\n",
      "\t8\t325.0831239222133\n",
      "\t9\t331.76688175689503\n",
      "\t10\t335.24897480823256\n",
      "\t11\t342.2539099548487\n",
      "\t12\t349.5580549505318\n",
      "\t13\t352.87834253489024\n",
      "\t14\t351.1138715603811\n",
      "\t15\t351.0544198232595\n",
      "\t16\t350.27000489574243\n",
      "\t17\t352.9226806566691\n",
      "\t18\t357.8264018809541\n",
      "\t19\t365.6812419015122\n",
      "\t20\t372.10901493254187\n"
     ]
    },
    {
     "data": {
      "text/plain": [
       "8"
      ]
     },
     "execution_count": 4,
     "metadata": {},
     "output_type": "execute_result"
    }
   ],
   "source": [
    "# test k = 1, 2, ..., 20\n",
    "mses = cross_validate(\"normal\", 1:20)\n",
    "argmin(mses)\n",
    "\n",
    "# Alternative syntax\n",
    "# mses = cross_validate(\"normal\", [1, 5, 10, 15, 20]) # test k = 1, 5, 10, 15, 20\n",
    "# mses = cross_validate(\"normal\", \"covariates.txt\", 1:20) # include additional covariates in separate file\n",
    "# mses = cross_validate(\"phenotypes.txt\", \"normal\", \"covariates.txt\", 1:20) # when phenotypes are stored separately"
   ]
  },
  {
   "cell_type": "markdown",
   "metadata": {},
   "source": [
    "### Step 2: Run IHT on best k\n",
    "\n",
    "According to cross validation, `k = 8` achieves the minimum MSE. Thus we run IHT on the full dataset."
   ]
  },
  {
   "cell_type": "code",
   "execution_count": 5,
   "metadata": {
    "collapsed": false
   },
   "outputs": [
    {
     "name": "stdout",
     "output_type": "stream",
     "text": [
      "****                   MendelIHT Version 1.2.0                  ****\n",
      "****     Benjamin Chu, Kevin Keys, Chris German, Hua Zhou       ****\n",
      "****   Jin Zhou, Eric Sobel, Janet Sinsheimer, Kenneth Lange    ****\n",
      "****                                                            ****\n",
      "****                 Please cite our paper!                     ****\n",
      "****         https://doi.org/10.1093/gigascience/giaa044        ****\n",
      "\n",
      "Running sparse linear regression\n",
      "Link functin = IdentityLink()\n",
      "Sparsity parameter (k) = 8\n",
      "Prior weight scaling = off\n",
      "Doubly sparse projection = off\n",
      "Debias = off\n",
      "Converging when tol < 0.0001\n",
      "\n",
      "Iteration 1: tol = 0.7845860052299409\n",
      "Iteration 2: tol = 0.02358096868235321\n",
      "Iteration 3: tol = 0.001550076526387469\n",
      "Iteration 4: tol = 0.00010521336604120053\n",
      "Iteration 5: tol = 8.430366413828275e-6\n"
     ]
    },
    {
     "data": {
      "text/plain": [
       "\n",
       "IHT estimated 7 nonzero SNP predictors and 1 non-genetic predictors.\n",
       "\n",
       "Compute time (sec):     0.0751640796661377\n",
       "Final loglikelihood:    -1627.2792448761559\n",
       "Iterations:             5\n",
       "\n",
       "Selected genetic predictors:\n",
       "\u001b[1m7×2 DataFrame\u001b[0m\n",
       "\u001b[1m Row \u001b[0m│\u001b[1m Position \u001b[0m\u001b[1m Estimated_β \u001b[0m\n",
       "\u001b[1m     \u001b[0m│\u001b[90m Int64    \u001b[0m\u001b[90m Float64     \u001b[0m\n",
       "─────┼───────────────────────\n",
       "   1 │     3137     0.411838\n",
       "   2 │     4246     0.572452\n",
       "   3 │     4717     0.909215\n",
       "   4 │     6290    -0.693302\n",
       "   5 │     7755    -0.54482\n",
       "   6 │     8375    -0.788884\n",
       "   7 │     9415    -2.15858\n",
       "\n",
       "Selected nongenetic predictors:\n",
       "\u001b[1m1×2 DataFrame\u001b[0m\n",
       "\u001b[1m Row \u001b[0m│\u001b[1m Position \u001b[0m\u001b[1m Estimated_β \u001b[0m\n",
       "\u001b[1m     \u001b[0m│\u001b[90m Int64    \u001b[0m\u001b[90m Float64     \u001b[0m\n",
       "─────┼───────────────────────\n",
       "   1 │        1      1.65223"
      ]
     },
     "execution_count": 5,
     "metadata": {},
     "output_type": "execute_result"
    }
   ],
   "source": [
    "result = iht(\"normal\", 8)"
   ]
  },
  {
   "cell_type": "markdown",
   "metadata": {},
   "source": [
    "### Step 3: Examine results\n",
    "\n",
    "Here IHT picked 7 SNPs and the intercept as the 8 most significant predictor. The SNP position is the order in which the SNP appeared in the PLINK file. To extract more information (for instance to extract `rs` IDs), we can do"
   ]
  },
  {
   "cell_type": "code",
   "execution_count": 6,
   "metadata": {
    "collapsed": false
   },
   "outputs": [
    {
     "data": {
      "text/html": [
       "<table class=\"data-frame\"><thead><tr><th></th><th>chromosome</th><th>snpid</th><th>genetic_distance</th><th>position</th><th>allele1</th><th>allele2</th></tr><tr><th></th><th>String</th><th>String</th><th>Float64</th><th>Int64</th><th>String</th><th>String</th></tr></thead><tbody><p>7 rows × 6 columns</p><tr><th>1</th><td>1</td><td>snp3137</td><td>0.0</td><td>1</td><td>1</td><td>2</td></tr><tr><th>2</th><td>1</td><td>snp4246</td><td>0.0</td><td>1</td><td>1</td><td>2</td></tr><tr><th>3</th><td>1</td><td>snp4717</td><td>0.0</td><td>1</td><td>1</td><td>2</td></tr><tr><th>4</th><td>1</td><td>snp6290</td><td>0.0</td><td>1</td><td>1</td><td>2</td></tr><tr><th>5</th><td>1</td><td>snp7755</td><td>0.0</td><td>1</td><td>1</td><td>2</td></tr><tr><th>6</th><td>1</td><td>snp8375</td><td>0.0</td><td>1</td><td>1</td><td>2</td></tr><tr><th>7</th><td>1</td><td>snp9415</td><td>0.0</td><td>1</td><td>1</td><td>2</td></tr></tbody></table>"
      ],
      "text/latex": [
       "\\begin{tabular}{r|cccccc}\n",
       "\t& chromosome & snpid & genetic\\_distance & position & allele1 & allele2\\\\\n",
       "\t\\hline\n",
       "\t& String & String & Float64 & Int64 & String & String\\\\\n",
       "\t\\hline\n",
       "\t1 & 1 & snp3137 & 0.0 & 1 & 1 & 2 \\\\\n",
       "\t2 & 1 & snp4246 & 0.0 & 1 & 1 & 2 \\\\\n",
       "\t3 & 1 & snp4717 & 0.0 & 1 & 1 & 2 \\\\\n",
       "\t4 & 1 & snp6290 & 0.0 & 1 & 1 & 2 \\\\\n",
       "\t5 & 1 & snp7755 & 0.0 & 1 & 1 & 2 \\\\\n",
       "\t6 & 1 & snp8375 & 0.0 & 1 & 1 & 2 \\\\\n",
       "\t7 & 1 & snp9415 & 0.0 & 1 & 1 & 2 \\\\\n",
       "\\end{tabular}\n"
      ],
      "text/plain": [
       "\u001b[1m7×6 DataFrame\u001b[0m\n",
       "\u001b[1m Row \u001b[0m│\u001b[1m chromosome \u001b[0m\u001b[1m snpid   \u001b[0m\u001b[1m genetic_distance \u001b[0m\u001b[1m position \u001b[0m\u001b[1m allele1 \u001b[0m\u001b[1m allele2 \u001b[0m\n",
       "\u001b[1m     \u001b[0m│\u001b[90m String     \u001b[0m\u001b[90m String  \u001b[0m\u001b[90m Float64          \u001b[0m\u001b[90m Int64    \u001b[0m\u001b[90m String  \u001b[0m\u001b[90m String  \u001b[0m\n",
       "─────┼───────────────────────────────────────────────────────────────────\n",
       "   1 │ 1           snp3137               0.0         1  1        2\n",
       "   2 │ 1           snp4246               0.0         1  1        2\n",
       "   3 │ 1           snp4717               0.0         1  1        2\n",
       "   4 │ 1           snp6290               0.0         1  1        2\n",
       "   5 │ 1           snp7755               0.0         1  1        2\n",
       "   6 │ 1           snp8375               0.0         1  1        2\n",
       "   7 │ 1           snp9415               0.0         1  1        2"
      ]
     },
     "execution_count": 6,
     "metadata": {},
     "output_type": "execute_result"
    }
   ],
   "source": [
    "snpdata = SnpData(\"normal\")                   # import PLINK information\n",
    "selected_snps = findall(!iszero, result.beta) # indices of SNPs selected by IHT\n",
    "snpdata.snp_info[selected_snps, :]            # see which SNPs are selected"
   ]
  },
  {
   "cell_type": "markdown",
   "metadata": {},
   "source": [
    "The table above displays the SNP information for the selected SNPs. Since data is simulated, the fields `genetic_distance`, `position`, `allele1`, `allele2` are arbitrary and `snpid` are fake. "
   ]
  },
  {
   "cell_type": "markdown",
   "metadata": {},
   "source": [
    "## Example 2: How to simulate data\n",
    "\n",
    "Here we demonstrate how to use `MendelIHT.jl` and [SnpArrays.jl](https://github.com/OpenMendel/SnpArrays.jl) to simulate data, allowing you to design your own genetic studies. Note all linear algebra routines involving PLINK files are handled by `SnpArrays.jl`. \n",
    "\n",
    "First we simulate an example PLINK trio (`.bim`, `.bed`, `.fam`) and non-genetic covariates, then we illustrate how to import them. For simplicity, let us simulated indepent SNPs with binary phenotypes. Explicitly, our model is:\n",
    "\n",
    "$$y_i \\sim \\rm Bernoulli(\\mathbf{x}_i^T\\boldsymbol\\beta)$$\n",
    "$$x_{ij} \\sim \\rm Binomial(2, \\rho_j)$$\n",
    "$$\\rho_j \\sim \\rm Uniform(0, 0.5)$$\n",
    "$$\\beta_i \\sim \\rm N(0, 1)$$\n",
    "$$\\beta_{\\rm intercept} = 1$$\n",
    "$$\\beta_{\\rm sex} = 1.5$$"
   ]
  },
  {
   "cell_type": "code",
   "execution_count": 32,
   "metadata": {
    "collapsed": false
   },
   "outputs": [],
   "source": [
    "n = 1000            # number of samples\n",
    "p = 10000           # number of SNPs\n",
    "k = 10              # 8 causal SNPs and 2 causal covariates (intercept + sex)\n",
    "d = Bernoulli       # Binary (continuous) phenotypes\n",
    "l = LogitLink()     # canonical link function\n",
    "\n",
    "# set random seed\n",
    "Random.seed!(1111)\n",
    "\n",
    "# simulate `sim.bed` file with no missing data\n",
    "x = simulate_random_snparray(\"sim.bed\", n, p)\n",
    "xla = SnpLinAlg{Float64}(x, model=ADDITIVE_MODEL, center=true, scale=true, impute=true) \n",
    "\n",
    "# nongenetic covariate: first column is the intercept, second column is sex: 0 = male 1 = female\n",
    "z = ones(n, 2) \n",
    "z[:, 2] .= rand(0:1, n)\n",
    "standardize!(@view(z[:, 2:end])) \n",
    "\n",
    "# randomly set genetic predictors where causal βᵢ ~ N(0, 1)\n",
    "true_b = zeros(p) \n",
    "true_b[1:k-2] = randn(k-2)\n",
    "shuffle!(true_b)\n",
    "\n",
    "# find correct position of genetic predictors\n",
    "correct_position = findall(!iszero, true_b)\n",
    "\n",
    "# define effect size of non-genetic predictors: intercept & sex\n",
    "true_c = [1.0; 1.5] \n",
    "\n",
    "# simulate phenotype using genetic and nongenetic predictors\n",
    "prob = GLM.linkinv.(l, xla * true_b .+ z * true_c) # note genotype-vector multiplication is done with `xla`\n",
    "y = [rand(d(i)) for i in prob]\n",
    "y = Float64.(y); # turn y into floating point numbers\n",
    "\n",
    "# create `sim.bim` and `sim.bam` files using phenotype\n",
    "make_bim_fam_files(x, y, \"sim\")\n",
    "\n",
    "#save covariates and phenotypes (without header)\n",
    "writedlm(\"sim.covariates.txt\", z, ',')\n",
    "writedlm(\"sim.phenotypes.txt\", y)"
   ]
  },
  {
   "cell_type": "markdown",
   "metadata": {},
   "source": [
    "!!! note\n",
    "\n",
    "    Please **standardize** your non-genetic covariates. If you use our `iht()` or `cross_validation()` functions, standardization is automatic. For genotype matrix, `SnpLinAlg` efficiently achieves this standardization. For non-genetic covariates, please use the built-in function `standardize!`. "
   ]
  },
  {
   "cell_type": "markdown",
   "metadata": {},
   "source": [
    "## Example 3: Logistic/Poisson/Negative-binomial GWAS\n",
    "\n",
    "In Example 2, we simulated binary phenotypes, genotypes, non-genetic covariates, and we know true $k = 10$. Let's try running a logistic regression on this data. This is specified using keyword arguments. "
   ]
  },
  {
   "cell_type": "code",
   "execution_count": 33,
   "metadata": {
    "collapsed": false
   },
   "outputs": [
    {
     "name": "stdout",
     "output_type": "stream",
     "text": [
      "****                   MendelIHT Version 1.2.0                  ****\n",
      "****     Benjamin Chu, Kevin Keys, Chris German, Hua Zhou       ****\n",
      "****   Jin Zhou, Eric Sobel, Janet Sinsheimer, Kenneth Lange    ****\n",
      "****                                                            ****\n",
      "****                 Please cite our paper!                     ****\n",
      "****         https://doi.org/10.1093/gigascience/giaa044        ****\n",
      "\n",
      "Running sparse logistic regression\n",
      "Link functin = LogitLink()\n",
      "Sparsity parameter (k) = 10\n",
      "Prior weight scaling = off\n",
      "Doubly sparse projection = off\n",
      "Debias = off\n",
      "Converging when tol < 0.0001\n",
      "\n",
      "Iteration 1: tol = 0.5882274462947447\n",
      "Iteration 2: tol = 0.2825138668458021\n",
      "Iteration 3: tol = 0.19289827584644756\n",
      "Iteration 4: tol = 0.14269962283934917\n",
      "Iteration 5: tol = 0.022831477149267632\n",
      "Iteration 6: tol = 0.019792429262653115\n",
      "Iteration 7: tol = 0.019845664939460095\n",
      "Iteration 8: tol = 0.00765066824120313\n",
      "Iteration 9: tol = 0.006913691748350025\n",
      "Iteration 10: tol = 0.006159757548662376\n",
      "Iteration 11: tol = 0.0054730856932040705\n",
      "Iteration 12: tol = 0.004854846133978282\n",
      "Iteration 13: tol = 0.004300010671833966\n",
      "Iteration 14: tol = 0.0038033387186573\n",
      "Iteration 15: tol = 0.003359795402130408\n",
      "Iteration 16: tol = 0.0029645876127234955\n",
      "Iteration 17: tol = 0.0026131815201996976\n",
      "Iteration 18: tol = 0.002301318021364227\n",
      "Iteration 19: tol = 0.002025024729429744\n",
      "Iteration 20: tol = 0.001780622915677454\n",
      "Iteration 21: tol = 0.0015647287330161268\n",
      "Iteration 22: tol = 0.0013742489121423226\n",
      "Iteration 23: tol = 0.0012063716814260336\n",
      "Iteration 24: tol = 0.0010585539268262742\n",
      "Iteration 25: tol = 0.0009285056582307361\n",
      "Iteration 26: tol = 0.0008141727680124563\n",
      "Iteration 27: tol = 0.0007137189219975595\n",
      "Iteration 28: tol = 0.0006255072563945025\n",
      "Iteration 29: tol = 0.0005480823925167159\n",
      "Iteration 30: tol = 0.00048015313770763916\n",
      "Iteration 31: tol = 0.0004205761209236388\n",
      "Iteration 32: tol = 0.00036834051544793833\n",
      "Iteration 33: tol = 0.00032255392716466075\n",
      "Iteration 34: tol = 0.00028242947163362354\n",
      "Iteration 35: tol = 0.0002472740235281775\n",
      "Iteration 36: tol = 0.00021647759466681234\n",
      "Iteration 37: tol = 0.00018950377910949886\n",
      "Iteration 38: tol = 0.00016588119325870545\n",
      "Iteration 39: tol = 0.00014519583372057257\n",
      "Iteration 40: tol = 0.0001270842743388486\n",
      "Iteration 41: tol = 0.00011122762514495094\n",
      "Iteration 42: tol = 9.734617909701182e-5\n"
     ]
    },
    {
     "data": {
      "text/plain": [
       "\n",
       "IHT estimated 8 nonzero SNP predictors and 2 non-genetic predictors.\n",
       "\n",
       "Compute time (sec):     0.22192096710205078\n",
       "Final loglikelihood:    -331.6518739156732\n",
       "Iterations:             42\n",
       "\n",
       "Selected genetic predictors:\n",
       "\u001b[1m8×2 DataFrame\u001b[0m\n",
       "\u001b[1m Row \u001b[0m│\u001b[1m Position \u001b[0m\u001b[1m Estimated_β \u001b[0m\n",
       "\u001b[1m     \u001b[0m│\u001b[90m Int64    \u001b[0m\u001b[90m Float64     \u001b[0m\n",
       "─────┼───────────────────────\n",
       "   1 │     3137     0.503252\n",
       "   2 │     4246     0.590809\n",
       "   3 │     4248    -0.37987\n",
       "   4 │     4717     1.04006\n",
       "   5 │     6290    -0.741734\n",
       "   6 │     7755    -0.437585\n",
       "   7 │     8375    -0.942293\n",
       "   8 │     9415    -2.11206\n",
       "\n",
       "Selected nongenetic predictors:\n",
       "\u001b[1m2×2 DataFrame\u001b[0m\n",
       "\u001b[1m Row \u001b[0m│\u001b[1m Position \u001b[0m\u001b[1m Estimated_β \u001b[0m\n",
       "\u001b[1m     \u001b[0m│\u001b[90m Int64    \u001b[0m\u001b[90m Float64     \u001b[0m\n",
       "─────┼───────────────────────\n",
       "   1 │        1      1.03892\n",
       "   2 │        2      1.5844"
      ]
     },
     "execution_count": 33,
     "metadata": {},
     "output_type": "execute_result"
    }
   ],
   "source": [
    "result = iht(\"sim\", \"sim.covariates.txt\", 10, d=Bernoulli(), l=LogitLink())\n",
    "\n",
    "# other responses\n",
    "# result = iht(\"sim\", 10, d=Bernoulli(), l=ProbitLink())     # Logistic regression using ProbitLink\n",
    "# result = iht(\"sim\", 10, d=Poisson(), l=LogLink())          # Poisson regression using canonical link\n",
    "# result = iht(\"sim\", 10, d=NegativeBinomial(), l=LogLink()) # Negative Binomial regression using canonical link"
   ]
  },
  {
   "cell_type": "markdown",
   "metadata": {},
   "source": [
    "Since data is simulated, we can compare IHT's estimated effect size with the truth. "
   ]
  },
  {
   "cell_type": "code",
   "execution_count": 26,
   "metadata": {
    "collapsed": false
   },
   "outputs": [
    {
     "data": {
      "text/plain": [
       "8×2 Array{Float64,2}:\n",
       "  0.469278    0.406926\n",
       "  0.554408    0.493509\n",
       "  0.923213    0.76469\n",
       "  0.0369732   0.0\n",
       " -0.625634   -0.550352\n",
       " -0.526553   -0.311351\n",
       " -0.815561   -0.677824\n",
       " -2.18271    -1.56627"
      ]
     },
     "execution_count": 26,
     "metadata": {},
     "output_type": "execute_result"
    }
   ],
   "source": [
    "[true_b[correct_position] result.beta[correct_position]]"
   ]
  },
  {
   "cell_type": "markdown",
   "metadata": {},
   "source": [
    "IHT found 7/8 genetic predictors, and estimates are reasonably close to truth. IHT missed one SNP with very small effect size ($\\beta = 0.0369$). The estimated non-genetic effect size is also very close to the truth (1.0 and 1.5). "
   ]
  },
  {
   "cell_type": "code",
   "execution_count": 29,
   "metadata": {
    "collapsed": true
   },
   "outputs": [],
   "source": [
    "# remove simulated data once they are no longer needed\n",
    "rm(\"sim.bed\", force=true)\n",
    "rm(\"sim.bim\", force=true)\n",
    "rm(\"sim.fam\", force=true)\n",
    "rm(\"sim.covariates.txt\", force=true)\n",
    "rm(\"sim.phenotypes.txt\", force=true)"
   ]
  },
  {
   "cell_type": "markdown",
   "metadata": {},
   "source": [
    "## Example 4: Running IHT on general matrices\n",
    "\n",
    "To run IHT on genotypes in VCF files, or other general data, one must call `fit` and `cv_iht` directly. These functions are designed to work on `AbstractArray{T, 2}` type where `T` is a `Float64` or `Float32`. Thus, one must first import the data, and then call `fit` and `cv_iht` on it. Note the vector of 1s (intercept) shouldn't be included in the design matrix itself, as it will be automatically included."
   ]
  },
  {
   "cell_type": "markdown",
   "metadata": {},
   "source": [
    "!!! tip\n",
    "\n",
    "    Check out [VCFTools.jl](https://github.com/OpenMendel/VCFTools.jl) to learn how to import VCF data."
   ]
  },
  {
   "cell_type": "markdown",
   "metadata": {},
   "source": [
    "First we simulate some count response using the model:\n",
    "\n",
    "$$y_i \\sim \\rm Poisson(\\mathbf{x}_i^T \\boldsymbol\\beta)$$\n",
    "$$x_{ij} \\sim \\rm Normal(0, 1)$$\n",
    "$$\\beta_i \\sim \\rm N(0, 0.3)$$"
   ]
  },
  {
   "cell_type": "code",
   "execution_count": 55,
   "metadata": {
    "collapsed": false
   },
   "outputs": [],
   "source": [
    "n = 1000             # number of samples\n",
    "p = 10000            # number of SNPs\n",
    "k = 10               # 9 causal predictors + intercept\n",
    "d = Poisson          # Response follows Poisson distribution (count data)\n",
    "l = LogLink()        # canonical link\n",
    "\n",
    "# set random seed for reproducibility\n",
    "Random.seed!(2020)\n",
    "\n",
    "# simulate design matrix\n",
    "x = randn(n, p)\n",
    "\n",
    "# simulate response, true model b, and the correct non-0 positions of b\n",
    "true_b = zeros(p)\n",
    "true_b[1:k] .= rand(Normal(0, 0.5), k)\n",
    "shuffle!(true_b)\n",
    "intercept = 1.0\n",
    "correct_position = findall(!iszero, true_b)\n",
    "prob = GLM.linkinv.(l, intercept .+ x * true_b)\n",
    "clamp!(prob, -20, 20) # prevents overflow\n",
    "y = [rand(d(i)) for i in prob]\n",
    "y = Float64.(y); # convert phenotypes to double precision"
   ]
  },
  {
   "cell_type": "markdown",
   "metadata": {},
   "source": [
    "Now we have the response $y$, design matrix $x$. Let's run IHT and compare with truth."
   ]
  },
  {
   "cell_type": "code",
   "execution_count": 61,
   "metadata": {
    "collapsed": false
   },
   "outputs": [
    {
     "name": "stdout",
     "output_type": "stream",
     "text": [
      "\n",
      "\n",
      "Crossvalidation Results:\n",
      "\tk\tMSE\n",
      "\t1\t1486.5413848514968\n",
      "\t2\t705.22250019531\n",
      "\t3\t541.7969789881145\n",
      "\t4\t465.1963943709811\n",
      "\t5\t442.6796495698108\n",
      "\t6\t458.13373854130487\n",
      "\t7\t460.9838544350322\n",
      "\t8\t484.25939604486814\n",
      "\t9\t474.21817442883844\n",
      "\t10\t505.0327194683676\n",
      "\t11\t499.2379415031341\n",
      "\t12\t504.0934101269238\n",
      "\t13\t487.9485902855123\n",
      "\t14\t548.1525696940757\n",
      "\t15\t507.86874709147395\n",
      "\t16\t530.6537481762397\n",
      "\t17\t511.2047414611475\n",
      "\t18\t583.6122865525828\n",
      "\t19\t548.3901670703196\n",
      "\t20\t569.6848731697289\n"
     ]
    }
   ],
   "source": [
    "# first run cross validation \n",
    "mses = cv_iht(y, x, path=1:20, d=Poisson(), l=LogLink());"
   ]
  },
  {
   "cell_type": "code",
   "execution_count": 64,
   "metadata": {
    "collapsed": false
   },
   "outputs": [
    {
     "name": "stdout",
     "output_type": "stream",
     "text": [
      "****                   MendelIHT Version 1.2.0                  ****\n",
      "****     Benjamin Chu, Kevin Keys, Chris German, Hua Zhou       ****\n",
      "****   Jin Zhou, Eric Sobel, Janet Sinsheimer, Kenneth Lange    ****\n",
      "****                                                            ****\n",
      "****                 Please cite our paper!                     ****\n",
      "****         https://doi.org/10.1093/gigascience/giaa044        ****\n",
      "\n",
      "Running sparse Poisson regression\n",
      "Link functin = LogLink()\n",
      "Sparsity parameter (k) = 5\n",
      "Prior weight scaling = off\n",
      "Doubly sparse projection = off\n",
      "Debias = off\n",
      "Converging when tol < 0.0001\n",
      "\n",
      "Iteration 1: tol = 0.2928574304111577\n",
      "Iteration 2: tol = 0.05230999409875649\n",
      "Iteration 3: tol = 0.07104164424891493\n",
      "Iteration 4: tol = 0.026208176849564724\n",
      "Iteration 5: tol = 0.02023001613423483\n",
      "Iteration 6: tol = 0.011080308351803689\n",
      "Iteration 7: tol = 0.00930914236578197\n",
      "Iteration 8: tol = 0.00556416943618412\n",
      "Iteration 9: tol = 0.004609772037770406\n",
      "Iteration 10: tol = 0.002861799512474864\n",
      "Iteration 11: tol = 0.002340881298705853\n",
      "Iteration 12: tol = 0.001479832987797599\n",
      "Iteration 13: tol = 0.0012011066579049358\n",
      "Iteration 14: tol = 0.0007661746047595665\n",
      "Iteration 15: tol = 0.0006191995770663082\n",
      "Iteration 16: tol = 0.00039678836835178535\n",
      "Iteration 17: tol = 0.00031993814923964465\n",
      "Iteration 18: tol = 0.00020549845888243352\n",
      "Iteration 19: tol = 0.00016549800033345948\n",
      "Iteration 20: tol = 0.00010642830220001078\n",
      "Iteration 21: tol = 8.565816720868677e-5\n"
     ]
    },
    {
     "data": {
      "text/plain": [
       "\n",
       "IHT estimated 4 nonzero SNP predictors and 1 non-genetic predictors.\n",
       "\n",
       "Compute time (sec):     0.08859395980834961\n",
       "Final loglikelihood:    -2335.176167840737\n",
       "Iterations:             21\n",
       "\n",
       "Selected genetic predictors:\n",
       "\u001b[1m4×2 DataFrame\u001b[0m\n",
       "\u001b[1m Row \u001b[0m│\u001b[1m Position \u001b[0m\u001b[1m Estimated_β \u001b[0m\n",
       "\u001b[1m     \u001b[0m│\u001b[90m Int64    \u001b[0m\u001b[90m Float64     \u001b[0m\n",
       "─────┼───────────────────────\n",
       "   1 │       83    -0.809284\n",
       "   2 │      989     0.378376\n",
       "   3 │     4294    -0.274544\n",
       "   4 │     4459     0.169417\n",
       "\n",
       "Selected nongenetic predictors:\n",
       "\u001b[1m1×2 DataFrame\u001b[0m\n",
       "\u001b[1m Row \u001b[0m│\u001b[1m Position \u001b[0m\u001b[1m Estimated_β \u001b[0m\n",
       "\u001b[1m     \u001b[0m│\u001b[90m Int64    \u001b[0m\u001b[90m Float64     \u001b[0m\n",
       "─────┼───────────────────────\n",
       "   1 │        1      1.26918"
      ]
     },
     "execution_count": 64,
     "metadata": {},
     "output_type": "execute_result"
    }
   ],
   "source": [
    "# run IHT on best k (achieved at k = 5)\n",
    "result = fit(y, x, k=argmin(mses), d=Poisson(), l=LogLink())"
   ]
  },
  {
   "cell_type": "code",
   "execution_count": 65,
   "metadata": {
    "collapsed": false
   },
   "outputs": [
    {
     "data": {
      "text/plain": [
       "10×2 Array{Float64,2}:\n",
       " -1.303      -0.809284\n",
       "  0.585809    0.378376\n",
       " -0.0700563   0.0\n",
       " -0.0901341   0.0\n",
       " -0.0620201   0.0\n",
       " -0.441452   -0.274544\n",
       "  0.271429    0.169417\n",
       " -0.164888    0.0\n",
       " -0.0790484   0.0\n",
       "  0.0829054   0.0"
      ]
     },
     "execution_count": 65,
     "metadata": {},
     "output_type": "execute_result"
    }
   ],
   "source": [
    "# compare IHT result with truth\n",
    "[true_b[correct_position] result.beta[correct_position]]"
   ]
  },
  {
   "cell_type": "markdown",
   "metadata": {},
   "source": [
    "In this example, we ran IHT on count response with a general `Array{T, 2}` design matrix. Since many of the true $\\beta$ are small, we were only able to find 5 true signals (4 predictors + intercept). "
   ]
  },
  {
   "cell_type": "markdown",
   "metadata": {},
   "source": [
    "## Example 5: Group IHT \n",
    "\n",
    "In this example, we show how to include group information to perform doubly sparse projections. Here the final model would contain at most $J = 5$ groups where each group contains limited number of (prespecified) SNPs. For simplicity, we assume the sparsity parameter $k$ is known. \n",
    "\n",
    "### Data simulation\n",
    "To illustrate the effect of group information and prior weights, we generated correlated genotype matrix according to the procedure outlined in [our paper](https://www.biorxiv.org/content/biorxiv/early/2019/11/19/697755.full.pdf). In this example, each SNP belongs to 1 of 500 disjoint groups containing 20 SNPs each; $j = 5$ distinct groups are each assigned $1,2,...,5$ causal SNPs with effect sizes randomly chosen from $\\{−0.2,0.2\\}$. In all there 15 causal SNPs.  For grouped-IHT, we assume perfect group information. That is, the selected groups containing 1∼5 causative SNPs are assigned maximum within-group sparsity $\\lambda_g = 1,2,...,5$. The remaining groups are assigned $\\lambda_g = 1$ (i.e. only 1 active predictor are allowed)."
   ]
  },
  {
   "cell_type": "code",
   "execution_count": 21,
   "metadata": {
    "collapsed": false
   },
   "outputs": [],
   "source": [
    "# define problem size\n",
    "d = NegativeBinomial\n",
    "l = LogLink()\n",
    "n = 1000\n",
    "p = 10000\n",
    "block_size = 20                  #simulation parameter\n",
    "num_blocks = Int(p / block_size) #simulation parameter\n",
    "\n",
    "# set seed\n",
    "Random.seed!(2019)\n",
    "\n",
    "# assign group membership\n",
    "membership = collect(1:num_blocks)\n",
    "g = zeros(Int64, p + 1)\n",
    "for i in 1:length(membership)\n",
    "    for j in 1:block_size\n",
    "        cur_row = block_size * (i - 1) + j\n",
    "        g[block_size*(i - 1) + j] = membership[i]\n",
    "    end\n",
    "end\n",
    "g[end] = membership[end]\n",
    "\n",
    "#simulate correlated snparray\n",
    "x = simulate_correlated_snparray(n, p, \"tmp.bed\")\n",
    "z = ones(n, 1) # the intercept\n",
    "x_float = convert(Matrix{Float64}, x, model=ADDITIVE_MODEL, center=true, scale=true)\n",
    "\n",
    "#simulate true model, where 5 groups each with 1~5 snps contribute\n",
    "true_b = zeros(p)\n",
    "true_groups = randperm(num_blocks)[1:5]\n",
    "sort!(true_groups)\n",
    "within_group = [randperm(block_size)[1:1], randperm(block_size)[1:2], \n",
    "                randperm(block_size)[1:3], randperm(block_size)[1:4], \n",
    "                randperm(block_size)[1:5]]\n",
    "correct_position = zeros(Int64, 15)\n",
    "for i in 1:5\n",
    "    cur_group = block_size * (true_groups[i] - 1)\n",
    "    cur_group_snps = cur_group .+ within_group[i]\n",
    "    start, last = Int(i*(i-1)/2 + 1), Int(i*(i+1)/2)\n",
    "    correct_position[start:last] .= cur_group_snps\n",
    "end\n",
    "for i in 1:15\n",
    "    true_b[correct_position[i]] = rand(-1:2:1) * 0.2\n",
    "end\n",
    "sort!(correct_position)\n",
    "\n",
    "# simulate phenotype\n",
    "r = 10 #nuisance parameter\n",
    "μ = GLM.linkinv.(l, x_float * true_b)\n",
    "clamp!(μ, -20, 20)\n",
    "prob = 1 ./ (1 .+ μ ./ r)\n",
    "y = [rand(d(r, i)) for i in prob] #number of failures before r success occurs\n",
    "y = Float64.(y);"
   ]
  },
  {
   "cell_type": "code",
   "execution_count": 22,
   "metadata": {
    "collapsed": false
   },
   "outputs": [
    {
     "data": {
      "text/plain": [
       "\n",
       "IHT estimated 15 nonzero SNP predictors and 0 non-genetic predictors.\n",
       "\n",
       "Compute time (sec):     0.11840415000915527\n",
       "Final loglikelihood:    -1441.522293255591\n",
       "Iterations:             27\n",
       "\n",
       "Selected genetic predictors:\n",
       "15×2 DataFrame\n",
       "│ Row │ Position │ Estimated_β │\n",
       "│     │ \u001b[90mInt64\u001b[39m    │ \u001b[90mFloat64\u001b[39m     │\n",
       "├─────┼──────────┼─────────────┤\n",
       "│ 1   │ 3464     │ -0.234958   │\n",
       "│ 2   │ 4383     │ -0.135693   │\n",
       "│ 3   │ 4927     │ 0.158171    │\n",
       "│ 4   │ 4938     │ -0.222613   │\n",
       "│ 5   │ 5001     │ -0.193739   │\n",
       "│ 6   │ 5011     │ -0.162718   │\n",
       "│ 7   │ 5018     │ -0.190532   │\n",
       "│ 8   │ 5090     │ 0.226509    │\n",
       "│ 9   │ 5092     │ -0.17756    │\n",
       "│ 10  │ 5100     │ -0.140337   │\n",
       "│ 11  │ 7004     │ 0.151748    │\n",
       "│ 12  │ 7011     │ 0.206449    │\n",
       "│ 13  │ 7015     │ -0.284706   │\n",
       "│ 14  │ 7016     │ 0.218126    │\n",
       "│ 15  │ 9902     │ 0.119059    │\n",
       "\n",
       "Selected nongenetic predictors:\n",
       "0×2 DataFrame\n"
      ]
     },
     "execution_count": 22,
     "metadata": {},
     "output_type": "execute_result"
    }
   ],
   "source": [
    "#run IHT without groups\n",
    "k = 15\n",
    "ungrouped = L0_reg(x_float, z, y, 1, k, d(), l, verbose=false)"
   ]
  },
  {
   "cell_type": "code",
   "execution_count": 23,
   "metadata": {
    "collapsed": false
   },
   "outputs": [
    {
     "data": {
      "text/plain": [
       "\n",
       "IHT estimated 15 nonzero SNP predictors and 0 non-genetic predictors.\n",
       "\n",
       "Compute time (sec):     0.30719614028930664\n",
       "Final loglikelihood:    -1446.3808810786898\n",
       "Iterations:             16\n",
       "\n",
       "Selected genetic predictors:\n",
       "15×2 DataFrame\n",
       "│ Row │ Position │ Estimated_β │\n",
       "│     │ \u001b[90mInt64\u001b[39m    │ \u001b[90mFloat64\u001b[39m     │\n",
       "├─────┼──────────┼─────────────┤\n",
       "│ 1   │ 3464     │ -0.245853   │\n",
       "│ 2   │ 4927     │ 0.160904    │\n",
       "│ 3   │ 4938     │ -0.213439   │\n",
       "│ 4   │ 5001     │ -0.19624    │\n",
       "│ 5   │ 5011     │ -0.149913   │\n",
       "│ 6   │ 5018     │ -0.181966   │\n",
       "│ 7   │ 5086     │ -0.0560478  │\n",
       "│ 8   │ 5090     │ 0.21164     │\n",
       "│ 9   │ 5092     │ -0.141968   │\n",
       "│ 10  │ 5100     │ -0.157655   │\n",
       "│ 11  │ 7004     │ 0.190224    │\n",
       "│ 12  │ 7011     │ 0.21294     │\n",
       "│ 13  │ 7015     │ -0.256058   │\n",
       "│ 14  │ 7016     │ 0.19746     │\n",
       "│ 15  │ 7020     │ 0.111755    │\n",
       "\n",
       "Selected nongenetic predictors:\n",
       "0×2 DataFrame\n"
      ]
     },
     "execution_count": 23,
     "metadata": {},
     "output_type": "execute_result"
    }
   ],
   "source": [
    "#run doubly sparse (group) IHT by specifying maximum number of SNPs for each group (in order)\n",
    "J = 5\n",
    "max_group_snps = ones(Int, num_blocks)\n",
    "max_group_snps[true_groups] .= collect(1:5)\n",
    "variable_group = L0_reg(x_float, z, y, J, max_group_snps, d(), l, verbose=false, group=g)"
   ]
  },
  {
   "cell_type": "markdown",
   "metadata": {},
   "source": [
    "### Group IHT found 1 more SNPs than ungrouped IHT"
   ]
  },
  {
   "cell_type": "code",
   "execution_count": 24,
   "metadata": {
    "collapsed": false
   },
   "outputs": [
    {
     "name": "stdout",
     "output_type": "stream",
     "text": [
      "compare_model = 15×4 DataFrame\n",
      "│ Row │ position │ correct_β │ ungrouped_IHT_β │ grouped_IHT_β │\n",
      "│     │ Int64    │ Float64   │ Float64         │ Float64       │\n",
      "├─────┼──────────┼───────────┼─────────────────┼───────────────┤\n",
      "│ 1   │ 3464     │ -0.2      │ -0.234958       │ -0.245853     │\n",
      "│ 2   │ 4927     │ 0.2       │ 0.158171        │ 0.160904      │\n",
      "│ 3   │ 4938     │ -0.2      │ -0.222613       │ -0.213439     │\n",
      "│ 4   │ 5001     │ -0.2      │ -0.193739       │ -0.19624      │\n",
      "│ 5   │ 5011     │ -0.2      │ -0.162718       │ -0.149913     │\n",
      "│ 6   │ 5018     │ -0.2      │ -0.190532       │ -0.181966     │\n",
      "│ 7   │ 5084     │ -0.2      │ 0.0             │ 0.0           │\n",
      "│ 8   │ 5090     │ 0.2       │ 0.226509        │ 0.21164       │\n",
      "│ 9   │ 5098     │ -0.2      │ 0.0             │ 0.0           │\n",
      "│ 10  │ 5100     │ -0.2      │ -0.140337       │ -0.157655     │\n",
      "│ 11  │ 7004     │ 0.2       │ 0.151748        │ 0.190224      │\n",
      "│ 12  │ 7011     │ 0.2       │ 0.206449        │ 0.21294       │\n",
      "│ 13  │ 7015     │ -0.2      │ -0.284706       │ -0.256058     │\n",
      "│ 14  │ 7016     │ 0.2       │ 0.218126        │ 0.19746       │\n",
      "│ 15  │ 7020     │ 0.2       │ 0.0             │ 0.111755      │\n",
      "\n",
      "\n"
     ]
    }
   ],
   "source": [
    "#check result\n",
    "correct_position = findall(!iszero, true_b)\n",
    "compare_model = DataFrame(\n",
    "    position = correct_position,\n",
    "    correct_β = true_b[correct_position],\n",
    "    ungrouped_IHT_β = ungrouped.beta[correct_position], \n",
    "    grouped_IHT_β = variable_group.beta[correct_position])\n",
    "@show compare_model\n",
    "println(\"\\n\")\n",
    "\n",
    "#clean up. Windows user must do this step manually (outside notebook/REPL)\n",
    "rm(\"tmp.bed\", force=true)"
   ]
  },
  {
   "cell_type": "markdown",
   "metadata": {},
   "source": [
    "## Example 6: Linear Regression with prior weights\n",
    "\n",
    "In this example, we show how to include (predetermined) prior weights for each SNP. You can check out [our paper](https://www.biorxiv.org/content/biorxiv/early/2019/11/19/697755.full.pdf) for references of why/how to choose these weights. In this case, we mimic our paper and randomly set $10\\%$ of all SNPs to have a weight of $2.0$. Other predictors have weight of $1.0$. All causal SNPs have weights of $2.0$. Under this scenario, SNPs with weight $2.0$ is twice as likely to enter the model identified by IHT. \n",
    "\n",
    "Our model is simulated as:\n",
    "\n",
    "$$y_i \\sim \\mathbf{x}_i^T\\mathbf{\\beta} + \\epsilon_i$$\n",
    "$$x_{ij} \\sim \\rm Binomial(2, \\rho_j)$$\n",
    "$$\\rho_j \\sim \\rm Uniform(0, 0.5)$$\n",
    "$$\\epsilon_i \\sim \\rm N(0, 1)$$\n",
    "$$\\beta_i \\sim \\rm N(0, 1)$$"
   ]
  },
  {
   "cell_type": "code",
   "execution_count": 25,
   "metadata": {
    "collapsed": true
   },
   "outputs": [],
   "source": [
    "#random seed\n",
    "Random.seed!(4)\n",
    "\n",
    "d = Normal\n",
    "l = canonicallink(d())\n",
    "n = 1000\n",
    "p = 10000\n",
    "k = 10\n",
    "\n",
    "# construct snpmatrix, covariate files, and true model b\n",
    "x = simulate_random_snparray(n, p, \"tmp.bed\")\n",
    "X = convert(Matrix{Float64}, x, center=true, scale=true)\n",
    "z = ones(n, 1) # the intercept\n",
    "    \n",
    "#define true_b \n",
    "true_b = zeros(p)\n",
    "true_b[1:10] .= collect(0.1:0.1:1.0)\n",
    "shuffle!(true_b)\n",
    "correct_position = findall(!iszero, true_b)\n",
    "\n",
    "#simulate phenotypes (e.g. vector y)\n",
    "prob = GLM.linkinv.(l, X * true_b)\n",
    "clamp!(prob, -20, 20)\n",
    "y = [rand(d(i)) for i in prob]\n",
    "y = Float64.(y);"
   ]
  },
  {
   "cell_type": "code",
   "execution_count": 26,
   "metadata": {
    "collapsed": false
   },
   "outputs": [],
   "source": [
    "# construct weight vector\n",
    "w = ones(p + 1)\n",
    "w[correct_position] .= 2.0\n",
    "one_tenth = round(Int, p/10)\n",
    "idx = rand(1:p, one_tenth)\n",
    "w[idx] .= 2.0; #randomly set ~1/10 of all predictors to 2"
   ]
  },
  {
   "cell_type": "code",
   "execution_count": 27,
   "metadata": {
    "collapsed": false
   },
   "outputs": [
    {
     "name": "stdout",
     "output_type": "stream",
     "text": [
      "compare_model = 10×4 DataFrame\n",
      "│ Row │ position │ correct │ unweighted │ weighted │\n",
      "│     │ Int64    │ Float64 │ Float64    │ Float64  │\n",
      "├─────┼──────────┼─────────┼────────────┼──────────┤\n",
      "│ 1   │ 1254     │ 0.4     │ 0.452245   │ 0.450405 │\n",
      "│ 2   │ 1495     │ 0.3     │ 0.306081   │ 0.305738 │\n",
      "│ 3   │ 4856     │ 0.8     │ 0.853536   │ 0.862223 │\n",
      "│ 4   │ 5767     │ 0.1     │ 0.0        │ 0.117286 │\n",
      "│ 5   │ 5822     │ 0.7     │ 0.656213   │ 0.651908 │\n",
      "│ 6   │ 5945     │ 0.9     │ 0.891915   │ 0.894997 │\n",
      "│ 7   │ 6367     │ 0.5     │ 0.469718   │ 0.472524 │\n",
      "│ 8   │ 6996     │ 1.0     │ 0.963236   │ 0.973512 │\n",
      "│ 9   │ 7052     │ 0.6     │ 0.602162   │ 0.600055 │\n",
      "│ 10  │ 7980     │ 0.2     │ 0.231389   │ 0.234094 │\n",
      "\n",
      "\n"
     ]
    }
   ],
   "source": [
    "#run IHT\n",
    "unweighted = L0_reg(X, z, y, 1, k, d(), l, verbose=false)\n",
    "weighted   = L0_reg(X, z, y, 1, k, d(), l, verbose=false, weight=w)\n",
    "\n",
    "#check result\n",
    "compare_model = DataFrame(\n",
    "    position    = correct_position,\n",
    "    correct     = true_b[correct_position],\n",
    "    unweighted  = unweighted.beta[correct_position], \n",
    "    weighted    = weighted.beta[correct_position])\n",
    "@show compare_model\n",
    "println(\"\\n\")\n",
    "\n",
    "#clean up. Windows user must do this step manually (outside notebook/REPL)\n",
    "rm(\"tmp.bed\", force=true)"
   ]
  },
  {
   "cell_type": "markdown",
   "metadata": {},
   "source": [
    "In this case, weighted IHT found an extra predictor than non-weighted IHT."
   ]
  },
  {
   "cell_type": "markdown",
   "metadata": {},
   "source": [
    "## Other examples and functionalities\n",
    "\n",
    "We explored a few more examples in our manuscript, with [reproducible code](https://github.com/biona001/MendelIHT.jl/tree/master/figures). We invite users to experiment with them as well. "
   ]
  }
 ],
 "metadata": {
  "@webio": {
   "lastCommId": null,
   "lastKernelId": null
  },
  "kernelspec": {
   "display_name": "Julia 1.5.0",
   "language": "julia",
   "name": "julia-1.5"
  },
  "language_info": {
   "file_extension": ".jl",
   "mimetype": "application/julia",
   "name": "julia",
   "version": "1.5.0"
  }
 },
 "nbformat": 4,
 "nbformat_minor": 2
}
