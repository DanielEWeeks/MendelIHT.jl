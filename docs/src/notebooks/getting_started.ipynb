{
 "cells": [
  {
   "cell_type": "markdown",
   "metadata": {
    "collapsed": true
   },
   "source": [
    "# Getting started\n",
    "\n",
    "In this section, we outline the basic procedure to analyze your GWAS data with MendelIHT. "
   ]
  },
  {
   "cell_type": "markdown",
   "metadata": {},
   "source": [
    "## Installation\n",
    "\n",
    "Download and install [Julia](https://julialang.org/downloads/). Within Julia, copy and paste the following:\n",
    "```\n",
    "using Pkg\n",
    "pkg\"add https://github.com/OpenMendel/SnpArrays.jl\"\n",
    "pkg\"add https://github.com/OpenMendel/MendelIHT.jl\"\n",
    "```\n",
    "`MendelIHT.jl` supports Julia 1.5+ for Mac, Linux, and window machines. A few features are disabled for windows users, and users will be warned when trying to use them."
   ]
  },
  {
   "cell_type": "markdown",
   "metadata": {},
   "source": [
    "## Typical Workflow\n",
    "\n",
    "1. Run `cross_validate()` to determine best sparsity level (k).\n",
    "2. Run `iht` on optimal `k`.\n",
    "\n",
    "We believe the best way to learn is through examples. Head over to the example section on the left to see these steps in action. "
   ]
  },
  {
   "cell_type": "markdown",
   "metadata": {},
   "source": [
    "## Parallel computing\n",
    "\n",
    "For large datasets, one can run cross validation in parallel. Assuming you have $N$ cores, one can load $N$ processors by\n",
    "```julia\n",
    "using Distributed\n",
    "addprocs(4) # 4 processors\n",
    "@everywhere begin\n",
    "    using MendelIHT\n",
    "    using LinearAlgebra\n",
    "    BLAS.set_num_threads(1)\n",
    "end\n",
    "```\n",
    "Note by default, BLAS runs with multiple threads, so the command `BLAS.set_num_threads(1)` sets the number of BLAS threads to 1, avoiding [oversubscription](https://ieeexplore.ieee.org/document/5470434)"
   ]
  }
 ],
 "metadata": {
  "@webio": {
   "lastCommId": null,
   "lastKernelId": null
  },
  "kernelspec": {
   "display_name": "Julia 1.5.0",
   "language": "julia",
   "name": "julia-1.5"
  },
  "language_info": {
   "file_extension": ".jl",
   "mimetype": "application/julia",
   "name": "julia",
   "version": "1.5.0"
  }
 },
 "nbformat": 4,
 "nbformat_minor": 2
}
