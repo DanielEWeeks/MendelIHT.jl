{
 "cells": [
  {
   "cell_type": "markdown",
   "metadata": {
    "collapsed": true
   },
   "source": [
    "# Getting started\n",
    "\n",
    "In this section, we outline the basic procedure to analyze your GWAS data with MendelIHT. "
   ]
  },
  {
   "cell_type": "markdown",
   "metadata": {},
   "source": [
    "## Installation\n",
    "\n",
    "Download and install [Julia](https://julialang.org/downloads/). Within Julia, copy and paste the following:\n",
    "```\n",
    "using Pkg\n",
    "pkg\"add https://github.com/OpenMendel/SnpArrays.jl\"\n",
    "pkg\"add https://github.com/OpenMendel/MendelIHT.jl\"\n",
    "```\n",
    "`MendelIHT.jl` supports Julia 1.5+ for Mac, Linux, and window machines. A few features are disabled for windows users, and users will be warned when trying to use them."
   ]
  },
  {
   "cell_type": "markdown",
   "metadata": {},
   "source": [
    "## Typical Workflow\n",
    "\n",
    "1. Run `cross_validate()` to determine best sparsity level (k).\n",
    "2. Run `iht` on optimal `k`.\n",
    "\n",
    "We believe the best way to learn is through examples. Head over to the example section on the left to see these steps in action. "
   ]
  },
  {
   "cell_type": "markdown",
   "metadata": {},
   "source": [
    "## Parallel computing\n",
    "\n",
    "For large datasets, one can run cross validation in parallel. Assuming you have $N$ cores, one can load $N$ processors by\n",
    "```julia\n",
    "using Distributed\n",
    "addprocs(4) # 4 processors\n",
    "@everywhere begin\n",
    "    using MendelIHT\n",
    "    using LinearAlgebra\n",
    "    BLAS.set_num_threads(1)\n",
    "end\n",
    "```\n",
    "Note by default, BLAS runs with multiple threads, so the command `BLAS.set_num_threads(1)` sets the number of BLAS threads to 1, avoiding [oversubscription](https://ieeexplore.ieee.org/document/5470434)"
   ]
  },
  {
   "cell_type": "markdown",
   "metadata": {},
   "source": [
    "## Running from command line as script\n",
    "\n",
    "If you don't want to run MendelIHT.jl in a Julia session (e.g. you want to run batch jobs on a cluster), you can do so by putting the code below in a Julia file. For example, in order to run with 8 cores, create a file called `iht.jl` which contains:\n",
    "\n",
    "```julia\n",
    "# place these code in a file called iht.jl\n",
    "using Distributed\n",
    "addprocs(4) # use 4 cores\n",
    "@everywhere using MendelIHT\n",
    "\n",
    "# setup code goes here\n",
    "plinkfile = ARGS[1]     # 1st command line argument (plink file location)\n",
    "covariates = ARGS[2]    # 2nd command line argument (covariate file location)\n",
    "path = 5:5:100          # test k = 5, 10, 15, ... 100\n",
    "\n",
    "# run MendelIHT: first cross validate for best k, then run IHT using best k\n",
    "mses = cross_validate(plinkfile, Normal, covariates=covariates, path=path)\n",
    "iht_result = iht(plinkfile, Normal, k=path[argmin(mses)])\n",
    "```\n",
    "\n",
    "Then in the terminal you can do:\n",
    "```shell\n",
    "julia iht.jl plinkfile covariates.txt\n",
    "```\n",
    "You should get progress printed to your terminal and have `cviht.summary.txt`, `iht.summary.txt`, and `iht.beta.txt` files saved to your local directory"
   ]
  }
 ],
 "metadata": {
  "@webio": {
   "lastCommId": null,
   "lastKernelId": null
  },
  "kernelspec": {
   "display_name": "Julia 1.5.0",
   "language": "julia",
   "name": "julia-1.5"
  },
  "language_info": {
   "file_extension": ".jl",
   "mimetype": "application/julia",
   "name": "julia",
   "version": "1.5.0"
  }
 },
 "nbformat": 4,
 "nbformat_minor": 2
}
