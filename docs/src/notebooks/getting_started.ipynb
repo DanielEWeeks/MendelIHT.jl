{
 "cells": [
  {
   "cell_type": "markdown",
   "metadata": {
    "collapsed": true
   },
   "source": [
    "# Getting started\n",
    "\n",
    "In this section, we outline the basic procedure to analyze your GWAS data with MendelIHT. "
   ]
  },
  {
   "cell_type": "markdown",
   "metadata": {},
   "source": [
    "## Installation\n",
    "\n",
    "Press `]` to enter package manager mode and type the following (after `pkg>`):\n",
    "```\n",
    "(v1.0) pkg> add https://github.com/OpenMendel/SnpArrays.jl\n",
    "(v1.0) pkg> add https://github.com/OpenMendel/MendelSearch.jl\n",
    "(v1.0) pkg> add https://github.com/OpenMendel/MendelBase.jl\n",
    "(v1.0) pkg> add https://github.com/biona001/MendelIHT.jl\n",
    "```\n",
    "The order of installation is important!"
   ]
  },
  {
   "cell_type": "markdown",
   "metadata": {},
   "source": [
    "## 3 Step Workflow\n",
    "\n",
    "Most analysis consists of 3 simple steps:\n",
    "\n",
    "1. Import data.\n",
    "2. Run `cv_iht` to determine best model size.\n",
    "3. Run `L0_reg` to obtain final model.\n",
    "\n",
    "We believe the best way to learn is through examples. Head over to the example section on the left to see these steps in action. Nevertheless, below contains function signatures and use cautions that any users should be aware. "
   ]
  },
  {
   "cell_type": "markdown",
   "metadata": {},
   "source": [
    "!!! note\n",
    "\n",
    "    (1) `MendelIHT` assumes there are **NO missing genotypes**, and (2) the trios (`.bim`, `.bed`, `.fam`) must all be present in the same directory. "
   ]
  },
  {
   "cell_type": "markdown",
   "metadata": {},
   "source": [
    "## Core Functions\n",
    "\n",
    "A standard analysis runs only 2 functions, other than importing data.\n",
    "\n",
    "```@docs\n",
    "  cv_iht\n",
    "```   \n",
    "\n",
    "!!! note \n",
    "\n",
    "    **Do not** delete intermediate files (e.g. `train.bed`) created by `cv_iht`. These are memory-mapped files necessary for cross validation. In order to successfully create these files, **you must have `x` GB of free space on your hard disk** where `x` is your `.bed` file size.\n",
    "\n",
    "\n",
    "```@docs\n",
    "  L0_reg\n",
    "```"
   ]
  },
  {
   "cell_type": "markdown",
   "metadata": {},
   "source": [
    "## Supported GLM models and Link functions\n",
    "\n",
    "MendelIHT borrows distribution and link functions implementationed in [GLM.jl](http://juliastats.github.io/GLM.jl/stable/) and [Distributions.jl](https://juliastats.github.io/Distributions.jl/stable/)\n",
    "\n",
    "Distributions (listed with their canonical link) that work with `L0_reg` and `cv_iht` are:\n",
    "\n",
    "              Normal (IdentityLink)\n",
    "           Bernoulli (LogitLink)\n",
    "             Poisson (LogLink)\n",
    "    NegativeBinomial (LogLink)\n",
    "               Gamma (InverseLink) **(not tested)**\n",
    "     InverseGaussian (InverseSquareLink) **(not tested)**\n",
    "\n",
    "Available link functions are:\n",
    "\n",
    "    CauchitLink\n",
    "    CloglogLink\n",
    "    IdentityLink\n",
    "    InverseLink\n",
    "    InverseSquareLink\n",
    "    LogitLink\n",
    "    LogLink\n",
    "    ProbitLink\n",
    "    SqrtLink\n",
    "    \n",
    "!!! tip\n",
    "    \n",
    "    For logistic regression, the `ProbitLink` seems to work better than `LogitLink`. For `d = NegativeBinomial` or `d=Gamma`, the link function must be `LogLink`. "
   ]
  },
  {
   "cell_type": "markdown",
   "metadata": {},
   "source": [
    "## Specifying Groups and Weights\n",
    "\n",
    "When you have group and weight information, you input them as optional arguments in `L0_reg` and `cv_iht`. The weight vector is a vector of Float64, while the group vector is a vector of integers. For instance,\n",
    "\n",
    "```Julia\n",
    "    g = #import group vector\n",
    "    w = #import weight vector\n",
    "    result = L0_reg(x, xbm, z, y, 1, k, d(), l, group=g, weight=w)\n",
    "```"
   ]
  },
  {
   "cell_type": "markdown",
   "metadata": {},
   "source": [
    "## Simulation Utilities\n",
    "\n",
    "MendelIHT provides some simulation utilities that help users explore the function and capabilities of iterative hard thresholding. \n",
    "\n",
    "```@docs\n",
    "  simulate_random_snparray\n",
    "  \n",
    "```\n",
    "\n",
    "!!! note\n",
    "    Simulating a SnpArray with $n$ subjects and $p$ SNPs requires roughly $n \\times p \\times 4$ bits of RAM. Make sure you have enough RAM before simulating very large SnpArrays.\n",
    "\n",
    "```@docs\n",
    "  simulate_random_response\n",
    "```\n",
    "\n",
    "!!! note\n",
    "    For negative binomial and gamma, the link function must be LogLink. For Bernoulli, the probit link seems to work better than logitlink when used in `cv_iht` or `L0_reg`. \n",
    "\n",
    "```@docs\n",
    "  adhoc_add_correlation\n",
    "```\n",
    "\n",
    "```@docs\n",
    "  simulate_rare_variants\n",
    "```\n",
    "\n",
    "```@docs\n",
    "  make_bim_fam_files\n",
    "```"
   ]
  },
  {
   "cell_type": "markdown",
   "metadata": {},
   "source": [
    "## Other Useful Functions\n",
    "\n",
    "MendelIHT additionally provides useful utilities that may be of interest to a few advanced users. \n",
    "\n",
    "```@docs\n",
    "  iht_run_many_models\n",
    "```\n",
    "\n",
    "```@docs\n",
    "  loglikelihood\n",
    "```\n",
    "\n",
    "```@docs\n",
    "  project_k!\n",
    "```\n",
    "\n",
    "```@docs\n",
    "  project_group_sparse!\n",
    "```\n",
    "\n",
    "```@docs\n",
    "  maf_weights\n",
    "```\n",
    "\n",
    "```@docs\n",
    "  initialize_beta!\n",
    "```"
   ]
  }
 ],
 "metadata": {
  "kernelspec": {
   "display_name": "Julia 1.0.3",
   "language": "julia",
   "name": "julia-1.0"
  },
  "language_info": {
   "file_extension": ".jl",
   "mimetype": "application/julia",
   "name": "julia",
   "version": "1.0.3"
  }
 },
 "nbformat": 4,
 "nbformat_minor": 2
}
