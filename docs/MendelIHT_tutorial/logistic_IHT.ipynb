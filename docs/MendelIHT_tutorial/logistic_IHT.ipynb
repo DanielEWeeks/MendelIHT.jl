{
 "cells": [
  {
   "cell_type": "markdown",
   "metadata": {},
   "source": [
    "# Let's see if logistic IHT is working...\n",
    "\n",
    "## First simulate some response"
   ]
  },
  {
   "cell_type": "code",
   "execution_count": 1,
   "metadata": {
    "collapsed": false,
    "scrolled": true
   },
   "outputs": [
    {
     "data": {
      "text/plain": [
       "5000-element Array{Float64,1}:\n",
       " 0.0\n",
       " 1.0\n",
       " 1.0\n",
       " 0.0\n",
       " 0.0\n",
       " 0.0\n",
       " 0.0\n",
       " 1.0\n",
       " 1.0\n",
       " 0.0\n",
       " 0.0\n",
       " 1.0\n",
       " 0.0\n",
       " ⋮  \n",
       " 0.0\n",
       " 1.0\n",
       " 1.0\n",
       " 1.0\n",
       " 0.0\n",
       " 1.0\n",
       " 1.0\n",
       " 0.0\n",
       " 1.0\n",
       " 0.0\n",
       " 0.0\n",
       " 0.0"
      ]
     },
     "execution_count": 1,
     "metadata": {},
     "output_type": "execute_result"
    }
   ],
   "source": [
    "#load packages\n",
    "using IHT\n",
    "using SnpArrays\n",
    "using DataFrames\n",
    "using Distributions\n",
    "\n",
    "#set random seed\n",
    "srand(1111) \n",
    "\n",
    "#specify dimension and noise of data\n",
    "n = 5000                        # number of cases\n",
    "p = 30000                       # number of predictors\n",
    "k = 10                          # number of true predictors per group\n",
    "s = 0.1                         # noise vector, from very little noise to a lot of noise\n",
    "\n",
    "#construct snpmatrix, covariate files, and true model b\n",
    "x           = SnpArray(rand(0:2, n, p))    # a random snpmatrix\n",
    "z           = ones(n, 1)                   # non-genetic covariates, just the intercept\n",
    "true_b      = zeros(p)                     # model vector\n",
    "true_b[1:k] = randn(k)                     # Initialize k non-zero entries in the true model\n",
    "shuffle!(true_b)                           # Shuffle the entries\n",
    "correct_position = find(true_b)            # keep track of what the true entries are\n",
    "noise = rand(Normal(0, s), n)              # noise vectors from N(0, s) where s ∈ S = {0.01, 0.1, 1, 10}s\n",
    "\n",
    "#compute mean and std used to standardize data to mean 0 variance 1\n",
    "mean_vec, minor_allele, = summarize(x)\n",
    "for i in 1:p\n",
    "    minor_allele[i] ? mean_vec[i] = 2.0 - 2.0mean_vec[i] : mean_vec[i] = 2.0mean_vec[i]\n",
    "end\n",
    "std_vec = std_reciprocal(x, mean_vec)\n",
    "\n",
    "#simulate phenotypes under different noises by: y = Xb + noise\n",
    "y_temp = zeros(n)\n",
    "SnpArrays.A_mul_B!(y_temp, x, true_b, mean_vec, std_vec)\n",
    "y_temp .+= noise #add some noise\n",
    "\n",
    "# Apply inverse logit link to map y to {0, 1} \n",
    "y = 1 ./ (1 .+ exp.(-y_temp)) #inverse logit link\n",
    "y .= round.(y)                     #map y to 0, 1"
   ]
  },
  {
   "cell_type": "markdown",
   "metadata": {},
   "source": [
    "## Check if transformed data looks logistic (it does)"
   ]
  },
  {
   "cell_type": "code",
   "execution_count": null,
   "metadata": {
    "collapsed": false
   },
   "outputs": [],
   "source": [
    "using Plots\n",
    "temp = sort(1 ./ (1 .+ exp.(-y_temp)))\n",
    "myplot = plot(collect(1:5000), temp)"
   ]
  },
  {
   "cell_type": "markdown",
   "metadata": {},
   "source": [
    "## Now see if we can reconstruct the signal"
   ]
  },
  {
   "cell_type": "code",
   "execution_count": 21,
   "metadata": {
    "collapsed": false
   },
   "outputs": [
    {
     "ename": "LoadError",
     "evalue": "\u001b[91mAssertionError: all(y .== 0)\u001b[39m",
     "output_type": "error",
     "traceback": [
      "\u001b[91mAssertionError: all(y .== 0)\u001b[39m",
      "",
      "Stacktrace:",
      " [1] \u001b[1m_logistic_stepsize\u001b[22m\u001b[22m\u001b[1m(\u001b[22m\u001b[22m::IHT.IHTVariable{Float64,Array{Float64,1}}, ::SnpArrays.SnpArray{2}, ::Array{Float64,2}, ::Array{Float64,1}, ::Array{Float64,1}, ::Array{Float64,1}, ::Array{Array{Float64,1},1}\u001b[1m)\u001b[22m\u001b[22m at \u001b[1m/Users/biona001/.julia/v0.6/IHT/src/MendelIHT_utilities.jl:420\u001b[22m\u001b[22m",
      " [2] \u001b[1miht!\u001b[22m\u001b[22m\u001b[1m(\u001b[22m\u001b[22m::IHT.IHTVariable{Float64,Array{Float64,1}}, ::SnpArrays.SnpArray{2}, ::Array{Float64,2}, ::Array{Float64,1}, ::Int64, ::Int64, ::Array{Float64,1}, ::Array{Float64,1}, ::String, ::Array{Array{Float64,1},1}, ::Array{Float64,1}, ::Int64, ::Int64\u001b[1m)\u001b[22m\u001b[22m at \u001b[1m/Users/biona001/.julia/v0.6/IHT/src/MendelIHT.jl:185\u001b[22m\u001b[22m",
      " [3] \u001b[1m#L0_reg#108\u001b[22m\u001b[22m\u001b[1m(\u001b[22m\u001b[22m::Bool, ::String, ::BitArray{1}, ::Float64, ::Int64, ::Int64, ::Array{Float64,1}, ::Function, ::IHT.IHTVariable{Float64,Array{Float64,1}}, ::SnpArrays.SnpArray{2}, ::Array{Float64,2}, ::Array{Float64,1}, ::Int64, ::Int64\u001b[1m)\u001b[22m\u001b[22m at \u001b[1m/Users/biona001/.julia/v0.6/IHT/src/MendelIHT.jl:339\u001b[22m\u001b[22m",
      " [4] \u001b[1m(::IHT.#kw##L0_reg)\u001b[22m\u001b[22m\u001b[1m(\u001b[22m\u001b[22m::Array{Any,1}, ::IHT.#L0_reg, ::IHT.IHTVariable{Float64,Array{Float64,1}}, ::SnpArrays.SnpArray{2}, ::Array{Float64,2}, ::Array{Float64,1}, ::Int64, ::Int64\u001b[1m)\u001b[22m\u001b[22m at \u001b[1m./<missing>:0\u001b[22m\u001b[22m",
      " [5] \u001b[1minclude_string\u001b[22m\u001b[22m\u001b[1m(\u001b[22m\u001b[22m::String, ::String\u001b[1m)\u001b[22m\u001b[22m at \u001b[1m./loading.jl:522\u001b[22m\u001b[22m"
     ]
    }
   ],
   "source": [
    "#compute logistic IHT result \n",
    "estimated_models = zeros(k)\n",
    "v = IHTVariables(x, z, y, 1, k)\n",
    "result = L0_reg(v, x, z, y, 1, k, glm = \"logistic\")\n",
    "estimated_models .= result.beta[correct_position]\n",
    "\n",
    "#compare and contrast\n",
    "true_model = true_b[correct_position]\n",
    "compare_model = DataFrame(\n",
    "    correct_position = correct_position, \n",
    "    true_β           = true_model\n",
    "    noise_level_1    = estimated_models)"
   ]
  },
  {
   "cell_type": "code",
   "execution_count": null,
   "metadata": {
    "collapsed": true
   },
   "outputs": [],
   "source": []
  }
 ],
 "metadata": {
  "kernelspec": {
   "display_name": "Julia 0.6.4",
   "language": "julia",
   "name": "julia-0.6"
  },
  "language_info": {
   "file_extension": ".jl",
   "mimetype": "application/julia",
   "name": "julia",
   "version": "0.6.4"
  }
 },
 "nbformat": 4,
 "nbformat_minor": 2
}
