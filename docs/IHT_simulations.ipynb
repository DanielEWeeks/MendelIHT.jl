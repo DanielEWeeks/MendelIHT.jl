{
 "cells": [
  {
   "cell_type": "markdown",
   "metadata": {},
   "source": [
    "# Simulations for IHT using various GLM\n",
    "\n",
    "IHT can be used to fit generalized linear models when $p \\gg n$ (i.e. *high dimension*), which is common for [genome wide association studies](https://en.wikipedia.org/wiki/Genome-wide_association_study). In this tutorial, we simulate response data from 5 selected distributions, and illustrate reconstruction results on various simulated GWAS datasets.\n"
   ]
  },
  {
   "cell_type": "code",
   "execution_count": 1,
   "metadata": {
    "collapsed": false,
    "scrolled": true
   },
   "outputs": [
    {
     "name": "stderr",
     "output_type": "stream",
     "text": [
      "┌ Info: Recompiling stale cache file /Users/biona001/.julia/compiled/v1.0/MendelIHT/eaqWB.ji for MendelIHT [921c7187-1484-5754-b919-5d3ed9ac03c4]\n",
      "└ @ Base loading.jl:1190\n",
      "┌ Info: Loading DataFrames support into Gadfly.jl\n",
      "└ @ Gadfly /Users/biona001/.julia/packages/Gadfly/09PWZ/src/mapping.jl:228\n"
     ]
    }
   ],
   "source": [
    "using MendelIHT\n",
    "using SnpArrays\n",
    "using DataFrames\n",
    "using Distributions\n",
    "using BenchmarkTools\n",
    "using Random\n",
    "using LinearAlgebra\n",
    "using GLM"
   ]
  },
  {
   "cell_type": "markdown",
   "metadata": {},
   "source": [
    "## Normal response (i.e. quantitave responses)"
   ]
  },
  {
   "cell_type": "code",
   "execution_count": 13,
   "metadata": {
    "collapsed": false
   },
   "outputs": [
    {
     "data": {
      "text/plain": [
       "IHT results:\n",
       "\n",
       "Compute time (sec):     0.37221598625183105\n",
       "Final loglikelihood:    -1406.8807652877347\n",
       "Iterations:             6\n",
       "Max number of groups:   1\n",
       "Max predictors/group:   10\n",
       "IHT estimated 10 nonzero coefficients.\n",
       "10×3 DataFrame\n",
       "│ Row │ Group │ Predictor │ Estimated_β │\n",
       "│     │ \u001b[90mInt64\u001b[39m │ \u001b[90mInt64\u001b[39m     │ \u001b[90mFloat64\u001b[39m     │\n",
       "├─────┼───────┼───────────┼─────────────┤\n",
       "│ 1   │ 1     │ 853       │ -1.24117    │\n",
       "│ 2   │ 1     │ 877       │ -0.234677   │\n",
       "│ 3   │ 1     │ 924       │ 0.82014     │\n",
       "│ 4   │ 1     │ 2703      │ 0.583402    │\n",
       "│ 5   │ 1     │ 4241      │ 0.298304    │\n",
       "│ 6   │ 1     │ 4783      │ -1.14459    │\n",
       "│ 7   │ 1     │ 5094      │ 0.673013    │\n",
       "│ 8   │ 1     │ 5284      │ -0.709734   │\n",
       "│ 9   │ 1     │ 7760      │ 0.168659    │\n",
       "│ 10  │ 1     │ 8255      │ 1.08117     │\n",
       "\n",
       "Intercept of model = 0.0\n"
      ]
     },
     "execution_count": 13,
     "metadata": {},
     "output_type": "execute_result"
    }
   ],
   "source": [
    "#simulat data with k true predictors, from distribution d and with link l.\n",
    "n = 1000\n",
    "p = 10000\n",
    "k = 10\n",
    "d = Normal\n",
    "l = canonicallink(d())\n",
    "\n",
    "#set random seed\n",
    "Random.seed!(2019)\n",
    "\n",
    "#construct snpmatrix, covariate files, and true model b\n",
    "x, maf = simulate_random_snparray(n, p, \"tmp.bed\")\n",
    "xbm = SnpBitMatrix{Float64}(x, model=ADDITIVE_MODEL, center=true, scale=true); \n",
    "z = ones(n, 1) # the intercept\n",
    "true_b = zeros(p)\n",
    "true_b[1:k] = randn(k)\n",
    "shuffle!(true_b)\n",
    "correct_position = findall(x -> x != 0, true_b)\n",
    "\n",
    "#simulate phenotypes (e.g. response vector y) \n",
    "prob = linkinv.(l, xbm * true_b)\n",
    "y = [rand(d(i)) for i in prob]\n",
    "y = Float64.(y)\n",
    "\n",
    "#compute result\n",
    "result = L0_reg(x, xbm, z, y, 1, k, d(), l, debias=false, init=false, show_info=false, convg=true)"
   ]
  },
  {
   "cell_type": "code",
   "execution_count": 7,
   "metadata": {
    "collapsed": false
   },
   "outputs": [
    {
     "name": "stdout",
     "output_type": "stream",
     "text": [
      "compare_model = 10×2 DataFrame\n",
      "│ Row │ true_β   │ estimated_β │\n",
      "│     │ Float64  │ Float64     │\n",
      "├─────┼──────────┼─────────────┤\n",
      "│ 1   │ -1.29964 │ -1.24117    │\n",
      "│ 2   │ -0.2177  │ -0.234677   │\n",
      "│ 3   │ 0.786217 │ 0.82014     │\n",
      "│ 4   │ 0.599233 │ 0.583402    │\n",
      "│ 5   │ 0.283711 │ 0.298304    │\n",
      "│ 6   │ -1.12537 │ -1.14459    │\n",
      "│ 7   │ 0.693374 │ 0.673013    │\n",
      "│ 8   │ -0.67709 │ -0.709734   │\n",
      "│ 9   │ 0.14727  │ 0.168659    │\n",
      "│ 10  │ 1.03477  │ 1.08117     │\n",
      "Total iteration number was 6\n",
      "Total time was 0.3785209655761719\n",
      "Total found predictors = 10\n"
     ]
    }
   ],
   "source": [
    "#compare true model with reconstruction result\n",
    "compare_model = DataFrame(\n",
    "    true_β      = true_b[correct_position], \n",
    "    estimated_β = result.beta[correct_position])\n",
    "@show compare_model\n",
    "println(\"Total iteration number was \" * string(result.iter))\n",
    "println(\"Total time was \" * string(result.time))\n",
    "println(\"Total found predictors = \" * string(length(findall(!iszero, result.beta[correct_position]))))\n",
    "\n",
    "#clean up\n",
    "rm(\"tmp.bed\", force=true)"
   ]
  },
  {
   "cell_type": "markdown",
   "metadata": {},
   "source": [
    "## Bernoulli response (i.e. case-control studies)"
   ]
  },
  {
   "cell_type": "code",
   "execution_count": 14,
   "metadata": {
    "collapsed": false
   },
   "outputs": [
    {
     "data": {
      "text/plain": [
       "IHT results:\n",
       "\n",
       "Compute time (sec):     0.5659849643707275\n",
       "Final loglikelihood:    -276.7458944999689\n",
       "Iterations:             6\n",
       "Max number of groups:   1\n",
       "Max predictors/group:   10\n",
       "IHT estimated 10 nonzero coefficients.\n",
       "10×3 DataFrame\n",
       "│ Row │ Group │ Predictor │ Estimated_β │\n",
       "│     │ \u001b[90mInt64\u001b[39m │ \u001b[90mInt64\u001b[39m     │ \u001b[90mFloat64\u001b[39m     │\n",
       "├─────┼───────┼───────────┼─────────────┤\n",
       "│ 1   │ 1     │ 297       │ -0.474122   │\n",
       "│ 2   │ 1     │ 1229      │ -0.248409   │\n",
       "│ 3   │ 1     │ 3979      │ 0.739422    │\n",
       "│ 4   │ 1     │ 5859      │ 1.00449     │\n",
       "│ 5   │ 1     │ 5973      │ 0.845822    │\n",
       "│ 6   │ 1     │ 7005      │ 0.804647    │\n",
       "│ 7   │ 1     │ 10514     │ -1.26911    │\n",
       "│ 8   │ 1     │ 11089     │ -0.664177   │\n",
       "│ 9   │ 1     │ 12536     │ -0.236307   │\n",
       "│ 10  │ 1     │ 14460     │ -0.240234   │\n",
       "\n",
       "Intercept of model = 0.0\n"
      ]
     },
     "execution_count": 14,
     "metadata": {},
     "output_type": "execute_result"
    }
   ],
   "source": [
    "n = 1000\n",
    "p = 15000\n",
    "k = 10\n",
    "d = Bernoulli\n",
    "l = ProbitLink() #could use LogitLink() or CloglogLink() instead\n",
    "\n",
    "#set random seed\n",
    "Random.seed!(2019)\n",
    "\n",
    "#construct snpmatrix, covariate files, and true model b\n",
    "x, maf = simulate_random_snparray(n, p, \"tmp.bed\")\n",
    "xbm = SnpBitMatrix{Float64}(x, model=ADDITIVE_MODEL, center=true, scale=true); \n",
    "z = ones(n, 1) # the intercept\n",
    "true_b = zeros(p)\n",
    "true_b[1:k] = randn(k)\n",
    "shuffle!(true_b)\n",
    "correct_position = findall(x -> x != 0, true_b)\n",
    "\n",
    "#simulate phenotypes (e.g. response vector y) \n",
    "prob = linkinv.(l, xbm * true_b)\n",
    "y = [rand(d(i)) for i in prob]\n",
    "y = Float64.(y)\n",
    "\n",
    "#run IHT\n",
    "result = L0_reg(x, xbm, z, y, 1, k, d(), l, debias=false, init=false, show_info=false, convg=true)"
   ]
  },
  {
   "cell_type": "code",
   "execution_count": 10,
   "metadata": {
    "collapsed": false
   },
   "outputs": [
    {
     "name": "stdout",
     "output_type": "stream",
     "text": [
      "compare_model = 10×2 DataFrame\n",
      "│ Row │ true_β    │ estimated_β │\n",
      "│     │ Float64   │ Float64     │\n",
      "├─────┼───────────┼─────────────┤\n",
      "│ 1   │ -0.549133 │ -0.474122   │\n",
      "│ 2   │ -0.185487 │ -0.248409   │\n",
      "│ 3   │ 0.680247  │ 0.739422    │\n",
      "│ 4   │ 0.918479  │ 1.00449     │\n",
      "│ 5   │ 0.851805  │ 0.845822    │\n",
      "│ 6   │ 0.750598  │ 0.804647    │\n",
      "│ 7   │ -1.25515  │ -1.26911    │\n",
      "│ 8   │ -0.600394 │ -0.664177   │\n",
      "│ 9   │ 0.141611  │ 0.0         │\n",
      "│ 10  │ 0.230208  │ 0.0         │\n",
      "Total iteration number was 6\n",
      "Total time was 1.8919661045074463\n",
      "Total found predictors = 8\n"
     ]
    }
   ],
   "source": [
    "#compare true model with reconstruction result\n",
    "compare_model = DataFrame(\n",
    "    true_β      = true_b[correct_position], \n",
    "    estimated_β = result.beta[correct_position])\n",
    "@show compare_model\n",
    "println(\"Total iteration number was \" * string(result.iter))\n",
    "println(\"Total time was \" * string(result.time))\n",
    "println(\"Total found predictors = \" * string(length(findall(!iszero, result.beta[correct_position]))))\n",
    "\n",
    "#clean up\n",
    "rm(\"tmp.bed\", force=true)"
   ]
  },
  {
   "cell_type": "markdown",
   "metadata": {},
   "source": [
    "## Poisson response (i.e. count data)"
   ]
  },
  {
   "cell_type": "code",
   "execution_count": 15,
   "metadata": {
    "collapsed": false
   },
   "outputs": [
    {
     "data": {
      "text/plain": [
       "IHT results:\n",
       "\n",
       "Compute time (sec):     0.7138028144836426\n",
       "Final loglikelihood:    -1315.1512095005749\n",
       "Iterations:             6\n",
       "Max number of groups:   1\n",
       "Max predictors/group:   10\n",
       "IHT estimated 10 nonzero coefficients.\n",
       "10×3 DataFrame\n",
       "│ Row │ Group │ Predictor │ Estimated_β │\n",
       "│     │ \u001b[90mInt64\u001b[39m │ \u001b[90mInt64\u001b[39m     │ \u001b[90mFloat64\u001b[39m     │\n",
       "├─────┼───────┼───────────┼─────────────┤\n",
       "│ 1   │ 1     │ 853       │ -0.38744    │\n",
       "│ 2   │ 1     │ 924       │ 0.240514    │\n",
       "│ 3   │ 1     │ 2703      │ 0.225127    │\n",
       "│ 4   │ 1     │ 2757      │ 0.0927794   │\n",
       "│ 5   │ 1     │ 4241      │ 0.0894244   │\n",
       "│ 6   │ 1     │ 4783      │ -0.307515   │\n",
       "│ 7   │ 1     │ 5094      │ 0.215149    │\n",
       "│ 8   │ 1     │ 5284      │ -0.209308   │\n",
       "│ 9   │ 1     │ 6921      │ 0.0935756   │\n",
       "│ 10  │ 1     │ 8255      │ 0.301717    │\n",
       "\n",
       "Intercept of model = 0.0\n"
      ]
     },
     "execution_count": 15,
     "metadata": {},
     "output_type": "execute_result"
    }
   ],
   "source": [
    "#simulat data with k true predictors, from distribution d and with link l.\n",
    "n = 1000\n",
    "p = 10000\n",
    "k = 10\n",
    "d = Poisson\n",
    "l = canonicallink(d())\n",
    "\n",
    "#set random seed\n",
    "Random.seed!(2019)\n",
    "\n",
    "#construct snpmatrix, covariate files, and true model b\n",
    "x, maf = simulate_random_snparray(n, p, \"tmp.bed\")\n",
    "xbm = SnpBitMatrix{Float64}(x, model=ADDITIVE_MODEL, center=true, scale=true); \n",
    "z = ones(n, 1) # the intercept\n",
    "true_b = zeros(p)\n",
    "true_b[1:k] = rand(Normal(0, 0.3), k)\n",
    "shuffle!(true_b)\n",
    "correct_position = findall(x -> x != 0, true_b)\n",
    "\n",
    "#simulate phenotypes (e.g. response vector y) \n",
    "prob = linkinv.(l, xbm * true_b)\n",
    "y = [rand(d(i)) for i in prob]\n",
    "y = Float64.(y)\n",
    "\n",
    "\n",
    "#run IHT\n",
    "result = L0_reg(x, xbm, z, y, 1, k, d(), l, debias=false, init=false, show_info=false, convg=true)"
   ]
  },
  {
   "cell_type": "code",
   "execution_count": 16,
   "metadata": {
    "collapsed": false
   },
   "outputs": [
    {
     "name": "stdout",
     "output_type": "stream",
     "text": [
      "compare_model = 10×2 DataFrame\n",
      "│ Row │ true_β     │ estimated_β │\n",
      "│     │ Float64    │ Float64     │\n",
      "├─────┼────────────┼─────────────┤\n",
      "│ 1   │ -0.389892  │ -0.38744    │\n",
      "│ 2   │ -0.0653099 │ 0.0         │\n",
      "│ 3   │ 0.235865   │ 0.240514    │\n",
      "│ 4   │ 0.17977    │ 0.225127    │\n",
      "│ 5   │ 0.0851134  │ 0.0894244   │\n",
      "│ 6   │ -0.33761   │ -0.307515   │\n",
      "│ 7   │ 0.208012   │ 0.215149    │\n",
      "│ 8   │ -0.203127  │ -0.209308   │\n",
      "│ 9   │ 0.0441809  │ 0.0         │\n",
      "│ 10  │ 0.310431   │ 0.301717    │\n",
      "Total iteration number was 6\n",
      "Total time was 0.7138028144836426\n",
      "Total found predictors = 8\n"
     ]
    }
   ],
   "source": [
    "#compare true model with reconstruction result\n",
    "compare_model = DataFrame(\n",
    "    true_β      = true_b[correct_position], \n",
    "    estimated_β = result.beta[correct_position])\n",
    "@show compare_model\n",
    "println(\"Total iteration number was \" * string(result.iter))\n",
    "println(\"Total time was \" * string(result.time))\n",
    "println(\"Total found predictors = \" * string(length(findall(!iszero, result.beta[correct_position]))))\n",
    "\n",
    "#clean up\n",
    "rm(\"tmp.bed\", force=true)"
   ]
  },
  {
   "cell_type": "markdown",
   "metadata": {},
   "source": [
    "## Negative Binomial response"
   ]
  },
  {
   "cell_type": "code",
   "execution_count": 17,
   "metadata": {
    "collapsed": false
   },
   "outputs": [
    {
     "data": {
      "text/plain": [
       "IHT results:\n",
       "\n",
       "Compute time (sec):     1.1765589714050293\n",
       "Final loglikelihood:    -1431.7171248415666\n",
       "Iterations:             19\n",
       "Max number of groups:   1\n",
       "Max predictors/group:   10\n",
       "IHT estimated 10 nonzero coefficients.\n",
       "10×3 DataFrame\n",
       "│ Row │ Group │ Predictor │ Estimated_β │\n",
       "│     │ \u001b[90mInt64\u001b[39m │ \u001b[90mInt64\u001b[39m     │ \u001b[90mFloat64\u001b[39m     │\n",
       "├─────┼───────┼───────────┼─────────────┤\n",
       "│ 1   │ 1     │ 853       │ -0.391114   │\n",
       "│ 2   │ 1     │ 924       │ 0.201996    │\n",
       "│ 3   │ 1     │ 1003      │ 0.113302    │\n",
       "│ 4   │ 1     │ 2703      │ 0.15804     │\n",
       "│ 5   │ 1     │ 4241      │ 0.123563    │\n",
       "│ 6   │ 1     │ 4783      │ -0.227633   │\n",
       "│ 7   │ 1     │ 5094      │ 0.233542    │\n",
       "│ 8   │ 1     │ 5284      │ -0.260375   │\n",
       "│ 9   │ 1     │ 8255      │ 0.318128    │\n",
       "│ 10  │ 1     │ 9183      │ -0.100754   │\n",
       "\n",
       "Intercept of model = 0.0\n"
      ]
     },
     "execution_count": 17,
     "metadata": {},
     "output_type": "execute_result"
    }
   ],
   "source": [
    "#simulat data with k true predictors from Negative Binomial, fixing number of success to be nn\n",
    "n = 1000\n",
    "p = 10000\n",
    "k = 10\n",
    "d = NegativeBinomial\n",
    "l = LogLink()\n",
    "nn = 10 \n",
    "\n",
    "#set random seed\n",
    "Random.seed!(2019)\n",
    "\n",
    "#construct snpmatrix, covariate files, and true model b\n",
    "x, maf = simulate_random_snparray(n, p, \"tmp.bed\")\n",
    "xbm = SnpBitMatrix{Float64}(x, model=ADDITIVE_MODEL, center=true, scale=true); \n",
    "z = ones(n, 1) # the intercept\n",
    "true_b = zeros(p)\n",
    "true_b[1:k] = rand(Normal(0, 0.3), k)\n",
    "shuffle!(true_b)\n",
    "correct_position = findall(x -> x != 0, true_b)\n",
    "\n",
    "#simulate phenotypes (e.g. vector y) \n",
    "μ = linkinv.(l, xbm * true_b)\n",
    "prob = 1 ./ (1 .+ μ ./ nn)\n",
    "y = [rand(d(nn, i)) for i in prob] #number of failtures before nn success occurs\n",
    "y = Float64.(y)\n",
    "\n",
    "#run IHT\n",
    "result = L0_reg(x, xbm, z, y, 1, k, d(), l, debias=false, init=false, show_info=false, convg=false)"
   ]
  },
  {
   "cell_type": "code",
   "execution_count": 18,
   "metadata": {
    "collapsed": false
   },
   "outputs": [
    {
     "name": "stdout",
     "output_type": "stream",
     "text": [
      "compare_model = 10×2 DataFrame\n",
      "│ Row │ true_β     │ estimated_β │\n",
      "│     │ Float64    │ Float64     │\n",
      "├─────┼────────────┼─────────────┤\n",
      "│ 1   │ -0.389892  │ -0.391114   │\n",
      "│ 2   │ -0.0653099 │ 0.0         │\n",
      "│ 3   │ 0.235865   │ 0.201996    │\n",
      "│ 4   │ 0.17977    │ 0.15804     │\n",
      "│ 5   │ 0.0851134  │ 0.123563    │\n",
      "│ 6   │ -0.33761   │ -0.227633   │\n",
      "│ 7   │ 0.208012   │ 0.233542    │\n",
      "│ 8   │ -0.203127  │ -0.260375   │\n",
      "│ 9   │ 0.0441809  │ 0.0         │\n",
      "│ 10  │ 0.310431   │ 0.318128    │\n",
      "Total iteration number was 19\n",
      "Total time was 1.1765589714050293\n",
      "Total found predictors = 8\n"
     ]
    }
   ],
   "source": [
    "#compare true model with reconstruction result\n",
    "compare_model = DataFrame(\n",
    "    true_β      = true_b[correct_position], \n",
    "    estimated_β = result.beta[correct_position])\n",
    "@show compare_model\n",
    "println(\"Total iteration number was \" * string(result.iter))\n",
    "println(\"Total time was \" * string(result.time))\n",
    "println(\"Total found predictors = \" * string(length(findall(!iszero, result.beta[correct_position]))))\n",
    "\n",
    "#clean up\n",
    "rm(\"tmp.bed\", force=true)"
   ]
  },
  {
   "cell_type": "markdown",
   "metadata": {},
   "source": [
    "## Gamma response"
   ]
  },
  {
   "cell_type": "code",
   "execution_count": 19,
   "metadata": {
    "collapsed": false
   },
   "outputs": [
    {
     "data": {
      "text/plain": [
       "IHT results:\n",
       "\n",
       "Compute time (sec):     2.1839661598205566\n",
       "Final loglikelihood:    -1005.6789334756007\n",
       "Iterations:             32\n",
       "Max number of groups:   1\n",
       "Max predictors/group:   10\n",
       "IHT estimated 10 nonzero coefficients.\n",
       "10×3 DataFrame\n",
       "│ Row │ Group │ Predictor │ Estimated_β │\n",
       "│     │ \u001b[90mInt64\u001b[39m │ \u001b[90mInt64\u001b[39m     │ \u001b[90mFloat64\u001b[39m     │\n",
       "├─────┼───────┼───────────┼─────────────┤\n",
       "│ 1   │ 1     │ 796       │ 0.070883    │\n",
       "│ 2   │ 1     │ 853       │ 0.312042    │\n",
       "│ 3   │ 1     │ 1537      │ 0.0706703   │\n",
       "│ 4   │ 1     │ 2703      │ -0.193457   │\n",
       "│ 5   │ 1     │ 4000      │ 0.116691    │\n",
       "│ 6   │ 1     │ 4536      │ -0.078473   │\n",
       "│ 7   │ 1     │ 4783      │ 0.329159    │\n",
       "│ 8   │ 1     │ 5094      │ -0.237703   │\n",
       "│ 9   │ 1     │ 5284      │ 0.243424    │\n",
       "│ 10  │ 1     │ 8255      │ -0.299223   │\n",
       "\n",
       "Intercept of model = 0.0\n"
      ]
     },
     "execution_count": 19,
     "metadata": {},
     "output_type": "execute_result"
    }
   ],
   "source": [
    "#simulat data with k true predictors, from distribution d and with link l.\n",
    "n = 1000\n",
    "p = 10000\n",
    "k = 10\n",
    "d = Gamma\n",
    "l = LogLink()\n",
    "α = 1 #shape parameter for gamma\n",
    "\n",
    "\n",
    "#set random seed\n",
    "Random.seed!(2019)\n",
    "\n",
    "#construct snpmatrix, covariate files, and true model b\n",
    "x, maf = simulate_random_snparray(n, p, \"tmp.bed\")\n",
    "xbm = SnpBitMatrix{Float64}(x, model=ADDITIVE_MODEL, center=true, scale=true); \n",
    "z = ones(n, 1) # the intercept\n",
    "true_b = zeros(p)\n",
    "true_b[1:k] = rand(Normal(0, 0.3), k)\n",
    "shuffle!(true_b)\n",
    "correct_position = findall(x -> x != 0, true_b)\n",
    "\n",
    "#simulate phenotypes (e.g. vector y) \n",
    "μ = linkinv.(l, xbm * true_b)\n",
    "β = 1 ./ μ #here β is the rate parameter for gamma distribution\n",
    "y = [rand(d(α, i)) for i in β]\n",
    "\n",
    "#run IHT\n",
    "result = L0_reg(x, xbm, z, y, 1, k, d(), l, debias=false, init=false, show_info=false, convg=true)"
   ]
  },
  {
   "cell_type": "code",
   "execution_count": 20,
   "metadata": {
    "collapsed": false
   },
   "outputs": [
    {
     "name": "stdout",
     "output_type": "stream",
     "text": [
      "compare_model = 10×2 DataFrame\n",
      "│ Row │ true_β     │ estimated_β │\n",
      "│     │ Float64    │ Float64     │\n",
      "├─────┼────────────┼─────────────┤\n",
      "│ 1   │ -0.389892  │ 0.312042    │\n",
      "│ 2   │ -0.0653099 │ 0.0         │\n",
      "│ 3   │ 0.235865   │ 0.0         │\n",
      "│ 4   │ 0.17977    │ -0.193457   │\n",
      "│ 5   │ 0.0851134  │ 0.0         │\n",
      "│ 6   │ -0.33761   │ 0.329159    │\n",
      "│ 7   │ 0.208012   │ -0.237703   │\n",
      "│ 8   │ -0.203127  │ 0.243424    │\n",
      "│ 9   │ 0.0441809  │ 0.0         │\n",
      "│ 10  │ 0.310431   │ -0.299223   │\n",
      "Total iteration number was 32\n",
      "Total time was 2.1839661598205566\n",
      "Total found predictors = 6\n"
     ]
    }
   ],
   "source": [
    "#compare true model with reconstruction result\n",
    "compare_model = DataFrame(\n",
    "    true_β      = true_b[correct_position], \n",
    "    estimated_β = result.beta[correct_position])\n",
    "@show compare_model\n",
    "println(\"Total iteration number was \" * string(result.iter))\n",
    "println(\"Total time was \" * string(result.time))\n",
    "println(\"Total found predictors = \" * string(length(findall(!iszero, result.beta[correct_position]))))\n",
    "\n",
    "#clean up\n",
    "rm(\"tmp.bed\", force=true)"
   ]
  },
  {
   "cell_type": "markdown",
   "metadata": {},
   "source": [
    "## Inverse Gaussian"
   ]
  }
 ],
 "metadata": {
  "kernelspec": {
   "display_name": "Julia 1.0.3",
   "language": "julia",
   "name": "julia-1.0"
  },
  "language_info": {
   "file_extension": ".jl",
   "mimetype": "application/julia",
   "name": "julia",
   "version": "1.0.3"
  }
 },
 "nbformat": 4,
 "nbformat_minor": 2
}
