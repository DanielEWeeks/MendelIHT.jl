{
 "cells": [
  {
   "cell_type": "markdown",
   "metadata": {},
   "source": [
    "# Contributing\n",
    "\n",
    "I am one developer. We are a community. \n",
    "\n",
    "If you would like to contribute to this project, we compiled a list of [desired features for this project](https://github.com/OpenMendel/MendelIHT.jl/issues/6). Developers of any level is welcomed. Do not be shy because it can't hurt to ask. \n",
    "\n",
    "## Bug Fixes & User Support\n",
    "\n",
    "If you encounter a bug or you need some user support, please [open a new issue here](https://github.com/OpenMendel/MendelIHT.jl/issues). If you can, provide the error message and, ideally, a reproducible code that generated the error.\n",
    "\n",
    "## Citation\n",
    "\n",
    "If you use `MendelIHT.jl` in an academic manuscript, please cite:\n",
    "\n",
    "```\n",
    "Benjamin B. Chu, Kevin L. Keys, Christopher A. German, Hua Zhou, Jin J. Zhou, Janet S. Sinsheimer, Kenneth Lange. Iterative Hard Thresholding in GWAS: Generalized Linear Models, Prior Weights, and Double Sparsity. bioRxiv doi:10.1101/697755\n",
    "```\n",
    "\n",
    "Bibtex:\n",
    "\n",
    "```\n",
    "@article{zhou2019openmendel,\n",
    "  title={{Iterative Hard Thresholding in GWAS: Generalized Linear Models, Prior Weights, and Double Sparsity}},\n",
    "  author={Chu, Benjamin B and Keys, Kevin L and German, Christopher A and Zhou, Hua and Zhou, Jin J and Sinsheimer, Janet S and Lange, Kenneth},\n",
    "  journal={BioRxiv},\n",
    "  pages={697755v2},\n",
    "  year={2019},\n",
    "  publisher={Cold Spring Harbor Laboratory}\n",
    "}\n",
    "```\n",
    "\n",
    "If you could also press star on the upper right hand corner on our [github page](https://github.com/OpenMendel/MendelIHT.jl), that would be very helpful. "
   ]
  }
 ],
 "metadata": {
  "kernelspec": {
   "display_name": "Julia 1.0.3",
   "language": "julia",
   "name": "julia-1.0"
  },
  "language_info": {
   "file_extension": ".jl",
   "mimetype": "application/julia",
   "name": "julia",
   "version": "1.0.3"
  }
 },
 "nbformat": 4,
 "nbformat_minor": 2
}
