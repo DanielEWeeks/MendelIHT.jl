{
 "cells": [
  {
   "cell_type": "code",
   "execution_count": 1,
   "metadata": {
    "collapsed": true
   },
   "outputs": [],
   "source": [
    "using CSV, DataFrames, DelimitedFiles"
   ]
  },
  {
   "cell_type": "code",
   "execution_count": 2,
   "metadata": {
    "collapsed": false
   },
   "outputs": [
    {
     "data": {
      "text/plain": [
       "4×3 Matrix{Any}:\n",
       " \"k=10\"     0.416673  0.408163\n",
       " \"k=100\"    0.316098  0.384898\n",
       " \"k=1000\"   0.249969  0.361592\n",
       " \"overall\"  0.258442  0.365676"
      ]
     },
     "execution_count": 2,
     "metadata": {},
     "output_type": "execute_result"
    }
   ],
   "source": [
    "function summarize()\n",
    "    FDR = zeros(4)\n",
    "    power = zeros(4)\n",
    "    successes = 0\n",
    "    for sim in 1:100\n",
    "        try\n",
    "            df1 = CSV.read(\"sim$sim/FDR_summary.txt\", DataFrame)\n",
    "            df2 = CSV.read(\"sim$sim/power_summary.txt\", DataFrame)\n",
    "            FDR .+= Vector(df1[1, :])\n",
    "            power .+= Vector(df2[1, :])\n",
    "            successes += 1\n",
    "        catch \n",
    "            continue\n",
    "        end\n",
    "    end\n",
    "    power ./= successes\n",
    "    FDR ./= successes\n",
    "    return FDR, power, successes\n",
    "end\n",
    "FDR, power, successes = summarize()\n",
    "[[\"k=10\", \"k=100\", \"k=1000\", \"overall\"] FDR power]"
   ]
  },
  {
   "cell_type": "code",
   "execution_count": 3,
   "metadata": {
    "collapsed": false
   },
   "outputs": [
    {
     "data": {
      "text/plain": [
       "98"
      ]
     },
     "execution_count": 3,
     "metadata": {},
     "output_type": "execute_result"
    }
   ],
   "source": [
    "successes"
   ]
  },
  {
   "cell_type": "code",
   "execution_count": null,
   "metadata": {
    "collapsed": true
   },
   "outputs": [],
   "source": []
  }
 ],
 "metadata": {
  "kernelspec": {
   "display_name": "Julia 1.7.1",
   "language": "julia",
   "name": "julia-1.7"
  },
  "language_info": {
   "file_extension": ".jl",
   "mimetype": "application/julia",
   "name": "julia",
   "version": "1.7.1"
  }
 },
 "nbformat": 4,
 "nbformat_minor": 2
}
